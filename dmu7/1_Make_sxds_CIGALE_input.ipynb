{
 "cells": [
  {
   "cell_type": "markdown",
   "id": "5ecae634-7d42-46b1-9ca9-e6494bc7de93",
   "metadata": {},
   "source": [
    "# Make CIGALE test input from VIDEO SXDS data\n",
    "\n",
    "This notebook uses the HELP python environment to make a CIGALE input catalogue:\n",
    "\n",
    "https://github.com/H-E-L-P/herschelhelp_internal\n",
    "\n",
    "to make the CIGALE inputs we must correct for galactic extinction, convert flux measurements from nano-Janksy to milli-Jansky, merge in the spectroscopic redshifts.\n",
    "\n",
    "This is an early test on the catalogues as part of our validation process."
   ]
  },
  {
   "cell_type": "code",
   "execution_count": 1,
   "id": "cb0728b0-8431-426f-bb42-9860f1c7421e",
   "metadata": {},
   "outputs": [
    {
     "name": "stderr",
     "output_type": "stream",
     "text": [
      "/Users/raphaelshirley/miniconda3/envs/herschelhelp_internal/lib/python3.6/_collections_abc.py:841: MatplotlibDeprecationWarning: \n",
      "The examples.directory rcparam was deprecated in Matplotlib 3.0 and will be removed in 3.2. In the future, examples will be found relative to the 'datapath' directory.\n",
      "  self[key] = other[key]\n",
      "/Users/raphaelshirley/miniconda3/envs/herschelhelp_internal/lib/python3.6/_collections_abc.py:841: MatplotlibDeprecationWarning: \n",
      "The savefig.frameon rcparam was deprecated in Matplotlib 3.1 and will be removed in 3.3.\n",
      "  self[key] = other[key]\n",
      "/Users/raphaelshirley/miniconda3/envs/herschelhelp_internal/lib/python3.6/_collections_abc.py:841: MatplotlibDeprecationWarning: \n",
      "The text.latex.unicode rcparam was deprecated in Matplotlib 3.0 and will be removed in 3.2.\n",
      "  self[key] = other[key]\n",
      "/Users/raphaelshirley/miniconda3/envs/herschelhelp_internal/lib/python3.6/_collections_abc.py:841: MatplotlibDeprecationWarning: \n",
      "The verbose.fileo rcparam was deprecated in Matplotlib 3.1 and will be removed in 3.3.\n",
      "  self[key] = other[key]\n",
      "/Users/raphaelshirley/miniconda3/envs/herschelhelp_internal/lib/python3.6/_collections_abc.py:841: MatplotlibDeprecationWarning: \n",
      "The verbose.level rcparam was deprecated in Matplotlib 3.1 and will be removed in 3.3.\n",
      "  self[key] = other[key]\n",
      "/Users/raphaelshirley/miniconda3/envs/herschelhelp_internal/lib/python3.6/site-packages/seaborn/apionly.py:9: UserWarning: As seaborn no longer sets a default style on import, the seaborn.apionly module is deprecated. It will be removed in a future version.\n",
      "  warnings.warn(msg, UserWarning)\n"
     ]
    }
   ],
   "source": [
    "\n",
    "%matplotlib inline\n",
    "#%config InlineBackend.figure_format = 'svg'\n",
    "\n",
    "import matplotlib.pyplot as plt\n",
    "plt.rc('figure', figsize=(10, 6))\n",
    "from herschelhelp.filters import correct_galactic_extinction\n",
    "from herschelhelp.external import convert_table_for_cigale\n",
    "from herschelhelp_internal.masterlist import merge_catalogues, nb_merge_dist_plot, specz_merge\n",
    "from herschelhelp_internal.utils import coords_to_hpidx, ebv, gen_help_id, inMoc\n",
    "\n",
    "import numpy as np\n",
    "import os\n",
    "import time\n",
    "\n",
    "from astropy.table import Table\n",
    "import astropy.units as u\n",
    "from astropy.coordinates import SkyCoord"
   ]
  },
  {
   "cell_type": "code",
   "execution_count": 2,
   "id": "8d558663-1054-4a71-9960-e60efa5ac8c8",
   "metadata": {},
   "outputs": [],
   "source": [
    "SUFFIX = os.environ.get('SUFFIX', time.strftime(\"%Y%m%d\"))"
   ]
  },
  {
   "cell_type": "code",
   "execution_count": 3,
   "id": "ef277a05-970c-479d-a2fa-a8f10210851c",
   "metadata": {},
   "outputs": [
    {
     "data": {
      "text/plain": [
       "'20210906'"
      ]
     },
     "execution_count": 3,
     "metadata": {},
     "output_type": "execute_result"
    }
   ],
   "source": [
    "SUFFIX"
   ]
  },
  {
   "cell_type": "code",
   "execution_count": 4,
   "id": "0e8fe7f2-d70a-4c6b-a04d-477dab414fd2",
   "metadata": {},
   "outputs": [],
   "source": [
    "hsc_bands = 'GRIZY'\n",
    "vista_bands = 'ZYJHK'\n",
    "bands = ['HSC_{}'.format(b) for b in hsc_bands]\n",
    "bands += ['VISTA_{}'.format(b) for b in vista_bands]\n",
    "cols = ['id', 'VISTA_Ks_m_coord_ra','VISTA_Ks_m_coord_dec','VISTA_Ks_m_detect_isPrimary']\n",
    "cols+=['{}_m_slot_ModelFlux_flux'.format(b.replace('K','Ks')) for b in bands]\n",
    "cols+=['{}_m_slot_ModelFlux_fluxErr'.format(b.replace('K','Ks'))  for b in bands]\n",
    "cat = Table.read('../dmu5/dmu5_VIDEO/data/full_reduced_cat_SXDS.fits')[cols]\n",
    "cat['VISTA_Ks_m_coord_ra'].name='ra'\n",
    "cat['VISTA_Ks_m_coord_dec'].name='dec'\n",
    "#Some HELP functions require a help_id col\n",
    "cat['id'].name='help_id'"
   ]
  },
  {
   "cell_type": "code",
   "execution_count": 5,
   "id": "e856cd37-caa4-4520-b708-66447b3e4ada",
   "metadata": {},
   "outputs": [],
   "source": [
    "#Rename to CIGALE/HELP format\n",
    "for c in cat.colnames:\n",
    "    if c.endswith('m_slot_ModelFlux_flux'):\n",
    "        mask = cat[c]>1e10\n",
    "        cat[c][mask]=np.nan\n",
    "        f_name='f_{}_{}'.format(\n",
    "            c.split('_')[0].lower().replace('hsc','suprime'),\n",
    "            c.split('_')[1].lower()\n",
    "        )\n",
    "        cat[c].name=f_name\n",
    "        cat[f_name]=cat[f_name].to(u.uJy)\n",
    "    if c.endswith('m_slot_ModelFlux_fluxErr'):\n",
    "        mask = cat[c]>1e10\n",
    "        cat[c][mask]=np.nan\n",
    "        ferr_name='ferr_{}_{}'.format(\n",
    "            c.split('_')[0].lower().replace('hsc','suprime'),\n",
    "            c.split('_')[1].lower()\n",
    "        )\n",
    "        cat[c].name=ferr_name\n",
    "        cat[ferr_name]=cat[ferr_name].to(u.uJy)"
   ]
  },
  {
   "cell_type": "code",
   "execution_count": 6,
   "id": "702240bb-d351-4d7d-af27-d97bd7b6b108",
   "metadata": {},
   "outputs": [],
   "source": [
    "mask = (cat['ra']<1e10) | (cat['dec']<1e10)\n",
    "mask&=cat['VISTA_Ks_m_detect_isPrimary']==1\n",
    "mask&=(cat['f_suprime_i']/cat['ferr_suprime_i'] > 5)\n",
    "mask&=(cat['f_vista_ks']/cat['ferr_vista_ks'] > 5)\n",
    "cat = cat[mask]\n",
    "    \n",
    "cat['ra']=cat['ra'].to(u.deg)\n",
    "cat['dec']=cat['dec'].to(u.deg)"
   ]
  },
  {
   "cell_type": "code",
   "execution_count": 7,
   "id": "6753b192-a84a-4aee-ab17-e31ff31e6cb6",
   "metadata": {},
   "outputs": [
    {
     "data": {
      "text/html": [
       "<i>Table length=5</i>\n",
       "<table id=\"table140196264302632\" class=\"table-striped table-bordered table-condensed\">\n",
       "<thead><tr><th>help_id</th><th>ra</th><th>dec</th><th>VISTA_Ks_m_detect_isPrimary</th><th>f_suprime_g</th><th>f_suprime_r</th><th>f_suprime_i</th><th>f_suprime_z</th><th>f_suprime_y</th><th>f_vista_z</th><th>f_vista_y</th><th>f_vista_j</th><th>f_vista_h</th><th>f_vista_ks</th><th>ferr_suprime_g</th><th>ferr_suprime_r</th><th>ferr_suprime_i</th><th>ferr_suprime_z</th><th>ferr_suprime_y</th><th>ferr_vista_z</th><th>ferr_vista_y</th><th>ferr_vista_j</th><th>ferr_vista_h</th><th>ferr_vista_ks</th></tr></thead>\n",
       "<thead><tr><th></th><th>deg</th><th>deg</th><th></th><th>uJy</th><th>uJy</th><th>uJy</th><th>uJy</th><th>uJy</th><th>uJy</th><th>uJy</th><th>uJy</th><th>uJy</th><th>uJy</th><th>uJy</th><th>uJy</th><th>uJy</th><th>uJy</th><th>uJy</th><th>uJy</th><th>uJy</th><th>uJy</th><th>uJy</th><th>uJy</th></tr></thead>\n",
       "<thead><tr><th>int64</th><th>float64</th><th>float64</th><th>int64</th><th>float64</th><th>float64</th><th>float64</th><th>float64</th><th>float64</th><th>float64</th><th>float64</th><th>float64</th><th>float64</th><th>float64</th><th>float64</th><th>float64</th><th>float64</th><th>float64</th><th>float64</th><th>float64</th><th>float64</th><th>float64</th><th>float64</th><th>float64</th></tr></thead>\n",
       "<tr><td>149940984795367161</td><td>34.03198792407938</td><td>-5.636746033451176</td><td>1</td><td>0.1918380120633462</td><td>0.24114609138728316</td><td>0.23910295624418496</td><td>0.3943670650640425</td><td>0.539275444256114</td><td>3.3093421221815893</td><td>0.5509247061854611</td><td>0.41870752165663716</td><td>0.3170050549873974</td><td>1.4210650305132755</td><td>0.01933043244302869</td><td>0.030078245621829574</td><td>0.027566898414982985</td><td>0.0778258370449352</td><td>0.1583567806404285</td><td>0.06724782055241774</td><td>0.024002575829053612</td><td>0.023418802960395863</td><td>0.035446290741617044</td><td>0.06803846082798298</td></tr>\n",
       "<tr><td>149940984795367228</td><td>34.03239043843923</td><td>-5.63513409597789</td><td>1</td><td>0.5193620245085407</td><td>0.8073257364329538</td><td>0.6775046773308321</td><td>1.1696392994439777</td><td>1.376104949778619</td><td>0.7212169913401356</td><td>1.1436669705612827</td><td>1.5161937043715057</td><td>0.7363723324967524</td><td>1.9766101985524038</td><td>0.022960893798619434</td><td>0.05553958305818498</td><td>0.03954325169680315</td><td>0.0898612977774623</td><td>0.19791099115015662</td><td>0.00928557764376431</td><td>0.018521803949740616</td><td>0.029229104310411657</td><td>0.03511634243528409</td><td>0.054673791964521476</td></tr>\n",
       "<tr><td>149940984795367270</td><td>34.092669339372655</td><td>-5.634361990777769</td><td>1</td><td>0.36384861296157717</td><td>0.7892301676025678</td><td>1.2315274181560765</td><td>1.4359311773782693</td><td>1.8894775961718346</td><td>1.0766499332264072</td><td>1.0725330148649175</td><td>1.2880861811268447</td><td>2.062232090325329</td><td>1.6832976225622505</td><td>0.017392853109826446</td><td>0.02630454007725901</td><td>0.02704338733473185</td><td>0.05569826571177505</td><td>0.19013509621684996</td><td>0.0107364834608036</td><td>0.018037655838292282</td><td>0.029016609691475705</td><td>0.048036069653102864</td><td>0.06734791599744612</td></tr>\n",
       "<tr><td>149940984795367288</td><td>34.107736780652246</td><td>-5.634215412521896</td><td>1</td><td>0.1386149795474109</td><td>0.05213683841882216</td><td>0.17740765789056012</td><td>0.3595270423291327</td><td>0.8112687409022378</td><td>0.2476538292474139</td><td>0.31713807754942025</td><td>0.8667135068230658</td><td>1.2445507718205489</td><td>0.9546880507128258</td><td>0.022092521907655677</td><td>0.026488851509346475</td><td>0.029234692678244106</td><td>0.057606192085304514</td><td>0.15846595810001673</td><td>0.010854198644272166</td><td>0.018258807749051895</td><td>0.03785618111103003</td><td>0.11295631819774835</td><td>0.08459614884109998</td></tr>\n",
       "<tr><td>149940984795367292</td><td>33.96461795640932</td><td>-5.633879365508137</td><td>1</td><td>0.5398559354684481</td><td>0.713206483879246</td><td>0.7658640563342345</td><td>1.1315693305752763</td><td>1.535094461866041</td><td>0.5064604919459583</td><td>0.6504969996625733</td><td>1.0177887608324134</td><td>nan</td><td>1.034369760515549</td><td>0.019511755613238497</td><td>0.0456005272285144</td><td>0.030271430955299255</td><td>0.06703133567861314</td><td>0.20062454166051713</td><td>0.010458156541137244</td><td>0.01701051807225166</td><td>0.026377929025613298</td><td>nan</td><td>0.06331285964531365</td></tr>\n",
       "</table>"
      ],
      "text/plain": [
       "<Table length=5>\n",
       "     help_id               ra         ...    ferr_vista_ks    \n",
       "                          deg         ...         uJy         \n",
       "      int64             float64       ...       float64       \n",
       "------------------ ------------------ ... --------------------\n",
       "149940984795367161  34.03198792407938 ...  0.06803846082798298\n",
       "149940984795367228  34.03239043843923 ... 0.054673791964521476\n",
       "149940984795367270 34.092669339372655 ...  0.06734791599744612\n",
       "149940984795367288 34.107736780652246 ...  0.08459614884109998\n",
       "149940984795367292  33.96461795640932 ...  0.06331285964531365"
      ]
     },
     "execution_count": 7,
     "metadata": {},
     "output_type": "execute_result"
    }
   ],
   "source": [
    "cat[0:5]"
   ]
  },
  {
   "cell_type": "code",
   "execution_count": 8,
   "id": "82f1ed4d-940a-4e94-844f-98622dfe3a39",
   "metadata": {},
   "outputs": [
    {
     "name": "stdout",
     "output_type": "stream",
     "text": [
      "mkdir: data: File exists\n",
      "--2021-09-06 13:38:25--  http://hedam.lam.fr/HELP/dataproducts/dmu23/dmu23_XMM-LSS/data/XMM-LSS-specz-v2.91.fits.gz\n",
      "Resolving hedam.lam.fr (hedam.lam.fr)... 195.221.212.141\n",
      "Connecting to hedam.lam.fr (hedam.lam.fr)|195.221.212.141|:80... connected.\n",
      "HTTP request sent, awaiting response... 200 OK\n",
      "Length: 3391102 (3.2M) [application/x-gzip]\n",
      "Saving to: ‘./data/XMM-LSS-specz-v2.91.fits.gz.9’\n",
      "\n",
      "XMM-LSS-specz-v2.91 100%[===================>]   3.23M  5.61MB/s    in 0.6s    \n",
      "\n",
      "2021-09-06 13:38:26 (5.61 MB/s) - ‘./data/XMM-LSS-specz-v2.91.fits.gz.9’ saved [3391102/3391102]\n",
      "\n"
     ]
    }
   ],
   "source": [
    "!mkdir data\n",
    "!wget http://hedam.lam.fr/HELP/dataproducts/dmu23/dmu23_XMM-LSS/data/XMM-LSS-specz-v2.91.fits.gz -P ./data/"
   ]
  },
  {
   "cell_type": "markdown",
   "id": "08c6e594-4a87-4371-bbd1-63c1973dc41a",
   "metadata": {},
   "source": [
    "## Merge Specz"
   ]
  },
  {
   "cell_type": "code",
   "execution_count": 9,
   "id": "19b84aad-3093-42f2-93bc-bc64dc209f6c",
   "metadata": {},
   "outputs": [],
   "source": [
    "specz=Table.read('./data/XMM-LSS-specz-v2.91.fits.gz')\n",
    "for c in specz.colnames:\n",
    "    specz[c].name=c.lower()\n",
    "specz['objid'].name='specz_id'"
   ]
  },
  {
   "cell_type": "code",
   "execution_count": 10,
   "id": "02467758-646e-41ae-a556-e2c499332892",
   "metadata": {},
   "outputs": [
    {
     "data": {
      "text/plain": [
       "127682"
      ]
     },
     "execution_count": 10,
     "metadata": {},
     "output_type": "execute_result"
    }
   ],
   "source": [
    "len(specz)"
   ]
  },
  {
   "cell_type": "code",
   "execution_count": 11,
   "id": "3cee166e-600e-47b3-9bd3-1f8b503ad642",
   "metadata": {},
   "outputs": [
    {
     "data": {
      "image/png": "[encoded data removed]",
      "text/plain": [
       "<Figure size 720x432 with 1 Axes>"
      ]
     },
     "metadata": {
      "needs_background": "light"
     },
     "output_type": "display_data"
    }
   ],
   "source": [
    "nb_merge_dist_plot(\n",
    "    SkyCoord(cat['ra'], cat['dec']),\n",
    "    SkyCoord(specz['ra'] * u.deg, specz['dec'] * u.deg)\n",
    ")"
   ]
  },
  {
   "cell_type": "code",
   "execution_count": 12,
   "id": "a26f0b9d-0c4e-4457-a88b-dd0c7f278988",
   "metadata": {},
   "outputs": [],
   "source": [
    "cat = specz_merge(cat, specz, radius=1. * u.arcsec)"
   ]
  },
  {
   "cell_type": "code",
   "execution_count": 13,
   "id": "720260c2-8966-47bf-8841-16673c0a8609",
   "metadata": {},
   "outputs": [],
   "source": [
    "cat=cat[cat['specz_id']!='']"
   ]
  },
  {
   "cell_type": "code",
   "execution_count": 14,
   "id": "f726057d-4ed9-43ff-9376-eb14db40098d",
   "metadata": {},
   "outputs": [],
   "source": [
    "cat['redshift']=cat['zspec']"
   ]
  },
  {
   "cell_type": "code",
   "execution_count": 15,
   "id": "bbf5fd12-671d-4c68-9cbc-59ef76418b4a",
   "metadata": {},
   "outputs": [
    {
     "data": {
      "text/plain": [
       "83687"
      ]
     },
     "execution_count": 15,
     "metadata": {},
     "output_type": "execute_result"
    }
   ],
   "source": [
    "len(cat)"
   ]
  },
  {
   "cell_type": "code",
   "execution_count": 16,
   "id": "a06a49c2-9b04-4c4c-8dfe-43993f5d8c41",
   "metadata": {},
   "outputs": [
    {
     "data": {
      "text/html": [
       "<i>Table length=5</i>\n",
       "<table id=\"table140195925109392\" class=\"table-striped table-bordered table-condensed\">\n",
       "<thead><tr><th>help_id</th><th>ra</th><th>dec</th><th>VISTA_Ks_m_detect_isPrimary</th><th>f_suprime_g</th><th>f_suprime_r</th><th>f_suprime_i</th><th>f_suprime_z</th><th>f_suprime_y</th><th>f_vista_z</th><th>f_vista_y</th><th>f_vista_j</th><th>f_vista_h</th><th>f_vista_ks</th><th>ferr_suprime_g</th><th>ferr_suprime_r</th><th>ferr_suprime_i</th><th>ferr_suprime_z</th><th>ferr_suprime_y</th><th>ferr_vista_z</th><th>ferr_vista_y</th><th>ferr_vista_j</th><th>ferr_vista_h</th><th>ferr_vista_ks</th><th>specz_id</th><th>zspec</th><th>zspec_qual</th><th>zspec_association_flag</th><th>redshift</th></tr></thead>\n",
       "<thead><tr><th></th><th>deg</th><th>deg</th><th></th><th>uJy</th><th>uJy</th><th>uJy</th><th>uJy</th><th>uJy</th><th>uJy</th><th>uJy</th><th>uJy</th><th>uJy</th><th>uJy</th><th>uJy</th><th>uJy</th><th>uJy</th><th>uJy</th><th>uJy</th><th>uJy</th><th>uJy</th><th>uJy</th><th>uJy</th><th>uJy</th><th></th><th></th><th></th><th></th><th></th></tr></thead>\n",
       "<thead><tr><th>int64</th><th>float64</th><th>float64</th><th>int64</th><th>float64</th><th>float64</th><th>float64</th><th>float64</th><th>float64</th><th>float64</th><th>float64</th><th>float64</th><th>float64</th><th>float64</th><th>float64</th><th>float64</th><th>float64</th><th>float64</th><th>float64</th><th>float64</th><th>float64</th><th>float64</th><th>float64</th><th>float64</th><th>str33</th><th>float64</th><th>int64</th><th>bool</th><th>float64</th></tr></thead>\n",
       "<tr><td>149940984795368488</td><td>34.10407025372452</td><td>-5.605978251120504</td><td>1</td><td>0.34723895518347586</td><td>1.3840965971098</td><td>3.9475580319571364</td><td>6.025872568788343</td><td>6.975954853809888</td><td>5.983723849711964</td><td>6.675733786120917</td><td>10.721057893784982</td><td>14.98851788474913</td><td>18.405063522879285</td><td>0.017079866914470943</td><td>0.029173640006174003</td><td>0.03066456777209846</td><td>0.06388906821369413</td><td>0.16999562415197259</td><td>0.011375732332700046</td><td>0.01812977345981327</td><td>0.029668155255377117</td><td>0.04940991001460621</td><td>0.06957982257254518</td><td>VIPERS-105217258</td><td>0.6381</td><td>4</td><td>False</td><td>0.6381</td></tr>\n",
       "<tr><td>149940984795369896</td><td>34.03893298344629</td><td>-5.571325213602774</td><td>1</td><td>2.2021062818504467</td><td>2.8041652666715726</td><td>3.5174863865610306</td><td>5.526770264870579</td><td>6.770216848940957</td><td>3.804265082589713</td><td>4.590691597626179</td><td>5.793308461435549</td><td>8.10252777223114</td><td>8.973638516449446</td><td>0.031022190625259245</td><td>0.055287615142117455</td><td>0.06814548605888027</td><td>0.15140730599479107</td><td>0.317848329753599</td><td>0.014083530133696762</td><td>0.019421278083787123</td><td>0.03644891667642288</td><td>0.06227872095955973</td><td>0.08572107358215024</td><td>VIPERS-114013662</td><td>1.3838</td><td>2</td><td>False</td><td>1.3838</td></tr>\n",
       "<tr><td>149940984795384280</td><td>34.07550074924483</td><td>-5.63786147015687</td><td>1</td><td>7.908911855784077</td><td>37.724888903945974</td><td>71.32971427834585</td><td>99.74206019180589</td><td>117.40106197113136</td><td>61.06424558897672</td><td>87.27580447200684</td><td>132.73155447859673</td><td>196.13805315489753</td><td>247.99742952619835</td><td>0.04336680535575246</td><td>0.07633462747352954</td><td>0.06154238812315937</td><td>0.11829435786263728</td><td>0.2562789379547039</td><td>0.01631740354432525</td><td>0.02660168944989076</td><td>0.037652646404786064</td><td>0.06915811945471749</td><td>0.1048592132537531</td><td>OzDES_001924</td><td>0.41443</td><td>4</td><td>False</td><td>0.41443</td></tr>\n",
       "<tr><td>149940984795384292</td><td>34.11936529228525</td><td>-5.640340119641305</td><td>1</td><td>4.055106681849048</td><td>10.153298519473163</td><td>27.712999267158203</td><td>40.73576718298628</td><td>55.56889384470375</td><td>nan</td><td>nan</td><td>38.85576229544384</td><td>nan</td><td>75.835338283525</td><td>0.05970076247366647</td><td>0.057817778655414764</td><td>0.047464833136954</td><td>0.09978751602416282</td><td>0.24092955651370862</td><td>nan</td><td>nan</td><td>0.06695707503320905</td><td>nan</td><td>0.1851097861005107</td><td>VIPERS-105209717</td><td>0.7046</td><td>5</td><td>False</td><td>0.7046</td></tr>\n",
       "<tr><td>149940984795384296</td><td>34.05322981757711</td><td>-5.627701179292539</td><td>1</td><td>3.0493001722782167</td><td>6.750550582274663</td><td>9.827000670781645</td><td>12.393846109540867</td><td>21.746535343817182</td><td>9.486476727247677</td><td>12.851044609859064</td><td>18.581404448347776</td><td>25.700209515855086</td><td>28.660933057947968</td><td>0.018789770737188287</td><td>0.034602460221046696</td><td>0.03179320131099759</td><td>0.0710747402489922</td><td>0.18186859704618394</td><td>0.01058423994539642</td><td>0.017349735800718302</td><td>0.02926319464407901</td><td>0.04940178362927275</td><td>0.06864640159051165</td><td>SDSS 1237679321787138765</td><td>0.4584428</td><td>4</td><td>False</td><td>0.4584428</td></tr>\n",
       "</table>"
      ],
      "text/plain": [
       "<Table length=5>\n",
       "     help_id               ra        ... zspec_association_flag  redshift\n",
       "                          deg        ...                                 \n",
       "      int64             float64      ...          bool           float64 \n",
       "------------------ ----------------- ... ---------------------- ---------\n",
       "149940984795368488 34.10407025372452 ...                  False    0.6381\n",
       "149940984795369896 34.03893298344629 ...                  False    1.3838\n",
       "149940984795384280 34.07550074924483 ...                  False   0.41443\n",
       "149940984795384292 34.11936529228525 ...                  False    0.7046\n",
       "149940984795384296 34.05322981757711 ...                  False 0.4584428"
      ]
     },
     "execution_count": 16,
     "metadata": {},
     "output_type": "execute_result"
    }
   ],
   "source": [
    "cat[0:5]"
   ]
  },
  {
   "cell_type": "markdown",
   "id": "458ded97-b58e-4f73-9b54-bd39ea419232",
   "metadata": {},
   "source": [
    "## Add EBV column\n",
    "\n",
    "This is used to correct for galactic extinction."
   ]
  },
  {
   "cell_type": "code",
   "execution_count": 17,
   "id": "0869d235-f98d-4e82-9abb-28a59538524f",
   "metadata": {},
   "outputs": [],
   "source": [
    "cat.add_column(\n",
    "    ebv(cat['ra'], cat['dec'])\n",
    ")"
   ]
  },
  {
   "cell_type": "markdown",
   "id": "96e77d85-4633-44aa-9d0e-ca151c3d4670",
   "metadata": {},
   "source": [
    "## Convert to CIGALE and write catalogue"
   ]
  },
  {
   "cell_type": "code",
   "execution_count": 18,
   "id": "55aff124-9166-4004-adb0-2c3c860c2463",
   "metadata": {},
   "outputs": [],
   "source": [
    "# Correction for galactic extinction\n",
    "best_catalogue = correct_galactic_extinction(cat, inplace=True)\n",
    "# Convertion to CIGALE format\n",
    "best_catalogue = convert_table_for_cigale(best_catalogue, inplace=True, remove_zerofluxes=True)"
   ]
  },
  {
   "cell_type": "code",
   "execution_count": 19,
   "id": "9f3e6972-b746-4cb1-bf4f-2a053b06e67f",
   "metadata": {},
   "outputs": [
    {
     "data": {
      "text/html": [
       "<i>Table length=5</i>\n",
       "<table id=\"table140195925110288\" class=\"table-striped table-bordered table-condensed\">\n",
       "<thead><tr><th>id</th><th>ra</th><th>dec</th><th>ebv</th><th>redshift</th><th>suprime_g</th><th>suprime_g_err</th><th>suprime_r</th><th>suprime_r_err</th><th>suprime_i</th><th>suprime_i_err</th><th>vista_z</th><th>vista_z_err</th><th>suprime_z</th><th>suprime_z_err</th><th>suprime_y</th><th>suprime_y_err</th><th>vista_y</th><th>vista_y_err</th><th>vista_j</th><th>vista_j_err</th><th>vista_h</th><th>vista_h_err</th><th>vista_ks</th><th>vista_ks_err</th></tr></thead>\n",
       "<thead><tr><th></th><th>deg</th><th>deg</th><th></th><th></th><th>mJy</th><th>mJy</th><th>mJy</th><th>mJy</th><th>mJy</th><th>mJy</th><th>mJy</th><th>mJy</th><th>mJy</th><th>mJy</th><th>mJy</th><th>mJy</th><th>mJy</th><th>mJy</th><th>mJy</th><th>mJy</th><th>mJy</th><th>mJy</th><th>mJy</th><th>mJy</th></tr></thead>\n",
       "<thead><tr><th>int64</th><th>float64</th><th>float64</th><th>float64</th><th>float64</th><th>float64</th><th>float64</th><th>float64</th><th>float64</th><th>float64</th><th>float64</th><th>float64</th><th>float64</th><th>float64</th><th>float64</th><th>float64</th><th>float64</th><th>float64</th><th>float64</th><th>float64</th><th>float64</th><th>float64</th><th>float64</th><th>float64</th><th>float64</th></tr></thead>\n",
       "<tr><td>149940984795368488</td><td>34.10407025372452</td><td>-5.605978251120504</td><td>0.019408485287841733</td><td>0.6381</td><td>0.0003707103401241331</td><td>1.8234369095463047e-05</td><td>0.0014492702502430339</td><td>3.054735387727702e-05</td><td>0.0040795585295098115</td><td>3.1689945529787287e-05</td><td>0.00614249646057396</td><td>1.1677576931196508e-05</td><td>0.006181673600107129</td><td>6.554094229567316e-05</td><td>0.007128869396925194</td><td>0.00017372196753342423</td><td>0.006811587734607005</td><td>1.849872186137994e-05</td><td>0.010874506057748394</td><td>3.0092789092561986e-05</td><td>0.015127951678390143</td><td>4.986955594155991e-05</td><td>0.018521238977526833</td><td>7.001902059604628e-05</td></tr>\n",
       "<tr><td>149940984795369896</td><td>34.03893298344629</td><td>-5.571325213602774</td><td>0.01935036037226215</td><td>1.3838</td><td>0.0023504957120446704</td><td>3.3112627961640014e-05</td><td>0.002935801829130571</td><td>5.788299412721663e-05</td><td>0.0036347478684042043</td><td>7.041723349384336e-05</td><td>0.003904901490083189</td><td>1.4456089838846577e-05</td><td>0.005669233414295567</td><td>0.00015531012095257475</td><td>0.006918172300662536</td><td>0.00032479454643423596</td><td>0.004683831470995584</td><td>1.9815313566878886e-05</td><td>0.005875976733322391</td><td>3.696902862520745e-05</td><td>0.008177676436429351</td><td>6.285633856478707e-05</td><td>0.009030111268119673</td><td>8.626053200722899e-05</td></tr>\n",
       "<tr><td>149940984795384280</td><td>34.07550074924483</td><td>-5.63786147015687</td><td>0.018948701557299608</td><td>0.41443</td><td>0.008430436372969434</td><td>4.6226472100993716e-05</td><td>0.03945822569863658</td><td>7.984195704700455e-05</td><td>0.07365745832959542</td><td>6.355073666769944e-05</td><td>0.06264565221890002</td><td>1.673998225465305e-05</td><td>0.10225906859798124</td><td>0.00012127953675879002</td><td>0.1199129080703559</td><td>0.0002617621358049348</td><td>0.08900941266288202</td><td>2.713009370809775e-05</td><td>0.13458599441743818</td><td>3.8178704971420046e-05</td><td>0.19791924755087797</td><td>6.978616716309361e-05</td><td>0.24952562760764904</td><td>0.00010550537175960117</td></tr>\n",
       "<tr><td>149940984795384292</td><td>34.11936529228525</td><td>-5.640340119641305</td><td>0.019494952102083473</td><td>0.7046</td><td>0.004330470615423</td><td>6.37547709330979e-05</td><td>0.010633571554853827</td><td>6.055268495217597e-05</td><td>0.028643877981386446</td><td>4.90591752872079e-05</td><td>nan</td><td>nan</td><td>0.04179375730946512</td><td>0.00010237919930399822</td><td>0.056792462842597966</td><td>0.00024623457368483365</td><td>nan</td><td>nan</td><td>0.039414391709676706</td><td>6.79197171072505e-05</td><td>nan</td><td>nan</td><td>0.07631616136994657</td><td>0.0001862834481516632</td></tr>\n",
       "<tr><td>149940984795384296</td><td>34.05322981757711</td><td>-5.627701179292539</td><td>0.018787766424658486</td><td>0.4584428</td><td>0.0032486128155618348</td><td>2.001793413886617e-05</td><td>0.007058023176420897</td><td>3.6178525473552676e-05</td><td>0.01014492362369567</td><td>3.2821774400794524e-05</td><td>0.009730038904305172</td><td>1.0855986832857301e-05</td><td>0.012703917698155636</td><td>7.285290155780674e-05</td><td>0.022207818496026925</td><td>0.00018572635730118835</td><td>0.013104122860695391</td><td>1.7691407697612162e-05</td><td>0.018838791785484567</td><td>2.9668544829878598e-05</td><td>0.025931610457753225</td><td>4.984659009111149e-05</td><td>0.028836041526832543</td><td>6.906580755516208e-05</td></tr>\n",
       "</table>"
      ],
      "text/plain": [
       "<Table length=5>\n",
       "        id                 ra        ...      vista_ks_err     \n",
       "                          deg        ...          mJy          \n",
       "      int64             float64      ...        float64        \n",
       "------------------ ----------------- ... ----------------------\n",
       "149940984795368488 34.10407025372452 ...  7.001902059604628e-05\n",
       "149940984795369896 34.03893298344629 ...  8.626053200722899e-05\n",
       "149940984795384280 34.07550074924483 ... 0.00010550537175960117\n",
       "149940984795384292 34.11936529228525 ...  0.0001862834481516632\n",
       "149940984795384296 34.05322981757711 ...  6.906580755516208e-05"
      ]
     },
     "execution_count": 19,
     "metadata": {},
     "output_type": "execute_result"
    }
   ],
   "source": [
    "best_catalogue[0:5]"
   ]
  },
  {
   "cell_type": "code",
   "execution_count": 21,
   "id": "a50ca80e-195d-4bcf-a985-0b966e78413d",
   "metadata": {},
   "outputs": [],
   "source": [
    "best_catalogue.write('./data/lsst_ir_fusion_sxds_specz_cigale_input_{}.fits'.format(SUFFIX),overwrite=True)"
   ]
  },
  {
   "cell_type": "code",
   "execution_count": null,
   "id": "d2727198-e3f3-4c1d-a493-cf143a5eb529",
   "metadata": {},
   "outputs": [],
   "source": []
  },
  {
   "cell_type": "code",
   "execution_count": 27,
   "id": "a8ce751f-8c63-4a13-af3c-4980997a2c9c",
   "metadata": {},
   "outputs": [
    {
     "ename": "TypeError",
     "evalue": "catching classes that do not inherit from BaseException is not allowed",
     "output_type": "error",
     "traceback": [
      "\u001b[0;31m---------------------------------------------------------------------------\u001b[0m",
      "\u001b[0;31mUnitConversionError\u001b[0m                       Traceback (most recent call last)",
      "\u001b[0;32m<ipython-input-27-538eb0edd41d>\u001b[0m in \u001b[0;36m<module>\u001b[0;34m\u001b[0m\n\u001b[1;32m      1\u001b[0m \u001b[0;32mtry\u001b[0m\u001b[0;34m:\u001b[0m\u001b[0;34m\u001b[0m\u001b[0;34m\u001b[0m\u001b[0m\n\u001b[0;32m----> 2\u001b[0;31m     \u001b[0mcat\u001b[0m\u001b[0;34m[\u001b[0m\u001b[0;34m'ebv'\u001b[0m\u001b[0;34m]\u001b[0m\u001b[0;34m.\u001b[0m\u001b[0mto\u001b[0m\u001b[0;34m(\u001b[0m\u001b[0mu\u001b[0m\u001b[0;34m.\u001b[0m\u001b[0mmJy\u001b[0m\u001b[0;34m)\u001b[0m\u001b[0;34m\u001b[0m\u001b[0;34m\u001b[0m\u001b[0m\n\u001b[0m\u001b[1;32m      3\u001b[0m \u001b[0;32mexcept\u001b[0m \u001b[0;34m'UnitConversionError'\u001b[0m\u001b[0;34m:\u001b[0m\u001b[0;34m\u001b[0m\u001b[0;34m\u001b[0m\u001b[0m\n",
      "\u001b[0;32m~/miniconda3/envs/herschelhelp_internal/lib/python3.6/site-packages/astropy/table/column.py\u001b[0m in \u001b[0;36mto\u001b[0;34m(self, unit, equivalencies, **kwargs)\u001b[0m\n\u001b[1;32m    895\u001b[0m         \"\"\"\n\u001b[0;32m--> 896\u001b[0;31m         \u001b[0;32mreturn\u001b[0m \u001b[0mself\u001b[0m\u001b[0;34m.\u001b[0m\u001b[0mquantity\u001b[0m\u001b[0;34m.\u001b[0m\u001b[0mto\u001b[0m\u001b[0;34m(\u001b[0m\u001b[0munit\u001b[0m\u001b[0;34m,\u001b[0m \u001b[0mequivalencies\u001b[0m\u001b[0;34m)\u001b[0m\u001b[0;34m\u001b[0m\u001b[0;34m\u001b[0m\u001b[0m\n\u001b[0m\u001b[1;32m    897\u001b[0m \u001b[0;34m\u001b[0m\u001b[0m\n",
      "\u001b[0;32m~/miniconda3/envs/herschelhelp_internal/lib/python3.6/site-packages/astropy/units/quantity.py\u001b[0m in \u001b[0;36mto\u001b[0;34m(self, unit, equivalencies)\u001b[0m\n\u001b[1;32m    688\u001b[0m         \u001b[0munit\u001b[0m \u001b[0;34m=\u001b[0m \u001b[0mUnit\u001b[0m\u001b[0;34m(\u001b[0m\u001b[0munit\u001b[0m\u001b[0;34m)\u001b[0m\u001b[0;34m\u001b[0m\u001b[0;34m\u001b[0m\u001b[0m\n\u001b[0;32m--> 689\u001b[0;31m         \u001b[0;32mreturn\u001b[0m \u001b[0mself\u001b[0m\u001b[0;34m.\u001b[0m\u001b[0m_new_view\u001b[0m\u001b[0;34m(\u001b[0m\u001b[0mself\u001b[0m\u001b[0;34m.\u001b[0m\u001b[0m_to_value\u001b[0m\u001b[0;34m(\u001b[0m\u001b[0munit\u001b[0m\u001b[0;34m,\u001b[0m \u001b[0mequivalencies\u001b[0m\u001b[0;34m)\u001b[0m\u001b[0;34m,\u001b[0m \u001b[0munit\u001b[0m\u001b[0;34m)\u001b[0m\u001b[0;34m\u001b[0m\u001b[0;34m\u001b[0m\u001b[0m\n\u001b[0m\u001b[1;32m    690\u001b[0m \u001b[0;34m\u001b[0m\u001b[0m\n",
      "\u001b[0;32m~/miniconda3/envs/herschelhelp_internal/lib/python3.6/site-packages/astropy/units/quantity.py\u001b[0m in \u001b[0;36m_to_value\u001b[0;34m(self, unit, equivalencies)\u001b[0m\n\u001b[1;32m    660\u001b[0m         return self.unit.to(unit, self.view(np.ndarray),\n\u001b[0;32m--> 661\u001b[0;31m                             equivalencies=equivalencies)\n\u001b[0m\u001b[1;32m    662\u001b[0m \u001b[0;34m\u001b[0m\u001b[0m\n",
      "\u001b[0;32m~/miniconda3/envs/herschelhelp_internal/lib/python3.6/site-packages/astropy/units/core.py\u001b[0m in \u001b[0;36mto\u001b[0;34m(self, other, value, equivalencies)\u001b[0m\n\u001b[1;32m    986\u001b[0m         \u001b[0;32melse\u001b[0m\u001b[0;34m:\u001b[0m\u001b[0;34m\u001b[0m\u001b[0;34m\u001b[0m\u001b[0m\n\u001b[0;32m--> 987\u001b[0;31m             \u001b[0;32mreturn\u001b[0m \u001b[0mself\u001b[0m\u001b[0;34m.\u001b[0m\u001b[0m_get_converter\u001b[0m\u001b[0;34m(\u001b[0m\u001b[0mother\u001b[0m\u001b[0;34m,\u001b[0m \u001b[0mequivalencies\u001b[0m\u001b[0;34m=\u001b[0m\u001b[0mequivalencies\u001b[0m\u001b[0;34m)\u001b[0m\u001b[0;34m(\u001b[0m\u001b[0mvalue\u001b[0m\u001b[0;34m)\u001b[0m\u001b[0;34m\u001b[0m\u001b[0;34m\u001b[0m\u001b[0m\n\u001b[0m\u001b[1;32m    988\u001b[0m \u001b[0;34m\u001b[0m\u001b[0m\n",
      "\u001b[0;32m~/miniconda3/envs/herschelhelp_internal/lib/python3.6/site-packages/astropy/units/core.py\u001b[0m in \u001b[0;36m_get_converter\u001b[0;34m(self, other, equivalencies)\u001b[0m\n\u001b[1;32m    917\u001b[0m \u001b[0;34m\u001b[0m\u001b[0m\n\u001b[0;32m--> 918\u001b[0;31m             \u001b[0;32mraise\u001b[0m \u001b[0mexc\u001b[0m\u001b[0;34m\u001b[0m\u001b[0;34m\u001b[0m\u001b[0m\n\u001b[0m\u001b[1;32m    919\u001b[0m \u001b[0;34m\u001b[0m\u001b[0m\n",
      "\u001b[0;32m~/miniconda3/envs/herschelhelp_internal/lib/python3.6/site-packages/astropy/units/core.py\u001b[0m in \u001b[0;36m_get_converter\u001b[0;34m(self, other, equivalencies)\u001b[0m\n\u001b[1;32m    903\u001b[0m             return self._apply_equivalencies(\n\u001b[0;32m--> 904\u001b[0;31m                 self, other, self._normalize_equivalencies(equivalencies))\n\u001b[0m\u001b[1;32m    905\u001b[0m         \u001b[0;32mexcept\u001b[0m \u001b[0mUnitsError\u001b[0m \u001b[0;32mas\u001b[0m \u001b[0mexc\u001b[0m\u001b[0;34m:\u001b[0m\u001b[0;34m\u001b[0m\u001b[0;34m\u001b[0m\u001b[0m\n",
      "\u001b[0;32m~/miniconda3/envs/herschelhelp_internal/lib/python3.6/site-packages/astropy/units/core.py\u001b[0m in \u001b[0;36m_apply_equivalencies\u001b[0;34m(self, unit, other, equivalencies)\u001b[0m\n\u001b[1;32m    887\u001b[0m             \"{} and {} are not convertible\".format(\n\u001b[0;32m--> 888\u001b[0;31m                 unit_str, other_str))\n\u001b[0m\u001b[1;32m    889\u001b[0m \u001b[0;34m\u001b[0m\u001b[0m\n",
      "\u001b[0;31mUnitConversionError\u001b[0m: '' (dimensionless) and 'mJy' (spectral flux density) are not convertible",
      "\nDuring handling of the above exception, another exception occurred:\n",
      "\u001b[0;31mTypeError\u001b[0m                                 Traceback (most recent call last)",
      "\u001b[0;32m<ipython-input-27-538eb0edd41d>\u001b[0m in \u001b[0;36m<module>\u001b[0;34m\u001b[0m\n\u001b[1;32m      1\u001b[0m \u001b[0;32mtry\u001b[0m\u001b[0;34m:\u001b[0m\u001b[0;34m\u001b[0m\u001b[0;34m\u001b[0m\u001b[0m\n\u001b[1;32m      2\u001b[0m     \u001b[0mcat\u001b[0m\u001b[0;34m[\u001b[0m\u001b[0;34m'ebv'\u001b[0m\u001b[0;34m]\u001b[0m\u001b[0;34m.\u001b[0m\u001b[0mto\u001b[0m\u001b[0;34m(\u001b[0m\u001b[0mu\u001b[0m\u001b[0;34m.\u001b[0m\u001b[0mmJy\u001b[0m\u001b[0;34m)\u001b[0m\u001b[0;34m\u001b[0m\u001b[0;34m\u001b[0m\u001b[0m\n\u001b[0;32m----> 3\u001b[0;31m \u001b[0;32mexcept\u001b[0m \u001b[0;34m'UnitConversionError'\u001b[0m\u001b[0;34m:\u001b[0m\u001b[0;34m\u001b[0m\u001b[0;34m\u001b[0m\u001b[0m\n\u001b[0m\u001b[1;32m      4\u001b[0m     \u001b[0mprint\u001b[0m\u001b[0;34m(\u001b[0m\u001b[0;34m'asdf'\u001b[0m\u001b[0;34m)\u001b[0m\u001b[0;34m\u001b[0m\u001b[0;34m\u001b[0m\u001b[0m\n",
      "\u001b[0;31mTypeError\u001b[0m: catching classes that do not inherit from BaseException is not allowed"
     ]
    }
   ],
   "source": [
    "try:\n",
    "    cat['ebv'].to(u.mJy)\n",
    "except 'UnitConversionError':\n",
    "    print('asdf')"
   ]
  },
  {
   "cell_type": "code",
   "execution_count": null,
   "id": "2f9cad21-8ea8-490c-b3a8-da78ce8b6e2e",
   "metadata": {},
   "outputs": [],
   "source": []
  },
  {
   "cell_type": "code",
   "execution_count": null,
   "id": "6afd0294-ecf4-4a0f-b9ec-0c8ec64e42f8",
   "metadata": {},
   "outputs": [],
   "source": []
  }
 ],
 "metadata": {
  "kernelspec": {
   "display_name": "Python (herschelhelp_internal)",
   "language": "python",
   "name": "helpint"
  },
  "language_info": {
   "codemirror_mode": {
    "name": "ipython",
    "version": 3
   },
   "file_extension": ".py",
   "mimetype": "text/x-python",
   "name": "python",
   "nbconvert_exporter": "python",
   "pygments_lexer": "ipython3",
   "version": "3.6.12"
  }
 },
 "nbformat": 4,
 "nbformat_minor": 5
}
