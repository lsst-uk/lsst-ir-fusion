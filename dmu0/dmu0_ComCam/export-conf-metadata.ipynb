{
 "cells": [
  {
   "cell_type": "markdown",
   "id": "7a6c8fa1-4bf5-48b2-849c-8972ecd598bf",
   "metadata": {},
   "source": [
    "### **Export ComCam DeepCoadd Metadata to ECSV**\n",
    "\n",
    "This notebook scans through the **ComCam deepCoadd FITS files** in the `data/` directory,  \n",
    "parses their filenames to extract metadata, and writes the results into an **ECSV table**.  \n",
    "\n",
    "The metadata columns are:\n",
    "\n",
    "- `filename` – relative path to the FITS file (with `../../../dmu0/dmu0_ComCam` prefix)  \n",
    "- `band` – filter band (e.g., `g`, `r`, etc.), extracted from the folder name `ComCam_band`  \n",
    "- `patch` – patch index, parsed from the `i,j` folder (e.g. `2,2 → 22`)  \n",
    "- `physical_filter` – filter name in `ComCam_band` format  \n",
    "- `skymap` – fixed value: `lsst_cells_v1`  \n",
    "- `tract` – tract ID, parsed from the folder name (e.g. `5063`)  \n",
    "\n",
    "Finally, the script builds an **Astropy Table** and saves it as  \n",
    "`example_comcam_deepcoadd.ecsv`. "
   ]
  },
  {
   "cell_type": "code",
   "execution_count": 1,
   "id": "74d46d26-fbc8-4fef-9aad-7a9af16b7a33",
   "metadata": {},
   "outputs": [
    {
     "name": "stdout",
     "output_type": "stream",
     "text": [
      "✅ Wrote example_comcam_deepcoadd.ecsv with 6 rows\n"
     ]
    }
   ],
   "source": [
    "import glob\n",
    "import os\n",
    "from astropy.table import Table\n",
    "\n",
    "rows = []\n",
    "\n",
    "# Match all ComCam deepCoadd FITS files\n",
    "for fits_file in sorted(glob.glob(\"data/*/*/*/*/*/deep_coadd_*fits\")):\n",
    "    try:\n",
    "        # Normalize path\n",
    "        rel_path = os.path.join(\"../../../dmu0/dmu0_ComCam\", fits_file)\n",
    "\n",
    "        # Split parts of the path\n",
    "        parts = fits_file.split(os.sep)\n",
    "\n",
    "        # Example parts: [..., \"ComCam_g\", \"5063\", \"2,2\", \"deep_coadd_5063_22_g_...fits\"]\n",
    "        band = parts[-4].replace(\"ComCam_\", \"\")\n",
    "        tract = int(parts[-3])\n",
    "        patch_folder = parts[-2]      # e.g. \"2,2\"\n",
    "        patch = int(patch_folder.replace(\",\", \"\"))  # flatten \"2,2\" -> 22\n",
    "\n",
    "        # Build columns\n",
    "        physical_filter = f\"ComCam_{band}\"\n",
    "        skymap = \"lsst_cells_v1\"\n",
    "\n",
    "        rows.append([\n",
    "            rel_path,\n",
    "            band,\n",
    "            patch,\n",
    "            physical_filter,\n",
    "            skymap,\n",
    "            tract\n",
    "        ])\n",
    "\n",
    "    except Exception as e:\n",
    "        print(f\"⚠️ Problem parsing {fits_file}: {e}\")\n",
    "\n",
    "# Build Astropy table\n",
    "t = Table(\n",
    "    rows=rows,\n",
    "    names=[\"filename\", \"band\", \"patch\", \"physical_filter\", \"skymap\", \"tract\"]\n",
    ")\n",
    "\n",
    "# Save to ECSV\n",
    "t.write(\"example_comcam_deepcoadd.ecsv\", format=\"ascii.ecsv\", overwrite=True)\n",
    "print(\"✅ Wrote example_comcam_deepcoadd.ecsv with\", len(rows), \"rows\")\n"
   ]
  }
 ],
 "metadata": {
  "kernelspec": {
   "display_name": "Python (LSST 3.8)",
   "language": "python",
   "name": "lsst-scipipe-10.0.0"
  },
  "language_info": {
   "codemirror_mode": {
    "name": "ipython",
    "version": 3
   },
   "file_extension": ".py",
   "mimetype": "text/x-python",
   "name": "python",
   "nbconvert_exporter": "python",
   "pygments_lexer": "ipython3",
   "version": "3.12.11"
  }
 },
 "nbformat": 4,
 "nbformat_minor": 5
}
