{
 "cells": [
  {
   "cell_type": "markdown",
   "id": "03f548d9-54bb-4193-84b6-1afdb8ac8372",
   "metadata": {},
   "source": [
    "### **Exporting VIRCAM confidence map metadata**\n",
    "\n",
    "This notebook scans the VIDEO VIRCAM confidence maps (*_st_conf.fit) and produces an ECSV file that can later be ingested into the LSST Butler.\n",
    "\n",
    "Steps performed:\n",
    "\n",
    "1. Find input FITS files\n",
    "   \n",
    "   - Looks under data/*/*_st_conf.fit.\n",
    "\n",
    "   - For each file, a relative path of the form:\n",
    "   ../../dmu0/dmu0_VISTA/dmu0_VIDEO_CSDF/... is written to match the Butler ingest location.\n",
    "\n",
    "2. Read main FITS header\n",
    "\n",
    "   - Extracts the filter band from ESO INS FILT1 NAME.\n",
    "\n",
    "   - Normalizes physical filter names (e.g. K → VIRCAM-Ks, otherwise VIRCAM-<band>).\n",
    "\n",
    "3. Read detector header\n",
    "\n",
    "   - Uses ESO DET EXP NO from the first detector extension to obtain the unique exposure ID.\n",
    "\n",
    "4. Write metadata table\n",
    "\n",
    "5. Save results: test_export_confidence.ecsv"
   ]
  },
  {
   "cell_type": "code",
   "execution_count": 29,
   "id": "8c2fc406-5081-4ecf-8df1-5ed53eb05ab6",
   "metadata": {},
   "outputs": [
    {
     "name": "stdout",
     "output_type": "stream",
     "text": [
      "✅ Wrote example_export_confidence.ecsv with 320 rows\n"
     ]
    }
   ],
   "source": [
    "import glob\n",
    "import os\n",
    "from astropy.io import fits\n",
    "from astropy.table import Table\n",
    "\n",
    "rows = []\n",
    "\n",
    "# Match all st_conf files relative to current folder\n",
    "for st_file in sorted(glob.glob(\"data/*/*_st_conf.fit\")):\n",
    "    try:\n",
    "        with fits.open(st_file) as hdul:\n",
    "            hdr0 = hdul[0].header  # main header\n",
    "            band = hdr0.get(\"ESO INS FILT1 NAME\", \"\").strip()\n",
    "            if band == \"K\":\n",
    "                physical_filter = \"VIRCAM-Ks\"\n",
    "            else:\n",
    "                physical_filter = f\"VIRCAM-{band}\"\n",
    "            \n",
    "            # Exposure ID from detector header\n",
    "            exp_id = hdul[1].header[\"ESO DET EXP NO\"]\n",
    "\n",
    "            # Build the wanted path\n",
    "            rel_path = os.path.join(\"../../../dmu0/dmu0_VISTA/dmu0_VIDEO_CSDF\", st_file)\n",
    "\n",
    "            for det in range(1, 17):\n",
    "                rows.append([\n",
    "                    rel_path,\n",
    "                    \"VIRCAM\",\n",
    "                    band,\n",
    "                    physical_filter,\n",
    "                    exp_id,\n",
    "                    det\n",
    "                ])\n",
    "    except Exception as e:\n",
    "        print(f\"⚠️ Problem reading {st_file}: {e}\")\n",
    "\n",
    "# Build Astropy table\n",
    "t = Table(\n",
    "    rows=rows,\n",
    "    names=[\"filename\", \"instrument\", \"band\", \"physical_filter\", \"exposure\", \"detector\"]\n",
    ")\n",
    "\n",
    "# Save to ECSV\n",
    "t.write(\"example_export_confidence.ecsv\", format=\"ascii.ecsv\", overwrite=True)\n",
    "print(\"✅ Wrote example_export_confidence.ecsv with\", len(rows), \"rows\")"
   ]
  },
  {
   "cell_type": "code",
   "execution_count": null,
   "id": "c4373b7b-d699-4fcb-8b04-4d6ab614ea68",
   "metadata": {},
   "outputs": [],
   "source": []
  }
 ],
 "metadata": {
  "kernelspec": {
   "display_name": "Python 3 (ipykernel)",
   "language": "python",
   "name": "python3"
  },
  "language_info": {
   "codemirror_mode": {
    "name": "ipython",
    "version": 3
   },
   "file_extension": ".py",
   "mimetype": "text/x-python",
   "name": "python",
   "nbconvert_exporter": "python",
   "pygments_lexer": "ipython3",
   "version": "3.13.5"
  }
 },
 "nbformat": 4,
 "nbformat_minor": 5
}
