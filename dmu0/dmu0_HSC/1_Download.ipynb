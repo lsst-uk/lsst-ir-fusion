{
 "cells": [
  {
   "cell_type": "markdown",
   "id": "88cc0d5d-3627-46fc-b7f4-7d517e802189",
   "metadata": {},
   "source": [
    "# Create download scripts for HSC PDR3\n",
    "\n",
    "We do not wish to download all HSC data due to space constraints. I will here therefore make download scripts containing only tracts below 2.5 degrees to avoid the north fields."
   ]
  },
  {
   "cell_type": "code",
   "execution_count": 8,
   "id": "d7e63509-16bd-4569-9791-208173434d0a",
   "metadata": {},
   "outputs": [
    {
     "data": {
      "text/plain": [
       "TractInfo(id=8524, ctrCoord=[0.8087076683756161, 0.5811684769959703, -0.09074749834931431])"
      ]
     },
     "execution_count": 8,
     "metadata": {},
     "output_type": "execute_result"
    }
   ],
   "source": [
    "#We are using a rings skymap\n",
    "from lsst.geom import SpherePoint \n",
    "from lsst.geom import degrees\n",
    "from lsst.skymap.ringsSkyMap import RingsSkyMap, RingsSkyMapConfig\n",
    "\n",
    "#Following taken from dmu1/2_Survey_comparisons.ipynb test choice\n",
    "coord = SpherePoint(35.429025*degrees,-4.90853*degrees)\n",
    "config = RingsSkyMapConfig()\n",
    "#These config options are chose to be the same as HSC:\n",
    "#https://github.com/lsst/obs_subaru/blob/master/config/hsc/makeSkyMap.py\n",
    "#and copied for obs_vista\n",
    "#https://github.com/lsst-uk/obs_vista/blob/master/config/makeSkyMap.py\n",
    "config.numRings = 120\n",
    "config.projection = \"TAN\"\n",
    "config.tractOverlap = 1.0/60 # Overlap between tracts (degrees)\n",
    "config.pixelScale = 0.168\n",
    "sm = RingsSkyMap(config)\n",
    "sm.findTract(coord)"
   ]
  },
  {
   "cell_type": "code",
   "execution_count": 10,
   "id": "62a1140d-250f-4b48-b471-1d1bd455199d",
   "metadata": {},
   "outputs": [
    {
     "data": {
      "text/plain": [
       "SpherePoint(211.2396694214876*geom.degrees, 3.71900826446281*geom.degrees)"
      ]
     },
     "execution_count": 10,
     "metadata": {},
     "output_type": "execute_result"
    }
   ],
   "source": []
  },
  {
   "cell_type": "code",
   "execution_count": 1,
   "id": "1b36eeea-323c-4a54-accb-abc56d923d35",
   "metadata": {},
   "outputs": [
    {
     "name": "stdout",
     "output_type": "stream",
     "text": [
      "tracts_patches_DUD-COSMOS.txt   tracts_patches_W-spring.txt\n",
      "tracts_patches_DUD-DEEP2-3.txt  tracts_patches_W-w01.txt\n",
      "tracts_patches_DUD-ELAIS-N1.txt tracts_patches_W-w02.txt\n",
      "tracts_patches_DUD-XMM-LSS.txt  tracts_patches_W-w03.txt\n",
      "tracts_patches_W-AEGIS.txt      tracts_patches_W-w04.txt\n",
      "tracts_patches_W-autumn.txt     tracts_patches_W-w05.txt\n",
      "tracts_patches_W-hectomap.txt   tracts_patches_W-w06.txt\n"
     ]
    }
   ],
   "source": [
    "!ls tracts_patches"
   ]
  },
  {
   "cell_type": "code",
   "execution_count": 5,
   "id": "d4d95d11-b342-48f6-8fa5-aadbccc4690f",
   "metadata": {},
   "outputs": [],
   "source": [
    "patch_files=[\n",
    "   # 'tracts_patches_W-AEGIS.txt', # North\n",
    "    './tracts_patches/tracts_patches_W-autumn.txt', \n",
    "   # 'tracts_patches_W-hectomap.txt', # North\n",
    "    './tracts_patches/tracts_patches_W-spring.txt',\n",
    "]"
   ]
  },
  {
   "cell_type": "code",
   "execution_count": 6,
   "id": "a005e339-eb91-4d36-a878-04edfeaec83a",
   "metadata": {},
   "outputs": [],
   "source": [
    "# Get all tracts\n",
    "tracts = set()\n",
    "for filename in patch_files:\n",
    "    f = open(filename, 'r')\n",
    "    \n",
    "    for x in f:\n",
    "        if x.startswith('Tract'):\n",
    "            tracts.add(int(x.split(' ')[1])) "
   ]
  },
  {
   "cell_type": "code",
   "execution_count": 11,
   "id": "0ba512f3-c18b-4742-8678-69ed93d3a656",
   "metadata": {},
   "outputs": [
    {
     "data": {
      "text/plain": [
       "1016"
      ]
     },
     "execution_count": 11,
     "metadata": {},
     "output_type": "execute_result"
    }
   ],
   "source": [
    "len(tracts)"
   ]
  },
  {
   "cell_type": "code",
   "execution_count": 27,
   "id": "6997daf8-f618-4f15-a084-6981e3e51874",
   "metadata": {},
   "outputs": [],
   "source": [
    "low_tracts=set()\n",
    "for tract in tracts:\n",
    "    if sm.generateTract(tract).getCtrCoord()[1]<5*degrees:\n",
    "        low_tracts.add(tract)"
   ]
  },
  {
   "cell_type": "code",
   "execution_count": 28,
   "id": "9472a369-19f5-4b19-82dc-0a461eb0acfe",
   "metadata": {},
   "outputs": [
    {
     "data": {
      "text/plain": [
       "797"
      ]
     },
     "execution_count": 28,
     "metadata": {},
     "output_type": "execute_result"
    }
   ],
   "source": [
    "len(low_tracts)"
   ]
  },
  {
   "cell_type": "code",
   "execution_count": 33,
   "id": "2aa8f956-5cdf-4f58-b448-c1041623da0a",
   "metadata": {},
   "outputs": [],
   "source": [
    "tract_string=''\n",
    "for tract in low_tracts:\n",
    "    tract_string+=str(tract)\n",
    "    tract_string+=','"
   ]
  },
  {
   "cell_type": "code",
   "execution_count": 36,
   "id": "ae40803f-6dc9-40fc-aa47-743f656aef43",
   "metadata": {},
   "outputs": [],
   "source": [
    "content=(\"\"\"#!/bin/bash\n",
    "wget --user user_here --password password_here -r --no-parent -nc --content-on-error \"\"\"\n",
    " +\"https://hsc-release.mtk.nao.ac.jp/archive/filetree/pdr3_wide/deepCoadd-results/HSC-{G,R,I,Z,Y}/{\"\n",
    " +tract_string[:-1]+'}')\n",
    "with open('./slurm/download.sh_template', 'w') as outfile:\n",
    "    outfile.write(content)\n"
   ]
  },
  {
   "cell_type": "code",
   "execution_count": 37,
   "id": "a537fa36-a56f-4e56-9e44-9bad02f189c4",
   "metadata": {},
   "outputs": [
    {
     "data": {
      "text/plain": [
       "'#!/bin/bash\\nwget --user user_here --password password_here -r --no-parent -nc --content-on-error https://hsc-release.mtk.nao.ac.jp/archive/filetree/pdr3_wide/deepCoadd-results/HSC-{G,R,I,Z,Y}/{10095,8238,8239,8240,8241,8242,8243,8244,8245,8246,8247,8248,8249,8250,8251,8252,8253,8254,8255,8256,8257,8258,8259,8260,8261,8262,8263,8264,8265,8266,8267,8268,8269,8270,8271,8272,8273,8274,8275,8276,8277,8278,8279,8280,8281,8282,8283,8284,8285,8286,8287,8479,8480,8481,8482,8483,8484,8485,8486,8487,8488,8489,8490,8491,8492,8493,8494,8495,8496,8497,8498,8499,8500,8501,8502,8503,8504,8505,8506,8507,8508,8509,8510,8511,8512,8513,8514,8515,8516,8517,8518,8519,8520,8521,8522,8523,8524,8525,8526,8527,8528,8721,8722,8723,8724,8725,8726,8727,8728,8729,8730,8731,8732,8733,8734,8735,8736,8737,8738,8739,8740,8741,8742,8743,8744,8745,8746,8747,8748,8749,8750,8751,8752,8753,8754,8755,8756,8757,8758,8759,8760,8761,8762,8763,8764,8765,8766,8767,8768,8769,8770,8963,8964,8965,8966,8967,8968,8969,8970,8971,8972,8973,8974,8975,8976,8977,8978,8979,8980,8981,8982,8983,8984,8985,8986,8987,8988,8989,8990,8991,8992,8993,8994,8995,8996,8997,8998,8999,9000,9001,9002,9003,9004,9005,9006,9007,9008,9009,9010,9011,9012,9069,9070,9071,9072,9073,9074,9075,9076,9077,9078,9079,9080,9081,9082,9083,9084,9085,9086,9087,9088,9089,9090,9091,9092,9093,9094,9095,9096,9097,9098,9099,9100,9101,9102,9103,9104,9105,9106,9107,9108,9109,9110,9111,9112,9113,9114,9115,9116,9117,9118,9119,9120,9121,9122,9123,9124,9125,9126,9127,9128,9129,9130,9131,9132,9133,9134,9135,9136,9137,9205,9206,9207,9208,9209,9210,9211,9212,9213,9214,9215,9216,9217,9218,9219,9220,9221,9222,9223,9224,9225,9226,9227,9228,9229,9230,9231,9232,9233,9234,9235,9236,9237,9238,9239,9240,9241,9242,9243,9244,9245,9246,9247,9248,9249,9250,9251,9252,9253,9254,9311,9312,9313,9314,9315,9316,9317,9318,9319,9320,9321,9322,9323,9324,9325,9326,9327,9328,9329,9330,9331,9332,9333,9334,9335,9336,9337,9338,9339,9340,9341,9342,9343,9344,9345,9346,9347,9348,9349,9350,9351,9352,9353,9354,9355,9356,9357,9358,9359,9360,9361,9362,9363,9364,9365,9366,9367,9368,9369,9370,9371,9372,9373,9374,9375,9376,9377,9378,9379,9380,9448,9449,9450,9451,9452,9453,9454,9455,9456,9457,9458,9459,9460,9461,9462,9463,9464,9465,9466,9467,9468,9469,9470,9471,9472,9473,9474,9475,9476,9477,9478,9479,9480,9481,9482,9483,9484,9485,9486,9487,9488,9489,9490,9491,9492,9493,9494,9495,9496,9497,9554,9555,9556,9557,9558,9559,9560,9561,9562,9563,9564,9565,9566,9567,9568,9569,9570,9571,9572,9573,9574,9575,9576,9577,9578,9579,9580,9581,9582,9583,9584,9585,9586,9587,9588,9589,9590,9591,9592,9593,9594,9595,9596,9597,9598,9599,9600,9601,9602,9603,9604,9605,9606,9607,9608,9609,9610,9611,9612,9613,9614,9615,9616,9617,9618,9619,9620,9621,9622,9623,8020,8021,8022,8023,8024,8025,8026,8027,8028,8029,9691,9692,9693,9694,9695,9696,9697,9698,9699,9700,9701,9702,9703,9704,9705,9706,9707,9708,9709,9710,9711,9712,9713,9714,9715,9716,9717,9718,9719,9720,9721,9722,9723,9724,9725,9726,9727,9728,9729,9730,9731,9732,9733,9734,9735,9736,9737,9738,9739,9740,8039,10097,10087,10088,9797,9798,9799,9800,9801,9802,9803,9804,9805,9806,9807,9808,9809,9810,9811,9812,9813,9814,9815,9816,9817,9818,9819,9820,9821,9822,9823,9824,9825,9826,9827,9828,9829,9830,9831,9832,9833,9834,9835,9836,9837,9838,9839,9840,9841,9842,9843,9844,9845,9846,9847,9848,9849,9850,9851,9852,9853,9854,9855,9856,9857,9858,9859,9860,9861,9862,9863,9864,9865,9933,9934,9935,9936,9937,9938,9939,9940,9941,9942,9943,9944,9945,9946,9947,9948,9949,9950,9951,9952,9953,9954,9955,9956,9957,9958,9959,9960,9961,9962,9963,9964,9965,9966,9967,9968,9969,9970,9971,9972,9973,9974,9975,9976,9977,9978,9979,9980,9981,9982,10039,10040,10041,10042,10043,10044,10045,10046,10047,10048,10049,10050,10051,10052,10053,10054,10055,10056,10057,10058,10059,10060,10061,10062,10063,10064,10065,10066,10067,10068,10069,10070,10071,10072,8019,10074,10075,10076,10077,10078,10079,10080,10081,10082,10083,10084,10085,10086,8030,8031,8032,8033,8034,8035,8036,8037,8038,10096,8040,8041,8042,8043,8044,8045,8046,8047,10089,10073,10098,10099,10100,10101,10102,10103,10104,10105,10106,10107,10090,10091,10175,10176,10177,10092,10178,10179,10180,10181,10182,10183,10184,10185,10186,10187,10188,10189,10190,10191,10192,10193,10194,10195,10093,10094}'"
      ]
     },
     "execution_count": 37,
     "metadata": {},
     "output_type": "execute_result"
    }
   ],
   "source": [
    "content"
   ]
  },
  {
   "cell_type": "code",
   "execution_count": null,
   "id": "f49c6b1f-ba1a-4cb7-90bd-7c72b721c08b",
   "metadata": {},
   "outputs": [],
   "source": []
  }
 ],
 "metadata": {
  "kernelspec": {
   "display_name": "Python 3 (ipykernel)",
   "language": "python",
   "name": "python3"
  },
  "language_info": {
   "codemirror_mode": {
    "name": "ipython",
    "version": 3
   },
   "file_extension": ".py",
   "mimetype": "text/x-python",
   "name": "python",
   "nbconvert_exporter": "python",
   "pygments_lexer": "ipython3",
   "version": "3.10.6"
  }
 },
 "nbformat": 4,
 "nbformat_minor": 5
}
