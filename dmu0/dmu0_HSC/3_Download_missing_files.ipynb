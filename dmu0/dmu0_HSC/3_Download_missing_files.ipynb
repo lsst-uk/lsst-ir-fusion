{
 "cells": [
  {
   "cell_type": "markdown",
   "id": "1878c74d-b3d0-40c0-b531-55b87fc451a2",
   "metadata": {},
   "source": [
    "# Download missing HSC files\n",
    "\n",
    "During a wide area run we noticed that wget had downloaded some empty fits files solely containing the html code for a page saying the service was temporarily down.\n",
    "\n",
    "We therefore wish to download the missing files."
   ]
  },
  {
   "cell_type": "code",
   "execution_count": null,
   "id": "85e3611e-7588-4f27-b079-f82d56248db7",
   "metadata": {},
   "outputs": [],
   "source": [
    "# What version of the Stack are we using?\n",
    "! eups list -s | grep lsst_distrib\n",
    "! eups list -s | grep obs_vista"
   ]
  },
  {
   "cell_type": "code",
   "execution_count": null,
   "id": "b2886ee3-0167-46a2-bda1-1d76abcbd47a",
   "metadata": {},
   "outputs": [],
   "source": [
    "import glob\n",
    "import yaml\n",
    "from astropy.table import Table\n",
    "import os\n",
    "from datetime import datetime\n",
    "import requests\n",
    "from requests.auth import HTTPBasicAuth\n",
    "import logging"
   ]
  },
  {
   "cell_type": "code",
   "execution_count": null,
   "id": "75b7700a-48b1-4112-8c6c-2738ae513636",
   "metadata": {},
   "outputs": [],
   "source": [
    "#write a local file credentials.py with user and password values set\n",
    "import credentials\n",
    "basic = HTTPBasicAuth(credentials.user, credentials.password)"
   ]
  },
  {
   "cell_type": "code",
   "execution_count": null,
   "id": "8f311131-cf40-4eeb-a36b-5cb01bce3c73",
   "metadata": {},
   "outputs": [],
   "source": [
    "credentials.user"
   ]
  },
  {
   "cell_type": "code",
   "execution_count": null,
   "id": "b26bd52c-d787-4e65-954e-8503213f1e66",
   "metadata": {},
   "outputs": [],
   "source": [
    "#calexp = glob.glob('./data/hsc-release.mtk.nao.ac.jp/archive/filetree/pdr3_dud/deepCoadd-results/HSC*/*/*/calexp*.fits')\n",
    "#det = glob.glob('./data/hsc-release.mtk.nao.ac.jp/archive/filetree/pdr3_dud/deepCoadd-results/HSC*/*/*/det-HSC*.fits')\n",
    "calexp_wide = glob.glob('./data/hsc-release.mtk.nao.ac.jp/archive/filetree/pdr3_wide/deepCoadd-results/HSC*/*/*/calexp*.fits')\n",
    "det_wide = glob.glob('./data/hsc-release.mtk.nao.ac.jp/archive/filetree/pdr3_wide/deepCoadd-results/HSC*/*/*/det-HSC*.fits')"
   ]
  },
  {
   "cell_type": "code",
   "execution_count": null,
   "id": "6ab937db-753a-43d0-80d7-eb69d1b08bae",
   "metadata": {},
   "outputs": [],
   "source": [
    "calexp_wide[0]"
   ]
  },
  {
   "cell_type": "code",
   "execution_count": null,
   "id": "1cc13905-5eab-4bd2-9728-c99d46d56371",
   "metadata": {},
   "outputs": [],
   "source": [
    "logging.basicConfig(filename='log_{}.txt'.format(str(datetime.now())[0:10]),\n",
    "                    filemode='a',\n",
    "                    format='%(asctime)s,%(msecs)d %(name)s %(levelname)s %(message)s',\n",
    "                    datefmt='%H:%M:%S',\n",
    "                    level=logging.DEBUG)"
   ]
  },
  {
   "cell_type": "code",
   "execution_count": null,
   "id": "4fbbead9-3c25-4058-8838-ef4c4c1d821b",
   "metadata": {},
   "outputs": [],
   "source": [
    "\n",
    "n=0\n",
    "#print(datetime.now())\n",
    "for c in calexp_wide:\n",
    "    if os.path.getsize(c) < 200:\n",
    "        logging.info(\"Downloading file #{} name:{}\".format(n,c))\n",
    "        url = c.replace(\"./data/\",\"https://\")\n",
    "        r = requests.get(url, allow_redirects=True, auth=basic)\n",
    "        open(c, \n",
    "            'wb').write(r.content)\n",
    "        logging.info(\"Download #{} complete\".format(n))\n",
    "        n=n+1\n",
    "#print(datetime.now())"
   ]
  },
  {
   "cell_type": "code",
   "execution_count": null,
   "id": "f52fba6d-5496-4490-9cf8-600634e97c71",
   "metadata": {},
   "outputs": [],
   "source": [
    "for d in det_wide:\n",
    "    if os.path.getsize(d) < 200:\n",
    "        logging.info(\"Downloading file #{} name:{}\".format(n,d))\n",
    "        url = d.replace(\"./data/\",\"https://\")\n",
    "        r = requests.get(url, allow_redirects=True, auth=basic)\n",
    "        open(d, \n",
    "            'wb').write(r.content)\n",
    "        logging.info(\"Download #{} complete\".format(n))\n",
    "        n=n+1"
   ]
  },
  {
   "cell_type": "code",
   "execution_count": null,
   "id": "cde6f4e8-49b8-407a-b59d-7601de74da52",
   "metadata": {},
   "outputs": [],
   "source": [
    "#logger = logging.getLogger('Downloader')"
   ]
  },
  {
   "cell_type": "code",
   "execution_count": null,
   "id": "737afe0c-e117-4dc8-a8dd-8515ac1104df",
   "metadata": {},
   "outputs": [],
   "source": []
  }
 ],
 "metadata": {
  "kernelspec": {
   "display_name": "Python 3 (ipykernel)",
   "language": "python",
   "name": "python3"
  },
  "language_info": {
   "codemirror_mode": {
    "name": "ipython",
    "version": 3
   },
   "file_extension": ".py",
   "mimetype": "text/x-python",
   "name": "python",
   "nbconvert_exporter": "python",
   "pygments_lexer": "ipython3",
   "version": "3.10.6"
  }
 },
 "nbformat": 4,
 "nbformat_minor": 5
}
