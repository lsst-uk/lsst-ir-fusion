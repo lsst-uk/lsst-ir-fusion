{
 "cells": [
  {
   "cell_type": "markdown",
   "id": "3294ecea-75d0-4a02-8520-d255436a1826",
   "metadata": {},
   "source": [
    "# Make HSC export file\n",
    "\n",
    "The gen 3 Butler does not have a mapper which merely references files by name. files need to be ingested in to the butler. We therefore need to make an export.yaml file containing the appropriate metadata for each HSC file. \n",
    "\n",
    "These are then imported in dmu4."
   ]
  },
  {
   "cell_type": "code",
   "execution_count": null,
   "id": "68866214-a3b8-441e-92d5-bc2681b9fd53",
   "metadata": {},
   "outputs": [],
   "source": [
    "# What version of the Stack are we using?\n",
    "! eups list -s | grep lsst_distrib\n",
    "! eups list -s | grep obs_vista"
   ]
  },
  {
   "cell_type": "code",
   "execution_count": 2,
   "id": "5a462b37-47e4-479f-a782-e1393d2f9eb6",
   "metadata": {},
   "outputs": [],
   "source": [
    "import glob\n",
    "import yaml\n",
    "from astropy.table import Table\n",
    "import os"
   ]
  },
  {
   "cell_type": "code",
   "execution_count": 3,
   "id": "28d6c1e9-b4c4-490c-a5bb-00c364497654",
   "metadata": {},
   "outputs": [],
   "source": [
    "calexp = glob.glob('./data/hsc-release.mtk.nao.ac.jp/archive/filetree/pdr3_dud/deepCoadd-results/HSC*/*/*/calexp*.fits')\n",
    "det = glob.glob('./data/hsc-release.mtk.nao.ac.jp/archive/filetree/pdr3_dud/deepCoadd-results/HSC*/*/*/det-HSC*.fits')\n",
    "calexp_wide = glob.glob('./data/hsc-release.mtk.nao.ac.jp/archive/filetree/pdr3_wide/deepCoadd-results/HSC*/*/*/calexp*.fits')\n",
    "det_wide = glob.glob('./data/hsc-release.mtk.nao.ac.jp/archive/filetree/pdr3_wide/deepCoadd-results/HSC*/*/*/det-HSC*.fits')"
   ]
  },
  {
   "cell_type": "code",
   "execution_count": null,
   "id": "d5de0eba-29c5-478e-ab0e-9a660e72fa5f",
   "metadata": {},
   "outputs": [],
   "source": [
    "os.getcwd()"
   ]
  },
  {
   "cell_type": "code",
   "execution_count": null,
   "id": "433916dc-3938-4b59-9a9f-f29548f8461b",
   "metadata": {},
   "outputs": [],
   "source": [
    "#Remove bad files due to wget errors\n",
    "calexp_good=[]\n",
    "for c in calexp:\n",
    "    if os.path.getsize(c) > 200:\n",
    "        calexp_good.append(c)\n",
    "calexp=calexp_good\n",
    "calexp"
   ]
  },
  {
   "cell_type": "code",
   "execution_count": 6,
   "id": "29ce4ca8-c3d5-49ae-bfb6-b14953ddedfc",
   "metadata": {},
   "outputs": [
    {
     "data": {
      "text/plain": [
       "150419520"
      ]
     },
     "execution_count": 6,
     "metadata": {},
     "output_type": "execute_result"
    }
   ],
   "source": [
    "os.path.getsize(calexp[0])"
   ]
  },
  {
   "cell_type": "code",
   "execution_count": 8,
   "id": "2b1d46c7-71cc-41c5-9bb0-ad0f72d956f1",
   "metadata": {},
   "outputs": [
    {
     "name": "stdout",
     "output_type": "stream",
     "text": [
      "7.92 µs ± 74.9 ns per loop (mean ± std. dev. of 7 runs, 100,000 loops each)\n"
     ]
    }
   ],
   "source": [
    "%timeit os.path.getsize(calexp[0])"
   ]
  },
  {
   "cell_type": "code",
   "execution_count": 5,
   "id": "652f2a30-d4ab-4462-be0a-394a60f9d242",
   "metadata": {},
   "outputs": [
    {
     "data": {
      "text/plain": [
       "150419520"
      ]
     },
     "execution_count": 5,
     "metadata": {},
     "output_type": "execute_result"
    }
   ],
   "source": [
    "os.stat(calexp[0]).st_size"
   ]
  },
  {
   "cell_type": "code",
   "execution_count": 9,
   "id": "7933bd02-00d0-4d20-b959-3efaa33c6128",
   "metadata": {},
   "outputs": [
    {
     "name": "stdout",
     "output_type": "stream",
     "text": [
      "7.69 µs ± 99.3 ns per loop (mean ± std. dev. of 7 runs, 100,000 loops each)\n"
     ]
    }
   ],
   "source": [
    "%timeit os.stat(calexp[0]).st_size"
   ]
  },
  {
   "cell_type": "code",
   "execution_count": null,
   "id": "ba2c5227-e42d-48dd-9f79-9e109bf5421a",
   "metadata": {},
   "outputs": [],
   "source": [
    "#Remove bad files due to wget errors\n",
    "det_good=[]\n",
    "for d in det:\n",
    "    if os.path.getsize(d) > 200:\n",
    "        det_good.append(d)\n",
    "det=det_good\n",
    "det"
   ]
  },
  {
   "cell_type": "code",
   "execution_count": null,
   "id": "4aaacf0c-3771-4ad6-b977-29cf18b099f0",
   "metadata": {},
   "outputs": [],
   "source": [
    "calexp[0]"
   ]
  },
  {
   "cell_type": "code",
   "execution_count": null,
   "id": "59b9901b-0acb-4347-b58d-885e4f3d4eaf",
   "metadata": {},
   "outputs": [],
   "source": [
    "ims = Table()\n",
    "ims['filename']=[os.getcwd()+c[1:] for c in calexp]\n",
    "ims['band']=[c.split('/')[7][-1].lower() for c in calexp]\n",
    "ims['patch']=[int(c.split('/')[9][2])*9+int(c.split('/')[9][0]) for c in calexp]\n",
    "ims['physical_filter']=[c.split('/')[7] for c in calexp]\n",
    "ims['skymap']='hscPdr2'\n",
    "ims['tract']=[int(c.split('/')[8]) for c in calexp]"
   ]
  },
  {
   "cell_type": "code",
   "execution_count": null,
   "id": "ce784e3a-64e4-4819-975d-5b91e699fdab",
   "metadata": {},
   "outputs": [],
   "source": [
    "ims[:1]"
   ]
  },
  {
   "cell_type": "code",
   "execution_count": null,
   "id": "25bc029d-6be8-44c9-9e82-f83166df7f90",
   "metadata": {},
   "outputs": [],
   "source": [
    "ims.write('./export/calexp_{}.ecsv'.format(len(ims)),overwrite=True)"
   ]
  },
  {
   "cell_type": "code",
   "execution_count": null,
   "id": "cc7f965e-049b-462d-a141-db67391bfa04",
   "metadata": {},
   "outputs": [],
   "source": [
    "tabs = Table()\n",
    "tabs['filename']=[os.getcwd()+c[1:] for c in det]\n",
    "tabs['band']=[c.split('/')[7][-1].lower() for c in det]\n",
    "tabs['patch']=[int(c.split('/')[9][2])*9+int(c.split('/')[9][0]) for c in det]\n",
    "tabs['physical_filter']=[c.split('/')[7] for c in det]\n",
    "tabs['skymap']='hscPdr2'\n",
    "tabs['tract']=[int(c.split('/')[8]) for c in det]"
   ]
  },
  {
   "cell_type": "code",
   "execution_count": null,
   "id": "ff795445-8cb3-4546-936f-097791152e3b",
   "metadata": {},
   "outputs": [],
   "source": [
    "tabs[:1]"
   ]
  },
  {
   "cell_type": "code",
   "execution_count": null,
   "id": "14f76fa5-e1bc-49d7-a64a-cd1ccbf2a574",
   "metadata": {},
   "outputs": [],
   "source": [
    "tabs.write('./export/det_{}.ecsv'.format(len(ims)),overwrite=True)"
   ]
  },
  {
   "cell_type": "markdown",
   "id": "962b04bd-cd70-420c-bf89-59fe0df2815a",
   "metadata": {},
   "source": [
    "## Repeat for wide files"
   ]
  },
  {
   "cell_type": "code",
   "execution_count": null,
   "id": "719cc3e2-1d59-4a61-b9ed-a657314fcd8a",
   "metadata": {},
   "outputs": [],
   "source": [
    "calexp_wide_good=[]\n",
    "for c in calexp_wide:\n",
    "    if os.path.getsize(c) > 200:\n",
    "        calexp_wide_good.append(c)\n",
    "calexp_wide=calexp_wide_good\n",
    "\n",
    "det_wide_good=[]\n",
    "for d in det_wide:\n",
    "    if os.path.getsize(d) > 200:\n",
    "        det_wide_good.append(d)\n",
    "det_wide=det_wide_good\n",
    "\n",
    "if len(calexp_wide) != 0:\n",
    "    ims = Table()\n",
    "    ims['filename']=[os.getcwd()+c[1:] for c in calexp_wide]\n",
    "    ims['band']=[c.split('/')[7][-1].lower() for c in calexp_wide]\n",
    "    ims['patch']=[int(c.split('/')[9][2])*9+int(c.split('/')[9][0]) for c in calexp_wide]\n",
    "    ims['physical_filter']=[c.split('/')[7] for c in calexp_wide]\n",
    "    ims['skymap']='hscPdr2'\n",
    "    ims['tract']=[int(c.split('/')[8]) for c in calexp_wide]\n",
    "    ims.write('./export/calexp_wide_{}.ecsv'.format(len(ims)),overwrite=True)\n",
    "\n",
    "    tabs = Table()\n",
    "    tabs['filename']=[os.getcwd()+c[1:] for c in det_wide]\n",
    "    tabs['band']=[c.split('/')[7][-1].lower() for c in det_wide]\n",
    "    tabs['patch']=[int(c.split('/')[9][2])*9+int(c.split('/')[9][0]) for c in det_wide]\n",
    "    tabs['physical_filter']=[c.split('/')[7] for c in det_wide]\n",
    "    tabs['skymap']='hscPdr2'\n",
    "    tabs['tract']=[int(c.split('/')[8]) for c in det_wide]\n",
    "    tabs.write('./export/det_wide_{}.ecsv'.format(len(tabs)),overwrite=True)"
   ]
  }
 ],
 "metadata": {
  "kernelspec": {
   "display_name": "Python 3 (ipykernel)",
   "language": "python",
   "name": "python3"
  },
  "language_info": {
   "codemirror_mode": {
    "name": "ipython",
    "version": 3
   },
   "file_extension": ".py",
   "mimetype": "text/x-python",
   "name": "python",
   "nbconvert_exporter": "python",
   "pygments_lexer": "ipython3",
   "version": "3.10.6"
  }
 },
 "nbformat": 4,
 "nbformat_minor": 5
}
