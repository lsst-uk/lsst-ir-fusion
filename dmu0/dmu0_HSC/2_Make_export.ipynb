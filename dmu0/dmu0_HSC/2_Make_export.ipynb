{
 "cells": [
  {
   "cell_type": "markdown",
   "id": "3294ecea-75d0-4a02-8520-d255436a1826",
   "metadata": {},
   "source": [
    "# Make HSC export file\n",
    "\n",
    "The gen 3 Butler does not have a mapper which merely references files by name. files need to be ingested in to the butler. We therefore need to make an export.yaml file containing the appropriate metadata for each HSC file. "
   ]
  },
  {
   "cell_type": "code",
   "execution_count": 1,
   "id": "68866214-a3b8-441e-92d5-bc2681b9fd53",
   "metadata": {},
   "outputs": [
    {
     "name": "stdout",
     "output_type": "stream",
     "text": [
      "lsst_distrib          g2d4714e03a+6e1aa0b536 \tcurrent w_2022_07 w_latest setup\n",
      "obs_vista             23.0.0-1   \tcurrent setup\n"
     ]
    }
   ],
   "source": [
    "# What version of the Stack are we using?\n",
    "! eups list -s | grep lsst_distrib\n",
    "! eups list -s | grep obs_vista"
   ]
  },
  {
   "cell_type": "code",
   "execution_count": 2,
   "id": "5a462b37-47e4-479f-a782-e1393d2f9eb6",
   "metadata": {},
   "outputs": [],
   "source": [
    "import glob\n",
    "import yaml\n",
    "from astropy.table import Table\n",
    "import os"
   ]
  },
  {
   "cell_type": "code",
   "execution_count": 3,
   "id": "28d6c1e9-b4c4-490c-a5bb-00c364497654",
   "metadata": {},
   "outputs": [],
   "source": [
    "calexp = glob.glob('./data/hsc-release.mtk.nao.ac.jp/archive/filetree/pdr3_dud/deepCoadd-results/HSC*/*/*/calexp*.fits')\n",
    "det = glob.glob('./data/hsc-release.mtk.nao.ac.jp/archive/filetree/pdr3_dud/deepCoadd-results/HSC*/*/*/det*.fits')"
   ]
  },
  {
   "cell_type": "code",
   "execution_count": 4,
   "id": "d5de0eba-29c5-478e-ab0e-9a660e72fa5f",
   "metadata": {},
   "outputs": [
    {
     "data": {
      "text/plain": [
       "'/Users/raphaelshirley/Documents/github/lsst-ir-fusion/dmu0/dmu0_HSC'"
      ]
     },
     "execution_count": 4,
     "metadata": {},
     "output_type": "execute_result"
    }
   ],
   "source": [
    "os.getcwd()"
   ]
  },
  {
   "cell_type": "code",
   "execution_count": 5,
   "id": "e3767b81-975f-4d80-ac50-bc99b1b99669",
   "metadata": {},
   "outputs": [
    {
     "data": {
      "text/plain": [
       "['./data/hsc-release.mtk.nao.ac.jp/archive/filetree/pdr3_dud/deepCoadd-results/HSC-R/8524/3,4/calexp-HSC-R-8524-3,4.fits',\n",
       " './data/hsc-release.mtk.nao.ac.jp/archive/filetree/pdr3_dud/deepCoadd-results/HSC-R/8524/3,5/calexp-HSC-R-8524-3,5.fits']"
      ]
     },
     "execution_count": 5,
     "metadata": {},
     "output_type": "execute_result"
    }
   ],
   "source": [
    "calexp"
   ]
  },
  {
   "cell_type": "code",
   "execution_count": 6,
   "id": "ba2c5227-e42d-48dd-9f79-9e109bf5421a",
   "metadata": {},
   "outputs": [
    {
     "data": {
      "text/plain": [
       "['./data/hsc-release.mtk.nao.ac.jp/archive/filetree/pdr3_dud/deepCoadd-results/HSC-R/8524/3,4/det-HSC-R-8524-3,4.fits',\n",
       " './data/hsc-release.mtk.nao.ac.jp/archive/filetree/pdr3_dud/deepCoadd-results/HSC-R/8524/3,5/det-HSC-R-8524-3,5.fits']"
      ]
     },
     "execution_count": 6,
     "metadata": {},
     "output_type": "execute_result"
    }
   ],
   "source": [
    "det"
   ]
  },
  {
   "cell_type": "code",
   "execution_count": 7,
   "id": "b79fc732-8fa2-4eea-8b58-52f06e4793a9",
   "metadata": {},
   "outputs": [],
   "source": [
    "hsc_dict =yaml.safe_load(\"\"\"\n",
    "description: Butler Data Repository Export\n",
    "version: 1.0.1\n",
    "data:\n",
    "- type: collection\n",
    "  collection_type: RUN\n",
    "  name: videoTest\n",
    "  host: null\n",
    "  timespan_begin: null\n",
    "  timespan_end: null\n",
    "- type: dataset_type\n",
    "  name: deepCoadd\n",
    "  dimensions:\n",
    "  - band\n",
    "  - skymap\n",
    "  - tract\n",
    "  - patch\n",
    "  storage_class: ExposureF\n",
    "  is_calibration: false\n",
    "- type: dataset\n",
    "  dataset_type: deepCoadd\n",
    "  run: videoTest\n",
    "  records: []\n",
    "\"\"\")\n",
    "\n"
   ]
  },
  {
   "cell_type": "raw",
   "id": "08938c9d-79a5-4c2e-8550-75df613c3e77",
   "metadata": {},
   "source": [
    "for c in calexp:\n",
    "    physical_filter=c.split('/')[7]\n",
    "    band=physical_filter.split('-')[1].lower()\n",
    "    tract=int(c.split('/')[8])\n",
    "    patch=c.split('/')[9]\n",
    "    patchNew=int(patch[0])+9*int(patch[2])\n",
    "    print(patch,patchNew,physical_filter,band)"
   ]
  },
  {
   "cell_type": "raw",
   "id": "ce67bea1-4e4c-4b54-b9c2-2de61720b0c5",
   "metadata": {},
   "source": [
    "n=0\n",
    "data='data/hsc-release.mtk.nao.ac.jp/archive/filetree/pdr3_dud/deepCoadd-results'\n",
    "for c in calexp:\n",
    "    physical_filter=c.split('/')[7]\n",
    "    band=physical_filter.split('-')[1].lower()\n",
    "    tract=int(c.split('/')[8])\n",
    "    patch=c.split('/')[9]\n",
    "    patchNew=int(patch[0])+9*int(patch[2])\n",
    "    dataset_id='hsc_{}'.format(n)\n",
    "    print(patch,patchNew)\n",
    "    record=yaml.safe_load(\"\"\"\n",
    "    dataset_id:\n",
    "    - {dataset_id}\n",
    "    data_id:\n",
    "    - band: {band}\n",
    "      skymap: hscPdr2\n",
    "      tract: {tract}\n",
    "      patch: {patchNew}\n",
    "      physical_filter: {physical_filter}\n",
    "    path: {data}/{physical_filter}/{tract}/{patch}/calexp-{physical_filter}-{tract}-{patch}.fits\n",
    "    formatter: lsst.obs.base.formatters.fitsExposure.FitsExposureFormatter\n",
    "    \"\"\".format(\n",
    "        dataset_id=dataset_id,\n",
    "        band=band,\n",
    "        physical_filter=physical_filter,\n",
    "        tract=tract,\n",
    "        patch=patch,\n",
    "        patchNew=patchNew,\n",
    "        data=data\n",
    "    ))\n",
    "    hsc_dict['data'][2]['records'].append(record)\n",
    "    n+=1"
   ]
  },
  {
   "cell_type": "raw",
   "id": "557050f2-82ee-4501-8c73-72c4a0e47179",
   "metadata": {},
   "source": [
    "with open('./export.yaml', 'w') as file:\n",
    "    yaml.dump(hsc_dict, file)"
   ]
  },
  {
   "cell_type": "code",
   "execution_count": 8,
   "id": "4aaacf0c-3771-4ad6-b977-29cf18b099f0",
   "metadata": {},
   "outputs": [
    {
     "data": {
      "text/plain": [
       "'./data/hsc-release.mtk.nao.ac.jp/archive/filetree/pdr3_dud/deepCoadd-results/HSC-R/8524/3,4/calexp-HSC-R-8524-3,4.fits'"
      ]
     },
     "execution_count": 8,
     "metadata": {},
     "output_type": "execute_result"
    }
   ],
   "source": [
    "calexp[0]"
   ]
  },
  {
   "cell_type": "code",
   "execution_count": 9,
   "id": "59b9901b-0acb-4347-b58d-885e4f3d4eaf",
   "metadata": {},
   "outputs": [],
   "source": [
    "ims = Table()\n",
    "ims['filename']=[os.getcwd()+c[1:] for c in calexp]\n",
    "ims['band']=[c.split('/')[7][-1].lower() for c in calexp]\n",
    "ims['patch']=[int(c.split('/')[9][2])*9+int(c.split('/')[9][0]) for c in calexp]\n",
    "ims['physical_filter']=[c.split('/')[7] for c in calexp]\n",
    "ims['skymap']='hscPdr2'\n",
    "ims['tract']=[int(c.split('/')[8]) for c in calexp]"
   ]
  },
  {
   "cell_type": "code",
   "execution_count": 10,
   "id": "ce784e3a-64e4-4819-975d-5b91e699fdab",
   "metadata": {},
   "outputs": [
    {
     "data": {
      "text/html": [
       "<div><i>Table length=1</i>\n",
       "<table id=\"table140492166277296\" class=\"table-striped table-bordered table-condensed\">\n",
       "<thead><tr><th>filename</th><th>band</th><th>patch</th><th>physical_filter</th><th>skymap</th><th>tract</th></tr></thead>\n",
       "<thead><tr><th>str184</th><th>str1</th><th>int64</th><th>str5</th><th>str7</th><th>int64</th></tr></thead>\n",
       "<tr><td>/Users/raphaelshirley/Documents/github/lsst-ir-fusion/dmu0/dmu0_HSC/data/hsc-release.mtk.nao.ac.jp/archive/filetree/pdr3_dud/deepCoadd-results/HSC-R/8524/3,4/calexp-HSC-R-8524-3,4.fits</td><td>r</td><td>39</td><td>HSC-R</td><td>hscPdr2</td><td>8524</td></tr>\n",
       "</table></div>"
      ],
      "text/plain": [
       "<Table length=1>\n",
       "                                                                                        filename                                                                                         band patch ...  skymap tract\n",
       "                                                                                         str184                                                                                          str1 int64 ...   str7  int64\n",
       "---------------------------------------------------------------------------------------------------------------------------------------------------------------------------------------- ---- ----- ... ------- -----\n",
       "/Users/raphaelshirley/Documents/github/lsst-ir-fusion/dmu0/dmu0_HSC/data/hsc-release.mtk.nao.ac.jp/archive/filetree/pdr3_dud/deepCoadd-results/HSC-R/8524/3,4/calexp-HSC-R-8524-3,4.fits    r    39 ... hscPdr2  8524"
      ]
     },
     "execution_count": 10,
     "metadata": {},
     "output_type": "execute_result"
    }
   ],
   "source": [
    "ims[:1]"
   ]
  },
  {
   "cell_type": "code",
   "execution_count": 11,
   "id": "25bc029d-6be8-44c9-9e82-f83166df7f90",
   "metadata": {},
   "outputs": [],
   "source": [
    "ims.write('./data/calexp_{}.ecsv'.format(len(ims)),overwrite=True)"
   ]
  },
  {
   "cell_type": "code",
   "execution_count": 12,
   "id": "cc7f965e-049b-462d-a141-db67391bfa04",
   "metadata": {},
   "outputs": [],
   "source": [
    "tabs = Table()\n",
    "tabs['filename']=[os.getcwd()+c[1:] for c in det]\n",
    "tabs['band']=[c.split('/')[7][-1].lower() for c in det]\n",
    "tabs['patch']=[int(c.split('/')[9][2])*9+int(c.split('/')[9][0]) for c in det]\n",
    "tabs['physical_filter']=[c.split('/')[7] for c in det]\n",
    "tabs['skymap']='hscPdr2'\n",
    "tabs['tract']=[int(c.split('/')[8]) for c in det]"
   ]
  },
  {
   "cell_type": "code",
   "execution_count": 13,
   "id": "ff795445-8cb3-4546-936f-097791152e3b",
   "metadata": {},
   "outputs": [
    {
     "data": {
      "text/html": [
       "<div><i>Table length=1</i>\n",
       "<table id=\"table140492169203424\" class=\"table-striped table-bordered table-condensed\">\n",
       "<thead><tr><th>filename</th><th>band</th><th>patch</th><th>physical_filter</th><th>skymap</th><th>tract</th></tr></thead>\n",
       "<thead><tr><th>str181</th><th>str1</th><th>int64</th><th>str5</th><th>str7</th><th>int64</th></tr></thead>\n",
       "<tr><td>/Users/raphaelshirley/Documents/github/lsst-ir-fusion/dmu0/dmu0_HSC/data/hsc-release.mtk.nao.ac.jp/archive/filetree/pdr3_dud/deepCoadd-results/HSC-R/8524/3,4/det-HSC-R-8524-3,4.fits</td><td>r</td><td>39</td><td>HSC-R</td><td>hscPdr2</td><td>8524</td></tr>\n",
       "</table></div>"
      ],
      "text/plain": [
       "<Table length=1>\n",
       "                                                                                       filename                                                                                       band patch ...  skymap tract\n",
       "                                                                                        str181                                                                                        str1 int64 ...   str7  int64\n",
       "------------------------------------------------------------------------------------------------------------------------------------------------------------------------------------- ---- ----- ... ------- -----\n",
       "/Users/raphaelshirley/Documents/github/lsst-ir-fusion/dmu0/dmu0_HSC/data/hsc-release.mtk.nao.ac.jp/archive/filetree/pdr3_dud/deepCoadd-results/HSC-R/8524/3,4/det-HSC-R-8524-3,4.fits    r    39 ... hscPdr2  8524"
      ]
     },
     "execution_count": 13,
     "metadata": {},
     "output_type": "execute_result"
    }
   ],
   "source": [
    "tabs[:1]"
   ]
  },
  {
   "cell_type": "code",
   "execution_count": 14,
   "id": "14f76fa5-e1bc-49d7-a64a-cd1ccbf2a574",
   "metadata": {},
   "outputs": [],
   "source": [
    "tabs.write('./data/det_{}.ecsv'.format(len(ims)),overwrite=True)"
   ]
  },
  {
   "cell_type": "code",
   "execution_count": null,
   "id": "f2848ae4-ebe3-4aa1-84f6-405a51ea8423",
   "metadata": {},
   "outputs": [],
   "source": []
  }
 ],
 "metadata": {
  "kernelspec": {
   "display_name": "Python 3 (ipykernel)",
   "language": "python",
   "name": "python3"
  },
  "language_info": {
   "codemirror_mode": {
    "name": "ipython",
    "version": 3
   },
   "file_extension": ".py",
   "mimetype": "text/x-python",
   "name": "python",
   "nbconvert_exporter": "python",
   "pygments_lexer": "ipython3",
   "version": "3.8.12"
  }
 },
 "nbformat": 4,
 "nbformat_minor": 5
}
