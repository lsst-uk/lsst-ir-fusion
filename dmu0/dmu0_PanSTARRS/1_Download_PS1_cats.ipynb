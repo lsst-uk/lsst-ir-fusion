{
 "cells": [
  {
   "cell_type": "markdown",
   "metadata": {},
   "source": [
    "# 1 Get PanSTARRS ref cat\n",
    "\n",
    "It is available here\n",
    "\n",
    "http://tigress-web.princeton.edu/~pprice/ps1_pv3_3pi_20170110/131072.fits\n",
    "\n",
    "I get the index and make a file list to run wget on"
   ]
  },
  {
   "cell_type": "code",
   "execution_count": 30,
   "metadata": {},
   "outputs": [],
   "source": [
    "h = open('./data/index.html')"
   ]
  },
  {
   "cell_type": "code",
   "execution_count": 31,
   "metadata": {},
   "outputs": [
    {
     "name": "stdout",
     "output_type": "stream",
     "text": [
      "<tr><td valign=\"top\"><img src=\"/icons/image2.gif\" alt=\"[IMG]\"></td><td><a href=\"master_schema.fits\">master_schema.fits</a>     </td><td align=\"right\">2017-01-10 15:50  </td><td align=\"right\"> 17K</td><td>&nbsp;</td></tr>\n",
      "\n"
     ]
    }
   ],
   "source": [
    "n=0\n",
    "files = []\n",
    "for line in h:\n",
    "    #print( line)\n",
    "    if line.startswith('<tr><td valign=\"top\"><img src=\"/icons/image2.gif\" alt=\"[IMG]\"></td><td><a href=\"'):\n",
    "        try:\n",
    "            files.append(int(line.split('.fits')[1][-6:]))\n",
    "        except:\n",
    "            print(line)\n",
    "    n+=1\n",
    "    #if n==20:\n",
    "    #    break"
   ]
  },
  {
   "cell_type": "code",
   "execution_count": 32,
   "metadata": {},
   "outputs": [
    {
     "data": {
      "text/plain": [
       "130924"
      ]
     },
     "execution_count": 32,
     "metadata": {},
     "output_type": "execute_result"
    }
   ],
   "source": [
    "len(files)"
   ]
  },
  {
   "cell_type": "code",
   "execution_count": 35,
   "metadata": {},
   "outputs": [],
   "source": [
    "files_lis = open('./data/ps1_pv3_3pi_20170110/files.lis', 'w+')\n",
    "for f in files:\n",
    "    files_lis.write('http://tigress-web.princeton.edu/~pprice/ps1_pv3_3pi_20170110/{}.fits\\n'.format(f))\n",
    "files_lis.close()"
   ]
  },
  {
   "cell_type": "code",
   "execution_count": null,
   "metadata": {},
   "outputs": [],
   "source": []
  }
 ],
 "metadata": {
  "kernelspec": {
   "display_name": "LSST",
   "language": "python",
   "name": "lsst"
  },
  "language_info": {
   "codemirror_mode": {
    "name": "ipython",
    "version": 3
   },
   "file_extension": ".py",
   "mimetype": "text/x-python",
   "name": "python",
   "nbconvert_exporter": "python",
   "pygments_lexer": "ipython3",
   "version": "3.7.6"
  }
 },
 "nbformat": 4,
 "nbformat_minor": 4
}
