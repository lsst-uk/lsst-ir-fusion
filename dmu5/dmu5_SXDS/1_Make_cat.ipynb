{
 "cells": [
  {
   "cell_type": "markdown",
   "metadata": {},
   "source": [
    "# Make the final SXDS catalogue\n",
    "\n",
    "We want to take all the columns. We will save a catalogue for each patch which can be stacked to produce the final catalogues for serving publicly. The is_inner flags are used to remove the overlap regions. As far as possible we try to mimic the tables produced for HSC PDR2."
   ]
  },
  {
   "cell_type": "code",
   "execution_count": 5,
   "metadata": {},
   "outputs": [],
   "source": [
    "import json\n",
    "import numpy as np\n",
    "import lsst.daf.persistence as dafPersist\n",
    "\n",
    "from astropy.table import Table"
   ]
  },
  {
   "cell_type": "code",
   "execution_count": 6,
   "metadata": {},
   "outputs": [],
   "source": [
    "hscBands = ['G', 'R', 'I', 'Z', 'Y']\n",
    "vistaBands = ['Z', 'Y', 'J', 'H', 'Ks']\n"
   ]
  },
  {
   "cell_type": "code",
   "execution_count": 8,
   "metadata": {},
   "outputs": [],
   "source": [
    "BUTLER_LOC = '/Volumes/Raph500/lsst-ir-fusion/dmu4/dmu4_Example/data'\n",
    "butler =  dafPersist.Butler(inputs='{}/rerun/coaddForcedPhot'.format(BUTLER_LOC))"
   ]
  },
  {
   "cell_type": "code",
   "execution_count": null,
   "metadata": {},
   "outputs": [],
   "source": [
    "full_patch_dict = json.load('../../dmu4/dmu4_SXDS/full_patch_dict.json')"
   ]
  },
  {
   "cell_type": "code",
   "execution_count": null,
   "metadata": {},
   "outputs": [],
   "source": [
    "def bandCat(tract, patch, band, BUTLER_LOC):"
   ]
  },
  {
   "cell_type": "code",
   "execution_count": null,
   "metadata": {},
   "outputs": [],
   "source": [
    "for tract in tracts:\n",
    "    for patch in patches:\n",
    "        cat = makeCat(tract, patch, BUTLER_LOC)\n",
    "        cat.write('./data/{}_{}.fits', overwrite=True)"
   ]
  },
  {
   "cell_type": "code",
   "execution_count": null,
   "metadata": {},
   "outputs": [],
   "source": [
    "full_cat = Table()\n",
    "for f in y_stack_files[6:7]:\n",
    "    tract = 8524\n",
    "    patch = str(f[-8:-5])\n",
    "    print(patch)\n",
    "    #zSources = butler.get('deepCoadd_forced_src', {'filter': 'VISTA-Z', 'tract': tract, 'patch': patch})\n",
    "    ySources = butler.get('deepCoadd_forced_src', {'filter': 'VISTA-Y', 'tract': tract, 'patch': patch})\n",
    "    jSources = butler.get('deepCoadd_forced_src', {'filter': 'VISTA-J', 'tract': tract, 'patch': patch})\n",
    "    hSources = butler.get('deepCoadd_forced_src', {'filter': 'VISTA-H', 'tract': tract, 'patch': patch})\n",
    "    ksSources = butler.get('deepCoadd_forced_src', {'filter': 'VISTA-Ks', 'tract': tract, 'patch': patch})\n",
    "    #yCoaddPhotoCalib = butler.get('deepCoadd_calexp_photoCalib',  {'filter': 'VISTA-Y', 'tract': tract, 'patch': patch})\n",
    "    #jCoaddPhotoCalib = butler.get('deepCoadd_calexp_photoCalib',  {'filter': 'VISTA-J', 'tract': tract, 'patch': patch})\n",
    "    #hCoaddPhotoCalib = butler.get('deepCoadd_calexp_photoCalib',  {'filter': 'VISTA-H', 'tract': tract, 'patch': patch})\n",
    "    #ksCoaddPhotoCalib = butler.get('deepCoadd_calexp_photoCalib',  {'filter': 'VISTA-Ks', 'tract': tract, 'patch': patch})\n",
    "    #zCoaddCalexp = butler.get('deepCoadd_calexp',  {'filter': 'VISTA-Z', 'tract': tract, 'patch': patch})\n",
    "    #zCoaddPhotoCalib = zCoaddCalexp.getPhotoCalib()\n",
    "    yCoaddCalexp = butler.get('deepCoadd_calexp',  {'filter': 'VISTA-Y', 'tract': tract, 'patch': patch})\n",
    "    yCoaddPhotoCalib = yCoaddCalexp.getPhotoCalib()\n",
    "    jCoaddCalexp = butler.get('deepCoadd_calexp',  {'filter': 'VISTA-J', 'tract': tract, 'patch': patch})\n",
    "    jCoaddPhotoCalib = jCoaddCalexp.getPhotoCalib()\n",
    "    hCoaddCalexp = butler.get('deepCoadd_calexp',  {'filter': 'VISTA-H', 'tract': tract, 'patch': patch})\n",
    "    hCoaddPhotoCalib = hCoaddCalexp.getPhotoCalib()\n",
    "    ksCoaddCalexp = butler.get('deepCoadd_calexp',  {'filter': 'VISTA-Ks', 'tract': tract, 'patch': patch})\n",
    "    ksCoaddPhotoCalib = ksCoaddCalexp.getPhotoCalib()\n",
    "    f_type = 'base_PsfFlux' #'base_PsfFlux' 'base_CircularApertureFlux_3_0'\n",
    "    yMags = yCoaddPhotoCalib.instFluxToMagnitude(ySources, f_type)\n",
    "    jMags = jCoaddPhotoCalib.instFluxToMagnitude(jSources, f_type)\n",
    "    hMags = hCoaddPhotoCalib.instFluxToMagnitude(hSources, f_type)\n",
    "    ksMags = ksCoaddPhotoCalib.instFluxToMagnitude(ksSources, f_type)\n",
    "    \n",
    "    yFlux = yCoaddPhotoCalib.instFluxToNanojansky(ySources, f_type)\n",
    "    jFlux = jCoaddPhotoCalib.instFluxToNanojansky(jSources, f_type)\n",
    "    hFlux = hCoaddPhotoCalib.instFluxToNanojansky(hSources, f_type)\n",
    "    ksFlux = ksCoaddPhotoCalib.instFluxToNanojansky(ksSources, f_type)\n",
    "    \n",
    "    #zMeasSources = butler.get('deepCoadd_meas', {'filter': 'VISTA-Z', 'tract': tract, 'patch': patch})\n",
    "    yMeasSources = butler.get('deepCoadd_meas', {'filter': 'VISTA-Y', 'tract': tract, 'patch': patch})\n",
    "    jMeasSources = butler.get('deepCoadd_meas', {'filter': 'VISTA-J', 'tract': tract, 'patch': patch})\n",
    "    hMeasSources = butler.get('deepCoadd_meas', {'filter': 'VISTA-H', 'tract': tract, 'patch': patch})\n",
    "    ksMeasSources = butler.get('deepCoadd_meas', {'filter': 'VISTA-Ks', 'tract': tract, 'patch': patch})\n",
    "\n",
    "    fMeas_type = 'base_CircularApertureFlux_12_0' #'base_PsfFlux' 'base_CircularApertureFlux_2_0'\n",
    "    #zMeasMags = zCoaddPhotoCalib.instFluxToMagnitude(zMeasSources, fMeas_type)\n",
    "    yMeasMags = yCoaddPhotoCalib.instFluxToMagnitude(yMeasSources, fMeas_type)\n",
    "    jMeasMags = jCoaddPhotoCalib.instFluxToMagnitude(jMeasSources, fMeas_type)\n",
    "    hMeasMags = hCoaddPhotoCalib.instFluxToMagnitude(hMeasSources, fMeas_type)\n",
    "    ksMeasMags = ksCoaddPhotoCalib.instFluxToMagnitude(ksMeasSources, fMeas_type)\n",
    "    \n",
    "    yMeasFlux = yCoaddPhotoCalib.instFluxToNanojansky(yMeasSources, fMeas_type)\n",
    "    ksMeasFlux = ksCoaddPhotoCalib.instFluxToNanojansky(ksMeasSources, fMeas_type)\n",
    "\n",
    "    #isDeblended = ySources['deblend_nChild'] == 0\n",
    "    \n",
    "    \n",
    "    \n",
    "    \n",
    "    sn5 = (yMeasFlux[:,0]/yMeasFlux[:,1] > 5) & (ksMeasFlux[:,0]/ksMeasFlux[:,1] > 5)\n",
    "    isDeblended = ksSources['deblend_nChild'] == 0\n",
    "    refTable = butler.get('deepCoadd_ref', {'filter': 'VISTA-Y^VISTA-Ks', 'tract': tract, 'patch': patch})\n",
    "    #refTable\n",
    "    inInnerRegions = refTable['detect_isPatchInner'] & refTable['detect_isTractInner']\n",
    "    isSkyObject = refTable['merge_peak_sky']\n",
    "    isPrimary = refTable['detect_isPrimary']\n",
    "    isStellar = refTable['base_ClassificationExtendedness_value'] < 1.\n",
    "    ksSources.getSchema().extract('{}_*'.format(f_type))\n",
    "    isGoodFlux = ~ksSources['{}_flag'.format(f_type)]\n",
    "    selected = isPrimary & isGoodFlux & inInnerRegions & isStellar  \n",
    "    cat = Table()\n",
    "\n",
    "    #cat['m_vista_z'] = zMags[:,0]\n",
    "    #cat['merr_vista_z'] = zMags[:,1]\n",
    "    #cat['m_ap_vista_z'] = zMeasMags[:,0]\n",
    "    #cat['merr_ap_vista_z'] = zMeasMags[:,1]    \n",
    "                                                     \n",
    "    cat['m_vista_y'] = yMags[:,0]\n",
    "    cat['merr_vista_y'] = yMags[:,1]\n",
    "    cat['f_vista_y'] = yFlux[:,0]\n",
    "    cat['ferr_vista_y'] = yFlux[:,1]\n",
    "    cat['m_ap_vista_y'] = yMeasMags[:,0]\n",
    "    cat['merr_ap_vista_y'] = yMeasMags[:,1]\n",
    "    cat['f_ap_vista_y'] = yMeasFlux[:,0]\n",
    "    cat['ferr_ap_vista_y'] = yMeasFlux[:,1]\n",
    "                \n",
    "    cat['m_vista_j'] = jMags[:,0]\n",
    "    cat['merr_vista_j'] = jMags[:,1]\n",
    "    cat['m_ap_vista_j'] = jMeasMags[:,0]\n",
    "    cat['merr_ap_vista_j'] = jMeasMags[:,1]\n",
    "\n",
    "                                                     \n",
    "    cat['m_vista_h'] = hMags[:,0]\n",
    "    cat['merr_vista_h'] = hMags[:,1]\n",
    "    cat['m_ap_vista_h'] = hMeasMags[:,0]\n",
    "    cat['merr_ap_vista_h'] = hMeasMags[:,1]\n",
    "                                                     \n",
    "    cat['m_vista_ks'] = ksMags[:,0]\n",
    "    cat['merr_vista_ks'] = ksMags[:,1]\n",
    "    cat['m_ap_vista_ks'] = ksMeasMags[:,0]\n",
    "    cat['merr_ap_vista_ks'] = ksMeasMags[:,1]\n",
    "    cat['f_ap_vista_ks'] = ksMeasFlux[:,0]\n",
    "    cat['ferr_ap_vista_ks'] = ksMeasFlux[:,1]\n",
    "\n",
    "    cat['ra'] = ksSources['coord_ra']\n",
    "    #cat['ra'] =ksMeasSources['coord_ra']\n",
    "    cat['dec'] = ksSources['coord_dec']\n",
    "    #cat['dec'] = ksMeasSources['coord_dec']\n",
    "    cat['flag'] = selected\n",
    "    full_cat = vstack([full_cat,cat])"
   ]
  }
 ],
 "metadata": {
  "kernelspec": {
   "display_name": "LSST",
   "language": "python",
   "name": "lsst"
  },
  "language_info": {
   "codemirror_mode": {
    "name": "ipython",
    "version": 3
   },
   "file_extension": ".py",
   "mimetype": "text/x-python",
   "name": "python",
   "nbconvert_exporter": "python",
   "pygments_lexer": "ipython3",
   "version": "3.7.6"
  }
 },
 "nbformat": 4,
 "nbformat_minor": 4
}
