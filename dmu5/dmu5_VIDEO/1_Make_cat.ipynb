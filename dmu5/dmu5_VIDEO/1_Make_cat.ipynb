{
 "cells": [
  {
   "cell_type": "markdown",
   "metadata": {},
   "source": [
    "# Make the final SXDS catalogue\n",
    "\n",
    "We want to take all the columns. We will save a catalogue for each patch which can be stacked to produce the final catalogues for serving publicly. The is_inner flags are used to remove the overlap regions. As far as possible we try to mimic the tables produced for HSC PDR2."
   ]
  },
  {
   "cell_type": "code",
   "execution_count": 1,
   "metadata": {},
   "outputs": [],
   "source": [
    "import os\n",
    "import json\n",
    "import numpy as np\n",
    "import lsst.daf.persistence as dafPersist\n",
    "import time\n",
    "import gc\n",
    "\n",
    "from astropy.table import Table, join, vstack\n",
    "import astropy.units as u\n",
    "\n",
    "import warnings\n",
    "warnings.filterwarnings(\"ignore\")"
   ]
  },
  {
   "cell_type": "code",
   "execution_count": 2,
   "metadata": {},
   "outputs": [],
   "source": [
    "hscBands = ['G', 'R', 'I', 'Z', 'Y']\n",
    "vistaBands = ['Z', 'Y', 'J', 'H', 'Ks']\n",
    "allBands = ['HSC-' +b for b in hscBands] + ['VISTA-' +b for b in vistaBands]"
   ]
  },
  {
   "cell_type": "code",
   "execution_count": 3,
   "metadata": {},
   "outputs": [
    {
     "data": {
      "text/plain": [
       "['HSC-G',\n",
       " 'HSC-R',\n",
       " 'HSC-I',\n",
       " 'HSC-Z',\n",
       " 'HSC-Y',\n",
       " 'VISTA-Z',\n",
       " 'VISTA-Y',\n",
       " 'VISTA-J',\n",
       " 'VISTA-H',\n",
       " 'VISTA-Ks']"
      ]
     },
     "execution_count": 3,
     "metadata": {},
     "output_type": "execute_result"
    }
   ],
   "source": [
    "allBands"
   ]
  },
  {
   "cell_type": "code",
   "execution_count": 4,
   "metadata": {},
   "outputs": [
    {
     "data": {
      "text/plain": [
       "['G', 'R', 'I', 'Z', 'Y']"
      ]
     },
     "execution_count": 4,
     "metadata": {},
     "output_type": "execute_result"
    }
   ],
   "source": [
    "hscBands"
   ]
  },
  {
   "cell_type": "code",
   "execution_count": 5,
   "metadata": {},
   "outputs": [
    {
     "data": {
      "text/plain": [
       "'/Users/raphaelshirley/Documents/github/lsst-ir-fusion/dmu5/dmu5_VIDEO'"
      ]
     },
     "execution_count": 5,
     "metadata": {},
     "output_type": "execute_result"
    }
   ],
   "source": [
    "os.getcwd()"
   ]
  },
  {
   "cell_type": "code",
   "execution_count": 9,
   "metadata": {},
   "outputs": [],
   "source": [
    "if os.getcwd().startswith('/Users/raphaelshirley/Documents/github'):\n",
    "    BUTLER_LOC = '../../dmu4/dmu4_Example/data_g2'\n",
    "    DATA =  './data'\n",
    "else:\n",
    "    BUTLER_LOC = '../../dmu4/dmu4_VIDEO/data'\n",
    "    DATA =  './data'\n",
    "butler =  dafPersist.Butler(inputs='{}/rerun/coaddPhot'.format(BUTLER_LOC))"
   ]
  },
  {
   "cell_type": "code",
   "execution_count": 10,
   "metadata": {},
   "outputs": [
    {
     "data": {
      "text/plain": [
       "('../../dmu4/dmu4_Example/data_g2', './data')"
      ]
     },
     "execution_count": 10,
     "metadata": {},
     "output_type": "execute_result"
    }
   ],
   "source": [
    "BUTLER_LOC, DATA"
   ]
  },
  {
   "cell_type": "code",
   "execution_count": 15,
   "metadata": {},
   "outputs": [],
   "source": [
    "full_patch_dict = json.load(open('../../dmu4/dmu4_VIDEO/slurm/sxds_patch_job_dict_219.json', 'r'))"
   ]
  },
  {
   "cell_type": "code",
   "execution_count": 16,
   "metadata": {},
   "outputs": [
    {
     "data": {
      "text/plain": [
       "'{\"0\": [8766, \"5,1\"], \"1\": [8766, \"5,0\"], \"2\": [8766, \"3,2\"], \"3\": [8766, \"4,2\"], \"4\": [8766, \"0,3\"], \"5\": [8766, \"2,0\"], \"6\": [8766, \"1,0\"], \"7\": [8766, \"6,2\"], \"8\": [8766, \"0,0\"], \"9\": [8766, \"0,2\"], \"10\": [8766, \"1,2\"], \"11\": [8766, \"7,2\"], \"12\": [8766, \"3,0\"], \"13\": [8766, \"8,2\"], \"14\": [8766, \"1,3\"], \"15\": [8766, \"4,1\"], \"16\": [8766, \"2,3\"], \"17\": [8766, \"7,0\"], \"18\": [8766, \"6,0\"], \"19\": [8766, \"7,1\"], \"20\": [8766, \"5,2\"], \"21\": [8766, \"8,0\"], \"22\": [8766, \"3,3\"], \"23\": [8766, \"8,1\"], \"24\": [8766, \"2,1\"], \"25\": [8766, \"1,1\"], \"26\": [8766, \"2,2\"], \"27\": [8766, \"3,1\"], \"28\": [8766, \"0,1\"], \"29\": [8766, \"4,0\"], \"30\": [8766, \"6,1\"], \"31\": [8524, \"4,7\"], \"32\": [8524, \"5,3\"], \"33\": [8524, \"5,5\"], \"34\": [8524, \"7,7\"], \"35\": [8524, \"6,2\"], \"36\": [8524, \"1,6\"], \"37\": [8524, \"8,4\"], \"38\": [8524, \"5,7\"], \"39\": [8524, \"8,7\"], \"40\": [8524, \"1,2\"], \"41\": [8524, \"7,5\"], \"42\": [8524, \"3,2\"], \"43\": [8524, \"3,5\"], \"44\": [8524, \"4,2\"], \"45\": [8524, \"3,8\"], \"46\": [8524, \"1,5\"], \"47\": [8524, \"6,3\"], \"48\": [8524, \"8,2\"], \"49\": [8524, \"6,6\"], \"50\": [8524, \"2,3\"], \"51\": [8524, \"7,3\"], \"52\": [8524, \"1,8\"], \"53\": [8524, \"8,5\"], \"54\": [8524, \"8,6\"], \"55\": [8524, \"3,3\"], \"56\": [8524, \"7,4\"], \"57\": [8524, \"2,7\"], \"58\": [8524, \"7,8\"], \"59\": [8524, \"8,8\"], \"60\": [8524, \"6,4\"], \"61\": [8524, \"2,4\"], \"62\": [8524, \"0,4\"], \"63\": [8524, \"4,6\"], \"64\": [8524, \"4,5\"], \"65\": [8524, \"2,8\"], \"66\": [8524, \"2,6\"], \"67\": [8524, \"1,7\"], \"68\": [8524, \"2,5\"], \"69\": [8524, \"7,2\"], \"70\": [8524, \"5,8\"], \"71\": [8524, \"3,4\"], \"72\": [8524, \"5,6\"], \"73\": [8524, \"5,2\"], \"74\": [8524, \"4,3\"], \"75\": [8524, \"0,5\"], \"76\": [8524, \"4,4\"], \"77\": [8524, \"2,2\"], \"78\": [8524, \"0,6\"], \"79\": [8524, \"6,5\"], \"80\": [8524, \"8,3\"], \"81\": [8524, \"0,3\"], \"82\": [8524, \"4,8\"], \"83\": [8524, \"3,7\"], \"84\": [8524, \"0,2\"], \"85\": [8524, \"3,6\"], \"86\": [8524, \"1,3\"], \"87\": [8524, \"1,4\"], \"88\": [8524, \"0,8\"], \"89\": [8524, \"6,7\"], \"90\": [8524, \"6,8\"], \"91\": [8524, \"7,6\"], \"92\": [8524, \"0,7\"], \"93\": [8524, \"5,4\"], \"94\": [8765, \"2,0\"], \"95\": [8765, \"0,0\"], \"96\": [8765, \"6,2\"], \"97\": [8765, \"4,1\"], \"98\": [8765, \"6,0\"], \"99\": [8765, \"5,2\"], \"100\": [8765, \"2,1\"], \"101\": [8765, \"2,2\"], \"102\": [8765, \"1,2\"], \"103\": [8765, \"3,1\"], \"104\": [8765, \"3,0\"], \"105\": [8765, \"0,1\"], \"106\": [8765, \"4,0\"], \"107\": [8765, \"5,1\"], \"108\": [8765, \"5,0\"], \"109\": [8765, \"3,2\"], \"110\": [8765, \"4,2\"], \"111\": [8765, \"0,2\"], \"112\": [8765, \"1,1\"], \"113\": [8765, \"1,0\"], \"114\": [8765, \"6,1\"], \"115\": [8523, \"4,7\"], \"116\": [8523, \"5,3\"], \"117\": [8523, \"5,5\"], \"118\": [8523, \"1,6\"], \"119\": [8523, \"6,2\"], \"120\": [8523, \"5,7\"], \"121\": [8523, \"1,2\"], \"122\": [8523, \"3,2\"], \"123\": [8523, \"3,5\"], \"124\": [8523, \"4,2\"], \"125\": [8523, \"3,8\"], \"126\": [8523, \"1,5\"], \"127\": [8523, \"6,3\"], \"128\": [8523, \"6,6\"], \"129\": [8523, \"2,3\"], \"130\": [8523, \"1,8\"], \"131\": [8523, \"3,3\"], \"132\": [8523, \"2,7\"], \"133\": [8523, \"6,4\"], \"134\": [8523, \"2,4\"], \"135\": [8523, \"0,4\"], \"136\": [8523, \"4,6\"], \"137\": [8523, \"4,5\"], \"138\": [8523, \"2,8\"], \"139\": [8523, \"2,6\"], \"140\": [8523, \"1,7\"], \"141\": [8523, \"2,5\"], \"142\": [8523, \"5,8\"], \"143\": [8523, \"3,4\"], \"144\": [8523, \"5,6\"], \"145\": [8523, \"5,2\"], \"146\": [8523, \"0,5\"], \"147\": [8523, \"4,3\"], \"148\": [8523, \"4,4\"], \"149\": [8523, \"2,2\"], \"150\": [8523, \"0,6\"], \"151\": [8523, \"6,5\"], \"152\": [8523, \"0,3\"], \"153\": [8523, \"4,8\"], \"154\": [8523, \"3,7\"], \"155\": [8523, \"0,2\"], \"156\": [8523, \"3,6\"], \"157\": [8523, \"1,3\"], \"158\": [8523, \"1,4\"], \"159\": [8523, \"0,8\"], \"160\": [8523, \"6,7\"], \"161\": [8523, \"6,8\"], \"162\": [8523, \"0,7\"], \"163\": [8523, \"5,4\"], \"164\": [8767, \"5,3\"], \"165\": [8767, \"6,2\"], \"166\": [8767, \"7,2\"], \"167\": [8767, \"4,1\"], \"168\": [8767, \"7,0\"], \"169\": [8767, \"6,0\"], \"170\": [8767, \"7,1\"], \"171\": [8767, \"5,2\"], \"172\": [8767, \"4,3\"], \"173\": [8767, \"8,0\"], \"174\": [8767, \"4,0\"], \"175\": [8767, \"8,3\"], \"176\": [8767, \"5,1\"], \"177\": [8767, \"5,0\"], \"178\": [8767, \"4,2\"], \"179\": [8767, \"6,3\"], \"180\": [8767, \"8,2\"], \"181\": [8767, \"7,3\"], \"182\": [8767, \"8,1\"], \"183\": [8767, \"6,1\"], \"184\": [8525, \"4,7\"], \"185\": [8525, \"5,3\"], \"186\": [8525, \"5,5\"], \"187\": [8525, \"4,5\"], \"188\": [8525, \"7,7\"], \"189\": [8525, \"6,2\"], \"190\": [8525, \"7,2\"], \"191\": [8525, \"5,8\"], \"192\": [8525, \"5,6\"], \"193\": [8525, \"8,4\"], \"194\": [8525, \"5,2\"], \"195\": [8525, \"4,3\"], \"196\": [8525, \"4,4\"], \"197\": [8525, \"5,7\"], \"198\": [8525, \"8,7\"], \"199\": [8525, \"6,5\"], \"200\": [8525, \"7,5\"], \"201\": [8525, \"8,3\"], \"202\": [8525, \"4,2\"], \"203\": [8525, \"4,8\"], \"204\": [8525, \"6,3\"], \"205\": [8525, \"8,2\"], \"206\": [8525, \"6,6\"], \"207\": [8525, \"7,3\"], \"208\": [8525, \"8,5\"], \"209\": [8525, \"8,6\"], \"210\": [8525, \"7,4\"], \"211\": [8525, \"7,8\"], \"212\": [8525, \"8,8\"], \"213\": [8525, \"6,4\"], \"214\": [8525, \"6,7\"], \"215\": [8525, \"6,8\"], \"216\": [8525, \"7,6\"], \"217\": [8525, \"4,6\"], \"218\": [8525, \"5,4\"]}'"
      ]
     },
     "execution_count": 16,
     "metadata": {},
     "output_type": "execute_result"
    }
   ],
   "source": [
    "json.dumps(full_patch_dict)"
   ]
  },
  {
   "cell_type": "code",
   "execution_count": 24,
   "metadata": {},
   "outputs": [],
   "source": [
    "def addFlux(cat, sources, photoCalib):\n",
    "    \"\"\"Add magnitudes and fluxes to an astropy catalogues with instrument fluxes\"\"\"\n",
    "    for c in cat.colnames:\n",
    "        if (c.endswith('_instFlux')):\n",
    "            try:\n",
    "                mags = photoCalib.instFluxToMagnitude(sources, c.replace('_instFlux',''))\n",
    "                flux = photoCalib.instFluxToNanojansky(sources, c.replace('_instFlux',''))\n",
    "                cat[\"{}_mag\".format(c.replace('_instFlux',''))] = mags[:,0]\n",
    "                cat[\"{}_mag\".format(c.replace('_instFlux',''))].unit = u.mag\n",
    "                cat[\"{}_mag\".format(c.replace('_instFlux',''))].description = cat[c].description.replace(\n",
    "                    'instFlux', 'mag')\n",
    "                \n",
    "                cat[\"{}_magErr\".format(c.replace('_instFlux',''))] = mags[:,1]\n",
    "                cat[\"{}_magErr\".format(c.replace('_instFlux',''))].unit = u.mag\n",
    "                cat[\"{}_magErr\".format(c.replace('_instFlux',''))].description = cat[c].description.replace(\n",
    "                    'instFlux', 'mag')\n",
    "                \n",
    "                cat[\"{}_flux\".format(c.replace('_instFlux',''))] = flux[:,0]\n",
    "                cat[\"{}_flux\".format(c.replace('_instFlux',''))].unit = u.nJy\n",
    "                cat[\"{}_flux\".format(c.replace('_instFlux',''))].description = cat[c].description.replace(\n",
    "                    'instFlux', 'flux')\n",
    "                \n",
    "                cat[\"{}_fluxErr\".format(c.replace('_instFlux',''))] = flux[:,1]\n",
    "                cat[\"{}_fluxErr\".format(c.replace('_instFlux',''))].unit = u.nJy\n",
    "                cat[\"{}_fluxErr\".format(c.replace('_instFlux',''))].description = cat[c].description.replace(\n",
    "                    'instFlux', 'flux')\n",
    "            except:\n",
    "                pass\n",
    "    return cat\n",
    "\n",
    "def makeCat(tract, patch, BUTLER_LOC,DATA=DATA,writeBandCats=True):\n",
    "    \"\"\"make the final catalogue on a given patch for later stacking\"\"\"\n",
    "    cat =Table()\n",
    "    tract = int(tract)\n",
    "    for band in allBands:\n",
    "        #We must keep columns under 68 characters by replacing long names\n",
    "        mapping = { \n",
    "            'SecondDerivative':'SD', \n",
    "            'DoubleShapelet':'DS',\n",
    "            'badCentroid':'BC',\n",
    "            'badInitialCentroid':'BIC',\n",
    "            'sincCoeffsTruncated':'SCT',\n",
    "        }\n",
    "\n",
    "        try:\n",
    "            CoaddCalexp = butler.get('deepCoadd_calexp',  {'filter': band, 'tract': tract, 'patch': patch})\n",
    "            CoaddPhotoCalib = CoaddCalexp.getPhotoCalib()\n",
    "        \n",
    "            measSources = butler.get('deepCoadd_meas', {'filter': band, 'tract': tract, 'patch': patch})\n",
    "            measCat = measSources.asAstropy()\n",
    "            measCat = addFlux(measCat, measSources, CoaddPhotoCalib)\n",
    "            for c in measCat.colnames:    \n",
    "                if c != 'id':\n",
    "                    measCat[c].name = \"{}_{}_{}\".format(band,'m', c)\n",
    "                \n",
    "            forcedSources = butler.get('deepCoadd_forced_src', {'filter': band, 'tract': tract, 'patch': patch})\n",
    "            forcedCat = forcedSources.asAstropy()\n",
    "            forcedCat = addFlux(forcedCat, forcedSources, CoaddPhotoCalib)\n",
    "            for c in forcedCat.colnames:    \n",
    "                if c != 'id':\n",
    "                    forcedCat[c].name = \"{}_{}_{}\".format(band,'f', c)\n",
    "                    \n",
    "            bandCat = join(measCat,forcedCat,join_type='outer')\n",
    "            \n",
    "            for c in bandCat.colnames:    \n",
    "                if c != 'id':\n",
    "                    newName = c\n",
    "                    for k in mapping:\n",
    "                        newName = newName.replace(k, mapping[k])\n",
    "                    bandCat[c].name = newName\n",
    "                    if len(newName)>68:\n",
    "                        print('column name {} too long for fits writing.'.format(newName))\n",
    "            if writeBandCats:\n",
    "                bandCat.write(DATA+'/{}_{}_{}_fullCat.fits'.format(band,tract,patch), overwrite=True)\n",
    "                \n",
    "            if len(cat)==0:\n",
    "                #On first band no join\n",
    "                cat = bandCat\n",
    "            else:\n",
    "                #After first band join tables in\n",
    "                cat = join(cat, bandCat,join_type='outer')\n",
    "  \n",
    "            \n",
    "        except:\n",
    "            warnings.warn(\"Band {} failed.\".format(band))\n",
    "                \n",
    "\n",
    "    if len(cat) == 0:\n",
    "        return None\n",
    "    return cat.copy()\n",
    "\n",
    "#makeCat(8524, '3,3', BUTLER_LOC)"
   ]
  },
  {
   "cell_type": "code",
   "execution_count": 25,
   "metadata": {},
   "outputs": [
    {
     "ename": "AttributeError",
     "evalue": "'NoneType' object has no attribute 'colnames'",
     "output_type": "error",
     "traceback": [
      "\u001b[0;31m---------------------------------------------------------------------------\u001b[0m",
      "\u001b[0;31mAttributeError\u001b[0m                            Traceback (most recent call last)",
      "\u001b[0;32m<ipython-input-25-1e01a1dfb13a>\u001b[0m in \u001b[0;36m<module>\u001b[0;34m\u001b[0m\n\u001b[1;32m      1\u001b[0m \u001b[0mcat\u001b[0m \u001b[0;34m=\u001b[0m \u001b[0mmakeCat\u001b[0m\u001b[0;34m(\u001b[0m\u001b[0;36m8524\u001b[0m\u001b[0;34m,\u001b[0m \u001b[0;34m'3,5'\u001b[0m\u001b[0;34m,\u001b[0m \u001b[0mBUTLER_LOC\u001b[0m\u001b[0;34m)\u001b[0m\u001b[0;34m\u001b[0m\u001b[0;34m\u001b[0m\u001b[0m\n\u001b[1;32m      2\u001b[0m \u001b[0;31m#cat[cat.colnames[0:999]].write(DATA+'/full_cat_{}_{}.fits'.format(8524, '3,3'), overwrite=True)\u001b[0m\u001b[0;34m\u001b[0m\u001b[0;34m\u001b[0m\u001b[0;34m\u001b[0m\u001b[0m\n\u001b[0;32m----> 3\u001b[0;31m \u001b[0mprint\u001b[0m\u001b[0;34m(\u001b[0m\u001b[0;34m'success'\u001b[0m\u001b[0;34m,\u001b[0m \u001b[0mlen\u001b[0m\u001b[0;34m(\u001b[0m\u001b[0mcat\u001b[0m\u001b[0;34m.\u001b[0m\u001b[0mcolnames\u001b[0m\u001b[0;34m)\u001b[0m\u001b[0;34m)\u001b[0m\u001b[0;34m\u001b[0m\u001b[0;34m\u001b[0m\u001b[0m\n\u001b[0m",
      "\u001b[0;31mAttributeError\u001b[0m: 'NoneType' object has no attribute 'colnames'"
     ]
    }
   ],
   "source": [
    "cat = makeCat(8524, '3,5', BUTLER_LOC)\n",
    "#cat[cat.colnames[0:999]].write(DATA+'/full_cat_{}_{}.fits'.format(8524, '3,3'), overwrite=True)\n",
    "print('success', len(cat.colnames))"
   ]
  },
  {
   "cell_type": "code",
   "execution_count": 120,
   "metadata": {},
   "outputs": [],
   "source": [
    "measSources = butler.get('deepCoadd_meas', {'filter': 'VISTA-Ks', 'tract': 8524, 'patch': '3,5'})"
   ]
  },
  {
   "cell_type": "code",
   "execution_count": 121,
   "metadata": {},
   "outputs": [
    {
     "data": {
      "text/plain": [
       "'Set to 1 for extended sources, 0 for point sources.'"
      ]
     },
     "execution_count": 121,
     "metadata": {},
     "output_type": "execute_result"
    }
   ],
   "source": [
    "measSources.schema.find('base_ClassificationExtendedness_value').field.getDoc()"
   ]
  },
  {
   "cell_type": "code",
   "execution_count": 122,
   "metadata": {},
   "outputs": [
    {
     "data": {
      "text/plain": [
       "array([nan, nan, nan, ...,  0., nan, nan])"
      ]
     },
     "execution_count": 122,
     "metadata": {},
     "output_type": "execute_result"
    }
   ],
   "source": [
    "measSources['base_ClassificationExtendedness_value']"
   ]
  },
  {
   "cell_type": "code",
   "execution_count": 129,
   "metadata": {},
   "outputs": [
    {
     "data": {
      "text/html": [
       "<i>Table length=5</i>\n",
       "<table id=\"table140693335664144\" class=\"table-striped table-bordered table-condensed\">\n",
       "<thead><tr><th>id</th><th>coord_ra</th><th>coord_dec</th><th>parent</th><th>merge_footprint_HSC-I</th><th>merge_footprint_HSC-R</th><th>merge_footprint_HSC-Z</th><th>merge_footprint_HSC-Y</th><th>merge_footprint_HSC-G</th><th>merge_footprint_VISTA-Z</th><th>merge_footprint_VISTA-Y</th><th>merge_footprint_VISTA-J</th><th>merge_footprint_VISTA-H</th><th>merge_footprint_VISTA-Ks</th><th>merge_footprint_sky</th><th>merge_peak_HSC-I</th><th>merge_peak_HSC-R</th><th>merge_peak_HSC-Z</th><th>merge_peak_HSC-Y</th><th>merge_peak_HSC-G</th><th>merge_peak_VISTA-Z</th><th>merge_peak_VISTA-Y</th><th>merge_peak_VISTA-J</th><th>merge_peak_VISTA-H</th><th>merge_peak_VISTA-Ks</th><th>merge_peak_sky</th><th>deblend_nChild</th><th>deblend_deblendedAsPsf</th><th>deblend_psfCenter_x</th><th>deblend_psfCenter_y</th><th>deblend_psf_instFlux</th><th>deblend_tooManyPeaks</th><th>deblend_parentTooBig</th><th>deblend_masked</th><th>deblend_skipped</th><th>deblend_rampedTemplate</th><th>deblend_patchedTemplate</th><th>deblend_hasStrayFlux</th><th>deblend_peak_center_x</th><th>deblend_peak_center_y</th><th>deblend_peakId</th><th>deblend_nPeaks</th><th>deblend_parentNPeaks</th><th>base_NaiveCentroid_x</th><th>base_NaiveCentroid_y</th><th>base_NaiveCentroid_flag</th><th>base_NaiveCentroid_flag_noCounts</th><th>base_NaiveCentroid_flag_edge</th><th>base_NaiveCentroid_flag_resetToPeak</th><th>base_SdssCentroid_x</th><th>slot_Centroid_x</th><th>base_SdssCentroid_y</th><th>slot_Centroid_y</th><th>base_SdssCentroid_xErr</th><th>slot_Centroid_xErr</th><th>base_SdssCentroid_yErr</th><th>slot_Centroid_yErr</th><th>base_SdssCentroid_flag</th><th>base_CircularApertureFlux_flag_badCentroid</th><th>base_GaussianFlux_flag_badCentroid</th><th>base_InputCount_flag_badCentroid</th><th>base_LocalBackground_flag_badCentroid</th><th>base_NaiveCentroid_flag_badInitialCentroid</th><th>base_PsfFlux_flag_badCentroid</th><th>base_SdssShape_flag_badCentroid</th><th>base_Variance_flag_badCentroid</th><th>ext_convolved_ConvolvedFlux_0_flag_badCentroid</th><th>ext_convolved_ConvolvedFlux_1_flag_badCentroid</th><th>ext_convolved_ConvolvedFlux_2_flag_badCentroid</th><th>ext_convolved_ConvolvedFlux_flag_badCentroid</th><th>ext_photometryKron_KronFlux_flag_badInitialCentroid</th><th>ext_shapeHSM_HsmPsfMoments_flag_badCentroid</th><th>ext_shapeHSM_HsmShapeRegauss_flag_badCentroid</th><th>ext_shapeHSM_HsmSourceMomentsRound_flag_badCentroid</th><th>ext_shapeHSM_HsmSourceMoments_flag_badCentroid</th><th>modelfit_DoubleShapeletPsfApprox_flag_badCentroid</th><th>slot_Centroid_flag</th><th>base_SdssCentroid_flag_edge</th><th>base_CircularApertureFlux_flag_badCentroid_edge</th><th>base_GaussianFlux_flag_badCentroid_edge</th><th>base_InputCount_flag_badCentroid_edge</th><th>base_LocalBackground_flag_badCentroid_edge</th><th>base_NaiveCentroid_flag_badInitialCentroid_edge</th><th>base_PsfFlux_flag_badCentroid_edge</th><th>base_SdssShape_flag_badCentroid_edge</th><th>base_Variance_flag_badCentroid_edge</th><th>ext_convolved_ConvolvedFlux_0_flag_badCentroid_edge</th><th>ext_convolved_ConvolvedFlux_1_flag_badCentroid_edge</th><th>ext_convolved_ConvolvedFlux_2_flag_badCentroid_edge</th><th>ext_convolved_ConvolvedFlux_flag_badCentroid_edge</th><th>ext_photometryKron_KronFlux_flag_badInitialCentroid_edge</th><th>ext_shapeHSM_HsmPsfMoments_flag_badCentroid_edge</th><th>ext_shapeHSM_HsmShapeRegauss_flag_badCentroid_edge</th><th>ext_shapeHSM_HsmSourceMomentsRound_flag_badCentroid_edge</th><th>ext_shapeHSM_HsmSourceMoments_flag_badCentroid_edge</th><th>modelfit_DoubleShapeletPsfApprox_flag_badCentroid_edge</th><th>slot_Centroid_flag_edge</th><th>base_SdssCentroid_flag_noSecondDerivative</th><th>base_CircularApertureFlux_flag_badCentroid_noSecondDerivative</th><th>base_GaussianFlux_flag_badCentroid_noSecondDerivative</th><th>base_InputCount_flag_badCentroid_noSecondDerivative</th><th>base_LocalBackground_flag_badCentroid_noSecondDerivative</th><th>base_NaiveCentroid_flag_badInitialCentroid_noSecondDerivative</th><th>base_PsfFlux_flag_badCentroid_noSecondDerivative</th><th>base_SdssShape_flag_badCentroid_noSecondDerivative</th><th>base_Variance_flag_badCentroid_noSecondDerivative</th><th>ext_convolved_ConvolvedFlux_0_flag_badCentroid_noSecondDerivative</th><th>ext_convolved_ConvolvedFlux_1_flag_badCentroid_noSecondDerivative</th><th>ext_convolved_ConvolvedFlux_2_flag_badCentroid_noSecondDerivative</th><th>ext_convolved_ConvolvedFlux_flag_badCentroid_noSecondDerivative</th><th>ext_photometryKron_KronFlux_flag_badInitialCentroid_noSecondDerivative</th><th>ext_shapeHSM_HsmPsfMoments_flag_badCentroid_noSecondDerivative</th><th>ext_shapeHSM_HsmShapeRegauss_flag_badCentroid_noSecondDerivative</th><th>ext_shapeHSM_HsmSourceMomentsRound_flag_badCentroid_noSecondDerivative</th><th>ext_shapeHSM_HsmSourceMoments_flag_badCentroid_noSecondDerivative</th><th>modelfit_DoubleShapeletPsfApprox_flag_badCentroid_noSecondDerivative</th><th>slot_Centroid_flag_noSecondDerivative</th><th>base_SdssCentroid_flag_almostNoSecondDerivative</th><th>base_CircularApertureFlux_flag_badCentroid_almostNoSecondDerivative</th><th>base_GaussianFlux_flag_badCentroid_almostNoSecondDerivative</th><th>base_InputCount_flag_badCentroid_almostNoSecondDerivative</th><th>base_LocalBackground_flag_badCentroid_almostNoSecondDerivative</th><th>base_NaiveCentroid_flag_badInitialCentroid_almostNoSecondDerivative</th><th>base_PsfFlux_flag_badCentroid_almostNoSecondDerivative</th><th>base_SdssShape_flag_badCentroid_almostNoSecondDerivative</th><th>base_Variance_flag_badCentroid_almostNoSecondDerivative</th><th>ext_convolved_ConvolvedFlux_0_flag_badCentroid_almostNoSecondDerivative</th><th>ext_convolved_ConvolvedFlux_1_flag_badCentroid_almostNoSecondDerivative</th><th>ext_convolved_ConvolvedFlux_2_flag_badCentroid_almostNoSecondDerivative</th><th>ext_convolved_ConvolvedFlux_flag_badCentroid_almostNoSecondDerivative</th><th>ext_photometryKron_KronFlux_flag_badInitialCentroid_almostNoSecondDerivative</th><th>ext_shapeHSM_HsmPsfMoments_flag_badCentroid_almostNoSecondDerivative</th><th>ext_shapeHSM_HsmShapeRegauss_flag_badCentroid_almostNoSecondDerivative</th><th>ext_shapeHSM_HsmSourceMomentsRound_flag_badCentroid_almostNoSecondDerivative</th><th>ext_shapeHSM_HsmSourceMoments_flag_badCentroid_almostNoSecondDerivative</th><th>modelfit_DoubleShapeletPsfApprox_flag_badCentroid_almostNoSecondDerivative</th><th>slot_Centroid_flag_almostNoSecondDerivative</th><th>base_SdssCentroid_flag_notAtMaximum</th><th>base_CircularApertureFlux_flag_badCentroid_notAtMaximum</th><th>base_GaussianFlux_flag_badCentroid_notAtMaximum</th><th>base_InputCount_flag_badCentroid_notAtMaximum</th><th>base_LocalBackground_flag_badCentroid_notAtMaximum</th><th>base_NaiveCentroid_flag_badInitialCentroid_notAtMaximum</th><th>base_PsfFlux_flag_badCentroid_notAtMaximum</th><th>base_SdssShape_flag_badCentroid_notAtMaximum</th><th>base_Variance_flag_badCentroid_notAtMaximum</th><th>ext_convolved_ConvolvedFlux_0_flag_badCentroid_notAtMaximum</th><th>ext_convolved_ConvolvedFlux_1_flag_badCentroid_notAtMaximum</th><th>ext_convolved_ConvolvedFlux_2_flag_badCentroid_notAtMaximum</th><th>ext_convolved_ConvolvedFlux_flag_badCentroid_notAtMaximum</th><th>ext_photometryKron_KronFlux_flag_badInitialCentroid_notAtMaximum</th><th>ext_shapeHSM_HsmPsfMoments_flag_badCentroid_notAtMaximum</th><th>ext_shapeHSM_HsmShapeRegauss_flag_badCentroid_notAtMaximum</th><th>ext_shapeHSM_HsmSourceMomentsRound_flag_badCentroid_notAtMaximum</th><th>ext_shapeHSM_HsmSourceMoments_flag_badCentroid_notAtMaximum</th><th>modelfit_DoubleShapeletPsfApprox_flag_badCentroid_notAtMaximum</th><th>slot_Centroid_flag_notAtMaximum</th><th>base_SdssCentroid_flag_resetToPeak</th><th>base_CircularApertureFlux_flag_badCentroid_resetToPeak</th><th>base_GaussianFlux_flag_badCentroid_resetToPeak</th><th>base_InputCount_flag_badCentroid_resetToPeak</th><th>base_LocalBackground_flag_badCentroid_resetToPeak</th><th>base_NaiveCentroid_flag_badInitialCentroid_resetToPeak</th><th>base_PsfFlux_flag_badCentroid_resetToPeak</th><th>base_SdssShape_flag_badCentroid_resetToPeak</th><th>base_Variance_flag_badCentroid_resetToPeak</th><th>ext_convolved_ConvolvedFlux_0_flag_badCentroid_resetToPeak</th><th>ext_convolved_ConvolvedFlux_1_flag_badCentroid_resetToPeak</th><th>ext_convolved_ConvolvedFlux_2_flag_badCentroid_resetToPeak</th><th>ext_convolved_ConvolvedFlux_flag_badCentroid_resetToPeak</th><th>ext_photometryKron_KronFlux_flag_badInitialCentroid_resetToPeak</th><th>ext_shapeHSM_HsmPsfMoments_flag_badCentroid_resetToPeak</th><th>ext_shapeHSM_HsmShapeRegauss_flag_badCentroid_resetToPeak</th><th>ext_shapeHSM_HsmSourceMomentsRound_flag_badCentroid_resetToPeak</th><th>ext_shapeHSM_HsmSourceMoments_flag_badCentroid_resetToPeak</th><th>modelfit_DoubleShapeletPsfApprox_flag_badCentroid_resetToPeak</th><th>slot_Centroid_flag_resetToPeak</th><th>base_SdssCentroid_flag_badError</th><th>base_CircularApertureFlux_flag_badCentroid_badError</th><th>base_GaussianFlux_flag_badCentroid_badError</th><th>base_InputCount_flag_badCentroid_badError</th><th>base_LocalBackground_flag_badCentroid_badError</th><th>base_NaiveCentroid_flag_badInitialCentroid_badError</th><th>base_PsfFlux_flag_badCentroid_badError</th><th>base_SdssShape_flag_badCentroid_badError</th><th>base_Variance_flag_badCentroid_badError</th><th>ext_convolved_ConvolvedFlux_0_flag_badCentroid_badError</th><th>ext_convolved_ConvolvedFlux_1_flag_badCentroid_badError</th><th>ext_convolved_ConvolvedFlux_2_flag_badCentroid_badError</th><th>ext_convolved_ConvolvedFlux_flag_badCentroid_badError</th><th>ext_photometryKron_KronFlux_flag_badInitialCentroid_badError</th><th>ext_shapeHSM_HsmPsfMoments_flag_badCentroid_badError</th><th>ext_shapeHSM_HsmShapeRegauss_flag_badCentroid_badError</th><th>ext_shapeHSM_HsmSourceMomentsRound_flag_badCentroid_badError</th><th>ext_shapeHSM_HsmSourceMoments_flag_badCentroid_badError</th><th>modelfit_DoubleShapeletPsfApprox_flag_badCentroid_badError</th><th>slot_Centroid_flag_badError</th><th>base_Blendedness_old</th><th>base_Blendedness_raw</th><th>base_Blendedness_raw_child_instFlux</th><th>base_Blendedness_raw_parent_instFlux</th><th>base_Blendedness_abs</th><th>base_Blendedness_abs_child_instFlux</th><th>base_Blendedness_abs_parent_instFlux</th><th>base_Blendedness_raw_child_xx</th><th>base_Blendedness_raw_child_yy</th><th>base_Blendedness_raw_child_xy</th><th>base_Blendedness_raw_parent_xx</th><th>base_Blendedness_raw_parent_yy</th><th>base_Blendedness_raw_parent_xy</th><th>base_Blendedness_abs_child_xx</th><th>base_Blendedness_abs_child_yy</th><th>base_Blendedness_abs_child_xy</th><th>base_Blendedness_abs_parent_xx</th><th>base_Blendedness_abs_parent_yy</th><th>base_Blendedness_abs_parent_xy</th><th>base_Blendedness_flag</th><th>base_Blendedness_flag_noCentroid</th><th>base_Blendedness_flag_noShape</th><th>base_InputCount_flag</th><th>base_InputCount_value</th><th>base_InputCount_flag_noInputs</th><th>base_SdssShape_xx</th><th>base_SdssShape_yy</th><th>base_SdssShape_xy</th><th>base_SdssShape_xxErr</th><th>base_SdssShape_yyErr</th><th>base_SdssShape_xyErr</th><th>base_SdssShape_x</th><th>base_SdssShape_y</th><th>base_SdssShape_instFlux</th><th>base_SdssShape_instFluxErr</th><th>base_SdssShape_psf_xx</th><th>base_SdssShape_psf_yy</th><th>base_SdssShape_psf_xy</th><th>base_SdssShape_instFlux_xx_Cov</th><th>base_SdssShape_instFlux_yy_Cov</th><th>base_SdssShape_instFlux_xy_Cov</th><th>base_SdssShape_flag</th><th>base_SdssShape_flag_unweightedBad</th><th>base_SdssShape_flag_unweighted</th><th>base_SdssShape_flag_shift</th><th>base_SdssShape_flag_maxIter</th><th>base_SdssShape_flag_psf</th><th>ext_shapeHSM_HsmPsfMoments_x</th><th>slot_PsfShape_x</th><th>ext_shapeHSM_HsmPsfMoments_y</th><th>slot_PsfShape_y</th><th>ext_shapeHSM_HsmPsfMoments_xx</th><th>slot_PsfShape_xx</th><th>ext_shapeHSM_HsmPsfMoments_yy</th><th>slot_PsfShape_yy</th><th>ext_shapeHSM_HsmPsfMoments_xy</th><th>slot_PsfShape_xy</th><th>ext_shapeHSM_HsmPsfMoments_flag</th><th>slot_PsfShape_flag</th><th>ext_shapeHSM_HsmPsfMoments_flag_no_pixels</th><th>slot_PsfShape_flag_no_pixels</th><th>ext_shapeHSM_HsmPsfMoments_flag_not_contained</th><th>slot_PsfShape_flag_not_contained</th><th>ext_shapeHSM_HsmPsfMoments_flag_parent_source</th><th>slot_PsfShape_flag_parent_source</th><th>ext_shapeHSM_HsmShapeRegauss_e1</th><th>ext_shapeHSM_HsmShapeRegauss_e2</th><th>ext_shapeHSM_HsmShapeRegauss_sigma</th><th>ext_shapeHSM_HsmShapeRegauss_resolution</th><th>ext_shapeHSM_HsmShapeRegauss_flag</th><th>ext_shapeHSM_HsmShapeRegauss_flag_no_pixels</th><th>ext_shapeHSM_HsmShapeRegauss_flag_not_contained</th><th>ext_shapeHSM_HsmShapeRegauss_flag_parent_source</th><th>ext_shapeHSM_HsmShapeRegauss_flag_galsim</th><th>ext_shapeHSM_HsmSourceMoments_x</th><th>slot_Shape_x</th><th>ext_shapeHSM_HsmSourceMoments_y</th><th>slot_Shape_y</th><th>ext_shapeHSM_HsmSourceMoments_xx</th><th>slot_Shape_xx</th><th>ext_shapeHSM_HsmSourceMoments_yy</th><th>slot_Shape_yy</th><th>ext_shapeHSM_HsmSourceMoments_xy</th><th>slot_Shape_xy</th><th>ext_shapeHSM_HsmSourceMoments_flag</th><th>base_GaussianFlux_flag_badShape</th><th>slot_Shape_flag</th><th>ext_shapeHSM_HsmSourceMoments_flag_no_pixels</th><th>base_GaussianFlux_flag_badShape_no_pixels</th><th>slot_Shape_flag_no_pixels</th><th>ext_shapeHSM_HsmSourceMoments_flag_not_contained</th><th>base_GaussianFlux_flag_badShape_not_contained</th><th>slot_Shape_flag_not_contained</th><th>ext_shapeHSM_HsmSourceMoments_flag_parent_source</th><th>base_GaussianFlux_flag_badShape_parent_source</th><th>slot_Shape_flag_parent_source</th><th>ext_shapeHSM_HsmSourceMomentsRound_x</th><th>slot_ShapeRound_x</th><th>ext_shapeHSM_HsmSourceMomentsRound_y</th><th>slot_ShapeRound_y</th><th>ext_shapeHSM_HsmSourceMomentsRound_xx</th><th>slot_ShapeRound_xx</th><th>ext_shapeHSM_HsmSourceMomentsRound_yy</th><th>slot_ShapeRound_yy</th><th>ext_shapeHSM_HsmSourceMomentsRound_xy</th><th>slot_ShapeRound_xy</th><th>ext_shapeHSM_HsmSourceMomentsRound_flag</th><th>slot_ShapeRound_flag</th><th>ext_shapeHSM_HsmSourceMomentsRound_flag_no_pixels</th><th>slot_ShapeRound_flag_no_pixels</th><th>ext_shapeHSM_HsmSourceMomentsRound_flag_not_contained</th><th>slot_ShapeRound_flag_not_contained</th><th>ext_shapeHSM_HsmSourceMomentsRound_flag_parent_source</th><th>slot_ShapeRound_flag_parent_source</th><th>ext_shapeHSM_HsmSourceMomentsRound_Flux</th><th>slot_ShapeRound_Flux</th><th>modelfit_DoubleShapeletPsfApprox_0_xx</th><th>modelfit_DoubleShapeletPsfApprox_0_yy</th><th>modelfit_DoubleShapeletPsfApprox_0_xy</th><th>modelfit_DoubleShapeletPsfApprox_0_x</th><th>modelfit_DoubleShapeletPsfApprox_0_y</th><th>modelfit_DoubleShapeletPsfApprox_0_0</th><th>modelfit_DoubleShapeletPsfApprox_0_1</th><th>modelfit_DoubleShapeletPsfApprox_0_2</th><th>modelfit_DoubleShapeletPsfApprox_0_3</th><th>modelfit_DoubleShapeletPsfApprox_0_4</th><th>modelfit_DoubleShapeletPsfApprox_0_5</th><th>modelfit_DoubleShapeletPsfApprox_1_xx</th><th>modelfit_DoubleShapeletPsfApprox_1_yy</th><th>modelfit_DoubleShapeletPsfApprox_1_xy</th><th>modelfit_DoubleShapeletPsfApprox_1_x</th><th>modelfit_DoubleShapeletPsfApprox_1_y</th><th>modelfit_DoubleShapeletPsfApprox_1_0</th><th>modelfit_DoubleShapeletPsfApprox_1_1</th><th>modelfit_DoubleShapeletPsfApprox_1_2</th><th>modelfit_DoubleShapeletPsfApprox_flag</th><th>modelfit_DoubleShapeletPsfApprox_flag_invalidPointForPsf</th><th>modelfit_DoubleShapeletPsfApprox_flag_invalidMoments</th><th>modelfit_DoubleShapeletPsfApprox_flag_maxIterations</th><th>base_CircularApertureFlux_3_0_instFlux</th><th>base_CircularApertureFlux_3_0_instFluxErr</th><th>base_CircularApertureFlux_3_0_flag</th><th>base_CircularApertureFlux_3_0_flag_apertureTruncated</th><th>base_CircularApertureFlux_3_0_flag_sincCoeffsTruncated</th><th>base_CircularApertureFlux_4_5_instFlux</th><th>base_CircularApertureFlux_4_5_instFluxErr</th><th>base_CircularApertureFlux_4_5_flag</th><th>base_CircularApertureFlux_4_5_flag_apertureTruncated</th><th>base_CircularApertureFlux_4_5_flag_sincCoeffsTruncated</th><th>base_CircularApertureFlux_6_0_instFlux</th><th>base_CircularApertureFlux_6_0_instFluxErr</th><th>base_CircularApertureFlux_6_0_flag</th><th>base_CircularApertureFlux_6_0_flag_apertureTruncated</th><th>base_CircularApertureFlux_6_0_flag_sincCoeffsTruncated</th><th>base_CircularApertureFlux_9_0_instFlux</th><th>base_CircularApertureFlux_9_0_instFluxErr</th><th>base_CircularApertureFlux_9_0_flag</th><th>base_CircularApertureFlux_9_0_flag_apertureTruncated</th><th>base_CircularApertureFlux_9_0_flag_sincCoeffsTruncated</th><th>base_CircularApertureFlux_12_0_instFlux</th><th>slot_ApFlux_instFlux</th><th>slot_CalibFlux_instFlux</th><th>base_CircularApertureFlux_12_0_instFluxErr</th><th>slot_ApFlux_instFluxErr</th><th>slot_CalibFlux_instFluxErr</th><th>base_CircularApertureFlux_12_0_flag</th><th>slot_ApFlux_flag</th><th>slot_CalibFlux_flag</th><th>base_CircularApertureFlux_12_0_flag_apertureTruncated</th><th>slot_ApFlux_flag_apertureTruncated</th><th>slot_CalibFlux_flag_apertureTruncated</th><th>base_CircularApertureFlux_12_0_flag_sincCoeffsTruncated</th><th>slot_ApFlux_flag_sincCoeffsTruncated</th><th>slot_CalibFlux_flag_sincCoeffsTruncated</th><th>base_CircularApertureFlux_17_0_instFlux</th><th>base_CircularApertureFlux_17_0_instFluxErr</th><th>base_CircularApertureFlux_17_0_flag</th><th>base_CircularApertureFlux_17_0_flag_apertureTruncated</th><th>base_CircularApertureFlux_25_0_instFlux</th><th>base_CircularApertureFlux_25_0_instFluxErr</th><th>base_CircularApertureFlux_25_0_flag</th><th>base_CircularApertureFlux_25_0_flag_apertureTruncated</th><th>base_CircularApertureFlux_35_0_instFlux</th><th>base_CircularApertureFlux_35_0_instFluxErr</th><th>base_CircularApertureFlux_35_0_flag</th><th>base_CircularApertureFlux_35_0_flag_apertureTruncated</th><th>base_CircularApertureFlux_50_0_instFlux</th><th>base_CircularApertureFlux_50_0_instFluxErr</th><th>base_CircularApertureFlux_50_0_flag</th><th>base_CircularApertureFlux_50_0_flag_apertureTruncated</th><th>base_CircularApertureFlux_70_0_instFlux</th><th>base_CircularApertureFlux_70_0_instFluxErr</th><th>base_CircularApertureFlux_70_0_flag</th><th>base_CircularApertureFlux_70_0_flag_apertureTruncated</th><th>base_GaussianFlux_instFlux</th><th>slot_GaussianFlux_instFlux</th><th>base_GaussianFlux_instFluxErr</th><th>slot_GaussianFlux_instFluxErr</th><th>base_GaussianFlux_flag</th><th>slot_GaussianFlux_flag</th><th>base_LocalBackground_instFlux</th><th>base_LocalBackground_instFluxErr</th><th>base_LocalBackground_flag</th><th>base_LocalBackground_flag_noGoodPixels</th><th>base_LocalBackground_flag_noPsf</th><th>base_LocalPhotoCalib_flag</th><th>base_LocalPhotoCalib</th><th>base_LocalPhotoCalibErr</th><th>base_LocalWcs_flag</th><th>base_LocalWcs_CDMatrix_1_1</th><th>base_LocalWcs_CDMatrix_1_2</th><th>base_LocalWcs_CDMatrix_2_1</th><th>base_LocalWcs_CDMatrix_2_2</th><th>base_PixelFlags_flag</th><th>base_PixelFlags_flag_offimage</th><th>base_PixelFlags_flag_edge</th><th>base_PixelFlags_flag_interpolated</th><th>base_PixelFlags_flag_saturated</th><th>base_PixelFlags_flag_cr</th><th>base_PixelFlags_flag_bad</th><th>base_PixelFlags_flag_suspect</th><th>base_PixelFlags_flag_interpolatedCenter</th><th>base_PixelFlags_flag_saturatedCenter</th><th>base_PixelFlags_flag_crCenter</th><th>base_PixelFlags_flag_suspectCenter</th><th>base_PixelFlags_flag_clippedCenter</th><th>base_PixelFlags_flag_sensor_edgeCenter</th><th>base_PixelFlags_flag_inexact_psfCenter</th><th>base_PixelFlags_flag_clipped</th><th>base_PixelFlags_flag_sensor_edge</th><th>base_PixelFlags_flag_inexact_psf</th><th>base_PsfFlux_instFlux</th><th>slot_PsfFlux_instFlux</th><th>base_PsfFlux_instFluxErr</th><th>slot_PsfFlux_instFluxErr</th><th>base_PsfFlux_area</th><th>slot_PsfFlux_area</th><th>base_PsfFlux_flag</th><th>slot_PsfFlux_flag</th><th>base_PsfFlux_flag_noGoodPixels</th><th>slot_PsfFlux_flag_noGoodPixels</th><th>base_PsfFlux_flag_edge</th><th>slot_PsfFlux_flag_edge</th><th>base_Variance_flag</th><th>base_Variance_value</th><th>base_Variance_flag_emptyFootprint</th><th>ext_photometryKron_KronFlux_instFlux</th><th>ext_photometryKron_KronFlux_instFluxErr</th><th>ext_photometryKron_KronFlux_radius</th><th>ext_photometryKron_KronFlux_radius_for_radius</th><th>ext_photometryKron_KronFlux_psf_radius</th><th>ext_photometryKron_KronFlux_flag</th><th>ext_photometryKron_KronFlux_flag_edge</th><th>ext_photometryKron_KronFlux_flag_bad_shape_no_psf</th><th>ext_photometryKron_KronFlux_flag_no_minimum_radius</th><th>ext_photometryKron_KronFlux_flag_no_fallback_radius</th><th>ext_photometryKron_KronFlux_flag_bad_radius</th><th>ext_photometryKron_KronFlux_flag_used_minimum_radius</th><th>ext_photometryKron_KronFlux_flag_used_psf_radius</th><th>ext_photometryKron_KronFlux_flag_small_radius</th><th>ext_photometryKron_KronFlux_flag_bad_shape</th><th>ext_convolved_ConvolvedFlux_seeing</th><th>ext_convolved_ConvolvedFlux_0_deconv</th><th>ext_convolved_ConvolvedFlux_0_3_3_instFlux</th><th>ext_convolved_ConvolvedFlux_0_3_3_instFluxErr</th><th>ext_convolved_ConvolvedFlux_0_3_3_flag</th><th>ext_convolved_ConvolvedFlux_0_3_3_flag_apertureTruncated</th><th>ext_convolved_ConvolvedFlux_0_3_3_flag_sincCoeffsTruncated</th><th>ext_convolved_ConvolvedFlux_0_4_5_instFlux</th><th>ext_convolved_ConvolvedFlux_0_4_5_instFluxErr</th><th>ext_convolved_ConvolvedFlux_0_4_5_flag</th><th>ext_convolved_ConvolvedFlux_0_4_5_flag_apertureTruncated</th><th>ext_convolved_ConvolvedFlux_0_4_5_flag_sincCoeffsTruncated</th><th>ext_convolved_ConvolvedFlux_0_6_0_instFlux</th><th>ext_convolved_ConvolvedFlux_0_6_0_instFluxErr</th><th>ext_convolved_ConvolvedFlux_0_6_0_flag</th><th>ext_convolved_ConvolvedFlux_0_6_0_flag_apertureTruncated</th><th>ext_convolved_ConvolvedFlux_0_6_0_flag_sincCoeffsTruncated</th><th>ext_convolved_ConvolvedFlux_0_kron_instFlux</th><th>ext_convolved_ConvolvedFlux_0_kron_instFluxErr</th><th>ext_convolved_ConvolvedFlux_0_kron_flag</th><th>ext_convolved_ConvolvedFlux_1_deconv</th><th>ext_convolved_ConvolvedFlux_1_3_3_instFlux</th><th>ext_convolved_ConvolvedFlux_1_3_3_instFluxErr</th><th>ext_convolved_ConvolvedFlux_1_3_3_flag</th><th>ext_convolved_ConvolvedFlux_1_3_3_flag_apertureTruncated</th><th>ext_convolved_ConvolvedFlux_1_3_3_flag_sincCoeffsTruncated</th><th>ext_convolved_ConvolvedFlux_1_4_5_instFlux</th><th>ext_convolved_ConvolvedFlux_1_4_5_instFluxErr</th><th>ext_convolved_ConvolvedFlux_1_4_5_flag</th><th>ext_convolved_ConvolvedFlux_1_4_5_flag_apertureTruncated</th><th>ext_convolved_ConvolvedFlux_1_4_5_flag_sincCoeffsTruncated</th><th>ext_convolved_ConvolvedFlux_1_6_0_instFlux</th><th>ext_convolved_ConvolvedFlux_1_6_0_instFluxErr</th><th>ext_convolved_ConvolvedFlux_1_6_0_flag</th><th>ext_convolved_ConvolvedFlux_1_6_0_flag_apertureTruncated</th><th>ext_convolved_ConvolvedFlux_1_6_0_flag_sincCoeffsTruncated</th><th>ext_convolved_ConvolvedFlux_1_kron_instFlux</th><th>ext_convolved_ConvolvedFlux_1_kron_instFluxErr</th><th>ext_convolved_ConvolvedFlux_1_kron_flag</th><th>ext_convolved_ConvolvedFlux_2_deconv</th><th>ext_convolved_ConvolvedFlux_2_3_3_instFlux</th><th>ext_convolved_ConvolvedFlux_2_3_3_instFluxErr</th><th>ext_convolved_ConvolvedFlux_2_3_3_flag</th><th>ext_convolved_ConvolvedFlux_2_3_3_flag_apertureTruncated</th><th>ext_convolved_ConvolvedFlux_2_3_3_flag_sincCoeffsTruncated</th><th>ext_convolved_ConvolvedFlux_2_4_5_instFlux</th><th>ext_convolved_ConvolvedFlux_2_4_5_instFluxErr</th><th>ext_convolved_ConvolvedFlux_2_4_5_flag</th><th>ext_convolved_ConvolvedFlux_2_4_5_flag_apertureTruncated</th><th>ext_convolved_ConvolvedFlux_2_4_5_flag_sincCoeffsTruncated</th><th>ext_convolved_ConvolvedFlux_2_6_0_instFlux</th><th>ext_convolved_ConvolvedFlux_2_6_0_instFluxErr</th><th>ext_convolved_ConvolvedFlux_2_6_0_flag</th><th>ext_convolved_ConvolvedFlux_2_6_0_flag_apertureTruncated</th><th>ext_convolved_ConvolvedFlux_2_6_0_flag_sincCoeffsTruncated</th><th>ext_convolved_ConvolvedFlux_2_kron_instFlux</th><th>ext_convolved_ConvolvedFlux_2_kron_instFluxErr</th><th>ext_convolved_ConvolvedFlux_2_kron_flag</th><th>ext_convolved_ConvolvedFlux_flag</th><th>modelfit_CModel_initial_instFlux</th><th>slot_ModelFlux_initial_instFlux</th><th>modelfit_CModel_initial_instFluxErr</th><th>slot_ModelFlux_initial_instFluxErr</th><th>modelfit_CModel_initial_flag</th><th>slot_ModelFlux_initial_flag</th><th>modelfit_CModel_initial_instFlux_inner</th><th>slot_ModelFlux_initial_instFlux_inner</th><th>modelfit_CModel_initial_ellipse_xx</th><th>slot_ModelFlux_initial_ellipse_xx</th><th>modelfit_CModel_initial_ellipse_yy</th><th>slot_ModelFlux_initial_ellipse_yy</th><th>modelfit_CModel_initial_ellipse_xy</th><th>slot_ModelFlux_initial_ellipse_xy</th><th>modelfit_CModel_initial_objective</th><th>slot_ModelFlux_initial_objective</th><th>modelfit_CModel_initial_nonlinear_0</th><th>slot_ModelFlux_initial_nonlinear_0</th><th>modelfit_CModel_initial_nonlinear_1</th><th>slot_ModelFlux_initial_nonlinear_1</th><th>modelfit_CModel_initial_nonlinear_2</th><th>slot_ModelFlux_initial_nonlinear_2</th><th>modelfit_CModel_initial_fixed_0</th><th>slot_ModelFlux_initial_fixed_0</th><th>modelfit_CModel_initial_fixed_1</th><th>slot_ModelFlux_initial_fixed_1</th><th>modelfit_CModel_initial_flag_trSmall</th><th>slot_ModelFlux_initial_flag_trSmall</th><th>modelfit_CModel_initial_flag_maxIter</th><th>slot_ModelFlux_initial_flag_maxIter</th><th>modelfit_CModel_initial_nIter</th><th>slot_ModelFlux_initial_nIter</th><th>modelfit_CModel_initial_time</th><th>slot_ModelFlux_initial_time</th><th>modelfit_CModel_initial_flag_numericError</th><th>slot_ModelFlux_initial_flag_numericError</th><th>modelfit_CModel_initial_flag_noFlux</th><th>slot_ModelFlux_initial_flag_noFlux</th><th>modelfit_CModel_exp_instFlux</th><th>slot_ModelFlux_exp_instFlux</th><th>modelfit_CModel_exp_instFluxErr</th><th>slot_ModelFlux_exp_instFluxErr</th><th>modelfit_CModel_exp_flag</th><th>slot_ModelFlux_exp_flag</th><th>modelfit_CModel_exp_instFlux_inner</th><th>slot_ModelFlux_exp_instFlux_inner</th><th>modelfit_CModel_exp_ellipse_xx</th><th>slot_ModelFlux_exp_ellipse_xx</th><th>modelfit_CModel_exp_ellipse_yy</th><th>slot_ModelFlux_exp_ellipse_yy</th><th>modelfit_CModel_exp_ellipse_xy</th><th>slot_ModelFlux_exp_ellipse_xy</th><th>modelfit_CModel_exp_objective</th><th>slot_ModelFlux_exp_objective</th><th>modelfit_CModel_exp_nonlinear_0</th><th>slot_ModelFlux_exp_nonlinear_0</th><th>modelfit_CModel_exp_nonlinear_1</th><th>slot_ModelFlux_exp_nonlinear_1</th><th>modelfit_CModel_exp_nonlinear_2</th><th>slot_ModelFlux_exp_nonlinear_2</th><th>modelfit_CModel_exp_fixed_0</th><th>slot_ModelFlux_exp_fixed_0</th><th>modelfit_CModel_exp_fixed_1</th><th>slot_ModelFlux_exp_fixed_1</th><th>modelfit_CModel_exp_flag_trSmall</th><th>slot_ModelFlux_exp_flag_trSmall</th><th>modelfit_CModel_exp_flag_maxIter</th><th>slot_ModelFlux_exp_flag_maxIter</th><th>modelfit_CModel_exp_nIter</th><th>slot_ModelFlux_exp_nIter</th><th>modelfit_CModel_exp_time</th><th>slot_ModelFlux_exp_time</th><th>modelfit_CModel_exp_flag_numericError</th><th>slot_ModelFlux_exp_flag_numericError</th><th>modelfit_CModel_exp_flag_noFlux</th><th>slot_ModelFlux_exp_flag_noFlux</th><th>modelfit_CModel_dev_instFlux</th><th>slot_ModelFlux_dev_instFlux</th><th>modelfit_CModel_dev_instFluxErr</th><th>slot_ModelFlux_dev_instFluxErr</th><th>modelfit_CModel_dev_flag</th><th>slot_ModelFlux_dev_flag</th><th>modelfit_CModel_dev_instFlux_inner</th><th>slot_ModelFlux_dev_instFlux_inner</th><th>modelfit_CModel_dev_ellipse_xx</th><th>slot_ModelFlux_dev_ellipse_xx</th><th>modelfit_CModel_dev_ellipse_yy</th><th>slot_ModelFlux_dev_ellipse_yy</th><th>modelfit_CModel_dev_ellipse_xy</th><th>slot_ModelFlux_dev_ellipse_xy</th><th>modelfit_CModel_dev_objective</th><th>slot_ModelFlux_dev_objective</th><th>modelfit_CModel_dev_nonlinear_0</th><th>slot_ModelFlux_dev_nonlinear_0</th><th>modelfit_CModel_dev_nonlinear_1</th><th>slot_ModelFlux_dev_nonlinear_1</th><th>modelfit_CModel_dev_nonlinear_2</th><th>slot_ModelFlux_dev_nonlinear_2</th><th>modelfit_CModel_dev_fixed_0</th><th>slot_ModelFlux_dev_fixed_0</th><th>modelfit_CModel_dev_fixed_1</th><th>slot_ModelFlux_dev_fixed_1</th><th>modelfit_CModel_dev_flag_trSmall</th><th>slot_ModelFlux_dev_flag_trSmall</th><th>modelfit_CModel_dev_flag_maxIter</th><th>slot_ModelFlux_dev_flag_maxIter</th><th>modelfit_CModel_dev_nIter</th><th>slot_ModelFlux_dev_nIter</th><th>modelfit_CModel_dev_time</th><th>slot_ModelFlux_dev_time</th><th>modelfit_CModel_dev_flag_numericError</th><th>slot_ModelFlux_dev_flag_numericError</th><th>modelfit_CModel_dev_flag_noFlux</th><th>slot_ModelFlux_dev_flag_noFlux</th><th>modelfit_CModel_instFlux</th><th>slot_ModelFlux_instFlux</th><th>modelfit_CModel_instFluxErr</th><th>slot_ModelFlux_instFluxErr</th><th>modelfit_CModel_flag</th><th>slot_ModelFlux_flag</th><th>modelfit_CModel_instFlux_inner</th><th>slot_ModelFlux_instFlux_inner</th><th>modelfit_CModel_fracDev</th><th>slot_ModelFlux_fracDev</th><th>modelfit_CModel_objective</th><th>slot_ModelFlux_objective</th><th>modelfit_CModel_flag_region_maxArea</th><th>slot_ModelFlux_flag_region_maxArea</th><th>modelfit_CModel_flag_region_maxBadPixelFraction</th><th>slot_ModelFlux_flag_region_maxBadPixelFraction</th><th>modelfit_CModel_flags_region_usedFootprintArea</th><th>slot_ModelFlux_flags_region_usedFootprintArea</th><th>modelfit_CModel_flags_region_usedPsfArea</th><th>slot_ModelFlux_flags_region_usedPsfArea</th><th>modelfit_CModel_flags_region_usedInitialEllipseMin</th><th>slot_ModelFlux_flags_region_usedInitialEllipseMin</th><th>modelfit_CModel_flags_region_usedInitialEllipseMax</th><th>slot_ModelFlux_flags_region_usedInitialEllipseMax</th><th>modelfit_CModel_flag_noShape</th><th>slot_ModelFlux_flag_noShape</th><th>modelfit_CModel_flags_smallShape</th><th>slot_ModelFlux_flags_smallShape</th><th>modelfit_CModel_ellipse_xx</th><th>slot_ModelFlux_ellipse_xx</th><th>modelfit_CModel_ellipse_yy</th><th>slot_ModelFlux_ellipse_yy</th><th>modelfit_CModel_ellipse_xy</th><th>slot_ModelFlux_ellipse_xy</th><th>modelfit_CModel_region_initial_ellipse_xx</th><th>slot_ModelFlux_region_initial_ellipse_xx</th><th>modelfit_CModel_region_initial_ellipse_yy</th><th>slot_ModelFlux_region_initial_ellipse_yy</th><th>modelfit_CModel_region_initial_ellipse_xy</th><th>slot_ModelFlux_region_initial_ellipse_xy</th><th>modelfit_CModel_region_final_ellipse_xx</th><th>slot_ModelFlux_region_final_ellipse_xx</th><th>modelfit_CModel_region_final_ellipse_yy</th><th>slot_ModelFlux_region_final_ellipse_yy</th><th>modelfit_CModel_region_final_ellipse_xy</th><th>slot_ModelFlux_region_final_ellipse_xy</th><th>modelfit_CModel_flag_noShapeletPsf</th><th>slot_ModelFlux_flag_noShapeletPsf</th><th>modelfit_CModel_flag_badCentroid</th><th>slot_ModelFlux_flag_badCentroid</th><th>modelfit_CModel_flag_noFlux</th><th>slot_ModelFlux_flag_noFlux</th><th>detect_isPatchInner</th><th>detect_isTractInner</th><th>detect_isPrimary</th><th>base_GaussianFlux_apCorr</th><th>slot_GaussianFlux_apCorr</th><th>base_GaussianFlux_apCorrErr</th><th>slot_GaussianFlux_apCorrErr</th><th>base_GaussianFlux_flag_apCorr</th><th>slot_GaussianFlux_flag_apCorr</th><th>base_PsfFlux_apCorr</th><th>slot_PsfFlux_apCorr</th><th>base_PsfFlux_apCorrErr</th><th>slot_PsfFlux_apCorrErr</th><th>base_PsfFlux_flag_apCorr</th><th>slot_PsfFlux_flag_apCorr</th><th>ext_convolved_ConvolvedFlux_0_3_3_apCorr</th><th>ext_convolved_ConvolvedFlux_0_3_3_apCorrErr</th><th>ext_convolved_ConvolvedFlux_0_3_3_flag_apCorr</th><th>ext_convolved_ConvolvedFlux_0_4_5_apCorr</th><th>ext_convolved_ConvolvedFlux_0_4_5_apCorrErr</th><th>ext_convolved_ConvolvedFlux_0_4_5_flag_apCorr</th><th>ext_convolved_ConvolvedFlux_0_6_0_apCorr</th><th>ext_convolved_ConvolvedFlux_0_6_0_apCorrErr</th><th>ext_convolved_ConvolvedFlux_0_6_0_flag_apCorr</th><th>ext_convolved_ConvolvedFlux_0_kron_apCorr</th><th>ext_convolved_ConvolvedFlux_0_kron_apCorrErr</th><th>ext_convolved_ConvolvedFlux_0_kron_flag_apCorr</th><th>ext_convolved_ConvolvedFlux_1_3_3_apCorr</th><th>ext_convolved_ConvolvedFlux_1_3_3_apCorrErr</th><th>ext_convolved_ConvolvedFlux_1_3_3_flag_apCorr</th><th>ext_convolved_ConvolvedFlux_1_4_5_apCorr</th><th>ext_convolved_ConvolvedFlux_1_4_5_apCorrErr</th><th>ext_convolved_ConvolvedFlux_1_4_5_flag_apCorr</th><th>ext_convolved_ConvolvedFlux_1_6_0_apCorr</th><th>ext_convolved_ConvolvedFlux_1_6_0_apCorrErr</th><th>ext_convolved_ConvolvedFlux_1_6_0_flag_apCorr</th><th>ext_convolved_ConvolvedFlux_1_kron_apCorr</th><th>ext_convolved_ConvolvedFlux_1_kron_apCorrErr</th><th>ext_convolved_ConvolvedFlux_1_kron_flag_apCorr</th><th>ext_convolved_ConvolvedFlux_2_3_3_apCorr</th><th>ext_convolved_ConvolvedFlux_2_3_3_apCorrErr</th><th>ext_convolved_ConvolvedFlux_2_3_3_flag_apCorr</th><th>ext_convolved_ConvolvedFlux_2_4_5_apCorr</th><th>ext_convolved_ConvolvedFlux_2_4_5_apCorrErr</th><th>ext_convolved_ConvolvedFlux_2_4_5_flag_apCorr</th><th>ext_convolved_ConvolvedFlux_2_6_0_apCorr</th><th>ext_convolved_ConvolvedFlux_2_6_0_apCorrErr</th><th>ext_convolved_ConvolvedFlux_2_6_0_flag_apCorr</th><th>ext_convolved_ConvolvedFlux_2_kron_apCorr</th><th>ext_convolved_ConvolvedFlux_2_kron_apCorrErr</th><th>ext_convolved_ConvolvedFlux_2_kron_flag_apCorr</th><th>ext_photometryKron_KronFlux_apCorr</th><th>ext_photometryKron_KronFlux_apCorrErr</th><th>ext_photometryKron_KronFlux_flag_apCorr</th><th>modelfit_CModel_apCorr</th><th>slot_ModelFlux_apCorr</th><th>modelfit_CModel_apCorrErr</th><th>slot_ModelFlux_apCorrErr</th><th>modelfit_CModel_flag_apCorr</th><th>slot_ModelFlux_flag_apCorr</th><th>modelfit_CModel_dev_apCorr</th><th>slot_ModelFlux_dev_apCorr</th><th>modelfit_CModel_dev_apCorrErr</th><th>slot_ModelFlux_dev_apCorrErr</th><th>modelfit_CModel_dev_flag_apCorr</th><th>slot_ModelFlux_dev_flag_apCorr</th><th>modelfit_CModel_exp_apCorr</th><th>slot_ModelFlux_exp_apCorr</th><th>modelfit_CModel_exp_apCorrErr</th><th>slot_ModelFlux_exp_apCorrErr</th><th>modelfit_CModel_exp_flag_apCorr</th><th>slot_ModelFlux_exp_flag_apCorr</th><th>modelfit_CModel_initial_apCorr</th><th>slot_ModelFlux_initial_apCorr</th><th>modelfit_CModel_initial_apCorrErr</th><th>slot_ModelFlux_initial_apCorrErr</th><th>modelfit_CModel_initial_flag_apCorr</th><th>slot_ModelFlux_initial_flag_apCorr</th><th>base_ClassificationExtendedness_value</th><th>base_ClassificationExtendedness_flag</th><th>base_FootprintArea_value</th></tr></thead>\n",
       "<thead><tr><th></th><th>rad</th><th>rad</th><th></th><th></th><th></th><th></th><th></th><th></th><th></th><th></th><th></th><th></th><th></th><th></th><th></th><th></th><th></th><th></th><th></th><th></th><th></th><th></th><th></th><th></th><th></th><th></th><th></th><th>pix</th><th>pix</th><th>ct</th><th></th><th></th><th></th><th></th><th></th><th></th><th></th><th>pix</th><th>pix</th><th></th><th></th><th></th><th>pix</th><th>pix</th><th></th><th></th><th></th><th></th><th>pix</th><th>pix</th><th>pix</th><th>pix</th><th>pix</th><th>pix</th><th>pix</th><th>pix</th><th></th><th></th><th></th><th></th><th></th><th></th><th></th><th></th><th></th><th></th><th></th><th></th><th></th><th></th><th></th><th></th><th></th><th></th><th></th><th></th><th></th><th></th><th></th><th></th><th></th><th></th><th></th><th></th><th></th><th></th><th></th><th></th><th></th><th></th><th></th><th></th><th></th><th></th><th></th><th></th><th></th><th></th><th></th><th></th><th></th><th></th><th></th><th></th><th></th><th></th><th></th><th></th><th></th><th></th><th></th><th></th><th></th><th></th><th></th><th></th><th></th><th></th><th></th><th></th><th></th><th></th><th></th><th></th><th></th><th></th><th></th><th></th><th></th><th></th><th></th><th></th><th></th><th></th><th></th><th></th><th></th><th></th><th></th><th></th><th></th><th></th><th></th><th></th><th></th><th></th><th></th><th></th><th></th><th></th><th></th><th></th><th></th><th></th><th></th><th></th><th></th><th></th><th></th><th></th><th></th><th></th><th></th><th></th><th></th><th></th><th></th><th></th><th></th><th></th><th></th><th></th><th></th><th></th><th></th><th></th><th></th><th></th><th></th><th></th><th></th><th></th><th></th><th></th><th></th><th></th><th></th><th></th><th></th><th></th><th></th><th></th><th></th><th></th><th></th><th></th><th></th><th></th><th>ct</th><th>ct</th><th></th><th>ct</th><th>ct</th><th>pix2</th><th>pix2</th><th>pix2</th><th>pix2</th><th>pix2</th><th>pix2</th><th>pix2</th><th>pix2</th><th>pix2</th><th>pix2</th><th>pix2</th><th>pix2</th><th></th><th></th><th></th><th></th><th></th><th></th><th>pix2</th><th>pix2</th><th>pix2</th><th>pix2</th><th>pix2</th><th>pix2</th><th>pix</th><th>pix</th><th>ct</th><th>ct</th><th>pix2</th><th>pix2</th><th>pix2</th><th>ct pix2</th><th>ct pix2</th><th>ct pix2</th><th></th><th></th><th></th><th></th><th></th><th></th><th>pix</th><th>pix</th><th>pix</th><th>pix</th><th>pix2</th><th>pix2</th><th>pix2</th><th>pix2</th><th>pix2</th><th>pix2</th><th></th><th></th><th></th><th></th><th></th><th></th><th></th><th></th><th></th><th></th><th></th><th></th><th></th><th></th><th></th><th></th><th></th><th>pix</th><th>pix</th><th>pix</th><th>pix</th><th>pix2</th><th>pix2</th><th>pix2</th><th>pix2</th><th>pix2</th><th>pix2</th><th></th><th></th><th></th><th></th><th></th><th></th><th></th><th></th><th></th><th></th><th></th><th></th><th>pix</th><th>pix</th><th>pix</th><th>pix</th><th>pix2</th><th>pix2</th><th>pix2</th><th>pix2</th><th>pix2</th><th>pix2</th><th></th><th></th><th></th><th></th><th></th><th></th><th></th><th></th><th></th><th></th><th>pix2</th><th>pix2</th><th>pix2</th><th>pix</th><th>pix</th><th></th><th></th><th></th><th></th><th></th><th></th><th>pix2</th><th>pix2</th><th>pix2</th><th>pix</th><th>pix</th><th></th><th></th><th></th><th></th><th></th><th></th><th></th><th>ct</th><th>ct</th><th></th><th></th><th></th><th>ct</th><th>ct</th><th></th><th></th><th></th><th>ct</th><th>ct</th><th></th><th></th><th></th><th>ct</th><th>ct</th><th></th><th></th><th></th><th>ct</th><th>ct</th><th>ct</th><th>ct</th><th>ct</th><th>ct</th><th></th><th></th><th></th><th></th><th></th><th></th><th></th><th></th><th></th><th>ct</th><th>ct</th><th></th><th></th><th>ct</th><th>ct</th><th></th><th></th><th>ct</th><th>ct</th><th></th><th></th><th>ct</th><th>ct</th><th></th><th></th><th>ct</th><th>ct</th><th></th><th></th><th>ct</th><th>ct</th><th>ct</th><th>ct</th><th></th><th></th><th>ct</th><th>ct</th><th></th><th></th><th></th><th></th><th></th><th></th><th></th><th></th><th></th><th></th><th></th><th></th><th></th><th></th><th></th><th></th><th></th><th></th><th></th><th></th><th></th><th></th><th></th><th></th><th></th><th></th><th></th><th></th><th></th><th>ct</th><th>ct</th><th>ct</th><th>ct</th><th>pix</th><th>pix</th><th></th><th></th><th></th><th></th><th></th><th></th><th></th><th></th><th></th><th>ct</th><th>ct</th><th></th><th></th><th></th><th></th><th></th><th></th><th></th><th></th><th></th><th></th><th></th><th></th><th></th><th>pix</th><th></th><th>ct</th><th>ct</th><th></th><th></th><th></th><th>ct</th><th>ct</th><th></th><th></th><th></th><th>ct</th><th>ct</th><th></th><th></th><th></th><th>ct</th><th>ct</th><th></th><th></th><th>ct</th><th>ct</th><th></th><th></th><th></th><th>ct</th><th>ct</th><th></th><th></th><th></th><th>ct</th><th>ct</th><th></th><th></th><th></th><th>ct</th><th>ct</th><th></th><th></th><th>ct</th><th>ct</th><th></th><th></th><th></th><th>ct</th><th>ct</th><th></th><th></th><th></th><th>ct</th><th>ct</th><th></th><th></th><th></th><th>ct</th><th>ct</th><th></th><th></th><th>ct</th><th>ct</th><th>ct</th><th>ct</th><th></th><th></th><th>ct</th><th>ct</th><th>pix2</th><th>pix2</th><th>pix2</th><th>pix2</th><th>pix2</th><th>pix2</th><th></th><th></th><th></th><th></th><th></th><th></th><th></th><th></th><th></th><th></th><th></th><th></th><th></th><th></th><th></th><th></th><th></th><th></th><th>s</th><th>s</th><th></th><th></th><th></th><th></th><th>ct</th><th>ct</th><th>ct</th><th>ct</th><th></th><th></th><th>ct</th><th>ct</th><th>pix2</th><th>pix2</th><th>pix2</th><th>pix2</th><th>pix2</th><th>pix2</th><th></th><th></th><th></th><th></th><th></th><th></th><th></th><th></th><th></th><th></th><th></th><th></th><th></th><th></th><th></th><th></th><th></th><th></th><th>s</th><th>s</th><th></th><th></th><th></th><th></th><th>ct</th><th>ct</th><th>ct</th><th>ct</th><th></th><th></th><th>ct</th><th>ct</th><th>pix2</th><th>pix2</th><th>pix2</th><th>pix2</th><th>pix2</th><th>pix2</th><th></th><th></th><th></th><th></th><th></th><th></th><th></th><th></th><th></th><th></th><th></th><th></th><th></th><th></th><th></th><th></th><th></th><th></th><th>s</th><th>s</th><th></th><th></th><th></th><th></th><th>ct</th><th>ct</th><th>ct</th><th>ct</th><th></th><th></th><th>ct</th><th>ct</th><th></th><th></th><th></th><th></th><th></th><th></th><th></th><th></th><th></th><th></th><th></th><th></th><th></th><th></th><th></th><th></th><th></th><th></th><th></th><th></th><th>pix2</th><th>pix2</th><th>pix2</th><th>pix2</th><th>pix2</th><th>pix2</th><th>pix2</th><th>pix2</th><th>pix2</th><th>pix2</th><th>pix2</th><th>pix2</th><th>pix2</th><th>pix2</th><th>pix2</th><th>pix2</th><th>pix2</th><th>pix2</th><th></th><th></th><th></th><th></th><th></th><th></th><th></th><th></th><th></th><th></th><th></th><th></th><th></th><th></th><th></th><th></th><th></th><th></th><th></th><th></th><th></th><th></th><th></th><th></th><th></th><th></th><th></th><th></th><th></th><th></th><th></th><th></th><th></th><th></th><th></th><th></th><th></th><th></th><th></th><th></th><th></th><th></th><th></th><th></th><th></th><th></th><th></th><th></th><th></th><th></th><th></th><th></th><th></th><th></th><th></th><th></th><th></th><th></th><th></th><th></th><th></th><th></th><th></th><th></th><th></th><th></th><th></th><th></th><th></th><th></th><th></th><th></th><th></th><th></th><th></th><th></th><th></th><th></th><th></th><th></th><th></th><th></th><th></th><th></th><th></th><th></th><th>pix</th></tr></thead>\n",
       "<thead><tr><th>int64</th><th>float64</th><th>float64</th><th>int64</th><th>bool</th><th>bool</th><th>bool</th><th>bool</th><th>bool</th><th>bool</th><th>bool</th><th>bool</th><th>bool</th><th>bool</th><th>bool</th><th>bool</th><th>bool</th><th>bool</th><th>bool</th><th>bool</th><th>bool</th><th>bool</th><th>bool</th><th>bool</th><th>bool</th><th>bool</th><th>int32</th><th>bool</th><th>float64</th><th>float64</th><th>float64</th><th>bool</th><th>bool</th><th>bool</th><th>bool</th><th>bool</th><th>bool</th><th>bool</th><th>int32</th><th>int32</th><th>int32</th><th>int32</th><th>int32</th><th>float64</th><th>float64</th><th>bool</th><th>bool</th><th>bool</th><th>bool</th><th>float64</th><th>float64</th><th>float64</th><th>float64</th><th>float32</th><th>float32</th><th>float32</th><th>float32</th><th>bool</th><th>bool</th><th>bool</th><th>bool</th><th>bool</th><th>bool</th><th>bool</th><th>bool</th><th>bool</th><th>bool</th><th>bool</th><th>bool</th><th>bool</th><th>bool</th><th>bool</th><th>bool</th><th>bool</th><th>bool</th><th>bool</th><th>bool</th><th>bool</th><th>bool</th><th>bool</th><th>bool</th><th>bool</th><th>bool</th><th>bool</th><th>bool</th><th>bool</th><th>bool</th><th>bool</th><th>bool</th><th>bool</th><th>bool</th><th>bool</th><th>bool</th><th>bool</th><th>bool</th><th>bool</th><th>bool</th><th>bool</th><th>bool</th><th>bool</th><th>bool</th><th>bool</th><th>bool</th><th>bool</th><th>bool</th><th>bool</th><th>bool</th><th>bool</th><th>bool</th><th>bool</th><th>bool</th><th>bool</th><th>bool</th><th>bool</th><th>bool</th><th>bool</th><th>bool</th><th>bool</th><th>bool</th><th>bool</th><th>bool</th><th>bool</th><th>bool</th><th>bool</th><th>bool</th><th>bool</th><th>bool</th><th>bool</th><th>bool</th><th>bool</th><th>bool</th><th>bool</th><th>bool</th><th>bool</th><th>bool</th><th>bool</th><th>bool</th><th>bool</th><th>bool</th><th>bool</th><th>bool</th><th>bool</th><th>bool</th><th>bool</th><th>bool</th><th>bool</th><th>bool</th><th>bool</th><th>bool</th><th>bool</th><th>bool</th><th>bool</th><th>bool</th><th>bool</th><th>bool</th><th>bool</th><th>bool</th><th>bool</th><th>bool</th><th>bool</th><th>bool</th><th>bool</th><th>bool</th><th>bool</th><th>bool</th><th>bool</th><th>bool</th><th>bool</th><th>bool</th><th>bool</th><th>bool</th><th>bool</th><th>bool</th><th>bool</th><th>bool</th><th>bool</th><th>bool</th><th>bool</th><th>bool</th><th>bool</th><th>bool</th><th>bool</th><th>bool</th><th>bool</th><th>bool</th><th>bool</th><th>bool</th><th>bool</th><th>bool</th><th>bool</th><th>bool</th><th>bool</th><th>bool</th><th>bool</th><th>bool</th><th>bool</th><th>bool</th><th>float64</th><th>float64</th><th>float64</th><th>float64</th><th>float64</th><th>float64</th><th>float64</th><th>float64</th><th>float64</th><th>float64</th><th>float64</th><th>float64</th><th>float64</th><th>float64</th><th>float64</th><th>float64</th><th>float64</th><th>float64</th><th>float64</th><th>bool</th><th>bool</th><th>bool</th><th>bool</th><th>int32</th><th>bool</th><th>float64</th><th>float64</th><th>float64</th><th>float32</th><th>float32</th><th>float32</th><th>float64</th><th>float64</th><th>float64</th><th>float64</th><th>float64</th><th>float64</th><th>float64</th><th>float32</th><th>float32</th><th>float32</th><th>bool</th><th>bool</th><th>bool</th><th>bool</th><th>bool</th><th>bool</th><th>float64</th><th>float64</th><th>float64</th><th>float64</th><th>float64</th><th>float64</th><th>float64</th><th>float64</th><th>float64</th><th>float64</th><th>bool</th><th>bool</th><th>bool</th><th>bool</th><th>bool</th><th>bool</th><th>bool</th><th>bool</th><th>float64</th><th>float64</th><th>float64</th><th>float64</th><th>bool</th><th>bool</th><th>bool</th><th>bool</th><th>bool</th><th>float64</th><th>float64</th><th>float64</th><th>float64</th><th>float64</th><th>float64</th><th>float64</th><th>float64</th><th>float64</th><th>float64</th><th>bool</th><th>bool</th><th>bool</th><th>bool</th><th>bool</th><th>bool</th><th>bool</th><th>bool</th><th>bool</th><th>bool</th><th>bool</th><th>bool</th><th>float64</th><th>float64</th><th>float64</th><th>float64</th><th>float64</th><th>float64</th><th>float64</th><th>float64</th><th>float64</th><th>float64</th><th>bool</th><th>bool</th><th>bool</th><th>bool</th><th>bool</th><th>bool</th><th>bool</th><th>bool</th><th>float32</th><th>float32</th><th>float64</th><th>float64</th><th>float64</th><th>float64</th><th>float64</th><th>float64</th><th>float64</th><th>float64</th><th>float64</th><th>float64</th><th>float64</th><th>float64</th><th>float64</th><th>float64</th><th>float64</th><th>float64</th><th>float64</th><th>float64</th><th>float64</th><th>bool</th><th>bool</th><th>bool</th><th>bool</th><th>float64</th><th>float64</th><th>bool</th><th>bool</th><th>bool</th><th>float64</th><th>float64</th><th>bool</th><th>bool</th><th>bool</th><th>float64</th><th>float64</th><th>bool</th><th>bool</th><th>bool</th><th>float64</th><th>float64</th><th>bool</th><th>bool</th><th>bool</th><th>float64</th><th>float64</th><th>float64</th><th>float64</th><th>float64</th><th>float64</th><th>bool</th><th>bool</th><th>bool</th><th>bool</th><th>bool</th><th>bool</th><th>bool</th><th>bool</th><th>bool</th><th>float64</th><th>float64</th><th>bool</th><th>bool</th><th>float64</th><th>float64</th><th>bool</th><th>bool</th><th>float64</th><th>float64</th><th>bool</th><th>bool</th><th>float64</th><th>float64</th><th>bool</th><th>bool</th><th>float64</th><th>float64</th><th>bool</th><th>bool</th><th>float64</th><th>float64</th><th>float64</th><th>float64</th><th>bool</th><th>bool</th><th>float64</th><th>float64</th><th>bool</th><th>bool</th><th>bool</th><th>bool</th><th>float64</th><th>float64</th><th>bool</th><th>float64</th><th>float64</th><th>float64</th><th>float64</th><th>bool</th><th>bool</th><th>bool</th><th>bool</th><th>bool</th><th>bool</th><th>bool</th><th>bool</th><th>bool</th><th>bool</th><th>bool</th><th>bool</th><th>bool</th><th>bool</th><th>bool</th><th>bool</th><th>bool</th><th>bool</th><th>float64</th><th>float64</th><th>float64</th><th>float64</th><th>float32</th><th>float32</th><th>bool</th><th>bool</th><th>bool</th><th>bool</th><th>bool</th><th>bool</th><th>bool</th><th>float64</th><th>bool</th><th>float64</th><th>float64</th><th>float32</th><th>float32</th><th>float32</th><th>bool</th><th>bool</th><th>bool</th><th>bool</th><th>bool</th><th>bool</th><th>bool</th><th>bool</th><th>bool</th><th>bool</th><th>float32</th><th>bool</th><th>float64</th><th>float64</th><th>bool</th><th>bool</th><th>bool</th><th>float64</th><th>float64</th><th>bool</th><th>bool</th><th>bool</th><th>float64</th><th>float64</th><th>bool</th><th>bool</th><th>bool</th><th>float64</th><th>float64</th><th>bool</th><th>bool</th><th>float64</th><th>float64</th><th>bool</th><th>bool</th><th>bool</th><th>float64</th><th>float64</th><th>bool</th><th>bool</th><th>bool</th><th>float64</th><th>float64</th><th>bool</th><th>bool</th><th>bool</th><th>float64</th><th>float64</th><th>bool</th><th>bool</th><th>float64</th><th>float64</th><th>bool</th><th>bool</th><th>bool</th><th>float64</th><th>float64</th><th>bool</th><th>bool</th><th>bool</th><th>float64</th><th>float64</th><th>bool</th><th>bool</th><th>bool</th><th>float64</th><th>float64</th><th>bool</th><th>bool</th><th>float64</th><th>float64</th><th>float64</th><th>float64</th><th>bool</th><th>bool</th><th>float64</th><th>float64</th><th>float64</th><th>float64</th><th>float64</th><th>float64</th><th>float64</th><th>float64</th><th>float64</th><th>float64</th><th>float64</th><th>float64</th><th>float64</th><th>float64</th><th>float64</th><th>float64</th><th>float64</th><th>float64</th><th>float64</th><th>float64</th><th>bool</th><th>bool</th><th>bool</th><th>bool</th><th>int32</th><th>int32</th><th>float64</th><th>float64</th><th>bool</th><th>bool</th><th>bool</th><th>bool</th><th>float64</th><th>float64</th><th>float64</th><th>float64</th><th>bool</th><th>bool</th><th>float64</th><th>float64</th><th>float64</th><th>float64</th><th>float64</th><th>float64</th><th>float64</th><th>float64</th><th>float64</th><th>float64</th><th>float64</th><th>float64</th><th>float64</th><th>float64</th><th>float64</th><th>float64</th><th>float64</th><th>float64</th><th>float64</th><th>float64</th><th>bool</th><th>bool</th><th>bool</th><th>bool</th><th>int32</th><th>int32</th><th>float64</th><th>float64</th><th>bool</th><th>bool</th><th>bool</th><th>bool</th><th>float64</th><th>float64</th><th>float64</th><th>float64</th><th>bool</th><th>bool</th><th>float64</th><th>float64</th><th>float64</th><th>float64</th><th>float64</th><th>float64</th><th>float64</th><th>float64</th><th>float64</th><th>float64</th><th>float64</th><th>float64</th><th>float64</th><th>float64</th><th>float64</th><th>float64</th><th>float64</th><th>float64</th><th>float64</th><th>float64</th><th>bool</th><th>bool</th><th>bool</th><th>bool</th><th>int32</th><th>int32</th><th>float64</th><th>float64</th><th>bool</th><th>bool</th><th>bool</th><th>bool</th><th>float64</th><th>float64</th><th>float64</th><th>float64</th><th>bool</th><th>bool</th><th>float64</th><th>float64</th><th>float64</th><th>float64</th><th>float64</th><th>float64</th><th>bool</th><th>bool</th><th>bool</th><th>bool</th><th>bool</th><th>bool</th><th>bool</th><th>bool</th><th>bool</th><th>bool</th><th>bool</th><th>bool</th><th>bool</th><th>bool</th><th>bool</th><th>bool</th><th>float64</th><th>float64</th><th>float64</th><th>float64</th><th>float64</th><th>float64</th><th>float64</th><th>float64</th><th>float64</th><th>float64</th><th>float64</th><th>float64</th><th>float64</th><th>float64</th><th>float64</th><th>float64</th><th>float64</th><th>float64</th><th>bool</th><th>bool</th><th>bool</th><th>bool</th><th>bool</th><th>bool</th><th>bool</th><th>bool</th><th>bool</th><th>float64</th><th>float64</th><th>float64</th><th>float64</th><th>bool</th><th>bool</th><th>float64</th><th>float64</th><th>float64</th><th>float64</th><th>bool</th><th>bool</th><th>float64</th><th>float64</th><th>bool</th><th>float64</th><th>float64</th><th>bool</th><th>float64</th><th>float64</th><th>bool</th><th>float64</th><th>float64</th><th>bool</th><th>float64</th><th>float64</th><th>bool</th><th>float64</th><th>float64</th><th>bool</th><th>float64</th><th>float64</th><th>bool</th><th>float64</th><th>float64</th><th>bool</th><th>float64</th><th>float64</th><th>bool</th><th>float64</th><th>float64</th><th>bool</th><th>float64</th><th>float64</th><th>bool</th><th>float64</th><th>float64</th><th>bool</th><th>float64</th><th>float64</th><th>bool</th><th>float64</th><th>float64</th><th>float64</th><th>float64</th><th>bool</th><th>bool</th><th>float64</th><th>float64</th><th>float64</th><th>float64</th><th>bool</th><th>bool</th><th>float64</th><th>float64</th><th>float64</th><th>float64</th><th>bool</th><th>bool</th><th>float64</th><th>float64</th><th>float64</th><th>float64</th><th>bool</th><th>bool</th><th>float64</th><th>bool</th><th>int32</th></tr></thead>\n",
       "<tr><td>149957529009389569</td><td>0.627996271033287</td><td>-0.08931823558436472</td><td>0</td><td>True</td><td>False</td><td>False</td><td>False</td><td>False</td><td>False</td><td>False</td><td>False</td><td>False</td><td>False</td><td>False</td><td>True</td><td>False</td><td>False</td><td>False</td><td>False</td><td>False</td><td>False</td><td>False</td><td>False</td><td>False</td><td>False</td><td>0</td><td>False</td><td>nan</td><td>nan</td><td>nan</td><td>False</td><td>False</td><td>False</td><td>False</td><td>False</td><td>False</td><td>False</td><td>0</td><td>0</td><td>0</td><td>0</td><td>0</td><td>12044.51075662245</td><td>19906.246517969612</td><td>False</td><td>False</td><td>False</td><td>False</td><td>12043.0</td><td>12043.0</td><td>19906.0</td><td>19906.0</td><td>nan</td><td>nan</td><td>nan</td><td>nan</td><td>True</td><td>True</td><td>True</td><td>True</td><td>True</td><td>True</td><td>True</td><td>True</td><td>True</td><td>True</td><td>True</td><td>True</td><td>True</td><td>True</td><td>True</td><td>True</td><td>True</td><td>True</td><td>True</td><td>True</td><td>True</td><td>True</td><td>True</td><td>True</td><td>True</td><td>True</td><td>True</td><td>True</td><td>True</td><td>True</td><td>True</td><td>True</td><td>True</td><td>True</td><td>True</td><td>True</td><td>True</td><td>True</td><td>True</td><td>True</td><td>False</td><td>False</td><td>False</td><td>False</td><td>False</td><td>False</td><td>False</td><td>False</td><td>False</td><td>False</td><td>False</td><td>False</td><td>False</td><td>False</td><td>False</td><td>False</td><td>False</td><td>False</td><td>False</td><td>False</td><td>False</td><td>False</td><td>False</td><td>False</td><td>False</td><td>False</td><td>False</td><td>False</td><td>False</td><td>False</td><td>False</td><td>False</td><td>False</td><td>False</td><td>False</td><td>False</td><td>False</td><td>False</td><td>False</td><td>False</td><td>False</td><td>False</td><td>False</td><td>False</td><td>False</td><td>False</td><td>False</td><td>False</td><td>False</td><td>False</td><td>False</td><td>False</td><td>False</td><td>False</td><td>False</td><td>False</td><td>False</td><td>False</td><td>False</td><td>False</td><td>False</td><td>False</td><td>False</td><td>False</td><td>False</td><td>False</td><td>False</td><td>False</td><td>False</td><td>False</td><td>False</td><td>False</td><td>False</td><td>False</td><td>False</td><td>False</td><td>False</td><td>False</td><td>False</td><td>False</td><td>False</td><td>False</td><td>False</td><td>False</td><td>False</td><td>False</td><td>False</td><td>False</td><td>False</td><td>False</td><td>False</td><td>False</td><td>False</td><td>False</td><td>False</td><td>False</td><td>False</td><td>False</td><td>False</td><td>False</td><td>0.0</td><td>nan</td><td>nan</td><td>nan</td><td>nan</td><td>nan</td><td>nan</td><td>nan</td><td>nan</td><td>nan</td><td>nan</td><td>nan</td><td>nan</td><td>nan</td><td>nan</td><td>nan</td><td>nan</td><td>nan</td><td>nan</td><td>True</td><td>True</td><td>True</td><td>False</td><td>4</td><td>False</td><td>nan</td><td>nan</td><td>nan</td><td>nan</td><td>nan</td><td>nan</td><td>nan</td><td>nan</td><td>nan</td><td>nan</td><td>5.66950591550441</td><td>6.732365852241137</td><td>0.22713861823611403</td><td>nan</td><td>nan</td><td>nan</td><td>True</td><td>True</td><td>False</td><td>False</td><td>False</td><td>False</td><td>-0.00037355261390851385</td><td>-0.00037355261390851385</td><td>-0.003206575855798152</td><td>-0.003206575855798152</td><td>6.19281935375192</td><td>6.19281935375192</td><td>6.038525642492949</td><td>6.038525642492949</td><td>-0.14320067685354868</td><td>-0.14320067685354868</td><td>True</td><td>True</td><td>False</td><td>False</td><td>False</td><td>False</td><td>False</td><td>False</td><td>nan</td><td>nan</td><td>nan</td><td>nan</td><td>True</td><td>False</td><td>False</td><td>False</td><td>True</td><td>nan</td><td>nan</td><td>nan</td><td>nan</td><td>nan</td><td>nan</td><td>nan</td><td>nan</td><td>nan</td><td>nan</td><td>True</td><td>True</td><td>True</td><td>False</td><td>False</td><td>False</td><td>False</td><td>False</td><td>False</td><td>False</td><td>False</td><td>False</td><td>12038.465178715267</td><td>12038.465178715267</td><td>19905.954117726113</td><td>19905.954117726113</td><td>0.5704326749914772</td><td>0.5704326749914772</td><td>1.1113197845524663</td><td>1.1113197845524663</td><td>-0.035805879657841856</td><td>-0.035805879657841856</td><td>True</td><td>True</td><td>False</td><td>False</td><td>False</td><td>False</td><td>False</td><td>False</td><td>-9.824286</td><td>-9.824286</td><td>5.440401865388649</td><td>4.3224751248869895</td><td>-0.5568923632501878</td><td>0.17436415546902564</td><td>-0.15399850319375194</td><td>0.13468900317501312</td><td>0.00633527805387396</td><td>-0.007417903966231865</td><td>0.00533689593987872</td><td>0.005908260119925536</td><td>-0.005319515888846944</td><td>69.4294287860102</td><td>55.16264906309503</td><td>-7.106960043105154</td><td>0.17436415546902564</td><td>-0.15399850319375194</td><td>0.1194301165577014</td><td>0.0032995699061991574</td><td>-0.003301595918207383</td><td>True</td><td>False</td><td>False</td><td>False</td><td>-0.5676440000534058</td><td>2.6732122898101807</td><td>True</td><td>False</td><td>True</td><td>-2.7898104190826416</td><td>4.05454683303833</td><td>True</td><td>False</td><td>True</td><td>-2.655055046081543</td><td>5.436709403991699</td><td>True</td><td>False</td><td>True</td><td>nan</td><td>nan</td><td>True</td><td>True</td><td>True</td><td>nan</td><td>nan</td><td>nan</td><td>nan</td><td>nan</td><td>nan</td><td>True</td><td>True</td><td>True</td><td>True</td><td>True</td><td>True</td><td>True</td><td>True</td><td>True</td><td>nan</td><td>nan</td><td>True</td><td>True</td><td>nan</td><td>nan</td><td>True</td><td>True</td><td>nan</td><td>nan</td><td>True</td><td>True</td><td>nan</td><td>nan</td><td>True</td><td>True</td><td>nan</td><td>nan</td><td>True</td><td>True</td><td>nan</td><td>nan</td><td>nan</td><td>nan</td><td>True</td><td>True</td><td>0.03146054208399966</td><td>0.49642753571794335</td><td>True</td><td>False</td><td>False</td><td>False</td><td>57.543993733715425</td><td>0.0</td><td>False</td><td>-8.144667584005189e-07</td><td>-3.5998220263353685e-10</td><td>-3.5384160854903455e-10</td><td>8.144753562082246e-07</td><td>False</td><td>False</td><td>True</td><td>False</td><td>False</td><td>False</td><td>False</td><td>False</td><td>False</td><td>False</td><td>False</td><td>False</td><td>False</td><td>False</td><td>False</td><td>False</td><td>False</td><td>False</td><td>-4.416119503265445</td><td>-4.416119503265445</td><td>6.676592444788535</td><td>6.676592444788535</td><td>175.50955</td><td>175.50955</td><td>True</td><td>True</td><td>False</td><td>False</td><td>True</td><td>True</td><td>True</td><td>nan</td><td>True</td><td>nan</td><td>nan</td><td>nan</td><td>nan</td><td>nan</td><td>True</td><td>True</td><td>False</td><td>False</td><td>False</td><td>False</td><td>False</td><td>False</td><td>False</td><td>True</td><td>2.4703891</td><td>True</td><td>-0.6426509180031178</td><td>4.351707126131364</td><td>True</td><td>False</td><td>True</td><td>-3.565081081977107</td><td>5.181279742731849</td><td>True</td><td>False</td><td>True</td><td>-3.0364650281149426</td><td>6.217715899189464</td><td>True</td><td>False</td><td>True</td><td>nan</td><td>nan</td><td>False</td><td>True</td><td>-0.8021140940572153</td><td>5.43151113815456</td><td>True</td><td>False</td><td>True</td><td>-3.9409450837140363</td><td>5.727538437398526</td><td>True</td><td>False</td><td>True</td><td>-3.1504466830129325</td><td>6.451114124202163</td><td>True</td><td>False</td><td>True</td><td>nan</td><td>nan</td><td>False</td><td>False</td><td>-0.22478386336374456</td><td>3.652762626145708</td><td>True</td><td>False</td><td>True</td><td>0.5528111027603042</td><td>3.8879416391614834</td><td>True</td><td>False</td><td>True</td><td>3.4047807022834844</td><td>4.3609104086447354</td><td>True</td><td>False</td><td>True</td><td>nan</td><td>nan</td><td>False</td><td>True</td><td>nan</td><td>nan</td><td>nan</td><td>nan</td><td>True</td><td>True</td><td>nan</td><td>nan</td><td>nan</td><td>nan</td><td>nan</td><td>nan</td><td>nan</td><td>nan</td><td>nan</td><td>nan</td><td>nan</td><td>nan</td><td>nan</td><td>nan</td><td>nan</td><td>nan</td><td>nan</td><td>nan</td><td>nan</td><td>nan</td><td>False</td><td>False</td><td>False</td><td>False</td><td>0</td><td>0</td><td>2.1775693027e-314</td><td>2.1775693027e-314</td><td>False</td><td>False</td><td>False</td><td>False</td><td>nan</td><td>nan</td><td>nan</td><td>nan</td><td>True</td><td>True</td><td>nan</td><td>nan</td><td>nan</td><td>nan</td><td>nan</td><td>nan</td><td>nan</td><td>nan</td><td>nan</td><td>nan</td><td>nan</td><td>nan</td><td>nan</td><td>nan</td><td>nan</td><td>nan</td><td>nan</td><td>nan</td><td>nan</td><td>nan</td><td>False</td><td>False</td><td>False</td><td>False</td><td>0</td><td>0</td><td>2.1775693027e-314</td><td>2.1775693027e-314</td><td>False</td><td>False</td><td>False</td><td>False</td><td>nan</td><td>nan</td><td>nan</td><td>nan</td><td>True</td><td>True</td><td>nan</td><td>nan</td><td>nan</td><td>nan</td><td>nan</td><td>nan</td><td>nan</td><td>nan</td><td>nan</td><td>nan</td><td>nan</td><td>nan</td><td>nan</td><td>nan</td><td>nan</td><td>nan</td><td>nan</td><td>nan</td><td>nan</td><td>nan</td><td>False</td><td>False</td><td>False</td><td>False</td><td>0</td><td>0</td><td>2.1775693027e-314</td><td>2.1775693027e-314</td><td>False</td><td>False</td><td>False</td><td>False</td><td>nan</td><td>nan</td><td>nan</td><td>nan</td><td>True</td><td>True</td><td>nan</td><td>nan</td><td>nan</td><td>nan</td><td>nan</td><td>nan</td><td>False</td><td>False</td><td>True</td><td>True</td><td>False</td><td>False</td><td>True</td><td>True</td><td>False</td><td>False</td><td>False</td><td>False</td><td>True</td><td>True</td><td>False</td><td>False</td><td>nan</td><td>nan</td><td>nan</td><td>nan</td><td>nan</td><td>nan</td><td>561.5392601938313</td><td>561.5392601938313</td><td>454.33337595626887</td><td>454.33337595626887</td><td>-53.591609778586495</td><td>-53.591609778586495</td><td>1.0</td><td>1.0</td><td>1.0</td><td>1.0</td><td>0.0</td><td>0.0</td><td>False</td><td>False</td><td>False</td><td>False</td><td>False</td><td>False</td><td>False</td><td>True</td><td>False</td><td>1.3810387727111884</td><td>1.3810387727111884</td><td>0.0</td><td>0.0</td><td>False</td><td>False</td><td>0.9092787897030304</td><td>0.9092787897030304</td><td>0.0</td><td>0.0</td><td>False</td><td>False</td><td>1.4774636956411917</td><td>0.0</td><td>False</td><td>1.2778936724845245</td><td>0.0</td><td>False</td><td>1.143654265321656</td><td>0.0</td><td>False</td><td>1.1217363274584362</td><td>0.0</td><td>False</td><td>1.8440718289395028</td><td>0.0</td><td>False</td><td>1.4126211074263304</td><td>0.0</td><td>False</td><td>1.186584318717803</td><td>0.0</td><td>False</td><td>1.1938831746115441</td><td>0.0</td><td>False</td><td>2.4341888660548325</td><td>0.0</td><td>False</td><td>1.6859065385704526</td><td>0.0</td><td>False</td><td>1.312376144123454</td><td>0.0</td><td>False</td><td>1.352466241684847</td><td>0.0</td><td>False</td><td>1.111502171653046</td><td>0.0</td><td>False</td><td>0.8077367502766205</td><td>0.8077367502766205</td><td>0.0</td><td>0.0</td><td>False</td><td>False</td><td>0.8076984370582697</td><td>0.8076984370582697</td><td>0.0</td><td>0.0</td><td>False</td><td>False</td><td>0.8317308844417012</td><td>0.8317308844417012</td><td>0.0</td><td>0.0</td><td>False</td><td>False</td><td>0.8368844934415895</td><td>0.8368844934415895</td><td>0.0</td><td>0.0</td><td>False</td><td>False</td><td>nan</td><td>True</td><td>67</td></tr>\n",
       "<tr><td>149957529009389570</td><td>0.6247565636943508</td><td>-0.08601729872117317</td><td>0</td><td>True</td><td>True</td><td>True</td><td>True</td><td>True</td><td>False</td><td>True</td><td>True</td><td>True</td><td>True</td><td>False</td><td>False</td><td>False</td><td>False</td><td>False</td><td>False</td><td>False</td><td>True</td><td>True</td><td>True</td><td>True</td><td>False</td><td>0</td><td>False</td><td>nan</td><td>nan</td><td>nan</td><td>False</td><td>True</td><td>False</td><td>True</td><td>False</td><td>False</td><td>False</td><td>14000</td><td>22000</td><td>0</td><td>12603</td><td>0</td><td>16004.020992309448</td><td>23958.989730897796</td><td>False</td><td>False</td><td>False</td><td>False</td><td>16004.198981442642</td><td>16004.198981442642</td><td>23959.97971245612</td><td>23959.97971245612</td><td>0.00031925237</td><td>0.00031925237</td><td>0.0003192759</td><td>0.0003192759</td><td>False</td><td>False</td><td>False</td><td>False</td><td>False</td><td>False</td><td>False</td><td>False</td><td>False</td><td>False</td><td>False</td><td>False</td><td>False</td><td>False</td><td>False</td><td>False</td><td>False</td><td>False</td><td>False</td><td>False</td><td>False</td><td>False</td><td>False</td><td>False</td><td>False</td><td>False</td><td>False</td><td>False</td><td>False</td><td>False</td><td>False</td><td>False</td><td>False</td><td>False</td><td>False</td><td>False</td><td>False</td><td>False</td><td>False</td><td>False</td><td>False</td><td>False</td><td>False</td><td>False</td><td>False</td><td>False</td><td>False</td><td>False</td><td>False</td><td>False</td><td>False</td><td>False</td><td>False</td><td>False</td><td>False</td><td>False</td><td>False</td><td>False</td><td>False</td><td>False</td><td>False</td><td>False</td><td>False</td><td>False</td><td>False</td><td>False</td><td>False</td><td>False</td><td>False</td><td>False</td><td>False</td><td>False</td><td>False</td><td>False</td><td>False</td><td>False</td><td>False</td><td>False</td><td>False</td><td>False</td><td>False</td><td>False</td><td>False</td><td>False</td><td>False</td><td>False</td><td>False</td><td>False</td><td>False</td><td>False</td><td>False</td><td>False</td><td>False</td><td>False</td><td>False</td><td>False</td><td>False</td><td>False</td><td>False</td><td>False</td><td>False</td><td>False</td><td>False</td><td>False</td><td>False</td><td>False</td><td>False</td><td>False</td><td>False</td><td>False</td><td>False</td><td>False</td><td>False</td><td>False</td><td>False</td><td>False</td><td>False</td><td>False</td><td>False</td><td>False</td><td>False</td><td>False</td><td>False</td><td>False</td><td>False</td><td>False</td><td>False</td><td>False</td><td>False</td><td>False</td><td>False</td><td>False</td><td>False</td><td>False</td><td>False</td><td>False</td><td>False</td><td>False</td><td>False</td><td>False</td><td>0.0</td><td>0.0</td><td>89605.39183099032</td><td>89605.39183099032</td><td>0.0</td><td>89605.39183099032</td><td>89605.39183099032</td><td>8.06355439305021</td><td>7.9026265173420525</td><td>-0.24862339002976827</td><td>8.06355439305021</td><td>7.9026265173420525</td><td>-0.24862339002976827</td><td>8.06355439305021</td><td>7.9026265173420525</td><td>-0.24862339002976827</td><td>8.06355439305021</td><td>7.9026265173420525</td><td>-0.24862339002976827</td><td>False</td><td>False</td><td>False</td><td>False</td><td>4</td><td>False</td><td>8.097125390040988</td><td>7.936636909386441</td><td>-0.2505009135312723</td><td>0.0016722601</td><td>0.0011712608</td><td>0.0016391153</td><td>16004.200802489868</td><td>23959.979028958816</td><td>90571.32343039286</td><td>9.352629798848872</td><td>8.428540572048606</td><td>8.707018067722535</td><td>-0.45530437797901807</td><td>-0.007820015</td><td>0.00024192799</td><td>-0.0076650195</td><td>False</td><td>False</td><td>False</td><td>False</td><td>False</td><td>False</td><td>0.0014035839915278604</td><td>0.0014035839915278604</td><td>-0.006671245788504052</td><td>-0.006671245788504052</td><td>8.435344458919218</td><td>8.435344458919218</td><td>8.713049396384582</td><td>8.713049396384582</td><td>-0.4560250286388157</td><td>-0.4560250286388157</td><td>False</td><td>False</td><td>False</td><td>False</td><td>False</td><td>False</td><td>False</td><td>False</td><td>nan</td><td>nan</td><td>nan</td><td>nan</td><td>True</td><td>False</td><td>False</td><td>False</td><td>True</td><td>16004.202346082455</td><td>16004.202346082455</td><td>23959.978358595683</td><td>23959.978358595683</td><td>8.105170817958337</td><td>8.105170817958337</td><td>7.944393407335616</td><td>7.944393407335616</td><td>-0.2505000978818516</td><td>-0.2505000978818516</td><td>False</td><td>False</td><td>False</td><td>False</td><td>False</td><td>False</td><td>False</td><td>False</td><td>False</td><td>False</td><td>False</td><td>False</td><td>16004.202900276909</td><td>16004.202900276909</td><td>23959.979535459002</td><td>23959.979535459002</td><td>8.066562573484296</td><td>8.066562573484296</td><td>7.982301018680609</td><td>7.982301018680609</td><td>-0.12982598936244605</td><td>-0.12982598936244605</td><td>False</td><td>False</td><td>False</td><td>False</td><td>False</td><td>False</td><td>False</td><td>False</td><td>90622.52</td><td>90622.52</td><td>8.080792475756056</td><td>8.016594778120819</td><td>-0.11455253106613132</td><td>-8.432598420711285e-05</td><td>0.008768005201568934</td><td>0.20773940391606638</td><td>-0.0007208512547713339</td><td>3.8975749282636545e-05</td><td>0.0015903913653717214</td><td>-0.0042330107975343916</td><td>-0.001596757848302073</td><td>153.60318074093726</td><td>152.3828832784542</td><td>-2.177463805248467</td><td>-8.432598420711285e-05</td><td>0.008768005201568934</td><td>0.07432593675535705</td><td>-0.00044667445606705775</td><td>0.000188443166962457</td><td>False</td><td>False</td><td>False</td><td>False</td><td>39982.875</td><td>3.4907617568969727</td><td>False</td><td>False</td><td>False</td><td>67150.0</td><td>5.006193161010742</td><td>False</td><td>False</td><td>False</td><td>79734.375</td><td>6.226114749908447</td><td>False</td><td>False</td><td>False</td><td>89521.4296875</td><td>8.451546669006348</td><td>False</td><td>False</td><td>False</td><td>97252.5</td><td>97252.5</td><td>97252.5</td><td>10.728650093078613</td><td>10.728650093078613</td><td>10.728650093078613</td><td>False</td><td>False</td><td>False</td><td>False</td><td>False</td><td>False</td><td>False</td><td>False</td><td>False</td><td>107221.9708738327</td><td>14.684622719147267</td><td>False</td><td>False</td><td>119550.10181236267</td><td>21.138315895859467</td><td>False</td><td>False</td><td>125358.34306752682</td><td>29.2544748549253</td><td>False</td><td>False</td><td>128918.56602443382</td><td>41.514167179840165</td><td>False</td><td>False</td><td>132314.608336322</td><td>57.94697037447112</td><td>False</td><td>False</td><td>125376.97832800673</td><td>125376.97832800673</td><td>9.208539155757975</td><td>9.208539155757975</td><td>False</td><td>False</td><td>5.067710931195345</td><td>4.311947050245289</td><td>False</td><td>False</td><td>False</td><td>False</td><td>57.543993733715425</td><td>0.0</td><td>False</td><td>-8.144752267797958e-07</td><td>-1.2053129052965334e-10</td><td>-1.1410778099513703e-10</td><td>8.144667007775688e-07</td><td>False</td><td>False</td><td>True</td><td>True</td><td>True</td><td>True</td><td>False</td><td>False</td><td>True</td><td>False</td><td>True</td><td>False</td><td>False</td><td>False</td><td>False</td><td>True</td><td>True</td><td>True</td><td>122511.7256136113</td><td>122511.7256136113</td><td>8.726765086136393</td><td>8.726765086136393</td><td>172.16742</td><td>172.16742</td><td>False</td><td>False</td><td>False</td><td>False</td><td>False</td><td>False</td><td>True</td><td>nan</td><td>True</td><td>111045.31943470209</td><td>12.671822992463996</td><td>5.0367274</td><td>16.99226</td><td>3.6657114</td><td>False</td><td>False</td><td>False</td><td>False</td><td>False</td><td>False</td><td>False</td><td>False</td><td>False</td><td>False</td><td>2.9248147</td><td>True</td><td>69504.2654398368</td><td>5.727153915565347</td><td>False</td><td>False</td><td>False</td><td>86487.2065647457</td><td>6.447828176014197</td><td>False</td><td>False</td><td>False</td><td>92991.44964030031</td><td>7.261302747037803</td><td>False</td><td>False</td><td>False</td><td>111017.80855071695</td><td>12.668683616090451</td><td>False</td><td>True</td><td>85533.2281744664</td><td>7.0479410083740275</td><td>False</td><td>False</td><td>False</td><td>94807.0985695273</td><td>7.068096030886655</td><td>False</td><td>False</td><td>False</td><td>95872.06210073135</td><td>7.486237396975923</td><td>False</td><td>False</td><td>False</td><td>115812.65516339788</td><td>13.21584263063709</td><td>False</td><td>True</td><td>113284.2919299563</td><td>9.33462963737525</td><td>False</td><td>False</td><td>False</td><td>113168.01363126065</td><td>8.436946178495718</td><td>False</td><td>False</td><td>False</td><td>103786.17898623782</td><td>8.104216780063222</td><td>False</td><td>False</td><td>False</td><td>127313.72941813087</td><td>14.528275949943811</td><td>False</td><td>False</td><td>nan</td><td>nan</td><td>nan</td><td>nan</td><td>True</td><td>True</td><td>nan</td><td>nan</td><td>nan</td><td>nan</td><td>nan</td><td>nan</td><td>nan</td><td>nan</td><td>nan</td><td>nan</td><td>nan</td><td>nan</td><td>nan</td><td>nan</td><td>nan</td><td>nan</td><td>nan</td><td>nan</td><td>nan</td><td>nan</td><td>False</td><td>False</td><td>False</td><td>False</td><td>0</td><td>0</td><td>2.1775693027e-314</td><td>2.1775693027e-314</td><td>False</td><td>False</td><td>False</td><td>False</td><td>nan</td><td>nan</td><td>nan</td><td>nan</td><td>True</td><td>True</td><td>nan</td><td>nan</td><td>nan</td><td>nan</td><td>nan</td><td>nan</td><td>nan</td><td>nan</td><td>nan</td><td>nan</td><td>nan</td><td>nan</td><td>nan</td><td>nan</td><td>nan</td><td>nan</td><td>nan</td><td>nan</td><td>nan</td><td>nan</td><td>False</td><td>False</td><td>False</td><td>False</td><td>0</td><td>0</td><td>2.1775693027e-314</td><td>2.1775693027e-314</td><td>False</td><td>False</td><td>False</td><td>False</td><td>nan</td><td>nan</td><td>nan</td><td>nan</td><td>True</td><td>True</td><td>nan</td><td>nan</td><td>nan</td><td>nan</td><td>nan</td><td>nan</td><td>nan</td><td>nan</td><td>nan</td><td>nan</td><td>nan</td><td>nan</td><td>nan</td><td>nan</td><td>nan</td><td>nan</td><td>nan</td><td>nan</td><td>nan</td><td>nan</td><td>False</td><td>False</td><td>False</td><td>False</td><td>0</td><td>0</td><td>2.1775693027e-314</td><td>2.1775693027e-314</td><td>False</td><td>False</td><td>False</td><td>False</td><td>nan</td><td>nan</td><td>nan</td><td>nan</td><td>True</td><td>True</td><td>nan</td><td>nan</td><td>nan</td><td>nan</td><td>nan</td><td>nan</td><td>True</td><td>True</td><td>True</td><td>True</td><td>True</td><td>True</td><td>False</td><td>False</td><td>False</td><td>False</td><td>False</td><td>False</td><td>False</td><td>False</td><td>False</td><td>False</td><td>nan</td><td>nan</td><td>nan</td><td>nan</td><td>nan</td><td>nan</td><td>3842109.5732267955</td><td>3842109.5732267955</td><td>3832738.677407811</td><td>3832738.677407811</td><td>-74619.91187429664</td><td>-74619.91187429664</td><td>1.0</td><td>1.0</td><td>1.0</td><td>1.0</td><td>0.0</td><td>0.0</td><td>False</td><td>False</td><td>False</td><td>False</td><td>False</td><td>False</td><td>False</td><td>True</td><td>False</td><td>1.3836079496435096</td><td>1.3836079496435096</td><td>0.0</td><td>0.0</td><td>False</td><td>False</td><td>1.0261225137240546</td><td>1.0261225137240546</td><td>0.0</td><td>0.0</td><td>False</td><td>False</td><td>1.4903001962011755</td><td>0.0</td><td>False</td><td>1.2879703136968832</td><td>0.0</td><td>False</td><td>1.1662654863764883</td><td>0.0</td><td>False</td><td>1.1247197634698378</td><td>0.0</td><td>False</td><td>1.8339908482374503</td><td>0.0</td><td>False</td><td>1.41187041801232</td><td>0.0</td><td>False</td><td>1.2023930970893213</td><td>0.0</td><td>False</td><td>1.1732962830254818</td><td>0.0</td><td>False</td><td>2.4290250594168645</td><td>0.0</td><td>False</td><td>1.6853017666606203</td><td>0.0</td><td>False</td><td>1.3016491191689634</td><td>0.0</td><td>False</td><td>1.2898134948521136</td><td>0.0</td><td>False</td><td>1.1249984758253828</td><td>0.0</td><td>False</td><td>0.9441192072668055</td><td>0.9441192072668055</td><td>0.0</td><td>0.0</td><td>False</td><td>False</td><td>0.9455180159121714</td><td>0.9455180159121714</td><td>0.0</td><td>0.0</td><td>False</td><td>False</td><td>0.9580552233159559</td><td>0.9580552233159559</td><td>0.0</td><td>0.0</td><td>False</td><td>False</td><td>0.9624711084699734</td><td>0.9624711084699734</td><td>0.0</td><td>0.0</td><td>False</td><td>False</td><td>nan</td><td>True</td><td>12053335</td></tr>\n",
       "<tr><td>149957529009389573</td><td>0.6277247848344782</td><td>-0.08931672083303246</td><td>0</td><td>True</td><td>True</td><td>True</td><td>True</td><td>False</td><td>False</td><td>True</td><td>True</td><td>True</td><td>True</td><td>False</td><td>False</td><td>False</td><td>False</td><td>False</td><td>False</td><td>False</td><td>False</td><td>False</td><td>False</td><td>True</td><td>False</td><td>2</td><td>False</td><td>nan</td><td>nan</td><td>nan</td><td>True</td><td>False</td><td>False</td><td>False</td><td>False</td><td>False</td><td>False</td><td>0</td><td>0</td><td>0</td><td>0</td><td>0</td><td>12375.185530246963</td><td>19908.303382210936</td><td>False</td><td>False</td><td>False</td><td>False</td><td>12375.0</td><td>12375.0</td><td>19908.0</td><td>19908.0</td><td>nan</td><td>nan</td><td>nan</td><td>nan</td><td>True</td><td>True</td><td>True</td><td>True</td><td>True</td><td>True</td><td>True</td><td>True</td><td>True</td><td>True</td><td>True</td><td>True</td><td>True</td><td>True</td><td>True</td><td>True</td><td>True</td><td>True</td><td>True</td><td>True</td><td>True</td><td>True</td><td>True</td><td>True</td><td>True</td><td>True</td><td>True</td><td>True</td><td>True</td><td>True</td><td>True</td><td>True</td><td>True</td><td>True</td><td>True</td><td>True</td><td>True</td><td>True</td><td>True</td><td>True</td><td>False</td><td>False</td><td>False</td><td>False</td><td>False</td><td>False</td><td>False</td><td>False</td><td>False</td><td>False</td><td>False</td><td>False</td><td>False</td><td>False</td><td>False</td><td>False</td><td>False</td><td>False</td><td>False</td><td>False</td><td>False</td><td>False</td><td>False</td><td>False</td><td>False</td><td>False</td><td>False</td><td>False</td><td>False</td><td>False</td><td>False</td><td>False</td><td>False</td><td>False</td><td>False</td><td>False</td><td>False</td><td>False</td><td>False</td><td>False</td><td>False</td><td>False</td><td>False</td><td>False</td><td>False</td><td>False</td><td>False</td><td>False</td><td>False</td><td>False</td><td>False</td><td>False</td><td>False</td><td>False</td><td>False</td><td>False</td><td>False</td><td>False</td><td>False</td><td>False</td><td>False</td><td>False</td><td>False</td><td>False</td><td>False</td><td>False</td><td>False</td><td>False</td><td>False</td><td>False</td><td>False</td><td>False</td><td>False</td><td>False</td><td>False</td><td>False</td><td>False</td><td>False</td><td>False</td><td>False</td><td>False</td><td>False</td><td>False</td><td>False</td><td>False</td><td>False</td><td>False</td><td>False</td><td>False</td><td>False</td><td>False</td><td>False</td><td>False</td><td>False</td><td>False</td><td>False</td><td>False</td><td>False</td><td>False</td><td>False</td><td>0.0</td><td>0.0</td><td>14.870063410410333</td><td>14.870063410410333</td><td>0.0</td><td>13.966588045775607</td><td>13.966588045775607</td><td>5.071802794858567</td><td>2.5577426607039073</td><td>1.6852167264855529</td><td>5.071802794858567</td><td>2.5577426607039073</td><td>1.6852167264855529</td><td>6.24101352164925</td><td>2.49384474209041</td><td>1.5459456005423584</td><td>6.24101352164925</td><td>2.49384474209041</td><td>1.5459456005423584</td><td>True</td><td>True</td><td>True</td><td>False</td><td>4</td><td>False</td><td>2.594473423349324</td><td>10.237267895899645</td><td>4.594958220646464</td><td>nan</td><td>nan</td><td>nan</td><td>12375.17811324884</td><td>19908.23455381176</td><td>nan</td><td>nan</td><td>5.844252195753313</td><td>5.914777983288582</td><td>-0.168113603988289</td><td>nan</td><td>nan</td><td>nan</td><td>True</td><td>False</td><td>True</td><td>False</td><td>False</td><td>False</td><td>-0.0036930394939393603</td><td>-0.0036930394939393603</td><td>0.00010021220903269362</td><td>0.00010021220903269362</td><td>5.855699586203732</td><td>5.855699586203732</td><td>5.924341842535135</td><td>5.924341842535135</td><td>-0.16949268026084718</td><td>-0.16949268026084718</td><td>True</td><td>True</td><td>False</td><td>False</td><td>False</td><td>False</td><td>False</td><td>False</td><td>nan</td><td>nan</td><td>nan</td><td>nan</td><td>True</td><td>False</td><td>False</td><td>True</td><td>False</td><td>12361.73301333913</td><td>12361.73301333913</td><td>19902.06509124304</td><td>19902.06509124304</td><td>3.432239440930669</td><td>3.432239440930669</td><td>1.6656044811138782</td><td>1.6656044811138782</td><td>-0.10394936849731554</td><td>-0.10394936849731554</td><td>True</td><td>True</td><td>True</td><td>False</td><td>False</td><td>False</td><td>False</td><td>False</td><td>False</td><td>False</td><td>False</td><td>False</td><td>12361.73077243325</td><td>12361.73077243325</td><td>19902.163761949334</td><td>19902.163761949334</td><td>2.9246155737877007</td><td>2.9246155737877007</td><td>2.07994961512304</td><td>2.07994961512304</td><td>-0.064315097288105</td><td>-0.064315097288105</td><td>True</td><td>True</td><td>False</td><td>False</td><td>False</td><td>False</td><td>False</td><td>False</td><td>230.03986</td><td>230.03986</td><td>5.3547046139345875</td><td>4.322394538443081</td><td>-0.6145249984329157</td><td>0.20911969819187298</td><td>-0.1028358198169182</td><td>0.1400351850520729</td><td>0.004366969649412782</td><td>-0.009656370655816277</td><td>0.005751195197457034</td><td>0.006817833819511084</td><td>-0.005738932365846494</td><td>70.71087880341202</td><td>57.07883784158862</td><td>-8.11503263369136</td><td>0.20911969819187298</td><td>-0.1028358198169182</td><td>0.11429616165869334</td><td>0.0027743650500319707</td><td>-0.0028733635820020597</td><td>True</td><td>False</td><td>False</td><td>False</td><td>14.903284072875977</td><td>2.6842877864837646</td><td>True</td><td>False</td><td>False</td><td>26.770952224731445</td><td>4.049103736877441</td><td>True</td><td>False</td><td>True</td><td>35.10496520996094</td><td>5.425179958343506</td><td>True</td><td>False</td><td>True</td><td>nan</td><td>nan</td><td>True</td><td>True</td><td>True</td><td>nan</td><td>nan</td><td>nan</td><td>nan</td><td>nan</td><td>nan</td><td>True</td><td>True</td><td>True</td><td>True</td><td>True</td><td>True</td><td>True</td><td>True</td><td>True</td><td>nan</td><td>nan</td><td>True</td><td>True</td><td>nan</td><td>nan</td><td>True</td><td>True</td><td>nan</td><td>nan</td><td>True</td><td>True</td><td>nan</td><td>nan</td><td>True</td><td>True</td><td>nan</td><td>nan</td><td>True</td><td>True</td><td>20.620232638574848</td><td>20.620232638574848</td><td>3.9726092920677267</td><td>3.9726092920677267</td><td>False</td><td>False</td><td>0.01787966562947671</td><td>0.4604978280431174</td><td>True</td><td>False</td><td>False</td><td>False</td><td>57.543993733715425</td><td>0.0</td><td>False</td><td>-8.14468841136519e-07</td><td>-3.3991685588055227e-10</td><td>-3.3411288483207063e-10</td><td>8.144763991329757e-07</td><td>False</td><td>False</td><td>True</td><td>False</td><td>False</td><td>False</td><td>False</td><td>False</td><td>False</td><td>False</td><td>False</td><td>False</td><td>False</td><td>False</td><td>False</td><td>False</td><td>False</td><td>False</td><td>51.18183368171706</td><td>51.18183368171706</td><td>6.4474444558178465</td><td>6.4474444558178465</td><td>171.09058</td><td>171.09058</td><td>True</td><td>True</td><td>False</td><td>False</td><td>True</td><td>True</td><td>False</td><td>0.2569834291934967</td><td>False</td><td>nan</td><td>nan</td><td>nan</td><td>nan</td><td>nan</td><td>True</td><td>True</td><td>False</td><td>False</td><td>False</td><td>False</td><td>False</td><td>False</td><td>False</td><td>True</td><td>2.4243004</td><td>True</td><td>25.473903039361854</td><td>4.306018264860116</td><td>True</td><td>False</td><td>False</td><td>33.81050907206089</td><td>5.113835977150556</td><td>True</td><td>False</td><td>True</td><td>39.965454688476086</td><td>6.176328120686584</td><td>True</td><td>False</td><td>True</td><td>nan</td><td>nan</td><td>False</td><td>True</td><td>31.855000923882262</td><td>5.384656430285647</td><td>True</td><td>False</td><td>False</td><td>37.3835334167334</td><td>5.654255537296129</td><td>True</td><td>False</td><td>True</td><td>41.4405941340638</td><td>6.40429863448996</td><td>True</td><td>False</td><td>True</td><td>nan</td><td>nan</td><td>False</td><td>False</td><td>36.68475659844303</td><td>1.5211602998605935</td><td>True</td><td>False</td><td>False</td><td>40.90678330571175</td><td>2.033302596040106</td><td>True</td><td>False</td><td>True</td><td>44.580623366552544</td><td>3.0246029784725055</td><td>True</td><td>False</td><td>True</td><td>nan</td><td>nan</td><td>False</td><td>True</td><td>nan</td><td>nan</td><td>nan</td><td>nan</td><td>True</td><td>True</td><td>nan</td><td>nan</td><td>nan</td><td>nan</td><td>nan</td><td>nan</td><td>nan</td><td>nan</td><td>nan</td><td>nan</td><td>nan</td><td>nan</td><td>nan</td><td>nan</td><td>nan</td><td>nan</td><td>nan</td><td>nan</td><td>nan</td><td>nan</td><td>False</td><td>False</td><td>False</td><td>False</td><td>0</td><td>0</td><td>2.1775693027e-314</td><td>2.1775693027e-314</td><td>False</td><td>False</td><td>False</td><td>False</td><td>nan</td><td>nan</td><td>nan</td><td>nan</td><td>True</td><td>True</td><td>nan</td><td>nan</td><td>nan</td><td>nan</td><td>nan</td><td>nan</td><td>nan</td><td>nan</td><td>nan</td><td>nan</td><td>nan</td><td>nan</td><td>nan</td><td>nan</td><td>nan</td><td>nan</td><td>nan</td><td>nan</td><td>nan</td><td>nan</td><td>False</td><td>False</td><td>False</td><td>False</td><td>0</td><td>0</td><td>2.1775693027e-314</td><td>2.1775693027e-314</td><td>False</td><td>False</td><td>False</td><td>False</td><td>nan</td><td>nan</td><td>nan</td><td>nan</td><td>True</td><td>True</td><td>nan</td><td>nan</td><td>nan</td><td>nan</td><td>nan</td><td>nan</td><td>nan</td><td>nan</td><td>nan</td><td>nan</td><td>nan</td><td>nan</td><td>nan</td><td>nan</td><td>nan</td><td>nan</td><td>nan</td><td>nan</td><td>nan</td><td>nan</td><td>False</td><td>False</td><td>False</td><td>False</td><td>0</td><td>0</td><td>2.1775693027e-314</td><td>2.1775693027e-314</td><td>False</td><td>False</td><td>False</td><td>False</td><td>nan</td><td>nan</td><td>nan</td><td>nan</td><td>True</td><td>True</td><td>nan</td><td>nan</td><td>nan</td><td>nan</td><td>nan</td><td>nan</td><td>False</td><td>False</td><td>True</td><td>True</td><td>False</td><td>False</td><td>True</td><td>True</td><td>False</td><td>False</td><td>False</td><td>False</td><td>True</td><td>True</td><td>False</td><td>False</td><td>nan</td><td>nan</td><td>nan</td><td>nan</td><td>nan</td><td>nan</td><td>548.4506753122497</td><td>548.4506753122497</td><td>451.83651787097034</td><td>451.83651787097034</td><td>-58.81650107839988</td><td>-58.81650107839988</td><td>1.0</td><td>1.0</td><td>1.0</td><td>1.0</td><td>0.0</td><td>0.0</td><td>False</td><td>False</td><td>False</td><td>False</td><td>False</td><td>False</td><td>False</td><td>True</td><td>False</td><td>1.368425923091128</td><td>1.368425923091128</td><td>0.0</td><td>0.0</td><td>False</td><td>False</td><td>0.905851937804597</td><td>0.905851937804597</td><td>0.0</td><td>0.0</td><td>False</td><td>False</td><td>1.457390615098686</td><td>0.0</td><td>False</td><td>1.2629550412788897</td><td>0.0</td><td>False</td><td>1.138455897889225</td><td>0.0</td><td>False</td><td>1.1281507441841647</td><td>0.0</td><td>False</td><td>1.8224603948083873</td><td>0.0</td><td>False</td><td>1.3964215057766185</td><td>0.0</td><td>False</td><td>1.1804767184986455</td><td>0.0</td><td>False</td><td>1.2098622890059083</td><td>0.0</td><td>False</td><td>2.405037571016584</td><td>0.0</td><td>False</td><td>1.6678514852442101</td><td>0.0</td><td>False</td><td>1.3005571939585938</td><td>0.0</td><td>False</td><td>1.3917083238306</td><td>0.0</td><td>False</td><td>1.1162641841336391</td><td>0.0</td><td>False</td><td>0.8032926199093965</td><td>0.8032926199093965</td><td>0.0</td><td>0.0</td><td>False</td><td>False</td><td>0.8028616344924481</td><td>0.8028616344924481</td><td>0.0</td><td>0.0</td><td>False</td><td>False</td><td>0.8261431795826946</td><td>0.8261431795826946</td><td>0.0</td><td>0.0</td><td>False</td><td>False</td><td>0.8308113572446383</td><td>0.8308113572446383</td><td>0.0</td><td>0.0</td><td>False</td><td>False</td><td>nan</td><td>True</td><td>572</td></tr>\n",
       "<tr><td>149957529009389578</td><td>0.6272856622932783</td><td>-0.08931281929656715</td><td>0</td><td>True</td><td>True</td><td>True</td><td>False</td><td>True</td><td>False</td><td>True</td><td>True</td><td>False</td><td>True</td><td>False</td><td>False</td><td>False</td><td>False</td><td>False</td><td>False</td><td>False</td><td>False</td><td>False</td><td>False</td><td>True</td><td>False</td><td>17</td><td>False</td><td>nan</td><td>nan</td><td>nan</td><td>True</td><td>False</td><td>False</td><td>False</td><td>False</td><td>False</td><td>False</td><td>0</td><td>0</td><td>0</td><td>0</td><td>0</td><td>12911.999735740093</td><td>19912.96735883045</td><td>False</td><td>False</td><td>False</td><td>False</td><td>12912.0</td><td>12912.0</td><td>19913.0</td><td>19913.0</td><td>nan</td><td>nan</td><td>nan</td><td>nan</td><td>True</td><td>True</td><td>True</td><td>True</td><td>True</td><td>True</td><td>True</td><td>True</td><td>True</td><td>True</td><td>True</td><td>True</td><td>True</td><td>True</td><td>True</td><td>True</td><td>True</td><td>True</td><td>True</td><td>True</td><td>True</td><td>True</td><td>True</td><td>True</td><td>True</td><td>True</td><td>True</td><td>True</td><td>True</td><td>True</td><td>True</td><td>True</td><td>True</td><td>True</td><td>True</td><td>True</td><td>True</td><td>True</td><td>True</td><td>True</td><td>False</td><td>False</td><td>False</td><td>False</td><td>False</td><td>False</td><td>False</td><td>False</td><td>False</td><td>False</td><td>False</td><td>False</td><td>False</td><td>False</td><td>False</td><td>False</td><td>False</td><td>False</td><td>False</td><td>False</td><td>False</td><td>False</td><td>False</td><td>False</td><td>False</td><td>False</td><td>False</td><td>False</td><td>False</td><td>False</td><td>False</td><td>False</td><td>False</td><td>False</td><td>False</td><td>False</td><td>False</td><td>False</td><td>False</td><td>False</td><td>False</td><td>False</td><td>False</td><td>False</td><td>False</td><td>False</td><td>False</td><td>False</td><td>False</td><td>False</td><td>False</td><td>False</td><td>False</td><td>False</td><td>False</td><td>False</td><td>False</td><td>False</td><td>False</td><td>False</td><td>False</td><td>False</td><td>False</td><td>False</td><td>False</td><td>False</td><td>False</td><td>False</td><td>False</td><td>False</td><td>False</td><td>False</td><td>False</td><td>False</td><td>False</td><td>False</td><td>False</td><td>False</td><td>False</td><td>False</td><td>False</td><td>False</td><td>False</td><td>False</td><td>False</td><td>False</td><td>False</td><td>False</td><td>False</td><td>False</td><td>False</td><td>False</td><td>False</td><td>False</td><td>False</td><td>False</td><td>False</td><td>False</td><td>False</td><td>False</td><td>0.0</td><td>nan</td><td>nan</td><td>nan</td><td>nan</td><td>nan</td><td>nan</td><td>nan</td><td>nan</td><td>nan</td><td>nan</td><td>nan</td><td>nan</td><td>nan</td><td>nan</td><td>nan</td><td>nan</td><td>nan</td><td>nan</td><td>True</td><td>True</td><td>True</td><td>False</td><td>6</td><td>False</td><td>3.064397809138294</td><td>5.828953178061641</td><td>1.2044815841432208</td><td>0.8617254</td><td>0.87384355</td><td>1.6391335</td><td>12911.950360065732</td><td>19913.156768131714</td><td>29.761760041556045</td><td>4.18458456336854</td><td>5.497111742132245</td><td>5.882909232324508</td><td>-0.3166239215120987</td><td>-1.8029814</td><td>-0.7086735</td><td>-3.429546</td><td>False</td><td>False</td><td>False</td><td>False</td><td>False</td><td>False</td><td>-0.007647340422900909</td><td>-0.007647340422900909</td><td>0.005639509046702237</td><td>0.005639509046702237</td><td>5.504677530860535</td><td>5.504677530860535</td><td>5.890901264289488</td><td>5.890901264289488</td><td>-0.31834379453250145</td><td>-0.31834379453250145</td><td>True</td><td>True</td><td>False</td><td>False</td><td>False</td><td>False</td><td>False</td><td>False</td><td>nan</td><td>nan</td><td>nan</td><td>nan</td><td>True</td><td>False</td><td>False</td><td>True</td><td>False</td><td>nan</td><td>nan</td><td>nan</td><td>nan</td><td>nan</td><td>nan</td><td>nan</td><td>nan</td><td>nan</td><td>nan</td><td>True</td><td>True</td><td>True</td><td>False</td><td>False</td><td>False</td><td>False</td><td>False</td><td>False</td><td>False</td><td>False</td><td>False</td><td>nan</td><td>nan</td><td>nan</td><td>nan</td><td>nan</td><td>nan</td><td>nan</td><td>nan</td><td>nan</td><td>nan</td><td>True</td><td>True</td><td>False</td><td>False</td><td>False</td><td>False</td><td>False</td><td>False</td><td>nan</td><td>nan</td><td>4.859105140825289</td><td>4.74596553999519</td><td>-0.5026327896112173</td><td>0.1355956031152308</td><td>-0.0013275342706377206</td><td>0.1599189706892719</td><td>0.00021203512817000836</td><td>-0.007514616477781815</td><td>0.0025723670117362343</td><td>0.004160660099638187</td><td>-0.0025723499649691344</td><td>54.971169993772605</td><td>53.69121904601381</td><td>-5.68629649315832</td><td>0.1355956031152308</td><td>-0.0013275342706377206</td><td>0.09777902076677908</td><td>0.0005095153368876073</td><td>-0.0021685625323893927</td><td>True</td><td>False</td><td>False</td><td>False</td><td>19.12689208984375</td><td>2.1287920475006104</td><td>True</td><td>False</td><td>False</td><td>27.38068962097168</td><td>3.232445001602173</td><td>True</td><td>False</td><td>True</td><td>33.727378845214844</td><td>4.3664469718933105</td><td>True</td><td>False</td><td>True</td><td>42.77446746826172</td><td>6.6412835121154785</td><td>True</td><td>False</td><td>True</td><td>55.63104248046875</td><td>55.63104248046875</td><td>55.63104248046875</td><td>8.91775894165039</td><td>8.91775894165039</td><td>8.91775894165039</td><td>True</td><td>True</td><td>True</td><td>False</td><td>False</td><td>False</td><td>True</td><td>True</td><td>True</td><td>nan</td><td>nan</td><td>True</td><td>True</td><td>nan</td><td>nan</td><td>True</td><td>True</td><td>nan</td><td>nan</td><td>True</td><td>True</td><td>nan</td><td>nan</td><td>True</td><td>True</td><td>nan</td><td>nan</td><td>True</td><td>True</td><td>nan</td><td>nan</td><td>nan</td><td>nan</td><td>True</td><td>True</td><td>0.03523924121231122</td><td>0.44127140837411477</td><td>True</td><td>False</td><td>False</td><td>False</td><td>57.543993733715425</td><td>0.0</td><td>False</td><td>-8.144719567172292e-07</td><td>-3.074614190296451e-10</td><td>-3.0219844865970206e-10</td><td>8.144779555641081e-07</td><td>False</td><td>False</td><td>True</td><td>False</td><td>False</td><td>False</td><td>False</td><td>False</td><td>False</td><td>False</td><td>False</td><td>False</td><td>False</td><td>False</td><td>False</td><td>False</td><td>True</td><td>True</td><td>50.727789770441376</td><td>50.727789770441376</td><td>4.916188702978642</td><td>4.916188702978642</td><td>145.1665</td><td>145.1665</td><td>True</td><td>True</td><td>False</td><td>False</td><td>True</td><td>True</td><td>True</td><td>nan</td><td>True</td><td>nan</td><td>nan</td><td>nan</td><td>nan</td><td>nan</td><td>True</td><td>True</td><td>False</td><td>False</td><td>False</td><td>False</td><td>False</td><td>False</td><td>False</td><td>True</td><td>2.382847</td><td>True</td><td>30.584002987791695</td><td>3.382410594943408</td><td>True</td><td>False</td><td>False</td><td>33.91131238152611</td><td>4.003421890494514</td><td>True</td><td>False</td><td>True</td><td>38.00603375728474</td><td>4.920374387075017</td><td>True</td><td>False</td><td>True</td><td>nan</td><td>nan</td><td>False</td><td>True</td><td>38.12657123870734</td><td>4.216574218821046</td><td>True</td><td>False</td><td>False</td><td>37.44842899429658</td><td>4.420998477253549</td><td>True</td><td>False</td><td>True</td><td>39.3451210206563</td><td>5.093736614631554</td><td>True</td><td>False</td><td>True</td><td>nan</td><td>nan</td><td>False</td><td>False</td><td>41.73981630574017</td><td>1.124855434230565</td><td>True</td><td>False</td><td>False</td><td>41.47683808774086</td><td>1.0767498846325774</td><td>True</td><td>False</td><td>True</td><td>41.73060975444314</td><td>1.128421454116048</td><td>True</td><td>False</td><td>True</td><td>nan</td><td>nan</td><td>False</td><td>True</td><td>nan</td><td>nan</td><td>nan</td><td>nan</td><td>True</td><td>True</td><td>nan</td><td>nan</td><td>nan</td><td>nan</td><td>nan</td><td>nan</td><td>nan</td><td>nan</td><td>nan</td><td>nan</td><td>nan</td><td>nan</td><td>nan</td><td>nan</td><td>nan</td><td>nan</td><td>nan</td><td>nan</td><td>nan</td><td>nan</td><td>False</td><td>False</td><td>False</td><td>False</td><td>0</td><td>0</td><td>2.1775693027e-314</td><td>2.1775693027e-314</td><td>False</td><td>False</td><td>False</td><td>False</td><td>nan</td><td>nan</td><td>nan</td><td>nan</td><td>True</td><td>True</td><td>nan</td><td>nan</td><td>nan</td><td>nan</td><td>nan</td><td>nan</td><td>nan</td><td>nan</td><td>nan</td><td>nan</td><td>nan</td><td>nan</td><td>nan</td><td>nan</td><td>nan</td><td>nan</td><td>nan</td><td>nan</td><td>nan</td><td>nan</td><td>False</td><td>False</td><td>False</td><td>False</td><td>0</td><td>0</td><td>2.1775693027e-314</td><td>2.1775693027e-314</td><td>False</td><td>False</td><td>False</td><td>False</td><td>nan</td><td>nan</td><td>nan</td><td>nan</td><td>True</td><td>True</td><td>nan</td><td>nan</td><td>nan</td><td>nan</td><td>nan</td><td>nan</td><td>nan</td><td>nan</td><td>nan</td><td>nan</td><td>nan</td><td>nan</td><td>nan</td><td>nan</td><td>nan</td><td>nan</td><td>nan</td><td>nan</td><td>nan</td><td>nan</td><td>False</td><td>False</td><td>False</td><td>False</td><td>0</td><td>0</td><td>2.1775693027e-314</td><td>2.1775693027e-314</td><td>False</td><td>False</td><td>False</td><td>False</td><td>nan</td><td>nan</td><td>nan</td><td>nan</td><td>True</td><td>True</td><td>nan</td><td>nan</td><td>nan</td><td>nan</td><td>nan</td><td>nan</td><td>False</td><td>False</td><td>True</td><td>True</td><td>True</td><td>True</td><td>False</td><td>False</td><td>False</td><td>False</td><td>False</td><td>False</td><td>True</td><td>True</td><td>False</td><td>False</td><td>nan</td><td>nan</td><td>nan</td><td>nan</td><td>nan</td><td>nan</td><td>940.6264680424547</td><td>940.6264680424547</td><td>930.5172481665882</td><td>930.5172481665882</td><td>-91.66842856483295</td><td>-91.66842856483295</td><td>1.0</td><td>1.0</td><td>1.0</td><td>1.0</td><td>0.0</td><td>0.0</td><td>False</td><td>False</td><td>False</td><td>False</td><td>False</td><td>False</td><td>False</td><td>True</td><td>False</td><td>1.3492522971631185</td><td>1.3492522971631185</td><td>0.0</td><td>0.0</td><td>False</td><td>False</td><td>0.9683170089191899</td><td>0.9683170089191899</td><td>0.0</td><td>0.0</td><td>False</td><td>False</td><td>1.4424883287134522</td><td>0.0</td><td>False</td><td>1.2385119896889827</td><td>0.0</td><td>False</td><td>1.1268599890820434</td><td>0.0</td><td>False</td><td>1.127648538264358</td><td>0.0</td><td>False</td><td>1.7982320380903276</td><td>0.0</td><td>False</td><td>1.3676948795918462</td><td>0.0</td><td>False</td><td>1.1665632601105167</td><td>0.0</td><td>False</td><td>1.2142402487466228</td><td>0.0</td><td>False</td><td>2.3666836579895922</td><td>0.0</td><td>False</td><td>1.6411139483420747</td><td>0.0</td><td>False</td><td>1.2740112665589338</td><td>0.0</td><td>False</td><td>1.4087845327155812</td><td>0.0</td><td>False</td><td>1.1140154675346785</td><td>0.0</td><td>False</td><td>0.8438214721832749</td><td>0.8438214721832749</td><td>0.0</td><td>0.0</td><td>False</td><td>False</td><td>0.8438988933303677</td><td>0.8438988933303677</td><td>0.0</td><td>0.0</td><td>False</td><td>False</td><td>0.8795223033652386</td><td>0.8795223033652386</td><td>0.0</td><td>0.0</td><td>False</td><td>False</td><td>0.8847712242819065</td><td>0.8847712242819065</td><td>0.0</td><td>0.0</td><td>False</td><td>False</td><td>nan</td><td>True</td><td>2925</td></tr>\n",
       "<tr><td>149957529009389580</td><td>0.6266404720226093</td><td>-0.08931711164109847</td><td>0</td><td>True</td><td>True</td><td>True</td><td>True</td><td>True</td><td>False</td><td>True</td><td>False</td><td>False</td><td>True</td><td>False</td><td>False</td><td>False</td><td>False</td><td>False</td><td>False</td><td>False</td><td>True</td><td>False</td><td>False</td><td>False</td><td>False</td><td>3</td><td>False</td><td>nan</td><td>nan</td><td>nan</td><td>True</td><td>False</td><td>False</td><td>False</td><td>False</td><td>False</td><td>False</td><td>0</td><td>0</td><td>0</td><td>0</td><td>0</td><td>13700.836705872493</td><td>19907.764575004676</td><td>False</td><td>False</td><td>False</td><td>False</td><td>13701.0</td><td>13701.0</td><td>19908.0</td><td>19908.0</td><td>nan</td><td>nan</td><td>nan</td><td>nan</td><td>True</td><td>True</td><td>True</td><td>True</td><td>True</td><td>True</td><td>True</td><td>True</td><td>True</td><td>True</td><td>True</td><td>True</td><td>True</td><td>True</td><td>True</td><td>True</td><td>True</td><td>True</td><td>True</td><td>True</td><td>True</td><td>True</td><td>True</td><td>True</td><td>True</td><td>True</td><td>True</td><td>True</td><td>True</td><td>True</td><td>True</td><td>True</td><td>True</td><td>True</td><td>True</td><td>True</td><td>True</td><td>True</td><td>True</td><td>True</td><td>False</td><td>False</td><td>False</td><td>False</td><td>False</td><td>False</td><td>False</td><td>False</td><td>False</td><td>False</td><td>False</td><td>False</td><td>False</td><td>False</td><td>False</td><td>False</td><td>False</td><td>False</td><td>False</td><td>False</td><td>False</td><td>False</td><td>False</td><td>False</td><td>False</td><td>False</td><td>False</td><td>False</td><td>False</td><td>False</td><td>False</td><td>False</td><td>False</td><td>False</td><td>False</td><td>False</td><td>False</td><td>False</td><td>False</td><td>False</td><td>False</td><td>False</td><td>False</td><td>False</td><td>False</td><td>False</td><td>False</td><td>False</td><td>False</td><td>False</td><td>False</td><td>False</td><td>False</td><td>False</td><td>False</td><td>False</td><td>False</td><td>False</td><td>False</td><td>False</td><td>False</td><td>False</td><td>False</td><td>False</td><td>False</td><td>False</td><td>False</td><td>False</td><td>False</td><td>False</td><td>False</td><td>False</td><td>False</td><td>False</td><td>False</td><td>False</td><td>False</td><td>False</td><td>False</td><td>False</td><td>False</td><td>False</td><td>False</td><td>False</td><td>False</td><td>False</td><td>False</td><td>False</td><td>False</td><td>False</td><td>False</td><td>False</td><td>False</td><td>False</td><td>False</td><td>False</td><td>False</td><td>False</td><td>False</td><td>False</td><td>0.0</td><td>-0.3152280516206247</td><td>126.63576125129967</td><td>96.28426119353144</td><td>-0.028951611603877048</td><td>163.88043583461607</td><td>159.26933199430792</td><td>343.3196168132438</td><td>44.75764226885365</td><td>-101.91875903100625</td><td>226.54961463465315</td><td>39.064309759592085</td><td>-70.87069889133552</td><td>398.0738328668957</td><td>50.457627762458536</td><td>-117.32469846158338</td><td>391.1593907953446</td><td>51.277658874518096</td><td>-117.38898738262557</td><td>True</td><td>True</td><td>True</td><td>False</td><td>4</td><td>False</td><td>9.77416207868236</td><td>6.1918209838460285</td><td>-1.3049653638270626</td><td>nan</td><td>nan</td><td>nan</td><td>13701.089442655064</td><td>19907.481897540372</td><td>nan</td><td>nan</td><td>5.533873120129708</td><td>6.166770744992973</td><td>-0.4251713918588266</td><td>nan</td><td>nan</td><td>nan</td><td>True</td><td>False</td><td>True</td><td>False</td><td>False</td><td>False</td><td>-0.004095349705257486</td><td>-0.004095349705257486</td><td>-0.001187747723882513</td><td>-0.001187747723882513</td><td>5.540717407499972</td><td>5.540717407499972</td><td>6.175319401154352</td><td>6.175319401154352</td><td>-0.426114897776496</td><td>-0.426114897776496</td><td>True</td><td>True</td><td>False</td><td>False</td><td>False</td><td>False</td><td>False</td><td>False</td><td>nan</td><td>nan</td><td>nan</td><td>nan</td><td>True</td><td>False</td><td>False</td><td>True</td><td>False</td><td>13712.445526290658</td><td>13712.445526290658</td><td>19906.604850455304</td><td>19906.604850455304</td><td>239.4577185548277</td><td>239.4577185548277</td><td>31.83469670771373</td><td>31.83469670771373</td><td>-73.53212911572922</td><td>-73.53212911572922</td><td>True</td><td>True</td><td>True</td><td>False</td><td>False</td><td>False</td><td>False</td><td>False</td><td>False</td><td>False</td><td>False</td><td>False</td><td>13701.733381362485</td><td>13701.733381362485</td><td>19910.267384162264</td><td>19910.267384162264</td><td>74.0539101046237</td><td>74.0539101046237</td><td>30.342897367557143</td><td>30.342897367557143</td><td>-19.782601187053928</td><td>-19.782601187053928</td><td>True</td><td>True</td><td>False</td><td>False</td><td>False</td><td>False</td><td>False</td><td>False</td><td>86.25729</td><td>86.25729</td><td>4.445603711409097</td><td>5.204570497288174</td><td>0.02597444841975912</td><td>0.05467316963769545</td><td>0.03835957317173428</td><td>0.1496665309260965</td><td>-0.0018877383464751987</td><td>-0.003000206477365653</td><td>-0.0015144807086840961</td><td>-0.005705361156314198</td><td>0.001516709713295944</td><td>55.31268679742568</td><td>64.75583441970257</td><td>0.32317692341556803</td><td>0.05467316963769545</td><td>0.03835957317173428</td><td>0.10534702768556786</td><td>-0.000831594412656632</td><td>-0.000821987812926869</td><td>True</td><td>False</td><td>False</td><td>False</td><td>5.251348495483398</td><td>2.509268045425415</td><td>True</td><td>False</td><td>False</td><td>9.475173950195312</td><td>3.8173038959503174</td><td>True</td><td>False</td><td>True</td><td>17.952058792114258</td><td>5.121356010437012</td><td>True</td><td>False</td><td>True</td><td>nan</td><td>nan</td><td>True</td><td>True</td><td>True</td><td>nan</td><td>nan</td><td>nan</td><td>nan</td><td>nan</td><td>nan</td><td>True</td><td>True</td><td>True</td><td>True</td><td>True</td><td>True</td><td>True</td><td>True</td><td>True</td><td>nan</td><td>nan</td><td>True</td><td>True</td><td>nan</td><td>nan</td><td>True</td><td>True</td><td>nan</td><td>nan</td><td>True</td><td>True</td><td>nan</td><td>nan</td><td>True</td><td>True</td><td>nan</td><td>nan</td><td>True</td><td>True</td><td>179.44679779384026</td><td>179.44679779384026</td><td>15.558483225936952</td><td>15.558483225936952</td><td>False</td><td>False</td><td>0.027221033256864757</td><td>0.47492733642490526</td><td>True</td><td>False</td><td>False</td><td>False</td><td>57.543993733715425</td><td>0.0</td><td>False</td><td>-8.144759785573711e-07</td><td>-2.5977515328254706e-10</td><td>-2.553406886868901e-10</td><td>8.144799834274415e-07</td><td>False</td><td>False</td><td>True</td><td>False</td><td>False</td><td>False</td><td>False</td><td>False</td><td>False</td><td>False</td><td>False</td><td>False</td><td>False</td><td>False</td><td>False</td><td>False</td><td>False</td><td>False</td><td>23.48478782471827</td><td>23.48478782471827</td><td>5.999422893283434</td><td>5.999422893283434</td><td>155.88733</td><td>155.88733</td><td>True</td><td>True</td><td>False</td><td>False</td><td>True</td><td>True</td><td>False</td><td>0.23792323470115662</td><td>False</td><td>nan</td><td>nan</td><td>nan</td><td>nan</td><td>nan</td><td>True</td><td>True</td><td>False</td><td>False</td><td>False</td><td>False</td><td>False</td><td>False</td><td>False</td><td>True</td><td>2.4137201</td><td>True</td><td>8.875301855971971</td><td>4.030572910182748</td><td>True</td><td>False</td><td>False</td><td>11.901229178065819</td><td>4.794699152419443</td><td>True</td><td>False</td><td>True</td><td>20.528869195090394</td><td>5.856467431241591</td><td>True</td><td>False</td><td>True</td><td>nan</td><td>nan</td><td>False</td><td>True</td><td>10.943726810482605</td><td>4.969914210759113</td><td>True</td><td>False</td><td>False</td><td>13.059051798519755</td><td>5.26115610857771</td><td>True</td><td>False</td><td>True</td><td>21.17950248328619</td><td>6.042079830336208</td><td>True</td><td>False</td><td>True</td><td>nan</td><td>nan</td><td>False</td><td>False</td><td>13.29415448978094</td><td>1.3899266974426117</td><td>True</td><td>False</td><td>False</td><td>16.560310422889653</td><td>1.8537890468646856</td><td>True</td><td>False</td><td>True</td><td>23.194987583425323</td><td>2.7856738009031496</td><td>True</td><td>False</td><td>True</td><td>nan</td><td>nan</td><td>False</td><td>True</td><td>nan</td><td>nan</td><td>nan</td><td>nan</td><td>True</td><td>True</td><td>nan</td><td>nan</td><td>nan</td><td>nan</td><td>nan</td><td>nan</td><td>nan</td><td>nan</td><td>nan</td><td>nan</td><td>nan</td><td>nan</td><td>nan</td><td>nan</td><td>nan</td><td>nan</td><td>nan</td><td>nan</td><td>nan</td><td>nan</td><td>False</td><td>False</td><td>False</td><td>False</td><td>0</td><td>0</td><td>2.1775693027e-314</td><td>2.1775693027e-314</td><td>False</td><td>False</td><td>False</td><td>False</td><td>nan</td><td>nan</td><td>nan</td><td>nan</td><td>True</td><td>True</td><td>nan</td><td>nan</td><td>nan</td><td>nan</td><td>nan</td><td>nan</td><td>nan</td><td>nan</td><td>nan</td><td>nan</td><td>nan</td><td>nan</td><td>nan</td><td>nan</td><td>nan</td><td>nan</td><td>nan</td><td>nan</td><td>nan</td><td>nan</td><td>False</td><td>False</td><td>False</td><td>False</td><td>0</td><td>0</td><td>2.1775693027e-314</td><td>2.1775693027e-314</td><td>False</td><td>False</td><td>False</td><td>False</td><td>nan</td><td>nan</td><td>nan</td><td>nan</td><td>True</td><td>True</td><td>nan</td><td>nan</td><td>nan</td><td>nan</td><td>nan</td><td>nan</td><td>nan</td><td>nan</td><td>nan</td><td>nan</td><td>nan</td><td>nan</td><td>nan</td><td>nan</td><td>nan</td><td>nan</td><td>nan</td><td>nan</td><td>nan</td><td>nan</td><td>False</td><td>False</td><td>False</td><td>False</td><td>0</td><td>0</td><td>2.1775693027e-314</td><td>2.1775693027e-314</td><td>False</td><td>False</td><td>False</td><td>False</td><td>nan</td><td>nan</td><td>nan</td><td>nan</td><td>True</td><td>True</td><td>nan</td><td>nan</td><td>nan</td><td>nan</td><td>nan</td><td>nan</td><td>False</td><td>False</td><td>True</td><td>True</td><td>False</td><td>False</td><td>True</td><td>True</td><td>False</td><td>False</td><td>False</td><td>False</td><td>True</td><td>True</td><td>False</td><td>False</td><td>nan</td><td>nan</td><td>nan</td><td>nan</td><td>nan</td><td>nan</td><td>408.443796104148</td><td>408.443796104148</td><td>475.40620644718257</td><td>475.40620644718257</td><td>-1.1316694062409247</td><td>-1.1316694062409247</td><td>1.0</td><td>1.0</td><td>1.0</td><td>1.0</td><td>0.0</td><td>0.0</td><td>False</td><td>False</td><td>False</td><td>False</td><td>False</td><td>False</td><td>False</td><td>True</td><td>False</td><td>1.3356031767671515</td><td>1.3356031767671515</td><td>0.0</td><td>0.0</td><td>False</td><td>False</td><td>0.9370386638998894</td><td>0.9370386638998894</td><td>0.0</td><td>0.0</td><td>False</td><td>False</td><td>1.4560906281472334</td><td>0.0</td><td>False</td><td>1.2560433444940078</td><td>0.0</td><td>False</td><td>1.1435384338262107</td><td>0.0</td><td>False</td><td>1.1244586396246385</td><td>0.0</td><td>False</td><td>1.7954384317672565</td><td>0.0</td><td>False</td><td>1.3782387391685371</td><td>0.0</td><td>False</td><td>1.17978125676536</td><td>0.0</td><td>False</td><td>1.2070723847339493</td><td>0.0</td><td>False</td><td>2.3667951836459657</td><td>0.0</td><td>False</td><td>1.640149105304314</td><td>0.0</td><td>False</td><td>1.2779351247695092</td><td>0.0</td><td>False</td><td>1.3890995080616595</td><td>0.0</td><td>False</td><td>1.1125601940586356</td><td>0.0</td><td>False</td><td>0.8107245367736315</td><td>0.8107245367736315</td><td>0.0</td><td>0.0</td><td>False</td><td>False</td><td>0.8055817168626163</td><td>0.8055817168626163</td><td>0.0</td><td>0.0</td><td>False</td><td>False</td><td>0.836035771771802</td><td>0.836035771771802</td><td>0.0</td><td>0.0</td><td>False</td><td>False</td><td>0.8340832271451455</td><td>0.8340832271451455</td><td>0.0</td><td>0.0</td><td>False</td><td>False</td><td>nan</td><td>True</td><td>596</td></tr>\n",
       "</table>"
      ],
      "text/plain": [
       "<Table length=5>\n",
       "        id              coord_ra      ... base_FootprintArea_value\n",
       "                          rad         ...           pix           \n",
       "      int64             float64       ...          int32          \n",
       "------------------ ------------------ ... ------------------------\n",
       "149957529009389569  0.627996271033287 ...                       67\n",
       "149957529009389570 0.6247565636943508 ...                 12053335\n",
       "149957529009389573 0.6277247848344782 ...                      572\n",
       "149957529009389578 0.6272856622932783 ...                     2925\n",
       "149957529009389580 0.6266404720226093 ...                      596"
      ]
     },
     "execution_count": 129,
     "metadata": {},
     "output_type": "execute_result"
    }
   ],
   "source": [
    "m=measSources.asAstropy()\n",
    "#m['base_ClassificationExtendedness_value']=measSources['base_ClassificationExtendedness_value']\n",
    "m[:5]"
   ]
  },
  {
   "cell_type": "code",
   "execution_count": 130,
   "metadata": {},
   "outputs": [
    {
     "name": "stdout",
     "output_type": "stream",
     "text": [
      "base_ClassificationExtendedness_value\n",
      "base_ClassificationExtendedness_flag\n"
     ]
    }
   ],
   "source": [
    "for c in m.colnames:\n",
    "    if 'Extend' in c:\n",
    "        print(c)"
   ]
  },
  {
   "cell_type": "code",
   "execution_count": 14,
   "metadata": {
    "scrolled": false
   },
   "outputs": [
    {
     "data": {
      "text/plain": [
       "['id',\n",
       " 'HSC-G_m_coord_ra',\n",
       " 'HSC-G_m_coord_dec',\n",
       " 'HSC-G_m_parent',\n",
       " 'HSC-G_m_merge_footprint_HSC-G']"
      ]
     },
     "execution_count": 14,
     "metadata": {},
     "output_type": "execute_result"
    }
   ],
   "source": [
    "cat.colnames[0:5]"
   ]
  },
  {
   "cell_type": "code",
   "execution_count": 15,
   "metadata": {},
   "outputs": [
    {
     "data": {
      "text/plain": [
       "'mag within 12.000000-pixel aperture'"
      ]
     },
     "execution_count": 15,
     "metadata": {},
     "output_type": "execute_result"
    }
   ],
   "source": [
    "cat['HSC-G_m_slot_CalibFlux_instFlux'].description.replace('instFlux', 'mag')"
   ]
  },
  {
   "cell_type": "code",
   "execution_count": 16,
   "metadata": {},
   "outputs": [
    {
     "data": {
      "text/plain": [
       "'mag within 12.000000-pixel aperture'"
      ]
     },
     "execution_count": 16,
     "metadata": {},
     "output_type": "execute_result"
    }
   ],
   "source": [
    "cat['HSC-G_m_slot_CalibFlux_mag'].description"
   ]
  },
  {
   "cell_type": "code",
   "execution_count": 17,
   "metadata": {},
   "outputs": [],
   "source": [
    "cols = Table()\n",
    "cols['name'] = cat.colnames\n",
    "cols['description'] = [cat[c].description for c in cat.colnames]\n",
    "cols['unit'] = [str(cat[c].unit) for c in cat.colnames]\n",
    "cols['type'] = [cat[c].dtype for c in cat.colnames]\n",
    "cols.write('./columns_descriptions.csv')"
   ]
  },
  {
   "cell_type": "code",
   "execution_count": 35,
   "metadata": {},
   "outputs": [
    {
     "data": {
      "text/plain": [
       "['id',\n",
       " 'VISTA-Ks_m_coord_ra',\n",
       " 'VISTA-Ks_m_coord_dec',\n",
       " 'VISTA-Ks_m_detect_isPatchInner',\n",
       " 'VISTA-Ks_m_detect_isTractInner',\n",
       " 'HSC-G_m_base_CircularApertureFlux_6_0_mag',\n",
       " 'HSC-R_m_base_CircularApertureFlux_6_0_mag',\n",
       " 'HSC-I_m_base_CircularApertureFlux_6_0_mag',\n",
       " 'HSC-Z_m_base_CircularApertureFlux_6_0_mag',\n",
       " 'HSC-Y_m_base_CircularApertureFlux_6_0_mag',\n",
       " 'VISTA-Z_m_base_CircularApertureFlux_6_0_mag',\n",
       " 'VISTA-Y_m_base_CircularApertureFlux_6_0_mag',\n",
       " 'VISTA-J_m_base_CircularApertureFlux_6_0_mag',\n",
       " 'VISTA-H_m_base_CircularApertureFlux_6_0_mag',\n",
       " 'VISTA-Ks_m_base_CircularApertureFlux_6_0_mag',\n",
       " 'HSC-G_m_base_CircularApertureFlux_6_0_magErr',\n",
       " 'HSC-R_m_base_CircularApertureFlux_6_0_magErr',\n",
       " 'HSC-I_m_base_CircularApertureFlux_6_0_magErr',\n",
       " 'HSC-Z_m_base_CircularApertureFlux_6_0_magErr',\n",
       " 'HSC-Y_m_base_CircularApertureFlux_6_0_magErr',\n",
       " 'VISTA-Z_m_base_CircularApertureFlux_6_0_magErr',\n",
       " 'VISTA-Y_m_base_CircularApertureFlux_6_0_magErr',\n",
       " 'VISTA-J_m_base_CircularApertureFlux_6_0_magErr',\n",
       " 'VISTA-H_m_base_CircularApertureFlux_6_0_magErr',\n",
       " 'VISTA-Ks_m_base_CircularApertureFlux_6_0_magErr',\n",
       " 'HSC-G_m_base_CircularApertureFlux_6_0_flag',\n",
       " 'HSC-R_m_base_CircularApertureFlux_6_0_flag',\n",
       " 'HSC-I_m_base_CircularApertureFlux_6_0_flag',\n",
       " 'HSC-Z_m_base_CircularApertureFlux_6_0_flag',\n",
       " 'HSC-Y_m_base_CircularApertureFlux_6_0_flag',\n",
       " 'VISTA-Z_m_base_CircularApertureFlux_6_0_flag',\n",
       " 'VISTA-Y_m_base_CircularApertureFlux_6_0_flag',\n",
       " 'VISTA-J_m_base_CircularApertureFlux_6_0_flag',\n",
       " 'VISTA-H_m_base_CircularApertureFlux_6_0_flag',\n",
       " 'VISTA-Ks_m_base_CircularApertureFlux_6_0_flag',\n",
       " 'HSC-G_m_base_CircularApertureFlux_9_0_mag',\n",
       " 'HSC-R_m_base_CircularApertureFlux_9_0_mag',\n",
       " 'HSC-I_m_base_CircularApertureFlux_9_0_mag',\n",
       " 'HSC-Z_m_base_CircularApertureFlux_9_0_mag',\n",
       " 'HSC-Y_m_base_CircularApertureFlux_9_0_mag',\n",
       " 'VISTA-Z_m_base_CircularApertureFlux_9_0_mag',\n",
       " 'VISTA-Y_m_base_CircularApertureFlux_9_0_mag',\n",
       " 'VISTA-J_m_base_CircularApertureFlux_9_0_mag',\n",
       " 'VISTA-H_m_base_CircularApertureFlux_9_0_mag',\n",
       " 'VISTA-Ks_m_base_CircularApertureFlux_9_0_mag',\n",
       " 'HSC-G_m_base_CircularApertureFlux_9_0_magErr',\n",
       " 'HSC-R_m_base_CircularApertureFlux_9_0_magErr',\n",
       " 'HSC-I_m_base_CircularApertureFlux_9_0_magErr',\n",
       " 'HSC-Z_m_base_CircularApertureFlux_9_0_magErr',\n",
       " 'HSC-Y_m_base_CircularApertureFlux_9_0_magErr',\n",
       " 'VISTA-Z_m_base_CircularApertureFlux_9_0_magErr',\n",
       " 'VISTA-Y_m_base_CircularApertureFlux_9_0_magErr',\n",
       " 'VISTA-J_m_base_CircularApertureFlux_9_0_magErr',\n",
       " 'VISTA-H_m_base_CircularApertureFlux_9_0_magErr',\n",
       " 'VISTA-Ks_m_base_CircularApertureFlux_9_0_magErr',\n",
       " 'HSC-G_m_base_CircularApertureFlux_9_0_flag',\n",
       " 'HSC-R_m_base_CircularApertureFlux_9_0_flag',\n",
       " 'HSC-I_m_base_CircularApertureFlux_9_0_flag',\n",
       " 'HSC-Z_m_base_CircularApertureFlux_9_0_flag',\n",
       " 'HSC-Y_m_base_CircularApertureFlux_9_0_flag',\n",
       " 'VISTA-Z_m_base_CircularApertureFlux_9_0_flag',\n",
       " 'VISTA-Y_m_base_CircularApertureFlux_9_0_flag',\n",
       " 'VISTA-J_m_base_CircularApertureFlux_9_0_flag',\n",
       " 'VISTA-H_m_base_CircularApertureFlux_9_0_flag',\n",
       " 'VISTA-Ks_m_base_CircularApertureFlux_9_0_flag',\n",
       " 'HSC-G_m_base_CircularApertureFlux_12_0_mag',\n",
       " 'HSC-R_m_base_CircularApertureFlux_12_0_mag',\n",
       " 'HSC-I_m_base_CircularApertureFlux_12_0_mag',\n",
       " 'HSC-Z_m_base_CircularApertureFlux_12_0_mag',\n",
       " 'HSC-Y_m_base_CircularApertureFlux_12_0_mag',\n",
       " 'VISTA-Z_m_base_CircularApertureFlux_12_0_mag',\n",
       " 'VISTA-Y_m_base_CircularApertureFlux_12_0_mag',\n",
       " 'VISTA-J_m_base_CircularApertureFlux_12_0_mag',\n",
       " 'VISTA-H_m_base_CircularApertureFlux_12_0_mag',\n",
       " 'VISTA-Ks_m_base_CircularApertureFlux_12_0_mag',\n",
       " 'HSC-G_m_base_CircularApertureFlux_12_0_magErr',\n",
       " 'HSC-R_m_base_CircularApertureFlux_12_0_magErr',\n",
       " 'HSC-I_m_base_CircularApertureFlux_12_0_magErr',\n",
       " 'HSC-Z_m_base_CircularApertureFlux_12_0_magErr',\n",
       " 'HSC-Y_m_base_CircularApertureFlux_12_0_magErr',\n",
       " 'VISTA-Z_m_base_CircularApertureFlux_12_0_magErr',\n",
       " 'VISTA-Y_m_base_CircularApertureFlux_12_0_magErr',\n",
       " 'VISTA-J_m_base_CircularApertureFlux_12_0_magErr',\n",
       " 'VISTA-H_m_base_CircularApertureFlux_12_0_magErr',\n",
       " 'VISTA-Ks_m_base_CircularApertureFlux_12_0_magErr',\n",
       " 'HSC-G_m_base_CircularApertureFlux_12_0_flag',\n",
       " 'HSC-R_m_base_CircularApertureFlux_12_0_flag',\n",
       " 'HSC-I_m_base_CircularApertureFlux_12_0_flag',\n",
       " 'HSC-Z_m_base_CircularApertureFlux_12_0_flag',\n",
       " 'HSC-Y_m_base_CircularApertureFlux_12_0_flag',\n",
       " 'VISTA-Z_m_base_CircularApertureFlux_12_0_flag',\n",
       " 'VISTA-Y_m_base_CircularApertureFlux_12_0_flag',\n",
       " 'VISTA-J_m_base_CircularApertureFlux_12_0_flag',\n",
       " 'VISTA-H_m_base_CircularApertureFlux_12_0_flag',\n",
       " 'VISTA-Ks_m_base_CircularApertureFlux_12_0_flag',\n",
       " 'HSC-G_m_base_CircularApertureFlux_17_0_mag',\n",
       " 'HSC-R_m_base_CircularApertureFlux_17_0_mag',\n",
       " 'HSC-I_m_base_CircularApertureFlux_17_0_mag',\n",
       " 'HSC-Z_m_base_CircularApertureFlux_17_0_mag',\n",
       " 'HSC-Y_m_base_CircularApertureFlux_17_0_mag',\n",
       " 'VISTA-Z_m_base_CircularApertureFlux_17_0_mag',\n",
       " 'VISTA-Y_m_base_CircularApertureFlux_17_0_mag',\n",
       " 'VISTA-J_m_base_CircularApertureFlux_17_0_mag',\n",
       " 'VISTA-H_m_base_CircularApertureFlux_17_0_mag',\n",
       " 'VISTA-Ks_m_base_CircularApertureFlux_17_0_mag',\n",
       " 'HSC-G_m_base_CircularApertureFlux_17_0_magErr',\n",
       " 'HSC-R_m_base_CircularApertureFlux_17_0_magErr',\n",
       " 'HSC-I_m_base_CircularApertureFlux_17_0_magErr',\n",
       " 'HSC-Z_m_base_CircularApertureFlux_17_0_magErr',\n",
       " 'HSC-Y_m_base_CircularApertureFlux_17_0_magErr',\n",
       " 'VISTA-Z_m_base_CircularApertureFlux_17_0_magErr',\n",
       " 'VISTA-Y_m_base_CircularApertureFlux_17_0_magErr',\n",
       " 'VISTA-J_m_base_CircularApertureFlux_17_0_magErr',\n",
       " 'VISTA-H_m_base_CircularApertureFlux_17_0_magErr',\n",
       " 'VISTA-Ks_m_base_CircularApertureFlux_17_0_magErr',\n",
       " 'HSC-G_m_base_CircularApertureFlux_17_0_flag',\n",
       " 'HSC-R_m_base_CircularApertureFlux_17_0_flag',\n",
       " 'HSC-I_m_base_CircularApertureFlux_17_0_flag',\n",
       " 'HSC-Z_m_base_CircularApertureFlux_17_0_flag',\n",
       " 'HSC-Y_m_base_CircularApertureFlux_17_0_flag',\n",
       " 'VISTA-Z_m_base_CircularApertureFlux_17_0_flag',\n",
       " 'VISTA-Y_m_base_CircularApertureFlux_17_0_flag',\n",
       " 'VISTA-J_m_base_CircularApertureFlux_17_0_flag',\n",
       " 'VISTA-H_m_base_CircularApertureFlux_17_0_flag',\n",
       " 'VISTA-Ks_m_base_CircularApertureFlux_17_0_flag',\n",
       " 'HSC-G_m_base_PsfFlux_apCorr',\n",
       " 'HSC-R_m_base_PsfFlux_apCorr',\n",
       " 'HSC-I_m_base_PsfFlux_apCorr',\n",
       " 'HSC-Z_m_base_PsfFlux_apCorr',\n",
       " 'HSC-Y_m_base_PsfFlux_apCorr',\n",
       " 'VISTA-Z_m_base_PsfFlux_apCorr',\n",
       " 'VISTA-Y_m_base_PsfFlux_apCorr',\n",
       " 'VISTA-J_m_base_PsfFlux_apCorr',\n",
       " 'VISTA-H_m_base_PsfFlux_apCorr',\n",
       " 'VISTA-Ks_m_base_PsfFlux_apCorr']"
      ]
     },
     "execution_count": 35,
     "metadata": {},
     "output_type": "execute_result"
    }
   ],
   "source": [
    "reduced_cols = [ \n",
    "    'id', \n",
    "    'VISTA-Ks_m_coord_ra', \n",
    "    'VISTA-Ks_m_coord_dec',\n",
    "    'VISTA-Ks_m_detect_isPatchInner',\n",
    "    'VISTA-Ks_m_detect_isTractInner'\n",
    "]\n",
    "for aper in ['6', '9', '12', '17']:\n",
    "    reduced_cols += ['{}_m_base_CircularApertureFlux_{}_0_mag'.format(b,aper) for b in allBands]\n",
    "    reduced_cols += ['{}_m_base_CircularApertureFlux_{}_0_magErr'.format(b,aper) for b in allBands]\n",
    "    reduced_cols += ['{}_m_base_CircularApertureFlux_{}_0_flag'.format(b,aper) for b in allBands]\n",
    "    \n",
    "reduced_cols += ['{}_m_base_PsfFlux_apCorr'.format(b) for b in allBands]\n",
    "reduced_cols"
   ]
  },
  {
   "cell_type": "markdown",
   "metadata": {},
   "source": [
    "## Run over all patches\n",
    "Now we simply loop over every patch to make the full field. This will only work on a small number of patches. The functions developed here will be added to obs_vista in due course for creating job arrays."
   ]
  },
  {
   "cell_type": "code",
   "execution_count": 19,
   "metadata": {},
   "outputs": [
    {
     "data": {
      "text/plain": [
       "{'HSC-G_m_base_CircularApertureFlux_12_0_flag',\n",
       " 'HSC-G_m_base_CircularApertureFlux_12_0_mag',\n",
       " 'HSC-G_m_base_CircularApertureFlux_12_0_magErr',\n",
       " 'HSC-G_m_base_CircularApertureFlux_17_0_flag',\n",
       " 'HSC-G_m_base_CircularApertureFlux_17_0_mag',\n",
       " 'HSC-G_m_base_CircularApertureFlux_17_0_magErr',\n",
       " 'HSC-G_m_base_CircularApertureFlux_6_0_flag',\n",
       " 'HSC-G_m_base_CircularApertureFlux_6_0_mag',\n",
       " 'HSC-G_m_base_CircularApertureFlux_6_0_magErr',\n",
       " 'HSC-G_m_base_CircularApertureFlux_9_0_flag',\n",
       " 'HSC-G_m_base_CircularApertureFlux_9_0_mag',\n",
       " 'HSC-G_m_base_CircularApertureFlux_9_0_magErr',\n",
       " 'HSC-G_m_base_PsfFlux_apCorr',\n",
       " 'HSC-I_m_base_CircularApertureFlux_12_0_flag',\n",
       " 'HSC-I_m_base_CircularApertureFlux_12_0_mag',\n",
       " 'HSC-I_m_base_CircularApertureFlux_12_0_magErr',\n",
       " 'HSC-I_m_base_CircularApertureFlux_17_0_flag',\n",
       " 'HSC-I_m_base_CircularApertureFlux_17_0_mag',\n",
       " 'HSC-I_m_base_CircularApertureFlux_17_0_magErr',\n",
       " 'HSC-I_m_base_CircularApertureFlux_6_0_flag',\n",
       " 'HSC-I_m_base_CircularApertureFlux_6_0_mag',\n",
       " 'HSC-I_m_base_CircularApertureFlux_6_0_magErr',\n",
       " 'HSC-I_m_base_CircularApertureFlux_9_0_flag',\n",
       " 'HSC-I_m_base_CircularApertureFlux_9_0_mag',\n",
       " 'HSC-I_m_base_CircularApertureFlux_9_0_magErr',\n",
       " 'HSC-I_m_base_PsfFlux_apCorr',\n",
       " 'HSC-R_m_base_CircularApertureFlux_12_0_flag',\n",
       " 'HSC-R_m_base_CircularApertureFlux_12_0_mag',\n",
       " 'HSC-R_m_base_CircularApertureFlux_12_0_magErr',\n",
       " 'HSC-R_m_base_CircularApertureFlux_17_0_flag',\n",
       " 'HSC-R_m_base_CircularApertureFlux_17_0_mag',\n",
       " 'HSC-R_m_base_CircularApertureFlux_17_0_magErr',\n",
       " 'HSC-R_m_base_CircularApertureFlux_6_0_flag',\n",
       " 'HSC-R_m_base_CircularApertureFlux_6_0_mag',\n",
       " 'HSC-R_m_base_CircularApertureFlux_6_0_magErr',\n",
       " 'HSC-R_m_base_CircularApertureFlux_9_0_flag',\n",
       " 'HSC-R_m_base_CircularApertureFlux_9_0_mag',\n",
       " 'HSC-R_m_base_CircularApertureFlux_9_0_magErr',\n",
       " 'HSC-R_m_base_PsfFlux_apCorr',\n",
       " 'HSC-Y_m_base_CircularApertureFlux_12_0_flag',\n",
       " 'HSC-Y_m_base_CircularApertureFlux_12_0_mag',\n",
       " 'HSC-Y_m_base_CircularApertureFlux_12_0_magErr',\n",
       " 'HSC-Y_m_base_CircularApertureFlux_17_0_flag',\n",
       " 'HSC-Y_m_base_CircularApertureFlux_17_0_mag',\n",
       " 'HSC-Y_m_base_CircularApertureFlux_17_0_magErr',\n",
       " 'HSC-Y_m_base_CircularApertureFlux_6_0_flag',\n",
       " 'HSC-Y_m_base_CircularApertureFlux_6_0_mag',\n",
       " 'HSC-Y_m_base_CircularApertureFlux_6_0_magErr',\n",
       " 'HSC-Y_m_base_CircularApertureFlux_9_0_flag',\n",
       " 'HSC-Y_m_base_CircularApertureFlux_9_0_mag',\n",
       " 'HSC-Y_m_base_CircularApertureFlux_9_0_magErr',\n",
       " 'HSC-Y_m_base_PsfFlux_apCorr',\n",
       " 'HSC-Z_m_base_CircularApertureFlux_12_0_flag',\n",
       " 'HSC-Z_m_base_CircularApertureFlux_12_0_mag',\n",
       " 'HSC-Z_m_base_CircularApertureFlux_12_0_magErr',\n",
       " 'HSC-Z_m_base_CircularApertureFlux_17_0_flag',\n",
       " 'HSC-Z_m_base_CircularApertureFlux_17_0_mag',\n",
       " 'HSC-Z_m_base_CircularApertureFlux_17_0_magErr',\n",
       " 'HSC-Z_m_base_CircularApertureFlux_6_0_flag',\n",
       " 'HSC-Z_m_base_CircularApertureFlux_6_0_mag',\n",
       " 'HSC-Z_m_base_CircularApertureFlux_6_0_magErr',\n",
       " 'HSC-Z_m_base_CircularApertureFlux_9_0_flag',\n",
       " 'HSC-Z_m_base_CircularApertureFlux_9_0_mag',\n",
       " 'HSC-Z_m_base_CircularApertureFlux_9_0_magErr',\n",
       " 'HSC-Z_m_base_PsfFlux_apCorr',\n",
       " 'VISTA-H_m_base_CircularApertureFlux_12_0_flag',\n",
       " 'VISTA-H_m_base_CircularApertureFlux_12_0_mag',\n",
       " 'VISTA-H_m_base_CircularApertureFlux_12_0_magErr',\n",
       " 'VISTA-H_m_base_CircularApertureFlux_17_0_flag',\n",
       " 'VISTA-H_m_base_CircularApertureFlux_17_0_mag',\n",
       " 'VISTA-H_m_base_CircularApertureFlux_17_0_magErr',\n",
       " 'VISTA-H_m_base_CircularApertureFlux_6_0_flag',\n",
       " 'VISTA-H_m_base_CircularApertureFlux_6_0_mag',\n",
       " 'VISTA-H_m_base_CircularApertureFlux_6_0_magErr',\n",
       " 'VISTA-H_m_base_CircularApertureFlux_9_0_flag',\n",
       " 'VISTA-H_m_base_CircularApertureFlux_9_0_mag',\n",
       " 'VISTA-H_m_base_CircularApertureFlux_9_0_magErr',\n",
       " 'VISTA-H_m_base_PsfFlux_apCorr',\n",
       " 'VISTA-J_m_base_CircularApertureFlux_12_0_flag',\n",
       " 'VISTA-J_m_base_CircularApertureFlux_12_0_mag',\n",
       " 'VISTA-J_m_base_CircularApertureFlux_12_0_magErr',\n",
       " 'VISTA-J_m_base_CircularApertureFlux_17_0_flag',\n",
       " 'VISTA-J_m_base_CircularApertureFlux_17_0_mag',\n",
       " 'VISTA-J_m_base_CircularApertureFlux_17_0_magErr',\n",
       " 'VISTA-J_m_base_CircularApertureFlux_6_0_flag',\n",
       " 'VISTA-J_m_base_CircularApertureFlux_6_0_mag',\n",
       " 'VISTA-J_m_base_CircularApertureFlux_6_0_magErr',\n",
       " 'VISTA-J_m_base_CircularApertureFlux_9_0_flag',\n",
       " 'VISTA-J_m_base_CircularApertureFlux_9_0_mag',\n",
       " 'VISTA-J_m_base_CircularApertureFlux_9_0_magErr',\n",
       " 'VISTA-J_m_base_PsfFlux_apCorr',\n",
       " 'VISTA-Ks_m_base_CircularApertureFlux_12_0_flag',\n",
       " 'VISTA-Ks_m_base_CircularApertureFlux_12_0_mag',\n",
       " 'VISTA-Ks_m_base_CircularApertureFlux_12_0_magErr',\n",
       " 'VISTA-Ks_m_base_CircularApertureFlux_17_0_flag',\n",
       " 'VISTA-Ks_m_base_CircularApertureFlux_17_0_mag',\n",
       " 'VISTA-Ks_m_base_CircularApertureFlux_17_0_magErr',\n",
       " 'VISTA-Ks_m_base_CircularApertureFlux_6_0_flag',\n",
       " 'VISTA-Ks_m_base_CircularApertureFlux_6_0_mag',\n",
       " 'VISTA-Ks_m_base_CircularApertureFlux_6_0_magErr',\n",
       " 'VISTA-Ks_m_base_CircularApertureFlux_9_0_flag',\n",
       " 'VISTA-Ks_m_base_CircularApertureFlux_9_0_mag',\n",
       " 'VISTA-Ks_m_base_CircularApertureFlux_9_0_magErr',\n",
       " 'VISTA-Ks_m_base_PsfFlux_apCorr',\n",
       " 'VISTA-Ks_m_coord_dec',\n",
       " 'VISTA-Ks_m_coord_ra',\n",
       " 'VISTA-Y_m_base_CircularApertureFlux_12_0_flag',\n",
       " 'VISTA-Y_m_base_CircularApertureFlux_12_0_mag',\n",
       " 'VISTA-Y_m_base_CircularApertureFlux_12_0_magErr',\n",
       " 'VISTA-Y_m_base_CircularApertureFlux_17_0_flag',\n",
       " 'VISTA-Y_m_base_CircularApertureFlux_17_0_mag',\n",
       " 'VISTA-Y_m_base_CircularApertureFlux_17_0_magErr',\n",
       " 'VISTA-Y_m_base_CircularApertureFlux_6_0_flag',\n",
       " 'VISTA-Y_m_base_CircularApertureFlux_6_0_mag',\n",
       " 'VISTA-Y_m_base_CircularApertureFlux_6_0_magErr',\n",
       " 'VISTA-Y_m_base_CircularApertureFlux_9_0_flag',\n",
       " 'VISTA-Y_m_base_CircularApertureFlux_9_0_mag',\n",
       " 'VISTA-Y_m_base_CircularApertureFlux_9_0_magErr',\n",
       " 'VISTA-Y_m_base_PsfFlux_apCorr',\n",
       " 'id'}"
      ]
     },
     "execution_count": 19,
     "metadata": {},
     "output_type": "execute_result"
    }
   ],
   "source": [
    "set(reduced_cols).intersection(set(cat.colnames))"
   ]
  },
  {
   "cell_type": "code",
   "execution_count": 20,
   "metadata": {},
   "outputs": [],
   "source": [
    "reduced_cat = Table()\n",
    "mask = cat['VISTA-Ks_m_detect_isPatchInner'] & cat['VISTA-Ks_m_detect_isTractInner']\n",
    "reduced_cat = vstack([reduced_cat, cat[mask][list(set(reduced_cols).intersection(set(cat.colnames)) )]])"
   ]
  },
  {
   "cell_type": "code",
   "execution_count": 21,
   "metadata": {},
   "outputs": [
    {
     "data": {
      "text/html": [
       "<i>Table length=5</i>\n",
       "<table id=\"table4812656080\" class=\"table-striped table-bordered table-condensed\">\n",
       "<thead><tr><th>VISTA-J_m_base_CircularApertureFlux_17_0_flag</th><th>HSC-G_m_base_CircularApertureFlux_6_0_magErr</th><th>VISTA-J_m_base_CircularApertureFlux_9_0_magErr</th><th>VISTA-J_m_base_CircularApertureFlux_6_0_mag</th><th>HSC-G_m_base_CircularApertureFlux_9_0_mag</th><th>VISTA-J_m_base_CircularApertureFlux_6_0_magErr</th><th>HSC-Y_m_base_CircularApertureFlux_12_0_magErr</th><th>VISTA-Y_m_base_CircularApertureFlux_9_0_magErr</th><th>HSC-G_m_base_CircularApertureFlux_9_0_flag</th><th>HSC-Y_m_base_CircularApertureFlux_9_0_mag</th><th>VISTA-Y_m_base_PsfFlux_apCorr</th><th>HSC-Z_m_base_CircularApertureFlux_12_0_flag</th><th>VISTA-J_m_base_CircularApertureFlux_12_0_flag</th><th>VISTA-Ks_m_base_CircularApertureFlux_9_0_magErr</th><th>HSC-Z_m_base_CircularApertureFlux_9_0_flag</th><th>HSC-I_m_base_CircularApertureFlux_12_0_flag</th><th>VISTA-H_m_base_CircularApertureFlux_6_0_flag</th><th>HSC-G_m_base_CircularApertureFlux_17_0_magErr</th><th>HSC-R_m_base_CircularApertureFlux_6_0_flag</th><th>HSC-Y_m_base_PsfFlux_apCorr</th><th>VISTA-Ks_m_base_CircularApertureFlux_17_0_flag</th><th>VISTA-Ks_m_base_CircularApertureFlux_17_0_magErr</th><th>HSC-I_m_base_PsfFlux_apCorr</th><th>VISTA-J_m_base_CircularApertureFlux_12_0_magErr</th><th>HSC-R_m_base_CircularApertureFlux_6_0_magErr</th><th>HSC-Z_m_base_CircularApertureFlux_17_0_flag</th><th>HSC-Z_m_base_CircularApertureFlux_17_0_magErr</th><th>HSC-R_m_base_CircularApertureFlux_17_0_mag</th><th>HSC-Y_m_base_CircularApertureFlux_12_0_mag</th><th>VISTA-Y_m_base_CircularApertureFlux_6_0_magErr</th><th>HSC-I_m_base_CircularApertureFlux_12_0_mag</th><th>HSC-Z_m_base_CircularApertureFlux_9_0_mag</th><th>VISTA-Ks_m_base_CircularApertureFlux_12_0_flag</th><th>HSC-R_m_base_PsfFlux_apCorr</th><th>VISTA-H_m_base_CircularApertureFlux_17_0_flag</th><th>VISTA-Y_m_base_CircularApertureFlux_17_0_flag</th><th>HSC-G_m_base_CircularApertureFlux_6_0_mag</th><th>HSC-R_m_base_CircularApertureFlux_9_0_magErr</th><th>HSC-I_m_base_CircularApertureFlux_17_0_flag</th><th>VISTA-Ks_m_base_CircularApertureFlux_6_0_magErr</th><th>HSC-G_m_base_CircularApertureFlux_9_0_magErr</th><th>VISTA-Ks_m_base_CircularApertureFlux_9_0_flag</th><th>HSC-Z_m_base_CircularApertureFlux_12_0_magErr</th><th>HSC-I_m_base_CircularApertureFlux_17_0_mag</th><th>VISTA-Ks_m_base_CircularApertureFlux_9_0_mag</th><th>HSC-I_m_base_CircularApertureFlux_6_0_mag</th><th>VISTA-Ks_m_base_PsfFlux_apCorr</th><th>HSC-R_m_base_CircularApertureFlux_9_0_mag</th><th>HSC-Y_m_base_CircularApertureFlux_6_0_flag</th><th>VISTA-Ks_m_coord_ra</th><th>HSC-I_m_base_CircularApertureFlux_9_0_mag</th><th>HSC-G_m_base_PsfFlux_apCorr</th><th>HSC-Y_m_base_CircularApertureFlux_9_0_magErr</th><th>HSC-R_m_base_CircularApertureFlux_12_0_mag</th><th>HSC-R_m_base_CircularApertureFlux_12_0_magErr</th><th>VISTA-J_m_base_CircularApertureFlux_12_0_mag</th><th>HSC-R_m_base_CircularApertureFlux_6_0_mag</th><th>HSC-G_m_base_CircularApertureFlux_12_0_magErr</th><th>HSC-G_m_base_CircularApertureFlux_6_0_flag</th><th>HSC-R_m_base_CircularApertureFlux_9_0_flag</th><th>HSC-R_m_base_CircularApertureFlux_12_0_flag</th><th>HSC-R_m_base_CircularApertureFlux_17_0_magErr</th><th>VISTA-J_m_base_CircularApertureFlux_6_0_flag</th><th>VISTA-Y_m_base_CircularApertureFlux_9_0_mag</th><th>VISTA-J_m_base_CircularApertureFlux_9_0_flag</th><th>VISTA-Ks_m_base_CircularApertureFlux_12_0_magErr</th><th>VISTA-Ks_m_base_CircularApertureFlux_6_0_flag</th><th>HSC-Y_m_base_CircularApertureFlux_6_0_magErr</th><th>HSC-Z_m_base_CircularApertureFlux_6_0_magErr</th><th>HSC-I_m_base_CircularApertureFlux_17_0_magErr</th><th>VISTA-H_m_base_CircularApertureFlux_6_0_magErr</th><th>VISTA-H_m_base_CircularApertureFlux_9_0_mag</th><th>HSC-Z_m_base_CircularApertureFlux_12_0_mag</th><th>VISTA-Y_m_base_CircularApertureFlux_17_0_mag</th><th>HSC-Z_m_base_CircularApertureFlux_17_0_mag</th><th>HSC-I_m_base_CircularApertureFlux_12_0_magErr</th><th>HSC-G_m_base_CircularApertureFlux_12_0_mag</th><th>VISTA-Y_m_base_CircularApertureFlux_12_0_flag</th><th>HSC-Z_m_base_CircularApertureFlux_9_0_magErr</th><th>VISTA-Y_m_base_CircularApertureFlux_9_0_flag</th><th>HSC-Y_m_base_CircularApertureFlux_17_0_magErr</th><th>VISTA-H_m_base_CircularApertureFlux_9_0_magErr</th><th>HSC-I_m_base_CircularApertureFlux_6_0_magErr</th><th>VISTA-J_m_base_CircularApertureFlux_9_0_mag</th><th>HSC-Y_m_base_CircularApertureFlux_17_0_mag</th><th>VISTA-Y_m_base_CircularApertureFlux_12_0_magErr</th><th>VISTA-Y_m_base_CircularApertureFlux_6_0_flag</th><th>HSC-G_m_base_CircularApertureFlux_12_0_flag</th><th>VISTA-J_m_base_CircularApertureFlux_17_0_mag</th><th>HSC-Y_m_base_CircularApertureFlux_12_0_flag</th><th>VISTA-Ks_m_base_CircularApertureFlux_12_0_mag</th><th>HSC-Z_m_base_CircularApertureFlux_6_0_flag</th><th>HSC-Y_m_base_CircularApertureFlux_6_0_mag</th><th>VISTA-Ks_m_base_CircularApertureFlux_17_0_mag</th><th>HSC-R_m_base_CircularApertureFlux_17_0_flag</th><th>VISTA-J_m_base_PsfFlux_apCorr</th><th>VISTA-Ks_m_base_CircularApertureFlux_6_0_mag</th><th>VISTA-H_m_base_PsfFlux_apCorr</th><th>VISTA-H_m_base_CircularApertureFlux_12_0_magErr</th><th>VISTA-Ks_m_coord_dec</th><th>VISTA-H_m_base_CircularApertureFlux_17_0_magErr</th><th>VISTA-Y_m_base_CircularApertureFlux_12_0_mag</th><th>HSC-I_m_base_CircularApertureFlux_9_0_flag</th><th>VISTA-H_m_base_CircularApertureFlux_12_0_mag</th><th>VISTA-H_m_base_CircularApertureFlux_17_0_mag</th><th>HSC-G_m_base_CircularApertureFlux_17_0_mag</th><th>HSC-Z_m_base_CircularApertureFlux_6_0_mag</th><th>HSC-Y_m_base_CircularApertureFlux_9_0_flag</th><th>HSC-Z_m_base_PsfFlux_apCorr</th><th>HSC-Y_m_base_CircularApertureFlux_17_0_flag</th><th>HSC-I_m_base_CircularApertureFlux_6_0_flag</th><th>VISTA-H_m_base_CircularApertureFlux_6_0_mag</th><th>HSC-G_m_base_CircularApertureFlux_17_0_flag</th><th>HSC-I_m_base_CircularApertureFlux_9_0_magErr</th><th>id</th><th>VISTA-Y_m_base_CircularApertureFlux_6_0_mag</th><th>VISTA-J_m_base_CircularApertureFlux_17_0_magErr</th><th>VISTA-H_m_base_CircularApertureFlux_12_0_flag</th><th>VISTA-H_m_base_CircularApertureFlux_9_0_flag</th><th>VISTA-Y_m_base_CircularApertureFlux_17_0_magErr</th></tr></thead>\n",
       "<thead><tr><th></th><th>mag</th><th>mag</th><th>mag</th><th>mag</th><th>mag</th><th>mag</th><th>mag</th><th></th><th>mag</th><th></th><th></th><th></th><th>mag</th><th></th><th></th><th></th><th>mag</th><th></th><th></th><th></th><th>mag</th><th></th><th>mag</th><th>mag</th><th></th><th>mag</th><th>mag</th><th>mag</th><th>mag</th><th>mag</th><th>mag</th><th></th><th></th><th></th><th></th><th>mag</th><th>mag</th><th></th><th>mag</th><th>mag</th><th></th><th>mag</th><th>mag</th><th>mag</th><th>mag</th><th></th><th>mag</th><th></th><th>rad</th><th>mag</th><th></th><th>mag</th><th>mag</th><th>mag</th><th>mag</th><th>mag</th><th>mag</th><th></th><th></th><th></th><th>mag</th><th></th><th>mag</th><th></th><th>mag</th><th></th><th>mag</th><th>mag</th><th>mag</th><th>mag</th><th>mag</th><th>mag</th><th>mag</th><th>mag</th><th>mag</th><th>mag</th><th></th><th>mag</th><th></th><th>mag</th><th>mag</th><th>mag</th><th>mag</th><th>mag</th><th>mag</th><th></th><th></th><th>mag</th><th></th><th>mag</th><th></th><th>mag</th><th>mag</th><th></th><th></th><th>mag</th><th></th><th>mag</th><th>rad</th><th>mag</th><th>mag</th><th></th><th>mag</th><th>mag</th><th>mag</th><th>mag</th><th></th><th></th><th></th><th></th><th>mag</th><th></th><th>mag</th><th></th><th>mag</th><th>mag</th><th></th><th></th><th>mag</th></tr></thead>\n",
       "<thead><tr><th>bool</th><th>float64</th><th>float64</th><th>float64</th><th>float64</th><th>float64</th><th>float64</th><th>float64</th><th>bool</th><th>float64</th><th>float64</th><th>bool</th><th>bool</th><th>float64</th><th>bool</th><th>bool</th><th>bool</th><th>float64</th><th>bool</th><th>float64</th><th>bool</th><th>float64</th><th>float64</th><th>float64</th><th>float64</th><th>bool</th><th>float64</th><th>float64</th><th>float64</th><th>float64</th><th>float64</th><th>float64</th><th>bool</th><th>float64</th><th>bool</th><th>bool</th><th>float64</th><th>float64</th><th>bool</th><th>float64</th><th>float64</th><th>bool</th><th>float64</th><th>float64</th><th>float64</th><th>float64</th><th>float64</th><th>float64</th><th>bool</th><th>float64</th><th>float64</th><th>float64</th><th>float64</th><th>float64</th><th>float64</th><th>float64</th><th>float64</th><th>float64</th><th>bool</th><th>bool</th><th>bool</th><th>float64</th><th>bool</th><th>float64</th><th>bool</th><th>float64</th><th>bool</th><th>float64</th><th>float64</th><th>float64</th><th>float64</th><th>float64</th><th>float64</th><th>float64</th><th>float64</th><th>float64</th><th>float64</th><th>bool</th><th>float64</th><th>bool</th><th>float64</th><th>float64</th><th>float64</th><th>float64</th><th>float64</th><th>float64</th><th>bool</th><th>bool</th><th>float64</th><th>bool</th><th>float64</th><th>bool</th><th>float64</th><th>float64</th><th>bool</th><th>float64</th><th>float64</th><th>float64</th><th>float64</th><th>float64</th><th>float64</th><th>float64</th><th>bool</th><th>float64</th><th>float64</th><th>float64</th><th>float64</th><th>bool</th><th>float64</th><th>bool</th><th>bool</th><th>float64</th><th>bool</th><th>float64</th><th>int64</th><th>float64</th><th>float64</th><th>bool</th><th>bool</th><th>float64</th></tr></thead>\n",
       "<tr><td>True</td><td>0.08581578401579926</td><td>0.14964547480138635</td><td>23.424547299622404</td><td>25.05519747166483</td><td>0.1255254907866349</td><td>0.09533272249976858</td><td>0.05970058313233832</td><td>True</td><td>22.83294931644769</td><td>1.0703169831799442</td><td>False</td><td>True</td><td>0.0896511326493134</td><td>False</td><td>False</td><td>False</td><td>0.05076074354514109</td><td>False</td><td>nan</td><td>False</td><td>0.11017236158074951</td><td>nan</td><td>0.1686746815033852</td><td>0.03778334771891543</td><td>False</td><td>0.04304517887000999</td><td>23.506607662783598</td><td>22.609086735442926</td><td>0.05884737463739724</td><td>23.14387268901914</td><td>22.97506451581793</td><td>False</td><td>nan</td><td>False</td><td>False</td><td>26.017146962329782</td><td>0.03270009031228273</td><td>False</td><td>0.08256359278302104</td><td>0.05334503041009459</td><td>False</td><td>0.030856599947769077</td><td>22.992529070573298</td><td>21.94855072493791</td><td>23.84049063295435</td><td>1.182007505111814</td><td>23.888027241887354</td><td>False</td><td>0.6269181825791948</td><td>23.398508191352704</td><td>nan</td><td>0.08686598063274616</td><td>23.639287891641327</td><td>0.03520203446411229</td><td>22.990806672480137</td><td>24.489642674977155</td><td>0.046021366373028595</td><td>True</td><td>False</td><td>False</td><td>0.04431413226128685</td><td>True</td><td>22.796753248941194</td><td>True</td><td>0.08454574642516577</td><td>False</td><td>0.08995509123435065</td><td>0.025701402792882775</td><td>0.04637227178121509</td><td>0.05023370013452571</td><td>22.380046901816883</td><td>22.80846230386625</td><td>22.59492131299796</td><td>22.791813635669754</td><td>0.03740009805749027</td><td>24.58623541775829</td><td>False</td><td>0.026678544920896566</td><td>False</td><td>0.11963853824683632</td><td>0.06249650128341736</td><td>0.034910304891783046</td><td>23.170612228454562</td><td>22.482220408467196</td><td>0.07428692371080976</td><td>False</td><td>True</td><td>22.53771614401829</td><td>False</td><td>21.558208476628046</td><td>False</td><td>23.316602337557974</td><td>21.469871283068123</td><td>False</td><td>1.0739408989545682</td><td>22.306898388754682</td><td>1.1027305437908297</td><td>0.09311150949335509</td><td>-0.09575824171111792</td><td>0.09154235621651148</td><td>22.71780063856399</td><td>False</td><td>22.488468003725014</td><td>22.091569971699073</td><td>24.306528535291513</td><td>23.379532760749285</td><td>False</td><td>nan</td><td>False</td><td>False</td><td>22.58754622046016</td><td>True</td><td>0.03499802734758016</td><td>149957494649651442</td><td>23.224505749330923</td><td>0.1588274810545074</td><td>False</td><td>False</td><td>0.09419537518847897</td></tr>\n",
       "<tr><td>False</td><td>0.09679261064734652</td><td>0.0340401733084304</td><td>21.770956429745056</td><td>26.0538341927627</td><td>0.027231134390868838</td><td>0.04352488223738308</td><td>0.02757111650956874</td><td>False</td><td>21.893670915234217</td><td>1.061920367746513</td><td>False</td><td>False</td><td>0.02861649854254406</td><td>False</td><td>False</td><td>False</td><td>0.13588337831382466</td><td>False</td><td>nan</td><td>False</td><td>0.03818143549253941</td><td>nan</td><td>0.047221742339595786</td><td>0.03224205727352217</td><td>False</td><td>0.02131176525124438</td><td>23.7584908894703</td><td>21.755051867198894</td><td>0.024089843940587195</td><td>22.860775531704057</td><td>22.176262279137347</td><td>False</td><td>nan</td><td>False</td><td>False</td><td>26.173634126833065</td><td>0.03917399990723053</td><td>False</td><td>0.02212855023695661</td><td>0.13049886017854098</td><td>False</td><td>0.01630195511126614</td><td>22.701088181088714</td><td>20.71204458592472</td><td>23.132436996091542</td><td>1.1784928099698317</td><td>24.09888411073559</td><td>False</td><td>0.6262060991960968</td><td>22.955976829438363</td><td>nan</td><td>0.036923511695686674</td><td>23.97337250402042</td><td>0.047163100592453426</td><td>21.59819069263355</td><td>24.33007711258536</td><td>0.14353919366960013</td><td>False</td><td>False</td><td>False</td><td>0.05501477145242357</td><td>False</td><td>21.95820426904422</td><td>False</td><td>0.03429192119723251</td><td>False</td><td>0.031063196863731678</td><td>0.010497077693446126</td><td>0.034293511454735366</td><td>0.016059996775835285</td><td>21.12890328470651</td><td>22.077361681668712</td><td>21.822040411502744</td><td>21.992026406325902</td><td>0.027901364807931414</td><td>25.834968701752246</td><td>False</td><td>0.013303468646511149</td><td>False</td><td>0.052246594414541395</td><td>0.01972503720189974</td><td>0.017718022827227783</td><td>21.562485051805428</td><td>21.5833876221892</td><td>0.03370398859321642</td><td>False</td><td>False</td><td>21.57206994966408</td><td>False</td><td>20.58337980845726</td><td>False</td><td>22.149017696333463</td><td>20.322169998469562</td><td>False</td><td>1.0911348805102914</td><td>20.876590887724838</td><td>1.1340961694050868</td><td>0.024011031865351862</td><td>-0.09575747581718906</td><td>0.03088460085047093</td><td>21.85199925746471</td><td>False</td><td>21.017916851526998</td><td>20.911852202123015</td><td>25.395002924532804</td><td>22.35893954808178</td><td>False</td><td>nan</td><td>False</td><td>False</td><td>21.352819014909393</td><td>False</td><td>0.022621158896277638</td><td>149957494649651445</td><td>22.255042840427283</td><td>0.06545605166283108</td><td>False</td><td>False</td><td>0.04637188087909493</td></tr>\n",
       "<tr><td>True</td><td>0.03530487242574595</td><td>0.23182468090284833</td><td>23.977446308071055</td><td>24.82618878030693</td><td>0.20133941511674694</td><td>0.15826483187668194</td><td>0.08648589620562425</td><td>False</td><td>23.572733403067907</td><td>1.0082843058480693</td><td>False</td><td>True</td><td>0.15314897310573206</td><td>False</td><td>False</td><td>False</td><td>0.06373524883168294</td><td>False</td><td>nan</td><td>False</td><td>0.22191850586722564</td><td>nan</td><td>0.2316173817869675</td><td>0.07163541054325542</td><td>False</td><td>0.13220534651022778</td><td>24.821538481084083</td><td>23.228733105816374</td><td>0.08386976524820418</td><td>24.30344523575937</td><td>24.285833466659483</td><td>False</td><td>nan</td><td>False</td><td>False</td><td>25.08806013153074</td><td>0.09109169938932046</td><td>False</td><td>0.12143312715547626</td><td>0.04165404333123641</td><td>False</td><td>0.11958985867221095</td><td>23.938668070503905</td><td>22.53875309735062</td><td>24.55587585557804</td><td>1.1419744845616435</td><td>24.861986182002674</td><td>False</td><td>0.6274528814865094</td><td>24.343948065738793</td><td>nan</td><td>0.16241583115747074</td><td>24.911310610296663</td><td>0.13025859127672906</td><td>23.373817057648946</td><td>25.0456872642808</td><td>0.048695232801193325</td><td>False</td><td>False</td><td>False</td><td>0.1697056538537955</td><td>True</td><td>23.103922230237615</td><td>True</td><td>0.18572782702245644</td><td>False</td><td>0.14686896522973952</td><td>0.072885443343435</td><td>0.11233982827673139</td><td>0.08597811992552838</td><td>22.94926629833799</td><td>24.29152146922516</td><td>22.494816855448484</td><td>24.026551187315857</td><td>0.11050628298241513</td><td>24.67430611618278</td><td>False</td><td>0.08824145628376956</td><td>False</td><td>0.15798792814522913</td><td>0.1066987109763419</td><td>0.068694846898109</td><td>23.68409554677653</td><td>22.847706381161235</td><td>0.08357414061864493</td><td>False</td><td>False</td><td>22.289861110632472</td><td>False</td><td>22.422969416338397</td><td>False</td><td>23.90921953078754</td><td>22.239133382442787</td><td>False</td><td>1.0341076633170057</td><td>22.732860067730805</td><td>1.0632674189207012</td><td>0.13223343365523016</td><td>-0.09575700850480585</td><td>0.13755719849611203</td><td>22.742013593177624</td><td>False</td><td>22.85641670576269</td><td>22.52240506348474</td><td>24.588749766689098</td><td>24.522892464396428</td><td>False</td><td>nan</td><td>False</td><td>False</td><td>23.16114822438565</td><td>False</td><td>0.08511833097948182</td><td>149957494649651452</td><td>23.516377061926995</td><td>0.12198478036540819</td><td>False</td><td>False</td><td>0.09425782082999504</td></tr>\n",
       "<tr><td>True</td><td>1.0060874612608492</td><td>0.3917606637481146</td><td>26.847094100572257</td><td>27.26457255043379</td><td>2.9305384048732517</td><td>0.5415023849885333</td><td>8.751325706148883</td><td>True</td><td>24.580144974099408</td><td>1.0661161561078796</td><td>True</td><td>True</td><td>0.4899267604681822</td><td>True</td><td>True</td><td>True</td><td>0.18787345268961023</td><td>True</td><td>nan</td><td>False</td><td>0.39917829771695446</td><td>nan</td><td>0.3164833907629732</td><td>1.8330660500830394</td><td>True</td><td>0.2861431668175835</td><td>25.726032933227284</td><td>24.484030618624956</td><td>0.6861041246451419</td><td>25.47273308763659</td><td>26.57334788479851</td><td>False</td><td>nan</td><td>True</td><td>True</td><td>28.775020130340614</td><td>2.30536909864839</td><td>True</td><td>0.26119291716400833</td><td>0.37754723712492444</td><td>False</td><td>0.5582526472045855</td><td>24.894604095498995</td><td>23.794777287685037</td><td>26.046983720664734</td><td>1.180001817608251</td><td>28.489592421828775</td><td>True</td><td>0.6265610111442301</td><td>25.859307997491175</td><td>nan</td><td>0.44484365333352544</td><td>26.77314032641204</td><td>0.6346194917017719</td><td>23.67476596989262</td><td>nan</td><td>0.23779229038078722</td><td>True</td><td>True</td><td>True</td><td>0.3469308321591459</td><td>True</td><td>28.212658772501946</td><td>True</td><td>1.405025811220094</td><td>False</td><td>0.9438326171277721</td><td>0.49883729473333654</td><td>0.26122713159092237</td><td>9.737803775059243</td><td>24.87932671809627</td><td>26.00423508297483</td><td>25.140845609836767</td><td>24.892062676517078</td><td>0.30945340421643297</td><td>26.452514840382285</td><td>True</td><td>0.7094122131388432</td><td>True</td><td>0.340539068654926</td><td>0.6256734421946645</td><td>0.26201308485935926</td><td>24.215950359066923</td><td>23.594896700272983</td><td>59.33261289610834</td><td>True</td><td>True</td><td>23.49916792291463</td><td>True</td><td>24.61209218467085</td><td>True</td><td>25.842624340423136</td><td>22.867170121951425</td><td>True</td><td>1.081612752797864</td><td>23.55812562821527</td><td>1.1191370013373956</td><td>0.5338770430287728</td><td>-0.09575769419224718</td><td>0.3210321372481293</td><td>nan</td><td>True</td><td>24.398979148189504</td><td>23.45853594813736</td><td>25.80771805303643</td><td>26.636207813742985</td><td>True</td><td>nan</td><td>True</td><td>True</td><td>nan</td><td>True</td><td>0.3322444700630563</td><td>149957494649651462</td><td>25.895142250532675</td><td>0.38481962501289374</td><td>True</td><td>True</td><td>0.9822294271037991</td></tr>\n",
       "<tr><td>True</td><td>0.09866272226493013</td><td>0.47860728390568896</td><td>nan</td><td>25.08677380985777</td><td>0.956508066642992</td><td>0.20087921576404674</td><td>0.3101081970476535</td><td>True</td><td>24.195658635868533</td><td>1.0368763557733236</td><td>True</td><td>True</td><td>0.21882212106125198</td><td>True</td><td>True</td><td>True</td><td>0.02552403256624048</td><td>True</td><td>nan</td><td>False</td><td>1.2344037391966356</td><td>nan</td><td>0.3589320378233092</td><td>0.14250179401009447</td><td>True</td><td>0.0755322275750929</td><td>23.729667476361833</td><td>23.585451418579613</td><td>0.5310912213817415</td><td>24.402461200334194</td><td>24.626113375632276</td><td>False</td><td>nan</td><td>True</td><td>True</td><td>26.242481320386414</td><td>0.08854283223979359</td><td>True</td><td>0.17808423838464116</td><td>0.05136026700262821</td><td>False</td><td>0.09104233499349225</td><td>23.82487281564256</td><td>22.873200856776855</td><td>25.968660770624968</td><td>1.1244251251065525</td><td>24.958427790551426</td><td>True</td><td>0.6248259503823279</td><td>25.069959361385422</td><td>nan</td><td>0.2661083461954963</td><td>24.19566375900928</td><td>0.05835030394555391</td><td>23.76034692038786</td><td>25.921078053374828</td><td>0.032505940330583634</td><td>True</td><td>True</td><td>True</td><td>0.05451944857423375</td><td>True</td><td>nan</td><td>True</td><td>0.3412052901775215</td><td>False</td><td>0.6730184967827761</td><td>0.23393139553704562</td><td>0.10164231659747286</td><td>2.6578185119717066</td><td>26.034085512642168</td><td>23.990403843508176</td><td>nan</td><td>23.40068121285363</td><td>0.12106940687422271</td><td>24.279455086787017</td><td>True</td><td>0.12291015971717223</td><td>True</td><td>0.16302673862356462</td><td>2.082877602616384</td><td>0.25547295647969465</td><td>24.37960206802481</td><td>22.975569095990895</td><td>0.2374066681636377</td><td>True</td><td>True</td><td>nan</td><td>True</td><td>23.029810520386143</td><td>True</td><td>25.64155541296662</td><td>24.049559386529108</td><td>True</td><td>1.0731673329762008</td><td>23.09551777944321</td><td>1.0932031630619403</td><td>0.4376628141542876</td><td>-0.09575619458169324</td><td>3.803521202604621</td><td>nan</td><td>True</td><td>24.02984810749144</td><td>25.98976391266747</td><td>23.62944556900455</td><td>25.770957855379407</td><td>True</td><td>nan</td><td>True</td><td>True</td><td>26.741482477045867</td><td>True</td><td>0.16833848458148873</td><td>149957494649651463</td><td>nan</td><td>7.337900227231791</td><td>True</td><td>True</td><td>0.15259497222842017</td></tr>\n",
       "</table>"
      ],
      "text/plain": [
       "<Table length=5>\n",
       "VISTA-J_m_base_CircularApertureFlux_17_0_flag ...\n",
       "                                              ...\n",
       "                     bool                     ...\n",
       "--------------------------------------------- ...\n",
       "                                         True ...\n",
       "                                        False ...\n",
       "                                         True ...\n",
       "                                         True ...\n",
       "                                         True ..."
      ]
     },
     "execution_count": 21,
     "metadata": {},
     "output_type": "execute_result"
    }
   ],
   "source": [
    "reduced_cat[:5]"
   ]
  },
  {
   "cell_type": "code",
   "execution_count": 36,
   "metadata": {},
   "outputs": [
    {
     "name": "stdout",
     "output_type": "stream",
     "text": [
      "Tract 8282, patch 0,8 failed\n",
      "Tract 8283, patch 0,8 failed\n",
      "Tract 8283, patch 1,7 failed\n",
      "Tract 8283, patch 1,8 failed\n",
      "Tract 8283, patch 2,7 failed\n",
      "Tract 8283, patch 2,8 failed\n",
      "Tract 8283, patch 3,7 failed\n",
      "Tract 8283, patch 3,8 failed\n",
      "Tract 8283, patch 4,7 failed\n",
      "Tract 8283, patch 4,8 failed\n",
      "Tract 8283, patch 5,7 failed\n",
      "Tract 8283, patch 5,8 failed\n",
      "Tract 8283, patch 6,7 failed\n",
      "Tract 8283, patch 6,8 failed\n",
      "Tract 8283, patch 7,7 failed\n",
      "Tract 8283, patch 7,8 failed\n",
      "Tract 8283, patch 8,8 failed\n",
      "Tract 8284, patch 8,8 failed\n",
      "Tract 8523, patch 0,1 failed\n",
      "Tract 8523, patch 0,2 failed\n",
      "Tract 8523, patch 0,3 failed\n",
      "Tract 8523, patch 0,4 failed\n",
      "Tract 8523, patch 0,5 failed\n",
      "Tract 8523, patch 0,6 failed\n",
      "Tract 8523, patch 0,7 failed\n",
      "Tract 8523, patch 0,8 failed\n",
      "Tract 8523, patch 1,1 failed\n",
      "Tract 8523, patch 1,2 failed\n",
      "Tract 8523, patch 1,3 failed\n",
      "Tract 8523, patch 1,4 failed\n",
      "Tract 8523, patch 1,5 failed\n",
      "Tract 8523, patch 1,6 failed\n",
      "Tract 8523, patch 1,7 failed\n",
      "Tract 8523, patch 1,8 failed\n",
      "Tract 8523, patch 2,1 failed\n",
      "Tract 8523, patch 2,2 failed\n",
      "Tract 8523, patch 2,3 failed\n",
      "Tract 8523, patch 2,4 failed\n",
      "Tract 8523, patch 2,5 failed\n",
      "Tract 8523, patch 2,6 failed\n",
      "Tract 8523, patch 2,7 failed\n",
      "Tract 8523, patch 2,8 failed\n",
      "Tract 8523, patch 3,1 failed\n",
      "Tract 8523, patch 3,2 failed\n",
      "Tract 8523, patch 3,3 failed\n",
      "Tract 8523, patch 3,4 failed\n",
      "Tract 8523, patch 3,5 failed\n",
      "Tract 8523, patch 3,6 failed\n",
      "Tract 8523, patch 3,7 failed\n",
      "Tract 8523, patch 3,8 failed\n",
      "Tract 8523, patch 4,1 failed\n",
      "Tract 8523, patch 4,2 failed\n",
      "Tract 8523, patch 4,3 failed\n",
      "Tract 8523, patch 4,4 failed\n",
      "Tract 8523, patch 4,5 failed\n",
      "Tract 8523, patch 4,6 failed\n",
      "Tract 8523, patch 4,7 failed\n",
      "Tract 8523, patch 4,8 failed\n",
      "Tract 8523, patch 5,2 failed\n",
      "Tract 8523, patch 5,3 failed\n",
      "Tract 8523, patch 5,4 failed\n",
      "Tract 8523, patch 5,5 failed\n",
      "Tract 8523, patch 5,6 failed\n",
      "Tract 8523, patch 5,7 failed\n",
      "Tract 8523, patch 5,8 failed\n",
      "Tract 8523, patch 6,3 failed\n",
      "Tract 8523, patch 6,4 failed\n",
      "Tract 8523, patch 6,5 failed\n",
      "Tract 8523, patch 6,6 failed\n",
      "Tract 8523, patch 6,7 failed\n",
      "Tract 8523, patch 6,8 failed\n",
      "Tract 8523, patch 7,3 failed\n",
      "Tract 8523, patch 7,4 failed\n",
      "Tract 8523, patch 7,5 failed\n",
      "Tract 8523, patch 7,6 failed\n",
      "Tract 8523, patch 7,7 failed\n",
      "Tract 8523, patch 7,8 failed\n",
      "Tract 8524, patch 0,0 failed\n",
      "Tract 8524, patch 0,1 failed\n",
      "Tract 8524, patch 0,2 failed\n",
      "Tract 8524, patch 0,3 failed\n",
      "Tract 8524, patch 0,4 failed\n",
      "Tract 8524, patch 0,5 failed\n",
      "Tract 8524, patch 0,6 failed\n",
      "Tract 8524, patch 0,7 failed\n",
      "Tract 8524, patch 0,8 failed\n",
      "Tract 8524, patch 1,0 failed\n",
      "Tract 8524, patch 1,1 failed\n",
      "Tract 8524, patch 1,2 failed\n",
      "Tract 8524, patch 1,3 failed\n",
      "Tract 8524, patch 1,4 failed\n",
      "Tract 8524, patch 1,5 failed\n",
      "Tract 8524, patch 1,6 failed\n",
      "Tract 8524, patch 1,7 failed\n",
      "Tract 8524, patch 1,8 failed\n",
      "Tract 8524, patch 2,0 failed\n",
      "Tract 8524, patch 2,1 failed\n",
      "Tract 8524, patch 2,2 failed\n",
      "Tract 8524, patch 2,3 failed\n",
      "Tract 8524, patch 2,4 failed\n",
      "Tract 8524, patch 2,5 failed\n",
      "Tract 8524, patch 2,6 failed\n",
      "Tract 8524, patch 2,7 failed\n",
      "Tract 8524, patch 2,8 failed\n",
      "Tract 8524, patch 3,0 failed\n",
      "Tract 8524, patch 3,1 failed\n",
      "Tract 8524, patch 3,2 failed\n",
      "Tract 8524, patch 3,3 already done\n",
      "DEBUG:  /Volumes/Raph500/lsst-ir-fusion/dmu4/dmu4_Example/data/rerun/coaddPhot/deepCoadd-results/HSC-G/8524/3,3/meas-HSC-G-8524-3,3.fits\n",
      "DEBUG:  /Volumes/Raph500/lsst-ir-fusion/dmu4/dmu4_Example/data/rerun/coaddForcedPhot/deepCoadd-results/HSC-G/8524/3,3/forcedSrc-HSC-G-8524-3,3.fits\n",
      "DEBUG:  /Volumes/Raph500/lsst-ir-fusion/dmu4/dmu4_Example/data/rerun/coaddPhot/deepCoadd-results/HSC-R/8524/3,3/meas-HSC-R-8524-3,3.fits\n",
      "DEBUG:  /Volumes/Raph500/lsst-ir-fusion/dmu4/dmu4_Example/data/rerun/coaddForcedPhot/deepCoadd-results/HSC-R/8524/3,3/forcedSrc-HSC-R-8524-3,3.fits\n",
      "DEBUG:  /Volumes/Raph500/lsst-ir-fusion/dmu4/dmu4_Example/data/rerun/coaddPhot/deepCoadd-results/HSC-I/8524/3,3/meas-HSC-I-8524-3,3.fits\n",
      "DEBUG:  /Volumes/Raph500/lsst-ir-fusion/dmu4/dmu4_Example/data/rerun/coaddForcedPhot/deepCoadd-results/HSC-I/8524/3,3/forcedSrc-HSC-I-8524-3,3.fits\n",
      "DEBUG:  /Volumes/Raph500/lsst-ir-fusion/dmu4/dmu4_Example/data/rerun/coaddPhot/deepCoadd-results/HSC-Z/8524/3,3/meas-HSC-Z-8524-3,3.fits\n",
      "DEBUG:  /Volumes/Raph500/lsst-ir-fusion/dmu4/dmu4_Example/data/rerun/coaddForcedPhot/deepCoadd-results/HSC-Z/8524/3,3/forcedSrc-HSC-Z-8524-3,3.fits\n",
      "DEBUG:  /Volumes/Raph500/lsst-ir-fusion/dmu4/dmu4_Example/data/rerun/coaddPhot/deepCoadd-results/HSC-Y/8524/3,3/meas-HSC-Y-8524-3,3.fits\n",
      "DEBUG:  /Volumes/Raph500/lsst-ir-fusion/dmu4/dmu4_Example/data/rerun/coaddForcedPhot/deepCoadd-results/HSC-Y/8524/3,3/forcedSrc-HSC-Y-8524-3,3.fits\n",
      "DEBUG:  /Volumes/Raph500/lsst-ir-fusion/dmu4/dmu4_Example/data/rerun/coaddPhot/deepCoadd-results/VISTA-Z/8524/3,3/meas-VISTA-Z-8524-3,3.fits\n",
      "DEBUG:  /Volumes/Raph500/lsst-ir-fusion/dmu4/dmu4_Example/data/rerun/coaddPhot/deepCoadd-results/VISTA-Y/8524/3,3/meas-VISTA-Y-8524-3,3.fits\n",
      "DEBUG:  /Volumes/Raph500/lsst-ir-fusion/dmu4/dmu4_Example/data/rerun/coaddForcedPhot/deepCoadd-results/VISTA-Y/8524/3,3/forcedSrc-VISTA-Y-8524-3,3.fits\n",
      "DEBUG:  /Volumes/Raph500/lsst-ir-fusion/dmu4/dmu4_Example/data/rerun/coaddPhot/deepCoadd-results/VISTA-J/8524/3,3/meas-VISTA-J-8524-3,3.fits\n",
      "DEBUG:  /Volumes/Raph500/lsst-ir-fusion/dmu4/dmu4_Example/data/rerun/coaddForcedPhot/deepCoadd-results/VISTA-J/8524/3,3/forcedSrc-VISTA-J-8524-3,3.fits\n",
      "DEBUG:  /Volumes/Raph500/lsst-ir-fusion/dmu4/dmu4_Example/data/rerun/coaddPhot/deepCoadd-results/VISTA-H/8524/3,3/meas-VISTA-H-8524-3,3.fits\n",
      "DEBUG:  /Volumes/Raph500/lsst-ir-fusion/dmu4/dmu4_Example/data/rerun/coaddForcedPhot/deepCoadd-results/VISTA-H/8524/3,3/forcedSrc-VISTA-H-8524-3,3.fits\n",
      "DEBUG:  /Volumes/Raph500/lsst-ir-fusion/dmu4/dmu4_Example/data/rerun/coaddPhot/deepCoadd-results/VISTA-Ks/8524/3,3/meas-VISTA-Ks-8524-3,3.fits\n",
      "DEBUG:  /Volumes/Raph500/lsst-ir-fusion/dmu4/dmu4_Example/data/rerun/coaddForcedPhot/deepCoadd-results/VISTA-Ks/8524/3,3/forcedSrc-VISTA-Ks-8524-3,3.fits\n",
      "Tract 8524, patch 3,4 already done\n",
      "DEBUG:  /Volumes/Raph500/lsst-ir-fusion/dmu4/dmu4_Example/data/rerun/coaddPhot/deepCoadd-results/HSC-G/8524/3,4/meas-HSC-G-8524-3,4.fits\n",
      "DEBUG:  /Volumes/Raph500/lsst-ir-fusion/dmu4/dmu4_Example/data/rerun/coaddForcedPhot/deepCoadd-results/HSC-G/8524/3,4/forcedSrc-HSC-G-8524-3,4.fits\n",
      "DEBUG:  /Volumes/Raph500/lsst-ir-fusion/dmu4/dmu4_Example/data/rerun/coaddPhot/deepCoadd-results/HSC-R/8524/3,4/meas-HSC-R-8524-3,4.fits\n",
      "DEBUG:  /Volumes/Raph500/lsst-ir-fusion/dmu4/dmu4_Example/data/rerun/coaddForcedPhot/deepCoadd-results/HSC-R/8524/3,4/forcedSrc-HSC-R-8524-3,4.fits\n",
      "DEBUG:  /Volumes/Raph500/lsst-ir-fusion/dmu4/dmu4_Example/data/rerun/coaddPhot/deepCoadd-results/HSC-I/8524/3,4/meas-HSC-I-8524-3,4.fits\n",
      "DEBUG:  /Volumes/Raph500/lsst-ir-fusion/dmu4/dmu4_Example/data/rerun/coaddForcedPhot/deepCoadd-results/HSC-I/8524/3,4/forcedSrc-HSC-I-8524-3,4.fits\n",
      "DEBUG:  /Volumes/Raph500/lsst-ir-fusion/dmu4/dmu4_Example/data/rerun/coaddPhot/deepCoadd-results/HSC-Z/8524/3,4/meas-HSC-Z-8524-3,4.fits\n",
      "DEBUG:  /Volumes/Raph500/lsst-ir-fusion/dmu4/dmu4_Example/data/rerun/coaddForcedPhot/deepCoadd-results/HSC-Z/8524/3,4/forcedSrc-HSC-Z-8524-3,4.fits\n",
      "DEBUG:  /Volumes/Raph500/lsst-ir-fusion/dmu4/dmu4_Example/data/rerun/coaddPhot/deepCoadd-results/HSC-Y/8524/3,4/meas-HSC-Y-8524-3,4.fits\n",
      "DEBUG:  /Volumes/Raph500/lsst-ir-fusion/dmu4/dmu4_Example/data/rerun/coaddForcedPhot/deepCoadd-results/HSC-Y/8524/3,4/forcedSrc-HSC-Y-8524-3,4.fits\n",
      "DEBUG:  /Volumes/Raph500/lsst-ir-fusion/dmu4/dmu4_Example/data/rerun/coaddPhot/deepCoadd-results/VISTA-Z/8524/3,4/meas-VISTA-Z-8524-3,4.fits\n",
      "DEBUG:  /Volumes/Raph500/lsst-ir-fusion/dmu4/dmu4_Example/data/rerun/coaddPhot/deepCoadd-results/VISTA-Y/8524/3,4/meas-VISTA-Y-8524-3,4.fits\n",
      "DEBUG:  /Volumes/Raph500/lsst-ir-fusion/dmu4/dmu4_Example/data/rerun/coaddForcedPhot/deepCoadd-results/VISTA-Y/8524/3,4/forcedSrc-VISTA-Y-8524-3,4.fits\n",
      "DEBUG:  /Volumes/Raph500/lsst-ir-fusion/dmu4/dmu4_Example/data/rerun/coaddPhot/deepCoadd-results/VISTA-J/8524/3,4/meas-VISTA-J-8524-3,4.fits\n",
      "DEBUG:  /Volumes/Raph500/lsst-ir-fusion/dmu4/dmu4_Example/data/rerun/coaddForcedPhot/deepCoadd-results/VISTA-J/8524/3,4/forcedSrc-VISTA-J-8524-3,4.fits\n",
      "DEBUG:  /Volumes/Raph500/lsst-ir-fusion/dmu4/dmu4_Example/data/rerun/coaddPhot/deepCoadd-results/VISTA-H/8524/3,4/meas-VISTA-H-8524-3,4.fits\n"
     ]
    },
    {
     "name": "stdout",
     "output_type": "stream",
     "text": [
      "DEBUG:  /Volumes/Raph500/lsst-ir-fusion/dmu4/dmu4_Example/data/rerun/coaddForcedPhot/deepCoadd-results/VISTA-H/8524/3,4/forcedSrc-VISTA-H-8524-3,4.fits\n",
      "DEBUG:  /Volumes/Raph500/lsst-ir-fusion/dmu4/dmu4_Example/data/rerun/coaddPhot/deepCoadd-results/VISTA-Ks/8524/3,4/meas-VISTA-Ks-8524-3,4.fits\n",
      "DEBUG:  /Volumes/Raph500/lsst-ir-fusion/dmu4/dmu4_Example/data/rerun/coaddForcedPhot/deepCoadd-results/VISTA-Ks/8524/3,4/forcedSrc-VISTA-Ks-8524-3,4.fits\n",
      "Tract 8524, patch 3,5 already done\n",
      "DEBUG:  /Volumes/Raph500/lsst-ir-fusion/dmu4/dmu4_Example/data/rerun/coaddPhot/deepCoadd-results/HSC-G/8524/3,5/meas-HSC-G-8524-3,5.fits\n",
      "DEBUG:  /Volumes/Raph500/lsst-ir-fusion/dmu4/dmu4_Example/data/rerun/coaddForcedPhot/deepCoadd-results/HSC-G/8524/3,5/forcedSrc-HSC-G-8524-3,5.fits\n",
      "DEBUG:  /Volumes/Raph500/lsst-ir-fusion/dmu4/dmu4_Example/data/rerun/coaddPhot/deepCoadd-results/HSC-R/8524/3,5/meas-HSC-R-8524-3,5.fits\n",
      "DEBUG:  /Volumes/Raph500/lsst-ir-fusion/dmu4/dmu4_Example/data/rerun/coaddForcedPhot/deepCoadd-results/HSC-R/8524/3,5/forcedSrc-HSC-R-8524-3,5.fits\n",
      "DEBUG:  /Volumes/Raph500/lsst-ir-fusion/dmu4/dmu4_Example/data/rerun/coaddPhot/deepCoadd-results/HSC-I/8524/3,5/meas-HSC-I-8524-3,5.fits\n",
      "DEBUG:  /Volumes/Raph500/lsst-ir-fusion/dmu4/dmu4_Example/data/rerun/coaddForcedPhot/deepCoadd-results/HSC-I/8524/3,5/forcedSrc-HSC-I-8524-3,5.fits\n",
      "DEBUG:  /Volumes/Raph500/lsst-ir-fusion/dmu4/dmu4_Example/data/rerun/coaddPhot/deepCoadd-results/HSC-Z/8524/3,5/meas-HSC-Z-8524-3,5.fits\n",
      "DEBUG:  /Volumes/Raph500/lsst-ir-fusion/dmu4/dmu4_Example/data/rerun/coaddForcedPhot/deepCoadd-results/HSC-Z/8524/3,5/forcedSrc-HSC-Z-8524-3,5.fits\n",
      "DEBUG:  /Volumes/Raph500/lsst-ir-fusion/dmu4/dmu4_Example/data/rerun/coaddPhot/deepCoadd-results/HSC-Y/8524/3,5/meas-HSC-Y-8524-3,5.fits\n",
      "DEBUG:  /Volumes/Raph500/lsst-ir-fusion/dmu4/dmu4_Example/data/rerun/coaddForcedPhot/deepCoadd-results/HSC-Y/8524/3,5/forcedSrc-HSC-Y-8524-3,5.fits\n",
      "DEBUG:  /Volumes/Raph500/lsst-ir-fusion/dmu4/dmu4_Example/data/rerun/coaddPhot/deepCoadd-results/VISTA-Z/8524/3,5/meas-VISTA-Z-8524-3,5.fits\n",
      "DEBUG:  /Volumes/Raph500/lsst-ir-fusion/dmu4/dmu4_Example/data/rerun/coaddPhot/deepCoadd-results/VISTA-Y/8524/3,5/meas-VISTA-Y-8524-3,5.fits\n",
      "DEBUG:  /Volumes/Raph500/lsst-ir-fusion/dmu4/dmu4_Example/data/rerun/coaddForcedPhot/deepCoadd-results/VISTA-Y/8524/3,5/forcedSrc-VISTA-Y-8524-3,5.fits\n",
      "DEBUG:  /Volumes/Raph500/lsst-ir-fusion/dmu4/dmu4_Example/data/rerun/coaddPhot/deepCoadd-results/VISTA-J/8524/3,5/meas-VISTA-J-8524-3,5.fits\n",
      "DEBUG:  /Volumes/Raph500/lsst-ir-fusion/dmu4/dmu4_Example/data/rerun/coaddForcedPhot/deepCoadd-results/VISTA-J/8524/3,5/forcedSrc-VISTA-J-8524-3,5.fits\n",
      "DEBUG:  /Volumes/Raph500/lsst-ir-fusion/dmu4/dmu4_Example/data/rerun/coaddPhot/deepCoadd-results/VISTA-H/8524/3,5/meas-VISTA-H-8524-3,5.fits\n",
      "DEBUG:  /Volumes/Raph500/lsst-ir-fusion/dmu4/dmu4_Example/data/rerun/coaddForcedPhot/deepCoadd-results/VISTA-H/8524/3,5/forcedSrc-VISTA-H-8524-3,5.fits\n",
      "DEBUG:  /Volumes/Raph500/lsst-ir-fusion/dmu4/dmu4_Example/data/rerun/coaddPhot/deepCoadd-results/VISTA-Ks/8524/3,5/meas-VISTA-Ks-8524-3,5.fits\n",
      "DEBUG:  /Volumes/Raph500/lsst-ir-fusion/dmu4/dmu4_Example/data/rerun/coaddForcedPhot/deepCoadd-results/VISTA-Ks/8524/3,5/forcedSrc-VISTA-Ks-8524-3,5.fits\n",
      "DEBUG:  /Volumes/Raph500/lsst-ir-fusion/dmu4/dmu4_Example/data/rerun/coaddPhot/deepCoadd-results/HSC-G/8524/3,6/meas-HSC-G-8524-3,6.fits\n",
      "DEBUG:  /Volumes/Raph500/lsst-ir-fusion/dmu4/dmu4_Example/data/rerun/coaddPhot/deepCoadd-results/HSC-Z/8524/3,6/meas-HSC-Z-8524-3,6.fits\n",
      "DEBUG:  /Volumes/Raph500/lsst-ir-fusion/dmu4/dmu4_Example/data/rerun/coaddPhot/deepCoadd-results/HSC-Y/8524/3,6/meas-HSC-Y-8524-3,6.fits\n",
      "DEBUG:  /Volumes/Raph500/lsst-ir-fusion/dmu4/dmu4_Example/data/rerun/coaddPhot/deepCoadd-results/VISTA-Z/8524/3,6/meas-VISTA-Z-8524-3,6.fits\n",
      "DEBUG:  /Volumes/Raph500/lsst-ir-fusion/dmu4/dmu4_Example/data/rerun/coaddPhot/deepCoadd-results/VISTA-Y/8524/3,6/meas-VISTA-Y-8524-3,6.fits\n",
      "Tract 8524, patch 3,6 failed\n",
      "DEBUG:  /Volumes/Raph500/lsst-ir-fusion/dmu4/dmu4_Example/data/rerun/coaddPhot/deepCoadd-results/HSC-G/8524/3,7/meas-HSC-G-8524-3,7.fits\n",
      "DEBUG:  /Volumes/Raph500/lsst-ir-fusion/dmu4/dmu4_Example/data/rerun/coaddPhot/deepCoadd-results/HSC-Z/8524/3,7/meas-HSC-Z-8524-3,7.fits\n",
      "DEBUG:  /Volumes/Raph500/lsst-ir-fusion/dmu4/dmu4_Example/data/rerun/coaddPhot/deepCoadd-results/HSC-Y/8524/3,7/meas-HSC-Y-8524-3,7.fits\n",
      "DEBUG:  /Volumes/Raph500/lsst-ir-fusion/dmu4/dmu4_Example/data/rerun/coaddPhot/deepCoadd-results/VISTA-Z/8524/3,7/meas-VISTA-Z-8524-3,7.fits\n",
      "DEBUG:  /Volumes/Raph500/lsst-ir-fusion/dmu4/dmu4_Example/data/rerun/coaddPhot/deepCoadd-results/VISTA-Y/8524/3,7/meas-VISTA-Y-8524-3,7.fits\n",
      "Tract 8524, patch 3,7 failed\n",
      "DEBUG:  /Volumes/Raph500/lsst-ir-fusion/dmu4/dmu4_Example/data/rerun/coaddPhot/deepCoadd-results/HSC-G/8524/3,8/meas-HSC-G-8524-3,8.fits\n",
      "DEBUG:  /Volumes/Raph500/lsst-ir-fusion/dmu4/dmu4_Example/data/rerun/coaddPhot/deepCoadd-results/HSC-Z/8524/3,8/meas-HSC-Z-8524-3,8.fits\n",
      "DEBUG:  /Volumes/Raph500/lsst-ir-fusion/dmu4/dmu4_Example/data/rerun/coaddPhot/deepCoadd-results/HSC-Y/8524/3,8/meas-HSC-Y-8524-3,8.fits\n",
      "DEBUG:  /Volumes/Raph500/lsst-ir-fusion/dmu4/dmu4_Example/data/rerun/coaddPhot/deepCoadd-results/VISTA-Z/8524/3,8/meas-VISTA-Z-8524-3,8.fits\n",
      "DEBUG:  /Volumes/Raph500/lsst-ir-fusion/dmu4/dmu4_Example/data/rerun/coaddPhot/deepCoadd-results/VISTA-Y/8524/3,8/meas-VISTA-Y-8524-3,8.fits\n",
      "Tract 8524, patch 3,8 failed\n",
      "Tract 8524, patch 4,0 failed\n",
      "Tract 8524, patch 4,1 failed\n",
      "Tract 8524, patch 4,2 failed\n",
      "Tract 8524, patch 4,3 already done\n",
      "DEBUG:  /Volumes/Raph500/lsst-ir-fusion/dmu4/dmu4_Example/data/rerun/coaddPhot/deepCoadd-results/HSC-G/8524/4,3/meas-HSC-G-8524-4,3.fits\n",
      "DEBUG:  /Volumes/Raph500/lsst-ir-fusion/dmu4/dmu4_Example/data/rerun/coaddForcedPhot/deepCoadd-results/HSC-G/8524/4,3/forcedSrc-HSC-G-8524-4,3.fits\n",
      "DEBUG:  /Volumes/Raph500/lsst-ir-fusion/dmu4/dmu4_Example/data/rerun/coaddPhot/deepCoadd-results/HSC-R/8524/4,3/meas-HSC-R-8524-4,3.fits\n",
      "DEBUG:  /Volumes/Raph500/lsst-ir-fusion/dmu4/dmu4_Example/data/rerun/coaddForcedPhot/deepCoadd-results/HSC-R/8524/4,3/forcedSrc-HSC-R-8524-4,3.fits\n",
      "DEBUG:  /Volumes/Raph500/lsst-ir-fusion/dmu4/dmu4_Example/data/rerun/coaddPhot/deepCoadd-results/HSC-I/8524/4,3/meas-HSC-I-8524-4,3.fits\n",
      "DEBUG:  /Volumes/Raph500/lsst-ir-fusion/dmu4/dmu4_Example/data/rerun/coaddForcedPhot/deepCoadd-results/HSC-I/8524/4,3/forcedSrc-HSC-I-8524-4,3.fits\n",
      "DEBUG:  /Volumes/Raph500/lsst-ir-fusion/dmu4/dmu4_Example/data/rerun/coaddPhot/deepCoadd-results/HSC-Z/8524/4,3/meas-HSC-Z-8524-4,3.fits\n",
      "DEBUG:  /Volumes/Raph500/lsst-ir-fusion/dmu4/dmu4_Example/data/rerun/coaddForcedPhot/deepCoadd-results/HSC-Z/8524/4,3/forcedSrc-HSC-Z-8524-4,3.fits\n",
      "DEBUG:  /Volumes/Raph500/lsst-ir-fusion/dmu4/dmu4_Example/data/rerun/coaddPhot/deepCoadd-results/HSC-Y/8524/4,3/meas-HSC-Y-8524-4,3.fits\n",
      "DEBUG:  /Volumes/Raph500/lsst-ir-fusion/dmu4/dmu4_Example/data/rerun/coaddForcedPhot/deepCoadd-results/HSC-Y/8524/4,3/forcedSrc-HSC-Y-8524-4,3.fits\n",
      "DEBUG:  /Volumes/Raph500/lsst-ir-fusion/dmu4/dmu4_Example/data/rerun/coaddPhot/deepCoadd-results/VISTA-Y/8524/4,3/meas-VISTA-Y-8524-4,3.fits\n",
      "DEBUG:  /Volumes/Raph500/lsst-ir-fusion/dmu4/dmu4_Example/data/rerun/coaddForcedPhot/deepCoadd-results/VISTA-Y/8524/4,3/forcedSrc-VISTA-Y-8524-4,3.fits\n",
      "DEBUG:  /Volumes/Raph500/lsst-ir-fusion/dmu4/dmu4_Example/data/rerun/coaddPhot/deepCoadd-results/VISTA-J/8524/4,3/meas-VISTA-J-8524-4,3.fits\n",
      "DEBUG:  /Volumes/Raph500/lsst-ir-fusion/dmu4/dmu4_Example/data/rerun/coaddForcedPhot/deepCoadd-results/VISTA-J/8524/4,3/forcedSrc-VISTA-J-8524-4,3.fits\n",
      "DEBUG:  /Volumes/Raph500/lsst-ir-fusion/dmu4/dmu4_Example/data/rerun/coaddPhot/deepCoadd-results/VISTA-H/8524/4,3/meas-VISTA-H-8524-4,3.fits\n",
      "DEBUG:  /Volumes/Raph500/lsst-ir-fusion/dmu4/dmu4_Example/data/rerun/coaddForcedPhot/deepCoadd-results/VISTA-H/8524/4,3/forcedSrc-VISTA-H-8524-4,3.fits\n",
      "DEBUG:  /Volumes/Raph500/lsst-ir-fusion/dmu4/dmu4_Example/data/rerun/coaddPhot/deepCoadd-results/VISTA-Ks/8524/4,3/meas-VISTA-Ks-8524-4,3.fits\n",
      "DEBUG:  /Volumes/Raph500/lsst-ir-fusion/dmu4/dmu4_Example/data/rerun/coaddForcedPhot/deepCoadd-results/VISTA-Ks/8524/4,3/forcedSrc-VISTA-Ks-8524-4,3.fits\n",
      "Tract 8524, patch 4,4 already done\n",
      "DEBUG:  /Volumes/Raph500/lsst-ir-fusion/dmu4/dmu4_Example/data/rerun/coaddPhot/deepCoadd-results/HSC-G/8524/4,4/meas-HSC-G-8524-4,4.fits\n"
     ]
    },
    {
     "name": "stdout",
     "output_type": "stream",
     "text": [
      "DEBUG:  /Volumes/Raph500/lsst-ir-fusion/dmu4/dmu4_Example/data/rerun/coaddForcedPhot/deepCoadd-results/HSC-G/8524/4,4/forcedSrc-HSC-G-8524-4,4.fits\n",
      "DEBUG:  /Volumes/Raph500/lsst-ir-fusion/dmu4/dmu4_Example/data/rerun/coaddPhot/deepCoadd-results/HSC-R/8524/4,4/meas-HSC-R-8524-4,4.fits\n",
      "DEBUG:  /Volumes/Raph500/lsst-ir-fusion/dmu4/dmu4_Example/data/rerun/coaddForcedPhot/deepCoadd-results/HSC-R/8524/4,4/forcedSrc-HSC-R-8524-4,4.fits\n",
      "DEBUG:  /Volumes/Raph500/lsst-ir-fusion/dmu4/dmu4_Example/data/rerun/coaddPhot/deepCoadd-results/HSC-I/8524/4,4/meas-HSC-I-8524-4,4.fits\n",
      "DEBUG:  /Volumes/Raph500/lsst-ir-fusion/dmu4/dmu4_Example/data/rerun/coaddForcedPhot/deepCoadd-results/HSC-I/8524/4,4/forcedSrc-HSC-I-8524-4,4.fits\n",
      "DEBUG:  /Volumes/Raph500/lsst-ir-fusion/dmu4/dmu4_Example/data/rerun/coaddPhot/deepCoadd-results/HSC-Z/8524/4,4/meas-HSC-Z-8524-4,4.fits\n",
      "DEBUG:  /Volumes/Raph500/lsst-ir-fusion/dmu4/dmu4_Example/data/rerun/coaddForcedPhot/deepCoadd-results/HSC-Z/8524/4,4/forcedSrc-HSC-Z-8524-4,4.fits\n",
      "DEBUG:  /Volumes/Raph500/lsst-ir-fusion/dmu4/dmu4_Example/data/rerun/coaddPhot/deepCoadd-results/HSC-Y/8524/4,4/meas-HSC-Y-8524-4,4.fits\n",
      "DEBUG:  /Volumes/Raph500/lsst-ir-fusion/dmu4/dmu4_Example/data/rerun/coaddForcedPhot/deepCoadd-results/HSC-Y/8524/4,4/forcedSrc-HSC-Y-8524-4,4.fits\n",
      "DEBUG:  /Volumes/Raph500/lsst-ir-fusion/dmu4/dmu4_Example/data/rerun/coaddPhot/deepCoadd-results/VISTA-Y/8524/4,4/meas-VISTA-Y-8524-4,4.fits\n",
      "DEBUG:  /Volumes/Raph500/lsst-ir-fusion/dmu4/dmu4_Example/data/rerun/coaddForcedPhot/deepCoadd-results/VISTA-Y/8524/4,4/forcedSrc-VISTA-Y-8524-4,4.fits\n",
      "DEBUG:  /Volumes/Raph500/lsst-ir-fusion/dmu4/dmu4_Example/data/rerun/coaddPhot/deepCoadd-results/VISTA-J/8524/4,4/meas-VISTA-J-8524-4,4.fits\n",
      "DEBUG:  /Volumes/Raph500/lsst-ir-fusion/dmu4/dmu4_Example/data/rerun/coaddForcedPhot/deepCoadd-results/VISTA-J/8524/4,4/forcedSrc-VISTA-J-8524-4,4.fits\n",
      "DEBUG:  /Volumes/Raph500/lsst-ir-fusion/dmu4/dmu4_Example/data/rerun/coaddPhot/deepCoadd-results/VISTA-H/8524/4,4/meas-VISTA-H-8524-4,4.fits\n",
      "DEBUG:  /Volumes/Raph500/lsst-ir-fusion/dmu4/dmu4_Example/data/rerun/coaddForcedPhot/deepCoadd-results/VISTA-H/8524/4,4/forcedSrc-VISTA-H-8524-4,4.fits\n",
      "DEBUG:  /Volumes/Raph500/lsst-ir-fusion/dmu4/dmu4_Example/data/rerun/coaddPhot/deepCoadd-results/VISTA-Ks/8524/4,4/meas-VISTA-Ks-8524-4,4.fits\n",
      "DEBUG:  /Volumes/Raph500/lsst-ir-fusion/dmu4/dmu4_Example/data/rerun/coaddForcedPhot/deepCoadd-results/VISTA-Ks/8524/4,4/forcedSrc-VISTA-Ks-8524-4,4.fits\n",
      "Tract 8524, patch 4,5 already done\n",
      "DEBUG:  /Volumes/Raph500/lsst-ir-fusion/dmu4/dmu4_Example/data/rerun/coaddPhot/deepCoadd-results/HSC-G/8524/4,5/meas-HSC-G-8524-4,5.fits\n",
      "DEBUG:  /Volumes/Raph500/lsst-ir-fusion/dmu4/dmu4_Example/data/rerun/coaddForcedPhot/deepCoadd-results/HSC-G/8524/4,5/forcedSrc-HSC-G-8524-4,5.fits\n",
      "DEBUG:  /Volumes/Raph500/lsst-ir-fusion/dmu4/dmu4_Example/data/rerun/coaddPhot/deepCoadd-results/HSC-R/8524/4,5/meas-HSC-R-8524-4,5.fits\n",
      "DEBUG:  /Volumes/Raph500/lsst-ir-fusion/dmu4/dmu4_Example/data/rerun/coaddForcedPhot/deepCoadd-results/HSC-R/8524/4,5/forcedSrc-HSC-R-8524-4,5.fits\n",
      "DEBUG:  /Volumes/Raph500/lsst-ir-fusion/dmu4/dmu4_Example/data/rerun/coaddPhot/deepCoadd-results/HSC-I/8524/4,5/meas-HSC-I-8524-4,5.fits\n",
      "DEBUG:  /Volumes/Raph500/lsst-ir-fusion/dmu4/dmu4_Example/data/rerun/coaddForcedPhot/deepCoadd-results/HSC-I/8524/4,5/forcedSrc-HSC-I-8524-4,5.fits\n",
      "DEBUG:  /Volumes/Raph500/lsst-ir-fusion/dmu4/dmu4_Example/data/rerun/coaddPhot/deepCoadd-results/HSC-Z/8524/4,5/meas-HSC-Z-8524-4,5.fits\n",
      "DEBUG:  /Volumes/Raph500/lsst-ir-fusion/dmu4/dmu4_Example/data/rerun/coaddForcedPhot/deepCoadd-results/HSC-Z/8524/4,5/forcedSrc-HSC-Z-8524-4,5.fits\n",
      "DEBUG:  /Volumes/Raph500/lsst-ir-fusion/dmu4/dmu4_Example/data/rerun/coaddPhot/deepCoadd-results/HSC-Y/8524/4,5/meas-HSC-Y-8524-4,5.fits\n",
      "DEBUG:  /Volumes/Raph500/lsst-ir-fusion/dmu4/dmu4_Example/data/rerun/coaddForcedPhot/deepCoadd-results/HSC-Y/8524/4,5/forcedSrc-HSC-Y-8524-4,5.fits\n",
      "DEBUG:  /Volumes/Raph500/lsst-ir-fusion/dmu4/dmu4_Example/data/rerun/coaddPhot/deepCoadd-results/VISTA-Y/8524/4,5/meas-VISTA-Y-8524-4,5.fits\n",
      "DEBUG:  /Volumes/Raph500/lsst-ir-fusion/dmu4/dmu4_Example/data/rerun/coaddForcedPhot/deepCoadd-results/VISTA-Y/8524/4,5/forcedSrc-VISTA-Y-8524-4,5.fits\n",
      "DEBUG:  /Volumes/Raph500/lsst-ir-fusion/dmu4/dmu4_Example/data/rerun/coaddPhot/deepCoadd-results/VISTA-J/8524/4,5/meas-VISTA-J-8524-4,5.fits\n",
      "DEBUG:  /Volumes/Raph500/lsst-ir-fusion/dmu4/dmu4_Example/data/rerun/coaddForcedPhot/deepCoadd-results/VISTA-J/8524/4,5/forcedSrc-VISTA-J-8524-4,5.fits\n",
      "DEBUG:  /Volumes/Raph500/lsst-ir-fusion/dmu4/dmu4_Example/data/rerun/coaddPhot/deepCoadd-results/VISTA-H/8524/4,5/meas-VISTA-H-8524-4,5.fits\n",
      "DEBUG:  /Volumes/Raph500/lsst-ir-fusion/dmu4/dmu4_Example/data/rerun/coaddForcedPhot/deepCoadd-results/VISTA-H/8524/4,5/forcedSrc-VISTA-H-8524-4,5.fits\n",
      "DEBUG:  /Volumes/Raph500/lsst-ir-fusion/dmu4/dmu4_Example/data/rerun/coaddPhot/deepCoadd-results/VISTA-Ks/8524/4,5/meas-VISTA-Ks-8524-4,5.fits\n",
      "DEBUG:  /Volumes/Raph500/lsst-ir-fusion/dmu4/dmu4_Example/data/rerun/coaddForcedPhot/deepCoadd-results/VISTA-Ks/8524/4,5/forcedSrc-VISTA-Ks-8524-4,5.fits\n",
      "Tract 8524, patch 4,6 failed\n",
      "Tract 8524, patch 4,7 failed\n",
      "Tract 8524, patch 4,8 failed\n",
      "Tract 8524, patch 5,0 failed\n",
      "Tract 8524, patch 5,1 failed\n",
      "Tract 8524, patch 5,2 failed\n",
      "Tract 8524, patch 5,3 already done\n",
      "DEBUG:  /Volumes/Raph500/lsst-ir-fusion/dmu4/dmu4_Example/data/rerun/coaddPhot/deepCoadd-results/HSC-G/8524/5,3/meas-HSC-G-8524-5,3.fits\n",
      "DEBUG:  /Volumes/Raph500/lsst-ir-fusion/dmu4/dmu4_Example/data/rerun/coaddForcedPhot/deepCoadd-results/HSC-G/8524/5,3/forcedSrc-HSC-G-8524-5,3.fits\n",
      "DEBUG:  /Volumes/Raph500/lsst-ir-fusion/dmu4/dmu4_Example/data/rerun/coaddPhot/deepCoadd-results/HSC-R/8524/5,3/meas-HSC-R-8524-5,3.fits\n",
      "DEBUG:  /Volumes/Raph500/lsst-ir-fusion/dmu4/dmu4_Example/data/rerun/coaddForcedPhot/deepCoadd-results/HSC-R/8524/5,3/forcedSrc-HSC-R-8524-5,3.fits\n",
      "DEBUG:  /Volumes/Raph500/lsst-ir-fusion/dmu4/dmu4_Example/data/rerun/coaddPhot/deepCoadd-results/HSC-I/8524/5,3/meas-HSC-I-8524-5,3.fits\n",
      "DEBUG:  /Volumes/Raph500/lsst-ir-fusion/dmu4/dmu4_Example/data/rerun/coaddForcedPhot/deepCoadd-results/HSC-I/8524/5,3/forcedSrc-HSC-I-8524-5,3.fits\n",
      "DEBUG:  /Volumes/Raph500/lsst-ir-fusion/dmu4/dmu4_Example/data/rerun/coaddPhot/deepCoadd-results/HSC-Z/8524/5,3/meas-HSC-Z-8524-5,3.fits\n",
      "DEBUG:  /Volumes/Raph500/lsst-ir-fusion/dmu4/dmu4_Example/data/rerun/coaddForcedPhot/deepCoadd-results/HSC-Z/8524/5,3/forcedSrc-HSC-Z-8524-5,3.fits\n",
      "DEBUG:  /Volumes/Raph500/lsst-ir-fusion/dmu4/dmu4_Example/data/rerun/coaddPhot/deepCoadd-results/HSC-Y/8524/5,3/meas-HSC-Y-8524-5,3.fits\n",
      "DEBUG:  /Volumes/Raph500/lsst-ir-fusion/dmu4/dmu4_Example/data/rerun/coaddForcedPhot/deepCoadd-results/HSC-Y/8524/5,3/forcedSrc-HSC-Y-8524-5,3.fits\n",
      "DEBUG:  /Volumes/Raph500/lsst-ir-fusion/dmu4/dmu4_Example/data/rerun/coaddPhot/deepCoadd-results/VISTA-Y/8524/5,3/meas-VISTA-Y-8524-5,3.fits\n",
      "DEBUG:  /Volumes/Raph500/lsst-ir-fusion/dmu4/dmu4_Example/data/rerun/coaddForcedPhot/deepCoadd-results/VISTA-Y/8524/5,3/forcedSrc-VISTA-Y-8524-5,3.fits\n",
      "DEBUG:  /Volumes/Raph500/lsst-ir-fusion/dmu4/dmu4_Example/data/rerun/coaddPhot/deepCoadd-results/VISTA-J/8524/5,3/meas-VISTA-J-8524-5,3.fits\n",
      "DEBUG:  /Volumes/Raph500/lsst-ir-fusion/dmu4/dmu4_Example/data/rerun/coaddForcedPhot/deepCoadd-results/VISTA-J/8524/5,3/forcedSrc-VISTA-J-8524-5,3.fits\n",
      "DEBUG:  /Volumes/Raph500/lsst-ir-fusion/dmu4/dmu4_Example/data/rerun/coaddPhot/deepCoadd-results/VISTA-H/8524/5,3/meas-VISTA-H-8524-5,3.fits\n",
      "DEBUG:  /Volumes/Raph500/lsst-ir-fusion/dmu4/dmu4_Example/data/rerun/coaddForcedPhot/deepCoadd-results/VISTA-H/8524/5,3/forcedSrc-VISTA-H-8524-5,3.fits\n",
      "DEBUG:  /Volumes/Raph500/lsst-ir-fusion/dmu4/dmu4_Example/data/rerun/coaddPhot/deepCoadd-results/VISTA-Ks/8524/5,3/meas-VISTA-Ks-8524-5,3.fits\n",
      "DEBUG:  /Volumes/Raph500/lsst-ir-fusion/dmu4/dmu4_Example/data/rerun/coaddForcedPhot/deepCoadd-results/VISTA-Ks/8524/5,3/forcedSrc-VISTA-Ks-8524-5,3.fits\n",
      "Tract 8524, patch 5,4 already done\n",
      "DEBUG:  /Volumes/Raph500/lsst-ir-fusion/dmu4/dmu4_Example/data/rerun/coaddPhot/deepCoadd-results/HSC-G/8524/5,4/meas-HSC-G-8524-5,4.fits\n",
      "DEBUG:  /Volumes/Raph500/lsst-ir-fusion/dmu4/dmu4_Example/data/rerun/coaddForcedPhot/deepCoadd-results/HSC-G/8524/5,4/forcedSrc-HSC-G-8524-5,4.fits\n"
     ]
    },
    {
     "name": "stdout",
     "output_type": "stream",
     "text": [
      "DEBUG:  /Volumes/Raph500/lsst-ir-fusion/dmu4/dmu4_Example/data/rerun/coaddPhot/deepCoadd-results/HSC-R/8524/5,4/meas-HSC-R-8524-5,4.fits\n",
      "DEBUG:  /Volumes/Raph500/lsst-ir-fusion/dmu4/dmu4_Example/data/rerun/coaddForcedPhot/deepCoadd-results/HSC-R/8524/5,4/forcedSrc-HSC-R-8524-5,4.fits\n",
      "DEBUG:  /Volumes/Raph500/lsst-ir-fusion/dmu4/dmu4_Example/data/rerun/coaddPhot/deepCoadd-results/HSC-I/8524/5,4/meas-HSC-I-8524-5,4.fits\n",
      "DEBUG:  /Volumes/Raph500/lsst-ir-fusion/dmu4/dmu4_Example/data/rerun/coaddForcedPhot/deepCoadd-results/HSC-I/8524/5,4/forcedSrc-HSC-I-8524-5,4.fits\n",
      "DEBUG:  /Volumes/Raph500/lsst-ir-fusion/dmu4/dmu4_Example/data/rerun/coaddPhot/deepCoadd-results/HSC-Z/8524/5,4/meas-HSC-Z-8524-5,4.fits\n",
      "DEBUG:  /Volumes/Raph500/lsst-ir-fusion/dmu4/dmu4_Example/data/rerun/coaddForcedPhot/deepCoadd-results/HSC-Z/8524/5,4/forcedSrc-HSC-Z-8524-5,4.fits\n",
      "DEBUG:  /Volumes/Raph500/lsst-ir-fusion/dmu4/dmu4_Example/data/rerun/coaddPhot/deepCoadd-results/VISTA-Y/8524/5,4/meas-VISTA-Y-8524-5,4.fits\n",
      "DEBUG:  /Volumes/Raph500/lsst-ir-fusion/dmu4/dmu4_Example/data/rerun/coaddForcedPhot/deepCoadd-results/VISTA-Y/8524/5,4/forcedSrc-VISTA-Y-8524-5,4.fits\n",
      "DEBUG:  /Volumes/Raph500/lsst-ir-fusion/dmu4/dmu4_Example/data/rerun/coaddPhot/deepCoadd-results/VISTA-J/8524/5,4/meas-VISTA-J-8524-5,4.fits\n",
      "DEBUG:  /Volumes/Raph500/lsst-ir-fusion/dmu4/dmu4_Example/data/rerun/coaddForcedPhot/deepCoadd-results/VISTA-J/8524/5,4/forcedSrc-VISTA-J-8524-5,4.fits\n",
      "DEBUG:  /Volumes/Raph500/lsst-ir-fusion/dmu4/dmu4_Example/data/rerun/coaddPhot/deepCoadd-results/VISTA-H/8524/5,4/meas-VISTA-H-8524-5,4.fits\n",
      "DEBUG:  /Volumes/Raph500/lsst-ir-fusion/dmu4/dmu4_Example/data/rerun/coaddForcedPhot/deepCoadd-results/VISTA-H/8524/5,4/forcedSrc-VISTA-H-8524-5,4.fits\n",
      "DEBUG:  /Volumes/Raph500/lsst-ir-fusion/dmu4/dmu4_Example/data/rerun/coaddPhot/deepCoadd-results/VISTA-Ks/8524/5,4/meas-VISTA-Ks-8524-5,4.fits\n",
      "DEBUG:  /Volumes/Raph500/lsst-ir-fusion/dmu4/dmu4_Example/data/rerun/coaddForcedPhot/deepCoadd-results/VISTA-Ks/8524/5,4/forcedSrc-VISTA-Ks-8524-5,4.fits\n",
      "Tract 8524, patch 5,5 already done\n",
      "DEBUG:  /Volumes/Raph500/lsst-ir-fusion/dmu4/dmu4_Example/data/rerun/coaddPhot/deepCoadd-results/HSC-G/8524/5,5/meas-HSC-G-8524-5,5.fits\n",
      "DEBUG:  /Volumes/Raph500/lsst-ir-fusion/dmu4/dmu4_Example/data/rerun/coaddForcedPhot/deepCoadd-results/HSC-G/8524/5,5/forcedSrc-HSC-G-8524-5,5.fits\n",
      "DEBUG:  /Volumes/Raph500/lsst-ir-fusion/dmu4/dmu4_Example/data/rerun/coaddPhot/deepCoadd-results/HSC-I/8524/5,5/meas-HSC-I-8524-5,5.fits\n",
      "DEBUG:  /Volumes/Raph500/lsst-ir-fusion/dmu4/dmu4_Example/data/rerun/coaddForcedPhot/deepCoadd-results/HSC-I/8524/5,5/forcedSrc-HSC-I-8524-5,5.fits\n",
      "DEBUG:  /Volumes/Raph500/lsst-ir-fusion/dmu4/dmu4_Example/data/rerun/coaddPhot/deepCoadd-results/HSC-Z/8524/5,5/meas-HSC-Z-8524-5,5.fits\n",
      "DEBUG:  /Volumes/Raph500/lsst-ir-fusion/dmu4/dmu4_Example/data/rerun/coaddForcedPhot/deepCoadd-results/HSC-Z/8524/5,5/forcedSrc-HSC-Z-8524-5,5.fits\n",
      "DEBUG:  /Volumes/Raph500/lsst-ir-fusion/dmu4/dmu4_Example/data/rerun/coaddPhot/deepCoadd-results/VISTA-Y/8524/5,5/meas-VISTA-Y-8524-5,5.fits\n",
      "DEBUG:  /Volumes/Raph500/lsst-ir-fusion/dmu4/dmu4_Example/data/rerun/coaddForcedPhot/deepCoadd-results/VISTA-Y/8524/5,5/forcedSrc-VISTA-Y-8524-5,5.fits\n",
      "DEBUG:  /Volumes/Raph500/lsst-ir-fusion/dmu4/dmu4_Example/data/rerun/coaddPhot/deepCoadd-results/VISTA-J/8524/5,5/meas-VISTA-J-8524-5,5.fits\n",
      "DEBUG:  /Volumes/Raph500/lsst-ir-fusion/dmu4/dmu4_Example/data/rerun/coaddForcedPhot/deepCoadd-results/VISTA-J/8524/5,5/forcedSrc-VISTA-J-8524-5,5.fits\n",
      "DEBUG:  /Volumes/Raph500/lsst-ir-fusion/dmu4/dmu4_Example/data/rerun/coaddPhot/deepCoadd-results/VISTA-H/8524/5,5/meas-VISTA-H-8524-5,5.fits\n",
      "DEBUG:  /Volumes/Raph500/lsst-ir-fusion/dmu4/dmu4_Example/data/rerun/coaddForcedPhot/deepCoadd-results/VISTA-H/8524/5,5/forcedSrc-VISTA-H-8524-5,5.fits\n",
      "DEBUG:  /Volumes/Raph500/lsst-ir-fusion/dmu4/dmu4_Example/data/rerun/coaddPhot/deepCoadd-results/VISTA-Ks/8524/5,5/meas-VISTA-Ks-8524-5,5.fits\n",
      "DEBUG:  /Volumes/Raph500/lsst-ir-fusion/dmu4/dmu4_Example/data/rerun/coaddForcedPhot/deepCoadd-results/VISTA-Ks/8524/5,5/forcedSrc-VISTA-Ks-8524-5,5.fits\n",
      "Tract 8524, patch 5,6 failed\n",
      "Tract 8524, patch 5,7 failed\n",
      "Tract 8524, patch 5,8 failed\n",
      "Tract 8524, patch 6,0 failed\n",
      "Tract 8524, patch 6,1 failed\n",
      "Tract 8524, patch 6,2 failed\n",
      "Tract 8524, patch 6,3 failed\n",
      "Tract 8524, patch 6,4 failed\n",
      "Tract 8524, patch 6,5 failed\n",
      "Tract 8524, patch 6,6 failed\n",
      "Tract 8524, patch 6,7 failed\n",
      "Tract 8524, patch 6,8 failed\n",
      "Tract 8524, patch 7,0 failed\n",
      "Tract 8524, patch 7,1 failed\n",
      "Tract 8524, patch 7,2 failed\n",
      "Tract 8524, patch 7,3 failed\n",
      "Tract 8524, patch 7,4 failed\n",
      "Tract 8524, patch 7,5 failed\n",
      "Tract 8524, patch 7,6 failed\n",
      "Tract 8524, patch 7,7 failed\n",
      "Tract 8524, patch 7,8 failed\n",
      "Tract 8524, patch 8,1 failed\n",
      "Tract 8524, patch 8,2 failed\n",
      "Tract 8524, patch 8,3 failed\n",
      "Tract 8524, patch 8,4 failed\n",
      "Tract 8524, patch 8,5 failed\n",
      "Tract 8524, patch 8,6 failed\n",
      "Tract 8524, patch 8,7 failed\n",
      "Tract 8524, patch 8,8 failed\n",
      "Tract 8525, patch 1,6 failed\n",
      "Tract 8525, patch 1,7 failed\n",
      "Tract 8525, patch 1,8 failed\n",
      "Tract 8525, patch 2,4 failed\n",
      "Tract 8525, patch 2,5 failed\n",
      "Tract 8525, patch 2,6 failed\n",
      "Tract 8525, patch 2,7 failed\n",
      "Tract 8525, patch 2,8 failed\n",
      "Tract 8525, patch 3,4 failed\n",
      "Tract 8525, patch 3,5 failed\n",
      "Tract 8525, patch 3,6 failed\n",
      "Tract 8525, patch 3,7 failed\n",
      "Tract 8525, patch 3,8 failed\n",
      "Tract 8525, patch 4,4 failed\n",
      "Tract 8525, patch 4,5 failed\n",
      "Tract 8525, patch 4,6 failed\n",
      "Tract 8525, patch 4,7 failed\n",
      "Tract 8525, patch 4,8 failed\n",
      "Tract 8525, patch 5,4 failed\n",
      "Tract 8525, patch 5,5 failed\n",
      "Tract 8525, patch 5,6 failed\n",
      "Tract 8525, patch 5,7 failed\n",
      "Tract 8525, patch 5,8 failed\n",
      "Tract 8525, patch 6,2 failed\n",
      "Tract 8525, patch 6,3 failed\n",
      "Tract 8525, patch 6,4 failed\n",
      "Tract 8525, patch 6,5 failed\n",
      "Tract 8525, patch 6,6 failed\n",
      "Tract 8525, patch 6,7 failed\n",
      "Tract 8525, patch 6,8 failed\n",
      "Tract 8525, patch 7,0 failed\n",
      "Tract 8525, patch 7,1 failed\n",
      "Tract 8525, patch 7,2 failed\n",
      "Tract 8525, patch 7,3 failed\n",
      "Tract 8525, patch 7,4 failed\n",
      "Tract 8525, patch 7,5 failed\n",
      "Tract 8525, patch 7,6 failed\n",
      "Tract 8525, patch 7,7 failed\n",
      "Tract 8525, patch 7,8 failed\n",
      "Tract 8525, patch 8,0 failed\n",
      "Tract 8525, patch 8,1 failed\n",
      "Tract 8525, patch 8,2 failed\n",
      "Tract 8525, patch 8,3 failed\n",
      "Tract 8525, patch 8,4 failed\n",
      "Tract 8525, patch 8,5 failed\n",
      "Tract 8525, patch 8,6 failed\n",
      "Tract 8525, patch 8,7 failed\n",
      "Tract 8525, patch 8,8 failed\n",
      "Tract 8765, patch 0,0 failed\n",
      "Tract 8765, patch 0,1 failed\n",
      "Tract 8765, patch 0,2 failed\n",
      "Tract 8765, patch 0,3 failed\n",
      "Tract 8765, patch 0,4 failed\n",
      "Tract 8765, patch 0,5 failed\n",
      "Tract 8765, patch 0,6 failed\n",
      "Tract 8765, patch 1,0 failed\n",
      "Tract 8765, patch 1,1 failed\n",
      "Tract 8765, patch 1,2 failed\n",
      "Tract 8765, patch 1,3 failed\n",
      "Tract 8765, patch 1,4 failed\n",
      "Tract 8765, patch 1,5 failed\n",
      "Tract 8765, patch 1,6 failed\n",
      "Tract 8765, patch 2,0 failed\n",
      "Tract 8765, patch 2,1 failed\n",
      "Tract 8765, patch 2,2 failed\n",
      "Tract 8765, patch 2,3 failed\n",
      "Tract 8765, patch 2,4 failed\n",
      "Tract 8765, patch 3,0 failed\n",
      "Tract 8765, patch 3,1 failed\n",
      "Tract 8765, patch 3,2 failed\n",
      "Tract 8765, patch 3,3 failed\n",
      "Tract 8765, patch 4,0 failed\n",
      "Tract 8765, patch 4,1 failed\n",
      "Tract 8765, patch 4,2 failed\n",
      "Tract 8765, patch 4,3 failed\n",
      "Tract 8765, patch 5,0 failed\n",
      "Tract 8765, patch 5,1 failed\n",
      "Tract 8765, patch 5,2 failed\n",
      "Tract 8765, patch 5,3 failed\n",
      "Tract 8765, patch 6,0 failed\n",
      "Tract 8765, patch 6,1 failed\n",
      "Tract 8765, patch 6,2 failed\n",
      "Tract 8765, patch 7,0 failed\n",
      "Tract 8765, patch 7,1 failed\n",
      "Tract 8766, patch 0,0 failed\n",
      "Tract 8766, patch 0,1 failed\n",
      "Tract 8766, patch 0,2 failed\n",
      "Tract 8766, patch 0,3 failed\n",
      "Tract 8766, patch 0,4 failed\n",
      "Tract 8766, patch 0,5 failed\n",
      "Tract 8766, patch 1,0 failed\n",
      "Tract 8766, patch 1,1 failed\n",
      "Tract 8766, patch 1,2 failed\n",
      "Tract 8766, patch 1,3 failed\n",
      "Tract 8766, patch 1,4 failed\n",
      "Tract 8766, patch 1,5 failed\n",
      "Tract 8766, patch 1,6 failed\n",
      "Tract 8766, patch 2,0 failed\n",
      "Tract 8766, patch 2,1 failed\n",
      "Tract 8766, patch 2,2 failed\n",
      "Tract 8766, patch 2,3 failed\n",
      "Tract 8766, patch 2,4 failed\n",
      "Tract 8766, patch 2,5 failed\n",
      "Tract 8766, patch 2,6 failed\n",
      "Tract 8766, patch 2,7 failed\n",
      "Tract 8766, patch 3,0 failed\n",
      "Tract 8766, patch 3,1 failed\n",
      "Tract 8766, patch 3,2 failed\n",
      "Tract 8766, patch 3,3 failed\n",
      "Tract 8766, patch 3,4 failed\n",
      "Tract 8766, patch 3,5 failed\n",
      "Tract 8766, patch 3,6 failed\n",
      "Tract 8766, patch 3,7 failed\n",
      "Tract 8766, patch 4,0 failed\n"
     ]
    },
    {
     "name": "stdout",
     "output_type": "stream",
     "text": [
      "Tract 8766, patch 4,1 failed\n",
      "Tract 8766, patch 4,2 failed\n",
      "Tract 8766, patch 4,3 failed\n",
      "Tract 8766, patch 4,4 failed\n",
      "Tract 8766, patch 4,5 failed\n",
      "Tract 8766, patch 4,6 failed\n",
      "Tract 8766, patch 4,7 failed\n",
      "Tract 8766, patch 5,0 failed\n",
      "Tract 8766, patch 5,1 failed\n",
      "Tract 8766, patch 5,2 failed\n",
      "Tract 8766, patch 5,3 failed\n",
      "Tract 8766, patch 5,4 failed\n",
      "Tract 8766, patch 5,5 failed\n",
      "Tract 8766, patch 5,6 failed\n",
      "Tract 8766, patch 5,7 failed\n",
      "Tract 8766, patch 6,0 failed\n",
      "Tract 8766, patch 6,1 failed\n",
      "Tract 8766, patch 6,2 failed\n",
      "Tract 8766, patch 6,3 failed\n",
      "Tract 8766, patch 6,4 failed\n",
      "Tract 8766, patch 6,5 failed\n",
      "Tract 8766, patch 6,6 failed\n",
      "Tract 8766, patch 6,7 failed\n",
      "Tract 8766, patch 7,0 failed\n",
      "Tract 8766, patch 7,1 failed\n",
      "Tract 8766, patch 7,2 failed\n",
      "Tract 8766, patch 7,3 failed\n",
      "Tract 8766, patch 7,4 failed\n",
      "Tract 8766, patch 7,5 failed\n",
      "Tract 8766, patch 7,6 failed\n",
      "Tract 8766, patch 7,7 failed\n",
      "Tract 8766, patch 8,0 failed\n",
      "Tract 8766, patch 8,1 failed\n",
      "Tract 8766, patch 8,2 failed\n",
      "Tract 8766, patch 8,3 failed\n",
      "Tract 8766, patch 8,4 failed\n",
      "Tract 8766, patch 8,5 failed\n",
      "Tract 8766, patch 8,6 failed\n",
      "Tract 8767, patch 1,0 failed\n",
      "Tract 8767, patch 1,1 failed\n",
      "Tract 8767, patch 1,2 failed\n",
      "Tract 8767, patch 2,0 failed\n",
      "Tract 8767, patch 2,1 failed\n",
      "Tract 8767, patch 2,2 failed\n",
      "Tract 8767, patch 2,3 failed\n",
      "Tract 8767, patch 3,0 failed\n",
      "Tract 8767, patch 3,1 failed\n",
      "Tract 8767, patch 3,2 failed\n",
      "Tract 8767, patch 3,3 failed\n",
      "Tract 8767, patch 3,4 failed\n",
      "Tract 8767, patch 4,0 failed\n",
      "Tract 8767, patch 4,1 failed\n",
      "Tract 8767, patch 4,2 failed\n",
      "Tract 8767, patch 4,3 failed\n",
      "Tract 8767, patch 4,4 failed\n",
      "Tract 8767, patch 4,5 failed\n",
      "Tract 8767, patch 5,0 failed\n",
      "Tract 8767, patch 5,1 failed\n",
      "Tract 8767, patch 5,2 failed\n",
      "Tract 8767, patch 5,3 failed\n",
      "Tract 8767, patch 5,4 failed\n",
      "Tract 8767, patch 5,5 failed\n",
      "Tract 8767, patch 6,0 failed\n",
      "Tract 8767, patch 6,1 failed\n",
      "Tract 8767, patch 6,2 failed\n",
      "Tract 8767, patch 6,3 failed\n",
      "Tract 8767, patch 6,4 failed\n",
      "Tract 8767, patch 6,5 failed\n",
      "Tract 8767, patch 7,0 failed\n",
      "Tract 8767, patch 7,1 failed\n",
      "Tract 8767, patch 7,2 failed\n",
      "Tract 8767, patch 7,3 failed\n",
      "Tract 8767, patch 7,4 failed\n",
      "Tract 8767, patch 7,5 failed\n",
      "Tract 8767, patch 8,0 failed\n",
      "Tract 8767, patch 8,1 failed\n",
      "Tract 8767, patch 8,2 failed\n",
      "Tract 8767, patch 8,3 failed\n",
      "Tract 8767, patch 8,4 failed\n",
      "Tract 8767, patch 8,5 failed\n"
     ]
    }
   ],
   "source": [
    "name_base = DATA+'/full_cat_{}_{}_tab{}.fits'\n",
    "reduced_cat = Table()\n",
    "p_n=0\n",
    "for tract in full_patch_dict:\n",
    "    for patch in full_patch_dict[tract]:\n",
    "        #print(type(tract), type(patch))\n",
    "        #skip if file exists\n",
    "        if os.path.exists(DATA+'/reduced_cat_{}_{}.fits'.format(tract,patch)):\n",
    "            print('Tract {}, patch {} already done'.format(tract, patch))\n",
    "            #continue\n",
    "        try:\n",
    "            cat = makeCat(tract, patch, BUTLER_LOC)\n",
    "            #These commented lines will print the catalogue in 1000 column chunks keeping id\n",
    "            #bounds = np.append(np.arange(0,len(cat.colnames),998),len(cat.colnames))\n",
    "            #for n in np.arange(len(bounds)-1):\n",
    "            #    #Write tables in 1000 columns blocks\n",
    "            #    #print(bounds[n], bounds[n+1])\n",
    "            #    sub_cols=list(set(cat.colnames[bounds[n]:bounds[n+1]]).intersection(set(['id'])) )\n",
    "            #    cat[cat.colnames[bounds[n]:bounds[n+1]]].write(name_base.format(\n",
    "            #        tract,patch,n\n",
    "            #    ), overwrite=True)\n",
    "              \n",
    "                \n",
    "            #mask = cat['VISTA-Ks_m_detect_isPatchInner'] & cat['VISTA-Ks_m_detect_isTractInner']\n",
    "            #cat = cat[mask]\n",
    "            #get the set of reduced column names that are available (maybe not all bands)\n",
    "            intersect_red_cols =list(set(reduced_cols).intersection(set(cat.colnames)) )\n",
    "            cat = cat[sorted(intersect_red_cols, reverse=True)]\n",
    "            #We need to remove the meta data to allow the reduced cat to be opened by astropy fits\n",
    "            #TODO write a function to clear only the removed columns or remove each col independently.\n",
    "            cat.meta = None\n",
    "            cat.write(\n",
    "                DATA+'/reduced_cat_{}_{}.fits'.format(tract,patch), overwrite=True\n",
    "            )\n",
    "       \n",
    "            p_n+=1\n",
    "            #Try to fix memory issues:\n",
    "            del cat\n",
    "            gc.collect()\n",
    "            time.sleep(1)\n",
    "        except:\n",
    "            print('Tract {}, patch {} failed'.format(tract, patch))\n",
    "            pass #\n",
    "        "
   ]
  },
  {
   "cell_type": "code",
   "execution_count": 23,
   "metadata": {},
   "outputs": [
    {
     "data": {
      "text/plain": [
       "9"
      ]
     },
     "execution_count": 23,
     "metadata": {},
     "output_type": "execute_result"
    }
   ],
   "source": [
    "p_n"
   ]
  },
  {
   "cell_type": "code",
   "execution_count": 22,
   "metadata": {},
   "outputs": [
    {
     "name": "stdout",
     "output_type": "stream",
     "text": [
      "DEBUG:  /Volumes/Raph500/lsst-ir-fusion/dmu4/dmu4_Example/data/rerun/coaddPhot/deepCoadd-results/HSC-G/8524/3,3/meas-HSC-G-8524-3,3.fits\n",
      "DEBUG:  /Volumes/Raph500/lsst-ir-fusion/dmu4/dmu4_Example/data/rerun/coaddForcedPhot/deepCoadd-results/HSC-G/8524/3,3/forcedSrc-HSC-G-8524-3,3.fits\n",
      "DEBUG:  /Volumes/Raph500/lsst-ir-fusion/dmu4/dmu4_Example/data/rerun/coaddPhot/deepCoadd-results/HSC-R/8524/3,3/meas-HSC-R-8524-3,3.fits\n",
      "DEBUG:  /Volumes/Raph500/lsst-ir-fusion/dmu4/dmu4_Example/data/rerun/coaddForcedPhot/deepCoadd-results/HSC-R/8524/3,3/forcedSrc-HSC-R-8524-3,3.fits\n",
      "DEBUG:  /Volumes/Raph500/lsst-ir-fusion/dmu4/dmu4_Example/data/rerun/coaddPhot/deepCoadd-results/HSC-I/8524/3,3/meas-HSC-I-8524-3,3.fits\n",
      "DEBUG:  /Volumes/Raph500/lsst-ir-fusion/dmu4/dmu4_Example/data/rerun/coaddForcedPhot/deepCoadd-results/HSC-I/8524/3,3/forcedSrc-HSC-I-8524-3,3.fits\n",
      "DEBUG:  /Volumes/Raph500/lsst-ir-fusion/dmu4/dmu4_Example/data/rerun/coaddPhot/deepCoadd-results/HSC-Z/8524/3,3/meas-HSC-Z-8524-3,3.fits\n",
      "DEBUG:  /Volumes/Raph500/lsst-ir-fusion/dmu4/dmu4_Example/data/rerun/coaddForcedPhot/deepCoadd-results/HSC-Z/8524/3,3/forcedSrc-HSC-Z-8524-3,3.fits\n",
      "DEBUG:  /Volumes/Raph500/lsst-ir-fusion/dmu4/dmu4_Example/data/rerun/coaddPhot/deepCoadd-results/HSC-Y/8524/3,3/meas-HSC-Y-8524-3,3.fits\n",
      "DEBUG:  /Volumes/Raph500/lsst-ir-fusion/dmu4/dmu4_Example/data/rerun/coaddForcedPhot/deepCoadd-results/HSC-Y/8524/3,3/forcedSrc-HSC-Y-8524-3,3.fits\n",
      "DEBUG:  /Volumes/Raph500/lsst-ir-fusion/dmu4/dmu4_Example/data/rerun/coaddPhot/deepCoadd-results/VISTA-Z/8524/3,3/meas-VISTA-Z-8524-3,3.fits\n",
      "DEBUG:  /Volumes/Raph500/lsst-ir-fusion/dmu4/dmu4_Example/data/rerun/coaddPhot/deepCoadd-results/VISTA-Y/8524/3,3/meas-VISTA-Y-8524-3,3.fits\n",
      "DEBUG:  /Volumes/Raph500/lsst-ir-fusion/dmu4/dmu4_Example/data/rerun/coaddForcedPhot/deepCoadd-results/VISTA-Y/8524/3,3/forcedSrc-VISTA-Y-8524-3,3.fits\n",
      "DEBUG:  /Volumes/Raph500/lsst-ir-fusion/dmu4/dmu4_Example/data/rerun/coaddPhot/deepCoadd-results/VISTA-J/8524/3,3/meas-VISTA-J-8524-3,3.fits\n",
      "DEBUG:  /Volumes/Raph500/lsst-ir-fusion/dmu4/dmu4_Example/data/rerun/coaddForcedPhot/deepCoadd-results/VISTA-J/8524/3,3/forcedSrc-VISTA-J-8524-3,3.fits\n",
      "DEBUG:  /Volumes/Raph500/lsst-ir-fusion/dmu4/dmu4_Example/data/rerun/coaddPhot/deepCoadd-results/VISTA-H/8524/3,3/meas-VISTA-H-8524-3,3.fits\n",
      "DEBUG:  /Volumes/Raph500/lsst-ir-fusion/dmu4/dmu4_Example/data/rerun/coaddForcedPhot/deepCoadd-results/VISTA-H/8524/3,3/forcedSrc-VISTA-H-8524-3,3.fits\n",
      "DEBUG:  /Volumes/Raph500/lsst-ir-fusion/dmu4/dmu4_Example/data/rerun/coaddPhot/deepCoadd-results/VISTA-Ks/8524/3,3/meas-VISTA-Ks-8524-3,3.fits\n",
      "DEBUG:  /Volumes/Raph500/lsst-ir-fusion/dmu4/dmu4_Example/data/rerun/coaddForcedPhot/deepCoadd-results/VISTA-Ks/8524/3,3/forcedSrc-VISTA-Ks-8524-3,3.fits\n"
     ]
    }
   ],
   "source": [
    "tract,patch = 8524,'3,3'\n",
    "cat = makeCat(tract,patch, BUTLER_LOC)\n",
    "intersect_red_cols =list(set(reduced_cols).intersection(set(cat.colnames)) )\n",
    "cat = cat[sorted(intersect_red_cols, reverse=True)]\n",
    "cat.meta = None\n",
    "cat.write(\n",
    "    DATA+'/reduced_cat_{}_{}.fits'.format(tract,patch), overwrite=True\n",
    ")"
   ]
  },
  {
   "cell_type": "code",
   "execution_count": 23,
   "metadata": {},
   "outputs": [],
   "source": [
    "test = Table.read(DATA+'/reduced_cat_{}_{}.fits'.format(tract,patch))"
   ]
  },
  {
   "cell_type": "code",
   "execution_count": 24,
   "metadata": {},
   "outputs": [
    {
     "data": {
      "text/plain": [
       "'unique ID'"
      ]
     },
     "execution_count": 24,
     "metadata": {},
     "output_type": "execute_result"
    }
   ],
   "source": [
    "test['id'].description"
   ]
  },
  {
   "cell_type": "code",
   "execution_count": 26,
   "metadata": {},
   "outputs": [
    {
     "data": {
      "text/latex": [
       "$\\mathrm{mag}$"
      ],
      "text/plain": [
       "Unit(\"mag\")"
      ]
     },
     "execution_count": 26,
     "metadata": {},
     "output_type": "execute_result"
    }
   ],
   "source": [
    "test['VISTA-Ks_m_base_CircularApertureFlux_6_0_mag'].unit"
   ]
  },
  {
   "cell_type": "code",
   "execution_count": 30,
   "metadata": {},
   "outputs": [],
   "source": [
    "#len(reduced_cat)"
   ]
  },
  {
   "cell_type": "code",
   "execution_count": 31,
   "metadata": {},
   "outputs": [],
   "source": [
    "#reduced_cat[:5]"
   ]
  },
  {
   "cell_type": "code",
   "execution_count": 32,
   "metadata": {},
   "outputs": [],
   "source": [
    "#reduced_cat.write(DATA+'/reduced_cat.fits', overwrite=True)"
   ]
  },
  {
   "cell_type": "markdown",
   "metadata": {},
   "source": [
    "## Parellel code\n",
    "\n",
    "Here we will make a single cell to be written to a script for parrellelising. The following cell depends on all the imports and defs used in the notebook. See [./slurm/make_cat.py](./slurm/make_cat.py) for the final code"
   ]
  },
  {
   "cell_type": "code",
   "execution_count": 50,
   "metadata": {},
   "outputs": [
    {
     "name": "stdout",
     "output_type": "stream",
     "text": [
      "DEBUG:  /Volumes/Raph500/lsst-ir-fusion/dmu4/dmu4_Example/data/rerun/coaddPhot/deepCoadd-results/HSC-G/8524/3,3/meas-HSC-G-8524-3,3.fits\n",
      "DEBUG:  /Volumes/Raph500/lsst-ir-fusion/dmu4/dmu4_Example/data/rerun/coaddForcedPhot/deepCoadd-results/HSC-G/8524/3,3/forcedSrc-HSC-G-8524-3,3.fits\n",
      "DEBUG:  /Volumes/Raph500/lsst-ir-fusion/dmu4/dmu4_Example/data/rerun/coaddPhot/deepCoadd-results/HSC-R/8524/3,3/meas-HSC-R-8524-3,3.fits\n",
      "DEBUG:  /Volumes/Raph500/lsst-ir-fusion/dmu4/dmu4_Example/data/rerun/coaddForcedPhot/deepCoadd-results/HSC-R/8524/3,3/forcedSrc-HSC-R-8524-3,3.fits\n",
      "DEBUG:  /Volumes/Raph500/lsst-ir-fusion/dmu4/dmu4_Example/data/rerun/coaddPhot/deepCoadd-results/HSC-I/8524/3,3/meas-HSC-I-8524-3,3.fits\n",
      "DEBUG:  /Volumes/Raph500/lsst-ir-fusion/dmu4/dmu4_Example/data/rerun/coaddForcedPhot/deepCoadd-results/HSC-I/8524/3,3/forcedSrc-HSC-I-8524-3,3.fits\n",
      "DEBUG:  /Volumes/Raph500/lsst-ir-fusion/dmu4/dmu4_Example/data/rerun/coaddPhot/deepCoadd-results/HSC-Z/8524/3,3/meas-HSC-Z-8524-3,3.fits\n",
      "DEBUG:  /Volumes/Raph500/lsst-ir-fusion/dmu4/dmu4_Example/data/rerun/coaddForcedPhot/deepCoadd-results/HSC-Z/8524/3,3/forcedSrc-HSC-Z-8524-3,3.fits\n",
      "DEBUG:  /Volumes/Raph500/lsst-ir-fusion/dmu4/dmu4_Example/data/rerun/coaddPhot/deepCoadd-results/HSC-Y/8524/3,3/meas-HSC-Y-8524-3,3.fits\n",
      "DEBUG:  /Volumes/Raph500/lsst-ir-fusion/dmu4/dmu4_Example/data/rerun/coaddForcedPhot/deepCoadd-results/HSC-Y/8524/3,3/forcedSrc-HSC-Y-8524-3,3.fits\n",
      "DEBUG:  /Volumes/Raph500/lsst-ir-fusion/dmu4/dmu4_Example/data/rerun/coaddPhot/deepCoadd-results/VISTA-Z/8524/3,3/meas-VISTA-Z-8524-3,3.fits\n",
      "DEBUG:  /Volumes/Raph500/lsst-ir-fusion/dmu4/dmu4_Example/data/rerun/coaddPhot/deepCoadd-results/VISTA-Y/8524/3,3/meas-VISTA-Y-8524-3,3.fits\n",
      "DEBUG:  /Volumes/Raph500/lsst-ir-fusion/dmu4/dmu4_Example/data/rerun/coaddForcedPhot/deepCoadd-results/VISTA-Y/8524/3,3/forcedSrc-VISTA-Y-8524-3,3.fits\n",
      "DEBUG:  /Volumes/Raph500/lsst-ir-fusion/dmu4/dmu4_Example/data/rerun/coaddPhot/deepCoadd-results/VISTA-J/8524/3,3/meas-VISTA-J-8524-3,3.fits\n",
      "DEBUG:  /Volumes/Raph500/lsst-ir-fusion/dmu4/dmu4_Example/data/rerun/coaddForcedPhot/deepCoadd-results/VISTA-J/8524/3,3/forcedSrc-VISTA-J-8524-3,3.fits\n",
      "DEBUG:  /Volumes/Raph500/lsst-ir-fusion/dmu4/dmu4_Example/data/rerun/coaddPhot/deepCoadd-results/VISTA-H/8524/3,3/meas-VISTA-H-8524-3,3.fits\n",
      "DEBUG:  /Volumes/Raph500/lsst-ir-fusion/dmu4/dmu4_Example/data/rerun/coaddForcedPhot/deepCoadd-results/VISTA-H/8524/3,3/forcedSrc-VISTA-H-8524-3,3.fits\n",
      "DEBUG:  /Volumes/Raph500/lsst-ir-fusion/dmu4/dmu4_Example/data/rerun/coaddPhot/deepCoadd-results/VISTA-Ks/8524/3,3/meas-VISTA-Ks-8524-3,3.fits\n",
      "DEBUG:  /Volumes/Raph500/lsst-ir-fusion/dmu4/dmu4_Example/data/rerun/coaddForcedPhot/deepCoadd-results/VISTA-Ks/8524/3,3/forcedSrc-VISTA-Ks-8524-3,3.fits\n"
     ]
    }
   ],
   "source": [
    "job_id = 34\n",
    "\n",
    "job_dict=json.loads(open('../../dmu4/dmu4_SXDS/slurm/patch_job_dict.json', 'r').read())\n",
    "\n",
    "tract = job_dict[str(job_id)][0]\n",
    "patch = job_dict[str(job_id)][1]\n",
    "\n",
    "cat = makeCat(tract, patch, BUTLER_LOC)\n",
    "\n",
    "intersect_red_cols =list(set(reduced_cols).intersection(set(cat.colnames)) )\n",
    "        \n",
    "cat[sorted(intersect_red_cols, reverse=True)].write(\n",
    "    DATA+'/reduced_cat_{}_{}.fits'.format(tract,patch), overwrite=True\n",
    ")\n",
    "\n"
   ]
  },
  {
   "cell_type": "markdown",
   "metadata": {},
   "source": [
    "## Create full cat\n",
    "\n",
    "We then need to loop over all the reduced catalogues to build the final full catalogue."
   ]
  },
  {
   "cell_type": "code",
   "execution_count": 28,
   "metadata": {},
   "outputs": [],
   "source": [
    "import glob\n",
    "red_cats = glob.glob(DATA+'/reduced*.fits')"
   ]
  },
  {
   "cell_type": "code",
   "execution_count": 29,
   "metadata": {},
   "outputs": [
    {
     "data": {
      "text/plain": [
       "['/Volumes/Raph500/lsst-ir-fusion/dmu5/dmu5_Example/data/reduced_cat_8524_3,3.fits',\n",
       " '/Volumes/Raph500/lsst-ir-fusion/dmu5/dmu5_Example/data/reduced_cat_8524_3,4.fits',\n",
       " '/Volumes/Raph500/lsst-ir-fusion/dmu5/dmu5_Example/data/reduced_cat_8524_3,5.fits',\n",
       " '/Volumes/Raph500/lsst-ir-fusion/dmu5/dmu5_Example/data/reduced_cat_8524_4,3.fits',\n",
       " '/Volumes/Raph500/lsst-ir-fusion/dmu5/dmu5_Example/data/reduced_cat_8524_4,4.fits',\n",
       " '/Volumes/Raph500/lsst-ir-fusion/dmu5/dmu5_Example/data/reduced_cat_8524_4,5.fits',\n",
       " '/Volumes/Raph500/lsst-ir-fusion/dmu5/dmu5_Example/data/reduced_cat_8524_5,3.fits',\n",
       " '/Volumes/Raph500/lsst-ir-fusion/dmu5/dmu5_Example/data/reduced_cat_8524_5,4.fits',\n",
       " '/Volumes/Raph500/lsst-ir-fusion/dmu5/dmu5_Example/data/reduced_cat_8524_5,5.fits']"
      ]
     },
     "execution_count": 29,
     "metadata": {},
     "output_type": "execute_result"
    }
   ],
   "source": [
    "red_cats"
   ]
  },
  {
   "cell_type": "code",
   "execution_count": 37,
   "metadata": {},
   "outputs": [],
   "source": [
    "r = red_cats[0]\n",
    "t= Table.read(r)\n",
    "mask = t['VISTA-Ks_m_detect_isPatchInner'] & t['VISTA-Ks_m_detect_isTractInner']"
   ]
  },
  {
   "cell_type": "code",
   "execution_count": 34,
   "metadata": {},
   "outputs": [
    {
     "data": {
      "text/html": [
       "<i>Table length=35752</i>\n",
       "<table id=\"table5224474128\" class=\"table-striped table-bordered table-condensed\">\n",
       "<thead><tr><th>id</th><th>VISTA-Y_m_base_PsfFlux_apCorr</th><th>VISTA-Y_m_base_CircularApertureFlux_9_0_magErr</th><th>VISTA-Y_m_base_CircularApertureFlux_9_0_mag</th><th>VISTA-Y_m_base_CircularApertureFlux_9_0_flag</th><th>VISTA-Y_m_base_CircularApertureFlux_6_0_magErr</th><th>VISTA-Y_m_base_CircularApertureFlux_6_0_mag</th><th>VISTA-Y_m_base_CircularApertureFlux_6_0_flag</th><th>VISTA-Y_m_base_CircularApertureFlux_17_0_magErr</th><th>VISTA-Y_m_base_CircularApertureFlux_17_0_mag</th><th>VISTA-Y_m_base_CircularApertureFlux_17_0_flag</th><th>VISTA-Y_m_base_CircularApertureFlux_12_0_magErr</th><th>VISTA-Y_m_base_CircularApertureFlux_12_0_mag</th><th>VISTA-Y_m_base_CircularApertureFlux_12_0_flag</th><th>VISTA-Ks_m_coord_ra</th><th>VISTA-Ks_m_coord_dec</th><th>VISTA-Ks_m_base_PsfFlux_apCorr</th><th>VISTA-Ks_m_base_CircularApertureFlux_9_0_magErr</th><th>VISTA-Ks_m_base_CircularApertureFlux_9_0_mag</th><th>VISTA-Ks_m_base_CircularApertureFlux_9_0_flag</th><th>VISTA-Ks_m_base_CircularApertureFlux_6_0_magErr</th><th>VISTA-Ks_m_base_CircularApertureFlux_6_0_mag</th><th>VISTA-Ks_m_base_CircularApertureFlux_6_0_flag</th><th>VISTA-Ks_m_base_CircularApertureFlux_17_0_magErr</th><th>VISTA-Ks_m_base_CircularApertureFlux_17_0_mag</th><th>VISTA-Ks_m_base_CircularApertureFlux_17_0_flag</th><th>VISTA-Ks_m_base_CircularApertureFlux_12_0_magErr</th><th>VISTA-Ks_m_base_CircularApertureFlux_12_0_mag</th><th>VISTA-Ks_m_base_CircularApertureFlux_12_0_flag</th><th>VISTA-J_m_base_PsfFlux_apCorr</th><th>VISTA-J_m_base_CircularApertureFlux_9_0_magErr</th><th>VISTA-J_m_base_CircularApertureFlux_9_0_mag</th><th>VISTA-J_m_base_CircularApertureFlux_9_0_flag</th><th>VISTA-J_m_base_CircularApertureFlux_6_0_magErr</th><th>VISTA-J_m_base_CircularApertureFlux_6_0_mag</th><th>VISTA-J_m_base_CircularApertureFlux_6_0_flag</th><th>VISTA-J_m_base_CircularApertureFlux_17_0_magErr</th><th>VISTA-J_m_base_CircularApertureFlux_17_0_mag</th><th>VISTA-J_m_base_CircularApertureFlux_17_0_flag</th><th>VISTA-J_m_base_CircularApertureFlux_12_0_magErr</th><th>VISTA-J_m_base_CircularApertureFlux_12_0_mag</th><th>VISTA-J_m_base_CircularApertureFlux_12_0_flag</th><th>VISTA-H_m_base_PsfFlux_apCorr</th><th>VISTA-H_m_base_CircularApertureFlux_9_0_magErr</th><th>VISTA-H_m_base_CircularApertureFlux_9_0_mag</th><th>VISTA-H_m_base_CircularApertureFlux_9_0_flag</th><th>VISTA-H_m_base_CircularApertureFlux_6_0_magErr</th><th>VISTA-H_m_base_CircularApertureFlux_6_0_mag</th><th>VISTA-H_m_base_CircularApertureFlux_6_0_flag</th><th>VISTA-H_m_base_CircularApertureFlux_17_0_magErr</th><th>VISTA-H_m_base_CircularApertureFlux_17_0_mag</th><th>VISTA-H_m_base_CircularApertureFlux_17_0_flag</th><th>VISTA-H_m_base_CircularApertureFlux_12_0_magErr</th><th>VISTA-H_m_base_CircularApertureFlux_12_0_mag</th><th>VISTA-H_m_base_CircularApertureFlux_12_0_flag</th><th>HSC-Z_m_base_PsfFlux_apCorr</th><th>HSC-Z_m_base_CircularApertureFlux_9_0_magErr</th><th>HSC-Z_m_base_CircularApertureFlux_9_0_mag</th><th>HSC-Z_m_base_CircularApertureFlux_9_0_flag</th><th>HSC-Z_m_base_CircularApertureFlux_6_0_magErr</th><th>HSC-Z_m_base_CircularApertureFlux_6_0_mag</th><th>HSC-Z_m_base_CircularApertureFlux_6_0_flag</th><th>HSC-Z_m_base_CircularApertureFlux_17_0_magErr</th><th>HSC-Z_m_base_CircularApertureFlux_17_0_mag</th><th>HSC-Z_m_base_CircularApertureFlux_17_0_flag</th><th>HSC-Z_m_base_CircularApertureFlux_12_0_magErr</th><th>HSC-Z_m_base_CircularApertureFlux_12_0_mag</th><th>HSC-Z_m_base_CircularApertureFlux_12_0_flag</th><th>HSC-Y_m_base_PsfFlux_apCorr</th><th>HSC-Y_m_base_CircularApertureFlux_9_0_magErr</th><th>HSC-Y_m_base_CircularApertureFlux_9_0_mag</th><th>HSC-Y_m_base_CircularApertureFlux_9_0_flag</th><th>HSC-Y_m_base_CircularApertureFlux_6_0_magErr</th><th>HSC-Y_m_base_CircularApertureFlux_6_0_mag</th><th>HSC-Y_m_base_CircularApertureFlux_6_0_flag</th><th>HSC-Y_m_base_CircularApertureFlux_17_0_magErr</th><th>HSC-Y_m_base_CircularApertureFlux_17_0_mag</th><th>HSC-Y_m_base_CircularApertureFlux_17_0_flag</th><th>HSC-Y_m_base_CircularApertureFlux_12_0_magErr</th><th>HSC-Y_m_base_CircularApertureFlux_12_0_mag</th><th>HSC-Y_m_base_CircularApertureFlux_12_0_flag</th><th>HSC-R_m_base_PsfFlux_apCorr</th><th>HSC-R_m_base_CircularApertureFlux_9_0_magErr</th><th>HSC-R_m_base_CircularApertureFlux_9_0_mag</th><th>HSC-R_m_base_CircularApertureFlux_9_0_flag</th><th>HSC-R_m_base_CircularApertureFlux_6_0_magErr</th><th>HSC-R_m_base_CircularApertureFlux_6_0_mag</th><th>HSC-R_m_base_CircularApertureFlux_6_0_flag</th><th>HSC-R_m_base_CircularApertureFlux_17_0_magErr</th><th>HSC-R_m_base_CircularApertureFlux_17_0_mag</th><th>HSC-R_m_base_CircularApertureFlux_17_0_flag</th><th>HSC-R_m_base_CircularApertureFlux_12_0_magErr</th><th>HSC-R_m_base_CircularApertureFlux_12_0_mag</th><th>HSC-R_m_base_CircularApertureFlux_12_0_flag</th><th>HSC-I_m_base_PsfFlux_apCorr</th><th>HSC-I_m_base_CircularApertureFlux_9_0_magErr</th><th>HSC-I_m_base_CircularApertureFlux_9_0_mag</th><th>HSC-I_m_base_CircularApertureFlux_9_0_flag</th><th>HSC-I_m_base_CircularApertureFlux_6_0_magErr</th><th>HSC-I_m_base_CircularApertureFlux_6_0_mag</th><th>HSC-I_m_base_CircularApertureFlux_6_0_flag</th><th>HSC-I_m_base_CircularApertureFlux_17_0_magErr</th><th>HSC-I_m_base_CircularApertureFlux_17_0_mag</th><th>HSC-I_m_base_CircularApertureFlux_17_0_flag</th><th>HSC-I_m_base_CircularApertureFlux_12_0_magErr</th><th>HSC-I_m_base_CircularApertureFlux_12_0_mag</th><th>HSC-I_m_base_CircularApertureFlux_12_0_flag</th><th>HSC-G_m_base_PsfFlux_apCorr</th><th>HSC-G_m_base_CircularApertureFlux_9_0_magErr</th><th>HSC-G_m_base_CircularApertureFlux_9_0_mag</th><th>HSC-G_m_base_CircularApertureFlux_9_0_flag</th><th>HSC-G_m_base_CircularApertureFlux_6_0_magErr</th><th>HSC-G_m_base_CircularApertureFlux_6_0_mag</th><th>HSC-G_m_base_CircularApertureFlux_6_0_flag</th><th>HSC-G_m_base_CircularApertureFlux_17_0_magErr</th><th>HSC-G_m_base_CircularApertureFlux_17_0_mag</th><th>HSC-G_m_base_CircularApertureFlux_17_0_flag</th><th>HSC-G_m_base_CircularApertureFlux_12_0_magErr</th><th>HSC-G_m_base_CircularApertureFlux_12_0_mag</th><th>HSC-G_m_base_CircularApertureFlux_12_0_flag</th></tr></thead>\n",
       "<thead><tr><th></th><th></th><th>mag</th><th>mag</th><th></th><th>mag</th><th>mag</th><th></th><th>mag</th><th>mag</th><th></th><th>mag</th><th>mag</th><th></th><th>rad</th><th>rad</th><th></th><th>mag</th><th>mag</th><th></th><th>mag</th><th>mag</th><th></th><th>mag</th><th>mag</th><th></th><th>mag</th><th>mag</th><th></th><th></th><th>mag</th><th>mag</th><th></th><th>mag</th><th>mag</th><th></th><th>mag</th><th>mag</th><th></th><th>mag</th><th>mag</th><th></th><th></th><th>mag</th><th>mag</th><th></th><th>mag</th><th>mag</th><th></th><th>mag</th><th>mag</th><th></th><th>mag</th><th>mag</th><th></th><th></th><th>mag</th><th>mag</th><th></th><th>mag</th><th>mag</th><th></th><th>mag</th><th>mag</th><th></th><th>mag</th><th>mag</th><th></th><th></th><th>mag</th><th>mag</th><th></th><th>mag</th><th>mag</th><th></th><th>mag</th><th>mag</th><th></th><th>mag</th><th>mag</th><th></th><th></th><th>mag</th><th>mag</th><th></th><th>mag</th><th>mag</th><th></th><th>mag</th><th>mag</th><th></th><th>mag</th><th>mag</th><th></th><th></th><th>mag</th><th>mag</th><th></th><th>mag</th><th>mag</th><th></th><th>mag</th><th>mag</th><th></th><th>mag</th><th>mag</th><th></th><th></th><th>mag</th><th>mag</th><th></th><th>mag</th><th>mag</th><th></th><th>mag</th><th>mag</th><th></th><th>mag</th><th>mag</th><th></th></tr></thead>\n",
       "<thead><tr><th>int64</th><th>float64</th><th>float64</th><th>float64</th><th>bool</th><th>float64</th><th>float64</th><th>bool</th><th>float64</th><th>float64</th><th>bool</th><th>float64</th><th>float64</th><th>bool</th><th>float64</th><th>float64</th><th>float64</th><th>float64</th><th>float64</th><th>bool</th><th>float64</th><th>float64</th><th>bool</th><th>float64</th><th>float64</th><th>bool</th><th>float64</th><th>float64</th><th>bool</th><th>float64</th><th>float64</th><th>float64</th><th>bool</th><th>float64</th><th>float64</th><th>bool</th><th>float64</th><th>float64</th><th>bool</th><th>float64</th><th>float64</th><th>bool</th><th>float64</th><th>float64</th><th>float64</th><th>bool</th><th>float64</th><th>float64</th><th>bool</th><th>float64</th><th>float64</th><th>bool</th><th>float64</th><th>float64</th><th>bool</th><th>float64</th><th>float64</th><th>float64</th><th>bool</th><th>float64</th><th>float64</th><th>bool</th><th>float64</th><th>float64</th><th>bool</th><th>float64</th><th>float64</th><th>bool</th><th>float64</th><th>float64</th><th>float64</th><th>bool</th><th>float64</th><th>float64</th><th>bool</th><th>float64</th><th>float64</th><th>bool</th><th>float64</th><th>float64</th><th>bool</th><th>float64</th><th>float64</th><th>float64</th><th>bool</th><th>float64</th><th>float64</th><th>bool</th><th>float64</th><th>float64</th><th>bool</th><th>float64</th><th>float64</th><th>bool</th><th>float64</th><th>float64</th><th>float64</th><th>bool</th><th>float64</th><th>float64</th><th>bool</th><th>float64</th><th>float64</th><th>bool</th><th>float64</th><th>float64</th><th>bool</th><th>float64</th><th>float64</th><th>float64</th><th>bool</th><th>float64</th><th>float64</th><th>bool</th><th>float64</th><th>float64</th><th>bool</th><th>float64</th><th>float64</th><th>bool</th></tr></thead>\n",
       "<tr><td>149957494649651201</td><td>1.0085407393798242</td><td>nan</td><td>nan</td><td>True</td><td>0.16158023643274722</td><td>24.22652914724366</td><td>True</td><td>nan</td><td>nan</td><td>True</td><td>nan</td><td>nan</td><td>True</td><td>0.6279737988353425</td><td>-0.09583239499475044</td><td>1.134734239842286</td><td>nan</td><td>nan</td><td>True</td><td>0.216708737691159</td><td>23.360633299281464</td><td>True</td><td>nan</td><td>nan</td><td>True</td><td>nan</td><td>nan</td><td>True</td><td>1.017878704346073</td><td>nan</td><td>nan</td><td>True</td><td>0.30867767310935074</td><td>24.43906479694885</td><td>True</td><td>nan</td><td>nan</td><td>True</td><td>nan</td><td>nan</td><td>True</td><td>1.061084148418645</td><td>nan</td><td>nan</td><td>True</td><td>0.24333306342901664</td><td>24.285845027755656</td><td>True</td><td>nan</td><td>nan</td><td>True</td><td>nan</td><td>nan</td><td>True</td><td>nan</td><td>nan</td><td>nan</td><td>True</td><td>6.478176457541197</td><td>29.333989622941495</td><td>True</td><td>nan</td><td>nan</td><td>True</td><td>nan</td><td>nan</td><td>True</td><td>nan</td><td>nan</td><td>nan</td><td>True</td><td>11.403393361718555</td><td>28.562355137035745</td><td>True</td><td>nan</td><td>nan</td><td>True</td><td>nan</td><td>nan</td><td>True</td><td>nan</td><td>nan</td><td>nan</td><td>True</td><td>0.7302830028622888</td><td>nan</td><td>True</td><td>nan</td><td>nan</td><td>True</td><td>nan</td><td>nan</td><td>True</td><td>nan</td><td>nan</td><td>nan</td><td>True</td><td>30.918057367930817</td><td>31.23210478684863</td><td>True</td><td>nan</td><td>nan</td><td>True</td><td>nan</td><td>nan</td><td>True</td><td>nan</td><td>nan</td><td>nan</td><td>True</td><td>0.5465381684041547</td><td>28.063721730396608</td><td>True</td><td>nan</td><td>nan</td><td>True</td><td>nan</td><td>nan</td><td>True</td></tr>\n",
       "<tr><td>149957494649651202</td><td>1.008599611393352</td><td>nan</td><td>nan</td><td>True</td><td>0.5923027768114804</td><td>nan</td><td>True</td><td>nan</td><td>nan</td><td>True</td><td>nan</td><td>nan</td><td>True</td><td>0.6279623438639035</td><td>-0.09583240027792801</td><td>1.1348715371271556</td><td>nan</td><td>nan</td><td>True</td><td>0.13916924311655254</td><td>22.879705954722425</td><td>True</td><td>nan</td><td>nan</td><td>True</td><td>nan</td><td>nan</td><td>True</td><td>1.0181153772971536</td><td>nan</td><td>nan</td><td>True</td><td>0.5595830182161045</td><td>25.084306551867325</td><td>True</td><td>nan</td><td>nan</td><td>True</td><td>nan</td><td>nan</td><td>True</td><td>1.0611025897395636</td><td>nan</td><td>nan</td><td>True</td><td>2.477615343194093</td><td>26.80570972989162</td><td>True</td><td>nan</td><td>nan</td><td>True</td><td>nan</td><td>nan</td><td>True</td><td>nan</td><td>nan</td><td>nan</td><td>True</td><td>1.0446268008341435</td><td>27.370584485955618</td><td>True</td><td>nan</td><td>nan</td><td>True</td><td>nan</td><td>nan</td><td>True</td><td>nan</td><td>nan</td><td>nan</td><td>True</td><td>0.49640389047297717</td><td>25.136117349387238</td><td>True</td><td>nan</td><td>nan</td><td>True</td><td>nan</td><td>nan</td><td>True</td><td>nan</td><td>nan</td><td>nan</td><td>True</td><td>2.6400420464244028</td><td>28.816853916481634</td><td>True</td><td>nan</td><td>nan</td><td>True</td><td>nan</td><td>nan</td><td>True</td><td>nan</td><td>nan</td><td>nan</td><td>True</td><td>1.7897248153319125</td><td>nan</td><td>True</td><td>nan</td><td>nan</td><td>True</td><td>nan</td><td>nan</td><td>True</td><td>nan</td><td>nan</td><td>nan</td><td>True</td><td>0.4012072453190959</td><td>27.723775345149953</td><td>True</td><td>nan</td><td>nan</td><td>True</td><td>nan</td><td>nan</td><td>True</td></tr>\n",
       "<tr><td>149957494649651203</td><td>1.00907229535501</td><td>0.14353112234726448</td><td>23.650807695759873</td><td>True</td><td>0.210335216455027</td><td>24.51685129384399</td><td>True</td><td>0.15031710597665646</td><td>23.005051269950783</td><td>True</td><td>0.13196460338812124</td><td>23.25176865744948</td><td>True</td><td>0.627713559380191</td><td>-0.09580991749477649</td><td>1.1383265488560022</td><td>2.986515058877993</td><td>25.761648519582995</td><td>False</td><td>0.25900680367258805</td><td>23.555292050781787</td><td>False</td><td>0.46989832719323893</td><td>nan</td><td>False</td><td>0.3161377561127461</td><td>nan</td><td>False</td><td>1.0246635458574207</td><td>0.45720097445439073</td><td>24.422849179865413</td><td>False</td><td>0.5910465835404346</td><td>25.14532574050985</td><td>False</td><td>0.3858782598590364</td><td>23.53529699695686</td><td>False</td><td>17.566012178995223</td><td>28.06064438716387</td><td>False</td><td>1.0618218437074372</td><td>0.12518153078498623</td><td>nan</td><td>True</td><td>0.10165022464108808</td><td>nan</td><td>True</td><td>0.2950711377526472</td><td>nan</td><td>True</td><td>0.24094758638082</td><td>nan</td><td>True</td><td>nan</td><td>1.82778143139452</td><td>27.58716835309439</td><td>True</td><td>1.7303559239940258</td><td>nan</td><td>True</td><td>0.25641580665093067</td><td>24.762441602968586</td><td>True</td><td>0.7311750200508595</td><td>26.285464484519242</td><td>True</td><td>nan</td><td>0.3253423293705897</td><td>24.292343530706844</td><td>True</td><td>0.4113153973344628</td><td>24.992529608626594</td><td>True</td><td>0.15539858263753836</td><td>22.792892986364297</td><td>True</td><td>0.29843262634999784</td><td>23.889138553719654</td><td>True</td><td>nan</td><td>0.33696917486268796</td><td>nan</td><td>True</td><td>0.4714874994339897</td><td>nan</td><td>True</td><td>0.45419408335084366</td><td>nan</td><td>True</td><td>0.3353704924214451</td><td>nan</td><td>True</td><td>nan</td><td>4.758628013710955</td><td>nan</td><td>True</td><td>3.4452700840147905</td><td>nan</td><td>True</td><td>0.7894515616353819</td><td>25.99140136024555</td><td>True</td><td>2.134423443094823</td><td>27.459574056964513</td><td>True</td><td>nan</td><td>0.5083026829832757</td><td>27.39629251759473</td><td>False</td><td>0.6370141696918152</td><td>28.08797302017512</td><td>False</td><td>0.24694802884806438</td><td>25.906477173140544</td><td>False</td><td>0.4221784488835186</td><td>26.86688074934512</td><td>False</td></tr>\n",
       "<tr><td>149957494649651204</td><td>1.0096075698858482</td><td>0.927098183522876</td><td>25.680736878836573</td><td>True</td><td>0.7220123746145715</td><td>25.848810293749644</td><td>True</td><td>nan</td><td>nan</td><td>True</td><td>nan</td><td>nan</td><td>True</td><td>0.627696424194213</td><td>-0.09583170495218139</td><td>1.138282200514728</td><td>3.199415619865785</td><td>nan</td><td>True</td><td>0.41699377981861246</td><td>24.066536904198067</td><td>True</td><td>nan</td><td>nan</td><td>True</td><td>nan</td><td>nan</td><td>True</td><td>1.0245174477176178</td><td>0.21115171406605293</td><td>23.584323002458156</td><td>True</td><td>0.19457248727209303</td><td>23.93733040234102</td><td>True</td><td>nan</td><td>nan</td><td>True</td><td>nan</td><td>nan</td><td>True</td><td>1.06187731039834</td><td>0.17221500844613313</td><td>nan</td><td>True</td><td>0.20486708411191107</td><td>nan</td><td>True</td><td>nan</td><td>nan</td><td>True</td><td>nan</td><td>nan</td><td>True</td><td>nan</td><td>0.24942500194865738</td><td>25.43126506446641</td><td>True</td><td>0.31263767944715365</td><td>26.12276835793211</td><td>True</td><td>nan</td><td>nan</td><td>True</td><td>nan</td><td>nan</td><td>True</td><td>nan</td><td>0.7684417107400459</td><td>25.232867673472242</td><td>True</td><td>1.2120704382775727</td><td>26.173387224938445</td><td>True</td><td>nan</td><td>nan</td><td>True</td><td>nan</td><td>nan</td><td>True</td><td>nan</td><td>0.5646715553138527</td><td>nan</td><td>True</td><td>1.0322302404693473</td><td>nan</td><td>True</td><td>nan</td><td>nan</td><td>True</td><td>nan</td><td>nan</td><td>True</td><td>nan</td><td>0.3927384558742582</td><td>25.9388144675521</td><td>True</td><td>0.7302330056002503</td><td>27.058040580770847</td><td>True</td><td>nan</td><td>nan</td><td>True</td><td>nan</td><td>nan</td><td>True</td><td>nan</td><td>1.662167533505597</td><td>28.767033761911136</td><td>True</td><td>2.486089450969378</td><td>nan</td><td>True</td><td>nan</td><td>nan</td><td>True</td><td>nan</td><td>nan</td><td>True</td></tr>\n",
       "<tr><td>149957494649651205</td><td>1.0098393142791169</td><td>0.19405806027055467</td><td>23.98075430833306</td><td>True</td><td>0.23888953611343494</td><td>24.651054679508423</td><td>True</td><td>nan</td><td>nan</td><td>True</td><td>0.16341515339452586</td><td>23.484228828682117</td><td>True</td><td>0.6275319616937308</td><td>-0.09582851742364792</td><td>1.1406017720745236</td><td>0.9529716248755512</td><td>24.52241785528376</td><td>True</td><td>0.31666744388953183</td><td>23.77160627787277</td><td>True</td><td>nan</td><td>nan</td><td>True</td><td>1.0495325450189654</td><td>24.317597468152297</td><td>True</td><td>1.0294095908112724</td><td>1.158446842128574</td><td>25.43145416365872</td><td>True</td><td>0.3964606551376</td><td>24.71118623763048</td><td>True</td><td>nan</td><td>nan</td><td>True</td><td>1.5975545692869766</td><td>25.47035971235442</td><td>True</td><td>1.0626880920272235</td><td>0.45073462099314654</td><td>nan</td><td>True</td><td>1.731137019827717</td><td>26.4168625164595</td><td>True</td><td>nan</td><td>nan</td><td>True</td><td>0.514404925062042</td><td>nan</td><td>True</td><td>nan</td><td>1.2081464834921367</td><td>nan</td><td>True</td><td>0.9171260931956089</td><td>nan</td><td>True</td><td>nan</td><td>nan</td><td>True</td><td>26.92449730377645</td><td>nan</td><td>True</td><td>nan</td><td>0.38977438571537076</td><td>24.595614525708378</td><td>True</td><td>0.4416866195182405</td><td>25.17715377811856</td><td>True</td><td>nan</td><td>nan</td><td>True</td><td>0.23538446335102575</td><td>23.73832617635585</td><td>True</td><td>nan</td><td>0.421514834273044</td><td>nan</td><td>True</td><td>0.6944816716538103</td><td>nan</td><td>True</td><td>nan</td><td>nan</td><td>True</td><td>0.5168485899294231</td><td>nan</td><td>True</td><td>nan</td><td>1.7430243889806882</td><td>nan</td><td>True</td><td>1.7645669350015611</td><td>28.12067834272544</td><td>True</td><td>nan</td><td>nan</td><td>True</td><td>0.8823449326683687</td><td>nan</td><td>True</td><td>nan</td><td>0.6060424717589629</td><td>nan</td><td>True</td><td>0.7335855852934322</td><td>nan</td><td>True</td><td>nan</td><td>nan</td><td>True</td><td>0.4965748781949767</td><td>nan</td><td>True</td></tr>\n",
       "<tr><td>149957494649651206</td><td>1.0099903439295643</td><td>nan</td><td>nan</td><td>True</td><td>0.22772288219102352</td><td>24.599747165011188</td><td>True</td><td>nan</td><td>nan</td><td>True</td><td>nan</td><td>nan</td><td>True</td><td>0.6274624149869541</td><td>-0.0958326186762588</td><td>1.141606180000278</td><td>nan</td><td>nan</td><td>True</td><td>0.4777966949856617</td><td>24.21948567998284</td><td>True</td><td>nan</td><td>nan</td><td>True</td><td>nan</td><td>nan</td><td>True</td><td>1.0315132376785214</td><td>nan</td><td>nan</td><td>True</td><td>0.4007951476877984</td><td>nan</td><td>True</td><td>nan</td><td>nan</td><td>True</td><td>nan</td><td>nan</td><td>True</td><td>1.06310777923612</td><td>nan</td><td>nan</td><td>True</td><td>3.0513419409968376</td><td>27.034257632152688</td><td>True</td><td>nan</td><td>nan</td><td>True</td><td>nan</td><td>nan</td><td>True</td><td>nan</td><td>nan</td><td>nan</td><td>True</td><td>0.488017897570847</td><td>26.58799556421316</td><td>True</td><td>nan</td><td>nan</td><td>True</td><td>nan</td><td>nan</td><td>True</td><td>nan</td><td>nan</td><td>nan</td><td>True</td><td>0.4761932560223961</td><td>25.27929112807543</td><td>True</td><td>nan</td><td>nan</td><td>True</td><td>nan</td><td>nan</td><td>True</td><td>nan</td><td>nan</td><td>nan</td><td>True</td><td>0.763808652781301</td><td>nan</td><td>True</td><td>nan</td><td>nan</td><td>True</td><td>nan</td><td>nan</td><td>True</td><td>nan</td><td>nan</td><td>nan</td><td>True</td><td>1.085672335815424</td><td>27.525954308853112</td><td>True</td><td>nan</td><td>nan</td><td>True</td><td>nan</td><td>nan</td><td>True</td><td>nan</td><td>nan</td><td>nan</td><td>True</td><td>0.6380836330484151</td><td>28.298825726133835</td><td>True</td><td>nan</td><td>nan</td><td>True</td><td>nan</td><td>nan</td><td>True</td></tr>\n",
       "<tr><td>149957494649651207</td><td>1.0098648398523806</td><td>1.3091715591616628</td><td>26.053782755077705</td><td>True</td><td>0.7635819478125313</td><td>25.91360485199807</td><td>True</td><td>nan</td><td>nan</td><td>True</td><td>0.2134366644149558</td><td>23.774495618281726</td><td>True</td><td>0.6274305023194539</td><td>-0.09582693059242443</td><td>1.1420893359668653</td><td>55.05392787314995</td><td>28.927236440210432</td><td>True</td><td>0.5082961396854124</td><td>24.286032572731525</td><td>True</td><td>nan</td><td>nan</td><td>True</td><td>2.8960439522735313</td><td>25.420074546452852</td><td>True</td><td>1.0327464090450762</td><td>3.266949028945999</td><td>26.55741309837486</td><td>True</td><td>0.5215007527518202</td><td>nan</td><td>True</td><td>nan</td><td>nan</td><td>True</td><td>0.9416792055984015</td><td>24.897026337738687</td><td>True</td><td>1.0633139378258532</td><td>0.47379542825206544</td><td>nan</td><td>True</td><td>0.9872054878757879</td><td>nan</td><td>True</td><td>nan</td><td>nan</td><td>True</td><td>0.3703343781540469</td><td>nan</td><td>True</td><td>nan</td><td>0.94078065886767</td><td>26.872481042846978</td><td>True</td><td>6.3726350728753065</td><td>29.395440956529647</td><td>True</td><td>nan</td><td>nan</td><td>True</td><td>2.2874742862476496</td><td>nan</td><td>True</td><td>nan</td><td>0.3889138259696527</td><td>24.62619629879756</td><td>True</td><td>0.5457729590842423</td><td>25.439743820481926</td><td>True</td><td>nan</td><td>nan</td><td>True</td><td>0.2983520026576206</td><td>24.02849763150892</td><td>True</td><td>nan</td><td>0.8345252748985986</td><td>nan</td><td>True</td><td>1.0793260439144916</td><td>28.000190694179132</td><td>True</td><td>nan</td><td>nan</td><td>True</td><td>0.7042129849732129</td><td>nan</td><td>True</td><td>nan</td><td>6.5943658250108825</td><td>nan</td><td>True</td><td>0.9917508223954231</td><td>27.42741360073486</td><td>True</td><td>nan</td><td>nan</td><td>True</td><td>2.1181765004328406</td><td>27.49640117160603</td><td>True</td><td>nan</td><td>1.6164696252398751</td><td>nan</td><td>True</td><td>1.0698128870917079</td><td>28.881630525839377</td><td>True</td><td>nan</td><td>nan</td><td>True</td><td>1.8361843077637159</td><td>nan</td><td>True</td></tr>\n",
       "<tr><td>149957494649651208</td><td>1.0297179324653598</td><td>nan</td><td>nan</td><td>True</td><td>0.45176857082298433</td><td>nan</td><td>True</td><td>nan</td><td>nan</td><td>True</td><td>nan</td><td>nan</td><td>True</td><td>0.627405139849761</td><td>-0.09583264217755495</td><td>1.1611615673229125</td><td>nan</td><td>nan</td><td>True</td><td>0.14848262553627378</td><td>23.070635895250003</td><td>True</td><td>nan</td><td>nan</td><td>True</td><td>nan</td><td>nan</td><td>True</td><td>1.049717171008029</td><td>nan</td><td>nan</td><td>True</td><td>0.09344911785375144</td><td>nan</td><td>True</td><td>nan</td><td>nan</td><td>True</td><td>nan</td><td>nan</td><td>True</td><td>1.0657302603937655</td><td>nan</td><td>nan</td><td>True</td><td>1.2793257175601276</td><td>nan</td><td>True</td><td>nan</td><td>nan</td><td>True</td><td>nan</td><td>nan</td><td>True</td><td>nan</td><td>nan</td><td>nan</td><td>True</td><td>0.6476396745115967</td><td>26.907588755216683</td><td>True</td><td>nan</td><td>nan</td><td>True</td><td>nan</td><td>nan</td><td>True</td><td>nan</td><td>nan</td><td>nan</td><td>True</td><td>0.7516809508105569</td><td>25.715698879458206</td><td>True</td><td>nan</td><td>nan</td><td>True</td><td>nan</td><td>nan</td><td>True</td><td>nan</td><td>nan</td><td>nan</td><td>True</td><td>0.9151270687744375</td><td>27.802814150445187</td><td>True</td><td>nan</td><td>nan</td><td>True</td><td>nan</td><td>nan</td><td>True</td><td>nan</td><td>nan</td><td>nan</td><td>True</td><td>2.7407788736155188</td><td>nan</td><td>True</td><td>nan</td><td>nan</td><td>True</td><td>nan</td><td>nan</td><td>True</td><td>nan</td><td>nan</td><td>nan</td><td>True</td><td>1.2310779629587083</td><td>nan</td><td>True</td><td>nan</td><td>nan</td><td>True</td><td>nan</td><td>nan</td><td>True</td></tr>\n",
       "<tr><td>149957494649651209</td><td>1.0651886303751252</td><td>23.029494171679488</td><td>29.26393292246674</td><td>True</td><td>0.1971939853801595</td><td>nan</td><td>True</td><td>nan</td><td>nan</td><td>True</td><td>nan</td><td>nan</td><td>True</td><td>0.6266998349951912</td><td>-0.09583209150400754</td><td>1.1823403117875297</td><td>0.2493502960716163</td><td>23.060086319513445</td><td>True</td><td>0.23867322412747266</td><td>23.457344191379658</td><td>True</td><td>nan</td><td>nan</td><td>True</td><td>nan</td><td>nan</td><td>True</td><td>1.0751703656960105</td><td>0.613571061000599</td><td>nan</td><td>True</td><td>2.1400624689174563</td><td>26.50221747641175</td><td>True</td><td>nan</td><td>nan</td><td>True</td><td>nan</td><td>nan</td><td>True</td><td>1.1118084428800263</td><td>0.22303080716104665</td><td>23.75992265390107</td><td>True</td><td>0.37583578907390613</td><td>24.773911209249178</td><td>True</td><td>nan</td><td>nan</td><td>True</td><td>nan</td><td>nan</td><td>True</td><td>nan</td><td>3.010993351352303</td><td>28.116237959038827</td><td>True</td><td>1.6363909022181724</td><td>27.900438978583804</td><td>True</td><td>nan</td><td>nan</td><td>True</td><td>nan</td><td>nan</td><td>True</td><td>nan</td><td>2.357162925085616</td><td>26.463383597489578</td><td>True</td><td>1.137881360103421</td><td>26.11799016297299</td><td>True</td><td>nan</td><td>nan</td><td>True</td><td>nan</td><td>nan</td><td>True</td><td>nan</td><td>0.8439211948025374</td><td>27.417670228184583</td><td>True</td><td>0.5735741160326293</td><td>27.443780654405224</td><td>True</td><td>nan</td><td>nan</td><td>True</td><td>nan</td><td>nan</td><td>True</td><td>nan</td><td>12.870052742268154</td><td>nan</td><td>True</td><td>5.218138625666223</td><td>nan</td><td>True</td><td>nan</td><td>nan</td><td>True</td><td>nan</td><td>nan</td><td>True</td><td>nan</td><td>0.8331203455750523</td><td>28.072357524293672</td><td>True</td><td>2.1931962669614258</td><td>29.568934285358843</td><td>True</td><td>nan</td><td>nan</td><td>True</td><td>nan</td><td>nan</td><td>True</td></tr>\n",
       "<tr><td>...</td><td>...</td><td>...</td><td>...</td><td>...</td><td>...</td><td>...</td><td>...</td><td>...</td><td>...</td><td>...</td><td>...</td><td>...</td><td>...</td><td>...</td><td>...</td><td>...</td><td>...</td><td>...</td><td>...</td><td>...</td><td>...</td><td>...</td><td>...</td><td>...</td><td>...</td><td>...</td><td>...</td><td>...</td><td>...</td><td>...</td><td>...</td><td>...</td><td>...</td><td>...</td><td>...</td><td>...</td><td>...</td><td>...</td><td>...</td><td>...</td><td>...</td><td>...</td><td>...</td><td>...</td><td>...</td><td>...</td><td>...</td><td>...</td><td>...</td><td>...</td><td>...</td><td>...</td><td>...</td><td>...</td><td>...</td><td>...</td><td>...</td><td>...</td><td>...</td><td>...</td><td>...</td><td>...</td><td>...</td><td>...</td><td>...</td><td>...</td><td>...</td><td>...</td><td>...</td><td>...</td><td>...</td><td>...</td><td>...</td><td>...</td><td>...</td><td>...</td><td>...</td><td>...</td><td>...</td><td>...</td><td>...</td><td>...</td><td>...</td><td>...</td><td>...</td><td>...</td><td>...</td><td>...</td><td>...</td><td>...</td><td>...</td><td>...</td><td>...</td><td>...</td><td>...</td><td>...</td><td>...</td><td>...</td><td>...</td><td>...</td><td>...</td><td>...</td><td>...</td><td>...</td><td>...</td><td>...</td><td>...</td><td>...</td><td>...</td><td>...</td><td>...</td><td>...</td><td>...</td><td>...</td><td>...</td><td>...</td><td>...</td><td>...</td><td>...</td></tr>\n",
       "<tr><td>149957494649699896</td><td>1.0412410588101082</td><td>0.1757365715757099</td><td>23.847495151766033</td><td>True</td><td>0.16625347779660662</td><td>24.23289221470035</td><td>True</td><td>nan</td><td>nan</td><td>True</td><td>0.182982147523327</td><td>23.582077690975943</td><td>True</td><td>0.6276492009292153</td><td>-0.09242887240240764</td><td>1.1287833240517868</td><td>1.15986938904696</td><td>24.76435101551939</td><td>True</td><td>0.3707784905688478</td><td>23.973860297868935</td><td>True</td><td>nan</td><td>nan</td><td>True</td><td>0.3786660953795075</td><td>23.239889546691472</td><td>True</td><td>1.1019726918238475</td><td>0.2630505378754604</td><td>23.90635730825646</td><td>True</td><td>0.24924755264009826</td><td>24.300263340513194</td><td>True</td><td>nan</td><td>nan</td><td>True</td><td>0.31593868583129187</td><td>23.797912242641406</td><td>True</td><td>1.089536612703036</td><td>0.5802560432362527</td><td>nan</td><td>True</td><td>0.46521785895953566</td><td>nan</td><td>True</td><td>nan</td><td>nan</td><td>True</td><td>4.060383691329832</td><td>nan</td><td>True</td><td>nan</td><td>1.948213213152693</td><td>27.685012794616597</td><td>True</td><td>2.131785758855719</td><td>28.22868255735837</td><td>True</td><td>nan</td><td>nan</td><td>True</td><td>0.5580426279167864</td><td>26.018673141963514</td><td>True</td><td>nan</td><td>0.4607619075310161</td><td>25.01881424257292</td><td>True</td><td>0.6819633444069099</td><td>25.890098947329072</td><td>True</td><td>nan</td><td>nan</td><td>True</td><td>0.4596499879830422</td><td>24.7067514379386</td><td>True</td><td>nan</td><td>1.1570913450671616</td><td>27.600455691646143</td><td>True</td><td>0.8014153640059738</td><td>27.646975494016274</td><td>True</td><td>nan</td><td>nan</td><td>True</td><td>3.610279013355383</td><td>28.526581599281645</td><td>True</td><td>nan</td><td>1.2038431628885213</td><td>27.25577955857787</td><td>True</td><td>3.4490155241080536</td><td>nan</td><td>True</td><td>nan</td><td>nan</td><td>True</td><td>3.1728303697885702</td><td>27.98891449160741</td><td>True</td><td>nan</td><td>0.5367813065430567</td><td>27.666378393955732</td><td>True</td><td>0.6489433923861706</td><td>28.326506083579126</td><td>True</td><td>nan</td><td>nan</td><td>True</td><td>0.3625306917010162</td><td>26.92575443167531</td><td>True</td></tr>\n",
       "<tr><td>149957494649699897</td><td>1.041521142600634</td><td>nan</td><td>nan</td><td>True</td><td>0.28097843084896196</td><td>24.80271134011724</td><td>True</td><td>nan</td><td>nan</td><td>True</td><td>nan</td><td>nan</td><td>True</td><td>0.6276557432710252</td><td>-0.09242561177348224</td><td>1.1289681515014636</td><td>nan</td><td>nan</td><td>True</td><td>0.48670891896434654</td><td>24.269087563530988</td><td>True</td><td>nan</td><td>nan</td><td>True</td><td>nan</td><td>nan</td><td>True</td><td>1.1021726673724639</td><td>nan</td><td>nan</td><td>True</td><td>0.8745928981960095</td><td>25.66263390459512</td><td>True</td><td>nan</td><td>nan</td><td>True</td><td>nan</td><td>nan</td><td>True</td><td>1.089424961334628</td><td>nan</td><td>nan</td><td>True</td><td>1.406047379326796</td><td>26.171308681213695</td><td>True</td><td>nan</td><td>nan</td><td>True</td><td>nan</td><td>nan</td><td>True</td><td>nan</td><td>nan</td><td>nan</td><td>True</td><td>7.501079873098666</td><td>29.596584493184977</td><td>True</td><td>nan</td><td>nan</td><td>True</td><td>nan</td><td>nan</td><td>True</td><td>nan</td><td>nan</td><td>nan</td><td>True</td><td>14.520339659216674</td><td>nan</td><td>True</td><td>nan</td><td>nan</td><td>True</td><td>nan</td><td>nan</td><td>True</td><td>nan</td><td>nan</td><td>nan</td><td>True</td><td>1.910256271694481</td><td>28.587907669200025</td><td>True</td><td>nan</td><td>nan</td><td>True</td><td>nan</td><td>nan</td><td>True</td><td>nan</td><td>nan</td><td>nan</td><td>True</td><td>1.5241424626384903</td><td>27.90212772548554</td><td>True</td><td>nan</td><td>nan</td><td>True</td><td>nan</td><td>nan</td><td>True</td><td>nan</td><td>nan</td><td>nan</td><td>True</td><td>0.990429718515719</td><td>28.73151117418976</td><td>True</td><td>nan</td><td>nan</td><td>True</td><td>nan</td><td>nan</td><td>True</td></tr>\n",
       "<tr><td>149957494649699898</td><td>0.995837714890237</td><td>0.13213549961921076</td><td>23.490036694074966</td><td>True</td><td>0.09132532723008292</td><td>23.531766769120857</td><td>True</td><td>0.1757892021768456</td><td>23.102086372175084</td><td>True</td><td>0.13783559165160508</td><td>23.225666365726894</td><td>True</td><td>0.6270062994357044</td><td>-0.09245148197263506</td><td>1.1051330468442122</td><td>0.22363777518858463</td><td>22.970302899966093</td><td>False</td><td>0.1165227313604441</td><td>22.71052836976693</td><td>False</td><td>0.5989377969928295</td><td>nan</td><td>False</td><td>2.033044985308814</td><td>25.043360849211076</td><td>False</td><td>1.0341379221487574</td><td>0.23645220472650622</td><td>23.816320094872033</td><td>False</td><td>0.21940176433097588</td><td>24.182067973635558</td><td>False</td><td>0.2710141040171472</td><td>23.26166548715426</td><td>False</td><td>0.36787716881857874</td><td>23.970931022805487</td><td>False</td><td>1.089237060980234</td><td>0.13143289002862235</td><td>23.120695365045677</td><td>False</td><td>0.13438923476729847</td><td>23.590290172677</td><td>False</td><td>0.08814733747150387</td><td>21.984984008815736</td><td>False</td><td>0.1024560228018501</td><td>22.526283936308307</td><td>False</td><td>nan</td><td>0.06703109522127278</td><td>24.015888254229875</td><td>False</td><td>0.05477759842683459</td><td>24.241890354826165</td><td>False</td><td>0.08588860599271371</td><td>23.57666348595554</td><td>False</td><td>0.07813912429965912</td><td>23.8557192918166</td><td>False</td><td>nan</td><td>0.18023709436226262</td><td>23.970807857410176</td><td>False</td><td>0.13643604548749283</td><td>24.116640753540587</td><td>False</td><td>0.21243983306221134</td><td>23.42321688314285</td><td>False</td><td>0.20949934374684462</td><td>23.798568063473645</td><td>False</td><td>nan</td><td>0.07629367735650187</td><td>24.529873330552885</td><td>False</td><td>0.07035325899459272</td><td>24.886470542670413</td><td>False</td><td>0.09259851609398621</td><td>24.035917293949566</td><td>False</td><td>0.08211874999655981</td><td>24.285247126505396</td><td>False</td><td>nan</td><td>0.07495717797911208</td><td>24.251836561048968</td><td>False</td><td>0.06400554102357948</td><td>24.52573865259152</td><td>False</td><td>0.1241296786135972</td><td>24.095688557302964</td><td>False</td><td>0.0979935641075969</td><td>24.215604106914384</td><td>False</td><td>nan</td><td>0.08134560900981501</td><td>25.62596565766535</td><td>False</td><td>0.07797366844000901</td><td>26.029474928389114</td><td>False</td><td>0.08867163198129713</td><td>25.0183893646652</td><td>False</td><td>0.08482877394436932</td><td>25.34523496833074</td><td>False</td></tr>\n",
       "<tr><td>149957494649699899</td><td>0.9946941397356172</td><td>5.298044893519034</td><td>27.495768849524097</td><td>True</td><td>100.65723683305998</td><td>31.141747333017836</td><td>True</td><td>nan</td><td>nan</td><td>True</td><td>nan</td><td>nan</td><td>True</td><td>0.627030820277004</td><td>-0.09242748294431653</td><td>1.1051478628449414</td><td>0.27279067713548827</td><td>23.18525059303074</td><td>True</td><td>0.1669649579053636</td><td>23.100164661354672</td><td>True</td><td>nan</td><td>nan</td><td>True</td><td>nan</td><td>nan</td><td>True</td><td>1.0326485054115844</td><td>0.2120755167318958</td><td>23.695550574348818</td><td>True</td><td>0.37985924526349996</td><td>24.777537174108943</td><td>True</td><td>nan</td><td>nan</td><td>True</td><td>nan</td><td>nan</td><td>True</td><td>1.088491030452764</td><td>8.087230925796126</td><td>nan</td><td>True</td><td>150.77613439858519</td><td>31.21702543737107</td><td>True</td><td>nan</td><td>nan</td><td>True</td><td>nan</td><td>nan</td><td>True</td><td>nan</td><td>2.2904328045407665</td><td>27.832445613040917</td><td>True</td><td>175.53608312664872</td><td>32.9893305186082</td><td>True</td><td>nan</td><td>nan</td><td>True</td><td>nan</td><td>nan</td><td>True</td><td>nan</td><td>3.384627220377187</td><td>27.13312646408163</td><td>True</td><td>7.003417164383998</td><td>nan</td><td>True</td><td>nan</td><td>nan</td><td>True</td><td>nan</td><td>nan</td><td>True</td><td>nan</td><td>0.7042210131371406</td><td>26.91542968851641</td><td>True</td><td>1.387679376980088</td><td>28.097349062685964</td><td>True</td><td>nan</td><td>nan</td><td>True</td><td>nan</td><td>nan</td><td>True</td><td>nan</td><td>6.032020675083916</td><td>28.988773725005213</td><td>True</td><td>1.6020838900626955</td><td>nan</td><td>True</td><td>nan</td><td>nan</td><td>True</td><td>nan</td><td>nan</td><td>True</td><td>nan</td><td>0.17464969679668607</td><td>26.457510619073545</td><td>True</td><td>0.2052118663361851</td><td>27.078208047045024</td><td>True</td><td>nan</td><td>nan</td><td>True</td><td>nan</td><td>nan</td><td>True</td></tr>\n",
       "<tr><td>149957494649699900</td><td>0.99627209594907</td><td>2.8413979306747423</td><td>26.819095286111228</td><td>True</td><td>0.31239682074723574</td><td>24.872924234423493</td><td>True</td><td>0.2870328525113547</td><td>23.633675330341568</td><td>True</td><td>0.4125807253830494</td><td>24.416068528744923</td><td>True</td><td>0.6269921102859034</td><td>-0.09244691851447451</td><td>1.1049393941565422</td><td>0.22865968312855203</td><td>22.99516494426669</td><td>False</td><td>0.176147463278654</td><td>23.158487545387764</td><td>False</td><td>2.251097138131256</td><td>nan</td><td>False</td><td>0.6550137052834232</td><td>23.81314809580848</td><td>False</td><td>1.0342753531181395</td><td>0.08533240113153256</td><td>22.709290875086868</td><td>True</td><td>0.10172021016148561</td><td>23.3428401547851</td><td>True</td><td>0.105709914216499</td><td>22.243795426395657</td><td>True</td><td>0.09652528343892791</td><td>22.532822340218264</td><td>True</td><td>1.08934279659147</td><td>0.26947544271097224</td><td>23.899827604584985</td><td>True</td><td>0.22105089407609185</td><td>24.128733061151124</td><td>True</td><td>0.1651313650204126</td><td>22.670288968267496</td><td>True</td><td>0.2076302356365541</td><td>23.306611388027648</td><td>True</td><td>nan</td><td>0.07957364845201707</td><td>24.19053080289606</td><td>True</td><td>0.0786953536578347</td><td>24.62803479487335</td><td>True</td><td>0.10174315348109741</td><td>23.754108991539088</td><td>True</td><td>0.08861275727099047</td><td>23.996060600835747</td><td>True</td><td>nan</td><td>0.11755727877466132</td><td>23.508298462326678</td><td>True</td><td>0.16033651420173745</td><td>24.29108285994447</td><td>True</td><td>0.10610977693700206</td><td>22.693581636764648</td><td>True</td><td>0.11421398448922657</td><td>23.16744035639115</td><td>True</td><td>nan</td><td>0.059979494482370534</td><td>24.276812803374757</td><td>True</td><td>0.058963864593734906</td><td>24.702419396930804</td><td>True</td><td>0.06916983819533577</td><td>23.735415799091612</td><td>True</td><td>0.06152381950769709</td><td>23.99556599944181</td><td>True</td><td>nan</td><td>0.09011091747436688</td><td>24.453791149247436</td><td>True</td><td>0.09866012328371976</td><td>24.99765217910566</td><td>True</td><td>0.13230285737314426</td><td>24.16995363960464</td><td>True</td><td>0.11101180294405726</td><td>24.370963873927515</td><td>True</td><td>nan</td><td>0.04267664572508921</td><td>24.92299888783693</td><td>True</td><td>0.0371383026762342</td><td>25.21509792854038</td><td>True</td><td>0.05447379372735233</td><td>24.491008008917863</td><td>True</td><td>0.047860119058595975</td><td>24.739022383475554</td><td>True</td></tr>\n",
       "<tr><td>149957494649699901</td><td>0.9962664356791326</td><td>0.16996314358444417</td><td>23.76077119119124</td><td>True</td><td>0.1639437502463877</td><td>24.171909287787283</td><td>True</td><td>0.23651713033866767</td><td>23.423480330665406</td><td>True</td><td>0.19179609327166708</td><td>23.5840554574412</td><td>True</td><td>0.6269891069220414</td><td>-0.09243564262471268</td><td>1.1047939817034094</td><td>0.21350403923827405</td><td>22.92032142809783</td><td>True</td><td>0.18809089153191252</td><td>23.228241707720308</td><td>True</td><td>0.8447867951822822</td><td>23.71609377967821</td><td>True</td><td>0.240334090234212</td><td>22.739036442099128</td><td>True</td><td>1.033991802799491</td><td>0.0857745481608134</td><td>22.71475217724978</td><td>True</td><td>0.1085981487683915</td><td>23.414311215276715</td><td>True</td><td>0.0774434142918269</td><td>21.90583820539984</td><td>True</td><td>0.08611460844521555</td><td>22.408789911673757</td><td>True</td><td>1.0892134404347782</td><td>0.1695778315555158</td><td>23.396840466198352</td><td>True</td><td>0.23532526189939018</td><td>24.197026690621556</td><td>True</td><td>0.23746360082935372</td><td>23.064724336205575</td><td>True</td><td>0.17809348923134155</td><td>23.14005053928588</td><td>True</td><td>nan</td><td>0.44274461735424203</td><td>26.021638939298285</td><td>True</td><td>0.6788281236564191</td><td>26.92808302244831</td><td>True</td><td>0.291911506591367</td><td>24.87870722722431</td><td>True</td><td>0.38055400002934003</td><td>25.55002711277183</td><td>True</td><td>nan</td><td>0.42989750975814367</td><td>24.908802827461972</td><td>True</td><td>0.5934878556875122</td><td>25.704856002850683</td><td>True</td><td>0.16307733797256038</td><td>23.158503752708807</td><td>True</td><td>0.256748193613026</td><td>24.03942430131041</td><td>True</td><td>nan</td><td>0.575090132785997</td><td>26.72886081719804</td><td>True</td><td>1.6176699241708297</td><td>28.29772676534685</td><td>True</td><td>0.17360873192940451</td><td>24.730478283830607</td><td>True</td><td>0.323065014223849</td><td>25.792839989009316</td><td>True</td><td>nan</td><td>0.34517788952347767</td><td>25.9090274445663</td><td>True</td><td>0.5869432656608425</td><td>26.931446072190713</td><td>True</td><td>0.2272664281946542</td><td>24.751005249416167</td><td>True</td><td>0.27381978633613824</td><td>25.347671841859615</td><td>True</td><td>nan</td><td>0.24417375805166253</td><td>26.81844466395564</td><td>True</td><td>0.3102178191042912</td><td>27.52562744991725</td><td>True</td><td>0.129876571743912</td><td>25.435265044033372</td><td>True</td><td>0.19517588854041437</td><td>26.26574201545653</td><td>True</td></tr>\n",
       "<tr><td>149957494649699902</td><td>0.9954944269778941</td><td>0.1170421568828509</td><td>23.355442654034064</td><td>True</td><td>0.12034088428696633</td><td>23.836151137377794</td><td>True</td><td>0.13979397336602623</td><td>22.85230650396913</td><td>True</td><td>0.1426126189791133</td><td>23.262166448114176</td><td>True</td><td>0.6270120111187748</td><td>-0.09243889238362403</td><td>1.1050594531520168</td><td>0.2531116421562199</td><td>23.104446589327793</td><td>True</td><td>0.21527670099681268</td><td>23.375109376971686</td><td>True</td><td>1.24682083761793</td><td>nan</td><td>True</td><td>0.435486831790615</td><td>23.384261611121183</td><td>True</td><td>1.0335035781855422</td><td>0.3119206108118666</td><td>24.11652233725747</td><td>True</td><td>0.30652240464460284</td><td>24.541322493803534</td><td>True</td><td>0.1740452304685359</td><td>22.7850128973892</td><td>True</td><td>0.22964329624044363</td><td>23.47386761543307</td><td>True</td><td>1.0889353193345335</td><td>0.150748818955365</td><td>23.267963982658884</td><td>True</td><td>0.14965485444859142</td><td>23.707865906873394</td><td>True</td><td>0.11381586845535874</td><td>22.265911176049404</td><td>True</td><td>0.14937541407433447</td><td>22.949234563817093</td><td>True</td><td>nan</td><td>0.10866894866219001</td><td>24.5164186323669</td><td>True</td><td>0.08985934839294403</td><td>24.75268721153263</td><td>True</td><td>0.11587128572719331</td><td>23.893438892073448</td><td>True</td><td>0.11615498437554553</td><td>24.28157186271763</td><td>True</td><td>nan</td><td>0.16070908874125478</td><td>23.836495915076306</td><td>True</td><td>0.18103086410460645</td><td>24.411472474556636</td><td>True</td><td>0.1661508411116508</td><td>23.175354262114368</td><td>True</td><td>0.15261482779189572</td><td>23.470817261520924</td><td>True</td><td>nan</td><td>0.07681556069718659</td><td>24.523280531398235</td><td>True</td><td>0.09120648809034901</td><td>25.154623684398235</td><td>True</td><td>0.08783411986295118</td><td>23.972570251636295</td><td>True</td><td>0.09138463917589644</td><td>24.402933925125158</td><td>True</td><td>nan</td><td>0.1132804771384666</td><td>24.690262628610114</td><td>True</td><td>0.12467257537846693</td><td>25.239770042034216</td><td>True</td><td>0.14832954980944257</td><td>24.285857562510653</td><td>True</td><td>0.11799168658784553</td><td>24.425233545312782</td><td>True</td><td>nan</td><td>0.07143011059382548</td><td>25.48593239956691</td><td>True</td><td>0.08278260146269051</td><td>26.091576157266307</td><td>True</td><td>0.07123836061574501</td><td>24.786789145372875</td><td>True</td><td>0.07682911760121103</td><td>25.256209434141144</td><td>True</td></tr>\n",
       "<tr><td>149957494649699903</td><td>0.996337475463627</td><td>nan</td><td>nan</td><td>True</td><td>0.3513657494054486</td><td>24.999402537119447</td><td>True</td><td>nan</td><td>nan</td><td>True</td><td>nan</td><td>nan</td><td>True</td><td>0.6269841956897816</td><td>-0.09242587061892328</td><td>1.1046510229538467</td><td>nan</td><td>nan</td><td>True</td><td>0.24070728082611764</td><td>23.4961430905912</td><td>True</td><td>nan</td><td>nan</td><td>True</td><td>nan</td><td>nan</td><td>True</td><td>1.0338056438171803</td><td>nan</td><td>nan</td><td>True</td><td>6.922766273710037</td><td>27.926030231659794</td><td>True</td><td>nan</td><td>nan</td><td>True</td><td>nan</td><td>nan</td><td>True</td><td>1.0891329784244201</td><td>nan</td><td>nan</td><td>True</td><td>0.43078506272161154</td><td>24.853763168116192</td><td>True</td><td>nan</td><td>nan</td><td>True</td><td>nan</td><td>nan</td><td>True</td><td>nan</td><td>nan</td><td>nan</td><td>True</td><td>20.75654539276703</td><td>nan</td><td>True</td><td>nan</td><td>nan</td><td>True</td><td>nan</td><td>nan</td><td>True</td><td>nan</td><td>nan</td><td>nan</td><td>True</td><td>16.57750203871463</td><td>29.31325480562835</td><td>True</td><td>nan</td><td>nan</td><td>True</td><td>nan</td><td>nan</td><td>True</td><td>nan</td><td>nan</td><td>nan</td><td>True</td><td>71.7331177432302</td><td>32.41296832994075</td><td>True</td><td>nan</td><td>nan</td><td>True</td><td>nan</td><td>nan</td><td>True</td><td>nan</td><td>nan</td><td>nan</td><td>True</td><td>14.750319181502247</td><td>30.426958663457093</td><td>True</td><td>nan</td><td>nan</td><td>True</td><td>nan</td><td>nan</td><td>True</td><td>nan</td><td>nan</td><td>nan</td><td>True</td><td>5.364447689803183</td><td>30.61715869436782</td><td>True</td><td>nan</td><td>nan</td><td>True</td><td>nan</td><td>nan</td><td>True</td></tr>\n",
       "<tr><td>149957494649699904</td><td>0.9957785597379821</td><td>0.18717473255781342</td><td>23.868776235431717</td><td>True</td><td>1.4451041794646389</td><td>26.5299728629144</td><td>True</td><td>nan</td><td>nan</td><td>True</td><td>0.17456894925155503</td><td>23.482066173231676</td><td>True</td><td>0.6270013743960512</td><td>-0.09242993690899007</td><td>1.104857511950455</td><td>0.5546959710609014</td><td>23.956971985977084</td><td>True</td><td>0.22720872680609436</td><td>23.43310724143287</td><td>True</td><td>nan</td><td>nan</td><td>True</td><td>0.3737343714733852</td><td>23.218388686189368</td><td>True</td><td>1.0334955820563911</td><td>0.4210753858146902</td><td>24.441273151270426</td><td>True</td><td>0.5160419267587326</td><td>25.1093392039936</td><td>True</td><td>nan</td><td>nan</td><td>True</td><td>0.26974912627002784</td><td>23.648550949881468</td><td>True</td><td>1.0889506317049331</td><td>2.281335035886166</td><td>26.219019697149115</td><td>True</td><td>1570.8874246034238</td><td>nan</td><td>True</td><td>nan</td><td>nan</td><td>True</td><td>0.8920797742802508</td><td>24.889598055460077</td><td>True</td><td>nan</td><td>0.21215584609361643</td><td>25.22689631057677</td><td>True</td><td>0.33689270226535023</td><td>26.17479890164909</td><td>True</td><td>nan</td><td>nan</td><td>True</td><td>0.1284027859381067</td><td>24.37201943182714</td><td>True</td><td>nan</td><td>0.44013636491532</td><td>24.929813800298884</td><td>True</td><td>2.081659459256151</td><td>27.062648161979336</td><td>True</td><td>nan</td><td>nan</td><td>True</td><td>0.3417433782311993</td><td>24.345594509595987</td><td>True</td><td>nan</td><td>2.37118917639434</td><td>28.254531628275092</td><td>True</td><td>80.4730611377539</td><td>32.52738509021616</td><td>True</td><td>nan</td><td>nan</td><td>True</td><td>0.5065858269838773</td><td>26.268834711844864</td><td>True</td><td>nan</td><td>2.964673232740905</td><td>28.233074109442757</td><td>True</td><td>97.41652829872875</td><td>32.47071815198949</td><td>True</td><td>nan</td><td>nan</td><td>True</td><td>2.622058234378855</td><td>27.78986512213077</td><td>True</td><td>nan</td><td>0.1370401830421672</td><td>26.19155964429787</td><td>True</td><td>0.263893034822139</td><td>27.349275279653412</td><td>True</td><td>nan</td><td>nan</td><td>True</td><td>0.12518755212850685</td><td>25.783300059782164</td><td>True</td></tr>\n",
       "<tr><td>149957494649699905</td><td>0.9951235747015214</td><td>1.4575366098054805</td><td>26.096175867871864</td><td>True</td><td>224.2669018271503</td><td>nan</td><td>True</td><td>nan</td><td>nan</td><td>True</td><td>0.4718314026135403</td><td>24.561498615902714</td><td>True</td><td>0.6270201881767139</td><td>-0.09243155914944974</td><td>1.1050715219869485</td><td>0.7919023978716775</td><td>24.344144306942145</td><td>True</td><td>0.4286166769875392</td><td>24.120442384657323</td><td>True</td><td>nan</td><td>nan</td><td>True</td><td>0.3944777385748576</td><td>23.276943331859357</td><td>True</td><td>1.0330568754187348</td><td>0.12708601885940007</td><td>23.142472109444846</td><td>True</td><td>0.15810101237172303</td><td>23.82006177111664</td><td>True</td><td>nan</td><td>nan</td><td>True</td><td>0.10513963110216674</td><td>22.625315230016913</td><td>True</td><td>1.0887057903384605</td><td>0.15939917226008699</td><td>23.330528385637418</td><td>True</td><td>0.26730724888588026</td><td>24.334553865372058</td><td>True</td><td>nan</td><td>nan</td><td>True</td><td>0.10308991829135435</td><td>22.546732229564444</td><td>True</td><td>nan</td><td>4.384106043400712</td><td>nan</td><td>True</td><td>1.2458563352244927</td><td>27.606909893728762</td><td>True</td><td>nan</td><td>nan</td><td>True</td><td>0.5315005144399593</td><td>25.92892607800755</td><td>True</td><td>nan</td><td>1.4464476776269222</td><td>26.215708522013625</td><td>True</td><td>34.0759415850117</td><td>nan</td><td>True</td><td>nan</td><td>nan</td><td>True</td><td>0.5135759118653889</td><td>24.781876267553304</td><td>True</td><td>nan</td><td>0.24803126065773587</td><td>25.788988959371192</td><td>True</td><td>0.47264195483466376</td><td>26.934923912751792</td><td>True</td><td>nan</td><td>nan</td><td>True</td><td>0.17761234679931584</td><td>25.116712621999213</td><td>True</td><td>nan</td><td>2.0433133172090576</td><td>27.82226858375965</td><td>True</td><td>0.8526882326585267</td><td>27.31899065647173</td><td>True</td><td>nan</td><td>nan</td><td>True</td><td>1.052186736269153</td><td>26.791821902538032</td><td>True</td><td>nan</td><td>0.22835114233178558</td><td>26.74904200747886</td><td>True</td><td>0.28295206417080243</td><td>27.427405350493274</td><td>True</td><td>nan</td><td>nan</td><td>True</td><td>0.16481841366128144</td><td>26.085078140671357</td><td>True</td></tr>\n",
       "</table>"
      ],
      "text/plain": [
       "<Table length=35752>\n",
       "        id         ... HSC-G_m_base_CircularApertureFlux_12_0_flag\n",
       "                   ...                                            \n",
       "      int64        ...                     bool                   \n",
       "------------------ ... -------------------------------------------\n",
       "149957494649651201 ...                                        True\n",
       "149957494649651202 ...                                        True\n",
       "149957494649651203 ...                                       False\n",
       "149957494649651204 ...                                        True\n",
       "149957494649651205 ...                                        True\n",
       "149957494649651206 ...                                        True\n",
       "149957494649651207 ...                                        True\n",
       "149957494649651208 ...                                        True\n",
       "149957494649651209 ...                                        True\n",
       "               ... ...                                         ...\n",
       "149957494649699896 ...                                        True\n",
       "149957494649699897 ...                                        True\n",
       "149957494649699898 ...                                       False\n",
       "149957494649699899 ...                                        True\n",
       "149957494649699900 ...                                        True\n",
       "149957494649699901 ...                                        True\n",
       "149957494649699902 ...                                        True\n",
       "149957494649699903 ...                                        True\n",
       "149957494649699904 ...                                        True\n",
       "149957494649699905 ...                                        True"
      ]
     },
     "execution_count": 34,
     "metadata": {},
     "output_type": "execute_result"
    }
   ],
   "source": [
    "t"
   ]
  },
  {
   "cell_type": "code",
   "execution_count": 38,
   "metadata": {},
   "outputs": [],
   "source": [
    "full_cat = Table()\n",
    "for r in red_cats:\n",
    "    try:\n",
    "        t= Table.read(r)\n",
    "        mask = t['VISTA-Ks_m_detect_isPatchInner'] & t['VISTA-Ks_m_detect_isTractInner']\n",
    "        full_cat=vstack([full_cat,t[mask]])\n",
    "    except:\n",
    "        print(r,' failed')\n",
    "full_cat.write(DATA+'/full_reduced_cat_SXDS.fits', overwrite=True)"
   ]
  },
  {
   "cell_type": "code",
   "execution_count": 28,
   "metadata": {},
   "outputs": [
    {
     "name": "stdout",
     "output_type": "stream",
     "text": [
      "a1 b1 c1\n",
      "a2 b2 c2\n"
     ]
    }
   ],
   "source": [
    "a=['a1','a2','a3']\n",
    "b=['b1','b2']\n",
    "c=['c1','c2']\n",
    "for x,y,z in zip(a,b,c):\n",
    "    print(x,y,z)"
   ]
  },
  {
   "cell_type": "code",
   "execution_count": 31,
   "metadata": {},
   "outputs": [],
   "source": [
    "import itertools"
   ]
  },
  {
   "cell_type": "code",
   "execution_count": 32,
   "metadata": {},
   "outputs": [
    {
     "name": "stdout",
     "output_type": "stream",
     "text": [
      "a1 b1 c1\n",
      "a1 b1 c2\n",
      "a1 b2 c1\n",
      "a1 b2 c2\n",
      "a2 b1 c1\n",
      "a2 b1 c2\n",
      "a2 b2 c1\n",
      "a2 b2 c2\n",
      "a3 b1 c1\n",
      "a3 b1 c2\n",
      "a3 b2 c1\n",
      "a3 b2 c2\n"
     ]
    }
   ],
   "source": [
    "for x,y,z in itertools.product(a,b,c):\n",
    "    print(x,y,z)"
   ]
  },
  {
   "cell_type": "code",
   "execution_count": 34,
   "metadata": {},
   "outputs": [
    {
     "name": "stdout",
     "output_type": "stream",
     "text": [
      "HSC-G_m_base_CircularApertureFlux_6_0_mag\n",
      "HSC-G_m_base_CircularApertureFlux_6_0_magErr\n",
      "HSC-G_m_base_CircularApertureFlux_6_0_flux\n",
      "HSC-G_m_base_CircularApertureFlux_6_0_fluxErr\n",
      "HSC-R_m_base_CircularApertureFlux_6_0_mag\n",
      "HSC-R_m_base_CircularApertureFlux_6_0_magErr\n",
      "HSC-R_m_base_CircularApertureFlux_6_0_flux\n",
      "HSC-R_m_base_CircularApertureFlux_6_0_fluxErr\n",
      "HSC-I_m_base_CircularApertureFlux_6_0_mag\n",
      "HSC-I_m_base_CircularApertureFlux_6_0_magErr\n",
      "HSC-I_m_base_CircularApertureFlux_6_0_flux\n",
      "HSC-I_m_base_CircularApertureFlux_6_0_fluxErr\n",
      "HSC-Z_m_base_CircularApertureFlux_6_0_mag\n",
      "HSC-Z_m_base_CircularApertureFlux_6_0_magErr\n",
      "HSC-Z_m_base_CircularApertureFlux_6_0_flux\n",
      "HSC-Z_m_base_CircularApertureFlux_6_0_fluxErr\n",
      "HSC-Y_m_base_CircularApertureFlux_6_0_mag\n",
      "HSC-Y_m_base_CircularApertureFlux_6_0_magErr\n",
      "HSC-Y_m_base_CircularApertureFlux_6_0_flux\n",
      "HSC-Y_m_base_CircularApertureFlux_6_0_fluxErr\n",
      "VISTA-Z_m_base_CircularApertureFlux_6_0_mag\n",
      "VISTA-Z_m_base_CircularApertureFlux_6_0_magErr\n",
      "VISTA-Z_m_base_CircularApertureFlux_6_0_flux\n",
      "VISTA-Z_m_base_CircularApertureFlux_6_0_fluxErr\n",
      "VISTA-Y_m_base_CircularApertureFlux_6_0_mag\n",
      "VISTA-Y_m_base_CircularApertureFlux_6_0_magErr\n",
      "VISTA-Y_m_base_CircularApertureFlux_6_0_flux\n",
      "VISTA-Y_m_base_CircularApertureFlux_6_0_fluxErr\n",
      "VISTA-J_m_base_CircularApertureFlux_6_0_mag\n",
      "VISTA-J_m_base_CircularApertureFlux_6_0_magErr\n",
      "VISTA-J_m_base_CircularApertureFlux_6_0_flux\n",
      "VISTA-J_m_base_CircularApertureFlux_6_0_fluxErr\n",
      "VISTA-H_m_base_CircularApertureFlux_6_0_mag\n",
      "VISTA-H_m_base_CircularApertureFlux_6_0_magErr\n",
      "VISTA-H_m_base_CircularApertureFlux_6_0_flux\n",
      "VISTA-H_m_base_CircularApertureFlux_6_0_fluxErr\n",
      "VISTA-Ks_m_base_CircularApertureFlux_6_0_mag\n",
      "VISTA-Ks_m_base_CircularApertureFlux_6_0_magErr\n",
      "VISTA-Ks_m_base_CircularApertureFlux_6_0_flux\n",
      "VISTA-Ks_m_base_CircularApertureFlux_6_0_fluxErr\n",
      "HSC-G_m_base_PsfFlux_mag\n",
      "HSC-G_m_base_PsfFlux_magErr\n",
      "HSC-G_m_base_PsfFlux_flux\n",
      "HSC-G_m_base_PsfFlux_fluxErr\n",
      "HSC-R_m_base_PsfFlux_mag\n",
      "HSC-R_m_base_PsfFlux_magErr\n",
      "HSC-R_m_base_PsfFlux_flux\n",
      "HSC-R_m_base_PsfFlux_fluxErr\n",
      "HSC-I_m_base_PsfFlux_mag\n",
      "HSC-I_m_base_PsfFlux_magErr\n",
      "HSC-I_m_base_PsfFlux_flux\n",
      "HSC-I_m_base_PsfFlux_fluxErr\n",
      "HSC-Z_m_base_PsfFlux_mag\n",
      "HSC-Z_m_base_PsfFlux_magErr\n",
      "HSC-Z_m_base_PsfFlux_flux\n",
      "HSC-Z_m_base_PsfFlux_fluxErr\n",
      "HSC-Y_m_base_PsfFlux_mag\n",
      "HSC-Y_m_base_PsfFlux_magErr\n",
      "HSC-Y_m_base_PsfFlux_flux\n",
      "HSC-Y_m_base_PsfFlux_fluxErr\n",
      "VISTA-Z_m_base_PsfFlux_mag\n",
      "VISTA-Z_m_base_PsfFlux_magErr\n",
      "VISTA-Z_m_base_PsfFlux_flux\n",
      "VISTA-Z_m_base_PsfFlux_fluxErr\n",
      "VISTA-Y_m_base_PsfFlux_mag\n",
      "VISTA-Y_m_base_PsfFlux_magErr\n",
      "VISTA-Y_m_base_PsfFlux_flux\n",
      "VISTA-Y_m_base_PsfFlux_fluxErr\n",
      "VISTA-J_m_base_PsfFlux_mag\n",
      "VISTA-J_m_base_PsfFlux_magErr\n",
      "VISTA-J_m_base_PsfFlux_flux\n",
      "VISTA-J_m_base_PsfFlux_fluxErr\n",
      "VISTA-H_m_base_PsfFlux_mag\n",
      "VISTA-H_m_base_PsfFlux_magErr\n",
      "VISTA-H_m_base_PsfFlux_flux\n",
      "VISTA-H_m_base_PsfFlux_fluxErr\n",
      "VISTA-Ks_m_base_PsfFlux_mag\n",
      "VISTA-Ks_m_base_PsfFlux_magErr\n",
      "VISTA-Ks_m_base_PsfFlux_flux\n",
      "VISTA-Ks_m_base_PsfFlux_fluxErr\n",
      "HSC-G_m_slot_ModelFlux_mag\n",
      "HSC-G_m_slot_ModelFlux_magErr\n",
      "HSC-G_m_slot_ModelFlux_flux\n",
      "HSC-G_m_slot_ModelFlux_fluxErr\n",
      "HSC-R_m_slot_ModelFlux_mag\n",
      "HSC-R_m_slot_ModelFlux_magErr\n",
      "HSC-R_m_slot_ModelFlux_flux\n",
      "HSC-R_m_slot_ModelFlux_fluxErr\n",
      "HSC-I_m_slot_ModelFlux_mag\n",
      "HSC-I_m_slot_ModelFlux_magErr\n",
      "HSC-I_m_slot_ModelFlux_flux\n",
      "HSC-I_m_slot_ModelFlux_fluxErr\n",
      "HSC-Z_m_slot_ModelFlux_mag\n",
      "HSC-Z_m_slot_ModelFlux_magErr\n",
      "HSC-Z_m_slot_ModelFlux_flux\n",
      "HSC-Z_m_slot_ModelFlux_fluxErr\n",
      "HSC-Y_m_slot_ModelFlux_mag\n",
      "HSC-Y_m_slot_ModelFlux_magErr\n",
      "HSC-Y_m_slot_ModelFlux_flux\n",
      "HSC-Y_m_slot_ModelFlux_fluxErr\n",
      "VISTA-Z_m_slot_ModelFlux_mag\n",
      "VISTA-Z_m_slot_ModelFlux_magErr\n",
      "VISTA-Z_m_slot_ModelFlux_flux\n",
      "VISTA-Z_m_slot_ModelFlux_fluxErr\n",
      "VISTA-Y_m_slot_ModelFlux_mag\n",
      "VISTA-Y_m_slot_ModelFlux_magErr\n",
      "VISTA-Y_m_slot_ModelFlux_flux\n",
      "VISTA-Y_m_slot_ModelFlux_fluxErr\n",
      "VISTA-J_m_slot_ModelFlux_mag\n",
      "VISTA-J_m_slot_ModelFlux_magErr\n",
      "VISTA-J_m_slot_ModelFlux_flux\n",
      "VISTA-J_m_slot_ModelFlux_fluxErr\n",
      "VISTA-H_m_slot_ModelFlux_mag\n",
      "VISTA-H_m_slot_ModelFlux_magErr\n",
      "VISTA-H_m_slot_ModelFlux_flux\n",
      "VISTA-H_m_slot_ModelFlux_fluxErr\n",
      "VISTA-Ks_m_slot_ModelFlux_mag\n",
      "VISTA-Ks_m_slot_ModelFlux_magErr\n",
      "VISTA-Ks_m_slot_ModelFlux_flux\n",
      "VISTA-Ks_m_slot_ModelFlux_fluxErr\n"
     ]
    }
   ],
   "source": [
    "hscBands = ['G', 'R', 'I', 'Z', 'Y']\n",
    "vistaBands = ['Z', 'Y', 'J', 'H', 'Ks']\n",
    "allBands = ['HSC-' +b for b in hscBands] + ['VISTA-' +b for b in vistaBands]\n",
    "colTypes=[\n",
    "    '{}_m_base_CircularApertureFlux_6_0_{}',\n",
    "    '{}_m_base_PsfFlux_{}',\n",
    "    '{}_m_slot_ModelFlux_{}',\n",
    "]\n",
    "measTypes=['mag', 'magErr', 'flux', 'fluxErr']\n",
    "for c,b,m in itertools.product(colTypes,allBands,measTypes):\n",
    "    print(c.format(b,m))"
   ]
  },
  {
   "cell_type": "code",
   "execution_count": 39,
   "metadata": {},
   "outputs": [],
   "source": [
    "reduced_cols = [ \n",
    "    'id', \n",
    "    'VISTA_Ks_m_coord_ra', \n",
    "    'VISTA_Ks_m_coord_dec',\n",
    "#     'VISTA_Ks_f_coord_ra',\n",
    "#     'VISTA_Ks_f_coord_dec'\n",
    "    'VISTA_Ks_m_detect_isPatchInner',\n",
    "    'VISTA_Ks_m_detect_isTractInner',\n",
    "    'VISTA_Ks_m_deblend_nChild',\n",
    "    'VISTA_Ks_merge_peak_sky',\n",
    "]\n",
    "\n",
    "    \n",
    "colTypes=[\n",
    "    '{}_m_base_CircularApertureFlux_6_0_{}',\n",
    "    '{}_m_base_PsfFlux_{}',\n",
    "    '{}_m_slot_ModelFlux_{}',\n",
    "]\n",
    "measTypes=['mag', 'magErr', 'flux', 'fluxErr']\n",
    "for c,b,m in itertools.product(colTypes,allBands,measTypes):\n",
    "    reduced_cols+=[c.format(b.replace('-','_'),m)]"
   ]
  },
  {
   "cell_type": "code",
   "execution_count": 40,
   "metadata": {},
   "outputs": [
    {
     "data": {
      "text/plain": [
       "['id',\n",
       " 'VISTA_Ks_m_coord_ra',\n",
       " 'VISTA_Ks_m_coord_dec',\n",
       " 'VISTA_Ks_m_detect_isPatchInner',\n",
       " 'VISTA_Ks_m_detect_isTractInner',\n",
       " 'VISTA_Ks_m_deblend_nChild',\n",
       " 'VISTA_Ks_merge_peak_sky',\n",
       " 'HSC_G_m_base_CircularApertureFlux_6_0_mag',\n",
       " 'HSC_G_m_base_CircularApertureFlux_6_0_magErr',\n",
       " 'HSC_G_m_base_CircularApertureFlux_6_0_flux',\n",
       " 'HSC_G_m_base_CircularApertureFlux_6_0_fluxErr',\n",
       " 'HSC_R_m_base_CircularApertureFlux_6_0_mag',\n",
       " 'HSC_R_m_base_CircularApertureFlux_6_0_magErr',\n",
       " 'HSC_R_m_base_CircularApertureFlux_6_0_flux',\n",
       " 'HSC_R_m_base_CircularApertureFlux_6_0_fluxErr',\n",
       " 'HSC_I_m_base_CircularApertureFlux_6_0_mag',\n",
       " 'HSC_I_m_base_CircularApertureFlux_6_0_magErr',\n",
       " 'HSC_I_m_base_CircularApertureFlux_6_0_flux',\n",
       " 'HSC_I_m_base_CircularApertureFlux_6_0_fluxErr',\n",
       " 'HSC_Z_m_base_CircularApertureFlux_6_0_mag',\n",
       " 'HSC_Z_m_base_CircularApertureFlux_6_0_magErr',\n",
       " 'HSC_Z_m_base_CircularApertureFlux_6_0_flux',\n",
       " 'HSC_Z_m_base_CircularApertureFlux_6_0_fluxErr',\n",
       " 'HSC_Y_m_base_CircularApertureFlux_6_0_mag',\n",
       " 'HSC_Y_m_base_CircularApertureFlux_6_0_magErr',\n",
       " 'HSC_Y_m_base_CircularApertureFlux_6_0_flux',\n",
       " 'HSC_Y_m_base_CircularApertureFlux_6_0_fluxErr',\n",
       " 'VISTA_Z_m_base_CircularApertureFlux_6_0_mag',\n",
       " 'VISTA_Z_m_base_CircularApertureFlux_6_0_magErr',\n",
       " 'VISTA_Z_m_base_CircularApertureFlux_6_0_flux',\n",
       " 'VISTA_Z_m_base_CircularApertureFlux_6_0_fluxErr',\n",
       " 'VISTA_Y_m_base_CircularApertureFlux_6_0_mag',\n",
       " 'VISTA_Y_m_base_CircularApertureFlux_6_0_magErr',\n",
       " 'VISTA_Y_m_base_CircularApertureFlux_6_0_flux',\n",
       " 'VISTA_Y_m_base_CircularApertureFlux_6_0_fluxErr',\n",
       " 'VISTA_J_m_base_CircularApertureFlux_6_0_mag',\n",
       " 'VISTA_J_m_base_CircularApertureFlux_6_0_magErr',\n",
       " 'VISTA_J_m_base_CircularApertureFlux_6_0_flux',\n",
       " 'VISTA_J_m_base_CircularApertureFlux_6_0_fluxErr',\n",
       " 'VISTA_H_m_base_CircularApertureFlux_6_0_mag',\n",
       " 'VISTA_H_m_base_CircularApertureFlux_6_0_magErr',\n",
       " 'VISTA_H_m_base_CircularApertureFlux_6_0_flux',\n",
       " 'VISTA_H_m_base_CircularApertureFlux_6_0_fluxErr',\n",
       " 'VISTA_Ks_m_base_CircularApertureFlux_6_0_mag',\n",
       " 'VISTA_Ks_m_base_CircularApertureFlux_6_0_magErr',\n",
       " 'VISTA_Ks_m_base_CircularApertureFlux_6_0_flux',\n",
       " 'VISTA_Ks_m_base_CircularApertureFlux_6_0_fluxErr',\n",
       " 'HSC_G_m_base_PsfFlux_mag',\n",
       " 'HSC_G_m_base_PsfFlux_magErr',\n",
       " 'HSC_G_m_base_PsfFlux_flux',\n",
       " 'HSC_G_m_base_PsfFlux_fluxErr',\n",
       " 'HSC_R_m_base_PsfFlux_mag',\n",
       " 'HSC_R_m_base_PsfFlux_magErr',\n",
       " 'HSC_R_m_base_PsfFlux_flux',\n",
       " 'HSC_R_m_base_PsfFlux_fluxErr',\n",
       " 'HSC_I_m_base_PsfFlux_mag',\n",
       " 'HSC_I_m_base_PsfFlux_magErr',\n",
       " 'HSC_I_m_base_PsfFlux_flux',\n",
       " 'HSC_I_m_base_PsfFlux_fluxErr',\n",
       " 'HSC_Z_m_base_PsfFlux_mag',\n",
       " 'HSC_Z_m_base_PsfFlux_magErr',\n",
       " 'HSC_Z_m_base_PsfFlux_flux',\n",
       " 'HSC_Z_m_base_PsfFlux_fluxErr',\n",
       " 'HSC_Y_m_base_PsfFlux_mag',\n",
       " 'HSC_Y_m_base_PsfFlux_magErr',\n",
       " 'HSC_Y_m_base_PsfFlux_flux',\n",
       " 'HSC_Y_m_base_PsfFlux_fluxErr',\n",
       " 'VISTA_Z_m_base_PsfFlux_mag',\n",
       " 'VISTA_Z_m_base_PsfFlux_magErr',\n",
       " 'VISTA_Z_m_base_PsfFlux_flux',\n",
       " 'VISTA_Z_m_base_PsfFlux_fluxErr',\n",
       " 'VISTA_Y_m_base_PsfFlux_mag',\n",
       " 'VISTA_Y_m_base_PsfFlux_magErr',\n",
       " 'VISTA_Y_m_base_PsfFlux_flux',\n",
       " 'VISTA_Y_m_base_PsfFlux_fluxErr',\n",
       " 'VISTA_J_m_base_PsfFlux_mag',\n",
       " 'VISTA_J_m_base_PsfFlux_magErr',\n",
       " 'VISTA_J_m_base_PsfFlux_flux',\n",
       " 'VISTA_J_m_base_PsfFlux_fluxErr',\n",
       " 'VISTA_H_m_base_PsfFlux_mag',\n",
       " 'VISTA_H_m_base_PsfFlux_magErr',\n",
       " 'VISTA_H_m_base_PsfFlux_flux',\n",
       " 'VISTA_H_m_base_PsfFlux_fluxErr',\n",
       " 'VISTA_Ks_m_base_PsfFlux_mag',\n",
       " 'VISTA_Ks_m_base_PsfFlux_magErr',\n",
       " 'VISTA_Ks_m_base_PsfFlux_flux',\n",
       " 'VISTA_Ks_m_base_PsfFlux_fluxErr',\n",
       " 'HSC_G_m_slot_ModelFlux_mag',\n",
       " 'HSC_G_m_slot_ModelFlux_magErr',\n",
       " 'HSC_G_m_slot_ModelFlux_flux',\n",
       " 'HSC_G_m_slot_ModelFlux_fluxErr',\n",
       " 'HSC_R_m_slot_ModelFlux_mag',\n",
       " 'HSC_R_m_slot_ModelFlux_magErr',\n",
       " 'HSC_R_m_slot_ModelFlux_flux',\n",
       " 'HSC_R_m_slot_ModelFlux_fluxErr',\n",
       " 'HSC_I_m_slot_ModelFlux_mag',\n",
       " 'HSC_I_m_slot_ModelFlux_magErr',\n",
       " 'HSC_I_m_slot_ModelFlux_flux',\n",
       " 'HSC_I_m_slot_ModelFlux_fluxErr',\n",
       " 'HSC_Z_m_slot_ModelFlux_mag',\n",
       " 'HSC_Z_m_slot_ModelFlux_magErr',\n",
       " 'HSC_Z_m_slot_ModelFlux_flux',\n",
       " 'HSC_Z_m_slot_ModelFlux_fluxErr',\n",
       " 'HSC_Y_m_slot_ModelFlux_mag',\n",
       " 'HSC_Y_m_slot_ModelFlux_magErr',\n",
       " 'HSC_Y_m_slot_ModelFlux_flux',\n",
       " 'HSC_Y_m_slot_ModelFlux_fluxErr',\n",
       " 'VISTA_Z_m_slot_ModelFlux_mag',\n",
       " 'VISTA_Z_m_slot_ModelFlux_magErr',\n",
       " 'VISTA_Z_m_slot_ModelFlux_flux',\n",
       " 'VISTA_Z_m_slot_ModelFlux_fluxErr',\n",
       " 'VISTA_Y_m_slot_ModelFlux_mag',\n",
       " 'VISTA_Y_m_slot_ModelFlux_magErr',\n",
       " 'VISTA_Y_m_slot_ModelFlux_flux',\n",
       " 'VISTA_Y_m_slot_ModelFlux_fluxErr',\n",
       " 'VISTA_J_m_slot_ModelFlux_mag',\n",
       " 'VISTA_J_m_slot_ModelFlux_magErr',\n",
       " 'VISTA_J_m_slot_ModelFlux_flux',\n",
       " 'VISTA_J_m_slot_ModelFlux_fluxErr',\n",
       " 'VISTA_H_m_slot_ModelFlux_mag',\n",
       " 'VISTA_H_m_slot_ModelFlux_magErr',\n",
       " 'VISTA_H_m_slot_ModelFlux_flux',\n",
       " 'VISTA_H_m_slot_ModelFlux_fluxErr',\n",
       " 'VISTA_Ks_m_slot_ModelFlux_mag',\n",
       " 'VISTA_Ks_m_slot_ModelFlux_magErr',\n",
       " 'VISTA_Ks_m_slot_ModelFlux_flux',\n",
       " 'VISTA_Ks_m_slot_ModelFlux_fluxErr']"
      ]
     },
     "execution_count": 40,
     "metadata": {},
     "output_type": "execute_result"
    }
   ],
   "source": [
    "reduced_cols"
   ]
  },
  {
   "cell_type": "code",
   "execution_count": 119,
   "metadata": {},
   "outputs": [
    {
     "name": "stdout",
     "output_type": "stream",
     "text": [
      "def withwithout(s):\n",
      "    quote='\"'+'\"'+'\"'\n",
      "    print(s)\n",
      "    print('withwithout('+quote+s+quote+')')\n",
      "withwithout(\"\"\"def withwithout(s):\n",
      "    quote='\"'+'\"'+'\"'\n",
      "    print(s)\n",
      "    print('withwithout('+quote+s+quote+')')\"\"\")\n"
     ]
    }
   ],
   "source": [
    "def withwithout(s):\n",
    "    quote='\"'+'\"'+'\"'\n",
    "    print(s)\n",
    "    print('withwithout('+quote+s+quote+')')\n",
    "withwithout(\"\"\"def withwithout(s):\n",
    "    quote='\"'+'\"'+'\"'\n",
    "    print(s)\n",
    "    print('withwithout('+quote+s+quote+')')\"\"\")"
   ]
  },
  {
   "cell_type": "code",
   "execution_count": null,
   "metadata": {},
   "outputs": [],
   "source": []
  },
  {
   "cell_type": "code",
   "execution_count": null,
   "metadata": {},
   "outputs": [],
   "source": []
  }
 ],
 "metadata": {
  "kernelspec": {
   "display_name": "lsst",
   "language": "python",
   "name": "lsst"
  },
  "language_info": {
   "codemirror_mode": {
    "name": "ipython",
    "version": 3
   },
   "file_extension": ".py",
   "mimetype": "text/x-python",
   "name": "python",
   "nbconvert_exporter": "python",
   "pygments_lexer": "ipython3",
   "version": "3.7.8"
  }
 },
 "nbformat": 4,
 "nbformat_minor": 4
}
