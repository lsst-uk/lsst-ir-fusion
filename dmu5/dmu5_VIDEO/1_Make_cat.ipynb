{
 "cells": [
  {
   "cell_type": "markdown",
   "metadata": {},
   "source": [
    "# Make the final SXDS catalogue\n",
    "\n",
    "We want to take all the columns. We will save a catalogue for each patch which can be stacked to produce the final catalogues for serving publicly. The is_inner flags are used to remove the overlap regions. As far as possible we try to mimic the tables produced for HSC PDR2."
   ]
  },
  {
   "cell_type": "code",
   "execution_count": 154,
   "metadata": {},
   "outputs": [],
   "source": [
    "import os\n",
    "import json\n",
    "import numpy as np\n",
    "import lsst.daf.persistence as dafPersist\n",
    "import time\n",
    "import gc\n",
    "\n",
    "from astropy.table import Table, join, vstack\n",
    "import astropy.units as u\n",
    "\n",
    "import matplotlib.pyplot as plt\n",
    "\n",
    "import warnings\n",
    "warnings.filterwarnings(\"ignore\")"
   ]
  },
  {
   "cell_type": "code",
   "execution_count": 2,
   "metadata": {},
   "outputs": [],
   "source": [
    "hscBands = ['G', 'R', 'I', 'Z', 'Y']\n",
    "vistaBands = ['Z', 'Y', 'J', 'H', 'Ks']\n",
    "allBands = ['HSC-' +b for b in hscBands] + ['VISTA-' +b for b in vistaBands]"
   ]
  },
  {
   "cell_type": "code",
   "execution_count": 3,
   "metadata": {},
   "outputs": [
    {
     "data": {
      "text/plain": [
       "['HSC-G',\n",
       " 'HSC-R',\n",
       " 'HSC-I',\n",
       " 'HSC-Z',\n",
       " 'HSC-Y',\n",
       " 'VISTA-Z',\n",
       " 'VISTA-Y',\n",
       " 'VISTA-J',\n",
       " 'VISTA-H',\n",
       " 'VISTA-Ks']"
      ]
     },
     "execution_count": 3,
     "metadata": {},
     "output_type": "execute_result"
    }
   ],
   "source": [
    "allBands"
   ]
  },
  {
   "cell_type": "code",
   "execution_count": 4,
   "metadata": {},
   "outputs": [
    {
     "data": {
      "text/plain": [
       "['G', 'R', 'I', 'Z', 'Y']"
      ]
     },
     "execution_count": 4,
     "metadata": {},
     "output_type": "execute_result"
    }
   ],
   "source": [
    "hscBands"
   ]
  },
  {
   "cell_type": "code",
   "execution_count": 5,
   "metadata": {},
   "outputs": [
    {
     "data": {
      "text/plain": [
       "'/Users/raphaelshirley/Documents/github/lsst-ir-fusion/dmu5/dmu5_VIDEO'"
      ]
     },
     "execution_count": 5,
     "metadata": {},
     "output_type": "execute_result"
    }
   ],
   "source": [
    "os.getcwd()"
   ]
  },
  {
   "cell_type": "code",
   "execution_count": 9,
   "metadata": {},
   "outputs": [],
   "source": [
    "if os.getcwd().startswith('/Users/raphaelshirley/Documents/github'):\n",
    "    BUTLER_LOC = '../../dmu4/dmu4_Example/data_g2'\n",
    "    DATA =  './data'\n",
    "else:\n",
    "    BUTLER_LOC = '../../dmu4/dmu4_VIDEO/data'\n",
    "    DATA =  './data'\n",
    "butler =  dafPersist.Butler(inputs='{}/rerun/coaddPhot'.format(BUTLER_LOC))"
   ]
  },
  {
   "cell_type": "code",
   "execution_count": 10,
   "metadata": {},
   "outputs": [
    {
     "data": {
      "text/plain": [
       "('../../dmu4/dmu4_Example/data_g2', './data')"
      ]
     },
     "execution_count": 10,
     "metadata": {},
     "output_type": "execute_result"
    }
   ],
   "source": [
    "BUTLER_LOC, DATA"
   ]
  },
  {
   "cell_type": "code",
   "execution_count": 15,
   "metadata": {},
   "outputs": [],
   "source": [
    "full_patch_dict = json.load(open('../../dmu4/dmu4_VIDEO/slurm/sxds_patch_job_dict_219.json', 'r'))"
   ]
  },
  {
   "cell_type": "code",
   "execution_count": 16,
   "metadata": {},
   "outputs": [
    {
     "data": {
      "text/plain": [
       "'{\"0\": [8766, \"5,1\"], \"1\": [8766, \"5,0\"], \"2\": [8766, \"3,2\"], \"3\": [8766, \"4,2\"], \"4\": [8766, \"0,3\"], \"5\": [8766, \"2,0\"], \"6\": [8766, \"1,0\"], \"7\": [8766, \"6,2\"], \"8\": [8766, \"0,0\"], \"9\": [8766, \"0,2\"], \"10\": [8766, \"1,2\"], \"11\": [8766, \"7,2\"], \"12\": [8766, \"3,0\"], \"13\": [8766, \"8,2\"], \"14\": [8766, \"1,3\"], \"15\": [8766, \"4,1\"], \"16\": [8766, \"2,3\"], \"17\": [8766, \"7,0\"], \"18\": [8766, \"6,0\"], \"19\": [8766, \"7,1\"], \"20\": [8766, \"5,2\"], \"21\": [8766, \"8,0\"], \"22\": [8766, \"3,3\"], \"23\": [8766, \"8,1\"], \"24\": [8766, \"2,1\"], \"25\": [8766, \"1,1\"], \"26\": [8766, \"2,2\"], \"27\": [8766, \"3,1\"], \"28\": [8766, \"0,1\"], \"29\": [8766, \"4,0\"], \"30\": [8766, \"6,1\"], \"31\": [8524, \"4,7\"], \"32\": [8524, \"5,3\"], \"33\": [8524, \"5,5\"], \"34\": [8524, \"7,7\"], \"35\": [8524, \"6,2\"], \"36\": [8524, \"1,6\"], \"37\": [8524, \"8,4\"], \"38\": [8524, \"5,7\"], \"39\": [8524, \"8,7\"], \"40\": [8524, \"1,2\"], \"41\": [8524, \"7,5\"], \"42\": [8524, \"3,2\"], \"43\": [8524, \"3,5\"], \"44\": [8524, \"4,2\"], \"45\": [8524, \"3,8\"], \"46\": [8524, \"1,5\"], \"47\": [8524, \"6,3\"], \"48\": [8524, \"8,2\"], \"49\": [8524, \"6,6\"], \"50\": [8524, \"2,3\"], \"51\": [8524, \"7,3\"], \"52\": [8524, \"1,8\"], \"53\": [8524, \"8,5\"], \"54\": [8524, \"8,6\"], \"55\": [8524, \"3,3\"], \"56\": [8524, \"7,4\"], \"57\": [8524, \"2,7\"], \"58\": [8524, \"7,8\"], \"59\": [8524, \"8,8\"], \"60\": [8524, \"6,4\"], \"61\": [8524, \"2,4\"], \"62\": [8524, \"0,4\"], \"63\": [8524, \"4,6\"], \"64\": [8524, \"4,5\"], \"65\": [8524, \"2,8\"], \"66\": [8524, \"2,6\"], \"67\": [8524, \"1,7\"], \"68\": [8524, \"2,5\"], \"69\": [8524, \"7,2\"], \"70\": [8524, \"5,8\"], \"71\": [8524, \"3,4\"], \"72\": [8524, \"5,6\"], \"73\": [8524, \"5,2\"], \"74\": [8524, \"4,3\"], \"75\": [8524, \"0,5\"], \"76\": [8524, \"4,4\"], \"77\": [8524, \"2,2\"], \"78\": [8524, \"0,6\"], \"79\": [8524, \"6,5\"], \"80\": [8524, \"8,3\"], \"81\": [8524, \"0,3\"], \"82\": [8524, \"4,8\"], \"83\": [8524, \"3,7\"], \"84\": [8524, \"0,2\"], \"85\": [8524, \"3,6\"], \"86\": [8524, \"1,3\"], \"87\": [8524, \"1,4\"], \"88\": [8524, \"0,8\"], \"89\": [8524, \"6,7\"], \"90\": [8524, \"6,8\"], \"91\": [8524, \"7,6\"], \"92\": [8524, \"0,7\"], \"93\": [8524, \"5,4\"], \"94\": [8765, \"2,0\"], \"95\": [8765, \"0,0\"], \"96\": [8765, \"6,2\"], \"97\": [8765, \"4,1\"], \"98\": [8765, \"6,0\"], \"99\": [8765, \"5,2\"], \"100\": [8765, \"2,1\"], \"101\": [8765, \"2,2\"], \"102\": [8765, \"1,2\"], \"103\": [8765, \"3,1\"], \"104\": [8765, \"3,0\"], \"105\": [8765, \"0,1\"], \"106\": [8765, \"4,0\"], \"107\": [8765, \"5,1\"], \"108\": [8765, \"5,0\"], \"109\": [8765, \"3,2\"], \"110\": [8765, \"4,2\"], \"111\": [8765, \"0,2\"], \"112\": [8765, \"1,1\"], \"113\": [8765, \"1,0\"], \"114\": [8765, \"6,1\"], \"115\": [8523, \"4,7\"], \"116\": [8523, \"5,3\"], \"117\": [8523, \"5,5\"], \"118\": [8523, \"1,6\"], \"119\": [8523, \"6,2\"], \"120\": [8523, \"5,7\"], \"121\": [8523, \"1,2\"], \"122\": [8523, \"3,2\"], \"123\": [8523, \"3,5\"], \"124\": [8523, \"4,2\"], \"125\": [8523, \"3,8\"], \"126\": [8523, \"1,5\"], \"127\": [8523, \"6,3\"], \"128\": [8523, \"6,6\"], \"129\": [8523, \"2,3\"], \"130\": [8523, \"1,8\"], \"131\": [8523, \"3,3\"], \"132\": [8523, \"2,7\"], \"133\": [8523, \"6,4\"], \"134\": [8523, \"2,4\"], \"135\": [8523, \"0,4\"], \"136\": [8523, \"4,6\"], \"137\": [8523, \"4,5\"], \"138\": [8523, \"2,8\"], \"139\": [8523, \"2,6\"], \"140\": [8523, \"1,7\"], \"141\": [8523, \"2,5\"], \"142\": [8523, \"5,8\"], \"143\": [8523, \"3,4\"], \"144\": [8523, \"5,6\"], \"145\": [8523, \"5,2\"], \"146\": [8523, \"0,5\"], \"147\": [8523, \"4,3\"], \"148\": [8523, \"4,4\"], \"149\": [8523, \"2,2\"], \"150\": [8523, \"0,6\"], \"151\": [8523, \"6,5\"], \"152\": [8523, \"0,3\"], \"153\": [8523, \"4,8\"], \"154\": [8523, \"3,7\"], \"155\": [8523, \"0,2\"], \"156\": [8523, \"3,6\"], \"157\": [8523, \"1,3\"], \"158\": [8523, \"1,4\"], \"159\": [8523, \"0,8\"], \"160\": [8523, \"6,7\"], \"161\": [8523, \"6,8\"], \"162\": [8523, \"0,7\"], \"163\": [8523, \"5,4\"], \"164\": [8767, \"5,3\"], \"165\": [8767, \"6,2\"], \"166\": [8767, \"7,2\"], \"167\": [8767, \"4,1\"], \"168\": [8767, \"7,0\"], \"169\": [8767, \"6,0\"], \"170\": [8767, \"7,1\"], \"171\": [8767, \"5,2\"], \"172\": [8767, \"4,3\"], \"173\": [8767, \"8,0\"], \"174\": [8767, \"4,0\"], \"175\": [8767, \"8,3\"], \"176\": [8767, \"5,1\"], \"177\": [8767, \"5,0\"], \"178\": [8767, \"4,2\"], \"179\": [8767, \"6,3\"], \"180\": [8767, \"8,2\"], \"181\": [8767, \"7,3\"], \"182\": [8767, \"8,1\"], \"183\": [8767, \"6,1\"], \"184\": [8525, \"4,7\"], \"185\": [8525, \"5,3\"], \"186\": [8525, \"5,5\"], \"187\": [8525, \"4,5\"], \"188\": [8525, \"7,7\"], \"189\": [8525, \"6,2\"], \"190\": [8525, \"7,2\"], \"191\": [8525, \"5,8\"], \"192\": [8525, \"5,6\"], \"193\": [8525, \"8,4\"], \"194\": [8525, \"5,2\"], \"195\": [8525, \"4,3\"], \"196\": [8525, \"4,4\"], \"197\": [8525, \"5,7\"], \"198\": [8525, \"8,7\"], \"199\": [8525, \"6,5\"], \"200\": [8525, \"7,5\"], \"201\": [8525, \"8,3\"], \"202\": [8525, \"4,2\"], \"203\": [8525, \"4,8\"], \"204\": [8525, \"6,3\"], \"205\": [8525, \"8,2\"], \"206\": [8525, \"6,6\"], \"207\": [8525, \"7,3\"], \"208\": [8525, \"8,5\"], \"209\": [8525, \"8,6\"], \"210\": [8525, \"7,4\"], \"211\": [8525, \"7,8\"], \"212\": [8525, \"8,8\"], \"213\": [8525, \"6,4\"], \"214\": [8525, \"6,7\"], \"215\": [8525, \"6,8\"], \"216\": [8525, \"7,6\"], \"217\": [8525, \"4,6\"], \"218\": [8525, \"5,4\"]}'"
      ]
     },
     "execution_count": 16,
     "metadata": {},
     "output_type": "execute_result"
    }
   ],
   "source": [
    "json.dumps(full_patch_dict)"
   ]
  },
  {
   "cell_type": "code",
   "execution_count": 24,
   "metadata": {},
   "outputs": [],
   "source": [
    "def addFlux(cat, sources, photoCalib):\n",
    "    \"\"\"Add magnitudes and fluxes to an astropy catalogues with instrument fluxes\"\"\"\n",
    "    for c in cat.colnames:\n",
    "        if (c.endswith('_instFlux')):\n",
    "            try:\n",
    "                mags = photoCalib.instFluxToMagnitude(sources, c.replace('_instFlux',''))\n",
    "                flux = photoCalib.instFluxToNanojansky(sources, c.replace('_instFlux',''))\n",
    "                cat[\"{}_mag\".format(c.replace('_instFlux',''))] = mags[:,0]\n",
    "                cat[\"{}_mag\".format(c.replace('_instFlux',''))].unit = u.mag\n",
    "                cat[\"{}_mag\".format(c.replace('_instFlux',''))].description = cat[c].description.replace(\n",
    "                    'instFlux', 'mag')\n",
    "                \n",
    "                cat[\"{}_magErr\".format(c.replace('_instFlux',''))] = mags[:,1]\n",
    "                cat[\"{}_magErr\".format(c.replace('_instFlux',''))].unit = u.mag\n",
    "                cat[\"{}_magErr\".format(c.replace('_instFlux',''))].description = cat[c].description.replace(\n",
    "                    'instFlux', 'mag')\n",
    "                \n",
    "                cat[\"{}_flux\".format(c.replace('_instFlux',''))] = flux[:,0]\n",
    "                cat[\"{}_flux\".format(c.replace('_instFlux',''))].unit = u.nJy\n",
    "                cat[\"{}_flux\".format(c.replace('_instFlux',''))].description = cat[c].description.replace(\n",
    "                    'instFlux', 'flux')\n",
    "                \n",
    "                cat[\"{}_fluxErr\".format(c.replace('_instFlux',''))] = flux[:,1]\n",
    "                cat[\"{}_fluxErr\".format(c.replace('_instFlux',''))].unit = u.nJy\n",
    "                cat[\"{}_fluxErr\".format(c.replace('_instFlux',''))].description = cat[c].description.replace(\n",
    "                    'instFlux', 'flux')\n",
    "            except:\n",
    "                pass\n",
    "    return cat\n",
    "\n",
    "def makeCat(tract, patch, BUTLER_LOC,DATA=DATA,writeBandCats=True):\n",
    "    \"\"\"make the final catalogue on a given patch for later stacking\"\"\"\n",
    "    cat =Table()\n",
    "    tract = int(tract)\n",
    "    for band in allBands:\n",
    "        #We must keep columns under 68 characters by replacing long names\n",
    "        mapping = { \n",
    "            'SecondDerivative':'SD', \n",
    "            'DoubleShapelet':'DS',\n",
    "            'badCentroid':'BC',\n",
    "            'badInitialCentroid':'BIC',\n",
    "            'sincCoeffsTruncated':'SCT',\n",
    "        }\n",
    "\n",
    "        try:\n",
    "            CoaddCalexp = butler.get('deepCoadd_calexp',  {'filter': band, 'tract': tract, 'patch': patch})\n",
    "            CoaddPhotoCalib = CoaddCalexp.getPhotoCalib()\n",
    "        \n",
    "            measSources = butler.get('deepCoadd_meas', {'filter': band, 'tract': tract, 'patch': patch})\n",
    "            measCat = measSources.asAstropy()\n",
    "            measCat = addFlux(measCat, measSources, CoaddPhotoCalib)\n",
    "            for c in measCat.colnames:    \n",
    "                if c != 'id':\n",
    "                    measCat[c].name = \"{}_{}_{}\".format(band,'m', c)\n",
    "                \n",
    "            forcedSources = butler.get('deepCoadd_forced_src', {'filter': band, 'tract': tract, 'patch': patch})\n",
    "            forcedCat = forcedSources.asAstropy()\n",
    "            forcedCat = addFlux(forcedCat, forcedSources, CoaddPhotoCalib)\n",
    "            for c in forcedCat.colnames:    \n",
    "                if c != 'id':\n",
    "                    forcedCat[c].name = \"{}_{}_{}\".format(band,'f', c)\n",
    "                    \n",
    "            bandCat = join(measCat,forcedCat,join_type='outer')\n",
    "            \n",
    "            for c in bandCat.colnames:    \n",
    "                if c != 'id':\n",
    "                    newName = c\n",
    "                    for k in mapping:\n",
    "                        newName = newName.replace(k, mapping[k])\n",
    "                    bandCat[c].name = newName\n",
    "                    if len(newName)>68:\n",
    "                        print('column name {} too long for fits writing.'.format(newName))\n",
    "            if writeBandCats:\n",
    "                bandCat.write(DATA+'/{}_{}_{}_fullCat.fits'.format(band,tract,patch), overwrite=True)\n",
    "                \n",
    "            if len(cat)==0:\n",
    "                #On first band no join\n",
    "                cat = bandCat\n",
    "            else:\n",
    "                #After first band join tables in\n",
    "                cat = join(cat, bandCat,join_type='outer')\n",
    "  \n",
    "            \n",
    "        except:\n",
    "            warnings.warn(\"Band {} failed.\".format(band))\n",
    "                \n",
    "\n",
    "    if len(cat) == 0:\n",
    "        return None\n",
    "    return cat.copy()\n",
    "\n",
    "#makeCat(8524, '3,3', BUTLER_LOC)"
   ]
  },
  {
   "cell_type": "code",
   "execution_count": 25,
   "metadata": {},
   "outputs": [
    {
     "ename": "AttributeError",
     "evalue": "'NoneType' object has no attribute 'colnames'",
     "output_type": "error",
     "traceback": [
      "\u001b[0;31m---------------------------------------------------------------------------\u001b[0m",
      "\u001b[0;31mAttributeError\u001b[0m                            Traceback (most recent call last)",
      "\u001b[0;32m<ipython-input-25-1e01a1dfb13a>\u001b[0m in \u001b[0;36m<module>\u001b[0;34m\u001b[0m\n\u001b[1;32m      1\u001b[0m \u001b[0mcat\u001b[0m \u001b[0;34m=\u001b[0m \u001b[0mmakeCat\u001b[0m\u001b[0;34m(\u001b[0m\u001b[0;36m8524\u001b[0m\u001b[0;34m,\u001b[0m \u001b[0;34m'3,5'\u001b[0m\u001b[0;34m,\u001b[0m \u001b[0mBUTLER_LOC\u001b[0m\u001b[0;34m)\u001b[0m\u001b[0;34m\u001b[0m\u001b[0;34m\u001b[0m\u001b[0m\n\u001b[1;32m      2\u001b[0m \u001b[0;31m#cat[cat.colnames[0:999]].write(DATA+'/full_cat_{}_{}.fits'.format(8524, '3,3'), overwrite=True)\u001b[0m\u001b[0;34m\u001b[0m\u001b[0;34m\u001b[0m\u001b[0;34m\u001b[0m\u001b[0m\n\u001b[0;32m----> 3\u001b[0;31m \u001b[0mprint\u001b[0m\u001b[0;34m(\u001b[0m\u001b[0;34m'success'\u001b[0m\u001b[0;34m,\u001b[0m \u001b[0mlen\u001b[0m\u001b[0;34m(\u001b[0m\u001b[0mcat\u001b[0m\u001b[0;34m.\u001b[0m\u001b[0mcolnames\u001b[0m\u001b[0;34m)\u001b[0m\u001b[0;34m)\u001b[0m\u001b[0;34m\u001b[0m\u001b[0;34m\u001b[0m\u001b[0m\n\u001b[0m",
      "\u001b[0;31mAttributeError\u001b[0m: 'NoneType' object has no attribute 'colnames'"
     ]
    }
   ],
   "source": [
    "cat = makeCat(8524, '3,5', BUTLER_LOC)\n",
    "#cat[cat.colnames[0:999]].write(DATA+'/full_cat_{}_{}.fits'.format(8524, '3,3'), overwrite=True)\n",
    "print('success', len(cat.colnames))"
   ]
  },
  {
   "cell_type": "code",
   "execution_count": 146,
   "metadata": {},
   "outputs": [
    {
     "data": {
      "text/plain": [
       "(4.0717474489795915, 2.873025)"
      ]
     },
     "execution_count": 146,
     "metadata": {},
     "output_type": "execute_result"
    }
   ],
   "source": [
    "(0.339/0.168)**2,(0.339/0.2)**2,"
   ]
  },
  {
   "cell_type": "code",
   "execution_count": 147,
   "metadata": {},
   "outputs": [
    {
     "data": {
      "text/plain": [
       "(6, 4.242640687119285)"
      ]
     },
     "execution_count": 147,
     "metadata": {},
     "output_type": "execute_result"
    }
   ],
   "source": [
    "(3 + 3),(np.sqrt(3**2+3**2))"
   ]
  },
  {
   "cell_type": "code",
   "execution_count": 157,
   "metadata": {},
   "outputs": [
    {
     "data": {
      "text/plain": [
       "<matplotlib.legend.Legend at 0x7ff518056c10>"
      ]
     },
     "execution_count": 157,
     "metadata": {},
     "output_type": "execute_result"
    },
    {
     "data": {
      "image/png": "[encoded data removed]",
      "text/plain": [
       "<Figure size 432x288 with 1 Axes>"
      ]
     },
     "metadata": {
      "needs_background": "light"
     },
     "output_type": "display_data"
    }
   ],
   "source": [
    "x = np.linspace(0,100)\n",
    "quad = np.sqrt((x/4)**2+(x/4)**2+(x/4)**2+(x/4)**2)\n",
    "add = x \n",
    "plt.plot(x,quad,label='quad')\n",
    "plt.plot(x,add,label='add')\n",
    "plt.legend()"
   ]
  },
  {
   "cell_type": "code",
   "execution_count": 172,
   "metadata": {},
   "outputs": [],
   "source": [
    "from astropy.table import Table,vstack\n",
    "import glob\n",
    "import os\n",
    "\n",
    "if os.getcwd()=='/Users/rs548/GitHub/lsst-ir-fusion/dmu5/dmu5_SXDS/slurm':\n",
    "    BUTLER_LOC = '/Volumes/Raph500/lsst-ir-fusion/dmu4/dmu4_Example/data'\n",
    "    DATA = '/Volumes/Raph500/lsst-ir-fusion/dmu5/dmu5_Example/data'\n",
    "else:\n",
    "    BUTLER_LOC = '../../../dmu4/dmu4_VIDEO/data'\n",
    "DATA =  './data'\n",
    "#butler =  dafPersist.Butler(inputs='{}/rerun/coaddForcedPhot'.format(BUTLER_LOC))\n",
    "\n",
    "red_cats = glob.glob(DATA+'/*reducedCat.fits')\n",
    "\n",
    "full_cat = Table()\n",
    "for r in red_cats:\n",
    "    try:\n",
    "        t= Table.read(r)\n",
    "        #mask = t['VISTA_Ks_m_detect_isPatchInner'].astype('bool') & t['VISTA_Ks_m_detect_isTractInner'].astype('bool')\n",
    "        full_cat=vstack([full_cat,t])\n",
    "    except:\n",
    "        print(r,' failed')\n",
    "full_cat.write(DATA+'/full_reduced_cat_SXDS_t.fits', overwrite=True)"
   ]
  },
  {
   "cell_type": "code",
   "execution_count": 168,
   "metadata": {},
   "outputs": [
    {
     "ename": "KeyError",
     "evalue": "'VISTA_Ks_m_detect_isPatchInner'",
     "output_type": "error",
     "traceback": [
      "\u001b[0;31m---------------------------------------------------------------------------\u001b[0m",
      "\u001b[0;31mKeyError\u001b[0m                                  Traceback (most recent call last)",
      "\u001b[0;32m<ipython-input-168-9074398891a2>\u001b[0m in \u001b[0;36m<module>\u001b[0;34m\u001b[0m\n\u001b[1;32m      1\u001b[0m \u001b[0mt\u001b[0m\u001b[0;34m=\u001b[0m \u001b[0mTable\u001b[0m\u001b[0;34m.\u001b[0m\u001b[0mread\u001b[0m\u001b[0;34m(\u001b[0m\u001b[0;34m'./data/8523_5,2_reducedCat.fits'\u001b[0m\u001b[0;34m)\u001b[0m\u001b[0;34m\u001b[0m\u001b[0;34m\u001b[0m\u001b[0m\n\u001b[0;32m----> 2\u001b[0;31m \u001b[0mmask\u001b[0m \u001b[0;34m=\u001b[0m \u001b[0mt\u001b[0m\u001b[0;34m[\u001b[0m\u001b[0;34m'VISTA_Ks_m_detect_isPatchInner'\u001b[0m\u001b[0;34m]\u001b[0m\u001b[0;34m.\u001b[0m\u001b[0mastype\u001b[0m\u001b[0;34m(\u001b[0m\u001b[0;34m'bool'\u001b[0m\u001b[0;34m)\u001b[0m \u001b[0;34m&\u001b[0m \u001b[0mt\u001b[0m\u001b[0;34m[\u001b[0m\u001b[0;34m'VISTA_Ks_m_detect_isTractInner'\u001b[0m\u001b[0;34m]\u001b[0m\u001b[0;34m.\u001b[0m\u001b[0mastype\u001b[0m\u001b[0;34m(\u001b[0m\u001b[0;34m'bool'\u001b[0m\u001b[0;34m)\u001b[0m\u001b[0;34m\u001b[0m\u001b[0;34m\u001b[0m\u001b[0m\n\u001b[0m",
      "\u001b[0;32m~/Documents/github/lsst_stack/conda/miniconda3-py37_4.8.2/envs/lsst-scipipe-cb4e2dc/lib/python3.7/site-packages/astropy/table/table.py\u001b[0m in \u001b[0;36m__getitem__\u001b[0;34m(self, item)\u001b[0m\n\u001b[1;32m   1600\u001b[0m     \u001b[0;32mdef\u001b[0m \u001b[0m__getitem__\u001b[0m\u001b[0;34m(\u001b[0m\u001b[0mself\u001b[0m\u001b[0;34m,\u001b[0m \u001b[0mitem\u001b[0m\u001b[0;34m)\u001b[0m\u001b[0;34m:\u001b[0m\u001b[0;34m\u001b[0m\u001b[0;34m\u001b[0m\u001b[0m\n\u001b[1;32m   1601\u001b[0m         \u001b[0;32mif\u001b[0m \u001b[0misinstance\u001b[0m\u001b[0;34m(\u001b[0m\u001b[0mitem\u001b[0m\u001b[0;34m,\u001b[0m \u001b[0mstr\u001b[0m\u001b[0;34m)\u001b[0m\u001b[0;34m:\u001b[0m\u001b[0;34m\u001b[0m\u001b[0;34m\u001b[0m\u001b[0m\n\u001b[0;32m-> 1602\u001b[0;31m             \u001b[0;32mreturn\u001b[0m \u001b[0mself\u001b[0m\u001b[0;34m.\u001b[0m\u001b[0mcolumns\u001b[0m\u001b[0;34m[\u001b[0m\u001b[0mitem\u001b[0m\u001b[0;34m]\u001b[0m\u001b[0;34m\u001b[0m\u001b[0;34m\u001b[0m\u001b[0m\n\u001b[0m\u001b[1;32m   1603\u001b[0m         \u001b[0;32melif\u001b[0m \u001b[0misinstance\u001b[0m\u001b[0;34m(\u001b[0m\u001b[0mitem\u001b[0m\u001b[0;34m,\u001b[0m \u001b[0;34m(\u001b[0m\u001b[0mint\u001b[0m\u001b[0;34m,\u001b[0m \u001b[0mnp\u001b[0m\u001b[0;34m.\u001b[0m\u001b[0minteger\u001b[0m\u001b[0;34m)\u001b[0m\u001b[0;34m)\u001b[0m\u001b[0;34m:\u001b[0m\u001b[0;34m\u001b[0m\u001b[0;34m\u001b[0m\u001b[0m\n\u001b[1;32m   1604\u001b[0m             \u001b[0;32mreturn\u001b[0m \u001b[0mself\u001b[0m\u001b[0;34m.\u001b[0m\u001b[0mRow\u001b[0m\u001b[0;34m(\u001b[0m\u001b[0mself\u001b[0m\u001b[0;34m,\u001b[0m \u001b[0mitem\u001b[0m\u001b[0;34m)\u001b[0m\u001b[0;34m\u001b[0m\u001b[0;34m\u001b[0m\u001b[0m\n",
      "\u001b[0;32m~/Documents/github/lsst_stack/conda/miniconda3-py37_4.8.2/envs/lsst-scipipe-cb4e2dc/lib/python3.7/site-packages/astropy/table/table.py\u001b[0m in \u001b[0;36m__getitem__\u001b[0;34m(self, item)\u001b[0m\n\u001b[1;32m    237\u001b[0m         \"\"\"\n\u001b[1;32m    238\u001b[0m         \u001b[0;32mif\u001b[0m \u001b[0misinstance\u001b[0m\u001b[0;34m(\u001b[0m\u001b[0mitem\u001b[0m\u001b[0;34m,\u001b[0m \u001b[0mstr\u001b[0m\u001b[0;34m)\u001b[0m\u001b[0;34m:\u001b[0m\u001b[0;34m\u001b[0m\u001b[0;34m\u001b[0m\u001b[0m\n\u001b[0;32m--> 239\u001b[0;31m             \u001b[0;32mreturn\u001b[0m \u001b[0mOrderedDict\u001b[0m\u001b[0;34m.\u001b[0m\u001b[0m__getitem__\u001b[0m\u001b[0;34m(\u001b[0m\u001b[0mself\u001b[0m\u001b[0;34m,\u001b[0m \u001b[0mitem\u001b[0m\u001b[0;34m)\u001b[0m\u001b[0;34m\u001b[0m\u001b[0;34m\u001b[0m\u001b[0m\n\u001b[0m\u001b[1;32m    240\u001b[0m         \u001b[0;32melif\u001b[0m \u001b[0misinstance\u001b[0m\u001b[0;34m(\u001b[0m\u001b[0mitem\u001b[0m\u001b[0;34m,\u001b[0m \u001b[0;34m(\u001b[0m\u001b[0mint\u001b[0m\u001b[0;34m,\u001b[0m \u001b[0mnp\u001b[0m\u001b[0;34m.\u001b[0m\u001b[0minteger\u001b[0m\u001b[0;34m)\u001b[0m\u001b[0;34m)\u001b[0m\u001b[0;34m:\u001b[0m\u001b[0;34m\u001b[0m\u001b[0;34m\u001b[0m\u001b[0m\n\u001b[1;32m    241\u001b[0m             \u001b[0;32mreturn\u001b[0m \u001b[0mself\u001b[0m\u001b[0;34m.\u001b[0m\u001b[0mvalues\u001b[0m\u001b[0;34m(\u001b[0m\u001b[0;34m)\u001b[0m\u001b[0;34m[\u001b[0m\u001b[0mitem\u001b[0m\u001b[0;34m]\u001b[0m\u001b[0;34m\u001b[0m\u001b[0;34m\u001b[0m\u001b[0m\n",
      "\u001b[0;31mKeyError\u001b[0m: 'VISTA_Ks_m_detect_isPatchInner'"
     ]
    }
   ],
   "source": [
    "t= Table.read('./data/8523_5,2_reducedCat.fits')\n",
    "mask = t['VISTA_Ks_m_detect_isPatchInner'].astype('bool') & t['VISTA_Ks_m_detect_isTractInner'].astype('bool')"
   ]
  },
  {
   "cell_type": "code",
   "execution_count": 169,
   "metadata": {},
   "outputs": [
    {
     "data": {
      "text/html": [
       "<i>Table length=18974</i>\n",
       "<table id=\"table140694426893648\" class=\"table-striped table-bordered table-condensed\">\n",
       "<thead><tr><th>id</th><th>VISTA_Z_m_slot_ModelFlux_magErr</th><th>VISTA_Z_m_slot_ModelFlux_mag</th><th>VISTA_Z_m_slot_ModelFlux_fluxErr</th><th>VISTA_Z_m_slot_ModelFlux_flux</th><th>VISTA_Z_m_slot_ModelFlux_flag</th><th>VISTA_Z_m_base_PsfFlux_magErr</th><th>VISTA_Z_m_base_PsfFlux_mag</th><th>VISTA_Z_m_base_PsfFlux_fluxErr</th><th>VISTA_Z_m_base_PsfFlux_flux</th><th>VISTA_Z_m_base_PsfFlux_flag</th><th>VISTA_Z_m_base_ClassificationExtendedness_value</th><th>VISTA_Z_m_base_ClassificationExtendedness_flag</th><th>VISTA_Z_m_base_CircularApertureFlux_6_0_magErr</th><th>VISTA_Z_m_base_CircularApertureFlux_6_0_mag</th><th>VISTA_Z_m_base_CircularApertureFlux_6_0_fluxErr</th><th>VISTA_Z_m_base_CircularApertureFlux_6_0_flux</th><th>VISTA_Z_m_base_CircularApertureFlux_6_0_flag</th><th>VISTA_Y_m_slot_ModelFlux_magErr</th><th>VISTA_Y_m_slot_ModelFlux_mag</th><th>VISTA_Y_m_slot_ModelFlux_fluxErr</th><th>VISTA_Y_m_slot_ModelFlux_flux</th><th>VISTA_Y_m_slot_ModelFlux_flag</th><th>VISTA_Y_m_base_PsfFlux_magErr</th><th>VISTA_Y_m_base_PsfFlux_mag</th><th>VISTA_Y_m_base_PsfFlux_fluxErr</th><th>VISTA_Y_m_base_PsfFlux_flux</th><th>VISTA_Y_m_base_PsfFlux_flag</th><th>VISTA_Y_m_base_ClassificationExtendedness_value</th><th>VISTA_Y_m_base_ClassificationExtendedness_flag</th><th>VISTA_Y_m_base_CircularApertureFlux_6_0_magErr</th><th>VISTA_Y_m_base_CircularApertureFlux_6_0_mag</th><th>VISTA_Y_m_base_CircularApertureFlux_6_0_fluxErr</th><th>VISTA_Y_m_base_CircularApertureFlux_6_0_flux</th><th>VISTA_Y_m_base_CircularApertureFlux_6_0_flag</th><th>VISTA_Ks_m_slot_ModelFlux_magErr</th><th>VISTA_Ks_m_slot_ModelFlux_mag</th><th>VISTA_Ks_m_slot_ModelFlux_fluxErr</th><th>VISTA_Ks_m_slot_ModelFlux_flux</th><th>VISTA_Ks_m_slot_ModelFlux_flag</th><th>VISTA_Ks_m_merge_peak_sky</th><th>VISTA_Ks_m_detect_isTractInner</th><th>VISTA_Ks_m_detect_isPrimary</th><th>VISTA_Ks_m_deblend_nChild</th><th>VISTA_Ks_m_coord_ra</th><th>VISTA_Ks_m_coord_dec</th><th>VISTA_Ks_m_base_PsfFlux_magErr</th><th>VISTA_Ks_m_base_PsfFlux_mag</th><th>VISTA_Ks_m_base_PsfFlux_fluxErr</th><th>VISTA_Ks_m_base_PsfFlux_flux</th><th>VISTA_Ks_m_base_PsfFlux_flag</th><th>VISTA_Ks_m_base_ClassificationExtendedness_value</th><th>VISTA_Ks_m_base_ClassificationExtendedness_flag</th><th>VISTA_Ks_m_base_CircularApertureFlux_6_0_magErr</th><th>VISTA_Ks_m_base_CircularApertureFlux_6_0_mag</th><th>VISTA_Ks_m_base_CircularApertureFlux_6_0_fluxErr</th><th>VISTA_Ks_m_base_CircularApertureFlux_6_0_flux</th><th>VISTA_Ks_m_base_CircularApertureFlux_6_0_flag</th><th>VISTA_J_m_slot_ModelFlux_magErr</th><th>VISTA_J_m_slot_ModelFlux_mag</th><th>VISTA_J_m_slot_ModelFlux_fluxErr</th><th>VISTA_J_m_slot_ModelFlux_flux</th><th>VISTA_J_m_slot_ModelFlux_flag</th><th>VISTA_J_m_base_PsfFlux_magErr</th><th>VISTA_J_m_base_PsfFlux_mag</th><th>VISTA_J_m_base_PsfFlux_fluxErr</th><th>VISTA_J_m_base_PsfFlux_flux</th><th>VISTA_J_m_base_PsfFlux_flag</th><th>VISTA_J_m_base_ClassificationExtendedness_value</th><th>VISTA_J_m_base_ClassificationExtendedness_flag</th><th>VISTA_J_m_base_CircularApertureFlux_6_0_magErr</th><th>VISTA_J_m_base_CircularApertureFlux_6_0_mag</th><th>VISTA_J_m_base_CircularApertureFlux_6_0_fluxErr</th><th>VISTA_J_m_base_CircularApertureFlux_6_0_flux</th><th>VISTA_J_m_base_CircularApertureFlux_6_0_flag</th><th>VISTA_H_m_slot_ModelFlux_magErr</th><th>VISTA_H_m_slot_ModelFlux_mag</th><th>VISTA_H_m_slot_ModelFlux_fluxErr</th><th>VISTA_H_m_slot_ModelFlux_flux</th><th>VISTA_H_m_slot_ModelFlux_flag</th><th>VISTA_H_m_base_PsfFlux_magErr</th><th>VISTA_H_m_base_PsfFlux_mag</th><th>VISTA_H_m_base_PsfFlux_fluxErr</th><th>VISTA_H_m_base_PsfFlux_flux</th><th>VISTA_H_m_base_PsfFlux_flag</th><th>VISTA_H_m_base_ClassificationExtendedness_value</th><th>VISTA_H_m_base_ClassificationExtendedness_flag</th><th>VISTA_H_m_base_CircularApertureFlux_6_0_magErr</th><th>VISTA_H_m_base_CircularApertureFlux_6_0_mag</th><th>VISTA_H_m_base_CircularApertureFlux_6_0_fluxErr</th><th>VISTA_H_m_base_CircularApertureFlux_6_0_flux</th><th>VISTA_H_m_base_CircularApertureFlux_6_0_flag</th><th>HSC_Z_m_slot_ModelFlux_magErr</th><th>HSC_Z_m_slot_ModelFlux_mag</th><th>HSC_Z_m_slot_ModelFlux_fluxErr</th><th>HSC_Z_m_slot_ModelFlux_flux</th><th>HSC_Z_m_slot_ModelFlux_flag</th><th>HSC_Z_m_base_PsfFlux_magErr</th><th>HSC_Z_m_base_PsfFlux_mag</th><th>HSC_Z_m_base_PsfFlux_fluxErr</th><th>HSC_Z_m_base_PsfFlux_flux</th><th>HSC_Z_m_base_PsfFlux_flag</th><th>HSC_Z_m_base_ClassificationExtendedness_value</th><th>HSC_Z_m_base_ClassificationExtendedness_flag</th><th>HSC_Z_m_base_CircularApertureFlux_6_0_magErr</th><th>HSC_Z_m_base_CircularApertureFlux_6_0_mag</th><th>HSC_Z_m_base_CircularApertureFlux_6_0_fluxErr</th><th>HSC_Z_m_base_CircularApertureFlux_6_0_flux</th><th>HSC_Z_m_base_CircularApertureFlux_6_0_flag</th><th>HSC_Y_m_slot_ModelFlux_magErr</th><th>HSC_Y_m_slot_ModelFlux_mag</th><th>HSC_Y_m_slot_ModelFlux_fluxErr</th><th>HSC_Y_m_slot_ModelFlux_flux</th><th>HSC_Y_m_slot_ModelFlux_flag</th><th>HSC_Y_m_base_PsfFlux_magErr</th><th>HSC_Y_m_base_PsfFlux_mag</th><th>HSC_Y_m_base_PsfFlux_fluxErr</th><th>HSC_Y_m_base_PsfFlux_flux</th><th>HSC_Y_m_base_PsfFlux_flag</th><th>HSC_Y_m_base_ClassificationExtendedness_value</th><th>HSC_Y_m_base_ClassificationExtendedness_flag</th><th>HSC_Y_m_base_CircularApertureFlux_6_0_magErr</th><th>HSC_Y_m_base_CircularApertureFlux_6_0_mag</th><th>HSC_Y_m_base_CircularApertureFlux_6_0_fluxErr</th><th>HSC_Y_m_base_CircularApertureFlux_6_0_flux</th><th>HSC_Y_m_base_CircularApertureFlux_6_0_flag</th><th>HSC_R_m_slot_ModelFlux_magErr</th><th>HSC_R_m_slot_ModelFlux_mag</th><th>HSC_R_m_slot_ModelFlux_fluxErr</th><th>HSC_R_m_slot_ModelFlux_flux</th><th>HSC_R_m_slot_ModelFlux_flag</th><th>HSC_R_m_coord_ra</th><th>HSC_R_m_base_PsfFlux_magErr</th><th>HSC_R_m_base_PsfFlux_mag</th><th>HSC_R_m_base_PsfFlux_fluxErr</th><th>HSC_R_m_base_PsfFlux_flux</th><th>HSC_R_m_base_PsfFlux_flag</th><th>HSC_R_m_base_ClassificationExtendedness_value</th><th>HSC_R_m_base_ClassificationExtendedness_flag</th><th>HSC_R_m_base_CircularApertureFlux_6_0_magErr</th><th>HSC_R_m_base_CircularApertureFlux_6_0_mag</th><th>HSC_R_m_base_CircularApertureFlux_6_0_fluxErr</th><th>HSC_R_m_base_CircularApertureFlux_6_0_flux</th><th>HSC_R_m_base_CircularApertureFlux_6_0_flag</th><th>HSC_I_m_slot_ModelFlux_magErr</th><th>HSC_I_m_slot_ModelFlux_mag</th><th>HSC_I_m_slot_ModelFlux_fluxErr</th><th>HSC_I_m_slot_ModelFlux_flux</th><th>HSC_I_m_slot_ModelFlux_flag</th><th>HSC_I_m_base_PsfFlux_magErr</th><th>HSC_I_m_base_PsfFlux_mag</th><th>HSC_I_m_base_PsfFlux_fluxErr</th><th>HSC_I_m_base_PsfFlux_flux</th><th>HSC_I_m_base_PsfFlux_flag</th><th>HSC_I_m_base_ClassificationExtendedness_value</th><th>HSC_I_m_base_ClassificationExtendedness_flag</th><th>HSC_I_m_base_CircularApertureFlux_6_0_magErr</th><th>HSC_I_m_base_CircularApertureFlux_6_0_mag</th><th>HSC_I_m_base_CircularApertureFlux_6_0_fluxErr</th><th>HSC_I_m_base_CircularApertureFlux_6_0_flux</th><th>HSC_I_m_base_CircularApertureFlux_6_0_flag</th><th>HSC_G_m_slot_ModelFlux_magErr</th><th>HSC_G_m_slot_ModelFlux_mag</th><th>HSC_G_m_slot_ModelFlux_fluxErr</th><th>HSC_G_m_slot_ModelFlux_flux</th><th>HSC_G_m_slot_ModelFlux_flag</th><th>HSC_G_m_base_PsfFlux_magErr</th><th>HSC_G_m_base_PsfFlux_mag</th><th>HSC_G_m_base_PsfFlux_fluxErr</th><th>HSC_G_m_base_PsfFlux_flux</th><th>HSC_G_m_base_PsfFlux_flag</th><th>HSC_G_m_base_ClassificationExtendedness_value</th><th>HSC_G_m_base_ClassificationExtendedness_flag</th><th>HSC_G_m_base_CircularApertureFlux_6_0_magErr</th><th>HSC_G_m_base_CircularApertureFlux_6_0_mag</th><th>HSC_G_m_base_CircularApertureFlux_6_0_fluxErr</th><th>HSC_G_m_base_CircularApertureFlux_6_0_flux</th><th>HSC_G_m_base_CircularApertureFlux_6_0_flag</th></tr></thead>\n",
       "<thead><tr><th></th><th>mag</th><th>mag</th><th>nJy</th><th>nJy</th><th></th><th>mag</th><th>mag</th><th>nJy</th><th>nJy</th><th></th><th></th><th></th><th>mag</th><th>mag</th><th>nJy</th><th>nJy</th><th></th><th>mag</th><th>mag</th><th>nJy</th><th>nJy</th><th></th><th>mag</th><th>mag</th><th>nJy</th><th>nJy</th><th></th><th></th><th></th><th>mag</th><th>mag</th><th>nJy</th><th>nJy</th><th></th><th>mag</th><th>mag</th><th>nJy</th><th>nJy</th><th></th><th></th><th></th><th></th><th></th><th>rad</th><th>rad</th><th>mag</th><th>mag</th><th>nJy</th><th>nJy</th><th></th><th></th><th></th><th>mag</th><th>mag</th><th>nJy</th><th>nJy</th><th></th><th>mag</th><th>mag</th><th>nJy</th><th>nJy</th><th></th><th>mag</th><th>mag</th><th>nJy</th><th>nJy</th><th></th><th></th><th></th><th>mag</th><th>mag</th><th>nJy</th><th>nJy</th><th></th><th>mag</th><th>mag</th><th>nJy</th><th>nJy</th><th></th><th>mag</th><th>mag</th><th>nJy</th><th>nJy</th><th></th><th></th><th></th><th>mag</th><th>mag</th><th>nJy</th><th>nJy</th><th></th><th>mag</th><th>mag</th><th>nJy</th><th>nJy</th><th></th><th>mag</th><th>mag</th><th>nJy</th><th>nJy</th><th></th><th></th><th></th><th>mag</th><th>mag</th><th>nJy</th><th>nJy</th><th></th><th>mag</th><th>mag</th><th>nJy</th><th>nJy</th><th></th><th>mag</th><th>mag</th><th>nJy</th><th>nJy</th><th></th><th></th><th></th><th>mag</th><th>mag</th><th>nJy</th><th>nJy</th><th></th><th>mag</th><th>mag</th><th>nJy</th><th>nJy</th><th></th><th>rad</th><th>mag</th><th>mag</th><th>nJy</th><th>nJy</th><th></th><th></th><th></th><th>mag</th><th>mag</th><th>nJy</th><th>nJy</th><th></th><th>mag</th><th>mag</th><th>nJy</th><th>nJy</th><th></th><th>mag</th><th>mag</th><th>nJy</th><th>nJy</th><th></th><th></th><th></th><th>mag</th><th>mag</th><th>nJy</th><th>nJy</th><th></th><th>mag</th><th>mag</th><th>nJy</th><th>nJy</th><th></th><th>mag</th><th>mag</th><th>nJy</th><th>nJy</th><th></th><th></th><th></th><th>mag</th><th>mag</th><th>nJy</th><th>nJy</th><th></th></tr></thead>\n",
       "<thead><tr><th>int64</th><th>float64</th><th>float64</th><th>float64</th><th>float64</th><th>int64</th><th>float64</th><th>float64</th><th>float64</th><th>float64</th><th>int64</th><th>float64</th><th>int64</th><th>float64</th><th>float64</th><th>float64</th><th>float64</th><th>int64</th><th>float64</th><th>float64</th><th>float64</th><th>float64</th><th>int64</th><th>float64</th><th>float64</th><th>float64</th><th>float64</th><th>int64</th><th>float64</th><th>int64</th><th>float64</th><th>float64</th><th>float64</th><th>float64</th><th>int64</th><th>float64</th><th>float64</th><th>float64</th><th>float64</th><th>int64</th><th>int64</th><th>int64</th><th>int64</th><th>int32</th><th>float64</th><th>float64</th><th>float64</th><th>float64</th><th>float64</th><th>float64</th><th>int64</th><th>float64</th><th>int64</th><th>float64</th><th>float64</th><th>float64</th><th>float64</th><th>int64</th><th>float64</th><th>float64</th><th>float64</th><th>float64</th><th>int64</th><th>float64</th><th>float64</th><th>float64</th><th>float64</th><th>int64</th><th>float64</th><th>int64</th><th>float64</th><th>float64</th><th>float64</th><th>float64</th><th>int64</th><th>float64</th><th>float64</th><th>float64</th><th>float64</th><th>int64</th><th>float64</th><th>float64</th><th>float64</th><th>float64</th><th>int64</th><th>float64</th><th>int64</th><th>float64</th><th>float64</th><th>float64</th><th>float64</th><th>int64</th><th>float64</th><th>float64</th><th>float64</th><th>float64</th><th>int64</th><th>float64</th><th>float64</th><th>float64</th><th>float64</th><th>int64</th><th>float64</th><th>int64</th><th>float64</th><th>float64</th><th>float64</th><th>float64</th><th>int64</th><th>float64</th><th>float64</th><th>float64</th><th>float64</th><th>int64</th><th>float64</th><th>float64</th><th>float64</th><th>float64</th><th>int64</th><th>float64</th><th>int64</th><th>float64</th><th>float64</th><th>float64</th><th>float64</th><th>int64</th><th>float64</th><th>float64</th><th>float64</th><th>float64</th><th>int64</th><th>float64</th><th>float64</th><th>float64</th><th>float64</th><th>float64</th><th>int64</th><th>float64</th><th>int64</th><th>float64</th><th>float64</th><th>float64</th><th>float64</th><th>int64</th><th>float64</th><th>float64</th><th>float64</th><th>float64</th><th>int64</th><th>float64</th><th>float64</th><th>float64</th><th>float64</th><th>int64</th><th>float64</th><th>int64</th><th>float64</th><th>float64</th><th>float64</th><th>float64</th><th>int64</th><th>float64</th><th>float64</th><th>float64</th><th>float64</th><th>int64</th><th>float64</th><th>float64</th><th>float64</th><th>float64</th><th>int64</th><th>float64</th><th>int64</th><th>float64</th><th>float64</th><th>float64</th><th>float64</th><th>int64</th></tr></thead>\n",
       "<tr><td>149940984795365377</td><td>1e+20</td><td>1e+20</td><td>1e+20</td><td>1e+20</td><td>1</td><td>1e+20</td><td>1e+20</td><td>1e+20</td><td>1e+20</td><td>1</td><td>1e+20</td><td>1</td><td>1e+20</td><td>27.184117607042335</td><td>1e+20</td><td>48.56830612060124</td><td>1</td><td>1e+20</td><td>1e+20</td><td>1e+20</td><td>1e+20</td><td>1</td><td>1e+20</td><td>1e+20</td><td>1e+20</td><td>1e+20</td><td>1</td><td>1e+20</td><td>1</td><td>1e+20</td><td>26.958707650314402</td><td>1e+20</td><td>59.774635963075575</td><td>1</td><td>1e+20</td><td>1e+20</td><td>1e+20</td><td>1e+20</td><td>1</td><td>0</td><td>1</td><td>0</td><td>2</td><td>0.5954900977922221</td><td>-0.09909280910408683</td><td>1e+20</td><td>1e+20</td><td>1e+20</td><td>1e+20</td><td>1</td><td>1e+20</td><td>1</td><td>1e+20</td><td>26.106273154199805</td><td>1e+20</td><td>131.0662091142382</td><td>1</td><td>1e+20</td><td>1e+20</td><td>1e+20</td><td>1e+20</td><td>1</td><td>1e+20</td><td>1e+20</td><td>1e+20</td><td>1e+20</td><td>1</td><td>1e+20</td><td>1</td><td>1e+20</td><td>26.54396314577047</td><td>1e+20</td><td>87.58197646277395</td><td>1</td><td>1e+20</td><td>1e+20</td><td>1e+20</td><td>1e+20</td><td>1</td><td>1e+20</td><td>1e+20</td><td>1e+20</td><td>1e+20</td><td>1</td><td>1e+20</td><td>1</td><td>1e+20</td><td>26.27253937879331</td><td>1e+20</td><td>112.45641861737741</td><td>1</td><td>1e+20</td><td>1e+20</td><td>1e+20</td><td>1e+20</td><td>1</td><td>0.16681531585617515</td><td>25.11016882958582</td><td>50.40157063369175</td><td>328.0442789848756</td><td>1</td><td>1e+20</td><td>1</td><td>0.17461877711707496</td><td>24.740291262716543</td><td>74.17372971387269</td><td>461.1938367790834</td><td>1</td><td>1e+20</td><td>1e+20</td><td>1e+20</td><td>1e+20</td><td>1</td><td>0.2972927340952284</td><td>24.37326587048529</td><td>177.07352257014745</td><td>646.6862869809726</td><td>1</td><td>1e+20</td><td>1</td><td>0.4446371558954903</td><td>24.674372108642146</td><td>200.69316780834146</td><td>490.0621449376383</td><td>1</td><td>1e+20</td><td>1e+20</td><td>1e+20</td><td>1e+20</td><td>1</td><td>0.5954900977922212</td><td>0.16608453581743288</td><td>25.675484502866762</td><td>29.81337040987296</td><td>194.8974688133858</td><td>1</td><td>1e+20</td><td>1</td><td>0.17853643084534418</td><td>25.658718788199547</td><td>32.54730346448694</td><td>197.93039197279714</td><td>1</td><td>1e+20</td><td>1e+20</td><td>1e+20</td><td>1e+20</td><td>1</td><td>0.15058473248148257</td><td>25.593875690168883</td><td>29.141127141300505</td><td>210.11145196051297</td><td>1</td><td>1e+20</td><td>1</td><td>0.14886284716332704</td><td>25.183559031958957</td><td>42.037645967884714</td><td>306.60299100728923</td><td>1</td><td>1e+20</td><td>1e+20</td><td>1e+20</td><td>1e+20</td><td>1</td><td>0.14305500035384042</td><td>25.99903443039892</td><td>19.061845739172078</td><td>144.67258045746465</td><td>1</td><td>1e+20</td><td>1</td><td>0.1352956377354299</td><td>25.84071538843428</td><td>20.85803148824726</td><td>167.3839624530979</td><td>1</td></tr>\n",
       "<tr><td>149940984795365378</td><td>1e+20</td><td>1e+20</td><td>1e+20</td><td>1e+20</td><td>1</td><td>1e+20</td><td>1e+20</td><td>1e+20</td><td>1e+20</td><td>1</td><td>1e+20</td><td>1</td><td>1e+20</td><td>27.187471929333373</td><td>1e+20</td><td>48.418488555738946</td><td>1</td><td>1e+20</td><td>1e+20</td><td>1e+20</td><td>1e+20</td><td>1</td><td>1e+20</td><td>1e+20</td><td>1e+20</td><td>1e+20</td><td>1</td><td>1e+20</td><td>1</td><td>1e+20</td><td>26.962226688680463</td><td>1e+20</td><td>59.58121078558372</td><td>1</td><td>1e+20</td><td>1e+20</td><td>1e+20</td><td>1e+20</td><td>1</td><td>0</td><td>1</td><td>0</td><td>0</td><td>0.5950252060459287</td><td>-0.09909190750765438</td><td>1e+20</td><td>1e+20</td><td>1e+20</td><td>1e+20</td><td>1</td><td>1e+20</td><td>1</td><td>1e+20</td><td>26.110967646330806</td><td>1e+20</td><td>130.5007301242264</td><td>1</td><td>1e+20</td><td>1e+20</td><td>1e+20</td><td>1e+20</td><td>1</td><td>1e+20</td><td>1e+20</td><td>1e+20</td><td>1e+20</td><td>1</td><td>1e+20</td><td>1</td><td>1e+20</td><td>26.547754516869126</td><td>1e+20</td><td>87.27667515591675</td><td>1</td><td>1e+20</td><td>1e+20</td><td>1e+20</td><td>1e+20</td><td>1</td><td>1e+20</td><td>1e+20</td><td>1e+20</td><td>1e+20</td><td>1</td><td>1e+20</td><td>1</td><td>1e+20</td><td>26.276823317912296</td><td>1e+20</td><td>112.01357874937145</td><td>1</td><td>1e+20</td><td>1e+20</td><td>1e+20</td><td>1e+20</td><td>1</td><td>0.3860318545319022</td><td>26.003174934254524</td><td>51.24232770518631</td><td>144.1219157239355</td><td>1</td><td>1e+20</td><td>1</td><td>0.47747139178832126</td><td>25.82187469447463</td><td>74.89850648278707</td><td>170.31391109339012</td><td>1</td><td>1e+20</td><td>1e+20</td><td>1e+20</td><td>1e+20</td><td>1</td><td>0.7702039539992835</td><td>25.43064746057427</td><td>173.2297344459139</td><td>244.1973888240258</td><td>1</td><td>1e+20</td><td>1</td><td>1.8478279191543163</td><td>26.241185687079</td><td>196.99850476806213</td><td>115.75125946131986</td><td>1</td><td>1e+20</td><td>1e+20</td><td>1e+20</td><td>1e+20</td><td>1</td><td>0.5950252060459278</td><td>0.21994610167306755</td><td>25.78486091713539</td><td>35.69830387848156</td><td>176.22017700926145</td><td>1</td><td>1e+20</td><td>1</td><td>0.2884452338905905</td><td>25.9772551114541</td><td>39.213626028902155</td><td>147.60394174366596</td><td>1</td><td>1e+20</td><td>1e+20</td><td>1e+20</td><td>1e+20</td><td>1</td><td>0.12808765098633</td><td>25.478055356256093</td><td>27.57787499363332</td><td>233.76412246077587</td><td>1</td><td>1e+20</td><td>1</td><td>0.17533168230781768</td><td>25.41895513826022</td><td>39.861535548591995</td><td>246.84136804423855</td><td>1</td><td>1e+20</td><td>1e+20</td><td>1e+20</td><td>1e+20</td><td>1</td><td>0.11205400040856382</td><td>25.74116668475455</td><td>18.93373838048069</td><td>183.45659392929042</td><td>1</td><td>1e+20</td><td>1</td><td>0.12851692868063036</td><td>25.76156693944755</td><td>21.3112656357934</td><td>180.04174942196556</td><td>1</td></tr>\n",
       "<tr><td>149940984795365379</td><td>1e+20</td><td>1e+20</td><td>1e+20</td><td>1e+20</td><td>1</td><td>1e+20</td><td>1e+20</td><td>1e+20</td><td>1e+20</td><td>1</td><td>1e+20</td><td>1</td><td>1e+20</td><td>27.186584806142847</td><td>1e+20</td><td>48.458066048434596</td><td>1</td><td>1e+20</td><td>1e+20</td><td>1e+20</td><td>1e+20</td><td>1</td><td>1e+20</td><td>1e+20</td><td>1e+20</td><td>1e+20</td><td>1</td><td>1e+20</td><td>1</td><td>1e+20</td><td>26.96134014492697</td><td>1e+20</td><td>59.629880914828135</td><td>1</td><td>1e+20</td><td>1e+20</td><td>1e+20</td><td>1e+20</td><td>1</td><td>0</td><td>1</td><td>0</td><td>0</td><td>0.5947722992282655</td><td>-0.0990894078637994</td><td>1e+20</td><td>1e+20</td><td>1e+20</td><td>1e+20</td><td>1</td><td>1e+20</td><td>1</td><td>1e+20</td><td>26.11008510455621</td><td>1e+20</td><td>130.6068508993372</td><td>1</td><td>1e+20</td><td>1e+20</td><td>1e+20</td><td>1e+20</td><td>1</td><td>1e+20</td><td>1e+20</td><td>1e+20</td><td>1e+20</td><td>1</td><td>1e+20</td><td>1</td><td>1e+20</td><td>26.54686899701788</td><td>1e+20</td><td>87.34788651767661</td><td>1</td><td>1e+20</td><td>1e+20</td><td>1e+20</td><td>1e+20</td><td>1</td><td>1e+20</td><td>1e+20</td><td>1e+20</td><td>1e+20</td><td>1</td><td>1e+20</td><td>1</td><td>1e+20</td><td>26.275939013579574</td><td>1e+20</td><td>112.10484810378962</td><td>1</td><td>1e+20</td><td>1e+20</td><td>1e+20</td><td>1e+20</td><td>1</td><td>0.10838014731691423</td><td>24.50850400786927</td><td>56.99330129311569</td><td>570.950420114135</td><td>1</td><td>1e+20</td><td>1</td><td>0.10118628679752419</td><td>24.041669644819727</td><td>81.79551311221933</td><td>877.671795096228</td><td>1</td><td>1e+20</td><td>1e+20</td><td>1e+20</td><td>1e+20</td><td>1</td><td>0.2351189997573474</td><td>24.162680686973598</td><td>170.016523209807</td><td>785.1049674696474</td><td>1</td><td>1e+20</td><td>1</td><td>0.23551388112902205</td><td>24.03932454837217</td><td>190.79297068238833</td><td>879.5695391293792</td><td>1</td><td>1e+20</td><td>1e+20</td><td>1e+20</td><td>1e+20</td><td>1</td><td>0.5947722992282646</td><td>0.10902646541658419</td><td>25.058497614638043</td><td>34.54685895390119</td><td>344.03367460922533</td><td>1</td><td>1e+20</td><td>1</td><td>0.10321119721419718</td><td>24.901436628532373</td><td>37.794433871205264</td><td>397.5807499562652</td><td>1</td><td>1e+20</td><td>1e+20</td><td>1e+20</td><td>1e+20</td><td>1</td><td>0.06660002004719119</td><td>24.780040873129636</td><td>27.273048868995325</td><td>444.61452939840086</td><td>1</td><td>1e+20</td><td>1</td><td>0.06546529592414388</td><td>24.39580867872879</td><td>38.19120346606035</td><td>633.397767794909</td><td>1</td><td>1e+20</td><td>1e+20</td><td>1e+20</td><td>1e+20</td><td>1</td><td>0.09010665312111574</td><td>25.436054405594714</td><td>20.16558273494316</td><td>242.9843136659845</td><td>1</td><td>1e+20</td><td>1</td><td>0.09357285340065438</td><td>25.361939749469688</td><td>22.42072506965045</td><td>260.15016172283885</td><td>1</td></tr>\n",
       "<tr><td>149940984795365380</td><td>1e+20</td><td>1e+20</td><td>1e+20</td><td>1e+20</td><td>1</td><td>1e+20</td><td>1e+20</td><td>1e+20</td><td>1e+20</td><td>1</td><td>1e+20</td><td>1</td><td>1e+20</td><td>27.18675703846181</td><td>1e+20</td><td>48.45037966650107</td><td>1</td><td>1e+20</td><td>1e+20</td><td>1e+20</td><td>1e+20</td><td>1</td><td>1e+20</td><td>1e+20</td><td>1e+20</td><td>1e+20</td><td>1</td><td>1e+20</td><td>1</td><td>1e+20</td><td>26.961512523800923</td><td>1e+20</td><td>59.62041442034508</td><td>1</td><td>1e+20</td><td>1e+20</td><td>1e+20</td><td>1e+20</td><td>1</td><td>0</td><td>1</td><td>0</td><td>2</td><td>0.5945946925184682</td><td>-0.09908447794908884</td><td>1e+20</td><td>1e+20</td><td>1e+20</td><td>1e+20</td><td>1</td><td>1e+20</td><td>1</td><td>1e+20</td><td>26.110257449040954</td><td>1e+20</td><td>130.58612064837502</td><td>1</td><td>1e+20</td><td>1e+20</td><td>1e+20</td><td>1e+20</td><td>1</td><td>1e+20</td><td>1e+20</td><td>1e+20</td><td>1e+20</td><td>1</td><td>1e+20</td><td>1</td><td>1e+20</td><td>26.54704125043186</td><td>1e+20</td><td>87.33402976488259</td><td>1</td><td>1e+20</td><td>1e+20</td><td>1e+20</td><td>1e+20</td><td>1</td><td>1e+20</td><td>1e+20</td><td>1e+20</td><td>1e+20</td><td>1</td><td>1e+20</td><td>1</td><td>1e+20</td><td>26.27611129839359</td><td>1e+20</td><td>112.08706069785153</td><td>1</td><td>0.3008209587640858</td><td>24.712871215313797</td><td>131.04947486179827</td><td>472.9895152803487</td><td>0</td><td>0.3558489853336932</td><td>25.670607014960495</td><td>64.16506017084811</td><td>195.77498258887786</td><td>1</td><td>1e+20</td><td>1</td><td>0.4053266187465617</td><td>25.422946126726522</td><td>91.81261458525962</td><td>245.9356851937972</td><td>1</td><td>0.4098439099981904</td><td>24.3064451964203</td><td>259.60681414155033</td><td>687.7362582175259</td><td>0</td><td>0.5396949447698998</td><td>25.021935952521744</td><td>176.86815648273802</td><td>355.81611950063433</td><td>1</td><td>1e+20</td><td>1</td><td>0.4117939084884658</td><td>24.60407711878714</td><td>198.3009297742441</td><td>522.8404171479547</td><td>1</td><td>1e+20</td><td>1e+20</td><td>1e+20</td><td>1e+20</td><td>1</td><td>0.5945946925184673</td><td>0.9201060193006747</td><td>1e+20</td><td>34.8918933956407</td><td>-41.17285521183895</td><td>1</td><td>1e+20</td><td>1</td><td>0.5485909909894912</td><td>1e+20</td><td>38.263800503099624</td><td>-75.72926683124005</td><td>1</td><td>1e+20</td><td>1e+20</td><td>1e+20</td><td>1e+20</td><td>1</td><td>0.03951120182555724</td><td>24.054749012741347</td><td>31.55704396569626</td><td>867.1623126011369</td><td>1</td><td>1e+20</td><td>1</td><td>0.037673701214696265</td><td>23.65254715420201</td><td>43.580790895191456</td><td>1255.975414713027</td><td>1</td><td>2.7714467559565077</td><td>28.93667714173533</td><td>24.678079719599214</td><td>9.667833075952005</td><td>0</td><td>2.5107160452728015</td><td>29.086825955234602</td><td>19.468966416570666</td><td>8.419176572153601</td><td>1</td><td>1e+20</td><td>1</td><td>0.9781061130265334</td><td>27.929413718511515</td><td>22.023998348411688</td><td>24.447503253417597</td><td>1</td></tr>\n",
       "<tr><td>149940984795365381</td><td>1e+20</td><td>1e+20</td><td>1e+20</td><td>1e+20</td><td>1</td><td>1e+20</td><td>1e+20</td><td>1e+20</td><td>1e+20</td><td>1</td><td>1e+20</td><td>1</td><td>1e+20</td><td>27.18637295405838</td><td>1e+20</td><td>48.46752225324974</td><td>1</td><td>1e+20</td><td>1e+20</td><td>1e+20</td><td>1e+20</td><td>1</td><td>1e+20</td><td>1e+20</td><td>1e+20</td><td>1e+20</td><td>1</td><td>1e+20</td><td>1</td><td>1e+20</td><td>26.961128830780066</td><td>1e+20</td><td>59.64148766023779</td><td>1</td><td>1e+20</td><td>1e+20</td><td>1e+20</td><td>1e+20</td><td>1</td><td>0</td><td>1</td><td>0</td><td>0</td><td>0.5941830014787479</td><td>-0.09909088098284798</td><td>1e+20</td><td>1e+20</td><td>1e+20</td><td>1e+20</td><td>1</td><td>1e+20</td><td>1</td><td>1e+20</td><td>26.109858737254534</td><td>1e+20</td><td>130.6340842204225</td><td>1</td><td>1e+20</td><td>1e+20</td><td>1e+20</td><td>1e+20</td><td>1</td><td>1e+20</td><td>1e+20</td><td>1e+20</td><td>1e+20</td><td>1</td><td>1e+20</td><td>1</td><td>1e+20</td><td>26.546650564417146</td><td>1e+20</td><td>87.36546127047777</td><td>1</td><td>1e+20</td><td>1e+20</td><td>1e+20</td><td>1e+20</td><td>1</td><td>1e+20</td><td>1e+20</td><td>1e+20</td><td>1e+20</td><td>1</td><td>1e+20</td><td>1</td><td>1e+20</td><td>26.275717335936385</td><td>1e+20</td><td>112.12773918501422</td><td>1</td><td>1e+20</td><td>1e+20</td><td>1e+20</td><td>1e+20</td><td>1</td><td>0.13790975496780988</td><td>24.760381413618113</td><td>57.50665430722689</td><td>452.73850722481495</td><td>1</td><td>1e+20</td><td>1</td><td>0.2979478786916605</td><td>25.178989383583673</td><td>84.49290153804445</td><td>307.89614159278926</td><td>1</td><td>1e+20</td><td>1e+20</td><td>1e+20</td><td>1e+20</td><td>1</td><td>0.5424189141109697</td><td>24.952016212539597</td><td>189.58502053976324</td><td>379.48403959549853</td><td>1</td><td>1e+20</td><td>1</td><td>0.34265203349131035</td><td>24.314495963363193</td><td>215.44211712807365</td><td>682.6555331142463</td><td>1</td><td>1e+20</td><td>1e+20</td><td>1e+20</td><td>1e+20</td><td>1</td><td>0.594183001478747</td><td>0.1871723150894929</td><td>25.592211604618406</td><td>36.277107357098274</td><td>210.4337323747199</td><td>1</td><td>1e+20</td><td>1</td><td>0.24908466998457857</td><td>25.807729209195173</td><td>39.585031592343405</td><td>172.54735897220215</td><td>1</td><td>1e+20</td><td>1e+20</td><td>1e+20</td><td>1e+20</td><td>1</td><td>0.11204178737925806</td><td>25.205786470738936</td><td>30.998531482214336</td><td>300.389959066339</td><td>1</td><td>1e+20</td><td>1</td><td>0.1814132220564453</td><td>25.347972996028773</td><td>44.03068261560944</td><td>263.5183130207961</td><td>1</td><td>1e+20</td><td>1e+20</td><td>1e+20</td><td>1e+20</td><td>1</td><td>0.10665933519414963</td><td>25.68008996656111</td><td>19.065077095129386</td><td>194.0725058055895</td><td>1</td><td>1e+20</td><td>1</td><td>0.1294148675589359</td><td>25.754381704014552</td><td>21.602657026572324</td><td>181.23718932093175</td><td>1</td></tr>\n",
       "<tr><td>149940984795365382</td><td>1e+20</td><td>1e+20</td><td>1e+20</td><td>1e+20</td><td>1</td><td>1e+20</td><td>1e+20</td><td>1e+20</td><td>1e+20</td><td>1</td><td>1e+20</td><td>1</td><td>1e+20</td><td>27.186677490019584</td><td>1e+20</td><td>48.45392960193222</td><td>1</td><td>1e+20</td><td>1e+20</td><td>1e+20</td><td>1e+20</td><td>1</td><td>1e+20</td><td>1e+20</td><td>1e+20</td><td>1e+20</td><td>1</td><td>1e+20</td><td>1</td><td>1e+20</td><td>26.961432826398188</td><td>1e+20</td><td>59.62479095909884</td><td>1</td><td>1e+20</td><td>1e+20</td><td>1e+20</td><td>1e+20</td><td>1</td><td>0</td><td>1</td><td>0</td><td>2</td><td>0.5936305380921781</td><td>-0.09908744622092829</td><td>1e+20</td><td>1e+20</td><td>1e+20</td><td>1e+20</td><td>1</td><td>1e+20</td><td>1</td><td>1e+20</td><td>26.110177831842066</td><td>1e+20</td><td>130.59569689931584</td><td>1</td><td>1e+20</td><td>1e+20</td><td>1e+20</td><td>1e+20</td><td>1</td><td>1e+20</td><td>1e+20</td><td>1e+20</td><td>1e+20</td><td>1</td><td>1e+20</td><td>1</td><td>1e+20</td><td>26.54696168642417</td><td>1e+20</td><td>87.34042993832657</td><td>1</td><td>1e+20</td><td>1e+20</td><td>1e+20</td><td>1e+20</td><td>1</td><td>1e+20</td><td>1e+20</td><td>1e+20</td><td>1e+20</td><td>1</td><td>1e+20</td><td>1</td><td>1e+20</td><td>26.27603176359559</td><td>1e+20</td><td>112.09527185284878</td><td>1</td><td>1e+20</td><td>1e+20</td><td>1e+20</td><td>1e+20</td><td>1</td><td>0.0041465323519707786</td><td>21.053773880551937</td><td>52.535296294038645</td><td>13755.945540138719</td><td>1</td><td>1e+20</td><td>1</td><td>0.006153754807905593</td><td>21.153902540280832</td><td>71.09758547182473</td><td>12544.084876192543</td><td>1</td><td>1e+20</td><td>1e+20</td><td>1e+20</td><td>1e+20</td><td>1</td><td>0.00916029632018823</td><td>20.799638192113218</td><td>146.66616145208715</td><td>17383.80025441797</td><td>1</td><td>1e+20</td><td>1</td><td>0.012387237146015079</td><td>21.002682310728762</td><td>164.50428227046643</td><td>14418.73219939555</td><td>1</td><td>1e+20</td><td>1e+20</td><td>1e+20</td><td>1e+20</td><td>1</td><td>0.5936305380921773</td><td>0.014452316575958885</td><td>22.86147380890069</td><td>34.64364842799745</td><td>2602.618283753812</td><td>1</td><td>1e+20</td><td>1</td><td>0.018039382639188452</td><td>23.02165700596511</td><td>37.310798899800226</td><td>2245.6248090198123</td><td>1</td><td>1e+20</td><td>1e+20</td><td>1e+20</td><td>1e+20</td><td>1</td><td>0.0036502749559044396</td><td>21.58975995203628</td><td>28.229115977898758</td><td>8396.456052151496</td><td>1</td><td>1e+20</td><td>1</td><td>0.005306600928273969</td><td>21.689663853128355</td><td>37.43058092401464</td><td>7658.3367439221065</td><td>1</td><td>1e+20</td><td>1e+20</td><td>1e+20</td><td>1e+20</td><td>1</td><td>0.028224620140171457</td><td>24.138481865552723</td><td>20.869451721535878</td><td>802.7997965958002</td><td>1</td><td>1e+20</td><td>1</td><td>0.03514446009494069</td><td>24.26531185589402</td><td>23.12106387726348</td><td>714.2911308426716</td><td>1</td></tr>\n",
       "<tr><td>149940984795365383</td><td>1e+20</td><td>1e+20</td><td>1e+20</td><td>1e+20</td><td>1</td><td>1e+20</td><td>1e+20</td><td>1e+20</td><td>1e+20</td><td>1</td><td>1e+20</td><td>1</td><td>1e+20</td><td>27.185051751953225</td><td>1e+20</td><td>48.5265369286394</td><td>1</td><td>1e+20</td><td>1e+20</td><td>1e+20</td><td>1e+20</td><td>1</td><td>1e+20</td><td>1e+20</td><td>1e+20</td><td>1e+20</td><td>1</td><td>1e+20</td><td>1</td><td>1e+20</td><td>26.959807177449747</td><td>1e+20</td><td>59.71413271572734</td><td>1</td><td>1e+20</td><td>1e+20</td><td>1e+20</td><td>1e+20</td><td>1</td><td>0</td><td>1</td><td>0</td><td>0</td><td>0.5934799391428044</td><td>-0.09909227930637547</td><td>1e+20</td><td>1e+20</td><td>1e+20</td><td>1e+20</td><td>1</td><td>1e+20</td><td>1</td><td>1e+20</td><td>26.1085522034937</td><td>1e+20</td><td>130.7913789439707</td><td>1</td><td>1e+20</td><td>1e+20</td><td>1e+20</td><td>1e+20</td><td>1</td><td>1e+20</td><td>1e+20</td><td>1e+20</td><td>1e+20</td><td>1</td><td>1e+20</td><td>1</td><td>1e+20</td><td>26.545336037472296</td><td>1e+20</td><td>87.47130079466551</td><td>1</td><td>1e+20</td><td>1e+20</td><td>1e+20</td><td>1e+20</td><td>1</td><td>1e+20</td><td>1e+20</td><td>1e+20</td><td>1e+20</td><td>1</td><td>1e+20</td><td>1</td><td>1e+20</td><td>26.274406065899765</td><td>1e+20</td><td>112.26324039191555</td><td>1</td><td>1e+20</td><td>1e+20</td><td>1e+20</td><td>1e+20</td><td>1</td><td>0.0746802905651784</td><td>24.31635788299878</td><td>46.87470265664137</td><td>681.4858562604205</td><td>1</td><td>1e+20</td><td>1</td><td>0.05570751268535158</td><td>23.600274136572065</td><td>67.62072040244179</td><td>1317.9239350972362</td><td>1</td><td>1e+20</td><td>1e+20</td><td>1e+20</td><td>1e+20</td><td>1</td><td>0.1697930252282073</td><td>23.908753543181398</td><td>155.1293986739209</td><td>991.9701020478246</td><td>1</td><td>1e+20</td><td>1</td><td>0.12379944457086066</td><td>23.4664010915332</td><td>169.9941356536639</td><td>1490.869270985329</td><td>1</td><td>1e+20</td><td>1e+20</td><td>1e+20</td><td>1e+20</td><td>1</td><td>0.5934799391428035</td><td>0.04184336351869108</td><td>24.091926206890708</td><td>32.2947394212359</td><td>837.9720190802258</td><td>1</td><td>1e+20</td><td>1</td><td>0.040011691395175325</td><td>23.941671459919736</td><td>35.464513495898714</td><td>962.3463778707824</td><td>1</td><td>1e+20</td><td>1e+20</td><td>1e+20</td><td>1e+20</td><td>1</td><td>0.03653491311177573</td><td>24.245441121035686</td><td>24.47976872457019</td><td>727.4841767669328</td><td>1</td><td>1e+20</td><td>1</td><td>0.02988988560817356</td><td>23.64950502293336</td><td>34.6735192840532</td><td>1259.4994750592532</td><td>1</td><td>1e+20</td><td>1e+20</td><td>1e+20</td><td>1e+20</td><td>1</td><td>0.047408971463575506</td><td>24.72172653136675</td><td>20.485454360142043</td><td>469.1474795401321</td><td>1</td><td>1e+20</td><td>1</td><td>0.041535632393459386</td><td>24.451016271820443</td><td>23.029791092956003</td><td>601.9958415650858</td><td>1</td></tr>\n",
       "<tr><td>149940984795365384</td><td>1e+20</td><td>1e+20</td><td>1e+20</td><td>1e+20</td><td>1</td><td>1e+20</td><td>1e+20</td><td>1e+20</td><td>1e+20</td><td>1</td><td>1e+20</td><td>1</td><td>1e+20</td><td>27.185051751953225</td><td>1e+20</td><td>48.5265369286394</td><td>1</td><td>1e+20</td><td>1e+20</td><td>1e+20</td><td>1e+20</td><td>1</td><td>1e+20</td><td>1e+20</td><td>1e+20</td><td>1e+20</td><td>1</td><td>1e+20</td><td>1</td><td>1e+20</td><td>26.959807177449747</td><td>1e+20</td><td>59.71413271572734</td><td>1</td><td>1e+20</td><td>1e+20</td><td>1e+20</td><td>1e+20</td><td>1</td><td>0</td><td>1</td><td>0</td><td>0</td><td>0.5933809050897466</td><td>-0.09909224292324734</td><td>1e+20</td><td>1e+20</td><td>1e+20</td><td>1e+20</td><td>1</td><td>1e+20</td><td>1</td><td>1e+20</td><td>26.1085522034937</td><td>1e+20</td><td>130.7913789439707</td><td>1</td><td>1e+20</td><td>1e+20</td><td>1e+20</td><td>1e+20</td><td>1</td><td>1e+20</td><td>1e+20</td><td>1e+20</td><td>1e+20</td><td>1</td><td>1e+20</td><td>1</td><td>1e+20</td><td>26.545336037472296</td><td>1e+20</td><td>87.47130079466551</td><td>1</td><td>1e+20</td><td>1e+20</td><td>1e+20</td><td>1e+20</td><td>1</td><td>1e+20</td><td>1e+20</td><td>1e+20</td><td>1e+20</td><td>1</td><td>1e+20</td><td>1</td><td>1e+20</td><td>26.274406065899765</td><td>1e+20</td><td>112.26324039191555</td><td>1</td><td>1e+20</td><td>1e+20</td><td>1e+20</td><td>1e+20</td><td>1</td><td>0.0376981140662536</td><td>23.427536659820476</td><td>53.65134826104416</td><td>1545.2022649920243</td><td>1</td><td>1e+20</td><td>1</td><td>0.04732278022411112</td><td>23.25543276061669</td><td>78.91741067866835</td><td>1810.6182594052243</td><td>1</td><td>1e+20</td><td>1e+20</td><td>1e+20</td><td>1e+20</td><td>1</td><td>0.09051380349207441</td><td>23.103879889327438</td><td>173.55556315500078</td><td>2081.843334216645</td><td>1</td><td>1e+20</td><td>1</td><td>0.09717395484153586</td><td>23.08934702778143</td><td>188.83684993325818</td><td>2109.8966806420417</td><td>1</td><td>1e+20</td><td>1e+20</td><td>1e+20</td><td>1e+20</td><td>1</td><td>0.5933809050897457</td><td>0.05743520928480457</td><td>24.38785628731294</td><td>33.75292178380059</td><td>638.0540726389787</td><td>1</td><td>1e+20</td><td>1</td><td>0.06087432352026736</td><td>24.361441187012673</td><td>36.65501092437576</td><td>653.7677980626653</td><td>1</td><td>1e+20</td><td>1e+20</td><td>1e+20</td><td>1e+20</td><td>1</td><td>0.02937093378519123</td><td>23.87840636843601</td><td>27.595031035792402</td><td>1020.0875629664275</td><td>1</td><td>1e+20</td><td>1</td><td>0.0346332143802729</td><td>23.67154101384257</td><td>39.368790791191664</td><td>1234.1944651805786</td><td>1</td><td>1e+20</td><td>1e+20</td><td>1e+20</td><td>1e+20</td><td>1</td><td>0.06611807091098416</td><td>25.132772666894354</td><td>19.565312422814106</td><td>321.28535757573377</td><td>1</td><td>1e+20</td><td>1</td><td>0.07203026627465745</td><td>25.082325603491565</td><td>22.32854679456634</td><td>336.5656259280855</td><td>1</td></tr>\n",
       "<tr><td>149940984795365385</td><td>1e+20</td><td>1e+20</td><td>1e+20</td><td>1e+20</td><td>1</td><td>1e+20</td><td>1e+20</td><td>1e+20</td><td>1e+20</td><td>1</td><td>1e+20</td><td>1</td><td>1e+20</td><td>27.186813917249964</td><td>1e+20</td><td>48.447841548415035</td><td>1</td><td>1e+20</td><td>1e+20</td><td>1e+20</td><td>1e+20</td><td>1</td><td>1e+20</td><td>1e+20</td><td>1e+20</td><td>1e+20</td><td>1</td><td>1e+20</td><td>1</td><td>1e+20</td><td>26.961570239365436</td><td>1e+20</td><td>59.61724520262683</td><td>1</td><td>1e+20</td><td>1e+20</td><td>1e+20</td><td>1e+20</td><td>1</td><td>0</td><td>1</td><td>0</td><td>2</td><td>0.5930805316614368</td><td>-0.09908642568945121</td><td>1e+20</td><td>1e+20</td><td>1e+20</td><td>1e+20</td><td>1</td><td>1e+20</td><td>1</td><td>1e+20</td><td>26.110322128054797</td><td>1e+20</td><td>130.57834165943024</td><td>1</td><td>1e+20</td><td>1e+20</td><td>1e+20</td><td>1e+20</td><td>1</td><td>1e+20</td><td>1e+20</td><td>1e+20</td><td>1e+20</td><td>1</td><td>1e+20</td><td>1</td><td>1e+20</td><td>26.547100607443884</td><td>1e+20</td><td>87.32925535896939</td><td>1</td><td>1e+20</td><td>1e+20</td><td>1e+20</td><td>1e+20</td><td>1</td><td>1e+20</td><td>1e+20</td><td>1e+20</td><td>1e+20</td><td>1</td><td>1e+20</td><td>1</td><td>1e+20</td><td>26.27617402668797</td><td>1e+20</td><td>112.08058506684283</td><td>1</td><td>1e+20</td><td>1e+20</td><td>1e+20</td><td>1e+20</td><td>1</td><td>0.2556668220525565</td><td>25.505922432196183</td><td>53.65140262310128</td><td>227.84055356225235</td><td>1</td><td>1e+20</td><td>1</td><td>0.28695581686330857</td><td>25.26354300147357</td><td>75.27894294476958</td><td>284.8280780800183</td><td>1</td><td>1e+20</td><td>1e+20</td><td>1e+20</td><td>1e+20</td><td>1</td><td>1.1512294260230316</td><td>25.93578831168403</td><td>162.60063496888768</td><td>153.35031602888353</td><td>1</td><td>1e+20</td><td>1</td><td>1.108902323170969</td><td>25.761441354425706</td><td>183.9045319164411</td><td>180.06257570982828</td><td>1</td><td>1e+20</td><td>1e+20</td><td>1e+20</td><td>1e+20</td><td>1</td><td>0.5930805316614359</td><td>0.150874767647599</td><td>25.315614997812382</td><td>37.72648079383338</td><td>271.4901021199946</td><td>1</td><td>1e+20</td><td>1</td><td>0.17908111070140598</td><td>25.408583610523692</td><td>41.10475037569389</td><td>249.21062581998936</td><td>1</td><td>1e+20</td><td>1e+20</td><td>1e+20</td><td>1e+20</td><td>1</td><td>0.10789012463955756</td><td>25.353915833497762</td><td>26.043001829084176</td><td>262.07987117341446</td><td>1</td><td>1e+20</td><td>1</td><td>0.11466441340641158</td><td>25.01600735945384</td><td>37.78343078631337</td><td>357.7643448911544</td><td>1</td><td>1e+20</td><td>1e+20</td><td>1e+20</td><td>1e+20</td><td>1</td><td>0.08415498003654036</td><td>25.371821702397277</td><td>19.98144170721333</td><td>257.79311783290484</td><td>1</td><td>1e+20</td><td>1</td><td>0.09778836600400877</td><td>25.387329828445058</td><td>22.889217079771914</td><td>254.13709930542998</td><td>1</td></tr>\n",
       "<tr><td>...</td><td>...</td><td>...</td><td>...</td><td>...</td><td>...</td><td>...</td><td>...</td><td>...</td><td>...</td><td>...</td><td>...</td><td>...</td><td>...</td><td>...</td><td>...</td><td>...</td><td>...</td><td>...</td><td>...</td><td>...</td><td>...</td><td>...</td><td>...</td><td>...</td><td>...</td><td>...</td><td>...</td><td>...</td><td>...</td><td>...</td><td>...</td><td>...</td><td>...</td><td>...</td><td>...</td><td>...</td><td>...</td><td>...</td><td>...</td><td>...</td><td>...</td><td>...</td><td>...</td><td>...</td><td>...</td><td>...</td><td>...</td><td>...</td><td>...</td><td>...</td><td>...</td><td>...</td><td>...</td><td>...</td><td>...</td><td>...</td><td>...</td><td>...</td><td>...</td><td>...</td><td>...</td><td>...</td><td>...</td><td>...</td><td>...</td><td>...</td><td>...</td><td>...</td><td>...</td><td>...</td><td>...</td><td>...</td><td>...</td><td>...</td><td>...</td><td>...</td><td>...</td><td>...</td><td>...</td><td>...</td><td>...</td><td>...</td><td>...</td><td>...</td><td>...</td><td>...</td><td>...</td><td>...</td><td>...</td><td>...</td><td>...</td><td>...</td><td>...</td><td>...</td><td>...</td><td>...</td><td>...</td><td>...</td><td>...</td><td>...</td><td>...</td><td>...</td><td>...</td><td>...</td><td>...</td><td>...</td><td>...</td><td>...</td><td>...</td><td>...</td><td>...</td><td>...</td><td>...</td><td>...</td><td>...</td><td>...</td><td>...</td><td>...</td><td>...</td><td>...</td><td>...</td><td>...</td><td>...</td><td>...</td><td>...</td><td>...</td><td>...</td><td>...</td><td>...</td><td>...</td><td>...</td><td>...</td><td>...</td><td>...</td><td>...</td><td>...</td><td>...</td><td>...</td><td>...</td><td>...</td><td>...</td><td>...</td><td>...</td><td>...</td><td>...</td><td>...</td><td>...</td><td>...</td><td>...</td><td>...</td><td>...</td><td>...</td><td>...</td><td>...</td><td>...</td><td>...</td><td>...</td><td>...</td><td>...</td><td>...</td><td>...</td><td>...</td><td>...</td><td>...</td><td>...</td><td>...</td><td>...</td><td>...</td><td>...</td><td>...</td><td>...</td><td>...</td><td>...</td><td>...</td><td>...</td><td>...</td><td>...</td></tr>\n",
       "<tr><td>149940984795394905</td><td>0.12557487561045552</td><td>25.438762269913337</td><td>28.033255075398376</td><td>242.37905731236415</td><td>0</td><td>0.32492300379276806</td><td>27.45013817460611</td><td>11.376295638790351</td><td>38.01410151601464</td><td>1</td><td>1e+20</td><td>1</td><td>0.17444018886394214</td><td>27.030024834299535</td><td>8.993159469236174</td><td>55.97447981742833</td><td>1</td><td>0.29257658745292114</td><td>26.83267734868152</td><td>18.090239251904663</td><td>67.13191878926405</td><td>0</td><td>0.25553184415763563</td><td>26.67461172319321</td><td>18.27578414617362</td><td>77.65247647805703</td><td>1</td><td>1e+20</td><td>1</td><td>0.3434883685042323</td><td>27.211744419198386</td><td>14.979245807257644</td><td>47.34806469206728</td><td>1</td><td>0.07505642631025503</td><td>23.964531641443415</td><td>65.14047270613713</td><td>942.2959910156098</td><td>0</td><td>0</td><td>1</td><td>1</td><td>0</td><td>0.5933038639790527</td><td>-0.09836339248880757</td><td>0.07392954562850722</td><td>23.858346281230833</td><td>70.75468544610023</td><td>1039.1099119035027</td><td>0</td><td>0.0</td><td>0</td><td>0.11242462795437039</td><td>24.399165834742348</td><td>65.38389751255319</td><td>631.4422918649681</td><td>0</td><td>0.16646686681849493</td><td>24.218669591869396</td><td>114.32353603530228</td><td>745.6450914333403</td><td>0</td><td>0.907206435269086</td><td>1e+20</td><td>29.86213630078789</td><td>-35.73872635016154</td><td>1</td><td>1e+20</td><td>1</td><td>0.24741812689117745</td><td>1e+20</td><td>25.46715275075594</td><td>-111.75660458282812</td><td>1</td><td>1e+20</td><td>1e+20</td><td>1e+20</td><td>1e+20</td><td>1</td><td>0.18145808392657628</td><td>1e+20</td><td>43.13852063839007</td><td>-258.11500189629265</td><td>1</td><td>1e+20</td><td>1</td><td>4.379342512785743</td><td>1e+20</td><td>41.97261183676395</td><td>-10.4059420212935</td><td>1</td><td>0.33377992425313496</td><td>25.765080703825276</td><td>55.17007956207259</td><td>179.4600227499037</td><td>0</td><td>0.33589484591434876</td><td>25.774832900756145</td><td>55.02320196095165</td><td>177.85531155770468</td><td>0</td><td>0.0</td><td>0</td><td>0.591275282626645</td><td>25.964387481654676</td><td>81.34116939548286</td><td>149.36368075072292</td><td>0</td><td>0.680085804074756</td><td>25.49957078293484</td><td>143.55260452155815</td><td>229.17734656794696</td><td>0</td><td>0.6683353274580466</td><td>25.480923884113047</td><td>143.51607368699342</td><td>233.1473300376832</td><td>1</td><td>1e+20</td><td>1</td><td>0.49227426748463554</td><td>25.04488525354632</td><td>157.95330345350436</td><td>348.37413114625076</td><td>1</td><td>0.5290872983433925</td><td>26.899412093780075</td><td>30.763672417206195</td><td>63.129908881315586</td><td>0</td><td>0.5933031399463153</td><td>0.5035554203015031</td><td>26.92725337717892</td><td>28.537873219524766</td><td>61.53166247854802</td><td>0</td><td>1.0</td><td>0</td><td>0.5853818495998259</td><td>26.997305897955506</td><td>31.102304819655796</td><td>57.68695837974544</td><td>0</td><td>3.474828529174713</td><td>28.820641397950073</td><td>34.43122698059157</td><td>10.75829480309691</td><td>0</td><td>161.1306315122594</td><td>33.32979054469807</td><td>25.09213245248158</td><td>0.16907670752952308</td><td>1</td><td>1e+20</td><td>1</td><td>2.6884838881549697</td><td>28.499173338927747</td><td>35.81902685451058</td><td>14.465407230628765</td><td>1</td><td>1.0342333569320301</td><td>28.35372650358157</td><td>15.754463540183504</td><td>16.53900576448272</td><td>0</td><td>1.1012073472260964</td><td>28.427913044000018</td><td>15.666773429110247</td><td>15.446666939314587</td><td>0</td><td>1.0</td><td>0</td><td>6.972496871708841</td><td>30.333249346750932</td><td>17.153955116769087</td><td>2.6711622059871316</td><td>0</td></tr>\n",
       "<tr><td>149940984795394906</td><td>1e+20</td><td>1e+20</td><td>1e+20</td><td>1e+20</td><td>1</td><td>0.9926600556574312</td><td>1e+20</td><td>11.416621001867156</td><td>-12.487093327755385</td><td>1</td><td>1e+20</td><td>1</td><td>1.6085818820688063</td><td>1e+20</td><td>9.025854889040428</td><td>-6.092134656720685</td><td>1</td><td>1e+20</td><td>1e+20</td><td>1e+20</td><td>1e+20</td><td>1</td><td>0.12255364862455691</td><td>1e+20</td><td>18.248616271131553</td><td>-161.6694696132916</td><td>1</td><td>1e+20</td><td>1</td><td>0.22995823652383726</td><td>1e+20</td><td>14.982205801728254</td><td>-70.73772834567492</td><td>1</td><td>0.0678464971345209</td><td>23.063112273717472</td><td>135.06978258590757</td><td>2161.499256646399</td><td>0</td><td>0</td><td>1</td><td>1</td><td>0</td><td>0.593295479345163</td><td>-0.09837042016904006</td><td>0.08323569522725348</td><td>23.9927027223003</td><td>70.38890390731376</td><td>918.1611468103462</td><td>0</td><td>1.0</td><td>0</td><td>0.08673638839582835</td><td>24.117851041956758</td><td>65.36369546454405</td><td>818.2002035728462</td><td>0</td><td>0.06843399324301695</td><td>22.702437988368708</td><td>189.92072840024676</td><td>3013.178116406711</td><td>0</td><td>0.16182402505899476</td><td>1e+20</td><td>29.806877964677195</td><td>-199.98517862387402</td><td>1</td><td>1e+20</td><td>1</td><td>0.1783704543837</td><td>1e+20</td><td>25.464829000751493</td><td>-155.00373584638487</td><td>1</td><td>1e+20</td><td>1e+20</td><td>1e+20</td><td>1e+20</td><td>1</td><td>0.21236514008448895</td><td>1e+20</td><td>43.29995073648619</td><td>-221.37495899817995</td><td>1</td><td>1e+20</td><td>1</td><td>0.16266977131000682</td><td>1e+20</td><td>42.27780338716338</td><td>-282.1823712262477</td><td>1</td><td>58.660071034552836</td><td>1e+20</td><td>87.47375181562599</td><td>-1.6190471241725843</td><td>0</td><td>325.2226850612098</td><td>1e+20</td><td>52.89140500160127</td><td>-0.17657474699206668</td><td>1</td><td>1e+20</td><td>1</td><td>322.6309710540699</td><td>1e+20</td><td>77.65012831831008</td><td>-0.2613126549626092</td><td>1</td><td>1e+20</td><td>1e+20</td><td>1e+20</td><td>1e+20</td><td>1</td><td>0.8832425006103556</td><td>1e+20</td><td>147.50902811911024</td><td>-181.32720317118896</td><td>1</td><td>1e+20</td><td>1</td><td>0.49488574830782317</td><td>1e+20</td><td>162.05324221411632</td><td>-355.53069121898403</td><td>1</td><td>0.6754142296220227</td><td>26.92289995533589</td><td>38.43137332272347</td><td>61.77887818325595</td><td>0</td><td>0.5932944025754253</td><td>0.7952463881691578</td><td>27.41922601989703</td><td>28.647516443737846</td><td>39.11196107533146</td><td>1</td><td>1e+20</td><td>1</td><td>1.091640865368261</td><td>27.670122266883777</td><td>31.210919124291657</td><td>31.04209997267714</td><td>1</td><td>1.907120880687668</td><td>28.52300718365811</td><td>24.857132524729774</td><td>14.151325698263316</td><td>0</td><td>2.3564368960727387</td><td>28.75842225034426</td><td>24.726496984802015</td><td>11.392816433143121</td><td>0</td><td>1.0</td><td>0</td><td>1.4557525766932953</td><td>1e+20</td><td>35.261107340527985</td><td>-26.298604221903965</td><td>0</td><td>1e+20</td><td>1e+20</td><td>1e+20</td><td>1e+20</td><td>1</td><td>44.20757209595345</td><td>1e+20</td><td>15.132246002081489</td><td>-0.37164735733745985</td><td>1</td><td>1e+20</td><td>1</td><td>40.12696293864128</td><td>1e+20</td><td>16.69490216201624</td><td>-0.45172269179486446</td><td>1</td></tr>\n",
       "<tr><td>149940984795394907</td><td>1e+20</td><td>1e+20</td><td>1e+20</td><td>1e+20</td><td>1</td><td>0.1258180295118344</td><td>26.421618131740885</td><td>11.359816251031805</td><td>98.02858804099203</td><td>1</td><td>1e+20</td><td>1</td><td>0.13905373492296982</td><td>27.00099013662397</td><td>7.363126871098975</td><td>57.49154043656709</td><td>1</td><td>1e+20</td><td>1e+20</td><td>1e+20</td><td>1e+20</td><td>1</td><td>0.4223283298714825</td><td>27.27905481132302</td><td>17.310275123811557</td><td>44.50185101711146</td><td>1</td><td>1e+20</td><td>1</td><td>43.441111432442746</td><td>1e+20</td><td>12.777419792897282</td><td>-0.31934973151218954</td><td>1</td><td>0.06343595987462422</td><td>23.940116428877456</td><td>56.307289795283225</td><td>963.725672999586</td><td>0</td><td>0</td><td>1</td><td>1</td><td>0</td><td>0.5939001107018497</td><td>-0.09820114939846047</td><td>0.0615904357764003</td><td>23.773361040901374</td><td>63.74476737347355</td><td>1123.713461819413</td><td>0</td><td>0.0</td><td>0</td><td>0.08830230369352553</td><td>24.304930957422815</td><td>56.01125852045073</td><td>688.6960895243275</td><td>0</td><td>0.1816196708592153</td><td>24.59347852056673</td><td>88.31757912439245</td><td>527.969204647847</td><td>0</td><td>0.35126148356503867</td><td>26.573668499077367</td><td>27.57012985616104</td><td>85.21824781615886</td><td>1</td><td>1e+20</td><td>1</td><td>0.3166865915357797</td><td>26.716787760491346</td><td>21.78663971880625</td><td>74.69385870748775</td><td>1</td><td>1e+20</td><td>1e+20</td><td>1e+20</td><td>1e+20</td><td>1</td><td>0.906004614372299</td><td>27.190326851201014</td><td>40.29724438488746</td><td>48.29134033822894</td><td>1</td><td>1e+20</td><td>1</td><td>25.81698325307855</td><td>30.920656117715968</td><td>36.97589764823693</td><td>1.5550256351246843</td><td>1</td><td>0.37726431979562053</td><td>25.74291182841825</td><td>63.643884938108066</td><td>183.16195426643864</td><td>0</td><td>0.3898272946935852</td><td>26.01048936913336</td><td>51.3987049276172</td><td>143.15425209376025</td><td>1</td><td>1e+20</td><td>1</td><td>0.6032665056386644</td><td>26.05972098025731</td><td>76.01451014543895</td><td>136.80803588537174</td><td>1</td><td>2.994735099340086</td><td>26.708969356554245</td><td>207.51349745837254</td><td>75.23367165803309</td><td>0</td><td>8.729190369519538</td><td>28.296651125930783</td><td>140.14873899943777</td><td>17.43169223507981</td><td>1</td><td>1e+20</td><td>1</td><td>1592.920213789815</td><td>1e+20</td><td>156.51561733267243</td><td>-0.10668122036310242</td><td>1</td><td>25.03518670165365</td><td>30.7851436624308</td><td>40.62272469774369</td><td>1.7617429207088462</td><td>0</td><td>0.593900076637764</td><td>36.39869468225781</td><td>31.5927426202855</td><td>28.071423828490467</td><td>0.8373421474522942</td><td>1</td><td>1e+20</td><td>1</td><td>45.708593388574215</td><td>31.758710197487105</td><td>30.25446362246166</td><td>0.7186475031335251</td><td>1</td><td>190.48535176088723</td><td>33.05401055336611</td><td>38.2413348143194</td><td>0.2179695254378582</td><td>0</td><td>359.09875923158705</td><td>34.247963884338915</td><td>24.005128264202217</td><td>0.07257957925579611</td><td>1</td><td>1e+20</td><td>1</td><td>24.250599583738737</td><td>30.941074099894813</td><td>34.08540988440397</td><td>1.5260556110263597</td><td>1</td><td>0.6663935175403586</td><td>27.87081476942523</td><td>15.837277847420694</td><td>25.803231110688525</td><td>0</td><td>0.7019400185159147</td><td>27.934588764648435</td><td>15.730414878449407</td><td>24.331254094200425</td><td>1</td><td>1e+20</td><td>1</td><td>0.9577880956599479</td><td>28.16864056411429</td><td>17.30170445838019</td><td>19.612988530145554</td><td>1</td></tr>\n",
       "<tr><td>149940984795394908</td><td>1e+20</td><td>1e+20</td><td>1e+20</td><td>1e+20</td><td>1</td><td>0.1608973142209477</td><td>26.585392818525428</td><td>12.49301747084618</td><td>84.3029695085338</td><td>1</td><td>1e+20</td><td>1</td><td>0.2669253280610455</td><td>27.601448698715743</td><td>8.12991463917124</td><td>33.068958758842946</td><td>1</td><td>1e+20</td><td>1e+20</td><td>1e+20</td><td>1e+20</td><td>1</td><td>0.39403632144307016</td><td>27.168537045159997</td><td>17.88121882543729</td><td>49.270297197170564</td><td>1</td><td>1e+20</td><td>1</td><td>32.91107146655871</td><td>32.2821162693631</td><td>13.451514802489612</td><td>0.4437654557902485</td><td>1</td><td>0.03767973322333409</td><td>20.40073895793492</td><td>871.1399207738779</td><td>25101.774096654182</td><td>0</td><td>0</td><td>1</td><td>1</td><td>0</td><td>0.5938847761774672</td><td>-0.09820109426517423</td><td>0.06747775301177365</td><td>23.819369540335437</td><td>66.94042667151211</td><td>1077.0904713815253</td><td>0</td><td>1.0</td><td>0</td><td>0.06461949108297521</td><td>23.916768554479745</td><td>58.60461154386279</td><td>984.6742438323213</td><td>0</td><td>1e+20</td><td>1e+20</td><td>1e+20</td><td>1e+20</td><td>1</td><td>3.665283092498093</td><td>1e+20</td><td>28.941197781645098</td><td>-8.573009354969514</td><td>1</td><td>1e+20</td><td>1</td><td>204.9850077666841</td><td>1e+20</td><td>23.000302619652345</td><td>-0.12182481805193024</td><td>1</td><td>1e+20</td><td>1e+20</td><td>1e+20</td><td>1e+20</td><td>1</td><td>0.7935473616210099</td><td>27.00647369562725</td><td>41.80796740783537</td><td>57.201908868186365</td><td>1</td><td>1e+20</td><td>1</td><td>180.58577061135628</td><td>1e+20</td><td>38.575522562736616</td><td>-0.2319276946463544</td><td>1</td><td>42.017576103607176</td><td>30.554165976461412</td><td>84.34129884238669</td><td>2.1793832534200543</td><td>0</td><td>41.840680934705595</td><td>31.088419119787712</td><td>51.34601885373631</td><td>1.33239302980496</td><td>1</td><td>1e+20</td><td>1</td><td>97.20098421189208</td><td>1e+20</td><td>76.26217559240727</td><td>-0.8518494515837224</td><td>1</td><td>1.3310098725084456</td><td>26.102503531251784</td><td>161.23359753233575</td><td>131.5220554557886</td><td>0</td><td>1.7484489441299278</td><td>26.51970261373946</td><td>144.22733861392751</td><td>89.56100421163616</td><td>1</td><td>1e+20</td><td>1</td><td>8.93848281075704</td><td>28.176891006085974</td><td>160.24448322910578</td><td>19.464515481891002</td><td>1</td><td>26.70272663755451</td><td>30.867648116093264</td><td>40.15799704117962</td><td>1.6328291822026313</td><td>0</td><td>0.5938845268058144</td><td>153.2415867728592</td><td>33.17009182111828</td><td>27.64493619456415</td><td>0.19586790202816362</td><td>1</td><td>1e+20</td><td>1</td><td>282.4194023728577</td><td>1e+20</td><td>29.82547021758183</td><td>-0.11466136025743566</td><td>1</td><td>1e+20</td><td>1e+20</td><td>1e+20</td><td>1e+20</td><td>1</td><td>129.87148182225792</td><td>1e+20</td><td>23.853212670531033</td><td>-0.199414807876261</td><td>1</td><td>1e+20</td><td>1</td><td>373.0367269722034</td><td>33.91436385020359</td><td>33.90640396155226</td><td>0.0986857531509354</td><td>1</td><td>0.5638383047057971</td><td>27.28986297388981</td><td>22.88153033612068</td><td>44.06104675552428</td><td>0</td><td>0.5693078236624896</td><td>27.706998543860063</td><td>15.733430085082292</td><td>30.005480266387103</td><td>0</td><td>1.0</td><td>0</td><td>1.8898146586522842</td><td>28.906373501573597</td><td>17.303959610598525</td><td>9.941469841438037</td><td>0</td></tr>\n",
       "<tr><td>149940984795394909</td><td>0.10445936243735568</td><td>24.93424477300373</td><td>37.11292138250904</td><td>385.7465857452177</td><td>0</td><td>0.24448562919818595</td><td>26.99103743549088</td><td>13.06513923397757</td><td>58.020975437523155</td><td>1</td><td>1e+20</td><td>1</td><td>0.41792604167319025</td><td>28.0660304885371</td><td>8.297799145950018</td><td>21.556974330912954</td><td>1</td><td>0.10626505135869944</td><td>23.800494839117597</td><td>107.26751033856273</td><td>1095.9785750793797</td><td>0</td><td>1.043700227832666</td><td>28.302892411687974</td><td>16.66074792534821</td><td>17.331774717021183</td><td>1</td><td>1e+20</td><td>1</td><td>1326.1792391507106</td><td>1e+20</td><td>12.411729282511256</td><td>-0.010161419699428485</td><td>1</td><td>0.08119344457318359</td><td>23.996870189808828</td><td>68.39881387171641</td><td>914.6436510166552</td><td>0</td><td>0</td><td>1</td><td>1</td><td>0</td><td>0.594108145569989</td><td>-0.09684296992213987</td><td>0.07855468235184325</td><td>23.84545624539517</td><td>76.07908114139379</td><td>1051.5199138604175</td><td>0</td><td>0.0</td><td>0</td><td>0.11492530410672792</td><td>24.381842307119364</td><td>67.91323508196822</td><td>641.5981117810782</td><td>0</td><td>1e+20</td><td>1e+20</td><td>1e+20</td><td>1e+20</td><td>1</td><td>1.5593870028317414</td><td>27.9467977614037</td><td>34.5549672432403</td><td>24.0591841038099</td><td>1</td><td>1e+20</td><td>1</td><td>1053.156940249623</td><td>35.3659127851943</td><td>25.142222187403622</td><td>0.025919993358698296</td><td>1</td><td>1.5086754148965948</td><td>27.53961542838035</td><td>48.64355668812113</td><td>35.00691408040042</td><td>0</td><td>2.2619032413993096</td><td>27.87877513829233</td><td>53.36292757634531</td><td>25.614739570239582</td><td>1</td><td>1e+20</td><td>1</td><td>14.068090763892291</td><td>1e+20</td><td>46.64884402836785</td><td>-3.6002283267684074</td><td>1</td><td>7.276005464443817</td><td>28.520385650836086</td><td>95.06363929434517</td><td>14.185535654463372</td><td>0</td><td>21.61626113344311</td><td>30.240883905768534</td><td>57.90321738123577</td><td>2.9083484463242195</td><td>1</td><td>1e+20</td><td>1</td><td>147.87737937567056</td><td>31.914364613446082</td><td>84.80697650174501</td><td>0.622664569745314</td><td>1</td><td>2.4638268357492605</td><td>26.607115369798922</td><td>187.51659715497436</td><td>82.63306315611553</td><td>0</td><td>2.3572505322547896</td><td>26.72553544206726</td><td>160.8671047939632</td><td>74.09447466000078</td><td>1</td><td>1e+20</td><td>1</td><td>5.606433684104913</td><td>1e+20</td><td>182.08515399414088</td><td>-35.262424418021276</td><td>1</td><td>1e+20</td><td>1e+20</td><td>1e+20</td><td>1e+20</td><td>1</td><td>0.594108328548551</td><td>11.907016260683372</td><td>1e+20</td><td>36.89544342712262</td><td>-3.3642952896356686</td><td>1</td><td>1e+20</td><td>1</td><td>652.4304765006849</td><td>34.442226053527335</td><td>36.46863416940661</td><td>0.06068894369891166</td><td>1</td><td>1e+20</td><td>1e+20</td><td>1e+20</td><td>1e+20</td><td>1</td><td>3.962619789726466</td><td>1e+20</td><td>26.69781633228759</td><td>-7.315056028110243</td><td>1</td><td>1e+20</td><td>1</td><td>2.8066326498574097</td><td>1e+20</td><td>37.123749886527214</td><td>-14.361195188916462</td><td>1</td><td>1.6842364004186812</td><td>28.666399686944935</td><td>19.23618098545106</td><td>12.400526512781854</td><td>0</td><td>1.7687898612082924</td><td>28.84308286069647</td><td>17.16796328808452</td><td>10.538210169917267</td><td>0</td><td>1.0</td><td>0</td><td>7.128379809970362</td><td>30.249168229143244</td><td>18.949563906182494</td><td>2.8862417752408955</td><td>0</td></tr>\n",
       "<tr><td>149940984795394910</td><td>0.10215669154797981</td><td>24.669796598204222</td><td>46.304570489884185</td><td>492.13172299173124</td><td>0</td><td>2.7016520306451577</td><td>29.600048107791466</td><td>13.058276150264307</td><td>5.247842071166315</td><td>1</td><td>1e+20</td><td>1</td><td>92.97897520184675</td><td>1e+20</td><td>8.296634698530816</td><td>-0.09688165147327348</td><td>1</td><td>0.12253042865908279</td><td>24.49057495580151</td><td>65.50729260472912</td><td>580.4569528971994</td><td>0</td><td>0.19674598068178095</td><td>26.491403209651743</td><td>16.65790055540118</td><td>91.92607475683197</td><td>0</td><td>1.0</td><td>0</td><td>1.2183278563108126</td><td>28.791334776477786</td><td>12.402405985906704</td><td>11.052641647530834</td><td>0</td><td>0.08568340113410387</td><td>24.010243722935478</td><td>71.29759622308148</td><td>903.4466478573876</td><td>0</td><td>0</td><td>1</td><td>1</td><td>0</td><td>0.5941101025127035</td><td>-0.0968361211697299</td><td>0.08409348574210788</td><td>23.920069265425603</td><td>76.03443595354946</td><td>981.6853136080096</td><td>0</td><td>0.0</td><td>0</td><td>0.10890942322413998</td><td>24.32446040630808</td><td>67.85111292686781</td><td>676.419061427037</td><td>0</td><td>0.114795138767162</td><td>22.60908128712238</td><td>347.1895640742143</td><td>3283.730336300599</td><td>0</td><td>0.6154083220827101</td><td>1e+20</td><td>34.55383593347906</td><td>-60.961721413329336</td><td>1</td><td>1e+20</td><td>1</td><td>0.38759464076225664</td><td>1e+20</td><td>25.13910098813566</td><td>-70.42004513842504</td><td>1</td><td>0.570728140508381</td><td>26.21378661062044</td><td>62.40082367858731</td><td>118.70946719785178</td><td>0</td><td>0.6196381718766677</td><td>26.473214657629196</td><td>53.34920855160202</td><td>93.47901702736819</td><td>1</td><td>1e+20</td><td>1</td><td>0.44173758832385096</td><td>26.251518949094855</td><td>46.647938537591195</td><td>114.65484732638072</td><td>1</td><td>1e+20</td><td>1e+20</td><td>1e+20</td><td>1e+20</td><td>1</td><td>340.55468247505934</td><td>1e+20</td><td>58.82086282643119</td><td>-0.18752918004715743</td><td>1</td><td>1e+20</td><td>1</td><td>32.08164643121641</td><td>30.240314887019075</td><td>85.98176846709238</td><td>2.9098730694512387</td><td>1</td><td>1e+20</td><td>1e+20</td><td>1e+20</td><td>1e+20</td><td>1</td><td>1481.3601740030272</td><td>33.73916446969044</td><td>158.22334318967702</td><td>0.1159669438626017</td><td>1</td><td>1e+20</td><td>1</td><td>73.79541269551302</td><td>1e+20</td><td>179.60442481596274</td><td>-2.642481685982995</td><td>1</td><td>1e+20</td><td>1e+20</td><td>1e+20</td><td>1e+20</td><td>1</td><td>0.5941099669601112</td><td>7.426177416581657</td><td>1e+20</td><td>33.58488093173324</td><td>-4.910241045231936</td><td>1</td><td>1e+20</td><td>1</td><td>136.34742453582098</td><td>32.785005124391894</td><td>35.06877286783527</td><td>0.2792530661189365</td><td>1</td><td>17.78736987632486</td><td>30.362399976356386</td><td>42.60174862975599</td><td>2.600399114367994</td><td>0</td><td>56.43100339801032</td><td>32.11494271898076</td><td>26.903969685064343</td><td>0.5176341404522935</td><td>1</td><td>1e+20</td><td>1</td><td>358.7030699153638</td><td>1e+20</td><td>37.307708569536004</td><td>-0.11292440268232957</td><td>1</td><td>1e+20</td><td>1e+20</td><td>1e+20</td><td>1e+20</td><td>1</td><td>6.626107165324385</td><td>1e+20</td><td>17.641358847933557</td><td>-2.89066589543967</td><td>1</td><td>1e+20</td><td>1</td><td>15190.069004384462</td><td>1e+20</td><td>19.403520045427435</td><td>-0.0013868998361356924</td><td>1</td></tr>\n",
       "<tr><td>149940984795394911</td><td>0.06411732293301081</td><td>24.293328296097624</td><td>41.10737479700903</td><td>696.0952681431415</td><td>0</td><td>0.10098508253201328</td><td>26.072323143874033</td><td>12.577769952778002</td><td>135.22928209244066</td><td>1</td><td>1e+20</td><td>1</td><td>0.12202417135627484</td><td>26.658020036514603</td><td>8.861628359205918</td><td>78.8482366711559</td><td>1</td><td>0.13324122237885977</td><td>25.186321569772936</td><td>37.530613216362376</td><td>305.8238646288775</td><td>0</td><td>0.39122154330075587</td><td>27.202907243687783</td><td>17.20028109919588</td><td>47.7350193035186</td><td>1</td><td>1e+20</td><td>1</td><td>1.0137622809243032</td><td>28.57385890122935</td><td>12.608640085009778</td><td>13.503813754619197</td><td>1</td><td>0.06760332186712142</td><td>22.90619853033801</td><td>155.51214244555163</td><td>2497.586785225061</td><td>0</td><td>0</td><td>1</td><td>1</td><td>0</td><td>0.5931808629649697</td><td>-0.09669325901796899</td><td>0.0780699065117495</td><td>23.847577380727593</td><td>75.46201315970647</td><td>1049.4676301309134</td><td>0</td><td>1.0</td><td>0</td><td>0.09188247412390926</td><td>24.223225440388237</td><td>62.837396777053655</td><td>742.5228515461337</td><td>0</td><td>0.12592071292552712</td><td>23.392321133391448</td><td>185.11618886785396</td><td>1596.142077590858</td><td>0</td><td>1.1684253123491082</td><td>27.59295411582771</td><td>35.86699485603536</td><td>33.328698428124994</td><td>1</td><td>1e+20</td><td>1</td><td>104.94608569771674</td><td>1e+20</td><td>25.363305992254666</td><td>-0.26240006385248943</td><td>1</td><td>0.23232341483006774</td><td>25.47427359977292</td><td>50.194857161652756</td><td>234.5797721376123</td><td>0</td><td>0.23273317879392014</td><td>25.442631127219812</td><td>51.770401189720005</td><td>241.5169130496177</td><td>1</td><td>1e+20</td><td>1</td><td>0.26104805595935715</td><td>25.805329589185803</td><td>41.57806824006811</td><td>172.9291330910137</td><td>1</td><td>1e+20</td><td>1e+20</td><td>1e+20</td><td>1e+20</td><td>1</td><td>410.867697411952</td><td>33.39135740248334</td><td>60.455346855621606</td><td>0.15975594885121167</td><td>1</td><td>1e+20</td><td>1</td><td>49.047500397435975</td><td>30.664624757176004</td><td>88.92884597457605</td><td>1.9685665312111176</td><td>1</td><td>1e+20</td><td>1e+20</td><td>1e+20</td><td>1e+20</td><td>1</td><td>2.9066066092047316</td><td>26.990082290676824</td><td>155.4637074803107</td><td>58.072040159395144</td><td>0</td><td>1e+20</td><td>1</td><td>0.7173628399451731</td><td>1e+20</td><td>174.64040090240601</td><td>-264.3200839448393</td><td>0</td><td>2.0482663279380198</td><td>28.143827502513908</td><td>37.855684600649816</td><td>20.066378461733912</td><td>0</td><td>0.5931812529045931</td><td>2.191735533236087</td><td>28.293744069751263</td><td>35.28305655000571</td><td>17.478428090412873</td><td>1</td><td>1e+20</td><td>1</td><td>27.12003754458488</td><td>30.961936364638948</td><td>37.39309566379532</td><td>1.4970125945962527</td><td>1</td><td>11.597735807283435</td><td>29.907806544714447</td><td>42.22078206469781</td><td>3.9525500875832122</td><td>0</td><td>40.123943242831096</td><td>31.767213519365455</td><td>26.350804546498424</td><td>0.7130411472145172</td><td>1</td><td>1e+20</td><td>1</td><td>50.933930242745475</td><td>1e+20</td><td>37.676075251052616</td><td>-0.803124336926382</td><td>1</td><td>8.514011338927768</td><td>30.04731090333196</td><td>27.25747001010983</td><td>3.4759669516498697</td><td>0</td><td>18.768182540520197</td><td>31.30632132439915</td><td>18.843838306832826</td><td>1.090112878120454</td><td>0</td><td>1.0</td><td>0</td><td>3.5678452496987108</td><td>29.407254159815047</td><td>20.59586446929547</td><td>6.267557631456694</td><td>0</td></tr>\n",
       "<tr><td>149940984795394912</td><td>1e+20</td><td>1e+20</td><td>1e+20</td><td>1e+20</td><td>1</td><td>0.1651829687260187</td><td>26.60698157603056</td><td>12.573272171496212</td><td>82.6432465414398</td><td>1</td><td>1e+20</td><td>1</td><td>0.23198854982959619</td><td>27.355694564234465</td><td>8.860625974056397</td><td>41.46886742436102</td><td>1</td><td>0.09016148192791515</td><td>24.4998305264092</td><td>47.793024039089595</td><td>575.5297653115568</td><td>0</td><td>0.14009521451289553</td><td>26.08850784715091</td><td>17.190790262853927</td><td>133.22841498676584</td><td>0</td><td>1.0</td><td>0</td><td>0.3522128003664996</td><td>27.428000008110722</td><td>12.585799594652425</td><td>38.79716543954445</td><td>0</td><td>0.057953528515502305</td><td>21.895830646607788</td><td>338.0829775463473</td><td>6333.849522834657</td><td>0</td><td>0</td><td>1</td><td>1</td><td>0</td><td>0.5931705687985853</td><td>-0.09669798632225478</td><td>0.07863776099351208</td><td>23.854688226753836</td><td>75.51470478497771</td><td>1042.6167777518065</td><td>0</td><td>1.0</td><td>0</td><td>0.08845518418628578</td><td>24.180560761343827</td><td>62.9179648768388</td><td>772.2816138466137</td><td>0</td><td>0.10844141940805661</td><td>22.86001125762965</td><td>260.2953264293202</td><td>2606.1265278186866</td><td>0</td><td>0.8269948030484439</td><td>27.21780626276603</td><td>35.863771209520486</td><td>47.08444925869466</td><td>1</td><td>1e+20</td><td>1</td><td>195.8650575617451</td><td>1e+20</td><td>25.36252740738233</td><td>-0.14059176554084682</td><td>1</td><td>51.30930840086822</td><td>31.31780401200935</td><td>50.974178575062155</td><td>1.0786446536046983</td><td>0</td><td>14.704939211753802</td><td>29.94581010635368</td><td>51.690992504645834</td><td>3.81659394942045</td><td>1</td><td>1e+20</td><td>1</td><td>39.94418357881994</td><td>31.269096936194416</td><td>41.50404779896708</td><td>1.1281353954933375</td><td>1</td><td>1e+20</td><td>1e+20</td><td>1e+20</td><td>1e+20</td><td>1</td><td>32.335987186772755</td><td>1e+20</td><td>60.21600153239333</td><td>-2.021855482310248</td><td>0</td><td>1e+20</td><td>1</td><td>32.53420662703252</td><td>1e+20</td><td>86.58289772654508</td><td>-2.8894568677285966</td><td>0</td><td>2.8738380058735338</td><td>26.524759226031268</td><td>235.95776482700018</td><td>89.14486047678507</td><td>0</td><td>8.123834987170317</td><td>28.079543327236728</td><td>159.30134495221154</td><td>21.29034353287925</td><td>1</td><td>1e+20</td><td>1</td><td>37.67367649796106</td><td>29.62866347953312</td><td>177.3569829887845</td><td>5.1113380879622055</td><td>1</td><td>1e+20</td><td>1e+20</td><td>1e+20</td><td>1e+20</td><td>1</td><td>0.593170749322929</td><td>13.855353301465774</td><td>1e+20</td><td>36.3815519982721</td><td>-2.8509390796722345</td><td>0</td><td>1e+20</td><td>1</td><td>34.48138655295988</td><td>31.192091384056045</td><td>38.461290099418434</td><td>1.2110538269250488</td><td>0</td><td>1e+20</td><td>1e+20</td><td>1e+20</td><td>1e+20</td><td>1</td><td>2.7277799577605055</td><td>1e+20</td><td>26.125074150153623</td><td>-10.398543612769993</td><td>1</td><td>1e+20</td><td>1</td><td>0.8412580089533971</td><td>1e+20</td><td>37.525537409436176</td><td>-48.43084301701722</td><td>1</td><td>0.6468537274528278</td><td>27.688972678907145</td><td>18.175764774376436</td><td>30.50780265643146</td><td>0</td><td>0.6472522908998876</td><td>27.695620214455673</td><td>18.07595246193683</td><td>30.32158603274411</td><td>0</td><td>0.0</td><td>0</td><td>1.2742118393654576</td><td>28.350636658521957</td><td>19.46536952432806</td><td>16.58614037214025</td><td>0</td></tr>\n",
       "<tr><td>149940984795394913</td><td>0.1071275704581927</td><td>24.877967779953835</td><td>40.08573247312952</td><td>406.2682543268386</td><td>0</td><td>0.765369213369834</td><td>28.272118650330075</td><td>12.568956084792854</td><td>17.83004913039327</td><td>1</td><td>1e+20</td><td>1</td><td>1.0649874039029672</td><td>29.00573298337466</td><td>8.89870803501487</td><td>9.072078649737724</td><td>1</td><td>0.24066050180737394</td><td>26.838478489544247</td><td>14.800933321841228</td><td>66.7741862542798</td><td>0</td><td>0.21501294780531185</td><td>26.563658767611862</td><td>17.032436808220172</td><td>86.00753343786666</td><td>0</td><td>0.0</td><td>0</td><td>0.5576539836132435</td><td>27.91985362017797</td><td>12.667737077742775</td><td>24.663718330399536</td><td>0</td><td>0.08114085060954263</td><td>23.81121702550732</td><td>81.1014139616622</td><td>1085.2085075984814</td><td>0</td><td>0</td><td>1</td><td>1</td><td>0</td><td>0.5923187696082967</td><td>-0.09647858736163228</td><td>0.08731350992828289</td><td>23.964483710899827</td><td>75.78157767824574</td><td>942.337590214202</td><td>0</td><td>1.0</td><td>0</td><td>0.08313871035895852</td><td>24.098152214104513</td><td>63.799617922806114</td><td>833.1805332251245</td><td>0</td><td>0.11695154077443534</td><td>24.607981620453465</td><td>56.11629370939661</td><td>520.9635662230712</td><td>0</td><td>0.1718127361913353</td><td>25.506841125371523</td><td>36.02421982513365</td><td>227.64784834551557</td><td>0</td><td>1.0</td><td>0</td><td>0.12701293224922744</td><td>25.545745896382456</td><td>25.693618051927245</td><td>219.635047047535</td><td>0</td><td>0.0422048737686782</td><td>21.4732294268424</td><td>363.3678631541669</td><td>9347.774544580338</td><td>0</td><td>0.07076363930114343</td><td>24.14532150284332</td><td>51.994479983519426</td><td>797.7584240041584</td><td>1</td><td>1e+20</td><td>1</td><td>0.0998090681006042</td><td>24.76006838183183</td><td>41.631142347180734</td><td>452.8690564089119</td><td>1</td><td>1e+20</td><td>1e+20</td><td>1e+20</td><td>1e+20</td><td>1</td><td>41.44852291073976</td><td>1e+20</td><td>50.456286352509004</td><td>-1.3216928614932104</td><td>1</td><td>1e+20</td><td>1</td><td>67.11038789373966</td><td>31.23626456394326</td><td>71.87197901943183</td><td>1.1627709536200306</td><td>1</td><td>1e+20</td><td>1e+20</td><td>1e+20</td><td>1e+20</td><td>1</td><td>56.80589229069173</td><td>1e+20</td><td>119.89530800606425</td><td>-2.291569966310374</td><td>0</td><td>1e+20</td><td>1</td><td>3.219377748244219</td><td>1e+20</td><td>139.70969479867256</td><td>-47.11714053479891</td><td>0</td><td>1e+20</td><td>1e+20</td><td>1e+20</td><td>1e+20</td><td>1</td><td>0.5923188804217896</td><td>21.007347474955225</td><td>1e+20</td><td>36.54953995804726</td><td>-1.8890133010374466</td><td>1</td><td>1e+20</td><td>1</td><td>167.22115379085943</td><td>1e+20</td><td>40.572136585006945</td><td>-0.26342742288351423</td><td>1</td><td>1.9181968776394067</td><td>28.689095215471966</td><td>21.45511138686949</td><td>12.144004341467628</td><td>0</td><td>2.9543374467710275</td><td>29.1623915955562</td><td>21.368751128443368</td><td>7.85314039734177</td><td>1</td><td>1e+20</td><td>1</td><td>1.786110579457014</td><td>1e+20</td><td>30.155607352899825</td><td>-18.330911342268195</td><td>1</td><td>173.91015058375925</td><td>1e+20</td><td>26.437828632168703</td><td>-0.1650536649228642</td><td>0</td><td>37.09231588969564</td><td>31.95433434290176</td><td>20.5034003856318</td><td>0.6001589166212318</td><td>1</td><td>1e+20</td><td>1</td><td>210.91290325480608</td><td>33.78326324670514</td><td>21.63084728677386</td><td>0.11135114863253096</td><td>1</td></tr>\n",
       "<tr><td>149940984795394914</td><td>0.5449665507209371</td><td>27.410058105731583</td><td>19.798043969659894</td><td>39.44361923280747</td><td>0</td><td>1.2450605628614464</td><td>28.798910590796595</td><td>12.586411336606774</td><td>10.975789358170257</td><td>1</td><td>1e+20</td><td>1</td><td>43.2441255104434</td><td>33.026517623488694</td><td>8.904217294711756</td><td>0.223559407845288</td><td>1</td><td>0.11780638354974837</td><td>23.300113249663713</td><td>188.5381339166504</td><td>1737.6195737678358</td><td>0</td><td>0.34249498622021574</td><td>27.068429699171258</td><td>17.04346992541743</td><td>54.029148154694354</td><td>1</td><td>1e+20</td><td>1</td><td>0.49375465613131664</td><td>27.786727099204448</td><td>12.679322386344277</td><td>27.88105225076192</td><td>1</td><td>0.08136799207014012</td><td>24.073680844305258</td><td>63.86412132143777</td><td>852.1727885822608</td><td>0</td><td>0</td><td>1</td><td>1</td><td>0</td><td>0.5923222698523423</td><td>-0.09648680113975765</td><td>0.0812529153390977</td><td>23.88887267210133</td><td>75.60761932084068</td><td>1010.3013449993285</td><td>0</td><td>0.0</td><td>0</td><td>0.10744778584184161</td><td>24.379088581496564</td><td>63.6557615055567</td><td>643.2274463967417</td><td>0</td><td>0.7840785275161541</td><td>26.962566479339426</td><td>43.01388294209805</td><td>59.56256724107496</td><td>0</td><td>1.702848499401432</td><td>27.997281241134967</td><td>36.01962561963478</td><td>22.966113327649367</td><td>1</td><td>1e+20</td><td>1</td><td>319.10246129403384</td><td>34.04482302556182</td><td>25.72033517467209</td><td>0.08751264087532003</td><td>1</td><td>1e+20</td><td>1e+20</td><td>1e+20</td><td>1e+20</td><td>1</td><td>0.7369842244786854</td><td>26.689051452046108</td><td>52.013166135936906</td><td>76.62657587797452</td><td>1</td><td>1e+20</td><td>1</td><td>102.98698851351419</td><td>1e+20</td><td>41.65318281585758</td><td>-0.43912701283280364</td><td>1</td><td>1e+20</td><td>1e+20</td><td>1e+20</td><td>1e+20</td><td>1</td><td>41.30600968024781</td><td>1e+20</td><td>48.22182926081786</td><td>-1.267519818385439</td><td>1</td><td>1e+20</td><td>1</td><td>169.05483605819012</td><td>32.27375473245274</td><td>69.63080017012533</td><td>0.4471962025680305</td><td>1</td><td>1e+20</td><td>1e+20</td><td>1e+20</td><td>1e+20</td><td>1</td><td>8.137868203922302</td><td>1e+20</td><td>119.34148977148784</td><td>-15.922275088238017</td><td>1</td><td>1e+20</td><td>1</td><td>462.73641362661</td><td>1e+20</td><td>140.73321492609213</td><td>-0.3302077428048739</td><td>1</td><td>1e+20</td><td>1e+20</td><td>1e+20</td><td>1e+20</td><td>1</td><td>0.5923221502291189</td><td>77.70069638977239</td><td>1e+20</td><td>35.452504256420724</td><td>-0.495388963149683</td><td>1</td><td>1e+20</td><td>1</td><td>879.0586107975862</td><td>1e+20</td><td>39.76205846906587</td><td>-0.04911061210856517</td><td>1</td><td>1e+20</td><td>1e+20</td><td>1e+20</td><td>1e+20</td><td>1</td><td>2.4039004423695984</td><td>1e+20</td><td>21.175591359363676</td><td>-9.564084182022745</td><td>1</td><td>1e+20</td><td>1</td><td>0.8114077485999396</td><td>1e+20</td><td>29.87670247413741</td><td>-39.977702469478466</td><td>1</td><td>0.5575464493872042</td><td>27.32721454787198</td><td>21.86104485441629</td><td>42.57103224021697</td><td>0</td><td>0.5839813139282027</td><td>27.37975162850818</td><td>21.815942462528508</td><td>40.560130962340224</td><td>0</td><td>1.0</td><td>0</td><td>1.8115912259130067</td><td>28.568402723647427</td><td>22.64512900734918</td><td>13.571845608992911</td><td>0</td></tr>\n",
       "</table>"
      ],
      "text/plain": [
       "<Table length=18974>\n",
       "        id         ... HSC_G_m_base_CircularApertureFlux_6_0_flag\n",
       "                   ...                                           \n",
       "      int64        ...                   int64                   \n",
       "------------------ ... ------------------------------------------\n",
       "149940984795365377 ...                                          1\n",
       "149940984795365378 ...                                          1\n",
       "149940984795365379 ...                                          1\n",
       "149940984795365380 ...                                          1\n",
       "149940984795365381 ...                                          1\n",
       "149940984795365382 ...                                          1\n",
       "149940984795365383 ...                                          1\n",
       "149940984795365384 ...                                          1\n",
       "149940984795365385 ...                                          1\n",
       "               ... ...                                        ...\n",
       "149940984795394905 ...                                          0\n",
       "149940984795394906 ...                                          1\n",
       "149940984795394907 ...                                          1\n",
       "149940984795394908 ...                                          0\n",
       "149940984795394909 ...                                          0\n",
       "149940984795394910 ...                                          1\n",
       "149940984795394911 ...                                          0\n",
       "149940984795394912 ...                                          0\n",
       "149940984795394913 ...                                          1\n",
       "149940984795394914 ...                                          0"
      ]
     },
     "execution_count": 169,
     "metadata": {},
     "output_type": "execute_result"
    }
   ],
   "source": [
    "t"
   ]
  },
  {
   "cell_type": "code",
   "execution_count": 120,
   "metadata": {},
   "outputs": [],
   "source": [
    "measSources = butler.get('deepCoadd_meas', {'filter': 'VISTA-Ks', 'tract': 8524, 'patch': '3,5'})"
   ]
  },
  {
   "cell_type": "code",
   "execution_count": 121,
   "metadata": {},
   "outputs": [
    {
     "data": {
      "text/plain": [
       "'Set to 1 for extended sources, 0 for point sources.'"
      ]
     },
     "execution_count": 121,
     "metadata": {},
     "output_type": "execute_result"
    }
   ],
   "source": [
    "measSources.schema.find('base_ClassificationExtendedness_value').field.getDoc()"
   ]
  },
  {
   "cell_type": "code",
   "execution_count": 122,
   "metadata": {},
   "outputs": [
    {
     "data": {
      "text/plain": [
       "array([nan, nan, nan, ...,  0., nan, nan])"
      ]
     },
     "execution_count": 122,
     "metadata": {},
     "output_type": "execute_result"
    }
   ],
   "source": [
    "measSources['base_ClassificationExtendedness_value']"
   ]
  },
  {
   "cell_type": "code",
   "execution_count": 132,
   "metadata": {},
   "outputs": [],
   "source": [
    "t=Table.read('./data/full_reduced_cat_SXDS.fits')[:100000]"
   ]
  },
  {
   "cell_type": "code",
   "execution_count": 144,
   "metadata": {},
   "outputs": [],
   "source": [
    "for c in t.colnames:\n",
    "    if t[c].dtype=='>f8':\n",
    "        m=t[c]>1.e19\n",
    "        t[c][m]=np.nan"
   ]
  },
  {
   "cell_type": "code",
   "execution_count": 145,
   "metadata": {},
   "outputs": [
    {
     "data": {
      "text/html": [
       "<i>Table length=100000</i>\n",
       "<table id=\"table140693602159312\" class=\"table-striped table-bordered table-condensed\">\n",
       "<thead><tr><th>id</th><th>VISTA_Z_m_slot_ModelFlux_magErr</th><th>VISTA_Z_m_slot_ModelFlux_mag</th><th>VISTA_Z_m_slot_ModelFlux_fluxErr</th><th>VISTA_Z_m_slot_ModelFlux_flux</th><th>VISTA_Z_m_slot_ModelFlux_flag</th><th>VISTA_Z_m_base_PsfFlux_magErr</th><th>VISTA_Z_m_base_PsfFlux_mag</th><th>VISTA_Z_m_base_PsfFlux_fluxErr</th><th>VISTA_Z_m_base_PsfFlux_flux</th><th>VISTA_Z_m_base_PsfFlux_flag</th><th>VISTA_Z_m_base_CircularApertureFlux_6_0_magErr</th><th>VISTA_Z_m_base_CircularApertureFlux_6_0_mag</th><th>VISTA_Z_m_base_CircularApertureFlux_6_0_fluxErr</th><th>VISTA_Z_m_base_CircularApertureFlux_6_0_flux</th><th>VISTA_Z_m_base_CircularApertureFlux_6_0_flag</th><th>VISTA_Y_m_slot_ModelFlux_magErr</th><th>VISTA_Y_m_slot_ModelFlux_mag</th><th>VISTA_Y_m_slot_ModelFlux_fluxErr</th><th>VISTA_Y_m_slot_ModelFlux_flux</th><th>VISTA_Y_m_slot_ModelFlux_flag</th><th>VISTA_Y_m_base_PsfFlux_magErr</th><th>VISTA_Y_m_base_PsfFlux_mag</th><th>VISTA_Y_m_base_PsfFlux_fluxErr</th><th>VISTA_Y_m_base_PsfFlux_flux</th><th>VISTA_Y_m_base_PsfFlux_flag</th><th>VISTA_Y_m_base_CircularApertureFlux_6_0_magErr</th><th>VISTA_Y_m_base_CircularApertureFlux_6_0_mag</th><th>VISTA_Y_m_base_CircularApertureFlux_6_0_fluxErr</th><th>VISTA_Y_m_base_CircularApertureFlux_6_0_flux</th><th>VISTA_Y_m_base_CircularApertureFlux_6_0_flag</th><th>VISTA_Ks_m_slot_ModelFlux_magErr</th><th>VISTA_Ks_m_slot_ModelFlux_mag</th><th>VISTA_Ks_m_slot_ModelFlux_fluxErr</th><th>VISTA_Ks_m_slot_ModelFlux_flux</th><th>VISTA_Ks_m_slot_ModelFlux_flag</th><th>VISTA_Ks_m_merge_peak_sky</th><th>VISTA_Ks_m_detect_isTractInner</th><th>VISTA_Ks_m_detect_isPrimary</th><th>VISTA_Ks_m_detect_isPatchInner</th><th>VISTA_Ks_m_deblend_nChild</th><th>VISTA_Ks_m_coord_ra</th><th>VISTA_Ks_m_coord_dec</th><th>VISTA_Ks_m_base_PsfFlux_magErr</th><th>VISTA_Ks_m_base_PsfFlux_mag</th><th>VISTA_Ks_m_base_PsfFlux_fluxErr</th><th>VISTA_Ks_m_base_PsfFlux_flux</th><th>VISTA_Ks_m_base_PsfFlux_flag</th><th>VISTA_Ks_m_base_ClassificationExtendedness_value</th><th>VISTA_Ks_m_base_ClassificationExtendedness_flag</th><th>VISTA_Ks_m_base_CircularApertureFlux_6_0_magErr</th><th>VISTA_Ks_m_base_CircularApertureFlux_6_0_mag</th><th>VISTA_Ks_m_base_CircularApertureFlux_6_0_fluxErr</th><th>VISTA_Ks_m_base_CircularApertureFlux_6_0_flux</th><th>VISTA_Ks_m_base_CircularApertureFlux_6_0_flag</th><th>VISTA_J_m_slot_ModelFlux_magErr</th><th>VISTA_J_m_slot_ModelFlux_mag</th><th>VISTA_J_m_slot_ModelFlux_fluxErr</th><th>VISTA_J_m_slot_ModelFlux_flux</th><th>VISTA_J_m_slot_ModelFlux_flag</th><th>VISTA_J_m_base_PsfFlux_magErr</th><th>VISTA_J_m_base_PsfFlux_mag</th><th>VISTA_J_m_base_PsfFlux_fluxErr</th><th>VISTA_J_m_base_PsfFlux_flux</th><th>VISTA_J_m_base_PsfFlux_flag</th><th>VISTA_J_m_base_CircularApertureFlux_6_0_magErr</th><th>VISTA_J_m_base_CircularApertureFlux_6_0_mag</th><th>VISTA_J_m_base_CircularApertureFlux_6_0_fluxErr</th><th>VISTA_J_m_base_CircularApertureFlux_6_0_flux</th><th>VISTA_J_m_base_CircularApertureFlux_6_0_flag</th><th>VISTA_H_m_slot_ModelFlux_magErr</th><th>VISTA_H_m_slot_ModelFlux_mag</th><th>VISTA_H_m_slot_ModelFlux_fluxErr</th><th>VISTA_H_m_slot_ModelFlux_flux</th><th>VISTA_H_m_slot_ModelFlux_flag</th><th>VISTA_H_m_base_PsfFlux_magErr</th><th>VISTA_H_m_base_PsfFlux_mag</th><th>VISTA_H_m_base_PsfFlux_fluxErr</th><th>VISTA_H_m_base_PsfFlux_flux</th><th>VISTA_H_m_base_PsfFlux_flag</th><th>VISTA_H_m_base_CircularApertureFlux_6_0_magErr</th><th>VISTA_H_m_base_CircularApertureFlux_6_0_mag</th><th>VISTA_H_m_base_CircularApertureFlux_6_0_fluxErr</th><th>VISTA_H_m_base_CircularApertureFlux_6_0_flux</th><th>VISTA_H_m_base_CircularApertureFlux_6_0_flag</th><th>HSC_Z_m_slot_ModelFlux_magErr</th><th>HSC_Z_m_slot_ModelFlux_mag</th><th>HSC_Z_m_slot_ModelFlux_fluxErr</th><th>HSC_Z_m_slot_ModelFlux_flux</th><th>HSC_Z_m_slot_ModelFlux_flag</th><th>HSC_Z_m_base_PsfFlux_magErr</th><th>HSC_Z_m_base_PsfFlux_mag</th><th>HSC_Z_m_base_PsfFlux_fluxErr</th><th>HSC_Z_m_base_PsfFlux_flux</th><th>HSC_Z_m_base_PsfFlux_flag</th><th>HSC_Z_m_base_CircularApertureFlux_6_0_magErr</th><th>HSC_Z_m_base_CircularApertureFlux_6_0_mag</th><th>HSC_Z_m_base_CircularApertureFlux_6_0_fluxErr</th><th>HSC_Z_m_base_CircularApertureFlux_6_0_flux</th><th>HSC_Z_m_base_CircularApertureFlux_6_0_flag</th><th>HSC_Y_m_slot_ModelFlux_magErr</th><th>HSC_Y_m_slot_ModelFlux_mag</th><th>HSC_Y_m_slot_ModelFlux_fluxErr</th><th>HSC_Y_m_slot_ModelFlux_flux</th><th>HSC_Y_m_slot_ModelFlux_flag</th><th>HSC_Y_m_base_PsfFlux_magErr</th><th>HSC_Y_m_base_PsfFlux_mag</th><th>HSC_Y_m_base_PsfFlux_fluxErr</th><th>HSC_Y_m_base_PsfFlux_flux</th><th>HSC_Y_m_base_PsfFlux_flag</th><th>HSC_Y_m_base_CircularApertureFlux_6_0_magErr</th><th>HSC_Y_m_base_CircularApertureFlux_6_0_mag</th><th>HSC_Y_m_base_CircularApertureFlux_6_0_fluxErr</th><th>HSC_Y_m_base_CircularApertureFlux_6_0_flux</th><th>HSC_Y_m_base_CircularApertureFlux_6_0_flag</th><th>HSC_R_m_slot_ModelFlux_magErr</th><th>HSC_R_m_slot_ModelFlux_mag</th><th>HSC_R_m_slot_ModelFlux_fluxErr</th><th>HSC_R_m_slot_ModelFlux_flux</th><th>HSC_R_m_slot_ModelFlux_flag</th><th>HSC_R_m_base_PsfFlux_magErr</th><th>HSC_R_m_base_PsfFlux_mag</th><th>HSC_R_m_base_PsfFlux_fluxErr</th><th>HSC_R_m_base_PsfFlux_flux</th><th>HSC_R_m_base_PsfFlux_flag</th><th>HSC_R_m_base_CircularApertureFlux_6_0_magErr</th><th>HSC_R_m_base_CircularApertureFlux_6_0_mag</th><th>HSC_R_m_base_CircularApertureFlux_6_0_fluxErr</th><th>HSC_R_m_base_CircularApertureFlux_6_0_flux</th><th>HSC_R_m_base_CircularApertureFlux_6_0_flag</th><th>HSC_I_m_slot_ModelFlux_magErr</th><th>HSC_I_m_slot_ModelFlux_mag</th><th>HSC_I_m_slot_ModelFlux_fluxErr</th><th>HSC_I_m_slot_ModelFlux_flux</th><th>HSC_I_m_slot_ModelFlux_flag</th><th>HSC_I_m_base_PsfFlux_magErr</th><th>HSC_I_m_base_PsfFlux_mag</th><th>HSC_I_m_base_PsfFlux_fluxErr</th><th>HSC_I_m_base_PsfFlux_flux</th><th>HSC_I_m_base_PsfFlux_flag</th><th>HSC_I_m_base_CircularApertureFlux_6_0_magErr</th><th>HSC_I_m_base_CircularApertureFlux_6_0_mag</th><th>HSC_I_m_base_CircularApertureFlux_6_0_fluxErr</th><th>HSC_I_m_base_CircularApertureFlux_6_0_flux</th><th>HSC_I_m_base_CircularApertureFlux_6_0_flag</th><th>HSC_G_m_slot_ModelFlux_magErr</th><th>HSC_G_m_slot_ModelFlux_mag</th><th>HSC_G_m_slot_ModelFlux_fluxErr</th><th>HSC_G_m_slot_ModelFlux_flux</th><th>HSC_G_m_slot_ModelFlux_flag</th><th>HSC_G_m_base_PsfFlux_magErr</th><th>HSC_G_m_base_PsfFlux_mag</th><th>HSC_G_m_base_PsfFlux_fluxErr</th><th>HSC_G_m_base_PsfFlux_flux</th><th>HSC_G_m_base_PsfFlux_flag</th><th>HSC_G_m_base_CircularApertureFlux_6_0_magErr</th><th>HSC_G_m_base_CircularApertureFlux_6_0_mag</th><th>HSC_G_m_base_CircularApertureFlux_6_0_fluxErr</th><th>HSC_G_m_base_CircularApertureFlux_6_0_flux</th><th>HSC_G_m_base_CircularApertureFlux_6_0_flag</th></tr></thead>\n",
       "<thead><tr><th></th><th>mag</th><th>mag</th><th>nJy</th><th>nJy</th><th></th><th>mag</th><th>mag</th><th>nJy</th><th>nJy</th><th></th><th>mag</th><th>mag</th><th>nJy</th><th>nJy</th><th></th><th>mag</th><th>mag</th><th>nJy</th><th>nJy</th><th></th><th>mag</th><th>mag</th><th>nJy</th><th>nJy</th><th></th><th>mag</th><th>mag</th><th>nJy</th><th>nJy</th><th></th><th>mag</th><th>mag</th><th>nJy</th><th>nJy</th><th></th><th></th><th></th><th></th><th></th><th></th><th>rad</th><th>rad</th><th>mag</th><th>mag</th><th>nJy</th><th>nJy</th><th></th><th></th><th></th><th>mag</th><th>mag</th><th>nJy</th><th>nJy</th><th></th><th>mag</th><th>mag</th><th>nJy</th><th>nJy</th><th></th><th>mag</th><th>mag</th><th>nJy</th><th>nJy</th><th></th><th>mag</th><th>mag</th><th>nJy</th><th>nJy</th><th></th><th>mag</th><th>mag</th><th>nJy</th><th>nJy</th><th></th><th>mag</th><th>mag</th><th>nJy</th><th>nJy</th><th></th><th>mag</th><th>mag</th><th>nJy</th><th>nJy</th><th></th><th>mag</th><th>mag</th><th>nJy</th><th>nJy</th><th></th><th>mag</th><th>mag</th><th>nJy</th><th>nJy</th><th></th><th>mag</th><th>mag</th><th>nJy</th><th>nJy</th><th></th><th>mag</th><th>mag</th><th>nJy</th><th>nJy</th><th></th><th>mag</th><th>mag</th><th>nJy</th><th>nJy</th><th></th><th>mag</th><th>mag</th><th>nJy</th><th>nJy</th><th></th><th>mag</th><th>mag</th><th>nJy</th><th>nJy</th><th></th><th>mag</th><th>mag</th><th>nJy</th><th>nJy</th><th></th><th>mag</th><th>mag</th><th>nJy</th><th>nJy</th><th></th><th>mag</th><th>mag</th><th>nJy</th><th>nJy</th><th></th><th>mag</th><th>mag</th><th>nJy</th><th>nJy</th><th></th><th>mag</th><th>mag</th><th>nJy</th><th>nJy</th><th></th><th>mag</th><th>mag</th><th>nJy</th><th>nJy</th><th></th><th>mag</th><th>mag</th><th>nJy</th><th>nJy</th><th></th><th>mag</th><th>mag</th><th>nJy</th><th>nJy</th><th></th></tr></thead>\n",
       "<thead><tr><th>int64</th><th>float64</th><th>float64</th><th>float64</th><th>float64</th><th>int64</th><th>float64</th><th>float64</th><th>float64</th><th>float64</th><th>int64</th><th>float64</th><th>float64</th><th>float64</th><th>float64</th><th>int64</th><th>float64</th><th>float64</th><th>float64</th><th>float64</th><th>int64</th><th>float64</th><th>float64</th><th>float64</th><th>float64</th><th>int64</th><th>float64</th><th>float64</th><th>float64</th><th>float64</th><th>int64</th><th>float64</th><th>float64</th><th>float64</th><th>float64</th><th>int64</th><th>int64</th><th>int64</th><th>int64</th><th>int64</th><th>int32</th><th>float64</th><th>float64</th><th>float64</th><th>float64</th><th>float64</th><th>float64</th><th>int64</th><th>float64</th><th>int64</th><th>float64</th><th>float64</th><th>float64</th><th>float64</th><th>int64</th><th>float64</th><th>float64</th><th>float64</th><th>float64</th><th>int64</th><th>float64</th><th>float64</th><th>float64</th><th>float64</th><th>int64</th><th>float64</th><th>float64</th><th>float64</th><th>float64</th><th>int64</th><th>float64</th><th>float64</th><th>float64</th><th>float64</th><th>int64</th><th>float64</th><th>float64</th><th>float64</th><th>float64</th><th>int64</th><th>float64</th><th>float64</th><th>float64</th><th>float64</th><th>int64</th><th>float64</th><th>float64</th><th>float64</th><th>float64</th><th>int64</th><th>float64</th><th>float64</th><th>float64</th><th>float64</th><th>int64</th><th>float64</th><th>float64</th><th>float64</th><th>float64</th><th>int64</th><th>float64</th><th>float64</th><th>float64</th><th>float64</th><th>int64</th><th>float64</th><th>float64</th><th>float64</th><th>float64</th><th>int64</th><th>float64</th><th>float64</th><th>float64</th><th>float64</th><th>int64</th><th>float64</th><th>float64</th><th>float64</th><th>float64</th><th>int64</th><th>float64</th><th>float64</th><th>float64</th><th>float64</th><th>int64</th><th>float64</th><th>float64</th><th>float64</th><th>float64</th><th>int64</th><th>float64</th><th>float64</th><th>float64</th><th>float64</th><th>int64</th><th>float64</th><th>float64</th><th>float64</th><th>float64</th><th>int64</th><th>float64</th><th>float64</th><th>float64</th><th>float64</th><th>int64</th><th>float64</th><th>float64</th><th>float64</th><th>float64</th><th>int64</th><th>float64</th><th>float64</th><th>float64</th><th>float64</th><th>int64</th><th>float64</th><th>float64</th><th>float64</th><th>float64</th><th>int64</th></tr></thead>\n",
       "<tr><td>149940984795365508</td><td>nan</td><td>nan</td><td>nan</td><td>nan</td><td>1</td><td>nan</td><td>nan</td><td>nan</td><td>nan</td><td>1</td><td>nan</td><td>27.18675703846181</td><td>nan</td><td>48.45037966650107</td><td>1</td><td>nan</td><td>nan</td><td>nan</td><td>nan</td><td>1</td><td>nan</td><td>nan</td><td>nan</td><td>nan</td><td>1</td><td>nan</td><td>26.961512523800923</td><td>nan</td><td>59.62041442034508</td><td>1</td><td>nan</td><td>nan</td><td>nan</td><td>nan</td><td>1</td><td>0</td><td>1</td><td>0</td><td>1</td><td>42</td><td>0.5923791624429445</td><td>-0.09897291477955396</td><td>nan</td><td>nan</td><td>nan</td><td>nan</td><td>1</td><td>nan</td><td>1</td><td>nan</td><td>26.110257449040954</td><td>nan</td><td>130.58612064837502</td><td>1</td><td>nan</td><td>nan</td><td>nan</td><td>nan</td><td>1</td><td>nan</td><td>nan</td><td>nan</td><td>nan</td><td>1</td><td>nan</td><td>26.54704125043186</td><td>nan</td><td>87.33402976488259</td><td>1</td><td>nan</td><td>nan</td><td>nan</td><td>nan</td><td>1</td><td>nan</td><td>nan</td><td>nan</td><td>nan</td><td>1</td><td>nan</td><td>26.27611129839359</td><td>nan</td><td>112.08706069785153</td><td>1</td><td>0.008255169055344392</td><td>20.95934143079446</td><td>114.0945971310669</td><td>15005.947672542778</td><td>0</td><td>0.00985861886379016</td><td>21.914915090440324</td><td>56.510053814539404</td><td>6223.489538136749</td><td>0</td><td>0.009863069681209025</td><td>21.59080458061823</td><td>76.20192615686764</td><td>8388.38138378385</td><td>0</td><td>0.01824201411699794</td><td>20.724812992311527</td><td>312.9127580938468</td><td>18624.07891004979</td><td>0</td><td>0.021172890013666405</td><td>21.641942883763576</td><td>156.0553521475145</td><td>8002.447736868756</td><td>0</td><td>0.021639224106723955</td><td>21.574611264057676</td><td>169.6964898597365</td><td>8514.428334047156</td><td>0</td><td>0.006589304684646784</td><td>21.22631041886899</td><td>71.21821787843209</td><td>11734.803790319998</td><td>0</td><td>0.007820527687548052</td><td>22.16545582594224</td><td>35.590116332810894</td><td>4941.03203491139</td><td>0</td><td>0.007780693043998768</td><td>22.051113416722764</td><td>39.34128993874052</td><td>5489.7761146512175</td><td>0</td><td>0.0044832111497577366</td><td>21.024868061888693</td><td>58.33344817539366</td><td>14127.09205896524</td><td>0</td><td>0.005514603482639197</td><td>22.04626379542929</td><td>28.008151866987717</td><td>5514.351957685832</td><td>0</td><td>0.005369505103541139</td><td>21.700158280189633</td><td>37.5099622821001</td><td>7584.669965567137</td><td>0</td><td>0.005998019616362564</td><td>21.674181108879402</td><td>42.91519776859144</td><td>7768.328036908258</td><td>0</td><td>0.007271379532172316</td><td>22.713835861847492</td><td>19.96908422204233</td><td>2981.7117398159603</td><td>0</td><td>0.007204360487258016</td><td>22.627482139924663</td><td>21.422899957962713</td><td>3228.547230029594</td><td>0</td></tr>\n",
       "<tr><td>149940984795365517</td><td>nan</td><td>nan</td><td>nan</td><td>nan</td><td>1</td><td>nan</td><td>nan</td><td>nan</td><td>nan</td><td>1</td><td>nan</td><td>27.18675857568718</td><td>nan</td><td>48.45031106871497</td><td>1</td><td>nan</td><td>nan</td><td>nan</td><td>nan</td><td>1</td><td>nan</td><td>nan</td><td>nan</td><td>nan</td><td>1</td><td>nan</td><td>26.9615143976347</td><td>nan</td><td>59.62031152366591</td><td>1</td><td>nan</td><td>nan</td><td>nan</td><td>nan</td><td>1</td><td>0</td><td>1</td><td>0</td><td>1</td><td>5</td><td>0.5954287292386373</td><td>-0.09898610829559232</td><td>nan</td><td>nan</td><td>nan</td><td>nan</td><td>1</td><td>nan</td><td>1</td><td>nan</td><td>26.110260642975895</td><td>nan</td><td>130.5857365007728</td><td>1</td><td>nan</td><td>nan</td><td>nan</td><td>nan</td><td>1</td><td>nan</td><td>nan</td><td>nan</td><td>nan</td><td>1</td><td>nan</td><td>26.54704329717136</td><td>nan</td><td>87.33386513019592</td><td>1</td><td>nan</td><td>nan</td><td>nan</td><td>nan</td><td>1</td><td>nan</td><td>nan</td><td>nan</td><td>nan</td><td>1</td><td>nan</td><td>26.276113956298637</td><td>nan</td><td>112.08678630670708</td><td>1</td><td>0.07724413268297059</td><td>23.9453089351187</td><td>68.2366358049492</td><td>959.1276827251063</td><td>0</td><td>0.07976053724293175</td><td>24.323564000751684</td><td>49.73225482911096</td><td>676.9777571553172</td><td>0</td><td>0.09960732390742902</td><td>24.14635280951348</td><td>73.11825673768351</td><td>797.0010181448322</td><td>0</td><td>0.20827322306710136</td><td>24.224315002511144</td><td>142.29286274528593</td><td>741.7780859494446</td><td>0</td><td>0.20817931416255223</td><td>24.239298853280257</td><td>140.2793394351018</td><td>731.6113909632719</td><td>0</td><td>0.3685761912278088</td><td>24.747161764819666</td><td>155.57444198769826</td><td>458.2846321093106</td><td>0</td><td>0.047174713722089326</td><td>24.298455754122546</td><td>30.102506006577332</td><td>692.8156642948791</td><td>0</td><td>0.046954518700210335</td><td>24.30262433275418</td><td>29.847182437265342</td><td>690.1607657627806</td><td>0</td><td>0.0570244463798675</td><td>24.43763337490161</td><td>32.00983295054347</td><td>609.4620246052011</td><td>0</td><td>0.03852548175408687</td><td>24.139458791828755</td><td>28.4603503172249</td><td>802.0777763858229</td><td>0</td><td>0.038800680527725465</td><td>24.349596388024466</td><td>23.619813688128684</td><td>660.9391000891881</td><td>0</td><td>0.05047465424803473</td><td>24.267061747219515</td><td>33.15311452284161</td><td>713.1408282869651</td><td>0</td><td>0.031568973086524434</td><td>24.359994938898588</td><td>19.034354758183806</td><td>654.639225625998</td><td>0</td><td>0.03155804120810319</td><td>24.49988796777424</td><td>16.72748048362974</td><td>575.4993174544196</td><td>0</td><td>0.037919384403130744</td><td>24.62757179288728</td><td>17.869328844152577</td><td>511.6480023663926</td><td>0</td></tr>\n",
       "<tr><td>149940984795365526</td><td>nan</td><td>nan</td><td>nan</td><td>nan</td><td>1</td><td>nan</td><td>nan</td><td>nan</td><td>nan</td><td>1</td><td>nan</td><td>27.18675703846181</td><td>nan</td><td>48.45037966650107</td><td>1</td><td>nan</td><td>nan</td><td>nan</td><td>nan</td><td>1</td><td>nan</td><td>nan</td><td>nan</td><td>nan</td><td>1</td><td>nan</td><td>26.961512523800923</td><td>nan</td><td>59.62041442034508</td><td>1</td><td>nan</td><td>nan</td><td>nan</td><td>nan</td><td>1</td><td>0</td><td>1</td><td>0</td><td>1</td><td>5</td><td>0.5941363706515038</td><td>-0.09901186760214015</td><td>nan</td><td>nan</td><td>nan</td><td>nan</td><td>1</td><td>nan</td><td>1</td><td>nan</td><td>26.110257449040954</td><td>nan</td><td>130.58612064837502</td><td>1</td><td>nan</td><td>nan</td><td>nan</td><td>nan</td><td>1</td><td>nan</td><td>nan</td><td>nan</td><td>nan</td><td>1</td><td>nan</td><td>26.54704125043186</td><td>nan</td><td>87.33402976488259</td><td>1</td><td>nan</td><td>nan</td><td>nan</td><td>nan</td><td>1</td><td>nan</td><td>nan</td><td>nan</td><td>nan</td><td>1</td><td>nan</td><td>26.27611129839359</td><td>nan</td><td>112.08706069785153</td><td>1</td><td>0.03254184214712046</td><td>22.761833310281702</td><td>85.50361763526932</td><td>2852.7694555430153</td><td>0</td><td>0.03409687163097866</td><td>23.22170613782507</td><td>58.65536740172611</td><td>1867.7448383148317</td><td>0</td><td>0.042709873022327115</td><td>23.05326227906707</td><td>85.80232351840957</td><td>2181.1979878190537</td><td>0</td><td>0.06179551100976269</td><td>22.347925303120874</td><td>237.71822932947524</td><td>4176.667267517726</td><td>0</td><td>0.06423702392400304</td><td>22.865206968288913</td><td>153.4540322700992</td><td>2593.6848942267497</td><td>0</td><td>0.07310342460312069</td><td>22.88659199679172</td><td>171.22871744938396</td><td>2543.0986145779</td><td>0</td><td>0.030135169308616157</td><td>23.432501586811384</td><td>42.692214334098026</td><td>1538.1523922804456</td><td>0</td><td>0.030894355314565643</td><td>23.847730857783</td><td>29.858121018653875</td><td>1049.3192903985985</td><td>0</td><td>0.03606172610882982</td><td>23.92347017563168</td><td>32.50379874853654</td><td>978.6151385808763</td><td>0</td><td>0.019365297828455117</td><td>23.08002630099611</td><td>37.95677803876589</td><td>2128.087494327168</td><td>0</td><td>0.020292594534544368</td><td>23.47572195398634</td><td>27.626411490895563</td><td>1478.1251905541415</td><td>0</td><td>0.023787318790066663</td><td>23.300210641353395</td><td>38.06597134773956</td><td>1737.463714438689</td><td>0</td><td>0.0285448919694596</td><td>23.88820956587636</td><td>26.577875175257322</td><td>1010.9185683446638</td><td>0</td><td>0.030365351205629512</td><td>24.390313167220047</td><td>17.80445653139282</td><td>636.6118715792003</td><td>0</td><td>0.0327863234273612</td><td>24.373300933971223</td><td>19.52756199215923</td><td>646.6654028018438</td><td>0</td></tr>\n",
       "<tr><td>149940984795365528</td><td>nan</td><td>nan</td><td>nan</td><td>nan</td><td>1</td><td>nan</td><td>nan</td><td>nan</td><td>nan</td><td>1</td><td>nan</td><td>27.18675703846181</td><td>nan</td><td>48.45037966650107</td><td>1</td><td>nan</td><td>nan</td><td>nan</td><td>nan</td><td>1</td><td>nan</td><td>nan</td><td>nan</td><td>nan</td><td>1</td><td>nan</td><td>26.961512523800923</td><td>nan</td><td>59.62041442034508</td><td>1</td><td>nan</td><td>nan</td><td>nan</td><td>nan</td><td>1</td><td>0</td><td>1</td><td>0</td><td>1</td><td>10</td><td>0.5925723000995435</td><td>-0.09901128174937149</td><td>nan</td><td>nan</td><td>nan</td><td>nan</td><td>1</td><td>nan</td><td>1</td><td>nan</td><td>26.110257449040954</td><td>nan</td><td>130.58612064837502</td><td>1</td><td>nan</td><td>nan</td><td>nan</td><td>nan</td><td>1</td><td>nan</td><td>nan</td><td>nan</td><td>nan</td><td>1</td><td>nan</td><td>26.54704125043186</td><td>nan</td><td>87.33402976488259</td><td>1</td><td>nan</td><td>nan</td><td>nan</td><td>nan</td><td>1</td><td>nan</td><td>nan</td><td>nan</td><td>nan</td><td>1</td><td>nan</td><td>26.27611129839359</td><td>nan</td><td>112.08706069785153</td><td>1</td><td>0.0247355393346742</td><td>22.27400478452553</td><td>101.8580013885488</td><td>4470.93222248141</td><td>0</td><td>0.02908158825167941</td><td>23.1477442692961</td><td>53.55451536259678</td><td>1999.4119906463134</td><td>0</td><td>0.030713719690781877</td><td>22.769904145811225</td><td>80.1025677694968</td><td>2831.6419761927023</td><td>0</td><td>0.056224869094839446</td><td>22.168260632933222</td><td>255.2112882896781</td><td>4928.284227601707</td><td>0</td><td>0.06710954500906148</td><td>22.970508393590855</td><td>145.49786377350512</td><td>2353.946795385523</td><td>0</td><td>0.0653880896228177</td><td>22.842082619122415</td><td>159.56633923518837</td><td>2649.5184760361267</td><td>0</td><td>0.01739130510261736</td><td>22.36293284699577</td><td>65.98340383289647</td><td>4119.332622355654</td><td>0</td><td>0.019218036201502513</td><td>23.033452191192353</td><td>39.319121933176405</td><td>2221.3609015270486</td><td>0</td><td>0.020164956852633937</td><td>23.054925395099943</td><td>40.448537093995554</td><td>2177.8594158864666</td><td>0</td><td>0.010902761109428375</td><td>22.38466818769514</td><td>40.54570920745587</td><td>4037.687700601002</td><td>0</td><td>0.012543012295113348</td><td>23.17248174621238</td><td>22.57796677050353</td><td>1954.372313109507</td><td>0</td><td>0.013173184949681144</td><td>22.86001603303209</td><td>31.619868256070404</td><td>2606.115065296256</td><td>0</td><td>0.014033262738407217</td><td>22.86771852491111</td><td>33.446211092773055</td><td>2587.692040855233</td><td>0</td><td>0.016355866847925622</td><td>23.5649374283097</td><td>20.510406840522506</td><td>1361.5231456777478</td><td>0</td><td>0.016355167821062697</td><td>23.497672582470276</td><td>21.82034695595562</td><td>1448.541583288107</td><td>0</td></tr>\n",
       "<tr><td>149940984795365543</td><td>nan</td><td>nan</td><td>nan</td><td>nan</td><td>1</td><td>nan</td><td>nan</td><td>nan</td><td>nan</td><td>1</td><td>nan</td><td>27.18675703846181</td><td>nan</td><td>48.45037966650107</td><td>1</td><td>nan</td><td>nan</td><td>nan</td><td>nan</td><td>1</td><td>nan</td><td>nan</td><td>nan</td><td>nan</td><td>1</td><td>nan</td><td>26.961512523800923</td><td>nan</td><td>59.62041442034508</td><td>1</td><td>nan</td><td>nan</td><td>nan</td><td>nan</td><td>1</td><td>0</td><td>1</td><td>0</td><td>1</td><td>4</td><td>0.5945586988523045</td><td>-0.09900465465985166</td><td>nan</td><td>nan</td><td>nan</td><td>nan</td><td>1</td><td>nan</td><td>1</td><td>nan</td><td>26.110257449040954</td><td>nan</td><td>130.58612064837502</td><td>1</td><td>nan</td><td>nan</td><td>nan</td><td>nan</td><td>1</td><td>nan</td><td>nan</td><td>nan</td><td>nan</td><td>1</td><td>nan</td><td>26.54704125043186</td><td>nan</td><td>87.33402976488259</td><td>1</td><td>nan</td><td>nan</td><td>nan</td><td>nan</td><td>1</td><td>nan</td><td>nan</td><td>nan</td><td>nan</td><td>1</td><td>nan</td><td>26.27611129839359</td><td>nan</td><td>112.08706069785153</td><td>1</td><td>0.10539788179061915</td><td>24.208926512210077</td><td>73.03599630461284</td><td>752.3664051999662</td><td>0</td><td>0.10537332881336872</td><td>24.37281069443751</td><td>62.78878830871202</td><td>646.9574558131792</td><td>0</td><td>0.15248054346561254</td><td>24.38249851774083</td><td>90.0514487442516</td><td>641.2104519722186</td><td>0</td><td>0.14645339388240053</td><td>22.753448833940286</td><td>387.78909026997997</td><td>2874.8849306586953</td><td>0</td><td>0.17525858255837096</td><td>23.876715217238242</td><td>164.91831468320078</td><td>1021.6776974081084</td><td>0</td><td>0.18836446705013388</td><td>23.840878884305788</td><td>183.1990036863089</td><td>1055.9623802344001</td><td>0</td><td>0.0921359026057577</td><td>24.716461023017878</td><td>40.00554263640728</td><td>471.4282359309955</td><td>0</td><td>0.09301492059071559</td><td>24.912229399036207</td><td>33.7238027183115</td><td>393.6481732270188</td><td>0</td><td>0.10835775427689424</td><td>24.98569740326242</td><td>36.716114402352446</td><td>367.89258849724865</td><td>0</td><td>0.062084402358809465</td><td>24.384949240268817</td><td>36.582930228616135</td><td>639.7647447066573</td><td>0</td><td>0.06363954930217006</td><td>24.683605792425716</td><td>28.481342627702602</td><td>485.9120655331746</td><td>0</td><td>0.08114130928766211</td><td>24.56992923154612</td><td>40.32236518600507</td><td>539.5457890470758</td><td>0</td><td>0.052365284250588964</td><td>23.166805036255283</td><td>94.7539079863253</td><td>1964.6173971053495</td><td>0</td><td>0.06525413504289043</td><td>25.08788126991334</td><td>20.124783150855006</td><td>334.847832484913</td><td>0</td><td>0.07281630064086614</td><td>25.079709728521063</td><td>22.626657338494645</td><td>337.37749444624404</td><td>0</td></tr>\n",
       "<tr><td>149940984795365546</td><td>nan</td><td>nan</td><td>nan</td><td>nan</td><td>1</td><td>nan</td><td>nan</td><td>nan</td><td>nan</td><td>1</td><td>nan</td><td>27.18675703846181</td><td>nan</td><td>48.45037966650107</td><td>1</td><td>nan</td><td>nan</td><td>nan</td><td>nan</td><td>1</td><td>nan</td><td>nan</td><td>nan</td><td>nan</td><td>1</td><td>nan</td><td>26.961512523800923</td><td>nan</td><td>59.62041442034508</td><td>1</td><td>nan</td><td>nan</td><td>nan</td><td>nan</td><td>1</td><td>0</td><td>1</td><td>0</td><td>1</td><td>7</td><td>0.5934292210297583</td><td>-0.09901407581137225</td><td>nan</td><td>nan</td><td>nan</td><td>nan</td><td>1</td><td>nan</td><td>1</td><td>nan</td><td>26.110257449040954</td><td>nan</td><td>130.58612064837502</td><td>1</td><td>nan</td><td>nan</td><td>nan</td><td>nan</td><td>1</td><td>nan</td><td>nan</td><td>nan</td><td>nan</td><td>1</td><td>nan</td><td>26.54704125043186</td><td>nan</td><td>87.33402976488259</td><td>1</td><td>nan</td><td>nan</td><td>nan</td><td>nan</td><td>1</td><td>nan</td><td>nan</td><td>nan</td><td>nan</td><td>1</td><td>nan</td><td>26.27611129839359</td><td>nan</td><td>112.08706069785153</td><td>1</td><td>0.012875160112715037</td><td>21.539459728535544</td><td>104.29042256794337</td><td>8794.600346734074</td><td>0</td><td>0.014999912086956474</td><td>22.377410296195535</td><td>56.156531427526524</td><td>4064.769110048464</td><td>0</td><td>0.01601806293946422</td><td>22.042204182126643</td><td>81.65898979830497</td><td>5535.008946029275</td><td>0</td><td>0.025556027600508624</td><td>21.40925944672755</td><td>233.38086750513793</td><td>9915.079968967682</td><td>0</td><td>0.027981497840498505</td><td>22.047315816908952</td><td>141.97775728923045</td><td>5509.011427407334</td><td>0</td><td>0.0310102527893636</td><td>22.05927091154273</td><td>155.62258391398962</td><td>5448.6841749120795</td><td>0</td><td>0.008437469668298466</td><td>21.769427110922102</td><td>55.29897230000317</td><td>7115.888847294463</td><td>0</td><td>0.00915625454213423</td><td>22.375963144630738</td><td>34.324820883863154</td><td>4070.190554877414</td><td>0</td><td>0.009797058501889876</td><td>22.38162655002189</td><td>36.53598004591923</td><td>4049.0149471418345</td><td>0</td><td>0.005978789045864173</td><td>21.553214339529386</td><td>47.81929558833814</td><td>8683.889012977383</td><td>0</td><td>0.006732945116574019</td><td>22.374192909662398</td><td>25.281543811191273</td><td>4076.8321964216952</td><td>0</td><td>0.007383192582304988</td><td>22.110898012391612</td><td>35.33138577239677</td><td>5195.660856701032</td><td>0</td><td>0.006657176540590793</td><td>22.30557931984279</td><td>26.627722736882077</td><td>4342.784429617726</td><td>0</td><td>0.007213820734591662</td><td>22.86113528217993</td><td>17.29764233577894</td><td>2603.4298926857446</td><td>0</td><td>0.007688952504852365</td><td>22.8580962439407</td><td>18.48861422264373</td><td>2610.7272511648594</td><td>0</td></tr>\n",
       "<tr><td>149940984795365553</td><td>nan</td><td>nan</td><td>nan</td><td>nan</td><td>1</td><td>nan</td><td>nan</td><td>nan</td><td>nan</td><td>1</td><td>nan</td><td>27.18675703846181</td><td>nan</td><td>48.45037966650107</td><td>1</td><td>nan</td><td>nan</td><td>nan</td><td>nan</td><td>1</td><td>nan</td><td>nan</td><td>nan</td><td>nan</td><td>1</td><td>nan</td><td>26.961512523800923</td><td>nan</td><td>59.62041442034508</td><td>1</td><td>nan</td><td>nan</td><td>nan</td><td>nan</td><td>1</td><td>0</td><td>1</td><td>0</td><td>1</td><td>3</td><td>0.5946945645966063</td><td>-0.09900061639125259</td><td>nan</td><td>nan</td><td>nan</td><td>nan</td><td>1</td><td>nan</td><td>1</td><td>nan</td><td>26.110257449040954</td><td>nan</td><td>130.58612064837502</td><td>1</td><td>nan</td><td>nan</td><td>nan</td><td>nan</td><td>1</td><td>nan</td><td>nan</td><td>nan</td><td>nan</td><td>1</td><td>nan</td><td>26.54704125043186</td><td>nan</td><td>87.33402976488259</td><td>1</td><td>nan</td><td>nan</td><td>nan</td><td>nan</td><td>1</td><td>nan</td><td>nan</td><td>nan</td><td>nan</td><td>1</td><td>nan</td><td>26.27611129839359</td><td>nan</td><td>112.08706069785153</td><td>1</td><td>0.0024379726008496006</td><td>19.933307715671532</td><td>86.69247746855667</td><td>38607.965255634546</td><td>0</td><td>0.002527465744454431</td><td>20.13205377308894</td><td>74.84097711519009</td><td>32149.81592993912</td><td>0</td><td>0.0031296189236722444</td><td>20.098954145878672</td><td>95.5400536477419</td><td>33145.024292021706</td><td>0</td><td>0.0049053272737692956</td><td>19.897867037578425</td><td>180.21745524311766</td><td>39889.00331546628</td><td>0</td><td>0.004951913364171615</td><td>20.017404623377644</td><td>162.96219608021286</td><td>35730.42242042111</td><td>0</td><td>0.006108795047199962</td><td>20.150126224140976</td><td>177.9019649603069</td><td>31619.100454770047</td><td>0</td><td>0.0016388215335912623</td><td>20.014259957062347</td><td>54.08830339613328</td><td>35834.06005316178</td><td>0</td><td>0.0016727128065116938</td><td>20.114804566963443</td><td>50.324009443535054</td><td>32664.66234295196</td><td>0</td><td>0.001761387174373153</td><td>20.253141198702934</td><td>46.65240425346692</td><td>28756.996232260757</td><td>0</td><td>0.0013563243087182843</td><td>19.938175072272973</td><td>48.01414465796723</td><td>38435.27308370094</td><td>0</td><td>0.0014005769089186749</td><td>20.09059224607183</td><td>43.08694908686414</td><td>33401.27934302177</td><td>0</td><td>0.0016002920639263014</td><td>20.07873308881225</td><td>49.771610755744874</td><td>33768.110824756295</td><td>0</td><td>0.0015690899396339076</td><td>20.299683123996015</td><td>39.815325296706455</td><td>27550.32652171766</td><td>0</td><td>0.0016028960406424201</td><td>20.399772054607226</td><td>37.091313604725705</td><td>25124.138460375885</td><td>0</td><td>0.0015792634090998233</td><td>20.51557602864358</td><td>32.84731245214582</td><td>22582.3736260852</td><td>0</td></tr>\n",
       "<tr><td>149940984795365557</td><td>nan</td><td>nan</td><td>nan</td><td>nan</td><td>1</td><td>nan</td><td>nan</td><td>nan</td><td>nan</td><td>1</td><td>nan</td><td>27.18675703846181</td><td>nan</td><td>48.45037966650107</td><td>1</td><td>nan</td><td>nan</td><td>nan</td><td>nan</td><td>1</td><td>nan</td><td>nan</td><td>nan</td><td>nan</td><td>1</td><td>nan</td><td>26.961512523800923</td><td>nan</td><td>59.62041442034508</td><td>1</td><td>nan</td><td>nan</td><td>nan</td><td>nan</td><td>1</td><td>0</td><td>1</td><td>0</td><td>1</td><td>2</td><td>0.5932221517617453</td><td>-0.09901318323734348</td><td>nan</td><td>nan</td><td>nan</td><td>nan</td><td>1</td><td>nan</td><td>1</td><td>nan</td><td>26.110257449040954</td><td>nan</td><td>130.58612064837502</td><td>1</td><td>nan</td><td>nan</td><td>nan</td><td>nan</td><td>1</td><td>nan</td><td>nan</td><td>nan</td><td>nan</td><td>1</td><td>nan</td><td>26.54704125043186</td><td>nan</td><td>87.33402976488259</td><td>1</td><td>nan</td><td>nan</td><td>nan</td><td>nan</td><td>1</td><td>nan</td><td>nan</td><td>nan</td><td>nan</td><td>1</td><td>nan</td><td>26.27611129839359</td><td>nan</td><td>112.08706069785153</td><td>1</td><td>0.019885324862863298</td><td>22.339687929270426</td><td>77.07849011220073</td><td>4208.4757427924515</td><td>0</td><td>0.020527312254060678</td><td>22.758206207677596</td><td>54.11594985138426</td><td>2862.3155959884743</td><td>0</td><td>0.0262012752209655</td><td>22.619913994304383</td><td>78.45714697299067</td><td>3251.1304992683745</td><td>0</td><td>0.04220055398107224</td><td>22.25090585744784</td><td>177.513541771693</td><td>4567.069883082958</td><td>0</td><td>0.04300542104616166</td><td>22.47293133703402</td><td>147.44374363910376</td><td>3722.437933167011</td><td>0</td><td>0.04920855217885783</td><td>22.52179970616158</td><td>161.2858936591426</td><td>3558.607727900953</td><td>0</td><td>0.01844933174383745</td><td>22.8712341708179</td><td>43.82910999311153</td><td>2579.3265687112353</td><td>0</td><td>0.018886570889084242</td><td>23.224566366915504</td><td>32.404270311773836</td><td>1862.8309857241507</td><td>0</td><td>0.021556324130898495</td><td>23.2851602224984</td><td>34.97730114994807</td><td>1761.7160501308476</td><td>0</td><td>0.010876891781333577</td><td>22.51088012693055</td><td>36.0104407401727</td><td>3594.5783084833615</td><td>0</td><td>0.01128515764771992</td><td>22.93778695197149</td><td>25.21555488629663</td><td>2425.9688448968554</td><td>0</td><td>0.013944122565605704</td><td>22.781210493371574</td><td>35.99006857439503</td><td>2802.307587236208</td><td>0</td><td>0.019243966409075247</td><td>23.677883852982614</td><td>21.74787003461977</td><td>1227.0053569531144</td><td>0</td><td>0.019779997148689478</td><td>24.006055184942955</td><td>16.522654847958943</td><td>906.9386831706399</td><td>0</td><td>0.022202678029628907</td><td>24.026662807061854</td><td>18.19767557725313</td><td>889.8870303077913</td><td>0</td></tr>\n",
       "<tr><td>149940984795365558</td><td>nan</td><td>nan</td><td>nan</td><td>nan</td><td>1</td><td>nan</td><td>nan</td><td>nan</td><td>nan</td><td>1</td><td>nan</td><td>27.186529015186117</td><td>nan</td><td>48.46055614807036</td><td>1</td><td>nan</td><td>nan</td><td>nan</td><td>nan</td><td>1</td><td>nan</td><td>nan</td><td>nan</td><td>nan</td><td>1</td><td>nan</td><td>26.961245847776375</td><td>nan</td><td>59.635060047679374</td><td>1</td><td>nan</td><td>nan</td><td>nan</td><td>nan</td><td>1</td><td>0</td><td>1</td><td>1</td><td>1</td><td>0</td><td>0.593068281511711</td><td>-0.09901475128874525</td><td>nan</td><td>nan</td><td>nan</td><td>nan</td><td>1</td><td>nan</td><td>1</td><td>nan</td><td>26.109723167549642</td><td>nan</td><td>130.65039677395924</td><td>1</td><td>nan</td><td>nan</td><td>nan</td><td>nan</td><td>1</td><td>nan</td><td>nan</td><td>nan</td><td>nan</td><td>1</td><td>nan</td><td>26.54671450383777</td><td>nan</td><td>87.3603164365196</td><td>1</td><td>nan</td><td>nan</td><td>nan</td><td>nan</td><td>1</td><td>nan</td><td>nan</td><td>nan</td><td>nan</td><td>1</td><td>nan</td><td>26.27567097336616</td><td>nan</td><td>112.13252731048465</td><td>1</td><td>0.049373743541502875</td><td>23.496427003249387</td><td>65.94789466878416</td><td>1450.2043339955972</td><td>0</td><td>0.050440764334473774</td><td>23.722738978413204</td><td>54.696778408061654</td><td>1177.3468024289566</td><td>0</td><td>0.06900871694237012</td><td>23.69072133004616</td><td>77.07101894819839</td><td>1212.5829796189341</td><td>0</td><td>0.11250677876359033</td><td>23.574991389135512</td><td>139.78411292190853</td><td>1348.9735811228331</td><td>0</td><td>0.11545071717160188</td><td>23.612256543239614</td><td>138.6020640498291</td><td>1303.4590228610584</td><td>0</td><td>0.17522444106311547</td><td>23.936985242366756</td><td>155.98263997371913</td><td>966.5090012883409</td><td>0</td><td>0.03993726792756253</td><td>24.018260996310428</td><td>32.9875174800798</td><td>896.8000039005227</td><td>0</td><td>0.03961121835287762</td><td>24.076616595128215</td><td>31.006107078253503</td><td>849.8716884587197</td><td>0</td><td>0.05059373358026328</td><td>24.257760007291992</td><td>33.51725215084459</td><td>719.2767081806237</td><td>0</td><td>0.024313306655973803</td><td>23.70326377516326</td><td>26.84195832253219</td><td>1198.6557965870697</td><td>0</td><td>0.024424924271152115</td><td>23.810181706847114</td><td>24.43634360196043</td><td>1086.243816603925</td><td>0</td><td>0.035961672890159474</td><td>23.846713590262404</td><td>34.78805357763027</td><td>1050.3028982457122</td><td>0</td><td>0.042005114171037916</td><td>24.731328276085414</td><td>17.990636927426053</td><td>465.0168495966825</td><td>0</td><td>0.04163360131857121</td><td>24.76523476244918</td><td>17.28326361634298</td><td>450.71923759504523</td><td>0</td><td>0.05374826094031171</td><td>24.93905159505678</td><td>19.01163461294332</td><td>384.042565280916</td><td>0</td></tr>\n",
       "<tr><td>...</td><td>...</td><td>...</td><td>...</td><td>...</td><td>...</td><td>...</td><td>...</td><td>...</td><td>...</td><td>...</td><td>...</td><td>...</td><td>...</td><td>...</td><td>...</td><td>...</td><td>...</td><td>...</td><td>...</td><td>...</td><td>...</td><td>...</td><td>...</td><td>...</td><td>...</td><td>...</td><td>...</td><td>...</td><td>...</td><td>...</td><td>...</td><td>...</td><td>...</td><td>...</td><td>...</td><td>...</td><td>...</td><td>...</td><td>...</td><td>...</td><td>...</td><td>...</td><td>...</td><td>...</td><td>...</td><td>...</td><td>...</td><td>...</td><td>...</td><td>...</td><td>...</td><td>...</td><td>...</td><td>...</td><td>...</td><td>...</td><td>...</td><td>...</td><td>...</td><td>...</td><td>...</td><td>...</td><td>...</td><td>...</td><td>...</td><td>...</td><td>...</td><td>...</td><td>...</td><td>...</td><td>...</td><td>...</td><td>...</td><td>...</td><td>...</td><td>...</td><td>...</td><td>...</td><td>...</td><td>...</td><td>...</td><td>...</td><td>...</td><td>...</td><td>...</td><td>...</td><td>...</td><td>...</td><td>...</td><td>...</td><td>...</td><td>...</td><td>...</td><td>...</td><td>...</td><td>...</td><td>...</td><td>...</td><td>...</td><td>...</td><td>...</td><td>...</td><td>...</td><td>...</td><td>...</td><td>...</td><td>...</td><td>...</td><td>...</td><td>...</td><td>...</td><td>...</td><td>...</td><td>...</td><td>...</td><td>...</td><td>...</td><td>...</td><td>...</td><td>...</td><td>...</td><td>...</td><td>...</td><td>...</td><td>...</td><td>...</td><td>...</td><td>...</td><td>...</td><td>...</td><td>...</td><td>...</td><td>...</td><td>...</td><td>...</td><td>...</td><td>...</td><td>...</td><td>...</td><td>...</td><td>...</td><td>...</td><td>...</td><td>...</td><td>...</td><td>...</td><td>...</td><td>...</td><td>...</td><td>...</td><td>...</td><td>...</td><td>...</td><td>...</td><td>...</td><td>...</td><td>...</td><td>...</td><td>...</td></tr>\n",
       "<tr><td>149939421427293234</td><td>0.007020039525886773</td><td>23.33570240708354</td><td>10.872621626542555</td><td>1681.5858225644804</td><td>0</td><td>0.007006278871579825</td><td>23.24850687503039</td><td>11.75872813849284</td><td>1822.2050671801298</td><td>0</td><td>0.008739921589968926</td><td>23.76075913643846</td><td>9.151231920184372</td><td>1136.832145643741</td><td>0</td><td>0.008282088877495545</td><td>23.002184480446807</td><td>17.43981102112171</td><td>2286.263104616371</td><td>0</td><td>0.008318425632902037</td><td>23.03539062930881</td><td>16.98871640453855</td><td>2217.398494231761</td><td>0</td><td>0.009987215416875531</td><td>23.40796152902907</td><td>14.472230995401963</td><td>1573.3139318072767</td><td>0</td><td>0.031072914713952716</td><td>22.94291377996696</td><td>69.1022456474164</td><td>2414.540464586685</td><td>0</td><td>0</td><td>1</td><td>1</td><td>1</td><td>0</td><td>0.6021993762216457</td><td>-0.08102209977697392</td><td>0.0310683234865617</td><td>22.943947584938364</td><td>69.02627931348934</td><td>2412.2425068355856</td><td>0</td><td>0.0</td><td>0</td><td>0.03895724474168664</td><td>23.224942220647385</td><td>66.81700816105162</td><td>1862.1862335260291</td><td>0</td><td>0.009548289391669575</td><td>22.584103227068717</td><td>29.550168553304502</td><td>3360.1503409625743</td><td>0</td><td>0.009533084302092687</td><td>22.505282911635923</td><td>31.72458494695806</td><td>3613.1570188963838</td><td>0</td><td>0.012467631746179333</td><td>23.01798013288891</td><td>25.874239452641834</td><td>2253.2425657281137</td><td>0</td><td>0.014107871080486922</td><td>22.26360938946005</td><td>58.653428956418935</td><td>4513.94480342777</td><td>0</td><td>0.014406394950858025</td><td>22.577362120056303</td><td>44.86277657933967</td><td>3381.077705027315</td><td>0</td><td>0.0174050392205552</td><td>22.83023657277075</td><td>42.93940845484989</td><td>2678.584620209819</td><td>0</td><td>0.0356361616375059</td><td>23.212285314684515</td><td>61.83757844196448</td><td>1884.0215849270844</td><td>0</td><td>0.03625759288068784</td><td>23.413028108719818</td><td>52.29538982616136</td><td>1565.9891781300782</td><td>0</td><td>0.0489972229255878</td><td>23.407400044405374</td><td>71.03741149384982</td><td>1574.1277759416757</td><td>0</td><td>0.049212904126619605</td><td>22.85632968795587</td><td>118.52850290362626</td><td>2614.9785139104683</td><td>0</td><td>0.051072249930530764</td><td>23.158547623903573</td><td>93.11971135096378</td><td>1979.6159779114946</td><td>0</td><td>0.07658521317690674</td><td>23.102759443947186</td><td>146.9998284805175</td><td>2083.9928395297493</td><td>0</td><td>0.02149687419243942</td><td>23.27394632694606</td><td>35.24296706743454</td><td>1780.006012300616</td><td>0</td><td>0.021714412455880582</td><td>23.408432056088767</td><td>31.45219361092817</td><td>1572.6322502085036</td><td>0</td><td>0.02545906806232511</td><td>23.563059723477977</td><td>31.98116593572847</td><td>1363.8798420191122</td><td>0</td><td>0.01520129565337011</td><td>23.242816510548614</td><td>25.64659310596572</td><td>1831.7803494384325</td><td>0</td><td>0.015620122611184723</td><td>23.499907601044868</td><td>20.796826955291994</td><td>1445.562786637928</td><td>0</td><td>0.0205323995220912</td><td>23.40002169857572</td><td>29.971377708635902</td><td>1584.861518486198</td><td>0</td><td>0.012319720962895431</td><td>23.311973819504</td><td>19.502353470990364</td><td>1718.7411391230173</td><td>0</td><td>0.01254697426388625</td><td>23.508316745984704</td><td>16.57631491456736</td><td>1434.4099912613883</td><td>0</td><td>0.014590438351562944</td><td>23.545462581762983</td><td>18.62768937420134</td><td>1386.1651224750349</td><td>0</td></tr>\n",
       "<tr><td>149939421427293235</td><td>0.01875857075783205</td><td>24.40630027494308</td><td>10.838153955143158</td><td>627.3066479187038</td><td>0</td><td>0.01894821639155754</td><td>24.332382250589298</td><td>11.719015146883304</td><td>671.5016741496174</td><td>0</td><td>0.02329636382210904</td><td>24.827673459665345</td><td>9.130497381860566</td><td>425.5304240023612</td><td>0</td><td>0.020109535451444414</td><td>24.045556884130455</td><td>16.19776017510181</td><td>874.5351030391017</td><td>0</td><td>0.02037773354166845</td><td>24.008620426338176</td><td>16.98178697380601</td><td>904.7984115235203</td><td>0</td><td>0.025975839659549575</td><td>24.444737593410032</td><td>14.486058594136907</td><td>605.4871944868947</td><td>0</td><td>0.07338689383201283</td><td>23.71642056700822</td><td>80.04347953474846</td><td>1184.2183140306533</td><td>0</td><td>0</td><td>1</td><td>1</td><td>1</td><td>0</td><td>0.6021804437169712</td><td>-0.08101356532461447</td><td>0.07795711805450951</td><td>23.942791364211185</td><td>69.02635011462773</td><td>961.3542582392389</td><td>0</td><td>1.0</td><td>0</td><td>0.09226023779671765</td><td>24.161770987528264</td><td>66.77007355579578</td><td>785.7630544332934</td><td>0</td><td>0.02874128573926102</td><td>23.78115006597679</td><td>29.533971129134155</td><td>1115.6808368311622</td><td>0</td><td>0.028728576350284758</td><td>23.703496841577355</td><td>31.709620788358933</td><td>1198.3985182311708</td><td>0</td><td>0.03775376231496974</td><td>24.22005616481909</td><td>25.894853087367622</td><td>744.6934501333125</td><td>0</td><td>0.023651860278903956</td><td>20.664351381263284</td><td>428.9438369742107</td><td>19690.6225607194</td><td>0</td><td>0.03080798590696109</td><td>23.40317546538275</td><td>44.84033007438797</td><td>1580.2646087314472</td><td>0</td><td>0.033038721777638065</td><td>23.525876829599284</td><td>42.94851824084518</td><td>1411.3972540657464</td><td>0</td><td>0.1118913223670353</td><td>24.23910831755733</td><td>75.40996852371104</td><td>731.7397926292236</td><td>0</td><td>0.115744726745943</td><td>24.716359360018927</td><td>50.261234338141115</td><td>471.47238021938716</td><td>0</td><td>0.13709339702992634</td><td>24.5510587381713</td><td>69.32162308835298</td><td>549.0052591168352</td><td>0</td><td>0.1908141760633118</td><td>24.193145548929593</td><td>134.16155917924075</td><td>763.3817627856483</td><td>0</td><td>0.1983780596649343</td><td>24.576769107527376</td><td>97.96290948485411</td><td>536.1574648466551</td><td>0</td><td>0.2596055623512715</td><td>24.390610549844315</td><td>152.17575095536526</td><td>636.4375277712046</td><td>0</td><td>0.053418317772880454</td><td>24.15741392770233</td><td>38.81506486198681</td><td>788.9226573901848</td><td>0</td><td>0.05429901016839122</td><td>24.458230501824083</td><td>29.907175007719772</td><td>598.0091089546451</td><td>0</td><td>0.0634036031342601</td><td>24.58879635431454</td><td>30.964999490979807</td><td>530.2509536639783</td><td>0</td><td>0.045654258611964114</td><td>24.090020014212424</td><td>35.297908170195214</td><td>839.4445122489735</td><td>0</td><td>0.048097784130988405</td><td>24.73532987430124</td><td>20.52432103609395</td><td>463.30613415117733</td><td>0</td><td>0.057585593330921045</td><td>24.51944540806586</td><td>29.978601055513188</td><td>565.2256172290505</td><td>0</td><td>0.03707765136266759</td><td>24.57231336819386</td><td>18.384954070811613</td><td>538.3623159473873</td><td>0</td><td>0.037196692533859724</td><td>24.732907022190737</td><td>15.908059109719918</td><td>464.3411697728992</td><td>0</td><td>0.04594399073787818</td><td>24.8083688033597</td><td>18.329764044295523</td><td>433.1641228361552</td><td>0</td></tr>\n",
       "<tr><td>149939421427293236</td><td>0.021469315592937507</td><td>24.552369561458885</td><td>10.842915055884248</td><td>548.3428379600144</td><td>0</td><td>0.021711120921076337</td><td>24.47938969241565</td><td>11.727408393925556</td><td>586.4677336354739</td><td>0</td><td>0.028089517142544734</td><td>25.03073589552569</td><td>9.131152490717907</td><td>352.9438687048094</td><td>0</td><td>0.01988877001546897</td><td>23.93442863823621</td><td>17.74647699939753</td><td>968.7875404143728</td><td>0</td><td>0.020395199451741595</td><td>24.01094029221163</td><td>16.96006529529913</td><td>902.867214892361</td><td>0</td><td>0.02332630848720781</td><td>24.329044393195236</td><td>14.471179734329843</td><td>673.5692350009202</td><td>0</td><td>0.051357167109230106</td><td>23.586867741385614</td><td>63.11457226019422</td><td>1334.2982101207112</td><td>0</td><td>0</td><td>1</td><td>1</td><td>1</td><td>0</td><td>0.6022318492111923</td><td>-0.08102424407425594</td><td>0.05065918322139582</td><td>23.47577682827749</td><td>68.96410939604912</td><td>1478.0504863838137</td><td>0</td><td>0.0</td><td>0</td><td>0.0668231084421541</td><td>23.811483988609183</td><td>66.77421000229815</td><td>1084.9417070499937</td><td>0</td><td>0.022190829173978813</td><td>23.501389657167767</td><td>29.504845673018522</td><td>1443.59090468604</td><td>0</td><td>0.02222959779479215</td><td>23.42533185630796</td><td>31.70111535606453</td><td>1548.3432939734384</td><td>0</td><td>0.02799968066005855</td><td>23.896163807647724</td><td>25.879938213722845</td><td>1003.5395130639882</td><td>0</td><td>nan</td><td>nan</td><td>nan</td><td>nan</td><td>1</td><td>0.0222678949736589</td><td>23.049176321319425</td><td>44.90392623595069</td><td>2189.4219686158876</td><td>0</td><td>0.027741341469245166</td><td>23.336317055747084</td><td>42.94141151020428</td><td>1680.6341254886277</td><td>0</td><td>0.10546014253656304</td><td>24.313779965768575</td><td>66.35169897212758</td><td>683.1058643437283</td><td>0</td><td>0.1116170832982228</td><td>24.654566690599914</td><td>51.307360549266924</td><td>499.08362835534706</td><td>0</td><td>0.14579023570735877</td><td>24.606012642744048</td><td>70.08080164700108</td><td>521.9091884819663</td><td>0</td><td>0.13621454693386456</td><td>23.88083108418494</td><td>127.69289598495845</td><td>1017.8119986597086</td><td>0</td><td>0.1385835493853957</td><td>24.17072660862248</td><td>99.47105332339366</td><td>779.3083984181474</td><td>0</td><td>0.19996554126205857</td><td>24.099980768395483</td><td>153.19286404956225</td><td>831.7785042335124</td><td>0</td><td>0.07488490133516114</td><td>24.73151675396477</td><td>32.06736243624713</td><td>464.93613221583666</td><td>0</td><td>0.07585263481798608</td><td>24.871342630607668</td><td>28.556784146306423</td><td>408.75487731582336</td><td>0</td><td>0.088397332879292</td><td>24.99687079257885</td><td>29.646028698788317</td><td>364.1259938184553</td><td>0</td><td>0.04626861569386463</td><td>24.347961923729624</td><td>28.20833266060306</td><td>661.9348252845863</td><td>0</td><td>0.049822395082139294</td><td>24.784245854516392</td><td>20.32366087193261</td><td>442.89589823018844</td><td>0</td><td>0.05830682851354872</td><td>24.546701999417152</td><td>29.60153960460725</td><td>551.2126809955973</td><td>0</td><td>0.04742120142271273</td><td>24.766925624226705</td><td>19.655223340350535</td><td>450.0178602182031</td><td>0</td><td>0.04858004048207567</td><td>25.015210953845163</td><td>16.019507896670792</td><td>358.02686727364136</td><td>0</td><td>0.058245432985883076</td><td>25.05501990060912</td><td>18.515250742989895</td><td>345.1374132064786</td><td>0</td></tr>\n",
       "<tr><td>149939421427293237</td><td>nan</td><td>nan</td><td>nan</td><td>nan</td><td>1</td><td>0.040015651140895385</td><td>25.144207732562172</td><td>11.71716309896766</td><td>317.9193098423361</td><td>0</td><td>0.05728743866928075</td><td>25.804049725859926</td><td>9.135139737035502</td><td>173.13310174823053</td><td>0</td><td>0.03334585177610216</td><td>24.5955560725365</td><td>16.184342716389857</td><td>526.9599036000994</td><td>0</td><td>0.03343378556134644</td><td>24.54730779296318</td><td>16.96438482200046</td><td>550.9052140954581</td><td>0</td><td>0.04600177671129047</td><td>25.066560562317907</td><td>14.468585023070265</td><td>341.4882579375039</td><td>0</td><td>0.15857016135526425</td><td>24.790427533373595</td><td>64.31705269190009</td><td>440.3814191402659</td><td>0</td><td>0</td><td>1</td><td>1</td><td>1</td><td>0</td><td>0.6022164157286631</td><td>-0.08102777069911096</td><td>0.15739842165070414</td><td>24.706082851251196</td><td>68.99901843187315</td><td>475.9560586351219</td><td>0</td><td>0.0</td><td>0</td><td>0.20094400156187073</td><td>25.006110876763085</td><td>66.81998530496875</td><td>361.0402733254664</td><td>0</td><td>0.04795471872456458</td><td>24.294939428792514</td><td>30.699496769428162</td><td>695.0630927869347</td><td>0</td><td>0.04799828879275</td><td>24.261183573142702</td><td>31.6977185719461</td><td>717.0122420488118</td><td>0</td><td>0.05984208017985036</td><td>24.72080342828506</td><td>25.879804448039934</td><td>469.5465227286438</td><td>0</td><td>0.05426388767207755</td><td>23.574207166913514</td><td>67.46891378878473</td><td>1349.948290451781</td><td>0</td><td>0.05637199931431514</td><td>24.057567813224985</td><td>44.90678798518024</td><td>864.9138960470787</td><td>0</td><td>0.06322725811356543</td><td>24.229239853373272</td><td>43.00154775939683</td><td>738.4210332061823</td><td>0</td><td>0.17211782091588554</td><td>24.561314167117757</td><td>86.21361430800964</td><td>543.8439895367063</td><td>0</td><td>0.1816996539248701</td><td>25.188549195071865</td><td>51.07520308248995</td><td>305.1970433304335</td><td>0</td><td>0.24365059655335133</td><td>25.168803816354014</td><td>69.74637372016196</td><td>310.7981846536923</td><td>0</td><td>0.7304052874144397</td><td>25.844513622834654</td><td>112.21066581047701</td><td>166.79942564725957</td><td>0</td><td>0.8390432671152779</td><td>26.19209524253071</td><td>93.58838215509131</td><td>121.10495231059588</td><td>1</td><td>3.341203881766047</td><td>nan</td><td>147.30629594973854</td><td>-47.867710071290325</td><td>1</td><td>0.09834690108603043</td><td>24.92772716580813</td><td>35.151632043776</td><td>388.0691627779694</td><td>0</td><td>0.09975636349520098</td><td>25.09516133587517</td><td>30.55988775226182</td><td>332.6101251432586</td><td>0</td><td>0.11828206075666128</td><td>25.244274416993342</td><td>31.585284682203504</td><td>289.9280490860861</td><td>0</td><td>0.07125711153852005</td><td>25.155751355188514</td><td>20.644451653063292</td><td>314.55707512074605</td><td>0</td><td>0.07061786274477229</td><td>25.167722602234225</td><td>20.234906808777314</td><td>311.10784252420177</td><td>0</td><td>0.10854135534069717</td><td>25.219151932135073</td><td>29.662663661919773</td><td>296.7148122134624</td><td>0</td><td>0.0473974493197676</td><td>24.772886494100135</td><td>19.53781770936829</td><td>447.5539581447187</td><td>0</td><td>0.04789731415543386</td><td>25.042769956765355</td><td>15.398515635044104</td><td>349.05351624199153</td><td>0</td><td>0.05645314732442606</td><td>25.06295896928622</td><td>17.81477130991535</td><td>342.6229201979776</td><td>0</td></tr>\n",
       "<tr><td>149939421427293238</td><td>0.03588274018704938</td><td>25.110327034070977</td><td>10.84002957148977</td><td>327.996482572503</td><td>0</td><td>0.03716392843187848</td><td>25.063557041430467</td><td>11.721264830708243</td><td>342.434240114988</td><td>0</td><td>0.04585347298263979</td><td>25.5635896245037</td><td>9.124562815889803</td><td>216.05491487094343</td><td>0</td><td>0.04932594236754228</td><td>25.012853477929426</td><td>16.300828565910386</td><td>358.80510117147685</td><td>0</td><td>0.05040725690662712</td><td>24.993063116440076</td><td>16.964595068026185</td><td>365.4052252542956</td><td>0</td><td>0.06660285781411636</td><td>25.46720477770107</td><td>14.483937207601482</td><td>236.11201575802727</td><td>0</td><td>0.07395635032269648</td><td>21.50880946476851</td><td>616.2080465450412</td><td>9046.408900357974</td><td>0</td><td>0</td><td>1</td><td>1</td><td>1</td><td>0</td><td>0.6022414760707346</td><td>-0.08104663353117882</td><td>0.17548250512060345</td><td>24.823834572578374</td><td>69.0201146860606</td><td>427.03765437877723</td><td>1</td><td>nan</td><td>1</td><td>0.24158864740717204</td><td>25.205596390301462</td><td>66.8518832755095</td><td>300.44255310620343</td><td>1</td><td>0.06172278954849499</td><td>24.610449818168398</td><td>29.548898649878563</td><td>519.7806079340437</td><td>0</td><td>0.06242666825084172</td><td>24.546715051591164</td><td>31.692742085692547</td><td>551.2060546340963</td><td>0</td><td>0.07866680666354806</td><td>25.018445208204653</td><td>25.863608510739578</td><td>356.9619428674788</td><td>0</td><td>nan</td><td>nan</td><td>nan</td><td>nan</td><td>1</td><td>0.049722188218332505</td><td>23.920052128887626</td><td>44.9578011080974</td><td>981.7008079982179</td><td>1</td><td>0.056811292382249634</td><td>24.113228301838248</td><td>42.995106427281186</td><td>821.6912821035111</td><td>1</td><td>0.14518860862452207</td><td>24.810800164842874</td><td>57.79471911906417</td><td>432.1951948287802</td><td>0</td><td>0.14525867588822136</td><td>24.969467586196025</td><td>49.96095445626671</td><td>373.4332338206265</td><td>0</td><td>0.21035003659153556</td><td>25.02565876613516</td><td>68.69968812037335</td><td>354.59817291461684</td><td>0</td><td>0.24198150001880178</td><td>24.45836597690381</td><td>133.2635731921438</td><td>597.9344957317116</td><td>0</td><td>0.2727971004667685</td><td>24.95049739679564</td><td>95.48089279871805</td><td>380.0152640802221</td><td>1</td><td>0.31235026279907546</td><td>24.63252700677601</td><td>146.52332081908918</td><td>509.3182020372117</td><td>1</td><td>0.12702863764777061</td><td>25.08837735872333</td><td>39.158529711385995</td><td>334.6948705427988</td><td>0</td><td>0.1312356453310703</td><td>25.411003251775455</td><td>30.055654552899647</td><td>248.65586040640167</td><td>0</td><td>0.16395257150759193</td><td>25.614529522405135</td><td>31.130213828934288</td><td>206.15230310291932</td><td>0</td><td>0.0708262853918708</td><td>24.866548399621195</td><td>26.78247975150109</td><td>410.56378657327963</td><td>0</td><td>0.07202756629334377</td><td>25.18921645236242</td><td>20.23428393714226</td><td>305.0095370214033</td><td>0</td><td>0.09863277233770334</td><td>25.1093657023077</td><td>29.82295267883162</td><td>328.2870255875228</td><td>0</td><td>0.18131394671857298</td><td>26.516788124656895</td><td>14.996559729405723</td><td>89.8017396880462</td><td>0</td><td>0.1797236681330494</td><td>26.508212955855782</td><td>14.98289622764773</td><td>90.51380408310123</td><td>0</td><td>0.35593633707752476</td><td>27.081639700817416</td><td>17.498149653405495</td><td>53.37576587703187</td><td>0</td></tr>\n",
       "<tr><td>149939421427293239</td><td>0.04196765819230375</td><td>25.28109524772177</td><td>10.833089147878516</td><td>280.2605054427615</td><td>0</td><td>0.04272724879963346</td><td>25.215623249304535</td><td>11.71470373810926</td><td>297.68071508947077</td><td>0</td><td>0.05259705459036073</td><td>25.711438390034537</td><td>9.134015590815638</td><td>188.54917825743098</td><td>0</td><td>0.03342374927857777</td><td>24.543024102831303</td><td>17.026336164877517</td><td>553.0830624210812</td><td>0</td><td>0.03426376260238382</td><td>24.573069530471663</td><td>16.977858911655574</td><td>537.9875034033023</td><td>0</td><td>0.03998712505165439</td><td>24.913267926654534</td><td>14.484005805387593</td><td>393.2718211804931</td><td>0</td><td>0.1100406675637944</td><td>24.27086903464097</td><td>72.02467090051839</td><td>710.6444786619181</td><td>0</td><td>0</td><td>1</td><td>1</td><td>1</td><td>0</td><td>0.6022004388539924</td><td>-0.08103449239503376</td><td>0.10791463235064394</td><td>24.295316284507855</td><td>69.06046555470002</td><td>694.8218803781348</td><td>0</td><td>1.0</td><td>0</td><td>0.13133306390919805</td><td>24.54330341569451</td><td>66.88494740841408</td><td>552.9407964232578</td><td>0</td><td>0.050771194253956826</td><td>24.307139771746602</td><td>32.13935453562111</td><td>687.2964351072305</td><td>0</td><td>0.050579457130115926</td><td>24.31778786804092</td><td>31.705506577533434</td><td>680.5888859753794</td><td>0</td><td>0.0612513122976958</td><td>24.74569957568367</td><td>25.888759889016477</td><td>458.9022316972079</td><td>0</td><td>nan</td><td>nan</td><td>nan</td><td>nan</td><td>1</td><td>0.0495175694121542</td><td>23.917676323532824</td><td>44.87086788295174</td><td>983.8513153572022</td><td>0</td><td>0.047696058887118614</td><td>23.92449462783166</td><td>42.949718702102096</td><td>977.6921965274496</td><td>0</td><td>0.13915951372882626</td><td>24.90265969257022</td><td>50.90081141253797</td><td>397.1331339217693</td><td>0</td><td>0.13710236936983247</td><td>24.89329896505187</td><td>50.582588987404776</td><td>400.5718387395679</td><td>0</td><td>0.19524448150629</td><td>24.934266928932054</td><td>69.36616363087361</td><td>385.73871414024984</td><td>0</td><td>0.2492216979857658</td><td>24.629788548790458</td><td>117.20499241959548</td><td>510.6044324263651</td><td>0</td><td>0.2581489712447383</td><td>24.842071008716793</td><td>99.84301226602022</td><td>419.92487007262355</td><td>0</td><td>0.4396322839979404</td><td>24.95954564209159</td><td>152.59735294879184</td><td>376.86147463987015</td><td>0</td><td>0.11970664981372336</td><td>25.094850643150085</td><td>36.68205851357674</td><td>332.7053180021466</td><td>0</td><td>0.12153539767702164</td><td>25.304656655220175</td><td>30.698404501119306</td><td>274.24412831354755</td><td>0</td><td>0.13801504953169766</td><td>25.404890132059172</td><td>31.78674609033803</td><td>250.05983897290568</td><td>0</td><td>0.06804595498608441</td><td>24.793078767331203</td><td>27.532553172067797</td><td>439.307373883657</td><td>0</td><td>0.07169055967605165</td><td>25.21263435004584</td><td>19.709876855221506</td><td>298.50132276463324</td><td>0</td><td>0.0858038901270472</td><td>24.981726732500146</td><td>29.180448664687187</td><td>369.24048011606374</td><td>0</td><td>0.06371182780484433</td><td>25.102149495560354</td><td>19.392595836934312</td><td>330.47621030267203</td><td>0</td><td>0.06552683475254345</td><td>25.36545773435755</td><td>15.649907549293511</td><td>259.30859153434074</td><td>0</td><td>0.07618567847694602</td><td>25.370066330765795</td><td>18.11851030219391</td><td>258.2102437707877</td><td>0</td></tr>\n",
       "<tr><td>149939421427293240</td><td>nan</td><td>nan</td><td>nan</td><td>nan</td><td>1</td><td>0.03993696931335921</td><td>25.1420956274291</td><td>11.716894881315875</td><td>318.5383667992661</td><td>0</td><td>0.054276942970516426</td><td>25.745867778731714</td><td>9.131538353264771</td><td>182.66396839377225</td><td>0</td><td>0.043729070741355694</td><td>24.889380556297805</td><td>16.191746879958277</td><td>402.02010945602746</td><td>0</td><td>0.04381708481952429</td><td>24.84082170910906</td><td>16.96643027448387</td><td>420.4083336530725</td><td>0</td><td>0.05700633340108896</td><td>25.29928563620359</td><td>14.470533200195764</td><td>275.6041453686431</td><td>0</td><td>0.08576459044886434</td><td>23.89707185086555</td><td>79.20543030854633</td><td>1002.7005649926044</td><td>0</td><td>0</td><td>1</td><td>1</td><td>1</td><td>0</td><td>0.602206967978917</td><td>-0.08103043796402669</td><td>0.08725551293148068</td><td>24.06498370755139</td><td>69.03591301567972</td><td>859.0264118728677</td><td>0</td><td>1.0</td><td>0</td><td>0.1126127684205989</td><td>24.3765185011806</td><td>66.87378654861413</td><td>644.7518538387727</td><td>0</td><td>0.04997102879034305</td><td>24.381885476601184</td><td>29.52839080475523</td><td>641.572601986642</td><td>0</td><td>0.049675827033027746</td><td>24.297929880444926</td><td>31.713840240373298</td><td>693.1513091467067</td><td>0</td><td>0.06470994661205011</td><td>24.80410189564127</td><td>25.91826722671131</td><td>434.86979306820075</td><td>0</td><td>0.0551016251389237</td><td>23.596613188074762</td><td>67.11117037517879</td><td>1322.3752881392074</td><td>0</td><td>0.05670661858812291</td><td>24.064565429981386</td><td>44.88314277238728</td><td>859.3574137308144</td><td>0</td><td>0.06800369065711634</td><td>24.309783136368054</td><td>42.943249930872</td><td>685.6251587140238</td><td>0</td><td>0.20690834557433174</td><td>25.329069315587056</td><td>51.100595584298134</td><td>268.1465871111713</td><td>0</td><td>0.20336029165854227</td><td>25.31349683709148</td><td>50.94987246777157</td><td>272.02026863214985</td><td>0</td><td>0.4028888523214824</td><td>25.71507209174016</td><td>69.73199562419347</td><td>187.91920362891943</td><td>0</td><td>0.3868964487864898</td><td>25.25640799585464</td><td>102.16619641366852</td><td>286.7060131895</td><td>0</td><td>0.3781006631148953</td><td>25.237062437184527</td><td>101.63847593183078</td><td>291.86030039331894</td><td>0</td><td>0.7218481328359191</td><td>25.48858521795655</td><td>153.91729782954607</td><td>231.50795186729957</td><td>0</td><td>0.14344987344202537</td><td>25.26558571143008</td><td>37.56138216876662</td><td>284.29270478142394</td><td>0</td><td>0.14352929178939322</td><td>25.496001283559977</td><td>30.395949096880997</td><td>229.93203687574874</td><td>0</td><td>0.17094950324314165</td><td>25.641100746130576</td><td>31.674022778314242</td><td>201.16837211183372</td><td>0</td><td>0.073394428997535</td><td>25.027937496685002</td><td>23.920143317990565</td><td>353.8547268242643</td><td>0</td><td>0.0734435120682462</td><td>25.23188076808434</td><td>19.837037277369745</td><td>293.2565309126736</td><td>0</td><td>0.10133939551721771</td><td>25.155858119719575</td><td>29.356937048788698</td><td>314.526145059349</td><td>0</td><td>0.07832532212364718</td><td>25.328025617158843</td><td>19.36277606710002</td><td>268.4044754707457</td><td>0</td><td>0.08078954119885046</td><td>25.63533964222413</td><td>15.048560718923957</td><td>202.23864326474535</td><td>0</td><td>0.09134908888047881</td><td>25.599340597514242</td><td>17.58910174306291</td><td>209.05654129297784</td><td>0</td></tr>\n",
       "<tr><td>149939421427293241</td><td>0.029604862300522217</td><td>24.90238646050563</td><td>10.831388696013706</td><td>397.23308744667196</td><td>0</td><td>0.029956478131229116</td><td>24.829827195705484</td><td>11.717516005873769</td><td>424.6871511957681</td><td>0</td><td>0.03910164793127235</td><td>25.390040793984404</td><td>9.129656201508404</td><td>253.50333807912506</td><td>0</td><td>0.04628014142317549</td><td>24.916706504194444</td><td>16.710435012083483</td><td>392.0282810715751</td><td>0</td><td>0.04668425564054734</td><td>24.91038831002944</td><td>16.95472673821971</td><td>394.3162509263052</td><td>0</td><td>0.05702414841262769</td><td>25.299554503650437</td><td>14.471471274920807</td><td>275.5359042910218</td><td>0</td><td>0.07396022225456675</td><td>23.310376079036633</td><td>117.25286304304485</td><td>1721.272254688494</td><td>0</td><td>0</td><td>1</td><td>1</td><td>1</td><td>0</td><td>0.6022249406216694</td><td>-0.08101605843914611</td><td>0.08229548075240643</td><td>24.0025651906874</td><td>68.96449976339036</td><td>909.8586404935346</td><td>0</td><td>1.0</td><td>0</td><td>0.09544543076529745</td><td>24.198255384676447</td><td>66.79264908720427</td><td>759.7974753135026</td><td>0</td><td>0.05812440453181595</td><td>24.54739040536616</td><td>29.490221502886097</td><td>550.8632979541991</td><td>0</td><td>0.05757497152757704</td><td>24.458898449401044</td><td>31.69202808592423</td><td>597.6413254258969</td><td>0</td><td>0.07567691165925557</td><td>24.97528016946375</td><td>25.889699678686174</td><td>371.43936843023386</td><td>0</td><td>0.0509459170087747</td><td>23.508741082622908</td><td>67.28041022158621</td><td>1433.849492511313</td><td>0</td><td>0.05340007967840925</td><td>23.99902146571208</td><td>44.89613950061006</td><td>912.8331718462334</td><td>0</td><td>0.057005046160056104</td><td>24.118093494703324</td><td>42.94885436999712</td><td>818.0175139488805</td><td>0</td><td>0.11286814352268532</td><td>24.0903669760597</td><td>87.23690944148342</td><td>839.1762991369469</td><td>0</td><td>0.11717992456709107</td><td>24.67855771557129</td><td>52.68728356171317</td><td>488.17654990516354</td><td>0</td><td>0.13982410444805657</td><td>24.543666402175937</td><td>71.18543865649467</td><td>552.7559665483657</td><td>0</td><td>0.5165756815279852</td><td>25.664830235978947</td><td>93.64347963418373</td><td>196.81940093971653</td><td>0</td><td>0.5917987626545184</td><td>25.820680446580955</td><td>92.93462571242533</td><td>170.50134974771993</td><td>0</td><td>2.6628240721521266</td><td>nan</td><td>144.51491483738673</td><td>-58.92431152602431</td><td>0</td><td>0.22704915741039178</td><td>25.981565605819238</td><td>30.744634347429905</td><td>147.01909927249605</td><td>0</td><td>0.2231514746036326</td><td>25.969795627687194</td><td>30.54619993227896</td><td>148.6215372009722</td><td>0</td><td>0.3842147299138446</td><td>26.5326404760675</td><td>31.31796253962561</td><td>88.50010981139413</td><td>0</td><td>0.0863937443780326</td><td>25.25397038171412</td><td>22.864927278083258</td><td>287.3504273220167</td><td>0</td><td>0.08692042979146297</td><td>25.420242289734773</td><td>19.7378856787353</td><td>246.5489084464317</td><td>0</td><td>0.12130791623692193</td><td>25.364614496148704</td><td>28.994727018575386</td><td>259.5100620610975</td><td>0</td><td>0.1053430174611377</td><td>25.69477232787566</td><td>18.576868337569415</td><td>191.4657374663193</td><td>0</td><td>0.10818940818150043</td><td>25.89984273597725</td><td>15.795134585809421</td><td>158.5122773762709</td><td>0</td><td>0.12788581540249327</td><td>25.920439447045606</td><td>18.319865383759975</td><td>155.5335988658489</td><td>0</td></tr>\n",
       "<tr><td>149939421427293242</td><td>0.02893158537443931</td><td>24.671868517219927</td><td>13.088820312965133</td><td>491.1934796326481</td><td>0</td><td>0.030465154470470664</td><td>24.84922721642214</td><td>11.705451718518981</td><td>417.1662000323341</td><td>0</td><td>0.0341530922346148</td><td>25.243540170528703</td><td>9.12619287078222</td><td>290.12418387612917</td><td>0</td><td>0.028515111503348217</td><td>24.286079563923728</td><td>18.404284097036328</td><td>700.7581774477834</td><td>0</td><td>0.02935060000812815</td><td>24.405854451337554</td><td>16.964883567229943</td><td>627.5642846601725</td><td>0</td><td>0.033652082586357004</td><td>24.727544947258124</td><td>14.463375021215276</td><td>466.64006197031534</td><td>0</td><td>0.08519449270913233</td><td>23.766992613151142</td><td>88.69316563796131</td><td>1130.3240149163041</td><td>0</td><td>0</td><td>1</td><td>1</td><td>1</td><td>0</td><td>0.6021789531482404</td><td>-0.08100154514525536</td><td>0.09880329695558454</td><td>24.200413969704844</td><td>69.00515391436333</td><td>758.2883995603016</td><td>0</td><td>1.0</td><td>0</td><td>0.09397561826771643</td><td>24.18183467517204</td><td>66.76625265910948</td><td>771.3760133135156</td><td>0</td><td>0.042507677305660414</td><td>23.997267354070594</td><td>35.796133030662645</td><td>914.3091339068155</td><td>0</td><td>0.0445840473887554</td><td>24.18122152523999</td><td>31.693234323114844</td><td>771.8117570269654</td><td>0</td><td>0.05060398244137593</td><td>24.539119199840357</td><td>25.870969053189082</td><td>555.0758339181177</td><td>0</td><td>nan</td><td>nan</td><td>nan</td><td>nan</td><td>1</td><td>0.03706544422833658</td><td>23.60462750661945</td><td>44.811954555543046</td><td>1312.650164590043</td><td>0</td><td>0.03892419064048205</td><td>23.7038209808803</td><td>42.950366951180825</td><td>1198.0407977460916</td><td>0</td><td>0.13255135447790342</td><td>24.32704549278865</td><td>82.38376826083363</td><td>674.8104554457929</td><td>0</td><td>0.15929281342591356</td><td>25.070115275409922</td><td>49.93737995982426</td><td>340.37204960512054</td><td>0</td><td>0.13431665770622644</td><td>24.55214099115757</td><td>67.8498918862751</td><td>548.4582878095156</td><td>0</td><td>0.25374427167235264</td><td>24.222539628786365</td><td>173.64251812748486</td><td>742.9920185935052</td><td>0</td><td>0.3113025159720924</td><td>25.04439244032487</td><td>99.93125339090633</td><td>348.53229327286357</td><td>0</td><td>0.3196456546082286</td><td>24.6088553932699</td><td>153.25065082458053</td><td>520.5444766859972</td><td>0</td><td>0.10296714278662132</td><td>24.822176893512996</td><td>40.56052655797196</td><td>427.69014441144344</td><td>0</td><td>0.11088261754717516</td><td>25.210458036628232</td><td>30.54611165688937</td><td>299.1002564162865</td><td>0</td><td>0.1113478305722552</td><td>25.17061008078558</td><td>31.82096952582787</td><td>310.2815610069474</td><td>0</td><td>0.0830705201461092</td><td>24.80804118674323</td><td>33.1517253016802</td><td>433.29484812328064</td><td>0</td><td>0.09646242332593606</td><td>25.47092795700732</td><td>20.905601384893263</td><td>235.3037330311134</td><td>0</td><td>0.1043105817713563</td><td>25.14829788008317</td><td>30.42880489585796</td><td>316.7239083698271</td><td>0</td><td>0.05492023023593534</td><td>24.670645650210254</td><td>24.87423706967609</td><td>491.7470235697044</td><td>0</td><td>0.062202509220201055</td><td>25.276344400700992</td><td>16.126711773021153</td><td>281.48952598815487</td><td>0</td><td>0.057926329418049094</td><td>25.03815592758722</td><td>18.70205451917757</td><td>350.54003764485975</td><td>0</td></tr>\n",
       "<tr><td>149939421427293243</td><td>0.04132477146961805</td><td>25.263633508877838</td><td>10.840086232961411</td><td>284.804335687114</td><td>0</td><td>0.04265487209959661</td><td>25.212782534852906</td><td>11.725498356787433</td><td>298.46058511371</td><td>0</td><td>0.051848970007651575</td><td>25.69546581998444</td><td>9.137544089438624</td><td>191.34348163547105</td><td>0</td><td>0.05932822415859489</td><td>25.220178740471248</td><td>16.19815434529003</td><td>296.434334119434</td><td>0</td><td>0.0578641347859201</td><td>25.14200222252957</td><td>16.977911081940483</td><td>318.5657715444217</td><td>0</td><td>0.08018113820969795</td><td>25.668458416312788</td><td>14.486535348750365</td><td>196.162791659452</td><td>0</td><td>0.09262827493687809</td><td>23.825340383742915</td><td>91.38672261241356</td><td>1071.183431215803</td><td>0</td><td>0</td><td>1</td><td>1</td><td>1</td><td>0</td><td>0.602215667144821</td><td>-0.08106120030252018</td><td>0.10307826310824346</td><td>24.245866298062268</td><td>69.03927987972361</td><td>727.1993479084026</td><td>0</td><td>1.0</td><td>0</td><td>0.11788892823655941</td><td>24.42732953703597</td><td>66.80621772929666</td><td>615.2734644096779</td><td>0</td><td>0.09987385794465212</td><td>25.133068354485737</td><td>29.546100071755994</td><td>321.1978711695494</td><td>0</td><td>0.09613722764723216</td><td>25.014513509145768</td><td>31.722095657244946</td><td>358.2569269862138</td><td>0</td><td>0.13990216745020195</td><td>25.641978626375543</td><td>25.9005312691128</td><td>201.00578163919783</td><td>0</td><td>nan</td><td>nan</td><td>nan</td><td>nan</td><td>1</td><td>0.06074560309542263</td><td>24.137991914012808</td><td>44.93593292548921</td><td>803.1621514259506</td><td>1</td><td>0.08318036151609774</td><td>24.52753858776535</td><td>42.98144860806686</td><td>561.0280363796905</td><td>1</td><td>0.25137072548575456</td><td>25.508966561235084</td><td>52.60218133756263</td><td>227.20264110738998</td><td>0</td><td>0.24893238402758283</td><td>25.55758794028559</td><td>49.81061481537676</td><td>217.2525205893813</td><td>0</td><td>0.36799843742534594</td><td>25.630788029202463</td><td>68.83454450808524</td><td>203.0882457907838</td><td>0</td><td>1.430837888464048</td><td>26.536061869199557</td><td>116.26295688496542</td><td>88.22166548702776</td><td>0</td><td>1.9907135979916046</td><td>27.095044078045664</td><td>96.66446058741043</td><td>52.720845770607625</td><td>1</td><td>7.968505098802711</td><td>nan</td><td>148.68646968669657</td><td>-20.259042479721135</td><td>1</td><td>0.18044337478869812</td><td>25.655055929289293</td><td>33.00610290178416</td><td>198.59926107236583</td><td>0</td><td>0.1813318231123409</td><td>25.753538794967007</td><td>30.292435372472664</td><td>181.37794706786366</td><td>0</td><td>0.2559818744292108</td><td>26.084275646197653</td><td>31.533678567713622</td><td>133.7487529791494</td><td>0</td><td>0.11824520412084781</td><td>25.69398394671401</td><td>20.867270061310563</td><td>191.60481618244106</td><td>0</td><td>0.11740149789800342</td><td>25.693938157366304</td><td>20.719251164966145</td><td>191.61289700770814</td><td>0</td><td>0.2401131531544709</td><td>26.057145296013996</td><td>30.327283602305783</td><td>137.13296987861335</td><td>0</td><td>0.12456473292135711</td><td>25.99633512027278</td><td>16.639364410087637</td><td>145.03270661369163</td><td>0</td><td>0.12226934857928834</td><td>26.05807577798982</td><td>15.429894876340748</td><td>137.0154965043539</td><td>0</td><td>0.16092445965633675</td><td>26.194069630261403</td><td>17.9171895195209</td><td>120.88492569992442</td><td>0</td></tr>\n",
       "</table>"
      ],
      "text/plain": [
       "<Table length=100000>\n",
       "        id         ... HSC_G_m_base_CircularApertureFlux_6_0_flag\n",
       "                   ...                                           \n",
       "      int64        ...                   int64                   \n",
       "------------------ ... ------------------------------------------\n",
       "149940984795365508 ...                                          0\n",
       "149940984795365517 ...                                          0\n",
       "149940984795365526 ...                                          0\n",
       "149940984795365528 ...                                          0\n",
       "149940984795365543 ...                                          0\n",
       "149940984795365546 ...                                          0\n",
       "149940984795365553 ...                                          0\n",
       "149940984795365557 ...                                          0\n",
       "149940984795365558 ...                                          0\n",
       "               ... ...                                        ...\n",
       "149939421427293234 ...                                          0\n",
       "149939421427293235 ...                                          0\n",
       "149939421427293236 ...                                          0\n",
       "149939421427293237 ...                                          0\n",
       "149939421427293238 ...                                          0\n",
       "149939421427293239 ...                                          0\n",
       "149939421427293240 ...                                          0\n",
       "149939421427293241 ...                                          0\n",
       "149939421427293242 ...                                          0\n",
       "149939421427293243 ...                                          0"
      ]
     },
     "execution_count": 145,
     "metadata": {},
     "output_type": "execute_result"
    }
   ],
   "source": [
    "t"
   ]
  },
  {
   "cell_type": "code",
   "execution_count": 129,
   "metadata": {},
   "outputs": [
    {
     "data": {
      "text/html": [
       "<i>Table length=5</i>\n",
       "<table id=\"table140693335664144\" class=\"table-striped table-bordered table-condensed\">\n",
       "<thead><tr><th>id</th><th>coord_ra</th><th>coord_dec</th><th>parent</th><th>merge_footprint_HSC-I</th><th>merge_footprint_HSC-R</th><th>merge_footprint_HSC-Z</th><th>merge_footprint_HSC-Y</th><th>merge_footprint_HSC-G</th><th>merge_footprint_VISTA-Z</th><th>merge_footprint_VISTA-Y</th><th>merge_footprint_VISTA-J</th><th>merge_footprint_VISTA-H</th><th>merge_footprint_VISTA-Ks</th><th>merge_footprint_sky</th><th>merge_peak_HSC-I</th><th>merge_peak_HSC-R</th><th>merge_peak_HSC-Z</th><th>merge_peak_HSC-Y</th><th>merge_peak_HSC-G</th><th>merge_peak_VISTA-Z</th><th>merge_peak_VISTA-Y</th><th>merge_peak_VISTA-J</th><th>merge_peak_VISTA-H</th><th>merge_peak_VISTA-Ks</th><th>merge_peak_sky</th><th>deblend_nChild</th><th>deblend_deblendedAsPsf</th><th>deblend_psfCenter_x</th><th>deblend_psfCenter_y</th><th>deblend_psf_instFlux</th><th>deblend_tooManyPeaks</th><th>deblend_parentTooBig</th><th>deblend_masked</th><th>deblend_skipped</th><th>deblend_rampedTemplate</th><th>deblend_patchedTemplate</th><th>deblend_hasStrayFlux</th><th>deblend_peak_center_x</th><th>deblend_peak_center_y</th><th>deblend_peakId</th><th>deblend_nPeaks</th><th>deblend_parentNPeaks</th><th>base_NaiveCentroid_x</th><th>base_NaiveCentroid_y</th><th>base_NaiveCentroid_flag</th><th>base_NaiveCentroid_flag_noCounts</th><th>base_NaiveCentroid_flag_edge</th><th>base_NaiveCentroid_flag_resetToPeak</th><th>base_SdssCentroid_x</th><th>slot_Centroid_x</th><th>base_SdssCentroid_y</th><th>slot_Centroid_y</th><th>base_SdssCentroid_xErr</th><th>slot_Centroid_xErr</th><th>base_SdssCentroid_yErr</th><th>slot_Centroid_yErr</th><th>base_SdssCentroid_flag</th><th>base_CircularApertureFlux_flag_badCentroid</th><th>base_GaussianFlux_flag_badCentroid</th><th>base_InputCount_flag_badCentroid</th><th>base_LocalBackground_flag_badCentroid</th><th>base_NaiveCentroid_flag_badInitialCentroid</th><th>base_PsfFlux_flag_badCentroid</th><th>base_SdssShape_flag_badCentroid</th><th>base_Variance_flag_badCentroid</th><th>ext_convolved_ConvolvedFlux_0_flag_badCentroid</th><th>ext_convolved_ConvolvedFlux_1_flag_badCentroid</th><th>ext_convolved_ConvolvedFlux_2_flag_badCentroid</th><th>ext_convolved_ConvolvedFlux_flag_badCentroid</th><th>ext_photometryKron_KronFlux_flag_badInitialCentroid</th><th>ext_shapeHSM_HsmPsfMoments_flag_badCentroid</th><th>ext_shapeHSM_HsmShapeRegauss_flag_badCentroid</th><th>ext_shapeHSM_HsmSourceMomentsRound_flag_badCentroid</th><th>ext_shapeHSM_HsmSourceMoments_flag_badCentroid</th><th>modelfit_DoubleShapeletPsfApprox_flag_badCentroid</th><th>slot_Centroid_flag</th><th>base_SdssCentroid_flag_edge</th><th>base_CircularApertureFlux_flag_badCentroid_edge</th><th>base_GaussianFlux_flag_badCentroid_edge</th><th>base_InputCount_flag_badCentroid_edge</th><th>base_LocalBackground_flag_badCentroid_edge</th><th>base_NaiveCentroid_flag_badInitialCentroid_edge</th><th>base_PsfFlux_flag_badCentroid_edge</th><th>base_SdssShape_flag_badCentroid_edge</th><th>base_Variance_flag_badCentroid_edge</th><th>ext_convolved_ConvolvedFlux_0_flag_badCentroid_edge</th><th>ext_convolved_ConvolvedFlux_1_flag_badCentroid_edge</th><th>ext_convolved_ConvolvedFlux_2_flag_badCentroid_edge</th><th>ext_convolved_ConvolvedFlux_flag_badCentroid_edge</th><th>ext_photometryKron_KronFlux_flag_badInitialCentroid_edge</th><th>ext_shapeHSM_HsmPsfMoments_flag_badCentroid_edge</th><th>ext_shapeHSM_HsmShapeRegauss_flag_badCentroid_edge</th><th>ext_shapeHSM_HsmSourceMomentsRound_flag_badCentroid_edge</th><th>ext_shapeHSM_HsmSourceMoments_flag_badCentroid_edge</th><th>modelfit_DoubleShapeletPsfApprox_flag_badCentroid_edge</th><th>slot_Centroid_flag_edge</th><th>base_SdssCentroid_flag_noSecondDerivative</th><th>base_CircularApertureFlux_flag_badCentroid_noSecondDerivative</th><th>base_GaussianFlux_flag_badCentroid_noSecondDerivative</th><th>base_InputCount_flag_badCentroid_noSecondDerivative</th><th>base_LocalBackground_flag_badCentroid_noSecondDerivative</th><th>base_NaiveCentroid_flag_badInitialCentroid_noSecondDerivative</th><th>base_PsfFlux_flag_badCentroid_noSecondDerivative</th><th>base_SdssShape_flag_badCentroid_noSecondDerivative</th><th>base_Variance_flag_badCentroid_noSecondDerivative</th><th>ext_convolved_ConvolvedFlux_0_flag_badCentroid_noSecondDerivative</th><th>ext_convolved_ConvolvedFlux_1_flag_badCentroid_noSecondDerivative</th><th>ext_convolved_ConvolvedFlux_2_flag_badCentroid_noSecondDerivative</th><th>ext_convolved_ConvolvedFlux_flag_badCentroid_noSecondDerivative</th><th>ext_photometryKron_KronFlux_flag_badInitialCentroid_noSecondDerivative</th><th>ext_shapeHSM_HsmPsfMoments_flag_badCentroid_noSecondDerivative</th><th>ext_shapeHSM_HsmShapeRegauss_flag_badCentroid_noSecondDerivative</th><th>ext_shapeHSM_HsmSourceMomentsRound_flag_badCentroid_noSecondDerivative</th><th>ext_shapeHSM_HsmSourceMoments_flag_badCentroid_noSecondDerivative</th><th>modelfit_DoubleShapeletPsfApprox_flag_badCentroid_noSecondDerivative</th><th>slot_Centroid_flag_noSecondDerivative</th><th>base_SdssCentroid_flag_almostNoSecondDerivative</th><th>base_CircularApertureFlux_flag_badCentroid_almostNoSecondDerivative</th><th>base_GaussianFlux_flag_badCentroid_almostNoSecondDerivative</th><th>base_InputCount_flag_badCentroid_almostNoSecondDerivative</th><th>base_LocalBackground_flag_badCentroid_almostNoSecondDerivative</th><th>base_NaiveCentroid_flag_badInitialCentroid_almostNoSecondDerivative</th><th>base_PsfFlux_flag_badCentroid_almostNoSecondDerivative</th><th>base_SdssShape_flag_badCentroid_almostNoSecondDerivative</th><th>base_Variance_flag_badCentroid_almostNoSecondDerivative</th><th>ext_convolved_ConvolvedFlux_0_flag_badCentroid_almostNoSecondDerivative</th><th>ext_convolved_ConvolvedFlux_1_flag_badCentroid_almostNoSecondDerivative</th><th>ext_convolved_ConvolvedFlux_2_flag_badCentroid_almostNoSecondDerivative</th><th>ext_convolved_ConvolvedFlux_flag_badCentroid_almostNoSecondDerivative</th><th>ext_photometryKron_KronFlux_flag_badInitialCentroid_almostNoSecondDerivative</th><th>ext_shapeHSM_HsmPsfMoments_flag_badCentroid_almostNoSecondDerivative</th><th>ext_shapeHSM_HsmShapeRegauss_flag_badCentroid_almostNoSecondDerivative</th><th>ext_shapeHSM_HsmSourceMomentsRound_flag_badCentroid_almostNoSecondDerivative</th><th>ext_shapeHSM_HsmSourceMoments_flag_badCentroid_almostNoSecondDerivative</th><th>modelfit_DoubleShapeletPsfApprox_flag_badCentroid_almostNoSecondDerivative</th><th>slot_Centroid_flag_almostNoSecondDerivative</th><th>base_SdssCentroid_flag_notAtMaximum</th><th>base_CircularApertureFlux_flag_badCentroid_notAtMaximum</th><th>base_GaussianFlux_flag_badCentroid_notAtMaximum</th><th>base_InputCount_flag_badCentroid_notAtMaximum</th><th>base_LocalBackground_flag_badCentroid_notAtMaximum</th><th>base_NaiveCentroid_flag_badInitialCentroid_notAtMaximum</th><th>base_PsfFlux_flag_badCentroid_notAtMaximum</th><th>base_SdssShape_flag_badCentroid_notAtMaximum</th><th>base_Variance_flag_badCentroid_notAtMaximum</th><th>ext_convolved_ConvolvedFlux_0_flag_badCentroid_notAtMaximum</th><th>ext_convolved_ConvolvedFlux_1_flag_badCentroid_notAtMaximum</th><th>ext_convolved_ConvolvedFlux_2_flag_badCentroid_notAtMaximum</th><th>ext_convolved_ConvolvedFlux_flag_badCentroid_notAtMaximum</th><th>ext_photometryKron_KronFlux_flag_badInitialCentroid_notAtMaximum</th><th>ext_shapeHSM_HsmPsfMoments_flag_badCentroid_notAtMaximum</th><th>ext_shapeHSM_HsmShapeRegauss_flag_badCentroid_notAtMaximum</th><th>ext_shapeHSM_HsmSourceMomentsRound_flag_badCentroid_notAtMaximum</th><th>ext_shapeHSM_HsmSourceMoments_flag_badCentroid_notAtMaximum</th><th>modelfit_DoubleShapeletPsfApprox_flag_badCentroid_notAtMaximum</th><th>slot_Centroid_flag_notAtMaximum</th><th>base_SdssCentroid_flag_resetToPeak</th><th>base_CircularApertureFlux_flag_badCentroid_resetToPeak</th><th>base_GaussianFlux_flag_badCentroid_resetToPeak</th><th>base_InputCount_flag_badCentroid_resetToPeak</th><th>base_LocalBackground_flag_badCentroid_resetToPeak</th><th>base_NaiveCentroid_flag_badInitialCentroid_resetToPeak</th><th>base_PsfFlux_flag_badCentroid_resetToPeak</th><th>base_SdssShape_flag_badCentroid_resetToPeak</th><th>base_Variance_flag_badCentroid_resetToPeak</th><th>ext_convolved_ConvolvedFlux_0_flag_badCentroid_resetToPeak</th><th>ext_convolved_ConvolvedFlux_1_flag_badCentroid_resetToPeak</th><th>ext_convolved_ConvolvedFlux_2_flag_badCentroid_resetToPeak</th><th>ext_convolved_ConvolvedFlux_flag_badCentroid_resetToPeak</th><th>ext_photometryKron_KronFlux_flag_badInitialCentroid_resetToPeak</th><th>ext_shapeHSM_HsmPsfMoments_flag_badCentroid_resetToPeak</th><th>ext_shapeHSM_HsmShapeRegauss_flag_badCentroid_resetToPeak</th><th>ext_shapeHSM_HsmSourceMomentsRound_flag_badCentroid_resetToPeak</th><th>ext_shapeHSM_HsmSourceMoments_flag_badCentroid_resetToPeak</th><th>modelfit_DoubleShapeletPsfApprox_flag_badCentroid_resetToPeak</th><th>slot_Centroid_flag_resetToPeak</th><th>base_SdssCentroid_flag_badError</th><th>base_CircularApertureFlux_flag_badCentroid_badError</th><th>base_GaussianFlux_flag_badCentroid_badError</th><th>base_InputCount_flag_badCentroid_badError</th><th>base_LocalBackground_flag_badCentroid_badError</th><th>base_NaiveCentroid_flag_badInitialCentroid_badError</th><th>base_PsfFlux_flag_badCentroid_badError</th><th>base_SdssShape_flag_badCentroid_badError</th><th>base_Variance_flag_badCentroid_badError</th><th>ext_convolved_ConvolvedFlux_0_flag_badCentroid_badError</th><th>ext_convolved_ConvolvedFlux_1_flag_badCentroid_badError</th><th>ext_convolved_ConvolvedFlux_2_flag_badCentroid_badError</th><th>ext_convolved_ConvolvedFlux_flag_badCentroid_badError</th><th>ext_photometryKron_KronFlux_flag_badInitialCentroid_badError</th><th>ext_shapeHSM_HsmPsfMoments_flag_badCentroid_badError</th><th>ext_shapeHSM_HsmShapeRegauss_flag_badCentroid_badError</th><th>ext_shapeHSM_HsmSourceMomentsRound_flag_badCentroid_badError</th><th>ext_shapeHSM_HsmSourceMoments_flag_badCentroid_badError</th><th>modelfit_DoubleShapeletPsfApprox_flag_badCentroid_badError</th><th>slot_Centroid_flag_badError</th><th>base_Blendedness_old</th><th>base_Blendedness_raw</th><th>base_Blendedness_raw_child_instFlux</th><th>base_Blendedness_raw_parent_instFlux</th><th>base_Blendedness_abs</th><th>base_Blendedness_abs_child_instFlux</th><th>base_Blendedness_abs_parent_instFlux</th><th>base_Blendedness_raw_child_xx</th><th>base_Blendedness_raw_child_yy</th><th>base_Blendedness_raw_child_xy</th><th>base_Blendedness_raw_parent_xx</th><th>base_Blendedness_raw_parent_yy</th><th>base_Blendedness_raw_parent_xy</th><th>base_Blendedness_abs_child_xx</th><th>base_Blendedness_abs_child_yy</th><th>base_Blendedness_abs_child_xy</th><th>base_Blendedness_abs_parent_xx</th><th>base_Blendedness_abs_parent_yy</th><th>base_Blendedness_abs_parent_xy</th><th>base_Blendedness_flag</th><th>base_Blendedness_flag_noCentroid</th><th>base_Blendedness_flag_noShape</th><th>base_InputCount_flag</th><th>base_InputCount_value</th><th>base_InputCount_flag_noInputs</th><th>base_SdssShape_xx</th><th>base_SdssShape_yy</th><th>base_SdssShape_xy</th><th>base_SdssShape_xxErr</th><th>base_SdssShape_yyErr</th><th>base_SdssShape_xyErr</th><th>base_SdssShape_x</th><th>base_SdssShape_y</th><th>base_SdssShape_instFlux</th><th>base_SdssShape_instFluxErr</th><th>base_SdssShape_psf_xx</th><th>base_SdssShape_psf_yy</th><th>base_SdssShape_psf_xy</th><th>base_SdssShape_instFlux_xx_Cov</th><th>base_SdssShape_instFlux_yy_Cov</th><th>base_SdssShape_instFlux_xy_Cov</th><th>base_SdssShape_flag</th><th>base_SdssShape_flag_unweightedBad</th><th>base_SdssShape_flag_unweighted</th><th>base_SdssShape_flag_shift</th><th>base_SdssShape_flag_maxIter</th><th>base_SdssShape_flag_psf</th><th>ext_shapeHSM_HsmPsfMoments_x</th><th>slot_PsfShape_x</th><th>ext_shapeHSM_HsmPsfMoments_y</th><th>slot_PsfShape_y</th><th>ext_shapeHSM_HsmPsfMoments_xx</th><th>slot_PsfShape_xx</th><th>ext_shapeHSM_HsmPsfMoments_yy</th><th>slot_PsfShape_yy</th><th>ext_shapeHSM_HsmPsfMoments_xy</th><th>slot_PsfShape_xy</th><th>ext_shapeHSM_HsmPsfMoments_flag</th><th>slot_PsfShape_flag</th><th>ext_shapeHSM_HsmPsfMoments_flag_no_pixels</th><th>slot_PsfShape_flag_no_pixels</th><th>ext_shapeHSM_HsmPsfMoments_flag_not_contained</th><th>slot_PsfShape_flag_not_contained</th><th>ext_shapeHSM_HsmPsfMoments_flag_parent_source</th><th>slot_PsfShape_flag_parent_source</th><th>ext_shapeHSM_HsmShapeRegauss_e1</th><th>ext_shapeHSM_HsmShapeRegauss_e2</th><th>ext_shapeHSM_HsmShapeRegauss_sigma</th><th>ext_shapeHSM_HsmShapeRegauss_resolution</th><th>ext_shapeHSM_HsmShapeRegauss_flag</th><th>ext_shapeHSM_HsmShapeRegauss_flag_no_pixels</th><th>ext_shapeHSM_HsmShapeRegauss_flag_not_contained</th><th>ext_shapeHSM_HsmShapeRegauss_flag_parent_source</th><th>ext_shapeHSM_HsmShapeRegauss_flag_galsim</th><th>ext_shapeHSM_HsmSourceMoments_x</th><th>slot_Shape_x</th><th>ext_shapeHSM_HsmSourceMoments_y</th><th>slot_Shape_y</th><th>ext_shapeHSM_HsmSourceMoments_xx</th><th>slot_Shape_xx</th><th>ext_shapeHSM_HsmSourceMoments_yy</th><th>slot_Shape_yy</th><th>ext_shapeHSM_HsmSourceMoments_xy</th><th>slot_Shape_xy</th><th>ext_shapeHSM_HsmSourceMoments_flag</th><th>base_GaussianFlux_flag_badShape</th><th>slot_Shape_flag</th><th>ext_shapeHSM_HsmSourceMoments_flag_no_pixels</th><th>base_GaussianFlux_flag_badShape_no_pixels</th><th>slot_Shape_flag_no_pixels</th><th>ext_shapeHSM_HsmSourceMoments_flag_not_contained</th><th>base_GaussianFlux_flag_badShape_not_contained</th><th>slot_Shape_flag_not_contained</th><th>ext_shapeHSM_HsmSourceMoments_flag_parent_source</th><th>base_GaussianFlux_flag_badShape_parent_source</th><th>slot_Shape_flag_parent_source</th><th>ext_shapeHSM_HsmSourceMomentsRound_x</th><th>slot_ShapeRound_x</th><th>ext_shapeHSM_HsmSourceMomentsRound_y</th><th>slot_ShapeRound_y</th><th>ext_shapeHSM_HsmSourceMomentsRound_xx</th><th>slot_ShapeRound_xx</th><th>ext_shapeHSM_HsmSourceMomentsRound_yy</th><th>slot_ShapeRound_yy</th><th>ext_shapeHSM_HsmSourceMomentsRound_xy</th><th>slot_ShapeRound_xy</th><th>ext_shapeHSM_HsmSourceMomentsRound_flag</th><th>slot_ShapeRound_flag</th><th>ext_shapeHSM_HsmSourceMomentsRound_flag_no_pixels</th><th>slot_ShapeRound_flag_no_pixels</th><th>ext_shapeHSM_HsmSourceMomentsRound_flag_not_contained</th><th>slot_ShapeRound_flag_not_contained</th><th>ext_shapeHSM_HsmSourceMomentsRound_flag_parent_source</th><th>slot_ShapeRound_flag_parent_source</th><th>ext_shapeHSM_HsmSourceMomentsRound_Flux</th><th>slot_ShapeRound_Flux</th><th>modelfit_DoubleShapeletPsfApprox_0_xx</th><th>modelfit_DoubleShapeletPsfApprox_0_yy</th><th>modelfit_DoubleShapeletPsfApprox_0_xy</th><th>modelfit_DoubleShapeletPsfApprox_0_x</th><th>modelfit_DoubleShapeletPsfApprox_0_y</th><th>modelfit_DoubleShapeletPsfApprox_0_0</th><th>modelfit_DoubleShapeletPsfApprox_0_1</th><th>modelfit_DoubleShapeletPsfApprox_0_2</th><th>modelfit_DoubleShapeletPsfApprox_0_3</th><th>modelfit_DoubleShapeletPsfApprox_0_4</th><th>modelfit_DoubleShapeletPsfApprox_0_5</th><th>modelfit_DoubleShapeletPsfApprox_1_xx</th><th>modelfit_DoubleShapeletPsfApprox_1_yy</th><th>modelfit_DoubleShapeletPsfApprox_1_xy</th><th>modelfit_DoubleShapeletPsfApprox_1_x</th><th>modelfit_DoubleShapeletPsfApprox_1_y</th><th>modelfit_DoubleShapeletPsfApprox_1_0</th><th>modelfit_DoubleShapeletPsfApprox_1_1</th><th>modelfit_DoubleShapeletPsfApprox_1_2</th><th>modelfit_DoubleShapeletPsfApprox_flag</th><th>modelfit_DoubleShapeletPsfApprox_flag_invalidPointForPsf</th><th>modelfit_DoubleShapeletPsfApprox_flag_invalidMoments</th><th>modelfit_DoubleShapeletPsfApprox_flag_maxIterations</th><th>base_CircularApertureFlux_3_0_instFlux</th><th>base_CircularApertureFlux_3_0_instFluxErr</th><th>base_CircularApertureFlux_3_0_flag</th><th>base_CircularApertureFlux_3_0_flag_apertureTruncated</th><th>base_CircularApertureFlux_3_0_flag_sincCoeffsTruncated</th><th>base_CircularApertureFlux_4_5_instFlux</th><th>base_CircularApertureFlux_4_5_instFluxErr</th><th>base_CircularApertureFlux_4_5_flag</th><th>base_CircularApertureFlux_4_5_flag_apertureTruncated</th><th>base_CircularApertureFlux_4_5_flag_sincCoeffsTruncated</th><th>base_CircularApertureFlux_6_0_instFlux</th><th>base_CircularApertureFlux_6_0_instFluxErr</th><th>base_CircularApertureFlux_6_0_flag</th><th>base_CircularApertureFlux_6_0_flag_apertureTruncated</th><th>base_CircularApertureFlux_6_0_flag_sincCoeffsTruncated</th><th>base_CircularApertureFlux_9_0_instFlux</th><th>base_CircularApertureFlux_9_0_instFluxErr</th><th>base_CircularApertureFlux_9_0_flag</th><th>base_CircularApertureFlux_9_0_flag_apertureTruncated</th><th>base_CircularApertureFlux_9_0_flag_sincCoeffsTruncated</th><th>base_CircularApertureFlux_12_0_instFlux</th><th>slot_ApFlux_instFlux</th><th>slot_CalibFlux_instFlux</th><th>base_CircularApertureFlux_12_0_instFluxErr</th><th>slot_ApFlux_instFluxErr</th><th>slot_CalibFlux_instFluxErr</th><th>base_CircularApertureFlux_12_0_flag</th><th>slot_ApFlux_flag</th><th>slot_CalibFlux_flag</th><th>base_CircularApertureFlux_12_0_flag_apertureTruncated</th><th>slot_ApFlux_flag_apertureTruncated</th><th>slot_CalibFlux_flag_apertureTruncated</th><th>base_CircularApertureFlux_12_0_flag_sincCoeffsTruncated</th><th>slot_ApFlux_flag_sincCoeffsTruncated</th><th>slot_CalibFlux_flag_sincCoeffsTruncated</th><th>base_CircularApertureFlux_17_0_instFlux</th><th>base_CircularApertureFlux_17_0_instFluxErr</th><th>base_CircularApertureFlux_17_0_flag</th><th>base_CircularApertureFlux_17_0_flag_apertureTruncated</th><th>base_CircularApertureFlux_25_0_instFlux</th><th>base_CircularApertureFlux_25_0_instFluxErr</th><th>base_CircularApertureFlux_25_0_flag</th><th>base_CircularApertureFlux_25_0_flag_apertureTruncated</th><th>base_CircularApertureFlux_35_0_instFlux</th><th>base_CircularApertureFlux_35_0_instFluxErr</th><th>base_CircularApertureFlux_35_0_flag</th><th>base_CircularApertureFlux_35_0_flag_apertureTruncated</th><th>base_CircularApertureFlux_50_0_instFlux</th><th>base_CircularApertureFlux_50_0_instFluxErr</th><th>base_CircularApertureFlux_50_0_flag</th><th>base_CircularApertureFlux_50_0_flag_apertureTruncated</th><th>base_CircularApertureFlux_70_0_instFlux</th><th>base_CircularApertureFlux_70_0_instFluxErr</th><th>base_CircularApertureFlux_70_0_flag</th><th>base_CircularApertureFlux_70_0_flag_apertureTruncated</th><th>base_GaussianFlux_instFlux</th><th>slot_GaussianFlux_instFlux</th><th>base_GaussianFlux_instFluxErr</th><th>slot_GaussianFlux_instFluxErr</th><th>base_GaussianFlux_flag</th><th>slot_GaussianFlux_flag</th><th>base_LocalBackground_instFlux</th><th>base_LocalBackground_instFluxErr</th><th>base_LocalBackground_flag</th><th>base_LocalBackground_flag_noGoodPixels</th><th>base_LocalBackground_flag_noPsf</th><th>base_LocalPhotoCalib_flag</th><th>base_LocalPhotoCalib</th><th>base_LocalPhotoCalibErr</th><th>base_LocalWcs_flag</th><th>base_LocalWcs_CDMatrix_1_1</th><th>base_LocalWcs_CDMatrix_1_2</th><th>base_LocalWcs_CDMatrix_2_1</th><th>base_LocalWcs_CDMatrix_2_2</th><th>base_PixelFlags_flag</th><th>base_PixelFlags_flag_offimage</th><th>base_PixelFlags_flag_edge</th><th>base_PixelFlags_flag_interpolated</th><th>base_PixelFlags_flag_saturated</th><th>base_PixelFlags_flag_cr</th><th>base_PixelFlags_flag_bad</th><th>base_PixelFlags_flag_suspect</th><th>base_PixelFlags_flag_interpolatedCenter</th><th>base_PixelFlags_flag_saturatedCenter</th><th>base_PixelFlags_flag_crCenter</th><th>base_PixelFlags_flag_suspectCenter</th><th>base_PixelFlags_flag_clippedCenter</th><th>base_PixelFlags_flag_sensor_edgeCenter</th><th>base_PixelFlags_flag_inexact_psfCenter</th><th>base_PixelFlags_flag_clipped</th><th>base_PixelFlags_flag_sensor_edge</th><th>base_PixelFlags_flag_inexact_psf</th><th>base_PsfFlux_instFlux</th><th>slot_PsfFlux_instFlux</th><th>base_PsfFlux_instFluxErr</th><th>slot_PsfFlux_instFluxErr</th><th>base_PsfFlux_area</th><th>slot_PsfFlux_area</th><th>base_PsfFlux_flag</th><th>slot_PsfFlux_flag</th><th>base_PsfFlux_flag_noGoodPixels</th><th>slot_PsfFlux_flag_noGoodPixels</th><th>base_PsfFlux_flag_edge</th><th>slot_PsfFlux_flag_edge</th><th>base_Variance_flag</th><th>base_Variance_value</th><th>base_Variance_flag_emptyFootprint</th><th>ext_photometryKron_KronFlux_instFlux</th><th>ext_photometryKron_KronFlux_instFluxErr</th><th>ext_photometryKron_KronFlux_radius</th><th>ext_photometryKron_KronFlux_radius_for_radius</th><th>ext_photometryKron_KronFlux_psf_radius</th><th>ext_photometryKron_KronFlux_flag</th><th>ext_photometryKron_KronFlux_flag_edge</th><th>ext_photometryKron_KronFlux_flag_bad_shape_no_psf</th><th>ext_photometryKron_KronFlux_flag_no_minimum_radius</th><th>ext_photometryKron_KronFlux_flag_no_fallback_radius</th><th>ext_photometryKron_KronFlux_flag_bad_radius</th><th>ext_photometryKron_KronFlux_flag_used_minimum_radius</th><th>ext_photometryKron_KronFlux_flag_used_psf_radius</th><th>ext_photometryKron_KronFlux_flag_small_radius</th><th>ext_photometryKron_KronFlux_flag_bad_shape</th><th>ext_convolved_ConvolvedFlux_seeing</th><th>ext_convolved_ConvolvedFlux_0_deconv</th><th>ext_convolved_ConvolvedFlux_0_3_3_instFlux</th><th>ext_convolved_ConvolvedFlux_0_3_3_instFluxErr</th><th>ext_convolved_ConvolvedFlux_0_3_3_flag</th><th>ext_convolved_ConvolvedFlux_0_3_3_flag_apertureTruncated</th><th>ext_convolved_ConvolvedFlux_0_3_3_flag_sincCoeffsTruncated</th><th>ext_convolved_ConvolvedFlux_0_4_5_instFlux</th><th>ext_convolved_ConvolvedFlux_0_4_5_instFluxErr</th><th>ext_convolved_ConvolvedFlux_0_4_5_flag</th><th>ext_convolved_ConvolvedFlux_0_4_5_flag_apertureTruncated</th><th>ext_convolved_ConvolvedFlux_0_4_5_flag_sincCoeffsTruncated</th><th>ext_convolved_ConvolvedFlux_0_6_0_instFlux</th><th>ext_convolved_ConvolvedFlux_0_6_0_instFluxErr</th><th>ext_convolved_ConvolvedFlux_0_6_0_flag</th><th>ext_convolved_ConvolvedFlux_0_6_0_flag_apertureTruncated</th><th>ext_convolved_ConvolvedFlux_0_6_0_flag_sincCoeffsTruncated</th><th>ext_convolved_ConvolvedFlux_0_kron_instFlux</th><th>ext_convolved_ConvolvedFlux_0_kron_instFluxErr</th><th>ext_convolved_ConvolvedFlux_0_kron_flag</th><th>ext_convolved_ConvolvedFlux_1_deconv</th><th>ext_convolved_ConvolvedFlux_1_3_3_instFlux</th><th>ext_convolved_ConvolvedFlux_1_3_3_instFluxErr</th><th>ext_convolved_ConvolvedFlux_1_3_3_flag</th><th>ext_convolved_ConvolvedFlux_1_3_3_flag_apertureTruncated</th><th>ext_convolved_ConvolvedFlux_1_3_3_flag_sincCoeffsTruncated</th><th>ext_convolved_ConvolvedFlux_1_4_5_instFlux</th><th>ext_convolved_ConvolvedFlux_1_4_5_instFluxErr</th><th>ext_convolved_ConvolvedFlux_1_4_5_flag</th><th>ext_convolved_ConvolvedFlux_1_4_5_flag_apertureTruncated</th><th>ext_convolved_ConvolvedFlux_1_4_5_flag_sincCoeffsTruncated</th><th>ext_convolved_ConvolvedFlux_1_6_0_instFlux</th><th>ext_convolved_ConvolvedFlux_1_6_0_instFluxErr</th><th>ext_convolved_ConvolvedFlux_1_6_0_flag</th><th>ext_convolved_ConvolvedFlux_1_6_0_flag_apertureTruncated</th><th>ext_convolved_ConvolvedFlux_1_6_0_flag_sincCoeffsTruncated</th><th>ext_convolved_ConvolvedFlux_1_kron_instFlux</th><th>ext_convolved_ConvolvedFlux_1_kron_instFluxErr</th><th>ext_convolved_ConvolvedFlux_1_kron_flag</th><th>ext_convolved_ConvolvedFlux_2_deconv</th><th>ext_convolved_ConvolvedFlux_2_3_3_instFlux</th><th>ext_convolved_ConvolvedFlux_2_3_3_instFluxErr</th><th>ext_convolved_ConvolvedFlux_2_3_3_flag</th><th>ext_convolved_ConvolvedFlux_2_3_3_flag_apertureTruncated</th><th>ext_convolved_ConvolvedFlux_2_3_3_flag_sincCoeffsTruncated</th><th>ext_convolved_ConvolvedFlux_2_4_5_instFlux</th><th>ext_convolved_ConvolvedFlux_2_4_5_instFluxErr</th><th>ext_convolved_ConvolvedFlux_2_4_5_flag</th><th>ext_convolved_ConvolvedFlux_2_4_5_flag_apertureTruncated</th><th>ext_convolved_ConvolvedFlux_2_4_5_flag_sincCoeffsTruncated</th><th>ext_convolved_ConvolvedFlux_2_6_0_instFlux</th><th>ext_convolved_ConvolvedFlux_2_6_0_instFluxErr</th><th>ext_convolved_ConvolvedFlux_2_6_0_flag</th><th>ext_convolved_ConvolvedFlux_2_6_0_flag_apertureTruncated</th><th>ext_convolved_ConvolvedFlux_2_6_0_flag_sincCoeffsTruncated</th><th>ext_convolved_ConvolvedFlux_2_kron_instFlux</th><th>ext_convolved_ConvolvedFlux_2_kron_instFluxErr</th><th>ext_convolved_ConvolvedFlux_2_kron_flag</th><th>ext_convolved_ConvolvedFlux_flag</th><th>modelfit_CModel_initial_instFlux</th><th>slot_ModelFlux_initial_instFlux</th><th>modelfit_CModel_initial_instFluxErr</th><th>slot_ModelFlux_initial_instFluxErr</th><th>modelfit_CModel_initial_flag</th><th>slot_ModelFlux_initial_flag</th><th>modelfit_CModel_initial_instFlux_inner</th><th>slot_ModelFlux_initial_instFlux_inner</th><th>modelfit_CModel_initial_ellipse_xx</th><th>slot_ModelFlux_initial_ellipse_xx</th><th>modelfit_CModel_initial_ellipse_yy</th><th>slot_ModelFlux_initial_ellipse_yy</th><th>modelfit_CModel_initial_ellipse_xy</th><th>slot_ModelFlux_initial_ellipse_xy</th><th>modelfit_CModel_initial_objective</th><th>slot_ModelFlux_initial_objective</th><th>modelfit_CModel_initial_nonlinear_0</th><th>slot_ModelFlux_initial_nonlinear_0</th><th>modelfit_CModel_initial_nonlinear_1</th><th>slot_ModelFlux_initial_nonlinear_1</th><th>modelfit_CModel_initial_nonlinear_2</th><th>slot_ModelFlux_initial_nonlinear_2</th><th>modelfit_CModel_initial_fixed_0</th><th>slot_ModelFlux_initial_fixed_0</th><th>modelfit_CModel_initial_fixed_1</th><th>slot_ModelFlux_initial_fixed_1</th><th>modelfit_CModel_initial_flag_trSmall</th><th>slot_ModelFlux_initial_flag_trSmall</th><th>modelfit_CModel_initial_flag_maxIter</th><th>slot_ModelFlux_initial_flag_maxIter</th><th>modelfit_CModel_initial_nIter</th><th>slot_ModelFlux_initial_nIter</th><th>modelfit_CModel_initial_time</th><th>slot_ModelFlux_initial_time</th><th>modelfit_CModel_initial_flag_numericError</th><th>slot_ModelFlux_initial_flag_numericError</th><th>modelfit_CModel_initial_flag_noFlux</th><th>slot_ModelFlux_initial_flag_noFlux</th><th>modelfit_CModel_exp_instFlux</th><th>slot_ModelFlux_exp_instFlux</th><th>modelfit_CModel_exp_instFluxErr</th><th>slot_ModelFlux_exp_instFluxErr</th><th>modelfit_CModel_exp_flag</th><th>slot_ModelFlux_exp_flag</th><th>modelfit_CModel_exp_instFlux_inner</th><th>slot_ModelFlux_exp_instFlux_inner</th><th>modelfit_CModel_exp_ellipse_xx</th><th>slot_ModelFlux_exp_ellipse_xx</th><th>modelfit_CModel_exp_ellipse_yy</th><th>slot_ModelFlux_exp_ellipse_yy</th><th>modelfit_CModel_exp_ellipse_xy</th><th>slot_ModelFlux_exp_ellipse_xy</th><th>modelfit_CModel_exp_objective</th><th>slot_ModelFlux_exp_objective</th><th>modelfit_CModel_exp_nonlinear_0</th><th>slot_ModelFlux_exp_nonlinear_0</th><th>modelfit_CModel_exp_nonlinear_1</th><th>slot_ModelFlux_exp_nonlinear_1</th><th>modelfit_CModel_exp_nonlinear_2</th><th>slot_ModelFlux_exp_nonlinear_2</th><th>modelfit_CModel_exp_fixed_0</th><th>slot_ModelFlux_exp_fixed_0</th><th>modelfit_CModel_exp_fixed_1</th><th>slot_ModelFlux_exp_fixed_1</th><th>modelfit_CModel_exp_flag_trSmall</th><th>slot_ModelFlux_exp_flag_trSmall</th><th>modelfit_CModel_exp_flag_maxIter</th><th>slot_ModelFlux_exp_flag_maxIter</th><th>modelfit_CModel_exp_nIter</th><th>slot_ModelFlux_exp_nIter</th><th>modelfit_CModel_exp_time</th><th>slot_ModelFlux_exp_time</th><th>modelfit_CModel_exp_flag_numericError</th><th>slot_ModelFlux_exp_flag_numericError</th><th>modelfit_CModel_exp_flag_noFlux</th><th>slot_ModelFlux_exp_flag_noFlux</th><th>modelfit_CModel_dev_instFlux</th><th>slot_ModelFlux_dev_instFlux</th><th>modelfit_CModel_dev_instFluxErr</th><th>slot_ModelFlux_dev_instFluxErr</th><th>modelfit_CModel_dev_flag</th><th>slot_ModelFlux_dev_flag</th><th>modelfit_CModel_dev_instFlux_inner</th><th>slot_ModelFlux_dev_instFlux_inner</th><th>modelfit_CModel_dev_ellipse_xx</th><th>slot_ModelFlux_dev_ellipse_xx</th><th>modelfit_CModel_dev_ellipse_yy</th><th>slot_ModelFlux_dev_ellipse_yy</th><th>modelfit_CModel_dev_ellipse_xy</th><th>slot_ModelFlux_dev_ellipse_xy</th><th>modelfit_CModel_dev_objective</th><th>slot_ModelFlux_dev_objective</th><th>modelfit_CModel_dev_nonlinear_0</th><th>slot_ModelFlux_dev_nonlinear_0</th><th>modelfit_CModel_dev_nonlinear_1</th><th>slot_ModelFlux_dev_nonlinear_1</th><th>modelfit_CModel_dev_nonlinear_2</th><th>slot_ModelFlux_dev_nonlinear_2</th><th>modelfit_CModel_dev_fixed_0</th><th>slot_ModelFlux_dev_fixed_0</th><th>modelfit_CModel_dev_fixed_1</th><th>slot_ModelFlux_dev_fixed_1</th><th>modelfit_CModel_dev_flag_trSmall</th><th>slot_ModelFlux_dev_flag_trSmall</th><th>modelfit_CModel_dev_flag_maxIter</th><th>slot_ModelFlux_dev_flag_maxIter</th><th>modelfit_CModel_dev_nIter</th><th>slot_ModelFlux_dev_nIter</th><th>modelfit_CModel_dev_time</th><th>slot_ModelFlux_dev_time</th><th>modelfit_CModel_dev_flag_numericError</th><th>slot_ModelFlux_dev_flag_numericError</th><th>modelfit_CModel_dev_flag_noFlux</th><th>slot_ModelFlux_dev_flag_noFlux</th><th>modelfit_CModel_instFlux</th><th>slot_ModelFlux_instFlux</th><th>modelfit_CModel_instFluxErr</th><th>slot_ModelFlux_instFluxErr</th><th>modelfit_CModel_flag</th><th>slot_ModelFlux_flag</th><th>modelfit_CModel_instFlux_inner</th><th>slot_ModelFlux_instFlux_inner</th><th>modelfit_CModel_fracDev</th><th>slot_ModelFlux_fracDev</th><th>modelfit_CModel_objective</th><th>slot_ModelFlux_objective</th><th>modelfit_CModel_flag_region_maxArea</th><th>slot_ModelFlux_flag_region_maxArea</th><th>modelfit_CModel_flag_region_maxBadPixelFraction</th><th>slot_ModelFlux_flag_region_maxBadPixelFraction</th><th>modelfit_CModel_flags_region_usedFootprintArea</th><th>slot_ModelFlux_flags_region_usedFootprintArea</th><th>modelfit_CModel_flags_region_usedPsfArea</th><th>slot_ModelFlux_flags_region_usedPsfArea</th><th>modelfit_CModel_flags_region_usedInitialEllipseMin</th><th>slot_ModelFlux_flags_region_usedInitialEllipseMin</th><th>modelfit_CModel_flags_region_usedInitialEllipseMax</th><th>slot_ModelFlux_flags_region_usedInitialEllipseMax</th><th>modelfit_CModel_flag_noShape</th><th>slot_ModelFlux_flag_noShape</th><th>modelfit_CModel_flags_smallShape</th><th>slot_ModelFlux_flags_smallShape</th><th>modelfit_CModel_ellipse_xx</th><th>slot_ModelFlux_ellipse_xx</th><th>modelfit_CModel_ellipse_yy</th><th>slot_ModelFlux_ellipse_yy</th><th>modelfit_CModel_ellipse_xy</th><th>slot_ModelFlux_ellipse_xy</th><th>modelfit_CModel_region_initial_ellipse_xx</th><th>slot_ModelFlux_region_initial_ellipse_xx</th><th>modelfit_CModel_region_initial_ellipse_yy</th><th>slot_ModelFlux_region_initial_ellipse_yy</th><th>modelfit_CModel_region_initial_ellipse_xy</th><th>slot_ModelFlux_region_initial_ellipse_xy</th><th>modelfit_CModel_region_final_ellipse_xx</th><th>slot_ModelFlux_region_final_ellipse_xx</th><th>modelfit_CModel_region_final_ellipse_yy</th><th>slot_ModelFlux_region_final_ellipse_yy</th><th>modelfit_CModel_region_final_ellipse_xy</th><th>slot_ModelFlux_region_final_ellipse_xy</th><th>modelfit_CModel_flag_noShapeletPsf</th><th>slot_ModelFlux_flag_noShapeletPsf</th><th>modelfit_CModel_flag_badCentroid</th><th>slot_ModelFlux_flag_badCentroid</th><th>modelfit_CModel_flag_noFlux</th><th>slot_ModelFlux_flag_noFlux</th><th>detect_isPatchInner</th><th>detect_isTractInner</th><th>detect_isPrimary</th><th>base_GaussianFlux_apCorr</th><th>slot_GaussianFlux_apCorr</th><th>base_GaussianFlux_apCorrErr</th><th>slot_GaussianFlux_apCorrErr</th><th>base_GaussianFlux_flag_apCorr</th><th>slot_GaussianFlux_flag_apCorr</th><th>base_PsfFlux_apCorr</th><th>slot_PsfFlux_apCorr</th><th>base_PsfFlux_apCorrErr</th><th>slot_PsfFlux_apCorrErr</th><th>base_PsfFlux_flag_apCorr</th><th>slot_PsfFlux_flag_apCorr</th><th>ext_convolved_ConvolvedFlux_0_3_3_apCorr</th><th>ext_convolved_ConvolvedFlux_0_3_3_apCorrErr</th><th>ext_convolved_ConvolvedFlux_0_3_3_flag_apCorr</th><th>ext_convolved_ConvolvedFlux_0_4_5_apCorr</th><th>ext_convolved_ConvolvedFlux_0_4_5_apCorrErr</th><th>ext_convolved_ConvolvedFlux_0_4_5_flag_apCorr</th><th>ext_convolved_ConvolvedFlux_0_6_0_apCorr</th><th>ext_convolved_ConvolvedFlux_0_6_0_apCorrErr</th><th>ext_convolved_ConvolvedFlux_0_6_0_flag_apCorr</th><th>ext_convolved_ConvolvedFlux_0_kron_apCorr</th><th>ext_convolved_ConvolvedFlux_0_kron_apCorrErr</th><th>ext_convolved_ConvolvedFlux_0_kron_flag_apCorr</th><th>ext_convolved_ConvolvedFlux_1_3_3_apCorr</th><th>ext_convolved_ConvolvedFlux_1_3_3_apCorrErr</th><th>ext_convolved_ConvolvedFlux_1_3_3_flag_apCorr</th><th>ext_convolved_ConvolvedFlux_1_4_5_apCorr</th><th>ext_convolved_ConvolvedFlux_1_4_5_apCorrErr</th><th>ext_convolved_ConvolvedFlux_1_4_5_flag_apCorr</th><th>ext_convolved_ConvolvedFlux_1_6_0_apCorr</th><th>ext_convolved_ConvolvedFlux_1_6_0_apCorrErr</th><th>ext_convolved_ConvolvedFlux_1_6_0_flag_apCorr</th><th>ext_convolved_ConvolvedFlux_1_kron_apCorr</th><th>ext_convolved_ConvolvedFlux_1_kron_apCorrErr</th><th>ext_convolved_ConvolvedFlux_1_kron_flag_apCorr</th><th>ext_convolved_ConvolvedFlux_2_3_3_apCorr</th><th>ext_convolved_ConvolvedFlux_2_3_3_apCorrErr</th><th>ext_convolved_ConvolvedFlux_2_3_3_flag_apCorr</th><th>ext_convolved_ConvolvedFlux_2_4_5_apCorr</th><th>ext_convolved_ConvolvedFlux_2_4_5_apCorrErr</th><th>ext_convolved_ConvolvedFlux_2_4_5_flag_apCorr</th><th>ext_convolved_ConvolvedFlux_2_6_0_apCorr</th><th>ext_convolved_ConvolvedFlux_2_6_0_apCorrErr</th><th>ext_convolved_ConvolvedFlux_2_6_0_flag_apCorr</th><th>ext_convolved_ConvolvedFlux_2_kron_apCorr</th><th>ext_convolved_ConvolvedFlux_2_kron_apCorrErr</th><th>ext_convolved_ConvolvedFlux_2_kron_flag_apCorr</th><th>ext_photometryKron_KronFlux_apCorr</th><th>ext_photometryKron_KronFlux_apCorrErr</th><th>ext_photometryKron_KronFlux_flag_apCorr</th><th>modelfit_CModel_apCorr</th><th>slot_ModelFlux_apCorr</th><th>modelfit_CModel_apCorrErr</th><th>slot_ModelFlux_apCorrErr</th><th>modelfit_CModel_flag_apCorr</th><th>slot_ModelFlux_flag_apCorr</th><th>modelfit_CModel_dev_apCorr</th><th>slot_ModelFlux_dev_apCorr</th><th>modelfit_CModel_dev_apCorrErr</th><th>slot_ModelFlux_dev_apCorrErr</th><th>modelfit_CModel_dev_flag_apCorr</th><th>slot_ModelFlux_dev_flag_apCorr</th><th>modelfit_CModel_exp_apCorr</th><th>slot_ModelFlux_exp_apCorr</th><th>modelfit_CModel_exp_apCorrErr</th><th>slot_ModelFlux_exp_apCorrErr</th><th>modelfit_CModel_exp_flag_apCorr</th><th>slot_ModelFlux_exp_flag_apCorr</th><th>modelfit_CModel_initial_apCorr</th><th>slot_ModelFlux_initial_apCorr</th><th>modelfit_CModel_initial_apCorrErr</th><th>slot_ModelFlux_initial_apCorrErr</th><th>modelfit_CModel_initial_flag_apCorr</th><th>slot_ModelFlux_initial_flag_apCorr</th><th>base_ClassificationExtendedness_value</th><th>base_ClassificationExtendedness_flag</th><th>base_FootprintArea_value</th></tr></thead>\n",
       "<thead><tr><th></th><th>rad</th><th>rad</th><th></th><th></th><th></th><th></th><th></th><th></th><th></th><th></th><th></th><th></th><th></th><th></th><th></th><th></th><th></th><th></th><th></th><th></th><th></th><th></th><th></th><th></th><th></th><th></th><th></th><th>pix</th><th>pix</th><th>ct</th><th></th><th></th><th></th><th></th><th></th><th></th><th></th><th>pix</th><th>pix</th><th></th><th></th><th></th><th>pix</th><th>pix</th><th></th><th></th><th></th><th></th><th>pix</th><th>pix</th><th>pix</th><th>pix</th><th>pix</th><th>pix</th><th>pix</th><th>pix</th><th></th><th></th><th></th><th></th><th></th><th></th><th></th><th></th><th></th><th></th><th></th><th></th><th></th><th></th><th></th><th></th><th></th><th></th><th></th><th></th><th></th><th></th><th></th><th></th><th></th><th></th><th></th><th></th><th></th><th></th><th></th><th></th><th></th><th></th><th></th><th></th><th></th><th></th><th></th><th></th><th></th><th></th><th></th><th></th><th></th><th></th><th></th><th></th><th></th><th></th><th></th><th></th><th></th><th></th><th></th><th></th><th></th><th></th><th></th><th></th><th></th><th></th><th></th><th></th><th></th><th></th><th></th><th></th><th></th><th></th><th></th><th></th><th></th><th></th><th></th><th></th><th></th><th></th><th></th><th></th><th></th><th></th><th></th><th></th><th></th><th></th><th></th><th></th><th></th><th></th><th></th><th></th><th></th><th></th><th></th><th></th><th></th><th></th><th></th><th></th><th></th><th></th><th></th><th></th><th></th><th></th><th></th><th></th><th></th><th></th><th></th><th></th><th></th><th></th><th></th><th></th><th></th><th></th><th></th><th></th><th></th><th></th><th></th><th></th><th></th><th></th><th></th><th></th><th></th><th></th><th></th><th></th><th></th><th></th><th></th><th></th><th></th><th></th><th></th><th></th><th></th><th></th><th>ct</th><th>ct</th><th></th><th>ct</th><th>ct</th><th>pix2</th><th>pix2</th><th>pix2</th><th>pix2</th><th>pix2</th><th>pix2</th><th>pix2</th><th>pix2</th><th>pix2</th><th>pix2</th><th>pix2</th><th>pix2</th><th></th><th></th><th></th><th></th><th></th><th></th><th>pix2</th><th>pix2</th><th>pix2</th><th>pix2</th><th>pix2</th><th>pix2</th><th>pix</th><th>pix</th><th>ct</th><th>ct</th><th>pix2</th><th>pix2</th><th>pix2</th><th>ct pix2</th><th>ct pix2</th><th>ct pix2</th><th></th><th></th><th></th><th></th><th></th><th></th><th>pix</th><th>pix</th><th>pix</th><th>pix</th><th>pix2</th><th>pix2</th><th>pix2</th><th>pix2</th><th>pix2</th><th>pix2</th><th></th><th></th><th></th><th></th><th></th><th></th><th></th><th></th><th></th><th></th><th></th><th></th><th></th><th></th><th></th><th></th><th></th><th>pix</th><th>pix</th><th>pix</th><th>pix</th><th>pix2</th><th>pix2</th><th>pix2</th><th>pix2</th><th>pix2</th><th>pix2</th><th></th><th></th><th></th><th></th><th></th><th></th><th></th><th></th><th></th><th></th><th></th><th></th><th>pix</th><th>pix</th><th>pix</th><th>pix</th><th>pix2</th><th>pix2</th><th>pix2</th><th>pix2</th><th>pix2</th><th>pix2</th><th></th><th></th><th></th><th></th><th></th><th></th><th></th><th></th><th></th><th></th><th>pix2</th><th>pix2</th><th>pix2</th><th>pix</th><th>pix</th><th></th><th></th><th></th><th></th><th></th><th></th><th>pix2</th><th>pix2</th><th>pix2</th><th>pix</th><th>pix</th><th></th><th></th><th></th><th></th><th></th><th></th><th></th><th>ct</th><th>ct</th><th></th><th></th><th></th><th>ct</th><th>ct</th><th></th><th></th><th></th><th>ct</th><th>ct</th><th></th><th></th><th></th><th>ct</th><th>ct</th><th></th><th></th><th></th><th>ct</th><th>ct</th><th>ct</th><th>ct</th><th>ct</th><th>ct</th><th></th><th></th><th></th><th></th><th></th><th></th><th></th><th></th><th></th><th>ct</th><th>ct</th><th></th><th></th><th>ct</th><th>ct</th><th></th><th></th><th>ct</th><th>ct</th><th></th><th></th><th>ct</th><th>ct</th><th></th><th></th><th>ct</th><th>ct</th><th></th><th></th><th>ct</th><th>ct</th><th>ct</th><th>ct</th><th></th><th></th><th>ct</th><th>ct</th><th></th><th></th><th></th><th></th><th></th><th></th><th></th><th></th><th></th><th></th><th></th><th></th><th></th><th></th><th></th><th></th><th></th><th></th><th></th><th></th><th></th><th></th><th></th><th></th><th></th><th></th><th></th><th></th><th></th><th>ct</th><th>ct</th><th>ct</th><th>ct</th><th>pix</th><th>pix</th><th></th><th></th><th></th><th></th><th></th><th></th><th></th><th></th><th></th><th>ct</th><th>ct</th><th></th><th></th><th></th><th></th><th></th><th></th><th></th><th></th><th></th><th></th><th></th><th></th><th></th><th>pix</th><th></th><th>ct</th><th>ct</th><th></th><th></th><th></th><th>ct</th><th>ct</th><th></th><th></th><th></th><th>ct</th><th>ct</th><th></th><th></th><th></th><th>ct</th><th>ct</th><th></th><th></th><th>ct</th><th>ct</th><th></th><th></th><th></th><th>ct</th><th>ct</th><th></th><th></th><th></th><th>ct</th><th>ct</th><th></th><th></th><th></th><th>ct</th><th>ct</th><th></th><th></th><th>ct</th><th>ct</th><th></th><th></th><th></th><th>ct</th><th>ct</th><th></th><th></th><th></th><th>ct</th><th>ct</th><th></th><th></th><th></th><th>ct</th><th>ct</th><th></th><th></th><th>ct</th><th>ct</th><th>ct</th><th>ct</th><th></th><th></th><th>ct</th><th>ct</th><th>pix2</th><th>pix2</th><th>pix2</th><th>pix2</th><th>pix2</th><th>pix2</th><th></th><th></th><th></th><th></th><th></th><th></th><th></th><th></th><th></th><th></th><th></th><th></th><th></th><th></th><th></th><th></th><th></th><th></th><th>s</th><th>s</th><th></th><th></th><th></th><th></th><th>ct</th><th>ct</th><th>ct</th><th>ct</th><th></th><th></th><th>ct</th><th>ct</th><th>pix2</th><th>pix2</th><th>pix2</th><th>pix2</th><th>pix2</th><th>pix2</th><th></th><th></th><th></th><th></th><th></th><th></th><th></th><th></th><th></th><th></th><th></th><th></th><th></th><th></th><th></th><th></th><th></th><th></th><th>s</th><th>s</th><th></th><th></th><th></th><th></th><th>ct</th><th>ct</th><th>ct</th><th>ct</th><th></th><th></th><th>ct</th><th>ct</th><th>pix2</th><th>pix2</th><th>pix2</th><th>pix2</th><th>pix2</th><th>pix2</th><th></th><th></th><th></th><th></th><th></th><th></th><th></th><th></th><th></th><th></th><th></th><th></th><th></th><th></th><th></th><th></th><th></th><th></th><th>s</th><th>s</th><th></th><th></th><th></th><th></th><th>ct</th><th>ct</th><th>ct</th><th>ct</th><th></th><th></th><th>ct</th><th>ct</th><th></th><th></th><th></th><th></th><th></th><th></th><th></th><th></th><th></th><th></th><th></th><th></th><th></th><th></th><th></th><th></th><th></th><th></th><th></th><th></th><th>pix2</th><th>pix2</th><th>pix2</th><th>pix2</th><th>pix2</th><th>pix2</th><th>pix2</th><th>pix2</th><th>pix2</th><th>pix2</th><th>pix2</th><th>pix2</th><th>pix2</th><th>pix2</th><th>pix2</th><th>pix2</th><th>pix2</th><th>pix2</th><th></th><th></th><th></th><th></th><th></th><th></th><th></th><th></th><th></th><th></th><th></th><th></th><th></th><th></th><th></th><th></th><th></th><th></th><th></th><th></th><th></th><th></th><th></th><th></th><th></th><th></th><th></th><th></th><th></th><th></th><th></th><th></th><th></th><th></th><th></th><th></th><th></th><th></th><th></th><th></th><th></th><th></th><th></th><th></th><th></th><th></th><th></th><th></th><th></th><th></th><th></th><th></th><th></th><th></th><th></th><th></th><th></th><th></th><th></th><th></th><th></th><th></th><th></th><th></th><th></th><th></th><th></th><th></th><th></th><th></th><th></th><th></th><th></th><th></th><th></th><th></th><th></th><th></th><th></th><th></th><th></th><th></th><th></th><th></th><th></th><th></th><th>pix</th></tr></thead>\n",
       "<thead><tr><th>int64</th><th>float64</th><th>float64</th><th>int64</th><th>bool</th><th>bool</th><th>bool</th><th>bool</th><th>bool</th><th>bool</th><th>bool</th><th>bool</th><th>bool</th><th>bool</th><th>bool</th><th>bool</th><th>bool</th><th>bool</th><th>bool</th><th>bool</th><th>bool</th><th>bool</th><th>bool</th><th>bool</th><th>bool</th><th>bool</th><th>int32</th><th>bool</th><th>float64</th><th>float64</th><th>float64</th><th>bool</th><th>bool</th><th>bool</th><th>bool</th><th>bool</th><th>bool</th><th>bool</th><th>int32</th><th>int32</th><th>int32</th><th>int32</th><th>int32</th><th>float64</th><th>float64</th><th>bool</th><th>bool</th><th>bool</th><th>bool</th><th>float64</th><th>float64</th><th>float64</th><th>float64</th><th>float32</th><th>float32</th><th>float32</th><th>float32</th><th>bool</th><th>bool</th><th>bool</th><th>bool</th><th>bool</th><th>bool</th><th>bool</th><th>bool</th><th>bool</th><th>bool</th><th>bool</th><th>bool</th><th>bool</th><th>bool</th><th>bool</th><th>bool</th><th>bool</th><th>bool</th><th>bool</th><th>bool</th><th>bool</th><th>bool</th><th>bool</th><th>bool</th><th>bool</th><th>bool</th><th>bool</th><th>bool</th><th>bool</th><th>bool</th><th>bool</th><th>bool</th><th>bool</th><th>bool</th><th>bool</th><th>bool</th><th>bool</th><th>bool</th><th>bool</th><th>bool</th><th>bool</th><th>bool</th><th>bool</th><th>bool</th><th>bool</th><th>bool</th><th>bool</th><th>bool</th><th>bool</th><th>bool</th><th>bool</th><th>bool</th><th>bool</th><th>bool</th><th>bool</th><th>bool</th><th>bool</th><th>bool</th><th>bool</th><th>bool</th><th>bool</th><th>bool</th><th>bool</th><th>bool</th><th>bool</th><th>bool</th><th>bool</th><th>bool</th><th>bool</th><th>bool</th><th>bool</th><th>bool</th><th>bool</th><th>bool</th><th>bool</th><th>bool</th><th>bool</th><th>bool</th><th>bool</th><th>bool</th><th>bool</th><th>bool</th><th>bool</th><th>bool</th><th>bool</th><th>bool</th><th>bool</th><th>bool</th><th>bool</th><th>bool</th><th>bool</th><th>bool</th><th>bool</th><th>bool</th><th>bool</th><th>bool</th><th>bool</th><th>bool</th><th>bool</th><th>bool</th><th>bool</th><th>bool</th><th>bool</th><th>bool</th><th>bool</th><th>bool</th><th>bool</th><th>bool</th><th>bool</th><th>bool</th><th>bool</th><th>bool</th><th>bool</th><th>bool</th><th>bool</th><th>bool</th><th>bool</th><th>bool</th><th>bool</th><th>bool</th><th>bool</th><th>bool</th><th>bool</th><th>bool</th><th>bool</th><th>bool</th><th>bool</th><th>bool</th><th>bool</th><th>bool</th><th>bool</th><th>bool</th><th>bool</th><th>bool</th><th>bool</th><th>bool</th><th>bool</th><th>bool</th><th>bool</th><th>bool</th><th>float64</th><th>float64</th><th>float64</th><th>float64</th><th>float64</th><th>float64</th><th>float64</th><th>float64</th><th>float64</th><th>float64</th><th>float64</th><th>float64</th><th>float64</th><th>float64</th><th>float64</th><th>float64</th><th>float64</th><th>float64</th><th>float64</th><th>bool</th><th>bool</th><th>bool</th><th>bool</th><th>int32</th><th>bool</th><th>float64</th><th>float64</th><th>float64</th><th>float32</th><th>float32</th><th>float32</th><th>float64</th><th>float64</th><th>float64</th><th>float64</th><th>float64</th><th>float64</th><th>float64</th><th>float32</th><th>float32</th><th>float32</th><th>bool</th><th>bool</th><th>bool</th><th>bool</th><th>bool</th><th>bool</th><th>float64</th><th>float64</th><th>float64</th><th>float64</th><th>float64</th><th>float64</th><th>float64</th><th>float64</th><th>float64</th><th>float64</th><th>bool</th><th>bool</th><th>bool</th><th>bool</th><th>bool</th><th>bool</th><th>bool</th><th>bool</th><th>float64</th><th>float64</th><th>float64</th><th>float64</th><th>bool</th><th>bool</th><th>bool</th><th>bool</th><th>bool</th><th>float64</th><th>float64</th><th>float64</th><th>float64</th><th>float64</th><th>float64</th><th>float64</th><th>float64</th><th>float64</th><th>float64</th><th>bool</th><th>bool</th><th>bool</th><th>bool</th><th>bool</th><th>bool</th><th>bool</th><th>bool</th><th>bool</th><th>bool</th><th>bool</th><th>bool</th><th>float64</th><th>float64</th><th>float64</th><th>float64</th><th>float64</th><th>float64</th><th>float64</th><th>float64</th><th>float64</th><th>float64</th><th>bool</th><th>bool</th><th>bool</th><th>bool</th><th>bool</th><th>bool</th><th>bool</th><th>bool</th><th>float32</th><th>float32</th><th>float64</th><th>float64</th><th>float64</th><th>float64</th><th>float64</th><th>float64</th><th>float64</th><th>float64</th><th>float64</th><th>float64</th><th>float64</th><th>float64</th><th>float64</th><th>float64</th><th>float64</th><th>float64</th><th>float64</th><th>float64</th><th>float64</th><th>bool</th><th>bool</th><th>bool</th><th>bool</th><th>float64</th><th>float64</th><th>bool</th><th>bool</th><th>bool</th><th>float64</th><th>float64</th><th>bool</th><th>bool</th><th>bool</th><th>float64</th><th>float64</th><th>bool</th><th>bool</th><th>bool</th><th>float64</th><th>float64</th><th>bool</th><th>bool</th><th>bool</th><th>float64</th><th>float64</th><th>float64</th><th>float64</th><th>float64</th><th>float64</th><th>bool</th><th>bool</th><th>bool</th><th>bool</th><th>bool</th><th>bool</th><th>bool</th><th>bool</th><th>bool</th><th>float64</th><th>float64</th><th>bool</th><th>bool</th><th>float64</th><th>float64</th><th>bool</th><th>bool</th><th>float64</th><th>float64</th><th>bool</th><th>bool</th><th>float64</th><th>float64</th><th>bool</th><th>bool</th><th>float64</th><th>float64</th><th>bool</th><th>bool</th><th>float64</th><th>float64</th><th>float64</th><th>float64</th><th>bool</th><th>bool</th><th>float64</th><th>float64</th><th>bool</th><th>bool</th><th>bool</th><th>bool</th><th>float64</th><th>float64</th><th>bool</th><th>float64</th><th>float64</th><th>float64</th><th>float64</th><th>bool</th><th>bool</th><th>bool</th><th>bool</th><th>bool</th><th>bool</th><th>bool</th><th>bool</th><th>bool</th><th>bool</th><th>bool</th><th>bool</th><th>bool</th><th>bool</th><th>bool</th><th>bool</th><th>bool</th><th>bool</th><th>float64</th><th>float64</th><th>float64</th><th>float64</th><th>float32</th><th>float32</th><th>bool</th><th>bool</th><th>bool</th><th>bool</th><th>bool</th><th>bool</th><th>bool</th><th>float64</th><th>bool</th><th>float64</th><th>float64</th><th>float32</th><th>float32</th><th>float32</th><th>bool</th><th>bool</th><th>bool</th><th>bool</th><th>bool</th><th>bool</th><th>bool</th><th>bool</th><th>bool</th><th>bool</th><th>float32</th><th>bool</th><th>float64</th><th>float64</th><th>bool</th><th>bool</th><th>bool</th><th>float64</th><th>float64</th><th>bool</th><th>bool</th><th>bool</th><th>float64</th><th>float64</th><th>bool</th><th>bool</th><th>bool</th><th>float64</th><th>float64</th><th>bool</th><th>bool</th><th>float64</th><th>float64</th><th>bool</th><th>bool</th><th>bool</th><th>float64</th><th>float64</th><th>bool</th><th>bool</th><th>bool</th><th>float64</th><th>float64</th><th>bool</th><th>bool</th><th>bool</th><th>float64</th><th>float64</th><th>bool</th><th>bool</th><th>float64</th><th>float64</th><th>bool</th><th>bool</th><th>bool</th><th>float64</th><th>float64</th><th>bool</th><th>bool</th><th>bool</th><th>float64</th><th>float64</th><th>bool</th><th>bool</th><th>bool</th><th>float64</th><th>float64</th><th>bool</th><th>bool</th><th>float64</th><th>float64</th><th>float64</th><th>float64</th><th>bool</th><th>bool</th><th>float64</th><th>float64</th><th>float64</th><th>float64</th><th>float64</th><th>float64</th><th>float64</th><th>float64</th><th>float64</th><th>float64</th><th>float64</th><th>float64</th><th>float64</th><th>float64</th><th>float64</th><th>float64</th><th>float64</th><th>float64</th><th>float64</th><th>float64</th><th>bool</th><th>bool</th><th>bool</th><th>bool</th><th>int32</th><th>int32</th><th>float64</th><th>float64</th><th>bool</th><th>bool</th><th>bool</th><th>bool</th><th>float64</th><th>float64</th><th>float64</th><th>float64</th><th>bool</th><th>bool</th><th>float64</th><th>float64</th><th>float64</th><th>float64</th><th>float64</th><th>float64</th><th>float64</th><th>float64</th><th>float64</th><th>float64</th><th>float64</th><th>float64</th><th>float64</th><th>float64</th><th>float64</th><th>float64</th><th>float64</th><th>float64</th><th>float64</th><th>float64</th><th>bool</th><th>bool</th><th>bool</th><th>bool</th><th>int32</th><th>int32</th><th>float64</th><th>float64</th><th>bool</th><th>bool</th><th>bool</th><th>bool</th><th>float64</th><th>float64</th><th>float64</th><th>float64</th><th>bool</th><th>bool</th><th>float64</th><th>float64</th><th>float64</th><th>float64</th><th>float64</th><th>float64</th><th>float64</th><th>float64</th><th>float64</th><th>float64</th><th>float64</th><th>float64</th><th>float64</th><th>float64</th><th>float64</th><th>float64</th><th>float64</th><th>float64</th><th>float64</th><th>float64</th><th>bool</th><th>bool</th><th>bool</th><th>bool</th><th>int32</th><th>int32</th><th>float64</th><th>float64</th><th>bool</th><th>bool</th><th>bool</th><th>bool</th><th>float64</th><th>float64</th><th>float64</th><th>float64</th><th>bool</th><th>bool</th><th>float64</th><th>float64</th><th>float64</th><th>float64</th><th>float64</th><th>float64</th><th>bool</th><th>bool</th><th>bool</th><th>bool</th><th>bool</th><th>bool</th><th>bool</th><th>bool</th><th>bool</th><th>bool</th><th>bool</th><th>bool</th><th>bool</th><th>bool</th><th>bool</th><th>bool</th><th>float64</th><th>float64</th><th>float64</th><th>float64</th><th>float64</th><th>float64</th><th>float64</th><th>float64</th><th>float64</th><th>float64</th><th>float64</th><th>float64</th><th>float64</th><th>float64</th><th>float64</th><th>float64</th><th>float64</th><th>float64</th><th>bool</th><th>bool</th><th>bool</th><th>bool</th><th>bool</th><th>bool</th><th>bool</th><th>bool</th><th>bool</th><th>float64</th><th>float64</th><th>float64</th><th>float64</th><th>bool</th><th>bool</th><th>float64</th><th>float64</th><th>float64</th><th>float64</th><th>bool</th><th>bool</th><th>float64</th><th>float64</th><th>bool</th><th>float64</th><th>float64</th><th>bool</th><th>float64</th><th>float64</th><th>bool</th><th>float64</th><th>float64</th><th>bool</th><th>float64</th><th>float64</th><th>bool</th><th>float64</th><th>float64</th><th>bool</th><th>float64</th><th>float64</th><th>bool</th><th>float64</th><th>float64</th><th>bool</th><th>float64</th><th>float64</th><th>bool</th><th>float64</th><th>float64</th><th>bool</th><th>float64</th><th>float64</th><th>bool</th><th>float64</th><th>float64</th><th>bool</th><th>float64</th><th>float64</th><th>bool</th><th>float64</th><th>float64</th><th>float64</th><th>float64</th><th>bool</th><th>bool</th><th>float64</th><th>float64</th><th>float64</th><th>float64</th><th>bool</th><th>bool</th><th>float64</th><th>float64</th><th>float64</th><th>float64</th><th>bool</th><th>bool</th><th>float64</th><th>float64</th><th>float64</th><th>float64</th><th>bool</th><th>bool</th><th>float64</th><th>bool</th><th>int32</th></tr></thead>\n",
       "<tr><td>149957529009389569</td><td>0.627996271033287</td><td>-0.08931823558436472</td><td>0</td><td>True</td><td>False</td><td>False</td><td>False</td><td>False</td><td>False</td><td>False</td><td>False</td><td>False</td><td>False</td><td>False</td><td>True</td><td>False</td><td>False</td><td>False</td><td>False</td><td>False</td><td>False</td><td>False</td><td>False</td><td>False</td><td>False</td><td>0</td><td>False</td><td>nan</td><td>nan</td><td>nan</td><td>False</td><td>False</td><td>False</td><td>False</td><td>False</td><td>False</td><td>False</td><td>0</td><td>0</td><td>0</td><td>0</td><td>0</td><td>12044.51075662245</td><td>19906.246517969612</td><td>False</td><td>False</td><td>False</td><td>False</td><td>12043.0</td><td>12043.0</td><td>19906.0</td><td>19906.0</td><td>nan</td><td>nan</td><td>nan</td><td>nan</td><td>True</td><td>True</td><td>True</td><td>True</td><td>True</td><td>True</td><td>True</td><td>True</td><td>True</td><td>True</td><td>True</td><td>True</td><td>True</td><td>True</td><td>True</td><td>True</td><td>True</td><td>True</td><td>True</td><td>True</td><td>True</td><td>True</td><td>True</td><td>True</td><td>True</td><td>True</td><td>True</td><td>True</td><td>True</td><td>True</td><td>True</td><td>True</td><td>True</td><td>True</td><td>True</td><td>True</td><td>True</td><td>True</td><td>True</td><td>True</td><td>False</td><td>False</td><td>False</td><td>False</td><td>False</td><td>False</td><td>False</td><td>False</td><td>False</td><td>False</td><td>False</td><td>False</td><td>False</td><td>False</td><td>False</td><td>False</td><td>False</td><td>False</td><td>False</td><td>False</td><td>False</td><td>False</td><td>False</td><td>False</td><td>False</td><td>False</td><td>False</td><td>False</td><td>False</td><td>False</td><td>False</td><td>False</td><td>False</td><td>False</td><td>False</td><td>False</td><td>False</td><td>False</td><td>False</td><td>False</td><td>False</td><td>False</td><td>False</td><td>False</td><td>False</td><td>False</td><td>False</td><td>False</td><td>False</td><td>False</td><td>False</td><td>False</td><td>False</td><td>False</td><td>False</td><td>False</td><td>False</td><td>False</td><td>False</td><td>False</td><td>False</td><td>False</td><td>False</td><td>False</td><td>False</td><td>False</td><td>False</td><td>False</td><td>False</td><td>False</td><td>False</td><td>False</td><td>False</td><td>False</td><td>False</td><td>False</td><td>False</td><td>False</td><td>False</td><td>False</td><td>False</td><td>False</td><td>False</td><td>False</td><td>False</td><td>False</td><td>False</td><td>False</td><td>False</td><td>False</td><td>False</td><td>False</td><td>False</td><td>False</td><td>False</td><td>False</td><td>False</td><td>False</td><td>False</td><td>False</td><td>0.0</td><td>nan</td><td>nan</td><td>nan</td><td>nan</td><td>nan</td><td>nan</td><td>nan</td><td>nan</td><td>nan</td><td>nan</td><td>nan</td><td>nan</td><td>nan</td><td>nan</td><td>nan</td><td>nan</td><td>nan</td><td>nan</td><td>True</td><td>True</td><td>True</td><td>False</td><td>4</td><td>False</td><td>nan</td><td>nan</td><td>nan</td><td>nan</td><td>nan</td><td>nan</td><td>nan</td><td>nan</td><td>nan</td><td>nan</td><td>5.66950591550441</td><td>6.732365852241137</td><td>0.22713861823611403</td><td>nan</td><td>nan</td><td>nan</td><td>True</td><td>True</td><td>False</td><td>False</td><td>False</td><td>False</td><td>-0.00037355261390851385</td><td>-0.00037355261390851385</td><td>-0.003206575855798152</td><td>-0.003206575855798152</td><td>6.19281935375192</td><td>6.19281935375192</td><td>6.038525642492949</td><td>6.038525642492949</td><td>-0.14320067685354868</td><td>-0.14320067685354868</td><td>True</td><td>True</td><td>False</td><td>False</td><td>False</td><td>False</td><td>False</td><td>False</td><td>nan</td><td>nan</td><td>nan</td><td>nan</td><td>True</td><td>False</td><td>False</td><td>False</td><td>True</td><td>nan</td><td>nan</td><td>nan</td><td>nan</td><td>nan</td><td>nan</td><td>nan</td><td>nan</td><td>nan</td><td>nan</td><td>True</td><td>True</td><td>True</td><td>False</td><td>False</td><td>False</td><td>False</td><td>False</td><td>False</td><td>False</td><td>False</td><td>False</td><td>12038.465178715267</td><td>12038.465178715267</td><td>19905.954117726113</td><td>19905.954117726113</td><td>0.5704326749914772</td><td>0.5704326749914772</td><td>1.1113197845524663</td><td>1.1113197845524663</td><td>-0.035805879657841856</td><td>-0.035805879657841856</td><td>True</td><td>True</td><td>False</td><td>False</td><td>False</td><td>False</td><td>False</td><td>False</td><td>-9.824286</td><td>-9.824286</td><td>5.440401865388649</td><td>4.3224751248869895</td><td>-0.5568923632501878</td><td>0.17436415546902564</td><td>-0.15399850319375194</td><td>0.13468900317501312</td><td>0.00633527805387396</td><td>-0.007417903966231865</td><td>0.00533689593987872</td><td>0.005908260119925536</td><td>-0.005319515888846944</td><td>69.4294287860102</td><td>55.16264906309503</td><td>-7.106960043105154</td><td>0.17436415546902564</td><td>-0.15399850319375194</td><td>0.1194301165577014</td><td>0.0032995699061991574</td><td>-0.003301595918207383</td><td>True</td><td>False</td><td>False</td><td>False</td><td>-0.5676440000534058</td><td>2.6732122898101807</td><td>True</td><td>False</td><td>True</td><td>-2.7898104190826416</td><td>4.05454683303833</td><td>True</td><td>False</td><td>True</td><td>-2.655055046081543</td><td>5.436709403991699</td><td>True</td><td>False</td><td>True</td><td>nan</td><td>nan</td><td>True</td><td>True</td><td>True</td><td>nan</td><td>nan</td><td>nan</td><td>nan</td><td>nan</td><td>nan</td><td>True</td><td>True</td><td>True</td><td>True</td><td>True</td><td>True</td><td>True</td><td>True</td><td>True</td><td>nan</td><td>nan</td><td>True</td><td>True</td><td>nan</td><td>nan</td><td>True</td><td>True</td><td>nan</td><td>nan</td><td>True</td><td>True</td><td>nan</td><td>nan</td><td>True</td><td>True</td><td>nan</td><td>nan</td><td>True</td><td>True</td><td>nan</td><td>nan</td><td>nan</td><td>nan</td><td>True</td><td>True</td><td>0.03146054208399966</td><td>0.49642753571794335</td><td>True</td><td>False</td><td>False</td><td>False</td><td>57.543993733715425</td><td>0.0</td><td>False</td><td>-8.144667584005189e-07</td><td>-3.5998220263353685e-10</td><td>-3.5384160854903455e-10</td><td>8.144753562082246e-07</td><td>False</td><td>False</td><td>True</td><td>False</td><td>False</td><td>False</td><td>False</td><td>False</td><td>False</td><td>False</td><td>False</td><td>False</td><td>False</td><td>False</td><td>False</td><td>False</td><td>False</td><td>False</td><td>-4.416119503265445</td><td>-4.416119503265445</td><td>6.676592444788535</td><td>6.676592444788535</td><td>175.50955</td><td>175.50955</td><td>True</td><td>True</td><td>False</td><td>False</td><td>True</td><td>True</td><td>True</td><td>nan</td><td>True</td><td>nan</td><td>nan</td><td>nan</td><td>nan</td><td>nan</td><td>True</td><td>True</td><td>False</td><td>False</td><td>False</td><td>False</td><td>False</td><td>False</td><td>False</td><td>True</td><td>2.4703891</td><td>True</td><td>-0.6426509180031178</td><td>4.351707126131364</td><td>True</td><td>False</td><td>True</td><td>-3.565081081977107</td><td>5.181279742731849</td><td>True</td><td>False</td><td>True</td><td>-3.0364650281149426</td><td>6.217715899189464</td><td>True</td><td>False</td><td>True</td><td>nan</td><td>nan</td><td>False</td><td>True</td><td>-0.8021140940572153</td><td>5.43151113815456</td><td>True</td><td>False</td><td>True</td><td>-3.9409450837140363</td><td>5.727538437398526</td><td>True</td><td>False</td><td>True</td><td>-3.1504466830129325</td><td>6.451114124202163</td><td>True</td><td>False</td><td>True</td><td>nan</td><td>nan</td><td>False</td><td>False</td><td>-0.22478386336374456</td><td>3.652762626145708</td><td>True</td><td>False</td><td>True</td><td>0.5528111027603042</td><td>3.8879416391614834</td><td>True</td><td>False</td><td>True</td><td>3.4047807022834844</td><td>4.3609104086447354</td><td>True</td><td>False</td><td>True</td><td>nan</td><td>nan</td><td>False</td><td>True</td><td>nan</td><td>nan</td><td>nan</td><td>nan</td><td>True</td><td>True</td><td>nan</td><td>nan</td><td>nan</td><td>nan</td><td>nan</td><td>nan</td><td>nan</td><td>nan</td><td>nan</td><td>nan</td><td>nan</td><td>nan</td><td>nan</td><td>nan</td><td>nan</td><td>nan</td><td>nan</td><td>nan</td><td>nan</td><td>nan</td><td>False</td><td>False</td><td>False</td><td>False</td><td>0</td><td>0</td><td>2.1775693027e-314</td><td>2.1775693027e-314</td><td>False</td><td>False</td><td>False</td><td>False</td><td>nan</td><td>nan</td><td>nan</td><td>nan</td><td>True</td><td>True</td><td>nan</td><td>nan</td><td>nan</td><td>nan</td><td>nan</td><td>nan</td><td>nan</td><td>nan</td><td>nan</td><td>nan</td><td>nan</td><td>nan</td><td>nan</td><td>nan</td><td>nan</td><td>nan</td><td>nan</td><td>nan</td><td>nan</td><td>nan</td><td>False</td><td>False</td><td>False</td><td>False</td><td>0</td><td>0</td><td>2.1775693027e-314</td><td>2.1775693027e-314</td><td>False</td><td>False</td><td>False</td><td>False</td><td>nan</td><td>nan</td><td>nan</td><td>nan</td><td>True</td><td>True</td><td>nan</td><td>nan</td><td>nan</td><td>nan</td><td>nan</td><td>nan</td><td>nan</td><td>nan</td><td>nan</td><td>nan</td><td>nan</td><td>nan</td><td>nan</td><td>nan</td><td>nan</td><td>nan</td><td>nan</td><td>nan</td><td>nan</td><td>nan</td><td>False</td><td>False</td><td>False</td><td>False</td><td>0</td><td>0</td><td>2.1775693027e-314</td><td>2.1775693027e-314</td><td>False</td><td>False</td><td>False</td><td>False</td><td>nan</td><td>nan</td><td>nan</td><td>nan</td><td>True</td><td>True</td><td>nan</td><td>nan</td><td>nan</td><td>nan</td><td>nan</td><td>nan</td><td>False</td><td>False</td><td>True</td><td>True</td><td>False</td><td>False</td><td>True</td><td>True</td><td>False</td><td>False</td><td>False</td><td>False</td><td>True</td><td>True</td><td>False</td><td>False</td><td>nan</td><td>nan</td><td>nan</td><td>nan</td><td>nan</td><td>nan</td><td>561.5392601938313</td><td>561.5392601938313</td><td>454.33337595626887</td><td>454.33337595626887</td><td>-53.591609778586495</td><td>-53.591609778586495</td><td>1.0</td><td>1.0</td><td>1.0</td><td>1.0</td><td>0.0</td><td>0.0</td><td>False</td><td>False</td><td>False</td><td>False</td><td>False</td><td>False</td><td>False</td><td>True</td><td>False</td><td>1.3810387727111884</td><td>1.3810387727111884</td><td>0.0</td><td>0.0</td><td>False</td><td>False</td><td>0.9092787897030304</td><td>0.9092787897030304</td><td>0.0</td><td>0.0</td><td>False</td><td>False</td><td>1.4774636956411917</td><td>0.0</td><td>False</td><td>1.2778936724845245</td><td>0.0</td><td>False</td><td>1.143654265321656</td><td>0.0</td><td>False</td><td>1.1217363274584362</td><td>0.0</td><td>False</td><td>1.8440718289395028</td><td>0.0</td><td>False</td><td>1.4126211074263304</td><td>0.0</td><td>False</td><td>1.186584318717803</td><td>0.0</td><td>False</td><td>1.1938831746115441</td><td>0.0</td><td>False</td><td>2.4341888660548325</td><td>0.0</td><td>False</td><td>1.6859065385704526</td><td>0.0</td><td>False</td><td>1.312376144123454</td><td>0.0</td><td>False</td><td>1.352466241684847</td><td>0.0</td><td>False</td><td>1.111502171653046</td><td>0.0</td><td>False</td><td>0.8077367502766205</td><td>0.8077367502766205</td><td>0.0</td><td>0.0</td><td>False</td><td>False</td><td>0.8076984370582697</td><td>0.8076984370582697</td><td>0.0</td><td>0.0</td><td>False</td><td>False</td><td>0.8317308844417012</td><td>0.8317308844417012</td><td>0.0</td><td>0.0</td><td>False</td><td>False</td><td>0.8368844934415895</td><td>0.8368844934415895</td><td>0.0</td><td>0.0</td><td>False</td><td>False</td><td>nan</td><td>True</td><td>67</td></tr>\n",
       "<tr><td>149957529009389570</td><td>0.6247565636943508</td><td>-0.08601729872117317</td><td>0</td><td>True</td><td>True</td><td>True</td><td>True</td><td>True</td><td>False</td><td>True</td><td>True</td><td>True</td><td>True</td><td>False</td><td>False</td><td>False</td><td>False</td><td>False</td><td>False</td><td>False</td><td>True</td><td>True</td><td>True</td><td>True</td><td>False</td><td>0</td><td>False</td><td>nan</td><td>nan</td><td>nan</td><td>False</td><td>True</td><td>False</td><td>True</td><td>False</td><td>False</td><td>False</td><td>14000</td><td>22000</td><td>0</td><td>12603</td><td>0</td><td>16004.020992309448</td><td>23958.989730897796</td><td>False</td><td>False</td><td>False</td><td>False</td><td>16004.198981442642</td><td>16004.198981442642</td><td>23959.97971245612</td><td>23959.97971245612</td><td>0.00031925237</td><td>0.00031925237</td><td>0.0003192759</td><td>0.0003192759</td><td>False</td><td>False</td><td>False</td><td>False</td><td>False</td><td>False</td><td>False</td><td>False</td><td>False</td><td>False</td><td>False</td><td>False</td><td>False</td><td>False</td><td>False</td><td>False</td><td>False</td><td>False</td><td>False</td><td>False</td><td>False</td><td>False</td><td>False</td><td>False</td><td>False</td><td>False</td><td>False</td><td>False</td><td>False</td><td>False</td><td>False</td><td>False</td><td>False</td><td>False</td><td>False</td><td>False</td><td>False</td><td>False</td><td>False</td><td>False</td><td>False</td><td>False</td><td>False</td><td>False</td><td>False</td><td>False</td><td>False</td><td>False</td><td>False</td><td>False</td><td>False</td><td>False</td><td>False</td><td>False</td><td>False</td><td>False</td><td>False</td><td>False</td><td>False</td><td>False</td><td>False</td><td>False</td><td>False</td><td>False</td><td>False</td><td>False</td><td>False</td><td>False</td><td>False</td><td>False</td><td>False</td><td>False</td><td>False</td><td>False</td><td>False</td><td>False</td><td>False</td><td>False</td><td>False</td><td>False</td><td>False</td><td>False</td><td>False</td><td>False</td><td>False</td><td>False</td><td>False</td><td>False</td><td>False</td><td>False</td><td>False</td><td>False</td><td>False</td><td>False</td><td>False</td><td>False</td><td>False</td><td>False</td><td>False</td><td>False</td><td>False</td><td>False</td><td>False</td><td>False</td><td>False</td><td>False</td><td>False</td><td>False</td><td>False</td><td>False</td><td>False</td><td>False</td><td>False</td><td>False</td><td>False</td><td>False</td><td>False</td><td>False</td><td>False</td><td>False</td><td>False</td><td>False</td><td>False</td><td>False</td><td>False</td><td>False</td><td>False</td><td>False</td><td>False</td><td>False</td><td>False</td><td>False</td><td>False</td><td>False</td><td>False</td><td>False</td><td>False</td><td>False</td><td>False</td><td>False</td><td>0.0</td><td>0.0</td><td>89605.39183099032</td><td>89605.39183099032</td><td>0.0</td><td>89605.39183099032</td><td>89605.39183099032</td><td>8.06355439305021</td><td>7.9026265173420525</td><td>-0.24862339002976827</td><td>8.06355439305021</td><td>7.9026265173420525</td><td>-0.24862339002976827</td><td>8.06355439305021</td><td>7.9026265173420525</td><td>-0.24862339002976827</td><td>8.06355439305021</td><td>7.9026265173420525</td><td>-0.24862339002976827</td><td>False</td><td>False</td><td>False</td><td>False</td><td>4</td><td>False</td><td>8.097125390040988</td><td>7.936636909386441</td><td>-0.2505009135312723</td><td>0.0016722601</td><td>0.0011712608</td><td>0.0016391153</td><td>16004.200802489868</td><td>23959.979028958816</td><td>90571.32343039286</td><td>9.352629798848872</td><td>8.428540572048606</td><td>8.707018067722535</td><td>-0.45530437797901807</td><td>-0.007820015</td><td>0.00024192799</td><td>-0.0076650195</td><td>False</td><td>False</td><td>False</td><td>False</td><td>False</td><td>False</td><td>0.0014035839915278604</td><td>0.0014035839915278604</td><td>-0.006671245788504052</td><td>-0.006671245788504052</td><td>8.435344458919218</td><td>8.435344458919218</td><td>8.713049396384582</td><td>8.713049396384582</td><td>-0.4560250286388157</td><td>-0.4560250286388157</td><td>False</td><td>False</td><td>False</td><td>False</td><td>False</td><td>False</td><td>False</td><td>False</td><td>nan</td><td>nan</td><td>nan</td><td>nan</td><td>True</td><td>False</td><td>False</td><td>False</td><td>True</td><td>16004.202346082455</td><td>16004.202346082455</td><td>23959.978358595683</td><td>23959.978358595683</td><td>8.105170817958337</td><td>8.105170817958337</td><td>7.944393407335616</td><td>7.944393407335616</td><td>-0.2505000978818516</td><td>-0.2505000978818516</td><td>False</td><td>False</td><td>False</td><td>False</td><td>False</td><td>False</td><td>False</td><td>False</td><td>False</td><td>False</td><td>False</td><td>False</td><td>16004.202900276909</td><td>16004.202900276909</td><td>23959.979535459002</td><td>23959.979535459002</td><td>8.066562573484296</td><td>8.066562573484296</td><td>7.982301018680609</td><td>7.982301018680609</td><td>-0.12982598936244605</td><td>-0.12982598936244605</td><td>False</td><td>False</td><td>False</td><td>False</td><td>False</td><td>False</td><td>False</td><td>False</td><td>90622.52</td><td>90622.52</td><td>8.080792475756056</td><td>8.016594778120819</td><td>-0.11455253106613132</td><td>-8.432598420711285e-05</td><td>0.008768005201568934</td><td>0.20773940391606638</td><td>-0.0007208512547713339</td><td>3.8975749282636545e-05</td><td>0.0015903913653717214</td><td>-0.0042330107975343916</td><td>-0.001596757848302073</td><td>153.60318074093726</td><td>152.3828832784542</td><td>-2.177463805248467</td><td>-8.432598420711285e-05</td><td>0.008768005201568934</td><td>0.07432593675535705</td><td>-0.00044667445606705775</td><td>0.000188443166962457</td><td>False</td><td>False</td><td>False</td><td>False</td><td>39982.875</td><td>3.4907617568969727</td><td>False</td><td>False</td><td>False</td><td>67150.0</td><td>5.006193161010742</td><td>False</td><td>False</td><td>False</td><td>79734.375</td><td>6.226114749908447</td><td>False</td><td>False</td><td>False</td><td>89521.4296875</td><td>8.451546669006348</td><td>False</td><td>False</td><td>False</td><td>97252.5</td><td>97252.5</td><td>97252.5</td><td>10.728650093078613</td><td>10.728650093078613</td><td>10.728650093078613</td><td>False</td><td>False</td><td>False</td><td>False</td><td>False</td><td>False</td><td>False</td><td>False</td><td>False</td><td>107221.9708738327</td><td>14.684622719147267</td><td>False</td><td>False</td><td>119550.10181236267</td><td>21.138315895859467</td><td>False</td><td>False</td><td>125358.34306752682</td><td>29.2544748549253</td><td>False</td><td>False</td><td>128918.56602443382</td><td>41.514167179840165</td><td>False</td><td>False</td><td>132314.608336322</td><td>57.94697037447112</td><td>False</td><td>False</td><td>125376.97832800673</td><td>125376.97832800673</td><td>9.208539155757975</td><td>9.208539155757975</td><td>False</td><td>False</td><td>5.067710931195345</td><td>4.311947050245289</td><td>False</td><td>False</td><td>False</td><td>False</td><td>57.543993733715425</td><td>0.0</td><td>False</td><td>-8.144752267797958e-07</td><td>-1.2053129052965334e-10</td><td>-1.1410778099513703e-10</td><td>8.144667007775688e-07</td><td>False</td><td>False</td><td>True</td><td>True</td><td>True</td><td>True</td><td>False</td><td>False</td><td>True</td><td>False</td><td>True</td><td>False</td><td>False</td><td>False</td><td>False</td><td>True</td><td>True</td><td>True</td><td>122511.7256136113</td><td>122511.7256136113</td><td>8.726765086136393</td><td>8.726765086136393</td><td>172.16742</td><td>172.16742</td><td>False</td><td>False</td><td>False</td><td>False</td><td>False</td><td>False</td><td>True</td><td>nan</td><td>True</td><td>111045.31943470209</td><td>12.671822992463996</td><td>5.0367274</td><td>16.99226</td><td>3.6657114</td><td>False</td><td>False</td><td>False</td><td>False</td><td>False</td><td>False</td><td>False</td><td>False</td><td>False</td><td>False</td><td>2.9248147</td><td>True</td><td>69504.2654398368</td><td>5.727153915565347</td><td>False</td><td>False</td><td>False</td><td>86487.2065647457</td><td>6.447828176014197</td><td>False</td><td>False</td><td>False</td><td>92991.44964030031</td><td>7.261302747037803</td><td>False</td><td>False</td><td>False</td><td>111017.80855071695</td><td>12.668683616090451</td><td>False</td><td>True</td><td>85533.2281744664</td><td>7.0479410083740275</td><td>False</td><td>False</td><td>False</td><td>94807.0985695273</td><td>7.068096030886655</td><td>False</td><td>False</td><td>False</td><td>95872.06210073135</td><td>7.486237396975923</td><td>False</td><td>False</td><td>False</td><td>115812.65516339788</td><td>13.21584263063709</td><td>False</td><td>True</td><td>113284.2919299563</td><td>9.33462963737525</td><td>False</td><td>False</td><td>False</td><td>113168.01363126065</td><td>8.436946178495718</td><td>False</td><td>False</td><td>False</td><td>103786.17898623782</td><td>8.104216780063222</td><td>False</td><td>False</td><td>False</td><td>127313.72941813087</td><td>14.528275949943811</td><td>False</td><td>False</td><td>nan</td><td>nan</td><td>nan</td><td>nan</td><td>True</td><td>True</td><td>nan</td><td>nan</td><td>nan</td><td>nan</td><td>nan</td><td>nan</td><td>nan</td><td>nan</td><td>nan</td><td>nan</td><td>nan</td><td>nan</td><td>nan</td><td>nan</td><td>nan</td><td>nan</td><td>nan</td><td>nan</td><td>nan</td><td>nan</td><td>False</td><td>False</td><td>False</td><td>False</td><td>0</td><td>0</td><td>2.1775693027e-314</td><td>2.1775693027e-314</td><td>False</td><td>False</td><td>False</td><td>False</td><td>nan</td><td>nan</td><td>nan</td><td>nan</td><td>True</td><td>True</td><td>nan</td><td>nan</td><td>nan</td><td>nan</td><td>nan</td><td>nan</td><td>nan</td><td>nan</td><td>nan</td><td>nan</td><td>nan</td><td>nan</td><td>nan</td><td>nan</td><td>nan</td><td>nan</td><td>nan</td><td>nan</td><td>nan</td><td>nan</td><td>False</td><td>False</td><td>False</td><td>False</td><td>0</td><td>0</td><td>2.1775693027e-314</td><td>2.1775693027e-314</td><td>False</td><td>False</td><td>False</td><td>False</td><td>nan</td><td>nan</td><td>nan</td><td>nan</td><td>True</td><td>True</td><td>nan</td><td>nan</td><td>nan</td><td>nan</td><td>nan</td><td>nan</td><td>nan</td><td>nan</td><td>nan</td><td>nan</td><td>nan</td><td>nan</td><td>nan</td><td>nan</td><td>nan</td><td>nan</td><td>nan</td><td>nan</td><td>nan</td><td>nan</td><td>False</td><td>False</td><td>False</td><td>False</td><td>0</td><td>0</td><td>2.1775693027e-314</td><td>2.1775693027e-314</td><td>False</td><td>False</td><td>False</td><td>False</td><td>nan</td><td>nan</td><td>nan</td><td>nan</td><td>True</td><td>True</td><td>nan</td><td>nan</td><td>nan</td><td>nan</td><td>nan</td><td>nan</td><td>True</td><td>True</td><td>True</td><td>True</td><td>True</td><td>True</td><td>False</td><td>False</td><td>False</td><td>False</td><td>False</td><td>False</td><td>False</td><td>False</td><td>False</td><td>False</td><td>nan</td><td>nan</td><td>nan</td><td>nan</td><td>nan</td><td>nan</td><td>3842109.5732267955</td><td>3842109.5732267955</td><td>3832738.677407811</td><td>3832738.677407811</td><td>-74619.91187429664</td><td>-74619.91187429664</td><td>1.0</td><td>1.0</td><td>1.0</td><td>1.0</td><td>0.0</td><td>0.0</td><td>False</td><td>False</td><td>False</td><td>False</td><td>False</td><td>False</td><td>False</td><td>True</td><td>False</td><td>1.3836079496435096</td><td>1.3836079496435096</td><td>0.0</td><td>0.0</td><td>False</td><td>False</td><td>1.0261225137240546</td><td>1.0261225137240546</td><td>0.0</td><td>0.0</td><td>False</td><td>False</td><td>1.4903001962011755</td><td>0.0</td><td>False</td><td>1.2879703136968832</td><td>0.0</td><td>False</td><td>1.1662654863764883</td><td>0.0</td><td>False</td><td>1.1247197634698378</td><td>0.0</td><td>False</td><td>1.8339908482374503</td><td>0.0</td><td>False</td><td>1.41187041801232</td><td>0.0</td><td>False</td><td>1.2023930970893213</td><td>0.0</td><td>False</td><td>1.1732962830254818</td><td>0.0</td><td>False</td><td>2.4290250594168645</td><td>0.0</td><td>False</td><td>1.6853017666606203</td><td>0.0</td><td>False</td><td>1.3016491191689634</td><td>0.0</td><td>False</td><td>1.2898134948521136</td><td>0.0</td><td>False</td><td>1.1249984758253828</td><td>0.0</td><td>False</td><td>0.9441192072668055</td><td>0.9441192072668055</td><td>0.0</td><td>0.0</td><td>False</td><td>False</td><td>0.9455180159121714</td><td>0.9455180159121714</td><td>0.0</td><td>0.0</td><td>False</td><td>False</td><td>0.9580552233159559</td><td>0.9580552233159559</td><td>0.0</td><td>0.0</td><td>False</td><td>False</td><td>0.9624711084699734</td><td>0.9624711084699734</td><td>0.0</td><td>0.0</td><td>False</td><td>False</td><td>nan</td><td>True</td><td>12053335</td></tr>\n",
       "<tr><td>149957529009389573</td><td>0.6277247848344782</td><td>-0.08931672083303246</td><td>0</td><td>True</td><td>True</td><td>True</td><td>True</td><td>False</td><td>False</td><td>True</td><td>True</td><td>True</td><td>True</td><td>False</td><td>False</td><td>False</td><td>False</td><td>False</td><td>False</td><td>False</td><td>False</td><td>False</td><td>False</td><td>True</td><td>False</td><td>2</td><td>False</td><td>nan</td><td>nan</td><td>nan</td><td>True</td><td>False</td><td>False</td><td>False</td><td>False</td><td>False</td><td>False</td><td>0</td><td>0</td><td>0</td><td>0</td><td>0</td><td>12375.185530246963</td><td>19908.303382210936</td><td>False</td><td>False</td><td>False</td><td>False</td><td>12375.0</td><td>12375.0</td><td>19908.0</td><td>19908.0</td><td>nan</td><td>nan</td><td>nan</td><td>nan</td><td>True</td><td>True</td><td>True</td><td>True</td><td>True</td><td>True</td><td>True</td><td>True</td><td>True</td><td>True</td><td>True</td><td>True</td><td>True</td><td>True</td><td>True</td><td>True</td><td>True</td><td>True</td><td>True</td><td>True</td><td>True</td><td>True</td><td>True</td><td>True</td><td>True</td><td>True</td><td>True</td><td>True</td><td>True</td><td>True</td><td>True</td><td>True</td><td>True</td><td>True</td><td>True</td><td>True</td><td>True</td><td>True</td><td>True</td><td>True</td><td>False</td><td>False</td><td>False</td><td>False</td><td>False</td><td>False</td><td>False</td><td>False</td><td>False</td><td>False</td><td>False</td><td>False</td><td>False</td><td>False</td><td>False</td><td>False</td><td>False</td><td>False</td><td>False</td><td>False</td><td>False</td><td>False</td><td>False</td><td>False</td><td>False</td><td>False</td><td>False</td><td>False</td><td>False</td><td>False</td><td>False</td><td>False</td><td>False</td><td>False</td><td>False</td><td>False</td><td>False</td><td>False</td><td>False</td><td>False</td><td>False</td><td>False</td><td>False</td><td>False</td><td>False</td><td>False</td><td>False</td><td>False</td><td>False</td><td>False</td><td>False</td><td>False</td><td>False</td><td>False</td><td>False</td><td>False</td><td>False</td><td>False</td><td>False</td><td>False</td><td>False</td><td>False</td><td>False</td><td>False</td><td>False</td><td>False</td><td>False</td><td>False</td><td>False</td><td>False</td><td>False</td><td>False</td><td>False</td><td>False</td><td>False</td><td>False</td><td>False</td><td>False</td><td>False</td><td>False</td><td>False</td><td>False</td><td>False</td><td>False</td><td>False</td><td>False</td><td>False</td><td>False</td><td>False</td><td>False</td><td>False</td><td>False</td><td>False</td><td>False</td><td>False</td><td>False</td><td>False</td><td>False</td><td>False</td><td>False</td><td>0.0</td><td>0.0</td><td>14.870063410410333</td><td>14.870063410410333</td><td>0.0</td><td>13.966588045775607</td><td>13.966588045775607</td><td>5.071802794858567</td><td>2.5577426607039073</td><td>1.6852167264855529</td><td>5.071802794858567</td><td>2.5577426607039073</td><td>1.6852167264855529</td><td>6.24101352164925</td><td>2.49384474209041</td><td>1.5459456005423584</td><td>6.24101352164925</td><td>2.49384474209041</td><td>1.5459456005423584</td><td>True</td><td>True</td><td>True</td><td>False</td><td>4</td><td>False</td><td>2.594473423349324</td><td>10.237267895899645</td><td>4.594958220646464</td><td>nan</td><td>nan</td><td>nan</td><td>12375.17811324884</td><td>19908.23455381176</td><td>nan</td><td>nan</td><td>5.844252195753313</td><td>5.914777983288582</td><td>-0.168113603988289</td><td>nan</td><td>nan</td><td>nan</td><td>True</td><td>False</td><td>True</td><td>False</td><td>False</td><td>False</td><td>-0.0036930394939393603</td><td>-0.0036930394939393603</td><td>0.00010021220903269362</td><td>0.00010021220903269362</td><td>5.855699586203732</td><td>5.855699586203732</td><td>5.924341842535135</td><td>5.924341842535135</td><td>-0.16949268026084718</td><td>-0.16949268026084718</td><td>True</td><td>True</td><td>False</td><td>False</td><td>False</td><td>False</td><td>False</td><td>False</td><td>nan</td><td>nan</td><td>nan</td><td>nan</td><td>True</td><td>False</td><td>False</td><td>True</td><td>False</td><td>12361.73301333913</td><td>12361.73301333913</td><td>19902.06509124304</td><td>19902.06509124304</td><td>3.432239440930669</td><td>3.432239440930669</td><td>1.6656044811138782</td><td>1.6656044811138782</td><td>-0.10394936849731554</td><td>-0.10394936849731554</td><td>True</td><td>True</td><td>True</td><td>False</td><td>False</td><td>False</td><td>False</td><td>False</td><td>False</td><td>False</td><td>False</td><td>False</td><td>12361.73077243325</td><td>12361.73077243325</td><td>19902.163761949334</td><td>19902.163761949334</td><td>2.9246155737877007</td><td>2.9246155737877007</td><td>2.07994961512304</td><td>2.07994961512304</td><td>-0.064315097288105</td><td>-0.064315097288105</td><td>True</td><td>True</td><td>False</td><td>False</td><td>False</td><td>False</td><td>False</td><td>False</td><td>230.03986</td><td>230.03986</td><td>5.3547046139345875</td><td>4.322394538443081</td><td>-0.6145249984329157</td><td>0.20911969819187298</td><td>-0.1028358198169182</td><td>0.1400351850520729</td><td>0.004366969649412782</td><td>-0.009656370655816277</td><td>0.005751195197457034</td><td>0.006817833819511084</td><td>-0.005738932365846494</td><td>70.71087880341202</td><td>57.07883784158862</td><td>-8.11503263369136</td><td>0.20911969819187298</td><td>-0.1028358198169182</td><td>0.11429616165869334</td><td>0.0027743650500319707</td><td>-0.0028733635820020597</td><td>True</td><td>False</td><td>False</td><td>False</td><td>14.903284072875977</td><td>2.6842877864837646</td><td>True</td><td>False</td><td>False</td><td>26.770952224731445</td><td>4.049103736877441</td><td>True</td><td>False</td><td>True</td><td>35.10496520996094</td><td>5.425179958343506</td><td>True</td><td>False</td><td>True</td><td>nan</td><td>nan</td><td>True</td><td>True</td><td>True</td><td>nan</td><td>nan</td><td>nan</td><td>nan</td><td>nan</td><td>nan</td><td>True</td><td>True</td><td>True</td><td>True</td><td>True</td><td>True</td><td>True</td><td>True</td><td>True</td><td>nan</td><td>nan</td><td>True</td><td>True</td><td>nan</td><td>nan</td><td>True</td><td>True</td><td>nan</td><td>nan</td><td>True</td><td>True</td><td>nan</td><td>nan</td><td>True</td><td>True</td><td>nan</td><td>nan</td><td>True</td><td>True</td><td>20.620232638574848</td><td>20.620232638574848</td><td>3.9726092920677267</td><td>3.9726092920677267</td><td>False</td><td>False</td><td>0.01787966562947671</td><td>0.4604978280431174</td><td>True</td><td>False</td><td>False</td><td>False</td><td>57.543993733715425</td><td>0.0</td><td>False</td><td>-8.14468841136519e-07</td><td>-3.3991685588055227e-10</td><td>-3.3411288483207063e-10</td><td>8.144763991329757e-07</td><td>False</td><td>False</td><td>True</td><td>False</td><td>False</td><td>False</td><td>False</td><td>False</td><td>False</td><td>False</td><td>False</td><td>False</td><td>False</td><td>False</td><td>False</td><td>False</td><td>False</td><td>False</td><td>51.18183368171706</td><td>51.18183368171706</td><td>6.4474444558178465</td><td>6.4474444558178465</td><td>171.09058</td><td>171.09058</td><td>True</td><td>True</td><td>False</td><td>False</td><td>True</td><td>True</td><td>False</td><td>0.2569834291934967</td><td>False</td><td>nan</td><td>nan</td><td>nan</td><td>nan</td><td>nan</td><td>True</td><td>True</td><td>False</td><td>False</td><td>False</td><td>False</td><td>False</td><td>False</td><td>False</td><td>True</td><td>2.4243004</td><td>True</td><td>25.473903039361854</td><td>4.306018264860116</td><td>True</td><td>False</td><td>False</td><td>33.81050907206089</td><td>5.113835977150556</td><td>True</td><td>False</td><td>True</td><td>39.965454688476086</td><td>6.176328120686584</td><td>True</td><td>False</td><td>True</td><td>nan</td><td>nan</td><td>False</td><td>True</td><td>31.855000923882262</td><td>5.384656430285647</td><td>True</td><td>False</td><td>False</td><td>37.3835334167334</td><td>5.654255537296129</td><td>True</td><td>False</td><td>True</td><td>41.4405941340638</td><td>6.40429863448996</td><td>True</td><td>False</td><td>True</td><td>nan</td><td>nan</td><td>False</td><td>False</td><td>36.68475659844303</td><td>1.5211602998605935</td><td>True</td><td>False</td><td>False</td><td>40.90678330571175</td><td>2.033302596040106</td><td>True</td><td>False</td><td>True</td><td>44.580623366552544</td><td>3.0246029784725055</td><td>True</td><td>False</td><td>True</td><td>nan</td><td>nan</td><td>False</td><td>True</td><td>nan</td><td>nan</td><td>nan</td><td>nan</td><td>True</td><td>True</td><td>nan</td><td>nan</td><td>nan</td><td>nan</td><td>nan</td><td>nan</td><td>nan</td><td>nan</td><td>nan</td><td>nan</td><td>nan</td><td>nan</td><td>nan</td><td>nan</td><td>nan</td><td>nan</td><td>nan</td><td>nan</td><td>nan</td><td>nan</td><td>False</td><td>False</td><td>False</td><td>False</td><td>0</td><td>0</td><td>2.1775693027e-314</td><td>2.1775693027e-314</td><td>False</td><td>False</td><td>False</td><td>False</td><td>nan</td><td>nan</td><td>nan</td><td>nan</td><td>True</td><td>True</td><td>nan</td><td>nan</td><td>nan</td><td>nan</td><td>nan</td><td>nan</td><td>nan</td><td>nan</td><td>nan</td><td>nan</td><td>nan</td><td>nan</td><td>nan</td><td>nan</td><td>nan</td><td>nan</td><td>nan</td><td>nan</td><td>nan</td><td>nan</td><td>False</td><td>False</td><td>False</td><td>False</td><td>0</td><td>0</td><td>2.1775693027e-314</td><td>2.1775693027e-314</td><td>False</td><td>False</td><td>False</td><td>False</td><td>nan</td><td>nan</td><td>nan</td><td>nan</td><td>True</td><td>True</td><td>nan</td><td>nan</td><td>nan</td><td>nan</td><td>nan</td><td>nan</td><td>nan</td><td>nan</td><td>nan</td><td>nan</td><td>nan</td><td>nan</td><td>nan</td><td>nan</td><td>nan</td><td>nan</td><td>nan</td><td>nan</td><td>nan</td><td>nan</td><td>False</td><td>False</td><td>False</td><td>False</td><td>0</td><td>0</td><td>2.1775693027e-314</td><td>2.1775693027e-314</td><td>False</td><td>False</td><td>False</td><td>False</td><td>nan</td><td>nan</td><td>nan</td><td>nan</td><td>True</td><td>True</td><td>nan</td><td>nan</td><td>nan</td><td>nan</td><td>nan</td><td>nan</td><td>False</td><td>False</td><td>True</td><td>True</td><td>False</td><td>False</td><td>True</td><td>True</td><td>False</td><td>False</td><td>False</td><td>False</td><td>True</td><td>True</td><td>False</td><td>False</td><td>nan</td><td>nan</td><td>nan</td><td>nan</td><td>nan</td><td>nan</td><td>548.4506753122497</td><td>548.4506753122497</td><td>451.83651787097034</td><td>451.83651787097034</td><td>-58.81650107839988</td><td>-58.81650107839988</td><td>1.0</td><td>1.0</td><td>1.0</td><td>1.0</td><td>0.0</td><td>0.0</td><td>False</td><td>False</td><td>False</td><td>False</td><td>False</td><td>False</td><td>False</td><td>True</td><td>False</td><td>1.368425923091128</td><td>1.368425923091128</td><td>0.0</td><td>0.0</td><td>False</td><td>False</td><td>0.905851937804597</td><td>0.905851937804597</td><td>0.0</td><td>0.0</td><td>False</td><td>False</td><td>1.457390615098686</td><td>0.0</td><td>False</td><td>1.2629550412788897</td><td>0.0</td><td>False</td><td>1.138455897889225</td><td>0.0</td><td>False</td><td>1.1281507441841647</td><td>0.0</td><td>False</td><td>1.8224603948083873</td><td>0.0</td><td>False</td><td>1.3964215057766185</td><td>0.0</td><td>False</td><td>1.1804767184986455</td><td>0.0</td><td>False</td><td>1.2098622890059083</td><td>0.0</td><td>False</td><td>2.405037571016584</td><td>0.0</td><td>False</td><td>1.6678514852442101</td><td>0.0</td><td>False</td><td>1.3005571939585938</td><td>0.0</td><td>False</td><td>1.3917083238306</td><td>0.0</td><td>False</td><td>1.1162641841336391</td><td>0.0</td><td>False</td><td>0.8032926199093965</td><td>0.8032926199093965</td><td>0.0</td><td>0.0</td><td>False</td><td>False</td><td>0.8028616344924481</td><td>0.8028616344924481</td><td>0.0</td><td>0.0</td><td>False</td><td>False</td><td>0.8261431795826946</td><td>0.8261431795826946</td><td>0.0</td><td>0.0</td><td>False</td><td>False</td><td>0.8308113572446383</td><td>0.8308113572446383</td><td>0.0</td><td>0.0</td><td>False</td><td>False</td><td>nan</td><td>True</td><td>572</td></tr>\n",
       "<tr><td>149957529009389578</td><td>0.6272856622932783</td><td>-0.08931281929656715</td><td>0</td><td>True</td><td>True</td><td>True</td><td>False</td><td>True</td><td>False</td><td>True</td><td>True</td><td>False</td><td>True</td><td>False</td><td>False</td><td>False</td><td>False</td><td>False</td><td>False</td><td>False</td><td>False</td><td>False</td><td>False</td><td>True</td><td>False</td><td>17</td><td>False</td><td>nan</td><td>nan</td><td>nan</td><td>True</td><td>False</td><td>False</td><td>False</td><td>False</td><td>False</td><td>False</td><td>0</td><td>0</td><td>0</td><td>0</td><td>0</td><td>12911.999735740093</td><td>19912.96735883045</td><td>False</td><td>False</td><td>False</td><td>False</td><td>12912.0</td><td>12912.0</td><td>19913.0</td><td>19913.0</td><td>nan</td><td>nan</td><td>nan</td><td>nan</td><td>True</td><td>True</td><td>True</td><td>True</td><td>True</td><td>True</td><td>True</td><td>True</td><td>True</td><td>True</td><td>True</td><td>True</td><td>True</td><td>True</td><td>True</td><td>True</td><td>True</td><td>True</td><td>True</td><td>True</td><td>True</td><td>True</td><td>True</td><td>True</td><td>True</td><td>True</td><td>True</td><td>True</td><td>True</td><td>True</td><td>True</td><td>True</td><td>True</td><td>True</td><td>True</td><td>True</td><td>True</td><td>True</td><td>True</td><td>True</td><td>False</td><td>False</td><td>False</td><td>False</td><td>False</td><td>False</td><td>False</td><td>False</td><td>False</td><td>False</td><td>False</td><td>False</td><td>False</td><td>False</td><td>False</td><td>False</td><td>False</td><td>False</td><td>False</td><td>False</td><td>False</td><td>False</td><td>False</td><td>False</td><td>False</td><td>False</td><td>False</td><td>False</td><td>False</td><td>False</td><td>False</td><td>False</td><td>False</td><td>False</td><td>False</td><td>False</td><td>False</td><td>False</td><td>False</td><td>False</td><td>False</td><td>False</td><td>False</td><td>False</td><td>False</td><td>False</td><td>False</td><td>False</td><td>False</td><td>False</td><td>False</td><td>False</td><td>False</td><td>False</td><td>False</td><td>False</td><td>False</td><td>False</td><td>False</td><td>False</td><td>False</td><td>False</td><td>False</td><td>False</td><td>False</td><td>False</td><td>False</td><td>False</td><td>False</td><td>False</td><td>False</td><td>False</td><td>False</td><td>False</td><td>False</td><td>False</td><td>False</td><td>False</td><td>False</td><td>False</td><td>False</td><td>False</td><td>False</td><td>False</td><td>False</td><td>False</td><td>False</td><td>False</td><td>False</td><td>False</td><td>False</td><td>False</td><td>False</td><td>False</td><td>False</td><td>False</td><td>False</td><td>False</td><td>False</td><td>False</td><td>0.0</td><td>nan</td><td>nan</td><td>nan</td><td>nan</td><td>nan</td><td>nan</td><td>nan</td><td>nan</td><td>nan</td><td>nan</td><td>nan</td><td>nan</td><td>nan</td><td>nan</td><td>nan</td><td>nan</td><td>nan</td><td>nan</td><td>True</td><td>True</td><td>True</td><td>False</td><td>6</td><td>False</td><td>3.064397809138294</td><td>5.828953178061641</td><td>1.2044815841432208</td><td>0.8617254</td><td>0.87384355</td><td>1.6391335</td><td>12911.950360065732</td><td>19913.156768131714</td><td>29.761760041556045</td><td>4.18458456336854</td><td>5.497111742132245</td><td>5.882909232324508</td><td>-0.3166239215120987</td><td>-1.8029814</td><td>-0.7086735</td><td>-3.429546</td><td>False</td><td>False</td><td>False</td><td>False</td><td>False</td><td>False</td><td>-0.007647340422900909</td><td>-0.007647340422900909</td><td>0.005639509046702237</td><td>0.005639509046702237</td><td>5.504677530860535</td><td>5.504677530860535</td><td>5.890901264289488</td><td>5.890901264289488</td><td>-0.31834379453250145</td><td>-0.31834379453250145</td><td>True</td><td>True</td><td>False</td><td>False</td><td>False</td><td>False</td><td>False</td><td>False</td><td>nan</td><td>nan</td><td>nan</td><td>nan</td><td>True</td><td>False</td><td>False</td><td>True</td><td>False</td><td>nan</td><td>nan</td><td>nan</td><td>nan</td><td>nan</td><td>nan</td><td>nan</td><td>nan</td><td>nan</td><td>nan</td><td>True</td><td>True</td><td>True</td><td>False</td><td>False</td><td>False</td><td>False</td><td>False</td><td>False</td><td>False</td><td>False</td><td>False</td><td>nan</td><td>nan</td><td>nan</td><td>nan</td><td>nan</td><td>nan</td><td>nan</td><td>nan</td><td>nan</td><td>nan</td><td>True</td><td>True</td><td>False</td><td>False</td><td>False</td><td>False</td><td>False</td><td>False</td><td>nan</td><td>nan</td><td>4.859105140825289</td><td>4.74596553999519</td><td>-0.5026327896112173</td><td>0.1355956031152308</td><td>-0.0013275342706377206</td><td>0.1599189706892719</td><td>0.00021203512817000836</td><td>-0.007514616477781815</td><td>0.0025723670117362343</td><td>0.004160660099638187</td><td>-0.0025723499649691344</td><td>54.971169993772605</td><td>53.69121904601381</td><td>-5.68629649315832</td><td>0.1355956031152308</td><td>-0.0013275342706377206</td><td>0.09777902076677908</td><td>0.0005095153368876073</td><td>-0.0021685625323893927</td><td>True</td><td>False</td><td>False</td><td>False</td><td>19.12689208984375</td><td>2.1287920475006104</td><td>True</td><td>False</td><td>False</td><td>27.38068962097168</td><td>3.232445001602173</td><td>True</td><td>False</td><td>True</td><td>33.727378845214844</td><td>4.3664469718933105</td><td>True</td><td>False</td><td>True</td><td>42.77446746826172</td><td>6.6412835121154785</td><td>True</td><td>False</td><td>True</td><td>55.63104248046875</td><td>55.63104248046875</td><td>55.63104248046875</td><td>8.91775894165039</td><td>8.91775894165039</td><td>8.91775894165039</td><td>True</td><td>True</td><td>True</td><td>False</td><td>False</td><td>False</td><td>True</td><td>True</td><td>True</td><td>nan</td><td>nan</td><td>True</td><td>True</td><td>nan</td><td>nan</td><td>True</td><td>True</td><td>nan</td><td>nan</td><td>True</td><td>True</td><td>nan</td><td>nan</td><td>True</td><td>True</td><td>nan</td><td>nan</td><td>True</td><td>True</td><td>nan</td><td>nan</td><td>nan</td><td>nan</td><td>True</td><td>True</td><td>0.03523924121231122</td><td>0.44127140837411477</td><td>True</td><td>False</td><td>False</td><td>False</td><td>57.543993733715425</td><td>0.0</td><td>False</td><td>-8.144719567172292e-07</td><td>-3.074614190296451e-10</td><td>-3.0219844865970206e-10</td><td>8.144779555641081e-07</td><td>False</td><td>False</td><td>True</td><td>False</td><td>False</td><td>False</td><td>False</td><td>False</td><td>False</td><td>False</td><td>False</td><td>False</td><td>False</td><td>False</td><td>False</td><td>False</td><td>True</td><td>True</td><td>50.727789770441376</td><td>50.727789770441376</td><td>4.916188702978642</td><td>4.916188702978642</td><td>145.1665</td><td>145.1665</td><td>True</td><td>True</td><td>False</td><td>False</td><td>True</td><td>True</td><td>True</td><td>nan</td><td>True</td><td>nan</td><td>nan</td><td>nan</td><td>nan</td><td>nan</td><td>True</td><td>True</td><td>False</td><td>False</td><td>False</td><td>False</td><td>False</td><td>False</td><td>False</td><td>True</td><td>2.382847</td><td>True</td><td>30.584002987791695</td><td>3.382410594943408</td><td>True</td><td>False</td><td>False</td><td>33.91131238152611</td><td>4.003421890494514</td><td>True</td><td>False</td><td>True</td><td>38.00603375728474</td><td>4.920374387075017</td><td>True</td><td>False</td><td>True</td><td>nan</td><td>nan</td><td>False</td><td>True</td><td>38.12657123870734</td><td>4.216574218821046</td><td>True</td><td>False</td><td>False</td><td>37.44842899429658</td><td>4.420998477253549</td><td>True</td><td>False</td><td>True</td><td>39.3451210206563</td><td>5.093736614631554</td><td>True</td><td>False</td><td>True</td><td>nan</td><td>nan</td><td>False</td><td>False</td><td>41.73981630574017</td><td>1.124855434230565</td><td>True</td><td>False</td><td>False</td><td>41.47683808774086</td><td>1.0767498846325774</td><td>True</td><td>False</td><td>True</td><td>41.73060975444314</td><td>1.128421454116048</td><td>True</td><td>False</td><td>True</td><td>nan</td><td>nan</td><td>False</td><td>True</td><td>nan</td><td>nan</td><td>nan</td><td>nan</td><td>True</td><td>True</td><td>nan</td><td>nan</td><td>nan</td><td>nan</td><td>nan</td><td>nan</td><td>nan</td><td>nan</td><td>nan</td><td>nan</td><td>nan</td><td>nan</td><td>nan</td><td>nan</td><td>nan</td><td>nan</td><td>nan</td><td>nan</td><td>nan</td><td>nan</td><td>False</td><td>False</td><td>False</td><td>False</td><td>0</td><td>0</td><td>2.1775693027e-314</td><td>2.1775693027e-314</td><td>False</td><td>False</td><td>False</td><td>False</td><td>nan</td><td>nan</td><td>nan</td><td>nan</td><td>True</td><td>True</td><td>nan</td><td>nan</td><td>nan</td><td>nan</td><td>nan</td><td>nan</td><td>nan</td><td>nan</td><td>nan</td><td>nan</td><td>nan</td><td>nan</td><td>nan</td><td>nan</td><td>nan</td><td>nan</td><td>nan</td><td>nan</td><td>nan</td><td>nan</td><td>False</td><td>False</td><td>False</td><td>False</td><td>0</td><td>0</td><td>2.1775693027e-314</td><td>2.1775693027e-314</td><td>False</td><td>False</td><td>False</td><td>False</td><td>nan</td><td>nan</td><td>nan</td><td>nan</td><td>True</td><td>True</td><td>nan</td><td>nan</td><td>nan</td><td>nan</td><td>nan</td><td>nan</td><td>nan</td><td>nan</td><td>nan</td><td>nan</td><td>nan</td><td>nan</td><td>nan</td><td>nan</td><td>nan</td><td>nan</td><td>nan</td><td>nan</td><td>nan</td><td>nan</td><td>False</td><td>False</td><td>False</td><td>False</td><td>0</td><td>0</td><td>2.1775693027e-314</td><td>2.1775693027e-314</td><td>False</td><td>False</td><td>False</td><td>False</td><td>nan</td><td>nan</td><td>nan</td><td>nan</td><td>True</td><td>True</td><td>nan</td><td>nan</td><td>nan</td><td>nan</td><td>nan</td><td>nan</td><td>False</td><td>False</td><td>True</td><td>True</td><td>True</td><td>True</td><td>False</td><td>False</td><td>False</td><td>False</td><td>False</td><td>False</td><td>True</td><td>True</td><td>False</td><td>False</td><td>nan</td><td>nan</td><td>nan</td><td>nan</td><td>nan</td><td>nan</td><td>940.6264680424547</td><td>940.6264680424547</td><td>930.5172481665882</td><td>930.5172481665882</td><td>-91.66842856483295</td><td>-91.66842856483295</td><td>1.0</td><td>1.0</td><td>1.0</td><td>1.0</td><td>0.0</td><td>0.0</td><td>False</td><td>False</td><td>False</td><td>False</td><td>False</td><td>False</td><td>False</td><td>True</td><td>False</td><td>1.3492522971631185</td><td>1.3492522971631185</td><td>0.0</td><td>0.0</td><td>False</td><td>False</td><td>0.9683170089191899</td><td>0.9683170089191899</td><td>0.0</td><td>0.0</td><td>False</td><td>False</td><td>1.4424883287134522</td><td>0.0</td><td>False</td><td>1.2385119896889827</td><td>0.0</td><td>False</td><td>1.1268599890820434</td><td>0.0</td><td>False</td><td>1.127648538264358</td><td>0.0</td><td>False</td><td>1.7982320380903276</td><td>0.0</td><td>False</td><td>1.3676948795918462</td><td>0.0</td><td>False</td><td>1.1665632601105167</td><td>0.0</td><td>False</td><td>1.2142402487466228</td><td>0.0</td><td>False</td><td>2.3666836579895922</td><td>0.0</td><td>False</td><td>1.6411139483420747</td><td>0.0</td><td>False</td><td>1.2740112665589338</td><td>0.0</td><td>False</td><td>1.4087845327155812</td><td>0.0</td><td>False</td><td>1.1140154675346785</td><td>0.0</td><td>False</td><td>0.8438214721832749</td><td>0.8438214721832749</td><td>0.0</td><td>0.0</td><td>False</td><td>False</td><td>0.8438988933303677</td><td>0.8438988933303677</td><td>0.0</td><td>0.0</td><td>False</td><td>False</td><td>0.8795223033652386</td><td>0.8795223033652386</td><td>0.0</td><td>0.0</td><td>False</td><td>False</td><td>0.8847712242819065</td><td>0.8847712242819065</td><td>0.0</td><td>0.0</td><td>False</td><td>False</td><td>nan</td><td>True</td><td>2925</td></tr>\n",
       "<tr><td>149957529009389580</td><td>0.6266404720226093</td><td>-0.08931711164109847</td><td>0</td><td>True</td><td>True</td><td>True</td><td>True</td><td>True</td><td>False</td><td>True</td><td>False</td><td>False</td><td>True</td><td>False</td><td>False</td><td>False</td><td>False</td><td>False</td><td>False</td><td>False</td><td>True</td><td>False</td><td>False</td><td>False</td><td>False</td><td>3</td><td>False</td><td>nan</td><td>nan</td><td>nan</td><td>True</td><td>False</td><td>False</td><td>False</td><td>False</td><td>False</td><td>False</td><td>0</td><td>0</td><td>0</td><td>0</td><td>0</td><td>13700.836705872493</td><td>19907.764575004676</td><td>False</td><td>False</td><td>False</td><td>False</td><td>13701.0</td><td>13701.0</td><td>19908.0</td><td>19908.0</td><td>nan</td><td>nan</td><td>nan</td><td>nan</td><td>True</td><td>True</td><td>True</td><td>True</td><td>True</td><td>True</td><td>True</td><td>True</td><td>True</td><td>True</td><td>True</td><td>True</td><td>True</td><td>True</td><td>True</td><td>True</td><td>True</td><td>True</td><td>True</td><td>True</td><td>True</td><td>True</td><td>True</td><td>True</td><td>True</td><td>True</td><td>True</td><td>True</td><td>True</td><td>True</td><td>True</td><td>True</td><td>True</td><td>True</td><td>True</td><td>True</td><td>True</td><td>True</td><td>True</td><td>True</td><td>False</td><td>False</td><td>False</td><td>False</td><td>False</td><td>False</td><td>False</td><td>False</td><td>False</td><td>False</td><td>False</td><td>False</td><td>False</td><td>False</td><td>False</td><td>False</td><td>False</td><td>False</td><td>False</td><td>False</td><td>False</td><td>False</td><td>False</td><td>False</td><td>False</td><td>False</td><td>False</td><td>False</td><td>False</td><td>False</td><td>False</td><td>False</td><td>False</td><td>False</td><td>False</td><td>False</td><td>False</td><td>False</td><td>False</td><td>False</td><td>False</td><td>False</td><td>False</td><td>False</td><td>False</td><td>False</td><td>False</td><td>False</td><td>False</td><td>False</td><td>False</td><td>False</td><td>False</td><td>False</td><td>False</td><td>False</td><td>False</td><td>False</td><td>False</td><td>False</td><td>False</td><td>False</td><td>False</td><td>False</td><td>False</td><td>False</td><td>False</td><td>False</td><td>False</td><td>False</td><td>False</td><td>False</td><td>False</td><td>False</td><td>False</td><td>False</td><td>False</td><td>False</td><td>False</td><td>False</td><td>False</td><td>False</td><td>False</td><td>False</td><td>False</td><td>False</td><td>False</td><td>False</td><td>False</td><td>False</td><td>False</td><td>False</td><td>False</td><td>False</td><td>False</td><td>False</td><td>False</td><td>False</td><td>False</td><td>False</td><td>0.0</td><td>-0.3152280516206247</td><td>126.63576125129967</td><td>96.28426119353144</td><td>-0.028951611603877048</td><td>163.88043583461607</td><td>159.26933199430792</td><td>343.3196168132438</td><td>44.75764226885365</td><td>-101.91875903100625</td><td>226.54961463465315</td><td>39.064309759592085</td><td>-70.87069889133552</td><td>398.0738328668957</td><td>50.457627762458536</td><td>-117.32469846158338</td><td>391.1593907953446</td><td>51.277658874518096</td><td>-117.38898738262557</td><td>True</td><td>True</td><td>True</td><td>False</td><td>4</td><td>False</td><td>9.77416207868236</td><td>6.1918209838460285</td><td>-1.3049653638270626</td><td>nan</td><td>nan</td><td>nan</td><td>13701.089442655064</td><td>19907.481897540372</td><td>nan</td><td>nan</td><td>5.533873120129708</td><td>6.166770744992973</td><td>-0.4251713918588266</td><td>nan</td><td>nan</td><td>nan</td><td>True</td><td>False</td><td>True</td><td>False</td><td>False</td><td>False</td><td>-0.004095349705257486</td><td>-0.004095349705257486</td><td>-0.001187747723882513</td><td>-0.001187747723882513</td><td>5.540717407499972</td><td>5.540717407499972</td><td>6.175319401154352</td><td>6.175319401154352</td><td>-0.426114897776496</td><td>-0.426114897776496</td><td>True</td><td>True</td><td>False</td><td>False</td><td>False</td><td>False</td><td>False</td><td>False</td><td>nan</td><td>nan</td><td>nan</td><td>nan</td><td>True</td><td>False</td><td>False</td><td>True</td><td>False</td><td>13712.445526290658</td><td>13712.445526290658</td><td>19906.604850455304</td><td>19906.604850455304</td><td>239.4577185548277</td><td>239.4577185548277</td><td>31.83469670771373</td><td>31.83469670771373</td><td>-73.53212911572922</td><td>-73.53212911572922</td><td>True</td><td>True</td><td>True</td><td>False</td><td>False</td><td>False</td><td>False</td><td>False</td><td>False</td><td>False</td><td>False</td><td>False</td><td>13701.733381362485</td><td>13701.733381362485</td><td>19910.267384162264</td><td>19910.267384162264</td><td>74.0539101046237</td><td>74.0539101046237</td><td>30.342897367557143</td><td>30.342897367557143</td><td>-19.782601187053928</td><td>-19.782601187053928</td><td>True</td><td>True</td><td>False</td><td>False</td><td>False</td><td>False</td><td>False</td><td>False</td><td>86.25729</td><td>86.25729</td><td>4.445603711409097</td><td>5.204570497288174</td><td>0.02597444841975912</td><td>0.05467316963769545</td><td>0.03835957317173428</td><td>0.1496665309260965</td><td>-0.0018877383464751987</td><td>-0.003000206477365653</td><td>-0.0015144807086840961</td><td>-0.005705361156314198</td><td>0.001516709713295944</td><td>55.31268679742568</td><td>64.75583441970257</td><td>0.32317692341556803</td><td>0.05467316963769545</td><td>0.03835957317173428</td><td>0.10534702768556786</td><td>-0.000831594412656632</td><td>-0.000821987812926869</td><td>True</td><td>False</td><td>False</td><td>False</td><td>5.251348495483398</td><td>2.509268045425415</td><td>True</td><td>False</td><td>False</td><td>9.475173950195312</td><td>3.8173038959503174</td><td>True</td><td>False</td><td>True</td><td>17.952058792114258</td><td>5.121356010437012</td><td>True</td><td>False</td><td>True</td><td>nan</td><td>nan</td><td>True</td><td>True</td><td>True</td><td>nan</td><td>nan</td><td>nan</td><td>nan</td><td>nan</td><td>nan</td><td>True</td><td>True</td><td>True</td><td>True</td><td>True</td><td>True</td><td>True</td><td>True</td><td>True</td><td>nan</td><td>nan</td><td>True</td><td>True</td><td>nan</td><td>nan</td><td>True</td><td>True</td><td>nan</td><td>nan</td><td>True</td><td>True</td><td>nan</td><td>nan</td><td>True</td><td>True</td><td>nan</td><td>nan</td><td>True</td><td>True</td><td>179.44679779384026</td><td>179.44679779384026</td><td>15.558483225936952</td><td>15.558483225936952</td><td>False</td><td>False</td><td>0.027221033256864757</td><td>0.47492733642490526</td><td>True</td><td>False</td><td>False</td><td>False</td><td>57.543993733715425</td><td>0.0</td><td>False</td><td>-8.144759785573711e-07</td><td>-2.5977515328254706e-10</td><td>-2.553406886868901e-10</td><td>8.144799834274415e-07</td><td>False</td><td>False</td><td>True</td><td>False</td><td>False</td><td>False</td><td>False</td><td>False</td><td>False</td><td>False</td><td>False</td><td>False</td><td>False</td><td>False</td><td>False</td><td>False</td><td>False</td><td>False</td><td>23.48478782471827</td><td>23.48478782471827</td><td>5.999422893283434</td><td>5.999422893283434</td><td>155.88733</td><td>155.88733</td><td>True</td><td>True</td><td>False</td><td>False</td><td>True</td><td>True</td><td>False</td><td>0.23792323470115662</td><td>False</td><td>nan</td><td>nan</td><td>nan</td><td>nan</td><td>nan</td><td>True</td><td>True</td><td>False</td><td>False</td><td>False</td><td>False</td><td>False</td><td>False</td><td>False</td><td>True</td><td>2.4137201</td><td>True</td><td>8.875301855971971</td><td>4.030572910182748</td><td>True</td><td>False</td><td>False</td><td>11.901229178065819</td><td>4.794699152419443</td><td>True</td><td>False</td><td>True</td><td>20.528869195090394</td><td>5.856467431241591</td><td>True</td><td>False</td><td>True</td><td>nan</td><td>nan</td><td>False</td><td>True</td><td>10.943726810482605</td><td>4.969914210759113</td><td>True</td><td>False</td><td>False</td><td>13.059051798519755</td><td>5.26115610857771</td><td>True</td><td>False</td><td>True</td><td>21.17950248328619</td><td>6.042079830336208</td><td>True</td><td>False</td><td>True</td><td>nan</td><td>nan</td><td>False</td><td>False</td><td>13.29415448978094</td><td>1.3899266974426117</td><td>True</td><td>False</td><td>False</td><td>16.560310422889653</td><td>1.8537890468646856</td><td>True</td><td>False</td><td>True</td><td>23.194987583425323</td><td>2.7856738009031496</td><td>True</td><td>False</td><td>True</td><td>nan</td><td>nan</td><td>False</td><td>True</td><td>nan</td><td>nan</td><td>nan</td><td>nan</td><td>True</td><td>True</td><td>nan</td><td>nan</td><td>nan</td><td>nan</td><td>nan</td><td>nan</td><td>nan</td><td>nan</td><td>nan</td><td>nan</td><td>nan</td><td>nan</td><td>nan</td><td>nan</td><td>nan</td><td>nan</td><td>nan</td><td>nan</td><td>nan</td><td>nan</td><td>False</td><td>False</td><td>False</td><td>False</td><td>0</td><td>0</td><td>2.1775693027e-314</td><td>2.1775693027e-314</td><td>False</td><td>False</td><td>False</td><td>False</td><td>nan</td><td>nan</td><td>nan</td><td>nan</td><td>True</td><td>True</td><td>nan</td><td>nan</td><td>nan</td><td>nan</td><td>nan</td><td>nan</td><td>nan</td><td>nan</td><td>nan</td><td>nan</td><td>nan</td><td>nan</td><td>nan</td><td>nan</td><td>nan</td><td>nan</td><td>nan</td><td>nan</td><td>nan</td><td>nan</td><td>False</td><td>False</td><td>False</td><td>False</td><td>0</td><td>0</td><td>2.1775693027e-314</td><td>2.1775693027e-314</td><td>False</td><td>False</td><td>False</td><td>False</td><td>nan</td><td>nan</td><td>nan</td><td>nan</td><td>True</td><td>True</td><td>nan</td><td>nan</td><td>nan</td><td>nan</td><td>nan</td><td>nan</td><td>nan</td><td>nan</td><td>nan</td><td>nan</td><td>nan</td><td>nan</td><td>nan</td><td>nan</td><td>nan</td><td>nan</td><td>nan</td><td>nan</td><td>nan</td><td>nan</td><td>False</td><td>False</td><td>False</td><td>False</td><td>0</td><td>0</td><td>2.1775693027e-314</td><td>2.1775693027e-314</td><td>False</td><td>False</td><td>False</td><td>False</td><td>nan</td><td>nan</td><td>nan</td><td>nan</td><td>True</td><td>True</td><td>nan</td><td>nan</td><td>nan</td><td>nan</td><td>nan</td><td>nan</td><td>False</td><td>False</td><td>True</td><td>True</td><td>False</td><td>False</td><td>True</td><td>True</td><td>False</td><td>False</td><td>False</td><td>False</td><td>True</td><td>True</td><td>False</td><td>False</td><td>nan</td><td>nan</td><td>nan</td><td>nan</td><td>nan</td><td>nan</td><td>408.443796104148</td><td>408.443796104148</td><td>475.40620644718257</td><td>475.40620644718257</td><td>-1.1316694062409247</td><td>-1.1316694062409247</td><td>1.0</td><td>1.0</td><td>1.0</td><td>1.0</td><td>0.0</td><td>0.0</td><td>False</td><td>False</td><td>False</td><td>False</td><td>False</td><td>False</td><td>False</td><td>True</td><td>False</td><td>1.3356031767671515</td><td>1.3356031767671515</td><td>0.0</td><td>0.0</td><td>False</td><td>False</td><td>0.9370386638998894</td><td>0.9370386638998894</td><td>0.0</td><td>0.0</td><td>False</td><td>False</td><td>1.4560906281472334</td><td>0.0</td><td>False</td><td>1.2560433444940078</td><td>0.0</td><td>False</td><td>1.1435384338262107</td><td>0.0</td><td>False</td><td>1.1244586396246385</td><td>0.0</td><td>False</td><td>1.7954384317672565</td><td>0.0</td><td>False</td><td>1.3782387391685371</td><td>0.0</td><td>False</td><td>1.17978125676536</td><td>0.0</td><td>False</td><td>1.2070723847339493</td><td>0.0</td><td>False</td><td>2.3667951836459657</td><td>0.0</td><td>False</td><td>1.640149105304314</td><td>0.0</td><td>False</td><td>1.2779351247695092</td><td>0.0</td><td>False</td><td>1.3890995080616595</td><td>0.0</td><td>False</td><td>1.1125601940586356</td><td>0.0</td><td>False</td><td>0.8107245367736315</td><td>0.8107245367736315</td><td>0.0</td><td>0.0</td><td>False</td><td>False</td><td>0.8055817168626163</td><td>0.8055817168626163</td><td>0.0</td><td>0.0</td><td>False</td><td>False</td><td>0.836035771771802</td><td>0.836035771771802</td><td>0.0</td><td>0.0</td><td>False</td><td>False</td><td>0.8340832271451455</td><td>0.8340832271451455</td><td>0.0</td><td>0.0</td><td>False</td><td>False</td><td>nan</td><td>True</td><td>596</td></tr>\n",
       "</table>"
      ],
      "text/plain": [
       "<Table length=5>\n",
       "        id              coord_ra      ... base_FootprintArea_value\n",
       "                          rad         ...           pix           \n",
       "      int64             float64       ...          int32          \n",
       "------------------ ------------------ ... ------------------------\n",
       "149957529009389569  0.627996271033287 ...                       67\n",
       "149957529009389570 0.6247565636943508 ...                 12053335\n",
       "149957529009389573 0.6277247848344782 ...                      572\n",
       "149957529009389578 0.6272856622932783 ...                     2925\n",
       "149957529009389580 0.6266404720226093 ...                      596"
      ]
     },
     "execution_count": 129,
     "metadata": {},
     "output_type": "execute_result"
    }
   ],
   "source": [
    "m=measSources.asAstropy()\n",
    "#m['base_ClassificationExtendedness_value']=measSources['base_ClassificationExtendedness_value']\n",
    "m[:5]"
   ]
  },
  {
   "cell_type": "code",
   "execution_count": 130,
   "metadata": {},
   "outputs": [
    {
     "name": "stdout",
     "output_type": "stream",
     "text": [
      "base_ClassificationExtendedness_value\n",
      "base_ClassificationExtendedness_flag\n"
     ]
    }
   ],
   "source": [
    "for c in m.colnames:\n",
    "    if 'Extend' in c:\n",
    "        print(c)"
   ]
  },
  {
   "cell_type": "code",
   "execution_count": 131,
   "metadata": {},
   "outputs": [
    {
     "data": {
      "text/plain": [
       "'first_test'"
      ]
     },
     "execution_count": 131,
     "metadata": {},
     "output_type": "execute_result"
    }
   ],
   "source": [
    "\"{}_test\".format('first','second')"
   ]
  },
  {
   "cell_type": "code",
   "execution_count": 14,
   "metadata": {},
   "outputs": [
    {
     "data": {
      "text/plain": [
       "['id',\n",
       " 'HSC-G_m_coord_ra',\n",
       " 'HSC-G_m_coord_dec',\n",
       " 'HSC-G_m_parent',\n",
       " 'HSC-G_m_merge_footprint_HSC-G']"
      ]
     },
     "execution_count": 14,
     "metadata": {},
     "output_type": "execute_result"
    }
   ],
   "source": [
    "cat.colnames[0:5]"
   ]
  },
  {
   "cell_type": "code",
   "execution_count": 15,
   "metadata": {},
   "outputs": [
    {
     "data": {
      "text/plain": [
       "'mag within 12.000000-pixel aperture'"
      ]
     },
     "execution_count": 15,
     "metadata": {},
     "output_type": "execute_result"
    }
   ],
   "source": [
    "cat['HSC-G_m_slot_CalibFlux_instFlux'].description.replace('instFlux', 'mag')"
   ]
  },
  {
   "cell_type": "code",
   "execution_count": 16,
   "metadata": {},
   "outputs": [
    {
     "data": {
      "text/plain": [
       "'mag within 12.000000-pixel aperture'"
      ]
     },
     "execution_count": 16,
     "metadata": {},
     "output_type": "execute_result"
    }
   ],
   "source": [
    "cat['HSC-G_m_slot_CalibFlux_mag'].description"
   ]
  },
  {
   "cell_type": "code",
   "execution_count": 17,
   "metadata": {},
   "outputs": [],
   "source": [
    "cols = Table()\n",
    "cols['name'] = cat.colnames\n",
    "cols['description'] = [cat[c].description for c in cat.colnames]\n",
    "cols['unit'] = [str(cat[c].unit) for c in cat.colnames]\n",
    "cols['type'] = [cat[c].dtype for c in cat.colnames]\n",
    "cols.write('./columns_descriptions.csv')"
   ]
  },
  {
   "cell_type": "code",
   "execution_count": 35,
   "metadata": {},
   "outputs": [
    {
     "data": {
      "text/plain": [
       "['id',\n",
       " 'VISTA-Ks_m_coord_ra',\n",
       " 'VISTA-Ks_m_coord_dec',\n",
       " 'VISTA-Ks_m_detect_isPatchInner',\n",
       " 'VISTA-Ks_m_detect_isTractInner',\n",
       " 'HSC-G_m_base_CircularApertureFlux_6_0_mag',\n",
       " 'HSC-R_m_base_CircularApertureFlux_6_0_mag',\n",
       " 'HSC-I_m_base_CircularApertureFlux_6_0_mag',\n",
       " 'HSC-Z_m_base_CircularApertureFlux_6_0_mag',\n",
       " 'HSC-Y_m_base_CircularApertureFlux_6_0_mag',\n",
       " 'VISTA-Z_m_base_CircularApertureFlux_6_0_mag',\n",
       " 'VISTA-Y_m_base_CircularApertureFlux_6_0_mag',\n",
       " 'VISTA-J_m_base_CircularApertureFlux_6_0_mag',\n",
       " 'VISTA-H_m_base_CircularApertureFlux_6_0_mag',\n",
       " 'VISTA-Ks_m_base_CircularApertureFlux_6_0_mag',\n",
       " 'HSC-G_m_base_CircularApertureFlux_6_0_magErr',\n",
       " 'HSC-R_m_base_CircularApertureFlux_6_0_magErr',\n",
       " 'HSC-I_m_base_CircularApertureFlux_6_0_magErr',\n",
       " 'HSC-Z_m_base_CircularApertureFlux_6_0_magErr',\n",
       " 'HSC-Y_m_base_CircularApertureFlux_6_0_magErr',\n",
       " 'VISTA-Z_m_base_CircularApertureFlux_6_0_magErr',\n",
       " 'VISTA-Y_m_base_CircularApertureFlux_6_0_magErr',\n",
       " 'VISTA-J_m_base_CircularApertureFlux_6_0_magErr',\n",
       " 'VISTA-H_m_base_CircularApertureFlux_6_0_magErr',\n",
       " 'VISTA-Ks_m_base_CircularApertureFlux_6_0_magErr',\n",
       " 'HSC-G_m_base_CircularApertureFlux_6_0_flag',\n",
       " 'HSC-R_m_base_CircularApertureFlux_6_0_flag',\n",
       " 'HSC-I_m_base_CircularApertureFlux_6_0_flag',\n",
       " 'HSC-Z_m_base_CircularApertureFlux_6_0_flag',\n",
       " 'HSC-Y_m_base_CircularApertureFlux_6_0_flag',\n",
       " 'VISTA-Z_m_base_CircularApertureFlux_6_0_flag',\n",
       " 'VISTA-Y_m_base_CircularApertureFlux_6_0_flag',\n",
       " 'VISTA-J_m_base_CircularApertureFlux_6_0_flag',\n",
       " 'VISTA-H_m_base_CircularApertureFlux_6_0_flag',\n",
       " 'VISTA-Ks_m_base_CircularApertureFlux_6_0_flag',\n",
       " 'HSC-G_m_base_CircularApertureFlux_9_0_mag',\n",
       " 'HSC-R_m_base_CircularApertureFlux_9_0_mag',\n",
       " 'HSC-I_m_base_CircularApertureFlux_9_0_mag',\n",
       " 'HSC-Z_m_base_CircularApertureFlux_9_0_mag',\n",
       " 'HSC-Y_m_base_CircularApertureFlux_9_0_mag',\n",
       " 'VISTA-Z_m_base_CircularApertureFlux_9_0_mag',\n",
       " 'VISTA-Y_m_base_CircularApertureFlux_9_0_mag',\n",
       " 'VISTA-J_m_base_CircularApertureFlux_9_0_mag',\n",
       " 'VISTA-H_m_base_CircularApertureFlux_9_0_mag',\n",
       " 'VISTA-Ks_m_base_CircularApertureFlux_9_0_mag',\n",
       " 'HSC-G_m_base_CircularApertureFlux_9_0_magErr',\n",
       " 'HSC-R_m_base_CircularApertureFlux_9_0_magErr',\n",
       " 'HSC-I_m_base_CircularApertureFlux_9_0_magErr',\n",
       " 'HSC-Z_m_base_CircularApertureFlux_9_0_magErr',\n",
       " 'HSC-Y_m_base_CircularApertureFlux_9_0_magErr',\n",
       " 'VISTA-Z_m_base_CircularApertureFlux_9_0_magErr',\n",
       " 'VISTA-Y_m_base_CircularApertureFlux_9_0_magErr',\n",
       " 'VISTA-J_m_base_CircularApertureFlux_9_0_magErr',\n",
       " 'VISTA-H_m_base_CircularApertureFlux_9_0_magErr',\n",
       " 'VISTA-Ks_m_base_CircularApertureFlux_9_0_magErr',\n",
       " 'HSC-G_m_base_CircularApertureFlux_9_0_flag',\n",
       " 'HSC-R_m_base_CircularApertureFlux_9_0_flag',\n",
       " 'HSC-I_m_base_CircularApertureFlux_9_0_flag',\n",
       " 'HSC-Z_m_base_CircularApertureFlux_9_0_flag',\n",
       " 'HSC-Y_m_base_CircularApertureFlux_9_0_flag',\n",
       " 'VISTA-Z_m_base_CircularApertureFlux_9_0_flag',\n",
       " 'VISTA-Y_m_base_CircularApertureFlux_9_0_flag',\n",
       " 'VISTA-J_m_base_CircularApertureFlux_9_0_flag',\n",
       " 'VISTA-H_m_base_CircularApertureFlux_9_0_flag',\n",
       " 'VISTA-Ks_m_base_CircularApertureFlux_9_0_flag',\n",
       " 'HSC-G_m_base_CircularApertureFlux_12_0_mag',\n",
       " 'HSC-R_m_base_CircularApertureFlux_12_0_mag',\n",
       " 'HSC-I_m_base_CircularApertureFlux_12_0_mag',\n",
       " 'HSC-Z_m_base_CircularApertureFlux_12_0_mag',\n",
       " 'HSC-Y_m_base_CircularApertureFlux_12_0_mag',\n",
       " 'VISTA-Z_m_base_CircularApertureFlux_12_0_mag',\n",
       " 'VISTA-Y_m_base_CircularApertureFlux_12_0_mag',\n",
       " 'VISTA-J_m_base_CircularApertureFlux_12_0_mag',\n",
       " 'VISTA-H_m_base_CircularApertureFlux_12_0_mag',\n",
       " 'VISTA-Ks_m_base_CircularApertureFlux_12_0_mag',\n",
       " 'HSC-G_m_base_CircularApertureFlux_12_0_magErr',\n",
       " 'HSC-R_m_base_CircularApertureFlux_12_0_magErr',\n",
       " 'HSC-I_m_base_CircularApertureFlux_12_0_magErr',\n",
       " 'HSC-Z_m_base_CircularApertureFlux_12_0_magErr',\n",
       " 'HSC-Y_m_base_CircularApertureFlux_12_0_magErr',\n",
       " 'VISTA-Z_m_base_CircularApertureFlux_12_0_magErr',\n",
       " 'VISTA-Y_m_base_CircularApertureFlux_12_0_magErr',\n",
       " 'VISTA-J_m_base_CircularApertureFlux_12_0_magErr',\n",
       " 'VISTA-H_m_base_CircularApertureFlux_12_0_magErr',\n",
       " 'VISTA-Ks_m_base_CircularApertureFlux_12_0_magErr',\n",
       " 'HSC-G_m_base_CircularApertureFlux_12_0_flag',\n",
       " 'HSC-R_m_base_CircularApertureFlux_12_0_flag',\n",
       " 'HSC-I_m_base_CircularApertureFlux_12_0_flag',\n",
       " 'HSC-Z_m_base_CircularApertureFlux_12_0_flag',\n",
       " 'HSC-Y_m_base_CircularApertureFlux_12_0_flag',\n",
       " 'VISTA-Z_m_base_CircularApertureFlux_12_0_flag',\n",
       " 'VISTA-Y_m_base_CircularApertureFlux_12_0_flag',\n",
       " 'VISTA-J_m_base_CircularApertureFlux_12_0_flag',\n",
       " 'VISTA-H_m_base_CircularApertureFlux_12_0_flag',\n",
       " 'VISTA-Ks_m_base_CircularApertureFlux_12_0_flag',\n",
       " 'HSC-G_m_base_CircularApertureFlux_17_0_mag',\n",
       " 'HSC-R_m_base_CircularApertureFlux_17_0_mag',\n",
       " 'HSC-I_m_base_CircularApertureFlux_17_0_mag',\n",
       " 'HSC-Z_m_base_CircularApertureFlux_17_0_mag',\n",
       " 'HSC-Y_m_base_CircularApertureFlux_17_0_mag',\n",
       " 'VISTA-Z_m_base_CircularApertureFlux_17_0_mag',\n",
       " 'VISTA-Y_m_base_CircularApertureFlux_17_0_mag',\n",
       " 'VISTA-J_m_base_CircularApertureFlux_17_0_mag',\n",
       " 'VISTA-H_m_base_CircularApertureFlux_17_0_mag',\n",
       " 'VISTA-Ks_m_base_CircularApertureFlux_17_0_mag',\n",
       " 'HSC-G_m_base_CircularApertureFlux_17_0_magErr',\n",
       " 'HSC-R_m_base_CircularApertureFlux_17_0_magErr',\n",
       " 'HSC-I_m_base_CircularApertureFlux_17_0_magErr',\n",
       " 'HSC-Z_m_base_CircularApertureFlux_17_0_magErr',\n",
       " 'HSC-Y_m_base_CircularApertureFlux_17_0_magErr',\n",
       " 'VISTA-Z_m_base_CircularApertureFlux_17_0_magErr',\n",
       " 'VISTA-Y_m_base_CircularApertureFlux_17_0_magErr',\n",
       " 'VISTA-J_m_base_CircularApertureFlux_17_0_magErr',\n",
       " 'VISTA-H_m_base_CircularApertureFlux_17_0_magErr',\n",
       " 'VISTA-Ks_m_base_CircularApertureFlux_17_0_magErr',\n",
       " 'HSC-G_m_base_CircularApertureFlux_17_0_flag',\n",
       " 'HSC-R_m_base_CircularApertureFlux_17_0_flag',\n",
       " 'HSC-I_m_base_CircularApertureFlux_17_0_flag',\n",
       " 'HSC-Z_m_base_CircularApertureFlux_17_0_flag',\n",
       " 'HSC-Y_m_base_CircularApertureFlux_17_0_flag',\n",
       " 'VISTA-Z_m_base_CircularApertureFlux_17_0_flag',\n",
       " 'VISTA-Y_m_base_CircularApertureFlux_17_0_flag',\n",
       " 'VISTA-J_m_base_CircularApertureFlux_17_0_flag',\n",
       " 'VISTA-H_m_base_CircularApertureFlux_17_0_flag',\n",
       " 'VISTA-Ks_m_base_CircularApertureFlux_17_0_flag',\n",
       " 'HSC-G_m_base_PsfFlux_apCorr',\n",
       " 'HSC-R_m_base_PsfFlux_apCorr',\n",
       " 'HSC-I_m_base_PsfFlux_apCorr',\n",
       " 'HSC-Z_m_base_PsfFlux_apCorr',\n",
       " 'HSC-Y_m_base_PsfFlux_apCorr',\n",
       " 'VISTA-Z_m_base_PsfFlux_apCorr',\n",
       " 'VISTA-Y_m_base_PsfFlux_apCorr',\n",
       " 'VISTA-J_m_base_PsfFlux_apCorr',\n",
       " 'VISTA-H_m_base_PsfFlux_apCorr',\n",
       " 'VISTA-Ks_m_base_PsfFlux_apCorr']"
      ]
     },
     "execution_count": 35,
     "metadata": {},
     "output_type": "execute_result"
    }
   ],
   "source": [
    "reduced_cols = [ \n",
    "    'id', \n",
    "    'VISTA-Ks_m_coord_ra', \n",
    "    'VISTA-Ks_m_coord_dec',\n",
    "    'VISTA-Ks_m_detect_isPatchInner',\n",
    "    'VISTA-Ks_m_detect_isTractInner'\n",
    "]\n",
    "for aper in ['6', '9', '12', '17']:\n",
    "    reduced_cols += ['{}_m_base_CircularApertureFlux_{}_0_mag'.format(b,aper) for b in allBands]\n",
    "    reduced_cols += ['{}_m_base_CircularApertureFlux_{}_0_magErr'.format(b,aper) for b in allBands]\n",
    "    reduced_cols += ['{}_m_base_CircularApertureFlux_{}_0_flag'.format(b,aper) for b in allBands]\n",
    "    \n",
    "reduced_cols += ['{}_m_base_PsfFlux_apCorr'.format(b) for b in allBands]\n",
    "reduced_cols"
   ]
  },
  {
   "cell_type": "markdown",
   "metadata": {},
   "source": [
    "## Run over all patches\n",
    "Now we simply loop over every patch to make the full field. This will only work on a small number of patches. The functions developed here will be added to obs_vista in due course for creating job arrays."
   ]
  },
  {
   "cell_type": "code",
   "execution_count": 19,
   "metadata": {},
   "outputs": [
    {
     "data": {
      "text/plain": [
       "{'HSC-G_m_base_CircularApertureFlux_12_0_flag',\n",
       " 'HSC-G_m_base_CircularApertureFlux_12_0_mag',\n",
       " 'HSC-G_m_base_CircularApertureFlux_12_0_magErr',\n",
       " 'HSC-G_m_base_CircularApertureFlux_17_0_flag',\n",
       " 'HSC-G_m_base_CircularApertureFlux_17_0_mag',\n",
       " 'HSC-G_m_base_CircularApertureFlux_17_0_magErr',\n",
       " 'HSC-G_m_base_CircularApertureFlux_6_0_flag',\n",
       " 'HSC-G_m_base_CircularApertureFlux_6_0_mag',\n",
       " 'HSC-G_m_base_CircularApertureFlux_6_0_magErr',\n",
       " 'HSC-G_m_base_CircularApertureFlux_9_0_flag',\n",
       " 'HSC-G_m_base_CircularApertureFlux_9_0_mag',\n",
       " 'HSC-G_m_base_CircularApertureFlux_9_0_magErr',\n",
       " 'HSC-G_m_base_PsfFlux_apCorr',\n",
       " 'HSC-I_m_base_CircularApertureFlux_12_0_flag',\n",
       " 'HSC-I_m_base_CircularApertureFlux_12_0_mag',\n",
       " 'HSC-I_m_base_CircularApertureFlux_12_0_magErr',\n",
       " 'HSC-I_m_base_CircularApertureFlux_17_0_flag',\n",
       " 'HSC-I_m_base_CircularApertureFlux_17_0_mag',\n",
       " 'HSC-I_m_base_CircularApertureFlux_17_0_magErr',\n",
       " 'HSC-I_m_base_CircularApertureFlux_6_0_flag',\n",
       " 'HSC-I_m_base_CircularApertureFlux_6_0_mag',\n",
       " 'HSC-I_m_base_CircularApertureFlux_6_0_magErr',\n",
       " 'HSC-I_m_base_CircularApertureFlux_9_0_flag',\n",
       " 'HSC-I_m_base_CircularApertureFlux_9_0_mag',\n",
       " 'HSC-I_m_base_CircularApertureFlux_9_0_magErr',\n",
       " 'HSC-I_m_base_PsfFlux_apCorr',\n",
       " 'HSC-R_m_base_CircularApertureFlux_12_0_flag',\n",
       " 'HSC-R_m_base_CircularApertureFlux_12_0_mag',\n",
       " 'HSC-R_m_base_CircularApertureFlux_12_0_magErr',\n",
       " 'HSC-R_m_base_CircularApertureFlux_17_0_flag',\n",
       " 'HSC-R_m_base_CircularApertureFlux_17_0_mag',\n",
       " 'HSC-R_m_base_CircularApertureFlux_17_0_magErr',\n",
       " 'HSC-R_m_base_CircularApertureFlux_6_0_flag',\n",
       " 'HSC-R_m_base_CircularApertureFlux_6_0_mag',\n",
       " 'HSC-R_m_base_CircularApertureFlux_6_0_magErr',\n",
       " 'HSC-R_m_base_CircularApertureFlux_9_0_flag',\n",
       " 'HSC-R_m_base_CircularApertureFlux_9_0_mag',\n",
       " 'HSC-R_m_base_CircularApertureFlux_9_0_magErr',\n",
       " 'HSC-R_m_base_PsfFlux_apCorr',\n",
       " 'HSC-Y_m_base_CircularApertureFlux_12_0_flag',\n",
       " 'HSC-Y_m_base_CircularApertureFlux_12_0_mag',\n",
       " 'HSC-Y_m_base_CircularApertureFlux_12_0_magErr',\n",
       " 'HSC-Y_m_base_CircularApertureFlux_17_0_flag',\n",
       " 'HSC-Y_m_base_CircularApertureFlux_17_0_mag',\n",
       " 'HSC-Y_m_base_CircularApertureFlux_17_0_magErr',\n",
       " 'HSC-Y_m_base_CircularApertureFlux_6_0_flag',\n",
       " 'HSC-Y_m_base_CircularApertureFlux_6_0_mag',\n",
       " 'HSC-Y_m_base_CircularApertureFlux_6_0_magErr',\n",
       " 'HSC-Y_m_base_CircularApertureFlux_9_0_flag',\n",
       " 'HSC-Y_m_base_CircularApertureFlux_9_0_mag',\n",
       " 'HSC-Y_m_base_CircularApertureFlux_9_0_magErr',\n",
       " 'HSC-Y_m_base_PsfFlux_apCorr',\n",
       " 'HSC-Z_m_base_CircularApertureFlux_12_0_flag',\n",
       " 'HSC-Z_m_base_CircularApertureFlux_12_0_mag',\n",
       " 'HSC-Z_m_base_CircularApertureFlux_12_0_magErr',\n",
       " 'HSC-Z_m_base_CircularApertureFlux_17_0_flag',\n",
       " 'HSC-Z_m_base_CircularApertureFlux_17_0_mag',\n",
       " 'HSC-Z_m_base_CircularApertureFlux_17_0_magErr',\n",
       " 'HSC-Z_m_base_CircularApertureFlux_6_0_flag',\n",
       " 'HSC-Z_m_base_CircularApertureFlux_6_0_mag',\n",
       " 'HSC-Z_m_base_CircularApertureFlux_6_0_magErr',\n",
       " 'HSC-Z_m_base_CircularApertureFlux_9_0_flag',\n",
       " 'HSC-Z_m_base_CircularApertureFlux_9_0_mag',\n",
       " 'HSC-Z_m_base_CircularApertureFlux_9_0_magErr',\n",
       " 'HSC-Z_m_base_PsfFlux_apCorr',\n",
       " 'VISTA-H_m_base_CircularApertureFlux_12_0_flag',\n",
       " 'VISTA-H_m_base_CircularApertureFlux_12_0_mag',\n",
       " 'VISTA-H_m_base_CircularApertureFlux_12_0_magErr',\n",
       " 'VISTA-H_m_base_CircularApertureFlux_17_0_flag',\n",
       " 'VISTA-H_m_base_CircularApertureFlux_17_0_mag',\n",
       " 'VISTA-H_m_base_CircularApertureFlux_17_0_magErr',\n",
       " 'VISTA-H_m_base_CircularApertureFlux_6_0_flag',\n",
       " 'VISTA-H_m_base_CircularApertureFlux_6_0_mag',\n",
       " 'VISTA-H_m_base_CircularApertureFlux_6_0_magErr',\n",
       " 'VISTA-H_m_base_CircularApertureFlux_9_0_flag',\n",
       " 'VISTA-H_m_base_CircularApertureFlux_9_0_mag',\n",
       " 'VISTA-H_m_base_CircularApertureFlux_9_0_magErr',\n",
       " 'VISTA-H_m_base_PsfFlux_apCorr',\n",
       " 'VISTA-J_m_base_CircularApertureFlux_12_0_flag',\n",
       " 'VISTA-J_m_base_CircularApertureFlux_12_0_mag',\n",
       " 'VISTA-J_m_base_CircularApertureFlux_12_0_magErr',\n",
       " 'VISTA-J_m_base_CircularApertureFlux_17_0_flag',\n",
       " 'VISTA-J_m_base_CircularApertureFlux_17_0_mag',\n",
       " 'VISTA-J_m_base_CircularApertureFlux_17_0_magErr',\n",
       " 'VISTA-J_m_base_CircularApertureFlux_6_0_flag',\n",
       " 'VISTA-J_m_base_CircularApertureFlux_6_0_mag',\n",
       " 'VISTA-J_m_base_CircularApertureFlux_6_0_magErr',\n",
       " 'VISTA-J_m_base_CircularApertureFlux_9_0_flag',\n",
       " 'VISTA-J_m_base_CircularApertureFlux_9_0_mag',\n",
       " 'VISTA-J_m_base_CircularApertureFlux_9_0_magErr',\n",
       " 'VISTA-J_m_base_PsfFlux_apCorr',\n",
       " 'VISTA-Ks_m_base_CircularApertureFlux_12_0_flag',\n",
       " 'VISTA-Ks_m_base_CircularApertureFlux_12_0_mag',\n",
       " 'VISTA-Ks_m_base_CircularApertureFlux_12_0_magErr',\n",
       " 'VISTA-Ks_m_base_CircularApertureFlux_17_0_flag',\n",
       " 'VISTA-Ks_m_base_CircularApertureFlux_17_0_mag',\n",
       " 'VISTA-Ks_m_base_CircularApertureFlux_17_0_magErr',\n",
       " 'VISTA-Ks_m_base_CircularApertureFlux_6_0_flag',\n",
       " 'VISTA-Ks_m_base_CircularApertureFlux_6_0_mag',\n",
       " 'VISTA-Ks_m_base_CircularApertureFlux_6_0_magErr',\n",
       " 'VISTA-Ks_m_base_CircularApertureFlux_9_0_flag',\n",
       " 'VISTA-Ks_m_base_CircularApertureFlux_9_0_mag',\n",
       " 'VISTA-Ks_m_base_CircularApertureFlux_9_0_magErr',\n",
       " 'VISTA-Ks_m_base_PsfFlux_apCorr',\n",
       " 'VISTA-Ks_m_coord_dec',\n",
       " 'VISTA-Ks_m_coord_ra',\n",
       " 'VISTA-Y_m_base_CircularApertureFlux_12_0_flag',\n",
       " 'VISTA-Y_m_base_CircularApertureFlux_12_0_mag',\n",
       " 'VISTA-Y_m_base_CircularApertureFlux_12_0_magErr',\n",
       " 'VISTA-Y_m_base_CircularApertureFlux_17_0_flag',\n",
       " 'VISTA-Y_m_base_CircularApertureFlux_17_0_mag',\n",
       " 'VISTA-Y_m_base_CircularApertureFlux_17_0_magErr',\n",
       " 'VISTA-Y_m_base_CircularApertureFlux_6_0_flag',\n",
       " 'VISTA-Y_m_base_CircularApertureFlux_6_0_mag',\n",
       " 'VISTA-Y_m_base_CircularApertureFlux_6_0_magErr',\n",
       " 'VISTA-Y_m_base_CircularApertureFlux_9_0_flag',\n",
       " 'VISTA-Y_m_base_CircularApertureFlux_9_0_mag',\n",
       " 'VISTA-Y_m_base_CircularApertureFlux_9_0_magErr',\n",
       " 'VISTA-Y_m_base_PsfFlux_apCorr',\n",
       " 'id'}"
      ]
     },
     "execution_count": 19,
     "metadata": {},
     "output_type": "execute_result"
    }
   ],
   "source": [
    "set(reduced_cols).intersection(set(cat.colnames))"
   ]
  },
  {
   "cell_type": "code",
   "execution_count": 20,
   "metadata": {},
   "outputs": [],
   "source": [
    "reduced_cat = Table()\n",
    "mask = cat['VISTA-Ks_m_detect_isPatchInner'] & cat['VISTA-Ks_m_detect_isTractInner']\n",
    "reduced_cat = vstack([reduced_cat, cat[mask][list(set(reduced_cols).intersection(set(cat.colnames)) )]])"
   ]
  },
  {
   "cell_type": "code",
   "execution_count": 21,
   "metadata": {},
   "outputs": [
    {
     "data": {
      "text/html": [
       "<i>Table length=5</i>\n",
       "<table id=\"table4812656080\" class=\"table-striped table-bordered table-condensed\">\n",
       "<thead><tr><th>VISTA-J_m_base_CircularApertureFlux_17_0_flag</th><th>HSC-G_m_base_CircularApertureFlux_6_0_magErr</th><th>VISTA-J_m_base_CircularApertureFlux_9_0_magErr</th><th>VISTA-J_m_base_CircularApertureFlux_6_0_mag</th><th>HSC-G_m_base_CircularApertureFlux_9_0_mag</th><th>VISTA-J_m_base_CircularApertureFlux_6_0_magErr</th><th>HSC-Y_m_base_CircularApertureFlux_12_0_magErr</th><th>VISTA-Y_m_base_CircularApertureFlux_9_0_magErr</th><th>HSC-G_m_base_CircularApertureFlux_9_0_flag</th><th>HSC-Y_m_base_CircularApertureFlux_9_0_mag</th><th>VISTA-Y_m_base_PsfFlux_apCorr</th><th>HSC-Z_m_base_CircularApertureFlux_12_0_flag</th><th>VISTA-J_m_base_CircularApertureFlux_12_0_flag</th><th>VISTA-Ks_m_base_CircularApertureFlux_9_0_magErr</th><th>HSC-Z_m_base_CircularApertureFlux_9_0_flag</th><th>HSC-I_m_base_CircularApertureFlux_12_0_flag</th><th>VISTA-H_m_base_CircularApertureFlux_6_0_flag</th><th>HSC-G_m_base_CircularApertureFlux_17_0_magErr</th><th>HSC-R_m_base_CircularApertureFlux_6_0_flag</th><th>HSC-Y_m_base_PsfFlux_apCorr</th><th>VISTA-Ks_m_base_CircularApertureFlux_17_0_flag</th><th>VISTA-Ks_m_base_CircularApertureFlux_17_0_magErr</th><th>HSC-I_m_base_PsfFlux_apCorr</th><th>VISTA-J_m_base_CircularApertureFlux_12_0_magErr</th><th>HSC-R_m_base_CircularApertureFlux_6_0_magErr</th><th>HSC-Z_m_base_CircularApertureFlux_17_0_flag</th><th>HSC-Z_m_base_CircularApertureFlux_17_0_magErr</th><th>HSC-R_m_base_CircularApertureFlux_17_0_mag</th><th>HSC-Y_m_base_CircularApertureFlux_12_0_mag</th><th>VISTA-Y_m_base_CircularApertureFlux_6_0_magErr</th><th>HSC-I_m_base_CircularApertureFlux_12_0_mag</th><th>HSC-Z_m_base_CircularApertureFlux_9_0_mag</th><th>VISTA-Ks_m_base_CircularApertureFlux_12_0_flag</th><th>HSC-R_m_base_PsfFlux_apCorr</th><th>VISTA-H_m_base_CircularApertureFlux_17_0_flag</th><th>VISTA-Y_m_base_CircularApertureFlux_17_0_flag</th><th>HSC-G_m_base_CircularApertureFlux_6_0_mag</th><th>HSC-R_m_base_CircularApertureFlux_9_0_magErr</th><th>HSC-I_m_base_CircularApertureFlux_17_0_flag</th><th>VISTA-Ks_m_base_CircularApertureFlux_6_0_magErr</th><th>HSC-G_m_base_CircularApertureFlux_9_0_magErr</th><th>VISTA-Ks_m_base_CircularApertureFlux_9_0_flag</th><th>HSC-Z_m_base_CircularApertureFlux_12_0_magErr</th><th>HSC-I_m_base_CircularApertureFlux_17_0_mag</th><th>VISTA-Ks_m_base_CircularApertureFlux_9_0_mag</th><th>HSC-I_m_base_CircularApertureFlux_6_0_mag</th><th>VISTA-Ks_m_base_PsfFlux_apCorr</th><th>HSC-R_m_base_CircularApertureFlux_9_0_mag</th><th>HSC-Y_m_base_CircularApertureFlux_6_0_flag</th><th>VISTA-Ks_m_coord_ra</th><th>HSC-I_m_base_CircularApertureFlux_9_0_mag</th><th>HSC-G_m_base_PsfFlux_apCorr</th><th>HSC-Y_m_base_CircularApertureFlux_9_0_magErr</th><th>HSC-R_m_base_CircularApertureFlux_12_0_mag</th><th>HSC-R_m_base_CircularApertureFlux_12_0_magErr</th><th>VISTA-J_m_base_CircularApertureFlux_12_0_mag</th><th>HSC-R_m_base_CircularApertureFlux_6_0_mag</th><th>HSC-G_m_base_CircularApertureFlux_12_0_magErr</th><th>HSC-G_m_base_CircularApertureFlux_6_0_flag</th><th>HSC-R_m_base_CircularApertureFlux_9_0_flag</th><th>HSC-R_m_base_CircularApertureFlux_12_0_flag</th><th>HSC-R_m_base_CircularApertureFlux_17_0_magErr</th><th>VISTA-J_m_base_CircularApertureFlux_6_0_flag</th><th>VISTA-Y_m_base_CircularApertureFlux_9_0_mag</th><th>VISTA-J_m_base_CircularApertureFlux_9_0_flag</th><th>VISTA-Ks_m_base_CircularApertureFlux_12_0_magErr</th><th>VISTA-Ks_m_base_CircularApertureFlux_6_0_flag</th><th>HSC-Y_m_base_CircularApertureFlux_6_0_magErr</th><th>HSC-Z_m_base_CircularApertureFlux_6_0_magErr</th><th>HSC-I_m_base_CircularApertureFlux_17_0_magErr</th><th>VISTA-H_m_base_CircularApertureFlux_6_0_magErr</th><th>VISTA-H_m_base_CircularApertureFlux_9_0_mag</th><th>HSC-Z_m_base_CircularApertureFlux_12_0_mag</th><th>VISTA-Y_m_base_CircularApertureFlux_17_0_mag</th><th>HSC-Z_m_base_CircularApertureFlux_17_0_mag</th><th>HSC-I_m_base_CircularApertureFlux_12_0_magErr</th><th>HSC-G_m_base_CircularApertureFlux_12_0_mag</th><th>VISTA-Y_m_base_CircularApertureFlux_12_0_flag</th><th>HSC-Z_m_base_CircularApertureFlux_9_0_magErr</th><th>VISTA-Y_m_base_CircularApertureFlux_9_0_flag</th><th>HSC-Y_m_base_CircularApertureFlux_17_0_magErr</th><th>VISTA-H_m_base_CircularApertureFlux_9_0_magErr</th><th>HSC-I_m_base_CircularApertureFlux_6_0_magErr</th><th>VISTA-J_m_base_CircularApertureFlux_9_0_mag</th><th>HSC-Y_m_base_CircularApertureFlux_17_0_mag</th><th>VISTA-Y_m_base_CircularApertureFlux_12_0_magErr</th><th>VISTA-Y_m_base_CircularApertureFlux_6_0_flag</th><th>HSC-G_m_base_CircularApertureFlux_12_0_flag</th><th>VISTA-J_m_base_CircularApertureFlux_17_0_mag</th><th>HSC-Y_m_base_CircularApertureFlux_12_0_flag</th><th>VISTA-Ks_m_base_CircularApertureFlux_12_0_mag</th><th>HSC-Z_m_base_CircularApertureFlux_6_0_flag</th><th>HSC-Y_m_base_CircularApertureFlux_6_0_mag</th><th>VISTA-Ks_m_base_CircularApertureFlux_17_0_mag</th><th>HSC-R_m_base_CircularApertureFlux_17_0_flag</th><th>VISTA-J_m_base_PsfFlux_apCorr</th><th>VISTA-Ks_m_base_CircularApertureFlux_6_0_mag</th><th>VISTA-H_m_base_PsfFlux_apCorr</th><th>VISTA-H_m_base_CircularApertureFlux_12_0_magErr</th><th>VISTA-Ks_m_coord_dec</th><th>VISTA-H_m_base_CircularApertureFlux_17_0_magErr</th><th>VISTA-Y_m_base_CircularApertureFlux_12_0_mag</th><th>HSC-I_m_base_CircularApertureFlux_9_0_flag</th><th>VISTA-H_m_base_CircularApertureFlux_12_0_mag</th><th>VISTA-H_m_base_CircularApertureFlux_17_0_mag</th><th>HSC-G_m_base_CircularApertureFlux_17_0_mag</th><th>HSC-Z_m_base_CircularApertureFlux_6_0_mag</th><th>HSC-Y_m_base_CircularApertureFlux_9_0_flag</th><th>HSC-Z_m_base_PsfFlux_apCorr</th><th>HSC-Y_m_base_CircularApertureFlux_17_0_flag</th><th>HSC-I_m_base_CircularApertureFlux_6_0_flag</th><th>VISTA-H_m_base_CircularApertureFlux_6_0_mag</th><th>HSC-G_m_base_CircularApertureFlux_17_0_flag</th><th>HSC-I_m_base_CircularApertureFlux_9_0_magErr</th><th>id</th><th>VISTA-Y_m_base_CircularApertureFlux_6_0_mag</th><th>VISTA-J_m_base_CircularApertureFlux_17_0_magErr</th><th>VISTA-H_m_base_CircularApertureFlux_12_0_flag</th><th>VISTA-H_m_base_CircularApertureFlux_9_0_flag</th><th>VISTA-Y_m_base_CircularApertureFlux_17_0_magErr</th></tr></thead>\n",
       "<thead><tr><th></th><th>mag</th><th>mag</th><th>mag</th><th>mag</th><th>mag</th><th>mag</th><th>mag</th><th></th><th>mag</th><th></th><th></th><th></th><th>mag</th><th></th><th></th><th></th><th>mag</th><th></th><th></th><th></th><th>mag</th><th></th><th>mag</th><th>mag</th><th></th><th>mag</th><th>mag</th><th>mag</th><th>mag</th><th>mag</th><th>mag</th><th></th><th></th><th></th><th></th><th>mag</th><th>mag</th><th></th><th>mag</th><th>mag</th><th></th><th>mag</th><th>mag</th><th>mag</th><th>mag</th><th></th><th>mag</th><th></th><th>rad</th><th>mag</th><th></th><th>mag</th><th>mag</th><th>mag</th><th>mag</th><th>mag</th><th>mag</th><th></th><th></th><th></th><th>mag</th><th></th><th>mag</th><th></th><th>mag</th><th></th><th>mag</th><th>mag</th><th>mag</th><th>mag</th><th>mag</th><th>mag</th><th>mag</th><th>mag</th><th>mag</th><th>mag</th><th></th><th>mag</th><th></th><th>mag</th><th>mag</th><th>mag</th><th>mag</th><th>mag</th><th>mag</th><th></th><th></th><th>mag</th><th></th><th>mag</th><th></th><th>mag</th><th>mag</th><th></th><th></th><th>mag</th><th></th><th>mag</th><th>rad</th><th>mag</th><th>mag</th><th></th><th>mag</th><th>mag</th><th>mag</th><th>mag</th><th></th><th></th><th></th><th></th><th>mag</th><th></th><th>mag</th><th></th><th>mag</th><th>mag</th><th></th><th></th><th>mag</th></tr></thead>\n",
       "<thead><tr><th>bool</th><th>float64</th><th>float64</th><th>float64</th><th>float64</th><th>float64</th><th>float64</th><th>float64</th><th>bool</th><th>float64</th><th>float64</th><th>bool</th><th>bool</th><th>float64</th><th>bool</th><th>bool</th><th>bool</th><th>float64</th><th>bool</th><th>float64</th><th>bool</th><th>float64</th><th>float64</th><th>float64</th><th>float64</th><th>bool</th><th>float64</th><th>float64</th><th>float64</th><th>float64</th><th>float64</th><th>float64</th><th>bool</th><th>float64</th><th>bool</th><th>bool</th><th>float64</th><th>float64</th><th>bool</th><th>float64</th><th>float64</th><th>bool</th><th>float64</th><th>float64</th><th>float64</th><th>float64</th><th>float64</th><th>float64</th><th>bool</th><th>float64</th><th>float64</th><th>float64</th><th>float64</th><th>float64</th><th>float64</th><th>float64</th><th>float64</th><th>float64</th><th>bool</th><th>bool</th><th>bool</th><th>float64</th><th>bool</th><th>float64</th><th>bool</th><th>float64</th><th>bool</th><th>float64</th><th>float64</th><th>float64</th><th>float64</th><th>float64</th><th>float64</th><th>float64</th><th>float64</th><th>float64</th><th>float64</th><th>bool</th><th>float64</th><th>bool</th><th>float64</th><th>float64</th><th>float64</th><th>float64</th><th>float64</th><th>float64</th><th>bool</th><th>bool</th><th>float64</th><th>bool</th><th>float64</th><th>bool</th><th>float64</th><th>float64</th><th>bool</th><th>float64</th><th>float64</th><th>float64</th><th>float64</th><th>float64</th><th>float64</th><th>float64</th><th>bool</th><th>float64</th><th>float64</th><th>float64</th><th>float64</th><th>bool</th><th>float64</th><th>bool</th><th>bool</th><th>float64</th><th>bool</th><th>float64</th><th>int64</th><th>float64</th><th>float64</th><th>bool</th><th>bool</th><th>float64</th></tr></thead>\n",
       "<tr><td>True</td><td>0.08581578401579926</td><td>0.14964547480138635</td><td>23.424547299622404</td><td>25.05519747166483</td><td>0.1255254907866349</td><td>0.09533272249976858</td><td>0.05970058313233832</td><td>True</td><td>22.83294931644769</td><td>1.0703169831799442</td><td>False</td><td>True</td><td>0.0896511326493134</td><td>False</td><td>False</td><td>False</td><td>0.05076074354514109</td><td>False</td><td>nan</td><td>False</td><td>0.11017236158074951</td><td>nan</td><td>0.1686746815033852</td><td>0.03778334771891543</td><td>False</td><td>0.04304517887000999</td><td>23.506607662783598</td><td>22.609086735442926</td><td>0.05884737463739724</td><td>23.14387268901914</td><td>22.97506451581793</td><td>False</td><td>nan</td><td>False</td><td>False</td><td>26.017146962329782</td><td>0.03270009031228273</td><td>False</td><td>0.08256359278302104</td><td>0.05334503041009459</td><td>False</td><td>0.030856599947769077</td><td>22.992529070573298</td><td>21.94855072493791</td><td>23.84049063295435</td><td>1.182007505111814</td><td>23.888027241887354</td><td>False</td><td>0.6269181825791948</td><td>23.398508191352704</td><td>nan</td><td>0.08686598063274616</td><td>23.639287891641327</td><td>0.03520203446411229</td><td>22.990806672480137</td><td>24.489642674977155</td><td>0.046021366373028595</td><td>True</td><td>False</td><td>False</td><td>0.04431413226128685</td><td>True</td><td>22.796753248941194</td><td>True</td><td>0.08454574642516577</td><td>False</td><td>0.08995509123435065</td><td>0.025701402792882775</td><td>0.04637227178121509</td><td>0.05023370013452571</td><td>22.380046901816883</td><td>22.80846230386625</td><td>22.59492131299796</td><td>22.791813635669754</td><td>0.03740009805749027</td><td>24.58623541775829</td><td>False</td><td>0.026678544920896566</td><td>False</td><td>0.11963853824683632</td><td>0.06249650128341736</td><td>0.034910304891783046</td><td>23.170612228454562</td><td>22.482220408467196</td><td>0.07428692371080976</td><td>False</td><td>True</td><td>22.53771614401829</td><td>False</td><td>21.558208476628046</td><td>False</td><td>23.316602337557974</td><td>21.469871283068123</td><td>False</td><td>1.0739408989545682</td><td>22.306898388754682</td><td>1.1027305437908297</td><td>0.09311150949335509</td><td>-0.09575824171111792</td><td>0.09154235621651148</td><td>22.71780063856399</td><td>False</td><td>22.488468003725014</td><td>22.091569971699073</td><td>24.306528535291513</td><td>23.379532760749285</td><td>False</td><td>nan</td><td>False</td><td>False</td><td>22.58754622046016</td><td>True</td><td>0.03499802734758016</td><td>149957494649651442</td><td>23.224505749330923</td><td>0.1588274810545074</td><td>False</td><td>False</td><td>0.09419537518847897</td></tr>\n",
       "<tr><td>False</td><td>0.09679261064734652</td><td>0.0340401733084304</td><td>21.770956429745056</td><td>26.0538341927627</td><td>0.027231134390868838</td><td>0.04352488223738308</td><td>0.02757111650956874</td><td>False</td><td>21.893670915234217</td><td>1.061920367746513</td><td>False</td><td>False</td><td>0.02861649854254406</td><td>False</td><td>False</td><td>False</td><td>0.13588337831382466</td><td>False</td><td>nan</td><td>False</td><td>0.03818143549253941</td><td>nan</td><td>0.047221742339595786</td><td>0.03224205727352217</td><td>False</td><td>0.02131176525124438</td><td>23.7584908894703</td><td>21.755051867198894</td><td>0.024089843940587195</td><td>22.860775531704057</td><td>22.176262279137347</td><td>False</td><td>nan</td><td>False</td><td>False</td><td>26.173634126833065</td><td>0.03917399990723053</td><td>False</td><td>0.02212855023695661</td><td>0.13049886017854098</td><td>False</td><td>0.01630195511126614</td><td>22.701088181088714</td><td>20.71204458592472</td><td>23.132436996091542</td><td>1.1784928099698317</td><td>24.09888411073559</td><td>False</td><td>0.6262060991960968</td><td>22.955976829438363</td><td>nan</td><td>0.036923511695686674</td><td>23.97337250402042</td><td>0.047163100592453426</td><td>21.59819069263355</td><td>24.33007711258536</td><td>0.14353919366960013</td><td>False</td><td>False</td><td>False</td><td>0.05501477145242357</td><td>False</td><td>21.95820426904422</td><td>False</td><td>0.03429192119723251</td><td>False</td><td>0.031063196863731678</td><td>0.010497077693446126</td><td>0.034293511454735366</td><td>0.016059996775835285</td><td>21.12890328470651</td><td>22.077361681668712</td><td>21.822040411502744</td><td>21.992026406325902</td><td>0.027901364807931414</td><td>25.834968701752246</td><td>False</td><td>0.013303468646511149</td><td>False</td><td>0.052246594414541395</td><td>0.01972503720189974</td><td>0.017718022827227783</td><td>21.562485051805428</td><td>21.5833876221892</td><td>0.03370398859321642</td><td>False</td><td>False</td><td>21.57206994966408</td><td>False</td><td>20.58337980845726</td><td>False</td><td>22.149017696333463</td><td>20.322169998469562</td><td>False</td><td>1.0911348805102914</td><td>20.876590887724838</td><td>1.1340961694050868</td><td>0.024011031865351862</td><td>-0.09575747581718906</td><td>0.03088460085047093</td><td>21.85199925746471</td><td>False</td><td>21.017916851526998</td><td>20.911852202123015</td><td>25.395002924532804</td><td>22.35893954808178</td><td>False</td><td>nan</td><td>False</td><td>False</td><td>21.352819014909393</td><td>False</td><td>0.022621158896277638</td><td>149957494649651445</td><td>22.255042840427283</td><td>0.06545605166283108</td><td>False</td><td>False</td><td>0.04637188087909493</td></tr>\n",
       "<tr><td>True</td><td>0.03530487242574595</td><td>0.23182468090284833</td><td>23.977446308071055</td><td>24.82618878030693</td><td>0.20133941511674694</td><td>0.15826483187668194</td><td>0.08648589620562425</td><td>False</td><td>23.572733403067907</td><td>1.0082843058480693</td><td>False</td><td>True</td><td>0.15314897310573206</td><td>False</td><td>False</td><td>False</td><td>0.06373524883168294</td><td>False</td><td>nan</td><td>False</td><td>0.22191850586722564</td><td>nan</td><td>0.2316173817869675</td><td>0.07163541054325542</td><td>False</td><td>0.13220534651022778</td><td>24.821538481084083</td><td>23.228733105816374</td><td>0.08386976524820418</td><td>24.30344523575937</td><td>24.285833466659483</td><td>False</td><td>nan</td><td>False</td><td>False</td><td>25.08806013153074</td><td>0.09109169938932046</td><td>False</td><td>0.12143312715547626</td><td>0.04165404333123641</td><td>False</td><td>0.11958985867221095</td><td>23.938668070503905</td><td>22.53875309735062</td><td>24.55587585557804</td><td>1.1419744845616435</td><td>24.861986182002674</td><td>False</td><td>0.6274528814865094</td><td>24.343948065738793</td><td>nan</td><td>0.16241583115747074</td><td>24.911310610296663</td><td>0.13025859127672906</td><td>23.373817057648946</td><td>25.0456872642808</td><td>0.048695232801193325</td><td>False</td><td>False</td><td>False</td><td>0.1697056538537955</td><td>True</td><td>23.103922230237615</td><td>True</td><td>0.18572782702245644</td><td>False</td><td>0.14686896522973952</td><td>0.072885443343435</td><td>0.11233982827673139</td><td>0.08597811992552838</td><td>22.94926629833799</td><td>24.29152146922516</td><td>22.494816855448484</td><td>24.026551187315857</td><td>0.11050628298241513</td><td>24.67430611618278</td><td>False</td><td>0.08824145628376956</td><td>False</td><td>0.15798792814522913</td><td>0.1066987109763419</td><td>0.068694846898109</td><td>23.68409554677653</td><td>22.847706381161235</td><td>0.08357414061864493</td><td>False</td><td>False</td><td>22.289861110632472</td><td>False</td><td>22.422969416338397</td><td>False</td><td>23.90921953078754</td><td>22.239133382442787</td><td>False</td><td>1.0341076633170057</td><td>22.732860067730805</td><td>1.0632674189207012</td><td>0.13223343365523016</td><td>-0.09575700850480585</td><td>0.13755719849611203</td><td>22.742013593177624</td><td>False</td><td>22.85641670576269</td><td>22.52240506348474</td><td>24.588749766689098</td><td>24.522892464396428</td><td>False</td><td>nan</td><td>False</td><td>False</td><td>23.16114822438565</td><td>False</td><td>0.08511833097948182</td><td>149957494649651452</td><td>23.516377061926995</td><td>0.12198478036540819</td><td>False</td><td>False</td><td>0.09425782082999504</td></tr>\n",
       "<tr><td>True</td><td>1.0060874612608492</td><td>0.3917606637481146</td><td>26.847094100572257</td><td>27.26457255043379</td><td>2.9305384048732517</td><td>0.5415023849885333</td><td>8.751325706148883</td><td>True</td><td>24.580144974099408</td><td>1.0661161561078796</td><td>True</td><td>True</td><td>0.4899267604681822</td><td>True</td><td>True</td><td>True</td><td>0.18787345268961023</td><td>True</td><td>nan</td><td>False</td><td>0.39917829771695446</td><td>nan</td><td>0.3164833907629732</td><td>1.8330660500830394</td><td>True</td><td>0.2861431668175835</td><td>25.726032933227284</td><td>24.484030618624956</td><td>0.6861041246451419</td><td>25.47273308763659</td><td>26.57334788479851</td><td>False</td><td>nan</td><td>True</td><td>True</td><td>28.775020130340614</td><td>2.30536909864839</td><td>True</td><td>0.26119291716400833</td><td>0.37754723712492444</td><td>False</td><td>0.5582526472045855</td><td>24.894604095498995</td><td>23.794777287685037</td><td>26.046983720664734</td><td>1.180001817608251</td><td>28.489592421828775</td><td>True</td><td>0.6265610111442301</td><td>25.859307997491175</td><td>nan</td><td>0.44484365333352544</td><td>26.77314032641204</td><td>0.6346194917017719</td><td>23.67476596989262</td><td>nan</td><td>0.23779229038078722</td><td>True</td><td>True</td><td>True</td><td>0.3469308321591459</td><td>True</td><td>28.212658772501946</td><td>True</td><td>1.405025811220094</td><td>False</td><td>0.9438326171277721</td><td>0.49883729473333654</td><td>0.26122713159092237</td><td>9.737803775059243</td><td>24.87932671809627</td><td>26.00423508297483</td><td>25.140845609836767</td><td>24.892062676517078</td><td>0.30945340421643297</td><td>26.452514840382285</td><td>True</td><td>0.7094122131388432</td><td>True</td><td>0.340539068654926</td><td>0.6256734421946645</td><td>0.26201308485935926</td><td>24.215950359066923</td><td>23.594896700272983</td><td>59.33261289610834</td><td>True</td><td>True</td><td>23.49916792291463</td><td>True</td><td>24.61209218467085</td><td>True</td><td>25.842624340423136</td><td>22.867170121951425</td><td>True</td><td>1.081612752797864</td><td>23.55812562821527</td><td>1.1191370013373956</td><td>0.5338770430287728</td><td>-0.09575769419224718</td><td>0.3210321372481293</td><td>nan</td><td>True</td><td>24.398979148189504</td><td>23.45853594813736</td><td>25.80771805303643</td><td>26.636207813742985</td><td>True</td><td>nan</td><td>True</td><td>True</td><td>nan</td><td>True</td><td>0.3322444700630563</td><td>149957494649651462</td><td>25.895142250532675</td><td>0.38481962501289374</td><td>True</td><td>True</td><td>0.9822294271037991</td></tr>\n",
       "<tr><td>True</td><td>0.09866272226493013</td><td>0.47860728390568896</td><td>nan</td><td>25.08677380985777</td><td>0.956508066642992</td><td>0.20087921576404674</td><td>0.3101081970476535</td><td>True</td><td>24.195658635868533</td><td>1.0368763557733236</td><td>True</td><td>True</td><td>0.21882212106125198</td><td>True</td><td>True</td><td>True</td><td>0.02552403256624048</td><td>True</td><td>nan</td><td>False</td><td>1.2344037391966356</td><td>nan</td><td>0.3589320378233092</td><td>0.14250179401009447</td><td>True</td><td>0.0755322275750929</td><td>23.729667476361833</td><td>23.585451418579613</td><td>0.5310912213817415</td><td>24.402461200334194</td><td>24.626113375632276</td><td>False</td><td>nan</td><td>True</td><td>True</td><td>26.242481320386414</td><td>0.08854283223979359</td><td>True</td><td>0.17808423838464116</td><td>0.05136026700262821</td><td>False</td><td>0.09104233499349225</td><td>23.82487281564256</td><td>22.873200856776855</td><td>25.968660770624968</td><td>1.1244251251065525</td><td>24.958427790551426</td><td>True</td><td>0.6248259503823279</td><td>25.069959361385422</td><td>nan</td><td>0.2661083461954963</td><td>24.19566375900928</td><td>0.05835030394555391</td><td>23.76034692038786</td><td>25.921078053374828</td><td>0.032505940330583634</td><td>True</td><td>True</td><td>True</td><td>0.05451944857423375</td><td>True</td><td>nan</td><td>True</td><td>0.3412052901775215</td><td>False</td><td>0.6730184967827761</td><td>0.23393139553704562</td><td>0.10164231659747286</td><td>2.6578185119717066</td><td>26.034085512642168</td><td>23.990403843508176</td><td>nan</td><td>23.40068121285363</td><td>0.12106940687422271</td><td>24.279455086787017</td><td>True</td><td>0.12291015971717223</td><td>True</td><td>0.16302673862356462</td><td>2.082877602616384</td><td>0.25547295647969465</td><td>24.37960206802481</td><td>22.975569095990895</td><td>0.2374066681636377</td><td>True</td><td>True</td><td>nan</td><td>True</td><td>23.029810520386143</td><td>True</td><td>25.64155541296662</td><td>24.049559386529108</td><td>True</td><td>1.0731673329762008</td><td>23.09551777944321</td><td>1.0932031630619403</td><td>0.4376628141542876</td><td>-0.09575619458169324</td><td>3.803521202604621</td><td>nan</td><td>True</td><td>24.02984810749144</td><td>25.98976391266747</td><td>23.62944556900455</td><td>25.770957855379407</td><td>True</td><td>nan</td><td>True</td><td>True</td><td>26.741482477045867</td><td>True</td><td>0.16833848458148873</td><td>149957494649651463</td><td>nan</td><td>7.337900227231791</td><td>True</td><td>True</td><td>0.15259497222842017</td></tr>\n",
       "</table>"
      ],
      "text/plain": [
       "<Table length=5>\n",
       "VISTA-J_m_base_CircularApertureFlux_17_0_flag ...\n",
       "                                              ...\n",
       "                     bool                     ...\n",
       "--------------------------------------------- ...\n",
       "                                         True ...\n",
       "                                        False ...\n",
       "                                         True ...\n",
       "                                         True ...\n",
       "                                         True ..."
      ]
     },
     "execution_count": 21,
     "metadata": {},
     "output_type": "execute_result"
    }
   ],
   "source": [
    "reduced_cat[:5]"
   ]
  },
  {
   "cell_type": "code",
   "execution_count": 36,
   "metadata": {},
   "outputs": [
    {
     "name": "stdout",
     "output_type": "stream",
     "text": [
      "Tract 8282, patch 0,8 failed\n",
      "Tract 8283, patch 0,8 failed\n",
      "Tract 8283, patch 1,7 failed\n",
      "Tract 8283, patch 1,8 failed\n",
      "Tract 8283, patch 2,7 failed\n",
      "Tract 8283, patch 2,8 failed\n",
      "Tract 8283, patch 3,7 failed\n",
      "Tract 8283, patch 3,8 failed\n",
      "Tract 8283, patch 4,7 failed\n",
      "Tract 8283, patch 4,8 failed\n",
      "Tract 8283, patch 5,7 failed\n",
      "Tract 8283, patch 5,8 failed\n",
      "Tract 8283, patch 6,7 failed\n",
      "Tract 8283, patch 6,8 failed\n",
      "Tract 8283, patch 7,7 failed\n",
      "Tract 8283, patch 7,8 failed\n",
      "Tract 8283, patch 8,8 failed\n",
      "Tract 8284, patch 8,8 failed\n",
      "Tract 8523, patch 0,1 failed\n",
      "Tract 8523, patch 0,2 failed\n",
      "Tract 8523, patch 0,3 failed\n",
      "Tract 8523, patch 0,4 failed\n",
      "Tract 8523, patch 0,5 failed\n",
      "Tract 8523, patch 0,6 failed\n",
      "Tract 8523, patch 0,7 failed\n",
      "Tract 8523, patch 0,8 failed\n",
      "Tract 8523, patch 1,1 failed\n",
      "Tract 8523, patch 1,2 failed\n",
      "Tract 8523, patch 1,3 failed\n",
      "Tract 8523, patch 1,4 failed\n",
      "Tract 8523, patch 1,5 failed\n",
      "Tract 8523, patch 1,6 failed\n",
      "Tract 8523, patch 1,7 failed\n",
      "Tract 8523, patch 1,8 failed\n",
      "Tract 8523, patch 2,1 failed\n",
      "Tract 8523, patch 2,2 failed\n",
      "Tract 8523, patch 2,3 failed\n",
      "Tract 8523, patch 2,4 failed\n",
      "Tract 8523, patch 2,5 failed\n",
      "Tract 8523, patch 2,6 failed\n",
      "Tract 8523, patch 2,7 failed\n",
      "Tract 8523, patch 2,8 failed\n",
      "Tract 8523, patch 3,1 failed\n",
      "Tract 8523, patch 3,2 failed\n",
      "Tract 8523, patch 3,3 failed\n",
      "Tract 8523, patch 3,4 failed\n",
      "Tract 8523, patch 3,5 failed\n",
      "Tract 8523, patch 3,6 failed\n",
      "Tract 8523, patch 3,7 failed\n",
      "Tract 8523, patch 3,8 failed\n",
      "Tract 8523, patch 4,1 failed\n",
      "Tract 8523, patch 4,2 failed\n",
      "Tract 8523, patch 4,3 failed\n",
      "Tract 8523, patch 4,4 failed\n",
      "Tract 8523, patch 4,5 failed\n",
      "Tract 8523, patch 4,6 failed\n",
      "Tract 8523, patch 4,7 failed\n",
      "Tract 8523, patch 4,8 failed\n",
      "Tract 8523, patch 5,2 failed\n",
      "Tract 8523, patch 5,3 failed\n",
      "Tract 8523, patch 5,4 failed\n",
      "Tract 8523, patch 5,5 failed\n",
      "Tract 8523, patch 5,6 failed\n",
      "Tract 8523, patch 5,7 failed\n",
      "Tract 8523, patch 5,8 failed\n",
      "Tract 8523, patch 6,3 failed\n",
      "Tract 8523, patch 6,4 failed\n",
      "Tract 8523, patch 6,5 failed\n",
      "Tract 8523, patch 6,6 failed\n",
      "Tract 8523, patch 6,7 failed\n",
      "Tract 8523, patch 6,8 failed\n",
      "Tract 8523, patch 7,3 failed\n",
      "Tract 8523, patch 7,4 failed\n",
      "Tract 8523, patch 7,5 failed\n",
      "Tract 8523, patch 7,6 failed\n",
      "Tract 8523, patch 7,7 failed\n",
      "Tract 8523, patch 7,8 failed\n",
      "Tract 8524, patch 0,0 failed\n",
      "Tract 8524, patch 0,1 failed\n",
      "Tract 8524, patch 0,2 failed\n",
      "Tract 8524, patch 0,3 failed\n",
      "Tract 8524, patch 0,4 failed\n",
      "Tract 8524, patch 0,5 failed\n",
      "Tract 8524, patch 0,6 failed\n",
      "Tract 8524, patch 0,7 failed\n",
      "Tract 8524, patch 0,8 failed\n",
      "Tract 8524, patch 1,0 failed\n",
      "Tract 8524, patch 1,1 failed\n",
      "Tract 8524, patch 1,2 failed\n",
      "Tract 8524, patch 1,3 failed\n",
      "Tract 8524, patch 1,4 failed\n",
      "Tract 8524, patch 1,5 failed\n",
      "Tract 8524, patch 1,6 failed\n",
      "Tract 8524, patch 1,7 failed\n",
      "Tract 8524, patch 1,8 failed\n",
      "Tract 8524, patch 2,0 failed\n",
      "Tract 8524, patch 2,1 failed\n",
      "Tract 8524, patch 2,2 failed\n",
      "Tract 8524, patch 2,3 failed\n",
      "Tract 8524, patch 2,4 failed\n",
      "Tract 8524, patch 2,5 failed\n",
      "Tract 8524, patch 2,6 failed\n",
      "Tract 8524, patch 2,7 failed\n",
      "Tract 8524, patch 2,8 failed\n",
      "Tract 8524, patch 3,0 failed\n",
      "Tract 8524, patch 3,1 failed\n",
      "Tract 8524, patch 3,2 failed\n",
      "Tract 8524, patch 3,3 already done\n",
      "DEBUG:  /Volumes/Raph500/lsst-ir-fusion/dmu4/dmu4_Example/data/rerun/coaddPhot/deepCoadd-results/HSC-G/8524/3,3/meas-HSC-G-8524-3,3.fits\n",
      "DEBUG:  /Volumes/Raph500/lsst-ir-fusion/dmu4/dmu4_Example/data/rerun/coaddForcedPhot/deepCoadd-results/HSC-G/8524/3,3/forcedSrc-HSC-G-8524-3,3.fits\n",
      "DEBUG:  /Volumes/Raph500/lsst-ir-fusion/dmu4/dmu4_Example/data/rerun/coaddPhot/deepCoadd-results/HSC-R/8524/3,3/meas-HSC-R-8524-3,3.fits\n",
      "DEBUG:  /Volumes/Raph500/lsst-ir-fusion/dmu4/dmu4_Example/data/rerun/coaddForcedPhot/deepCoadd-results/HSC-R/8524/3,3/forcedSrc-HSC-R-8524-3,3.fits\n",
      "DEBUG:  /Volumes/Raph500/lsst-ir-fusion/dmu4/dmu4_Example/data/rerun/coaddPhot/deepCoadd-results/HSC-I/8524/3,3/meas-HSC-I-8524-3,3.fits\n",
      "DEBUG:  /Volumes/Raph500/lsst-ir-fusion/dmu4/dmu4_Example/data/rerun/coaddForcedPhot/deepCoadd-results/HSC-I/8524/3,3/forcedSrc-HSC-I-8524-3,3.fits\n",
      "DEBUG:  /Volumes/Raph500/lsst-ir-fusion/dmu4/dmu4_Example/data/rerun/coaddPhot/deepCoadd-results/HSC-Z/8524/3,3/meas-HSC-Z-8524-3,3.fits\n",
      "DEBUG:  /Volumes/Raph500/lsst-ir-fusion/dmu4/dmu4_Example/data/rerun/coaddForcedPhot/deepCoadd-results/HSC-Z/8524/3,3/forcedSrc-HSC-Z-8524-3,3.fits\n",
      "DEBUG:  /Volumes/Raph500/lsst-ir-fusion/dmu4/dmu4_Example/data/rerun/coaddPhot/deepCoadd-results/HSC-Y/8524/3,3/meas-HSC-Y-8524-3,3.fits\n",
      "DEBUG:  /Volumes/Raph500/lsst-ir-fusion/dmu4/dmu4_Example/data/rerun/coaddForcedPhot/deepCoadd-results/HSC-Y/8524/3,3/forcedSrc-HSC-Y-8524-3,3.fits\n",
      "DEBUG:  /Volumes/Raph500/lsst-ir-fusion/dmu4/dmu4_Example/data/rerun/coaddPhot/deepCoadd-results/VISTA-Z/8524/3,3/meas-VISTA-Z-8524-3,3.fits\n",
      "DEBUG:  /Volumes/Raph500/lsst-ir-fusion/dmu4/dmu4_Example/data/rerun/coaddPhot/deepCoadd-results/VISTA-Y/8524/3,3/meas-VISTA-Y-8524-3,3.fits\n",
      "DEBUG:  /Volumes/Raph500/lsst-ir-fusion/dmu4/dmu4_Example/data/rerun/coaddForcedPhot/deepCoadd-results/VISTA-Y/8524/3,3/forcedSrc-VISTA-Y-8524-3,3.fits\n",
      "DEBUG:  /Volumes/Raph500/lsst-ir-fusion/dmu4/dmu4_Example/data/rerun/coaddPhot/deepCoadd-results/VISTA-J/8524/3,3/meas-VISTA-J-8524-3,3.fits\n",
      "DEBUG:  /Volumes/Raph500/lsst-ir-fusion/dmu4/dmu4_Example/data/rerun/coaddForcedPhot/deepCoadd-results/VISTA-J/8524/3,3/forcedSrc-VISTA-J-8524-3,3.fits\n",
      "DEBUG:  /Volumes/Raph500/lsst-ir-fusion/dmu4/dmu4_Example/data/rerun/coaddPhot/deepCoadd-results/VISTA-H/8524/3,3/meas-VISTA-H-8524-3,3.fits\n",
      "DEBUG:  /Volumes/Raph500/lsst-ir-fusion/dmu4/dmu4_Example/data/rerun/coaddForcedPhot/deepCoadd-results/VISTA-H/8524/3,3/forcedSrc-VISTA-H-8524-3,3.fits\n",
      "DEBUG:  /Volumes/Raph500/lsst-ir-fusion/dmu4/dmu4_Example/data/rerun/coaddPhot/deepCoadd-results/VISTA-Ks/8524/3,3/meas-VISTA-Ks-8524-3,3.fits\n",
      "DEBUG:  /Volumes/Raph500/lsst-ir-fusion/dmu4/dmu4_Example/data/rerun/coaddForcedPhot/deepCoadd-results/VISTA-Ks/8524/3,3/forcedSrc-VISTA-Ks-8524-3,3.fits\n",
      "Tract 8524, patch 3,4 already done\n",
      "DEBUG:  /Volumes/Raph500/lsst-ir-fusion/dmu4/dmu4_Example/data/rerun/coaddPhot/deepCoadd-results/HSC-G/8524/3,4/meas-HSC-G-8524-3,4.fits\n",
      "DEBUG:  /Volumes/Raph500/lsst-ir-fusion/dmu4/dmu4_Example/data/rerun/coaddForcedPhot/deepCoadd-results/HSC-G/8524/3,4/forcedSrc-HSC-G-8524-3,4.fits\n",
      "DEBUG:  /Volumes/Raph500/lsst-ir-fusion/dmu4/dmu4_Example/data/rerun/coaddPhot/deepCoadd-results/HSC-R/8524/3,4/meas-HSC-R-8524-3,4.fits\n",
      "DEBUG:  /Volumes/Raph500/lsst-ir-fusion/dmu4/dmu4_Example/data/rerun/coaddForcedPhot/deepCoadd-results/HSC-R/8524/3,4/forcedSrc-HSC-R-8524-3,4.fits\n",
      "DEBUG:  /Volumes/Raph500/lsst-ir-fusion/dmu4/dmu4_Example/data/rerun/coaddPhot/deepCoadd-results/HSC-I/8524/3,4/meas-HSC-I-8524-3,4.fits\n",
      "DEBUG:  /Volumes/Raph500/lsst-ir-fusion/dmu4/dmu4_Example/data/rerun/coaddForcedPhot/deepCoadd-results/HSC-I/8524/3,4/forcedSrc-HSC-I-8524-3,4.fits\n",
      "DEBUG:  /Volumes/Raph500/lsst-ir-fusion/dmu4/dmu4_Example/data/rerun/coaddPhot/deepCoadd-results/HSC-Z/8524/3,4/meas-HSC-Z-8524-3,4.fits\n",
      "DEBUG:  /Volumes/Raph500/lsst-ir-fusion/dmu4/dmu4_Example/data/rerun/coaddForcedPhot/deepCoadd-results/HSC-Z/8524/3,4/forcedSrc-HSC-Z-8524-3,4.fits\n",
      "DEBUG:  /Volumes/Raph500/lsst-ir-fusion/dmu4/dmu4_Example/data/rerun/coaddPhot/deepCoadd-results/HSC-Y/8524/3,4/meas-HSC-Y-8524-3,4.fits\n",
      "DEBUG:  /Volumes/Raph500/lsst-ir-fusion/dmu4/dmu4_Example/data/rerun/coaddForcedPhot/deepCoadd-results/HSC-Y/8524/3,4/forcedSrc-HSC-Y-8524-3,4.fits\n",
      "DEBUG:  /Volumes/Raph500/lsst-ir-fusion/dmu4/dmu4_Example/data/rerun/coaddPhot/deepCoadd-results/VISTA-Z/8524/3,4/meas-VISTA-Z-8524-3,4.fits\n",
      "DEBUG:  /Volumes/Raph500/lsst-ir-fusion/dmu4/dmu4_Example/data/rerun/coaddPhot/deepCoadd-results/VISTA-Y/8524/3,4/meas-VISTA-Y-8524-3,4.fits\n",
      "DEBUG:  /Volumes/Raph500/lsst-ir-fusion/dmu4/dmu4_Example/data/rerun/coaddForcedPhot/deepCoadd-results/VISTA-Y/8524/3,4/forcedSrc-VISTA-Y-8524-3,4.fits\n",
      "DEBUG:  /Volumes/Raph500/lsst-ir-fusion/dmu4/dmu4_Example/data/rerun/coaddPhot/deepCoadd-results/VISTA-J/8524/3,4/meas-VISTA-J-8524-3,4.fits\n",
      "DEBUG:  /Volumes/Raph500/lsst-ir-fusion/dmu4/dmu4_Example/data/rerun/coaddForcedPhot/deepCoadd-results/VISTA-J/8524/3,4/forcedSrc-VISTA-J-8524-3,4.fits\n",
      "DEBUG:  /Volumes/Raph500/lsst-ir-fusion/dmu4/dmu4_Example/data/rerun/coaddPhot/deepCoadd-results/VISTA-H/8524/3,4/meas-VISTA-H-8524-3,4.fits\n",
      "DEBUG:  /Volumes/Raph500/lsst-ir-fusion/dmu4/dmu4_Example/data/rerun/coaddForcedPhot/deepCoadd-results/VISTA-H/8524/3,4/forcedSrc-VISTA-H-8524-3,4.fits\n",
      "DEBUG:  /Volumes/Raph500/lsst-ir-fusion/dmu4/dmu4_Example/data/rerun/coaddPhot/deepCoadd-results/VISTA-Ks/8524/3,4/meas-VISTA-Ks-8524-3,4.fits\n",
      "DEBUG:  /Volumes/Raph500/lsst-ir-fusion/dmu4/dmu4_Example/data/rerun/coaddForcedPhot/deepCoadd-results/VISTA-Ks/8524/3,4/forcedSrc-VISTA-Ks-8524-3,4.fits\n",
      "Tract 8524, patch 3,5 already done\n",
      "DEBUG:  /Volumes/Raph500/lsst-ir-fusion/dmu4/dmu4_Example/data/rerun/coaddPhot/deepCoadd-results/HSC-G/8524/3,5/meas-HSC-G-8524-3,5.fits\n",
      "DEBUG:  /Volumes/Raph500/lsst-ir-fusion/dmu4/dmu4_Example/data/rerun/coaddForcedPhot/deepCoadd-results/HSC-G/8524/3,5/forcedSrc-HSC-G-8524-3,5.fits\n",
      "DEBUG:  /Volumes/Raph500/lsst-ir-fusion/dmu4/dmu4_Example/data/rerun/coaddPhot/deepCoadd-results/HSC-R/8524/3,5/meas-HSC-R-8524-3,5.fits\n",
      "DEBUG:  /Volumes/Raph500/lsst-ir-fusion/dmu4/dmu4_Example/data/rerun/coaddForcedPhot/deepCoadd-results/HSC-R/8524/3,5/forcedSrc-HSC-R-8524-3,5.fits\n",
      "DEBUG:  /Volumes/Raph500/lsst-ir-fusion/dmu4/dmu4_Example/data/rerun/coaddPhot/deepCoadd-results/HSC-I/8524/3,5/meas-HSC-I-8524-3,5.fits\n",
      "DEBUG:  /Volumes/Raph500/lsst-ir-fusion/dmu4/dmu4_Example/data/rerun/coaddForcedPhot/deepCoadd-results/HSC-I/8524/3,5/forcedSrc-HSC-I-8524-3,5.fits\n",
      "DEBUG:  /Volumes/Raph500/lsst-ir-fusion/dmu4/dmu4_Example/data/rerun/coaddPhot/deepCoadd-results/HSC-Z/8524/3,5/meas-HSC-Z-8524-3,5.fits\n",
      "DEBUG:  /Volumes/Raph500/lsst-ir-fusion/dmu4/dmu4_Example/data/rerun/coaddForcedPhot/deepCoadd-results/HSC-Z/8524/3,5/forcedSrc-HSC-Z-8524-3,5.fits\n",
      "DEBUG:  /Volumes/Raph500/lsst-ir-fusion/dmu4/dmu4_Example/data/rerun/coaddPhot/deepCoadd-results/HSC-Y/8524/3,5/meas-HSC-Y-8524-3,5.fits\n",
      "DEBUG:  /Volumes/Raph500/lsst-ir-fusion/dmu4/dmu4_Example/data/rerun/coaddForcedPhot/deepCoadd-results/HSC-Y/8524/3,5/forcedSrc-HSC-Y-8524-3,5.fits\n",
      "DEBUG:  /Volumes/Raph500/lsst-ir-fusion/dmu4/dmu4_Example/data/rerun/coaddPhot/deepCoadd-results/VISTA-Z/8524/3,5/meas-VISTA-Z-8524-3,5.fits\n",
      "DEBUG:  /Volumes/Raph500/lsst-ir-fusion/dmu4/dmu4_Example/data/rerun/coaddPhot/deepCoadd-results/VISTA-Y/8524/3,5/meas-VISTA-Y-8524-3,5.fits\n",
      "DEBUG:  /Volumes/Raph500/lsst-ir-fusion/dmu4/dmu4_Example/data/rerun/coaddForcedPhot/deepCoadd-results/VISTA-Y/8524/3,5/forcedSrc-VISTA-Y-8524-3,5.fits\n",
      "DEBUG:  /Volumes/Raph500/lsst-ir-fusion/dmu4/dmu4_Example/data/rerun/coaddPhot/deepCoadd-results/VISTA-J/8524/3,5/meas-VISTA-J-8524-3,5.fits\n",
      "DEBUG:  /Volumes/Raph500/lsst-ir-fusion/dmu4/dmu4_Example/data/rerun/coaddForcedPhot/deepCoadd-results/VISTA-J/8524/3,5/forcedSrc-VISTA-J-8524-3,5.fits\n",
      "DEBUG:  /Volumes/Raph500/lsst-ir-fusion/dmu4/dmu4_Example/data/rerun/coaddPhot/deepCoadd-results/VISTA-H/8524/3,5/meas-VISTA-H-8524-3,5.fits\n",
      "DEBUG:  /Volumes/Raph500/lsst-ir-fusion/dmu4/dmu4_Example/data/rerun/coaddForcedPhot/deepCoadd-results/VISTA-H/8524/3,5/forcedSrc-VISTA-H-8524-3,5.fits\n",
      "DEBUG:  /Volumes/Raph500/lsst-ir-fusion/dmu4/dmu4_Example/data/rerun/coaddPhot/deepCoadd-results/VISTA-Ks/8524/3,5/meas-VISTA-Ks-8524-3,5.fits\n",
      "DEBUG:  /Volumes/Raph500/lsst-ir-fusion/dmu4/dmu4_Example/data/rerun/coaddForcedPhot/deepCoadd-results/VISTA-Ks/8524/3,5/forcedSrc-VISTA-Ks-8524-3,5.fits\n",
      "DEBUG:  /Volumes/Raph500/lsst-ir-fusion/dmu4/dmu4_Example/data/rerun/coaddPhot/deepCoadd-results/HSC-G/8524/3,6/meas-HSC-G-8524-3,6.fits\n",
      "DEBUG:  /Volumes/Raph500/lsst-ir-fusion/dmu4/dmu4_Example/data/rerun/coaddPhot/deepCoadd-results/HSC-Z/8524/3,6/meas-HSC-Z-8524-3,6.fits\n",
      "DEBUG:  /Volumes/Raph500/lsst-ir-fusion/dmu4/dmu4_Example/data/rerun/coaddPhot/deepCoadd-results/HSC-Y/8524/3,6/meas-HSC-Y-8524-3,6.fits\n",
      "DEBUG:  /Volumes/Raph500/lsst-ir-fusion/dmu4/dmu4_Example/data/rerun/coaddPhot/deepCoadd-results/VISTA-Z/8524/3,6/meas-VISTA-Z-8524-3,6.fits\n",
      "DEBUG:  /Volumes/Raph500/lsst-ir-fusion/dmu4/dmu4_Example/data/rerun/coaddPhot/deepCoadd-results/VISTA-Y/8524/3,6/meas-VISTA-Y-8524-3,6.fits\n",
      "Tract 8524, patch 3,6 failed\n",
      "DEBUG:  /Volumes/Raph500/lsst-ir-fusion/dmu4/dmu4_Example/data/rerun/coaddPhot/deepCoadd-results/HSC-G/8524/3,7/meas-HSC-G-8524-3,7.fits\n",
      "DEBUG:  /Volumes/Raph500/lsst-ir-fusion/dmu4/dmu4_Example/data/rerun/coaddPhot/deepCoadd-results/HSC-Z/8524/3,7/meas-HSC-Z-8524-3,7.fits\n",
      "DEBUG:  /Volumes/Raph500/lsst-ir-fusion/dmu4/dmu4_Example/data/rerun/coaddPhot/deepCoadd-results/HSC-Y/8524/3,7/meas-HSC-Y-8524-3,7.fits\n",
      "DEBUG:  /Volumes/Raph500/lsst-ir-fusion/dmu4/dmu4_Example/data/rerun/coaddPhot/deepCoadd-results/VISTA-Z/8524/3,7/meas-VISTA-Z-8524-3,7.fits\n",
      "DEBUG:  /Volumes/Raph500/lsst-ir-fusion/dmu4/dmu4_Example/data/rerun/coaddPhot/deepCoadd-results/VISTA-Y/8524/3,7/meas-VISTA-Y-8524-3,7.fits\n",
      "Tract 8524, patch 3,7 failed\n",
      "DEBUG:  /Volumes/Raph500/lsst-ir-fusion/dmu4/dmu4_Example/data/rerun/coaddPhot/deepCoadd-results/HSC-G/8524/3,8/meas-HSC-G-8524-3,8.fits\n",
      "DEBUG:  /Volumes/Raph500/lsst-ir-fusion/dmu4/dmu4_Example/data/rerun/coaddPhot/deepCoadd-results/HSC-Z/8524/3,8/meas-HSC-Z-8524-3,8.fits\n",
      "DEBUG:  /Volumes/Raph500/lsst-ir-fusion/dmu4/dmu4_Example/data/rerun/coaddPhot/deepCoadd-results/HSC-Y/8524/3,8/meas-HSC-Y-8524-3,8.fits\n",
      "DEBUG:  /Volumes/Raph500/lsst-ir-fusion/dmu4/dmu4_Example/data/rerun/coaddPhot/deepCoadd-results/VISTA-Z/8524/3,8/meas-VISTA-Z-8524-3,8.fits\n",
      "DEBUG:  /Volumes/Raph500/lsst-ir-fusion/dmu4/dmu4_Example/data/rerun/coaddPhot/deepCoadd-results/VISTA-Y/8524/3,8/meas-VISTA-Y-8524-3,8.fits\n",
      "Tract 8524, patch 3,8 failed\n",
      "Tract 8524, patch 4,0 failed\n",
      "Tract 8524, patch 4,1 failed\n",
      "Tract 8524, patch 4,2 failed\n",
      "Tract 8524, patch 4,3 already done\n",
      "DEBUG:  /Volumes/Raph500/lsst-ir-fusion/dmu4/dmu4_Example/data/rerun/coaddPhot/deepCoadd-results/HSC-G/8524/4,3/meas-HSC-G-8524-4,3.fits\n",
      "DEBUG:  /Volumes/Raph500/lsst-ir-fusion/dmu4/dmu4_Example/data/rerun/coaddForcedPhot/deepCoadd-results/HSC-G/8524/4,3/forcedSrc-HSC-G-8524-4,3.fits\n",
      "DEBUG:  /Volumes/Raph500/lsst-ir-fusion/dmu4/dmu4_Example/data/rerun/coaddPhot/deepCoadd-results/HSC-R/8524/4,3/meas-HSC-R-8524-4,3.fits\n",
      "DEBUG:  /Volumes/Raph500/lsst-ir-fusion/dmu4/dmu4_Example/data/rerun/coaddForcedPhot/deepCoadd-results/HSC-R/8524/4,3/forcedSrc-HSC-R-8524-4,3.fits\n",
      "DEBUG:  /Volumes/Raph500/lsst-ir-fusion/dmu4/dmu4_Example/data/rerun/coaddPhot/deepCoadd-results/HSC-I/8524/4,3/meas-HSC-I-8524-4,3.fits\n",
      "DEBUG:  /Volumes/Raph500/lsst-ir-fusion/dmu4/dmu4_Example/data/rerun/coaddForcedPhot/deepCoadd-results/HSC-I/8524/4,3/forcedSrc-HSC-I-8524-4,3.fits\n",
      "DEBUG:  /Volumes/Raph500/lsst-ir-fusion/dmu4/dmu4_Example/data/rerun/coaddPhot/deepCoadd-results/HSC-Z/8524/4,3/meas-HSC-Z-8524-4,3.fits\n",
      "DEBUG:  /Volumes/Raph500/lsst-ir-fusion/dmu4/dmu4_Example/data/rerun/coaddForcedPhot/deepCoadd-results/HSC-Z/8524/4,3/forcedSrc-HSC-Z-8524-4,3.fits\n",
      "DEBUG:  /Volumes/Raph500/lsst-ir-fusion/dmu4/dmu4_Example/data/rerun/coaddPhot/deepCoadd-results/HSC-Y/8524/4,3/meas-HSC-Y-8524-4,3.fits\n",
      "DEBUG:  /Volumes/Raph500/lsst-ir-fusion/dmu4/dmu4_Example/data/rerun/coaddForcedPhot/deepCoadd-results/HSC-Y/8524/4,3/forcedSrc-HSC-Y-8524-4,3.fits\n",
      "DEBUG:  /Volumes/Raph500/lsst-ir-fusion/dmu4/dmu4_Example/data/rerun/coaddPhot/deepCoadd-results/VISTA-Y/8524/4,3/meas-VISTA-Y-8524-4,3.fits\n",
      "DEBUG:  /Volumes/Raph500/lsst-ir-fusion/dmu4/dmu4_Example/data/rerun/coaddForcedPhot/deepCoadd-results/VISTA-Y/8524/4,3/forcedSrc-VISTA-Y-8524-4,3.fits\n",
      "DEBUG:  /Volumes/Raph500/lsst-ir-fusion/dmu4/dmu4_Example/data/rerun/coaddPhot/deepCoadd-results/VISTA-J/8524/4,3/meas-VISTA-J-8524-4,3.fits\n",
      "DEBUG:  /Volumes/Raph500/lsst-ir-fusion/dmu4/dmu4_Example/data/rerun/coaddForcedPhot/deepCoadd-results/VISTA-J/8524/4,3/forcedSrc-VISTA-J-8524-4,3.fits\n",
      "DEBUG:  /Volumes/Raph500/lsst-ir-fusion/dmu4/dmu4_Example/data/rerun/coaddPhot/deepCoadd-results/VISTA-H/8524/4,3/meas-VISTA-H-8524-4,3.fits\n",
      "DEBUG:  /Volumes/Raph500/lsst-ir-fusion/dmu4/dmu4_Example/data/rerun/coaddForcedPhot/deepCoadd-results/VISTA-H/8524/4,3/forcedSrc-VISTA-H-8524-4,3.fits\n",
      "DEBUG:  /Volumes/Raph500/lsst-ir-fusion/dmu4/dmu4_Example/data/rerun/coaddPhot/deepCoadd-results/VISTA-Ks/8524/4,3/meas-VISTA-Ks-8524-4,3.fits\n",
      "DEBUG:  /Volumes/Raph500/lsst-ir-fusion/dmu4/dmu4_Example/data/rerun/coaddForcedPhot/deepCoadd-results/VISTA-Ks/8524/4,3/forcedSrc-VISTA-Ks-8524-4,3.fits\n",
      "Tract 8524, patch 4,4 already done\n",
      "DEBUG:  /Volumes/Raph500/lsst-ir-fusion/dmu4/dmu4_Example/data/rerun/coaddPhot/deepCoadd-results/HSC-G/8524/4,4/meas-HSC-G-8524-4,4.fits\n",
      "DEBUG:  /Volumes/Raph500/lsst-ir-fusion/dmu4/dmu4_Example/data/rerun/coaddForcedPhot/deepCoadd-results/HSC-G/8524/4,4/forcedSrc-HSC-G-8524-4,4.fits\n",
      "DEBUG:  /Volumes/Raph500/lsst-ir-fusion/dmu4/dmu4_Example/data/rerun/coaddPhot/deepCoadd-results/HSC-R/8524/4,4/meas-HSC-R-8524-4,4.fits\n",
      "DEBUG:  /Volumes/Raph500/lsst-ir-fusion/dmu4/dmu4_Example/data/rerun/coaddForcedPhot/deepCoadd-results/HSC-R/8524/4,4/forcedSrc-HSC-R-8524-4,4.fits\n",
      "DEBUG:  /Volumes/Raph500/lsst-ir-fusion/dmu4/dmu4_Example/data/rerun/coaddPhot/deepCoadd-results/HSC-I/8524/4,4/meas-HSC-I-8524-4,4.fits\n",
      "DEBUG:  /Volumes/Raph500/lsst-ir-fusion/dmu4/dmu4_Example/data/rerun/coaddForcedPhot/deepCoadd-results/HSC-I/8524/4,4/forcedSrc-HSC-I-8524-4,4.fits\n",
      "DEBUG:  /Volumes/Raph500/lsst-ir-fusion/dmu4/dmu4_Example/data/rerun/coaddPhot/deepCoadd-results/HSC-Z/8524/4,4/meas-HSC-Z-8524-4,4.fits\n",
      "DEBUG:  /Volumes/Raph500/lsst-ir-fusion/dmu4/dmu4_Example/data/rerun/coaddForcedPhot/deepCoadd-results/HSC-Z/8524/4,4/forcedSrc-HSC-Z-8524-4,4.fits\n",
      "DEBUG:  /Volumes/Raph500/lsst-ir-fusion/dmu4/dmu4_Example/data/rerun/coaddPhot/deepCoadd-results/HSC-Y/8524/4,4/meas-HSC-Y-8524-4,4.fits\n",
      "DEBUG:  /Volumes/Raph500/lsst-ir-fusion/dmu4/dmu4_Example/data/rerun/coaddForcedPhot/deepCoadd-results/HSC-Y/8524/4,4/forcedSrc-HSC-Y-8524-4,4.fits\n",
      "DEBUG:  /Volumes/Raph500/lsst-ir-fusion/dmu4/dmu4_Example/data/rerun/coaddPhot/deepCoadd-results/VISTA-Y/8524/4,4/meas-VISTA-Y-8524-4,4.fits\n",
      "DEBUG:  /Volumes/Raph500/lsst-ir-fusion/dmu4/dmu4_Example/data/rerun/coaddForcedPhot/deepCoadd-results/VISTA-Y/8524/4,4/forcedSrc-VISTA-Y-8524-4,4.fits\n",
      "DEBUG:  /Volumes/Raph500/lsst-ir-fusion/dmu4/dmu4_Example/data/rerun/coaddPhot/deepCoadd-results/VISTA-J/8524/4,4/meas-VISTA-J-8524-4,4.fits\n",
      "DEBUG:  /Volumes/Raph500/lsst-ir-fusion/dmu4/dmu4_Example/data/rerun/coaddForcedPhot/deepCoadd-results/VISTA-J/8524/4,4/forcedSrc-VISTA-J-8524-4,4.fits\n",
      "DEBUG:  /Volumes/Raph500/lsst-ir-fusion/dmu4/dmu4_Example/data/rerun/coaddPhot/deepCoadd-results/VISTA-H/8524/4,4/meas-VISTA-H-8524-4,4.fits\n",
      "DEBUG:  /Volumes/Raph500/lsst-ir-fusion/dmu4/dmu4_Example/data/rerun/coaddForcedPhot/deepCoadd-results/VISTA-H/8524/4,4/forcedSrc-VISTA-H-8524-4,4.fits\n",
      "DEBUG:  /Volumes/Raph500/lsst-ir-fusion/dmu4/dmu4_Example/data/rerun/coaddPhot/deepCoadd-results/VISTA-Ks/8524/4,4/meas-VISTA-Ks-8524-4,4.fits\n",
      "DEBUG:  /Volumes/Raph500/lsst-ir-fusion/dmu4/dmu4_Example/data/rerun/coaddForcedPhot/deepCoadd-results/VISTA-Ks/8524/4,4/forcedSrc-VISTA-Ks-8524-4,4.fits\n",
      "Tract 8524, patch 4,5 already done\n",
      "DEBUG:  /Volumes/Raph500/lsst-ir-fusion/dmu4/dmu4_Example/data/rerun/coaddPhot/deepCoadd-results/HSC-G/8524/4,5/meas-HSC-G-8524-4,5.fits\n",
      "DEBUG:  /Volumes/Raph500/lsst-ir-fusion/dmu4/dmu4_Example/data/rerun/coaddForcedPhot/deepCoadd-results/HSC-G/8524/4,5/forcedSrc-HSC-G-8524-4,5.fits\n",
      "DEBUG:  /Volumes/Raph500/lsst-ir-fusion/dmu4/dmu4_Example/data/rerun/coaddPhot/deepCoadd-results/HSC-R/8524/4,5/meas-HSC-R-8524-4,5.fits\n",
      "DEBUG:  /Volumes/Raph500/lsst-ir-fusion/dmu4/dmu4_Example/data/rerun/coaddForcedPhot/deepCoadd-results/HSC-R/8524/4,5/forcedSrc-HSC-R-8524-4,5.fits\n",
      "DEBUG:  /Volumes/Raph500/lsst-ir-fusion/dmu4/dmu4_Example/data/rerun/coaddPhot/deepCoadd-results/HSC-I/8524/4,5/meas-HSC-I-8524-4,5.fits\n",
      "DEBUG:  /Volumes/Raph500/lsst-ir-fusion/dmu4/dmu4_Example/data/rerun/coaddForcedPhot/deepCoadd-results/HSC-I/8524/4,5/forcedSrc-HSC-I-8524-4,5.fits\n",
      "DEBUG:  /Volumes/Raph500/lsst-ir-fusion/dmu4/dmu4_Example/data/rerun/coaddPhot/deepCoadd-results/HSC-Z/8524/4,5/meas-HSC-Z-8524-4,5.fits\n",
      "DEBUG:  /Volumes/Raph500/lsst-ir-fusion/dmu4/dmu4_Example/data/rerun/coaddForcedPhot/deepCoadd-results/HSC-Z/8524/4,5/forcedSrc-HSC-Z-8524-4,5.fits\n",
      "DEBUG:  /Volumes/Raph500/lsst-ir-fusion/dmu4/dmu4_Example/data/rerun/coaddPhot/deepCoadd-results/HSC-Y/8524/4,5/meas-HSC-Y-8524-4,5.fits\n",
      "DEBUG:  /Volumes/Raph500/lsst-ir-fusion/dmu4/dmu4_Example/data/rerun/coaddForcedPhot/deepCoadd-results/HSC-Y/8524/4,5/forcedSrc-HSC-Y-8524-4,5.fits\n",
      "DEBUG:  /Volumes/Raph500/lsst-ir-fusion/dmu4/dmu4_Example/data/rerun/coaddPhot/deepCoadd-results/VISTA-Y/8524/4,5/meas-VISTA-Y-8524-4,5.fits\n",
      "DEBUG:  /Volumes/Raph500/lsst-ir-fusion/dmu4/dmu4_Example/data/rerun/coaddForcedPhot/deepCoadd-results/VISTA-Y/8524/4,5/forcedSrc-VISTA-Y-8524-4,5.fits\n",
      "DEBUG:  /Volumes/Raph500/lsst-ir-fusion/dmu4/dmu4_Example/data/rerun/coaddPhot/deepCoadd-results/VISTA-J/8524/4,5/meas-VISTA-J-8524-4,5.fits\n",
      "DEBUG:  /Volumes/Raph500/lsst-ir-fusion/dmu4/dmu4_Example/data/rerun/coaddForcedPhot/deepCoadd-results/VISTA-J/8524/4,5/forcedSrc-VISTA-J-8524-4,5.fits\n",
      "DEBUG:  /Volumes/Raph500/lsst-ir-fusion/dmu4/dmu4_Example/data/rerun/coaddPhot/deepCoadd-results/VISTA-H/8524/4,5/meas-VISTA-H-8524-4,5.fits\n",
      "DEBUG:  /Volumes/Raph500/lsst-ir-fusion/dmu4/dmu4_Example/data/rerun/coaddForcedPhot/deepCoadd-results/VISTA-H/8524/4,5/forcedSrc-VISTA-H-8524-4,5.fits\n",
      "DEBUG:  /Volumes/Raph500/lsst-ir-fusion/dmu4/dmu4_Example/data/rerun/coaddPhot/deepCoadd-results/VISTA-Ks/8524/4,5/meas-VISTA-Ks-8524-4,5.fits\n",
      "DEBUG:  /Volumes/Raph500/lsst-ir-fusion/dmu4/dmu4_Example/data/rerun/coaddForcedPhot/deepCoadd-results/VISTA-Ks/8524/4,5/forcedSrc-VISTA-Ks-8524-4,5.fits\n",
      "Tract 8524, patch 4,6 failed\n",
      "Tract 8524, patch 4,7 failed\n",
      "Tract 8524, patch 4,8 failed\n",
      "Tract 8524, patch 5,0 failed\n",
      "Tract 8524, patch 5,1 failed\n",
      "Tract 8524, patch 5,2 failed\n",
      "Tract 8524, patch 5,3 already done\n",
      "DEBUG:  /Volumes/Raph500/lsst-ir-fusion/dmu4/dmu4_Example/data/rerun/coaddPhot/deepCoadd-results/HSC-G/8524/5,3/meas-HSC-G-8524-5,3.fits\n",
      "DEBUG:  /Volumes/Raph500/lsst-ir-fusion/dmu4/dmu4_Example/data/rerun/coaddForcedPhot/deepCoadd-results/HSC-G/8524/5,3/forcedSrc-HSC-G-8524-5,3.fits\n",
      "DEBUG:  /Volumes/Raph500/lsst-ir-fusion/dmu4/dmu4_Example/data/rerun/coaddPhot/deepCoadd-results/HSC-R/8524/5,3/meas-HSC-R-8524-5,3.fits\n",
      "DEBUG:  /Volumes/Raph500/lsst-ir-fusion/dmu4/dmu4_Example/data/rerun/coaddForcedPhot/deepCoadd-results/HSC-R/8524/5,3/forcedSrc-HSC-R-8524-5,3.fits\n",
      "DEBUG:  /Volumes/Raph500/lsst-ir-fusion/dmu4/dmu4_Example/data/rerun/coaddPhot/deepCoadd-results/HSC-I/8524/5,3/meas-HSC-I-8524-5,3.fits\n",
      "DEBUG:  /Volumes/Raph500/lsst-ir-fusion/dmu4/dmu4_Example/data/rerun/coaddForcedPhot/deepCoadd-results/HSC-I/8524/5,3/forcedSrc-HSC-I-8524-5,3.fits\n",
      "DEBUG:  /Volumes/Raph500/lsst-ir-fusion/dmu4/dmu4_Example/data/rerun/coaddPhot/deepCoadd-results/HSC-Z/8524/5,3/meas-HSC-Z-8524-5,3.fits\n",
      "DEBUG:  /Volumes/Raph500/lsst-ir-fusion/dmu4/dmu4_Example/data/rerun/coaddForcedPhot/deepCoadd-results/HSC-Z/8524/5,3/forcedSrc-HSC-Z-8524-5,3.fits\n",
      "DEBUG:  /Volumes/Raph500/lsst-ir-fusion/dmu4/dmu4_Example/data/rerun/coaddPhot/deepCoadd-results/HSC-Y/8524/5,3/meas-HSC-Y-8524-5,3.fits\n",
      "DEBUG:  /Volumes/Raph500/lsst-ir-fusion/dmu4/dmu4_Example/data/rerun/coaddForcedPhot/deepCoadd-results/HSC-Y/8524/5,3/forcedSrc-HSC-Y-8524-5,3.fits\n",
      "DEBUG:  /Volumes/Raph500/lsst-ir-fusion/dmu4/dmu4_Example/data/rerun/coaddPhot/deepCoadd-results/VISTA-Y/8524/5,3/meas-VISTA-Y-8524-5,3.fits\n",
      "DEBUG:  /Volumes/Raph500/lsst-ir-fusion/dmu4/dmu4_Example/data/rerun/coaddForcedPhot/deepCoadd-results/VISTA-Y/8524/5,3/forcedSrc-VISTA-Y-8524-5,3.fits\n",
      "DEBUG:  /Volumes/Raph500/lsst-ir-fusion/dmu4/dmu4_Example/data/rerun/coaddPhot/deepCoadd-results/VISTA-J/8524/5,3/meas-VISTA-J-8524-5,3.fits\n",
      "DEBUG:  /Volumes/Raph500/lsst-ir-fusion/dmu4/dmu4_Example/data/rerun/coaddForcedPhot/deepCoadd-results/VISTA-J/8524/5,3/forcedSrc-VISTA-J-8524-5,3.fits\n",
      "DEBUG:  /Volumes/Raph500/lsst-ir-fusion/dmu4/dmu4_Example/data/rerun/coaddPhot/deepCoadd-results/VISTA-H/8524/5,3/meas-VISTA-H-8524-5,3.fits\n",
      "DEBUG:  /Volumes/Raph500/lsst-ir-fusion/dmu4/dmu4_Example/data/rerun/coaddForcedPhot/deepCoadd-results/VISTA-H/8524/5,3/forcedSrc-VISTA-H-8524-5,3.fits\n",
      "DEBUG:  /Volumes/Raph500/lsst-ir-fusion/dmu4/dmu4_Example/data/rerun/coaddPhot/deepCoadd-results/VISTA-Ks/8524/5,3/meas-VISTA-Ks-8524-5,3.fits\n",
      "DEBUG:  /Volumes/Raph500/lsst-ir-fusion/dmu4/dmu4_Example/data/rerun/coaddForcedPhot/deepCoadd-results/VISTA-Ks/8524/5,3/forcedSrc-VISTA-Ks-8524-5,3.fits\n",
      "Tract 8524, patch 5,4 already done\n",
      "DEBUG:  /Volumes/Raph500/lsst-ir-fusion/dmu4/dmu4_Example/data/rerun/coaddPhot/deepCoadd-results/HSC-G/8524/5,4/meas-HSC-G-8524-5,4.fits\n",
      "DEBUG:  /Volumes/Raph500/lsst-ir-fusion/dmu4/dmu4_Example/data/rerun/coaddForcedPhot/deepCoadd-results/HSC-G/8524/5,4/forcedSrc-HSC-G-8524-5,4.fits\n",
      "DEBUG:  /Volumes/Raph500/lsst-ir-fusion/dmu4/dmu4_Example/data/rerun/coaddPhot/deepCoadd-results/HSC-R/8524/5,4/meas-HSC-R-8524-5,4.fits\n",
      "DEBUG:  /Volumes/Raph500/lsst-ir-fusion/dmu4/dmu4_Example/data/rerun/coaddForcedPhot/deepCoadd-results/HSC-R/8524/5,4/forcedSrc-HSC-R-8524-5,4.fits\n",
      "DEBUG:  /Volumes/Raph500/lsst-ir-fusion/dmu4/dmu4_Example/data/rerun/coaddPhot/deepCoadd-results/HSC-I/8524/5,4/meas-HSC-I-8524-5,4.fits\n",
      "DEBUG:  /Volumes/Raph500/lsst-ir-fusion/dmu4/dmu4_Example/data/rerun/coaddForcedPhot/deepCoadd-results/HSC-I/8524/5,4/forcedSrc-HSC-I-8524-5,4.fits\n",
      "DEBUG:  /Volumes/Raph500/lsst-ir-fusion/dmu4/dmu4_Example/data/rerun/coaddPhot/deepCoadd-results/HSC-Z/8524/5,4/meas-HSC-Z-8524-5,4.fits\n",
      "DEBUG:  /Volumes/Raph500/lsst-ir-fusion/dmu4/dmu4_Example/data/rerun/coaddForcedPhot/deepCoadd-results/HSC-Z/8524/5,4/forcedSrc-HSC-Z-8524-5,4.fits\n",
      "DEBUG:  /Volumes/Raph500/lsst-ir-fusion/dmu4/dmu4_Example/data/rerun/coaddPhot/deepCoadd-results/VISTA-Y/8524/5,4/meas-VISTA-Y-8524-5,4.fits\n",
      "DEBUG:  /Volumes/Raph500/lsst-ir-fusion/dmu4/dmu4_Example/data/rerun/coaddForcedPhot/deepCoadd-results/VISTA-Y/8524/5,4/forcedSrc-VISTA-Y-8524-5,4.fits\n",
      "DEBUG:  /Volumes/Raph500/lsst-ir-fusion/dmu4/dmu4_Example/data/rerun/coaddPhot/deepCoadd-results/VISTA-J/8524/5,4/meas-VISTA-J-8524-5,4.fits\n",
      "DEBUG:  /Volumes/Raph500/lsst-ir-fusion/dmu4/dmu4_Example/data/rerun/coaddForcedPhot/deepCoadd-results/VISTA-J/8524/5,4/forcedSrc-VISTA-J-8524-5,4.fits\n",
      "DEBUG:  /Volumes/Raph500/lsst-ir-fusion/dmu4/dmu4_Example/data/rerun/coaddPhot/deepCoadd-results/VISTA-H/8524/5,4/meas-VISTA-H-8524-5,4.fits\n",
      "DEBUG:  /Volumes/Raph500/lsst-ir-fusion/dmu4/dmu4_Example/data/rerun/coaddForcedPhot/deepCoadd-results/VISTA-H/8524/5,4/forcedSrc-VISTA-H-8524-5,4.fits\n",
      "DEBUG:  /Volumes/Raph500/lsst-ir-fusion/dmu4/dmu4_Example/data/rerun/coaddPhot/deepCoadd-results/VISTA-Ks/8524/5,4/meas-VISTA-Ks-8524-5,4.fits\n",
      "DEBUG:  /Volumes/Raph500/lsst-ir-fusion/dmu4/dmu4_Example/data/rerun/coaddForcedPhot/deepCoadd-results/VISTA-Ks/8524/5,4/forcedSrc-VISTA-Ks-8524-5,4.fits\n",
      "Tract 8524, patch 5,5 already done\n",
      "DEBUG:  /Volumes/Raph500/lsst-ir-fusion/dmu4/dmu4_Example/data/rerun/coaddPhot/deepCoadd-results/HSC-G/8524/5,5/meas-HSC-G-8524-5,5.fits\n",
      "DEBUG:  /Volumes/Raph500/lsst-ir-fusion/dmu4/dmu4_Example/data/rerun/coaddForcedPhot/deepCoadd-results/HSC-G/8524/5,5/forcedSrc-HSC-G-8524-5,5.fits\n",
      "DEBUG:  /Volumes/Raph500/lsst-ir-fusion/dmu4/dmu4_Example/data/rerun/coaddPhot/deepCoadd-results/HSC-I/8524/5,5/meas-HSC-I-8524-5,5.fits\n",
      "DEBUG:  /Volumes/Raph500/lsst-ir-fusion/dmu4/dmu4_Example/data/rerun/coaddForcedPhot/deepCoadd-results/HSC-I/8524/5,5/forcedSrc-HSC-I-8524-5,5.fits\n",
      "DEBUG:  /Volumes/Raph500/lsst-ir-fusion/dmu4/dmu4_Example/data/rerun/coaddPhot/deepCoadd-results/HSC-Z/8524/5,5/meas-HSC-Z-8524-5,5.fits\n",
      "DEBUG:  /Volumes/Raph500/lsst-ir-fusion/dmu4/dmu4_Example/data/rerun/coaddForcedPhot/deepCoadd-results/HSC-Z/8524/5,5/forcedSrc-HSC-Z-8524-5,5.fits\n",
      "DEBUG:  /Volumes/Raph500/lsst-ir-fusion/dmu4/dmu4_Example/data/rerun/coaddPhot/deepCoadd-results/VISTA-Y/8524/5,5/meas-VISTA-Y-8524-5,5.fits\n",
      "DEBUG:  /Volumes/Raph500/lsst-ir-fusion/dmu4/dmu4_Example/data/rerun/coaddForcedPhot/deepCoadd-results/VISTA-Y/8524/5,5/forcedSrc-VISTA-Y-8524-5,5.fits\n",
      "DEBUG:  /Volumes/Raph500/lsst-ir-fusion/dmu4/dmu4_Example/data/rerun/coaddPhot/deepCoadd-results/VISTA-J/8524/5,5/meas-VISTA-J-8524-5,5.fits\n",
      "DEBUG:  /Volumes/Raph500/lsst-ir-fusion/dmu4/dmu4_Example/data/rerun/coaddForcedPhot/deepCoadd-results/VISTA-J/8524/5,5/forcedSrc-VISTA-J-8524-5,5.fits\n",
      "DEBUG:  /Volumes/Raph500/lsst-ir-fusion/dmu4/dmu4_Example/data/rerun/coaddPhot/deepCoadd-results/VISTA-H/8524/5,5/meas-VISTA-H-8524-5,5.fits\n",
      "DEBUG:  /Volumes/Raph500/lsst-ir-fusion/dmu4/dmu4_Example/data/rerun/coaddForcedPhot/deepCoadd-results/VISTA-H/8524/5,5/forcedSrc-VISTA-H-8524-5,5.fits\n",
      "DEBUG:  /Volumes/Raph500/lsst-ir-fusion/dmu4/dmu4_Example/data/rerun/coaddPhot/deepCoadd-results/VISTA-Ks/8524/5,5/meas-VISTA-Ks-8524-5,5.fits\n",
      "DEBUG:  /Volumes/Raph500/lsst-ir-fusion/dmu4/dmu4_Example/data/rerun/coaddForcedPhot/deepCoadd-results/VISTA-Ks/8524/5,5/forcedSrc-VISTA-Ks-8524-5,5.fits\n",
      "Tract 8524, patch 5,6 failed\n",
      "Tract 8524, patch 5,7 failed\n",
      "Tract 8524, patch 5,8 failed\n",
      "Tract 8524, patch 6,0 failed\n",
      "Tract 8524, patch 6,1 failed\n",
      "Tract 8524, patch 6,2 failed\n",
      "Tract 8524, patch 6,3 failed\n",
      "Tract 8524, patch 6,4 failed\n",
      "Tract 8524, patch 6,5 failed\n",
      "Tract 8524, patch 6,6 failed\n",
      "Tract 8524, patch 6,7 failed\n",
      "Tract 8524, patch 6,8 failed\n",
      "Tract 8524, patch 7,0 failed\n",
      "Tract 8524, patch 7,1 failed\n",
      "Tract 8524, patch 7,2 failed\n",
      "Tract 8524, patch 7,3 failed\n",
      "Tract 8524, patch 7,4 failed\n",
      "Tract 8524, patch 7,5 failed\n",
      "Tract 8524, patch 7,6 failed\n",
      "Tract 8524, patch 7,7 failed\n",
      "Tract 8524, patch 7,8 failed\n",
      "Tract 8524, patch 8,1 failed\n",
      "Tract 8524, patch 8,2 failed\n",
      "Tract 8524, patch 8,3 failed\n",
      "Tract 8524, patch 8,4 failed\n",
      "Tract 8524, patch 8,5 failed\n",
      "Tract 8524, patch 8,6 failed\n",
      "Tract 8524, patch 8,7 failed\n",
      "Tract 8524, patch 8,8 failed\n",
      "Tract 8525, patch 1,6 failed\n",
      "Tract 8525, patch 1,7 failed\n",
      "Tract 8525, patch 1,8 failed\n",
      "Tract 8525, patch 2,4 failed\n",
      "Tract 8525, patch 2,5 failed\n",
      "Tract 8525, patch 2,6 failed\n",
      "Tract 8525, patch 2,7 failed\n",
      "Tract 8525, patch 2,8 failed\n",
      "Tract 8525, patch 3,4 failed\n",
      "Tract 8525, patch 3,5 failed\n",
      "Tract 8525, patch 3,6 failed\n",
      "Tract 8525, patch 3,7 failed\n",
      "Tract 8525, patch 3,8 failed\n",
      "Tract 8525, patch 4,4 failed\n",
      "Tract 8525, patch 4,5 failed\n",
      "Tract 8525, patch 4,6 failed\n",
      "Tract 8525, patch 4,7 failed\n",
      "Tract 8525, patch 4,8 failed\n",
      "Tract 8525, patch 5,4 failed\n",
      "Tract 8525, patch 5,5 failed\n",
      "Tract 8525, patch 5,6 failed\n",
      "Tract 8525, patch 5,7 failed\n",
      "Tract 8525, patch 5,8 failed\n",
      "Tract 8525, patch 6,2 failed\n",
      "Tract 8525, patch 6,3 failed\n",
      "Tract 8525, patch 6,4 failed\n",
      "Tract 8525, patch 6,5 failed\n",
      "Tract 8525, patch 6,6 failed\n",
      "Tract 8525, patch 6,7 failed\n",
      "Tract 8525, patch 6,8 failed\n",
      "Tract 8525, patch 7,0 failed\n",
      "Tract 8525, patch 7,1 failed\n",
      "Tract 8525, patch 7,2 failed\n",
      "Tract 8525, patch 7,3 failed\n",
      "Tract 8525, patch 7,4 failed\n",
      "Tract 8525, patch 7,5 failed\n",
      "Tract 8525, patch 7,6 failed\n",
      "Tract 8525, patch 7,7 failed\n",
      "Tract 8525, patch 7,8 failed\n",
      "Tract 8525, patch 8,0 failed\n",
      "Tract 8525, patch 8,1 failed\n",
      "Tract 8525, patch 8,2 failed\n",
      "Tract 8525, patch 8,3 failed\n",
      "Tract 8525, patch 8,4 failed\n",
      "Tract 8525, patch 8,5 failed\n",
      "Tract 8525, patch 8,6 failed\n",
      "Tract 8525, patch 8,7 failed\n",
      "Tract 8525, patch 8,8 failed\n",
      "Tract 8765, patch 0,0 failed\n",
      "Tract 8765, patch 0,1 failed\n",
      "Tract 8765, patch 0,2 failed\n",
      "Tract 8765, patch 0,3 failed\n",
      "Tract 8765, patch 0,4 failed\n",
      "Tract 8765, patch 0,5 failed\n",
      "Tract 8765, patch 0,6 failed\n",
      "Tract 8765, patch 1,0 failed\n",
      "Tract 8765, patch 1,1 failed\n",
      "Tract 8765, patch 1,2 failed\n",
      "Tract 8765, patch 1,3 failed\n",
      "Tract 8765, patch 1,4 failed\n",
      "Tract 8765, patch 1,5 failed\n",
      "Tract 8765, patch 1,6 failed\n",
      "Tract 8765, patch 2,0 failed\n",
      "Tract 8765, patch 2,1 failed\n",
      "Tract 8765, patch 2,2 failed\n",
      "Tract 8765, patch 2,3 failed\n",
      "Tract 8765, patch 2,4 failed\n",
      "Tract 8765, patch 3,0 failed\n",
      "Tract 8765, patch 3,1 failed\n",
      "Tract 8765, patch 3,2 failed\n",
      "Tract 8765, patch 3,3 failed\n",
      "Tract 8765, patch 4,0 failed\n",
      "Tract 8765, patch 4,1 failed\n",
      "Tract 8765, patch 4,2 failed\n",
      "Tract 8765, patch 4,3 failed\n",
      "Tract 8765, patch 5,0 failed\n",
      "Tract 8765, patch 5,1 failed\n",
      "Tract 8765, patch 5,2 failed\n",
      "Tract 8765, patch 5,3 failed\n",
      "Tract 8765, patch 6,0 failed\n",
      "Tract 8765, patch 6,1 failed\n",
      "Tract 8765, patch 6,2 failed\n",
      "Tract 8765, patch 7,0 failed\n",
      "Tract 8765, patch 7,1 failed\n",
      "Tract 8766, patch 0,0 failed\n",
      "Tract 8766, patch 0,1 failed\n",
      "Tract 8766, patch 0,2 failed\n",
      "Tract 8766, patch 0,3 failed\n",
      "Tract 8766, patch 0,4 failed\n",
      "Tract 8766, patch 0,5 failed\n",
      "Tract 8766, patch 1,0 failed\n",
      "Tract 8766, patch 1,1 failed\n",
      "Tract 8766, patch 1,2 failed\n",
      "Tract 8766, patch 1,3 failed\n",
      "Tract 8766, patch 1,4 failed\n",
      "Tract 8766, patch 1,5 failed\n",
      "Tract 8766, patch 1,6 failed\n",
      "Tract 8766, patch 2,0 failed\n",
      "Tract 8766, patch 2,1 failed\n",
      "Tract 8766, patch 2,2 failed\n",
      "Tract 8766, patch 2,3 failed\n",
      "Tract 8766, patch 2,4 failed\n",
      "Tract 8766, patch 2,5 failed\n",
      "Tract 8766, patch 2,6 failed\n",
      "Tract 8766, patch 2,7 failed\n",
      "Tract 8766, patch 3,0 failed\n",
      "Tract 8766, patch 3,1 failed\n",
      "Tract 8766, patch 3,2 failed\n",
      "Tract 8766, patch 3,3 failed\n",
      "Tract 8766, patch 3,4 failed\n",
      "Tract 8766, patch 3,5 failed\n",
      "Tract 8766, patch 3,6 failed\n",
      "Tract 8766, patch 3,7 failed\n",
      "Tract 8766, patch 4,0 failed\n",
      "Tract 8766, patch 4,1 failed\n",
      "Tract 8766, patch 4,2 failed\n",
      "Tract 8766, patch 4,3 failed\n",
      "Tract 8766, patch 4,4 failed\n",
      "Tract 8766, patch 4,5 failed\n",
      "Tract 8766, patch 4,6 failed\n",
      "Tract 8766, patch 4,7 failed\n",
      "Tract 8766, patch 5,0 failed\n",
      "Tract 8766, patch 5,1 failed\n",
      "Tract 8766, patch 5,2 failed\n",
      "Tract 8766, patch 5,3 failed\n",
      "Tract 8766, patch 5,4 failed\n",
      "Tract 8766, patch 5,5 failed\n",
      "Tract 8766, patch 5,6 failed\n",
      "Tract 8766, patch 5,7 failed\n",
      "Tract 8766, patch 6,0 failed\n",
      "Tract 8766, patch 6,1 failed\n",
      "Tract 8766, patch 6,2 failed\n",
      "Tract 8766, patch 6,3 failed\n",
      "Tract 8766, patch 6,4 failed\n",
      "Tract 8766, patch 6,5 failed\n",
      "Tract 8766, patch 6,6 failed\n",
      "Tract 8766, patch 6,7 failed\n",
      "Tract 8766, patch 7,0 failed\n",
      "Tract 8766, patch 7,1 failed\n",
      "Tract 8766, patch 7,2 failed\n",
      "Tract 8766, patch 7,3 failed\n",
      "Tract 8766, patch 7,4 failed\n",
      "Tract 8766, patch 7,5 failed\n",
      "Tract 8766, patch 7,6 failed\n",
      "Tract 8766, patch 7,7 failed\n",
      "Tract 8766, patch 8,0 failed\n",
      "Tract 8766, patch 8,1 failed\n",
      "Tract 8766, patch 8,2 failed\n",
      "Tract 8766, patch 8,3 failed\n",
      "Tract 8766, patch 8,4 failed\n",
      "Tract 8766, patch 8,5 failed\n",
      "Tract 8766, patch 8,6 failed\n",
      "Tract 8767, patch 1,0 failed\n",
      "Tract 8767, patch 1,1 failed\n",
      "Tract 8767, patch 1,2 failed\n",
      "Tract 8767, patch 2,0 failed\n",
      "Tract 8767, patch 2,1 failed\n",
      "Tract 8767, patch 2,2 failed\n",
      "Tract 8767, patch 2,3 failed\n",
      "Tract 8767, patch 3,0 failed\n",
      "Tract 8767, patch 3,1 failed\n",
      "Tract 8767, patch 3,2 failed\n",
      "Tract 8767, patch 3,3 failed\n",
      "Tract 8767, patch 3,4 failed\n",
      "Tract 8767, patch 4,0 failed\n",
      "Tract 8767, patch 4,1 failed\n",
      "Tract 8767, patch 4,2 failed\n",
      "Tract 8767, patch 4,3 failed\n",
      "Tract 8767, patch 4,4 failed\n",
      "Tract 8767, patch 4,5 failed\n",
      "Tract 8767, patch 5,0 failed\n",
      "Tract 8767, patch 5,1 failed\n",
      "Tract 8767, patch 5,2 failed\n",
      "Tract 8767, patch 5,3 failed\n",
      "Tract 8767, patch 5,4 failed\n",
      "Tract 8767, patch 5,5 failed\n",
      "Tract 8767, patch 6,0 failed\n",
      "Tract 8767, patch 6,1 failed\n",
      "Tract 8767, patch 6,2 failed\n",
      "Tract 8767, patch 6,3 failed\n",
      "Tract 8767, patch 6,4 failed\n",
      "Tract 8767, patch 6,5 failed\n",
      "Tract 8767, patch 7,0 failed\n",
      "Tract 8767, patch 7,1 failed\n",
      "Tract 8767, patch 7,2 failed\n",
      "Tract 8767, patch 7,3 failed\n",
      "Tract 8767, patch 7,4 failed\n",
      "Tract 8767, patch 7,5 failed\n",
      "Tract 8767, patch 8,0 failed\n",
      "Tract 8767, patch 8,1 failed\n",
      "Tract 8767, patch 8,2 failed\n",
      "Tract 8767, patch 8,3 failed\n",
      "Tract 8767, patch 8,4 failed\n",
      "Tract 8767, patch 8,5 failed\n"
     ]
    }
   ],
   "source": [
    "name_base = DATA+'/full_cat_{}_{}_tab{}.fits'\n",
    "reduced_cat = Table()\n",
    "p_n=0\n",
    "for tract in full_patch_dict:\n",
    "    for patch in full_patch_dict[tract]:\n",
    "        #print(type(tract), type(patch))\n",
    "        #skip if file exists\n",
    "        if os.path.exists(DATA+'/reduced_cat_{}_{}.fits'.format(tract,patch)):\n",
    "            print('Tract {}, patch {} already done'.format(tract, patch))\n",
    "            #continue\n",
    "        try:\n",
    "            cat = makeCat(tract, patch, BUTLER_LOC)\n",
    "            #These commented lines will print the catalogue in 1000 column chunks keeping id\n",
    "            #bounds = np.append(np.arange(0,len(cat.colnames),998),len(cat.colnames))\n",
    "            #for n in np.arange(len(bounds)-1):\n",
    "            #    #Write tables in 1000 columns blocks\n",
    "            #    #print(bounds[n], bounds[n+1])\n",
    "            #    sub_cols=list(set(cat.colnames[bounds[n]:bounds[n+1]]).intersection(set(['id'])) )\n",
    "            #    cat[cat.colnames[bounds[n]:bounds[n+1]]].write(name_base.format(\n",
    "            #        tract,patch,n\n",
    "            #    ), overwrite=True)\n",
    "              \n",
    "                \n",
    "            #mask = cat['VISTA-Ks_m_detect_isPatchInner'] & cat['VISTA-Ks_m_detect_isTractInner']\n",
    "            #cat = cat[mask]\n",
    "            #get the set of reduced column names that are available (maybe not all bands)\n",
    "            intersect_red_cols =list(set(reduced_cols).intersection(set(cat.colnames)) )\n",
    "            cat = cat[sorted(intersect_red_cols, reverse=True)]\n",
    "            #We need to remove the meta data to allow the reduced cat to be opened by astropy fits\n",
    "            #TODO write a function to clear only the removed columns or remove each col independently.\n",
    "            cat.meta = None\n",
    "            cat.write(\n",
    "                DATA+'/reduced_cat_{}_{}.fits'.format(tract,patch), overwrite=True\n",
    "            )\n",
    "       \n",
    "            p_n+=1\n",
    "            #Try to fix memory issues:\n",
    "            del cat\n",
    "            gc.collect()\n",
    "            time.sleep(1)\n",
    "        except:\n",
    "            print('Tract {}, patch {} failed'.format(tract, patch))\n",
    "            pass #\n",
    "        "
   ]
  },
  {
   "cell_type": "code",
   "execution_count": 23,
   "metadata": {},
   "outputs": [
    {
     "data": {
      "text/plain": [
       "9"
      ]
     },
     "execution_count": 23,
     "metadata": {},
     "output_type": "execute_result"
    }
   ],
   "source": [
    "p_n"
   ]
  },
  {
   "cell_type": "code",
   "execution_count": 22,
   "metadata": {},
   "outputs": [
    {
     "name": "stdout",
     "output_type": "stream",
     "text": [
      "DEBUG:  /Volumes/Raph500/lsst-ir-fusion/dmu4/dmu4_Example/data/rerun/coaddPhot/deepCoadd-results/HSC-G/8524/3,3/meas-HSC-G-8524-3,3.fits\n",
      "DEBUG:  /Volumes/Raph500/lsst-ir-fusion/dmu4/dmu4_Example/data/rerun/coaddForcedPhot/deepCoadd-results/HSC-G/8524/3,3/forcedSrc-HSC-G-8524-3,3.fits\n",
      "DEBUG:  /Volumes/Raph500/lsst-ir-fusion/dmu4/dmu4_Example/data/rerun/coaddPhot/deepCoadd-results/HSC-R/8524/3,3/meas-HSC-R-8524-3,3.fits\n",
      "DEBUG:  /Volumes/Raph500/lsst-ir-fusion/dmu4/dmu4_Example/data/rerun/coaddForcedPhot/deepCoadd-results/HSC-R/8524/3,3/forcedSrc-HSC-R-8524-3,3.fits\n",
      "DEBUG:  /Volumes/Raph500/lsst-ir-fusion/dmu4/dmu4_Example/data/rerun/coaddPhot/deepCoadd-results/HSC-I/8524/3,3/meas-HSC-I-8524-3,3.fits\n",
      "DEBUG:  /Volumes/Raph500/lsst-ir-fusion/dmu4/dmu4_Example/data/rerun/coaddForcedPhot/deepCoadd-results/HSC-I/8524/3,3/forcedSrc-HSC-I-8524-3,3.fits\n",
      "DEBUG:  /Volumes/Raph500/lsst-ir-fusion/dmu4/dmu4_Example/data/rerun/coaddPhot/deepCoadd-results/HSC-Z/8524/3,3/meas-HSC-Z-8524-3,3.fits\n",
      "DEBUG:  /Volumes/Raph500/lsst-ir-fusion/dmu4/dmu4_Example/data/rerun/coaddForcedPhot/deepCoadd-results/HSC-Z/8524/3,3/forcedSrc-HSC-Z-8524-3,3.fits\n",
      "DEBUG:  /Volumes/Raph500/lsst-ir-fusion/dmu4/dmu4_Example/data/rerun/coaddPhot/deepCoadd-results/HSC-Y/8524/3,3/meas-HSC-Y-8524-3,3.fits\n",
      "DEBUG:  /Volumes/Raph500/lsst-ir-fusion/dmu4/dmu4_Example/data/rerun/coaddForcedPhot/deepCoadd-results/HSC-Y/8524/3,3/forcedSrc-HSC-Y-8524-3,3.fits\n",
      "DEBUG:  /Volumes/Raph500/lsst-ir-fusion/dmu4/dmu4_Example/data/rerun/coaddPhot/deepCoadd-results/VISTA-Z/8524/3,3/meas-VISTA-Z-8524-3,3.fits\n",
      "DEBUG:  /Volumes/Raph500/lsst-ir-fusion/dmu4/dmu4_Example/data/rerun/coaddPhot/deepCoadd-results/VISTA-Y/8524/3,3/meas-VISTA-Y-8524-3,3.fits\n",
      "DEBUG:  /Volumes/Raph500/lsst-ir-fusion/dmu4/dmu4_Example/data/rerun/coaddForcedPhot/deepCoadd-results/VISTA-Y/8524/3,3/forcedSrc-VISTA-Y-8524-3,3.fits\n",
      "DEBUG:  /Volumes/Raph500/lsst-ir-fusion/dmu4/dmu4_Example/data/rerun/coaddPhot/deepCoadd-results/VISTA-J/8524/3,3/meas-VISTA-J-8524-3,3.fits\n",
      "DEBUG:  /Volumes/Raph500/lsst-ir-fusion/dmu4/dmu4_Example/data/rerun/coaddForcedPhot/deepCoadd-results/VISTA-J/8524/3,3/forcedSrc-VISTA-J-8524-3,3.fits\n",
      "DEBUG:  /Volumes/Raph500/lsst-ir-fusion/dmu4/dmu4_Example/data/rerun/coaddPhot/deepCoadd-results/VISTA-H/8524/3,3/meas-VISTA-H-8524-3,3.fits\n",
      "DEBUG:  /Volumes/Raph500/lsst-ir-fusion/dmu4/dmu4_Example/data/rerun/coaddForcedPhot/deepCoadd-results/VISTA-H/8524/3,3/forcedSrc-VISTA-H-8524-3,3.fits\n",
      "DEBUG:  /Volumes/Raph500/lsst-ir-fusion/dmu4/dmu4_Example/data/rerun/coaddPhot/deepCoadd-results/VISTA-Ks/8524/3,3/meas-VISTA-Ks-8524-3,3.fits\n",
      "DEBUG:  /Volumes/Raph500/lsst-ir-fusion/dmu4/dmu4_Example/data/rerun/coaddForcedPhot/deepCoadd-results/VISTA-Ks/8524/3,3/forcedSrc-VISTA-Ks-8524-3,3.fits\n"
     ]
    }
   ],
   "source": [
    "tract,patch = 8524,'3,3'\n",
    "cat = makeCat(tract,patch, BUTLER_LOC)\n",
    "intersect_red_cols =list(set(reduced_cols).intersection(set(cat.colnames)) )\n",
    "cat = cat[sorted(intersect_red_cols, reverse=True)]\n",
    "cat.meta = None\n",
    "cat.write(\n",
    "    DATA+'/reduced_cat_{}_{}.fits'.format(tract,patch), overwrite=True\n",
    ")"
   ]
  },
  {
   "cell_type": "code",
   "execution_count": 23,
   "metadata": {},
   "outputs": [],
   "source": [
    "test = Table.read(DATA+'/reduced_cat_{}_{}.fits'.format(tract,patch))"
   ]
  },
  {
   "cell_type": "code",
   "execution_count": 24,
   "metadata": {},
   "outputs": [
    {
     "data": {
      "text/plain": [
       "'unique ID'"
      ]
     },
     "execution_count": 24,
     "metadata": {},
     "output_type": "execute_result"
    }
   ],
   "source": [
    "test['id'].description"
   ]
  },
  {
   "cell_type": "code",
   "execution_count": 26,
   "metadata": {},
   "outputs": [
    {
     "data": {
      "text/latex": [
       "$\\mathrm{mag}$"
      ],
      "text/plain": [
       "Unit(\"mag\")"
      ]
     },
     "execution_count": 26,
     "metadata": {},
     "output_type": "execute_result"
    }
   ],
   "source": [
    "test['VISTA-Ks_m_base_CircularApertureFlux_6_0_mag'].unit"
   ]
  },
  {
   "cell_type": "code",
   "execution_count": 30,
   "metadata": {},
   "outputs": [],
   "source": [
    "#len(reduced_cat)"
   ]
  },
  {
   "cell_type": "code",
   "execution_count": 31,
   "metadata": {},
   "outputs": [],
   "source": [
    "#reduced_cat[:5]"
   ]
  },
  {
   "cell_type": "code",
   "execution_count": 32,
   "metadata": {},
   "outputs": [],
   "source": [
    "#reduced_cat.write(DATA+'/reduced_cat.fits', overwrite=True)"
   ]
  },
  {
   "cell_type": "markdown",
   "metadata": {},
   "source": [
    "## Parellel code\n",
    "\n",
    "Here we will make a single cell to be written to a script for parrellelising. The following cell depends on all the imports and defs used in the notebook. See [./slurm/make_cat.py](./slurm/make_cat.py) for the final code"
   ]
  },
  {
   "cell_type": "code",
   "execution_count": 50,
   "metadata": {},
   "outputs": [
    {
     "name": "stdout",
     "output_type": "stream",
     "text": [
      "DEBUG:  /Volumes/Raph500/lsst-ir-fusion/dmu4/dmu4_Example/data/rerun/coaddPhot/deepCoadd-results/HSC-G/8524/3,3/meas-HSC-G-8524-3,3.fits\n",
      "DEBUG:  /Volumes/Raph500/lsst-ir-fusion/dmu4/dmu4_Example/data/rerun/coaddForcedPhot/deepCoadd-results/HSC-G/8524/3,3/forcedSrc-HSC-G-8524-3,3.fits\n",
      "DEBUG:  /Volumes/Raph500/lsst-ir-fusion/dmu4/dmu4_Example/data/rerun/coaddPhot/deepCoadd-results/HSC-R/8524/3,3/meas-HSC-R-8524-3,3.fits\n",
      "DEBUG:  /Volumes/Raph500/lsst-ir-fusion/dmu4/dmu4_Example/data/rerun/coaddForcedPhot/deepCoadd-results/HSC-R/8524/3,3/forcedSrc-HSC-R-8524-3,3.fits\n",
      "DEBUG:  /Volumes/Raph500/lsst-ir-fusion/dmu4/dmu4_Example/data/rerun/coaddPhot/deepCoadd-results/HSC-I/8524/3,3/meas-HSC-I-8524-3,3.fits\n",
      "DEBUG:  /Volumes/Raph500/lsst-ir-fusion/dmu4/dmu4_Example/data/rerun/coaddForcedPhot/deepCoadd-results/HSC-I/8524/3,3/forcedSrc-HSC-I-8524-3,3.fits\n",
      "DEBUG:  /Volumes/Raph500/lsst-ir-fusion/dmu4/dmu4_Example/data/rerun/coaddPhot/deepCoadd-results/HSC-Z/8524/3,3/meas-HSC-Z-8524-3,3.fits\n",
      "DEBUG:  /Volumes/Raph500/lsst-ir-fusion/dmu4/dmu4_Example/data/rerun/coaddForcedPhot/deepCoadd-results/HSC-Z/8524/3,3/forcedSrc-HSC-Z-8524-3,3.fits\n",
      "DEBUG:  /Volumes/Raph500/lsst-ir-fusion/dmu4/dmu4_Example/data/rerun/coaddPhot/deepCoadd-results/HSC-Y/8524/3,3/meas-HSC-Y-8524-3,3.fits\n",
      "DEBUG:  /Volumes/Raph500/lsst-ir-fusion/dmu4/dmu4_Example/data/rerun/coaddForcedPhot/deepCoadd-results/HSC-Y/8524/3,3/forcedSrc-HSC-Y-8524-3,3.fits\n",
      "DEBUG:  /Volumes/Raph500/lsst-ir-fusion/dmu4/dmu4_Example/data/rerun/coaddPhot/deepCoadd-results/VISTA-Z/8524/3,3/meas-VISTA-Z-8524-3,3.fits\n",
      "DEBUG:  /Volumes/Raph500/lsst-ir-fusion/dmu4/dmu4_Example/data/rerun/coaddPhot/deepCoadd-results/VISTA-Y/8524/3,3/meas-VISTA-Y-8524-3,3.fits\n",
      "DEBUG:  /Volumes/Raph500/lsst-ir-fusion/dmu4/dmu4_Example/data/rerun/coaddForcedPhot/deepCoadd-results/VISTA-Y/8524/3,3/forcedSrc-VISTA-Y-8524-3,3.fits\n",
      "DEBUG:  /Volumes/Raph500/lsst-ir-fusion/dmu4/dmu4_Example/data/rerun/coaddPhot/deepCoadd-results/VISTA-J/8524/3,3/meas-VISTA-J-8524-3,3.fits\n",
      "DEBUG:  /Volumes/Raph500/lsst-ir-fusion/dmu4/dmu4_Example/data/rerun/coaddForcedPhot/deepCoadd-results/VISTA-J/8524/3,3/forcedSrc-VISTA-J-8524-3,3.fits\n",
      "DEBUG:  /Volumes/Raph500/lsst-ir-fusion/dmu4/dmu4_Example/data/rerun/coaddPhot/deepCoadd-results/VISTA-H/8524/3,3/meas-VISTA-H-8524-3,3.fits\n",
      "DEBUG:  /Volumes/Raph500/lsst-ir-fusion/dmu4/dmu4_Example/data/rerun/coaddForcedPhot/deepCoadd-results/VISTA-H/8524/3,3/forcedSrc-VISTA-H-8524-3,3.fits\n",
      "DEBUG:  /Volumes/Raph500/lsst-ir-fusion/dmu4/dmu4_Example/data/rerun/coaddPhot/deepCoadd-results/VISTA-Ks/8524/3,3/meas-VISTA-Ks-8524-3,3.fits\n",
      "DEBUG:  /Volumes/Raph500/lsst-ir-fusion/dmu4/dmu4_Example/data/rerun/coaddForcedPhot/deepCoadd-results/VISTA-Ks/8524/3,3/forcedSrc-VISTA-Ks-8524-3,3.fits\n"
     ]
    }
   ],
   "source": [
    "job_id = 34\n",
    "\n",
    "job_dict=json.loads(open('../../dmu4/dmu4_SXDS/slurm/patch_job_dict.json', 'r').read())\n",
    "\n",
    "tract = job_dict[str(job_id)][0]\n",
    "patch = job_dict[str(job_id)][1]\n",
    "\n",
    "cat = makeCat(tract, patch, BUTLER_LOC)\n",
    "\n",
    "intersect_red_cols =list(set(reduced_cols).intersection(set(cat.colnames)) )\n",
    "        \n",
    "cat[sorted(intersect_red_cols, reverse=True)].write(\n",
    "    DATA+'/reduced_cat_{}_{}.fits'.format(tract,patch), overwrite=True\n",
    ")\n",
    "\n"
   ]
  },
  {
   "cell_type": "markdown",
   "metadata": {},
   "source": [
    "## Create full cat\n",
    "\n",
    "We then need to loop over all the reduced catalogues to build the final full catalogue."
   ]
  },
  {
   "cell_type": "code",
   "execution_count": 28,
   "metadata": {},
   "outputs": [],
   "source": [
    "import glob\n",
    "red_cats = glob.glob(DATA+'/reduced*.fits')"
   ]
  },
  {
   "cell_type": "code",
   "execution_count": 29,
   "metadata": {},
   "outputs": [
    {
     "data": {
      "text/plain": [
       "['/Volumes/Raph500/lsst-ir-fusion/dmu5/dmu5_Example/data/reduced_cat_8524_3,3.fits',\n",
       " '/Volumes/Raph500/lsst-ir-fusion/dmu5/dmu5_Example/data/reduced_cat_8524_3,4.fits',\n",
       " '/Volumes/Raph500/lsst-ir-fusion/dmu5/dmu5_Example/data/reduced_cat_8524_3,5.fits',\n",
       " '/Volumes/Raph500/lsst-ir-fusion/dmu5/dmu5_Example/data/reduced_cat_8524_4,3.fits',\n",
       " '/Volumes/Raph500/lsst-ir-fusion/dmu5/dmu5_Example/data/reduced_cat_8524_4,4.fits',\n",
       " '/Volumes/Raph500/lsst-ir-fusion/dmu5/dmu5_Example/data/reduced_cat_8524_4,5.fits',\n",
       " '/Volumes/Raph500/lsst-ir-fusion/dmu5/dmu5_Example/data/reduced_cat_8524_5,3.fits',\n",
       " '/Volumes/Raph500/lsst-ir-fusion/dmu5/dmu5_Example/data/reduced_cat_8524_5,4.fits',\n",
       " '/Volumes/Raph500/lsst-ir-fusion/dmu5/dmu5_Example/data/reduced_cat_8524_5,5.fits']"
      ]
     },
     "execution_count": 29,
     "metadata": {},
     "output_type": "execute_result"
    }
   ],
   "source": [
    "red_cats"
   ]
  },
  {
   "cell_type": "code",
   "execution_count": 37,
   "metadata": {},
   "outputs": [],
   "source": [
    "r = red_cats[0]\n",
    "t= Table.read(r)\n",
    "mask = t['VISTA-Ks_m_detect_isPatchInner'] & t['VISTA-Ks_m_detect_isTractInner']"
   ]
  },
  {
   "cell_type": "code",
   "execution_count": 34,
   "metadata": {},
   "outputs": [
    {
     "data": {
      "text/html": [
       "<i>Table length=35752</i>\n",
       "<table id=\"table5224474128\" class=\"table-striped table-bordered table-condensed\">\n",
       "<thead><tr><th>id</th><th>VISTA-Y_m_base_PsfFlux_apCorr</th><th>VISTA-Y_m_base_CircularApertureFlux_9_0_magErr</th><th>VISTA-Y_m_base_CircularApertureFlux_9_0_mag</th><th>VISTA-Y_m_base_CircularApertureFlux_9_0_flag</th><th>VISTA-Y_m_base_CircularApertureFlux_6_0_magErr</th><th>VISTA-Y_m_base_CircularApertureFlux_6_0_mag</th><th>VISTA-Y_m_base_CircularApertureFlux_6_0_flag</th><th>VISTA-Y_m_base_CircularApertureFlux_17_0_magErr</th><th>VISTA-Y_m_base_CircularApertureFlux_17_0_mag</th><th>VISTA-Y_m_base_CircularApertureFlux_17_0_flag</th><th>VISTA-Y_m_base_CircularApertureFlux_12_0_magErr</th><th>VISTA-Y_m_base_CircularApertureFlux_12_0_mag</th><th>VISTA-Y_m_base_CircularApertureFlux_12_0_flag</th><th>VISTA-Ks_m_coord_ra</th><th>VISTA-Ks_m_coord_dec</th><th>VISTA-Ks_m_base_PsfFlux_apCorr</th><th>VISTA-Ks_m_base_CircularApertureFlux_9_0_magErr</th><th>VISTA-Ks_m_base_CircularApertureFlux_9_0_mag</th><th>VISTA-Ks_m_base_CircularApertureFlux_9_0_flag</th><th>VISTA-Ks_m_base_CircularApertureFlux_6_0_magErr</th><th>VISTA-Ks_m_base_CircularApertureFlux_6_0_mag</th><th>VISTA-Ks_m_base_CircularApertureFlux_6_0_flag</th><th>VISTA-Ks_m_base_CircularApertureFlux_17_0_magErr</th><th>VISTA-Ks_m_base_CircularApertureFlux_17_0_mag</th><th>VISTA-Ks_m_base_CircularApertureFlux_17_0_flag</th><th>VISTA-Ks_m_base_CircularApertureFlux_12_0_magErr</th><th>VISTA-Ks_m_base_CircularApertureFlux_12_0_mag</th><th>VISTA-Ks_m_base_CircularApertureFlux_12_0_flag</th><th>VISTA-J_m_base_PsfFlux_apCorr</th><th>VISTA-J_m_base_CircularApertureFlux_9_0_magErr</th><th>VISTA-J_m_base_CircularApertureFlux_9_0_mag</th><th>VISTA-J_m_base_CircularApertureFlux_9_0_flag</th><th>VISTA-J_m_base_CircularApertureFlux_6_0_magErr</th><th>VISTA-J_m_base_CircularApertureFlux_6_0_mag</th><th>VISTA-J_m_base_CircularApertureFlux_6_0_flag</th><th>VISTA-J_m_base_CircularApertureFlux_17_0_magErr</th><th>VISTA-J_m_base_CircularApertureFlux_17_0_mag</th><th>VISTA-J_m_base_CircularApertureFlux_17_0_flag</th><th>VISTA-J_m_base_CircularApertureFlux_12_0_magErr</th><th>VISTA-J_m_base_CircularApertureFlux_12_0_mag</th><th>VISTA-J_m_base_CircularApertureFlux_12_0_flag</th><th>VISTA-H_m_base_PsfFlux_apCorr</th><th>VISTA-H_m_base_CircularApertureFlux_9_0_magErr</th><th>VISTA-H_m_base_CircularApertureFlux_9_0_mag</th><th>VISTA-H_m_base_CircularApertureFlux_9_0_flag</th><th>VISTA-H_m_base_CircularApertureFlux_6_0_magErr</th><th>VISTA-H_m_base_CircularApertureFlux_6_0_mag</th><th>VISTA-H_m_base_CircularApertureFlux_6_0_flag</th><th>VISTA-H_m_base_CircularApertureFlux_17_0_magErr</th><th>VISTA-H_m_base_CircularApertureFlux_17_0_mag</th><th>VISTA-H_m_base_CircularApertureFlux_17_0_flag</th><th>VISTA-H_m_base_CircularApertureFlux_12_0_magErr</th><th>VISTA-H_m_base_CircularApertureFlux_12_0_mag</th><th>VISTA-H_m_base_CircularApertureFlux_12_0_flag</th><th>HSC-Z_m_base_PsfFlux_apCorr</th><th>HSC-Z_m_base_CircularApertureFlux_9_0_magErr</th><th>HSC-Z_m_base_CircularApertureFlux_9_0_mag</th><th>HSC-Z_m_base_CircularApertureFlux_9_0_flag</th><th>HSC-Z_m_base_CircularApertureFlux_6_0_magErr</th><th>HSC-Z_m_base_CircularApertureFlux_6_0_mag</th><th>HSC-Z_m_base_CircularApertureFlux_6_0_flag</th><th>HSC-Z_m_base_CircularApertureFlux_17_0_magErr</th><th>HSC-Z_m_base_CircularApertureFlux_17_0_mag</th><th>HSC-Z_m_base_CircularApertureFlux_17_0_flag</th><th>HSC-Z_m_base_CircularApertureFlux_12_0_magErr</th><th>HSC-Z_m_base_CircularApertureFlux_12_0_mag</th><th>HSC-Z_m_base_CircularApertureFlux_12_0_flag</th><th>HSC-Y_m_base_PsfFlux_apCorr</th><th>HSC-Y_m_base_CircularApertureFlux_9_0_magErr</th><th>HSC-Y_m_base_CircularApertureFlux_9_0_mag</th><th>HSC-Y_m_base_CircularApertureFlux_9_0_flag</th><th>HSC-Y_m_base_CircularApertureFlux_6_0_magErr</th><th>HSC-Y_m_base_CircularApertureFlux_6_0_mag</th><th>HSC-Y_m_base_CircularApertureFlux_6_0_flag</th><th>HSC-Y_m_base_CircularApertureFlux_17_0_magErr</th><th>HSC-Y_m_base_CircularApertureFlux_17_0_mag</th><th>HSC-Y_m_base_CircularApertureFlux_17_0_flag</th><th>HSC-Y_m_base_CircularApertureFlux_12_0_magErr</th><th>HSC-Y_m_base_CircularApertureFlux_12_0_mag</th><th>HSC-Y_m_base_CircularApertureFlux_12_0_flag</th><th>HSC-R_m_base_PsfFlux_apCorr</th><th>HSC-R_m_base_CircularApertureFlux_9_0_magErr</th><th>HSC-R_m_base_CircularApertureFlux_9_0_mag</th><th>HSC-R_m_base_CircularApertureFlux_9_0_flag</th><th>HSC-R_m_base_CircularApertureFlux_6_0_magErr</th><th>HSC-R_m_base_CircularApertureFlux_6_0_mag</th><th>HSC-R_m_base_CircularApertureFlux_6_0_flag</th><th>HSC-R_m_base_CircularApertureFlux_17_0_magErr</th><th>HSC-R_m_base_CircularApertureFlux_17_0_mag</th><th>HSC-R_m_base_CircularApertureFlux_17_0_flag</th><th>HSC-R_m_base_CircularApertureFlux_12_0_magErr</th><th>HSC-R_m_base_CircularApertureFlux_12_0_mag</th><th>HSC-R_m_base_CircularApertureFlux_12_0_flag</th><th>HSC-I_m_base_PsfFlux_apCorr</th><th>HSC-I_m_base_CircularApertureFlux_9_0_magErr</th><th>HSC-I_m_base_CircularApertureFlux_9_0_mag</th><th>HSC-I_m_base_CircularApertureFlux_9_0_flag</th><th>HSC-I_m_base_CircularApertureFlux_6_0_magErr</th><th>HSC-I_m_base_CircularApertureFlux_6_0_mag</th><th>HSC-I_m_base_CircularApertureFlux_6_0_flag</th><th>HSC-I_m_base_CircularApertureFlux_17_0_magErr</th><th>HSC-I_m_base_CircularApertureFlux_17_0_mag</th><th>HSC-I_m_base_CircularApertureFlux_17_0_flag</th><th>HSC-I_m_base_CircularApertureFlux_12_0_magErr</th><th>HSC-I_m_base_CircularApertureFlux_12_0_mag</th><th>HSC-I_m_base_CircularApertureFlux_12_0_flag</th><th>HSC-G_m_base_PsfFlux_apCorr</th><th>HSC-G_m_base_CircularApertureFlux_9_0_magErr</th><th>HSC-G_m_base_CircularApertureFlux_9_0_mag</th><th>HSC-G_m_base_CircularApertureFlux_9_0_flag</th><th>HSC-G_m_base_CircularApertureFlux_6_0_magErr</th><th>HSC-G_m_base_CircularApertureFlux_6_0_mag</th><th>HSC-G_m_base_CircularApertureFlux_6_0_flag</th><th>HSC-G_m_base_CircularApertureFlux_17_0_magErr</th><th>HSC-G_m_base_CircularApertureFlux_17_0_mag</th><th>HSC-G_m_base_CircularApertureFlux_17_0_flag</th><th>HSC-G_m_base_CircularApertureFlux_12_0_magErr</th><th>HSC-G_m_base_CircularApertureFlux_12_0_mag</th><th>HSC-G_m_base_CircularApertureFlux_12_0_flag</th></tr></thead>\n",
       "<thead><tr><th></th><th></th><th>mag</th><th>mag</th><th></th><th>mag</th><th>mag</th><th></th><th>mag</th><th>mag</th><th></th><th>mag</th><th>mag</th><th></th><th>rad</th><th>rad</th><th></th><th>mag</th><th>mag</th><th></th><th>mag</th><th>mag</th><th></th><th>mag</th><th>mag</th><th></th><th>mag</th><th>mag</th><th></th><th></th><th>mag</th><th>mag</th><th></th><th>mag</th><th>mag</th><th></th><th>mag</th><th>mag</th><th></th><th>mag</th><th>mag</th><th></th><th></th><th>mag</th><th>mag</th><th></th><th>mag</th><th>mag</th><th></th><th>mag</th><th>mag</th><th></th><th>mag</th><th>mag</th><th></th><th></th><th>mag</th><th>mag</th><th></th><th>mag</th><th>mag</th><th></th><th>mag</th><th>mag</th><th></th><th>mag</th><th>mag</th><th></th><th></th><th>mag</th><th>mag</th><th></th><th>mag</th><th>mag</th><th></th><th>mag</th><th>mag</th><th></th><th>mag</th><th>mag</th><th></th><th></th><th>mag</th><th>mag</th><th></th><th>mag</th><th>mag</th><th></th><th>mag</th><th>mag</th><th></th><th>mag</th><th>mag</th><th></th><th></th><th>mag</th><th>mag</th><th></th><th>mag</th><th>mag</th><th></th><th>mag</th><th>mag</th><th></th><th>mag</th><th>mag</th><th></th><th></th><th>mag</th><th>mag</th><th></th><th>mag</th><th>mag</th><th></th><th>mag</th><th>mag</th><th></th><th>mag</th><th>mag</th><th></th></tr></thead>\n",
       "<thead><tr><th>int64</th><th>float64</th><th>float64</th><th>float64</th><th>bool</th><th>float64</th><th>float64</th><th>bool</th><th>float64</th><th>float64</th><th>bool</th><th>float64</th><th>float64</th><th>bool</th><th>float64</th><th>float64</th><th>float64</th><th>float64</th><th>float64</th><th>bool</th><th>float64</th><th>float64</th><th>bool</th><th>float64</th><th>float64</th><th>bool</th><th>float64</th><th>float64</th><th>bool</th><th>float64</th><th>float64</th><th>float64</th><th>bool</th><th>float64</th><th>float64</th><th>bool</th><th>float64</th><th>float64</th><th>bool</th><th>float64</th><th>float64</th><th>bool</th><th>float64</th><th>float64</th><th>float64</th><th>bool</th><th>float64</th><th>float64</th><th>bool</th><th>float64</th><th>float64</th><th>bool</th><th>float64</th><th>float64</th><th>bool</th><th>float64</th><th>float64</th><th>float64</th><th>bool</th><th>float64</th><th>float64</th><th>bool</th><th>float64</th><th>float64</th><th>bool</th><th>float64</th><th>float64</th><th>bool</th><th>float64</th><th>float64</th><th>float64</th><th>bool</th><th>float64</th><th>float64</th><th>bool</th><th>float64</th><th>float64</th><th>bool</th><th>float64</th><th>float64</th><th>bool</th><th>float64</th><th>float64</th><th>float64</th><th>bool</th><th>float64</th><th>float64</th><th>bool</th><th>float64</th><th>float64</th><th>bool</th><th>float64</th><th>float64</th><th>bool</th><th>float64</th><th>float64</th><th>float64</th><th>bool</th><th>float64</th><th>float64</th><th>bool</th><th>float64</th><th>float64</th><th>bool</th><th>float64</th><th>float64</th><th>bool</th><th>float64</th><th>float64</th><th>float64</th><th>bool</th><th>float64</th><th>float64</th><th>bool</th><th>float64</th><th>float64</th><th>bool</th><th>float64</th><th>float64</th><th>bool</th></tr></thead>\n",
       "<tr><td>149957494649651201</td><td>1.0085407393798242</td><td>nan</td><td>nan</td><td>True</td><td>0.16158023643274722</td><td>24.22652914724366</td><td>True</td><td>nan</td><td>nan</td><td>True</td><td>nan</td><td>nan</td><td>True</td><td>0.6279737988353425</td><td>-0.09583239499475044</td><td>1.134734239842286</td><td>nan</td><td>nan</td><td>True</td><td>0.216708737691159</td><td>23.360633299281464</td><td>True</td><td>nan</td><td>nan</td><td>True</td><td>nan</td><td>nan</td><td>True</td><td>1.017878704346073</td><td>nan</td><td>nan</td><td>True</td><td>0.30867767310935074</td><td>24.43906479694885</td><td>True</td><td>nan</td><td>nan</td><td>True</td><td>nan</td><td>nan</td><td>True</td><td>1.061084148418645</td><td>nan</td><td>nan</td><td>True</td><td>0.24333306342901664</td><td>24.285845027755656</td><td>True</td><td>nan</td><td>nan</td><td>True</td><td>nan</td><td>nan</td><td>True</td><td>nan</td><td>nan</td><td>nan</td><td>True</td><td>6.478176457541197</td><td>29.333989622941495</td><td>True</td><td>nan</td><td>nan</td><td>True</td><td>nan</td><td>nan</td><td>True</td><td>nan</td><td>nan</td><td>nan</td><td>True</td><td>11.403393361718555</td><td>28.562355137035745</td><td>True</td><td>nan</td><td>nan</td><td>True</td><td>nan</td><td>nan</td><td>True</td><td>nan</td><td>nan</td><td>nan</td><td>True</td><td>0.7302830028622888</td><td>nan</td><td>True</td><td>nan</td><td>nan</td><td>True</td><td>nan</td><td>nan</td><td>True</td><td>nan</td><td>nan</td><td>nan</td><td>True</td><td>30.918057367930817</td><td>31.23210478684863</td><td>True</td><td>nan</td><td>nan</td><td>True</td><td>nan</td><td>nan</td><td>True</td><td>nan</td><td>nan</td><td>nan</td><td>True</td><td>0.5465381684041547</td><td>28.063721730396608</td><td>True</td><td>nan</td><td>nan</td><td>True</td><td>nan</td><td>nan</td><td>True</td></tr>\n",
       "<tr><td>149957494649651202</td><td>1.008599611393352</td><td>nan</td><td>nan</td><td>True</td><td>0.5923027768114804</td><td>nan</td><td>True</td><td>nan</td><td>nan</td><td>True</td><td>nan</td><td>nan</td><td>True</td><td>0.6279623438639035</td><td>-0.09583240027792801</td><td>1.1348715371271556</td><td>nan</td><td>nan</td><td>True</td><td>0.13916924311655254</td><td>22.879705954722425</td><td>True</td><td>nan</td><td>nan</td><td>True</td><td>nan</td><td>nan</td><td>True</td><td>1.0181153772971536</td><td>nan</td><td>nan</td><td>True</td><td>0.5595830182161045</td><td>25.084306551867325</td><td>True</td><td>nan</td><td>nan</td><td>True</td><td>nan</td><td>nan</td><td>True</td><td>1.0611025897395636</td><td>nan</td><td>nan</td><td>True</td><td>2.477615343194093</td><td>26.80570972989162</td><td>True</td><td>nan</td><td>nan</td><td>True</td><td>nan</td><td>nan</td><td>True</td><td>nan</td><td>nan</td><td>nan</td><td>True</td><td>1.0446268008341435</td><td>27.370584485955618</td><td>True</td><td>nan</td><td>nan</td><td>True</td><td>nan</td><td>nan</td><td>True</td><td>nan</td><td>nan</td><td>nan</td><td>True</td><td>0.49640389047297717</td><td>25.136117349387238</td><td>True</td><td>nan</td><td>nan</td><td>True</td><td>nan</td><td>nan</td><td>True</td><td>nan</td><td>nan</td><td>nan</td><td>True</td><td>2.6400420464244028</td><td>28.816853916481634</td><td>True</td><td>nan</td><td>nan</td><td>True</td><td>nan</td><td>nan</td><td>True</td><td>nan</td><td>nan</td><td>nan</td><td>True</td><td>1.7897248153319125</td><td>nan</td><td>True</td><td>nan</td><td>nan</td><td>True</td><td>nan</td><td>nan</td><td>True</td><td>nan</td><td>nan</td><td>nan</td><td>True</td><td>0.4012072453190959</td><td>27.723775345149953</td><td>True</td><td>nan</td><td>nan</td><td>True</td><td>nan</td><td>nan</td><td>True</td></tr>\n",
       "<tr><td>149957494649651203</td><td>1.00907229535501</td><td>0.14353112234726448</td><td>23.650807695759873</td><td>True</td><td>0.210335216455027</td><td>24.51685129384399</td><td>True</td><td>0.15031710597665646</td><td>23.005051269950783</td><td>True</td><td>0.13196460338812124</td><td>23.25176865744948</td><td>True</td><td>0.627713559380191</td><td>-0.09580991749477649</td><td>1.1383265488560022</td><td>2.986515058877993</td><td>25.761648519582995</td><td>False</td><td>0.25900680367258805</td><td>23.555292050781787</td><td>False</td><td>0.46989832719323893</td><td>nan</td><td>False</td><td>0.3161377561127461</td><td>nan</td><td>False</td><td>1.0246635458574207</td><td>0.45720097445439073</td><td>24.422849179865413</td><td>False</td><td>0.5910465835404346</td><td>25.14532574050985</td><td>False</td><td>0.3858782598590364</td><td>23.53529699695686</td><td>False</td><td>17.566012178995223</td><td>28.06064438716387</td><td>False</td><td>1.0618218437074372</td><td>0.12518153078498623</td><td>nan</td><td>True</td><td>0.10165022464108808</td><td>nan</td><td>True</td><td>0.2950711377526472</td><td>nan</td><td>True</td><td>0.24094758638082</td><td>nan</td><td>True</td><td>nan</td><td>1.82778143139452</td><td>27.58716835309439</td><td>True</td><td>1.7303559239940258</td><td>nan</td><td>True</td><td>0.25641580665093067</td><td>24.762441602968586</td><td>True</td><td>0.7311750200508595</td><td>26.285464484519242</td><td>True</td><td>nan</td><td>0.3253423293705897</td><td>24.292343530706844</td><td>True</td><td>0.4113153973344628</td><td>24.992529608626594</td><td>True</td><td>0.15539858263753836</td><td>22.792892986364297</td><td>True</td><td>0.29843262634999784</td><td>23.889138553719654</td><td>True</td><td>nan</td><td>0.33696917486268796</td><td>nan</td><td>True</td><td>0.4714874994339897</td><td>nan</td><td>True</td><td>0.45419408335084366</td><td>nan</td><td>True</td><td>0.3353704924214451</td><td>nan</td><td>True</td><td>nan</td><td>4.758628013710955</td><td>nan</td><td>True</td><td>3.4452700840147905</td><td>nan</td><td>True</td><td>0.7894515616353819</td><td>25.99140136024555</td><td>True</td><td>2.134423443094823</td><td>27.459574056964513</td><td>True</td><td>nan</td><td>0.5083026829832757</td><td>27.39629251759473</td><td>False</td><td>0.6370141696918152</td><td>28.08797302017512</td><td>False</td><td>0.24694802884806438</td><td>25.906477173140544</td><td>False</td><td>0.4221784488835186</td><td>26.86688074934512</td><td>False</td></tr>\n",
       "<tr><td>149957494649651204</td><td>1.0096075698858482</td><td>0.927098183522876</td><td>25.680736878836573</td><td>True</td><td>0.7220123746145715</td><td>25.848810293749644</td><td>True</td><td>nan</td><td>nan</td><td>True</td><td>nan</td><td>nan</td><td>True</td><td>0.627696424194213</td><td>-0.09583170495218139</td><td>1.138282200514728</td><td>3.199415619865785</td><td>nan</td><td>True</td><td>0.41699377981861246</td><td>24.066536904198067</td><td>True</td><td>nan</td><td>nan</td><td>True</td><td>nan</td><td>nan</td><td>True</td><td>1.0245174477176178</td><td>0.21115171406605293</td><td>23.584323002458156</td><td>True</td><td>0.19457248727209303</td><td>23.93733040234102</td><td>True</td><td>nan</td><td>nan</td><td>True</td><td>nan</td><td>nan</td><td>True</td><td>1.06187731039834</td><td>0.17221500844613313</td><td>nan</td><td>True</td><td>0.20486708411191107</td><td>nan</td><td>True</td><td>nan</td><td>nan</td><td>True</td><td>nan</td><td>nan</td><td>True</td><td>nan</td><td>0.24942500194865738</td><td>25.43126506446641</td><td>True</td><td>0.31263767944715365</td><td>26.12276835793211</td><td>True</td><td>nan</td><td>nan</td><td>True</td><td>nan</td><td>nan</td><td>True</td><td>nan</td><td>0.7684417107400459</td><td>25.232867673472242</td><td>True</td><td>1.2120704382775727</td><td>26.173387224938445</td><td>True</td><td>nan</td><td>nan</td><td>True</td><td>nan</td><td>nan</td><td>True</td><td>nan</td><td>0.5646715553138527</td><td>nan</td><td>True</td><td>1.0322302404693473</td><td>nan</td><td>True</td><td>nan</td><td>nan</td><td>True</td><td>nan</td><td>nan</td><td>True</td><td>nan</td><td>0.3927384558742582</td><td>25.9388144675521</td><td>True</td><td>0.7302330056002503</td><td>27.058040580770847</td><td>True</td><td>nan</td><td>nan</td><td>True</td><td>nan</td><td>nan</td><td>True</td><td>nan</td><td>1.662167533505597</td><td>28.767033761911136</td><td>True</td><td>2.486089450969378</td><td>nan</td><td>True</td><td>nan</td><td>nan</td><td>True</td><td>nan</td><td>nan</td><td>True</td></tr>\n",
       "<tr><td>149957494649651205</td><td>1.0098393142791169</td><td>0.19405806027055467</td><td>23.98075430833306</td><td>True</td><td>0.23888953611343494</td><td>24.651054679508423</td><td>True</td><td>nan</td><td>nan</td><td>True</td><td>0.16341515339452586</td><td>23.484228828682117</td><td>True</td><td>0.6275319616937308</td><td>-0.09582851742364792</td><td>1.1406017720745236</td><td>0.9529716248755512</td><td>24.52241785528376</td><td>True</td><td>0.31666744388953183</td><td>23.77160627787277</td><td>True</td><td>nan</td><td>nan</td><td>True</td><td>1.0495325450189654</td><td>24.317597468152297</td><td>True</td><td>1.0294095908112724</td><td>1.158446842128574</td><td>25.43145416365872</td><td>True</td><td>0.3964606551376</td><td>24.71118623763048</td><td>True</td><td>nan</td><td>nan</td><td>True</td><td>1.5975545692869766</td><td>25.47035971235442</td><td>True</td><td>1.0626880920272235</td><td>0.45073462099314654</td><td>nan</td><td>True</td><td>1.731137019827717</td><td>26.4168625164595</td><td>True</td><td>nan</td><td>nan</td><td>True</td><td>0.514404925062042</td><td>nan</td><td>True</td><td>nan</td><td>1.2081464834921367</td><td>nan</td><td>True</td><td>0.9171260931956089</td><td>nan</td><td>True</td><td>nan</td><td>nan</td><td>True</td><td>26.92449730377645</td><td>nan</td><td>True</td><td>nan</td><td>0.38977438571537076</td><td>24.595614525708378</td><td>True</td><td>0.4416866195182405</td><td>25.17715377811856</td><td>True</td><td>nan</td><td>nan</td><td>True</td><td>0.23538446335102575</td><td>23.73832617635585</td><td>True</td><td>nan</td><td>0.421514834273044</td><td>nan</td><td>True</td><td>0.6944816716538103</td><td>nan</td><td>True</td><td>nan</td><td>nan</td><td>True</td><td>0.5168485899294231</td><td>nan</td><td>True</td><td>nan</td><td>1.7430243889806882</td><td>nan</td><td>True</td><td>1.7645669350015611</td><td>28.12067834272544</td><td>True</td><td>nan</td><td>nan</td><td>True</td><td>0.8823449326683687</td><td>nan</td><td>True</td><td>nan</td><td>0.6060424717589629</td><td>nan</td><td>True</td><td>0.7335855852934322</td><td>nan</td><td>True</td><td>nan</td><td>nan</td><td>True</td><td>0.4965748781949767</td><td>nan</td><td>True</td></tr>\n",
       "<tr><td>149957494649651206</td><td>1.0099903439295643</td><td>nan</td><td>nan</td><td>True</td><td>0.22772288219102352</td><td>24.599747165011188</td><td>True</td><td>nan</td><td>nan</td><td>True</td><td>nan</td><td>nan</td><td>True</td><td>0.6274624149869541</td><td>-0.0958326186762588</td><td>1.141606180000278</td><td>nan</td><td>nan</td><td>True</td><td>0.4777966949856617</td><td>24.21948567998284</td><td>True</td><td>nan</td><td>nan</td><td>True</td><td>nan</td><td>nan</td><td>True</td><td>1.0315132376785214</td><td>nan</td><td>nan</td><td>True</td><td>0.4007951476877984</td><td>nan</td><td>True</td><td>nan</td><td>nan</td><td>True</td><td>nan</td><td>nan</td><td>True</td><td>1.06310777923612</td><td>nan</td><td>nan</td><td>True</td><td>3.0513419409968376</td><td>27.034257632152688</td><td>True</td><td>nan</td><td>nan</td><td>True</td><td>nan</td><td>nan</td><td>True</td><td>nan</td><td>nan</td><td>nan</td><td>True</td><td>0.488017897570847</td><td>26.58799556421316</td><td>True</td><td>nan</td><td>nan</td><td>True</td><td>nan</td><td>nan</td><td>True</td><td>nan</td><td>nan</td><td>nan</td><td>True</td><td>0.4761932560223961</td><td>25.27929112807543</td><td>True</td><td>nan</td><td>nan</td><td>True</td><td>nan</td><td>nan</td><td>True</td><td>nan</td><td>nan</td><td>nan</td><td>True</td><td>0.763808652781301</td><td>nan</td><td>True</td><td>nan</td><td>nan</td><td>True</td><td>nan</td><td>nan</td><td>True</td><td>nan</td><td>nan</td><td>nan</td><td>True</td><td>1.085672335815424</td><td>27.525954308853112</td><td>True</td><td>nan</td><td>nan</td><td>True</td><td>nan</td><td>nan</td><td>True</td><td>nan</td><td>nan</td><td>nan</td><td>True</td><td>0.6380836330484151</td><td>28.298825726133835</td><td>True</td><td>nan</td><td>nan</td><td>True</td><td>nan</td><td>nan</td><td>True</td></tr>\n",
       "<tr><td>149957494649651207</td><td>1.0098648398523806</td><td>1.3091715591616628</td><td>26.053782755077705</td><td>True</td><td>0.7635819478125313</td><td>25.91360485199807</td><td>True</td><td>nan</td><td>nan</td><td>True</td><td>0.2134366644149558</td><td>23.774495618281726</td><td>True</td><td>0.6274305023194539</td><td>-0.09582693059242443</td><td>1.1420893359668653</td><td>55.05392787314995</td><td>28.927236440210432</td><td>True</td><td>0.5082961396854124</td><td>24.286032572731525</td><td>True</td><td>nan</td><td>nan</td><td>True</td><td>2.8960439522735313</td><td>25.420074546452852</td><td>True</td><td>1.0327464090450762</td><td>3.266949028945999</td><td>26.55741309837486</td><td>True</td><td>0.5215007527518202</td><td>nan</td><td>True</td><td>nan</td><td>nan</td><td>True</td><td>0.9416792055984015</td><td>24.897026337738687</td><td>True</td><td>1.0633139378258532</td><td>0.47379542825206544</td><td>nan</td><td>True</td><td>0.9872054878757879</td><td>nan</td><td>True</td><td>nan</td><td>nan</td><td>True</td><td>0.3703343781540469</td><td>nan</td><td>True</td><td>nan</td><td>0.94078065886767</td><td>26.872481042846978</td><td>True</td><td>6.3726350728753065</td><td>29.395440956529647</td><td>True</td><td>nan</td><td>nan</td><td>True</td><td>2.2874742862476496</td><td>nan</td><td>True</td><td>nan</td><td>0.3889138259696527</td><td>24.62619629879756</td><td>True</td><td>0.5457729590842423</td><td>25.439743820481926</td><td>True</td><td>nan</td><td>nan</td><td>True</td><td>0.2983520026576206</td><td>24.02849763150892</td><td>True</td><td>nan</td><td>0.8345252748985986</td><td>nan</td><td>True</td><td>1.0793260439144916</td><td>28.000190694179132</td><td>True</td><td>nan</td><td>nan</td><td>True</td><td>0.7042129849732129</td><td>nan</td><td>True</td><td>nan</td><td>6.5943658250108825</td><td>nan</td><td>True</td><td>0.9917508223954231</td><td>27.42741360073486</td><td>True</td><td>nan</td><td>nan</td><td>True</td><td>2.1181765004328406</td><td>27.49640117160603</td><td>True</td><td>nan</td><td>1.6164696252398751</td><td>nan</td><td>True</td><td>1.0698128870917079</td><td>28.881630525839377</td><td>True</td><td>nan</td><td>nan</td><td>True</td><td>1.8361843077637159</td><td>nan</td><td>True</td></tr>\n",
       "<tr><td>149957494649651208</td><td>1.0297179324653598</td><td>nan</td><td>nan</td><td>True</td><td>0.45176857082298433</td><td>nan</td><td>True</td><td>nan</td><td>nan</td><td>True</td><td>nan</td><td>nan</td><td>True</td><td>0.627405139849761</td><td>-0.09583264217755495</td><td>1.1611615673229125</td><td>nan</td><td>nan</td><td>True</td><td>0.14848262553627378</td><td>23.070635895250003</td><td>True</td><td>nan</td><td>nan</td><td>True</td><td>nan</td><td>nan</td><td>True</td><td>1.049717171008029</td><td>nan</td><td>nan</td><td>True</td><td>0.09344911785375144</td><td>nan</td><td>True</td><td>nan</td><td>nan</td><td>True</td><td>nan</td><td>nan</td><td>True</td><td>1.0657302603937655</td><td>nan</td><td>nan</td><td>True</td><td>1.2793257175601276</td><td>nan</td><td>True</td><td>nan</td><td>nan</td><td>True</td><td>nan</td><td>nan</td><td>True</td><td>nan</td><td>nan</td><td>nan</td><td>True</td><td>0.6476396745115967</td><td>26.907588755216683</td><td>True</td><td>nan</td><td>nan</td><td>True</td><td>nan</td><td>nan</td><td>True</td><td>nan</td><td>nan</td><td>nan</td><td>True</td><td>0.7516809508105569</td><td>25.715698879458206</td><td>True</td><td>nan</td><td>nan</td><td>True</td><td>nan</td><td>nan</td><td>True</td><td>nan</td><td>nan</td><td>nan</td><td>True</td><td>0.9151270687744375</td><td>27.802814150445187</td><td>True</td><td>nan</td><td>nan</td><td>True</td><td>nan</td><td>nan</td><td>True</td><td>nan</td><td>nan</td><td>nan</td><td>True</td><td>2.7407788736155188</td><td>nan</td><td>True</td><td>nan</td><td>nan</td><td>True</td><td>nan</td><td>nan</td><td>True</td><td>nan</td><td>nan</td><td>nan</td><td>True</td><td>1.2310779629587083</td><td>nan</td><td>True</td><td>nan</td><td>nan</td><td>True</td><td>nan</td><td>nan</td><td>True</td></tr>\n",
       "<tr><td>149957494649651209</td><td>1.0651886303751252</td><td>23.029494171679488</td><td>29.26393292246674</td><td>True</td><td>0.1971939853801595</td><td>nan</td><td>True</td><td>nan</td><td>nan</td><td>True</td><td>nan</td><td>nan</td><td>True</td><td>0.6266998349951912</td><td>-0.09583209150400754</td><td>1.1823403117875297</td><td>0.2493502960716163</td><td>23.060086319513445</td><td>True</td><td>0.23867322412747266</td><td>23.457344191379658</td><td>True</td><td>nan</td><td>nan</td><td>True</td><td>nan</td><td>nan</td><td>True</td><td>1.0751703656960105</td><td>0.613571061000599</td><td>nan</td><td>True</td><td>2.1400624689174563</td><td>26.50221747641175</td><td>True</td><td>nan</td><td>nan</td><td>True</td><td>nan</td><td>nan</td><td>True</td><td>1.1118084428800263</td><td>0.22303080716104665</td><td>23.75992265390107</td><td>True</td><td>0.37583578907390613</td><td>24.773911209249178</td><td>True</td><td>nan</td><td>nan</td><td>True</td><td>nan</td><td>nan</td><td>True</td><td>nan</td><td>3.010993351352303</td><td>28.116237959038827</td><td>True</td><td>1.6363909022181724</td><td>27.900438978583804</td><td>True</td><td>nan</td><td>nan</td><td>True</td><td>nan</td><td>nan</td><td>True</td><td>nan</td><td>2.357162925085616</td><td>26.463383597489578</td><td>True</td><td>1.137881360103421</td><td>26.11799016297299</td><td>True</td><td>nan</td><td>nan</td><td>True</td><td>nan</td><td>nan</td><td>True</td><td>nan</td><td>0.8439211948025374</td><td>27.417670228184583</td><td>True</td><td>0.5735741160326293</td><td>27.443780654405224</td><td>True</td><td>nan</td><td>nan</td><td>True</td><td>nan</td><td>nan</td><td>True</td><td>nan</td><td>12.870052742268154</td><td>nan</td><td>True</td><td>5.218138625666223</td><td>nan</td><td>True</td><td>nan</td><td>nan</td><td>True</td><td>nan</td><td>nan</td><td>True</td><td>nan</td><td>0.8331203455750523</td><td>28.072357524293672</td><td>True</td><td>2.1931962669614258</td><td>29.568934285358843</td><td>True</td><td>nan</td><td>nan</td><td>True</td><td>nan</td><td>nan</td><td>True</td></tr>\n",
       "<tr><td>...</td><td>...</td><td>...</td><td>...</td><td>...</td><td>...</td><td>...</td><td>...</td><td>...</td><td>...</td><td>...</td><td>...</td><td>...</td><td>...</td><td>...</td><td>...</td><td>...</td><td>...</td><td>...</td><td>...</td><td>...</td><td>...</td><td>...</td><td>...</td><td>...</td><td>...</td><td>...</td><td>...</td><td>...</td><td>...</td><td>...</td><td>...</td><td>...</td><td>...</td><td>...</td><td>...</td><td>...</td><td>...</td><td>...</td><td>...</td><td>...</td><td>...</td><td>...</td><td>...</td><td>...</td><td>...</td><td>...</td><td>...</td><td>...</td><td>...</td><td>...</td><td>...</td><td>...</td><td>...</td><td>...</td><td>...</td><td>...</td><td>...</td><td>...</td><td>...</td><td>...</td><td>...</td><td>...</td><td>...</td><td>...</td><td>...</td><td>...</td><td>...</td><td>...</td><td>...</td><td>...</td><td>...</td><td>...</td><td>...</td><td>...</td><td>...</td><td>...</td><td>...</td><td>...</td><td>...</td><td>...</td><td>...</td><td>...</td><td>...</td><td>...</td><td>...</td><td>...</td><td>...</td><td>...</td><td>...</td><td>...</td><td>...</td><td>...</td><td>...</td><td>...</td><td>...</td><td>...</td><td>...</td><td>...</td><td>...</td><td>...</td><td>...</td><td>...</td><td>...</td><td>...</td><td>...</td><td>...</td><td>...</td><td>...</td><td>...</td><td>...</td><td>...</td><td>...</td><td>...</td><td>...</td><td>...</td><td>...</td><td>...</td><td>...</td><td>...</td></tr>\n",
       "<tr><td>149957494649699896</td><td>1.0412410588101082</td><td>0.1757365715757099</td><td>23.847495151766033</td><td>True</td><td>0.16625347779660662</td><td>24.23289221470035</td><td>True</td><td>nan</td><td>nan</td><td>True</td><td>0.182982147523327</td><td>23.582077690975943</td><td>True</td><td>0.6276492009292153</td><td>-0.09242887240240764</td><td>1.1287833240517868</td><td>1.15986938904696</td><td>24.76435101551939</td><td>True</td><td>0.3707784905688478</td><td>23.973860297868935</td><td>True</td><td>nan</td><td>nan</td><td>True</td><td>0.3786660953795075</td><td>23.239889546691472</td><td>True</td><td>1.1019726918238475</td><td>0.2630505378754604</td><td>23.90635730825646</td><td>True</td><td>0.24924755264009826</td><td>24.300263340513194</td><td>True</td><td>nan</td><td>nan</td><td>True</td><td>0.31593868583129187</td><td>23.797912242641406</td><td>True</td><td>1.089536612703036</td><td>0.5802560432362527</td><td>nan</td><td>True</td><td>0.46521785895953566</td><td>nan</td><td>True</td><td>nan</td><td>nan</td><td>True</td><td>4.060383691329832</td><td>nan</td><td>True</td><td>nan</td><td>1.948213213152693</td><td>27.685012794616597</td><td>True</td><td>2.131785758855719</td><td>28.22868255735837</td><td>True</td><td>nan</td><td>nan</td><td>True</td><td>0.5580426279167864</td><td>26.018673141963514</td><td>True</td><td>nan</td><td>0.4607619075310161</td><td>25.01881424257292</td><td>True</td><td>0.6819633444069099</td><td>25.890098947329072</td><td>True</td><td>nan</td><td>nan</td><td>True</td><td>0.4596499879830422</td><td>24.7067514379386</td><td>True</td><td>nan</td><td>1.1570913450671616</td><td>27.600455691646143</td><td>True</td><td>0.8014153640059738</td><td>27.646975494016274</td><td>True</td><td>nan</td><td>nan</td><td>True</td><td>3.610279013355383</td><td>28.526581599281645</td><td>True</td><td>nan</td><td>1.2038431628885213</td><td>27.25577955857787</td><td>True</td><td>3.4490155241080536</td><td>nan</td><td>True</td><td>nan</td><td>nan</td><td>True</td><td>3.1728303697885702</td><td>27.98891449160741</td><td>True</td><td>nan</td><td>0.5367813065430567</td><td>27.666378393955732</td><td>True</td><td>0.6489433923861706</td><td>28.326506083579126</td><td>True</td><td>nan</td><td>nan</td><td>True</td><td>0.3625306917010162</td><td>26.92575443167531</td><td>True</td></tr>\n",
       "<tr><td>149957494649699897</td><td>1.041521142600634</td><td>nan</td><td>nan</td><td>True</td><td>0.28097843084896196</td><td>24.80271134011724</td><td>True</td><td>nan</td><td>nan</td><td>True</td><td>nan</td><td>nan</td><td>True</td><td>0.6276557432710252</td><td>-0.09242561177348224</td><td>1.1289681515014636</td><td>nan</td><td>nan</td><td>True</td><td>0.48670891896434654</td><td>24.269087563530988</td><td>True</td><td>nan</td><td>nan</td><td>True</td><td>nan</td><td>nan</td><td>True</td><td>1.1021726673724639</td><td>nan</td><td>nan</td><td>True</td><td>0.8745928981960095</td><td>25.66263390459512</td><td>True</td><td>nan</td><td>nan</td><td>True</td><td>nan</td><td>nan</td><td>True</td><td>1.089424961334628</td><td>nan</td><td>nan</td><td>True</td><td>1.406047379326796</td><td>26.171308681213695</td><td>True</td><td>nan</td><td>nan</td><td>True</td><td>nan</td><td>nan</td><td>True</td><td>nan</td><td>nan</td><td>nan</td><td>True</td><td>7.501079873098666</td><td>29.596584493184977</td><td>True</td><td>nan</td><td>nan</td><td>True</td><td>nan</td><td>nan</td><td>True</td><td>nan</td><td>nan</td><td>nan</td><td>True</td><td>14.520339659216674</td><td>nan</td><td>True</td><td>nan</td><td>nan</td><td>True</td><td>nan</td><td>nan</td><td>True</td><td>nan</td><td>nan</td><td>nan</td><td>True</td><td>1.910256271694481</td><td>28.587907669200025</td><td>True</td><td>nan</td><td>nan</td><td>True</td><td>nan</td><td>nan</td><td>True</td><td>nan</td><td>nan</td><td>nan</td><td>True</td><td>1.5241424626384903</td><td>27.90212772548554</td><td>True</td><td>nan</td><td>nan</td><td>True</td><td>nan</td><td>nan</td><td>True</td><td>nan</td><td>nan</td><td>nan</td><td>True</td><td>0.990429718515719</td><td>28.73151117418976</td><td>True</td><td>nan</td><td>nan</td><td>True</td><td>nan</td><td>nan</td><td>True</td></tr>\n",
       "<tr><td>149957494649699898</td><td>0.995837714890237</td><td>0.13213549961921076</td><td>23.490036694074966</td><td>True</td><td>0.09132532723008292</td><td>23.531766769120857</td><td>True</td><td>0.1757892021768456</td><td>23.102086372175084</td><td>True</td><td>0.13783559165160508</td><td>23.225666365726894</td><td>True</td><td>0.6270062994357044</td><td>-0.09245148197263506</td><td>1.1051330468442122</td><td>0.22363777518858463</td><td>22.970302899966093</td><td>False</td><td>0.1165227313604441</td><td>22.71052836976693</td><td>False</td><td>0.5989377969928295</td><td>nan</td><td>False</td><td>2.033044985308814</td><td>25.043360849211076</td><td>False</td><td>1.0341379221487574</td><td>0.23645220472650622</td><td>23.816320094872033</td><td>False</td><td>0.21940176433097588</td><td>24.182067973635558</td><td>False</td><td>0.2710141040171472</td><td>23.26166548715426</td><td>False</td><td>0.36787716881857874</td><td>23.970931022805487</td><td>False</td><td>1.089237060980234</td><td>0.13143289002862235</td><td>23.120695365045677</td><td>False</td><td>0.13438923476729847</td><td>23.590290172677</td><td>False</td><td>0.08814733747150387</td><td>21.984984008815736</td><td>False</td><td>0.1024560228018501</td><td>22.526283936308307</td><td>False</td><td>nan</td><td>0.06703109522127278</td><td>24.015888254229875</td><td>False</td><td>0.05477759842683459</td><td>24.241890354826165</td><td>False</td><td>0.08588860599271371</td><td>23.57666348595554</td><td>False</td><td>0.07813912429965912</td><td>23.8557192918166</td><td>False</td><td>nan</td><td>0.18023709436226262</td><td>23.970807857410176</td><td>False</td><td>0.13643604548749283</td><td>24.116640753540587</td><td>False</td><td>0.21243983306221134</td><td>23.42321688314285</td><td>False</td><td>0.20949934374684462</td><td>23.798568063473645</td><td>False</td><td>nan</td><td>0.07629367735650187</td><td>24.529873330552885</td><td>False</td><td>0.07035325899459272</td><td>24.886470542670413</td><td>False</td><td>0.09259851609398621</td><td>24.035917293949566</td><td>False</td><td>0.08211874999655981</td><td>24.285247126505396</td><td>False</td><td>nan</td><td>0.07495717797911208</td><td>24.251836561048968</td><td>False</td><td>0.06400554102357948</td><td>24.52573865259152</td><td>False</td><td>0.1241296786135972</td><td>24.095688557302964</td><td>False</td><td>0.0979935641075969</td><td>24.215604106914384</td><td>False</td><td>nan</td><td>0.08134560900981501</td><td>25.62596565766535</td><td>False</td><td>0.07797366844000901</td><td>26.029474928389114</td><td>False</td><td>0.08867163198129713</td><td>25.0183893646652</td><td>False</td><td>0.08482877394436932</td><td>25.34523496833074</td><td>False</td></tr>\n",
       "<tr><td>149957494649699899</td><td>0.9946941397356172</td><td>5.298044893519034</td><td>27.495768849524097</td><td>True</td><td>100.65723683305998</td><td>31.141747333017836</td><td>True</td><td>nan</td><td>nan</td><td>True</td><td>nan</td><td>nan</td><td>True</td><td>0.627030820277004</td><td>-0.09242748294431653</td><td>1.1051478628449414</td><td>0.27279067713548827</td><td>23.18525059303074</td><td>True</td><td>0.1669649579053636</td><td>23.100164661354672</td><td>True</td><td>nan</td><td>nan</td><td>True</td><td>nan</td><td>nan</td><td>True</td><td>1.0326485054115844</td><td>0.2120755167318958</td><td>23.695550574348818</td><td>True</td><td>0.37985924526349996</td><td>24.777537174108943</td><td>True</td><td>nan</td><td>nan</td><td>True</td><td>nan</td><td>nan</td><td>True</td><td>1.088491030452764</td><td>8.087230925796126</td><td>nan</td><td>True</td><td>150.77613439858519</td><td>31.21702543737107</td><td>True</td><td>nan</td><td>nan</td><td>True</td><td>nan</td><td>nan</td><td>True</td><td>nan</td><td>2.2904328045407665</td><td>27.832445613040917</td><td>True</td><td>175.53608312664872</td><td>32.9893305186082</td><td>True</td><td>nan</td><td>nan</td><td>True</td><td>nan</td><td>nan</td><td>True</td><td>nan</td><td>3.384627220377187</td><td>27.13312646408163</td><td>True</td><td>7.003417164383998</td><td>nan</td><td>True</td><td>nan</td><td>nan</td><td>True</td><td>nan</td><td>nan</td><td>True</td><td>nan</td><td>0.7042210131371406</td><td>26.91542968851641</td><td>True</td><td>1.387679376980088</td><td>28.097349062685964</td><td>True</td><td>nan</td><td>nan</td><td>True</td><td>nan</td><td>nan</td><td>True</td><td>nan</td><td>6.032020675083916</td><td>28.988773725005213</td><td>True</td><td>1.6020838900626955</td><td>nan</td><td>True</td><td>nan</td><td>nan</td><td>True</td><td>nan</td><td>nan</td><td>True</td><td>nan</td><td>0.17464969679668607</td><td>26.457510619073545</td><td>True</td><td>0.2052118663361851</td><td>27.078208047045024</td><td>True</td><td>nan</td><td>nan</td><td>True</td><td>nan</td><td>nan</td><td>True</td></tr>\n",
       "<tr><td>149957494649699900</td><td>0.99627209594907</td><td>2.8413979306747423</td><td>26.819095286111228</td><td>True</td><td>0.31239682074723574</td><td>24.872924234423493</td><td>True</td><td>0.2870328525113547</td><td>23.633675330341568</td><td>True</td><td>0.4125807253830494</td><td>24.416068528744923</td><td>True</td><td>0.6269921102859034</td><td>-0.09244691851447451</td><td>1.1049393941565422</td><td>0.22865968312855203</td><td>22.99516494426669</td><td>False</td><td>0.176147463278654</td><td>23.158487545387764</td><td>False</td><td>2.251097138131256</td><td>nan</td><td>False</td><td>0.6550137052834232</td><td>23.81314809580848</td><td>False</td><td>1.0342753531181395</td><td>0.08533240113153256</td><td>22.709290875086868</td><td>True</td><td>0.10172021016148561</td><td>23.3428401547851</td><td>True</td><td>0.105709914216499</td><td>22.243795426395657</td><td>True</td><td>0.09652528343892791</td><td>22.532822340218264</td><td>True</td><td>1.08934279659147</td><td>0.26947544271097224</td><td>23.899827604584985</td><td>True</td><td>0.22105089407609185</td><td>24.128733061151124</td><td>True</td><td>0.1651313650204126</td><td>22.670288968267496</td><td>True</td><td>0.2076302356365541</td><td>23.306611388027648</td><td>True</td><td>nan</td><td>0.07957364845201707</td><td>24.19053080289606</td><td>True</td><td>0.0786953536578347</td><td>24.62803479487335</td><td>True</td><td>0.10174315348109741</td><td>23.754108991539088</td><td>True</td><td>0.08861275727099047</td><td>23.996060600835747</td><td>True</td><td>nan</td><td>0.11755727877466132</td><td>23.508298462326678</td><td>True</td><td>0.16033651420173745</td><td>24.29108285994447</td><td>True</td><td>0.10610977693700206</td><td>22.693581636764648</td><td>True</td><td>0.11421398448922657</td><td>23.16744035639115</td><td>True</td><td>nan</td><td>0.059979494482370534</td><td>24.276812803374757</td><td>True</td><td>0.058963864593734906</td><td>24.702419396930804</td><td>True</td><td>0.06916983819533577</td><td>23.735415799091612</td><td>True</td><td>0.06152381950769709</td><td>23.99556599944181</td><td>True</td><td>nan</td><td>0.09011091747436688</td><td>24.453791149247436</td><td>True</td><td>0.09866012328371976</td><td>24.99765217910566</td><td>True</td><td>0.13230285737314426</td><td>24.16995363960464</td><td>True</td><td>0.11101180294405726</td><td>24.370963873927515</td><td>True</td><td>nan</td><td>0.04267664572508921</td><td>24.92299888783693</td><td>True</td><td>0.0371383026762342</td><td>25.21509792854038</td><td>True</td><td>0.05447379372735233</td><td>24.491008008917863</td><td>True</td><td>0.047860119058595975</td><td>24.739022383475554</td><td>True</td></tr>\n",
       "<tr><td>149957494649699901</td><td>0.9962664356791326</td><td>0.16996314358444417</td><td>23.76077119119124</td><td>True</td><td>0.1639437502463877</td><td>24.171909287787283</td><td>True</td><td>0.23651713033866767</td><td>23.423480330665406</td><td>True</td><td>0.19179609327166708</td><td>23.5840554574412</td><td>True</td><td>0.6269891069220414</td><td>-0.09243564262471268</td><td>1.1047939817034094</td><td>0.21350403923827405</td><td>22.92032142809783</td><td>True</td><td>0.18809089153191252</td><td>23.228241707720308</td><td>True</td><td>0.8447867951822822</td><td>23.71609377967821</td><td>True</td><td>0.240334090234212</td><td>22.739036442099128</td><td>True</td><td>1.033991802799491</td><td>0.0857745481608134</td><td>22.71475217724978</td><td>True</td><td>0.1085981487683915</td><td>23.414311215276715</td><td>True</td><td>0.0774434142918269</td><td>21.90583820539984</td><td>True</td><td>0.08611460844521555</td><td>22.408789911673757</td><td>True</td><td>1.0892134404347782</td><td>0.1695778315555158</td><td>23.396840466198352</td><td>True</td><td>0.23532526189939018</td><td>24.197026690621556</td><td>True</td><td>0.23746360082935372</td><td>23.064724336205575</td><td>True</td><td>0.17809348923134155</td><td>23.14005053928588</td><td>True</td><td>nan</td><td>0.44274461735424203</td><td>26.021638939298285</td><td>True</td><td>0.6788281236564191</td><td>26.92808302244831</td><td>True</td><td>0.291911506591367</td><td>24.87870722722431</td><td>True</td><td>0.38055400002934003</td><td>25.55002711277183</td><td>True</td><td>nan</td><td>0.42989750975814367</td><td>24.908802827461972</td><td>True</td><td>0.5934878556875122</td><td>25.704856002850683</td><td>True</td><td>0.16307733797256038</td><td>23.158503752708807</td><td>True</td><td>0.256748193613026</td><td>24.03942430131041</td><td>True</td><td>nan</td><td>0.575090132785997</td><td>26.72886081719804</td><td>True</td><td>1.6176699241708297</td><td>28.29772676534685</td><td>True</td><td>0.17360873192940451</td><td>24.730478283830607</td><td>True</td><td>0.323065014223849</td><td>25.792839989009316</td><td>True</td><td>nan</td><td>0.34517788952347767</td><td>25.9090274445663</td><td>True</td><td>0.5869432656608425</td><td>26.931446072190713</td><td>True</td><td>0.2272664281946542</td><td>24.751005249416167</td><td>True</td><td>0.27381978633613824</td><td>25.347671841859615</td><td>True</td><td>nan</td><td>0.24417375805166253</td><td>26.81844466395564</td><td>True</td><td>0.3102178191042912</td><td>27.52562744991725</td><td>True</td><td>0.129876571743912</td><td>25.435265044033372</td><td>True</td><td>0.19517588854041437</td><td>26.26574201545653</td><td>True</td></tr>\n",
       "<tr><td>149957494649699902</td><td>0.9954944269778941</td><td>0.1170421568828509</td><td>23.355442654034064</td><td>True</td><td>0.12034088428696633</td><td>23.836151137377794</td><td>True</td><td>0.13979397336602623</td><td>22.85230650396913</td><td>True</td><td>0.1426126189791133</td><td>23.262166448114176</td><td>True</td><td>0.6270120111187748</td><td>-0.09243889238362403</td><td>1.1050594531520168</td><td>0.2531116421562199</td><td>23.104446589327793</td><td>True</td><td>0.21527670099681268</td><td>23.375109376971686</td><td>True</td><td>1.24682083761793</td><td>nan</td><td>True</td><td>0.435486831790615</td><td>23.384261611121183</td><td>True</td><td>1.0335035781855422</td><td>0.3119206108118666</td><td>24.11652233725747</td><td>True</td><td>0.30652240464460284</td><td>24.541322493803534</td><td>True</td><td>0.1740452304685359</td><td>22.7850128973892</td><td>True</td><td>0.22964329624044363</td><td>23.47386761543307</td><td>True</td><td>1.0889353193345335</td><td>0.150748818955365</td><td>23.267963982658884</td><td>True</td><td>0.14965485444859142</td><td>23.707865906873394</td><td>True</td><td>0.11381586845535874</td><td>22.265911176049404</td><td>True</td><td>0.14937541407433447</td><td>22.949234563817093</td><td>True</td><td>nan</td><td>0.10866894866219001</td><td>24.5164186323669</td><td>True</td><td>0.08985934839294403</td><td>24.75268721153263</td><td>True</td><td>0.11587128572719331</td><td>23.893438892073448</td><td>True</td><td>0.11615498437554553</td><td>24.28157186271763</td><td>True</td><td>nan</td><td>0.16070908874125478</td><td>23.836495915076306</td><td>True</td><td>0.18103086410460645</td><td>24.411472474556636</td><td>True</td><td>0.1661508411116508</td><td>23.175354262114368</td><td>True</td><td>0.15261482779189572</td><td>23.470817261520924</td><td>True</td><td>nan</td><td>0.07681556069718659</td><td>24.523280531398235</td><td>True</td><td>0.09120648809034901</td><td>25.154623684398235</td><td>True</td><td>0.08783411986295118</td><td>23.972570251636295</td><td>True</td><td>0.09138463917589644</td><td>24.402933925125158</td><td>True</td><td>nan</td><td>0.1132804771384666</td><td>24.690262628610114</td><td>True</td><td>0.12467257537846693</td><td>25.239770042034216</td><td>True</td><td>0.14832954980944257</td><td>24.285857562510653</td><td>True</td><td>0.11799168658784553</td><td>24.425233545312782</td><td>True</td><td>nan</td><td>0.07143011059382548</td><td>25.48593239956691</td><td>True</td><td>0.08278260146269051</td><td>26.091576157266307</td><td>True</td><td>0.07123836061574501</td><td>24.786789145372875</td><td>True</td><td>0.07682911760121103</td><td>25.256209434141144</td><td>True</td></tr>\n",
       "<tr><td>149957494649699903</td><td>0.996337475463627</td><td>nan</td><td>nan</td><td>True</td><td>0.3513657494054486</td><td>24.999402537119447</td><td>True</td><td>nan</td><td>nan</td><td>True</td><td>nan</td><td>nan</td><td>True</td><td>0.6269841956897816</td><td>-0.09242587061892328</td><td>1.1046510229538467</td><td>nan</td><td>nan</td><td>True</td><td>0.24070728082611764</td><td>23.4961430905912</td><td>True</td><td>nan</td><td>nan</td><td>True</td><td>nan</td><td>nan</td><td>True</td><td>1.0338056438171803</td><td>nan</td><td>nan</td><td>True</td><td>6.922766273710037</td><td>27.926030231659794</td><td>True</td><td>nan</td><td>nan</td><td>True</td><td>nan</td><td>nan</td><td>True</td><td>1.0891329784244201</td><td>nan</td><td>nan</td><td>True</td><td>0.43078506272161154</td><td>24.853763168116192</td><td>True</td><td>nan</td><td>nan</td><td>True</td><td>nan</td><td>nan</td><td>True</td><td>nan</td><td>nan</td><td>nan</td><td>True</td><td>20.75654539276703</td><td>nan</td><td>True</td><td>nan</td><td>nan</td><td>True</td><td>nan</td><td>nan</td><td>True</td><td>nan</td><td>nan</td><td>nan</td><td>True</td><td>16.57750203871463</td><td>29.31325480562835</td><td>True</td><td>nan</td><td>nan</td><td>True</td><td>nan</td><td>nan</td><td>True</td><td>nan</td><td>nan</td><td>nan</td><td>True</td><td>71.7331177432302</td><td>32.41296832994075</td><td>True</td><td>nan</td><td>nan</td><td>True</td><td>nan</td><td>nan</td><td>True</td><td>nan</td><td>nan</td><td>nan</td><td>True</td><td>14.750319181502247</td><td>30.426958663457093</td><td>True</td><td>nan</td><td>nan</td><td>True</td><td>nan</td><td>nan</td><td>True</td><td>nan</td><td>nan</td><td>nan</td><td>True</td><td>5.364447689803183</td><td>30.61715869436782</td><td>True</td><td>nan</td><td>nan</td><td>True</td><td>nan</td><td>nan</td><td>True</td></tr>\n",
       "<tr><td>149957494649699904</td><td>0.9957785597379821</td><td>0.18717473255781342</td><td>23.868776235431717</td><td>True</td><td>1.4451041794646389</td><td>26.5299728629144</td><td>True</td><td>nan</td><td>nan</td><td>True</td><td>0.17456894925155503</td><td>23.482066173231676</td><td>True</td><td>0.6270013743960512</td><td>-0.09242993690899007</td><td>1.104857511950455</td><td>0.5546959710609014</td><td>23.956971985977084</td><td>True</td><td>0.22720872680609436</td><td>23.43310724143287</td><td>True</td><td>nan</td><td>nan</td><td>True</td><td>0.3737343714733852</td><td>23.218388686189368</td><td>True</td><td>1.0334955820563911</td><td>0.4210753858146902</td><td>24.441273151270426</td><td>True</td><td>0.5160419267587326</td><td>25.1093392039936</td><td>True</td><td>nan</td><td>nan</td><td>True</td><td>0.26974912627002784</td><td>23.648550949881468</td><td>True</td><td>1.0889506317049331</td><td>2.281335035886166</td><td>26.219019697149115</td><td>True</td><td>1570.8874246034238</td><td>nan</td><td>True</td><td>nan</td><td>nan</td><td>True</td><td>0.8920797742802508</td><td>24.889598055460077</td><td>True</td><td>nan</td><td>0.21215584609361643</td><td>25.22689631057677</td><td>True</td><td>0.33689270226535023</td><td>26.17479890164909</td><td>True</td><td>nan</td><td>nan</td><td>True</td><td>0.1284027859381067</td><td>24.37201943182714</td><td>True</td><td>nan</td><td>0.44013636491532</td><td>24.929813800298884</td><td>True</td><td>2.081659459256151</td><td>27.062648161979336</td><td>True</td><td>nan</td><td>nan</td><td>True</td><td>0.3417433782311993</td><td>24.345594509595987</td><td>True</td><td>nan</td><td>2.37118917639434</td><td>28.254531628275092</td><td>True</td><td>80.4730611377539</td><td>32.52738509021616</td><td>True</td><td>nan</td><td>nan</td><td>True</td><td>0.5065858269838773</td><td>26.268834711844864</td><td>True</td><td>nan</td><td>2.964673232740905</td><td>28.233074109442757</td><td>True</td><td>97.41652829872875</td><td>32.47071815198949</td><td>True</td><td>nan</td><td>nan</td><td>True</td><td>2.622058234378855</td><td>27.78986512213077</td><td>True</td><td>nan</td><td>0.1370401830421672</td><td>26.19155964429787</td><td>True</td><td>0.263893034822139</td><td>27.349275279653412</td><td>True</td><td>nan</td><td>nan</td><td>True</td><td>0.12518755212850685</td><td>25.783300059782164</td><td>True</td></tr>\n",
       "<tr><td>149957494649699905</td><td>0.9951235747015214</td><td>1.4575366098054805</td><td>26.096175867871864</td><td>True</td><td>224.2669018271503</td><td>nan</td><td>True</td><td>nan</td><td>nan</td><td>True</td><td>0.4718314026135403</td><td>24.561498615902714</td><td>True</td><td>0.6270201881767139</td><td>-0.09243155914944974</td><td>1.1050715219869485</td><td>0.7919023978716775</td><td>24.344144306942145</td><td>True</td><td>0.4286166769875392</td><td>24.120442384657323</td><td>True</td><td>nan</td><td>nan</td><td>True</td><td>0.3944777385748576</td><td>23.276943331859357</td><td>True</td><td>1.0330568754187348</td><td>0.12708601885940007</td><td>23.142472109444846</td><td>True</td><td>0.15810101237172303</td><td>23.82006177111664</td><td>True</td><td>nan</td><td>nan</td><td>True</td><td>0.10513963110216674</td><td>22.625315230016913</td><td>True</td><td>1.0887057903384605</td><td>0.15939917226008699</td><td>23.330528385637418</td><td>True</td><td>0.26730724888588026</td><td>24.334553865372058</td><td>True</td><td>nan</td><td>nan</td><td>True</td><td>0.10308991829135435</td><td>22.546732229564444</td><td>True</td><td>nan</td><td>4.384106043400712</td><td>nan</td><td>True</td><td>1.2458563352244927</td><td>27.606909893728762</td><td>True</td><td>nan</td><td>nan</td><td>True</td><td>0.5315005144399593</td><td>25.92892607800755</td><td>True</td><td>nan</td><td>1.4464476776269222</td><td>26.215708522013625</td><td>True</td><td>34.0759415850117</td><td>nan</td><td>True</td><td>nan</td><td>nan</td><td>True</td><td>0.5135759118653889</td><td>24.781876267553304</td><td>True</td><td>nan</td><td>0.24803126065773587</td><td>25.788988959371192</td><td>True</td><td>0.47264195483466376</td><td>26.934923912751792</td><td>True</td><td>nan</td><td>nan</td><td>True</td><td>0.17761234679931584</td><td>25.116712621999213</td><td>True</td><td>nan</td><td>2.0433133172090576</td><td>27.82226858375965</td><td>True</td><td>0.8526882326585267</td><td>27.31899065647173</td><td>True</td><td>nan</td><td>nan</td><td>True</td><td>1.052186736269153</td><td>26.791821902538032</td><td>True</td><td>nan</td><td>0.22835114233178558</td><td>26.74904200747886</td><td>True</td><td>0.28295206417080243</td><td>27.427405350493274</td><td>True</td><td>nan</td><td>nan</td><td>True</td><td>0.16481841366128144</td><td>26.085078140671357</td><td>True</td></tr>\n",
       "</table>"
      ],
      "text/plain": [
       "<Table length=35752>\n",
       "        id         ... HSC-G_m_base_CircularApertureFlux_12_0_flag\n",
       "                   ...                                            \n",
       "      int64        ...                     bool                   \n",
       "------------------ ... -------------------------------------------\n",
       "149957494649651201 ...                                        True\n",
       "149957494649651202 ...                                        True\n",
       "149957494649651203 ...                                       False\n",
       "149957494649651204 ...                                        True\n",
       "149957494649651205 ...                                        True\n",
       "149957494649651206 ...                                        True\n",
       "149957494649651207 ...                                        True\n",
       "149957494649651208 ...                                        True\n",
       "149957494649651209 ...                                        True\n",
       "               ... ...                                         ...\n",
       "149957494649699896 ...                                        True\n",
       "149957494649699897 ...                                        True\n",
       "149957494649699898 ...                                       False\n",
       "149957494649699899 ...                                        True\n",
       "149957494649699900 ...                                        True\n",
       "149957494649699901 ...                                        True\n",
       "149957494649699902 ...                                        True\n",
       "149957494649699903 ...                                        True\n",
       "149957494649699904 ...                                        True\n",
       "149957494649699905 ...                                        True"
      ]
     },
     "execution_count": 34,
     "metadata": {},
     "output_type": "execute_result"
    }
   ],
   "source": [
    "t"
   ]
  },
  {
   "cell_type": "code",
   "execution_count": 38,
   "metadata": {},
   "outputs": [],
   "source": [
    "full_cat = Table()\n",
    "for r in red_cats:\n",
    "    try:\n",
    "        t= Table.read(r)\n",
    "        mask = t['VISTA-Ks_m_detect_isPatchInner'] & t['VISTA-Ks_m_detect_isTractInner']\n",
    "        full_cat=vstack([full_cat,t[mask]])\n",
    "    except:\n",
    "        print(r,' failed')\n",
    "full_cat.write(DATA+'/full_reduced_cat_SXDS.fits', overwrite=True)"
   ]
  },
  {
   "cell_type": "code",
   "execution_count": 28,
   "metadata": {},
   "outputs": [
    {
     "name": "stdout",
     "output_type": "stream",
     "text": [
      "a1 b1 c1\n",
      "a2 b2 c2\n"
     ]
    }
   ],
   "source": [
    "a=['a1','a2','a3']\n",
    "b=['b1','b2']\n",
    "c=['c1','c2']\n",
    "for x,y,z in zip(a,b,c):\n",
    "    print(x,y,z)"
   ]
  },
  {
   "cell_type": "code",
   "execution_count": 31,
   "metadata": {},
   "outputs": [],
   "source": [
    "import itertools"
   ]
  },
  {
   "cell_type": "code",
   "execution_count": 32,
   "metadata": {},
   "outputs": [
    {
     "name": "stdout",
     "output_type": "stream",
     "text": [
      "a1 b1 c1\n",
      "a1 b1 c2\n",
      "a1 b2 c1\n",
      "a1 b2 c2\n",
      "a2 b1 c1\n",
      "a2 b1 c2\n",
      "a2 b2 c1\n",
      "a2 b2 c2\n",
      "a3 b1 c1\n",
      "a3 b1 c2\n",
      "a3 b2 c1\n",
      "a3 b2 c2\n"
     ]
    }
   ],
   "source": [
    "for x,y,z in itertools.product(a,b,c):\n",
    "    print(x,y,z)"
   ]
  },
  {
   "cell_type": "code",
   "execution_count": 34,
   "metadata": {},
   "outputs": [
    {
     "name": "stdout",
     "output_type": "stream",
     "text": [
      "HSC-G_m_base_CircularApertureFlux_6_0_mag\n",
      "HSC-G_m_base_CircularApertureFlux_6_0_magErr\n",
      "HSC-G_m_base_CircularApertureFlux_6_0_flux\n",
      "HSC-G_m_base_CircularApertureFlux_6_0_fluxErr\n",
      "HSC-R_m_base_CircularApertureFlux_6_0_mag\n",
      "HSC-R_m_base_CircularApertureFlux_6_0_magErr\n",
      "HSC-R_m_base_CircularApertureFlux_6_0_flux\n",
      "HSC-R_m_base_CircularApertureFlux_6_0_fluxErr\n",
      "HSC-I_m_base_CircularApertureFlux_6_0_mag\n",
      "HSC-I_m_base_CircularApertureFlux_6_0_magErr\n",
      "HSC-I_m_base_CircularApertureFlux_6_0_flux\n",
      "HSC-I_m_base_CircularApertureFlux_6_0_fluxErr\n",
      "HSC-Z_m_base_CircularApertureFlux_6_0_mag\n",
      "HSC-Z_m_base_CircularApertureFlux_6_0_magErr\n",
      "HSC-Z_m_base_CircularApertureFlux_6_0_flux\n",
      "HSC-Z_m_base_CircularApertureFlux_6_0_fluxErr\n",
      "HSC-Y_m_base_CircularApertureFlux_6_0_mag\n",
      "HSC-Y_m_base_CircularApertureFlux_6_0_magErr\n",
      "HSC-Y_m_base_CircularApertureFlux_6_0_flux\n",
      "HSC-Y_m_base_CircularApertureFlux_6_0_fluxErr\n",
      "VISTA-Z_m_base_CircularApertureFlux_6_0_mag\n",
      "VISTA-Z_m_base_CircularApertureFlux_6_0_magErr\n",
      "VISTA-Z_m_base_CircularApertureFlux_6_0_flux\n",
      "VISTA-Z_m_base_CircularApertureFlux_6_0_fluxErr\n",
      "VISTA-Y_m_base_CircularApertureFlux_6_0_mag\n",
      "VISTA-Y_m_base_CircularApertureFlux_6_0_magErr\n",
      "VISTA-Y_m_base_CircularApertureFlux_6_0_flux\n",
      "VISTA-Y_m_base_CircularApertureFlux_6_0_fluxErr\n",
      "VISTA-J_m_base_CircularApertureFlux_6_0_mag\n",
      "VISTA-J_m_base_CircularApertureFlux_6_0_magErr\n",
      "VISTA-J_m_base_CircularApertureFlux_6_0_flux\n",
      "VISTA-J_m_base_CircularApertureFlux_6_0_fluxErr\n",
      "VISTA-H_m_base_CircularApertureFlux_6_0_mag\n",
      "VISTA-H_m_base_CircularApertureFlux_6_0_magErr\n",
      "VISTA-H_m_base_CircularApertureFlux_6_0_flux\n",
      "VISTA-H_m_base_CircularApertureFlux_6_0_fluxErr\n",
      "VISTA-Ks_m_base_CircularApertureFlux_6_0_mag\n",
      "VISTA-Ks_m_base_CircularApertureFlux_6_0_magErr\n",
      "VISTA-Ks_m_base_CircularApertureFlux_6_0_flux\n",
      "VISTA-Ks_m_base_CircularApertureFlux_6_0_fluxErr\n",
      "HSC-G_m_base_PsfFlux_mag\n",
      "HSC-G_m_base_PsfFlux_magErr\n",
      "HSC-G_m_base_PsfFlux_flux\n",
      "HSC-G_m_base_PsfFlux_fluxErr\n",
      "HSC-R_m_base_PsfFlux_mag\n",
      "HSC-R_m_base_PsfFlux_magErr\n",
      "HSC-R_m_base_PsfFlux_flux\n",
      "HSC-R_m_base_PsfFlux_fluxErr\n",
      "HSC-I_m_base_PsfFlux_mag\n",
      "HSC-I_m_base_PsfFlux_magErr\n",
      "HSC-I_m_base_PsfFlux_flux\n",
      "HSC-I_m_base_PsfFlux_fluxErr\n",
      "HSC-Z_m_base_PsfFlux_mag\n",
      "HSC-Z_m_base_PsfFlux_magErr\n",
      "HSC-Z_m_base_PsfFlux_flux\n",
      "HSC-Z_m_base_PsfFlux_fluxErr\n",
      "HSC-Y_m_base_PsfFlux_mag\n",
      "HSC-Y_m_base_PsfFlux_magErr\n",
      "HSC-Y_m_base_PsfFlux_flux\n",
      "HSC-Y_m_base_PsfFlux_fluxErr\n",
      "VISTA-Z_m_base_PsfFlux_mag\n",
      "VISTA-Z_m_base_PsfFlux_magErr\n",
      "VISTA-Z_m_base_PsfFlux_flux\n",
      "VISTA-Z_m_base_PsfFlux_fluxErr\n",
      "VISTA-Y_m_base_PsfFlux_mag\n",
      "VISTA-Y_m_base_PsfFlux_magErr\n",
      "VISTA-Y_m_base_PsfFlux_flux\n",
      "VISTA-Y_m_base_PsfFlux_fluxErr\n",
      "VISTA-J_m_base_PsfFlux_mag\n",
      "VISTA-J_m_base_PsfFlux_magErr\n",
      "VISTA-J_m_base_PsfFlux_flux\n",
      "VISTA-J_m_base_PsfFlux_fluxErr\n",
      "VISTA-H_m_base_PsfFlux_mag\n",
      "VISTA-H_m_base_PsfFlux_magErr\n",
      "VISTA-H_m_base_PsfFlux_flux\n",
      "VISTA-H_m_base_PsfFlux_fluxErr\n",
      "VISTA-Ks_m_base_PsfFlux_mag\n",
      "VISTA-Ks_m_base_PsfFlux_magErr\n",
      "VISTA-Ks_m_base_PsfFlux_flux\n",
      "VISTA-Ks_m_base_PsfFlux_fluxErr\n",
      "HSC-G_m_slot_ModelFlux_mag\n",
      "HSC-G_m_slot_ModelFlux_magErr\n",
      "HSC-G_m_slot_ModelFlux_flux\n",
      "HSC-G_m_slot_ModelFlux_fluxErr\n",
      "HSC-R_m_slot_ModelFlux_mag\n",
      "HSC-R_m_slot_ModelFlux_magErr\n",
      "HSC-R_m_slot_ModelFlux_flux\n",
      "HSC-R_m_slot_ModelFlux_fluxErr\n",
      "HSC-I_m_slot_ModelFlux_mag\n",
      "HSC-I_m_slot_ModelFlux_magErr\n",
      "HSC-I_m_slot_ModelFlux_flux\n",
      "HSC-I_m_slot_ModelFlux_fluxErr\n",
      "HSC-Z_m_slot_ModelFlux_mag\n",
      "HSC-Z_m_slot_ModelFlux_magErr\n",
      "HSC-Z_m_slot_ModelFlux_flux\n",
      "HSC-Z_m_slot_ModelFlux_fluxErr\n",
      "HSC-Y_m_slot_ModelFlux_mag\n",
      "HSC-Y_m_slot_ModelFlux_magErr\n",
      "HSC-Y_m_slot_ModelFlux_flux\n",
      "HSC-Y_m_slot_ModelFlux_fluxErr\n",
      "VISTA-Z_m_slot_ModelFlux_mag\n",
      "VISTA-Z_m_slot_ModelFlux_magErr\n",
      "VISTA-Z_m_slot_ModelFlux_flux\n",
      "VISTA-Z_m_slot_ModelFlux_fluxErr\n",
      "VISTA-Y_m_slot_ModelFlux_mag\n",
      "VISTA-Y_m_slot_ModelFlux_magErr\n",
      "VISTA-Y_m_slot_ModelFlux_flux\n",
      "VISTA-Y_m_slot_ModelFlux_fluxErr\n",
      "VISTA-J_m_slot_ModelFlux_mag\n",
      "VISTA-J_m_slot_ModelFlux_magErr\n",
      "VISTA-J_m_slot_ModelFlux_flux\n",
      "VISTA-J_m_slot_ModelFlux_fluxErr\n",
      "VISTA-H_m_slot_ModelFlux_mag\n",
      "VISTA-H_m_slot_ModelFlux_magErr\n",
      "VISTA-H_m_slot_ModelFlux_flux\n",
      "VISTA-H_m_slot_ModelFlux_fluxErr\n",
      "VISTA-Ks_m_slot_ModelFlux_mag\n",
      "VISTA-Ks_m_slot_ModelFlux_magErr\n",
      "VISTA-Ks_m_slot_ModelFlux_flux\n",
      "VISTA-Ks_m_slot_ModelFlux_fluxErr\n"
     ]
    }
   ],
   "source": [
    "hscBands = ['G', 'R', 'I', 'Z', 'Y']\n",
    "vistaBands = ['Z', 'Y', 'J', 'H', 'Ks']\n",
    "allBands = ['HSC-' +b for b in hscBands] + ['VISTA-' +b for b in vistaBands]\n",
    "colTypes=[\n",
    "    '{}_m_base_CircularApertureFlux_6_0_{}',\n",
    "    '{}_m_base_PsfFlux_{}',\n",
    "    '{}_m_slot_ModelFlux_{}',\n",
    "]\n",
    "measTypes=['mag', 'magErr', 'flux', 'fluxErr']\n",
    "for c,b,m in itertools.product(colTypes,allBands,measTypes):\n",
    "    print(c.format(b,m))"
   ]
  },
  {
   "cell_type": "code",
   "execution_count": 39,
   "metadata": {},
   "outputs": [],
   "source": [
    "reduced_cols = [ \n",
    "    'id', \n",
    "    'VISTA_Ks_m_coord_ra', \n",
    "    'VISTA_Ks_m_coord_dec',\n",
    "#     'VISTA_Ks_f_coord_ra',\n",
    "#     'VISTA_Ks_f_coord_dec'\n",
    "    'VISTA_Ks_m_detect_isPatchInner',\n",
    "    'VISTA_Ks_m_detect_isTractInner',\n",
    "    'VISTA_Ks_m_deblend_nChild',\n",
    "    'VISTA_Ks_merge_peak_sky',\n",
    "]\n",
    "\n",
    "    \n",
    "colTypes=[\n",
    "    '{}_m_base_CircularApertureFlux_6_0_{}',\n",
    "    '{}_m_base_PsfFlux_{}',\n",
    "    '{}_m_slot_ModelFlux_{}',\n",
    "]\n",
    "measTypes=['mag', 'magErr', 'flux', 'fluxErr']\n",
    "for c,b,m in itertools.product(colTypes,allBands,measTypes):\n",
    "    reduced_cols+=[c.format(b.replace('-','_'),m)]"
   ]
  },
  {
   "cell_type": "code",
   "execution_count": 40,
   "metadata": {},
   "outputs": [
    {
     "data": {
      "text/plain": [
       "['id',\n",
       " 'VISTA_Ks_m_coord_ra',\n",
       " 'VISTA_Ks_m_coord_dec',\n",
       " 'VISTA_Ks_m_detect_isPatchInner',\n",
       " 'VISTA_Ks_m_detect_isTractInner',\n",
       " 'VISTA_Ks_m_deblend_nChild',\n",
       " 'VISTA_Ks_merge_peak_sky',\n",
       " 'HSC_G_m_base_CircularApertureFlux_6_0_mag',\n",
       " 'HSC_G_m_base_CircularApertureFlux_6_0_magErr',\n",
       " 'HSC_G_m_base_CircularApertureFlux_6_0_flux',\n",
       " 'HSC_G_m_base_CircularApertureFlux_6_0_fluxErr',\n",
       " 'HSC_R_m_base_CircularApertureFlux_6_0_mag',\n",
       " 'HSC_R_m_base_CircularApertureFlux_6_0_magErr',\n",
       " 'HSC_R_m_base_CircularApertureFlux_6_0_flux',\n",
       " 'HSC_R_m_base_CircularApertureFlux_6_0_fluxErr',\n",
       " 'HSC_I_m_base_CircularApertureFlux_6_0_mag',\n",
       " 'HSC_I_m_base_CircularApertureFlux_6_0_magErr',\n",
       " 'HSC_I_m_base_CircularApertureFlux_6_0_flux',\n",
       " 'HSC_I_m_base_CircularApertureFlux_6_0_fluxErr',\n",
       " 'HSC_Z_m_base_CircularApertureFlux_6_0_mag',\n",
       " 'HSC_Z_m_base_CircularApertureFlux_6_0_magErr',\n",
       " 'HSC_Z_m_base_CircularApertureFlux_6_0_flux',\n",
       " 'HSC_Z_m_base_CircularApertureFlux_6_0_fluxErr',\n",
       " 'HSC_Y_m_base_CircularApertureFlux_6_0_mag',\n",
       " 'HSC_Y_m_base_CircularApertureFlux_6_0_magErr',\n",
       " 'HSC_Y_m_base_CircularApertureFlux_6_0_flux',\n",
       " 'HSC_Y_m_base_CircularApertureFlux_6_0_fluxErr',\n",
       " 'VISTA_Z_m_base_CircularApertureFlux_6_0_mag',\n",
       " 'VISTA_Z_m_base_CircularApertureFlux_6_0_magErr',\n",
       " 'VISTA_Z_m_base_CircularApertureFlux_6_0_flux',\n",
       " 'VISTA_Z_m_base_CircularApertureFlux_6_0_fluxErr',\n",
       " 'VISTA_Y_m_base_CircularApertureFlux_6_0_mag',\n",
       " 'VISTA_Y_m_base_CircularApertureFlux_6_0_magErr',\n",
       " 'VISTA_Y_m_base_CircularApertureFlux_6_0_flux',\n",
       " 'VISTA_Y_m_base_CircularApertureFlux_6_0_fluxErr',\n",
       " 'VISTA_J_m_base_CircularApertureFlux_6_0_mag',\n",
       " 'VISTA_J_m_base_CircularApertureFlux_6_0_magErr',\n",
       " 'VISTA_J_m_base_CircularApertureFlux_6_0_flux',\n",
       " 'VISTA_J_m_base_CircularApertureFlux_6_0_fluxErr',\n",
       " 'VISTA_H_m_base_CircularApertureFlux_6_0_mag',\n",
       " 'VISTA_H_m_base_CircularApertureFlux_6_0_magErr',\n",
       " 'VISTA_H_m_base_CircularApertureFlux_6_0_flux',\n",
       " 'VISTA_H_m_base_CircularApertureFlux_6_0_fluxErr',\n",
       " 'VISTA_Ks_m_base_CircularApertureFlux_6_0_mag',\n",
       " 'VISTA_Ks_m_base_CircularApertureFlux_6_0_magErr',\n",
       " 'VISTA_Ks_m_base_CircularApertureFlux_6_0_flux',\n",
       " 'VISTA_Ks_m_base_CircularApertureFlux_6_0_fluxErr',\n",
       " 'HSC_G_m_base_PsfFlux_mag',\n",
       " 'HSC_G_m_base_PsfFlux_magErr',\n",
       " 'HSC_G_m_base_PsfFlux_flux',\n",
       " 'HSC_G_m_base_PsfFlux_fluxErr',\n",
       " 'HSC_R_m_base_PsfFlux_mag',\n",
       " 'HSC_R_m_base_PsfFlux_magErr',\n",
       " 'HSC_R_m_base_PsfFlux_flux',\n",
       " 'HSC_R_m_base_PsfFlux_fluxErr',\n",
       " 'HSC_I_m_base_PsfFlux_mag',\n",
       " 'HSC_I_m_base_PsfFlux_magErr',\n",
       " 'HSC_I_m_base_PsfFlux_flux',\n",
       " 'HSC_I_m_base_PsfFlux_fluxErr',\n",
       " 'HSC_Z_m_base_PsfFlux_mag',\n",
       " 'HSC_Z_m_base_PsfFlux_magErr',\n",
       " 'HSC_Z_m_base_PsfFlux_flux',\n",
       " 'HSC_Z_m_base_PsfFlux_fluxErr',\n",
       " 'HSC_Y_m_base_PsfFlux_mag',\n",
       " 'HSC_Y_m_base_PsfFlux_magErr',\n",
       " 'HSC_Y_m_base_PsfFlux_flux',\n",
       " 'HSC_Y_m_base_PsfFlux_fluxErr',\n",
       " 'VISTA_Z_m_base_PsfFlux_mag',\n",
       " 'VISTA_Z_m_base_PsfFlux_magErr',\n",
       " 'VISTA_Z_m_base_PsfFlux_flux',\n",
       " 'VISTA_Z_m_base_PsfFlux_fluxErr',\n",
       " 'VISTA_Y_m_base_PsfFlux_mag',\n",
       " 'VISTA_Y_m_base_PsfFlux_magErr',\n",
       " 'VISTA_Y_m_base_PsfFlux_flux',\n",
       " 'VISTA_Y_m_base_PsfFlux_fluxErr',\n",
       " 'VISTA_J_m_base_PsfFlux_mag',\n",
       " 'VISTA_J_m_base_PsfFlux_magErr',\n",
       " 'VISTA_J_m_base_PsfFlux_flux',\n",
       " 'VISTA_J_m_base_PsfFlux_fluxErr',\n",
       " 'VISTA_H_m_base_PsfFlux_mag',\n",
       " 'VISTA_H_m_base_PsfFlux_magErr',\n",
       " 'VISTA_H_m_base_PsfFlux_flux',\n",
       " 'VISTA_H_m_base_PsfFlux_fluxErr',\n",
       " 'VISTA_Ks_m_base_PsfFlux_mag',\n",
       " 'VISTA_Ks_m_base_PsfFlux_magErr',\n",
       " 'VISTA_Ks_m_base_PsfFlux_flux',\n",
       " 'VISTA_Ks_m_base_PsfFlux_fluxErr',\n",
       " 'HSC_G_m_slot_ModelFlux_mag',\n",
       " 'HSC_G_m_slot_ModelFlux_magErr',\n",
       " 'HSC_G_m_slot_ModelFlux_flux',\n",
       " 'HSC_G_m_slot_ModelFlux_fluxErr',\n",
       " 'HSC_R_m_slot_ModelFlux_mag',\n",
       " 'HSC_R_m_slot_ModelFlux_magErr',\n",
       " 'HSC_R_m_slot_ModelFlux_flux',\n",
       " 'HSC_R_m_slot_ModelFlux_fluxErr',\n",
       " 'HSC_I_m_slot_ModelFlux_mag',\n",
       " 'HSC_I_m_slot_ModelFlux_magErr',\n",
       " 'HSC_I_m_slot_ModelFlux_flux',\n",
       " 'HSC_I_m_slot_ModelFlux_fluxErr',\n",
       " 'HSC_Z_m_slot_ModelFlux_mag',\n",
       " 'HSC_Z_m_slot_ModelFlux_magErr',\n",
       " 'HSC_Z_m_slot_ModelFlux_flux',\n",
       " 'HSC_Z_m_slot_ModelFlux_fluxErr',\n",
       " 'HSC_Y_m_slot_ModelFlux_mag',\n",
       " 'HSC_Y_m_slot_ModelFlux_magErr',\n",
       " 'HSC_Y_m_slot_ModelFlux_flux',\n",
       " 'HSC_Y_m_slot_ModelFlux_fluxErr',\n",
       " 'VISTA_Z_m_slot_ModelFlux_mag',\n",
       " 'VISTA_Z_m_slot_ModelFlux_magErr',\n",
       " 'VISTA_Z_m_slot_ModelFlux_flux',\n",
       " 'VISTA_Z_m_slot_ModelFlux_fluxErr',\n",
       " 'VISTA_Y_m_slot_ModelFlux_mag',\n",
       " 'VISTA_Y_m_slot_ModelFlux_magErr',\n",
       " 'VISTA_Y_m_slot_ModelFlux_flux',\n",
       " 'VISTA_Y_m_slot_ModelFlux_fluxErr',\n",
       " 'VISTA_J_m_slot_ModelFlux_mag',\n",
       " 'VISTA_J_m_slot_ModelFlux_magErr',\n",
       " 'VISTA_J_m_slot_ModelFlux_flux',\n",
       " 'VISTA_J_m_slot_ModelFlux_fluxErr',\n",
       " 'VISTA_H_m_slot_ModelFlux_mag',\n",
       " 'VISTA_H_m_slot_ModelFlux_magErr',\n",
       " 'VISTA_H_m_slot_ModelFlux_flux',\n",
       " 'VISTA_H_m_slot_ModelFlux_fluxErr',\n",
       " 'VISTA_Ks_m_slot_ModelFlux_mag',\n",
       " 'VISTA_Ks_m_slot_ModelFlux_magErr',\n",
       " 'VISTA_Ks_m_slot_ModelFlux_flux',\n",
       " 'VISTA_Ks_m_slot_ModelFlux_fluxErr']"
      ]
     },
     "execution_count": 40,
     "metadata": {},
     "output_type": "execute_result"
    }
   ],
   "source": [
    "reduced_cols"
   ]
  },
  {
   "cell_type": "code",
   "execution_count": null,
   "metadata": {},
   "outputs": [],
   "source": []
  },
  {
   "cell_type": "code",
   "execution_count": null,
   "metadata": {},
   "outputs": [],
   "source": []
  }
 ],
 "metadata": {
  "kernelspec": {
   "display_name": "Python 3 (ipykernel)",
   "language": "python",
   "name": "python3"
  },
  "language_info": {
   "codemirror_mode": {
    "name": "ipython",
    "version": 3
   },
   "file_extension": ".py",
   "mimetype": "text/x-python",
   "name": "python",
   "nbconvert_exporter": "python",
   "pygments_lexer": "ipython3",
   "version": "3.8.8"
  }
 },
 "nbformat": 4,
 "nbformat_minor": 4
}
