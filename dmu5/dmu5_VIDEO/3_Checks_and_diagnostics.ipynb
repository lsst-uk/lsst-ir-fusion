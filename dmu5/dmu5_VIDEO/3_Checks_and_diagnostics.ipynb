{
 "cells": [
  {
   "cell_type": "markdown",
   "metadata": {},
   "source": [
    "# Compare HSC and VISTA Z and Y aperture mags"
   ]
  },
  {
   "cell_type": "code",
   "execution_count": 1,
   "metadata": {},
   "outputs": [],
   "source": [
    "from astropy.table import Table\n",
    "import numpy as np\n",
    "\n",
    "\n",
    "import matplotlib\n",
    "import matplotlib.gridspec as gridspec \n",
    "import matplotlib.pyplot as plt"
   ]
  },
  {
   "cell_type": "code",
   "execution_count": 2,
   "metadata": {},
   "outputs": [
    {
     "ename": "FileNotFoundError",
     "evalue": "[Errno 2] No such file or directory: './data/HSC_z_y_comparison.fits'",
     "output_type": "error",
     "traceback": [
      "\u001b[0;31m---------------------------------------------------------------------------\u001b[0m",
      "\u001b[0;31mFileNotFoundError\u001b[0m                         Traceback (most recent call last)",
      "\u001b[0;32m<ipython-input-2-dc5591f0553a>\u001b[0m in \u001b[0;36m<module>\u001b[0;34m\u001b[0m\n\u001b[0;32m----> 1\u001b[0;31m \u001b[0mcat\u001b[0m \u001b[0;34m=\u001b[0m \u001b[0mTable\u001b[0m\u001b[0;34m.\u001b[0m\u001b[0mread\u001b[0m\u001b[0;34m(\u001b[0m\u001b[0;34m'./data/HSC_z_y_comparison.fits'\u001b[0m\u001b[0;34m)\u001b[0m\u001b[0;34m\u001b[0m\u001b[0;34m\u001b[0m\u001b[0m\n\u001b[0m",
      "\u001b[0;32m~/Documents/github/lsst_stack/conda/miniconda3-py37_4.8.2/envs/lsst-scipipe-cb4e2dc/lib/python3.7/site-packages/astropy/table/connect.py\u001b[0m in \u001b[0;36m__call__\u001b[0;34m(self, *args, **kwargs)\u001b[0m\n\u001b[1;32m     50\u001b[0m     \u001b[0;32mdef\u001b[0m \u001b[0m__call__\u001b[0m\u001b[0;34m(\u001b[0m\u001b[0mself\u001b[0m\u001b[0;34m,\u001b[0m \u001b[0;34m*\u001b[0m\u001b[0margs\u001b[0m\u001b[0;34m,\u001b[0m \u001b[0;34m**\u001b[0m\u001b[0mkwargs\u001b[0m\u001b[0;34m)\u001b[0m\u001b[0;34m:\u001b[0m\u001b[0;34m\u001b[0m\u001b[0;34m\u001b[0m\u001b[0m\n\u001b[1;32m     51\u001b[0m         \u001b[0mcls\u001b[0m \u001b[0;34m=\u001b[0m \u001b[0mself\u001b[0m\u001b[0;34m.\u001b[0m\u001b[0m_cls\u001b[0m\u001b[0;34m\u001b[0m\u001b[0;34m\u001b[0m\u001b[0m\n\u001b[0;32m---> 52\u001b[0;31m         \u001b[0mout\u001b[0m \u001b[0;34m=\u001b[0m \u001b[0mregistry\u001b[0m\u001b[0;34m.\u001b[0m\u001b[0mread\u001b[0m\u001b[0;34m(\u001b[0m\u001b[0mcls\u001b[0m\u001b[0;34m,\u001b[0m \u001b[0;34m*\u001b[0m\u001b[0margs\u001b[0m\u001b[0;34m,\u001b[0m \u001b[0;34m**\u001b[0m\u001b[0mkwargs\u001b[0m\u001b[0;34m)\u001b[0m\u001b[0;34m\u001b[0m\u001b[0;34m\u001b[0m\u001b[0m\n\u001b[0m\u001b[1;32m     53\u001b[0m \u001b[0;34m\u001b[0m\u001b[0m\n\u001b[1;32m     54\u001b[0m         \u001b[0;31m# For some readers (e.g., ascii.ecsv), the returned `out` class is not\u001b[0m\u001b[0;34m\u001b[0m\u001b[0;34m\u001b[0m\u001b[0;34m\u001b[0m\u001b[0m\n",
      "\u001b[0;32m~/Documents/github/lsst_stack/conda/miniconda3-py37_4.8.2/envs/lsst-scipipe-cb4e2dc/lib/python3.7/site-packages/astropy/io/registry.py\u001b[0m in \u001b[0;36mread\u001b[0;34m(cls, format, *args, **kwargs)\u001b[0m\n\u001b[1;32m    506\u001b[0m                     \u001b[0;32mtry\u001b[0m\u001b[0;34m:\u001b[0m\u001b[0;34m\u001b[0m\u001b[0;34m\u001b[0m\u001b[0m\n\u001b[1;32m    507\u001b[0m                         \u001b[0mctx\u001b[0m \u001b[0;34m=\u001b[0m \u001b[0mget_readable_fileobj\u001b[0m\u001b[0;34m(\u001b[0m\u001b[0margs\u001b[0m\u001b[0;34m[\u001b[0m\u001b[0;36m0\u001b[0m\u001b[0;34m]\u001b[0m\u001b[0;34m,\u001b[0m \u001b[0mencoding\u001b[0m\u001b[0;34m=\u001b[0m\u001b[0;34m'binary'\u001b[0m\u001b[0;34m)\u001b[0m\u001b[0;34m\u001b[0m\u001b[0;34m\u001b[0m\u001b[0m\n\u001b[0;32m--> 508\u001b[0;31m                         \u001b[0mfileobj\u001b[0m \u001b[0;34m=\u001b[0m \u001b[0mctx\u001b[0m\u001b[0;34m.\u001b[0m\u001b[0m__enter__\u001b[0m\u001b[0;34m(\u001b[0m\u001b[0;34m)\u001b[0m\u001b[0;34m\u001b[0m\u001b[0;34m\u001b[0m\u001b[0m\n\u001b[0m\u001b[1;32m    509\u001b[0m                     \u001b[0;32mexcept\u001b[0m \u001b[0mOSError\u001b[0m\u001b[0;34m:\u001b[0m\u001b[0;34m\u001b[0m\u001b[0;34m\u001b[0m\u001b[0m\n\u001b[1;32m    510\u001b[0m                         \u001b[0;32mraise\u001b[0m\u001b[0;34m\u001b[0m\u001b[0;34m\u001b[0m\u001b[0m\n",
      "\u001b[0;32m~/Documents/github/lsst_stack/conda/miniconda3-py37_4.8.2/envs/lsst-scipipe-cb4e2dc/lib/python3.7/contextlib.py\u001b[0m in \u001b[0;36m__enter__\u001b[0;34m(self)\u001b[0m\n\u001b[1;32m    110\u001b[0m         \u001b[0;32mdel\u001b[0m \u001b[0mself\u001b[0m\u001b[0;34m.\u001b[0m\u001b[0margs\u001b[0m\u001b[0;34m,\u001b[0m \u001b[0mself\u001b[0m\u001b[0;34m.\u001b[0m\u001b[0mkwds\u001b[0m\u001b[0;34m,\u001b[0m \u001b[0mself\u001b[0m\u001b[0;34m.\u001b[0m\u001b[0mfunc\u001b[0m\u001b[0;34m\u001b[0m\u001b[0;34m\u001b[0m\u001b[0m\n\u001b[1;32m    111\u001b[0m         \u001b[0;32mtry\u001b[0m\u001b[0;34m:\u001b[0m\u001b[0;34m\u001b[0m\u001b[0;34m\u001b[0m\u001b[0m\n\u001b[0;32m--> 112\u001b[0;31m             \u001b[0;32mreturn\u001b[0m \u001b[0mnext\u001b[0m\u001b[0;34m(\u001b[0m\u001b[0mself\u001b[0m\u001b[0;34m.\u001b[0m\u001b[0mgen\u001b[0m\u001b[0;34m)\u001b[0m\u001b[0;34m\u001b[0m\u001b[0;34m\u001b[0m\u001b[0m\n\u001b[0m\u001b[1;32m    113\u001b[0m         \u001b[0;32mexcept\u001b[0m \u001b[0mStopIteration\u001b[0m\u001b[0;34m:\u001b[0m\u001b[0;34m\u001b[0m\u001b[0;34m\u001b[0m\u001b[0m\n\u001b[1;32m    114\u001b[0m             \u001b[0;32mraise\u001b[0m \u001b[0mRuntimeError\u001b[0m\u001b[0;34m(\u001b[0m\u001b[0;34m\"generator didn't yield\"\u001b[0m\u001b[0;34m)\u001b[0m \u001b[0;32mfrom\u001b[0m \u001b[0;32mNone\u001b[0m\u001b[0;34m\u001b[0m\u001b[0;34m\u001b[0m\u001b[0m\n",
      "\u001b[0;32m~/Documents/github/lsst_stack/conda/miniconda3-py37_4.8.2/envs/lsst-scipipe-cb4e2dc/lib/python3.7/site-packages/astropy/utils/data.py\u001b[0m in \u001b[0;36mget_readable_fileobj\u001b[0;34m(name_or_obj, encoding, cache, show_progress, remote_timeout, sources, http_headers)\u001b[0m\n\u001b[1;32m    235\u001b[0m                 \u001b[0mtimeout\u001b[0m\u001b[0;34m=\u001b[0m\u001b[0mremote_timeout\u001b[0m\u001b[0;34m,\u001b[0m \u001b[0msources\u001b[0m\u001b[0;34m=\u001b[0m\u001b[0msources\u001b[0m\u001b[0;34m,\u001b[0m\u001b[0;34m\u001b[0m\u001b[0;34m\u001b[0m\u001b[0m\n\u001b[1;32m    236\u001b[0m                 http_headers=http_headers)\n\u001b[0;32m--> 237\u001b[0;31m         \u001b[0mfileobj\u001b[0m \u001b[0;34m=\u001b[0m \u001b[0mio\u001b[0m\u001b[0;34m.\u001b[0m\u001b[0mFileIO\u001b[0m\u001b[0;34m(\u001b[0m\u001b[0mname_or_obj\u001b[0m\u001b[0;34m,\u001b[0m \u001b[0;34m'r'\u001b[0m\u001b[0;34m)\u001b[0m\u001b[0;34m\u001b[0m\u001b[0;34m\u001b[0m\u001b[0m\n\u001b[0m\u001b[1;32m    238\u001b[0m         \u001b[0;32mif\u001b[0m \u001b[0mis_url\u001b[0m \u001b[0;32mand\u001b[0m \u001b[0;32mnot\u001b[0m \u001b[0mcache\u001b[0m\u001b[0;34m:\u001b[0m\u001b[0;34m\u001b[0m\u001b[0;34m\u001b[0m\u001b[0m\n\u001b[1;32m    239\u001b[0m             \u001b[0mdelete_fds\u001b[0m\u001b[0;34m.\u001b[0m\u001b[0mappend\u001b[0m\u001b[0;34m(\u001b[0m\u001b[0mfileobj\u001b[0m\u001b[0;34m)\u001b[0m\u001b[0;34m\u001b[0m\u001b[0;34m\u001b[0m\u001b[0m\n",
      "\u001b[0;31mFileNotFoundError\u001b[0m: [Errno 2] No such file or directory: './data/HSC_z_y_comparison.fits'"
     ]
    }
   ],
   "source": [
    "cat = Table.read('./data/HSC_z_y_comparison.fits')"
   ]
  },
  {
   "cell_type": "code",
   "execution_count": null,
   "metadata": {},
   "outputs": [],
   "source": [
    "cat[:5]"
   ]
  },
  {
   "cell_type": "code",
   "execution_count": null,
   "metadata": {},
   "outputs": [],
   "source": [
    "len(cat)"
   ]
  },
  {
   "cell_type": "code",
   "execution_count": null,
   "metadata": {},
   "outputs": [],
   "source": [
    "np.sum(cat['flag'])"
   ]
  },
  {
   "cell_type": "code",
   "execution_count": null,
   "metadata": {},
   "outputs": [],
   "source": [
    "plt.hist(cat['m_ap60_vista_z'][~np.isinf(cat['m_ap60_vista_z'])], bins=100)\n",
    "plt.yscale('log')"
   ]
  },
  {
   "cell_type": "code",
   "execution_count": null,
   "metadata": {},
   "outputs": [],
   "source": [
    "!mkdir figs"
   ]
  },
  {
   "cell_type": "code",
   "execution_count": null,
   "metadata": {},
   "outputs": [],
   "source": [
    "def mag_to_flux(magnitudes, errors_on_magnitudes=None):\n",
    "    \"\"\"Convert AB magnitudes and errors to fluxes\n",
    "    Given AB magnitudes and associated errors, this function returns the\n",
    "    corresponding fluxes and associated flux errors (in Jy).\n",
    "    The fluxes are computed with this formula:\n",
    "        F = 10^((8.9 - Mag)/2.5)\n",
    "    and the errors on fluxes with this one:\n",
    "        F_err = ln(10)/2.5 * F * Mag_err\n",
    "    Parameters\n",
    "    ----------\n",
    "    magnitudes: float or array-like of floats\n",
    "        AB magnitudes of the sources.\n",
    "    errors_on_magnitudes: float or array-like of floats\n",
    "        Error on each magnitudes. None if there are no errors.\n",
    "    Returns\n",
    "    -------\n",
    "    fluxes: float or array-like of floats\n",
    "        The fluxes in Jy.\n",
    "    errors: float or array-like of floats\n",
    "        The errors on fluxes in Jy or None.\n",
    "    \"\"\"\n",
    "    magnitudes = np.array(magnitudes)\n",
    "    fluxes = 10 ** ((8.9 - magnitudes)/2.5)\n",
    "\n",
    "    if errors_on_magnitudes is not None:\n",
    "        errors_on_magnitudes = np.array(errors_on_magnitudes)\n",
    "        errors = np.log(10)/2.5 * fluxes * errors_on_magnitudes\n",
    "    else:\n",
    "        errors = None\n",
    "\n",
    "    return fluxes, errors"
   ]
  },
  {
   "cell_type": "code",
   "execution_count": null,
   "metadata": {},
   "outputs": [],
   "source": [
    "def mag_diff(x,xerr,y,yerr, labels,savefig=True):\n",
    "    print(\"Comparing {} band AB 2 arc sec aperture magnitudes from {} and {}\".format(labels[2],labels[0],labels[1]))\n",
    "    fig = plt.figure(figsize=(13, 6))\n",
    "\n",
    "    gs1 = gridspec.GridSpec(1, 1)\n",
    "    gs1.update(left=0.05, right=0.4, wspace=0.05)\n",
    "    ax1 = plt.subplot(gs1[:, :])\n",
    "\n",
    "    gs2 = gridspec.GridSpec(1, 3)\n",
    "    gs2.update(left=0.47, right=0.98, hspace=0.05, wspace=0.05)\n",
    "    ax2 = plt.subplot(gs2[:, :-1])\n",
    "    #ax3 = plt.subplot(gs2[:, -1], sharey=ax2)\n",
    "    \n",
    "    #notInf = ~np.isinf(x) & ~np.isinf(y)\n",
    "    #x = x[notInf]\n",
    "    #y = y[notInf]\n",
    "\n",
    " \n",
    "    m = (\n",
    "        mask \n",
    "        #& (merge['help_m_ap_vista_y'] < 30)\n",
    "        #& (merge['vhs_stellarity']>0.9)\n",
    "    )\n",
    "\n",
    "    mean_offset = np.nanmean(x - y)\n",
    "    median_offset = np.nanmedian(x - y)\n",
    "    print(\"Mean offset = {}\".format(round(mean_offset,4)))\n",
    "    print(\"Median offset = {}\".format(round(median_offset,4)))\n",
    "    \n",
    "    total_var = xerr**2 + yerr**2 +0.03**2 #the extra 0.03 is an estimate of the abs. cal. error for vista\n",
    "    unsaturated = (x>18.5) & (x<22.5)\n",
    "\n",
    "    weighted_bias = np.nansum(\n",
    "        (\n",
    "            x[unsaturated]\n",
    "            -y[unsaturated]\n",
    "        )/total_var[unsaturated]\n",
    "    )/np.nansum(1./total_var[unsaturated])\n",
    "    print('Weighted bias (14.5<mag<15.5) = {}'.format(round(weighted_bias,4)))\n",
    "    \n",
    "    \n",
    "    ax1.plot([0,26],[mean_offset,mean_offset], linestyle='dotted', c='r', alpha=0.5,\n",
    "             label = 'mean offset = {}'.format(round(mean_offset,4)))\n",
    "    ax1.plot([0,26],[median_offset,median_offset], linestyle='dashed', c='r', alpha=0.5,\n",
    "         label = 'median offset = {}'.format(round(median_offset,4)))\n",
    "    ax1.plot([0,26],[weighted_bias,weighted_bias], linestyle='dashdot', c='r', alpha=0.5,\n",
    "         label = 'Weighted bias = {}'.format(round(weighted_bias,4)))\n",
    "    ax1.plot([0,26],[0,0], c='r', label='zero')\n",
    "    ax1.legend( prop={'size': 12}, loc='upper left')\n",
    "    ax1.scatter(x,   x - y, \n",
    "            alpha=1.0, s=0.3)\n",
    "    \n",
    "    \n",
    "    ax1.set_xlabel('{} [mag]'.format(labels[0]))\n",
    "    ax1.plot([0,26],[0,0], c='r')\n",
    "    \n",
    "    upper = np.min([25.,np.nanmax(x),np.nanmax(y)+1] )\n",
    "    ax1.set_xlim([np.nanmin(x),np.nanmax(x)])\n",
    "    ax1.set_ylim([-1,1])\n",
    "    ax1.set_ylabel('{} - {} [mag]'.format(labels[0],labels[1]))\n",
    "    \n",
    "    ax2.hist(x - y,range=[-1,1], bins=60)\n",
    "    #ax2.set_xlim([-2,2])\n",
    "    ax2.set_xlabel('{} - {} [mag]'.format(labels[0],labels[1]))\n",
    "    ax2.axvline(0, c='r', alpha=0.5)\n",
    "    ax2.axvline(mean_offset,linestyle='dotted', c='r', alpha=0.5)\n",
    "    ax2.axvline(median_offset,linestyle='dashed', c='r', alpha=0.5)\n",
    "    ax2.axvline(weighted_bias,linestyle='dashdot', c='r', alpha=0.5)\n",
    "    \n",
    "    \n",
    "    #plt.rc('font', family='serif', serif='Times')\n",
    "    plt.rc('text') #, usetex=True)\n",
    "    plt.rc('xtick', labelsize=14)\n",
    "    plt.rc('ytick', labelsize=14)\n",
    "    plt.rc('axes', labelsize=14)\n",
    "    \n",
    "\n",
    "\n",
    "    if savefig:\n",
    "        plt.savefig('./figs/mag_compare_{}_{}.pdf'.format(\n",
    "            labels[0].replace(' ','_'),labels[1].replace(' ','_')), bbox_inches='tight')\n",
    "        plt.savefig('./figs/mag_compare_{}_{}.png'.format(\n",
    "            labels[0].replace(' ','_'),labels[1].replace(' ','_')), bbox_inches='tight')\n",
    "    plt.show()\n",
    "    \n",
    "    \n",
    "    \n",
    "mask = cat['flag']\n",
    "mask &= cat['m_ap60_hsc_z'] >18.5\n",
    "mask &= cat['m_ap60_hsc_z'] <22.5\n",
    "mask &= cat['m_ap60_vista_z'] >10\n",
    "mask &= cat['m_ap60_vista_z'] <30\n",
    "mag_diff(\n",
    "\n",
    "    cat[mask]['m_ap60_hsc_z'],\n",
    "    cat[mask]['merr_ap60_hsc_z'],\n",
    "    cat[mask]['m_ap60_vista_z'],\n",
    "    cat[mask]['merr_ap60_vista_z'],\n",
    "    ['HSC-Z 6pix radius ap','VISTA-Z 6pix radius ap', 'Z'])"
   ]
  },
  {
   "cell_type": "code",
   "execution_count": null,
   "metadata": {},
   "outputs": [],
   "source": [
    "mask = cat['flag']\n",
    "mask &= cat['m_ap90_hsc_z'] >18.5\n",
    "mask &= cat['m_ap90_hsc_z'] <22.5\n",
    "mask &= cat['m_ap90_vista_z'] >10\n",
    "mask &= cat['m_ap90_vista_z'] <30\n",
    "mag_diff(\n",
    "\n",
    "    cat[mask]['m_ap90_hsc_z'],\n",
    "    cat[mask]['merr_ap90_hsc_z'],\n",
    "    cat[mask]['m_ap90_vista_z'],\n",
    "    cat[mask]['merr_ap90_vista_z'],\n",
    "    ['HSC-Z 9pix radius ap','VISTA-Z 9pix radius ap', 'Z'])"
   ]
  },
  {
   "cell_type": "code",
   "execution_count": null,
   "metadata": {},
   "outputs": [],
   "source": [
    "mask = cat['flag']\n",
    "mask &= cat['m_ap60_hsc_y'] >18.5\n",
    "mask &= cat['m_ap60_hsc_y'] <22.5\n",
    "mask &= cat['m_ap60_vista_y'] >10\n",
    "mask &= cat['m_ap60_vista_y'] <30\n",
    "mag_diff(\n",
    "\n",
    "    cat[mask]['m_ap60_hsc_y'],\n",
    "    cat[mask]['merr_ap60_hsc_y'],\n",
    "    cat[mask]['m_ap60_vista_y'],\n",
    "    cat[mask]['merr_ap60_vista_y'],\n",
    "    ['HSC-Y 6pix radius ap','VISTA-Y 6pix radius ap', 'Y'])"
   ]
  },
  {
   "cell_type": "code",
   "execution_count": null,
   "metadata": {},
   "outputs": [],
   "source": [
    "mask = cat['flag']\n",
    "mask &= cat['m_ap90_hsc_y'] >18.5\n",
    "mask &= cat['m_ap90_hsc_y'] <22.5\n",
    "mask &= cat['m_ap90_vista_y'] >10\n",
    "mask &= cat['m_ap90_vista_y'] <30\n",
    "mag_diff(\n",
    "\n",
    "    cat[mask]['m_ap90_hsc_y'],\n",
    "    cat[mask]['merr_ap90_hsc_y'],\n",
    "    cat[mask]['m_ap90_vista_y'],\n",
    "    cat[mask]['merr_ap90_vista_y'],\n",
    "    ['HSC-Y 9pix radius ap','VISTA-Y 9pix radius ap', 'Y'])"
   ]
  },
  {
   "cell_type": "code",
   "execution_count": null,
   "metadata": {},
   "outputs": [],
   "source": []
  }
 ],
 "metadata": {
  "kernelspec": {
   "display_name": "lsst",
   "language": "python",
   "name": "lsst"
  },
  "language_info": {
   "codemirror_mode": {
    "name": "ipython",
    "version": 3
   },
   "file_extension": ".py",
   "mimetype": "text/x-python",
   "name": "python",
   "nbconvert_exporter": "python",
   "pygments_lexer": "ipython3",
   "version": "3.7.8"
  }
 },
 "nbformat": 4,
 "nbformat_minor": 4
}
