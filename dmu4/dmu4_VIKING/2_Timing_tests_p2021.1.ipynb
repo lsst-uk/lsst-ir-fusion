{
 "cells": [
  {
   "cell_type": "markdown",
   "metadata": {},
   "source": [
    "# Timing tests from XMM run\n",
    "\n",
    "Some times were estimated from the SXDS field which hass many more exposures so will not be representative of the VHS all SKy data. Here we will reestimate full sky timing estimates from the XMM run to see how processes such as coaddition scale with exposure number."
   ]
  },
  {
   "cell_type": "code",
   "execution_count": 1,
   "metadata": {},
   "outputs": [
    {
     "name": "stdout",
     "output_type": "stream",
     "text": [
      "lsst_distrib          g2d4714e03a+6e1aa0b536 \tcurrent w_2022_07 w_latest setup\n",
      "obs_vista             23.0.0-1   \tcurrent setup\n"
     ]
    }
   ],
   "source": [
    "# What version of the Stack are we using?\n",
    "! eups list -s | grep lsst_distrib\n",
    "! eups list -s | grep obs_vista"
   ]
  },
  {
   "cell_type": "code",
   "execution_count": 2,
   "metadata": {},
   "outputs": [],
   "source": [
    "import astropy.units as u\n",
    "from astropy.table import Table\n",
    "from astropy.time import Time\n",
    "import numpy as np\n",
    "import glob\n",
    "import json\n",
    "\n",
    "import matplotlib.pyplot as plt\n",
    "%matplotlib inline\n",
    "import time\n",
    "import os\n",
    "#We are using a rings skymap\n",
    "from lsst.geom import SpherePoint \n",
    "from lsst.geom import degrees\n",
    "from lsst.skymap.ringsSkyMap import RingsSkyMap, RingsSkyMapConfig\n",
    "\n",
    "config = RingsSkyMapConfig()\n",
    "#These config options are chose to be the same as HSC:\n",
    "#https://github.com/lsst/obs_subaru/blob/master/config/hsc/makeSkyMap.py\n",
    "#and copied for obs_vista\n",
    "#https://github.com/lsst-uk/obs_vista/blob/master/config/makeSkyMap.py\n",
    "config.numRings = 120\n",
    "config.projection = \"TAN\"\n",
    "config.tractOverlap = 1.0/60 # Overlap between tracts (degrees)\n",
    "config.pixelScale = 0.168\n",
    "sm = RingsSkyMap(config)\n",
    "sxds_tracts = [8282,8283,8284,8523,8524,8525,8765,8766,8767] #manually got these from HSC DR2 pages"
   ]
  },
  {
   "cell_type": "code",
   "execution_count": 3,
   "metadata": {},
   "outputs": [
    {
     "name": "stdout",
     "output_type": "stream",
     "text": [
      "20220316\n"
     ]
    }
   ],
   "source": [
    "SUFFIX=time.strftime(\"%Y%m%d\")\n",
    "WORK_DIR = '/home/ir-shir1/rds/rds-iris-ip005/ras81/lsst-ir-fusion/dmu4/dmu4_SXDS'\n",
    "MAKE_INDIVIDUAL_SLURM=True\n",
    "SLURM_DIR = 'slurm_failed_tiles_rerun_{}'.format(SUFFIX)\n",
    "print(SUFFIX)"
   ]
  },
  {
   "cell_type": "code",
   "execution_count": 4,
   "metadata": {},
   "outputs": [],
   "source": [
    "#USE HSC-Y which is the last task run in the pipeline\n",
    "#forced = glob.glob('./data/rerun/coaddForcedPhot/deepCoadd-results/HSC-Y/*/*/*.fits)\n",
    "t = Table.read('../dmu4_VIDEO/slurm/jobs_20220217.lis', format='ascii')"
   ]
  },
  {
   "cell_type": "markdown",
   "metadata": {},
   "source": [
    "## Times"
   ]
  },
  {
   "cell_type": "code",
   "execution_count": 5,
   "metadata": {},
   "outputs": [
    {
     "data": {
      "text/plain": [
       "'I have submitted a total of 701480 jobs consuming a total of 1225031.9 cpuhours'"
      ]
     },
     "execution_count": 5,
     "metadata": {},
     "output_type": "execute_result"
    }
   ],
   "source": [
    "\"I have submitted a total of {} jobs consuming a total of {} cpuhours\".format(len(t), np.sum(t['CompHrs']))"
   ]
  },
  {
   "cell_type": "code",
   "execution_count": 6,
   "metadata": {},
   "outputs": [
    {
     "data": {
      "text/html": [
       "<div><i>Table length=5</i>\n",
       "<table id=\"table140372828165168\" class=\"table-striped table-bordered table-condensed\">\n",
       "<thead><tr><th>JobID</th><th>User</th><th>Account</th><th>JobName</th><th>Partition</th><th>End</th><th>ExitCode</th><th>State</th><th>CompHrs</th></tr></thead>\n",
       "<thead><tr><th>str12</th><th>str8</th><th>str10</th><th>str10</th><th>str10</th><th>str19</th><th>str5</th><th>str10</th><th>float64</th></tr></thead>\n",
       "<tr><td>25933230</td><td>ir-shir1</td><td>iris-ip00+</td><td>cpujob</td><td>skylake</td><td>2020-07-13T16:18:36</td><td>127:0</td><td>FAILED</td><td>0.1</td></tr>\n",
       "<tr><td>25940256</td><td>ir-shir1</td><td>iris-ip00+</td><td>cpujob</td><td>skylake</td><td>2020-07-14T00:08:41</td><td>1:0</td><td>FAILED</td><td>74.2</td></tr>\n",
       "<tr><td>25948528</td><td>ir-shir1</td><td>iris-ip00+</td><td>cpujob</td><td>skylake</td><td>2020-07-14T14:34:59</td><td>0:0</td><td>COMPLETED</td><td>254.3</td></tr>\n",
       "<tr><td>26005193</td><td>ir-shir1</td><td>iris-ip00+</td><td>cpujob</td><td>skylake</td><td>2020-07-16T03:59:49</td><td>0:0</td><td>TIMEOUT</td><td>640.0</td></tr>\n",
       "<tr><td>26027949</td><td>ir-shir1</td><td>iris-ip00+</td><td>cpujob</td><td>skylake</td><td>2020-07-17T10:46:53</td><td>0:0</td><td>TIMEOUT</td><td>1536.4</td></tr>\n",
       "</table></div>"
      ],
      "text/plain": [
       "<Table length=5>\n",
       " JobID     User    Account   JobName Partition         End         ExitCode   State   CompHrs\n",
       " str12     str8     str10     str10    str10          str19          str5     str10   float64\n",
       "-------- -------- ---------- ------- --------- ------------------- -------- --------- -------\n",
       "25933230 ir-shir1 iris-ip00+  cpujob   skylake 2020-07-13T16:18:36    127:0    FAILED     0.1\n",
       "25940256 ir-shir1 iris-ip00+  cpujob   skylake 2020-07-14T00:08:41      1:0    FAILED    74.2\n",
       "25948528 ir-shir1 iris-ip00+  cpujob   skylake 2020-07-14T14:34:59      0:0 COMPLETED   254.3\n",
       "26005193 ir-shir1 iris-ip00+  cpujob   skylake 2020-07-16T03:59:49      0:0   TIMEOUT   640.0\n",
       "26027949 ir-shir1 iris-ip00+  cpujob   skylake 2020-07-17T10:46:53      0:0   TIMEOUT  1536.4"
      ]
     },
     "execution_count": 6,
     "metadata": {},
     "output_type": "execute_result"
    }
   ],
   "source": [
    "t[:5]\n"
   ]
  },
  {
   "cell_type": "code",
   "execution_count": 7,
   "metadata": {},
   "outputs": [
    {
     "data": {
      "text/plain": [
       "'Ex_photop+ Ex_proces+ Example_I+ Mod_photo+ Mod_proce+ SXDS_INGE+ SXDS_Make+ Std_photo+ Std_proce+ VHSMake_c+ VHSTest VHS_INGEST VHS_proce+ VHScoadd VHSmergeT+ VHSphotop+ VHStest VIDEOTest VID_INGEST VIDcoadd VIDphotop+ VIDproces+ VIKINGMak+ VIK_INGEST VIK_SXDS_+ VIK_cut_M+ VIK_test VIKcoadd VIKphotop+ VIKproces+ VIKtestPh+ XMM_INGEST XMM_Make_+ coadd coadd_852+ coadd_arr+ copyHSC cpstack cpujob downHSCDU+ download_+ file_trawl forced_ph+ ingest ingestVHS ingest_al+ phot_8524+ phot_arra+ photopipe photopipe+ processCc+ processCcd rsync_HSC+ runPhotoP+ setup_but+ singlePat+ stackInst+ vidSingFr+ wget_hsc_+ y_test'"
      ]
     },
     "execution_count": 7,
     "metadata": {},
     "output_type": "execute_result"
    }
   ],
   "source": [
    "\" \".join(np.unique(t['JobName']))"
   ]
  },
  {
   "cell_type": "code",
   "execution_count": 8,
   "metadata": {},
   "outputs": [
    {
     "data": {
      "text/html": [
       "<div><i>Table length=5</i>\n",
       "<table id=\"table140372827938432\" class=\"table-striped table-bordered table-condensed\">\n",
       "<thead><tr><th>JobID</th><th>User</th><th>Account</th><th>JobName</th><th>Partition</th><th>End</th><th>ExitCode</th><th>State</th><th>CompHrs</th></tr></thead>\n",
       "<thead><tr><th>str12</th><th>str8</th><th>str10</th><th>str10</th><th>str10</th><th>str19</th><th>str5</th><th>str10</th><th>float64</th></tr></thead>\n",
       "<tr><td>55293868_9</td><td>ir-shir1</td><td>iris-ip00+</td><td>VIDproces+</td><td>cclake</td><td>2022-02-15T16:04:52</td><td>1:0</td><td>FAILED</td><td>0.0</td></tr>\n",
       "<tr><td>55293868_10</td><td>ir-shir1</td><td>iris-ip00+</td><td>VIDproces+</td><td>cclake</td><td>2022-02-15T16:04:52</td><td>1:0</td><td>FAILED</td><td>0.0</td></tr>\n",
       "<tr><td>55300357</td><td>ir-shir1</td><td>iris-ip00+</td><td>vidSingFr+</td><td>cclake</td><td>2022-02-16T06:09:35</td><td>0:0</td><td>TIMEOUT</td><td>672.4</td></tr>\n",
       "<tr><td>55303059_0</td><td>ir-shir1</td><td>iris-ip00+</td><td>VIDproces+</td><td>cclake</td><td>2022-02-16T11:09:47</td><td>0:0</td><td>CANCELLED+</td><td>15.9</td></tr>\n",
       "<tr><td>55318689</td><td>ir-shir1</td><td>iris-ip00+</td><td>vidSingFr+</td><td>cclake</td><td>2022-02-17T00:27:42</td><td>0:0</td><td>TIMEOUT</td><td>672.3</td></tr>\n",
       "</table></div>"
      ],
      "text/plain": [
       "<Table length=5>\n",
       "   JobID      User    Account    JobName   Partition         End         ExitCode   State    CompHrs\n",
       "   str12      str8     str10      str10      str10          str19          str5     str10    float64\n",
       "----------- -------- ---------- ---------- --------- ------------------- -------- ---------- -------\n",
       " 55293868_9 ir-shir1 iris-ip00+ VIDproces+    cclake 2022-02-15T16:04:52      1:0     FAILED     0.0\n",
       "55293868_10 ir-shir1 iris-ip00+ VIDproces+    cclake 2022-02-15T16:04:52      1:0     FAILED     0.0\n",
       "   55300357 ir-shir1 iris-ip00+ vidSingFr+    cclake 2022-02-16T06:09:35      0:0    TIMEOUT   672.4\n",
       " 55303059_0 ir-shir1 iris-ip00+ VIDproces+    cclake 2022-02-16T11:09:47      0:0 CANCELLED+    15.9\n",
       "   55318689 ir-shir1 iris-ip00+ vidSingFr+    cclake 2022-02-17T00:27:42      0:0    TIMEOUT   672.3"
      ]
     },
     "execution_count": 8,
     "metadata": {},
     "output_type": "execute_result"
    }
   ],
   "source": [
    "t[-5:]\n"
   ]
  },
  {
   "cell_type": "code",
   "execution_count": 9,
   "metadata": {},
   "outputs": [],
   "source": [
    "times = Time(t['End'], format='isot', scale='utc')"
   ]
  },
  {
   "cell_type": "code",
   "execution_count": 10,
   "metadata": {},
   "outputs": [],
   "source": [
    "t['mjd_end'] = times.mjd"
   ]
  },
  {
   "cell_type": "code",
   "execution_count": 11,
   "metadata": {},
   "outputs": [],
   "source": [
    "t = t[t['mjd_end'] > 59176]"
   ]
  },
  {
   "cell_type": "code",
   "execution_count": 12,
   "metadata": {},
   "outputs": [],
   "source": [
    "\n",
    "def nameToJobType(name):\n",
    "    \"\"\"Take the name and return the tipe of pipetask\"\"\"\n",
    "    job_type = 'UNKNOWN'\n",
    "    if name.startswith('VIKproc'):\n",
    "        job_type = 'processCcd'\n",
    "    if name.startswith('VIKcoadd'):\n",
    "        job_type = 'coadd'\n",
    "    if name.startswith('VIKphot'):\n",
    "        job_type = 'photoPipe'\n",
    "    return job_type\n",
    "t['job_type']  = [nameToJobType(n) for n in t['JobName']]"
   ]
  },
  {
   "cell_type": "code",
   "execution_count": 15,
   "metadata": {},
   "outputs": [
    {
     "name": "stdout",
     "output_type": "stream",
     "text": [
      "\n",
      "Full processing of input images: 1.31 cpu hours\n",
      "Full coadd of all patches: 1.89 cpu hours\n",
      "Full photometry pipeline on all patches: 3.17 cpu hours\n",
      "Total time for 25703 images and 33801 patch coadss and 113351 patch photometry pipelines: 457189.1 cpu hours\n",
      "\n"
     ]
    }
   ],
   "source": [
    "num_processCcd = len(t['CompHrs'][(t['job_type'] == 'processCcd') &(t['State'] == 'COMPLETED') ])\n",
    "num_coadd= len(t['CompHrs'][(t['job_type'] == 'coadd') &(t['State'] == 'COMPLETED') ])\n",
    "num_photo = len(t['CompHrs'][(t['job_type'] == 'photoPipe') &(t['State'] == 'COMPLETED') ])\n",
    "\n",
    "mean_processCcd = np.mean(t['CompHrs'][(t['job_type'] == 'processCcd') &(t['State'] == 'COMPLETED') ])\n",
    "mean_coadd= np.mean(t['CompHrs'][(t['job_type'] == 'coadd') &(t['State'] == 'COMPLETED') ])\n",
    "mean_photo = np.mean(t['CompHrs'][(t['job_type'] == 'photoPipe') &(t['State'] == 'COMPLETED') ])\n",
    "\n",
    "tot_processCcd = np.sum(t['CompHrs'][(t['job_type'] == 'processCcd') &(t['State'] == 'COMPLETED') ])\n",
    "tot_coadd= np.sum(t['CompHrs'][(t['job_type'] == 'coadd') &(t['State'] == 'COMPLETED') ])\n",
    "tot_photo = np.sum(t['CompHrs'][(t['job_type'] == 'photoPipe') &(t['State'] == 'COMPLETED') ])\n",
    "\n",
    "print(\"\"\"\n",
    "Full processing of input images: {} cpu hours\n",
    "Full coadd of all patches: {} cpu hours\n",
    "Full photometry pipeline on all patches: {} cpu hours\n",
    "Total time for {} images and {} patch coadss and {} patch photometry pipelines: {} cpu hours\n",
    "\"\"\".format(\n",
    "    round(mean_processCcd,2),\n",
    "    round(mean_coadd,2),\n",
    "    round(mean_photo,2),\n",
    "    num_processCcd,\n",
    "    num_coadd,\n",
    "    num_photo,\n",
    "    round(\n",
    "        tot_processCcd \n",
    "        + tot_coadd\n",
    "        + tot_photo,2\n",
    "    )\n",
    "))"
   ]
  },
  {
   "cell_type": "code",
   "execution_count": 16,
   "metadata": {},
   "outputs": [
    {
     "name": "stdout",
     "output_type": "stream",
     "text": [
      "\u001b[31m0_setup_butler.sh\u001b[m\u001b[m               patch_job_dict.json\n",
      "\u001b[31m1_Ingest.slurm\u001b[m\u001b[m                  \u001b[31mphotopipe.sh\u001b[m\u001b[m\n",
      "2_processCcd.slurm              \u001b[31mprocessCcd.sh\u001b[m\u001b[m\n",
      "3_coadd.slurm                   processCcd_job_dict.json\n",
      "4_photopipe.slurm               w02_images_job_dict_254.json\n",
      "\u001b[34marchive\u001b[m\u001b[m                         w02_images_job_dict_306.json\n",
      "\u001b[31mcoadd.sh\u001b[m\u001b[m                        w02_patch_job_dict_386.json\n",
      "\u001b[31mcoaddDriver.sh\u001b[m\u001b[m                  w03_images_job_dict_2923.json\n",
      "\u001b[31mcopy_hsc.sh\u001b[m\u001b[m                     w03_images_job_dict_3222.json\n",
      "\u001b[31mcopy_hsc.slurm\u001b[m\u001b[m                  w03_images_job_dict_3595.json\n",
      "full_images_job_dict_17800.json w03_patch_job_dict_3342.json\n",
      "full_patch_job_dict_15557.json  w04_images_job_dict_14623.json\n",
      "\u001b[31mingest.sh\u001b[m\u001b[m                       w04_images_job_dict_15373.json\n",
      "jobDict.py                      w04_images_job_dict_15493.json\n",
      "\u001b[31mmultiBandDriver.sh\u001b[m\u001b[m              w04_images_job_dict_17171.json\n",
      "\u001b[31mmultiBandDriver.sh.old\u001b[m\u001b[m          w04_patch_job_dict_11829.json\n"
     ]
    }
   ],
   "source": [
    "!ls slurm"
   ]
  },
  {
   "cell_type": "code",
   "execution_count": 17,
   "metadata": {},
   "outputs": [
    {
     "name": "stdout",
     "output_type": "stream",
     "text": [
      "\n",
      "Full processing of all HSC PDR2/VHS overlap input images: 23340 cpu hours\n",
      "Full coadd of all patches: 29452 cpu hours\n",
      "Full photometry pipeline on all patches: 49339 cpu hours\n",
      "Total time for 17800 images and 15557 patches: 102132 cpu hours\n",
      "\n"
     ]
    }
   ],
   "source": [
    "n_viking_pdr2_images=17800 #../dmu4_VIKING/slurm/full_images_job_dict_17800.json\n",
    "n_viking_pdr2_patches=15557 #../dmu4_VIKING/slurm/full_patch_job_dict_15557.json\n",
    "\n",
    "mean_processCcd = np.mean(t['CompHrs'][(t['job_type'] == 'processCcd') &(t['State'] == 'COMPLETED') ])\n",
    "mean_coadd= np.mean(t['CompHrs'][(t['job_type'] == 'coadd') &(t['State'] == 'COMPLETED') ])\n",
    "mean_photo = np.mean(t['CompHrs'][(t['job_type'] == 'photoPipe') &(t['State'] == 'COMPLETED') ])\n",
    "\n",
    "print(\"\"\"\n",
    "Full processing of all HSC PDR2/VHS overlap input images: {} cpu hours\n",
    "Full coadd of all patches: {} cpu hours\n",
    "Full photometry pipeline on all patches: {} cpu hours\n",
    "Total time for {} images and {} patches: {} cpu hours\n",
    "\"\"\".format(\n",
    "    round(n_viking_pdr2_images * mean_processCcd),\n",
    "    round(n_viking_pdr2_patches* mean_coadd),\n",
    "    round(n_viking_pdr2_patches* mean_photo),\n",
    "    n_viking_pdr2_images, n_viking_pdr2_patches,\n",
    "    round(\n",
    "        n_viking_pdr2_images * mean_processCcd \n",
    "        + n_viking_pdr2_patches* mean_coadd\n",
    "        + n_viking_pdr2_patches* mean_photo\n",
    "    )\n",
    "))"
   ]
  },
  {
   "cell_type": "code",
   "execution_count": 18,
   "metadata": {},
   "outputs": [
    {
     "data": {
      "text/plain": [
       "'VIKING: images: 41615, tracts: 720'"
      ]
     },
     "execution_count": 18,
     "metadata": {},
     "output_type": "execute_result"
    }
   ],
   "source": [
    "vik=Table.read('../../dmu1/data/viking_images_overview_20210406.csv')\n",
    "n_vik=np.sum([s['file'].endswith('st.fit') for s in vik])\n",
    "vik_tiles=Table.read('../../dmu1/data/viking_tiles_tracts_patches_overview_20201218.csv')\n",
    "vik_tracts=set()\n",
    "for i in vik_tiles['tract_patch_json']:\n",
    "    vik_tracts=vik_tracts.union(set(json.loads(i).keys()))\n",
    "n_vik_tracts=len(vik_tracts)\n",
    "\"VIKING: images: {}, tracts: {}\".format(n_vik,n_vik_tracts)"
   ]
  },
  {
   "cell_type": "code",
   "execution_count": 19,
   "metadata": {},
   "outputs": [
    {
     "name": "stdout",
     "output_type": "stream",
     "text": [
      "\n",
      "Full processing of input images: 54567 cpu hours\n",
      "Full coadd of all patches: 110411 cpu hours\n",
      "Full photometry pipeline on all patches: 184963 cpu hours\n",
      "Total time for 41615 images and 58320 patches: 349941 cpu hours\n",
      "\n"
     ]
    }
   ],
   "source": [
    "n_vhs_all_images = n_vik \n",
    "n_vhs_all_patches =  n_vik_tracts*81\n",
    "\n",
    "mean_processCcd = np.mean(t['CompHrs'][(t['job_type'] == 'processCcd') &(t['State'] == 'COMPLETED') ])\n",
    "mean_coadd= np.mean(t['CompHrs'][(t['job_type'] == 'coadd') &(t['State'] == 'COMPLETED') ])\n",
    "mean_photo = np.mean(t['CompHrs'][(t['job_type'] == 'photoPipe') &(t['State'] == 'COMPLETED') ])\n",
    "\n",
    "print(\"\"\"\n",
    "Full processing of input images: {} cpu hours\n",
    "Full coadd of all patches: {} cpu hours\n",
    "Full photometry pipeline on all patches: {} cpu hours\n",
    "Total time for {} images and {} patches: {} cpu hours\n",
    "\"\"\".format(\n",
    "    round(n_vhs_all_images * mean_processCcd),\n",
    "    round(n_vhs_all_patches* mean_coadd ), #assume 6 times fewer images to coadd\n",
    "    round(n_vhs_all_patches* mean_photo ),  #assume JHK and LSST UGRIZY\n",
    "    n_vhs_all_images, n_vhs_all_patches,\n",
    "    round(\n",
    "        n_vhs_all_images * mean_processCcd \n",
    "        + n_vhs_all_patches* mean_coadd\n",
    "        + n_vhs_all_patches* mean_photo\n",
    "    )\n",
    "))"
   ]
  },
  {
   "cell_type": "code",
   "execution_count": 21,
   "metadata": {},
   "outputs": [
    {
     "data": {
      "image/png": "[encoded data removed]",
      "text/plain": [
       "<Figure size 432x288 with 1 Axes>"
      ]
     },
     "metadata": {
      "needs_background": "light"
     },
     "output_type": "display_data"
    }
   ],
   "source": [
    "plt.hist(t['CompHrs'][(t['job_type'] == 'processCcd') &(t['State'] == 'COMPLETED')],\n",
    "         range=[0,100],bins=30,density=True,label='processCcd',histtype='step')\n",
    "plt.hist(t['CompHrs'][(t['job_type'] == 'coadd') &(t['State'] == 'COMPLETED')],\n",
    "         range=[0,100],bins=30,density=True,label='coadd',histtype='step')\n",
    "plt.hist(t['CompHrs'][(t['job_type'] == 'photoPipe') &(t['State'] == 'COMPLETED')],\n",
    "         range=[0,100],bins=30,density=True,label='photoPipe',histtype='step')\n",
    "plt.xlabel('time [cpu hours]')\n",
    "plt.legend()\n",
    "plt.ylabel('fraction of jobs')\n",
    "plt.yscale('log')\n",
    "plt.savefig('./figs/job_times_hist.pdf', bbox_inches='tight')\n",
    "plt.savefig('./figs/job_times_hist.png', bbox_inches='tight')"
   ]
  },
  {
   "cell_type": "code",
   "execution_count": null,
   "metadata": {},
   "outputs": [],
   "source": []
  }
 ],
 "metadata": {
  "kernelspec": {
   "display_name": "Python 3 (ipykernel)",
   "language": "python",
   "name": "python3"
  },
  "language_info": {
   "codemirror_mode": {
    "name": "ipython",
    "version": 3
   },
   "file_extension": ".py",
   "mimetype": "text/x-python",
   "name": "python",
   "nbconvert_exporter": "python",
   "pygments_lexer": "ipython3",
   "version": "3.8.12"
  }
 },
 "nbformat": 4,
 "nbformat_minor": 4
}
