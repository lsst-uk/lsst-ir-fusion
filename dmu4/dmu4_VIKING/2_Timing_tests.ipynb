{
 "cells": [
  {
   "cell_type": "markdown",
   "metadata": {},
   "source": [
    "# Timing the VIKING XMM test run\n",
    "\n",
    "In this notebook we will investigate timing and requirements for the SXDS prototype run in order to estimate total computing requirements\n",
    "\n",
    "we will work with the file generated on iris by the following command:\n",
    "\n",
    "```\n",
    "gstatement -p IRIS-IP005-CPU -u ir-shir1 -s \"2021-04-01-00:00:00\" -e \"2021-04-21-11:00:00\" > meta/jobs_20210401_20210421.lis\n",
    "```\n",
    "\n",
    "This run was with the v21 obs package with kron, cmodel, and convolved aperture measurements"
   ]
  },
  {
   "cell_type": "code",
   "execution_count": 1,
   "metadata": {},
   "outputs": [],
   "source": [
    "from astropy.table import Table\n",
    "import numpy as np"
   ]
  },
  {
   "cell_type": "code",
   "execution_count": 2,
   "metadata": {},
   "outputs": [],
   "source": [
    "t = Table.read('./meta/jobs_20210401_20210421.lis', format='ascii') #, data_start=2, delimiter=' ')"
   ]
  },
  {
   "cell_type": "code",
   "execution_count": 5,
   "metadata": {},
   "outputs": [
    {
     "data": {
      "text/plain": [
       "'3557 jobs consuming a total of 7789.7 cpuhours'"
      ]
     },
     "execution_count": 5,
     "metadata": {},
     "output_type": "execute_result"
    }
   ],
   "source": [
    "\"{} jobs consuming a total of {} cpuhours\".format(len(t), round(np.sum(t['CompHrs']),1))"
   ]
  },
  {
   "cell_type": "code",
   "execution_count": 6,
   "metadata": {},
   "outputs": [
    {
     "data": {
      "text/html": [
       "<i>Table length=5</i>\n",
       "<table id=\"table140543037175120\" class=\"table-striped table-bordered table-condensed\">\n",
       "<thead><tr><th>JobID</th><th>User</th><th>Account</th><th>JobName</th><th>Partition</th><th>End</th><th>ExitCode</th><th>State</th><th>CompHrs</th></tr></thead>\n",
       "<thead><tr><th>int64</th><th>str8</th><th>str10</th><th>str10</th><th>str10</th><th>str19</th><th>str5</th><th>str10</th><th>float64</th></tr></thead>\n",
       "<tr><td>37304007</td><td>ir-shir1</td><td>iris-ip00+</td><td>cpujob</td><td>skylake</td><td>2021-04-06T19:05:28</td><td>0:0</td><td>COMPLETED</td><td>7.7</td></tr>\n",
       "<tr><td>37319566</td><td>ir-shir1</td><td>iris-ip00+</td><td>stackInst+</td><td>skylake</td><td>2021-04-06T16:57:09</td><td>0:0</td><td>CANCELLED+</td><td>1.4</td></tr>\n",
       "<tr><td>37323435</td><td>ir-shir1</td><td>iris-ip00+</td><td>stackInst+</td><td>skylake</td><td>2021-04-06T18:12:07</td><td>1:0</td><td>FAILED</td><td>1.2</td></tr>\n",
       "<tr><td>37368495</td><td>ir-shir1</td><td>iris-ip00+</td><td>stackInst+</td><td>skylake</td><td>2021-04-07T21:39:28</td><td>0:0</td><td>COMPLETED</td><td>8.0</td></tr>\n",
       "<tr><td>37368577</td><td>ir-shir1</td><td>iris-ip00+</td><td>cpujob</td><td>skylake</td><td>2021-04-09T01:49:56</td><td>0:0</td><td>TIMEOUT</td><td>36.0</td></tr>\n",
       "</table>"
      ],
      "text/plain": [
       "<Table length=5>\n",
       " JobID     User    Account    JobName   ... ExitCode   State    CompHrs\n",
       " int64     str8     str10      str10    ...   str5     str10    float64\n",
       "-------- -------- ---------- ---------- ... -------- ---------- -------\n",
       "37304007 ir-shir1 iris-ip00+     cpujob ...      0:0  COMPLETED     7.7\n",
       "37319566 ir-shir1 iris-ip00+ stackInst+ ...      0:0 CANCELLED+     1.4\n",
       "37323435 ir-shir1 iris-ip00+ stackInst+ ...      1:0     FAILED     1.2\n",
       "37368495 ir-shir1 iris-ip00+ stackInst+ ...      0:0  COMPLETED     8.0\n",
       "37368577 ir-shir1 iris-ip00+     cpujob ...      0:0    TIMEOUT    36.0"
      ]
     },
     "execution_count": 6,
     "metadata": {},
     "output_type": "execute_result"
    }
   ],
   "source": [
    "t[:5]"
   ]
  },
  {
   "cell_type": "code",
   "execution_count": 7,
   "metadata": {},
   "outputs": [
    {
     "data": {
      "text/html": [
       "<i>Table length=5</i>\n",
       "<table id=\"table140543037175568\" class=\"table-striped table-bordered table-condensed\">\n",
       "<thead><tr><th>JobID</th><th>User</th><th>Account</th><th>JobName</th><th>Partition</th><th>End</th><th>ExitCode</th><th>State</th><th>CompHrs</th></tr></thead>\n",
       "<thead><tr><th>int64</th><th>str8</th><th>str10</th><th>str10</th><th>str10</th><th>str19</th><th>str5</th><th>str10</th><th>float64</th></tr></thead>\n",
       "<tr><td>38360869381</td><td>ir-shir1</td><td>iris-ip00+</td><td>VIKphotop+</td><td>skylake</td><td>2021-04-20T16:41:39</td><td>0:0</td><td>COMPLETED</td><td>1.4</td></tr>\n",
       "<tr><td>38360869382</td><td>ir-shir1</td><td>iris-ip00+</td><td>VIKphotop+</td><td>skylake</td><td>2021-04-20T19:13:03</td><td>0:0</td><td>COMPLETED</td><td>4.0</td></tr>\n",
       "<tr><td>38360869383</td><td>ir-shir1</td><td>iris-ip00+</td><td>VIKphotop+</td><td>skylake</td><td>2021-04-20T19:33:59</td><td>0:0</td><td>COMPLETED</td><td>4.3</td></tr>\n",
       "<tr><td>38360869384</td><td>ir-shir1</td><td>iris-ip00+</td><td>VIKphotop+</td><td>skylake</td><td>2021-04-20T17:55:01</td><td>0:0</td><td>COMPLETED</td><td>2.7</td></tr>\n",
       "<tr><td>38360869385</td><td>ir-shir1</td><td>iris-ip00+</td><td>VIKphotop+</td><td>skylake</td><td>2021-04-20T18:44:30</td><td>0:0</td><td>COMPLETED</td><td>3.5</td></tr>\n",
       "</table>"
      ],
      "text/plain": [
       "<Table length=5>\n",
       "   JobID      User    Account    JobName   ... ExitCode   State   CompHrs\n",
       "   int64      str8     str10      str10    ...   str5     str10   float64\n",
       "----------- -------- ---------- ---------- ... -------- --------- -------\n",
       "38360869381 ir-shir1 iris-ip00+ VIKphotop+ ...      0:0 COMPLETED     1.4\n",
       "38360869382 ir-shir1 iris-ip00+ VIKphotop+ ...      0:0 COMPLETED     4.0\n",
       "38360869383 ir-shir1 iris-ip00+ VIKphotop+ ...      0:0 COMPLETED     4.3\n",
       "38360869384 ir-shir1 iris-ip00+ VIKphotop+ ...      0:0 COMPLETED     2.7\n",
       "38360869385 ir-shir1 iris-ip00+ VIKphotop+ ...      0:0 COMPLETED     3.5"
      ]
     },
     "execution_count": 7,
     "metadata": {},
     "output_type": "execute_result"
    }
   ],
   "source": [
    "t[-5:]"
   ]
  },
  {
   "cell_type": "code",
   "execution_count": 8,
   "metadata": {},
   "outputs": [
    {
     "data": {
      "text/html": [
       "&lt;Column name=&apos;JobName&apos; dtype=&apos;str10&apos; length=6&gt;\n",
       "<table>\n",
       "<tr><td>VIK_INGEST</td></tr>\n",
       "<tr><td>VIKcoadd</td></tr>\n",
       "<tr><td>VIKphotop+</td></tr>\n",
       "<tr><td>VIKproces+</td></tr>\n",
       "<tr><td>cpujob</td></tr>\n",
       "<tr><td>stackInst+</td></tr>\n",
       "</table>"
      ],
      "text/plain": [
       "<Column name='JobName' dtype='str10' length=6>\n",
       "VIK_INGEST\n",
       "  VIKcoadd\n",
       "VIKphotop+\n",
       "VIKproces+\n",
       "    cpujob\n",
       "stackInst+"
      ]
     },
     "execution_count": 8,
     "metadata": {},
     "output_type": "execute_result"
    }
   ],
   "source": [
    "np.unique(t['JobName'])"
   ]
  },
  {
   "cell_type": "code",
   "execution_count": 9,
   "metadata": {},
   "outputs": [],
   "source": [
    "def nameToJobType(name):\n",
    "    \"\"\"Take the name and return the tipe of pipetask\"\"\"\n",
    "    job_type = 'UNKNOWN'\n",
    "    if name.startswith('VIKproc'):\n",
    "        job_type = 'processCcd'\n",
    "    if name.startswith('VIKcoadd'):\n",
    "        job_type = 'coadd'\n",
    "    if name.startswith('VIKphot'):\n",
    "        job_type = 'photoPipe'\n",
    "    return job_type\n",
    "t['job_type']  = [nameToJobType(n) for n in t['JobName']]"
   ]
  },
  {
   "cell_type": "code",
   "execution_count": 10,
   "metadata": {},
   "outputs": [
    {
     "data": {
      "text/html": [
       "<i>Table length=5</i>\n",
       "<table id=\"table140542741285520\" class=\"table-striped table-bordered table-condensed\">\n",
       "<thead><tr><th>JobID</th><th>User</th><th>Account</th><th>JobName</th><th>Partition</th><th>End</th><th>ExitCode</th><th>State</th><th>CompHrs</th><th>job_type</th></tr></thead>\n",
       "<thead><tr><th>int64</th><th>str8</th><th>str10</th><th>str10</th><th>str10</th><th>str19</th><th>str5</th><th>str10</th><th>float64</th><th>str10</th></tr></thead>\n",
       "<tr><td>37304007</td><td>ir-shir1</td><td>iris-ip00+</td><td>cpujob</td><td>skylake</td><td>2021-04-06T19:05:28</td><td>0:0</td><td>COMPLETED</td><td>7.7</td><td>UNKNOWN</td></tr>\n",
       "<tr><td>37319566</td><td>ir-shir1</td><td>iris-ip00+</td><td>stackInst+</td><td>skylake</td><td>2021-04-06T16:57:09</td><td>0:0</td><td>CANCELLED+</td><td>1.4</td><td>UNKNOWN</td></tr>\n",
       "<tr><td>37323435</td><td>ir-shir1</td><td>iris-ip00+</td><td>stackInst+</td><td>skylake</td><td>2021-04-06T18:12:07</td><td>1:0</td><td>FAILED</td><td>1.2</td><td>UNKNOWN</td></tr>\n",
       "<tr><td>37368495</td><td>ir-shir1</td><td>iris-ip00+</td><td>stackInst+</td><td>skylake</td><td>2021-04-07T21:39:28</td><td>0:0</td><td>COMPLETED</td><td>8.0</td><td>UNKNOWN</td></tr>\n",
       "<tr><td>37368577</td><td>ir-shir1</td><td>iris-ip00+</td><td>cpujob</td><td>skylake</td><td>2021-04-09T01:49:56</td><td>0:0</td><td>TIMEOUT</td><td>36.0</td><td>UNKNOWN</td></tr>\n",
       "</table>"
      ],
      "text/plain": [
       "<Table length=5>\n",
       " JobID     User    Account    JobName   ... ExitCode   State    CompHrs job_type\n",
       " int64     str8     str10      str10    ...   str5     str10    float64  str10  \n",
       "-------- -------- ---------- ---------- ... -------- ---------- ------- --------\n",
       "37304007 ir-shir1 iris-ip00+     cpujob ...      0:0  COMPLETED     7.7  UNKNOWN\n",
       "37319566 ir-shir1 iris-ip00+ stackInst+ ...      0:0 CANCELLED+     1.4  UNKNOWN\n",
       "37323435 ir-shir1 iris-ip00+ stackInst+ ...      1:0     FAILED     1.2  UNKNOWN\n",
       "37368495 ir-shir1 iris-ip00+ stackInst+ ...      0:0  COMPLETED     8.0  UNKNOWN\n",
       "37368577 ir-shir1 iris-ip00+     cpujob ...      0:0    TIMEOUT    36.0  UNKNOWN"
      ]
     },
     "execution_count": 10,
     "metadata": {},
     "output_type": "execute_result"
    }
   ],
   "source": [
    "t[:5]"
   ]
  },
  {
   "cell_type": "code",
   "execution_count": 11,
   "metadata": {},
   "outputs": [
    {
     "name": "stdout",
     "output_type": "stream",
     "text": [
      "processCcd jobs run on stack images in SXDS\n",
      "\n",
      "Total number of jobs: 1226\n",
      "Jobs completed: 903\n",
      "mean per job: 0.30399673735725935 cpu hours\n",
      "mean per completed job: 0.4068660022148395 cpu hours\n",
      "Total time: 372.7 cpu hours\n",
      "Total time on completed jobs: 367.40000000000003 cpu hours\n",
      "\n"
     ]
    }
   ],
   "source": [
    "print(\"\"\"processCcd jobs run on stack images in SXDS\n",
    "\n",
    "Total number of jobs: {}\n",
    "Jobs completed: {}\n",
    "mean per job: {} cpu hours\n",
    "mean per completed job: {} cpu hours\n",
    "Total time: {} cpu hours\n",
    "Total time on completed jobs: {} cpu hours\n",
    "\"\"\".format(\n",
    "np.sum(t['job_type'] == 'processCcd'),\n",
    "np.sum((t['job_type'] == 'processCcd') &(t['State'] == 'COMPLETED') ),\n",
    "np.mean(t['CompHrs'][(t['job_type'] == 'processCcd') ]),\n",
    "np.mean(t['CompHrs'][(t['job_type'] == 'processCcd') &(t['State'] == 'COMPLETED') ]),\n",
    "np.sum(t['CompHrs'][(t['job_type'] == 'processCcd') ]),\n",
    "np.sum(t['CompHrs'][(t['job_type'] == 'processCcd') &(t['State'] == 'COMPLETED') ])\n",
    ")\n",
    ")\n"
   ]
  },
  {
   "cell_type": "code",
   "execution_count": 12,
   "metadata": {},
   "outputs": [
    {
     "name": "stdout",
     "output_type": "stream",
     "text": [
      "coadd jobs run on stack images in SXDS\n",
      "\n",
      "Total number of jobs: 773\n",
      "Jobs completed: 772\n",
      "mean per job: 0.26248382923673996 cpu hours\n",
      "mean per completed job: 0.26282383419689115 cpu hours\n",
      "Total time: 202.89999999999998 cpu hours\n",
      "Total time on completed jobs: 202.89999999999998 cpu hours\n",
      "\n"
     ]
    }
   ],
   "source": [
    "print(\"\"\"coadd jobs run on stack images in SXDS\n",
    "\n",
    "Total number of jobs: {}\n",
    "Jobs completed: {}\n",
    "mean per job: {} cpu hours\n",
    "mean per completed job: {} cpu hours\n",
    "Total time: {} cpu hours\n",
    "Total time on completed jobs: {} cpu hours\n",
    "\"\"\".format(\n",
    "np.sum(t['job_type'] == 'coadd'),\n",
    "np.sum((t['job_type'] == 'coadd') &(t['State'] == 'COMPLETED') ),\n",
    "np.mean(t['CompHrs'][(t['job_type'] == 'coadd') ]),\n",
    "np.mean(t['CompHrs'][(t['job_type'] == 'coadd') &(t['State'] == 'COMPLETED') ]),\n",
    "np.sum(t['CompHrs'][(t['job_type'] == 'coadd') ]),\n",
    "np.sum(t['CompHrs'][(t['job_type'] == 'coadd') &(t['State'] == 'COMPLETED') ])\n",
    ")\n",
    ")"
   ]
  },
  {
   "cell_type": "code",
   "execution_count": null,
   "metadata": {},
   "outputs": [],
   "source": [
    "#It is worrying that these times are close to the 36 hour maximum. Can I split them up?"
   ]
  },
  {
   "cell_type": "code",
   "execution_count": 13,
   "metadata": {},
   "outputs": [
    {
     "name": "stdout",
     "output_type": "stream",
     "text": [
      "photoPipe jobs run on stack images in SXDS\n",
      "\n",
      "Total number of jobs: 1547\n",
      "Jobs completed: 384\n",
      "mean per job: 4.618034906270201 cpu hours\n",
      "mean per completed job: 3.804166666666666 cpu hours\n",
      "Total time: 7144.1 cpu hours\n",
      "Total time on completed jobs: 1460.7999999999997 cpu hours\n",
      "\n"
     ]
    }
   ],
   "source": [
    "#Most of these are failures from memory shortages at teh coadd stage before I separated them\n",
    "print(\"\"\"photoPipe jobs run on stack images in SXDS\n",
    "\n",
    "Total number of jobs: {}\n",
    "Jobs completed: {}\n",
    "mean per job: {} cpu hours\n",
    "mean per completed job: {} cpu hours\n",
    "Total time: {} cpu hours\n",
    "Total time on completed jobs: {} cpu hours\n",
    "\"\"\".format(\n",
    "np.sum(t['job_type'] == 'photoPipe'),\n",
    "np.sum((t['job_type'] == 'photoPipe') &(t['State'] == 'COMPLETED') ),\n",
    "np.mean(t['CompHrs'][(t['job_type'] == 'photoPipe') ]),\n",
    "np.mean(t['CompHrs'][(t['job_type'] == 'photoPipe') &(t['State'] == 'COMPLETED') ]),\n",
    "np.sum(t['CompHrs'][(t['job_type'] == 'photoPipe') ]),\n",
    "np.sum(t['CompHrs'][(t['job_type'] == 'photoPipe') &(t['State'] == 'COMPLETED') ])\n",
    ")\n",
    ")"
   ]
  },
  {
   "cell_type": "code",
   "execution_count": 14,
   "metadata": {},
   "outputs": [
    {
     "data": {
      "text/plain": [
       "10.7"
      ]
     },
     "execution_count": 14,
     "metadata": {},
     "output_type": "execute_result"
    }
   ],
   "source": [
    "np.max(t['CompHrs'][(t['job_type'] == 'photoPipe') &(t['State'] == 'COMPLETED') ])"
   ]
  },
  {
   "cell_type": "code",
   "execution_count": 15,
   "metadata": {},
   "outputs": [
    {
     "data": {
      "text/html": [
       "<i>Table length=1</i>\n",
       "<table id=\"table140542741286288\" class=\"table-striped table-bordered table-condensed\">\n",
       "<thead><tr><th>JobID</th><th>User</th><th>Account</th><th>JobName</th><th>Partition</th><th>End</th><th>ExitCode</th><th>State</th><th>CompHrs</th><th>job_type</th></tr></thead>\n",
       "<thead><tr><th>int64</th><th>str8</th><th>str10</th><th>str10</th><th>str10</th><th>str19</th><th>str5</th><th>str10</th><th>float64</th><th>str10</th></tr></thead>\n",
       "<tr><td>37988916386</td><td>ir-shir1</td><td>iris-ip00+</td><td>VIKcoadd</td><td>skylake-h+</td><td>2021-04-16T18:00:17</td><td>2:0</td><td>FAILED</td><td>0.0</td><td>coadd</td></tr>\n",
       "</table>"
      ],
      "text/plain": [
       "<Table length=1>\n",
       "   JobID      User    Account   JobName  ... ExitCode State  CompHrs job_type\n",
       "   int64      str8     str10     str10   ...   str5   str10  float64  str10  \n",
       "----------- -------- ---------- -------- ... -------- ------ ------- --------\n",
       "37988916386 ir-shir1 iris-ip00+ VIKcoadd ...      2:0 FAILED     0.0    coadd"
      ]
     },
     "execution_count": 15,
     "metadata": {},
     "output_type": "execute_result"
    }
   ],
   "source": [
    "t[(t['job_type']=='coadd') & (t['State'] == 'FAILED')][:5]"
   ]
  },
  {
   "cell_type": "code",
   "execution_count": 16,
   "metadata": {},
   "outputs": [
    {
     "data": {
      "text/html": [
       "&lt;Column name=&apos;ExitCode&apos; dtype=&apos;str5&apos; length=1&gt;\n",
       "<table>\n",
       "<tr><td>2:0</td></tr>\n",
       "</table>"
      ],
      "text/plain": [
       "<Column name='ExitCode' dtype='str5' length=1>\n",
       "2:0"
      ]
     },
     "execution_count": 16,
     "metadata": {},
     "output_type": "execute_result"
    }
   ],
   "source": [
    "np.unique(t[(t['job_type']=='coadd') & (t['State'] == 'FAILED')]['ExitCode'])"
   ]
  },
  {
   "cell_type": "code",
   "execution_count": 17,
   "metadata": {},
   "outputs": [
    {
     "data": {
      "text/html": [
       "<i>Table length=5</i>\n",
       "<table id=\"table140542741284304\" class=\"table-striped table-bordered table-condensed\">\n",
       "<thead><tr><th>JobID</th><th>User</th><th>Account</th><th>JobName</th><th>Partition</th><th>End</th><th>ExitCode</th><th>State</th><th>CompHrs</th><th>job_type</th></tr></thead>\n",
       "<thead><tr><th>int64</th><th>str8</th><th>str10</th><th>str10</th><th>str10</th><th>str19</th><th>str5</th><th>str10</th><th>float64</th><th>str10</th></tr></thead>\n",
       "<tr><td>379889160</td><td>ir-shir1</td><td>iris-ip00+</td><td>VIKcoadd</td><td>skylake-h+</td><td>2021-04-16T18:15:47</td><td>0:0</td><td>COMPLETED</td><td>0.3</td><td>coadd</td></tr>\n",
       "<tr><td>379889161</td><td>ir-shir1</td><td>iris-ip00+</td><td>VIKcoadd</td><td>skylake-h+</td><td>2021-04-16T18:15:47</td><td>0:0</td><td>COMPLETED</td><td>0.3</td><td>coadd</td></tr>\n",
       "<tr><td>379889162</td><td>ir-shir1</td><td>iris-ip00+</td><td>VIKcoadd</td><td>skylake-h+</td><td>2021-04-16T18:15:17</td><td>0:0</td><td>COMPLETED</td><td>0.3</td><td>coadd</td></tr>\n",
       "<tr><td>379889163</td><td>ir-shir1</td><td>iris-ip00+</td><td>VIKcoadd</td><td>skylake-h+</td><td>2021-04-16T18:15:13</td><td>0:0</td><td>COMPLETED</td><td>0.3</td><td>coadd</td></tr>\n",
       "<tr><td>379889164</td><td>ir-shir1</td><td>iris-ip00+</td><td>VIKcoadd</td><td>skylake-h+</td><td>2021-04-16T18:15:13</td><td>0:0</td><td>COMPLETED</td><td>0.3</td><td>coadd</td></tr>\n",
       "</table>"
      ],
      "text/plain": [
       "<Table length=5>\n",
       "  JobID     User    Account   JobName  ... ExitCode   State   CompHrs job_type\n",
       "  int64     str8     str10     str10   ...   str5     str10   float64  str10  \n",
       "--------- -------- ---------- -------- ... -------- --------- ------- --------\n",
       "379889160 ir-shir1 iris-ip00+ VIKcoadd ...      0:0 COMPLETED     0.3    coadd\n",
       "379889161 ir-shir1 iris-ip00+ VIKcoadd ...      0:0 COMPLETED     0.3    coadd\n",
       "379889162 ir-shir1 iris-ip00+ VIKcoadd ...      0:0 COMPLETED     0.3    coadd\n",
       "379889163 ir-shir1 iris-ip00+ VIKcoadd ...      0:0 COMPLETED     0.3    coadd\n",
       "379889164 ir-shir1 iris-ip00+ VIKcoadd ...      0:0 COMPLETED     0.3    coadd"
      ]
     },
     "execution_count": 17,
     "metadata": {},
     "output_type": "execute_result"
    }
   ],
   "source": [
    "t[(t['job_type']=='coadd') ][:5]"
   ]
  },
  {
   "cell_type": "markdown",
   "metadata": {},
   "source": [
    "# 2 Calculate total times\n",
    "\n",
    "Lets calculate some broad estimates for the main runs we will go on to perform"
   ]
  },
  {
   "cell_type": "markdown",
   "metadata": {},
   "source": [
    "## 2.1 SXDS VIKING run\n",
    "\n",
    "This is the run used for the timing tests."
   ]
  },
  {
   "cell_type": "code",
   "execution_count": 20,
   "metadata": {},
   "outputs": [
    {
     "name": "stdout",
     "output_type": "stream",
     "text": [
      "\n",
      "Full processing of input images: 157 cpu hours\n",
      "Full coadd of all patches: 80 cpu hours\n",
      "Full photometry pipeline on all patches: 1164 cpu hours\n",
      "Total time for 386 images and 306 patches: 1402 cpu hours\n",
      "\n"
     ]
    }
   ],
   "source": [
    "n_viking_sxds_images = 386 # From ./1_SLurm_factory.ipynb\n",
    "n_viking_sxds_patches = 306 # From ./1_SLurm_factory.ipynb\n",
    "\n",
    "mean_processCcd = np.mean(t['CompHrs'][(t['job_type'] == 'processCcd') &(t['State'] == 'COMPLETED') ])\n",
    "mean_coadd= np.mean(t['CompHrs'][(t['job_type'] == 'coadd') &(t['State'] == 'COMPLETED') ])\n",
    "mean_photo = np.mean(t['CompHrs'][(t['job_type'] == 'photoPipe') &(t['State'] == 'COMPLETED') ])\n",
    "\n",
    "print(\"\"\"\n",
    "Full processing of input images: {} cpu hours\n",
    "Full coadd of all patches: {} cpu hours\n",
    "Full photometry pipeline on all patches: {} cpu hours\n",
    "Total time for {} images and {} patches: {} cpu hours\n",
    "\"\"\".format(\n",
    "    round(n_viking_sxds_images * mean_processCcd),\n",
    "    round(n_viking_sxds_patches* mean_coadd),\n",
    "    round(n_viking_sxds_patches* mean_photo),\n",
    "    n_viking_sxds_images, n_video_sxds_patches,\n",
    "    round(\n",
    "        n_viking_sxds_images * mean_processCcd \n",
    "        + n_viking_sxds_patches* mean_coadd\n",
    "        + n_viking_sxds_patches* mean_photo\n",
    "    )\n",
    "))\n",
    "    "
   ]
  },
  {
   "cell_type": "markdown",
   "metadata": {},
   "source": [
    "## 2.2 Full VIKING overlap estimate\n",
    "\n",
    "Run over full overlap of VHS and HSC PDR2 XMM field"
   ]
  },
  {
   "cell_type": "code",
   "execution_count": 21,
   "metadata": {},
   "outputs": [
    {
     "name": "stdout",
     "output_type": "stream",
     "text": [
      "\n",
      "Full processing of input images: 8573 cpu hours\n",
      "Full coadd of all patches: 4089 cpu hours\n",
      "Full photometry pipeline on all patches: 59181 cpu hours\n",
      "Total time for 21072 images and 15557 patches: 71844 cpu hours\n",
      "\n"
     ]
    }
   ],
   "source": [
    "n_vhs_xmm_images = 306+3595+17171 # From ./1_Slurm_factory.ipynb\n",
    "n_vhs_xmm_patches = 386+3342+11829 #Rough from tract numbers\n",
    "\n",
    "mean_processCcd = np.mean(t['CompHrs'][(t['job_type'] == 'processCcd') &(t['State'] == 'COMPLETED') ])\n",
    "mean_coadd= np.mean(t['CompHrs'][(t['job_type'] == 'coadd') &(t['State'] == 'COMPLETED') ])\n",
    "mean_photo = np.mean(t['CompHrs'][(t['job_type'] == 'photoPipe') &(t['State'] == 'COMPLETED') ])\n",
    "\n",
    "print(\"\"\"\n",
    "Full processing of input images: {} cpu hours\n",
    "Full coadd of all patches: {} cpu hours\n",
    "Full photometry pipeline on all patches: {} cpu hours\n",
    "Total time for {} images and {} patches: {} cpu hours\n",
    "\"\"\".format(\n",
    "    round(n_vhs_xmm_images * mean_processCcd),\n",
    "    round(n_vhs_xmm_patches* mean_coadd),\n",
    "    round(n_vhs_xmm_patches* mean_photo),\n",
    "    n_vhs_xmm_images, n_vhs_xmm_patches,\n",
    "    round(\n",
    "        n_vhs_xmm_images * mean_processCcd \n",
    "        + n_vhs_xmm_patches* mean_coadd\n",
    "        + n_vhs_xmm_patches* mean_photo\n",
    "    )\n",
    "))"
   ]
  },
  {
   "cell_type": "markdown",
   "metadata": {},
   "source": [
    "## 2.3 VIKING complete run\n",
    "\n",
    "A first run might not include combination with GRIZY data prior to LSST but we can can simply use the HSC/VISTA SXDS times to estimate here.\n",
    "\n",
    "For now this is just using the VHS all sky numbers. This will therefore constitute an upper limit on the VHS all sky run. How much more than the HSC wide area is there?"
   ]
  },
  {
   "cell_type": "code",
   "execution_count": 22,
   "metadata": {},
   "outputs": [
    {
     "name": "stdout",
     "output_type": "stream",
     "text": [
      "\n",
      "Full processing of input images: 83406 cpu hours\n",
      "Full coadd of all patches: 29355 cpu hours\n",
      "Full photometry pipeline on all patches: 2549313 cpu hours\n",
      "Total time for 204996 images and 670137 patches: 2662073 cpu hours\n",
      "\n"
     ]
    }
   ],
   "source": [
    "n_vhs_xmm_images = 204996 # From ../dmu1/data/vhs_images_overview_$DATE.fits\n",
    "n_vhs_xmm_patches =  670137# From ../dmu1/data/vhs_tiles_tracts_patches.fits\n",
    "\n",
    "mean_processCcd = np.mean(t['CompHrs'][(t['job_type'] == 'processCcd') &(t['State'] == 'COMPLETED') ])\n",
    "mean_coadd= np.mean(t['CompHrs'][(t['job_type'] == 'coadd') &(t['State'] == 'COMPLETED') ])\n",
    "mean_photo = np.mean(t['CompHrs'][(t['job_type'] == 'photoPipe') &(t['State'] == 'COMPLETED') ])\n",
    "\n",
    "print(\"\"\"\n",
    "Full processing of input images: {} cpu hours\n",
    "Full coadd of all patches: {} cpu hours\n",
    "Full photometry pipeline on all patches: {} cpu hours\n",
    "Total time for {} images and {} patches: {} cpu hours\n",
    "\"\"\".format(\n",
    "    round(n_vhs_xmm_images * mean_processCcd),\n",
    "    round(n_vhs_xmm_patches* mean_coadd /6), #assume 6 times fewer images to coadd\n",
    "    round(n_vhs_xmm_patches* mean_photo ),  #assume JHK and LSST UGRIZY\n",
    "    n_vhs_xmm_images, n_vhs_xmm_patches,\n",
    "    round(\n",
    "        n_vhs_xmm_images * mean_processCcd \n",
    "        + n_vhs_xmm_patches* mean_coadd/6\n",
    "        + n_vhs_xmm_patches* mean_photo\n",
    "    )\n",
    "))"
   ]
  },
  {
   "cell_type": "code",
   "execution_count": null,
   "metadata": {},
   "outputs": [],
   "source": []
  }
 ],
 "metadata": {
  "kernelspec": {
   "display_name": "Python 3 (ipykernel)",
   "language": "python",
   "name": "python3"
  },
  "language_info": {
   "codemirror_mode": {
    "name": "ipython",
    "version": 3
   },
   "file_extension": ".py",
   "mimetype": "text/x-python",
   "name": "python",
   "nbconvert_exporter": "python",
   "pygments_lexer": "ipython3",
   "version": "3.8.12"
  }
 },
 "nbformat": 4,
 "nbformat_minor": 4
}
