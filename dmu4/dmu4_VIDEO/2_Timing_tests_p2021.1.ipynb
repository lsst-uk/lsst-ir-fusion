{
 "cells": [
  {
   "cell_type": "markdown",
   "metadata": {},
   "source": [
    "# Timing the SXDS run\n",
    "\n",
    "In this notebook we will investigate timing and requirements for the SXDS prototype run in order to estimate total computing requirements\n",
    "\n",
    "we wil work with the file generated on iris by the following command:\n",
    "\n",
    "```\n",
    "gstatement -p IRIS-IP005-CPU -u ir-shir1 -s \"2020-07-04-00:00:00\" -e \"2020-10-21-00:00:00\" > jobs.lis\n",
    "```"
   ]
  },
  {
   "cell_type": "code",
   "execution_count": 2,
   "metadata": {},
   "outputs": [
    {
     "name": "stdout",
     "output_type": "stream",
     "text": [
      "lsst_distrib          g2d4714e03a+6e1aa0b536 \tcurrent w_2022_07 w_latest setup\n",
      "obs_vista             23.0.0-1   \tcurrent setup\n"
     ]
    }
   ],
   "source": [
    "# What version of the Stack are we using?\n",
    "! eups list -s | grep lsst_distrib\n",
    "! eups list -s | grep obs_vista"
   ]
  },
  {
   "cell_type": "code",
   "execution_count": 23,
   "metadata": {},
   "outputs": [],
   "source": [
    "from astropy.table import Table\n",
    "import numpy as np\n",
    "import matplotlib.pyplot as plt\n",
    "%matplotlib inline\n",
    "import json"
   ]
  },
  {
   "cell_type": "code",
   "execution_count": 4,
   "metadata": {},
   "outputs": [],
   "source": [
    "t = Table.read('./slurm/jobs_20220217.lis', format='ascii') #, data_start=2, delimiter=' ')"
   ]
  },
  {
   "cell_type": "code",
   "execution_count": 5,
   "metadata": {},
   "outputs": [
    {
     "data": {
      "text/plain": [
       "'I have submitted a total of 701480 jobs consuming a total of 1225031.9 cpuhours'"
      ]
     },
     "execution_count": 5,
     "metadata": {},
     "output_type": "execute_result"
    }
   ],
   "source": [
    "\"I have submitted a total of {} jobs consuming a total of {} cpuhours\".format(len(t), np.sum(t['CompHrs']))"
   ]
  },
  {
   "cell_type": "code",
   "execution_count": 6,
   "metadata": {},
   "outputs": [
    {
     "data": {
      "text/html": [
       "<div><i>Table length=5</i>\n",
       "<table id=\"table140497105496144\" class=\"table-striped table-bordered table-condensed\">\n",
       "<thead><tr><th>JobID</th><th>User</th><th>Account</th><th>JobName</th><th>Partition</th><th>End</th><th>ExitCode</th><th>State</th><th>CompHrs</th></tr></thead>\n",
       "<thead><tr><th>str12</th><th>str8</th><th>str10</th><th>str10</th><th>str10</th><th>str19</th><th>str5</th><th>str10</th><th>float64</th></tr></thead>\n",
       "<tr><td>25933230</td><td>ir-shir1</td><td>iris-ip00+</td><td>cpujob</td><td>skylake</td><td>2020-07-13T16:18:36</td><td>127:0</td><td>FAILED</td><td>0.1</td></tr>\n",
       "<tr><td>25940256</td><td>ir-shir1</td><td>iris-ip00+</td><td>cpujob</td><td>skylake</td><td>2020-07-14T00:08:41</td><td>1:0</td><td>FAILED</td><td>74.2</td></tr>\n",
       "<tr><td>25948528</td><td>ir-shir1</td><td>iris-ip00+</td><td>cpujob</td><td>skylake</td><td>2020-07-14T14:34:59</td><td>0:0</td><td>COMPLETED</td><td>254.3</td></tr>\n",
       "<tr><td>26005193</td><td>ir-shir1</td><td>iris-ip00+</td><td>cpujob</td><td>skylake</td><td>2020-07-16T03:59:49</td><td>0:0</td><td>TIMEOUT</td><td>640.0</td></tr>\n",
       "<tr><td>26027949</td><td>ir-shir1</td><td>iris-ip00+</td><td>cpujob</td><td>skylake</td><td>2020-07-17T10:46:53</td><td>0:0</td><td>TIMEOUT</td><td>1536.4</td></tr>\n",
       "</table></div>"
      ],
      "text/plain": [
       "<Table length=5>\n",
       " JobID     User    Account   JobName Partition         End         ExitCode   State   CompHrs\n",
       " str12     str8     str10     str10    str10          str19          str5     str10   float64\n",
       "-------- -------- ---------- ------- --------- ------------------- -------- --------- -------\n",
       "25933230 ir-shir1 iris-ip00+  cpujob   skylake 2020-07-13T16:18:36    127:0    FAILED     0.1\n",
       "25940256 ir-shir1 iris-ip00+  cpujob   skylake 2020-07-14T00:08:41      1:0    FAILED    74.2\n",
       "25948528 ir-shir1 iris-ip00+  cpujob   skylake 2020-07-14T14:34:59      0:0 COMPLETED   254.3\n",
       "26005193 ir-shir1 iris-ip00+  cpujob   skylake 2020-07-16T03:59:49      0:0   TIMEOUT   640.0\n",
       "26027949 ir-shir1 iris-ip00+  cpujob   skylake 2020-07-17T10:46:53      0:0   TIMEOUT  1536.4"
      ]
     },
     "execution_count": 6,
     "metadata": {},
     "output_type": "execute_result"
    }
   ],
   "source": [
    "t[:5]"
   ]
  },
  {
   "cell_type": "code",
   "execution_count": 7,
   "metadata": {},
   "outputs": [
    {
     "data": {
      "text/html": [
       "<div><i>Table length=5</i>\n",
       "<table id=\"table140497244508064\" class=\"table-striped table-bordered table-condensed\">\n",
       "<thead><tr><th>JobID</th><th>User</th><th>Account</th><th>JobName</th><th>Partition</th><th>End</th><th>ExitCode</th><th>State</th><th>CompHrs</th></tr></thead>\n",
       "<thead><tr><th>str12</th><th>str8</th><th>str10</th><th>str10</th><th>str10</th><th>str19</th><th>str5</th><th>str10</th><th>float64</th></tr></thead>\n",
       "<tr><td>55293868_9</td><td>ir-shir1</td><td>iris-ip00+</td><td>VIDproces+</td><td>cclake</td><td>2022-02-15T16:04:52</td><td>1:0</td><td>FAILED</td><td>0.0</td></tr>\n",
       "<tr><td>55293868_10</td><td>ir-shir1</td><td>iris-ip00+</td><td>VIDproces+</td><td>cclake</td><td>2022-02-15T16:04:52</td><td>1:0</td><td>FAILED</td><td>0.0</td></tr>\n",
       "<tr><td>55300357</td><td>ir-shir1</td><td>iris-ip00+</td><td>vidSingFr+</td><td>cclake</td><td>2022-02-16T06:09:35</td><td>0:0</td><td>TIMEOUT</td><td>672.4</td></tr>\n",
       "<tr><td>55303059_0</td><td>ir-shir1</td><td>iris-ip00+</td><td>VIDproces+</td><td>cclake</td><td>2022-02-16T11:09:47</td><td>0:0</td><td>CANCELLED+</td><td>15.9</td></tr>\n",
       "<tr><td>55318689</td><td>ir-shir1</td><td>iris-ip00+</td><td>vidSingFr+</td><td>cclake</td><td>2022-02-17T00:27:42</td><td>0:0</td><td>TIMEOUT</td><td>672.3</td></tr>\n",
       "</table></div>"
      ],
      "text/plain": [
       "<Table length=5>\n",
       "   JobID      User    Account    JobName   Partition         End         ExitCode   State    CompHrs\n",
       "   str12      str8     str10      str10      str10          str19          str5     str10    float64\n",
       "----------- -------- ---------- ---------- --------- ------------------- -------- ---------- -------\n",
       " 55293868_9 ir-shir1 iris-ip00+ VIDproces+    cclake 2022-02-15T16:04:52      1:0     FAILED     0.0\n",
       "55293868_10 ir-shir1 iris-ip00+ VIDproces+    cclake 2022-02-15T16:04:52      1:0     FAILED     0.0\n",
       "   55300357 ir-shir1 iris-ip00+ vidSingFr+    cclake 2022-02-16T06:09:35      0:0    TIMEOUT   672.4\n",
       " 55303059_0 ir-shir1 iris-ip00+ VIDproces+    cclake 2022-02-16T11:09:47      0:0 CANCELLED+    15.9\n",
       "   55318689 ir-shir1 iris-ip00+ vidSingFr+    cclake 2022-02-17T00:27:42      0:0    TIMEOUT   672.3"
      ]
     },
     "execution_count": 7,
     "metadata": {},
     "output_type": "execute_result"
    }
   ],
   "source": [
    "t[-5:]"
   ]
  },
  {
   "cell_type": "code",
   "execution_count": 8,
   "metadata": {},
   "outputs": [
    {
     "data": {
      "text/plain": [
       "701480"
      ]
     },
     "execution_count": 8,
     "metadata": {},
     "output_type": "execute_result"
    }
   ],
   "source": [
    "len(t)"
   ]
  },
  {
   "cell_type": "code",
   "execution_count": 9,
   "metadata": {},
   "outputs": [
    {
     "name": "stdout",
     "output_type": "stream",
     "text": [
      "VIDEOTest\n",
      "VID_INGEST\n",
      "VIDcoadd\n",
      "VIDphotop+\n",
      "VIDproces+\n"
     ]
    }
   ],
   "source": [
    "for j in np.unique(t['JobName']):\n",
    "    if 'VID' in j:\n",
    "        print(j)"
   ]
  },
  {
   "cell_type": "code",
   "execution_count": 10,
   "metadata": {},
   "outputs": [],
   "source": [
    "def nameToJobType(name):\n",
    "    \"\"\"Take the name and return the tipe of pipetask\"\"\"\n",
    "    job_type = 'UNKNOWN'\n",
    "    if name.startswith('VIDproc'):\n",
    "        job_type = 'processCcd'\n",
    "    if name.startswith('VIDcoadd'):\n",
    "        job_type = 'coadd'\n",
    "    if name.startswith('VIDphot'):\n",
    "        job_type = 'photoPipe'\n",
    "    return job_type\n",
    "t['job_type']  = [nameToJobType(n) for n in t['JobName']]"
   ]
  },
  {
   "cell_type": "code",
   "execution_count": 11,
   "metadata": {},
   "outputs": [
    {
     "data": {
      "text/html": [
       "<div><i>Table length=5</i>\n",
       "<table id=\"table140496709405232\" class=\"table-striped table-bordered table-condensed\">\n",
       "<thead><tr><th>JobID</th><th>User</th><th>Account</th><th>JobName</th><th>Partition</th><th>End</th><th>ExitCode</th><th>State</th><th>CompHrs</th><th>job_type</th></tr></thead>\n",
       "<thead><tr><th>str12</th><th>str8</th><th>str10</th><th>str10</th><th>str10</th><th>str19</th><th>str5</th><th>str10</th><th>float64</th><th>str10</th></tr></thead>\n",
       "<tr><td>25933230</td><td>ir-shir1</td><td>iris-ip00+</td><td>cpujob</td><td>skylake</td><td>2020-07-13T16:18:36</td><td>127:0</td><td>FAILED</td><td>0.1</td><td>UNKNOWN</td></tr>\n",
       "<tr><td>25940256</td><td>ir-shir1</td><td>iris-ip00+</td><td>cpujob</td><td>skylake</td><td>2020-07-14T00:08:41</td><td>1:0</td><td>FAILED</td><td>74.2</td><td>UNKNOWN</td></tr>\n",
       "<tr><td>25948528</td><td>ir-shir1</td><td>iris-ip00+</td><td>cpujob</td><td>skylake</td><td>2020-07-14T14:34:59</td><td>0:0</td><td>COMPLETED</td><td>254.3</td><td>UNKNOWN</td></tr>\n",
       "<tr><td>26005193</td><td>ir-shir1</td><td>iris-ip00+</td><td>cpujob</td><td>skylake</td><td>2020-07-16T03:59:49</td><td>0:0</td><td>TIMEOUT</td><td>640.0</td><td>UNKNOWN</td></tr>\n",
       "<tr><td>26027949</td><td>ir-shir1</td><td>iris-ip00+</td><td>cpujob</td><td>skylake</td><td>2020-07-17T10:46:53</td><td>0:0</td><td>TIMEOUT</td><td>1536.4</td><td>UNKNOWN</td></tr>\n",
       "</table></div>"
      ],
      "text/plain": [
       "<Table length=5>\n",
       " JobID     User    Account   JobName Partition         End         ExitCode   State   CompHrs job_type\n",
       " str12     str8     str10     str10    str10          str19          str5     str10   float64  str10  \n",
       "-------- -------- ---------- ------- --------- ------------------- -------- --------- ------- --------\n",
       "25933230 ir-shir1 iris-ip00+  cpujob   skylake 2020-07-13T16:18:36    127:0    FAILED     0.1  UNKNOWN\n",
       "25940256 ir-shir1 iris-ip00+  cpujob   skylake 2020-07-14T00:08:41      1:0    FAILED    74.2  UNKNOWN\n",
       "25948528 ir-shir1 iris-ip00+  cpujob   skylake 2020-07-14T14:34:59      0:0 COMPLETED   254.3  UNKNOWN\n",
       "26005193 ir-shir1 iris-ip00+  cpujob   skylake 2020-07-16T03:59:49      0:0   TIMEOUT   640.0  UNKNOWN\n",
       "26027949 ir-shir1 iris-ip00+  cpujob   skylake 2020-07-17T10:46:53      0:0   TIMEOUT  1536.4  UNKNOWN"
      ]
     },
     "execution_count": 11,
     "metadata": {},
     "output_type": "execute_result"
    }
   ],
   "source": [
    "t[:5]"
   ]
  },
  {
   "cell_type": "code",
   "execution_count": 12,
   "metadata": {},
   "outputs": [
    {
     "name": "stdout",
     "output_type": "stream",
     "text": [
      "processCcd jobs run on stack images in SXDS\n",
      "\n",
      "Total number of jobs: 30522\n",
      "Jobs completed: 15120\n",
      "mean per job: 0.9617325208046655 cpu hours\n",
      "mean per completed job: 1.8170039682539683 cpu hours\n",
      "Total time: 29354.0 cpu hours\n",
      "Total time on completed jobs: 27473.1 cpu hours\n",
      "\n"
     ]
    }
   ],
   "source": [
    "print(\"\"\"processCcd jobs run on stack images in SXDS\n",
    "\n",
    "Total number of jobs: {}\n",
    "Jobs completed: {}\n",
    "mean per job: {} cpu hours\n",
    "mean per completed job: {} cpu hours\n",
    "Total time: {} cpu hours\n",
    "Total time on completed jobs: {} cpu hours\n",
    "\"\"\".format(\n",
    "np.sum(t['job_type'] == 'processCcd'),\n",
    "np.sum((t['job_type'] == 'processCcd') &(t['State'] == 'COMPLETED') ),\n",
    "np.mean(t['CompHrs'][(t['job_type'] == 'processCcd') ]),\n",
    "np.mean(t['CompHrs'][(t['job_type'] == 'processCcd') &(t['State'] == 'COMPLETED') ]),\n",
    "np.sum(t['CompHrs'][(t['job_type'] == 'processCcd') ]),\n",
    "np.sum(t['CompHrs'][(t['job_type'] == 'processCcd') &(t['State'] == 'COMPLETED') ])\n",
    ")\n",
    ")\n"
   ]
  },
  {
   "cell_type": "code",
   "execution_count": 13,
   "metadata": {},
   "outputs": [
    {
     "name": "stdout",
     "output_type": "stream",
     "text": [
      "coadd jobs run on stack images in SXDS\n",
      "\n",
      "Total number of jobs: 1109\n",
      "Jobs completed: 1058\n",
      "mean per job: 50.3307484220018 cpu hours\n",
      "mean per completed job: 52.707844990548196 cpu hours\n",
      "Total time: 55816.799999999996 cpu hours\n",
      "Total time on completed jobs: 55764.899999999994 cpu hours\n",
      "\n"
     ]
    }
   ],
   "source": [
    "print(\"\"\"coadd jobs run on stack images in SXDS\n",
    "\n",
    "Total number of jobs: {}\n",
    "Jobs completed: {}\n",
    "mean per job: {} cpu hours\n",
    "mean per completed job: {} cpu hours\n",
    "Total time: {} cpu hours\n",
    "Total time on completed jobs: {} cpu hours\n",
    "\"\"\".format(\n",
    "np.sum(t['job_type'] == 'coadd'),\n",
    "np.sum((t['job_type'] == 'coadd') &(t['State'] == 'COMPLETED') ),\n",
    "np.mean(t['CompHrs'][(t['job_type'] == 'coadd') ]),\n",
    "np.mean(t['CompHrs'][(t['job_type'] == 'coadd') &(t['State'] == 'COMPLETED') ]),\n",
    "np.sum(t['CompHrs'][(t['job_type'] == 'coadd') ]),\n",
    "np.sum(t['CompHrs'][(t['job_type'] == 'coadd') &(t['State'] == 'COMPLETED') ])\n",
    ")\n",
    ")"
   ]
  },
  {
   "cell_type": "code",
   "execution_count": 14,
   "metadata": {},
   "outputs": [],
   "source": [
    "#It is worrying that these times are close to the 36 hour maximum. Can I split them up?"
   ]
  },
  {
   "cell_type": "code",
   "execution_count": 15,
   "metadata": {},
   "outputs": [
    {
     "name": "stdout",
     "output_type": "stream",
     "text": [
      "photoPipe jobs run on stack images in SXDS\n",
      "\n",
      "Total number of jobs: 4161\n",
      "Jobs completed: 2073\n",
      "mean per job: 43.43028118240807 cpu hours\n",
      "mean per completed job: 51.39445248432224 cpu hours\n",
      "Total time: 180713.4 cpu hours\n",
      "Total time on completed jobs: 106540.7 cpu hours\n",
      "\n"
     ]
    }
   ],
   "source": [
    "#Most of these are failures from memory shortages at teh coadd stage before I separated them\n",
    "print(\"\"\"photoPipe jobs run on stack images in SXDS\n",
    "\n",
    "Total number of jobs: {}\n",
    "Jobs completed: {}\n",
    "mean per job: {} cpu hours\n",
    "mean per completed job: {} cpu hours\n",
    "Total time: {} cpu hours\n",
    "Total time on completed jobs: {} cpu hours\n",
    "\"\"\".format(\n",
    "np.sum(t['job_type'] == 'photoPipe'),\n",
    "np.sum((t['job_type'] == 'photoPipe') &(t['State'] == 'COMPLETED') ),\n",
    "np.mean(t['CompHrs'][(t['job_type'] == 'photoPipe') ]),\n",
    "np.mean(t['CompHrs'][(t['job_type'] == 'photoPipe') &(t['State'] == 'COMPLETED') ]),\n",
    "np.sum(t['CompHrs'][(t['job_type'] == 'photoPipe') ]),\n",
    "np.sum(t['CompHrs'][(t['job_type'] == 'photoPipe') &(t['State'] == 'COMPLETED') ])\n",
    ")\n",
    ")"
   ]
  },
  {
   "cell_type": "code",
   "execution_count": 16,
   "metadata": {},
   "outputs": [
    {
     "data": {
      "text/plain": [
       "1132.8"
      ]
     },
     "execution_count": 16,
     "metadata": {},
     "output_type": "execute_result"
    }
   ],
   "source": [
    "np.max(t['CompHrs'][(t['job_type'] == 'photoPipe') &(t['State'] == 'COMPLETED') ])"
   ]
  },
  {
   "cell_type": "code",
   "execution_count": 17,
   "metadata": {},
   "outputs": [
    {
     "data": {
      "text/html": [
       "<div><i>Table length=5</i>\n",
       "<table id=\"table140496709403792\" class=\"table-striped table-bordered table-condensed\">\n",
       "<thead><tr><th>JobID</th><th>User</th><th>Account</th><th>JobName</th><th>Partition</th><th>End</th><th>ExitCode</th><th>State</th><th>CompHrs</th><th>job_type</th></tr></thead>\n",
       "<thead><tr><th>str12</th><th>str8</th><th>str10</th><th>str10</th><th>str10</th><th>str19</th><th>str5</th><th>str10</th><th>float64</th><th>str10</th></tr></thead>\n",
       "<tr><td>38813235_30</td><td>ir-shir1</td><td>iris-ip00+</td><td>VIDcoadd</td><td>skylake-h+</td><td>2021-04-27T11:22:49</td><td>1:0</td><td>FAILED</td><td>0.2</td><td>coadd</td></tr>\n",
       "<tr><td>38813235_31</td><td>ir-shir1</td><td>iris-ip00+</td><td>VIDcoadd</td><td>skylake-h+</td><td>2021-04-27T11:22:49</td><td>1:0</td><td>FAILED</td><td>0.2</td><td>coadd</td></tr>\n",
       "<tr><td>38813235_32</td><td>ir-shir1</td><td>iris-ip00+</td><td>VIDcoadd</td><td>skylake-h+</td><td>2021-04-27T11:22:49</td><td>1:0</td><td>FAILED</td><td>0.2</td><td>coadd</td></tr>\n",
       "<tr><td>38813235_73</td><td>ir-shir1</td><td>iris-ip00+</td><td>VIDcoadd</td><td>skylake-h+</td><td>2021-04-27T11:50:10</td><td>2:0</td><td>FAILED</td><td>0.2</td><td>coadd</td></tr>\n",
       "<tr><td>38813235_184</td><td>ir-shir1</td><td>iris-ip00+</td><td>VIDcoadd</td><td>skylake-h+</td><td>2021-04-27T12:28:30</td><td>2:0</td><td>FAILED</td><td>0.2</td><td>coadd</td></tr>\n",
       "</table></div>"
      ],
      "text/plain": [
       "<Table length=5>\n",
       "   JobID       User    Account   JobName  Partition          End         ExitCode State  CompHrs job_type\n",
       "   str12       str8     str10     str10     str10           str19          str5   str10  float64  str10  \n",
       "------------ -------- ---------- -------- ---------- ------------------- -------- ------ ------- --------\n",
       " 38813235_30 ir-shir1 iris-ip00+ VIDcoadd skylake-h+ 2021-04-27T11:22:49      1:0 FAILED     0.2    coadd\n",
       " 38813235_31 ir-shir1 iris-ip00+ VIDcoadd skylake-h+ 2021-04-27T11:22:49      1:0 FAILED     0.2    coadd\n",
       " 38813235_32 ir-shir1 iris-ip00+ VIDcoadd skylake-h+ 2021-04-27T11:22:49      1:0 FAILED     0.2    coadd\n",
       " 38813235_73 ir-shir1 iris-ip00+ VIDcoadd skylake-h+ 2021-04-27T11:50:10      2:0 FAILED     0.2    coadd\n",
       "38813235_184 ir-shir1 iris-ip00+ VIDcoadd skylake-h+ 2021-04-27T12:28:30      2:0 FAILED     0.2    coadd"
      ]
     },
     "execution_count": 17,
     "metadata": {},
     "output_type": "execute_result"
    }
   ],
   "source": [
    "t[(t['job_type']=='coadd') & (t['State'] == 'FAILED')][:5]"
   ]
  },
  {
   "cell_type": "code",
   "execution_count": 18,
   "metadata": {},
   "outputs": [
    {
     "data": {
      "text/html": [
       "&lt;Column name=&apos;ExitCode&apos; dtype=&apos;str5&apos; length=2&gt;\n",
       "<table>\n",
       "<tr><td>1:0</td></tr>\n",
       "<tr><td>2:0</td></tr>\n",
       "</table>"
      ],
      "text/plain": [
       "<Column name='ExitCode' dtype='str5' length=2>\n",
       "1:0\n",
       "2:0"
      ]
     },
     "execution_count": 18,
     "metadata": {},
     "output_type": "execute_result"
    }
   ],
   "source": [
    "np.unique(t[(t['job_type']=='coadd') & (t['State'] == 'FAILED')]['ExitCode'])"
   ]
  },
  {
   "cell_type": "code",
   "execution_count": 19,
   "metadata": {},
   "outputs": [
    {
     "data": {
      "text/html": [
       "<div><i>Table length=5</i>\n",
       "<table id=\"table140496709404368\" class=\"table-striped table-bordered table-condensed\">\n",
       "<thead><tr><th>JobID</th><th>User</th><th>Account</th><th>JobName</th><th>Partition</th><th>End</th><th>ExitCode</th><th>State</th><th>CompHrs</th><th>job_type</th></tr></thead>\n",
       "<thead><tr><th>str12</th><th>str8</th><th>str10</th><th>str10</th><th>str10</th><th>str19</th><th>str5</th><th>str10</th><th>float64</th><th>str10</th></tr></thead>\n",
       "<tr><td>38813235_0</td><td>ir-shir1</td><td>iris-ip00+</td><td>VIDcoadd</td><td>skylake-h+</td><td>2021-04-27T17:52:54</td><td>0:0</td><td>COMPLETED</td><td>69.3</td><td>coadd</td></tr>\n",
       "<tr><td>38813235_1</td><td>ir-shir1</td><td>iris-ip00+</td><td>VIDcoadd</td><td>skylake-h+</td><td>2021-04-27T17:15:43</td><td>0:0</td><td>COMPLETED</td><td>63.1</td><td>coadd</td></tr>\n",
       "<tr><td>38813235_2</td><td>ir-shir1</td><td>iris-ip00+</td><td>VIDcoadd</td><td>skylake-h+</td><td>2021-04-27T14:27:23</td><td>0:0</td><td>COMPLETED</td><td>35.0</td><td>coadd</td></tr>\n",
       "<tr><td>38813235_3</td><td>ir-shir1</td><td>iris-ip00+</td><td>VIDcoadd</td><td>skylake-h+</td><td>2021-04-27T17:12:01</td><td>0:0</td><td>COMPLETED</td><td>62.5</td><td>coadd</td></tr>\n",
       "<tr><td>38813235_4</td><td>ir-shir1</td><td>iris-ip00+</td><td>VIDcoadd</td><td>skylake-h+</td><td>2021-04-27T13:54:51</td><td>0:0</td><td>COMPLETED</td><td>29.6</td><td>coadd</td></tr>\n",
       "</table></div>"
      ],
      "text/plain": [
       "<Table length=5>\n",
       "  JobID      User    Account   JobName  Partition          End         ExitCode   State   CompHrs job_type\n",
       "  str12      str8     str10     str10     str10           str19          str5     str10   float64  str10  \n",
       "---------- -------- ---------- -------- ---------- ------------------- -------- --------- ------- --------\n",
       "38813235_0 ir-shir1 iris-ip00+ VIDcoadd skylake-h+ 2021-04-27T17:52:54      0:0 COMPLETED    69.3    coadd\n",
       "38813235_1 ir-shir1 iris-ip00+ VIDcoadd skylake-h+ 2021-04-27T17:15:43      0:0 COMPLETED    63.1    coadd\n",
       "38813235_2 ir-shir1 iris-ip00+ VIDcoadd skylake-h+ 2021-04-27T14:27:23      0:0 COMPLETED    35.0    coadd\n",
       "38813235_3 ir-shir1 iris-ip00+ VIDcoadd skylake-h+ 2021-04-27T17:12:01      0:0 COMPLETED    62.5    coadd\n",
       "38813235_4 ir-shir1 iris-ip00+ VIDcoadd skylake-h+ 2021-04-27T13:54:51      0:0 COMPLETED    29.6    coadd"
      ]
     },
     "execution_count": 19,
     "metadata": {},
     "output_type": "execute_result"
    }
   ],
   "source": [
    "t[(t['job_type']=='coadd') ][:5]"
   ]
  },
  {
   "cell_type": "markdown",
   "metadata": {},
   "source": [
    "# 2 Calculate total times\n",
    "\n",
    "Lets calculate some broad estimates for the main runs we will go on to perform"
   ]
  },
  {
   "cell_type": "markdown",
   "metadata": {},
   "source": [
    "## 2.1 SXDS VIDEO run\n",
    "\n",
    "This is the run used for the timing tests."
   ]
  },
  {
   "cell_type": "code",
   "execution_count": 20,
   "metadata": {},
   "outputs": [],
   "source": [
    "mean_processCcd = np.mean(t['CompHrs'][(t['job_type'] == 'processCcd') &(t['State'] == 'COMPLETED') ])\n",
    "mean_coadd= np.mean(t['CompHrs'][(t['job_type'] == 'coadd') &(t['State'] == 'COMPLETED') ])\n",
    "mean_photo = np.mean(t['CompHrs'][(t['job_type'] == 'photoPipe') &(t['State'] == 'COMPLETED') ])\n",
    "\n",
    "def timing_summary(n_images,n_patches,vista_bands,tot_bands,name):\n",
    "    print(\"\"\"\n",
    "{} summary\n",
    "Full processing of input images: {} cpu hours\n",
    "Full coadd of all patches: {} cpu hours\n",
    "Full photometry pipeline on all patches: {} cpu hours\n",
    "Total time for {} images and {} patches: {} cpu hours\n",
    "\"\"\".format(name,\n",
    "    round(n_images * mean_processCcd),\n",
    "    round(n_patches* mean_coadd),\n",
    "    round(n_patches*mean_photo),\n",
    "    n_images, n_patches,\n",
    "    round(\n",
    "        n_images * mean_processCcd \n",
    "        + n_patches* mean_coadd\n",
    "        + n_patches* mean_photo\n",
    "        )\n",
    "    ))"
   ]
  },
  {
   "cell_type": "code",
   "execution_count": 21,
   "metadata": {},
   "outputs": [
    {
     "name": "stdout",
     "output_type": "stream",
     "text": [
      "\n",
      "VIDEO summary\n",
      "Full processing of input images: 9563 cpu hours\n",
      "Full coadd of all patches: 11543 cpu hours\n",
      "Full photometry pipeline on all patches: 11255 cpu hours\n",
      "Total time for 5263 images and 219 patches: 32361 cpu hours\n",
      "\n"
     ]
    }
   ],
   "source": [
    "n_video_sxds_images = 5263 # From ./1_SLurm_factory.ipynb\n",
    "n_video_sxds_patches = 219 # From ./1_SLurm_factory.ipynb\n",
    "\n",
    "timing_summary(n_video_sxds_images,n_video_sxds_patches,5,10,'VIDEO')"
   ]
  },
  {
   "cell_type": "code",
   "execution_count": 24,
   "metadata": {},
   "outputs": [
    {
     "data": {
      "text/plain": [
       "'VIDEO: images: 13476, tracts: 18'"
      ]
     },
     "execution_count": 24,
     "metadata": {},
     "output_type": "execute_result"
    }
   ],
   "source": [
    "vid=Table.read('../../dmu1/data/video_images_overview_20210331.csv')\n",
    "n_vid=np.sum([s['file'].endswith('st.fit') for s in vid])\n",
    "vid_tiles=Table.read('../../dmu1/data/video_tiles_tracts_patches_overview_20200820.csv')\n",
    "vid_tracts=set()\n",
    "for i in vid_tiles['tract_patch_json']:\n",
    "    vid_tracts=vid_tracts.union(set(json.loads(i).keys()))\n",
    "n_vid_tracts=len(vid_tracts)\n",
    "\"VIDEO: images: {}, tracts: {}\".format(n_vid,n_vid_tracts)"
   ]
  },
  {
   "cell_type": "code",
   "execution_count": 25,
   "metadata": {},
   "outputs": [
    {
     "name": "stdout",
     "output_type": "stream",
     "text": [
      "\n",
      "VIDEO All 3 fields summary\n",
      "Full processing of input images: 24486 cpu hours\n",
      "Full coadd of all patches: 76848 cpu hours\n",
      "Full photometry pipeline on all patches: 74933 cpu hours\n",
      "Total time for 13476 images and 1458 patches: 176267 cpu hours\n",
      "\n"
     ]
    }
   ],
   "source": [
    "timing_summary(n_vid,n_vid_tracts*81,5,10,'VIDEO All 3 fields')"
   ]
  },
  {
   "cell_type": "markdown",
   "metadata": {},
   "source": [
    "## 2.2 VHS XMM run\n",
    "\n",
    "Run over full overlap of VHS and HSC PDR2 XMM field"
   ]
  },
  {
   "cell_type": "code",
   "execution_count": 44,
   "metadata": {},
   "outputs": [
    {
     "name": "stdout",
     "output_type": "stream",
     "text": [
      "\n",
      "VHS XMM field summary\n",
      "Full processing of input images: 3816 cpu hours\n",
      "Full coadd of all patches: 210621 cpu hours\n",
      "Full photometry pipeline on all patches: 205372 cpu hours\n",
      "Total time for 2100 images and 3996 patches: 419808 cpu hours\n",
      "\n"
     ]
    }
   ],
   "source": [
    "n_vhs_xmm_images = 2100 # From ../dmu4_XMM/1_Slurm_factory.ipynb - w02_images_job_dict_2100.json\n",
    "n_vhs_xmm_patches = 3996 #../dmu4_VHS/slurm/w02_patch_job_dict_3996.json\n",
    "\n",
    "timing_summary(n_vhs_xmm_images,n_vhs_xmm_patches,3,3+5,'VHS XMM field')"
   ]
  },
  {
   "cell_type": "markdown",
   "metadata": {},
   "source": [
    "## 2.3 VHS PDR2 run"
   ]
  },
  {
   "cell_type": "code",
   "execution_count": 46,
   "metadata": {},
   "outputs": [
    {
     "name": "stdout",
     "output_type": "stream",
     "text": [
      "\n",
      "VHS full Sky summary\n",
      "Full processing of input images: 13035 cpu hours\n",
      "Full coadd of all patches: 693846 cpu hours\n",
      "Full photometry pipeline on all patches: 676557 cpu hours\n",
      "Total time for 7174 images and 13164 patches: 1383438 cpu hours\n",
      "\n"
     ]
    }
   ],
   "source": [
    "#from json files in  ../dmu4_VHS/slurm\n",
    "n_vhs_pdr2_images=7174 #../dmu4_VHS/slurm/full_images_job_dict_7174.json\n",
    "n_vhs_pdr2_patches=13164 #../dmu4_VHS/slurm/full_patch_job_dict_13164.json\n",
    "timing_summary(n_vhs_pdr2_images,n_vhs_pdr2_patches,3,3+5,'VHS full Sky')"
   ]
  },
  {
   "cell_type": "markdown",
   "metadata": {},
   "source": [
    "## 2.4 VHS all sky run\n",
    "\n",
    "A first run might not include combination with GRIZY data prior to LSST but we can can simply use the HSC/VISTA SXDS times to estimate here."
   ]
  },
  {
   "cell_type": "code",
   "execution_count": 47,
   "metadata": {},
   "outputs": [
    {
     "name": "stdout",
     "output_type": "stream",
     "text": [
      "\n",
      "VHS full Sky summary\n",
      "Full processing of input images: 372479 cpu hours\n",
      "Full coadd of all patches: 35321477 cpu hours\n",
      "Full photometry pipeline on all patches: 34441324 cpu hours\n",
      "Total time for 204996 images and 670137 patches: 70135280 cpu hours\n",
      "\n"
     ]
    }
   ],
   "source": [
    "n_vhs_all_images = 204996 # From ../dmu1/data/vhs_images_overview_$DATE.fits\n",
    "n_vhs_all_patches =  670137# From ../dmu1/data/vhs_tiles_tracts_patches.fits\n",
    "\n",
    "timing_summary(n_vhs_all_images,n_vhs_all_patches,3,3+5,'VHS full Sky')"
   ]
  },
  {
   "cell_type": "markdown",
   "metadata": {},
   "source": [
    "## 3 Histograms"
   ]
  },
  {
   "cell_type": "code",
   "execution_count": 73,
   "metadata": {},
   "outputs": [
    {
     "data": {
      "image/png": "[encoded data removed]",
      "text/plain": [
       "<Figure size 432x288 with 1 Axes>"
      ]
     },
     "metadata": {
      "needs_background": "light"
     },
     "output_type": "display_data"
    }
   ],
   "source": [
    "plt.hist(t['CompHrs'][(t['job_type'] == 'processCcd') &(t['State'] == 'COMPLETED')],\n",
    "         range=[0,100],bins=30,density=True,label='processCcd',histtype='step')\n",
    "plt.hist(t['CompHrs'][(t['job_type'] == 'coadd') &(t['State'] == 'COMPLETED')],\n",
    "         range=[0,100],bins=30,density=True,label='coadd',histtype='step')\n",
    "plt.hist(t['CompHrs'][(t['job_type'] == 'photoPipe') &(t['State'] == 'COMPLETED')],\n",
    "         range=[0,100],bins=30,density=True,label='photoPipe',histtype='step')\n",
    "plt.xlabel('time [cpu hours]')\n",
    "plt.legend()\n",
    "plt.ylabel('fraction of jobs')\n",
    "plt.yscale('log')\n",
    "plt.savefig('./figs/job_times_hist.pdf', bbox_inches='tight')\n",
    "plt.savefig('./figs/job_times_hist.png', bbox_inches='tight')"
   ]
  }
 ],
 "metadata": {
  "kernelspec": {
   "display_name": "Python 3 (ipykernel)",
   "language": "python",
   "name": "python3"
  },
  "language_info": {
   "codemirror_mode": {
    "name": "ipython",
    "version": 3
   },
   "file_extension": ".py",
   "mimetype": "text/x-python",
   "name": "python",
   "nbconvert_exporter": "python",
   "pygments_lexer": "ipython3",
   "version": "3.8.12"
  }
 },
 "nbformat": 4,
 "nbformat_minor": 4
}
