{
 "cells": [
  {
   "cell_type": "markdown",
   "metadata": {},
   "source": [
    "# Timing the SXDS run\n",
    "\n",
    "In this notebook we will investigate timing and requirements for the SXDS prototype run in order to estimate total computing requirements\n",
    "\n",
    "we wil work with the file generated on iris by the following command:\n",
    "\n",
    "```\n",
    "gstatement -p IRIS-IP005-CPU -u ir-shir1 -s \"2020-07-04-00:00:00\" -e \"2020-10-21-00:00:00\" > jobs.lis\n",
    "```"
   ]
  },
  {
   "cell_type": "code",
   "execution_count": 1,
   "metadata": {},
   "outputs": [
    {
     "name": "stdout",
     "output_type": "stream",
     "text": [
      "lsst_distrib          g2d4714e03a+6e1aa0b536 \tcurrent w_2022_07 w_latest setup\n",
      "obs_vista             23.0.0-1   \tcurrent setup\n"
     ]
    }
   ],
   "source": [
    "# What version of the Stack are we using?\n",
    "! eups list -s | grep lsst_distrib\n",
    "! eups list -s | grep obs_vista"
   ]
  },
  {
   "cell_type": "code",
   "execution_count": 2,
   "metadata": {},
   "outputs": [],
   "source": [
    "from astropy.table import Table\n",
    "import numpy as np"
   ]
  },
  {
   "cell_type": "code",
   "execution_count": 5,
   "metadata": {},
   "outputs": [],
   "source": [
    "t = Table.read('./slurm/jobs_20220217.lis', format='ascii') #, data_start=2, delimiter=' ')"
   ]
  },
  {
   "cell_type": "code",
   "execution_count": 6,
   "metadata": {},
   "outputs": [
    {
     "data": {
      "text/plain": [
       "'I have submitted a total of 701480 jobs consuming a total of 1225031.9 cpuhours'"
      ]
     },
     "execution_count": 6,
     "metadata": {},
     "output_type": "execute_result"
    }
   ],
   "source": [
    "\"I have submitted a total of {} jobs consuming a total of {} cpuhours\".format(len(t), np.sum(t['CompHrs']))"
   ]
  },
  {
   "cell_type": "code",
   "execution_count": 7,
   "metadata": {},
   "outputs": [
    {
     "data": {
      "text/html": [
       "<div><i>Table length=5</i>\n",
       "<table id=\"table140463698753136\" class=\"table-striped table-bordered table-condensed\">\n",
       "<thead><tr><th>JobID</th><th>User</th><th>Account</th><th>JobName</th><th>Partition</th><th>End</th><th>ExitCode</th><th>State</th><th>CompHrs</th></tr></thead>\n",
       "<thead><tr><th>str12</th><th>str8</th><th>str10</th><th>str10</th><th>str10</th><th>str19</th><th>str5</th><th>str10</th><th>float64</th></tr></thead>\n",
       "<tr><td>25933230</td><td>ir-shir1</td><td>iris-ip00+</td><td>cpujob</td><td>skylake</td><td>2020-07-13T16:18:36</td><td>127:0</td><td>FAILED</td><td>0.1</td></tr>\n",
       "<tr><td>25940256</td><td>ir-shir1</td><td>iris-ip00+</td><td>cpujob</td><td>skylake</td><td>2020-07-14T00:08:41</td><td>1:0</td><td>FAILED</td><td>74.2</td></tr>\n",
       "<tr><td>25948528</td><td>ir-shir1</td><td>iris-ip00+</td><td>cpujob</td><td>skylake</td><td>2020-07-14T14:34:59</td><td>0:0</td><td>COMPLETED</td><td>254.3</td></tr>\n",
       "<tr><td>26005193</td><td>ir-shir1</td><td>iris-ip00+</td><td>cpujob</td><td>skylake</td><td>2020-07-16T03:59:49</td><td>0:0</td><td>TIMEOUT</td><td>640.0</td></tr>\n",
       "<tr><td>26027949</td><td>ir-shir1</td><td>iris-ip00+</td><td>cpujob</td><td>skylake</td><td>2020-07-17T10:46:53</td><td>0:0</td><td>TIMEOUT</td><td>1536.4</td></tr>\n",
       "</table></div>"
      ],
      "text/plain": [
       "<Table length=5>\n",
       " JobID     User    Account   JobName Partition         End         ExitCode   State   CompHrs\n",
       " str12     str8     str10     str10    str10          str19          str5     str10   float64\n",
       "-------- -------- ---------- ------- --------- ------------------- -------- --------- -------\n",
       "25933230 ir-shir1 iris-ip00+  cpujob   skylake 2020-07-13T16:18:36    127:0    FAILED     0.1\n",
       "25940256 ir-shir1 iris-ip00+  cpujob   skylake 2020-07-14T00:08:41      1:0    FAILED    74.2\n",
       "25948528 ir-shir1 iris-ip00+  cpujob   skylake 2020-07-14T14:34:59      0:0 COMPLETED   254.3\n",
       "26005193 ir-shir1 iris-ip00+  cpujob   skylake 2020-07-16T03:59:49      0:0   TIMEOUT   640.0\n",
       "26027949 ir-shir1 iris-ip00+  cpujob   skylake 2020-07-17T10:46:53      0:0   TIMEOUT  1536.4"
      ]
     },
     "execution_count": 7,
     "metadata": {},
     "output_type": "execute_result"
    }
   ],
   "source": [
    "t[:5]"
   ]
  },
  {
   "cell_type": "code",
   "execution_count": 8,
   "metadata": {},
   "outputs": [
    {
     "data": {
      "text/html": [
       "<div><i>Table length=5</i>\n",
       "<table id=\"table140463995747008\" class=\"table-striped table-bordered table-condensed\">\n",
       "<thead><tr><th>JobID</th><th>User</th><th>Account</th><th>JobName</th><th>Partition</th><th>End</th><th>ExitCode</th><th>State</th><th>CompHrs</th></tr></thead>\n",
       "<thead><tr><th>str12</th><th>str8</th><th>str10</th><th>str10</th><th>str10</th><th>str19</th><th>str5</th><th>str10</th><th>float64</th></tr></thead>\n",
       "<tr><td>55293868_9</td><td>ir-shir1</td><td>iris-ip00+</td><td>VIDproces+</td><td>cclake</td><td>2022-02-15T16:04:52</td><td>1:0</td><td>FAILED</td><td>0.0</td></tr>\n",
       "<tr><td>55293868_10</td><td>ir-shir1</td><td>iris-ip00+</td><td>VIDproces+</td><td>cclake</td><td>2022-02-15T16:04:52</td><td>1:0</td><td>FAILED</td><td>0.0</td></tr>\n",
       "<tr><td>55300357</td><td>ir-shir1</td><td>iris-ip00+</td><td>vidSingFr+</td><td>cclake</td><td>2022-02-16T06:09:35</td><td>0:0</td><td>TIMEOUT</td><td>672.4</td></tr>\n",
       "<tr><td>55303059_0</td><td>ir-shir1</td><td>iris-ip00+</td><td>VIDproces+</td><td>cclake</td><td>2022-02-16T11:09:47</td><td>0:0</td><td>CANCELLED+</td><td>15.9</td></tr>\n",
       "<tr><td>55318689</td><td>ir-shir1</td><td>iris-ip00+</td><td>vidSingFr+</td><td>cclake</td><td>2022-02-17T00:27:42</td><td>0:0</td><td>TIMEOUT</td><td>672.3</td></tr>\n",
       "</table></div>"
      ],
      "text/plain": [
       "<Table length=5>\n",
       "   JobID      User    Account    JobName   Partition         End         ExitCode   State    CompHrs\n",
       "   str12      str8     str10      str10      str10          str19          str5     str10    float64\n",
       "----------- -------- ---------- ---------- --------- ------------------- -------- ---------- -------\n",
       " 55293868_9 ir-shir1 iris-ip00+ VIDproces+    cclake 2022-02-15T16:04:52      1:0     FAILED     0.0\n",
       "55293868_10 ir-shir1 iris-ip00+ VIDproces+    cclake 2022-02-15T16:04:52      1:0     FAILED     0.0\n",
       "   55300357 ir-shir1 iris-ip00+ vidSingFr+    cclake 2022-02-16T06:09:35      0:0    TIMEOUT   672.4\n",
       " 55303059_0 ir-shir1 iris-ip00+ VIDproces+    cclake 2022-02-16T11:09:47      0:0 CANCELLED+    15.9\n",
       "   55318689 ir-shir1 iris-ip00+ vidSingFr+    cclake 2022-02-17T00:27:42      0:0    TIMEOUT   672.3"
      ]
     },
     "execution_count": 8,
     "metadata": {},
     "output_type": "execute_result"
    }
   ],
   "source": [
    "t[-5:]"
   ]
  },
  {
   "cell_type": "code",
   "execution_count": 46,
   "metadata": {},
   "outputs": [],
   "source": [
    "def nameToJobType(name):\n",
    "    \"\"\"Take the name and return the tipe of pipetask\"\"\"\n",
    "    job_type = 'UNKNOWN'\n",
    "    if name.startswith('process'):\n",
    "        job_type = 'processCcd'\n",
    "    if name.startswith('coadd'):\n",
    "        job_type = 'coadd'\n",
    "    if name.startswith('phot'):\n",
    "        job_type = 'photoPipe'\n",
    "    return job_type\n",
    "t['job_type']  = [nameToJobType(n) for n in t['JobName']]"
   ]
  },
  {
   "cell_type": "code",
   "execution_count": 47,
   "metadata": {},
   "outputs": [
    {
     "data": {
      "text/html": [
       "<i>Table length=5</i>\n",
       "<table id=\"table4598119056\" class=\"table-striped table-bordered table-condensed\">\n",
       "<thead><tr><th>JobID</th><th>User</th><th>Account</th><th>JobName</th><th>Partition</th><th>End</th><th>ExitCode</th><th>State</th><th>CompHrs</th><th>job_type</th></tr></thead>\n",
       "<thead><tr><th>str12</th><th>str8</th><th>str10</th><th>str10</th><th>str10</th><th>str19</th><th>str5</th><th>str10</th><th>float64</th><th>str10</th></tr></thead>\n",
       "<tr><td>25933230</td><td>ir-shir1</td><td>iris-ip00+</td><td>cpujob</td><td>skylake</td><td>2020-07-13T16:18:36</td><td>127:0</td><td>FAILED</td><td>0.1</td><td>UNKNOWN</td></tr>\n",
       "<tr><td>25940256</td><td>ir-shir1</td><td>iris-ip00+</td><td>cpujob</td><td>skylake</td><td>2020-07-14T00:08:41</td><td>1:0</td><td>FAILED</td><td>74.2</td><td>UNKNOWN</td></tr>\n",
       "<tr><td>25948528</td><td>ir-shir1</td><td>iris-ip00+</td><td>cpujob</td><td>skylake</td><td>2020-07-14T14:34:59</td><td>0:0</td><td>COMPLETED</td><td>254.3</td><td>UNKNOWN</td></tr>\n",
       "<tr><td>26005193</td><td>ir-shir1</td><td>iris-ip00+</td><td>cpujob</td><td>skylake</td><td>2020-07-16T03:59:49</td><td>0:0</td><td>TIMEOUT</td><td>640.0</td><td>UNKNOWN</td></tr>\n",
       "<tr><td>26027949</td><td>ir-shir1</td><td>iris-ip00+</td><td>cpujob</td><td>skylake</td><td>2020-07-17T10:46:53</td><td>0:0</td><td>TIMEOUT</td><td>1536.4</td><td>UNKNOWN</td></tr>\n",
       "</table>"
      ],
      "text/plain": [
       "<Table length=5>\n",
       " JobID     User    Account   JobName ... ExitCode   State   CompHrs job_type\n",
       " str12     str8     str10     str10  ...   str5     str10   float64  str10  \n",
       "-------- -------- ---------- ------- ... -------- --------- ------- --------\n",
       "25933230 ir-shir1 iris-ip00+  cpujob ...    127:0    FAILED     0.1  UNKNOWN\n",
       "25940256 ir-shir1 iris-ip00+  cpujob ...      1:0    FAILED    74.2  UNKNOWN\n",
       "25948528 ir-shir1 iris-ip00+  cpujob ...      0:0 COMPLETED   254.3  UNKNOWN\n",
       "26005193 ir-shir1 iris-ip00+  cpujob ...      0:0   TIMEOUT   640.0  UNKNOWN\n",
       "26027949 ir-shir1 iris-ip00+  cpujob ...      0:0   TIMEOUT  1536.4  UNKNOWN"
      ]
     },
     "execution_count": 47,
     "metadata": {},
     "output_type": "execute_result"
    }
   ],
   "source": [
    "t[:5]"
   ]
  },
  {
   "cell_type": "code",
   "execution_count": 48,
   "metadata": {},
   "outputs": [
    {
     "name": "stdout",
     "output_type": "stream",
     "text": [
      "processCcd jobs run on stack images in SXDS\n",
      "\n",
      "Total number of jobs: 19109\n",
      "Jobs completed: 12993\n",
      "mean per job: 2.3228531058663453 cpu hours\n",
      "mean per completed job: 3.059601323789733 cpu hours\n",
      "Total time: 44387.399999999994 cpu hours\n",
      "Total time on completed jobs: 39753.4 cpu hours\n",
      "\n"
     ]
    }
   ],
   "source": [
    "print(\"\"\"processCcd jobs run on stack images in SXDS\n",
    "\n",
    "Total number of jobs: {}\n",
    "Jobs completed: {}\n",
    "mean per job: {} cpu hours\n",
    "mean per completed job: {} cpu hours\n",
    "Total time: {} cpu hours\n",
    "Total time on completed jobs: {} cpu hours\n",
    "\"\"\".format(\n",
    "np.sum(t['job_type'] == 'processCcd'),\n",
    "np.sum((t['job_type'] == 'processCcd') &(t['State'] == 'COMPLETED') ),\n",
    "np.mean(t['CompHrs'][(t['job_type'] == 'processCcd') ]),\n",
    "np.mean(t['CompHrs'][(t['job_type'] == 'processCcd') &(t['State'] == 'COMPLETED') ]),\n",
    "np.sum(t['CompHrs'][(t['job_type'] == 'processCcd') ]),\n",
    "np.sum(t['CompHrs'][(t['job_type'] == 'processCcd') &(t['State'] == 'COMPLETED') ])\n",
    ")\n",
    ")\n"
   ]
  },
  {
   "cell_type": "code",
   "execution_count": 49,
   "metadata": {},
   "outputs": [
    {
     "name": "stdout",
     "output_type": "stream",
     "text": [
      "coadd jobs run on stack images in SXDS\n",
      "\n",
      "Total number of jobs: 353\n",
      "Jobs completed: 170\n",
      "mean per job: 15.865439093484417 cpu hours\n",
      "mean per completed job: 32.858823529411765 cpu hours\n",
      "Total time: 5600.499999999999 cpu hours\n",
      "Total time on completed jobs: 5586.0 cpu hours\n",
      "\n"
     ]
    }
   ],
   "source": [
    "print(\"\"\"coadd jobs run on stack images in SXDS\n",
    "\n",
    "Total number of jobs: {}\n",
    "Jobs completed: {}\n",
    "mean per job: {} cpu hours\n",
    "mean per completed job: {} cpu hours\n",
    "Total time: {} cpu hours\n",
    "Total time on completed jobs: {} cpu hours\n",
    "\"\"\".format(\n",
    "np.sum(t['job_type'] == 'coadd'),\n",
    "np.sum((t['job_type'] == 'coadd') &(t['State'] == 'COMPLETED') ),\n",
    "np.mean(t['CompHrs'][(t['job_type'] == 'coadd') ]),\n",
    "np.mean(t['CompHrs'][(t['job_type'] == 'coadd') &(t['State'] == 'COMPLETED') ]),\n",
    "np.sum(t['CompHrs'][(t['job_type'] == 'coadd') ]),\n",
    "np.sum(t['CompHrs'][(t['job_type'] == 'coadd') &(t['State'] == 'COMPLETED') ])\n",
    ")\n",
    ")"
   ]
  },
  {
   "cell_type": "code",
   "execution_count": null,
   "metadata": {},
   "outputs": [],
   "source": [
    "#It is worrying that these times are close to the 36 hour maximum. Can I split them up?"
   ]
  },
  {
   "cell_type": "code",
   "execution_count": 50,
   "metadata": {},
   "outputs": [
    {
     "name": "stdout",
     "output_type": "stream",
     "text": [
      "photoPipe jobs run on stack images in SXDS\n",
      "\n",
      "Total number of jobs: 352\n",
      "Jobs completed: 55\n",
      "mean per job: 8.338068181818182 cpu hours\n",
      "mean per completed job: 11.976363636363633 cpu hours\n",
      "Total time: 2935.0 cpu hours\n",
      "Total time on completed jobs: 658.6999999999998 cpu hours\n",
      "\n"
     ]
    }
   ],
   "source": [
    "#Most of these are failures from memory shortages at teh coadd stage before I separated them\n",
    "print(\"\"\"photoPipe jobs run on stack images in SXDS\n",
    "\n",
    "Total number of jobs: {}\n",
    "Jobs completed: {}\n",
    "mean per job: {} cpu hours\n",
    "mean per completed job: {} cpu hours\n",
    "Total time: {} cpu hours\n",
    "Total time on completed jobs: {} cpu hours\n",
    "\"\"\".format(\n",
    "np.sum(t['job_type'] == 'photoPipe'),\n",
    "np.sum((t['job_type'] == 'photoPipe') &(t['State'] == 'COMPLETED') ),\n",
    "np.mean(t['CompHrs'][(t['job_type'] == 'photoPipe') ]),\n",
    "np.mean(t['CompHrs'][(t['job_type'] == 'photoPipe') &(t['State'] == 'COMPLETED') ]),\n",
    "np.sum(t['CompHrs'][(t['job_type'] == 'photoPipe') ]),\n",
    "np.sum(t['CompHrs'][(t['job_type'] == 'photoPipe') &(t['State'] == 'COMPLETED') ])\n",
    ")\n",
    ")"
   ]
  },
  {
   "cell_type": "code",
   "execution_count": 59,
   "metadata": {},
   "outputs": [
    {
     "data": {
      "text/plain": [
       "23.7"
      ]
     },
     "execution_count": 59,
     "metadata": {},
     "output_type": "execute_result"
    }
   ],
   "source": [
    "np.max(t['CompHrs'][(t['job_type'] == 'photoPipe') &(t['State'] == 'COMPLETED') ])"
   ]
  },
  {
   "cell_type": "code",
   "execution_count": 55,
   "metadata": {},
   "outputs": [
    {
     "data": {
      "text/html": [
       "<i>Table length=5</i>\n",
       "<table id=\"table4372813264\" class=\"table-striped table-bordered table-condensed\">\n",
       "<thead><tr><th>JobID</th><th>User</th><th>Account</th><th>JobName</th><th>Partition</th><th>End</th><th>ExitCode</th><th>State</th><th>CompHrs</th><th>job_type</th></tr></thead>\n",
       "<thead><tr><th>str12</th><th>str8</th><th>str10</th><th>str10</th><th>str10</th><th>str19</th><th>str5</th><th>str10</th><th>float64</th><th>str10</th></tr></thead>\n",
       "<tr><td>30458171_0</td><td>ir-shir1</td><td>iris-ip00+</td><td>coadd_arr+</td><td>skylake-h+</td><td>2020-10-28T14:51:01</td><td>2:0</td><td>FAILED</td><td>0.1</td><td>coadd</td></tr>\n",
       "<tr><td>30458171_1</td><td>ir-shir1</td><td>iris-ip00+</td><td>coadd_arr+</td><td>skylake-h+</td><td>2020-10-28T14:50:49</td><td>1:0</td><td>FAILED</td><td>0.1</td><td>coadd</td></tr>\n",
       "<tr><td>30458171_2</td><td>ir-shir1</td><td>iris-ip00+</td><td>coadd_arr+</td><td>skylake-h+</td><td>2020-10-28T14:51:02</td><td>2:0</td><td>FAILED</td><td>0.1</td><td>coadd</td></tr>\n",
       "<tr><td>30458171_3</td><td>ir-shir1</td><td>iris-ip00+</td><td>coadd_arr+</td><td>skylake-h+</td><td>2020-10-28T14:51:02</td><td>2:0</td><td>FAILED</td><td>0.1</td><td>coadd</td></tr>\n",
       "<tr><td>30458171_4</td><td>ir-shir1</td><td>iris-ip00+</td><td>coadd_arr+</td><td>skylake-h+</td><td>2020-10-28T14:51:00</td><td>2:0</td><td>FAILED</td><td>0.1</td><td>coadd</td></tr>\n",
       "</table>"
      ],
      "text/plain": [
       "<Table length=5>\n",
       "  JobID      User    Account    JobName   ... ExitCode State  CompHrs job_type\n",
       "  str12      str8     str10      str10    ...   str5   str10  float64  str10  \n",
       "---------- -------- ---------- ---------- ... -------- ------ ------- --------\n",
       "30458171_0 ir-shir1 iris-ip00+ coadd_arr+ ...      2:0 FAILED     0.1    coadd\n",
       "30458171_1 ir-shir1 iris-ip00+ coadd_arr+ ...      1:0 FAILED     0.1    coadd\n",
       "30458171_2 ir-shir1 iris-ip00+ coadd_arr+ ...      2:0 FAILED     0.1    coadd\n",
       "30458171_3 ir-shir1 iris-ip00+ coadd_arr+ ...      2:0 FAILED     0.1    coadd\n",
       "30458171_4 ir-shir1 iris-ip00+ coadd_arr+ ...      2:0 FAILED     0.1    coadd"
      ]
     },
     "execution_count": 55,
     "metadata": {},
     "output_type": "execute_result"
    }
   ],
   "source": [
    "t[(t['job_type']=='coadd') & (t['State'] == 'FAILED')][:5]"
   ]
  },
  {
   "cell_type": "code",
   "execution_count": 56,
   "metadata": {},
   "outputs": [
    {
     "data": {
      "text/html": [
       "&lt;Column name=&apos;ExitCode&apos; dtype=&apos;str5&apos; length=3&gt;\n",
       "<table>\n",
       "<tr><td>127:0</td></tr>\n",
       "<tr><td>1:0</td></tr>\n",
       "<tr><td>2:0</td></tr>\n",
       "</table>"
      ],
      "text/plain": [
       "<Column name='ExitCode' dtype='str5' length=3>\n",
       "127:0\n",
       "  1:0\n",
       "  2:0"
      ]
     },
     "execution_count": 56,
     "metadata": {},
     "output_type": "execute_result"
    }
   ],
   "source": [
    "np.unique(t[(t['job_type']=='coadd') & (t['State'] == 'FAILED')]['ExitCode'])"
   ]
  },
  {
   "cell_type": "code",
   "execution_count": 53,
   "metadata": {},
   "outputs": [
    {
     "data": {
      "text/html": [
       "<i>Table length=5</i>\n",
       "<table id=\"table4548565584\" class=\"table-striped table-bordered table-condensed\">\n",
       "<thead><tr><th>JobID</th><th>User</th><th>Account</th><th>JobName</th><th>Partition</th><th>End</th><th>ExitCode</th><th>State</th><th>CompHrs</th><th>job_type</th></tr></thead>\n",
       "<thead><tr><th>str12</th><th>str8</th><th>str10</th><th>str10</th><th>str10</th><th>str19</th><th>str5</th><th>str10</th><th>float64</th><th>str10</th></tr></thead>\n",
       "<tr><td>30127250</td><td>ir-shir1</td><td>iris-ip00+</td><td>coadd_852+</td><td>skylake-h+</td><td>2020-10-19T20:10:53</td><td>0:0</td><td>COMPLETED</td><td>42.0</td><td>coadd</td></tr>\n",
       "<tr><td>30458171_0</td><td>ir-shir1</td><td>iris-ip00+</td><td>coadd_arr+</td><td>skylake-h+</td><td>2020-10-28T14:51:01</td><td>2:0</td><td>FAILED</td><td>0.1</td><td>coadd</td></tr>\n",
       "<tr><td>30458171_1</td><td>ir-shir1</td><td>iris-ip00+</td><td>coadd_arr+</td><td>skylake-h+</td><td>2020-10-28T14:50:49</td><td>1:0</td><td>FAILED</td><td>0.1</td><td>coadd</td></tr>\n",
       "<tr><td>30458171_2</td><td>ir-shir1</td><td>iris-ip00+</td><td>coadd_arr+</td><td>skylake-h+</td><td>2020-10-28T14:51:02</td><td>2:0</td><td>FAILED</td><td>0.1</td><td>coadd</td></tr>\n",
       "<tr><td>30458171_3</td><td>ir-shir1</td><td>iris-ip00+</td><td>coadd_arr+</td><td>skylake-h+</td><td>2020-10-28T14:51:02</td><td>2:0</td><td>FAILED</td><td>0.1</td><td>coadd</td></tr>\n",
       "</table>"
      ],
      "text/plain": [
       "<Table length=5>\n",
       "  JobID      User    Account    JobName   ...   State   CompHrs job_type\n",
       "  str12      str8     str10      str10    ...   str10   float64  str10  \n",
       "---------- -------- ---------- ---------- ... --------- ------- --------\n",
       "  30127250 ir-shir1 iris-ip00+ coadd_852+ ... COMPLETED    42.0    coadd\n",
       "30458171_0 ir-shir1 iris-ip00+ coadd_arr+ ...    FAILED     0.1    coadd\n",
       "30458171_1 ir-shir1 iris-ip00+ coadd_arr+ ...    FAILED     0.1    coadd\n",
       "30458171_2 ir-shir1 iris-ip00+ coadd_arr+ ...    FAILED     0.1    coadd\n",
       "30458171_3 ir-shir1 iris-ip00+ coadd_arr+ ...    FAILED     0.1    coadd"
      ]
     },
     "execution_count": 53,
     "metadata": {},
     "output_type": "execute_result"
    }
   ],
   "source": [
    "t[(t['job_type']=='coadd') ][:5]"
   ]
  },
  {
   "cell_type": "markdown",
   "metadata": {},
   "source": [
    "# 2 Calculate total times\n",
    "\n",
    "Lets calculate some broad estimates for the main runs we will go on to perform"
   ]
  },
  {
   "cell_type": "markdown",
   "metadata": {},
   "source": [
    "## 2.1 SXDS VIDEO run\n",
    "\n",
    "This is the run used for the timing tests."
   ]
  },
  {
   "cell_type": "code",
   "execution_count": 63,
   "metadata": {},
   "outputs": [
    {
     "name": "stdout",
     "output_type": "stream",
     "text": [
      "\n",
      "Full processing of input images: 16103.0 cpu hours\n",
      "Full coadd of all patches: 7196.0 cpu hours\n",
      "Full photometry pipeline on all patches: 2623.0 cpu hours\n",
      "Total time for 5263 images and 219 patches: 25922.0 cpu hours\n",
      "\n"
     ]
    }
   ],
   "source": [
    "n_video_sxds_images = 5263 # From ./1_SLurm_factory.ipynb\n",
    "n_video_sxds_patches = 219 # From ./1_SLurm_factory.ipynb\n",
    "\n",
    "mean_processCcd = np.mean(t['CompHrs'][(t['job_type'] == 'processCcd') &(t['State'] == 'COMPLETED') ])\n",
    "mean_coadd= np.mean(t['CompHrs'][(t['job_type'] == 'coadd') &(t['State'] == 'COMPLETED') ])\n",
    "mean_photo = np.mean(t['CompHrs'][(t['job_type'] == 'photoPipe') &(t['State'] == 'COMPLETED') ])\n",
    "\n",
    "print(\"\"\"\n",
    "Full processing of input images: {} cpu hours\n",
    "Full coadd of all patches: {} cpu hours\n",
    "Full photometry pipeline on all patches: {} cpu hours\n",
    "Total time for {} images and {} patches: {} cpu hours\n",
    "\"\"\".format(\n",
    "    round(n_video_sxds_images * mean_processCcd),\n",
    "    round(n_video_sxds_patches* mean_coadd),\n",
    "    round(n_video_sxds_patches* mean_photo),\n",
    "    n_video_sxds_images, n_video_sxds_patches,\n",
    "    round(\n",
    "        n_video_sxds_images * mean_processCcd \n",
    "        + n_video_sxds_patches* mean_coadd\n",
    "        + n_video_sxds_patches* mean_photo\n",
    "    )\n",
    "))\n",
    "    "
   ]
  },
  {
   "cell_type": "markdown",
   "metadata": {},
   "source": [
    "## 2.2 VHS XMM run\n",
    "\n",
    "Run over full overlap of VHS and HSC PDR2 XMM field"
   ]
  },
  {
   "cell_type": "code",
   "execution_count": 64,
   "metadata": {},
   "outputs": [
    {
     "name": "stdout",
     "output_type": "stream",
     "text": [
      "\n",
      "Full processing of input images: 6811.0 cpu hours\n",
      "Full coadd of all patches: 143724.0 cpu hours\n",
      "Full photometry pipeline on all patches: 52385.0 cpu hours\n",
      "Total time for 2226 images and 4374 patches: 202920.0 cpu hours\n",
      "\n"
     ]
    }
   ],
   "source": [
    "n_vhs_xmm_images = 2226 # From ../dmu4_XMM/1_Slurm_factory.ipynb\n",
    "n_vhs_xmm_patches = 6*9*81 #Rough from tract numbers\n",
    "\n",
    "mean_processCcd = np.mean(t['CompHrs'][(t['job_type'] == 'processCcd') &(t['State'] == 'COMPLETED') ])\n",
    "mean_coadd= np.mean(t['CompHrs'][(t['job_type'] == 'coadd') &(t['State'] == 'COMPLETED') ])\n",
    "mean_photo = np.mean(t['CompHrs'][(t['job_type'] == 'photoPipe') &(t['State'] == 'COMPLETED') ])\n",
    "\n",
    "print(\"\"\"\n",
    "Full processing of input images: {} cpu hours\n",
    "Full coadd of all patches: {} cpu hours\n",
    "Full photometry pipeline on all patches: {} cpu hours\n",
    "Total time for {} images and {} patches: {} cpu hours\n",
    "\"\"\".format(\n",
    "    round(n_vhs_xmm_images * mean_processCcd),\n",
    "    round(n_vhs_xmm_patches* mean_coadd),\n",
    "    round(n_vhs_xmm_patches* mean_photo),\n",
    "    n_vhs_xmm_images, n_vhs_xmm_patches,\n",
    "    round(\n",
    "        n_vhs_xmm_images * mean_processCcd \n",
    "        + n_vhs_xmm_patches* mean_coadd\n",
    "        + n_vhs_xmm_patches* mean_photo\n",
    "    )\n",
    "))"
   ]
  },
  {
   "cell_type": "markdown",
   "metadata": {},
   "source": [
    "## 2.3 VHS complete run\n",
    "\n",
    "A first run might not include combination with GRIZY data prior to LSST but we can can simply use the HSC/VISTA SXDS times to estimate here."
   ]
  },
  {
   "cell_type": "code",
   "execution_count": 68,
   "metadata": {},
   "outputs": [
    {
     "name": "stdout",
     "output_type": "stream",
     "text": [
      "\n",
      "Full processing of input images: 627206.0 cpu hours\n",
      "Full coadd of all patches: 3669986.0 cpu hours\n",
      "Full photometry pipeline on all patches: 8025804.0 cpu hours\n",
      "Total time for 204996 images and 670137 patches: 12322996.0 cpu hours\n",
      "\n"
     ]
    }
   ],
   "source": [
    "n_vhs_xmm_images = 204996 # From ../dmu1/data/vhs_images_overview_$DATE.fits\n",
    "n_vhs_xmm_patches =  670137# From ../dmu1/data/vhs_tiles_tracts_patches.fits\n",
    "\n",
    "mean_processCcd = np.mean(t['CompHrs'][(t['job_type'] == 'processCcd') &(t['State'] == 'COMPLETED') ])\n",
    "mean_coadd= np.mean(t['CompHrs'][(t['job_type'] == 'coadd') &(t['State'] == 'COMPLETED') ])\n",
    "mean_photo = np.mean(t['CompHrs'][(t['job_type'] == 'photoPipe') &(t['State'] == 'COMPLETED') ])\n",
    "\n",
    "print(\"\"\"\n",
    "Full processing of input images: {} cpu hours\n",
    "Full coadd of all patches: {} cpu hours\n",
    "Full photometry pipeline on all patches: {} cpu hours\n",
    "Total time for {} images and {} patches: {} cpu hours\n",
    "\"\"\".format(\n",
    "    round(n_vhs_xmm_images * mean_processCcd),\n",
    "    round(n_vhs_xmm_patches* mean_coadd /6), #assume 6 times fewer images to coadd\n",
    "    round(n_vhs_xmm_patches* mean_photo ),  #assume JHK and LSST UGRIZY\n",
    "    n_vhs_xmm_images, n_vhs_xmm_patches,\n",
    "    round(\n",
    "        n_vhs_xmm_images * mean_processCcd \n",
    "        + n_vhs_xmm_patches* mean_coadd/6\n",
    "        + n_vhs_xmm_patches* mean_photo\n",
    "    )\n",
    "))"
   ]
  },
  {
   "cell_type": "code",
   "execution_count": null,
   "metadata": {},
   "outputs": [],
   "source": []
  }
 ],
 "metadata": {
  "kernelspec": {
   "display_name": "Python 3 (ipykernel)",
   "language": "python",
   "name": "python3"
  },
  "language_info": {
   "codemirror_mode": {
    "name": "ipython",
    "version": 3
   },
   "file_extension": ".py",
   "mimetype": "text/x-python",
   "name": "python",
   "nbconvert_exporter": "python",
   "pygments_lexer": "ipython3",
   "version": "3.10.6"
  }
 },
 "nbformat": 4,
 "nbformat_minor": 4
}
