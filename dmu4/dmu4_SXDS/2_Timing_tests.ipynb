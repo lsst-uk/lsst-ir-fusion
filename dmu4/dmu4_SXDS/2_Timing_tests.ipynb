{
 "cells": [
  {
   "cell_type": "markdown",
   "metadata": {},
   "source": [
    "# Timing the SXDS run\n",
    "\n",
    "In this notebook we will investigate timing and requirements for the SXDS prototype run in order to estimate total computing requirements\n",
    "\n",
    "we wil work with the file generated on iris by the following command:\n",
    "\n",
    "```\n",
    "gstatement -p IRIS-IP005-CPU -u ir-shir1 -s \"2020-07-04-00:00:00\" -e \"2020-10-21-00:00:00\" > jobs.lis\n",
    "```"
   ]
  },
  {
   "cell_type": "code",
   "execution_count": 8,
   "metadata": {},
   "outputs": [],
   "source": [
    "from astropy.table import Table\n",
    "import numpy as np"
   ]
  },
  {
   "cell_type": "code",
   "execution_count": 5,
   "metadata": {},
   "outputs": [],
   "source": [
    "t = Table.read('jobs.lis', format='ascii') #, data_start=2, delimiter=' ')"
   ]
  },
  {
   "cell_type": "code",
   "execution_count": 10,
   "metadata": {},
   "outputs": [
    {
     "data": {
      "text/plain": [
       "'I have submitted a total of 19710 jobs consuming a total of 44065.6 cpuhours'"
      ]
     },
     "execution_count": 10,
     "metadata": {},
     "output_type": "execute_result"
    }
   ],
   "source": [
    "\"I have submitted a total of {} jobs consuming a total of {} cpuhours\".format(len(t), np.sum(t['CompHrs']))"
   ]
  },
  {
   "cell_type": "code",
   "execution_count": 6,
   "metadata": {},
   "outputs": [
    {
     "data": {
      "text/html": [
       "<i>Table length=5</i>\n",
       "<table id=\"table4372854928\" class=\"table-striped table-bordered table-condensed\">\n",
       "<thead><tr><th>JobID</th><th>User</th><th>Account</th><th>JobName</th><th>Partition</th><th>End</th><th>ExitCode</th><th>State</th><th>CompHrs</th></tr></thead>\n",
       "<thead><tr><th>str12</th><th>str8</th><th>str10</th><th>str10</th><th>str10</th><th>str19</th><th>str5</th><th>str10</th><th>float64</th></tr></thead>\n",
       "<tr><td>25933230</td><td>ir-shir1</td><td>iris-ip00+</td><td>cpujob</td><td>skylake</td><td>2020-07-13T16:18:36</td><td>127:0</td><td>FAILED</td><td>0.1</td></tr>\n",
       "<tr><td>25940256</td><td>ir-shir1</td><td>iris-ip00+</td><td>cpujob</td><td>skylake</td><td>2020-07-14T00:08:41</td><td>1:0</td><td>FAILED</td><td>74.2</td></tr>\n",
       "<tr><td>25948528</td><td>ir-shir1</td><td>iris-ip00+</td><td>cpujob</td><td>skylake</td><td>2020-07-14T14:34:59</td><td>0:0</td><td>COMPLETED</td><td>254.3</td></tr>\n",
       "<tr><td>26005193</td><td>ir-shir1</td><td>iris-ip00+</td><td>cpujob</td><td>skylake</td><td>2020-07-16T03:59:49</td><td>0:0</td><td>TIMEOUT</td><td>640.0</td></tr>\n",
       "<tr><td>26027949</td><td>ir-shir1</td><td>iris-ip00+</td><td>cpujob</td><td>skylake</td><td>2020-07-17T10:46:53</td><td>0:0</td><td>TIMEOUT</td><td>1536.4</td></tr>\n",
       "</table>"
      ],
      "text/plain": [
       "<Table length=5>\n",
       " JobID     User    Account   JobName ... ExitCode   State   CompHrs\n",
       " str12     str8     str10     str10  ...   str5     str10   float64\n",
       "-------- -------- ---------- ------- ... -------- --------- -------\n",
       "25933230 ir-shir1 iris-ip00+  cpujob ...    127:0    FAILED     0.1\n",
       "25940256 ir-shir1 iris-ip00+  cpujob ...      1:0    FAILED    74.2\n",
       "25948528 ir-shir1 iris-ip00+  cpujob ...      0:0 COMPLETED   254.3\n",
       "26005193 ir-shir1 iris-ip00+  cpujob ...      0:0   TIMEOUT   640.0\n",
       "26027949 ir-shir1 iris-ip00+  cpujob ...      0:0   TIMEOUT  1536.4"
      ]
     },
     "execution_count": 6,
     "metadata": {},
     "output_type": "execute_result"
    }
   ],
   "source": [
    "t[:5]"
   ]
  },
  {
   "cell_type": "code",
   "execution_count": 13,
   "metadata": {},
   "outputs": [
    {
     "data": {
      "text/html": [
       "<i>Table length=5</i>\n",
       "<table id=\"table4551505104\" class=\"table-striped table-bordered table-condensed\">\n",
       "<thead><tr><th>JobID</th><th>User</th><th>Account</th><th>JobName</th><th>Partition</th><th>End</th><th>ExitCode</th><th>State</th><th>CompHrs</th></tr></thead>\n",
       "<thead><tr><th>str12</th><th>str8</th><th>str10</th><th>str10</th><th>str10</th><th>str19</th><th>str5</th><th>str10</th><th>float64</th></tr></thead>\n",
       "<tr><td>30022262</td><td>ir-shir1</td><td>iris-ip00+</td><td>runPhotoP+</td><td>skylake-h+</td><td>2020-10-14T20:06:37</td><td>0:125</td><td>OUT_OF_ME+</td><td>1.2</td></tr>\n",
       "<tr><td>30025206</td><td>ir-shir1</td><td>iris-ip00+</td><td>runPhotoP+</td><td>skylake-h+</td><td>2020-10-14T22:55:59</td><td>0:125</td><td>OUT_OF_ME+</td><td>5.5</td></tr>\n",
       "<tr><td>30032850</td><td>ir-shir1</td><td>iris-ip00+</td><td>runPhotoP+</td><td>skylake-h+</td><td>2020-10-15T06:16:53</td><td>1:0</td><td>FAILED</td><td>36.3</td></tr>\n",
       "<tr><td>30050650</td><td>ir-shir1</td><td>iris-ip00+</td><td>runPhotoP+</td><td>skylake-h+</td><td>2020-10-16T18:13:14</td><td>0:0</td><td>COMPLETED</td><td>149.4</td></tr>\n",
       "<tr><td>30127250</td><td>ir-shir1</td><td>iris-ip00+</td><td>coadd_852+</td><td>skylake-h+</td><td>2020-10-19T20:10:53</td><td>0:0</td><td>COMPLETED</td><td>42.0</td></tr>\n",
       "</table>"
      ],
      "text/plain": [
       "<Table length=5>\n",
       " JobID     User    Account    JobName   ... ExitCode   State    CompHrs\n",
       " str12     str8     str10      str10    ...   str5     str10    float64\n",
       "-------- -------- ---------- ---------- ... -------- ---------- -------\n",
       "30022262 ir-shir1 iris-ip00+ runPhotoP+ ...    0:125 OUT_OF_ME+     1.2\n",
       "30025206 ir-shir1 iris-ip00+ runPhotoP+ ...    0:125 OUT_OF_ME+     5.5\n",
       "30032850 ir-shir1 iris-ip00+ runPhotoP+ ...      1:0     FAILED    36.3\n",
       "30050650 ir-shir1 iris-ip00+ runPhotoP+ ...      0:0  COMPLETED   149.4\n",
       "30127250 ir-shir1 iris-ip00+ coadd_852+ ...      0:0  COMPLETED    42.0"
      ]
     },
     "execution_count": 13,
     "metadata": {},
     "output_type": "execute_result"
    }
   ],
   "source": [
    "t[-5:]"
   ]
  },
  {
   "cell_type": "code",
   "execution_count": 14,
   "metadata": {},
   "outputs": [],
   "source": [
    "def nameToJobType(name):\n",
    "    \"\"\"Take the name and return the tipe of pipetask\"\"\"\n",
    "    job_type = 'UNKNOWN'\n",
    "    if name.startswith('process'):\n",
    "        job_type = 'processCcd'\n",
    "    if name.startswith('coadd'):\n",
    "        job_type = 'coadd'\n",
    "    if name.startswith('runPhoto'):\n",
    "        job_type = 'photoPipe'\n",
    "    return job_type\n",
    "t['job_type']  = [nameToJobType(n) for n in t['JobName']]"
   ]
  },
  {
   "cell_type": "code",
   "execution_count": 16,
   "metadata": {},
   "outputs": [
    {
     "data": {
      "text/html": [
       "<i>Table length=5</i>\n",
       "<table id=\"table4544077136\" class=\"table-striped table-bordered table-condensed\">\n",
       "<thead><tr><th>JobID</th><th>User</th><th>Account</th><th>JobName</th><th>Partition</th><th>End</th><th>ExitCode</th><th>State</th><th>CompHrs</th><th>job_type</th></tr></thead>\n",
       "<thead><tr><th>str12</th><th>str8</th><th>str10</th><th>str10</th><th>str10</th><th>str19</th><th>str5</th><th>str10</th><th>float64</th><th>str10</th></tr></thead>\n",
       "<tr><td>25933230</td><td>ir-shir1</td><td>iris-ip00+</td><td>cpujob</td><td>skylake</td><td>2020-07-13T16:18:36</td><td>127:0</td><td>FAILED</td><td>0.1</td><td>UNKNOWN</td></tr>\n",
       "<tr><td>25940256</td><td>ir-shir1</td><td>iris-ip00+</td><td>cpujob</td><td>skylake</td><td>2020-07-14T00:08:41</td><td>1:0</td><td>FAILED</td><td>74.2</td><td>UNKNOWN</td></tr>\n",
       "<tr><td>25948528</td><td>ir-shir1</td><td>iris-ip00+</td><td>cpujob</td><td>skylake</td><td>2020-07-14T14:34:59</td><td>0:0</td><td>COMPLETED</td><td>254.3</td><td>UNKNOWN</td></tr>\n",
       "<tr><td>26005193</td><td>ir-shir1</td><td>iris-ip00+</td><td>cpujob</td><td>skylake</td><td>2020-07-16T03:59:49</td><td>0:0</td><td>TIMEOUT</td><td>640.0</td><td>UNKNOWN</td></tr>\n",
       "<tr><td>26027949</td><td>ir-shir1</td><td>iris-ip00+</td><td>cpujob</td><td>skylake</td><td>2020-07-17T10:46:53</td><td>0:0</td><td>TIMEOUT</td><td>1536.4</td><td>UNKNOWN</td></tr>\n",
       "</table>"
      ],
      "text/plain": [
       "<Table length=5>\n",
       " JobID     User    Account   JobName ... ExitCode   State   CompHrs job_type\n",
       " str12     str8     str10     str10  ...   str5     str10   float64  str10  \n",
       "-------- -------- ---------- ------- ... -------- --------- ------- --------\n",
       "25933230 ir-shir1 iris-ip00+  cpujob ...    127:0    FAILED     0.1  UNKNOWN\n",
       "25940256 ir-shir1 iris-ip00+  cpujob ...      1:0    FAILED    74.2  UNKNOWN\n",
       "25948528 ir-shir1 iris-ip00+  cpujob ...      0:0 COMPLETED   254.3  UNKNOWN\n",
       "26005193 ir-shir1 iris-ip00+  cpujob ...      0:0   TIMEOUT   640.0  UNKNOWN\n",
       "26027949 ir-shir1 iris-ip00+  cpujob ...      0:0   TIMEOUT  1536.4  UNKNOWN"
      ]
     },
     "execution_count": 16,
     "metadata": {},
     "output_type": "execute_result"
    }
   ],
   "source": [
    "t[:5]"
   ]
  },
  {
   "cell_type": "code",
   "execution_count": 31,
   "metadata": {},
   "outputs": [
    {
     "name": "stdout",
     "output_type": "stream",
     "text": [
      "processCcd jobs run on stack images in SXDS\n",
      "\n",
      "Total number of jobs: 13845\n",
      "Jobs completed: 8288\n",
      "mean per job: 1.3292379920548933 cpu hours\n",
      "mean per completed job: 1.663863416988417 cpu hours\n",
      "Total time: 18403.3 cpu hours\n",
      "Total time on completed jobs: 13790.1 cpu hours\n",
      "\n"
     ]
    }
   ],
   "source": [
    "print(\"\"\"processCcd jobs run on stack images in SXDS\n",
    "\n",
    "Total number of jobs: {}\n",
    "Jobs completed: {}\n",
    "mean per job: {} cpu hours\n",
    "mean per completed job: {} cpu hours\n",
    "Total time: {} cpu hours\n",
    "Total time on completed jobs: {} cpu hours\n",
    "\"\"\".format(\n",
    "np.sum(t['job_type'] == 'processCcd'),\n",
    "np.sum((t['job_type'] == 'processCcd') &(t['State'] == 'COMPLETED') ),\n",
    "np.mean(t['CompHrs'][(t['job_type'] == 'processCcd') ]),\n",
    "np.mean(t['CompHrs'][(t['job_type'] == 'processCcd') &(t['State'] == 'COMPLETED') ]),\n",
    "np.sum(t['CompHrs'][(t['job_type'] == 'processCcd') ]),\n",
    "np.sum(t['CompHrs'][(t['job_type'] == 'processCcd') &(t['State'] == 'COMPLETED') ])\n",
    ")\n",
    ")\n"
   ]
  },
  {
   "cell_type": "code",
   "execution_count": 32,
   "metadata": {},
   "outputs": [
    {
     "name": "stdout",
     "output_type": "stream",
     "text": [
      "coadd jobs run on stack images in SXDS\n",
      "\n",
      "Total number of jobs: 1\n",
      "Jobs completed: 1\n",
      "mean per job: 42.0 cpu hours\n",
      "mean per completed job: 42.0 cpu hours\n",
      "Total time: 42.0 cpu hours\n",
      "Total time on completed jobs: 42.0 cpu hours\n",
      "\n"
     ]
    }
   ],
   "source": [
    "print(\"\"\"coadd jobs run on stack images in SXDS\n",
    "\n",
    "Total number of jobs: {}\n",
    "Jobs completed: {}\n",
    "mean per job: {} cpu hours\n",
    "mean per completed job: {} cpu hours\n",
    "Total time: {} cpu hours\n",
    "Total time on completed jobs: {} cpu hours\n",
    "\"\"\".format(\n",
    "np.sum(t['job_type'] == 'coadd'),\n",
    "np.sum((t['job_type'] == 'coadd') &(t['State'] == 'COMPLETED') ),\n",
    "np.mean(t['CompHrs'][(t['job_type'] == 'coadd') ]),\n",
    "np.mean(t['CompHrs'][(t['job_type'] == 'coadd') &(t['State'] == 'COMPLETED') ]),\n",
    "np.sum(t['CompHrs'][(t['job_type'] == 'coadd') ]),\n",
    "np.sum(t['CompHrs'][(t['job_type'] == 'coadd') &(t['State'] == 'COMPLETED') ])\n",
    ")\n",
    ")"
   ]
  },
  {
   "cell_type": "code",
   "execution_count": 35,
   "metadata": {},
   "outputs": [
    {
     "name": "stdout",
     "output_type": "stream",
     "text": [
      "photoPipe jobs run on stack images in SXDS\n",
      "\n",
      "Total number of jobs: 5818\n",
      "Jobs completed: 9\n",
      "mean per job: 1.1659676864902029 cpu hours\n",
      "mean per completed job: 19.27777777777778 cpu hours\n",
      "Total time: 6783.6 cpu hours\n",
      "Total time on completed jobs: 173.5 cpu hours\n",
      "\n"
     ]
    }
   ],
   "source": [
    "#Most of these are failures from memory shortages at teh coadd stage before I separated them\n",
    "print(\"\"\"photoPipe jobs run on stack images in SXDS\n",
    "\n",
    "Total number of jobs: {}\n",
    "Jobs completed: {}\n",
    "mean per job: {} cpu hours\n",
    "mean per completed job: {} cpu hours\n",
    "Total time: {} cpu hours\n",
    "Total time on completed jobs: {} cpu hours\n",
    "\"\"\".format(\n",
    "np.sum(t['job_type'] == 'photoPipe'),\n",
    "np.sum((t['job_type'] == 'photoPipe') &(t['State'] == 'COMPLETED') ),\n",
    "np.mean(t['CompHrs'][(t['job_type'] == 'photoPipe') ]),\n",
    "np.mean(t['CompHrs'][(t['job_type'] == 'photoPipe') &(t['State'] == 'COMPLETED') ]),\n",
    "np.sum(t['CompHrs'][(t['job_type'] == 'photoPipe') ]),\n",
    "np.sum(t['CompHrs'][(t['job_type'] == 'photoPipe') &(t['State'] == 'COMPLETED') ])\n",
    ")\n",
    ")"
   ]
  },
  {
   "cell_type": "code",
   "execution_count": null,
   "metadata": {},
   "outputs": [],
   "source": []
  }
 ],
 "metadata": {
  "kernelspec": {
   "display_name": "LSST",
   "language": "python",
   "name": "lsst"
  },
  "language_info": {
   "codemirror_mode": {
    "name": "ipython",
    "version": 3
   },
   "file_extension": ".py",
   "mimetype": "text/x-python",
   "name": "python",
   "nbconvert_exporter": "python",
   "pygments_lexer": "ipython3",
   "version": "3.7.6"
  }
 },
 "nbformat": 4,
 "nbformat_minor": 4
}
