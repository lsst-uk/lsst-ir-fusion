{
 "cells": [
  {
   "cell_type": "markdown",
   "metadata": {},
   "source": [
    "# Timing the SXDS run\n",
    "\n",
    "In this notebook we will investigate timing and requirements for the SXDS prototype run in order to estimate total computing requirements\n",
    "\n",
    "we wil work with the file generated on iris by the following command:\n",
    "\n",
    "```\n",
    "gstatement -p IRIS-IP005-CPU -u ir-shir1 -s \"2020-07-04-00:00:00\" -e \"2020-10-21-00:00:00\" > jobs.lis\n",
    "```"
   ]
  },
  {
   "cell_type": "code",
   "execution_count": 36,
   "metadata": {},
   "outputs": [],
   "source": [
    "from astropy.table import Table\n",
    "import numpy as np"
   ]
  },
  {
   "cell_type": "code",
   "execution_count": 37,
   "metadata": {},
   "outputs": [],
   "source": [
    "t = Table.read('jobs_20201030.lis', format='ascii') #, data_start=2, delimiter=' ')"
   ]
  },
  {
   "cell_type": "code",
   "execution_count": 38,
   "metadata": {},
   "outputs": [
    {
     "data": {
      "text/plain": [
       "'I have submitted a total of 25682 jobs consuming a total of 78615.99999999999 cpuhours'"
      ]
     },
     "execution_count": 38,
     "metadata": {},
     "output_type": "execute_result"
    }
   ],
   "source": [
    "\"I have submitted a total of {} jobs consuming a total of {} cpuhours\".format(len(t), np.sum(t['CompHrs']))"
   ]
  },
  {
   "cell_type": "code",
   "execution_count": 39,
   "metadata": {},
   "outputs": [
    {
     "data": {
      "text/html": [
       "<i>Table length=5</i>\n",
       "<table id=\"table4643569872\" class=\"table-striped table-bordered table-condensed\">\n",
       "<thead><tr><th>JobID</th><th>User</th><th>Account</th><th>JobName</th><th>Partition</th><th>End</th><th>ExitCode</th><th>State</th><th>CompHrs</th></tr></thead>\n",
       "<thead><tr><th>str12</th><th>str8</th><th>str10</th><th>str10</th><th>str10</th><th>str19</th><th>str5</th><th>str10</th><th>float64</th></tr></thead>\n",
       "<tr><td>25933230</td><td>ir-shir1</td><td>iris-ip00+</td><td>cpujob</td><td>skylake</td><td>2020-07-13T16:18:36</td><td>127:0</td><td>FAILED</td><td>0.1</td></tr>\n",
       "<tr><td>25940256</td><td>ir-shir1</td><td>iris-ip00+</td><td>cpujob</td><td>skylake</td><td>2020-07-14T00:08:41</td><td>1:0</td><td>FAILED</td><td>74.2</td></tr>\n",
       "<tr><td>25948528</td><td>ir-shir1</td><td>iris-ip00+</td><td>cpujob</td><td>skylake</td><td>2020-07-14T14:34:59</td><td>0:0</td><td>COMPLETED</td><td>254.3</td></tr>\n",
       "<tr><td>26005193</td><td>ir-shir1</td><td>iris-ip00+</td><td>cpujob</td><td>skylake</td><td>2020-07-16T03:59:49</td><td>0:0</td><td>TIMEOUT</td><td>640.0</td></tr>\n",
       "<tr><td>26027949</td><td>ir-shir1</td><td>iris-ip00+</td><td>cpujob</td><td>skylake</td><td>2020-07-17T10:46:53</td><td>0:0</td><td>TIMEOUT</td><td>1536.4</td></tr>\n",
       "</table>"
      ],
      "text/plain": [
       "<Table length=5>\n",
       " JobID     User    Account   JobName ... ExitCode   State   CompHrs\n",
       " str12     str8     str10     str10  ...   str5     str10   float64\n",
       "-------- -------- ---------- ------- ... -------- --------- -------\n",
       "25933230 ir-shir1 iris-ip00+  cpujob ...    127:0    FAILED     0.1\n",
       "25940256 ir-shir1 iris-ip00+  cpujob ...      1:0    FAILED    74.2\n",
       "25948528 ir-shir1 iris-ip00+  cpujob ...      0:0 COMPLETED   254.3\n",
       "26005193 ir-shir1 iris-ip00+  cpujob ...      0:0   TIMEOUT   640.0\n",
       "26027949 ir-shir1 iris-ip00+  cpujob ...      0:0   TIMEOUT  1536.4"
      ]
     },
     "execution_count": 39,
     "metadata": {},
     "output_type": "execute_result"
    }
   ],
   "source": [
    "t[:5]"
   ]
  },
  {
   "cell_type": "code",
   "execution_count": 40,
   "metadata": {},
   "outputs": [
    {
     "data": {
      "text/html": [
       "<i>Table length=5</i>\n",
       "<table id=\"table4548566416\" class=\"table-striped table-bordered table-condensed\">\n",
       "<thead><tr><th>JobID</th><th>User</th><th>Account</th><th>JobName</th><th>Partition</th><th>End</th><th>ExitCode</th><th>State</th><th>CompHrs</th></tr></thead>\n",
       "<thead><tr><th>str12</th><th>str8</th><th>str10</th><th>str10</th><th>str10</th><th>str19</th><th>str5</th><th>str10</th><th>float64</th></tr></thead>\n",
       "<tr><td>30479998_347</td><td>ir-shir1</td><td>iris-ip00+</td><td>phot_arra+</td><td>skylake</td><td>Unknown</td><td>0:0</td><td>RUNNING</td><td>21.1</td></tr>\n",
       "<tr><td>30479998_348</td><td>ir-shir1</td><td>iris-ip00+</td><td>phot_arra+</td><td>skylake</td><td>2020-10-29T18:29:24</td><td>0:0</td><td>COMPLETED</td><td>1.1</td></tr>\n",
       "<tr><td>30479998_349</td><td>ir-shir1</td><td>iris-ip00+</td><td>phot_arra+</td><td>skylake</td><td>2020-10-29T17:33:02</td><td>1:0</td><td>FAILED</td><td>0.1</td></tr>\n",
       "<tr><td>30479998_350</td><td>ir-shir1</td><td>iris-ip00+</td><td>phot_arra+</td><td>skylake</td><td>2020-10-29T17:31:05</td><td>1:0</td><td>FAILED</td><td>0.1</td></tr>\n",
       "<tr><td>30479998_351</td><td>ir-shir1</td><td>iris-ip00+</td><td>phot_arra+</td><td>skylake</td><td>2020-10-29T17:26:13</td><td>127:0</td><td>FAILED</td><td>0.0</td></tr>\n",
       "</table>"
      ],
      "text/plain": [
       "<Table length=5>\n",
       "   JobID       User    Account    JobName   ... ExitCode   State   CompHrs\n",
       "   str12       str8     str10      str10    ...   str5     str10   float64\n",
       "------------ -------- ---------- ---------- ... -------- --------- -------\n",
       "30479998_347 ir-shir1 iris-ip00+ phot_arra+ ...      0:0   RUNNING    21.1\n",
       "30479998_348 ir-shir1 iris-ip00+ phot_arra+ ...      0:0 COMPLETED     1.1\n",
       "30479998_349 ir-shir1 iris-ip00+ phot_arra+ ...      1:0    FAILED     0.1\n",
       "30479998_350 ir-shir1 iris-ip00+ phot_arra+ ...      1:0    FAILED     0.1\n",
       "30479998_351 ir-shir1 iris-ip00+ phot_arra+ ...    127:0    FAILED     0.0"
      ]
     },
     "execution_count": 40,
     "metadata": {},
     "output_type": "execute_result"
    }
   ],
   "source": [
    "t[-5:]"
   ]
  },
  {
   "cell_type": "code",
   "execution_count": 46,
   "metadata": {},
   "outputs": [],
   "source": [
    "def nameToJobType(name):\n",
    "    \"\"\"Take the name and return the tipe of pipetask\"\"\"\n",
    "    job_type = 'UNKNOWN'\n",
    "    if name.startswith('process'):\n",
    "        job_type = 'processCcd'\n",
    "    if name.startswith('coadd'):\n",
    "        job_type = 'coadd'\n",
    "    if name.startswith('phot'):\n",
    "        job_type = 'photoPipe'\n",
    "    return job_type\n",
    "t['job_type']  = [nameToJobType(n) for n in t['JobName']]"
   ]
  },
  {
   "cell_type": "code",
   "execution_count": 47,
   "metadata": {},
   "outputs": [
    {
     "data": {
      "text/html": [
       "<i>Table length=5</i>\n",
       "<table id=\"table4598119056\" class=\"table-striped table-bordered table-condensed\">\n",
       "<thead><tr><th>JobID</th><th>User</th><th>Account</th><th>JobName</th><th>Partition</th><th>End</th><th>ExitCode</th><th>State</th><th>CompHrs</th><th>job_type</th></tr></thead>\n",
       "<thead><tr><th>str12</th><th>str8</th><th>str10</th><th>str10</th><th>str10</th><th>str19</th><th>str5</th><th>str10</th><th>float64</th><th>str10</th></tr></thead>\n",
       "<tr><td>25933230</td><td>ir-shir1</td><td>iris-ip00+</td><td>cpujob</td><td>skylake</td><td>2020-07-13T16:18:36</td><td>127:0</td><td>FAILED</td><td>0.1</td><td>UNKNOWN</td></tr>\n",
       "<tr><td>25940256</td><td>ir-shir1</td><td>iris-ip00+</td><td>cpujob</td><td>skylake</td><td>2020-07-14T00:08:41</td><td>1:0</td><td>FAILED</td><td>74.2</td><td>UNKNOWN</td></tr>\n",
       "<tr><td>25948528</td><td>ir-shir1</td><td>iris-ip00+</td><td>cpujob</td><td>skylake</td><td>2020-07-14T14:34:59</td><td>0:0</td><td>COMPLETED</td><td>254.3</td><td>UNKNOWN</td></tr>\n",
       "<tr><td>26005193</td><td>ir-shir1</td><td>iris-ip00+</td><td>cpujob</td><td>skylake</td><td>2020-07-16T03:59:49</td><td>0:0</td><td>TIMEOUT</td><td>640.0</td><td>UNKNOWN</td></tr>\n",
       "<tr><td>26027949</td><td>ir-shir1</td><td>iris-ip00+</td><td>cpujob</td><td>skylake</td><td>2020-07-17T10:46:53</td><td>0:0</td><td>TIMEOUT</td><td>1536.4</td><td>UNKNOWN</td></tr>\n",
       "</table>"
      ],
      "text/plain": [
       "<Table length=5>\n",
       " JobID     User    Account   JobName ... ExitCode   State   CompHrs job_type\n",
       " str12     str8     str10     str10  ...   str5     str10   float64  str10  \n",
       "-------- -------- ---------- ------- ... -------- --------- ------- --------\n",
       "25933230 ir-shir1 iris-ip00+  cpujob ...    127:0    FAILED     0.1  UNKNOWN\n",
       "25940256 ir-shir1 iris-ip00+  cpujob ...      1:0    FAILED    74.2  UNKNOWN\n",
       "25948528 ir-shir1 iris-ip00+  cpujob ...      0:0 COMPLETED   254.3  UNKNOWN\n",
       "26005193 ir-shir1 iris-ip00+  cpujob ...      0:0   TIMEOUT   640.0  UNKNOWN\n",
       "26027949 ir-shir1 iris-ip00+  cpujob ...      0:0   TIMEOUT  1536.4  UNKNOWN"
      ]
     },
     "execution_count": 47,
     "metadata": {},
     "output_type": "execute_result"
    }
   ],
   "source": [
    "t[:5]"
   ]
  },
  {
   "cell_type": "code",
   "execution_count": 48,
   "metadata": {},
   "outputs": [
    {
     "name": "stdout",
     "output_type": "stream",
     "text": [
      "processCcd jobs run on stack images in SXDS\n",
      "\n",
      "Total number of jobs: 19109\n",
      "Jobs completed: 12993\n",
      "mean per job: 2.3228531058663453 cpu hours\n",
      "mean per completed job: 3.059601323789733 cpu hours\n",
      "Total time: 44387.399999999994 cpu hours\n",
      "Total time on completed jobs: 39753.4 cpu hours\n",
      "\n"
     ]
    }
   ],
   "source": [
    "print(\"\"\"processCcd jobs run on stack images in SXDS\n",
    "\n",
    "Total number of jobs: {}\n",
    "Jobs completed: {}\n",
    "mean per job: {} cpu hours\n",
    "mean per completed job: {} cpu hours\n",
    "Total time: {} cpu hours\n",
    "Total time on completed jobs: {} cpu hours\n",
    "\"\"\".format(\n",
    "np.sum(t['job_type'] == 'processCcd'),\n",
    "np.sum((t['job_type'] == 'processCcd') &(t['State'] == 'COMPLETED') ),\n",
    "np.mean(t['CompHrs'][(t['job_type'] == 'processCcd') ]),\n",
    "np.mean(t['CompHrs'][(t['job_type'] == 'processCcd') &(t['State'] == 'COMPLETED') ]),\n",
    "np.sum(t['CompHrs'][(t['job_type'] == 'processCcd') ]),\n",
    "np.sum(t['CompHrs'][(t['job_type'] == 'processCcd') &(t['State'] == 'COMPLETED') ])\n",
    ")\n",
    ")\n"
   ]
  },
  {
   "cell_type": "code",
   "execution_count": 49,
   "metadata": {},
   "outputs": [
    {
     "name": "stdout",
     "output_type": "stream",
     "text": [
      "coadd jobs run on stack images in SXDS\n",
      "\n",
      "Total number of jobs: 353\n",
      "Jobs completed: 170\n",
      "mean per job: 15.865439093484417 cpu hours\n",
      "mean per completed job: 32.858823529411765 cpu hours\n",
      "Total time: 5600.499999999999 cpu hours\n",
      "Total time on completed jobs: 5586.0 cpu hours\n",
      "\n"
     ]
    }
   ],
   "source": [
    "print(\"\"\"coadd jobs run on stack images in SXDS\n",
    "\n",
    "Total number of jobs: {}\n",
    "Jobs completed: {}\n",
    "mean per job: {} cpu hours\n",
    "mean per completed job: {} cpu hours\n",
    "Total time: {} cpu hours\n",
    "Total time on completed jobs: {} cpu hours\n",
    "\"\"\".format(\n",
    "np.sum(t['job_type'] == 'coadd'),\n",
    "np.sum((t['job_type'] == 'coadd') &(t['State'] == 'COMPLETED') ),\n",
    "np.mean(t['CompHrs'][(t['job_type'] == 'coadd') ]),\n",
    "np.mean(t['CompHrs'][(t['job_type'] == 'coadd') &(t['State'] == 'COMPLETED') ]),\n",
    "np.sum(t['CompHrs'][(t['job_type'] == 'coadd') ]),\n",
    "np.sum(t['CompHrs'][(t['job_type'] == 'coadd') &(t['State'] == 'COMPLETED') ])\n",
    ")\n",
    ")"
   ]
  },
  {
   "cell_type": "code",
   "execution_count": 50,
   "metadata": {},
   "outputs": [
    {
     "name": "stdout",
     "output_type": "stream",
     "text": [
      "photoPipe jobs run on stack images in SXDS\n",
      "\n",
      "Total number of jobs: 352\n",
      "Jobs completed: 55\n",
      "mean per job: 8.338068181818182 cpu hours\n",
      "mean per completed job: 11.976363636363633 cpu hours\n",
      "Total time: 2935.0 cpu hours\n",
      "Total time on completed jobs: 658.6999999999998 cpu hours\n",
      "\n"
     ]
    }
   ],
   "source": [
    "#Most of these are failures from memory shortages at teh coadd stage before I separated them\n",
    "print(\"\"\"photoPipe jobs run on stack images in SXDS\n",
    "\n",
    "Total number of jobs: {}\n",
    "Jobs completed: {}\n",
    "mean per job: {} cpu hours\n",
    "mean per completed job: {} cpu hours\n",
    "Total time: {} cpu hours\n",
    "Total time on completed jobs: {} cpu hours\n",
    "\"\"\".format(\n",
    "np.sum(t['job_type'] == 'photoPipe'),\n",
    "np.sum((t['job_type'] == 'photoPipe') &(t['State'] == 'COMPLETED') ),\n",
    "np.mean(t['CompHrs'][(t['job_type'] == 'photoPipe') ]),\n",
    "np.mean(t['CompHrs'][(t['job_type'] == 'photoPipe') &(t['State'] == 'COMPLETED') ]),\n",
    "np.sum(t['CompHrs'][(t['job_type'] == 'photoPipe') ]),\n",
    "np.sum(t['CompHrs'][(t['job_type'] == 'photoPipe') &(t['State'] == 'COMPLETED') ])\n",
    ")\n",
    ")"
   ]
  },
  {
   "cell_type": "code",
   "execution_count": 55,
   "metadata": {},
   "outputs": [
    {
     "data": {
      "text/html": [
       "<i>Table length=5</i>\n",
       "<table id=\"table4372813264\" class=\"table-striped table-bordered table-condensed\">\n",
       "<thead><tr><th>JobID</th><th>User</th><th>Account</th><th>JobName</th><th>Partition</th><th>End</th><th>ExitCode</th><th>State</th><th>CompHrs</th><th>job_type</th></tr></thead>\n",
       "<thead><tr><th>str12</th><th>str8</th><th>str10</th><th>str10</th><th>str10</th><th>str19</th><th>str5</th><th>str10</th><th>float64</th><th>str10</th></tr></thead>\n",
       "<tr><td>30458171_0</td><td>ir-shir1</td><td>iris-ip00+</td><td>coadd_arr+</td><td>skylake-h+</td><td>2020-10-28T14:51:01</td><td>2:0</td><td>FAILED</td><td>0.1</td><td>coadd</td></tr>\n",
       "<tr><td>30458171_1</td><td>ir-shir1</td><td>iris-ip00+</td><td>coadd_arr+</td><td>skylake-h+</td><td>2020-10-28T14:50:49</td><td>1:0</td><td>FAILED</td><td>0.1</td><td>coadd</td></tr>\n",
       "<tr><td>30458171_2</td><td>ir-shir1</td><td>iris-ip00+</td><td>coadd_arr+</td><td>skylake-h+</td><td>2020-10-28T14:51:02</td><td>2:0</td><td>FAILED</td><td>0.1</td><td>coadd</td></tr>\n",
       "<tr><td>30458171_3</td><td>ir-shir1</td><td>iris-ip00+</td><td>coadd_arr+</td><td>skylake-h+</td><td>2020-10-28T14:51:02</td><td>2:0</td><td>FAILED</td><td>0.1</td><td>coadd</td></tr>\n",
       "<tr><td>30458171_4</td><td>ir-shir1</td><td>iris-ip00+</td><td>coadd_arr+</td><td>skylake-h+</td><td>2020-10-28T14:51:00</td><td>2:0</td><td>FAILED</td><td>0.1</td><td>coadd</td></tr>\n",
       "</table>"
      ],
      "text/plain": [
       "<Table length=5>\n",
       "  JobID      User    Account    JobName   ... ExitCode State  CompHrs job_type\n",
       "  str12      str8     str10      str10    ...   str5   str10  float64  str10  \n",
       "---------- -------- ---------- ---------- ... -------- ------ ------- --------\n",
       "30458171_0 ir-shir1 iris-ip00+ coadd_arr+ ...      2:0 FAILED     0.1    coadd\n",
       "30458171_1 ir-shir1 iris-ip00+ coadd_arr+ ...      1:0 FAILED     0.1    coadd\n",
       "30458171_2 ir-shir1 iris-ip00+ coadd_arr+ ...      2:0 FAILED     0.1    coadd\n",
       "30458171_3 ir-shir1 iris-ip00+ coadd_arr+ ...      2:0 FAILED     0.1    coadd\n",
       "30458171_4 ir-shir1 iris-ip00+ coadd_arr+ ...      2:0 FAILED     0.1    coadd"
      ]
     },
     "execution_count": 55,
     "metadata": {},
     "output_type": "execute_result"
    }
   ],
   "source": [
    "t[(t['job_type']=='coadd') & (t['State'] == 'FAILED')][:5]"
   ]
  },
  {
   "cell_type": "code",
   "execution_count": 56,
   "metadata": {},
   "outputs": [
    {
     "data": {
      "text/html": [
       "&lt;Column name=&apos;ExitCode&apos; dtype=&apos;str5&apos; length=3&gt;\n",
       "<table>\n",
       "<tr><td>127:0</td></tr>\n",
       "<tr><td>1:0</td></tr>\n",
       "<tr><td>2:0</td></tr>\n",
       "</table>"
      ],
      "text/plain": [
       "<Column name='ExitCode' dtype='str5' length=3>\n",
       "127:0\n",
       "  1:0\n",
       "  2:0"
      ]
     },
     "execution_count": 56,
     "metadata": {},
     "output_type": "execute_result"
    }
   ],
   "source": [
    "np.unique(t[(t['job_type']=='coadd') & (t['State'] == 'FAILED')]['ExitCode'])"
   ]
  },
  {
   "cell_type": "code",
   "execution_count": 53,
   "metadata": {},
   "outputs": [
    {
     "data": {
      "text/html": [
       "<i>Table length=5</i>\n",
       "<table id=\"table4548565584\" class=\"table-striped table-bordered table-condensed\">\n",
       "<thead><tr><th>JobID</th><th>User</th><th>Account</th><th>JobName</th><th>Partition</th><th>End</th><th>ExitCode</th><th>State</th><th>CompHrs</th><th>job_type</th></tr></thead>\n",
       "<thead><tr><th>str12</th><th>str8</th><th>str10</th><th>str10</th><th>str10</th><th>str19</th><th>str5</th><th>str10</th><th>float64</th><th>str10</th></tr></thead>\n",
       "<tr><td>30127250</td><td>ir-shir1</td><td>iris-ip00+</td><td>coadd_852+</td><td>skylake-h+</td><td>2020-10-19T20:10:53</td><td>0:0</td><td>COMPLETED</td><td>42.0</td><td>coadd</td></tr>\n",
       "<tr><td>30458171_0</td><td>ir-shir1</td><td>iris-ip00+</td><td>coadd_arr+</td><td>skylake-h+</td><td>2020-10-28T14:51:01</td><td>2:0</td><td>FAILED</td><td>0.1</td><td>coadd</td></tr>\n",
       "<tr><td>30458171_1</td><td>ir-shir1</td><td>iris-ip00+</td><td>coadd_arr+</td><td>skylake-h+</td><td>2020-10-28T14:50:49</td><td>1:0</td><td>FAILED</td><td>0.1</td><td>coadd</td></tr>\n",
       "<tr><td>30458171_2</td><td>ir-shir1</td><td>iris-ip00+</td><td>coadd_arr+</td><td>skylake-h+</td><td>2020-10-28T14:51:02</td><td>2:0</td><td>FAILED</td><td>0.1</td><td>coadd</td></tr>\n",
       "<tr><td>30458171_3</td><td>ir-shir1</td><td>iris-ip00+</td><td>coadd_arr+</td><td>skylake-h+</td><td>2020-10-28T14:51:02</td><td>2:0</td><td>FAILED</td><td>0.1</td><td>coadd</td></tr>\n",
       "</table>"
      ],
      "text/plain": [
       "<Table length=5>\n",
       "  JobID      User    Account    JobName   ...   State   CompHrs job_type\n",
       "  str12      str8     str10      str10    ...   str10   float64  str10  \n",
       "---------- -------- ---------- ---------- ... --------- ------- --------\n",
       "  30127250 ir-shir1 iris-ip00+ coadd_852+ ... COMPLETED    42.0    coadd\n",
       "30458171_0 ir-shir1 iris-ip00+ coadd_arr+ ...    FAILED     0.1    coadd\n",
       "30458171_1 ir-shir1 iris-ip00+ coadd_arr+ ...    FAILED     0.1    coadd\n",
       "30458171_2 ir-shir1 iris-ip00+ coadd_arr+ ...    FAILED     0.1    coadd\n",
       "30458171_3 ir-shir1 iris-ip00+ coadd_arr+ ...    FAILED     0.1    coadd"
      ]
     },
     "execution_count": 53,
     "metadata": {},
     "output_type": "execute_result"
    }
   ],
   "source": [
    "t[(t['job_type']=='coadd') ][:5]"
   ]
  },
  {
   "cell_type": "markdown",
   "metadata": {},
   "source": [
    "# 2 Calculate total times\n",
    "\n",
    "Lets calculate some broad estimates for the main runs we will go on to perform"
   ]
  },
  {
   "cell_type": "markdown",
   "metadata": {},
   "source": [
    "## 2.1 SXDS VIDEO run\n",
    "\n",
    "This is the run used for the timing tests."
   ]
  },
  {
   "cell_type": "code",
   "execution_count": null,
   "metadata": {},
   "outputs": [],
   "source": [
    "n_video_sxds_images = 5263 # FRom ./1_SLurm_factory.ipynb\n",
    "n_patches = 300 #not exact\n",
    "\n",
    "print(\"\"\"\n",
    "Full processing of input images: {}\n",
    "Full coadd of all patches: {}\n",
    "Full photometry pipeline on all patches: {}\n",
    "Total time for {} images and {} patches: \n",
    "\"\"\".format(\n",
    "    n_video_sxds_images * np.mean(t['CompHrs'][(t['job_type'] == 'coadd') &(t['State'] == 'COMPLETED') ]),\n",
    "    "
   ]
  },
  {
   "cell_type": "markdown",
   "metadata": {},
   "source": [
    "## 2.2 VHS XMM run\n",
    "\n",
    "Run over full overlap of VHS and HSC PDR2 XMM field"
   ]
  },
  {
   "cell_type": "markdown",
   "metadata": {},
   "source": [
    "## 2.3 VHS complete run\n",
    "\n",
    "A first run might not enclude combination with GRIZY data prior to LSST but we can can simply use the SXDS times to estimate here."
   ]
  },
  {
   "cell_type": "code",
   "execution_count": null,
   "metadata": {},
   "outputs": [],
   "source": []
  }
 ],
 "metadata": {
  "kernelspec": {
   "display_name": "LSST",
   "language": "python",
   "name": "lsst"
  },
  "language_info": {
   "codemirror_mode": {
    "name": "ipython",
    "version": 3
   },
   "file_extension": ".py",
   "mimetype": "text/x-python",
   "name": "python",
   "nbconvert_exporter": "python",
   "pygments_lexer": "ipython3",
   "version": "3.7.6"
  }
 },
 "nbformat": 4,
 "nbformat_minor": 4
}
