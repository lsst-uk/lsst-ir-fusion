{
 "cells": [
  {
   "cell_type": "markdown",
   "metadata": {},
   "source": [
    "# Make slurm files required to produce SXDS joint VISTA-HSC data product.\n",
    "\n",
    "In this notebook we will make all the slurm files required to run the whole VISTA-VIDEO HSC-DUD joint photometry pipeline.\n",
    "\n",
    "We need to find all the patches in the HSC imaging and produce a slurm pipeline file for every patch or group of patches.\n",
    "\n",
    "This will be a maximum of around 4 tracts * 91 patches per tract = 364 patches\n",
    "\n",
    "We will also need to set up the data directories including linking relevant reference catalogues and copying the required HSC data products which are already processed.\n",
    "\n",
    "NOTE: When running the array jobs I am using wildcards to map the index to a given shell script. This is dangerous if you have multiple versions of the slurm scripts as multiple files might have the id.\n",
    "\n",
    "The processing happens in broadly three stages determined by the inputs and outputs of jobs which dictate parellelisation.\n",
    "\n",
    "1. processCcd: inputs/outputs = VISTA images/ calexp ccd exposures. One file per VISTA fits image with 16 exposures/stacks.\n",
    "\n",
    "2. makeCoadd*: inputs/outputs = calexp ccd exposures/coadd patches. One file per patch which runs every night covering a given patch.\n",
    "\n",
    "3. detect etc: inputs/outputs = coadd patches/source catalogues on every patch. One file per patch.\n"
   ]
  },
  {
   "cell_type": "code",
   "execution_count": 20,
   "metadata": {},
   "outputs": [
    {
     "data": {
      "text/plain": [
       "TractInfo(id=8524, ctrCoord=[0.8087076683756161, 0.5811684769959703, -0.09074749834931431])"
      ]
     },
     "execution_count": 20,
     "metadata": {},
     "output_type": "execute_result"
    }
   ],
   "source": [
    "from astropy.table import Table, Column\n",
    "import numpy as np\n",
    "import glob\n",
    "import os\n",
    "import json\n",
    "import itertools\n",
    "\n",
    "import matplotlib.pyplot as plt\n",
    "%matplotlib inline\n",
    "#%config InlineBackend.figure_format = 'svg'\n",
    "\n",
    "\n",
    "\n",
    "#We are using a rings skymap\n",
    "from lsst.geom import SpherePoint \n",
    "from lsst.geom import degrees\n",
    "from lsst.skymap.ringsSkyMap import RingsSkyMap, RingsSkyMapConfig\n",
    "\n",
    "#Following taken from dmu1/2_Survey_comparisons.ipynb test choice\n",
    "coord = SpherePoint(35.429025*degrees,-4.90853*degrees)\n",
    "config = RingsSkyMapConfig()\n",
    "#These config options are chose to be the same as HSC:\n",
    "#https://github.com/lsst/obs_subaru/blob/master/config/hsc/makeSkyMap.py\n",
    "#and copied for obs_vista\n",
    "#https://github.com/lsst-uk/obs_vista/blob/master/config/makeSkyMap.py\n",
    "config.numRings = 120\n",
    "config.projection = \"TAN\"\n",
    "config.tractOverlap = 1.0/60 # Overlap between tracts (degrees)\n",
    "config.pixelScale = 0.168\n",
    "sm = RingsSkyMap(config)\n",
    "sm.findTract(coord)"
   ]
  },
  {
   "cell_type": "code",
   "execution_count": 21,
   "metadata": {},
   "outputs": [],
   "source": [
    "HSC_LOC = '../../dmu0/dmu0_HSC/data'\n",
    "#WORK_DIR = '/home/ir-shir1/lsst-ir-fusion/dmu4/dmu4_SXDS'\n",
    "#WORK_DIR = os. getcwd()\n",
    "WORK_DIR = '/home/ir-shir1/rds/rds-iris-ip005/ras81/lsst-ir-fusion/dmu4/dmu4_SXDS'\n",
    "MAKE_INDIVIDUAL_SLURM=False"
   ]
  },
  {
   "cell_type": "code",
   "execution_count": 22,
   "metadata": {},
   "outputs": [
    {
     "name": "stdout",
     "output_type": "stream",
     "text": [
      "mkdir: slurm: File exists\r\n"
     ]
    }
   ],
   "source": [
    "!mkdir slurm"
   ]
  },
  {
   "cell_type": "code",
   "execution_count": 23,
   "metadata": {},
   "outputs": [],
   "source": [
    "video_ims = Table.read('../../dmu1/data/video_images_overview_20200820.csv')\n",
    "hsc_ims = Table.read('../../dmu1/data/hsc_images_overview.csv')"
   ]
  },
  {
   "cell_type": "code",
   "execution_count": 24,
   "metadata": {},
   "outputs": [],
   "source": [
    "tile_to_patch = Table.read('../../dmu1/data/video_tiles_tracts_patches_overview_20200820.csv')"
   ]
  },
  {
   "cell_type": "code",
   "execution_count": 25,
   "metadata": {},
   "outputs": [
    {
     "data": {
      "text/plain": [
       "137269"
      ]
     },
     "execution_count": 25,
     "metadata": {},
     "output_type": "execute_result"
    }
   ],
   "source": [
    "len(video_ims)"
   ]
  },
  {
   "cell_type": "markdown",
   "metadata": {},
   "source": [
    "## 1 Find all the relevant HSC SXDS patches and corresponding VIDEO images.\n",
    "\n",
    "The first stage is parallesised by ccd. We will create one job for every date. This should be small enough to fit in a 24hr job.\n",
    "\n",
    "### 1.1 Get the HSC DUD files in SXDS"
   ]
  },
  {
   "cell_type": "code",
   "execution_count": 26,
   "metadata": {},
   "outputs": [],
   "source": [
    "sxds_tracts = [8282,8283,8284,8523,8524,8525,8765,8766,8767] #manually got these from HSC DR2 pages\n",
    "hsc_bands = ['G', 'R', 'I', 'Z', 'Y']\n",
    "vista_bands = ['Y', 'J', 'H', 'Ks']"
   ]
  },
  {
   "cell_type": "code",
   "execution_count": 27,
   "metadata": {},
   "outputs": [],
   "source": [
    "hsc_ims['tract'] = [f.split('/')[14] for f in hsc_ims['file']]\n",
    "hsc_ims['patch'] = [f.split('/')[15] for f in hsc_ims['file']]\n",
    "hsc_ims['depth'] = [f.split('/')[11] for f in hsc_ims['file']]"
   ]
  },
  {
   "cell_type": "code",
   "execution_count": 28,
   "metadata": {},
   "outputs": [],
   "source": [
    "in_sxds = hsc_ims['depth'] == 'pdr2_dud' \n",
    "in_sxds &= np.isin([int(t) for t in hsc_ims['tract'] ],  sxds_tracts)"
   ]
  },
  {
   "cell_type": "code",
   "execution_count": 29,
   "metadata": {},
   "outputs": [
    {
     "data": {
      "text/plain": [
       "1629"
      ]
     },
     "execution_count": 29,
     "metadata": {},
     "output_type": "execute_result"
    }
   ],
   "source": [
    "np.sum(in_sxds)"
   ]
  },
  {
   "cell_type": "code",
   "execution_count": 30,
   "metadata": {},
   "outputs": [],
   "source": [
    "hsc_ims['band'] = [f.split('-')[-3] for f in hsc_ims['file']]"
   ]
  },
  {
   "cell_type": "code",
   "execution_count": 31,
   "metadata": {},
   "outputs": [
    {
     "data": {
      "text/html": [
       "<i>Table length=5</i>\n",
       "<table id=\"table4909623376\" class=\"table-striped table-bordered table-condensed\">\n",
       "<thead><tr><th>file</th><th>ra_0_0</th><th>ra_0_y</th><th>ra_x_0</th><th>ra_x_y</th><th>dec_0_0</th><th>dec_0_y</th><th>dec_x_0</th><th>dec_x_y</th><th>size</th><th>hash</th><th>tract</th><th>patch</th><th>depth</th><th>band</th></tr></thead>\n",
       "<thead><tr><th>str164</th><th>float64</th><th>float64</th><th>float64</th><th>float64</th><th>float64</th><th>float64</th><th>float64</th><th>float64</th><th>int64</th><th>str32</th><th>str5</th><th>str3</th><th>str9</th><th>str1</th></tr></thead>\n",
       "<tr><td>/home/ir-shir1/rds/rds-iris-ip005/data/public/HSC/hsc-release.mtk.nao.ac.jp/archive/filetree/pdr2_dud/deepCoadd-results/HSC-Z/8765/0,0/calexp-HSC-Z-8765-0,0.fits</td><td>35.057390881574044</td><td>35.05720789563249</td><td>34.865503651256965</td><td>34.86536233311517</td><td>-4.558457292032212</td><td>-4.367177057413561</td><td>-4.558655394587739</td><td>-4.367366830731112</td><td>210075840</td><td>93e4be0f6ccbf4f282001d491f830060</td><td>8765</td><td>0,0</td><td>pdr2_dud</td><td>Z</td></tr>\n",
       "<tr><td>/home/ir-shir1/rds/rds-iris-ip005/data/public/HSC/hsc-release.mtk.nao.ac.jp/archive/filetree/pdr2_dud/deepCoadd-results/HSC-Z/8765/2,2/calexp-HSC-Z-8765-2,2.fits</td><td>34.68744599488356</td><td>34.687340888143005</td><td>34.490935877105265</td><td>34.49087447536722</td><td>-4.19018894495259</td><td>-3.9942041159656037</td><td>-4.190282501066741</td><td>-3.994293285659841</td><td>149581440</td><td>bb471cb691de84ed694a8179c780c4da</td><td>8765</td><td>2,2</td><td>pdr2_dud</td><td>Z</td></tr>\n",
       "<tr><td>/home/ir-shir1/rds/rds-iris-ip005/data/public/HSC/hsc-release.mtk.nao.ac.jp/archive/filetree/pdr2_dud/deepCoadd-results/HSC-Z/8765/0,6/calexp-HSC-Z-8765-0,6.fits</td><td>35.05632532497644</td><td>35.05613835071305</td><td>34.864680733040856</td><td>34.864536334791445</td><td>-3.4433065839296444</td><td>-3.2473362428975334</td><td>-3.4434561168248923</td><td>-3.2474772402754106</td><td>64304640</td><td>bddc980e7d6fc6007a039863e628abad</td><td>8765</td><td>0,6</td><td>pdr2_dud</td><td>Z</td></tr>\n",
       "<tr><td>/home/ir-shir1/rds/rds-iris-ip005/data/public/HSC/hsc-release.mtk.nao.ac.jp/archive/filetree/pdr2_dud/deepCoadd-results/HSC-Z/8765/1,3/calexp-HSC-Z-8765-1,3.fits</td><td>34.87444848193645</td><td>34.87430182037414</td><td>34.677990464977505</td><td>34.67788748292052</td><td>-4.003408172084183</td><td>-3.8074234215277722</td><td>-4.003542229270651</td><td>-3.807550898996197</td><td>130622400</td><td>28975127e02dcd2d11576f7aa3911d6b</td><td>8765</td><td>1,3</td><td>pdr2_dud</td><td>Z</td></tr>\n",
       "<tr><td>/home/ir-shir1/rds/rds-iris-ip005/data/public/HSC/hsc-release.mtk.nao.ac.jp/archive/filetree/pdr2_dud/deepCoadd-results/HSC-Z/8765/3,0/calexp-HSC-Z-8765-3,0.fits</td><td>34.50041317080672</td><td>34.500351147036746</td><td>34.30381449491872</td><td>34.30379517560638</td><td>-4.558891715533787</td><td>-4.367593215541012</td><td>-4.558942620240526</td><td>-4.367641979954217</td><td>198616320</td><td>7939cb9d2256af91b2e55dbe826edacc</td><td>8765</td><td>3,0</td><td>pdr2_dud</td><td>Z</td></tr>\n",
       "</table>"
      ],
      "text/plain": [
       "<Table length=5>\n",
       "                                                                               file                                                                               ...\n",
       "                                                                              str164                                                                              ...\n",
       "----------------------------------------------------------------------------------------------------------------------------------------------------------------- ...\n",
       "/home/ir-shir1/rds/rds-iris-ip005/data/public/HSC/hsc-release.mtk.nao.ac.jp/archive/filetree/pdr2_dud/deepCoadd-results/HSC-Z/8765/0,0/calexp-HSC-Z-8765-0,0.fits ...\n",
       "/home/ir-shir1/rds/rds-iris-ip005/data/public/HSC/hsc-release.mtk.nao.ac.jp/archive/filetree/pdr2_dud/deepCoadd-results/HSC-Z/8765/2,2/calexp-HSC-Z-8765-2,2.fits ...\n",
       "/home/ir-shir1/rds/rds-iris-ip005/data/public/HSC/hsc-release.mtk.nao.ac.jp/archive/filetree/pdr2_dud/deepCoadd-results/HSC-Z/8765/0,6/calexp-HSC-Z-8765-0,6.fits ...\n",
       "/home/ir-shir1/rds/rds-iris-ip005/data/public/HSC/hsc-release.mtk.nao.ac.jp/archive/filetree/pdr2_dud/deepCoadd-results/HSC-Z/8765/1,3/calexp-HSC-Z-8765-1,3.fits ...\n",
       "/home/ir-shir1/rds/rds-iris-ip005/data/public/HSC/hsc-release.mtk.nao.ac.jp/archive/filetree/pdr2_dud/deepCoadd-results/HSC-Z/8765/3,0/calexp-HSC-Z-8765-3,0.fits ..."
      ]
     },
     "execution_count": 31,
     "metadata": {},
     "output_type": "execute_result"
    }
   ],
   "source": [
    "hsc_ims[in_sxds][:5]"
   ]
  },
  {
   "cell_type": "code",
   "execution_count": 32,
   "metadata": {},
   "outputs": [],
   "source": [
    "full_patch_dict = {}\n",
    "band_dict = { hsc_bands[i]: {} for i in range(len(hsc_bands))}\n",
    "for tract in sxds_tracts:\n",
    "    full_patch_dict[tract] = [\n",
    "        s for s in np.unique(np.array(hsc_ims[in_sxds & (hsc_ims['tract'] == str(tract))]['patch']))\n",
    "    ]\n",
    "    for band in hsc_bands:\n",
    "        band_dict[band][tract] = [\n",
    "            s for s in np.unique(np.array(hsc_ims[\n",
    "                in_sxds \n",
    "                & (hsc_ims['tract'] == str(tract))\n",
    "                & (hsc_ims['band'] == band)\n",
    "            ]['patch']))\n",
    "        ]"
   ]
  },
  {
   "cell_type": "code",
   "execution_count": 33,
   "metadata": {},
   "outputs": [
    {
     "data": {
      "text/plain": [
       "'{\"8282\":[\"0,8\"],\"8283\":[\"0,8\",\"1,7\",\"1,8\",\"2,7\",\"2,8\",\"3,7\",\"3,8\",\"4,7\",\"4,8\",\"5,7\",\"5,8\",\"6,7\",\"6,8\",\"7,7\",\"7,8\",\"8,8\"],\"8284\":[\"8,8\"],\"8523\":[\"0,1\",\"0,2\",\"0,3\",\"0,4\",\"0,5\",\"0,6\",\"0,7\",\"0,8\",\"1,1\",\"1,2\",\"1,3\",\"1,4\",\"1,5\",\"1,6\",\"1,7\",\"1,8\",\"2,1\",\"2,2\",\"2,3\",\"2,4\",\"2,5\",\"2,6\",\"2,7\",\"2,8\",\"3,1\",\"3,2\",\"3,3\",\"3,4\",\"3,5\",\"3,6\",\"3,7\",\"3,8\",\"4,1\",\"4,2\",\"4,3\",\"4,4\",\"4,5\",\"4,6\",\"4,7\",\"4,8\",\"5,2\",\"5,3\",\"5,4\",\"5,5\",\"5,6\",\"5,7\",\"5,8\",\"6,3\",\"6,4\",\"6,5\",\"6,6\",\"6,7\",\"6,8\",\"7,3\",\"7,4\",\"7,5\",\"7,6\",\"7,7\",\"7,8\"],\"8524\":[\"0,0\",\"0,1\",\"0,2\",\"0,3\",\"0,4\",\"0,5\",\"0,6\",\"0,7\",\"0,8\",\"1,0\",\"1,1\",\"1,2\",\"1,3\",\"1,4\",\"1,5\",\"1,6\",\"1,7\",\"1,8\",\"2,0\",\"2,1\",\"2,2\",\"2,3\",\"2,4\",\"2,5\",\"2,6\",\"2,7\",\"2,8\",\"3,0\",\"3,1\",\"3,2\",\"3,3\",\"3,4\",\"3,5\",\"3,6\",\"3,7\",\"3,8\",\"4,0\",\"4,1\",\"4,2\",\"4,3\",\"4,4\",\"4,5\",\"4,6\",\"4,7\",\"4,8\",\"5,0\",\"5,1\",\"5,2\",\"5,3\",\"5,4\",\"5,5\",\"5,6\",\"5,7\",\"5,8\",\"6,0\",\"6,1\",\"6,2\",\"6,3\",\"6,4\",\"6,5\",\"6,6\",\"6,7\",\"6,8\",\"7,0\",\"7,1\",\"7,2\",\"7,3\",\"7,4\",\"7,5\",\"7,6\",\"7,7\",\"7,8\",\"8,1\",\"8,2\",\"8,3\",\"8,4\",\"8,5\",\"8,6\",\"8,7\",\"8,8\"],\"8525\":[\"1,6\",\"1,7\",\"1,8\",\"2,4\",\"2,5\",\"2,6\",\"2,7\",\"2,8\",\"3,4\",\"3,5\",\"3,6\",\"3,7\",\"3,8\",\"4,4\",\"4,5\",\"4,6\",\"4,7\",\"4,8\",\"5,4\",\"5,5\",\"5,6\",\"5,7\",\"5,8\",\"6,2\",\"6,3\",\"6,4\",\"6,5\",\"6,6\",\"6,7\",\"6,8\",\"7,0\",\"7,1\",\"7,2\",\"7,3\",\"7,4\",\"7,5\",\"7,6\",\"7,7\",\"7,8\",\"8,0\",\"8,1\",\"8,2\",\"8,3\",\"8,4\",\"8,5\",\"8,6\",\"8,7\",\"8,8\"],\"8765\":[\"0,0\",\"0,1\",\"0,2\",\"0,3\",\"0,4\",\"0,5\",\"0,6\",\"1,0\",\"1,1\",\"1,2\",\"1,3\",\"1,4\",\"1,5\",\"1,6\",\"2,0\",\"2,1\",\"2,2\",\"2,3\",\"2,4\",\"3,0\",\"3,1\",\"3,2\",\"3,3\",\"4,0\",\"4,1\",\"4,2\",\"4,3\",\"5,0\",\"5,1\",\"5,2\",\"5,3\",\"6,0\",\"6,1\",\"6,2\",\"7,0\",\"7,1\"],\"8766\":[\"0,0\",\"0,1\",\"0,2\",\"0,3\",\"0,4\",\"0,5\",\"1,0\",\"1,1\",\"1,2\",\"1,3\",\"1,4\",\"1,5\",\"1,6\",\"2,0\",\"2,1\",\"2,2\",\"2,3\",\"2,4\",\"2,5\",\"2,6\",\"2,7\",\"3,0\",\"3,1\",\"3,2\",\"3,3\",\"3,4\",\"3,5\",\"3,6\",\"3,7\",\"4,0\",\"4,1\",\"4,2\",\"4,3\",\"4,4\",\"4,5\",\"4,6\",\"4,7\",\"5,0\",\"5,1\",\"5,2\",\"5,3\",\"5,4\",\"5,5\",\"5,6\",\"5,7\",\"6,0\",\"6,1\",\"6,2\",\"6,3\",\"6,4\",\"6,5\",\"6,6\",\"6,7\",\"7,0\",\"7,1\",\"7,2\",\"7,3\",\"7,4\",\"7,5\",\"7,6\",\"7,7\",\"8,0\",\"8,1\",\"8,2\",\"8,3\",\"8,4\",\"8,5\",\"8,6\"],\"8767\":[\"1,0\",\"1,1\",\"1,2\",\"2,0\",\"2,1\",\"2,2\",\"2,3\",\"3,0\",\"3,1\",\"3,2\",\"3,3\",\"3,4\",\"4,0\",\"4,1\",\"4,2\",\"4,3\",\"4,4\",\"4,5\",\"5,0\",\"5,1\",\"5,2\",\"5,3\",\"5,4\",\"5,5\",\"6,0\",\"6,1\",\"6,2\",\"6,3\",\"6,4\",\"6,5\",\"7,0\",\"7,1\",\"7,2\",\"7,3\",\"7,4\",\"7,5\",\"8,0\",\"8,1\",\"8,2\",\"8,3\",\"8,4\",\"8,5\"]}'"
      ]
     },
     "execution_count": 33,
     "metadata": {},
     "output_type": "execute_result"
    }
   ],
   "source": [
    "json.dumps(full_patch_dict, separators=(',', ':')) \n"
   ]
  },
  {
   "cell_type": "code",
   "execution_count": 34,
   "metadata": {},
   "outputs": [],
   "source": [
    "with open('full_patch_dict.json', 'w') as outfile:\n",
    "    json.dump(full_patch_dict, outfile, separators=(',', ':'))"
   ]
  },
  {
   "cell_type": "code",
   "execution_count": 35,
   "metadata": {},
   "outputs": [
    {
     "name": "stdout",
     "output_type": "stream",
     "text": [
      "mkdir: figs: File exists\r\n"
     ]
    }
   ],
   "source": [
    "!mkdir figs"
   ]
  },
  {
   "cell_type": "code",
   "execution_count": 36,
   "metadata": {},
   "outputs": [
    {
     "data": {
      "image/png": "[encoded data removed]",
      "text/plain": [
       "<Figure size 560x560 with 1 Axes>"
      ]
     },
     "metadata": {
      "needs_background": "light"
     },
     "output_type": "display_data"
    }
   ],
   "source": [
    "fig, ax = plt.subplots(figsize=(4, 4), dpi=140)\n",
    "for tract in sxds_tracts:\n",
    "    vertices = sm.generateTract(tract).getVertexList()\n",
    "    ra = [vertices[n][0].asDegrees() for n in np.mod(np.arange(5),4)]\n",
    "    dec = [vertices[n][1].asDegrees() for n in np.mod(np.arange(5),4)]\n",
    "    ax.plot(ra, dec, c = 'k')\n",
    "    for p in np.nditer(np.meshgrid(np.arange(0,9), np.arange(0,9))):\n",
    "        #print(p[0], p[1])\n",
    "        t = sm.generateTract(tract)\n",
    "        vertices = t.getPatchInfo([p[0], p[1]]).getInnerSkyPolygon(t.getWcs()).getVertices()\n",
    "        ra = [np.arctan(vertices[n][1]/vertices[n][0])* 180/np.pi for n in np.mod(np.arange(5),4)]\n",
    "        #print(tract, ra)\n",
    "        dec = [(vertices[n][2])* 180/np.pi for n in np.mod(np.arange(5),4)]\n",
    "        ax.plot(ra, dec, c = 'k', alpha=0.5, linewidth=0.5)\n",
    "\n",
    "#Plot patches on a band\n",
    "band = 'all'\n",
    "if band != 'all':\n",
    "    d = band_dict[band]\n",
    "else:\n",
    "    d = full_patch_dict\n",
    "for tract in d:\n",
    "    for patch in d[tract]:\n",
    "        #print(p[0], p[1])\n",
    "        p = [int(i) for i in patch.split(',')]\n",
    "        t = sm.generateTract(tract)\n",
    "        vertices = t.getPatchInfo([p[0], p[1]]).getInnerSkyPolygon(t.getWcs()).getVertices()\n",
    "        ra = [np.arctan(vertices[n][1]/vertices[n][0])* 180/np.pi for n in np.mod(np.arange(5),4)]\n",
    "        #print(tract, ra)\n",
    "        dec = [(vertices[n][2])* 180/np.pi for n in np.mod(np.arange(5),4)]\n",
    "        ax.plot(ra, dec, c = 'r')\n",
    "    \n",
    "ax.axis('scaled')\n",
    "ax.set_xlim([39, 33])\n",
    "ax.set_xlabel('Right Ascension [deg]')\n",
    "ax.set_ylabel('Declination[deg]')\n",
    "fig.savefig('./figs/sxds_HSC-{}_patches.pdf'.format(band), overwrite=True)\n",
    "fig.savefig('./figs/sxds_HSC-{}_patches.png'.format(band), overwrite=True)"
   ]
  },
  {
   "cell_type": "code",
   "execution_count": 37,
   "metadata": {},
   "outputs": [
    {
     "data": {
      "text/plain": [
       "([[5, 0],\n",
       "  [6, 0],\n",
       "  [7, 0],\n",
       "  [8, 0],\n",
       "  [5, 1],\n",
       "  [6, 1],\n",
       "  [7, 1],\n",
       "  [8, 1],\n",
       "  [5, 2],\n",
       "  [6, 2],\n",
       "  [7, 2],\n",
       "  [8, 2],\n",
       "  [5, 3],\n",
       "  [6, 3],\n",
       "  [7, 3],\n",
       "  [8, 3],\n",
       "  [4, 4],\n",
       "  [5, 4],\n",
       "  [6, 4],\n",
       "  [7, 4],\n",
       "  [8, 4],\n",
       "  [4, 5],\n",
       "  [5, 5],\n",
       "  [6, 5],\n",
       "  [7, 5],\n",
       "  [8, 5],\n",
       "  [4, 6],\n",
       "  [5, 6],\n",
       "  [6, 6],\n",
       "  [7, 6],\n",
       "  [8, 6],\n",
       "  [4, 7],\n",
       "  [5, 7],\n",
       "  [6, 7],\n",
       "  [7, 7],\n",
       "  [8, 7],\n",
       "  [4, 8],\n",
       "  [5, 8],\n",
       "  [6, 8],\n",
       "  [7, 8],\n",
       "  [8, 8]],\n",
       " 41)"
      ]
     },
     "execution_count": 37,
     "metadata": {},
     "output_type": "execute_result"
    }
   ],
   "source": [
    "#There are some missing patches in tract 8524 in R that we need to download\n",
    "HSC_R_missing_patches = []\n",
    "for p in np.nditer(np.meshgrid(np.arange(0,9), np.arange(0,9))):\n",
    "    if \"{},{}\".format(p[0], p[1]) not in band_dict['R'][8524]:\n",
    "        #print(\"{},{}\".format(p[0], p[1]))\n",
    "        HSC_R_missing_patches.append([int(p[0]), int(p[1])])\n",
    "HSC_R_missing_patches, len(HSC_R_missing_patches)"
   ]
  },
  {
   "cell_type": "code",
   "execution_count": 38,
   "metadata": {},
   "outputs": [],
   "source": [
    "#sxds_tracts_patches = {sxds_tracts}\n",
    "#for t in sxds_tracts_patches:"
   ]
  },
  {
   "cell_type": "markdown",
   "metadata": {},
   "source": [
    "### 1.2 Find VIDEO images containing those patches\n",
    "\n",
    "To begin we simply find all tiles which contain the centres of any of those patches"
   ]
  },
  {
   "cell_type": "code",
   "execution_count": 39,
   "metadata": {},
   "outputs": [],
   "source": [
    "video_ims.add_column(Column(\n",
    "    data= [t.split('/')[-2] for t in video_ims['file']],\n",
    "    name='date'))"
   ]
  },
  {
   "cell_type": "code",
   "execution_count": 40,
   "metadata": {},
   "outputs": [],
   "source": [
    "video_ims.sort('date')"
   ]
  },
  {
   "cell_type": "code",
   "execution_count": 41,
   "metadata": {},
   "outputs": [
    {
     "data": {
      "text/plain": [
       "'00485'"
      ]
     },
     "execution_count": 41,
     "metadata": {},
     "output_type": "execute_result"
    }
   ],
   "source": [
    "'/home/ir-shir1/rds/rds-iris-ip005/data/private/VISTA/VIDEO/20140924/v20140924_00485.fit'.split('_')[-1].strip('_st_tl.fit')"
   ]
  },
  {
   "cell_type": "code",
   "execution_count": 42,
   "metadata": {},
   "outputs": [],
   "source": [
    "def fileToType(filename):\n",
    "    filetype = ''\n",
    "    types = {\n",
    "        'tile':'_tl.fit',\n",
    "        'stack':'_st.fit',\n",
    "    }\n",
    "    for k,v in types.items():\n",
    "        #print(k,v)\n",
    "        if filename.endswith(v):\n",
    "            filetype = k\n",
    "  \n",
    "    return filetype\n",
    "video_ims['type'] = [fileToType(f) for f in video_ims['file']]"
   ]
  },
  {
   "cell_type": "code",
   "execution_count": 43,
   "metadata": {},
   "outputs": [],
   "source": [
    "def fileToNumObs(filename):\n",
    "    \"Parse the file name to an obsNum\"\n",
    "    obsNum = filename.split('_')[1].strip('_st_tl_conf.fit')\n",
    "    return obsNum\n",
    "video_ims['numObs'] = [fileToNumObs(f) for f in video_ims['file']]"
   ]
  },
  {
   "cell_type": "code",
   "execution_count": 44,
   "metadata": {},
   "outputs": [],
   "source": [
    "def stackToPatchList(files, file, tile_to_patch):\n",
    "    \"\"\"Take a stack file and find the corresponding tile and patch list\"\"\"\n",
    "    tiles_on_date = files[\n",
    "        (files['date'] == file['date'])\n",
    "        &(files['type'] == 'tile')\n",
    "    ]\n",
    "    numObs = file['numObs']\n",
    "    #get the largest tile numObs below the stack/exposure numObs for the given date\n",
    "    try:\n",
    "        print(file['date'],numObs,tiles_on_date['numObs'])\n",
    "        tileNumObs = np.max([int(i) if (int(i) <= int(numObs)) else -99 for i in tiles_on_date['numObs']])\n",
    "        print(tileNumObs)\n",
    "        tile = '/home/ir-shir1/rds/rds-iris-ip005/data/private/VISTA/VIDEO/{}/v{}_{}_st_tl.fit'.format(\n",
    "            file['date'],\n",
    "            file['date'],\n",
    "            str(tileNumObs).zfill(5) # turn e.g. int 56 to '00056'\n",
    "        )\n",
    "        patches = tile_to_patch[tile_to_patch['file'] == tile]['tract_patch_json'][0]\n",
    "    except:\n",
    "        patches = ''\n",
    "    return patches\n",
    "#video_ims['tract_patch_json'] = [stackToPatchList(video_ims, i, tile_to_patch) for i in video_ims]\n",
    "#stackToPatchList(video_ims, video_ims[video_ims['tract_patch_json']==''][0], tile_to_patch)"
   ]
  },
  {
   "cell_type": "code",
   "execution_count": 45,
   "metadata": {},
   "outputs": [
    {
     "data": {
      "text/html": [
       "<i>Table length=5</i>\n",
       "<table id=\"table5134802064\" class=\"table-striped table-bordered table-condensed\">\n",
       "<thead><tr><th>file</th><th>ra</th><th>dec</th><th>ra_0_0</th><th>ra_0_y</th><th>ra_x_0</th><th>ra_x_y</th><th>dec_0_0</th><th>dec_0_y</th><th>dec_x_0</th><th>dec_x_y</th><th>filter</th><th>size</th><th>hash</th><th>date</th><th>type</th><th>numObs</th></tr></thead>\n",
       "<thead><tr><th>str98</th><th>float64</th><th>float64</th><th>float64</th><th>float64</th><th>float64</th><th>float64</th><th>float64</th><th>float64</th><th>float64</th><th>float64</th><th>str2</th><th>int64</th><th>str32</th><th>str8</th><th>str5</th><th>str5</th></tr></thead>\n",
       "<tr><td>/home/ir-shir1/rds/rds-iris-ip005/data/private/VISTA/VIDEO/20091103/v20091103_00325.fit</td><td>36.484021</td><td>-4.63957</td><td>36.98560193607373</td><td>36.986942820117136</td><td>36.7931357869821</td><td>36.7939859231928</td><td>-3.989920268987716</td><td>-4.181391042060536</td><td>-3.988834504192597</td><td>-4.1806173078937405</td><td>H</td><td>105491520</td><td>75436ffeaa57d1946019f75b5815e336</td><td>20091103</td><td></td><td>00325</td></tr>\n",
       "<tr><td>/home/ir-shir1/rds/rds-iris-ip005/data/private/VISTA/VIDEO/20091103/v20091103_00367.fit</td><td>36.481129</td><td>-4.63406</td><td>36.98912995651607</td><td>36.9904674970784</td><td>36.79666379317547</td><td>36.797510578766826</td><td>-3.990063823329973</td><td>-4.181534619671177</td><td>-3.988974713687807</td><td>-4.180757532137754</td><td>H</td><td>104114880</td><td>12892dcb4ba2851a599a378bdad98a7e</td><td>20091103</td><td></td><td>00367</td></tr>\n",
       "<tr><td>/home/ir-shir1/rds/rds-iris-ip005/data/private/VISTA/VIDEO/20091103/v20091103_00393.fit</td><td>36.568479</td><td>-4.81736</td><td>37.076494313244794</td><td>37.07786777023741</td><td>36.883984036560555</td><td>36.88486460760027</td><td>-4.173272093651579</td><td>-4.364742639305536</td><td>-4.1722175417765595</td><td>-4.364000209787858</td><td>H</td><td>106493760</td><td>9416474aa5111d45837d920283a7c1e9</td><td>20091103</td><td></td><td>00393</td></tr>\n",
       "<tr><td>/home/ir-shir1/rds/rds-iris-ip005/data/private/VISTA/VIDEO/20091103/v20091103_00369.fit</td><td>36.568346</td><td>-4.64697</td><td>37.07627589098966</td><td>37.07763727231611</td><td>36.88380657765256</td><td>36.884677089463565</td><td>-4.002906461016393</td><td>-4.194377090338556</td><td>-4.001841099562346</td><td>-4.193623812387667</td><td>H</td><td>103800960</td><td>ca08dee28bd6b37667a5438b7df7fe6c</td><td>20091103</td><td></td><td>00369</td></tr>\n",
       "<tr><td>/home/ir-shir1/rds/rds-iris-ip005/data/private/VISTA/VIDEO/20091103/v20091103_00386.fit</td><td>36.674412</td><td>-4.81858</td><td>37.182349181000326</td><td>37.18374611537194</td><td>36.989838489722416</td><td>36.99074256239558</td><td>-4.174430204796115</td><td>-4.365900581559266</td><td>-4.17339911824822</td><td>-4.365181677523936</td><td>H</td><td>106246080</td><td>02c12907c939625eab7f40e581583c99</td><td>20091103</td><td></td><td>00386</td></tr>\n",
       "</table>"
      ],
      "text/plain": [
       "<Table length=5>\n",
       "                                          file                                          ...\n",
       "                                         str98                                          ...\n",
       "--------------------------------------------------------------------------------------- ...\n",
       "/home/ir-shir1/rds/rds-iris-ip005/data/private/VISTA/VIDEO/20091103/v20091103_00325.fit ...\n",
       "/home/ir-shir1/rds/rds-iris-ip005/data/private/VISTA/VIDEO/20091103/v20091103_00367.fit ...\n",
       "/home/ir-shir1/rds/rds-iris-ip005/data/private/VISTA/VIDEO/20091103/v20091103_00393.fit ...\n",
       "/home/ir-shir1/rds/rds-iris-ip005/data/private/VISTA/VIDEO/20091103/v20091103_00369.fit ...\n",
       "/home/ir-shir1/rds/rds-iris-ip005/data/private/VISTA/VIDEO/20091103/v20091103_00386.fit ..."
      ]
     },
     "execution_count": 45,
     "metadata": {},
     "output_type": "execute_result"
    }
   ],
   "source": [
    "video_ims[:5]"
   ]
  },
  {
   "cell_type": "code",
   "execution_count": 46,
   "metadata": {},
   "outputs": [
    {
     "name": "stderr",
     "output_type": "stream",
     "text": [
      "/Users/rs548/GitHub/lsst_stack/conda/miniconda3-py37_4.8.2/envs/lsst-scipipe-1a1d771/lib/python3.7/site-packages/astropy/table/column.py:1020: RuntimeWarning: invalid value encountered in greater\n",
      "  result = getattr(super(), op)(other)\n",
      "/Users/rs548/GitHub/lsst_stack/conda/miniconda3-py37_4.8.2/envs/lsst-scipipe-1a1d771/lib/python3.7/site-packages/astropy/table/column.py:1020: RuntimeWarning: invalid value encountered in less\n",
      "  result = getattr(super(), op)(other)\n"
     ]
    }
   ],
   "source": [
    "#TODO make more sophisticated overlap tester. Use patches?\n",
    "#make list of patches for every tile?\n",
    "near_sxds = video_ims['type'] == 'stack'\n",
    "near_sxds &= video_ims['ra'] > 32 #generous bounding box for simplicity \n",
    "near_sxds &= video_ims['ra'] < 39\n",
    "near_sxds &= video_ims['dec'] > -8\n",
    "near_sxds &= video_ims['dec'] < -1\n",
    "#Just run Ks for now\n",
    "#near_sxds &= video_ims['filter'] == 'Ks'"
   ]
  },
  {
   "cell_type": "code",
   "execution_count": 47,
   "metadata": {},
   "outputs": [
    {
     "data": {
      "text/plain": [
       "5263"
      ]
     },
     "execution_count": 47,
     "metadata": {},
     "output_type": "execute_result"
    }
   ],
   "source": [
    "np.sum(near_sxds)"
   ]
  },
  {
   "cell_type": "code",
   "execution_count": 48,
   "metadata": {},
   "outputs": [],
   "source": [
    "tiles_near_sxds = video_ims['type'] == 'tile'\n",
    "tiles_near_sxds &= video_ims['ra'] > 32 #generous bounding box for simplicity \n",
    "tiles_near_sxds &= video_ims['ra'] < 39\n",
    "tiles_near_sxds &= video_ims['dec'] > -8\n",
    "tiles_near_sxds &= video_ims['dec'] < -1"
   ]
  },
  {
   "cell_type": "code",
   "execution_count": 49,
   "metadata": {},
   "outputs": [
    {
     "data": {
      "text/plain": [
       "863"
      ]
     },
     "execution_count": 49,
     "metadata": {},
     "output_type": "execute_result"
    }
   ],
   "source": [
    "np.sum(tiles_near_sxds)"
   ]
  },
  {
   "cell_type": "code",
   "execution_count": 50,
   "metadata": {},
   "outputs": [
    {
     "data": {
      "text/html": [
       "<i>Table length=1</i>\n",
       "<table id=\"table4931188880\" class=\"table-striped table-bordered table-condensed\">\n",
       "<thead><tr><th>file</th><th>ra</th><th>dec</th><th>ra_0_0</th><th>ra_0_y</th><th>ra_x_0</th><th>ra_x_y</th><th>dec_0_0</th><th>dec_0_y</th><th>dec_x_0</th><th>dec_x_y</th><th>filter</th><th>size</th><th>hash</th><th>type</th><th>tract_patch_json</th></tr></thead>\n",
       "<thead><tr><th>str93</th><th>float64</th><th>float64</th><th>float64</th><th>float64</th><th>float64</th><th>float64</th><th>float64</th><th>float64</th><th>float64</th><th>float64</th><th>str2</th><th>int64</th><th>str32</th><th>str4</th><th>str631</th></tr></thead>\n",
       "<tr><td>/home/ir-shir1/rds/rds-iris-ip005/data/private/VISTA/VIDEO/20140924/v20140924_00444_st_tl.fit</td><td>35.429542</td><td>-4.72215</td><td>36.12993723683939</td><td>36.13433423332165</td><td>34.912894878395214</td><td>34.91462725348546</td><td>-4.072782101046067</td><td>-5.559458172880838</td><td>-4.07547203760631</td><td>-5.562153562881393</td><td>Y</td><td>148561920</td><td>ccef567359a9d3f1cef197b5b5dad958</td><td>tile</td><td>{&quot;8766&quot;:[[2,0],[2,1],[2,2],[3,0],[3,1],[3,2],[4,0],[4,1],[4,2],[5,0],[5,1],[5,2],[6,0],[6,1],[6,2],[7,0],[7,1],[7,2],[8,0],[8,1],[8,2]],&quot;8524&quot;:[[2,2],[2,3],[2,4],[2,5],[2,6],[2,7],[2,8],[3,2],[3,3],[3,4],[3,5],[3,6],[3,7],[3,8],[4,2],[4,3],[4,4],[4,5],[4,6],[4,7],[4,8],[5,2],[5,3],[5,4],[5,5],[5,6],[5,7],[5,8],[6,2],[6,3],[6,4],[6,5],[6,6],[6,7],[6,8],[7,2],[7,3],[7,4],[7,5],[7,6],[7,7],[7,8],[8,2],[8,3],[8,4],[8,5],[8,6],[8,7],[8,8]],&quot;8765&quot;:[[0,0],[0,1],[0,2]],&quot;8523&quot;:[[0,2],[0,3],[0,4],[0,5],[0,6],[0,7],[0,8]]}</td></tr>\n",
       "</table>"
      ],
      "text/plain": [
       "<Table length=1>\n",
       "                                             file                                             ...\n",
       "                                            str93                                             ...\n",
       "--------------------------------------------------------------------------------------------- ...\n",
       "/home/ir-shir1/rds/rds-iris-ip005/data/private/VISTA/VIDEO/20140924/v20140924_00444_st_tl.fit ..."
      ]
     },
     "execution_count": 50,
     "metadata": {},
     "output_type": "execute_result"
    }
   ],
   "source": [
    "tile_to_patch[:1]"
   ]
  },
  {
   "cell_type": "code",
   "execution_count": 51,
   "metadata": {},
   "outputs": [
    {
     "data": {
      "text/html": [
       "<i>Table length=5</i>\n",
       "<table id=\"table4931186768\" class=\"table-striped table-bordered table-condensed\">\n",
       "<thead><tr><th>file</th><th>ra</th><th>dec</th><th>ra_0_0</th><th>ra_0_y</th><th>ra_x_0</th><th>ra_x_y</th><th>dec_0_0</th><th>dec_0_y</th><th>dec_x_0</th><th>dec_x_y</th><th>filter</th><th>size</th><th>hash</th><th>date</th><th>type</th><th>numObs</th></tr></thead>\n",
       "<thead><tr><th>str98</th><th>float64</th><th>float64</th><th>float64</th><th>float64</th><th>float64</th><th>float64</th><th>float64</th><th>float64</th><th>float64</th><th>float64</th><th>str2</th><th>int64</th><th>str32</th><th>str8</th><th>str5</th><th>str5</th></tr></thead>\n",
       "<tr><td>/home/ir-shir1/rds/rds-iris-ip005/data/private/VISTA/VIDEO/20091103/v20091103_00326_st.fit</td><td>36.576012</td><td>-4.64</td><td>37.08823163355052</td><td>37.08995555636475</td><td>36.88482927617349</td><td>36.8859752930554</td><td>-3.987866954738439</td><td>-4.192091543332042</td><td>-3.9868182149356515</td><td>-4.191410879371404</td><td>H</td><td>86803200</td><td>2410d58d84a26f07f1010a1150313193</td><td>20091103</td><td>stack</td><td>00326</td></tr>\n",
       "<tr><td>/home/ir-shir1/rds/rds-iris-ip005/data/private/VISTA/VIDEO/20091103/v20091103_00361_st.fit</td><td>36.482612</td><td>-4.64011</td><td>36.99730036933133</td><td>36.99898264493762</td><td>36.79056354585063</td><td>36.79165308031856</td><td>-3.9879327432794103</td><td>-4.194323243877787</td><td>-3.986773049689245</td><td>-4.19354190751726</td><td>H</td><td>88784640</td><td>c33e62145d53d22e4d4a0981b0c9dca3</td><td>20091103</td><td>stack</td><td>00361</td></tr>\n",
       "<tr><td>/home/ir-shir1/rds/rds-iris-ip005/data/private/VISTA/VIDEO/20091103/v20091103_00391_st.fit</td><td>36.574512</td><td>-4.8233</td><td>37.090405452822694</td><td>37.09215343959273</td><td>36.88401211258498</td><td>36.88516715627871</td><td>-4.171965219831058</td><td>-4.378404636823602</td><td>-4.170908971603986</td><td>-4.377728217979376</td><td>H</td><td>90155520</td><td>9432149081dbbabdd2e49188b508d40a</td><td>20091103</td><td>stack</td><td>00391</td></tr>\n",
       "<tr><td>/home/ir-shir1/rds/rds-iris-ip005/data/private/VISTA/VIDEO/20091103/v20091103_00377_st.fit</td><td>36.666387</td><td>-4.64011</td><td>37.181911349666635</td><td>37.183711783195584</td><td>36.97552002531141</td><td>36.97672988686314</td><td>-3.9882754312027484</td><td>-4.194658362408524</td><td>-3.987245352372556</td><td>-4.194007866262817</td><td>H</td><td>89078400</td><td>0c264294d07d4ef68a6835523da85261</td><td>20091103</td><td>stack</td><td>00377</td></tr>\n",
       "<tr><td>/home/ir-shir1/rds/rds-iris-ip005/data/private/VISTA/VIDEO/20091103/v20091103_00333_st.fit</td><td>36.667887</td><td>-4.64001</td><td>37.180057354163154</td><td>37.181794976732</td><td>36.97657410259618</td><td>36.97773353926015</td><td>-3.9878357167901357</td><td>-4.192071768125217</td><td>-3.9868068960692162</td><td>-4.191411222306248</td><td>H</td><td>86955840</td><td>e7496362227fd6e1389172c145151696</td><td>20091103</td><td>stack</td><td>00333</td></tr>\n",
       "</table>"
      ],
      "text/plain": [
       "<Table length=5>\n",
       "                                           file                                            ...\n",
       "                                          str98                                            ...\n",
       "------------------------------------------------------------------------------------------ ...\n",
       "/home/ir-shir1/rds/rds-iris-ip005/data/private/VISTA/VIDEO/20091103/v20091103_00326_st.fit ...\n",
       "/home/ir-shir1/rds/rds-iris-ip005/data/private/VISTA/VIDEO/20091103/v20091103_00361_st.fit ...\n",
       "/home/ir-shir1/rds/rds-iris-ip005/data/private/VISTA/VIDEO/20091103/v20091103_00391_st.fit ...\n",
       "/home/ir-shir1/rds/rds-iris-ip005/data/private/VISTA/VIDEO/20091103/v20091103_00377_st.fit ...\n",
       "/home/ir-shir1/rds/rds-iris-ip005/data/private/VISTA/VIDEO/20091103/v20091103_00333_st.fit ..."
      ]
     },
     "execution_count": 51,
     "metadata": {},
     "output_type": "execute_result"
    }
   ],
   "source": [
    "video_ims[near_sxds][:5]"
   ]
  },
  {
   "cell_type": "code",
   "execution_count": 52,
   "metadata": {},
   "outputs": [
    {
     "name": "stderr",
     "output_type": "stream",
     "text": [
      "WARNING: AstropyDeprecationWarning: ./data/sxds_tiles.csv already exists. Automatically overwriting ASCII files is deprecated. Use the argument 'overwrite=True' in the future. [astropy.io.ascii.ui]\n"
     ]
    }
   ],
   "source": [
    "video_ims[near_sxds].write('./data/sxds_tiles.csv')"
   ]
  },
  {
   "cell_type": "code",
   "execution_count": 53,
   "metadata": {},
   "outputs": [],
   "source": [
    "#For simplicity lets ingest all the images (They are only links and this stage is fast)\n",
    "#!mkdir data\n",
    "#!mkdir slurm\n",
    "#!ingestImages.py data /home/ir-shir1/rds/rds-iris-ip005/data/private/VISTA/VIDEO/*/*_st.fit #Stacks\n",
    "#for date in date_list:\n",
    "#    #!ingestImages.py data /path/to/vista/{date}/*[0-9].fit #Exposures\n",
    "#    !ingestImages.py data /path/to/vista/{date}/*_st.fit #Stacks"
   ]
  },
  {
   "cell_type": "code",
   "execution_count": 54,
   "metadata": {},
   "outputs": [],
   "source": [
    "#date_list = ['20121122', '20171027'] #test dates\n",
    "date_list = np.unique(video_ims['date'][near_sxds])"
   ]
  },
  {
   "cell_type": "code",
   "execution_count": 55,
   "metadata": {},
   "outputs": [
    {
     "data": {
      "text/plain": [
       "8095"
      ]
     },
     "execution_count": 55,
     "metadata": {},
     "output_type": "execute_result"
    }
   ],
   "source": [
    "#Number of stack files in total tile date list\n",
    "np.sum(np.isin(video_ims['date'][video_ims['type'] == 'stack'], date_list))"
   ]
  },
  {
   "cell_type": "code",
   "execution_count": 56,
   "metadata": {},
   "outputs": [],
   "source": [
    "date_list = [date[0:4]+'-'+date[4:6]+'-'+date[6:9] for date in date_list]"
   ]
  },
  {
   "cell_type": "code",
   "execution_count": 57,
   "metadata": {},
   "outputs": [
    {
     "data": {
      "text/plain": [
       "['2009-11-03',\n",
       " '2009-11-04',\n",
       " '2009-11-05',\n",
       " '2009-11-06',\n",
       " '2009-11-07',\n",
       " '2009-11-08',\n",
       " '2009-11-10',\n",
       " '2009-11-11',\n",
       " '2009-11-12',\n",
       " '2009-11-13',\n",
       " '2009-11-16',\n",
       " '2009-11-17',\n",
       " '2009-12-03',\n",
       " '2009-12-04',\n",
       " '2009-12-05',\n",
       " '2009-12-06',\n",
       " '2009-12-07',\n",
       " '2009-12-08',\n",
       " '2009-12-09',\n",
       " '2009-12-10',\n",
       " '2009-12-11',\n",
       " '2009-12-12',\n",
       " '2009-12-15',\n",
       " '2009-12-16',\n",
       " '2009-12-17',\n",
       " '2009-12-20',\n",
       " '2009-12-21',\n",
       " '2009-12-22',\n",
       " '2009-12-24',\n",
       " '2009-12-29',\n",
       " '2010-01-03',\n",
       " '2010-01-04',\n",
       " '2010-01-07',\n",
       " '2010-01-08',\n",
       " '2010-01-12',\n",
       " '2010-01-16',\n",
       " '2010-01-17',\n",
       " '2010-01-26',\n",
       " '2010-01-28',\n",
       " '2010-01-29',\n",
       " '2010-01-30',\n",
       " '2010-01-31',\n",
       " '2010-02-02',\n",
       " '2010-07-21',\n",
       " '2010-07-24',\n",
       " '2010-07-27',\n",
       " '2010-07-28',\n",
       " '2010-08-04',\n",
       " '2010-08-05',\n",
       " '2010-08-07',\n",
       " '2010-08-08',\n",
       " '2010-08-14',\n",
       " '2010-08-15',\n",
       " '2010-08-16',\n",
       " '2010-08-17',\n",
       " '2010-08-19',\n",
       " '2010-08-24',\n",
       " '2010-08-25',\n",
       " '2010-08-26',\n",
       " '2010-09-09',\n",
       " '2010-09-10',\n",
       " '2010-09-11',\n",
       " '2010-09-13',\n",
       " '2010-09-14',\n",
       " '2010-09-15',\n",
       " '2010-09-19',\n",
       " '2010-09-20',\n",
       " '2010-09-21',\n",
       " '2010-09-22',\n",
       " '2010-09-23',\n",
       " '2010-10-05',\n",
       " '2010-10-07',\n",
       " '2010-10-08',\n",
       " '2010-10-09',\n",
       " '2010-10-14',\n",
       " '2010-10-15',\n",
       " '2010-10-17',\n",
       " '2010-10-18',\n",
       " '2010-10-19',\n",
       " '2010-10-26',\n",
       " '2010-10-29',\n",
       " '2010-11-01',\n",
       " '2010-11-02',\n",
       " '2010-11-06',\n",
       " '2010-11-07',\n",
       " '2010-11-09',\n",
       " '2010-11-26',\n",
       " '2010-11-27',\n",
       " '2010-11-28',\n",
       " '2010-12-01',\n",
       " '2010-12-03',\n",
       " '2010-12-04',\n",
       " '2010-12-06',\n",
       " '2010-12-07',\n",
       " '2010-12-08',\n",
       " '2010-12-09',\n",
       " '2010-12-10',\n",
       " '2010-12-19',\n",
       " '2010-12-20',\n",
       " '2010-12-21',\n",
       " '2010-12-22',\n",
       " '2010-12-27',\n",
       " '2011-01-05',\n",
       " '2011-01-06',\n",
       " '2011-01-08',\n",
       " '2011-01-23',\n",
       " '2011-01-24',\n",
       " '2011-07-24',\n",
       " '2011-08-03',\n",
       " '2011-08-04',\n",
       " '2011-08-05',\n",
       " '2011-08-06',\n",
       " '2011-08-08',\n",
       " '2011-08-09',\n",
       " '2011-08-25',\n",
       " '2011-08-29',\n",
       " '2011-08-30',\n",
       " '2011-08-31',\n",
       " '2011-09-02',\n",
       " '2011-09-06',\n",
       " '2011-09-24',\n",
       " '2011-09-25',\n",
       " '2011-09-27',\n",
       " '2011-10-01',\n",
       " '2011-10-02',\n",
       " '2011-10-03',\n",
       " '2011-10-04',\n",
       " '2011-10-05',\n",
       " '2011-10-08',\n",
       " '2011-10-19',\n",
       " '2011-10-20',\n",
       " '2011-10-22',\n",
       " '2011-10-24',\n",
       " '2011-10-25',\n",
       " '2011-10-27',\n",
       " '2011-10-28',\n",
       " '2011-10-29',\n",
       " '2011-10-30',\n",
       " '2011-10-31',\n",
       " '2011-11-01',\n",
       " '2011-11-02',\n",
       " '2011-11-03',\n",
       " '2011-11-04',\n",
       " '2011-11-05',\n",
       " '2011-11-06',\n",
       " '2011-11-15',\n",
       " '2011-11-17',\n",
       " '2011-11-18',\n",
       " '2011-11-20',\n",
       " '2011-11-22',\n",
       " '2011-11-24',\n",
       " '2011-11-25',\n",
       " '2011-11-26',\n",
       " '2011-11-27',\n",
       " '2011-11-29',\n",
       " '2011-12-01',\n",
       " '2011-12-19',\n",
       " '2011-12-31',\n",
       " '2012-07-07',\n",
       " '2012-07-17',\n",
       " '2012-07-22',\n",
       " '2012-07-23',\n",
       " '2012-08-21',\n",
       " '2012-08-24',\n",
       " '2012-08-27',\n",
       " '2012-08-30',\n",
       " '2012-09-07',\n",
       " '2012-09-10',\n",
       " '2012-09-12',\n",
       " '2012-09-13',\n",
       " '2012-09-16',\n",
       " '2012-09-19',\n",
       " '2012-09-20',\n",
       " '2012-09-21',\n",
       " '2012-09-24',\n",
       " '2012-09-25',\n",
       " '2012-10-09',\n",
       " '2012-10-10',\n",
       " '2012-10-11',\n",
       " '2012-10-14',\n",
       " '2012-10-15',\n",
       " '2012-10-17',\n",
       " '2012-10-18',\n",
       " '2012-10-19',\n",
       " '2012-10-20',\n",
       " '2012-10-21',\n",
       " '2012-10-22',\n",
       " '2012-10-23',\n",
       " '2012-10-24',\n",
       " '2012-10-25',\n",
       " '2012-11-02',\n",
       " '2012-11-03',\n",
       " '2012-11-04',\n",
       " '2012-11-05',\n",
       " '2012-11-06',\n",
       " '2012-11-07',\n",
       " '2012-11-08',\n",
       " '2012-11-09',\n",
       " '2012-11-10',\n",
       " '2012-11-11',\n",
       " '2012-11-12',\n",
       " '2012-11-15',\n",
       " '2012-11-16',\n",
       " '2012-11-17',\n",
       " '2012-11-18',\n",
       " '2012-11-19',\n",
       " '2012-11-20',\n",
       " '2012-11-21',\n",
       " '2012-11-22',\n",
       " '2012-11-27',\n",
       " '2012-11-29',\n",
       " '2012-11-30',\n",
       " '2012-12-01',\n",
       " '2012-12-02',\n",
       " '2012-12-03',\n",
       " '2012-12-04',\n",
       " '2012-12-05',\n",
       " '2012-12-06',\n",
       " '2012-12-07',\n",
       " '2013-01-06',\n",
       " '2013-01-11',\n",
       " '2013-08-04',\n",
       " '2013-08-10',\n",
       " '2013-08-13',\n",
       " '2013-08-14',\n",
       " '2013-08-15',\n",
       " '2013-08-16',\n",
       " '2013-08-17',\n",
       " '2013-08-27',\n",
       " '2013-08-28',\n",
       " '2013-08-30',\n",
       " '2013-09-03',\n",
       " '2013-09-07',\n",
       " '2013-09-12',\n",
       " '2013-09-13',\n",
       " '2013-09-28',\n",
       " '2013-09-29',\n",
       " '2013-09-30',\n",
       " '2013-10-01',\n",
       " '2013-10-03',\n",
       " '2013-10-07',\n",
       " '2013-10-10',\n",
       " '2013-10-11',\n",
       " '2013-10-13',\n",
       " '2013-10-26',\n",
       " '2013-10-27',\n",
       " '2013-10-28',\n",
       " '2013-10-30',\n",
       " '2013-10-31',\n",
       " '2013-11-02',\n",
       " '2013-11-03',\n",
       " '2013-11-04',\n",
       " '2013-11-05',\n",
       " '2013-11-06',\n",
       " '2013-11-07',\n",
       " '2013-11-09',\n",
       " '2013-11-12',\n",
       " '2013-11-22',\n",
       " '2013-11-24',\n",
       " '2013-11-25',\n",
       " '2013-11-26',\n",
       " '2013-11-27',\n",
       " '2013-11-28',\n",
       " '2013-11-30',\n",
       " '2013-12-05',\n",
       " '2013-12-07',\n",
       " '2013-12-08',\n",
       " '2013-12-09',\n",
       " '2013-12-10',\n",
       " '2013-12-17',\n",
       " '2013-12-18',\n",
       " '2013-12-19',\n",
       " '2013-12-20',\n",
       " '2013-12-22',\n",
       " '2013-12-23',\n",
       " '2013-12-26',\n",
       " '2013-12-27',\n",
       " '2013-12-28',\n",
       " '2013-12-29',\n",
       " '2013-12-30',\n",
       " '2013-12-31',\n",
       " '2014-01-01',\n",
       " '2014-01-02',\n",
       " '2014-01-03',\n",
       " '2014-07-08',\n",
       " '2014-07-28',\n",
       " '2014-07-30',\n",
       " '2014-08-05',\n",
       " '2014-08-24',\n",
       " '2014-08-29',\n",
       " '2014-08-31',\n",
       " '2014-09-02',\n",
       " '2014-09-09',\n",
       " '2014-09-20',\n",
       " '2014-09-21',\n",
       " '2014-09-22',\n",
       " '2014-09-24',\n",
       " '2014-09-25',\n",
       " '2014-09-27',\n",
       " '2014-09-28',\n",
       " '2014-10-01',\n",
       " '2014-10-05',\n",
       " '2014-10-06',\n",
       " '2014-10-17',\n",
       " '2014-10-20',\n",
       " '2014-10-22',\n",
       " '2014-10-23',\n",
       " '2014-10-24',\n",
       " '2014-10-27',\n",
       " '2014-10-29',\n",
       " '2014-10-30',\n",
       " '2014-10-31',\n",
       " '2014-11-01',\n",
       " '2014-11-02',\n",
       " '2014-11-03',\n",
       " '2014-11-09',\n",
       " '2014-11-15',\n",
       " '2014-11-17',\n",
       " '2014-11-18',\n",
       " '2014-11-19',\n",
       " '2014-11-21',\n",
       " '2014-11-22',\n",
       " '2014-11-23',\n",
       " '2014-11-25',\n",
       " '2014-11-26',\n",
       " '2014-11-27',\n",
       " '2014-11-28',\n",
       " '2014-11-29',\n",
       " '2014-11-30',\n",
       " '2014-12-12',\n",
       " '2014-12-13',\n",
       " '2014-12-14',\n",
       " '2014-12-16',\n",
       " '2014-12-17',\n",
       " '2015-09-08',\n",
       " '2015-09-11',\n",
       " '2015-09-14',\n",
       " '2015-09-17',\n",
       " '2015-10-02',\n",
       " '2015-10-04',\n",
       " '2015-10-05',\n",
       " '2015-10-08',\n",
       " '2015-10-10',\n",
       " '2015-10-11',\n",
       " '2015-10-15',\n",
       " '2015-10-22',\n",
       " '2015-10-28',\n",
       " '2015-10-30',\n",
       " '2015-10-31',\n",
       " '2015-11-03',\n",
       " '2015-11-04',\n",
       " '2015-11-05',\n",
       " '2015-11-06',\n",
       " '2015-11-07',\n",
       " '2015-11-08',\n",
       " '2015-11-09',\n",
       " '2015-11-10',\n",
       " '2015-11-11',\n",
       " '2015-11-12',\n",
       " '2015-11-13',\n",
       " '2015-11-14',\n",
       " '2015-11-18',\n",
       " '2015-12-04',\n",
       " '2015-12-05',\n",
       " '2015-12-09',\n",
       " '2015-12-11',\n",
       " '2015-12-18',\n",
       " '2016-01-10',\n",
       " '2016-07-12',\n",
       " '2016-07-14',\n",
       " '2016-07-29',\n",
       " '2016-07-31',\n",
       " '2016-08-01',\n",
       " '2016-08-02',\n",
       " '2016-08-04',\n",
       " '2016-08-12',\n",
       " '2016-08-13',\n",
       " '2016-08-30',\n",
       " '2016-08-31',\n",
       " '2016-09-01',\n",
       " '2016-09-02',\n",
       " '2016-09-03',\n",
       " '2016-09-30',\n",
       " '2016-10-01',\n",
       " '2016-10-08',\n",
       " '2016-10-09',\n",
       " '2016-10-10',\n",
       " '2016-10-22',\n",
       " '2016-10-23',\n",
       " '2016-10-28',\n",
       " '2016-10-29',\n",
       " '2016-10-30',\n",
       " '2016-10-31',\n",
       " '2016-11-02',\n",
       " '2016-11-03',\n",
       " '2017-07-02',\n",
       " '2017-07-19',\n",
       " '2017-07-26',\n",
       " '2017-08-17',\n",
       " '2017-08-18',\n",
       " '2017-08-20',\n",
       " '2017-08-21',\n",
       " '2017-08-22',\n",
       " '2017-08-25',\n",
       " '2017-08-29',\n",
       " '2017-08-30',\n",
       " '2017-08-31',\n",
       " '2017-09-15',\n",
       " '2017-09-18',\n",
       " '2017-09-19',\n",
       " '2017-09-20',\n",
       " '2017-09-21',\n",
       " '2017-09-22',\n",
       " '2017-09-23',\n",
       " '2017-09-24',\n",
       " '2017-09-27',\n",
       " '2017-09-28',\n",
       " '2017-10-17',\n",
       " '2017-10-18',\n",
       " '2017-10-19',\n",
       " '2017-10-20',\n",
       " '2017-10-21',\n",
       " '2017-10-22',\n",
       " '2017-10-23',\n",
       " '2017-10-24',\n",
       " '2017-10-25',\n",
       " '2017-10-26',\n",
       " '2017-10-27',\n",
       " '2017-11-07']"
      ]
     },
     "execution_count": 57,
     "metadata": {},
     "output_type": "execute_result"
    }
   ],
   "source": [
    "date_list"
   ]
  },
  {
   "cell_type": "code",
   "execution_count": 58,
   "metadata": {},
   "outputs": [
    {
     "data": {
      "image/png": "[encoded data removed]",
      "text/plain": [
       "<Figure size 560x560 with 1 Axes>"
      ]
     },
     "metadata": {
      "needs_background": "light"
     },
     "output_type": "display_data"
    }
   ],
   "source": [
    "fig, ax = plt.subplots(figsize=(4, 4), dpi=140)\n",
    "for tract in sxds_tracts:\n",
    "    vertices = sm.generateTract(tract).getVertexList()\n",
    "    ra = [vertices[n][0].asDegrees() for n in np.mod(np.arange(5),4)]\n",
    "    dec = [vertices[n][1].asDegrees() for n in np.mod(np.arange(5),4)]\n",
    "    ax.plot(ra, dec, c = 'k')\n",
    "    for p in np.nditer(np.meshgrid(np.arange(0,9), np.arange(0,9))):\n",
    "        #print(p[0], p[1])\n",
    "        t = sm.generateTract(tract)\n",
    "        vertices = t.getPatchInfo([p[0], p[1]]).getInnerSkyPolygon(t.getWcs()).getVertices()\n",
    "        ra = [np.arctan(vertices[n][1]/vertices[n][0])* 180/np.pi for n in np.mod(np.arange(5),4)]\n",
    "        #print(tract, ra)\n",
    "        dec = [(vertices[n][2])* 180/np.pi for n in np.mod(np.arange(5),4)]\n",
    "        ax.plot(ra, dec, c = 'k', alpha=0.5, linewidth=0.5)\n",
    "\n",
    "#Plot patches on a band\n",
    "band = 'all'\n",
    "if band != 'all':\n",
    "    d = band_dict[band]\n",
    "else:\n",
    "    d = full_patch_dict\n",
    "for tract in d:\n",
    "    for patch in d[tract]:\n",
    "        #print(p[0], p[1])\n",
    "        p = [int(i) for i in patch.split(',')]\n",
    "        t = sm.generateTract(tract)\n",
    "        vertices = t.getPatchInfo([p[0], p[1]]).getInnerSkyPolygon(t.getWcs()).getVertices()\n",
    "        ra = [np.arctan(vertices[n][1]/vertices[n][0])* 180/np.pi for n in np.mod(np.arange(5),4)]\n",
    "        #print(tract, ra)\n",
    "        dec = [(vertices[n][2])* 180/np.pi for n in np.mod(np.arange(5),4)]\n",
    "        ax.plot(ra, dec, c = 'r', alpha=1.0, linewidth=0.5)\n",
    "        \n",
    "v_band ='all'\n",
    "for t in video_ims[\n",
    "    (video_ims['type'] == 'tile') \n",
    "    #& (video_ims['filter'] == v_band) \n",
    "    & tiles_near_sxds]:\n",
    "\n",
    "    ra = [t['ra_0_0'], t['ra_x_0'] , t['ra_x_y'] , t['ra_0_y'] , t['ra_0_0'] ]\n",
    "    dec = [t['dec_0_0'], t['dec_x_0'] , t['dec_x_y'] , t['dec_0_y'] , t['dec_0_0'] ]\n",
    "    \n",
    "    ax.plot(ra,dec, c = 'b')\n",
    "    \n",
    "ax.axis('scaled')\n",
    "ax.set_xlim([39, 33])\n",
    "ax.set_xlabel('Right Ascension [deg]')\n",
    "ax.set_ylabel('Declination[deg]')\n",
    "fig.savefig('./figs/sxds_HSC-{}_patches_VISTA-{}_tiles.pdf'.format(band,v_band), overwrite=True)\n",
    "fig.savefig('./figs/sxds_HSC-{}_patches_VISTA-{}_tiles.png'.format(band,v_band), overwrite=True)"
   ]
  },
  {
   "cell_type": "code",
   "execution_count": 59,
   "metadata": {},
   "outputs": [
    {
     "data": {
      "text/html": [
       "<i>Table length=863</i>\n",
       "<table id=\"table4930266704\" class=\"table-striped table-bordered table-condensed\">\n",
       "<thead><tr><th>file</th><th>ra</th><th>dec</th><th>ra_0_0</th><th>ra_0_y</th><th>ra_x_0</th><th>ra_x_y</th><th>dec_0_0</th><th>dec_0_y</th><th>dec_x_0</th><th>dec_x_y</th><th>filter</th><th>size</th><th>hash</th><th>type</th><th>tract_patch_json</th></tr></thead>\n",
       "<thead><tr><th>str93</th><th>float64</th><th>float64</th><th>float64</th><th>float64</th><th>float64</th><th>float64</th><th>float64</th><th>float64</th><th>float64</th><th>float64</th><th>str2</th><th>int64</th><th>str32</th><th>str4</th><th>str631</th></tr></thead>\n",
       "<tr><td>/home/ir-shir1/rds/rds-iris-ip005/data/private/VISTA/VIDEO/20140924/v20140924_00444_st_tl.fit</td><td>35.429542</td><td>-4.72215</td><td>36.12993723683939</td><td>36.13433423332165</td><td>34.912894878395214</td><td>34.91462725348546</td><td>-4.072782101046067</td><td>-5.559458172880838</td><td>-4.07547203760631</td><td>-5.562153562881393</td><td>Y</td><td>148561920</td><td>ccef567359a9d3f1cef197b5b5dad958</td><td>tile</td><td>{&quot;8766&quot;:[[2,0],[2,1],[2,2],[3,0],[3,1],[3,2],[4,0],[4,1],[4,2],[5,0],[5,1],[5,2],[6,0],[6,1],[6,2],[7,0],[7,1],[7,2],[8,0],[8,1],[8,2]],&quot;8524&quot;:[[2,2],[2,3],[2,4],[2,5],[2,6],[2,7],[2,8],[3,2],[3,3],[3,4],[3,5],[3,6],[3,7],[3,8],[4,2],[4,3],[4,4],[4,5],[4,6],[4,7],[4,8],[5,2],[5,3],[5,4],[5,5],[5,6],[5,7],[5,8],[6,2],[6,3],[6,4],[6,5],[6,6],[6,7],[6,8],[7,2],[7,3],[7,4],[7,5],[7,6],[7,7],[7,8],[8,2],[8,3],[8,4],[8,5],[8,6],[8,7],[8,8]],&quot;8765&quot;:[[0,0],[0,1],[0,2]],&quot;8523&quot;:[[0,2],[0,3],[0,4],[0,5],[0,6],[0,7],[0,8]]}</td></tr>\n",
       "<tr><td>/home/ir-shir1/rds/rds-iris-ip005/data/private/VISTA/VIDEO/20140924/v20140924_00396_st_tl.fit</td><td>35.428004</td><td>-4.7219</td><td>36.130230295324694</td><td>36.134884600391395</td><td>34.913103896675054</td><td>34.91508881101303</td><td>-4.071964313054827</td><td>-5.561119342013037</td><td>-4.074296412803666</td><td>-5.5634573489486225</td><td>Y</td><td>146859840</td><td>2b3c420a7d15853f89f53c893ef9526e</td><td>tile</td><td>{&quot;8766&quot;:[[2,0],[2,1],[2,2],[3,0],[3,1],[3,2],[4,0],[4,1],[4,2],[5,0],[5,1],[5,2],[6,0],[6,1],[6,2],[7,0],[7,1],[7,2],[8,0],[8,1],[8,2]],&quot;8524&quot;:[[2,2],[2,3],[2,4],[2,5],[2,6],[2,7],[2,8],[3,2],[3,3],[3,4],[3,5],[3,6],[3,7],[3,8],[4,2],[4,3],[4,4],[4,5],[4,6],[4,7],[4,8],[5,2],[5,3],[5,4],[5,5],[5,6],[5,7],[5,8],[6,2],[6,3],[6,4],[6,5],[6,6],[6,7],[6,8],[7,2],[7,3],[7,4],[7,5],[7,6],[7,7],[7,8],[8,2],[8,3],[8,4],[8,5],[8,6],[8,7],[8,8]],&quot;8765&quot;:[[0,0],[0,1],[0,2]],&quot;8523&quot;:[[0,2],[0,3],[0,4],[0,5],[0,6],[0,7],[0,8]]}</td></tr>\n",
       "<tr><td>/home/ir-shir1/rds/rds-iris-ip005/data/private/VISTA/VIDEO/20141029/v20141029_00316_st_tl.fit</td><td>35.437767</td><td>-4.72747</td><td>36.13052006717623</td><td>36.13523423715193</td><td>34.912898410633574</td><td>34.914941744138545</td><td>-4.072033411697982</td><td>-5.561286819567744</td><td>-4.074791337249168</td><td>-5.564050760740607</td><td>Y</td><td>154330560</td><td>6a8a3cfacd21ab9bba56c2cb69b6c6d2</td><td>tile</td><td>{&quot;8766&quot;:[[2,0],[2,1],[2,2],[3,0],[3,1],[3,2],[4,0],[4,1],[4,2],[5,0],[5,1],[5,2],[6,0],[6,1],[6,2],[7,0],[7,1],[7,2],[8,0],[8,1],[8,2]],&quot;8524&quot;:[[2,2],[2,3],[2,4],[2,5],[2,6],[2,7],[2,8],[3,2],[3,3],[3,4],[3,5],[3,6],[3,7],[3,8],[4,2],[4,3],[4,4],[4,5],[4,6],[4,7],[4,8],[5,2],[5,3],[5,4],[5,5],[5,6],[5,7],[5,8],[6,2],[6,3],[6,4],[6,5],[6,6],[6,7],[6,8],[7,2],[7,3],[7,4],[7,5],[7,6],[7,7],[7,8],[8,2],[8,3],[8,4],[8,5],[8,6],[8,7],[8,8]],&quot;8765&quot;:[[0,0],[0,1],[0,2]],&quot;8523&quot;:[[0,2],[0,3],[0,4],[0,5],[0,6],[0,7],[0,8]]}</td></tr>\n",
       "<tr><td>/home/ir-shir1/rds/rds-iris-ip005/data/private/VISTA/VIDEO/20091203/v20091203_00166_st_tl.fit</td><td>36.484112</td><td>-4.64021</td><td>37.18581681881602</td><td>37.18827867938782</td><td>35.961889541645284</td><td>35.96170595209148</td><td>-3.984669774357833</td><td>-5.47895872985137</td><td>-3.9852681414899243</td><td>-5.479559099311809</td><td>Ks</td><td>217598400</td><td>a06a0cb6fa58f2f8e20b2d58802d2b23</td><td>tile</td><td>{&quot;8767&quot;:[[4,0],[4,1],[4,2],[4,3],[5,0],[5,1],[5,2],[5,3],[6,0],[6,1],[6,2],[6,3],[7,0],[7,1],[7,2],[7,3],[8,0],[8,1],[8,2],[8,3]],&quot;8525&quot;:[[4,3],[4,4],[4,5],[4,6],[4,7],[4,8],[5,3],[5,4],[5,5],[5,6],[5,7],[5,8],[6,3],[6,4],[6,5],[6,6],[6,7],[6,8],[7,3],[7,4],[7,5],[7,6],[7,7],[7,8],[8,3],[8,4],[8,5],[8,6],[8,7],[8,8]],&quot;8766&quot;:[[0,0],[0,1],[0,2],[0,3],[1,0],[1,1],[1,2],[1,3],[2,0],[2,1],[2,2],[2,3],[3,0],[3,1],[3,2],[3,3]],&quot;8524&quot;:[[0,3],[0,4],[0,5],[0,6],[0,7],[0,8],[1,3],[1,4],[1,5],[1,6],[1,7],[1,8],[2,3],[2,4],[2,5],[2,6],[2,7],[2,8],[3,3],[3,4],[3,5],[3,6],[3,7],[3,8]]}</td></tr>\n",
       "<tr><td>/home/ir-shir1/rds/rds-iris-ip005/data/private/VISTA/VIDEO/20091203/v20091203_00268_st_tl.fit</td><td>36.483812</td><td>-4.64101</td><td>37.18469529855007</td><td>37.187078110381336</td><td>35.96147340582927</td><td>35.96121968956605</td><td>-3.991145815762932</td><td>-5.480101505496474</td><td>-3.9914464481413</td><td>-5.480404009464727</td><td>Ks</td><td>219611520</td><td>3749772a2e4d599ee23e16f9ee01a127</td><td>tile</td><td>{&quot;8767&quot;:[[4,0],[4,1],[4,2],[4,3],[5,0],[5,1],[5,2],[5,3],[6,0],[6,1],[6,2],[6,3],[7,0],[7,1],[7,2],[7,3],[8,0],[8,1],[8,2],[8,3]],&quot;8525&quot;:[[4,3],[4,4],[4,5],[4,6],[4,7],[4,8],[5,3],[5,4],[5,5],[5,6],[5,7],[5,8],[6,3],[6,4],[6,5],[6,6],[6,7],[6,8],[7,3],[7,4],[7,5],[7,6],[7,7],[7,8],[8,3],[8,4],[8,5],[8,6],[8,7],[8,8]],&quot;8766&quot;:[[0,0],[0,1],[0,2],[0,3],[1,0],[1,1],[1,2],[1,3],[2,0],[2,1],[2,2],[2,3],[3,0],[3,1],[3,2],[3,3]],&quot;8524&quot;:[[0,2],[0,3],[0,4],[0,5],[0,6],[0,7],[0,8],[1,2],[1,3],[1,4],[1,5],[1,6],[1,7],[1,8],[2,2],[2,3],[2,4],[2,5],[2,6],[2,7],[2,8],[3,2],[3,3],[3,4],[3,5],[3,6],[3,7],[3,8]]}</td></tr>\n",
       "<tr><td>/home/ir-shir1/rds/rds-iris-ip005/data/private/VISTA/VIDEO/20091203/v20091203_00226_st_tl.fit</td><td>36.484412</td><td>-4.63991</td><td>37.18171950099135</td><td>37.18401293691172</td><td>35.963467899633834</td><td>35.96313025527346</td><td>-3.9853566973246917</td><td>-5.478446527962703</td><td>-3.9858299864530564</td><td>-5.478921528693908</td><td>Ks</td><td>218891520</td><td>53c11b8ae8361559a4df18e117915bd1</td><td>tile</td><td>{&quot;8767&quot;:[[4,0],[4,1],[4,2],[4,3],[5,0],[5,1],[5,2],[5,3],[6,0],[6,1],[6,2],[6,3],[7,0],[7,1],[7,2],[7,3],[8,0],[8,1],[8,2],[8,3]],&quot;8525&quot;:[[4,3],[4,4],[4,5],[4,6],[4,7],[4,8],[5,3],[5,4],[5,5],[5,6],[5,7],[5,8],[6,3],[6,4],[6,5],[6,6],[6,7],[6,8],[7,3],[7,4],[7,5],[7,6],[7,7],[7,8],[8,3],[8,4],[8,5],[8,6],[8,7],[8,8]],&quot;8766&quot;:[[0,0],[0,1],[0,2],[0,3],[1,0],[1,1],[1,2],[1,3],[2,0],[2,1],[2,2],[2,3],[3,0],[3,1],[3,2],[3,3]],&quot;8524&quot;:[[0,3],[0,4],[0,5],[0,6],[0,7],[0,8],[1,3],[1,4],[1,5],[1,6],[1,7],[1,8],[2,3],[2,4],[2,5],[2,6],[2,7],[2,8],[3,3],[3,4],[3,5],[3,6],[3,7],[3,8]]}</td></tr>\n",
       "<tr><td>/home/ir-shir1/rds/rds-iris-ip005/data/private/VISTA/VIDEO/20101127/v20101127_00177_st_tl.fit</td><td>34.513492</td><td>-4.94316</td><td>33.81559085235885</td><td>33.81350312544689</td><td>35.040205906483166</td><td>35.03541978239653</td><td>-5.594791021404578</td><td>-4.104878754737303</td><td>-5.591807138061713</td><td>-4.101901050547773</td><td>Y</td><td>159851520</td><td>a7b18a45f6009a07865d79f4bc410322</td><td>tile</td><td>{&quot;8523&quot;:[[0,2],[0,3],[0,4],[0,5],[0,6],[0,7],[0,8],[1,2],[1,3],[1,4],[1,5],[1,6],[1,7],[1,8],[2,2],[2,3],[2,4],[2,5],[2,6],[2,7],[2,8],[3,2],[3,3],[3,4],[3,5],[3,6],[3,7],[3,8],[4,2],[4,3],[4,4],[4,5],[4,6],[4,7],[4,8],[5,2],[5,3],[5,4],[5,5],[5,6],[5,7],[5,8],[6,2],[6,3],[6,4],[6,5],[6,6],[6,7],[6,8]],&quot;8765&quot;:[[0,0],[0,1],[0,2],[1,0],[1,1],[1,2],[2,0],[2,1],[2,2],[3,0],[3,1],[3,2],[4,0],[4,1],[4,2],[5,0],[5,1],[5,2],[6,0],[6,1],[6,2]],&quot;8524&quot;:[[8,2],[8,3],[8,4],[8,5],[8,6],[8,7],[8,8]],&quot;8766&quot;:[[8,0],[8,1],[8,2]]}</td></tr>\n",
       "<tr><td>/home/ir-shir1/rds/rds-iris-ip005/data/private/VISTA/VIDEO/20101127/v20101127_00225_st_tl.fit</td><td>34.515392</td><td>-4.94701</td><td>33.81825410680947</td><td>33.81605313110196</td><td>35.038235274545684</td><td>35.03334296604541</td><td>-5.5953906533939755</td><td>-4.103685733051153</td><td>-5.592695530543443</td><td>-4.100996962661415</td><td>Y</td><td>160701120</td><td>ed3ae6b551e028d5f5baf4a55607acda</td><td>tile</td><td>{&quot;8523&quot;:[[0,2],[0,3],[0,4],[0,5],[0,6],[0,7],[0,8],[1,2],[1,3],[1,4],[1,5],[1,6],[1,7],[1,8],[2,2],[2,3],[2,4],[2,5],[2,6],[2,7],[2,8],[3,2],[3,3],[3,4],[3,5],[3,6],[3,7],[3,8],[4,2],[4,3],[4,4],[4,5],[4,6],[4,7],[4,8],[5,2],[5,3],[5,4],[5,5],[5,6],[5,7],[5,8],[6,2],[6,3],[6,4],[6,5],[6,6],[6,7],[6,8]],&quot;8765&quot;:[[0,0],[0,1],[0,2],[1,0],[1,1],[1,2],[2,0],[2,1],[2,2],[3,0],[3,1],[3,2],[4,0],[4,1],[4,2],[5,0],[5,1],[5,2],[6,0],[6,1],[6,2]],&quot;8524&quot;:[[8,2],[8,3],[8,4],[8,5],[8,6],[8,7],[8,8]],&quot;8766&quot;:[[8,0],[8,1],[8,2]]}</td></tr>\n",
       "<tr><td>/home/ir-shir1/rds/rds-iris-ip005/data/private/VISTA/VIDEO/20101127/v20101127_00273_st_tl.fit</td><td>36.480767</td><td>-4.63461</td><td>37.18341153427653</td><td>37.1882680937219</td><td>35.963058824819015</td><td>35.96528636626713</td><td>-3.987975701221381</td><td>-5.4768964792800485</td><td>-3.9901490382764706</td><td>-5.479076027623131</td><td>H</td><td>230728320</td><td>ff3e5eb210f6be22241957c654f4acd3</td><td>tile</td><td>{&quot;8767&quot;:[[4,0],[4,1],[4,2],[4,3],[5,0],[5,1],[5,2],[5,3],[6,0],[6,1],[6,2],[6,3],[7,0],[7,1],[7,2],[7,3],[8,0],[8,1],[8,2],[8,3]],&quot;8525&quot;:[[4,3],[4,4],[4,5],[4,6],[4,7],[4,8],[5,3],[5,4],[5,5],[5,6],[5,7],[5,8],[6,3],[6,4],[6,5],[6,6],[6,7],[6,8],[7,3],[7,4],[7,5],[7,6],[7,7],[7,8],[8,3],[8,4],[8,5],[8,6],[8,7],[8,8]],&quot;8766&quot;:[[0,0],[0,1],[0,2],[0,3],[1,0],[1,1],[1,2],[1,3],[2,0],[2,1],[2,2],[2,3],[3,0],[3,1],[3,2],[3,3]],&quot;8524&quot;:[[0,3],[0,4],[0,5],[0,6],[0,7],[0,8],[1,3],[1,4],[1,5],[1,6],[1,7],[1,8],[2,3],[2,4],[2,5],[2,6],[2,7],[2,8],[3,3],[3,4],[3,5],[3,6],[3,7],[3,8]]}</td></tr>\n",
       "<tr><td>/home/ir-shir1/rds/rds-iris-ip005/data/private/VISTA/VIDEO/20091205/v20091205_00144_st_tl.fit</td><td>36.483312</td><td>-4.64101</td><td>37.18369905443298</td><td>37.186365349705866</td><td>35.961541662570646</td><td>35.96158465837191</td><td>-3.989325625000516</td><td>-5.473414136019678</td><td>-3.989839340919379</td><td>-5.4739302295857115</td><td>J</td><td>183159360</td><td>2e62f91bbb06fd3816caf213e802b8e4</td><td>tile</td><td>{&quot;8767&quot;:[[4,0],[4,1],[4,2],[4,3],[5,0],[5,1],[5,2],[5,3],[6,0],[6,1],[6,2],[6,3],[7,0],[7,1],[7,2],[7,3],[8,0],[8,1],[8,2],[8,3]],&quot;8525&quot;:[[4,3],[4,4],[4,5],[4,6],[4,7],[4,8],[5,3],[5,4],[5,5],[5,6],[5,7],[5,8],[6,3],[6,4],[6,5],[6,6],[6,7],[6,8],[7,3],[7,4],[7,5],[7,6],[7,7],[7,8],[8,3],[8,4],[8,5],[8,6],[8,7],[8,8]],&quot;8766&quot;:[[0,0],[0,1],[0,2],[0,3],[1,0],[1,1],[1,2],[1,3],[2,0],[2,1],[2,2],[2,3],[3,0],[3,1],[3,2],[3,3]],&quot;8524&quot;:[[0,3],[0,4],[0,5],[0,6],[0,7],[0,8],[1,3],[1,4],[1,5],[1,6],[1,7],[1,8],[2,3],[2,4],[2,5],[2,6],[2,7],[2,8],[3,3],[3,4],[3,5],[3,6],[3,7],[3,8]]}</td></tr>\n",
       "<tr><td>...</td><td>...</td><td>...</td><td>...</td><td>...</td><td>...</td><td>...</td><td>...</td><td>...</td><td>...</td><td>...</td><td>...</td><td>...</td><td>...</td><td>...</td><td>...</td></tr>\n",
       "<tr><td>/home/ir-shir1/rds/rds-iris-ip005/data/private/VISTA/VIDEO/20091111/v20091111_00430_st_tl.fit</td><td>36.482112</td><td>-4.64141</td><td>37.18377614244526</td><td>37.186312254824315</td><td>35.96275014382616</td><td>35.96264737929201</td><td>-3.9878567368993236</td><td>-5.481187077467352</td><td>-3.988007810177149</td><td>-5.481340285547699</td><td>Y</td><td>157800960</td><td>c8433e349bd3633792b0199259bdcf68</td><td>tile</td><td>{&quot;8767&quot;:[[4,0],[4,1],[4,2],[4,3],[5,0],[5,1],[5,2],[5,3],[6,0],[6,1],[6,2],[6,3],[7,0],[7,1],[7,2],[7,3],[8,0],[8,1],[8,2],[8,3]],&quot;8525&quot;:[[4,2],[4,3],[4,4],[4,5],[4,6],[4,7],[4,8],[5,2],[5,3],[5,4],[5,5],[5,6],[5,7],[5,8],[6,2],[6,3],[6,4],[6,5],[6,6],[6,7],[6,8],[7,2],[7,3],[7,4],[7,5],[7,6],[7,7],[7,8],[8,2],[8,3],[8,4],[8,5],[8,6],[8,7],[8,8]],&quot;8766&quot;:[[0,0],[0,1],[0,2],[0,3],[1,0],[1,1],[1,2],[1,3],[2,0],[2,1],[2,2],[2,3],[3,0],[3,1],[3,2],[3,3]],&quot;8524&quot;:[[0,2],[0,3],[0,4],[0,5],[0,6],[0,7],[0,8],[1,2],[1,3],[1,4],[1,5],[1,6],[1,7],[1,8],[2,2],[2,3],[2,4],[2,5],[2,6],[2,7],[2,8],[3,2],[3,3],[3,4],[3,5],[3,6],[3,7],[3,8]]}</td></tr>\n",
       "<tr><td>/home/ir-shir1/rds/rds-iris-ip005/data/private/VISTA/VIDEO/20091111/v20091111_00292_st_tl.fit</td><td>36.481942</td><td>-4.64246</td><td>37.18327598737406</td><td>37.18532245428409</td><td>35.96112928398878</td><td>35.96053570835751</td><td>-3.9881411633350563</td><td>-5.480776829898457</td><td>-3.9883267522039394</td><td>-5.480963694392829</td><td>J</td><td>182154240</td><td>5d9e2d9b8044389c9750f758bb891ade</td><td>tile</td><td>{&quot;8767&quot;:[[4,0],[4,1],[4,2],[4,3],[5,0],[5,1],[5,2],[5,3],[6,0],[6,1],[6,2],[6,3],[7,0],[7,1],[7,2],[7,3],[8,0],[8,1],[8,2],[8,3]],&quot;8525&quot;:[[4,2],[4,3],[4,4],[4,5],[4,6],[4,7],[4,8],[5,2],[5,3],[5,4],[5,5],[5,6],[5,7],[5,8],[6,2],[6,3],[6,4],[6,5],[6,6],[6,7],[6,8],[7,2],[7,3],[7,4],[7,5],[7,6],[7,7],[7,8],[8,2],[8,3],[8,4],[8,5],[8,6],[8,7],[8,8]],&quot;8766&quot;:[[0,0],[0,1],[0,2],[0,3],[1,0],[1,1],[1,2],[1,3],[2,0],[2,1],[2,2],[2,3],[3,0],[3,1],[3,2],[3,3]],&quot;8524&quot;:[[0,2],[0,3],[0,4],[0,5],[0,6],[0,7],[0,8],[1,2],[1,3],[1,4],[1,5],[1,6],[1,7],[1,8],[2,2],[2,3],[2,4],[2,5],[2,6],[2,7],[2,8],[3,2],[3,3],[3,4],[3,5],[3,6],[3,7],[3,8]]}</td></tr>\n",
       "<tr><td>/home/ir-shir1/rds/rds-iris-ip005/data/private/VISTA/VIDEO/20130814/v20130814_00709_st_tl.fit</td><td>35.435083</td><td>-4.72705</td><td>36.131507633015296</td><td>36.135679614848335</td><td>34.913952416090964</td><td>34.915454967768966</td><td>-4.073524530641478</td><td>-5.561808464750203</td><td>-4.075983461248148</td><td>-5.564272447861125</td><td>Y</td><td>152608320</td><td>389251ef1c4b02f0e8a8cff11d76054c</td><td>tile</td><td>{&quot;8766&quot;:[[2,0],[2,1],[2,2],[3,0],[3,1],[3,2],[4,0],[4,1],[4,2],[5,0],[5,1],[5,2],[6,0],[6,1],[6,2],[7,0],[7,1],[7,2],[8,0],[8,1],[8,2]],&quot;8524&quot;:[[2,2],[2,3],[2,4],[2,5],[2,6],[2,7],[2,8],[3,2],[3,3],[3,4],[3,5],[3,6],[3,7],[3,8],[4,2],[4,3],[4,4],[4,5],[4,6],[4,7],[4,8],[5,2],[5,3],[5,4],[5,5],[5,6],[5,7],[5,8],[6,2],[6,3],[6,4],[6,5],[6,6],[6,7],[6,8],[7,2],[7,3],[7,4],[7,5],[7,6],[7,7],[7,8],[8,2],[8,3],[8,4],[8,5],[8,6],[8,7],[8,8]],&quot;8765&quot;:[[0,0],[0,1],[0,2]],&quot;8523&quot;:[[0,2],[0,3],[0,4],[0,5],[0,6],[0,7],[0,8]]}</td></tr>\n",
       "<tr><td>/home/ir-shir1/rds/rds-iris-ip005/data/private/VISTA/VIDEO/20130814/v20130814_00833_st_tl.fit</td><td>35.435979</td><td>-4.7255</td><td>36.130922614953775</td><td>36.135617697973274</td><td>34.91399454125188</td><td>34.916020469618374</td><td>-4.072644694575174</td><td>-5.561679538532363</td><td>-4.07522873055917</td><td>-5.5642695547484955</td><td>J</td><td>181681920</td><td>de62045ab26c05886ba9c0319d32af99</td><td>tile</td><td>{&quot;8766&quot;:[[2,0],[2,1],[2,2],[3,0],[3,1],[3,2],[4,0],[4,1],[4,2],[5,0],[5,1],[5,2],[6,0],[6,1],[6,2],[7,0],[7,1],[7,2],[8,0],[8,1],[8,2]],&quot;8524&quot;:[[2,2],[2,3],[2,4],[2,5],[2,6],[2,7],[2,8],[3,2],[3,3],[3,4],[3,5],[3,6],[3,7],[3,8],[4,2],[4,3],[4,4],[4,5],[4,6],[4,7],[4,8],[5,2],[5,3],[5,4],[5,5],[5,6],[5,7],[5,8],[6,2],[6,3],[6,4],[6,5],[6,6],[6,7],[6,8],[7,2],[7,3],[7,4],[7,5],[7,6],[7,7],[7,8],[8,2],[8,3],[8,4],[8,5],[8,6],[8,7],[8,8]],&quot;8765&quot;:[[0,0],[0,1],[0,2]],&quot;8523&quot;:[[0,2],[0,3],[0,4],[0,5],[0,6],[0,7],[0,8]]}</td></tr>\n",
       "<tr><td>/home/ir-shir1/rds/rds-iris-ip005/data/private/VISTA/VIDEO/20130814/v20130814_00785_st_tl.fit</td><td>35.428312</td><td>-4.72728</td><td>36.130613121113754</td><td>36.13536274080875</td><td>34.91337604589736</td><td>34.91546146282009</td><td>-4.074971781998941</td><td>-5.560640460518031</td><td>-4.077757617669735</td><td>-5.563432380512673</td><td>Y</td><td>155854080</td><td>436d3f6545ea7a4bc86140e52f0b70e3</td><td>tile</td><td>{&quot;8766&quot;:[[2,0],[2,1],[2,2],[3,0],[3,1],[3,2],[4,0],[4,1],[4,2],[5,0],[5,1],[5,2],[6,0],[6,1],[6,2],[7,0],[7,1],[7,2],[8,0],[8,1],[8,2]],&quot;8524&quot;:[[2,2],[2,3],[2,4],[2,5],[2,6],[2,7],[2,8],[3,2],[3,3],[3,4],[3,5],[3,6],[3,7],[3,8],[4,2],[4,3],[4,4],[4,5],[4,6],[4,7],[4,8],[5,2],[5,3],[5,4],[5,5],[5,6],[5,7],[5,8],[6,2],[6,3],[6,4],[6,5],[6,6],[6,7],[6,8],[7,2],[7,3],[7,4],[7,5],[7,6],[7,7],[7,8],[8,2],[8,3],[8,4],[8,5],[8,6],[8,7],[8,8]],&quot;8765&quot;:[[0,0],[0,1],[0,2]],&quot;8523&quot;:[[0,2],[0,3],[0,4],[0,5],[0,6],[0,7],[0,8]]}</td></tr>\n",
       "<tr><td>/home/ir-shir1/rds/rds-iris-ip005/data/private/VISTA/VIDEO/20100909/v20100909_00438_st_tl.fit</td><td>36.485962</td><td>-4.63472</td><td>37.18444864718647</td><td>37.18922382548524</td><td>35.95961555500769</td><td>35.96174187474232</td><td>-3.9874911239686783</td><td>-5.481488443474656</td><td>-3.989754822786471</td><td>-5.48375821748983</td><td>Z</td><td>131359680</td><td>42f917206f2eea8c74213e3e68a82b44</td><td>tile</td><td>{&quot;8767&quot;:[[4,0],[4,1],[4,2],[4,3],[5,0],[5,1],[5,2],[5,3],[6,0],[6,1],[6,2],[6,3],[7,0],[7,1],[7,2],[7,3],[8,0],[8,1],[8,2],[8,3]],&quot;8525&quot;:[[4,2],[4,3],[4,4],[4,5],[4,6],[4,7],[4,8],[5,2],[5,3],[5,4],[5,5],[5,6],[5,7],[5,8],[6,2],[6,3],[6,4],[6,5],[6,6],[6,7],[6,8],[7,2],[7,3],[7,4],[7,5],[7,6],[7,7],[7,8],[8,2],[8,3],[8,4],[8,5],[8,6],[8,7],[8,8]],&quot;8766&quot;:[[0,0],[0,1],[0,2],[0,3],[1,0],[1,1],[1,2],[1,3],[2,0],[2,1],[2,2],[2,3],[3,0],[3,1],[3,2],[3,3]],&quot;8524&quot;:[[0,2],[0,3],[0,4],[0,5],[0,6],[0,7],[0,8],[1,2],[1,3],[1,4],[1,5],[1,6],[1,7],[1,8],[2,2],[2,3],[2,4],[2,5],[2,6],[2,7],[2,8],[3,2],[3,3],[3,4],[3,5],[3,6],[3,7],[3,8]]}</td></tr>\n",
       "<tr><td>/home/ir-shir1/rds/rds-iris-ip005/data/private/VISTA/VIDEO/20100909/v20100909_00390_st_tl.fit</td><td>36.486521</td><td>-4.64687</td><td>37.18244773665698</td><td>37.187064183218595</td><td>35.96034944683954</td><td>35.962324585898536</td><td>-3.986997043186322</td><td>-5.480338007607987</td><td>-3.9892145249435558</td><td>-5.4825612782018185</td><td>H</td><td>205534080</td><td>6bd0ef70931d63b947408778333fb0c0</td><td>tile</td><td>{&quot;8767&quot;:[[4,0],[4,1],[4,2],[4,3],[5,0],[5,1],[5,2],[5,3],[6,0],[6,1],[6,2],[6,3],[7,0],[7,1],[7,2],[7,3],[8,0],[8,1],[8,2],[8,3]],&quot;8525&quot;:[[4,2],[4,3],[4,4],[4,5],[4,6],[4,7],[4,8],[5,2],[5,3],[5,4],[5,5],[5,6],[5,7],[5,8],[6,2],[6,3],[6,4],[6,5],[6,6],[6,7],[6,8],[7,2],[7,3],[7,4],[7,5],[7,6],[7,7],[7,8],[8,2],[8,3],[8,4],[8,5],[8,6],[8,7],[8,8]],&quot;8766&quot;:[[0,0],[0,1],[0,2],[0,3],[1,0],[1,1],[1,2],[1,3],[2,0],[2,1],[2,2],[2,3],[3,0],[3,1],[3,2],[3,3]],&quot;8524&quot;:[[0,2],[0,3],[0,4],[0,5],[0,6],[0,7],[0,8],[1,2],[1,3],[1,4],[1,5],[1,6],[1,7],[1,8],[2,2],[2,3],[2,4],[2,5],[2,6],[2,7],[2,8],[3,2],[3,3],[3,4],[3,5],[3,6],[3,7],[3,8]]}</td></tr>\n",
       "<tr><td>/home/ir-shir1/rds/rds-iris-ip005/data/private/VISTA/VIDEO/20100909/v20100909_00348_st_tl.fit</td><td>36.480579</td><td>-4.63762</td><td>37.18108419691699</td><td>37.18537929320508</td><td>35.96402039561183</td><td>35.96568929962783</td><td>-3.9881148743441637</td><td>-5.4790736605219665</td><td>-3.9903629076014933</td><td>-5.481326910131291</td><td>Ks</td><td>212031360</td><td>857f2e9a8611793c194cfdd82dd54d2c</td><td>tile</td><td>{&quot;8767&quot;:[[4,0],[4,1],[4,2],[4,3],[5,0],[5,1],[5,2],[5,3],[6,0],[6,1],[6,2],[6,3],[7,0],[7,1],[7,2],[7,3],[8,0],[8,1],[8,2],[8,3]],&quot;8525&quot;:[[4,2],[4,3],[4,4],[4,5],[4,6],[4,7],[4,8],[5,2],[5,3],[5,4],[5,5],[5,6],[5,7],[5,8],[6,2],[6,3],[6,4],[6,5],[6,6],[6,7],[6,8],[7,2],[7,3],[7,4],[7,5],[7,6],[7,7],[7,8],[8,2],[8,3],[8,4],[8,5],[8,6],[8,7],[8,8]],&quot;8766&quot;:[[0,0],[0,1],[0,2],[0,3],[1,0],[1,1],[1,2],[1,3],[2,0],[2,1],[2,2],[2,3],[3,0],[3,1],[3,2],[3,3]],&quot;8524&quot;:[[0,3],[0,4],[0,5],[0,6],[0,7],[0,8],[1,3],[1,4],[1,5],[1,6],[1,7],[1,8],[2,3],[2,4],[2,5],[2,6],[2,7],[2,8],[3,3],[3,4],[3,5],[3,6],[3,7],[3,8]]}</td></tr>\n",
       "<tr><td>/home/ir-shir1/rds/rds-iris-ip005/data/private/VISTA/VIDEO/20100112/v20100112_00043_st_tl.fit</td><td>36.482412</td><td>-4.64021</td><td>37.182072469018614</td><td>37.18453329673946</td><td>35.960508605741325</td><td>35.960331389894506</td><td>-3.986246414404646</td><td>-5.479012944742641</td><td>-3.9866225716517953</td><td>-5.479391105956423</td><td>Ks</td><td>215277120</td><td>bcb9dd79c3bd3f0ad6718db2d43f79b3</td><td>tile</td><td>{&quot;8767&quot;:[[4,0],[4,1],[4,2],[4,3],[5,0],[5,1],[5,2],[5,3],[6,0],[6,1],[6,2],[6,3],[7,0],[7,1],[7,2],[7,3],[8,0],[8,1],[8,2],[8,3]],&quot;8525&quot;:[[4,3],[4,4],[4,5],[4,6],[4,7],[4,8],[5,3],[5,4],[5,5],[5,6],[5,7],[5,8],[6,3],[6,4],[6,5],[6,6],[6,7],[6,8],[7,3],[7,4],[7,5],[7,6],[7,7],[7,8],[8,3],[8,4],[8,5],[8,6],[8,7],[8,8]],&quot;8766&quot;:[[0,0],[0,1],[0,2],[0,3],[1,0],[1,1],[1,2],[1,3],[2,0],[2,1],[2,2],[2,3],[3,0],[3,1],[3,2],[3,3]],&quot;8524&quot;:[[0,3],[0,4],[0,5],[0,6],[0,7],[0,8],[1,3],[1,4],[1,5],[1,6],[1,7],[1,8],[2,3],[2,4],[2,5],[2,6],[2,7],[2,8],[3,3],[3,4],[3,5],[3,6],[3,7],[3,8]]}</td></tr>\n",
       "<tr><td>/home/ir-shir1/rds/rds-iris-ip005/data/private/VISTA/VIDEO/20151031/v20151031_00064_st_tl.fit</td><td>34.54435</td><td>-4.99249</td><td>33.841201404949125</td><td>33.83928635891414</td><td>35.061363402533864</td><td>35.056736993013615</td><td>-5.643375372348406</td><td>-4.156191854047633</td><td>-5.640200706948632</td><td>-4.153023106567311</td><td>H</td><td>218707200</td><td>27309278e050e16b60451e65b8fa4242</td><td>tile</td><td>{&quot;8523&quot;:[[0,2],[0,3],[0,4],[0,5],[0,6],[0,7],[0,8],[1,2],[1,3],[1,4],[1,5],[1,6],[1,7],[1,8],[2,2],[2,3],[2,4],[2,5],[2,6],[2,7],[2,8],[3,2],[3,3],[3,4],[3,5],[3,6],[3,7],[3,8],[4,2],[4,3],[4,4],[4,5],[4,6],[4,7],[4,8],[5,2],[5,3],[5,4],[5,5],[5,6],[5,7],[5,8],[6,2],[6,3],[6,4],[6,5],[6,6],[6,7],[6,8]],&quot;8765&quot;:[[0,0],[0,1],[0,2],[1,0],[1,1],[1,2],[2,0],[2,1],[2,2],[3,0],[3,1],[3,2],[4,0],[4,1],[4,2],[5,0],[5,1],[5,2],[6,0],[6,1],[6,2]],&quot;8524&quot;:[[7,2],[7,3],[7,4],[7,5],[7,6],[7,7],[7,8],[8,2],[8,3],[8,4],[8,5],[8,6],[8,7],[8,8]],&quot;8766&quot;:[[7,0],[7,1],[7,2],[8,0],[8,1],[8,2]]}</td></tr>\n",
       "</table>"
      ],
      "text/plain": [
       "<Table length=863>\n",
       "                                             file                                             ...\n",
       "                                            str93                                             ...\n",
       "--------------------------------------------------------------------------------------------- ...\n",
       "/home/ir-shir1/rds/rds-iris-ip005/data/private/VISTA/VIDEO/20140924/v20140924_00444_st_tl.fit ...\n",
       "/home/ir-shir1/rds/rds-iris-ip005/data/private/VISTA/VIDEO/20140924/v20140924_00396_st_tl.fit ...\n",
       "/home/ir-shir1/rds/rds-iris-ip005/data/private/VISTA/VIDEO/20141029/v20141029_00316_st_tl.fit ...\n",
       "/home/ir-shir1/rds/rds-iris-ip005/data/private/VISTA/VIDEO/20091203/v20091203_00166_st_tl.fit ...\n",
       "/home/ir-shir1/rds/rds-iris-ip005/data/private/VISTA/VIDEO/20091203/v20091203_00268_st_tl.fit ...\n",
       "/home/ir-shir1/rds/rds-iris-ip005/data/private/VISTA/VIDEO/20091203/v20091203_00226_st_tl.fit ...\n",
       "/home/ir-shir1/rds/rds-iris-ip005/data/private/VISTA/VIDEO/20101127/v20101127_00177_st_tl.fit ...\n",
       "/home/ir-shir1/rds/rds-iris-ip005/data/private/VISTA/VIDEO/20101127/v20101127_00225_st_tl.fit ...\n",
       "/home/ir-shir1/rds/rds-iris-ip005/data/private/VISTA/VIDEO/20101127/v20101127_00273_st_tl.fit ...\n",
       "/home/ir-shir1/rds/rds-iris-ip005/data/private/VISTA/VIDEO/20091205/v20091205_00144_st_tl.fit ...\n",
       "                                                                                          ... ...\n",
       "/home/ir-shir1/rds/rds-iris-ip005/data/private/VISTA/VIDEO/20091111/v20091111_00430_st_tl.fit ...\n",
       "/home/ir-shir1/rds/rds-iris-ip005/data/private/VISTA/VIDEO/20091111/v20091111_00292_st_tl.fit ...\n",
       "/home/ir-shir1/rds/rds-iris-ip005/data/private/VISTA/VIDEO/20130814/v20130814_00709_st_tl.fit ...\n",
       "/home/ir-shir1/rds/rds-iris-ip005/data/private/VISTA/VIDEO/20130814/v20130814_00833_st_tl.fit ...\n",
       "/home/ir-shir1/rds/rds-iris-ip005/data/private/VISTA/VIDEO/20130814/v20130814_00785_st_tl.fit ...\n",
       "/home/ir-shir1/rds/rds-iris-ip005/data/private/VISTA/VIDEO/20100909/v20100909_00438_st_tl.fit ...\n",
       "/home/ir-shir1/rds/rds-iris-ip005/data/private/VISTA/VIDEO/20100909/v20100909_00390_st_tl.fit ...\n",
       "/home/ir-shir1/rds/rds-iris-ip005/data/private/VISTA/VIDEO/20100909/v20100909_00348_st_tl.fit ...\n",
       "/home/ir-shir1/rds/rds-iris-ip005/data/private/VISTA/VIDEO/20100112/v20100112_00043_st_tl.fit ...\n",
       "/home/ir-shir1/rds/rds-iris-ip005/data/private/VISTA/VIDEO/20151031/v20151031_00064_st_tl.fit ..."
      ]
     },
     "execution_count": 59,
     "metadata": {},
     "output_type": "execute_result"
    }
   ],
   "source": [
    "tiles_in_sxds = tile_to_patch['ra'] < 39\n",
    "tiles_in_sxds &= tile_to_patch['ra'] > 33\n",
    "tiles_in_sxds = tile_to_patch['dec'] < -2\n",
    "tiles_in_sxds = tile_to_patch['dec'] >-8\n",
    "tile_to_patch[tiles_in_sxds]"
   ]
  },
  {
   "cell_type": "code",
   "execution_count": 60,
   "metadata": {},
   "outputs": [
    {
     "data": {
      "text/plain": [
       "'{\"8766\":[[3,2],[3,0],[5,0],[0,3],[0,1],[1,3],[3,3],[8,0],[1,2],[4,2],[6,0],[8,2],[2,3],[0,0],[2,1],[7,1],[2,2],[8,1],[5,2],[1,1],[4,0],[0,2],[3,1],[6,2],[7,2],[2,0],[1,0],[7,0],[6,1],[4,1],[5,1]],\"8524\":[[1,8],[5,7],[0,6],[3,3],[4,2],[2,3],[6,8],[4,4],[6,3],[2,7],[6,2],[1,4],[6,7],[0,8],[1,7],[3,6],[1,3],[5,4],[0,4],[5,5],[7,4],[7,7],[5,8],[7,8],[8,7],[8,6],[1,2],[2,2],[0,5],[2,8],[4,3],[4,8],[6,5],[3,4],[5,3],[8,2],[5,6],[2,4],[4,6],[3,8],[5,2],[6,4],[8,8],[7,2],[0,7],[8,3],[2,6],[8,5],[3,2],[8,4],[6,6],[0,3],[3,5],[4,7],[2,5],[7,3],[4,5],[3,7],[7,6],[7,5],[1,5],[1,6],[0,2]],\"8765\":[[5,0],[0,1],[4,2],[6,0],[2,1],[5,2],[6,2],[1,0],[6,1],[4,1],[3,2],[3,0],[0,0],[1,1],[4,0],[0,2],[3,1],[2,0],[1,2],[2,2],[5,1]],\"8523\":[[1,8],[5,7],[0,6],[3,3],[4,2],[2,3],[6,8],[4,4],[6,3],[2,7],[6,2],[1,4],[0,8],[6,7],[1,7],[3,6],[1,3],[5,4],[0,4],[5,5],[5,8],[1,2],[2,2],[0,5],[2,8],[4,3],[4,8],[6,5],[3,4],[5,3],[5,6],[2,4],[3,8],[4,6],[5,2],[6,4],[0,7],[2,6],[3,2],[6,6],[0,3],[3,5],[4,7],[2,5],[4,5],[3,7],[1,5],[1,6],[0,2]],\"8767\":[[5,0],[4,3],[4,2],[5,3],[6,0],[8,2],[7,1],[5,2],[6,3],[6,2],[7,2],[8,3],[6,1],[4,1],[8,0],[7,3],[8,1],[4,0],[7,0],[5,1]],\"8525\":[[5,7],[4,3],[4,8],[6,5],[4,2],[5,3],[8,2],[5,6],[6,4],[4,6],[6,8],[5,2],[8,8],[4,4],[6,3],[6,2],[7,2],[8,3],[8,5],[6,7],[8,4],[6,6],[5,4],[4,7],[7,3],[5,5],[4,5],[7,4],[7,7],[7,6],[5,8],[7,8],[8,7],[7,5],[8,6]]}'"
      ]
     },
     "execution_count": 60,
     "metadata": {},
     "output_type": "execute_result"
    }
   ],
   "source": [
    "patches_in_video = {}\n",
    "for t in tile_to_patch[tiles_in_sxds]:\n",
    "    patch_dict = json.loads(t['tract_patch_json'])\n",
    "    for tract in patch_dict:\n",
    "        patches_string_set = set([str(d) for d in  patch_dict[tract]])\n",
    "        try:\n",
    "            patches_in_video[tract] = patches_in_video[tract].union(patches_string_set)\n",
    "        except KeyError:\n",
    "            patches_in_video[tract] = patches_string_set\n",
    "\n",
    "for tract in patches_in_video:\n",
    "    patches_in_video[tract] = [\n",
    "        [int(s.split(',')[0].strip('[')), int(s.split(',')[1].strip(']'))] \n",
    "        for s in patches_in_video[tract]\n",
    "    ]\n",
    "    \n",
    "patches_in_video\n",
    "json.dumps(patches_in_video, separators=(',', ':'))"
   ]
  },
  {
   "cell_type": "code",
   "execution_count": 61,
   "metadata": {},
   "outputs": [],
   "source": [
    "with open('patches_in_video.json', 'w') as outfile:\n",
    "    json.dump(patches_in_video, outfile, separators=(',', ':'))"
   ]
  },
  {
   "cell_type": "code",
   "execution_count": null,
   "metadata": {},
   "outputs": [],
   "source": []
  },
  {
   "cell_type": "markdown",
   "metadata": {},
   "source": [
    "## Make new dict\n",
    "\n",
    "Now we run each patch using the job dict which takes the array integer and returns the job details"
   ]
  },
  {
   "cell_type": "code",
   "execution_count": 62,
   "metadata": {},
   "outputs": [
    {
     "data": {
      "text/plain": [
       "219"
      ]
     },
     "execution_count": 62,
     "metadata": {},
     "output_type": "execute_result"
    }
   ],
   "source": [
    "patch_job_dict = {}\n",
    "n=0\n",
    "for tract in patches_in_video:\n",
    "    for patch in patches_in_video[tract]:\n",
    "        patch_job_dict[str(n)]=[tract, patch ]\n",
    "        n+=1\n",
    "n"
   ]
  },
  {
   "cell_type": "code",
   "execution_count": 63,
   "metadata": {},
   "outputs": [
    {
     "data": {
      "text/plain": [
       "'{\"0\": [\"8766\", [3, 2]], \"1\": [\"8766\", [3, 0]], \"2\": [\"8766\", [5, 0]], \"3\": [\"8766\", [0, 3]], \"4\": [\"8766\", [0, 1]], \"5\": [\"8766\", [1, 3]], \"6\": [\"8766\", [3, 3]], \"7\": [\"8766\", [8, 0]], \"8\": [\"8766\", [1, 2]], \"9\": [\"8766\", [4, 2]], \"10\": [\"8766\", [6, 0]], \"11\": [\"8766\", [8, 2]], \"12\": [\"8766\", [2, 3]], \"13\": [\"8766\", [0, 0]], \"14\": [\"8766\", [2, 1]], \"15\": [\"8766\", [7, 1]], \"16\": [\"8766\", [2, 2]], \"17\": [\"8766\", [8, 1]], \"18\": [\"8766\", [5, 2]], \"19\": [\"8766\", [1, 1]], \"20\": [\"8766\", [4, 0]], \"21\": [\"8766\", [0, 2]], \"22\": [\"8766\", [3, 1]], \"23\": [\"8766\", [6, 2]], \"24\": [\"8766\", [7, 2]], \"25\": [\"8766\", [2, 0]], \"26\": [\"8766\", [1, 0]], \"27\": [\"8766\", [7, 0]], \"28\": [\"8766\", [6, 1]], \"29\": [\"8766\", [4, 1]], \"30\": [\"8766\", [5, 1]], \"31\": [\"8524\", [1, 8]], \"32\": [\"8524\", [5, 7]], \"33\": [\"8524\", [0, 6]], \"34\": [\"8524\", [3, 3]], \"35\": [\"8524\", [4, 2]], \"36\": [\"8524\", [2, 3]], \"37\": [\"8524\", [6, 8]], \"38\": [\"8524\", [4, 4]], \"39\": [\"8524\", [6, 3]], \"40\": [\"8524\", [2, 7]], \"41\": [\"8524\", [6, 2]], \"42\": [\"8524\", [1, 4]], \"43\": [\"8524\", [6, 7]], \"44\": [\"8524\", [0, 8]], \"45\": [\"8524\", [1, 7]], \"46\": [\"8524\", [3, 6]], \"47\": [\"8524\", [1, 3]], \"48\": [\"8524\", [5, 4]], \"49\": [\"8524\", [0, 4]], \"50\": [\"8524\", [5, 5]], \"51\": [\"8524\", [7, 4]], \"52\": [\"8524\", [7, 7]], \"53\": [\"8524\", [5, 8]], \"54\": [\"8524\", [7, 8]], \"55\": [\"8524\", [8, 7]], \"56\": [\"8524\", [8, 6]], \"57\": [\"8524\", [1, 2]], \"58\": [\"8524\", [2, 2]], \"59\": [\"8524\", [0, 5]], \"60\": [\"8524\", [2, 8]], \"61\": [\"8524\", [4, 3]], \"62\": [\"8524\", [4, 8]], \"63\": [\"8524\", [6, 5]], \"64\": [\"8524\", [3, 4]], \"65\": [\"8524\", [5, 3]], \"66\": [\"8524\", [8, 2]], \"67\": [\"8524\", [5, 6]], \"68\": [\"8524\", [2, 4]], \"69\": [\"8524\", [4, 6]], \"70\": [\"8524\", [3, 8]], \"71\": [\"8524\", [5, 2]], \"72\": [\"8524\", [6, 4]], \"73\": [\"8524\", [8, 8]], \"74\": [\"8524\", [7, 2]], \"75\": [\"8524\", [0, 7]], \"76\": [\"8524\", [8, 3]], \"77\": [\"8524\", [2, 6]], \"78\": [\"8524\", [8, 5]], \"79\": [\"8524\", [3, 2]], \"80\": [\"8524\", [8, 4]], \"81\": [\"8524\", [6, 6]], \"82\": [\"8524\", [0, 3]], \"83\": [\"8524\", [3, 5]], \"84\": [\"8524\", [4, 7]], \"85\": [\"8524\", [2, 5]], \"86\": [\"8524\", [7, 3]], \"87\": [\"8524\", [4, 5]], \"88\": [\"8524\", [3, 7]], \"89\": [\"8524\", [7, 6]], \"90\": [\"8524\", [7, 5]], \"91\": [\"8524\", [1, 5]], \"92\": [\"8524\", [1, 6]], \"93\": [\"8524\", [0, 2]], \"94\": [\"8765\", [5, 0]], \"95\": [\"8765\", [0, 1]], \"96\": [\"8765\", [4, 2]], \"97\": [\"8765\", [6, 0]], \"98\": [\"8765\", [2, 1]], \"99\": [\"8765\", [5, 2]], \"100\": [\"8765\", [6, 2]], \"101\": [\"8765\", [1, 0]], \"102\": [\"8765\", [6, 1]], \"103\": [\"8765\", [4, 1]], \"104\": [\"8765\", [3, 2]], \"105\": [\"8765\", [3, 0]], \"106\": [\"8765\", [0, 0]], \"107\": [\"8765\", [1, 1]], \"108\": [\"8765\", [4, 0]], \"109\": [\"8765\", [0, 2]], \"110\": [\"8765\", [3, 1]], \"111\": [\"8765\", [2, 0]], \"112\": [\"8765\", [1, 2]], \"113\": [\"8765\", [2, 2]], \"114\": [\"8765\", [5, 1]], \"115\": [\"8523\", [1, 8]], \"116\": [\"8523\", [5, 7]], \"117\": [\"8523\", [0, 6]], \"118\": [\"8523\", [3, 3]], \"119\": [\"8523\", [4, 2]], \"120\": [\"8523\", [2, 3]], \"121\": [\"8523\", [6, 8]], \"122\": [\"8523\", [4, 4]], \"123\": [\"8523\", [6, 3]], \"124\": [\"8523\", [2, 7]], \"125\": [\"8523\", [6, 2]], \"126\": [\"8523\", [1, 4]], \"127\": [\"8523\", [0, 8]], \"128\": [\"8523\", [6, 7]], \"129\": [\"8523\", [1, 7]], \"130\": [\"8523\", [3, 6]], \"131\": [\"8523\", [1, 3]], \"132\": [\"8523\", [5, 4]], \"133\": [\"8523\", [0, 4]], \"134\": [\"8523\", [5, 5]], \"135\": [\"8523\", [5, 8]], \"136\": [\"8523\", [1, 2]], \"137\": [\"8523\", [2, 2]], \"138\": [\"8523\", [0, 5]], \"139\": [\"8523\", [2, 8]], \"140\": [\"8523\", [4, 3]], \"141\": [\"8523\", [4, 8]], \"142\": [\"8523\", [6, 5]], \"143\": [\"8523\", [3, 4]], \"144\": [\"8523\", [5, 3]], \"145\": [\"8523\", [5, 6]], \"146\": [\"8523\", [2, 4]], \"147\": [\"8523\", [3, 8]], \"148\": [\"8523\", [4, 6]], \"149\": [\"8523\", [5, 2]], \"150\": [\"8523\", [6, 4]], \"151\": [\"8523\", [0, 7]], \"152\": [\"8523\", [2, 6]], \"153\": [\"8523\", [3, 2]], \"154\": [\"8523\", [6, 6]], \"155\": [\"8523\", [0, 3]], \"156\": [\"8523\", [3, 5]], \"157\": [\"8523\", [4, 7]], \"158\": [\"8523\", [2, 5]], \"159\": [\"8523\", [4, 5]], \"160\": [\"8523\", [3, 7]], \"161\": [\"8523\", [1, 5]], \"162\": [\"8523\", [1, 6]], \"163\": [\"8523\", [0, 2]], \"164\": [\"8767\", [5, 0]], \"165\": [\"8767\", [4, 3]], \"166\": [\"8767\", [4, 2]], \"167\": [\"8767\", [5, 3]], \"168\": [\"8767\", [6, 0]], \"169\": [\"8767\", [8, 2]], \"170\": [\"8767\", [7, 1]], \"171\": [\"8767\", [5, 2]], \"172\": [\"8767\", [6, 3]], \"173\": [\"8767\", [6, 2]], \"174\": [\"8767\", [7, 2]], \"175\": [\"8767\", [8, 3]], \"176\": [\"8767\", [6, 1]], \"177\": [\"8767\", [4, 1]], \"178\": [\"8767\", [8, 0]], \"179\": [\"8767\", [7, 3]], \"180\": [\"8767\", [8, 1]], \"181\": [\"8767\", [4, 0]], \"182\": [\"8767\", [7, 0]], \"183\": [\"8767\", [5, 1]], \"184\": [\"8525\", [5, 7]], \"185\": [\"8525\", [4, 3]], \"186\": [\"8525\", [4, 8]], \"187\": [\"8525\", [6, 5]], \"188\": [\"8525\", [4, 2]], \"189\": [\"8525\", [5, 3]], \"190\": [\"8525\", [8, 2]], \"191\": [\"8525\", [5, 6]], \"192\": [\"8525\", [6, 4]], \"193\": [\"8525\", [4, 6]], \"194\": [\"8525\", [6, 8]], \"195\": [\"8525\", [5, 2]], \"196\": [\"8525\", [8, 8]], \"197\": [\"8525\", [4, 4]], \"198\": [\"8525\", [6, 3]], \"199\": [\"8525\", [6, 2]], \"200\": [\"8525\", [7, 2]], \"201\": [\"8525\", [8, 3]], \"202\": [\"8525\", [8, 5]], \"203\": [\"8525\", [6, 7]], \"204\": [\"8525\", [8, 4]], \"205\": [\"8525\", [6, 6]], \"206\": [\"8525\", [5, 4]], \"207\": [\"8525\", [4, 7]], \"208\": [\"8525\", [7, 3]], \"209\": [\"8525\", [5, 5]], \"210\": [\"8525\", [4, 5]], \"211\": [\"8525\", [7, 4]], \"212\": [\"8525\", [7, 7]], \"213\": [\"8525\", [7, 6]], \"214\": [\"8525\", [5, 8]], \"215\": [\"8525\", [7, 8]], \"216\": [\"8525\", [8, 7]], \"217\": [\"8525\", [7, 5]], \"218\": [\"8525\", [8, 6]]}'"
      ]
     },
     "execution_count": 63,
     "metadata": {},
     "output_type": "execute_result"
    }
   ],
   "source": [
    "json.dumps(patch_job_dict)"
   ]
  },
  {
   "cell_type": "code",
   "execution_count": 64,
   "metadata": {},
   "outputs": [],
   "source": [
    "with open('./slurm/patch_job_dict.json', 'w') as outfile:\n",
    "    json.dump(patch_job_dict, outfile, separators=(',', ':'))"
   ]
  },
  {
   "cell_type": "code",
   "execution_count": null,
   "metadata": {},
   "outputs": [],
   "source": []
  },
  {
   "cell_type": "markdown",
   "metadata": {},
   "source": [
    "## Plot patches"
   ]
  },
  {
   "cell_type": "code",
   "execution_count": 210,
   "metadata": {},
   "outputs": [
    {
     "data": {
      "image/png": "[encoded data removed]",
      "text/plain": [
       "<Figure size 560x560 with 1 Axes>"
      ]
     },
     "metadata": {
      "needs_background": "light"
     },
     "output_type": "display_data"
    }
   ],
   "source": [
    "fig, ax = plt.subplots(figsize=(4, 4), dpi=140)\n",
    "for tract in sxds_tracts:\n",
    "    vertices = sm.generateTract(tract).getVertexList()\n",
    "    ra = [vertices[n][0].asDegrees() for n in np.mod(np.arange(5),4)]\n",
    "    dec = [vertices[n][1].asDegrees() for n in np.mod(np.arange(5),4)]\n",
    "    ax.plot(ra, dec, c = 'k')\n",
    "    for p in np.nditer(np.meshgrid(np.arange(0,9), np.arange(0,9))):\n",
    "        #print(p[0], p[1])\n",
    "        t = sm.generateTract(tract)\n",
    "        vertices = t.getPatchInfo([p[0], p[1]]).getInnerSkyPolygon(t.getWcs()).getVertices()\n",
    "        ra = [np.arctan(vertices[n][1]/vertices[n][0])* 180/np.pi for n in np.mod(np.arange(5),4)]\n",
    "        #print(tract, ra)\n",
    "        dec = [(vertices[n][2])* 180/np.pi for n in np.mod(np.arange(5),4)]\n",
    "        ax.plot(ra, dec, c = 'k', alpha=0.5, linewidth=0.5)\n",
    "        \n",
    "d = full_patch_dict\n",
    "for tract in d:\n",
    "    for patch in d[tract]:\n",
    "        #print(p[0], p[1])\n",
    "        p = [int(i) for i in patch.split(',')]\n",
    "        t = sm.generateTract(tract)\n",
    "        vertices = t.getPatchInfo([p[0], p[1]]).getInnerSkyPolygon(t.getWcs()).getVertices()\n",
    "        ra = [np.arctan(vertices[n][1]/vertices[n][0])* 180/np.pi for n in np.mod(np.arange(5),4)]\n",
    "        #print(tract, ra)\n",
    "        dec = [(vertices[n][2])* 180/np.pi for n in np.mod(np.arange(5),4)]\n",
    "        ax.plot(ra, dec, c = 'r', alpha=1.0, linewidth=0.5)\n",
    "\n",
    "#Plot patches in video\n",
    "d = patches_in_video\n",
    "for tract in d:\n",
    "   \n",
    "    for patch in d[tract]:\n",
    "        #print(p[0], p[1])\n",
    "        p = patch #[int(i) for i in patch.split(',')]\n",
    "        t = sm.generateTract(int(tract))\n",
    "        vertices = t.getPatchInfo([p[0], p[1]]).getInnerSkyPolygon(t.getWcs()).getVertices()\n",
    "        ra = [np.arctan(vertices[n][1]/vertices[n][0])* 180/np.pi for n in np.mod(np.arange(5),4)]\n",
    "        #print(tract, ra)\n",
    "        dec = [(vertices[n][2])* 180/np.pi for n in np.mod(np.arange(5),4)]\n",
    "        ax.fill(ra, dec, c = 'b', alpha=0.3, linewidth=0.5)\n",
    "        \n",
    "v_band ='all'\n",
    "for t in video_ims[\n",
    "    (video_ims['type'] == 'tile') \n",
    "    #& (video_ims['filter'] == v_band) \n",
    "    & tiles_near_sxds]:\n",
    "\n",
    "    ra = [t['ra_0_0'], t['ra_x_0'] , t['ra_x_y'] , t['ra_0_y'] , t['ra_0_0'] ]\n",
    "    dec = [t['dec_0_0'], t['dec_x_0'] , t['dec_x_y'] , t['dec_0_y'] , t['dec_0_0'] ]\n",
    "    \n",
    "    ax.plot(ra,dec, c = 'b')\n",
    "    \n",
    "ax.axis('scaled')\n",
    "ax.set_xlim([39, 33])\n",
    "ax.set_xlabel('Right Ascension [deg]')\n",
    "ax.set_ylabel('Declination[deg]')\n",
    "fig.savefig('./figs/sxds_VIDEO_patches.pdf', overwrite=True)\n",
    "fig.savefig('./figs/sxds_VIDEO_patches.png', overwrite=True)"
   ]
  },
  {
   "cell_type": "markdown",
   "metadata": {},
   "source": [
    "## 2 Process CCDs\n",
    "\n",
    "This stage is parallelised accroding to the raw files ingested. We are going to make one job per date"
   ]
  },
  {
   "cell_type": "code",
   "execution_count": 36,
   "metadata": {},
   "outputs": [],
   "source": [
    "n= 0\n",
    "for im in video_ims[near_sxds]: #date_list:\n",
    "    date = im['date']\n",
    "    dateObs = date[0:4]+'-'+date[4:6]+'-'+date[6:9]\n",
    "    numObs = im['numObs']\n",
    "    _filter = 'VISTA-' +im['filter'] #filter is a reserved word in python\n",
    "    job_name = \"processCcd_{}_{}_{}\".format(dateObs, numObs, n)\n",
    "    f_sh = open('./slurm/' + job_name + '.sh', \"w+\")\n",
    "    f_sh.write(sh_template.format(dateObs=dateObs, numObs=numObs, _filter=_filter))\n",
    "    f_sh.close()\n",
    "    if MAKE_INDIVIDUAL_SLURM:\n",
    "        f_slurm = open('./slurm/' + job_name + '.slurm', \"w+\")\n",
    "        f_slurm.write(slurm_template.format(\n",
    "            job_name=job_name,\n",
    "            hours='1',\n",
    "            jobNameBase=WORK_DIR + '/slurm/' + job_name + '.sh',\n",
    "            cpus_per_task='1',\n",
    "            himem=''\n",
    "        ))\n",
    "        f_slurm.close()\n",
    "    n+=1\n"
   ]
  },
  {
   "cell_type": "code",
   "execution_count": 37,
   "metadata": {},
   "outputs": [
    {
     "data": {
      "text/plain": [
       "5263"
      ]
     },
     "execution_count": 37,
     "metadata": {},
     "output_type": "execute_result"
    }
   ],
   "source": [
    "n"
   ]
  },
  {
   "cell_type": "code",
   "execution_count": 77,
   "metadata": {},
   "outputs": [],
   "source": [
    "BASE='/home/ir-shir1/rds/rds-iris-ip005/data/private/VISTA/VIDEO'"
   ]
  },
  {
   "cell_type": "code",
   "execution_count": 65,
   "metadata": {},
   "outputs": [
    {
     "data": {
      "text/plain": [
       "[8282, 8283, 8284, 8523, 8524, 8525, 8765, 8766, 8767]"
      ]
     },
     "execution_count": 65,
     "metadata": {},
     "output_type": "execute_result"
    }
   ],
   "source": [
    "sxds_tracts"
   ]
  },
  {
   "cell_type": "code",
   "execution_count": 67,
   "metadata": {},
   "outputs": [
    {
     "data": {
      "text/plain": [
       "'8282^8283^8284^8523^8524^8525^8765^8766^8767'"
      ]
     },
     "execution_count": 67,
     "metadata": {},
     "output_type": "execute_result"
    }
   ],
   "source": [
    "tracts_st = ''\n",
    "for t in sxds_tracts:\n",
    "    tracts_st+=\"{}^\".format(t)\n",
    "tracts_st = tracts_st[:-1]\n",
    "tracts_st"
   ]
  },
  {
   "cell_type": "code",
   "execution_count": 80,
   "metadata": {},
   "outputs": [],
   "source": [
    "processCcd_job_dict = {}\n",
    "sxds_ims = video_ims[near_sxds]\n",
    "for i in np.arange(len(sxds_ims)):\n",
    "    date=sxds_ims[i]['file'].split('/')[9]\n",
    "    processCcd_job_dict[str(i)] = [\n",
    "        '{}-{}-{}'.format(date[0:4],date[4:6],date[6:9]),\n",
    "        sxds_ims[i]['file'].split('/')[10].split('_')[1],\n",
    "        'VISTA-{}'.format(sxds_ims[sxds_ims['file']==sxds_ims[i]['file']]['filter'][0]),\n",
    "        tracts_st,\n",
    "        BASE+sxds_ims[i]['file'][37:]\n",
    "    ]"
   ]
  },
  {
   "cell_type": "code",
   "execution_count": 81,
   "metadata": {},
   "outputs": [
    {
     "data": {
      "text/plain": [
       "['2009-11-03',\n",
       " '00326',\n",
       " 'VISTA-H',\n",
       " '8282^8283^8284^8523^8524^8525^8765^8766^8767',\n",
       " '/home/ir-shir1/rds/rds-iris-ip005/data/private/VISTA/VIDEOa/private/VISTA/VIDEO/20091103/v20091103_00326_st.fit']"
      ]
     },
     "execution_count": 81,
     "metadata": {},
     "output_type": "execute_result"
    }
   ],
   "source": [
    "processCcd_job_dict['0']"
   ]
  },
  {
   "cell_type": "code",
   "execution_count": 82,
   "metadata": {},
   "outputs": [],
   "source": [
    "with open('./slurm/processCcd_job_dict.json', 'w') as outfile:\n",
    "    json.dump(processCcd_job_dict, outfile, separators=(',', ':'))"
   ]
  },
  {
   "cell_type": "code",
   "execution_count": 83,
   "metadata": {},
   "outputs": [
    {
     "data": {
      "text/plain": [
       "5263"
      ]
     },
     "execution_count": 83,
     "metadata": {},
     "output_type": "execute_result"
    }
   ],
   "source": [
    "len(processCcd_job_dict)"
   ]
  },
  {
   "cell_type": "markdown",
   "metadata": {},
   "source": [
    "# Pipeline code\n",
    "\n",
    "The pipeline code is now written directly into the shell scripts in the './slurm' folder. Each of these gets the patch or image info from the two json dictionaries written in this notebook."
   ]
  },
  {
   "cell_type": "code",
   "execution_count": null,
   "metadata": {},
   "outputs": [],
   "source": []
  }
 ],
 "metadata": {
  "kernelspec": {
   "display_name": "LSST",
   "language": "python",
   "name": "lsst"
  },
  "language_info": {
   "codemirror_mode": {
    "name": "ipython",
    "version": 3
   },
   "file_extension": ".py",
   "mimetype": "text/x-python",
   "name": "python",
   "nbconvert_exporter": "python",
   "pygments_lexer": "ipython3",
   "version": "3.7.6"
  }
 },
 "nbformat": 4,
 "nbformat_minor": 4
}
