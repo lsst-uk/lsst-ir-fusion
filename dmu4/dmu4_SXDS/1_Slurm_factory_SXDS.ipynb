{
 "cells": [
  {
   "cell_type": "markdown",
   "metadata": {},
   "source": [
    "# Make slurm files required to produce SXDS joint VISTA-HSC data product.\n",
    "\n",
    "In this notebook we will make all the slurm files required to run the whole VISTA-VIDEO HSC-DUD joint photometry pipeline.\n",
    "\n",
    "We need to find all the patches in the HSC imaging and produce a slurm pipeline file for every patch or group of patches.\n",
    "\n",
    "This will be a maximum of around 4 tracts * 91 patches per tract = 364 patches\n",
    "\n",
    "We will also need to set up the data directories including linking relevant reference catalogues and copying the required HSC data products which are already processed."
   ]
  },
  {
   "cell_type": "code",
   "execution_count": 1,
   "metadata": {},
   "outputs": [],
   "source": [
    "from astropy.table import Table, Column\n",
    "import numpy as np\n",
    "import glob"
   ]
  },
  {
   "cell_type": "code",
   "execution_count": 2,
   "metadata": {},
   "outputs": [],
   "source": [
    "HSC_LOC = '../../dmu0/dmu0_HSC/data'"
   ]
  },
  {
   "cell_type": "code",
   "execution_count": 3,
   "metadata": {},
   "outputs": [],
   "source": [
    "video_ims = Table.read('../../dmu1/data/video_images_overview_20200820.csv')\n",
    "hsc_ims = Table.read('../../dmu1/data/hsc_images_overview.csv')"
   ]
  },
  {
   "cell_type": "markdown",
   "metadata": {},
   "source": [
    "## 1 Find all the relevant HSC SXDS patches and corresponding VIDEO images.\n",
    "\n",
    "The first stage is parallesised by ccd. We will create one job for every date. This should be small enough to fit in a 24hr job.\n",
    "\n",
    "### 1.1 Get the HSC DUD files in SXDS"
   ]
  },
  {
   "cell_type": "code",
   "execution_count": 4,
   "metadata": {},
   "outputs": [],
   "source": [
    "sxds_tracts = [8282,8283,8284,8523,8524,8525,8765,8766,8767] #manually got these from HSC DR2 pages"
   ]
  },
  {
   "cell_type": "code",
   "execution_count": 5,
   "metadata": {},
   "outputs": [],
   "source": [
    "hsc_ims['tract'] = [f.split('/')[14] for f in hsc_ims['file']]\n",
    "hsc_ims['patch'] = [f.split('/')[15] for f in hsc_ims['file']]\n",
    "hsc_ims['depth'] = [f.split('/')[11] for f in hsc_ims['file']]"
   ]
  },
  {
   "cell_type": "code",
   "execution_count": 6,
   "metadata": {},
   "outputs": [],
   "source": [
    "in_sxds = hsc_ims['depth'] == 'pdr2_dud' \n",
    "in_sxds &= np.isin([int(t) for t in hsc_ims['tract'] ],  sxds_tracts)"
   ]
  },
  {
   "cell_type": "code",
   "execution_count": 7,
   "metadata": {},
   "outputs": [
    {
     "data": {
      "text/plain": [
       "1629"
      ]
     },
     "execution_count": 7,
     "metadata": {},
     "output_type": "execute_result"
    }
   ],
   "source": [
    "np.sum(in_sxds)"
   ]
  },
  {
   "cell_type": "code",
   "execution_count": 8,
   "metadata": {},
   "outputs": [
    {
     "data": {
      "text/html": [
       "<i>Table length=5</i>\n",
       "<table id=\"table4676579088\" class=\"table-striped table-bordered table-condensed\">\n",
       "<thead><tr><th>file</th><th>ra_0_0</th><th>ra_0_y</th><th>ra_x_0</th><th>ra_x_y</th><th>dec_0_0</th><th>dec_0_y</th><th>dec_x_0</th><th>dec_x_y</th><th>size</th><th>hash</th><th>tract</th><th>patch</th><th>depth</th></tr></thead>\n",
       "<thead><tr><th>str164</th><th>float64</th><th>float64</th><th>float64</th><th>float64</th><th>float64</th><th>float64</th><th>float64</th><th>float64</th><th>int64</th><th>str32</th><th>str5</th><th>str3</th><th>str9</th></tr></thead>\n",
       "<tr><td>/home/ir-shir1/rds/rds-iris-ip005/data/public/HSC/hsc-release.mtk.nao.ac.jp/archive/filetree/pdr2_dud/deepCoadd-results/HSC-Z/8765/0,0/calexp-HSC-Z-8765-0,0.fits</td><td>35.057390881574044</td><td>35.05720789563249</td><td>34.865503651256965</td><td>34.86536233311517</td><td>-4.558457292032212</td><td>-4.367177057413561</td><td>-4.558655394587739</td><td>-4.367366830731112</td><td>210075840</td><td>93e4be0f6ccbf4f282001d491f830060</td><td>8765</td><td>0,0</td><td>pdr2_dud</td></tr>\n",
       "<tr><td>/home/ir-shir1/rds/rds-iris-ip005/data/public/HSC/hsc-release.mtk.nao.ac.jp/archive/filetree/pdr2_dud/deepCoadd-results/HSC-Z/8765/2,2/calexp-HSC-Z-8765-2,2.fits</td><td>34.68744599488356</td><td>34.687340888143005</td><td>34.490935877105265</td><td>34.49087447536722</td><td>-4.19018894495259</td><td>-3.9942041159656037</td><td>-4.190282501066741</td><td>-3.994293285659841</td><td>149581440</td><td>bb471cb691de84ed694a8179c780c4da</td><td>8765</td><td>2,2</td><td>pdr2_dud</td></tr>\n",
       "<tr><td>/home/ir-shir1/rds/rds-iris-ip005/data/public/HSC/hsc-release.mtk.nao.ac.jp/archive/filetree/pdr2_dud/deepCoadd-results/HSC-Z/8765/0,6/calexp-HSC-Z-8765-0,6.fits</td><td>35.05632532497644</td><td>35.05613835071305</td><td>34.864680733040856</td><td>34.864536334791445</td><td>-3.4433065839296444</td><td>-3.2473362428975334</td><td>-3.4434561168248923</td><td>-3.2474772402754106</td><td>64304640</td><td>bddc980e7d6fc6007a039863e628abad</td><td>8765</td><td>0,6</td><td>pdr2_dud</td></tr>\n",
       "<tr><td>/home/ir-shir1/rds/rds-iris-ip005/data/public/HSC/hsc-release.mtk.nao.ac.jp/archive/filetree/pdr2_dud/deepCoadd-results/HSC-Z/8765/1,3/calexp-HSC-Z-8765-1,3.fits</td><td>34.87444848193645</td><td>34.87430182037414</td><td>34.677990464977505</td><td>34.67788748292052</td><td>-4.003408172084183</td><td>-3.8074234215277722</td><td>-4.003542229270651</td><td>-3.807550898996197</td><td>130622400</td><td>28975127e02dcd2d11576f7aa3911d6b</td><td>8765</td><td>1,3</td><td>pdr2_dud</td></tr>\n",
       "<tr><td>/home/ir-shir1/rds/rds-iris-ip005/data/public/HSC/hsc-release.mtk.nao.ac.jp/archive/filetree/pdr2_dud/deepCoadd-results/HSC-Z/8765/3,0/calexp-HSC-Z-8765-3,0.fits</td><td>34.50041317080672</td><td>34.500351147036746</td><td>34.30381449491872</td><td>34.30379517560638</td><td>-4.558891715533787</td><td>-4.367593215541012</td><td>-4.558942620240526</td><td>-4.367641979954217</td><td>198616320</td><td>7939cb9d2256af91b2e55dbe826edacc</td><td>8765</td><td>3,0</td><td>pdr2_dud</td></tr>\n",
       "</table>"
      ],
      "text/plain": [
       "<Table length=5>\n",
       "                                                                               file                                                                               ...\n",
       "                                                                              str164                                                                              ...\n",
       "----------------------------------------------------------------------------------------------------------------------------------------------------------------- ...\n",
       "/home/ir-shir1/rds/rds-iris-ip005/data/public/HSC/hsc-release.mtk.nao.ac.jp/archive/filetree/pdr2_dud/deepCoadd-results/HSC-Z/8765/0,0/calexp-HSC-Z-8765-0,0.fits ...\n",
       "/home/ir-shir1/rds/rds-iris-ip005/data/public/HSC/hsc-release.mtk.nao.ac.jp/archive/filetree/pdr2_dud/deepCoadd-results/HSC-Z/8765/2,2/calexp-HSC-Z-8765-2,2.fits ...\n",
       "/home/ir-shir1/rds/rds-iris-ip005/data/public/HSC/hsc-release.mtk.nao.ac.jp/archive/filetree/pdr2_dud/deepCoadd-results/HSC-Z/8765/0,6/calexp-HSC-Z-8765-0,6.fits ...\n",
       "/home/ir-shir1/rds/rds-iris-ip005/data/public/HSC/hsc-release.mtk.nao.ac.jp/archive/filetree/pdr2_dud/deepCoadd-results/HSC-Z/8765/1,3/calexp-HSC-Z-8765-1,3.fits ...\n",
       "/home/ir-shir1/rds/rds-iris-ip005/data/public/HSC/hsc-release.mtk.nao.ac.jp/archive/filetree/pdr2_dud/deepCoadd-results/HSC-Z/8765/3,0/calexp-HSC-Z-8765-3,0.fits ..."
      ]
     },
     "execution_count": 8,
     "metadata": {},
     "output_type": "execute_result"
    }
   ],
   "source": [
    "hsc_ims[in_sxds][:5]"
   ]
  },
  {
   "cell_type": "code",
   "execution_count": null,
   "metadata": {},
   "outputs": [],
   "source": []
  },
  {
   "cell_type": "markdown",
   "metadata": {},
   "source": [
    "### 1.2 Find VIDEO images containing those patches\n",
    "\n",
    "To begin we simply find all tiles which contain the centres of any of those patches"
   ]
  },
  {
   "cell_type": "code",
   "execution_count": 9,
   "metadata": {},
   "outputs": [],
   "source": [
    "video_ims.add_column(Column(\n",
    "    data= [t.split('/')[-2] for t in video_ims['file']],\n",
    "    name='date'))"
   ]
  },
  {
   "cell_type": "code",
   "execution_count": 10,
   "metadata": {},
   "outputs": [],
   "source": [
    "def fileToType(filename):\n",
    "    filetype = ''\n",
    "    types = {\n",
    "        'tile':'_tl.fit',\n",
    "        'stack':'_st.fit',\n",
    "    }\n",
    "    for k,v in types.items():\n",
    "        #print(k,v)\n",
    "        if filename.endswith(v):\n",
    "            filetype = k\n",
    "       \n",
    "    return filetype\n",
    "video_ims['type'] = [fileToType(f) for f in video_ims['file']]"
   ]
  },
  {
   "cell_type": "code",
   "execution_count": 11,
   "metadata": {},
   "outputs": [
    {
     "name": "stderr",
     "output_type": "stream",
     "text": [
      "/Users/rs548/GitHub/lsst_stack/conda/miniconda3-py37_4.8.2/envs/lsst-scipipe-1a1d771/lib/python3.7/site-packages/astropy/table/column.py:1020: RuntimeWarning: invalid value encountered in greater\n",
      "  result = getattr(super(), op)(other)\n",
      "/Users/rs548/GitHub/lsst_stack/conda/miniconda3-py37_4.8.2/envs/lsst-scipipe-1a1d771/lib/python3.7/site-packages/astropy/table/column.py:1020: RuntimeWarning: invalid value encountered in less\n",
      "  result = getattr(super(), op)(other)\n"
     ]
    }
   ],
   "source": [
    "#TODO make more sophisticated overlap tester. Use patches?\n",
    "#make list of patches for every tile?\n",
    "near_sxds = video_ims['type'] == 'tile'\n",
    "near_sxds &= video_ims['ra'] > 32 #generous bounding bos for simplicity \n",
    "near_sxds &= video_ims['ra'] < 39\n",
    "near_sxds &= video_ims['dec'] > -8\n",
    "near_sxds &= video_ims['dec'] < -1\n",
    "#Just run Ks for now\n",
    "near_sxds &= video_ims['filter'] == 'Ks'"
   ]
  },
  {
   "cell_type": "code",
   "execution_count": 12,
   "metadata": {},
   "outputs": [
    {
     "data": {
      "text/plain": [
       "146"
      ]
     },
     "execution_count": 12,
     "metadata": {},
     "output_type": "execute_result"
    }
   ],
   "source": [
    "np.sum(near_sxds)"
   ]
  },
  {
   "cell_type": "code",
   "execution_count": 13,
   "metadata": {},
   "outputs": [
    {
     "data": {
      "text/html": [
       "<i>Table length=5</i>\n",
       "<table id=\"table4676575696\" class=\"table-striped table-bordered table-condensed\">\n",
       "<thead><tr><th>file</th><th>ra</th><th>dec</th><th>ra_0_0</th><th>ra_0_y</th><th>ra_x_0</th><th>ra_x_y</th><th>dec_0_0</th><th>dec_0_y</th><th>dec_x_0</th><th>dec_x_y</th><th>filter</th><th>size</th><th>hash</th><th>date</th><th>type</th></tr></thead>\n",
       "<thead><tr><th>str98</th><th>float64</th><th>float64</th><th>float64</th><th>float64</th><th>float64</th><th>float64</th><th>float64</th><th>float64</th><th>float64</th><th>float64</th><th>str2</th><th>int64</th><th>str32</th><th>str8</th><th>str5</th></tr></thead>\n",
       "<tr><td>/home/ir-shir1/rds/rds-iris-ip005/data/private/VISTA/VIDEO/20091203/v20091203_00166_st_tl.fit</td><td>36.484112</td><td>-4.64021</td><td>37.18581681881602</td><td>37.18827867938782</td><td>35.961889541645284</td><td>35.96170595209148</td><td>-3.984669774357833</td><td>-5.47895872985137</td><td>-3.9852681414899243</td><td>-5.479559099311809</td><td>Ks</td><td>217598400</td><td>a06a0cb6fa58f2f8e20b2d58802d2b23</td><td>20091203</td><td>tile</td></tr>\n",
       "<tr><td>/home/ir-shir1/rds/rds-iris-ip005/data/private/VISTA/VIDEO/20091203/v20091203_00268_st_tl.fit</td><td>36.483812</td><td>-4.64101</td><td>37.18469529855007</td><td>37.187078110381336</td><td>35.96147340582927</td><td>35.96121968956605</td><td>-3.991145815762932</td><td>-5.480101505496474</td><td>-3.9914464481413</td><td>-5.480404009464727</td><td>Ks</td><td>219611520</td><td>3749772a2e4d599ee23e16f9ee01a127</td><td>20091203</td><td>tile</td></tr>\n",
       "<tr><td>/home/ir-shir1/rds/rds-iris-ip005/data/private/VISTA/VIDEO/20091203/v20091203_00226_st_tl.fit</td><td>36.484412</td><td>-4.63991</td><td>37.18171950099135</td><td>37.18401293691172</td><td>35.963467899633834</td><td>35.96313025527346</td><td>-3.9853566973246917</td><td>-5.478446527962703</td><td>-3.9858299864530564</td><td>-5.478921528693908</td><td>Ks</td><td>218891520</td><td>53c11b8ae8361559a4df18e117915bd1</td><td>20091203</td><td>tile</td></tr>\n",
       "<tr><td>/home/ir-shir1/rds/rds-iris-ip005/data/private/VISTA/VIDEO/20100910/v20100910_00606_st_tl.fit</td><td>36.488854</td><td>-4.64268</td><td>37.18393726892561</td><td>37.18848156033916</td><td>35.96285187809026</td><td>35.96476365853805</td><td>-3.9882880281938724</td><td>-5.478037426842484</td><td>-3.990614051393192</td><td>-5.480369114925005</td><td>Ks</td><td>214133760</td><td>28bc936c8f0c85c446e4dfa22b6c7768</td><td>20100910</td><td>tile</td></tr>\n",
       "<tr><td>/home/ir-shir1/rds/rds-iris-ip005/data/private/VISTA/VIDEO/20100910/v20100910_00561_st_tl.fit</td><td>36.476458</td><td>-4.64362</td><td>37.182714564872846</td><td>37.18702680660112</td><td>35.96151091868087</td><td>35.96318593761777</td><td>-3.9868775809400456</td><td>-5.479183414777115</td><td>-3.9892291046049513</td><td>-5.481540192080265</td><td>Ks</td><td>213762240</td><td>b84da9427e1cbea4f8e2df100e9b5573</td><td>20100910</td><td>tile</td></tr>\n",
       "</table>"
      ],
      "text/plain": [
       "<Table length=5>\n",
       "                                             file                                             ...\n",
       "                                            str98                                             ...\n",
       "--------------------------------------------------------------------------------------------- ...\n",
       "/home/ir-shir1/rds/rds-iris-ip005/data/private/VISTA/VIDEO/20091203/v20091203_00166_st_tl.fit ...\n",
       "/home/ir-shir1/rds/rds-iris-ip005/data/private/VISTA/VIDEO/20091203/v20091203_00268_st_tl.fit ...\n",
       "/home/ir-shir1/rds/rds-iris-ip005/data/private/VISTA/VIDEO/20091203/v20091203_00226_st_tl.fit ...\n",
       "/home/ir-shir1/rds/rds-iris-ip005/data/private/VISTA/VIDEO/20100910/v20100910_00606_st_tl.fit ...\n",
       "/home/ir-shir1/rds/rds-iris-ip005/data/private/VISTA/VIDEO/20100910/v20100910_00561_st_tl.fit ..."
      ]
     },
     "execution_count": 13,
     "metadata": {},
     "output_type": "execute_result"
    }
   ],
   "source": [
    "video_ims[near_sxds][:5]"
   ]
  },
  {
   "cell_type": "code",
   "execution_count": 14,
   "metadata": {},
   "outputs": [
    {
     "name": "stderr",
     "output_type": "stream",
     "text": [
      "WARNING: AstropyDeprecationWarning: ./data/sxds_tiles.csv already exists. Automatically overwriting ASCII files is deprecated. Use the argument 'overwrite=True' in the future. [astropy.io.ascii.ui]\n"
     ]
    }
   ],
   "source": [
    "video_ims[near_sxds].write('./data/sxds_tiles.csv')"
   ]
  },
  {
   "cell_type": "code",
   "execution_count": 15,
   "metadata": {},
   "outputs": [],
   "source": [
    "#For simplicity lets ingest all the images (They are only links and this stage is fast)\n",
    "#!mkdir data\n",
    "#!mkdir slurm\n",
    "#for date in date_list:\n",
    "#    #!ingestImages.py data /path/to/vista/{date}/*[0-9].fit #Exposures\n",
    "#    !ingestImages.py data /path/to/vista/{date}/*_st.fit #Stacks"
   ]
  },
  {
   "cell_type": "code",
   "execution_count": 16,
   "metadata": {},
   "outputs": [],
   "source": [
    "#date_list = ['20121122', '20171027'] #test dates\n",
    "date_list = np.unique(video_ims['date'][near_sxds])"
   ]
  },
  {
   "cell_type": "code",
   "execution_count": 17,
   "metadata": {},
   "outputs": [],
   "source": [
    "date_list = [date[0:4]+'-'+date[4:6]+'-'+date[6:9] for date in date_list]"
   ]
  },
  {
   "cell_type": "code",
   "execution_count": 18,
   "metadata": {},
   "outputs": [
    {
     "data": {
      "text/plain": [
       "['2009-11-05',\n",
       " '2009-11-06',\n",
       " '2009-12-03',\n",
       " '2009-12-04',\n",
       " '2009-12-20',\n",
       " '2009-12-21',\n",
       " '2009-12-22',\n",
       " '2009-12-24',\n",
       " '2009-12-29',\n",
       " '2010-01-03',\n",
       " '2010-01-12',\n",
       " '2010-01-16',\n",
       " '2010-01-17',\n",
       " '2010-01-26',\n",
       " '2010-01-28',\n",
       " '2010-01-29',\n",
       " '2010-01-30',\n",
       " '2010-01-31',\n",
       " '2010-02-02',\n",
       " '2010-08-15',\n",
       " '2010-08-24',\n",
       " '2010-09-09',\n",
       " '2010-09-10',\n",
       " '2010-09-11',\n",
       " '2010-09-13',\n",
       " '2010-09-14',\n",
       " '2010-09-15',\n",
       " '2010-09-19',\n",
       " '2010-09-20',\n",
       " '2010-09-22',\n",
       " '2010-09-23',\n",
       " '2010-12-19',\n",
       " '2010-12-20',\n",
       " '2010-12-22',\n",
       " '2010-12-27',\n",
       " '2011-10-02',\n",
       " '2011-10-08',\n",
       " '2011-11-04',\n",
       " '2011-11-05',\n",
       " '2011-11-15',\n",
       " '2011-11-24',\n",
       " '2011-11-26',\n",
       " '2012-09-16',\n",
       " '2012-10-17',\n",
       " '2012-10-18',\n",
       " '2012-10-21',\n",
       " '2012-11-02',\n",
       " '2012-11-03',\n",
       " '2012-11-08',\n",
       " '2012-11-17',\n",
       " '2012-11-21',\n",
       " '2012-11-22',\n",
       " '2012-11-27',\n",
       " '2012-11-29',\n",
       " '2012-11-30',\n",
       " '2012-12-01',\n",
       " '2012-12-02',\n",
       " '2012-12-03',\n",
       " '2012-12-04',\n",
       " '2012-12-05',\n",
       " '2012-12-06',\n",
       " '2013-11-07',\n",
       " '2013-11-12',\n",
       " '2013-11-27',\n",
       " '2013-11-30',\n",
       " '2013-12-05',\n",
       " '2013-12-07',\n",
       " '2013-12-09',\n",
       " '2013-12-10',\n",
       " '2013-12-17',\n",
       " '2013-12-18',\n",
       " '2013-12-19',\n",
       " '2013-12-20',\n",
       " '2013-12-23',\n",
       " '2013-12-26',\n",
       " '2013-12-27',\n",
       " '2013-12-29',\n",
       " '2013-12-30',\n",
       " '2013-12-31',\n",
       " '2014-01-02',\n",
       " '2014-01-03',\n",
       " '2014-08-29',\n",
       " '2014-09-25',\n",
       " '2014-09-27',\n",
       " '2014-10-06',\n",
       " '2014-11-02',\n",
       " '2014-11-15',\n",
       " '2014-11-18',\n",
       " '2014-11-19',\n",
       " '2014-11-21',\n",
       " '2014-11-22',\n",
       " '2014-11-23',\n",
       " '2014-11-25',\n",
       " '2014-11-26',\n",
       " '2014-11-27',\n",
       " '2014-11-28',\n",
       " '2014-11-29',\n",
       " '2014-11-30']"
      ]
     },
     "execution_count": 18,
     "metadata": {},
     "output_type": "execute_result"
    }
   ],
   "source": [
    "date_list"
   ]
  },
  {
   "cell_type": "markdown",
   "metadata": {},
   "source": [
    "## 2 Process CCDs\n",
    "\n",
    "This stage is parallelised accroding to the raw files ingested. We are going to make one job per date"
   ]
  },
  {
   "cell_type": "code",
   "execution_count": 19,
   "metadata": {},
   "outputs": [],
   "source": [
    "slurm_template= \"\"\"\n",
    "#!/bin/bash\n",
    "#!\n",
    "#! Example SLURM job script for Peta4-Skylake (Skylake CPUs, OPA)\n",
    "#! Last updated: Mon 13 Nov 12:25:17 GMT 2017\n",
    "#!\n",
    "\n",
    "#!#############################################################\n",
    "#!#### Modify the options in this section as appropriate ######\n",
    "#!#############################################################\n",
    "\n",
    "#! sbatch directives begin here ###############################\n",
    "#! Name of the job:\n",
    "#SBATCH -J {job_name}\n",
    "#! Which project should be charged:\n",
    "#SBATCH -A IRIS-IP005-CPU\n",
    "#! How many whole nodes should be allocated?\n",
    "#SBATCH --nodes=1\n",
    "#! How many (MPI) tasks will there be in total? (<= nodes*32)\n",
    "#! The skylake/skylake-himem nodes have 32 CPUs (cores) each.\n",
    "#SBATCH --ntasks=1\n",
    "#! How much wallclock time will be required?\n",
    "#SBATCH --time=36:00:00\n",
    "#! What types of email messages do you wish to receive?\n",
    "#SBATCH --mail-type=FAIL\n",
    "#! Uncomment this to prevent the job from being requeued (e.g. if\n",
    "#! interrupted by node failure or system downtime):\n",
    "##SBATCH --no-requeue\n",
    "\n",
    "#! For 6GB per CPU, set \"-p skylake\"; for 12GB per CPU, set \"-p skylake-himem\": \n",
    "#SBATCH -p skylake\n",
    "\n",
    "#! sbatch directives end here (put any additional directives above this line)\n",
    "\n",
    "#! Notes:\n",
    "#! Charging is determined by core number*walltime.\n",
    "#! The --ntasks value refers to the number of tasks to be launched by SLURM only. This\n",
    "#! usually equates to the number of MPI tasks launched. Reduce this from nodes*32 if\n",
    "#! demanded by memory requirements, or if OMP_NUM_THREADS>1.\n",
    "#! Each task is allocated 1 core by default, and each core is allocated 5980MB (skylake)\n",
    "#! and 12030MB (skylake-himem). If this is insufficient, also specify\n",
    "#! --cpus-per-task and/or --mem (the latter specifies MB per node).\n",
    "\n",
    "#! Number of nodes and tasks per node allocated by SLURM (do not change):\n",
    "numnodes=$SLURM_JOB_NUM_NODES\n",
    "numtasks=$SLURM_NTASKS\n",
    "mpi_tasks_per_node=$(echo \"$SLURM_TASKS_PER_NODE\" | sed -e  's/^\\([0-9][0-9]*\\).*$/\\1/')\n",
    "#! ############################################################\n",
    "#! Modify the settings below to specify the application's environment, location \n",
    "#! and launch method:\n",
    "\n",
    "#! Optionally modify the environment seen by the application\n",
    "#! (note that SLURM reproduces the environment at submission irrespective of ~/.bashrc):\n",
    ". /etc/profile.d/modules.sh                # Leave this line (enables the module command)\n",
    "module purge                               # Removes all modules still loaded\n",
    "module load rhel7/default-peta4            # REQUIRED - loads the basic environment\n",
    "\n",
    "#! Insert additional module load commands after this line if needed:\n",
    "\n",
    "#! Full path to application executable: \n",
    "application=\"{sh_name}\"\n",
    "\n",
    "#! Run options for the application:\n",
    "options=\"\"\n",
    "\n",
    "#! Work directory (i.e. where the job will run):\n",
    "workdir=\"$SLURM_SUBMIT_DIR\"  # The value of SLURM_SUBMIT_DIR sets workdir to the directory\n",
    "                             # in which sbatch is run.\n",
    "\n",
    "#! Are you using OpenMP (NB this is unrelated to OpenMPI)? If so increase this\n",
    "#! safe value to no more than 32:\n",
    "export OMP_NUM_THREADS=1\n",
    "\n",
    "#! Number of MPI tasks to be started by the application per node and in total (do not change):\n",
    "np=$[${{numnodes}}*${{mpi_tasks_per_node}}]\n",
    "\n",
    "#! The following variables define a sensible pinning strategy for Intel MPI tasks -\n",
    "#! this should be suitable for both pure MPI and hybrid MPI/OpenMP jobs:\n",
    "export I_MPI_PIN_DOMAIN=omp:compact # Domains are $OMP_NUM_THREADS cores in size\n",
    "export I_MPI_PIN_ORDER=scatter # Adjacent domains have minimal sharing of caches/sockets\n",
    "#! Notes:\n",
    "#! 1. These variables influence Intel MPI only.\n",
    "#! 2. Domains are non-overlapping sets of cores which map 1-1 to MPI tasks.\n",
    "#! 3. I_MPI_PIN_PROCESSOR_LIST is ignored if I_MPI_PIN_DOMAIN is set.\n",
    "#! 4. If MPI tasks perform better when sharing caches/sockets, try I_MPI_PIN_ORDER=compact.\n",
    "\n",
    "\n",
    "#! Uncomment one choice for CMD below (add mpirun/mpiexec options if necessary):\n",
    "\n",
    "#! Choose this for a MPI code (possibly using OpenMP) using Intel MPI.\n",
    "CMD=\"mpirun -ppn $mpi_tasks_per_node -np $np $application $options\"\n",
    "\n",
    "#! Choose this for a pure shared-memory OpenMP parallel program on a single node:\n",
    "#! (OMP_NUM_THREADS threads will be created):\n",
    "#CMD=\"$application $options\"\n",
    "\n",
    "#! Choose this for a MPI code (possibly using OpenMP) using OpenMPI:\n",
    "#CMD=\"mpirun -npernode $mpi_tasks_per_node -np $np $application $options\"\n",
    "\n",
    "\n",
    "###############################################################\n",
    "### You should not have to change anything below this line ####\n",
    "###############################################################\n",
    "\n",
    "cd $workdir\n",
    "echo -e \"Changed directory to `pwd`.\\n\"\n",
    "\n",
    "JOBID=$SLURM_JOB_ID\n",
    "\n",
    "echo -e \"JobID: $JOBID\\n======\"\n",
    "echo \"Time: `date`\"\n",
    "echo \"Running on master node: `hostname`\"\n",
    "echo \"Current directory: `pwd`\"\n",
    "\n",
    "if [ \"$SLURM_JOB_NODELIST\" ]; then\n",
    "        #! Create a machine file:\n",
    "        export NODEFILE=`generate_pbs_nodefile`\n",
    "        cat $NODEFILE | uniq > machine.file.$JOBID\n",
    "        echo -e \"\\nNodes allocated:\\n================\"\n",
    "        echo `cat machine.file.$JOBID | sed -e 's/\\..*$//g'`\n",
    "fi\n",
    "\n",
    "echo -e \"\\nnumtasks=$numtasks, numnodes=$numnodes, mpi_tasks_per_node=$mpi_tasks_per_node (OMP_NUM_THREADS=$OMP_NUM_THREADS)\"\n",
    "\n",
    "echo -e \"\\nExecuting command:\\n==================\\n$CMD\\n\"\n",
    "\n",
    "eval $CMD \n",
    "\n",
    "\"\"\""
   ]
  },
  {
   "cell_type": "code",
   "execution_count": 20,
   "metadata": {},
   "outputs": [],
   "source": [
    "sh_template = \"\"\"\n",
    "!/bin/bash\n",
    "source /rfs/project/rfs-L33A9wsNuJk/shared/lsst_stack/loadLSST.bash\n",
    "setup lsst_distrib\n",
    "setup obs_vista\n",
    "processCcd.py ../data --rerun processCcdOutputs --id obsDate={obsDate}\n",
    "\"\"\""
   ]
  },
  {
   "cell_type": "code",
   "execution_count": 21,
   "metadata": {},
   "outputs": [],
   "source": [
    "\n",
    "for date in date_list:\n",
    "    sh_name = \"./slurm/processCcd_{}.sh\".format(date)\n",
    "    f_sh = open(sh_name, \"a\")\n",
    "    f_sh.write(sh_template.format(obsDate=date))\n",
    "    f_sh.close()\n",
    "    f_slurm = open(\"./slurm/processCcd_{}.slurm\".format(date), \"a\")\n",
    "    f_slurm.write(slurm_template.format(\n",
    "        job_name=\"processCcd_{}\".format(date),\n",
    "        sh_name=sh_name\n",
    "        \n",
    "    ))\n",
    "    f_slurm.close()\n"
   ]
  },
  {
   "cell_type": "code",
   "execution_count": 22,
   "metadata": {},
   "outputs": [],
   "source": [
    "#We can now submit these after the processCcd has run with\n",
    "#qsub ./slurm/processCcd*.slurm"
   ]
  },
  {
   "cell_type": "markdown",
   "metadata": {},
   "source": [
    "## 3 Run full patch\n",
    "Make one shell script and slurm script for each patch"
   ]
  },
  {
   "cell_type": "code",
   "execution_count": 23,
   "metadata": {},
   "outputs": [],
   "source": [
    "#HSC preprocessed files must be copied into place\n",
    "#!cp /Users/rs548/GitHub/lsst-ir-fusion/dmu0/dmu0_HSC/data/hsc-release.mtk.nao.ac.jp/archive/filetree/pdr2_dud/deepCoadd-results/HSC-R data/rerun/coaddPhot/deepCoadd-results/HSC-R\n"
   ]
  },
  {
   "cell_type": "code",
   "execution_count": 24,
   "metadata": {},
   "outputs": [],
   "source": [
    "patch_sh_template = \"\"\"\n",
    "!/bin/bash\n",
    "source /rfs/project/rfs-L33A9wsNuJk/shared/lsst_stack/loadLSST.bash\n",
    "setup lsst_distrib\n",
    "setup obs_vista\n",
    "#makeCoaddTempExp.py data --rerun coadd --selectId filter=VISTA-Y --id filter=VISTA-Y tract={tract} patch={patch} \n",
    "#makeCoaddTempExp.py data --rerun coadd --selectId filter=VISTA-Ks --id filter=VISTA-J tract={tract} patch={patch} \n",
    "#makeCoaddTempExp.py data --rerun coadd --selectId filter=VISTA-Y --id filter=VISTA-H tract={tract} patch={patch} \n",
    "makeCoaddTempExp.py data --rerun coadd --selectId filter=VISTA-Ks --id filter=VISTA-Ks tract={tract} patch={patch} \n",
    "\n",
    "#assembleCoadd.py data --rerun coadd --selectId filter=VISTA-Y --id filter=VISTA-Y tract={tract} patch={patch}\n",
    "#assembleCoadd.py data --rerun coadd --selectId filter=VISTA-Ks --id filter=VISTA-J tract={tract} patch={patch}\n",
    "#assembleCoadd.py data --rerun coadd --selectId filter=VISTA-Y --id filter=VISTA-H tract={tract} patch={patch}\n",
    "assembleCoadd.py data --rerun coadd --selectId filter=VISTA-Ks --id filter=VISTA-Ks tract={tract} patch={patch}\n",
    "\n",
    "#detectCoaddSources.py data --rerun coadd:coaddPhot --id filter=VISTA-Y tract={tract} patch={patch}\n",
    "#detectCoaddSources.py data --rerun coadd:coaddPhot --id filter=VISTA-J tract={tract} patch={patch}\n",
    "#detectCoaddSources.py data --rerun coadd:coaddPhot --id filter=VISTA-H tract={tract} patch={patch}\n",
    "detectCoaddSources.py data --rerun coadd:coaddPhot --id filter=VISTA-Ks tract={tract} patch={patch}\n",
    "\n",
    "#HSC files must be copied - Which bands to merge detections from?\n",
    "#mergeCoaddDetections.py data --rerun coaddPhot --id filter=VISTA-Y^VISTA-J^VISTA-H^VISTA-Ks^HSC-G^HSC-R^HSC-I^HSC-Z^HSC-Y tract={tract} patch={patches}\n",
    "mergeCoaddDetections.py data --rerun coaddPhot --id filter=VISTA-Ks tract={tract} patch={patches}\n",
    "\n",
    "#deblendCoaddSources.py data --rerun coaddPhot --id filter=VISTA-Y tract={tract} patch={patch}\n",
    "#deblendCoaddSources.py data --rerun coaddPhot --id filter=VISTA-J tract={tract} patch={patch}\n",
    "#deblendCoaddSources.py data --rerun coaddPhot --id filter=VISTA-H tract={tract} patch={patch}\n",
    "deblendCoaddSources.py data --rerun coaddPhot --id filter=VISTA-Ks tract={tract} patch={patch}\n",
    "#deblendCoaddSources.py data --rerun coaddPhot --id filter=HSC-G tract={tract} patch={patch}\n",
    "#deblendCoaddSources.py data --rerun coaddPhot --id filter=HSC-R tract={tract} patch={patch}\n",
    "#deblendCoaddSources.py data --rerun coaddPhot --id filter=HSC-I tract={tract} patch={patch}\n",
    "#deblendCoaddSources.py data --rerun coaddPhot --id filter=HSC-Z tract={tract} patch={patch}\n",
    "#deblendCoaddSources.py data --rerun coaddPhot --id filter=HSC-Y tract={tract} patch={patch}\n",
    "\n",
    "#measureCoaddSources.py data --rerun coaddPhot --id filter=VISTA-Y tract={tract} patch={patch}\n",
    "#measureCoaddSources.py data --rerun coaddPhot --id filter=VISTA-J tract={tract} patch={patch}\n",
    "#measureCoaddSources.py data --rerun coaddPhot --id filter=VISTA-H tract={tract} patch={patch}\n",
    "measureCoaddSources.py data --rerun coaddPhot --id filter=VISTA-Ks tract={tract} patch={patch}\n",
    "#measureCoaddSources.py data --rerun coaddPhot --id filter=HSC-G tract={tract} patch={patch}\n",
    "#measureCoaddSources.py data --rerun coaddPhot --id filter=HSC-R tract={tract} patch={patch}\n",
    "#measureCoaddSources.py data --rerun coaddPhot --id filter=HSC-I tract={tract} patch={patch}\n",
    "#measureCoaddSources.py data --rerun coaddPhot --id filter=HSC-Z tract={tract} patch={patch}\n",
    "#measureCoaddSources.py data --rerun coaddPhot --id filter=HSC-Y tract={tract} patch={patch}\n",
    "\n",
    "mergeCoaddMeasurements.py data --rerun coaddPhot --id filter=VISTA-Ks tract={tract} patch={patch}\n",
    "\n",
    "#forcedPhotCoadd.py data --rerun coaddPhot:coaddForcedPhot --id filter=VISTA-Y tract={tract} patch={patch}\n",
    "forcedPhotCoadd.py data --rerun coaddForcedPhot --id filter=VISTA-Ks tract={tract} patch={patch}\n",
    "#forcedPhotCoadd.py data --rerun coaddForcedPhot --id filter=HSC-R tract={tract} patch={patch}\n",
    "\n",
    "\"\"\""
   ]
  },
  {
   "cell_type": "code",
   "execution_count": 25,
   "metadata": {},
   "outputs": [
    {
     "ename": "KeyError",
     "evalue": "'patches'",
     "output_type": "error",
     "traceback": [
      "\u001b[0;31m---------------------------------------------------------------------------\u001b[0m",
      "\u001b[0;31mKeyError\u001b[0m                                  Traceback (most recent call last)",
      "\u001b[0;32m<ipython-input-25-6630dd405e98>\u001b[0m in \u001b[0;36m<module>\u001b[0;34m\u001b[0m\n\u001b[1;32m      4\u001b[0m     \u001b[0msh_name\u001b[0m \u001b[0;34m=\u001b[0m \u001b[0;34m\"./slurm/runPhotoPipe_{}_{}.sh\"\u001b[0m\u001b[0;34m.\u001b[0m\u001b[0mformat\u001b[0m\u001b[0;34m(\u001b[0m\u001b[0mtract\u001b[0m\u001b[0;34m,\u001b[0m \u001b[0mpatch\u001b[0m\u001b[0;34m)\u001b[0m\u001b[0;34m\u001b[0m\u001b[0;34m\u001b[0m\u001b[0m\n\u001b[1;32m      5\u001b[0m     \u001b[0mf_sh\u001b[0m \u001b[0;34m=\u001b[0m \u001b[0mopen\u001b[0m\u001b[0;34m(\u001b[0m\u001b[0msh_name\u001b[0m\u001b[0;34m,\u001b[0m \u001b[0;34m\"a\"\u001b[0m\u001b[0;34m)\u001b[0m\u001b[0;34m\u001b[0m\u001b[0;34m\u001b[0m\u001b[0m\n\u001b[0;32m----> 6\u001b[0;31m     \u001b[0mf_sh\u001b[0m\u001b[0;34m.\u001b[0m\u001b[0mwrite\u001b[0m\u001b[0;34m(\u001b[0m\u001b[0mpatch_sh_template\u001b[0m\u001b[0;34m.\u001b[0m\u001b[0mformat\u001b[0m\u001b[0;34m(\u001b[0m\u001b[0mtract\u001b[0m\u001b[0;34m=\u001b[0m\u001b[0mtract\u001b[0m\u001b[0;34m,\u001b[0m \u001b[0mpatch\u001b[0m\u001b[0;34m=\u001b[0m\u001b[0mpatch\u001b[0m\u001b[0;34m)\u001b[0m\u001b[0;34m)\u001b[0m\u001b[0;34m\u001b[0m\u001b[0;34m\u001b[0m\u001b[0m\n\u001b[0m\u001b[1;32m      7\u001b[0m     \u001b[0mf_sh\u001b[0m\u001b[0;34m.\u001b[0m\u001b[0mclose\u001b[0m\u001b[0;34m(\u001b[0m\u001b[0;34m)\u001b[0m\u001b[0;34m\u001b[0m\u001b[0;34m\u001b[0m\u001b[0m\n\u001b[1;32m      8\u001b[0m     \u001b[0mf_slurm\u001b[0m \u001b[0;34m=\u001b[0m \u001b[0mopen\u001b[0m\u001b[0;34m(\u001b[0m\u001b[0;34m\"./slurm/processCcd_{}.slurm\"\u001b[0m\u001b[0;34m.\u001b[0m\u001b[0mformat\u001b[0m\u001b[0;34m(\u001b[0m\u001b[0mdate\u001b[0m\u001b[0;34m)\u001b[0m\u001b[0;34m,\u001b[0m \u001b[0;34m\"a\"\u001b[0m\u001b[0;34m)\u001b[0m\u001b[0;34m\u001b[0m\u001b[0;34m\u001b[0m\u001b[0m\n",
      "\u001b[0;31mKeyError\u001b[0m: 'patches'"
     ]
    }
   ],
   "source": [
    "\n",
    "for im in hsc_ims[in_sxds]:\n",
    "    tract = im['tract']\n",
    "    patch = im['patch']\n",
    "    sh_name = \"./slurm/runPhotoPipe_{}_{}.sh\".format(tract, patch)\n",
    "    f_sh = open(sh_name, \"a\")\n",
    "    f_sh.write(patch_sh_template.format(tract=tract, patch=patch))\n",
    "    f_sh.close()\n",
    "    f_slurm = open(\"./slurm/processCcd_{}.slurm\".format(date), \"a\")\n",
    "    f_slurm.write(slurm_template.format(\n",
    "        job_name=\"runPhotoPipe_{}_{}.sh\".format(tract, patch),\n",
    "        sh_name=sh_name\n",
    "        \n",
    "    ))\n",
    "    f_slurm.close()"
   ]
  },
  {
   "cell_type": "code",
   "execution_count": null,
   "metadata": {},
   "outputs": [],
   "source": [
    "#We can now submit these after the processCcd has run with\n",
    "#qsub ./slurm/patch*.slurm"
   ]
  }
 ],
 "metadata": {
  "kernelspec": {
   "display_name": "LSST",
   "language": "python",
   "name": "lsst"
  },
  "language_info": {
   "codemirror_mode": {
    "name": "ipython",
    "version": 3
   },
   "file_extension": ".py",
   "mimetype": "text/x-python",
   "name": "python",
   "nbconvert_exporter": "python",
   "pygments_lexer": "ipython3",
   "version": "3.7.6"
  }
 },
 "nbformat": 4,
 "nbformat_minor": 4
}
