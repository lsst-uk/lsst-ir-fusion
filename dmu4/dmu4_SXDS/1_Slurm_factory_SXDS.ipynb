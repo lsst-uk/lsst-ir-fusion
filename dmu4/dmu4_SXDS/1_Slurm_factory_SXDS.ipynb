{
 "cells": [
  {
   "cell_type": "markdown",
   "metadata": {},
   "source": [
    "# Make slurm files required to produce SXDS joint VISTA-HSC data product.\n",
    "\n",
    "In this notebook we will make all the slurm files required to run the whole VISTA-VIDEO HSC-DUD joint photometry pipeline.\n",
    "\n",
    "We need to find all the patches in the HSC imaging and produce a slurm pipeline file for every patch or group of patches.\n",
    "\n",
    "This will be a maximum of around 4 tracts * 91 patches per tract = 364 patches\n",
    "\n",
    "We will also need to set up the data directories including linking relevant reference catalogues and copying the required HSC data products which are already processed.\n",
    "\n",
    "NOTE: When running the array jobs I am using wildcards to map the index to a given shell script. This is dangerous if you have multiple versions of the slurm scripts as multiple files might have the id.\n",
    "\n",
    "The processing happens in broadly three stages determined by the inputs and outputs of jobs which dictate parellelisation.\n",
    "\n",
    "1. processCcd: inputs/outputs = VISTA images/ calexp ccd exposures. One file per VISTA fits image with 16 exposures/stacks.\n",
    "\n",
    "2. makeCoadd*: inputs/outputs = calexp ccd exposures/coadd patches. One file per patch which runs every night covering a given patch.\n",
    "\n",
    "3. detect etc: inputs/outputs = coadd patches/source catalogues on every patch. One file per patch.\n"
   ]
  },
  {
   "cell_type": "code",
   "execution_count": 1,
   "metadata": {},
   "outputs": [],
   "source": [
    "from astropy.table import Table, Column\n",
    "import numpy as np\n",
    "import glob\n",
    "import os\n",
    "import itertools"
   ]
  },
  {
   "cell_type": "code",
   "execution_count": 2,
   "metadata": {},
   "outputs": [],
   "source": [
    "HSC_LOC = '../../dmu0/dmu0_HSC/data'\n",
    "#WORK_DIR = '/home/ir-shir1/lsst-ir-fusion/dmu4/dmu4_SXDS'\n",
    "#WORK_DIR = os. getcwd()\n",
    "WORK_DIR = '/home/ir-shir1/rds/rds-iris-ip005/ras81/lsst-ir-fusion/dmu4/dmu4_SXDS'\n",
    "MAKE_INDIVIDUAL_SLURM=False"
   ]
  },
  {
   "cell_type": "code",
   "execution_count": 3,
   "metadata": {},
   "outputs": [],
   "source": [
    "video_ims = Table.read('../../dmu1/data/video_images_overview_20200820.csv')\n",
    "hsc_ims = Table.read('../../dmu1/data/hsc_images_overview.csv')"
   ]
  },
  {
   "cell_type": "code",
   "execution_count": 4,
   "metadata": {},
   "outputs": [],
   "source": [
    "tile_to_patch = Table.read('../../dmu1/data/video_tiles_tracts_patches_overview_20200820.csv')"
   ]
  },
  {
   "cell_type": "code",
   "execution_count": 5,
   "metadata": {},
   "outputs": [
    {
     "data": {
      "text/plain": [
       "137269"
      ]
     },
     "execution_count": 5,
     "metadata": {},
     "output_type": "execute_result"
    }
   ],
   "source": [
    "len(video_ims)"
   ]
  },
  {
   "cell_type": "markdown",
   "metadata": {},
   "source": [
    "## 1 Find all the relevant HSC SXDS patches and corresponding VIDEO images.\n",
    "\n",
    "The first stage is parallesised by ccd. We will create one job for every date. This should be small enough to fit in a 24hr job.\n",
    "\n",
    "### 1.1 Get the HSC DUD files in SXDS"
   ]
  },
  {
   "cell_type": "code",
   "execution_count": 6,
   "metadata": {},
   "outputs": [],
   "source": [
    "sxds_tracts = [8282,8283,8284,8523,8524,8525,8765,8766,8767] #manually got these from HSC DR2 pages\n",
    "hsc_bands = ['G', 'R', 'I', 'Z', 'Y']\n",
    "vista_bands = ['Y', 'J', 'H', 'Ks']"
   ]
  },
  {
   "cell_type": "code",
   "execution_count": 7,
   "metadata": {},
   "outputs": [],
   "source": [
    "hsc_ims['tract'] = [f.split('/')[14] for f in hsc_ims['file']]\n",
    "hsc_ims['patch'] = [f.split('/')[15] for f in hsc_ims['file']]\n",
    "hsc_ims['depth'] = [f.split('/')[11] for f in hsc_ims['file']]"
   ]
  },
  {
   "cell_type": "code",
   "execution_count": 8,
   "metadata": {},
   "outputs": [],
   "source": [
    "in_sxds = hsc_ims['depth'] == 'pdr2_dud' \n",
    "in_sxds &= np.isin([int(t) for t in hsc_ims['tract'] ],  sxds_tracts)"
   ]
  },
  {
   "cell_type": "code",
   "execution_count": 9,
   "metadata": {},
   "outputs": [
    {
     "data": {
      "text/plain": [
       "1629"
      ]
     },
     "execution_count": 9,
     "metadata": {},
     "output_type": "execute_result"
    }
   ],
   "source": [
    "np.sum(in_sxds)"
   ]
  },
  {
   "cell_type": "code",
   "execution_count": 10,
   "metadata": {},
   "outputs": [
    {
     "data": {
      "text/html": [
       "<i>Table length=5</i>\n",
       "<table id=\"table4571314256\" class=\"table-striped table-bordered table-condensed\">\n",
       "<thead><tr><th>file</th><th>ra_0_0</th><th>ra_0_y</th><th>ra_x_0</th><th>ra_x_y</th><th>dec_0_0</th><th>dec_0_y</th><th>dec_x_0</th><th>dec_x_y</th><th>size</th><th>hash</th><th>tract</th><th>patch</th><th>depth</th></tr></thead>\n",
       "<thead><tr><th>str164</th><th>float64</th><th>float64</th><th>float64</th><th>float64</th><th>float64</th><th>float64</th><th>float64</th><th>float64</th><th>int64</th><th>str32</th><th>str5</th><th>str3</th><th>str9</th></tr></thead>\n",
       "<tr><td>/home/ir-shir1/rds/rds-iris-ip005/data/public/HSC/hsc-release.mtk.nao.ac.jp/archive/filetree/pdr2_dud/deepCoadd-results/HSC-Z/8765/0,0/calexp-HSC-Z-8765-0,0.fits</td><td>35.057390881574044</td><td>35.05720789563249</td><td>34.865503651256965</td><td>34.86536233311517</td><td>-4.558457292032212</td><td>-4.367177057413561</td><td>-4.558655394587739</td><td>-4.367366830731112</td><td>210075840</td><td>93e4be0f6ccbf4f282001d491f830060</td><td>8765</td><td>0,0</td><td>pdr2_dud</td></tr>\n",
       "<tr><td>/home/ir-shir1/rds/rds-iris-ip005/data/public/HSC/hsc-release.mtk.nao.ac.jp/archive/filetree/pdr2_dud/deepCoadd-results/HSC-Z/8765/2,2/calexp-HSC-Z-8765-2,2.fits</td><td>34.68744599488356</td><td>34.687340888143005</td><td>34.490935877105265</td><td>34.49087447536722</td><td>-4.19018894495259</td><td>-3.9942041159656037</td><td>-4.190282501066741</td><td>-3.994293285659841</td><td>149581440</td><td>bb471cb691de84ed694a8179c780c4da</td><td>8765</td><td>2,2</td><td>pdr2_dud</td></tr>\n",
       "<tr><td>/home/ir-shir1/rds/rds-iris-ip005/data/public/HSC/hsc-release.mtk.nao.ac.jp/archive/filetree/pdr2_dud/deepCoadd-results/HSC-Z/8765/0,6/calexp-HSC-Z-8765-0,6.fits</td><td>35.05632532497644</td><td>35.05613835071305</td><td>34.864680733040856</td><td>34.864536334791445</td><td>-3.4433065839296444</td><td>-3.2473362428975334</td><td>-3.4434561168248923</td><td>-3.2474772402754106</td><td>64304640</td><td>bddc980e7d6fc6007a039863e628abad</td><td>8765</td><td>0,6</td><td>pdr2_dud</td></tr>\n",
       "<tr><td>/home/ir-shir1/rds/rds-iris-ip005/data/public/HSC/hsc-release.mtk.nao.ac.jp/archive/filetree/pdr2_dud/deepCoadd-results/HSC-Z/8765/1,3/calexp-HSC-Z-8765-1,3.fits</td><td>34.87444848193645</td><td>34.87430182037414</td><td>34.677990464977505</td><td>34.67788748292052</td><td>-4.003408172084183</td><td>-3.8074234215277722</td><td>-4.003542229270651</td><td>-3.807550898996197</td><td>130622400</td><td>28975127e02dcd2d11576f7aa3911d6b</td><td>8765</td><td>1,3</td><td>pdr2_dud</td></tr>\n",
       "<tr><td>/home/ir-shir1/rds/rds-iris-ip005/data/public/HSC/hsc-release.mtk.nao.ac.jp/archive/filetree/pdr2_dud/deepCoadd-results/HSC-Z/8765/3,0/calexp-HSC-Z-8765-3,0.fits</td><td>34.50041317080672</td><td>34.500351147036746</td><td>34.30381449491872</td><td>34.30379517560638</td><td>-4.558891715533787</td><td>-4.367593215541012</td><td>-4.558942620240526</td><td>-4.367641979954217</td><td>198616320</td><td>7939cb9d2256af91b2e55dbe826edacc</td><td>8765</td><td>3,0</td><td>pdr2_dud</td></tr>\n",
       "</table>"
      ],
      "text/plain": [
       "<Table length=5>\n",
       "                                                                               file                                                                               ...\n",
       "                                                                              str164                                                                              ...\n",
       "----------------------------------------------------------------------------------------------------------------------------------------------------------------- ...\n",
       "/home/ir-shir1/rds/rds-iris-ip005/data/public/HSC/hsc-release.mtk.nao.ac.jp/archive/filetree/pdr2_dud/deepCoadd-results/HSC-Z/8765/0,0/calexp-HSC-Z-8765-0,0.fits ...\n",
       "/home/ir-shir1/rds/rds-iris-ip005/data/public/HSC/hsc-release.mtk.nao.ac.jp/archive/filetree/pdr2_dud/deepCoadd-results/HSC-Z/8765/2,2/calexp-HSC-Z-8765-2,2.fits ...\n",
       "/home/ir-shir1/rds/rds-iris-ip005/data/public/HSC/hsc-release.mtk.nao.ac.jp/archive/filetree/pdr2_dud/deepCoadd-results/HSC-Z/8765/0,6/calexp-HSC-Z-8765-0,6.fits ...\n",
       "/home/ir-shir1/rds/rds-iris-ip005/data/public/HSC/hsc-release.mtk.nao.ac.jp/archive/filetree/pdr2_dud/deepCoadd-results/HSC-Z/8765/1,3/calexp-HSC-Z-8765-1,3.fits ...\n",
       "/home/ir-shir1/rds/rds-iris-ip005/data/public/HSC/hsc-release.mtk.nao.ac.jp/archive/filetree/pdr2_dud/deepCoadd-results/HSC-Z/8765/3,0/calexp-HSC-Z-8765-3,0.fits ..."
      ]
     },
     "execution_count": 10,
     "metadata": {},
     "output_type": "execute_result"
    }
   ],
   "source": [
    "hsc_ims[in_sxds][:5]"
   ]
  },
  {
   "cell_type": "code",
   "execution_count": 11,
   "metadata": {},
   "outputs": [],
   "source": [
    "full_patch_dict = {}\n",
    "for tract in sxds_tracts:\n",
    "    full_patch_dict[tract] = np.unique(np.array(hsc_ims[in_sxds & (hsc_ims['tract'] == str(tract))]['patch']))"
   ]
  },
  {
   "cell_type": "code",
   "execution_count": 12,
   "metadata": {},
   "outputs": [
    {
     "data": {
      "text/plain": [
       "{8282: array(['0,8'], dtype='<U3'),\n",
       " 8283: array(['0,8', '1,7', '1,8', '2,7', '2,8', '3,7', '3,8', '4,7', '4,8',\n",
       "        '5,7', '5,8', '6,7', '6,8', '7,7', '7,8', '8,8'], dtype='<U3'),\n",
       " 8284: array(['8,8'], dtype='<U3'),\n",
       " 8523: array(['0,1', '0,2', '0,3', '0,4', '0,5', '0,6', '0,7', '0,8', '1,1',\n",
       "        '1,2', '1,3', '1,4', '1,5', '1,6', '1,7', '1,8', '2,1', '2,2',\n",
       "        '2,3', '2,4', '2,5', '2,6', '2,7', '2,8', '3,1', '3,2', '3,3',\n",
       "        '3,4', '3,5', '3,6', '3,7', '3,8', '4,1', '4,2', '4,3', '4,4',\n",
       "        '4,5', '4,6', '4,7', '4,8', '5,2', '5,3', '5,4', '5,5', '5,6',\n",
       "        '5,7', '5,8', '6,3', '6,4', '6,5', '6,6', '6,7', '6,8', '7,3',\n",
       "        '7,4', '7,5', '7,6', '7,7', '7,8'], dtype='<U3'),\n",
       " 8524: array(['0,0', '0,1', '0,2', '0,3', '0,4', '0,5', '0,6', '0,7', '0,8',\n",
       "        '1,0', '1,1', '1,2', '1,3', '1,4', '1,5', '1,6', '1,7', '1,8',\n",
       "        '2,0', '2,1', '2,2', '2,3', '2,4', '2,5', '2,6', '2,7', '2,8',\n",
       "        '3,0', '3,1', '3,2', '3,3', '3,4', '3,5', '3,6', '3,7', '3,8',\n",
       "        '4,0', '4,1', '4,2', '4,3', '4,4', '4,5', '4,6', '4,7', '4,8',\n",
       "        '5,0', '5,1', '5,2', '5,3', '5,4', '5,5', '5,6', '5,7', '5,8',\n",
       "        '6,0', '6,1', '6,2', '6,3', '6,4', '6,5', '6,6', '6,7', '6,8',\n",
       "        '7,0', '7,1', '7,2', '7,3', '7,4', '7,5', '7,6', '7,7', '7,8',\n",
       "        '8,1', '8,2', '8,3', '8,4', '8,5', '8,6', '8,7', '8,8'],\n",
       "       dtype='<U3'),\n",
       " 8525: array(['1,6', '1,7', '1,8', '2,4', '2,5', '2,6', '2,7', '2,8', '3,4',\n",
       "        '3,5', '3,6', '3,7', '3,8', '4,4', '4,5', '4,6', '4,7', '4,8',\n",
       "        '5,4', '5,5', '5,6', '5,7', '5,8', '6,2', '6,3', '6,4', '6,5',\n",
       "        '6,6', '6,7', '6,8', '7,0', '7,1', '7,2', '7,3', '7,4', '7,5',\n",
       "        '7,6', '7,7', '7,8', '8,0', '8,1', '8,2', '8,3', '8,4', '8,5',\n",
       "        '8,6', '8,7', '8,8'], dtype='<U3'),\n",
       " 8765: array(['0,0', '0,1', '0,2', '0,3', '0,4', '0,5', '0,6', '1,0', '1,1',\n",
       "        '1,2', '1,3', '1,4', '1,5', '1,6', '2,0', '2,1', '2,2', '2,3',\n",
       "        '2,4', '3,0', '3,1', '3,2', '3,3', '4,0', '4,1', '4,2', '4,3',\n",
       "        '5,0', '5,1', '5,2', '5,3', '6,0', '6,1', '6,2', '7,0', '7,1'],\n",
       "       dtype='<U3'),\n",
       " 8766: array(['0,0', '0,1', '0,2', '0,3', '0,4', '0,5', '1,0', '1,1', '1,2',\n",
       "        '1,3', '1,4', '1,5', '1,6', '2,0', '2,1', '2,2', '2,3', '2,4',\n",
       "        '2,5', '2,6', '2,7', '3,0', '3,1', '3,2', '3,3', '3,4', '3,5',\n",
       "        '3,6', '3,7', '4,0', '4,1', '4,2', '4,3', '4,4', '4,5', '4,6',\n",
       "        '4,7', '5,0', '5,1', '5,2', '5,3', '5,4', '5,5', '5,6', '5,7',\n",
       "        '6,0', '6,1', '6,2', '6,3', '6,4', '6,5', '6,6', '6,7', '7,0',\n",
       "        '7,1', '7,2', '7,3', '7,4', '7,5', '7,6', '7,7', '8,0', '8,1',\n",
       "        '8,2', '8,3', '8,4', '8,5', '8,6'], dtype='<U3'),\n",
       " 8767: array(['1,0', '1,1', '1,2', '2,0', '2,1', '2,2', '2,3', '3,0', '3,1',\n",
       "        '3,2', '3,3', '3,4', '4,0', '4,1', '4,2', '4,3', '4,4', '4,5',\n",
       "        '5,0', '5,1', '5,2', '5,3', '5,4', '5,5', '6,0', '6,1', '6,2',\n",
       "        '6,3', '6,4', '6,5', '7,0', '7,1', '7,2', '7,3', '7,4', '7,5',\n",
       "        '8,0', '8,1', '8,2', '8,3', '8,4', '8,5'], dtype='<U3')}"
      ]
     },
     "execution_count": 12,
     "metadata": {},
     "output_type": "execute_result"
    }
   ],
   "source": [
    "full_patch_dict"
   ]
  },
  {
   "cell_type": "code",
   "execution_count": 13,
   "metadata": {},
   "outputs": [],
   "source": [
    "#sxds_tracts_patches = {sxds_tracts}\n",
    "#for t in sxds_tracts_patches:"
   ]
  },
  {
   "cell_type": "markdown",
   "metadata": {},
   "source": [
    "### 1.2 Find VIDEO images containing those patches\n",
    "\n",
    "To begin we simply find all tiles which contain the centres of any of those patches"
   ]
  },
  {
   "cell_type": "code",
   "execution_count": 14,
   "metadata": {},
   "outputs": [],
   "source": [
    "video_ims.add_column(Column(\n",
    "    data= [t.split('/')[-2] for t in video_ims['file']],\n",
    "    name='date'))"
   ]
  },
  {
   "cell_type": "code",
   "execution_count": 15,
   "metadata": {},
   "outputs": [],
   "source": [
    "video_ims.sort('date')"
   ]
  },
  {
   "cell_type": "code",
   "execution_count": 16,
   "metadata": {},
   "outputs": [
    {
     "data": {
      "text/plain": [
       "'00485'"
      ]
     },
     "execution_count": 16,
     "metadata": {},
     "output_type": "execute_result"
    }
   ],
   "source": [
    "'/home/ir-shir1/rds/rds-iris-ip005/data/private/VISTA/VIDEO/20140924/v20140924_00485.fit'.split('_')[-1].strip('_st_tl.fit')"
   ]
  },
  {
   "cell_type": "code",
   "execution_count": 17,
   "metadata": {},
   "outputs": [],
   "source": [
    "def fileToType(filename):\n",
    "    filetype = ''\n",
    "    types = {\n",
    "        'tile':'_tl.fit',\n",
    "        'stack':'_st.fit',\n",
    "    }\n",
    "    for k,v in types.items():\n",
    "        #print(k,v)\n",
    "        if filename.endswith(v):\n",
    "            filetype = k\n",
    "  \n",
    "    return filetype\n",
    "video_ims['type'] = [fileToType(f) for f in video_ims['file']]"
   ]
  },
  {
   "cell_type": "code",
   "execution_count": 18,
   "metadata": {},
   "outputs": [],
   "source": [
    "def fileToNumObs(filename):\n",
    "    \"Parse the file name to an obsNum\"\n",
    "    obsNum = filename.split('_')[1].strip('_st_tl_conf.fit')\n",
    "    return obsNum\n",
    "video_ims['numObs'] = [fileToNumObs(f) for f in video_ims['file']]"
   ]
  },
  {
   "cell_type": "code",
   "execution_count": 19,
   "metadata": {},
   "outputs": [],
   "source": [
    "def stackToPatchList(files, file, tile_to_patch):\n",
    "    \"\"\"Take a stack file and find the corresponding tile and patch list\"\"\"\n",
    "    tiles_on_date = files[\n",
    "        (files['date'] == file['date'])\n",
    "        &(files['type'] == 'tile')\n",
    "    ]\n",
    "    numObs = file['numObs']\n",
    "    #get the largest tile numObs below the stack/exposure numObs for the given date\n",
    "    try:\n",
    "        print(file['date'],numObs,tiles_on_date['numObs'])\n",
    "        tileNumObs = np.max([int(i) if (int(i) <= int(numObs)) else -99 for i in tiles_on_date['numObs']])\n",
    "        print(tileNumObs)\n",
    "        tile = '/home/ir-shir1/rds/rds-iris-ip005/data/private/VISTA/VIDEO/{}/v{}_{}_st_tl.fit'.format(\n",
    "            file['date'],\n",
    "            file['date'],\n",
    "            str(tileNumObs).zfill(5) # turn e.g. int 56 to '00056'\n",
    "        )\n",
    "        patches = tile_to_patch[tile_to_patch['file'] == tile]['tract_patch_json'][0]\n",
    "    except:\n",
    "        patches = ''\n",
    "    return patches\n",
    "#video_ims['tract_patch_json'] = [stackToPatchList(video_ims, i, tile_to_patch) for i in video_ims]\n",
    "#stackToPatchList(video_ims, video_ims[video_ims['tract_patch_json']==''][0], tile_to_patch)"
   ]
  },
  {
   "cell_type": "code",
   "execution_count": 20,
   "metadata": {},
   "outputs": [
    {
     "data": {
      "text/html": [
       "<i>Table length=5</i>\n",
       "<table id=\"table4910194896\" class=\"table-striped table-bordered table-condensed\">\n",
       "<thead><tr><th>file</th><th>ra</th><th>dec</th><th>ra_0_0</th><th>ra_0_y</th><th>ra_x_0</th><th>ra_x_y</th><th>dec_0_0</th><th>dec_0_y</th><th>dec_x_0</th><th>dec_x_y</th><th>filter</th><th>size</th><th>hash</th><th>date</th><th>type</th><th>numObs</th></tr></thead>\n",
       "<thead><tr><th>str98</th><th>float64</th><th>float64</th><th>float64</th><th>float64</th><th>float64</th><th>float64</th><th>float64</th><th>float64</th><th>float64</th><th>float64</th><th>str2</th><th>int64</th><th>str32</th><th>str8</th><th>str5</th><th>str5</th></tr></thead>\n",
       "<tr><td>/home/ir-shir1/rds/rds-iris-ip005/data/private/VISTA/VIDEO/20091103/v20091103_00325.fit</td><td>36.484021</td><td>-4.63957</td><td>36.98560193607373</td><td>36.986942820117136</td><td>36.7931357869821</td><td>36.7939859231928</td><td>-3.989920268987716</td><td>-4.181391042060536</td><td>-3.988834504192597</td><td>-4.1806173078937405</td><td>H</td><td>105491520</td><td>75436ffeaa57d1946019f75b5815e336</td><td>20091103</td><td></td><td>00325</td></tr>\n",
       "<tr><td>/home/ir-shir1/rds/rds-iris-ip005/data/private/VISTA/VIDEO/20091103/v20091103_00367.fit</td><td>36.481129</td><td>-4.63406</td><td>36.98912995651607</td><td>36.9904674970784</td><td>36.79666379317547</td><td>36.797510578766826</td><td>-3.990063823329973</td><td>-4.181534619671177</td><td>-3.988974713687807</td><td>-4.180757532137754</td><td>H</td><td>104114880</td><td>12892dcb4ba2851a599a378bdad98a7e</td><td>20091103</td><td></td><td>00367</td></tr>\n",
       "<tr><td>/home/ir-shir1/rds/rds-iris-ip005/data/private/VISTA/VIDEO/20091103/v20091103_00393.fit</td><td>36.568479</td><td>-4.81736</td><td>37.076494313244794</td><td>37.07786777023741</td><td>36.883984036560555</td><td>36.88486460760027</td><td>-4.173272093651579</td><td>-4.364742639305536</td><td>-4.1722175417765595</td><td>-4.364000209787858</td><td>H</td><td>106493760</td><td>9416474aa5111d45837d920283a7c1e9</td><td>20091103</td><td></td><td>00393</td></tr>\n",
       "<tr><td>/home/ir-shir1/rds/rds-iris-ip005/data/private/VISTA/VIDEO/20091103/v20091103_00369.fit</td><td>36.568346</td><td>-4.64697</td><td>37.07627589098966</td><td>37.07763727231611</td><td>36.88380657765256</td><td>36.884677089463565</td><td>-4.002906461016393</td><td>-4.194377090338556</td><td>-4.001841099562346</td><td>-4.193623812387667</td><td>H</td><td>103800960</td><td>ca08dee28bd6b37667a5438b7df7fe6c</td><td>20091103</td><td></td><td>00369</td></tr>\n",
       "<tr><td>/home/ir-shir1/rds/rds-iris-ip005/data/private/VISTA/VIDEO/20091103/v20091103_00386.fit</td><td>36.674412</td><td>-4.81858</td><td>37.182349181000326</td><td>37.18374611537194</td><td>36.989838489722416</td><td>36.99074256239558</td><td>-4.174430204796115</td><td>-4.365900581559266</td><td>-4.17339911824822</td><td>-4.365181677523936</td><td>H</td><td>106246080</td><td>02c12907c939625eab7f40e581583c99</td><td>20091103</td><td></td><td>00386</td></tr>\n",
       "</table>"
      ],
      "text/plain": [
       "<Table length=5>\n",
       "                                          file                                          ...\n",
       "                                         str98                                          ...\n",
       "--------------------------------------------------------------------------------------- ...\n",
       "/home/ir-shir1/rds/rds-iris-ip005/data/private/VISTA/VIDEO/20091103/v20091103_00325.fit ...\n",
       "/home/ir-shir1/rds/rds-iris-ip005/data/private/VISTA/VIDEO/20091103/v20091103_00367.fit ...\n",
       "/home/ir-shir1/rds/rds-iris-ip005/data/private/VISTA/VIDEO/20091103/v20091103_00393.fit ...\n",
       "/home/ir-shir1/rds/rds-iris-ip005/data/private/VISTA/VIDEO/20091103/v20091103_00369.fit ...\n",
       "/home/ir-shir1/rds/rds-iris-ip005/data/private/VISTA/VIDEO/20091103/v20091103_00386.fit ..."
      ]
     },
     "execution_count": 20,
     "metadata": {},
     "output_type": "execute_result"
    }
   ],
   "source": [
    "video_ims[:5]"
   ]
  },
  {
   "cell_type": "code",
   "execution_count": 21,
   "metadata": {},
   "outputs": [
    {
     "name": "stderr",
     "output_type": "stream",
     "text": [
      "/Users/rs548/GitHub/lsst_stack/conda/miniconda3-py37_4.8.2/envs/lsst-scipipe-1a1d771/lib/python3.7/site-packages/astropy/table/column.py:1020: RuntimeWarning: invalid value encountered in greater\n",
      "  result = getattr(super(), op)(other)\n",
      "/Users/rs548/GitHub/lsst_stack/conda/miniconda3-py37_4.8.2/envs/lsst-scipipe-1a1d771/lib/python3.7/site-packages/astropy/table/column.py:1020: RuntimeWarning: invalid value encountered in less\n",
      "  result = getattr(super(), op)(other)\n"
     ]
    }
   ],
   "source": [
    "#TODO make more sophisticated overlap tester. Use patches?\n",
    "#make list of patches for every tile?\n",
    "near_sxds = video_ims['type'] == 'stack'\n",
    "near_sxds &= video_ims['ra'] > 32 #generous bounding box for simplicity \n",
    "near_sxds &= video_ims['ra'] < 39\n",
    "near_sxds &= video_ims['dec'] > -8\n",
    "near_sxds &= video_ims['dec'] < -1\n",
    "#Just run Ks for now\n",
    "#near_sxds &= video_ims['filter'] == 'Ks'"
   ]
  },
  {
   "cell_type": "code",
   "execution_count": 22,
   "metadata": {},
   "outputs": [
    {
     "data": {
      "text/plain": [
       "5263"
      ]
     },
     "execution_count": 22,
     "metadata": {},
     "output_type": "execute_result"
    }
   ],
   "source": [
    "np.sum(near_sxds)"
   ]
  },
  {
   "cell_type": "code",
   "execution_count": 23,
   "metadata": {},
   "outputs": [
    {
     "data": {
      "text/html": [
       "<i>Table length=1</i>\n",
       "<table id=\"table4742539152\" class=\"table-striped table-bordered table-condensed\">\n",
       "<thead><tr><th>file</th><th>ra</th><th>dec</th><th>ra_0_0</th><th>ra_0_y</th><th>ra_x_0</th><th>ra_x_y</th><th>dec_0_0</th><th>dec_0_y</th><th>dec_x_0</th><th>dec_x_y</th><th>filter</th><th>size</th><th>hash</th><th>type</th><th>tract_patch_json</th></tr></thead>\n",
       "<thead><tr><th>str93</th><th>float64</th><th>float64</th><th>float64</th><th>float64</th><th>float64</th><th>float64</th><th>float64</th><th>float64</th><th>float64</th><th>float64</th><th>str2</th><th>int64</th><th>str32</th><th>str4</th><th>str631</th></tr></thead>\n",
       "<tr><td>/home/ir-shir1/rds/rds-iris-ip005/data/private/VISTA/VIDEO/20140924/v20140924_00444_st_tl.fit</td><td>35.429542</td><td>-4.72215</td><td>36.12993723683939</td><td>36.13433423332165</td><td>34.912894878395214</td><td>34.91462725348546</td><td>-4.072782101046067</td><td>-5.559458172880838</td><td>-4.07547203760631</td><td>-5.562153562881393</td><td>Y</td><td>148561920</td><td>ccef567359a9d3f1cef197b5b5dad958</td><td>tile</td><td>{&quot;8766&quot;:[[2,0],[2,1],[2,2],[3,0],[3,1],[3,2],[4,0],[4,1],[4,2],[5,0],[5,1],[5,2],[6,0],[6,1],[6,2],[7,0],[7,1],[7,2],[8,0],[8,1],[8,2]],&quot;8524&quot;:[[2,2],[2,3],[2,4],[2,5],[2,6],[2,7],[2,8],[3,2],[3,3],[3,4],[3,5],[3,6],[3,7],[3,8],[4,2],[4,3],[4,4],[4,5],[4,6],[4,7],[4,8],[5,2],[5,3],[5,4],[5,5],[5,6],[5,7],[5,8],[6,2],[6,3],[6,4],[6,5],[6,6],[6,7],[6,8],[7,2],[7,3],[7,4],[7,5],[7,6],[7,7],[7,8],[8,2],[8,3],[8,4],[8,5],[8,6],[8,7],[8,8]],&quot;8765&quot;:[[0,0],[0,1],[0,2]],&quot;8523&quot;:[[0,2],[0,3],[0,4],[0,5],[0,6],[0,7],[0,8]]}</td></tr>\n",
       "</table>"
      ],
      "text/plain": [
       "<Table length=1>\n",
       "                                             file                                             ...\n",
       "                                            str93                                             ...\n",
       "--------------------------------------------------------------------------------------------- ...\n",
       "/home/ir-shir1/rds/rds-iris-ip005/data/private/VISTA/VIDEO/20140924/v20140924_00444_st_tl.fit ..."
      ]
     },
     "execution_count": 23,
     "metadata": {},
     "output_type": "execute_result"
    }
   ],
   "source": [
    "tile_to_patch[:1]"
   ]
  },
  {
   "cell_type": "code",
   "execution_count": 24,
   "metadata": {},
   "outputs": [
    {
     "data": {
      "text/html": [
       "<i>Table length=5</i>\n",
       "<table id=\"table4571360080\" class=\"table-striped table-bordered table-condensed\">\n",
       "<thead><tr><th>file</th><th>ra</th><th>dec</th><th>ra_0_0</th><th>ra_0_y</th><th>ra_x_0</th><th>ra_x_y</th><th>dec_0_0</th><th>dec_0_y</th><th>dec_x_0</th><th>dec_x_y</th><th>filter</th><th>size</th><th>hash</th><th>date</th><th>type</th><th>numObs</th></tr></thead>\n",
       "<thead><tr><th>str98</th><th>float64</th><th>float64</th><th>float64</th><th>float64</th><th>float64</th><th>float64</th><th>float64</th><th>float64</th><th>float64</th><th>float64</th><th>str2</th><th>int64</th><th>str32</th><th>str8</th><th>str5</th><th>str5</th></tr></thead>\n",
       "<tr><td>/home/ir-shir1/rds/rds-iris-ip005/data/private/VISTA/VIDEO/20091103/v20091103_00326_st.fit</td><td>36.576012</td><td>-4.64</td><td>37.08823163355052</td><td>37.08995555636475</td><td>36.88482927617349</td><td>36.8859752930554</td><td>-3.987866954738439</td><td>-4.192091543332042</td><td>-3.9868182149356515</td><td>-4.191410879371404</td><td>H</td><td>86803200</td><td>2410d58d84a26f07f1010a1150313193</td><td>20091103</td><td>stack</td><td>00326</td></tr>\n",
       "<tr><td>/home/ir-shir1/rds/rds-iris-ip005/data/private/VISTA/VIDEO/20091103/v20091103_00361_st.fit</td><td>36.482612</td><td>-4.64011</td><td>36.99730036933133</td><td>36.99898264493762</td><td>36.79056354585063</td><td>36.79165308031856</td><td>-3.9879327432794103</td><td>-4.194323243877787</td><td>-3.986773049689245</td><td>-4.19354190751726</td><td>H</td><td>88784640</td><td>c33e62145d53d22e4d4a0981b0c9dca3</td><td>20091103</td><td>stack</td><td>00361</td></tr>\n",
       "<tr><td>/home/ir-shir1/rds/rds-iris-ip005/data/private/VISTA/VIDEO/20091103/v20091103_00391_st.fit</td><td>36.574512</td><td>-4.8233</td><td>37.090405452822694</td><td>37.09215343959273</td><td>36.88401211258498</td><td>36.88516715627871</td><td>-4.171965219831058</td><td>-4.378404636823602</td><td>-4.170908971603986</td><td>-4.377728217979376</td><td>H</td><td>90155520</td><td>9432149081dbbabdd2e49188b508d40a</td><td>20091103</td><td>stack</td><td>00391</td></tr>\n",
       "<tr><td>/home/ir-shir1/rds/rds-iris-ip005/data/private/VISTA/VIDEO/20091103/v20091103_00377_st.fit</td><td>36.666387</td><td>-4.64011</td><td>37.181911349666635</td><td>37.183711783195584</td><td>36.97552002531141</td><td>36.97672988686314</td><td>-3.9882754312027484</td><td>-4.194658362408524</td><td>-3.987245352372556</td><td>-4.194007866262817</td><td>H</td><td>89078400</td><td>0c264294d07d4ef68a6835523da85261</td><td>20091103</td><td>stack</td><td>00377</td></tr>\n",
       "<tr><td>/home/ir-shir1/rds/rds-iris-ip005/data/private/VISTA/VIDEO/20091103/v20091103_00333_st.fit</td><td>36.667887</td><td>-4.64001</td><td>37.180057354163154</td><td>37.181794976732</td><td>36.97657410259618</td><td>36.97773353926015</td><td>-3.9878357167901357</td><td>-4.192071768125217</td><td>-3.9868068960692162</td><td>-4.191411222306248</td><td>H</td><td>86955840</td><td>e7496362227fd6e1389172c145151696</td><td>20091103</td><td>stack</td><td>00333</td></tr>\n",
       "</table>"
      ],
      "text/plain": [
       "<Table length=5>\n",
       "                                           file                                            ...\n",
       "                                          str98                                            ...\n",
       "------------------------------------------------------------------------------------------ ...\n",
       "/home/ir-shir1/rds/rds-iris-ip005/data/private/VISTA/VIDEO/20091103/v20091103_00326_st.fit ...\n",
       "/home/ir-shir1/rds/rds-iris-ip005/data/private/VISTA/VIDEO/20091103/v20091103_00361_st.fit ...\n",
       "/home/ir-shir1/rds/rds-iris-ip005/data/private/VISTA/VIDEO/20091103/v20091103_00391_st.fit ...\n",
       "/home/ir-shir1/rds/rds-iris-ip005/data/private/VISTA/VIDEO/20091103/v20091103_00377_st.fit ...\n",
       "/home/ir-shir1/rds/rds-iris-ip005/data/private/VISTA/VIDEO/20091103/v20091103_00333_st.fit ..."
      ]
     },
     "execution_count": 24,
     "metadata": {},
     "output_type": "execute_result"
    }
   ],
   "source": [
    "video_ims[near_sxds][:5]"
   ]
  },
  {
   "cell_type": "code",
   "execution_count": 25,
   "metadata": {},
   "outputs": [
    {
     "name": "stderr",
     "output_type": "stream",
     "text": [
      "WARNING: AstropyDeprecationWarning: ./data/sxds_tiles.csv already exists. Automatically overwriting ASCII files is deprecated. Use the argument 'overwrite=True' in the future. [astropy.io.ascii.ui]\n"
     ]
    }
   ],
   "source": [
    "video_ims[near_sxds].write('./data/sxds_tiles.csv')"
   ]
  },
  {
   "cell_type": "code",
   "execution_count": 26,
   "metadata": {},
   "outputs": [],
   "source": [
    "#For simplicity lets ingest all the images (They are only links and this stage is fast)\n",
    "#!mkdir data\n",
    "#!mkdir slurm\n",
    "#!ingestImages.py data /home/ir-shir1/rds/rds-iris-ip005/data/private/VISTA/VIDEO/*/*_st.fit #Stacks\n",
    "#for date in date_list:\n",
    "#    #!ingestImages.py data /path/to/vista/{date}/*[0-9].fit #Exposures\n",
    "#    !ingestImages.py data /path/to/vista/{date}/*_st.fit #Stacks"
   ]
  },
  {
   "cell_type": "code",
   "execution_count": 27,
   "metadata": {},
   "outputs": [],
   "source": [
    "#date_list = ['20121122', '20171027'] #test dates\n",
    "date_list = np.unique(video_ims['date'][near_sxds])"
   ]
  },
  {
   "cell_type": "code",
   "execution_count": 28,
   "metadata": {},
   "outputs": [
    {
     "data": {
      "text/plain": [
       "8095"
      ]
     },
     "execution_count": 28,
     "metadata": {},
     "output_type": "execute_result"
    }
   ],
   "source": [
    "#Number of stack files in total tile date list\n",
    "np.sum(np.isin(video_ims['date'][video_ims['type'] == 'stack'], date_list))"
   ]
  },
  {
   "cell_type": "code",
   "execution_count": 29,
   "metadata": {},
   "outputs": [],
   "source": [
    "date_list = [date[0:4]+'-'+date[4:6]+'-'+date[6:9] for date in date_list]"
   ]
  },
  {
   "cell_type": "code",
   "execution_count": 30,
   "metadata": {},
   "outputs": [
    {
     "data": {
      "text/plain": [
       "['2009-11-03',\n",
       " '2009-11-04',\n",
       " '2009-11-05',\n",
       " '2009-11-06',\n",
       " '2009-11-07',\n",
       " '2009-11-08',\n",
       " '2009-11-10',\n",
       " '2009-11-11',\n",
       " '2009-11-12',\n",
       " '2009-11-13',\n",
       " '2009-11-16',\n",
       " '2009-11-17',\n",
       " '2009-12-03',\n",
       " '2009-12-04',\n",
       " '2009-12-05',\n",
       " '2009-12-06',\n",
       " '2009-12-07',\n",
       " '2009-12-08',\n",
       " '2009-12-09',\n",
       " '2009-12-10',\n",
       " '2009-12-11',\n",
       " '2009-12-12',\n",
       " '2009-12-15',\n",
       " '2009-12-16',\n",
       " '2009-12-17',\n",
       " '2009-12-20',\n",
       " '2009-12-21',\n",
       " '2009-12-22',\n",
       " '2009-12-24',\n",
       " '2009-12-29',\n",
       " '2010-01-03',\n",
       " '2010-01-04',\n",
       " '2010-01-07',\n",
       " '2010-01-08',\n",
       " '2010-01-12',\n",
       " '2010-01-16',\n",
       " '2010-01-17',\n",
       " '2010-01-26',\n",
       " '2010-01-28',\n",
       " '2010-01-29',\n",
       " '2010-01-30',\n",
       " '2010-01-31',\n",
       " '2010-02-02',\n",
       " '2010-07-21',\n",
       " '2010-07-24',\n",
       " '2010-07-27',\n",
       " '2010-07-28',\n",
       " '2010-08-04',\n",
       " '2010-08-05',\n",
       " '2010-08-07',\n",
       " '2010-08-08',\n",
       " '2010-08-14',\n",
       " '2010-08-15',\n",
       " '2010-08-16',\n",
       " '2010-08-17',\n",
       " '2010-08-19',\n",
       " '2010-08-24',\n",
       " '2010-08-25',\n",
       " '2010-08-26',\n",
       " '2010-09-09',\n",
       " '2010-09-10',\n",
       " '2010-09-11',\n",
       " '2010-09-13',\n",
       " '2010-09-14',\n",
       " '2010-09-15',\n",
       " '2010-09-19',\n",
       " '2010-09-20',\n",
       " '2010-09-21',\n",
       " '2010-09-22',\n",
       " '2010-09-23',\n",
       " '2010-10-05',\n",
       " '2010-10-07',\n",
       " '2010-10-08',\n",
       " '2010-10-09',\n",
       " '2010-10-14',\n",
       " '2010-10-15',\n",
       " '2010-10-17',\n",
       " '2010-10-18',\n",
       " '2010-10-19',\n",
       " '2010-10-26',\n",
       " '2010-10-29',\n",
       " '2010-11-01',\n",
       " '2010-11-02',\n",
       " '2010-11-06',\n",
       " '2010-11-07',\n",
       " '2010-11-09',\n",
       " '2010-11-26',\n",
       " '2010-11-27',\n",
       " '2010-11-28',\n",
       " '2010-12-01',\n",
       " '2010-12-03',\n",
       " '2010-12-04',\n",
       " '2010-12-06',\n",
       " '2010-12-07',\n",
       " '2010-12-08',\n",
       " '2010-12-09',\n",
       " '2010-12-10',\n",
       " '2010-12-19',\n",
       " '2010-12-20',\n",
       " '2010-12-21',\n",
       " '2010-12-22',\n",
       " '2010-12-27',\n",
       " '2011-01-05',\n",
       " '2011-01-06',\n",
       " '2011-01-08',\n",
       " '2011-01-23',\n",
       " '2011-01-24',\n",
       " '2011-07-24',\n",
       " '2011-08-03',\n",
       " '2011-08-04',\n",
       " '2011-08-05',\n",
       " '2011-08-06',\n",
       " '2011-08-08',\n",
       " '2011-08-09',\n",
       " '2011-08-25',\n",
       " '2011-08-29',\n",
       " '2011-08-30',\n",
       " '2011-08-31',\n",
       " '2011-09-02',\n",
       " '2011-09-06',\n",
       " '2011-09-24',\n",
       " '2011-09-25',\n",
       " '2011-09-27',\n",
       " '2011-10-01',\n",
       " '2011-10-02',\n",
       " '2011-10-03',\n",
       " '2011-10-04',\n",
       " '2011-10-05',\n",
       " '2011-10-08',\n",
       " '2011-10-19',\n",
       " '2011-10-20',\n",
       " '2011-10-22',\n",
       " '2011-10-24',\n",
       " '2011-10-25',\n",
       " '2011-10-27',\n",
       " '2011-10-28',\n",
       " '2011-10-29',\n",
       " '2011-10-30',\n",
       " '2011-10-31',\n",
       " '2011-11-01',\n",
       " '2011-11-02',\n",
       " '2011-11-03',\n",
       " '2011-11-04',\n",
       " '2011-11-05',\n",
       " '2011-11-06',\n",
       " '2011-11-15',\n",
       " '2011-11-17',\n",
       " '2011-11-18',\n",
       " '2011-11-20',\n",
       " '2011-11-22',\n",
       " '2011-11-24',\n",
       " '2011-11-25',\n",
       " '2011-11-26',\n",
       " '2011-11-27',\n",
       " '2011-11-29',\n",
       " '2011-12-01',\n",
       " '2011-12-19',\n",
       " '2011-12-31',\n",
       " '2012-07-07',\n",
       " '2012-07-17',\n",
       " '2012-07-22',\n",
       " '2012-07-23',\n",
       " '2012-08-21',\n",
       " '2012-08-24',\n",
       " '2012-08-27',\n",
       " '2012-08-30',\n",
       " '2012-09-07',\n",
       " '2012-09-10',\n",
       " '2012-09-12',\n",
       " '2012-09-13',\n",
       " '2012-09-16',\n",
       " '2012-09-19',\n",
       " '2012-09-20',\n",
       " '2012-09-21',\n",
       " '2012-09-24',\n",
       " '2012-09-25',\n",
       " '2012-10-09',\n",
       " '2012-10-10',\n",
       " '2012-10-11',\n",
       " '2012-10-14',\n",
       " '2012-10-15',\n",
       " '2012-10-17',\n",
       " '2012-10-18',\n",
       " '2012-10-19',\n",
       " '2012-10-20',\n",
       " '2012-10-21',\n",
       " '2012-10-22',\n",
       " '2012-10-23',\n",
       " '2012-10-24',\n",
       " '2012-10-25',\n",
       " '2012-11-02',\n",
       " '2012-11-03',\n",
       " '2012-11-04',\n",
       " '2012-11-05',\n",
       " '2012-11-06',\n",
       " '2012-11-07',\n",
       " '2012-11-08',\n",
       " '2012-11-09',\n",
       " '2012-11-10',\n",
       " '2012-11-11',\n",
       " '2012-11-12',\n",
       " '2012-11-15',\n",
       " '2012-11-16',\n",
       " '2012-11-17',\n",
       " '2012-11-18',\n",
       " '2012-11-19',\n",
       " '2012-11-20',\n",
       " '2012-11-21',\n",
       " '2012-11-22',\n",
       " '2012-11-27',\n",
       " '2012-11-29',\n",
       " '2012-11-30',\n",
       " '2012-12-01',\n",
       " '2012-12-02',\n",
       " '2012-12-03',\n",
       " '2012-12-04',\n",
       " '2012-12-05',\n",
       " '2012-12-06',\n",
       " '2012-12-07',\n",
       " '2013-01-06',\n",
       " '2013-01-11',\n",
       " '2013-08-04',\n",
       " '2013-08-10',\n",
       " '2013-08-13',\n",
       " '2013-08-14',\n",
       " '2013-08-15',\n",
       " '2013-08-16',\n",
       " '2013-08-17',\n",
       " '2013-08-27',\n",
       " '2013-08-28',\n",
       " '2013-08-30',\n",
       " '2013-09-03',\n",
       " '2013-09-07',\n",
       " '2013-09-12',\n",
       " '2013-09-13',\n",
       " '2013-09-28',\n",
       " '2013-09-29',\n",
       " '2013-09-30',\n",
       " '2013-10-01',\n",
       " '2013-10-03',\n",
       " '2013-10-07',\n",
       " '2013-10-10',\n",
       " '2013-10-11',\n",
       " '2013-10-13',\n",
       " '2013-10-26',\n",
       " '2013-10-27',\n",
       " '2013-10-28',\n",
       " '2013-10-30',\n",
       " '2013-10-31',\n",
       " '2013-11-02',\n",
       " '2013-11-03',\n",
       " '2013-11-04',\n",
       " '2013-11-05',\n",
       " '2013-11-06',\n",
       " '2013-11-07',\n",
       " '2013-11-09',\n",
       " '2013-11-12',\n",
       " '2013-11-22',\n",
       " '2013-11-24',\n",
       " '2013-11-25',\n",
       " '2013-11-26',\n",
       " '2013-11-27',\n",
       " '2013-11-28',\n",
       " '2013-11-30',\n",
       " '2013-12-05',\n",
       " '2013-12-07',\n",
       " '2013-12-08',\n",
       " '2013-12-09',\n",
       " '2013-12-10',\n",
       " '2013-12-17',\n",
       " '2013-12-18',\n",
       " '2013-12-19',\n",
       " '2013-12-20',\n",
       " '2013-12-22',\n",
       " '2013-12-23',\n",
       " '2013-12-26',\n",
       " '2013-12-27',\n",
       " '2013-12-28',\n",
       " '2013-12-29',\n",
       " '2013-12-30',\n",
       " '2013-12-31',\n",
       " '2014-01-01',\n",
       " '2014-01-02',\n",
       " '2014-01-03',\n",
       " '2014-07-08',\n",
       " '2014-07-28',\n",
       " '2014-07-30',\n",
       " '2014-08-05',\n",
       " '2014-08-24',\n",
       " '2014-08-29',\n",
       " '2014-08-31',\n",
       " '2014-09-02',\n",
       " '2014-09-09',\n",
       " '2014-09-20',\n",
       " '2014-09-21',\n",
       " '2014-09-22',\n",
       " '2014-09-24',\n",
       " '2014-09-25',\n",
       " '2014-09-27',\n",
       " '2014-09-28',\n",
       " '2014-10-01',\n",
       " '2014-10-05',\n",
       " '2014-10-06',\n",
       " '2014-10-17',\n",
       " '2014-10-20',\n",
       " '2014-10-22',\n",
       " '2014-10-23',\n",
       " '2014-10-24',\n",
       " '2014-10-27',\n",
       " '2014-10-29',\n",
       " '2014-10-30',\n",
       " '2014-10-31',\n",
       " '2014-11-01',\n",
       " '2014-11-02',\n",
       " '2014-11-03',\n",
       " '2014-11-09',\n",
       " '2014-11-15',\n",
       " '2014-11-17',\n",
       " '2014-11-18',\n",
       " '2014-11-19',\n",
       " '2014-11-21',\n",
       " '2014-11-22',\n",
       " '2014-11-23',\n",
       " '2014-11-25',\n",
       " '2014-11-26',\n",
       " '2014-11-27',\n",
       " '2014-11-28',\n",
       " '2014-11-29',\n",
       " '2014-11-30',\n",
       " '2014-12-12',\n",
       " '2014-12-13',\n",
       " '2014-12-14',\n",
       " '2014-12-16',\n",
       " '2014-12-17',\n",
       " '2015-09-08',\n",
       " '2015-09-11',\n",
       " '2015-09-14',\n",
       " '2015-09-17',\n",
       " '2015-10-02',\n",
       " '2015-10-04',\n",
       " '2015-10-05',\n",
       " '2015-10-08',\n",
       " '2015-10-10',\n",
       " '2015-10-11',\n",
       " '2015-10-15',\n",
       " '2015-10-22',\n",
       " '2015-10-28',\n",
       " '2015-10-30',\n",
       " '2015-10-31',\n",
       " '2015-11-03',\n",
       " '2015-11-04',\n",
       " '2015-11-05',\n",
       " '2015-11-06',\n",
       " '2015-11-07',\n",
       " '2015-11-08',\n",
       " '2015-11-09',\n",
       " '2015-11-10',\n",
       " '2015-11-11',\n",
       " '2015-11-12',\n",
       " '2015-11-13',\n",
       " '2015-11-14',\n",
       " '2015-11-18',\n",
       " '2015-12-04',\n",
       " '2015-12-05',\n",
       " '2015-12-09',\n",
       " '2015-12-11',\n",
       " '2015-12-18',\n",
       " '2016-01-10',\n",
       " '2016-07-12',\n",
       " '2016-07-14',\n",
       " '2016-07-29',\n",
       " '2016-07-31',\n",
       " '2016-08-01',\n",
       " '2016-08-02',\n",
       " '2016-08-04',\n",
       " '2016-08-12',\n",
       " '2016-08-13',\n",
       " '2016-08-30',\n",
       " '2016-08-31',\n",
       " '2016-09-01',\n",
       " '2016-09-02',\n",
       " '2016-09-03',\n",
       " '2016-09-30',\n",
       " '2016-10-01',\n",
       " '2016-10-08',\n",
       " '2016-10-09',\n",
       " '2016-10-10',\n",
       " '2016-10-22',\n",
       " '2016-10-23',\n",
       " '2016-10-28',\n",
       " '2016-10-29',\n",
       " '2016-10-30',\n",
       " '2016-10-31',\n",
       " '2016-11-02',\n",
       " '2016-11-03',\n",
       " '2017-07-02',\n",
       " '2017-07-19',\n",
       " '2017-07-26',\n",
       " '2017-08-17',\n",
       " '2017-08-18',\n",
       " '2017-08-20',\n",
       " '2017-08-21',\n",
       " '2017-08-22',\n",
       " '2017-08-25',\n",
       " '2017-08-29',\n",
       " '2017-08-30',\n",
       " '2017-08-31',\n",
       " '2017-09-15',\n",
       " '2017-09-18',\n",
       " '2017-09-19',\n",
       " '2017-09-20',\n",
       " '2017-09-21',\n",
       " '2017-09-22',\n",
       " '2017-09-23',\n",
       " '2017-09-24',\n",
       " '2017-09-27',\n",
       " '2017-09-28',\n",
       " '2017-10-17',\n",
       " '2017-10-18',\n",
       " '2017-10-19',\n",
       " '2017-10-20',\n",
       " '2017-10-21',\n",
       " '2017-10-22',\n",
       " '2017-10-23',\n",
       " '2017-10-24',\n",
       " '2017-10-25',\n",
       " '2017-10-26',\n",
       " '2017-10-27',\n",
       " '2017-11-07']"
      ]
     },
     "execution_count": 30,
     "metadata": {},
     "output_type": "execute_result"
    }
   ],
   "source": [
    "date_list"
   ]
  },
  {
   "cell_type": "markdown",
   "metadata": {},
   "source": [
    "## 2 Process CCDs\n",
    "\n",
    "This stage is parallelised accroding to the raw files ingested. We are going to make one job per date"
   ]
  },
  {
   "cell_type": "code",
   "execution_count": 31,
   "metadata": {},
   "outputs": [],
   "source": [
    "slurm_template= \"\"\"#!/bin/bash\n",
    "#!\n",
    "#! Example SLURM job script for Peta4-Skylake (Skylake CPUs, OPA)\n",
    "#! Last updated: Mon 13 Nov 12:25:17 GMT 2017\n",
    "#!\n",
    "\n",
    "#!#############################################################\n",
    "#!#### Modify the options in this section as appropriate ######\n",
    "#!#############################################################\n",
    "\n",
    "#! sbatch directives begin here ###############################\n",
    "#! Name of the job:\n",
    "#SBATCH -J {job_name}\n",
    "#! Which project should be charged:\n",
    "#SBATCH -A IRIS-IP005-CPU\n",
    "#! How many whole nodes should be allocated?\n",
    "#SBATCH --nodes=1\n",
    "#! How many (MPI) tasks will there be in total? (<= nodes*32)\n",
    "#! The skylake/skylake-himem nodes have 32 CPUs (cores) each.\n",
    "#SBATCH --ntasks=1\n",
    "#! How much wallclock time will be required?\n",
    "#SBATCH --time={hours}:00:00\n",
    "#! What types of email messages do you wish to receive?\n",
    "#SBATCH --mail-type=FAIL\n",
    "#! Uncomment this to prevent the job from being requeued (e.g. if\n",
    "#! interrupted by node failure or system downtime):\n",
    "##SBATCH --no-requeue\n",
    "\n",
    "#! For 6GB per CPU, set \"-p skylake\"; for 12GB per CPU, set \"-p skylake-himem\": \n",
    "#SBATCH -p skylake\n",
    "\n",
    "#! sbatch directives end here (put any additional directives above this line)\n",
    "\n",
    "#! Notes:\n",
    "#! Charging is determined by core number*walltime.\n",
    "#! The --ntasks value refers to the number of tasks to be launched by SLURM only. This\n",
    "#! usually equates to the number of MPI tasks launched. Reduce this from nodes*32 if\n",
    "#! demanded by memory requirements, or if OMP_NUM_THREADS>1.\n",
    "#! Each task is allocated 1 core by default, and each core is allocated 5980MB (skylake)\n",
    "#! and 12030MB (skylake-himem). If this is insufficient, also specify\n",
    "#! --cpus-per-task and/or --mem (the latter specifies MB per node).\n",
    "\n",
    "#! Number of nodes and tasks per node allocated by SLURM (do not change):\n",
    "numnodes=$SLURM_JOB_NUM_NODES\n",
    "numtasks=$SLURM_NTASKS\n",
    "mpi_tasks_per_node=$(echo \"$SLURM_TASKS_PER_NODE\" | sed -e  's/^\\([0-9][0-9]*\\).*$/\\\\1/')\n",
    "#! ############################################################\n",
    "#! Modify the settings below to specify the application's environment, location \n",
    "#! and launch method:\n",
    "\n",
    "#! Optionally modify the environment seen by the application\n",
    "#! (note that SLURM reproduces the environment at submission irrespective of ~/.bashrc):\n",
    ". /etc/profile.d/modules.sh                # Leave this line (enables the module command)\n",
    "module purge                               # Removes all modules still loaded\n",
    "module load rhel7/default-peta4            # REQUIRED - loads the basic environment\n",
    "\n",
    "#! Insert additional module load commands after this line if needed:\n",
    "\n",
    "#! Full path to application executable: \n",
    "application=\"{sh_name}\"\n",
    "\n",
    "#! Run options for the application:\n",
    "options=\"\"\n",
    "\n",
    "#! Work directory (i.e. where the job will run):\n",
    "workdir=\"$SLURM_SUBMIT_DIR\"  # The value of SLURM_SUBMIT_DIR sets workdir to the directory\n",
    "                             # in which sbatch is run.\n",
    "\n",
    "#! Are you using OpenMP (NB this is unrelated to OpenMPI)? If so increase this\n",
    "#! safe value to no more than 32:\n",
    "export OMP_NUM_THREADS=1\n",
    "\n",
    "#! Number of MPI tasks to be started by the application per node and in total (do not change):\n",
    "np=$[${{numnodes}}*${{mpi_tasks_per_node}}]\n",
    "\n",
    "#! The following variables define a sensible pinning strategy for Intel MPI tasks -\n",
    "#! this should be suitable for both pure MPI and hybrid MPI/OpenMP jobs:\n",
    "export I_MPI_PIN_DOMAIN=omp:compact # Domains are $OMP_NUM_THREADS cores in size\n",
    "export I_MPI_PIN_ORDER=scatter # Adjacent domains have minimal sharing of caches/sockets\n",
    "#! Notes:\n",
    "#! 1. These variables influence Intel MPI only.\n",
    "#! 2. Domains are non-overlapping sets of cores which map 1-1 to MPI tasks.\n",
    "#! 3. I_MPI_PIN_PROCESSOR_LIST is ignored if I_MPI_PIN_DOMAIN is set.\n",
    "#! 4. If MPI tasks perform better when sharing caches/sockets, try I_MPI_PIN_ORDER=compact.\n",
    "\n",
    "\n",
    "#! Uncomment one choice for CMD below (add mpirun/mpiexec options if necessary):\n",
    "\n",
    "#! Choose this for a MPI code (possibly using OpenMP) using Intel MPI.\n",
    "CMD=\"mpirun -ppn $mpi_tasks_per_node -np $np $application $options\"\n",
    "\n",
    "#! Choose this for a pure shared-memory OpenMP parallel program on a single node:\n",
    "#! (OMP_NUM_THREADS threads will be created):\n",
    "#CMD=\"$application $options\"\n",
    "\n",
    "#! Choose this for a MPI code (possibly using OpenMP) using OpenMPI:\n",
    "#CMD=\"mpirun -npernode $mpi_tasks_per_node -np $np $application $options\"\n",
    "\n",
    "\n",
    "###############################################################\n",
    "### You should not have to change anything below this line ####\n",
    "###############################################################\n",
    "\n",
    "cd $workdir\n",
    "echo -e \"Changed directory to `pwd`.\\n\"\n",
    "\n",
    "JOBID=$SLURM_JOB_ID\n",
    "\n",
    "echo -e \"JobID: $JOBID\\n======\"\n",
    "echo \"Time: `date`\"\n",
    "echo \"Running on master node: `hostname`\"\n",
    "echo \"Current directory: `pwd`\"\n",
    "\n",
    "if [ \"$SLURM_JOB_NODELIST\" ]; then\n",
    "        #! Create a machine file:\n",
    "        export NODEFILE=`generate_pbs_nodefile`\n",
    "        cat $NODEFILE | uniq > machine.file.$JOBID\n",
    "        echo -e \"\\nNodes allocated:\\n================\"\n",
    "        echo `cat machine.file.$JOBID | sed -e 's/\\..*$//g'`\n",
    "fi\n",
    "\n",
    "echo -e \"\\nnumtasks=$numtasks, numnodes=$numnodes, mpi_tasks_per_node=$mpi_tasks_per_node (OMP_NUM_THREADS=$OMP_NUM_THREADS)\"\n",
    "\n",
    "echo -e \"\\nExecuting command:\\n==================\\n$CMD\\n\"\n",
    "\n",
    "eval $CMD \n",
    "\n",
    "\"\"\""
   ]
  },
  {
   "cell_type": "code",
   "execution_count": 32,
   "metadata": {},
   "outputs": [],
   "source": [
    "slurm_array_template=\"\"\"#!/bin/bash\n",
    "#! This line is a comment\n",
    "#! Make sure you only have comments and #SBATCH directives between here and the end of the #SBATCH directives, or things will break\n",
    "#! Name of the job:\n",
    "#SBATCH -J {job_name}\n",
    "#! Account name for group, use SL2 for paying queue:\n",
    "#SBATCH -A IRIS-IP005-CPU\n",
    "#! Output filename:\n",
    "#! %A means slurm job ID and %a means array index\n",
    "#SBATCH --output={jobNameBase}_%A_%a.out\n",
    "#! Errors filename:\n",
    "#SBATCH --error={jobNameBase}_%A_%a.err\n",
    "\n",
    "#! Number of nodes to be allocated for the job (for single core jobs always leave this at 1)\n",
    "#SBATCH --nodes=1\n",
    "#! Number of tasks. By default SLURM assumes 1 task per node and 1 CPU per task. (for single core jobs always leave this at 1)\n",
    "#SBATCH --ntasks=1\n",
    "#! How many many cores will be allocated per task? (for single core jobs always leave this at 1)\n",
    "#SBATCH --cpus-per-task=1\n",
    "#! Estimated runtime: hh:mm:ss (job is force-stopped after if exceeded):\n",
    "#SBATCH --time={hours}:00:00\n",
    "#! Estimated maximum memory needed (job is force-stopped if exceeded):\n",
    "#! RAM is allocated in ~5980mb blocks, you are charged per block used,\n",
    "#! and unused fractions of blocks will not be usable by others.\n",
    "#SBATCH --mem=5980mb\n",
    "#! Submit a job array with index values between 0 and 31\n",
    "#! NOTE: This must be a range, not a single number (i.e. specifying '32' here would only run one job, with index 32)\n",
    "#SBATCH --array={start}-{stop}\n",
    "\n",
    "#! This is the partition name.\n",
    "#SBATCH -p skylake\n",
    "\n",
    "#! mail alert at start, end and abortion of execution\n",
    "#! emails will default to going to your email address\n",
    "#! you can specify a different email address manually if needed.\n",
    "##SBATCH --mail-type=ALL\n",
    "\n",
    "#! Don't put any #SBATCH directives below this line\n",
    "\n",
    "#! Modify the environment seen by the application. For this example we need the default modules.\n",
    "\n",
    "\n",
    "#! The variable $SLURM_ARRAY_TASK_ID contains the array index for each job.\n",
    "#! In this example, each job will be passed its index, so each output file will contain a different value\n",
    "echo \"This is job\" $SLURM_ARRAY_TASK_ID\n",
    "\n",
    "#! Command line that we want to run:\n",
    "{WORK_DIR}/slurm/{jobNameBase}*_$SLURM_ARRAY_TASK_ID.sh\"\"\""
   ]
  },
  {
   "cell_type": "code",
   "execution_count": 33,
   "metadata": {},
   "outputs": [],
   "source": [
    "sh_template = \"\"\"#!/bin/bash\n",
    "source /rfs/project/rfs-L33A9wsNuJk/shared/lsst_stack/loadLSST.bash\n",
    "setup lsst_distrib\n",
    "setup obs_vista\n",
    "eups admin clearLocks\n",
    "processCcd.py ../data --rerun processCcdOutputs --id dateObs={dateObs} numObs={numObs} --clobber-config\n",
    "makeCoaddTempExp.py ../data --rerun coadd --selectId dateObs={dateObs} numObs={numObs} filter={_filter} --id filter={_filter} tract=8282^8283^8284^8523^8524^8525^8765^8766^8767  --clobber-config\n",
    "\"\"\"\n",
    "#By date:\n",
    "#processCcd.py ../data --rerun processCcdOutputs --id dateObs={obsDate} --clobber-config"
   ]
  },
  {
   "cell_type": "code",
   "execution_count": 34,
   "metadata": {},
   "outputs": [],
   "source": [
    "n= 0\n",
    "for im in video_ims[near_sxds]: #date_list:\n",
    "    date = im['date']\n",
    "    dateObs = date[0:4]+'-'+date[4:6]+'-'+date[6:9]\n",
    "    numObs = im['numObs']\n",
    "    _filter = 'VISTA-' +im['filter'] #filter is a reserved word in python\n",
    "    job_name = \"processCcd_{}_{}_{}\".format(dateObs, numObs, n)\n",
    "    f_sh = open('./slurm/' + job_name + '.sh', \"w+\")\n",
    "    f_sh.write(sh_template.format(dateObs=dateObs, numObs=numObs, _filter=_filter))\n",
    "    f_sh.close()\n",
    "    if MAKE_INDIVIDUAL_SLURM:\n",
    "        f_slurm = open('./slurm/' + job_name + '.slurm', \"w+\")\n",
    "        f_slurm.write(slurm_template.format(\n",
    "            job_name=job_name,\n",
    "            hours='1',\n",
    "            jobNameBase=WORK_DIR + '/slurm/' + job_name + '.sh'\n",
    "        ))\n",
    "        f_slurm.close()\n",
    "    n+=1\n"
   ]
  },
  {
   "cell_type": "code",
   "execution_count": 35,
   "metadata": {},
   "outputs": [
    {
     "data": {
      "text/plain": [
       "5263"
      ]
     },
     "execution_count": 35,
     "metadata": {},
     "output_type": "execute_result"
    }
   ],
   "source": [
    "n"
   ]
  },
  {
   "cell_type": "raw",
   "metadata": {},
   "source": [
    "block_size = 100\n",
    "for block in range(int(np.ceil(n/block_size))):\n",
    "    start=block*block_size\n",
    "    stop =np.min([n+1, (block+1)*block_size]) -1\n",
    "    jobNameBase='processCcd'\n",
    "    job_name = jobNameBase + '_array_{}-{}'.format(start, stop)\n",
    "    slurm_filename = './slurm/'+job_name+'.slurm'\n",
    "    array_slurm = open(slurm_filename, \"w+\")\n",
    "    array_slurm.write(slurm_array_template.format(\n",
    "        job_name=job_name,\n",
    "        hours='36',\n",
    "        start=start,\n",
    "        stop=stop,\n",
    "        WORK_DIR=WORK_DIR,\n",
    "        jobNameBase=jobNameBase\n",
    "    ))\n",
    "    array_slurm.close()\n",
    "    print(slurm_filename)"
   ]
  },
  {
   "cell_type": "code",
   "execution_count": 36,
   "metadata": {},
   "outputs": [
    {
     "name": "stdout",
     "output_type": "stream",
     "text": [
      "./slurm/processCcd_array_all_0-5263.slurm\n"
     ]
    }
   ],
   "source": [
    "jobNameBase='processCcd'\n",
    "job_name = jobNameBase + '_array_all_{}-{}'.format( 0,n)\n",
    "slurm_filename = './slurm/'+job_name+'.slurm'\n",
    "array_slurm = open(slurm_filename, \"w+\")\n",
    "array_slurm.write(slurm_array_template.format(\n",
    "    job_name=job_name,\n",
    "    hours='36',\n",
    "    start=0,\n",
    "    stop=n,\n",
    "    WORK_DIR=WORK_DIR,\n",
    "    jobNameBase=jobNameBase\n",
    "))\n",
    "array_slurm.close()\n",
    "print(slurm_filename)"
   ]
  },
  {
   "cell_type": "code",
   "execution_count": 37,
   "metadata": {},
   "outputs": [],
   "source": [
    "#We can now submit these with\n",
    "#qsub ./slurm/processCcd*.slurm"
   ]
  },
  {
   "cell_type": "markdown",
   "metadata": {},
   "source": [
    "## 3 Run full patch\n",
    "Make one shell script and slurm script for each patch. During coaddition I also need to specify the input data sets. If I simply give the band the process hangs looping over every calexp. So for each patch I need to find for each band all the calexp files which cover it. I hope this can be done using date only so I can just use the tile patch lists made in dmu1."
   ]
  },
  {
   "cell_type": "markdown",
   "metadata": {},
   "source": [
    "### 3.1 Copy HSC folders and make sky map\n",
    "\n"
   ]
  },
  {
   "cell_type": "code",
   "execution_count": 38,
   "metadata": {},
   "outputs": [],
   "source": [
    "#HSC preprocessed files must be copied into place (perhaps just the relevant tracts)\n",
    "#hsc_base = /Users/rs548/GitHub/lsst-ir-fusion/dmu0/dmu0_HSC/data/hsc-release.mtk.nao.ac.jp/archive/filetree/pdr2_dud/deepCoadd-results/HSC-\n",
    "#hsc_target = data/rerun/coaddPhot/deepCoadd-results/HSC-\n",
    "#for band in ['G', 'I', 'Z', 'Y']:\n",
    "#    for tract in sxds_tracts: # [8282,8283,8284,8523,8524,8525,8765,8766,8767] \n",
    "#!cp -r \"{}{}/{}\".format(hsc_base,tract) target\n",
    "#Sky map must also be created\n",
    "#!makeSkyMap.py data --rerun processCcdOutputs:coadd --clobber-config"
   ]
  },
  {
   "cell_type": "code",
   "execution_count": 39,
   "metadata": {},
   "outputs": [],
   "source": [
    "cp_hsc_template = \"\"\"#!/bin/bash\n",
    "#Prepare Butler repo for processCcd and runPhotopipe slurm runs\n",
    "source /rfs/project/rfs-L33A9wsNuJk/shared/lsst_stack/loadLSST.bash\n",
    "setup lsst_distrib\n",
    "setup obs_vista\n",
    "eups admin clearLocks\n",
    "ingestImages.py data /home/ir-shir1/rds/rds-iris-ip005/data/private/VISTA/VIDEO/**/*_st.fit\n",
    "mkdir -p data/rerun/coaddPhot/deepCoadd-results/HSC-G\n",
    "mkdir -p data/rerun/coaddPhot/deepCoadd-results/HSC-R\n",
    "mkdir -p data/rerun/coaddPhot/deepCoadd-results/HSC-I\n",
    "mkdir -p data/rerun/coaddPhot/deepCoadd-results/HSC-Z\n",
    "mkdir -p data/rerun/coaddPhot/deepCoadd-results/HSC-Y\n",
    "mkdir -p data/rerun/processCcdOutputs/coadd\n",
    "makeSkyMap.py data --rerun processCcdOutputs:coadd --clobber-config\n",
    "\"\"\""
   ]
  },
  {
   "cell_type": "code",
   "execution_count": 40,
   "metadata": {},
   "outputs": [],
   "source": [
    "HSC='/home/ir-shir1/rds/rds-iris-ip005/data/public/HSC/hsc-release.mtk.nao.ac.jp/archive/filetree/pdr2_dud/deepCoadd-results/HSC-'\n",
    "TARGET='data/rerun/coaddPhot/deepCoadd-results/HSC-'\n",
    "job_name = \"setup_butler_repo\"\n",
    "f_sh = open('./' + job_name + '.sh', \"w+\")\n",
    "f_sh.write(cp_hsc_template)\n",
    "for band, tract in itertools.product(hsc_bands,sxds_tracts):\n",
    "    f_sh.write(\n",
    "        'cp -r {}/{} {} \\n'.format(HSC+band, tract, TARGET+band )\n",
    "    )\n",
    "f_sh.close()\n"
   ]
  },
  {
   "cell_type": "markdown",
   "metadata": {},
   "source": [
    "### 3.2 Make files for coadding\n",
    "\n",
    "Actually I think I can include the tempo exp stage at the per file stage. So there are two stages a tasks per file and tasks per patch stage."
   ]
  },
  {
   "cell_type": "raw",
   "metadata": {},
   "source": [
    "def has_patch(tract, patch, j):\n",
    "    \"\"\"Take a json string and return true if a given patch is in it\n",
    "    \"\"\"\n",
    "    j = json.loads(j)\n",
    "   \n",
    "    try:\n",
    "        has_patch = patch in j[str(tract)]\n",
    "    except KeyError:\n",
    "        has_patch = False\n",
    "    return has_patch"
   ]
  },
  {
   "cell_type": "raw",
   "metadata": {},
   "source": [
    "sh_start = \"\"\"#!/bin/bash\n",
    "source /rfs/project/rfs-L33A9wsNuJk/shared/lsst_stack/loadLSST.bash\n",
    "setup lsst_distrib\n",
    "setup obs_vista\n",
    "eups admin clearLocks\n",
    "\"\"\""
   ]
  },
  {
   "cell_type": "raw",
   "metadata": {},
   "source": [
    "n=0\n",
    "for im in hsc_ims[in_sxds]:\n",
    "    tract = im['tract']\n",
    "    patch = im['patch']\n",
    "    job_name = \"coadd_{}_{}_{}\".format(tract, patch, n)\n",
    "    \n",
    "    has_patch = \n",
    "  \n",
    "    f_sh = open(\"./slurm/\"+job_name+\".sh\", \"w+\")\n",
    "    f_sh.write(sh_start)\n",
    "    \n",
    "    f_sh.close()\n",
    "    \n",
    "    \n",
    "    \n",
    "    \n",
    "    if MAKE_INDIVIDUAL_SLURM:\n",
    "        f_slurm = open(\"./slurm/\"+job_name+\".slurm\".format(tract, patch), \"w+\")\n",
    "        f_slurm.write(slurm_template.format(\n",
    "            job_name=job_name,\n",
    "            hours='5',\n",
    "            sh_name=WORK_DIR+\"/slurm/\"+job_name+\".sh\"\n",
    "        \n",
    "        ))\n",
    "        f_slurm.close()\n",
    "    n+=1"
   ]
  },
  {
   "cell_type": "raw",
   "metadata": {},
   "source": [
    "#make one slurm job for all sh scripts\n",
    "start=0\n",
    "stop =n\n",
    "jobNameBase='coadd'\n",
    "job_name = jobNameBase + '_array_all_{}-{}'.format(start, stop)\n",
    "slurm_filename = './slurm/'+job_name+'.slurm'\n",
    "array_slurm = open(slurm_filename, \"w+\")\n",
    "array_slurm.write(slurm_array_template.format(\n",
    "    job_name=job_name,\n",
    "    hours='36',\n",
    "    start=start,\n",
    "    stop=stop,\n",
    "    WORK_DIR=WORK_DIR,\n",
    "    jobNameBase=jobNameBase\n",
    "))\n",
    "array_slurm.close()"
   ]
  },
  {
   "cell_type": "markdown",
   "metadata": {},
   "source": [
    "### 3.3 Make shell files and array job for every patch"
   ]
  },
  {
   "cell_type": "code",
   "execution_count": 46,
   "metadata": {},
   "outputs": [],
   "source": [
    "patch_sh_template = \"\"\"#!/bin/bash\n",
    "source /rfs/project/rfs-L33A9wsNuJk/shared/lsst_stack/loadLSST.bash\n",
    "setup lsst_distrib\n",
    "setup obs_vista\n",
    "eups admin clearLocks\n",
    "#coadds must be run on every file or they hang due to memory limits\n",
    "#makeCoaddTempExp.py ../data --rerun coadd --selectId filter=VISTA-Y --id filter=VISTA-Y tract={tract} patch={patch} \n",
    "#makeCoaddTempExp.py ../data --rerun coadd --selectId filter=VISTA-Ks --id filter=VISTA-J tract={tract} patch={patch} \n",
    "#makeCoaddTempExp.py ../data --rerun coadd --selectId filter=VISTA-Y --id filter=VISTA-H tract={tract} patch={patch} \n",
    "#makeCoaddTempExp.py ../data --rerun coadd --selectId filter=VISTA-Ks --id filter=VISTA-Ks tract={tract} patch={patch} \n",
    "\n",
    "assembleCoadd.py ../data --rerun coadd --selectId filter=VISTA-Z --id filter=VISTA-Z tract={tract} patch={patch}\n",
    "assembleCoadd.py ../data --rerun coadd --selectId filter=VISTA-Y --id filter=VISTA-Y tract={tract} patch={patch}\n",
    "assembleCoadd.py ../data --rerun coadd --selectId filter=VISTA-J --id filter=VISTA-J tract={tract} patch={patch}\n",
    "assembleCoadd.py ../data --rerun coadd --selectId filter=VISTA-Y --id filter=VISTA-H tract={tract} patch={patch}\n",
    "assembleCoadd.py ../data --rerun coadd --selectId filter=VISTA-Ks --id filter=VISTA-Ks tract={tract} patch={patch}\n",
    "\n",
    "detectCoaddSources.py ../data --rerun coadd:coaddPhot --id filter=VISTA-Z tract={tract} patch={patch}\n",
    "detectCoaddSources.py ../data --rerun coadd:coaddPhot --id filter=VISTA-Y tract={tract} patch={patch}\n",
    "detectCoaddSources.py ../data --rerun coadd:coaddPhot --id filter=VISTA-J tract={tract} patch={patch}\n",
    "detectCoaddSources.py ../data --rerun coadd:coaddPhot --id filter=VISTA-H tract={tract} patch={patch}\n",
    "detectCoaddSources.py ../data --rerun coadd:coaddPhot --id filter=VISTA-Ks tract={tract} patch={patch}\n",
    "\n",
    "#HSC files must be copied - Which bands to merge detections from?\n",
    "#mergeCoaddDetections.py ../data --rerun coaddPhot --id filter=VISTA-Y^VISTA-J^VISTA-H^VISTA-Ks^HSC-G^HSC-R^HSC-I^HSC-Z^HSC-Y tract={tract} patch={patch}\n",
    "mergeCoaddDetections.py ../data --rerun coaddPhot --id filter=VISTA-Ks tract={tract} patch={patch}\n",
    "\n",
    "deblendCoaddSources.py ../data --rerun coaddPhot --id filter=VISTA-Z tract={tract} patch={patch}\n",
    "deblendCoaddSources.py ../data --rerun coaddPhot --id filter=VISTA-Y tract={tract} patch={patch}\n",
    "deblendCoaddSources.py ../data --rerun coaddPhot --id filter=VISTA-J tract={tract} patch={patch}\n",
    "deblendCoaddSources.py ../data --rerun coaddPhot --id filter=VISTA-H tract={tract} patch={patch}\n",
    "deblendCoaddSources.py ../data --rerun coaddPhot --id filter=VISTA-Ks tract={tract} patch={patch}\n",
    "deblendCoaddSources.py ../data --rerun coaddPhot --id filter=HSC-G tract={tract} patch={patch}\n",
    "deblendCoaddSources.py ../data --rerun coaddPhot --id filter=HSC-R tract={tract} patch={patch}\n",
    "deblendCoaddSources.py ../data --rerun coaddPhot --id filter=HSC-I tract={tract} patch={patch}\n",
    "deblendCoaddSources.py ../data --rerun coaddPhot --id filter=HSC-Z tract={tract} patch={patch}\n",
    "deblendCoaddSources.py ../data --rerun coaddPhot --id filter=HSC-Y tract={tract} patch={patch}\n",
    "\n",
    "measureCoaddSources.py ../data --rerun coaddPhot --id filter=VISTA-Z tract={tract} patch={patch}\n",
    "measureCoaddSources.py ../data --rerun coaddPhot --id filter=VISTA-Y tract={tract} patch={patch}\n",
    "measureCoaddSources.py ../data --rerun coaddPhot --id filter=VISTA-J tract={tract} patch={patch}\n",
    "measureCoaddSources.py ../data --rerun coaddPhot --id filter=VISTA-H tract={tract} patch={patch}\n",
    "measureCoaddSources.py ../data --rerun coaddPhot --id filter=VISTA-Ks tract={tract} patch={patch}\n",
    "measureCoaddSources.py ../data --rerun coaddPhot --id filter=HSC-G tract={tract} patch={patch}\n",
    "measureCoaddSources.py ../data --rerun coaddPhot --id filter=HSC-R tract={tract} patch={patch}\n",
    "measureCoaddSources.py ../data --rerun coaddPhot --id filter=HSC-I tract={tract} patch={patch}\n",
    "measureCoaddSources.py ../data --rerun coaddPhot --id filter=HSC-Z tract={tract} patch={patch}\n",
    "measureCoaddSources.py ../data --rerun coaddPhot --id filter=HSC-Y tract={tract} patch={patch}\n",
    "\n",
    "mergeCoaddMeasurements.py ../data --rerun coaddPhot --id filter=VISTA-Y^VISTA-J^VISTA-H^VISTA-Ks^HSC-G^HSC-R^HSC-I^HSC-Z^HSC-Y tract={tract} patch={patch}\n",
    "\n",
    "forcedPhotCoadd.py ../data --rerun coaddPhot:coaddForcedPhot --id filter=VISTA-Z tract={tract} patch={patch}\n",
    "forcedPhotCoadd.py ../data --rerun coaddForcedPhot --id filter=VISTA-Y tract={tract} patch={patch}\n",
    "forcedPhotCoadd.py ../data --rerun coaddForcedPhot --id filter=VISTA-J tract={tract} patch={patch}\n",
    "forcedPhotCoadd.py ../data --rerun coaddForcedPhot --id filter=VISTA-H tract={tract} patch={patch}\n",
    "forcedPhotCoadd.py ../data --rerun coaddForcedPhot --id filter=VISTA-Ks tract={tract} patch={patch}\n",
    "forcedPhotCoadd.py ../data --rerun coaddForcedPhot --id filter=HSC-G tract={tract} patch={patch}\n",
    "forcedPhotCoadd.py ../data --rerun coaddForcedPhot --id filter=HSC-R tract={tract} patch={patch}\n",
    "forcedPhotCoadd.py ../data --rerun coaddForcedPhot --id filter=HSC-I tract={tract} patch={patch}\n",
    "forcedPhotCoadd.py ../data --rerun coaddForcedPhot --id filter=HSC-Z tract={tract} patch={patch}\n",
    "forcedPhotCoadd.py ../data --rerun coaddForcedPhot --id filter=HSC-Y tract={tract} patch={patch}\n",
    "\"\"\""
   ]
  },
  {
   "cell_type": "raw",
   "metadata": {},
   "source": [
    "n=0\n",
    "for im in hsc_ims[in_sxds]:\n",
    "    tract = im['tract']\n",
    "    patch = im['patch']\n",
    "    job_name = \"runPhotoPipe_{}_{}_{}\".format(tract, patch, n)\n",
    "  \n",
    "    f_sh = open(\"./slurm/\"+job_name+\".sh\", \"w+\")\n",
    "    f_sh.write(patch_sh_template.format(tract=tract, patch=patch))\n",
    "    f_sh.close()\n",
    "    f_slurm = open(\"./slurm/\"+job_name+\".slurm\".format(tract, patch), \"w+\")\n",
    "    f_slurm.write(slurm_template.format(\n",
    "        job_name=job_name,\n",
    "        hours='5',\n",
    "        sh_name=WORK_DIR+\"/slurm/\"+job_name+\".sh\"\n",
    "        \n",
    "    ))\n",
    "    f_slurm.close()\n",
    "    n+=1\n",
    "n"
   ]
  },
  {
   "cell_type": "code",
   "execution_count": 47,
   "metadata": {},
   "outputs": [
    {
     "data": {
      "text/plain": [
       "351"
      ]
     },
     "execution_count": 47,
     "metadata": {},
     "output_type": "execute_result"
    }
   ],
   "source": [
    "n=0\n",
    "for tract in full_patch_dict:\n",
    "    for patch in full_patch_dict[tract]:\n",
    "        #print(tract, patch)\n",
    "        job_name = \"runPhotoPipe_{}_{}_{}\".format(tract, patch, n)\n",
    "  \n",
    "        f_sh = open(\"./slurm/\"+job_name+\".sh\", \"w+\")\n",
    "        f_sh.write(patch_sh_template.format(tract=tract, patch=patch))\n",
    "        f_sh.close()\n",
    "        f_slurm = open(\"./slurm/\"+job_name+\".slurm\".format(tract, patch), \"w+\")\n",
    "        f_slurm.write(slurm_template.format(\n",
    "            job_name=job_name,\n",
    "            hours='5',\n",
    "            sh_name=WORK_DIR+\"/slurm/\"+job_name+\".sh\"\n",
    "        ))\n",
    "        f_slurm.close()\n",
    "        n+=1\n",
    "n"
   ]
  },
  {
   "cell_type": "raw",
   "metadata": {},
   "source": [
    "#make slurm jobs in batches\n",
    "block_size=50\n",
    "for block in range(int(np.ceil(n/block_size))):\n",
    "    start=block*block_size\n",
    "    stop =np.min([n+1, (block+1)*block_size]) -1\n",
    "    jobNameBase='runPhotoPipe'\n",
    "    job_name = jobNameBase + '_array_{}-{}'.format(start, stop)\n",
    "    slurm_filename = './slurm/'+job_name+'.slurm'\n",
    "    array_slurm = open(slurm_filename, \"w+\")\n",
    "    array_slurm.write(slurm_array_template.format(\n",
    "        job_name=job_name,\n",
    "        hours='36',\n",
    "        start=start,\n",
    "        stop=stop,\n",
    "        WORK_DIR=WORK_DIR,\n",
    "        jobNameBase=jobNameBase\n",
    "    ))\n",
    "    array_slurm.close()\n",
    "    print(slurm_filename)"
   ]
  },
  {
   "cell_type": "code",
   "execution_count": 44,
   "metadata": {},
   "outputs": [
    {
     "name": "stdout",
     "output_type": "stream",
     "text": [
      "./slurm/runPhotoPipe_array_all_0-351.slurm\n"
     ]
    }
   ],
   "source": [
    "#make one slurm job for all sh scripts\n",
    "start=0\n",
    "stop =n\n",
    "jobNameBase='runPhotoPipe'\n",
    "job_name = jobNameBase + '_array_all_{}-{}'.format(start, stop)\n",
    "slurm_filename = './slurm/'+job_name+'.slurm'\n",
    "array_slurm = open(slurm_filename, \"w+\")\n",
    "array_slurm.write(slurm_array_template.format(\n",
    "    job_name=job_name,\n",
    "    hours='36',\n",
    "    start=start,\n",
    "    stop=stop,\n",
    "    WORK_DIR=WORK_DIR,\n",
    "    jobNameBase=jobNameBase\n",
    "))\n",
    "array_slurm.close()\n",
    "print(slurm_filename)"
   ]
  },
  {
   "cell_type": "code",
   "execution_count": 45,
   "metadata": {},
   "outputs": [],
   "source": [
    "#We can now submit these after the processCcd has run with\n",
    "#qsub ./slurm/patch*.slurm"
   ]
  },
  {
   "cell_type": "code",
   "execution_count": null,
   "metadata": {},
   "outputs": [],
   "source": []
  }
 ],
 "metadata": {
  "kernelspec": {
   "display_name": "LSST",
   "language": "python",
   "name": "lsst"
  },
  "language_info": {
   "codemirror_mode": {
    "name": "ipython",
    "version": 3
   },
   "file_extension": ".py",
   "mimetype": "text/x-python",
   "name": "python",
   "nbconvert_exporter": "python",
   "pygments_lexer": "ipython3",
   "version": "3.7.6"
  }
 },
 "nbformat": 4,
 "nbformat_minor": 4
}
