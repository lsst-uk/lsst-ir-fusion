{
 "cells": [
  {
   "cell_type": "markdown",
   "metadata": {},
   "source": [
    "# Find failed patches and rerun\n",
    "\n",
    "Following the first run a number of coadds failed and subsequent photo-pipe stages. I think the majority of these were Memory errors for the coaddition. Some of the photopipe runs timed out."
   ]
  },
  {
   "cell_type": "code",
   "execution_count": 28,
   "metadata": {},
   "outputs": [],
   "source": [
    "import glob\n",
    "import json\n",
    "import numpy as np\n",
    "import matplotlib.pyplot as plt\n",
    "%matplotlib inline\n",
    "\n",
    "#We are using a rings skymap\n",
    "from lsst.geom import SpherePoint \n",
    "from lsst.geom import degrees\n",
    "from lsst.skymap.ringsSkyMap import RingsSkyMap, RingsSkyMapConfig\n",
    "\n",
    "config = RingsSkyMapConfig()\n",
    "#These config options are chose to be the same as HSC:\n",
    "#https://github.com/lsst/obs_subaru/blob/master/config/hsc/makeSkyMap.py\n",
    "#and copied for obs_vista\n",
    "#https://github.com/lsst-uk/obs_vista/blob/master/config/makeSkyMap.py\n",
    "config.numRings = 120\n",
    "config.projection = \"TAN\"\n",
    "config.tractOverlap = 1.0/60 # Overlap between tracts (degrees)\n",
    "config.pixelScale = 0.168\n",
    "sm = RingsSkyMap(config)\n",
    "sxds_tracts = [8282,8283,8284,8523,8524,8525,8765,8766,8767] #manually got these from HSC DR2 pages"
   ]
  },
  {
   "cell_type": "code",
   "execution_count": 47,
   "metadata": {},
   "outputs": [],
   "source": [
    "#USE HSC-Y which is the last task run in the pipeline\n",
    "#forced = glob.glob('./data/rerun/coaddForcedPhot/deepCoadd-results/HSC-Y/*/*/*.fits)\n",
    "f = open('complete_forced_VISTA-Ks_20201102.lis', \"r\")\n",
    "forced = [l for l in f]\n",
    "#coadds\n",
    "f = open('coadds_VISTA-Ks_20201102.lis', \"r\")\n",
    "coadds = [l for l in f]"
   ]
  },
  {
   "cell_type": "code",
   "execution_count": 48,
   "metadata": {},
   "outputs": [
    {
     "data": {
      "text/plain": [
       "['data/rerun/coadd/deepCoadd/VISTA-Ks/8523/0,2.fits\\n',\n",
       " 'data/rerun/coadd/deepCoadd/VISTA-Ks/8523/0,3.fits\\n',\n",
       " 'data/rerun/coadd/deepCoadd/VISTA-Ks/8523/0,4.fits\\n',\n",
       " 'data/rerun/coadd/deepCoadd/VISTA-Ks/8523/0,5.fits\\n',\n",
       " 'data/rerun/coadd/deepCoadd/VISTA-Ks/8523/0,6.fits\\n',\n",
       " 'data/rerun/coadd/deepCoadd/VISTA-Ks/8523/0,7.fits\\n',\n",
       " 'data/rerun/coadd/deepCoadd/VISTA-Ks/8523/0,8.fits\\n',\n",
       " 'data/rerun/coadd/deepCoadd/VISTA-Ks/8523/1,2.fits\\n',\n",
       " 'data/rerun/coadd/deepCoadd/VISTA-Ks/8523/1,3.fits\\n',\n",
       " 'data/rerun/coadd/deepCoadd/VISTA-Ks/8523/1,4.fits\\n',\n",
       " 'data/rerun/coadd/deepCoadd/VISTA-Ks/8523/1,5.fits\\n',\n",
       " 'data/rerun/coadd/deepCoadd/VISTA-Ks/8523/1,6.fits\\n',\n",
       " 'data/rerun/coadd/deepCoadd/VISTA-Ks/8523/1,7.fits\\n',\n",
       " 'data/rerun/coadd/deepCoadd/VISTA-Ks/8523/1,8.fits\\n',\n",
       " 'data/rerun/coadd/deepCoadd/VISTA-Ks/8523/2,2.fits\\n',\n",
       " 'data/rerun/coadd/deepCoadd/VISTA-Ks/8523/2,3.fits\\n',\n",
       " 'data/rerun/coadd/deepCoadd/VISTA-Ks/8523/2,4.fits\\n',\n",
       " 'data/rerun/coadd/deepCoadd/VISTA-Ks/8523/2,5.fits\\n',\n",
       " 'data/rerun/coadd/deepCoadd/VISTA-Ks/8523/2,6.fits\\n',\n",
       " 'data/rerun/coadd/deepCoadd/VISTA-Ks/8523/2,7.fits\\n',\n",
       " 'data/rerun/coadd/deepCoadd/VISTA-Ks/8523/3,4.fits\\n',\n",
       " 'data/rerun/coadd/deepCoadd/VISTA-Ks/8523/3,5.fits\\n',\n",
       " 'data/rerun/coadd/deepCoadd/VISTA-Ks/8523/3,6.fits\\n',\n",
       " 'data/rerun/coadd/deepCoadd/VISTA-Ks/8523/3,7.fits\\n',\n",
       " 'data/rerun/coadd/deepCoadd/VISTA-Ks/8523/3,8.fits\\n',\n",
       " 'data/rerun/coadd/deepCoadd/VISTA-Ks/8523/4,2.fits\\n',\n",
       " 'data/rerun/coadd/deepCoadd/VISTA-Ks/8523/4,3.fits\\n',\n",
       " 'data/rerun/coadd/deepCoadd/VISTA-Ks/8523/4,4.fits\\n',\n",
       " 'data/rerun/coadd/deepCoadd/VISTA-Ks/8523/4,5.fits\\n',\n",
       " 'data/rerun/coadd/deepCoadd/VISTA-Ks/8523/4,6.fits\\n',\n",
       " 'data/rerun/coadd/deepCoadd/VISTA-Ks/8523/4,7.fits\\n',\n",
       " 'data/rerun/coadd/deepCoadd/VISTA-Ks/8523/4,8.fits\\n',\n",
       " 'data/rerun/coadd/deepCoadd/VISTA-Ks/8523/5,2.fits\\n',\n",
       " 'data/rerun/coadd/deepCoadd/VISTA-Ks/8523/5,3.fits\\n',\n",
       " 'data/rerun/coadd/deepCoadd/VISTA-Ks/8523/5,5.fits\\n',\n",
       " 'data/rerun/coadd/deepCoadd/VISTA-Ks/8523/5,6.fits\\n',\n",
       " 'data/rerun/coadd/deepCoadd/VISTA-Ks/8523/5,7.fits\\n',\n",
       " 'data/rerun/coadd/deepCoadd/VISTA-Ks/8523/5,8.fits\\n',\n",
       " 'data/rerun/coadd/deepCoadd/VISTA-Ks/8523/6,3.fits\\n',\n",
       " 'data/rerun/coadd/deepCoadd/VISTA-Ks/8523/6,4.fits\\n',\n",
       " 'data/rerun/coadd/deepCoadd/VISTA-Ks/8523/6,5.fits\\n',\n",
       " 'data/rerun/coadd/deepCoadd/VISTA-Ks/8523/6,6.fits\\n',\n",
       " 'data/rerun/coadd/deepCoadd/VISTA-Ks/8524/0,3.fits\\n',\n",
       " 'data/rerun/coadd/deepCoadd/VISTA-Ks/8524/0,4.fits\\n',\n",
       " 'data/rerun/coadd/deepCoadd/VISTA-Ks/8524/0,5.fits\\n',\n",
       " 'data/rerun/coadd/deepCoadd/VISTA-Ks/8524/0,6.fits\\n',\n",
       " 'data/rerun/coadd/deepCoadd/VISTA-Ks/8524/0,7.fits\\n',\n",
       " 'data/rerun/coadd/deepCoadd/VISTA-Ks/8524/1,3.fits\\n',\n",
       " 'data/rerun/coadd/deepCoadd/VISTA-Ks/8524/1,4.fits\\n',\n",
       " 'data/rerun/coadd/deepCoadd/VISTA-Ks/8524/1,5.fits\\n',\n",
       " 'data/rerun/coadd/deepCoadd/VISTA-Ks/8524/1,6.fits\\n',\n",
       " 'data/rerun/coadd/deepCoadd/VISTA-Ks/8524/1,7.fits\\n',\n",
       " 'data/rerun/coadd/deepCoadd/VISTA-Ks/8524/2,2.fits\\n',\n",
       " 'data/rerun/coadd/deepCoadd/VISTA-Ks/8524/2,3.fits\\n',\n",
       " 'data/rerun/coadd/deepCoadd/VISTA-Ks/8524/2,5.fits\\n',\n",
       " 'data/rerun/coadd/deepCoadd/VISTA-Ks/8524/3,3.fits\\n',\n",
       " 'data/rerun/coadd/deepCoadd/VISTA-Ks/8524/3,4.fits\\n',\n",
       " 'data/rerun/coadd/deepCoadd/VISTA-Ks/8524/3,5.fits\\n',\n",
       " 'data/rerun/coadd/deepCoadd/VISTA-Ks/8524/3,8.fits\\n',\n",
       " 'data/rerun/coadd/deepCoadd/VISTA-Ks/8524/4,3.fits\\n',\n",
       " 'data/rerun/coadd/deepCoadd/VISTA-Ks/8524/4,4.fits\\n',\n",
       " 'data/rerun/coadd/deepCoadd/VISTA-Ks/8524/4,5.fits\\n',\n",
       " 'data/rerun/coadd/deepCoadd/VISTA-Ks/8524/4,6.fits\\n',\n",
       " 'data/rerun/coadd/deepCoadd/VISTA-Ks/8524/4,7.fits\\n',\n",
       " 'data/rerun/coadd/deepCoadd/VISTA-Ks/8524/4,8.fits\\n',\n",
       " 'data/rerun/coadd/deepCoadd/VISTA-Ks/8524/5,2.fits\\n',\n",
       " 'data/rerun/coadd/deepCoadd/VISTA-Ks/8524/5,3.fits\\n',\n",
       " 'data/rerun/coadd/deepCoadd/VISTA-Ks/8524/5,4.fits\\n',\n",
       " 'data/rerun/coadd/deepCoadd/VISTA-Ks/8524/6,3.fits\\n',\n",
       " 'data/rerun/coadd/deepCoadd/VISTA-Ks/8524/6,4.fits\\n',\n",
       " 'data/rerun/coadd/deepCoadd/VISTA-Ks/8524/6,6.fits\\n',\n",
       " 'data/rerun/coadd/deepCoadd/VISTA-Ks/8524/6,7.fits\\n',\n",
       " 'data/rerun/coadd/deepCoadd/VISTA-Ks/8524/6,8.fits\\n',\n",
       " 'data/rerun/coadd/deepCoadd/VISTA-Ks/8524/7,2.fits\\n',\n",
       " 'data/rerun/coadd/deepCoadd/VISTA-Ks/8524/7,3.fits\\n',\n",
       " 'data/rerun/coadd/deepCoadd/VISTA-Ks/8524/7,5.fits\\n',\n",
       " 'data/rerun/coadd/deepCoadd/VISTA-Ks/8524/7,6.fits\\n',\n",
       " 'data/rerun/coadd/deepCoadd/VISTA-Ks/8524/7,7.fits\\n',\n",
       " 'data/rerun/coadd/deepCoadd/VISTA-Ks/8524/7,8.fits\\n',\n",
       " 'data/rerun/coadd/deepCoadd/VISTA-Ks/8524/8,2.fits\\n',\n",
       " 'data/rerun/coadd/deepCoadd/VISTA-Ks/8524/8,3.fits\\n',\n",
       " 'data/rerun/coadd/deepCoadd/VISTA-Ks/8524/8,4.fits\\n',\n",
       " 'data/rerun/coadd/deepCoadd/VISTA-Ks/8524/8,5.fits\\n',\n",
       " 'data/rerun/coadd/deepCoadd/VISTA-Ks/8524/8,6.fits\\n',\n",
       " 'data/rerun/coadd/deepCoadd/VISTA-Ks/8524/8,7.fits\\n',\n",
       " 'data/rerun/coadd/deepCoadd/VISTA-Ks/8525/4,4.fits\\n',\n",
       " 'data/rerun/coadd/deepCoadd/VISTA-Ks/8525/4,5.fits\\n',\n",
       " 'data/rerun/coadd/deepCoadd/VISTA-Ks/8525/4,6.fits\\n',\n",
       " 'data/rerun/coadd/deepCoadd/VISTA-Ks/8525/4,7.fits\\n',\n",
       " 'data/rerun/coadd/deepCoadd/VISTA-Ks/8525/4,8.fits\\n',\n",
       " 'data/rerun/coadd/deepCoadd/VISTA-Ks/8525/5,5.fits\\n',\n",
       " 'data/rerun/coadd/deepCoadd/VISTA-Ks/8525/5,6.fits\\n',\n",
       " 'data/rerun/coadd/deepCoadd/VISTA-Ks/8525/5,7.fits\\n',\n",
       " 'data/rerun/coadd/deepCoadd/VISTA-Ks/8525/5,8.fits\\n',\n",
       " 'data/rerun/coadd/deepCoadd/VISTA-Ks/8525/6,3.fits\\n',\n",
       " 'data/rerun/coadd/deepCoadd/VISTA-Ks/8525/6,4.fits\\n',\n",
       " 'data/rerun/coadd/deepCoadd/VISTA-Ks/8525/6,5.fits\\n',\n",
       " 'data/rerun/coadd/deepCoadd/VISTA-Ks/8525/6,6.fits\\n',\n",
       " 'data/rerun/coadd/deepCoadd/VISTA-Ks/8525/6,7.fits\\n',\n",
       " 'data/rerun/coadd/deepCoadd/VISTA-Ks/8525/7,6.fits\\n',\n",
       " 'data/rerun/coadd/deepCoadd/VISTA-Ks/8525/7,7.fits\\n',\n",
       " 'data/rerun/coadd/deepCoadd/VISTA-Ks/8525/8,3.fits\\n',\n",
       " 'data/rerun/coadd/deepCoadd/VISTA-Ks/8525/8,4.fits\\n',\n",
       " 'data/rerun/coadd/deepCoadd/VISTA-Ks/8525/8,5.fits\\n',\n",
       " 'data/rerun/coadd/deepCoadd/VISTA-Ks/8525/8,7.fits\\n',\n",
       " 'data/rerun/coadd/deepCoadd/VISTA-Ks/8525/8,8.fits\\n',\n",
       " 'data/rerun/coadd/deepCoadd/VISTA-Ks/8765/1,0.fits\\n',\n",
       " 'data/rerun/coadd/deepCoadd/VISTA-Ks/8765/1,1.fits\\n',\n",
       " 'data/rerun/coadd/deepCoadd/VISTA-Ks/8765/1,2.fits\\n',\n",
       " 'data/rerun/coadd/deepCoadd/VISTA-Ks/8765/2,0.fits\\n',\n",
       " 'data/rerun/coadd/deepCoadd/VISTA-Ks/8765/2,1.fits\\n',\n",
       " 'data/rerun/coadd/deepCoadd/VISTA-Ks/8765/2,2.fits\\n',\n",
       " 'data/rerun/coadd/deepCoadd/VISTA-Ks/8765/3,0.fits\\n',\n",
       " 'data/rerun/coadd/deepCoadd/VISTA-Ks/8765/3,1.fits\\n',\n",
       " 'data/rerun/coadd/deepCoadd/VISTA-Ks/8765/3,2.fits\\n',\n",
       " 'data/rerun/coadd/deepCoadd/VISTA-Ks/8765/4,0.fits\\n',\n",
       " 'data/rerun/coadd/deepCoadd/VISTA-Ks/8765/4,1.fits\\n',\n",
       " 'data/rerun/coadd/deepCoadd/VISTA-Ks/8765/4,2.fits\\n',\n",
       " 'data/rerun/coadd/deepCoadd/VISTA-Ks/8765/5,0.fits\\n',\n",
       " 'data/rerun/coadd/deepCoadd/VISTA-Ks/8765/5,1.fits\\n',\n",
       " 'data/rerun/coadd/deepCoadd/VISTA-Ks/8765/5,2.fits\\n',\n",
       " 'data/rerun/coadd/deepCoadd/VISTA-Ks/8765/6,0.fits\\n',\n",
       " 'data/rerun/coadd/deepCoadd/VISTA-Ks/8765/6,1.fits\\n',\n",
       " 'data/rerun/coadd/deepCoadd/VISTA-Ks/8765/6,2.fits\\n',\n",
       " 'data/rerun/coadd/deepCoadd/VISTA-Ks/8766/0,0.fits\\n',\n",
       " 'data/rerun/coadd/deepCoadd/VISTA-Ks/8766/0,1.fits\\n',\n",
       " 'data/rerun/coadd/deepCoadd/VISTA-Ks/8766/0,2.fits\\n',\n",
       " 'data/rerun/coadd/deepCoadd/VISTA-Ks/8766/0,3.fits\\n',\n",
       " 'data/rerun/coadd/deepCoadd/VISTA-Ks/8766/1,0.fits\\n',\n",
       " 'data/rerun/coadd/deepCoadd/VISTA-Ks/8766/1,1.fits\\n',\n",
       " 'data/rerun/coadd/deepCoadd/VISTA-Ks/8766/1,2.fits\\n',\n",
       " 'data/rerun/coadd/deepCoadd/VISTA-Ks/8766/1,3.fits\\n',\n",
       " 'data/rerun/coadd/deepCoadd/VISTA-Ks/8766/2,0.fits\\n',\n",
       " 'data/rerun/coadd/deepCoadd/VISTA-Ks/8766/2,1.fits\\n',\n",
       " 'data/rerun/coadd/deepCoadd/VISTA-Ks/8766/2,3.fits\\n',\n",
       " 'data/rerun/coadd/deepCoadd/VISTA-Ks/8766/3,0.fits\\n',\n",
       " 'data/rerun/coadd/deepCoadd/VISTA-Ks/8766/3,1.fits\\n',\n",
       " 'data/rerun/coadd/deepCoadd/VISTA-Ks/8766/3,3.fits\\n',\n",
       " 'data/rerun/coadd/deepCoadd/VISTA-Ks/8766/4,0.fits\\n',\n",
       " 'data/rerun/coadd/deepCoadd/VISTA-Ks/8766/4,1.fits\\n',\n",
       " 'data/rerun/coadd/deepCoadd/VISTA-Ks/8766/4,2.fits\\n',\n",
       " 'data/rerun/coadd/deepCoadd/VISTA-Ks/8766/5,0.fits\\n',\n",
       " 'data/rerun/coadd/deepCoadd/VISTA-Ks/8766/5,1.fits\\n',\n",
       " 'data/rerun/coadd/deepCoadd/VISTA-Ks/8766/5,2.fits\\n',\n",
       " 'data/rerun/coadd/deepCoadd/VISTA-Ks/8766/6,0.fits\\n',\n",
       " 'data/rerun/coadd/deepCoadd/VISTA-Ks/8766/6,1.fits\\n',\n",
       " 'data/rerun/coadd/deepCoadd/VISTA-Ks/8766/6,2.fits\\n',\n",
       " 'data/rerun/coadd/deepCoadd/VISTA-Ks/8766/7,0.fits\\n',\n",
       " 'data/rerun/coadd/deepCoadd/VISTA-Ks/8766/7,1.fits\\n',\n",
       " 'data/rerun/coadd/deepCoadd/VISTA-Ks/8766/7,2.fits\\n',\n",
       " 'data/rerun/coadd/deepCoadd/VISTA-Ks/8766/8,0.fits\\n',\n",
       " 'data/rerun/coadd/deepCoadd/VISTA-Ks/8766/8,1.fits\\n',\n",
       " 'data/rerun/coadd/deepCoadd/VISTA-Ks/8766/8,2.fits\\n',\n",
       " 'data/rerun/coadd/deepCoadd/VISTA-Ks/8767/4,1.fits\\n',\n",
       " 'data/rerun/coadd/deepCoadd/VISTA-Ks/8767/4,2.fits\\n',\n",
       " 'data/rerun/coadd/deepCoadd/VISTA-Ks/8767/4,3.fits\\n',\n",
       " 'data/rerun/coadd/deepCoadd/VISTA-Ks/8767/5,0.fits\\n',\n",
       " 'data/rerun/coadd/deepCoadd/VISTA-Ks/8767/5,2.fits\\n',\n",
       " 'data/rerun/coadd/deepCoadd/VISTA-Ks/8767/5,3.fits\\n',\n",
       " 'data/rerun/coadd/deepCoadd/VISTA-Ks/8767/6,0.fits\\n',\n",
       " 'data/rerun/coadd/deepCoadd/VISTA-Ks/8767/6,3.fits\\n',\n",
       " 'data/rerun/coadd/deepCoadd/VISTA-Ks/8767/7,0.fits\\n',\n",
       " 'data/rerun/coadd/deepCoadd/VISTA-Ks/8767/7,1.fits\\n',\n",
       " 'data/rerun/coadd/deepCoadd/VISTA-Ks/8767/7,2.fits\\n',\n",
       " 'data/rerun/coadd/deepCoadd/VISTA-Ks/8767/7,3.fits\\n',\n",
       " 'data/rerun/coadd/deepCoadd/VISTA-Ks/8767/8,0.fits\\n',\n",
       " 'data/rerun/coadd/deepCoadd/VISTA-Ks/8767/8,1.fits\\n',\n",
       " 'data/rerun/coadd/deepCoadd/VISTA-Ks/8767/8,2.fits\\n',\n",
       " 'data/rerun/coadd/deepCoadd/VISTA-Ks/8767/8,3.fits\\n']"
      ]
     },
     "execution_count": 48,
     "metadata": {},
     "output_type": "execute_result"
    }
   ],
   "source": [
    "coadds"
   ]
  },
  {
   "cell_type": "code",
   "execution_count": 49,
   "metadata": {},
   "outputs": [
    {
     "data": {
      "text/plain": [
       "169"
      ]
     },
     "execution_count": 49,
     "metadata": {},
     "output_type": "execute_result"
    }
   ],
   "source": [
    "len(coadds)"
   ]
  },
  {
   "cell_type": "code",
   "execution_count": 50,
   "metadata": {},
   "outputs": [
    {
     "data": {
      "text/plain": [
       "140"
      ]
     },
     "execution_count": 50,
     "metadata": {},
     "output_type": "execute_result"
    }
   ],
   "source": [
    "len(forced)"
   ]
  },
  {
   "cell_type": "code",
   "execution_count": 54,
   "metadata": {},
   "outputs": [
    {
     "data": {
      "image/png": "[encoded data removed]",
      "text/plain": [
       "<Figure size 560x560 with 1 Axes>"
      ]
     },
     "metadata": {
      "needs_background": "light"
     },
     "output_type": "display_data"
    }
   ],
   "source": [
    "fig, ax = plt.subplots(figsize=(4, 4), dpi=140)\n",
    "        \n",
    "for tract in sxds_tracts:\n",
    "    vertices = sm.generateTract(tract).getVertexList()\n",
    "    ra = [vertices[n][0].asDegrees() for n in np.mod(np.arange(5),4)]\n",
    "    dec = [vertices[n][1].asDegrees() for n in np.mod(np.arange(5),4)]\n",
    "    ax.plot(ra, dec, c = 'k')\n",
    "    for p in np.nditer(np.meshgrid(np.arange(0,9), np.arange(0,9))):\n",
    "        #print(p[0], p[1])\n",
    "        t = sm.generateTract(tract)\n",
    "        vertices = t.getPatchInfo([p[0], p[1]]).getInnerSkyPolygon(t.getWcs()).getVertices()\n",
    "        ra = [np.arctan(vertices[n][1]/vertices[n][0])* 180/np.pi for n in np.mod(np.arange(5),4)]\n",
    "        #print(tract, ra)\n",
    "        dec = [(vertices[n][2])* 180/np.pi for n in np.mod(np.arange(5),4)]\n",
    "        ax.plot(ra, dec, c = 'k', alpha=0.5, linewidth=0.5)\n",
    "\n",
    "for file in coadds:\n",
    "    patch = file.split('/')[6].split('.')[0]\n",
    "    p = [int(i) for i in patch.split(',')]\n",
    "    tract = int(file.split('/')[5])\n",
    "    \n",
    "    t = sm.generateTract(tract)\n",
    "    vertices = t.getPatchInfo([p[0], p[1]]).getInnerSkyPolygon(t.getWcs()).getVertices()\n",
    "    ra = [np.arctan(vertices[n][1]/vertices[n][0])* 180/np.pi for n in np.mod(np.arange(5),4)]\n",
    "    #print(tract, ra)\n",
    "    dec = [(vertices[n][2])* 180/np.pi for n in np.mod(np.arange(5),4)]\n",
    "    ax.fill(ra, dec, c = 'r', alpha=0.3, linewidth=0.5)\n",
    "\n",
    "\n",
    "for file in forced:\n",
    "    patch = file.split('/')[6]\n",
    "    p = [int(i) for i in patch.split(',')]\n",
    "    tract = int(file.split('/')[5])\n",
    "    \n",
    "    t = sm.generateTract(int(tract))\n",
    "    vertices = t.getPatchInfo([p[0], p[1]]).getInnerSkyPolygon(t.getWcs()).getVertices()\n",
    "    ra = [np.arctan(vertices[n][1]/vertices[n][0])* 180/np.pi for n in np.mod(np.arange(5),4)]\n",
    "    #print(tract, ra)\n",
    "    dec = [(vertices[n][2])* 180/np.pi for n in np.mod(np.arange(5),4)]\n",
    "    ax.plot(ra, dec, c = 'b', alpha=0.5, linewidth=0.5)\n",
    "        \n",
    "\n",
    "    \n",
    "ax.axis('scaled')\n",
    "ax.set_xlim([39, 33])\n",
    "ax.set_xlabel('Right Ascension [deg]')\n",
    "ax.set_ylabel('Declination[deg]')\n",
    "fig.savefig('./figs/sxds_failed_patches.pdf', overwrite=True)\n",
    "fig.savefig('./figs/sxds_failed_patches.png', overwrite=True)"
   ]
  },
  {
   "cell_type": "code",
   "execution_count": null,
   "metadata": {},
   "outputs": [],
   "source": []
  }
 ],
 "metadata": {
  "kernelspec": {
   "display_name": "LSST",
   "language": "python",
   "name": "lsst"
  },
  "language_info": {
   "codemirror_mode": {
    "name": "ipython",
    "version": 3
   },
   "file_extension": ".py",
   "mimetype": "text/x-python",
   "name": "python",
   "nbconvert_exporter": "python",
   "pygments_lexer": "ipython3",
   "version": "3.7.6"
  }
 },
 "nbformat": 4,
 "nbformat_minor": 4
}
