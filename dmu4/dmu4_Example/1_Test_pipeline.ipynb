{
 "cells": [
  {
   "cell_type": "markdown",
   "metadata": {},
   "source": [
    "# Testing LSST pipeline\n",
    "\n",
    "Jim Bosch has an example here: https://www.astro.princeton.edu/~jbosch/hsc/HSC-Pipeline-Outputs.html\n",
    "\n",
    "Here we will attempot to reproduce the example at https://pipelines.lsst.io/v/DM-11391/getting-started I now think this example was built for the 14.0.0 stack and will not work now.\n",
    "\n",
    "The examples we are running here are from https://pipelines.lsst.io/getting-started"
   ]
  },
  {
   "cell_type": "markdown",
   "metadata": {},
   "source": [
    "Here are the full command line commands needed to run the visualisation.\n",
    "\n",
    "```Shell\n",
    "cd\n",
    "```"
   ]
  },
  {
   "cell_type": "code",
   "execution_count": 1,
   "metadata": {},
   "outputs": [],
   "source": [
    "import lsst.daf.persistence as dafPersist\n",
    "butler = dafPersist.Butler(inputs='DATA/rerun/processCcdOutputs')\n"
   ]
  },
  {
   "cell_type": "code",
   "execution_count": 2,
   "metadata": {},
   "outputs": [
    {
     "data": {
      "text/plain": [
       "[(903334, 16),\n",
       " (903334, 22),\n",
       " (903334, 23),\n",
       " (903334, 100),\n",
       " (903336, 17),\n",
       " (903336, 24),\n",
       " (903338, 18),\n",
       " (903338, 25),\n",
       " (903342, 4),\n",
       " (903342, 10),\n",
       " (903342, 100),\n",
       " (903344, 0),\n",
       " (903344, 5),\n",
       " (903344, 11),\n",
       " (903346, 1),\n",
       " (903346, 6),\n",
       " (903346, 12)]"
      ]
     },
     "execution_count": 2,
     "metadata": {},
     "output_type": "execute_result"
    }
   ],
   "source": [
    "butler.queryMetadata('calexp', ['visit', 'ccd'], dataId={'filter': 'HSC-R'})"
   ]
  },
  {
   "cell_type": "code",
   "execution_count": 3,
   "metadata": {},
   "outputs": [],
   "source": [
    "calexp = butler.get('calexp', dataId={'filter': 'HSC-R', 'visit': 903334, 'ccd': 23})"
   ]
  },
  {
   "cell_type": "code",
   "execution_count": 4,
   "metadata": {},
   "outputs": [],
   "source": [
    "import lsst.afw.display as afwDisplay"
   ]
  },
  {
   "cell_type": "code",
   "execution_count": 5,
   "metadata": {},
   "outputs": [],
   "source": [
    "#DS9 must be open to run this\n",
    "display = afwDisplay.getDisplay()"
   ]
  },
  {
   "cell_type": "code",
   "execution_count": 7,
   "metadata": {},
   "outputs": [],
   "source": [
    "display.mtv(calexp)"
   ]
  },
  {
   "cell_type": "code",
   "execution_count": 8,
   "metadata": {},
   "outputs": [],
   "source": [
    "display.setMaskTransparency(60)"
   ]
  },
  {
   "cell_type": "code",
   "execution_count": 9,
   "metadata": {},
   "outputs": [],
   "source": [
    "display.scale(\"asinh\", \"zscale\")"
   ]
  },
  {
   "cell_type": "code",
   "execution_count": 10,
   "metadata": {},
   "outputs": [],
   "source": [
    "display.scale(\"asinh\", -1, 30)"
   ]
  },
  {
   "cell_type": "code",
   "execution_count": 12,
   "metadata": {},
   "outputs": [
    {
     "name": "stdout",
     "output_type": "stream",
     "text": [
      "BAD: red\n",
      "CR: magenta\n",
      "CROSSTALK: None\n",
      "DETECTED: blue\n",
      "DETECTED_NEGATIVE: cyan\n",
      "EDGE: yellow\n",
      "INTRP: green\n",
      "NOT_DEBLENDED: None\n",
      "NO_DATA: orange\n",
      "SAT: green\n",
      "SUSPECT: yellow\n",
      "UNMASKEDNAN: None\n"
     ]
    }
   ],
   "source": [
    "mask = calexp.getMask()\n",
    "for maskName, maskBit in mask.getMaskPlaneDict().items():\n",
    "    print('{}: {}'.format(maskName, display.getMaskPlaneColor(maskName)))"
   ]
  },
  {
   "cell_type": "code",
   "execution_count": 13,
   "metadata": {},
   "outputs": [],
   "source": [
    "src = butler.get('src', dataId={'filter': 'HSC-R', 'visit': 903334, 'ccd': 23})"
   ]
  },
  {
   "cell_type": "code",
   "execution_count": 14,
   "metadata": {},
   "outputs": [
    {
     "name": "stdout",
     "output_type": "stream",
     "text": [
      "1256\n"
     ]
    }
   ],
   "source": [
    "print(len(src))"
   ]
  },
  {
   "cell_type": "code",
   "execution_count": 16,
   "metadata": {},
   "outputs": [
    {
     "name": "stdout",
     "output_type": "stream",
     "text": [
      "Schema(\n",
      "    (Field['L'](name=\"id\", doc=\"unique ID\"), Key<L>(offset=0, nElements=1)),\n",
      "    (Field['Angle'](name=\"coord_ra\", doc=\"position in ra/dec\"), Key<Angle>(offset=8, nElements=1)),\n",
      "    (Field['Angle'](name=\"coord_dec\", doc=\"position in ra/dec\"), Key<Angle>(offset=16, nElements=1)),\n",
      "    (Field['L'](name=\"parent\", doc=\"unique ID of parent source\"), Key<L>(offset=24, nElements=1)),\n",
      "    (Field['Flag'](name=\"calib_detected\", doc=\"Source was detected as an icSource\"), Key['Flag'](offset=32, bit=0)),\n",
      "    (Field['Flag'](name=\"calib_psf_candidate\", doc=\"Flag set if the source was a candidate for PSF determination, as determined by the star selector.\"), Key['Flag'](offset=32, bit=1)),\n",
      "    (Field['Flag'](name=\"calib_psf_used\", doc=\"Flag set if the source was actually used for PSF determination, as determined by the\"), Key['Flag'](offset=32, bit=2)),\n",
      "    (Field['Flag'](name=\"calib_psf_reserved\", doc=\"set if source was reserved from PSF determination\"), Key['Flag'](offset=32, bit=3)),\n",
      "    (Field['I'](name=\"deblend_nChild\", doc=\"Number of children this object has (defaults to 0)\"), Key<I>(offset=40, nElements=1)),\n",
      "    (Field['Flag'](name=\"deblend_deblendedAsPsf\", doc=\"Deblender thought this source looked like a PSF\"), Key['Flag'](offset=32, bit=4)),\n",
      "    (Field['D'](name=\"deblend_psfCenter_x\", doc=\"If deblended-as-psf, the PSF centroid\", units=\"pixel\"), Key<D>(offset=48, nElements=1)),\n",
      "    (Field['D'](name=\"deblend_psfCenter_y\", doc=\"If deblended-as-psf, the PSF centroid\", units=\"pixel\"), Key<D>(offset=56, nElements=1)),\n",
      "    (Field['D'](name=\"deblend_psf_instFlux\", doc=\"If deblended-as-psf, the instrumental PSF flux\", units=\"count\"), Key<D>(offset=64, nElements=1)),\n",
      "    (Field['Flag'](name=\"deblend_tooManyPeaks\", doc=\"Source had too many peaks; only the brightest were included\"), Key['Flag'](offset=32, bit=5)),\n",
      "    (Field['Flag'](name=\"deblend_parentTooBig\", doc=\"Parent footprint covered too many pixels\"), Key['Flag'](offset=32, bit=6)),\n",
      "    (Field['Flag'](name=\"deblend_masked\", doc=\"Parent footprint was predominantly masked\"), Key['Flag'](offset=32, bit=7)),\n",
      "    (Field['Flag'](name=\"deblend_skipped\", doc=\"Deblender skipped this source\"), Key['Flag'](offset=32, bit=8)),\n",
      "    (Field['Flag'](name=\"deblend_rampedTemplate\", doc=\"This source was near an image edge and the deblender used \"ramp\" edge-handling.\"), Key['Flag'](offset=32, bit=9)),\n",
      "    (Field['Flag'](name=\"deblend_patchedTemplate\", doc=\"This source was near an image edge and the deblender used \"patched\" edge-handling.\"), Key['Flag'](offset=32, bit=10)),\n",
      "    (Field['Flag'](name=\"deblend_hasStrayFlux\", doc=\"This source was assigned some stray flux\"), Key['Flag'](offset=32, bit=11)),\n",
      "    (Field['Flag'](name=\"sky_source\", doc=\"Sky objects.\"), Key['Flag'](offset=32, bit=12)),\n",
      "    (Field['D'](name=\"base_NaiveCentroid_x\", doc=\"centroid from Naive Centroid algorithm\", units=\"pixel\"), Key<D>(offset=72, nElements=1)),\n",
      "    (Field['D'](name=\"base_NaiveCentroid_y\", doc=\"centroid from Naive Centroid algorithm\", units=\"pixel\"), Key<D>(offset=80, nElements=1)),\n",
      "    (Field['Flag'](name=\"base_NaiveCentroid_flag\", doc=\"General Failure Flag\"), Key['Flag'](offset=32, bit=13)),\n",
      "    (Field['Flag'](name=\"base_NaiveCentroid_flag_noCounts\", doc=\"Object to be centroided has no counts\"), Key['Flag'](offset=32, bit=14)),\n",
      "    (Field['Flag'](name=\"base_NaiveCentroid_flag_edge\", doc=\"Object too close to edge\"), Key['Flag'](offset=32, bit=15)),\n",
      "    (Field['Flag'](name=\"base_NaiveCentroid_flag_resetToPeak\", doc=\"set if CentroidChecker reset the centroid\"), Key['Flag'](offset=32, bit=16)),\n",
      "    (Field['D'](name=\"base_SdssCentroid_x\", doc=\"centroid from Sdss Centroid algorithm\", units=\"pixel\"), Key<D>(offset=88, nElements=1)),\n",
      "    (Field['D'](name=\"base_SdssCentroid_y\", doc=\"centroid from Sdss Centroid algorithm\", units=\"pixel\"), Key<D>(offset=96, nElements=1)),\n",
      "    (Field['F'](name=\"base_SdssCentroid_xErr\", doc=\"1-sigma uncertainty on x position\", units=\"pixel\"), Key<F>(offset=104, nElements=1)),\n",
      "    (Field['F'](name=\"base_SdssCentroid_yErr\", doc=\"1-sigma uncertainty on y position\", units=\"pixel\"), Key<F>(offset=108, nElements=1)),\n",
      "    (Field['Flag'](name=\"base_SdssCentroid_flag\", doc=\"General Failure Flag\"), Key['Flag'](offset=32, bit=17)),\n",
      "    (Field['Flag'](name=\"base_SdssCentroid_flag_edge\", doc=\"Object too close to edge\"), Key['Flag'](offset=32, bit=18)),\n",
      "    (Field['Flag'](name=\"base_SdssCentroid_flag_noSecondDerivative\", doc=\"Vanishing second derivative\"), Key['Flag'](offset=32, bit=19)),\n",
      "    (Field['Flag'](name=\"base_SdssCentroid_flag_almostNoSecondDerivative\", doc=\"Almost vanishing second derivative\"), Key['Flag'](offset=32, bit=20)),\n",
      "    (Field['Flag'](name=\"base_SdssCentroid_flag_notAtMaximum\", doc=\"Object is not at a maximum\"), Key['Flag'](offset=32, bit=21)),\n",
      "    (Field['Flag'](name=\"base_SdssCentroid_flag_resetToPeak\", doc=\"set if CentroidChecker reset the centroid\"), Key['Flag'](offset=32, bit=22)),\n",
      "    (Field['Flag'](name=\"base_SdssCentroid_flag_badError\", doc=\"Error on x and/or y position is NaN\"), Key['Flag'](offset=32, bit=23)),\n",
      "    (Field['D'](name=\"base_Blendedness_old\", doc=\"Blendedness from dot products: (child.dot(parent)/child.dot(child) - 1)\"), Key<D>(offset=112, nElements=1)),\n",
      "    (Field['D'](name=\"base_Blendedness_raw\", doc=\"Measure of how much the flux is affected by neighbors: (1 - child_instFlux/parent_instFlux).  Operates on the \"raw\" pixel values.\"), Key<D>(offset=120, nElements=1)),\n",
      "    (Field['D'](name=\"base_Blendedness_raw_child_instFlux\", doc=\"Instrumental flux of the child, measured with a Gaussian weight matched to the child.  Operates on the \"raw\" pixel values.\", units=\"count\"), Key<D>(offset=128, nElements=1)),\n",
      "    (Field['D'](name=\"base_Blendedness_raw_parent_instFlux\", doc=\"Instrumental flux of the parent, measured with a Gaussian weight matched to the child.  Operates on the \"raw\" pixel values.\", units=\"count\"), Key<D>(offset=136, nElements=1)),\n",
      "    (Field['D'](name=\"base_Blendedness_abs\", doc=\"Measure of how much the flux is affected by neighbors: (1 - child_instFlux/parent_instFlux).  Operates on the absolute value of the pixels to try to obtain a \"de-noised\" value.  See section 4.9.11 of Bosch et al. 2018, PASJ, 70, S5 for details.\"), Key<D>(offset=144, nElements=1)),\n",
      "    (Field['D'](name=\"base_Blendedness_abs_child_instFlux\", doc=\"Instrumental flux of the child, measured with a Gaussian weight matched to the child.  Operates on the absolute value of the pixels to try to obtain a \"de-noised\" value.  See section 4.9.11 of Bosch et al. 2018, PASJ, 70, S5 for details.\", units=\"count\"), Key<D>(offset=152, nElements=1)),\n",
      "    (Field['D'](name=\"base_Blendedness_abs_parent_instFlux\", doc=\"Instrumental flux of the parent, measured with a Gaussian weight matched to the child.  Operates on the absolute value of the pixels to try to obtain a \"de-noised\" value.  See section 4.9.11 of Bosch et al. 2018, PASJ, 70, S5 for details.\", units=\"count\"), Key<D>(offset=160, nElements=1)),\n",
      "    (Field['D'](name=\"base_Blendedness_raw_child_xx\", doc=\"Shape of the child, measured with a Gaussian weight matched to the child.  Operates on the \"raw\" pixel values.\", units=\"pixel^2\"), Key<D>(offset=168, nElements=1)),\n",
      "    (Field['D'](name=\"base_Blendedness_raw_child_yy\", doc=\"Shape of the child, measured with a Gaussian weight matched to the child.  Operates on the \"raw\" pixel values.\", units=\"pixel^2\"), Key<D>(offset=176, nElements=1)),\n",
      "    (Field['D'](name=\"base_Blendedness_raw_child_xy\", doc=\"Shape of the child, measured with a Gaussian weight matched to the child.  Operates on the \"raw\" pixel values.\", units=\"pixel^2\"), Key<D>(offset=184, nElements=1)),\n",
      "    (Field['D'](name=\"base_Blendedness_raw_parent_xx\", doc=\"Shape of the parent, measured with a Gaussian weight matched to the child.  Operates on the \"raw\" pixel values.\", units=\"pixel^2\"), Key<D>(offset=192, nElements=1)),\n",
      "    (Field['D'](name=\"base_Blendedness_raw_parent_yy\", doc=\"Shape of the parent, measured with a Gaussian weight matched to the child.  Operates on the \"raw\" pixel values.\", units=\"pixel^2\"), Key<D>(offset=200, nElements=1)),\n",
      "    (Field['D'](name=\"base_Blendedness_raw_parent_xy\", doc=\"Shape of the parent, measured with a Gaussian weight matched to the child.  Operates on the \"raw\" pixel values.\", units=\"pixel^2\"), Key<D>(offset=208, nElements=1)),\n",
      "    (Field['D'](name=\"base_Blendedness_abs_child_xx\", doc=\"Shape of the child, measured with a Gaussian weight matched to the child.  Operates on the absolute value of the pixels to try to obtain a \"de-noised\" value.  See section 4.9.11 of Bosch et al. 2018, PASJ, 70, S5 for details.\", units=\"pixel^2\"), Key<D>(offset=216, nElements=1)),\n",
      "    (Field['D'](name=\"base_Blendedness_abs_child_yy\", doc=\"Shape of the child, measured with a Gaussian weight matched to the child.  Operates on the absolute value of the pixels to try to obtain a \"de-noised\" value.  See section 4.9.11 of Bosch et al. 2018, PASJ, 70, S5 for details.\", units=\"pixel^2\"), Key<D>(offset=224, nElements=1)),\n",
      "    (Field['D'](name=\"base_Blendedness_abs_child_xy\", doc=\"Shape of the child, measured with a Gaussian weight matched to the child.  Operates on the absolute value of the pixels to try to obtain a \"de-noised\" value.  See section 4.9.11 of Bosch et al. 2018, PASJ, 70, S5 for details.\", units=\"pixel^2\"), Key<D>(offset=232, nElements=1)),\n",
      "    (Field['D'](name=\"base_Blendedness_abs_parent_xx\", doc=\"Shape of the parent, measured with a Gaussian weight matched to the child.  Operates on the absolute value of the pixels to try to obtain a \"de-noised\" value.  See section 4.9.11 of Bosch et al. 2018, PASJ, 70, S5 for details.\", units=\"pixel^2\"), Key<D>(offset=240, nElements=1)),\n",
      "    (Field['D'](name=\"base_Blendedness_abs_parent_yy\", doc=\"Shape of the parent, measured with a Gaussian weight matched to the child.  Operates on the absolute value of the pixels to try to obtain a \"de-noised\" value.  See section 4.9.11 of Bosch et al. 2018, PASJ, 70, S5 for details.\", units=\"pixel^2\"), Key<D>(offset=248, nElements=1)),\n",
      "    (Field['D'](name=\"base_Blendedness_abs_parent_xy\", doc=\"Shape of the parent, measured with a Gaussian weight matched to the child.  Operates on the absolute value of the pixels to try to obtain a \"de-noised\" value.  See section 4.9.11 of Bosch et al. 2018, PASJ, 70, S5 for details.\", units=\"pixel^2\"), Key<D>(offset=256, nElements=1)),\n",
      "    (Field['Flag'](name=\"base_Blendedness_flag\", doc=\"General Failure Flag\"), Key['Flag'](offset=32, bit=24)),\n",
      "    (Field['Flag'](name=\"base_Blendedness_flag_noCentroid\", doc=\"Object has no centroid\"), Key['Flag'](offset=32, bit=25)),\n",
      "    (Field['Flag'](name=\"base_Blendedness_flag_noShape\", doc=\"Object has no shape\"), Key['Flag'](offset=32, bit=26)),\n",
      "    (Field['D'](name=\"base_FPPosition_x\", doc=\"Position on the focal plane\", units=\"mm\"), Key<D>(offset=264, nElements=1)),\n",
      "    (Field['D'](name=\"base_FPPosition_y\", doc=\"Position on the focal plane\", units=\"mm\"), Key<D>(offset=272, nElements=1)),\n",
      "    (Field['Flag'](name=\"base_FPPosition_flag\", doc=\"Set to True for any fatal failure\"), Key['Flag'](offset=32, bit=27)),\n",
      "    (Field['Flag'](name=\"base_FPPosition_missingDetector_flag\", doc=\"Set to True if detector object is missing\"), Key['Flag'](offset=32, bit=28)),\n",
      "    (Field['D'](name=\"base_Jacobian_value\", doc=\"Jacobian correction\"), Key<D>(offset=280, nElements=1)),\n",
      "    (Field['Flag'](name=\"base_Jacobian_flag\", doc=\"Set to 1 for any fatal failure\"), Key['Flag'](offset=32, bit=29)),\n",
      "    (Field['D'](name=\"base_SdssShape_xx\", doc=\"elliptical Gaussian adaptive moments\", units=\"pixel^2\"), Key<D>(offset=288, nElements=1)),\n",
      "    (Field['D'](name=\"base_SdssShape_yy\", doc=\"elliptical Gaussian adaptive moments\", units=\"pixel^2\"), Key<D>(offset=296, nElements=1)),\n",
      "    (Field['D'](name=\"base_SdssShape_xy\", doc=\"elliptical Gaussian adaptive moments\", units=\"pixel^2\"), Key<D>(offset=304, nElements=1)),\n",
      "    (Field['F'](name=\"base_SdssShape_xxErr\", doc=\"Standard deviation of xx moment\", units=\"pixel^2\"), Key<F>(offset=312, nElements=1)),\n",
      "    (Field['F'](name=\"base_SdssShape_yyErr\", doc=\"Standard deviation of yy moment\", units=\"pixel^2\"), Key<F>(offset=316, nElements=1)),\n",
      "    (Field['F'](name=\"base_SdssShape_xyErr\", doc=\"Standard deviation of xy moment\", units=\"pixel^2\"), Key<F>(offset=320, nElements=1)),\n",
      "    (Field['D'](name=\"base_SdssShape_x\", doc=\"elliptical Gaussian adaptive moments\", units=\"pixel\"), Key<D>(offset=328, nElements=1)),\n",
      "    (Field['D'](name=\"base_SdssShape_y\", doc=\"elliptical Gaussian adaptive moments\", units=\"pixel\"), Key<D>(offset=336, nElements=1)),\n",
      "    (Field['D'](name=\"base_SdssShape_instFlux\", doc=\"elliptical Gaussian adaptive moments\", units=\"count\"), Key<D>(offset=344, nElements=1)),\n",
      "    (Field['D'](name=\"base_SdssShape_instFluxErr\", doc=\"1-sigma instFlux uncertainty\", units=\"count\"), Key<D>(offset=352, nElements=1)),\n",
      "    (Field['D'](name=\"base_SdssShape_psf_xx\", doc=\"adaptive moments of the PSF model at the object position\", units=\"pixel^2\"), Key<D>(offset=360, nElements=1)),\n",
      "    (Field['D'](name=\"base_SdssShape_psf_yy\", doc=\"adaptive moments of the PSF model at the object position\", units=\"pixel^2\"), Key<D>(offset=368, nElements=1)),\n",
      "    (Field['D'](name=\"base_SdssShape_psf_xy\", doc=\"adaptive moments of the PSF model at the object position\", units=\"pixel^2\"), Key<D>(offset=376, nElements=1)),\n",
      "    (Field['F'](name=\"base_SdssShape_instFlux_xx_Cov\", doc=\"uncertainty covariance between base_SdssShape_instFlux and base_SdssShape_xx\", units=\"count*pixel^2\"), Key<F>(offset=384, nElements=1)),\n",
      "    (Field['F'](name=\"base_SdssShape_instFlux_yy_Cov\", doc=\"uncertainty covariance between base_SdssShape_instFlux and base_SdssShape_yy\", units=\"count*pixel^2\"), Key<F>(offset=388, nElements=1)),\n",
      "    (Field['F'](name=\"base_SdssShape_instFlux_xy_Cov\", doc=\"uncertainty covariance between base_SdssShape_instFlux and base_SdssShape_xy\", units=\"count*pixel^2\"), Key<F>(offset=392, nElements=1)),\n",
      "    (Field['Flag'](name=\"base_SdssShape_flag\", doc=\"General Failure Flag\"), Key['Flag'](offset=32, bit=30)),\n",
      "    (Field['Flag'](name=\"base_SdssShape_flag_unweightedBad\", doc=\"Both weighted and unweighted moments were invalid\"), Key['Flag'](offset=32, bit=31)),\n",
      "    (Field['Flag'](name=\"base_SdssShape_flag_unweighted\", doc=\"Weighted moments converged to an invalid value; using unweighted moments\"), Key['Flag'](offset=32, bit=32)),\n",
      "    (Field['Flag'](name=\"base_SdssShape_flag_shift\", doc=\"centroid shifted by more than the maximum allowed amount\"), Key['Flag'](offset=32, bit=33)),\n",
      "    (Field['Flag'](name=\"base_SdssShape_flag_maxIter\", doc=\"Too many iterations in adaptive moments\"), Key['Flag'](offset=32, bit=34)),\n",
      "    (Field['Flag'](name=\"base_SdssShape_flag_psf\", doc=\"Failure in measuring PSF model shape\"), Key['Flag'](offset=32, bit=35)),\n",
      "    (Field['D'](name=\"ext_shapeHSM_HsmPsfMoments_x\", doc=\"HSM Centroid\", units=\"pixel\"), Key<D>(offset=400, nElements=1)),\n",
      "    (Field['D'](name=\"ext_shapeHSM_HsmPsfMoments_y\", doc=\"HSM Centroid\", units=\"pixel\"), Key<D>(offset=408, nElements=1)),\n",
      "    (Field['D'](name=\"ext_shapeHSM_HsmPsfMoments_xx\", doc=\"HSM moments\", units=\"pixel^2\"), Key<D>(offset=416, nElements=1)),\n",
      "    (Field['D'](name=\"ext_shapeHSM_HsmPsfMoments_yy\", doc=\"HSM moments\", units=\"pixel^2\"), Key<D>(offset=424, nElements=1)),\n",
      "    (Field['D'](name=\"ext_shapeHSM_HsmPsfMoments_xy\", doc=\"HSM moments\", units=\"pixel^2\"), Key<D>(offset=432, nElements=1)),\n",
      "    (Field['Flag'](name=\"ext_shapeHSM_HsmPsfMoments_flag\", doc=\"general failure flag, set if anything went wrong\"), Key['Flag'](offset=32, bit=36)),\n",
      "    (Field['Flag'](name=\"ext_shapeHSM_HsmPsfMoments_flag_no_pixels\", doc=\"no pixels to measure\"), Key['Flag'](offset=32, bit=37)),\n",
      "    (Field['Flag'](name=\"ext_shapeHSM_HsmPsfMoments_flag_not_contained\", doc=\"center not contained in footprint bounding box\"), Key['Flag'](offset=32, bit=38)),\n",
      "    (Field['Flag'](name=\"ext_shapeHSM_HsmPsfMoments_flag_parent_source\", doc=\"parent source, ignored\"), Key['Flag'](offset=32, bit=39)),\n",
      "    (Field['D'](name=\"ext_shapeHSM_HsmShapeRegauss_e1\", doc=\"PSF-corrected shear using Hirata & Seljak (2003) ''regaussianization\"), Key<D>(offset=440, nElements=1)),\n",
      "    (Field['D'](name=\"ext_shapeHSM_HsmShapeRegauss_e2\", doc=\"PSF-corrected shear using Hirata & Seljak (2003) ''regaussianization\"), Key<D>(offset=448, nElements=1)),\n",
      "    (Field['D'](name=\"ext_shapeHSM_HsmShapeRegauss_sigma\", doc=\"PSF-corrected shear using Hirata & Seljak (2003) ''regaussianization\"), Key<D>(offset=456, nElements=1)),\n",
      "    (Field['D'](name=\"ext_shapeHSM_HsmShapeRegauss_resolution\", doc=\"resolution factor (0=unresolved, 1=resolved)\"), Key<D>(offset=464, nElements=1)),\n",
      "    (Field['Flag'](name=\"ext_shapeHSM_HsmShapeRegauss_flag\", doc=\"general failure flag, set if anything went wrong\"), Key['Flag'](offset=32, bit=40)),\n",
      "    (Field['Flag'](name=\"ext_shapeHSM_HsmShapeRegauss_flag_no_pixels\", doc=\"no pixels to measure\"), Key['Flag'](offset=32, bit=41)),\n",
      "    (Field['Flag'](name=\"ext_shapeHSM_HsmShapeRegauss_flag_not_contained\", doc=\"center not contained in footprint bounding box\"), Key['Flag'](offset=32, bit=42)),\n",
      "    (Field['Flag'](name=\"ext_shapeHSM_HsmShapeRegauss_flag_parent_source\", doc=\"parent source, ignored\"), Key['Flag'](offset=32, bit=43)),\n",
      "    (Field['Flag'](name=\"ext_shapeHSM_HsmShapeRegauss_flag_galsim\", doc=\"GalSim failure\"), Key['Flag'](offset=32, bit=44)),\n",
      "    (Field['D'](name=\"ext_shapeHSM_HsmSourceMoments_x\", doc=\"HSM Centroid\", units=\"pixel\"), Key<D>(offset=472, nElements=1)),\n",
      "    (Field['D'](name=\"ext_shapeHSM_HsmSourceMoments_y\", doc=\"HSM Centroid\", units=\"pixel\"), Key<D>(offset=480, nElements=1)),\n",
      "    (Field['D'](name=\"ext_shapeHSM_HsmSourceMoments_xx\", doc=\"HSM moments\", units=\"pixel^2\"), Key<D>(offset=488, nElements=1)),\n",
      "    (Field['D'](name=\"ext_shapeHSM_HsmSourceMoments_yy\", doc=\"HSM moments\", units=\"pixel^2\"), Key<D>(offset=496, nElements=1)),\n",
      "    (Field['D'](name=\"ext_shapeHSM_HsmSourceMoments_xy\", doc=\"HSM moments\", units=\"pixel^2\"), Key<D>(offset=504, nElements=1)),\n",
      "    (Field['Flag'](name=\"ext_shapeHSM_HsmSourceMoments_flag\", doc=\"general failure flag, set if anything went wrong\"), Key['Flag'](offset=32, bit=45)),\n",
      "    (Field['Flag'](name=\"ext_shapeHSM_HsmSourceMoments_flag_no_pixels\", doc=\"no pixels to measure\"), Key['Flag'](offset=32, bit=46)),\n",
      "    (Field['Flag'](name=\"ext_shapeHSM_HsmSourceMoments_flag_not_contained\", doc=\"center not contained in footprint bounding box\"), Key['Flag'](offset=32, bit=47)),\n",
      "    (Field['Flag'](name=\"ext_shapeHSM_HsmSourceMoments_flag_parent_source\", doc=\"parent source, ignored\"), Key['Flag'](offset=32, bit=48)),\n",
      "    (Field['D'](name=\"ext_shapeHSM_HsmSourceMomentsRound_x\", doc=\"HSM Centroid\", units=\"pixel\"), Key<D>(offset=512, nElements=1)),\n",
      "    (Field['D'](name=\"ext_shapeHSM_HsmSourceMomentsRound_y\", doc=\"HSM Centroid\", units=\"pixel\"), Key<D>(offset=520, nElements=1)),\n",
      "    (Field['D'](name=\"ext_shapeHSM_HsmSourceMomentsRound_xx\", doc=\"HSM moments\", units=\"pixel^2\"), Key<D>(offset=528, nElements=1)),\n",
      "    (Field['D'](name=\"ext_shapeHSM_HsmSourceMomentsRound_yy\", doc=\"HSM moments\", units=\"pixel^2\"), Key<D>(offset=536, nElements=1)),\n",
      "    (Field['D'](name=\"ext_shapeHSM_HsmSourceMomentsRound_xy\", doc=\"HSM moments\", units=\"pixel^2\"), Key<D>(offset=544, nElements=1)),\n",
      "    (Field['Flag'](name=\"ext_shapeHSM_HsmSourceMomentsRound_flag\", doc=\"general failure flag, set if anything went wrong\"), Key['Flag'](offset=32, bit=49)),\n",
      "    (Field['Flag'](name=\"ext_shapeHSM_HsmSourceMomentsRound_flag_no_pixels\", doc=\"no pixels to measure\"), Key['Flag'](offset=32, bit=50)),\n",
      "    (Field['Flag'](name=\"ext_shapeHSM_HsmSourceMomentsRound_flag_not_contained\", doc=\"center not contained in footprint bounding box\"), Key['Flag'](offset=32, bit=51)),\n",
      "    (Field['Flag'](name=\"ext_shapeHSM_HsmSourceMomentsRound_flag_parent_source\", doc=\"parent source, ignored\"), Key['Flag'](offset=32, bit=52)),\n",
      "    (Field['F'](name=\"ext_shapeHSM_HsmSourceMomentsRound_Flux\", doc=\"HSM flux\"), Key<F>(offset=552, nElements=1)),\n",
      "    (Field['D'](name=\"base_CircularApertureFlux_3_0_instFlux\", doc=\"instFlux within 3.000000-pixel aperture\", units=\"count\"), Key<D>(offset=560, nElements=1)),\n",
      "    (Field['D'](name=\"base_CircularApertureFlux_3_0_instFluxErr\", doc=\"1-sigma instFlux uncertainty\", units=\"count\"), Key<D>(offset=568, nElements=1)),\n",
      "    (Field['Flag'](name=\"base_CircularApertureFlux_3_0_flag\", doc=\"General Failure Flag\"), Key['Flag'](offset=32, bit=53)),\n",
      "    (Field['Flag'](name=\"base_CircularApertureFlux_3_0_flag_apertureTruncated\", doc=\"aperture did not fit within measurement image\"), Key['Flag'](offset=32, bit=54)),\n",
      "    (Field['Flag'](name=\"base_CircularApertureFlux_3_0_flag_sincCoeffsTruncated\", doc=\"full sinc coefficient image did not fit within measurement image\"), Key['Flag'](offset=32, bit=55)),\n",
      "    (Field['D'](name=\"base_CircularApertureFlux_4_5_instFlux\", doc=\"instFlux within 4.500000-pixel aperture\", units=\"count\"), Key<D>(offset=576, nElements=1)),\n",
      "    (Field['D'](name=\"base_CircularApertureFlux_4_5_instFluxErr\", doc=\"1-sigma instFlux uncertainty\", units=\"count\"), Key<D>(offset=584, nElements=1)),\n",
      "    (Field['Flag'](name=\"base_CircularApertureFlux_4_5_flag\", doc=\"General Failure Flag\"), Key['Flag'](offset=32, bit=56)),\n",
      "    (Field['Flag'](name=\"base_CircularApertureFlux_4_5_flag_apertureTruncated\", doc=\"aperture did not fit within measurement image\"), Key['Flag'](offset=32, bit=57)),\n",
      "    (Field['Flag'](name=\"base_CircularApertureFlux_4_5_flag_sincCoeffsTruncated\", doc=\"full sinc coefficient image did not fit within measurement image\"), Key['Flag'](offset=32, bit=58)),\n",
      "    (Field['D'](name=\"base_CircularApertureFlux_6_0_instFlux\", doc=\"instFlux within 6.000000-pixel aperture\", units=\"count\"), Key<D>(offset=592, nElements=1)),\n",
      "    (Field['D'](name=\"base_CircularApertureFlux_6_0_instFluxErr\", doc=\"1-sigma instFlux uncertainty\", units=\"count\"), Key<D>(offset=600, nElements=1)),\n",
      "    (Field['Flag'](name=\"base_CircularApertureFlux_6_0_flag\", doc=\"General Failure Flag\"), Key['Flag'](offset=32, bit=59)),\n",
      "    (Field['Flag'](name=\"base_CircularApertureFlux_6_0_flag_apertureTruncated\", doc=\"aperture did not fit within measurement image\"), Key['Flag'](offset=32, bit=60)),\n",
      "    (Field['Flag'](name=\"base_CircularApertureFlux_6_0_flag_sincCoeffsTruncated\", doc=\"full sinc coefficient image did not fit within measurement image\"), Key['Flag'](offset=32, bit=61)),\n",
      "    (Field['D'](name=\"base_CircularApertureFlux_9_0_instFlux\", doc=\"instFlux within 9.000000-pixel aperture\", units=\"count\"), Key<D>(offset=608, nElements=1)),\n",
      "    (Field['D'](name=\"base_CircularApertureFlux_9_0_instFluxErr\", doc=\"1-sigma instFlux uncertainty\", units=\"count\"), Key<D>(offset=616, nElements=1)),\n",
      "    (Field['Flag'](name=\"base_CircularApertureFlux_9_0_flag\", doc=\"General Failure Flag\"), Key['Flag'](offset=32, bit=62)),\n",
      "    (Field['Flag'](name=\"base_CircularApertureFlux_9_0_flag_apertureTruncated\", doc=\"aperture did not fit within measurement image\"), Key['Flag'](offset=32, bit=63)),\n",
      "    (Field['Flag'](name=\"base_CircularApertureFlux_9_0_flag_sincCoeffsTruncated\", doc=\"full sinc coefficient image did not fit within measurement image\"), Key['Flag'](offset=624, bit=0)),\n",
      "    (Field['D'](name=\"base_CircularApertureFlux_12_0_instFlux\", doc=\"instFlux within 12.000000-pixel aperture\", units=\"count\"), Key<D>(offset=632, nElements=1)),\n",
      "    (Field['D'](name=\"base_CircularApertureFlux_12_0_instFluxErr\", doc=\"1-sigma instFlux uncertainty\", units=\"count\"), Key<D>(offset=640, nElements=1)),\n",
      "    (Field['Flag'](name=\"base_CircularApertureFlux_12_0_flag\", doc=\"General Failure Flag\"), Key['Flag'](offset=624, bit=1)),\n",
      "    (Field['Flag'](name=\"base_CircularApertureFlux_12_0_flag_apertureTruncated\", doc=\"aperture did not fit within measurement image\"), Key['Flag'](offset=624, bit=2)),\n",
      "    (Field['Flag'](name=\"base_CircularApertureFlux_12_0_flag_sincCoeffsTruncated\", doc=\"full sinc coefficient image did not fit within measurement image\"), Key['Flag'](offset=624, bit=3)),\n",
      "    (Field['D'](name=\"base_CircularApertureFlux_17_0_instFlux\", doc=\"instFlux within 17.000000-pixel aperture\", units=\"count\"), Key<D>(offset=648, nElements=1)),\n",
      "    (Field['D'](name=\"base_CircularApertureFlux_17_0_instFluxErr\", doc=\"1-sigma instFlux uncertainty\", units=\"count\"), Key<D>(offset=656, nElements=1)),\n",
      "    (Field['Flag'](name=\"base_CircularApertureFlux_17_0_flag\", doc=\"General Failure Flag\"), Key['Flag'](offset=624, bit=4)),\n",
      "    (Field['Flag'](name=\"base_CircularApertureFlux_17_0_flag_apertureTruncated\", doc=\"aperture did not fit within measurement image\"), Key['Flag'](offset=624, bit=5)),\n",
      "    (Field['D'](name=\"base_CircularApertureFlux_25_0_instFlux\", doc=\"instFlux within 25.000000-pixel aperture\", units=\"count\"), Key<D>(offset=664, nElements=1)),\n",
      "    (Field['D'](name=\"base_CircularApertureFlux_25_0_instFluxErr\", doc=\"1-sigma instFlux uncertainty\", units=\"count\"), Key<D>(offset=672, nElements=1)),\n",
      "    (Field['Flag'](name=\"base_CircularApertureFlux_25_0_flag\", doc=\"General Failure Flag\"), Key['Flag'](offset=624, bit=6)),\n",
      "    (Field['Flag'](name=\"base_CircularApertureFlux_25_0_flag_apertureTruncated\", doc=\"aperture did not fit within measurement image\"), Key['Flag'](offset=624, bit=7)),\n",
      "    (Field['D'](name=\"base_CircularApertureFlux_35_0_instFlux\", doc=\"instFlux within 35.000000-pixel aperture\", units=\"count\"), Key<D>(offset=680, nElements=1)),\n",
      "    (Field['D'](name=\"base_CircularApertureFlux_35_0_instFluxErr\", doc=\"1-sigma instFlux uncertainty\", units=\"count\"), Key<D>(offset=688, nElements=1)),\n",
      "    (Field['Flag'](name=\"base_CircularApertureFlux_35_0_flag\", doc=\"General Failure Flag\"), Key['Flag'](offset=624, bit=8)),\n",
      "    (Field['Flag'](name=\"base_CircularApertureFlux_35_0_flag_apertureTruncated\", doc=\"aperture did not fit within measurement image\"), Key['Flag'](offset=624, bit=9)),\n",
      "    (Field['D'](name=\"base_CircularApertureFlux_50_0_instFlux\", doc=\"instFlux within 50.000000-pixel aperture\", units=\"count\"), Key<D>(offset=696, nElements=1)),\n",
      "    (Field['D'](name=\"base_CircularApertureFlux_50_0_instFluxErr\", doc=\"1-sigma instFlux uncertainty\", units=\"count\"), Key<D>(offset=704, nElements=1)),\n",
      "    (Field['Flag'](name=\"base_CircularApertureFlux_50_0_flag\", doc=\"General Failure Flag\"), Key['Flag'](offset=624, bit=10)),\n",
      "    (Field['Flag'](name=\"base_CircularApertureFlux_50_0_flag_apertureTruncated\", doc=\"aperture did not fit within measurement image\"), Key['Flag'](offset=624, bit=11)),\n",
      "    (Field['D'](name=\"base_CircularApertureFlux_70_0_instFlux\", doc=\"instFlux within 70.000000-pixel aperture\", units=\"count\"), Key<D>(offset=712, nElements=1)),\n",
      "    (Field['D'](name=\"base_CircularApertureFlux_70_0_instFluxErr\", doc=\"1-sigma instFlux uncertainty\", units=\"count\"), Key<D>(offset=720, nElements=1)),\n",
      "    (Field['Flag'](name=\"base_CircularApertureFlux_70_0_flag\", doc=\"General Failure Flag\"), Key['Flag'](offset=624, bit=12)),\n",
      "    (Field['Flag'](name=\"base_CircularApertureFlux_70_0_flag_apertureTruncated\", doc=\"aperture did not fit within measurement image\"), Key['Flag'](offset=624, bit=13)),\n",
      "    (Field['D'](name=\"base_GaussianFlux_instFlux\", doc=\"instFlux from Gaussian Flux algorithm\", units=\"count\"), Key<D>(offset=728, nElements=1)),\n",
      "    (Field['D'](name=\"base_GaussianFlux_instFluxErr\", doc=\"1-sigma instFlux uncertainty\", units=\"count\"), Key<D>(offset=736, nElements=1)),\n",
      "    (Field['Flag'](name=\"base_GaussianFlux_flag\", doc=\"General Failure Flag\"), Key['Flag'](offset=624, bit=14)),\n",
      "    (Field['D'](name=\"base_LocalBackground_instFlux\", doc=\"background in annulus around source\", units=\"count\"), Key<D>(offset=744, nElements=1)),\n",
      "    (Field['D'](name=\"base_LocalBackground_instFluxErr\", doc=\"1-sigma instFlux uncertainty\", units=\"count\"), Key<D>(offset=752, nElements=1)),\n",
      "    (Field['Flag'](name=\"base_LocalBackground_flag\", doc=\"General Failure Flag\"), Key['Flag'](offset=624, bit=15)),\n",
      "    (Field['Flag'](name=\"base_LocalBackground_flag_noGoodPixels\", doc=\"no good pixels in the annulus\"), Key['Flag'](offset=624, bit=16)),\n",
      "    (Field['Flag'](name=\"base_LocalBackground_flag_noPsf\", doc=\"no PSF provided\"), Key['Flag'](offset=624, bit=17)),\n",
      "    (Field['Flag'](name=\"base_LocalPhotoCalib_flag\", doc=\"Set for any fatal failure\"), Key['Flag'](offset=624, bit=18)),\n",
      "    (Field['D'](name=\"base_LocalPhotoCalib\", doc=\"Local approximation of the PhotoCalib calibration factor at the location of the src.\"), Key<D>(offset=760, nElements=1)),\n",
      "    (Field['D'](name=\"base_LocalPhotoCalibErr\", doc=\"Error on the local approximation of the PhotoCalib calibration factor at the location of the src.\"), Key<D>(offset=768, nElements=1)),\n",
      "    (Field['Flag'](name=\"base_LocalWcs_flag\", doc=\"Set for any fatal failure\"), Key['Flag'](offset=624, bit=19)),\n",
      "    (Field['D'](name=\"base_LocalWcs_CDMatrix_1_1\", doc=\"(1, 1) element of the CDMatrix for the linear approximation of the WCS at the src location. Gives units in radians.\"), Key<D>(offset=776, nElements=1)),\n",
      "    (Field['D'](name=\"base_LocalWcs_CDMatrix_1_2\", doc=\"(1, 2) element of the CDMatrix for the linear approximation of the WCS at the src location. Gives units in radians.\"), Key<D>(offset=784, nElements=1)),\n",
      "    (Field['D'](name=\"base_LocalWcs_CDMatrix_2_1\", doc=\"(2, 1) element of the CDMatrix for the linear approximation of the WCS at the src location. Gives units in radians.\"), Key<D>(offset=792, nElements=1)),\n",
      "    (Field['D'](name=\"base_LocalWcs_CDMatrix_2_2\", doc=\"(2, 2) element of the CDMatrix for the linear approximation of the WCS at the src location. Gives units in radians.\"), Key<D>(offset=800, nElements=1)),\n",
      "    (Field['Flag'](name=\"base_PixelFlags_flag\", doc=\"General failure flag, set if anything went wrong\"), Key['Flag'](offset=624, bit=20)),\n",
      "    (Field['Flag'](name=\"base_PixelFlags_flag_offimage\", doc=\"Source center is off image\"), Key['Flag'](offset=624, bit=21)),\n",
      "    (Field['Flag'](name=\"base_PixelFlags_flag_edge\", doc=\"Source is outside usable exposure region (masked EDGE or NO_DATA)\"), Key['Flag'](offset=624, bit=22)),\n",
      "    (Field['Flag'](name=\"base_PixelFlags_flag_interpolated\", doc=\"Interpolated pixel in the Source footprint\"), Key['Flag'](offset=624, bit=23)),\n",
      "    (Field['Flag'](name=\"base_PixelFlags_flag_saturated\", doc=\"Saturated pixel in the Source footprint\"), Key['Flag'](offset=624, bit=24)),\n",
      "    (Field['Flag'](name=\"base_PixelFlags_flag_cr\", doc=\"Cosmic ray in the Source footprint\"), Key['Flag'](offset=624, bit=25)),\n",
      "    (Field['Flag'](name=\"base_PixelFlags_flag_bad\", doc=\"Bad pixel in the Source footprint\"), Key['Flag'](offset=624, bit=26)),\n",
      "    (Field['Flag'](name=\"base_PixelFlags_flag_suspect\", doc=\"Source''s footprint includes suspect pixels\"), Key['Flag'](offset=624, bit=27)),\n",
      "    (Field['Flag'](name=\"base_PixelFlags_flag_interpolatedCenter\", doc=\"Interpolated pixel in the Source center\"), Key['Flag'](offset=624, bit=28)),\n",
      "    (Field['Flag'](name=\"base_PixelFlags_flag_saturatedCenter\", doc=\"Saturated pixel in the Source center\"), Key['Flag'](offset=624, bit=29)),\n",
      "    (Field['Flag'](name=\"base_PixelFlags_flag_crCenter\", doc=\"Cosmic ray in the Source center\"), Key['Flag'](offset=624, bit=30)),\n",
      "    (Field['Flag'](name=\"base_PixelFlags_flag_suspectCenter\", doc=\"Source''s center is close to suspect pixels\"), Key['Flag'](offset=624, bit=31)),\n",
      "    (Field['D'](name=\"base_PsfFlux_instFlux\", doc=\"instFlux derived from linear least-squares fit of PSF model\", units=\"count\"), Key<D>(offset=808, nElements=1)),\n",
      "    (Field['D'](name=\"base_PsfFlux_instFluxErr\", doc=\"1-sigma instFlux uncertainty\", units=\"count\"), Key<D>(offset=816, nElements=1)),\n",
      "    (Field['F'](name=\"base_PsfFlux_area\", doc=\"effective area of PSF\", units=\"pixel\"), Key<F>(offset=824, nElements=1)),\n",
      "    (Field['Flag'](name=\"base_PsfFlux_flag\", doc=\"General Failure Flag\"), Key['Flag'](offset=624, bit=32)),\n",
      "    (Field['Flag'](name=\"base_PsfFlux_flag_noGoodPixels\", doc=\"not enough non-rejected pixels in data to attempt the fit\"), Key['Flag'](offset=624, bit=33)),\n",
      "    (Field['Flag'](name=\"base_PsfFlux_flag_edge\", doc=\"object was too close to the edge of the image to use the full PSF model\"), Key['Flag'](offset=624, bit=34)),\n",
      "    (Field['Flag'](name=\"base_Variance_flag\", doc=\"Set for any fatal failure\"), Key['Flag'](offset=624, bit=35)),\n",
      "    (Field['D'](name=\"base_Variance_value\", doc=\"Variance at object position\"), Key<D>(offset=832, nElements=1)),\n",
      "    (Field['Flag'](name=\"base_Variance_flag_emptyFootprint\", doc=\"Set to True when the footprint has no usable pixels\"), Key['Flag'](offset=624, bit=36)),\n",
      "    (Field['D'](name=\"ext_photometryKron_KronFlux_instFlux\", doc=\"flux from Kron Flux algorithm\", units=\"count\"), Key<D>(offset=840, nElements=1)),\n",
      "    (Field['D'](name=\"ext_photometryKron_KronFlux_instFluxErr\", doc=\"1-sigma instFlux uncertainty\", units=\"count\"), Key<D>(offset=848, nElements=1)),\n",
      "    (Field['F'](name=\"ext_photometryKron_KronFlux_radius\", doc=\"Kron radius (sqrt(a*b))\"), Key<F>(offset=856, nElements=1)),\n",
      "    (Field['F'](name=\"ext_photometryKron_KronFlux_radius_for_radius\", doc=\"radius used to estimate <radius> (sqrt(a*b))\"), Key<F>(offset=860, nElements=1)),\n",
      "    (Field['F'](name=\"ext_photometryKron_KronFlux_psf_radius\", doc=\"Radius of PSF\"), Key<F>(offset=864, nElements=1)),\n",
      "    (Field['Flag'](name=\"ext_photometryKron_KronFlux_flag\", doc=\"general failure flag, set if anything went wrong\"), Key['Flag'](offset=624, bit=37)),\n",
      "    (Field['Flag'](name=\"ext_photometryKron_KronFlux_flag_edge\", doc=\"bad measurement due to image edge\"), Key['Flag'](offset=624, bit=38)),\n",
      "    (Field['Flag'](name=\"ext_photometryKron_KronFlux_flag_bad_shape_no_psf\", doc=\"bad shape and no PSF\"), Key['Flag'](offset=624, bit=39)),\n",
      "    (Field['Flag'](name=\"ext_photometryKron_KronFlux_flag_no_minimum_radius\", doc=\"minimum radius could not enforced: no minimum value or PSF\"), Key['Flag'](offset=624, bit=40)),\n",
      "    (Field['Flag'](name=\"ext_photometryKron_KronFlux_flag_no_fallback_radius\", doc=\"no minimum radius and no PSF provided\"), Key['Flag'](offset=624, bit=41)),\n",
      "    (Field['Flag'](name=\"ext_photometryKron_KronFlux_flag_bad_radius\", doc=\"bad Kron radius\"), Key['Flag'](offset=624, bit=42)),\n",
      "    (Field['Flag'](name=\"ext_photometryKron_KronFlux_flag_used_minimum_radius\", doc=\"used the minimum radius for the Kron aperture\"), Key['Flag'](offset=624, bit=43)),\n",
      "    (Field['Flag'](name=\"ext_photometryKron_KronFlux_flag_used_psf_radius\", doc=\"used the PSF Kron radius for the Kron aperture\"), Key['Flag'](offset=624, bit=44)),\n",
      "    (Field['Flag'](name=\"ext_photometryKron_KronFlux_flag_small_radius\", doc=\"measured Kron radius was smaller than that of the PSF\"), Key['Flag'](offset=624, bit=45)),\n",
      "    (Field['Flag'](name=\"ext_photometryKron_KronFlux_flag_bad_shape\", doc=\"shape for measuring Kron radius is bad; used PSF shape\"), Key['Flag'](offset=624, bit=46)),\n",
      "    (Field['D'](name=\"base_GaussianFlux_apCorr\", doc=\"aperture correction applied to base_GaussianFlux\"), Key<D>(offset=872, nElements=1)),\n",
      "    (Field['D'](name=\"base_GaussianFlux_apCorrErr\", doc=\"standard deviation of aperture correction applied to base_GaussianFlux\"), Key<D>(offset=880, nElements=1)),\n",
      "    (Field['Flag'](name=\"base_GaussianFlux_flag_apCorr\", doc=\"set if unable to aperture correct base_GaussianFlux\"), Key['Flag'](offset=624, bit=47)),\n",
      "    (Field['D'](name=\"base_PsfFlux_apCorr\", doc=\"aperture correction applied to base_PsfFlux\"), Key<D>(offset=888, nElements=1)),\n",
      "    (Field['D'](name=\"base_PsfFlux_apCorrErr\", doc=\"standard deviation of aperture correction applied to base_PsfFlux\"), Key<D>(offset=896, nElements=1)),\n",
      "    (Field['Flag'](name=\"base_PsfFlux_flag_apCorr\", doc=\"set if unable to aperture correct base_PsfFlux\"), Key['Flag'](offset=624, bit=48)),\n",
      "    (Field['D'](name=\"ext_photometryKron_KronFlux_apCorr\", doc=\"aperture correction applied to ext_photometryKron_KronFlux\"), Key<D>(offset=904, nElements=1)),\n",
      "    (Field['D'](name=\"ext_photometryKron_KronFlux_apCorrErr\", doc=\"standard deviation of aperture correction applied to ext_photometryKron_KronFlux\"), Key<D>(offset=912, nElements=1)),\n",
      "    (Field['Flag'](name=\"ext_photometryKron_KronFlux_flag_apCorr\", doc=\"set if unable to aperture correct ext_photometryKron_KronFlux\"), Key['Flag'](offset=624, bit=49)),\n",
      "    (Field['D'](name=\"base_ClassificationExtendedness_value\", doc=\"Set to 1 for extended sources, 0 for point sources.\"), Key<D>(offset=920, nElements=1)),\n",
      "    (Field['Flag'](name=\"base_ClassificationExtendedness_flag\", doc=\"Set to 1 for any fatal failure.\"), Key['Flag'](offset=624, bit=50)),\n",
      "    (Field['I'](name=\"base_FootprintArea_value\", doc=\"Number of pixels in the source''s detection footprint.\", units=\"pixel\"), Key<I>(offset=928, nElements=1)),\n",
      "    (Field['Flag'](name=\"calib_astrometry_used\", doc=\"set if source was used in astrometric calibration\"), Key['Flag'](offset=624, bit=51)),\n",
      "    (Field['Flag'](name=\"calib_photometry_used\", doc=\"set if source was used in photometric calibration\"), Key['Flag'](offset=624, bit=52)),\n",
      "    (Field['Flag'](name=\"calib_photometry_reserved\", doc=\"set if source was reserved from photometric calibration\"), Key['Flag'](offset=624, bit=53)),\n",
      "    'base_CircularApertureFlux_flag_badCentroid'->'base_SdssCentroid_flag'\n",
      "    'base_GaussianFlux_flag_badCentroid'->'base_SdssCentroid_flag'\n",
      "    'base_GaussianFlux_flag_badShape'->'ext_shapeHSM_HsmSourceMoments_flag'\n",
      "    'base_LocalBackground_flag_badCentroid'->'base_SdssCentroid_flag'\n",
      "    'base_NaiveCentroid_flag_badInitialCentroid'->'base_SdssCentroid_flag'\n",
      "    'base_PsfFlux_flag_badCentroid'->'base_SdssCentroid_flag'\n",
      "    'base_SdssShape_flag_badCentroid'->'base_SdssCentroid_flag'\n",
      "    'base_Variance_flag_badCentroid'->'base_SdssCentroid_flag'\n",
      "    'ext_photometryKron_KronFlux_flag_badInitialCentroid'->'base_SdssCentroid_flag'\n",
      "    'ext_shapeHSM_HsmPsfMoments_flag_badCentroid'->'base_SdssCentroid_flag'\n",
      "    'ext_shapeHSM_HsmShapeRegauss_flag_badCentroid'->'base_SdssCentroid_flag'\n",
      "    'ext_shapeHSM_HsmSourceMomentsRound_flag_badCentroid'->'base_SdssCentroid_flag'\n",
      "    'ext_shapeHSM_HsmSourceMoments_flag_badCentroid'->'base_SdssCentroid_flag'\n",
      "    'slot_ApFlux'->'base_CircularApertureFlux_12_0'\n",
      "    'slot_CalibFlux'->'base_CircularApertureFlux_12_0'\n",
      "    'slot_Centroid'->'base_SdssCentroid'\n",
      "    'slot_GaussianFlux'->'base_GaussianFlux'\n",
      "    'slot_ModelFlux'->'base_GaussianFlux'\n",
      "    'slot_PsfFlux'->'base_PsfFlux'\n",
      "    'slot_PsfShape'->'ext_shapeHSM_HsmPsfMoments'\n",
      "    'slot_Shape'->'ext_shapeHSM_HsmSourceMoments'\n",
      ")\n",
      "\n"
     ]
    }
   ],
   "source": [
    "print(src.getSchema())"
   ]
  },
  {
   "cell_type": "code",
   "execution_count": 17,
   "metadata": {},
   "outputs": [
    {
     "name": "stdout",
     "output_type": "stream",
     "text": [
      "{'base_CircularApertureFlux_25_0_instFlux', 'base_Blendedness_old', 'base_LocalPhotoCalibErr', 'base_PixelFlags_flag_saturated', 'base_CircularApertureFlux_4_5_instFlux', 'base_SdssShape_yy', 'base_SdssShape_xy', 'deblend_psfCenter_x', 'coord_dec', 'base_PsfFlux_flag_noGoodPixels', 'base_CircularApertureFlux_6_0_flag_sincCoeffsTruncated', 'coord_ra', 'base_Blendedness_raw_parent_xy', 'deblend_psf_instFlux', 'base_Blendedness_abs_parent_yy', 'ext_photometryKron_KronFlux_flag_no_minimum_radius', 'ext_photometryKron_KronFlux_flag_bad_shape', 'base_CircularApertureFlux_70_0_flag', 'ext_shapeHSM_HsmSourceMoments_flag_no_pixels', 'ext_photometryKron_KronFlux_psf_radius', 'base_CircularApertureFlux_9_0_flag_apertureTruncated', 'base_LocalBackground_flag_noGoodPixels', 'base_PixelFlags_flag_suspect', 'base_PixelFlags_flag', 'base_LocalBackground_flag_noPsf', 'base_CircularApertureFlux_3_0_instFluxErr', 'calib_photometry_reserved', 'base_PixelFlags_flag_bad', 'ext_photometryKron_KronFlux_flag_used_minimum_radius', 'ext_shapeHSM_HsmShapeRegauss_e2', 'base_LocalBackground_flag', 'base_PsfFlux_flag', 'base_SdssCentroid_y', 'ext_shapeHSM_HsmSourceMoments_xy', 'base_CircularApertureFlux_6_0_flag_apertureTruncated', 'base_CircularApertureFlux_70_0_flag_apertureTruncated', 'base_PsfFlux_apCorrErr', 'base_LocalWcs_CDMatrix_1_2', 'id', 'base_LocalBackground_instFluxErr', 'base_GaussianFlux_apCorrErr', 'base_Blendedness_abs_child_yy', 'base_PixelFlags_flag_cr', 'ext_shapeHSM_HsmPsfMoments_flag_parent_source', 'ext_photometryKron_KronFlux_flag_apCorr', 'ext_shapeHSM_HsmShapeRegauss_resolution', 'base_PsfFlux_flag_apCorr', 'base_SdssCentroid_yErr', 'base_Blendedness_abs_child_instFlux', 'base_GaussianFlux_instFluxErr', 'ext_photometryKron_KronFlux_flag_small_radius', 'base_SdssShape_instFlux', 'base_CircularApertureFlux_9_0_instFlux', 'ext_shapeHSM_HsmSourceMomentsRound_xx', 'base_CircularApertureFlux_35_0_flag', 'base_CircularApertureFlux_3_0_flag', 'ext_shapeHSM_HsmSourceMoments_x', 'deblend_skipped', 'ext_photometryKron_KronFlux_flag_no_fallback_radius', 'base_SdssCentroid_xErr', 'base_CircularApertureFlux_12_0_flag', 'base_CircularApertureFlux_4_5_instFluxErr', 'base_CircularApertureFlux_70_0_instFlux', 'base_Blendedness_raw_child_xy', 'base_CircularApertureFlux_4_5_flag_sincCoeffsTruncated', 'base_PixelFlags_flag_interpolated', 'base_Jacobian_flag', 'base_SdssCentroid_flag_noSecondDerivative', 'base_CircularApertureFlux_17_0_flag_apertureTruncated', 'base_SdssShape_xyErr', 'ext_shapeHSM_HsmShapeRegauss_flag_parent_source', 'base_CircularApertureFlux_25_0_instFluxErr', 'ext_photometryKron_KronFlux_apCorrErr', 'base_CircularApertureFlux_9_0_flag', 'base_CircularApertureFlux_12_0_instFluxErr', 'base_CircularApertureFlux_3_0_flag_apertureTruncated', 'base_ClassificationExtendedness_value', 'deblend_masked', 'ext_shapeHSM_HsmShapeRegauss_e1', 'ext_shapeHSM_HsmSourceMomentsRound_x', 'deblend_hasStrayFlux', 'base_Blendedness_abs_child_xy', 'ext_shapeHSM_HsmSourceMomentsRound_flag_parent_source', 'base_LocalWcs_flag', 'base_LocalWcs_CDMatrix_2_2', 'base_Blendedness_abs', 'base_Blendedness_flag_noCentroid', 'base_Blendedness_raw_child_instFlux', 'base_Blendedness_raw_child_yy', 'base_SdssCentroid_x', 'base_CircularApertureFlux_17_0_instFlux', 'base_NaiveCentroid_flag', 'ext_shapeHSM_HsmShapeRegauss_sigma', 'base_CircularApertureFlux_35_0_instFluxErr', 'ext_shapeHSM_HsmSourceMomentsRound_Flux', 'base_CircularApertureFlux_25_0_flag', 'base_CircularApertureFlux_17_0_flag', 'base_CircularApertureFlux_50_0_instFluxErr', 'ext_shapeHSM_HsmPsfMoments_flag_not_contained', 'base_CircularApertureFlux_6_0_flag', 'base_SdssShape_y', 'ext_shapeHSM_HsmPsfMoments_xy', 'base_CircularApertureFlux_3_0_flag_sincCoeffsTruncated', 'ext_shapeHSM_HsmSourceMomentsRound_y', 'base_SdssShape_flag_maxIter', 'calib_psf_candidate', 'ext_shapeHSM_HsmSourceMoments_flag_parent_source', 'base_LocalWcs_CDMatrix_2_1', 'base_SdssShape_yyErr', 'base_SdssShape_instFlux_yy_Cov', 'ext_shapeHSM_HsmPsfMoments_xx', 'ext_photometryKron_KronFlux_radius_for_radius', 'base_FootprintArea_value', 'base_SdssShape_flag_psf', 'base_Blendedness_raw_parent_instFlux', 'base_LocalPhotoCalib', 'base_LocalWcs_CDMatrix_1_1', 'base_SdssShape_instFlux_xy_Cov', 'ext_shapeHSM_HsmSourceMomentsRound_flag_no_pixels', 'base_CircularApertureFlux_35_0_instFlux', 'base_CircularApertureFlux_9_0_instFluxErr', 'base_FPPosition_flag', 'base_PsfFlux_apCorr', 'ext_shapeHSM_HsmSourceMoments_y', 'base_CircularApertureFlux_25_0_flag_apertureTruncated', 'base_CircularApertureFlux_9_0_flag_sincCoeffsTruncated', 'base_SdssShape_instFluxErr', 'deblend_patchedTemplate', 'base_FPPosition_y', 'base_SdssShape_psf_xx', 'base_CircularApertureFlux_4_5_flag', 'base_Blendedness_abs_child_xx', 'base_GaussianFlux_instFlux', 'base_PixelFlags_flag_crCenter', 'ext_shapeHSM_HsmSourceMomentsRound_flag_not_contained', 'base_SdssShape_flag_shift', 'base_LocalBackground_instFlux', 'base_SdssShape_instFlux_xx_Cov', 'base_GaussianFlux_flag', 'base_Blendedness_raw_parent_xx', 'base_NaiveCentroid_flag_resetToPeak', 'base_CircularApertureFlux_6_0_instFluxErr', 'base_SdssShape_xx', 'deblend_parentTooBig', 'ext_shapeHSM_HsmPsfMoments_yy', 'base_Variance_flag', 'base_PixelFlags_flag_edge', 'ext_shapeHSM_HsmShapeRegauss_flag', 'base_SdssShape_psf_xy', 'base_NaiveCentroid_x', 'base_SdssCentroid_flag_almostNoSecondDerivative', 'ext_photometryKron_KronFlux_apCorr', 'base_SdssCentroid_flag_resetToPeak', 'ext_shapeHSM_HsmPsfMoments_y', 'base_CircularApertureFlux_50_0_flag_apertureTruncated', 'base_CircularApertureFlux_6_0_instFlux', 'base_FPPosition_x', 'ext_shapeHSM_HsmSourceMoments_flag_not_contained', 'ext_shapeHSM_HsmSourceMoments_flag', 'base_Blendedness_abs_parent_xx', 'ext_shapeHSM_HsmSourceMoments_yy', 'deblend_nChild', 'deblend_tooManyPeaks', 'calib_detected', 'calib_psf_used', 'ext_shapeHSM_HsmShapeRegauss_flag_not_contained', 'base_PixelFlags_flag_interpolatedCenter', 'base_PsfFlux_flag_edge', 'base_NaiveCentroid_y', 'ext_shapeHSM_HsmSourceMomentsRound_yy', 'base_CircularApertureFlux_50_0_flag', 'base_LocalPhotoCalib_flag', 'ext_photometryKron_KronFlux_flag_bad_shape_no_psf', 'base_Blendedness_raw', 'ext_shapeHSM_HsmSourceMoments_xx', 'calib_psf_reserved', 'ext_photometryKron_KronFlux_instFluxErr', 'base_GaussianFlux_flag_apCorr', 'base_NaiveCentroid_flag_edge', 'base_CircularApertureFlux_12_0_flag_sincCoeffsTruncated', 'base_PsfFlux_instFluxErr', 'base_SdssCentroid_flag_badError', 'base_SdssCentroid_flag_edge', 'base_Variance_value', 'base_Variance_flag_emptyFootprint', 'base_GaussianFlux_apCorr', 'calib_astrometry_used', 'ext_photometryKron_KronFlux_flag_edge', 'base_PixelFlags_flag_suspectCenter', 'ext_shapeHSM_HsmPsfMoments_flag', 'ext_shapeHSM_HsmShapeRegauss_flag_galsim', 'ext_photometryKron_KronFlux_flag', 'base_SdssShape_xxErr', 'base_CircularApertureFlux_12_0_flag_apertureTruncated', 'base_PixelFlags_flag_offimage', 'calib_photometry_used', 'base_Jacobian_value', 'base_SdssShape_flag_unweightedBad', 'deblend_rampedTemplate', 'base_FPPosition_missingDetector_flag', 'base_CircularApertureFlux_3_0_instFlux', 'base_CircularApertureFlux_4_5_flag_apertureTruncated', 'base_CircularApertureFlux_70_0_instFluxErr', 'ext_photometryKron_KronFlux_flag_bad_radius', 'base_Blendedness_abs_parent_instFlux', 'base_CircularApertureFlux_17_0_instFluxErr', 'base_ClassificationExtendedness_flag', 'ext_photometryKron_KronFlux_flag_used_psf_radius', 'base_PixelFlags_flag_saturatedCenter', 'deblend_psfCenter_y', 'ext_photometryKron_KronFlux_radius', 'base_Blendedness_flag_noShape', 'base_PsfFlux_instFlux', 'base_Blendedness_raw_child_xx', 'parent', 'base_Blendedness_abs_parent_xy', 'base_SdssCentroid_flag_notAtMaximum', 'ext_shapeHSM_HsmPsfMoments_flag_no_pixels', 'sky_source', 'base_CircularApertureFlux_35_0_flag_apertureTruncated', 'base_SdssCentroid_flag', 'ext_shapeHSM_HsmSourceMomentsRound_flag', 'base_SdssShape_x', 'ext_shapeHSM_HsmSourceMomentsRound_xy', 'base_SdssShape_flag_unweighted', 'ext_shapeHSM_HsmPsfMoments_x', 'base_Blendedness_raw_parent_yy', 'base_CircularApertureFlux_50_0_instFlux', 'base_SdssShape_psf_yy', 'base_Blendedness_flag', 'ext_shapeHSM_HsmShapeRegauss_flag_no_pixels', 'base_CircularApertureFlux_12_0_instFlux', 'base_SdssShape_flag', 'deblend_deblendedAsPsf', 'base_PsfFlux_area', 'base_NaiveCentroid_flag_noCounts', 'ext_photometryKron_KronFlux_instFlux'}\n"
     ]
    }
   ],
   "source": [
    "print(src.getSchema().getNames())"
   ]
  },
  {
   "cell_type": "code",
   "execution_count": 18,
   "metadata": {},
   "outputs": [
    {
     "name": "stdout",
     "output_type": "stream",
     "text": [
      "(Key['Flag'](offset=32, bit=2), Field['Flag'](name=\"calib_psf_used\", doc=\"Flag set if the source was actually used for PSF determination, as determined by the\"))\n"
     ]
    }
   ],
   "source": [
    "print(src.schema.find(\"calib_psf_used\"))"
   ]
  },
  {
   "cell_type": "code",
   "execution_count": 19,
   "metadata": {},
   "outputs": [
    {
     "name": "stdout",
     "output_type": "stream",
     "text": [
      "[1452.96773926 1693.61268997  616.61054282 ...  441.17762628  392.05055236\n",
      "  384.73847944]\n"
     ]
    }
   ],
   "source": [
    "print(src['base_PsfFlux_instFlux'])"
   ]
  },
  {
   "cell_type": "code",
   "execution_count": 20,
   "metadata": {},
   "outputs": [],
   "source": [
    "with display.Buffering():\n",
    "    for s in src:\n",
    "        display.dot(\"o\", s.getX(), s.getY(), size=10, ctype='orange')"
   ]
  },
  {
   "cell_type": "code",
   "execution_count": 21,
   "metadata": {},
   "outputs": [],
   "source": [
    "display.erase()"
   ]
  },
  {
   "cell_type": "code",
   "execution_count": 22,
   "metadata": {},
   "outputs": [],
   "source": [
    "with display.Buffering():\n",
    "    for s in src[src['calib_psf_used']]:\n",
    "        display.dot(\"x\", s.getX(), s.getY(), size=10, ctype='red')"
   ]
  },
  {
   "cell_type": "code",
   "execution_count": 23,
   "metadata": {},
   "outputs": [],
   "source": [
    "rejectedPsfSources = src[src['calib_psf_candidate'] &\n",
    "                         (src['calib_psf_used'] == False)]\n",
    "with display.Buffering():\n",
    "    for s in rejectedPsfSources:\n",
    "        display.dot(\"+\", s.getX(), s.getY(), size=10, ctype='green')"
   ]
  },
  {
   "cell_type": "markdown",
   "metadata": {},
   "source": [
    "Then the following command line tasks etc are run\n",
    "\n",
    "```Shell\n",
    "\n",
    "```"
   ]
  },
  {
   "cell_type": "markdown",
   "metadata": {},
   "source": [
    "## Finish HSC example by displaying the catalogue\n",
    "\n",
    "These stages are from the final example page https://pipelines.lsst.io/getting-started/multiband-analysis.html\n",
    "\n",
    "They only conduct the display stages using ipython. We may be able to get VISTA only running the command line tasks but incorporating HSC with VISTA will almost certainly involve using both the obs_subaru (later obs_lsst) with obs_vista."
   ]
  },
  {
   "cell_type": "code",
   "execution_count": 24,
   "metadata": {},
   "outputs": [],
   "source": [
    "import lsst.daf.persistence as dafPersist\n",
    "butler = dafPersist.Butler(inputs='DATA/rerun/coaddForcedPhot')"
   ]
  },
  {
   "cell_type": "code",
   "execution_count": 25,
   "metadata": {},
   "outputs": [],
   "source": [
    "rSources = butler.get('deepCoadd_forced_src', {'filter': 'HSC-R', 'tract': 0, 'patch': '1,1'})\n",
    "iSources = butler.get('deepCoadd_forced_src', {'filter': 'HSC-I', 'tract': 0, 'patch': '1,1'})"
   ]
  },
  {
   "cell_type": "code",
   "execution_count": 26,
   "metadata": {},
   "outputs": [
    {
     "data": {
      "text/plain": [
       "'count'"
      ]
     },
     "execution_count": 26,
     "metadata": {},
     "output_type": "execute_result"
    }
   ],
   "source": [
    "iSources.getSchema().find('base_PsfFlux_instFlux').field.getUnits()"
   ]
  },
  {
   "cell_type": "code",
   "execution_count": 27,
   "metadata": {},
   "outputs": [],
   "source": [
    "rCoaddPhotoCalib = butler.get('deepCoadd_calexp_photoCalib',  {'filter': 'HSC-R', 'tract': 0, 'patch': '1,1'})\n",
    "iCoaddPhotoCalib = butler.get('deepCoadd_calexp_photoCalib',  {'filter': 'HSC-I', 'tract': 0, 'patch': '1,1'})"
   ]
  },
  {
   "cell_type": "code",
   "execution_count": 29,
   "metadata": {},
   "outputs": [],
   "source": [
    "rMags = rCoaddPhotoCalib.instFluxToMagnitude(rSources, 'base_PsfFlux')\n",
    "iMags = iCoaddPhotoCalib.instFluxToMagnitude(iSources, 'base_PsfFlux')"
   ]
  },
  {
   "cell_type": "code",
   "execution_count": 30,
   "metadata": {},
   "outputs": [],
   "source": [
    "isDeblended = rSources['deblend_nChild'] == 0"
   ]
  },
  {
   "cell_type": "code",
   "execution_count": 31,
   "metadata": {},
   "outputs": [],
   "source": [
    "refTable = butler.get('deepCoadd_ref', {'filter': 'HSC-R^HSC-I', 'tract': 0, 'patch': '1,1'})"
   ]
  },
  {
   "cell_type": "code",
   "execution_count": 32,
   "metadata": {},
   "outputs": [],
   "source": [
    "inInnerRegions = refTable['detect_isPatchInner'] & refTable['detect_isTractInner']"
   ]
  },
  {
   "cell_type": "code",
   "execution_count": 33,
   "metadata": {},
   "outputs": [],
   "source": [
    "isSkyObject = refTable['merge_peak_sky']"
   ]
  },
  {
   "cell_type": "code",
   "execution_count": 34,
   "metadata": {},
   "outputs": [],
   "source": [
    "isPrimary = refTable['detect_isPrimary']\n"
   ]
  },
  {
   "cell_type": "code",
   "execution_count": 35,
   "metadata": {},
   "outputs": [
    {
     "data": {
      "text/plain": [
       "array([[2.26066484e+01, 5.30378420e-02],\n",
       "       [2.27530328e+01, 1.24355919e-01],\n",
       "       [2.03466514e+01, 7.65832972e-03],\n",
       "       ...,\n",
       "       [2.45586742e+01, 3.66384532e-01],\n",
       "       [2.49170785e+01, 5.00816681e-01],\n",
       "       [2.44479687e+01, 4.39166936e-01]])"
      ]
     },
     "execution_count": 35,
     "metadata": {},
     "output_type": "execute_result"
    }
   ],
   "source": [
    "rMags[isPrimary]\n",
    "iMags[isPrimary]"
   ]
  },
  {
   "cell_type": "code",
   "execution_count": 36,
   "metadata": {},
   "outputs": [
    {
     "data": {
      "text/plain": [
       "'Set to 1 for extended sources, 0 for point sources.'"
      ]
     },
     "execution_count": 36,
     "metadata": {},
     "output_type": "execute_result"
    }
   ],
   "source": [
    "iSources.schema.find('base_ClassificationExtendedness_value').field.getDoc()"
   ]
  },
  {
   "cell_type": "code",
   "execution_count": 40,
   "metadata": {},
   "outputs": [],
   "source": [
    "isStellar = iSources['base_ClassificationExtendedness_value'] < 1.\n"
   ]
  },
  {
   "cell_type": "code",
   "execution_count": 41,
   "metadata": {},
   "outputs": [
    {
     "data": {
      "text/plain": [
       "{'base_PsfFlux_flag_badCentroid': SchemaItem(key=Key['Flag'](offset=64, bit=7), field=Field['Flag'](name=\"base_TransformedCentroid_flag\", doc=\"whether the reference centroid is marked as bad\")),\n",
       " 'base_PsfFlux_instFlux': SchemaItem(key=Key<D>(offset=584, nElements=1), field=Field['D'](name=\"base_PsfFlux_instFlux\", doc=\"instFlux derived from linear least-squares fit of PSF model\", units=\"count\")),\n",
       " 'base_PsfFlux_instFluxErr': SchemaItem(key=Key<D>(offset=592, nElements=1), field=Field['D'](name=\"base_PsfFlux_instFluxErr\", doc=\"1-sigma instFlux uncertainty\", units=\"count\")),\n",
       " 'base_PsfFlux_area': SchemaItem(key=Key<F>(offset=600, nElements=1), field=Field['F'](name=\"base_PsfFlux_area\", doc=\"effective area of PSF\", units=\"pixel\")),\n",
       " 'base_PsfFlux_flag': SchemaItem(key=Key['Flag'](offset=576, bit=8), field=Field['Flag'](name=\"base_PsfFlux_flag\", doc=\"General Failure Flag\")),\n",
       " 'base_PsfFlux_flag_noGoodPixels': SchemaItem(key=Key['Flag'](offset=576, bit=9), field=Field['Flag'](name=\"base_PsfFlux_flag_noGoodPixels\", doc=\"not enough non-rejected pixels in data to attempt the fit\")),\n",
       " 'base_PsfFlux_flag_edge': SchemaItem(key=Key['Flag'](offset=576, bit=10), field=Field['Flag'](name=\"base_PsfFlux_flag_edge\", doc=\"object was too close to the edge of the image to use the full PSF model\")),\n",
       " 'base_PsfFlux_apCorr': SchemaItem(key=Key<D>(offset=1520, nElements=1), field=Field['D'](name=\"base_PsfFlux_apCorr\", doc=\"aperture correction applied to base_PsfFlux\")),\n",
       " 'base_PsfFlux_apCorrErr': SchemaItem(key=Key<D>(offset=1528, nElements=1), field=Field['D'](name=\"base_PsfFlux_apCorrErr\", doc=\"standard deviation of aperture correction applied to base_PsfFlux\")),\n",
       " 'base_PsfFlux_flag_apCorr': SchemaItem(key=Key['Flag'](offset=1256, bit=43), field=Field['Flag'](name=\"base_PsfFlux_flag_apCorr\", doc=\"set if unable to aperture correct base_PsfFlux\"))}"
      ]
     },
     "execution_count": 41,
     "metadata": {},
     "output_type": "execute_result"
    }
   ],
   "source": [
    "iSources.getSchema().extract('base_PsfFlux_*')"
   ]
  },
  {
   "cell_type": "code",
   "execution_count": 42,
   "metadata": {},
   "outputs": [],
   "source": [
    "isGoodFlux = ~iSources['base_PsfFlux_flag']\n"
   ]
  },
  {
   "cell_type": "code",
   "execution_count": 43,
   "metadata": {},
   "outputs": [],
   "source": [
    "selected = isPrimary & isStellar & isGoodFlux\n"
   ]
  },
  {
   "cell_type": "code",
   "execution_count": 47,
   "metadata": {},
   "outputs": [
    {
     "data": {
      "text/plain": [
       "array([24.39637869,  0.1457368 ])"
      ]
     },
     "execution_count": 47,
     "metadata": {},
     "output_type": "execute_result"
    }
   ],
   "source": [
    "rMags[selected][0]"
   ]
  },
  {
   "cell_type": "code",
   "execution_count": 48,
   "metadata": {},
   "outputs": [
    {
     "data": {
      "image/png": "[encoded data removed]",
      "text/plain": [
       "<Figure size 560x560 with 1 Axes>"
      ]
     },
     "metadata": {
      "needs_background": "light"
     },
     "output_type": "display_data"
    }
   ],
   "source": [
    "import matplotlib.pyplot as plt\n",
    "\n",
    "plt.style.use('seaborn-notebook')\n",
    "plt.figure(1, figsize=(4, 4), dpi=140)\n",
    "plt.scatter(rMags[selected] - iMags[selected],\n",
    "            iMags[selected],\n",
    "            edgecolors='None', s=2, c='k')\n",
    "plt.xlim(-0.5, 3)\n",
    "plt.ylim(25, 14)\n",
    "plt.xlabel('$r-i$')\n",
    "plt.ylabel('$i$')\n",
    "plt.subplots_adjust(left=0.125, bottom=0.1)\n",
    "plt.show()"
   ]
  },
  {
   "cell_type": "markdown",
   "metadata": {},
   "source": [
    "## Ingestion and command line tasks.\n",
    "\n",
    "Every command line task can also be executed as a python command. Lets check we can run throough the HSC examples in interactive Python. The following commands were used for the full HSC processing. These tasks will then be executed using the API. Each task has a python api version and a command line version. The tasks run pipeline commands and are developed at their own GitHub repo.\n",
    "\n",
    "```\n",
    "#example 1\n",
    "ingestImages.py DATA $CI_HSC_DIR/raw/*.fits --mode=link\n",
    "installTransmissionCurves.py DATA\n",
    "# What about the linked repos?\n",
    "#example4 coadding\n",
    "# make the sky map\n",
    "makeDiscreteSkyMap.py DATA --id --rerun processCcdOutputs:coadd --config skyMap.projection=\"TAN\"\n",
    "# make the coadd on the sky map from above\n",
    "makeCoaddTempExp.py DATA --rerun coadd \\\n",
    "    --selectId filter=HSC-R \\\n",
    "    --id filter=HSC-R tract=0 patch=0,0^0,1^0,2^1,0^1,1^1,2^2,0^2,1^2,2 \\\n",
    "    --config doApplyExternalPhotoCalib=False doApplyExternalSkyWcs=False \\\n",
    "    doApplySkyCorr=False\n",
    "# Repeat for I band\n",
    "makeCoaddTempExp.py DATA --rerun coadd \\\n",
    "    --selectId filter=HSC-I \\\n",
    "    --id filter=HSC-I tract=0 patch=0,0^0,1^0,2^1,0^1,1^1,2^2,0^2,1^2,2 \\\n",
    "    --config doApplyExternalPhotoCalib=False doApplyExternalSkyWcs=False \\\n",
    "    doApplySkyCorr=False\n",
    "    \n",
    "assembleCoadd.py DATA --rerun coadd \\\n",
    "    --selectId filter=HSC-R \\\n",
    "    --id filter=HSC-R tract=0 patch=0,0^0,1^0,2^1,0^1,1^1,2^2,0^2,1^2,2\n",
    "assembleCoadd.py DATA --rerun coadd \\\n",
    "    --selectId filter=HSC-I \\\n",
    "    --id filter=HSC-I tract=0 patch=0,0^0,1^0,2^1,0^1,1^1,2^2,0^2,1^2,2\n",
    "```\n",
    "\n",
    "In the example there are also some symlinked folders which perhaps should be ingested using a command line task "
   ]
  }
 ],
 "metadata": {
  "kernelspec": {
   "display_name": "LSST (lsstsw install)",
   "language": "python",
   "name": "lsst"
  },
  "language_info": {
   "codemirror_mode": {
    "name": "ipython",
    "version": 3
   },
   "file_extension": ".py",
   "mimetype": "text/x-python",
   "name": "python",
   "nbconvert_exporter": "python",
   "pygments_lexer": "ipython3",
   "version": "3.7.6"
  }
 },
 "nbformat": 4,
 "nbformat_minor": 4
}
