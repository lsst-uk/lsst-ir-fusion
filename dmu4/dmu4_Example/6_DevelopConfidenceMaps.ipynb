{
 "cells": [
  {
   "cell_type": "markdown",
   "id": "ffaa86ba-b8f2-4680-89a0-c6a1bb731a34",
   "metadata": {},
   "source": [
    "# Develop the VircamISRTask\n",
    "We need to develop a new ISR task to implement the confidence maps in the variance plane"
   ]
  },
  {
   "cell_type": "code",
   "execution_count": 1,
   "id": "eb261cfe-6d3c-47f4-a78e-5ac47ccfe831",
   "metadata": {},
   "outputs": [],
   "source": [
    "import matplotlib.pyplot as plt\n",
    "from lsst.daf.butler import Butler\n",
    "import numpy as np"
   ]
  },
  {
   "cell_type": "code",
   "execution_count": 3,
   "id": "1b57228a-17fc-4e55-b967-e60de8f59dc8",
   "metadata": {},
   "outputs": [],
   "source": [
    "from lsst import utils"
   ]
  },
  {
   "cell_type": "code",
   "execution_count": 7,
   "id": "db5770c8-7e83-4b8f-a74c-b90f04ac6228",
   "metadata": {},
   "outputs": [],
   "source": [
    "from lsst.utils import getPackageDir"
   ]
  },
  {
   "cell_type": "code",
   "execution_count": null,
   "id": "b0cc5065-706c-4ded-99dc-b18ab8548a1e",
   "metadata": {},
   "outputs": [],
   "source": [
    "utils."
   ]
  },
  {
   "cell_type": "code",
   "execution_count": 5,
   "id": "f540a854-fe7d-44f2-921d-801b1d97fc7d",
   "metadata": {},
   "outputs": [
    {
     "ename": "ModuleNotFoundError",
     "evalue": "No module named 'lsst.utils.introspection'",
     "output_type": "error",
     "traceback": [
      "\u001b[0;31m---------------------------------------------------------------------------\u001b[0m",
      "\u001b[0;31mModuleNotFoundError\u001b[0m                       Traceback (most recent call last)",
      "\u001b[0;32m/var/folders/l2/pxknhjd1029ckt57_p03cm080000gn/T/ipykernel_70316/3735670124.py\u001b[0m in \u001b[0;36m<module>\u001b[0;34m\u001b[0m\n\u001b[0;32m----> 1\u001b[0;31m \u001b[0;32mfrom\u001b[0m \u001b[0mlsst\u001b[0m\u001b[0;34m.\u001b[0m\u001b[0mutils\u001b[0m\u001b[0;34m.\u001b[0m\u001b[0mintrospection\u001b[0m \u001b[0;32mimport\u001b[0m \u001b[0mget_full_type_name\u001b[0m\u001b[0;34m\u001b[0m\u001b[0;34m\u001b[0m\u001b[0m\n\u001b[0m",
      "\u001b[0;31mModuleNotFoundError\u001b[0m: No module named 'lsst.utils.introspection'"
     ]
    }
   ],
   "source": [
    "from lsst.utils.introspection import get_full_type_name"
   ]
  },
  {
   "cell_type": "code",
   "execution_count": 4,
   "id": "19a176a6-9e51-4a5b-9a07-3363df55efa2",
   "metadata": {},
   "outputs": [
    {
     "ename": "ModuleNotFoundError",
     "evalue": "No module named 'lsst.utils.introspection'",
     "output_type": "error",
     "traceback": [
      "\u001b[0;31m---------------------------------------------------------------------------\u001b[0m",
      "\u001b[0;31mModuleNotFoundError\u001b[0m                       Traceback (most recent call last)",
      "\u001b[0;32m/var/folders/l2/pxknhjd1029ckt57_p03cm080000gn/T/ipykernel_70316/3735670124.py\u001b[0m in \u001b[0;36m<module>\u001b[0;34m\u001b[0m\n\u001b[0;32m----> 1\u001b[0;31m \u001b[0;32mfrom\u001b[0m \u001b[0mlsst\u001b[0m\u001b[0;34m.\u001b[0m\u001b[0mutils\u001b[0m\u001b[0;34m.\u001b[0m\u001b[0mintrospection\u001b[0m \u001b[0;32mimport\u001b[0m \u001b[0mget_full_type_name\u001b[0m\u001b[0;34m\u001b[0m\u001b[0;34m\u001b[0m\u001b[0m\n\u001b[0m",
      "\u001b[0;31mModuleNotFoundError\u001b[0m: No module named 'lsst.utils.introspection'"
     ]
    }
   ],
   "source": [
    "from lsst.utils.introspection import get_full_type_name"
   ]
  },
  {
   "cell_type": "raw",
   "id": "7209c3af-feeb-4b82-9820-1161265f09ce",
   "metadata": {},
   "source": [
    "    def updateVariance(self, ampExposure, amp, overscanImage=None, ptcDataset=None):\n",
    "        \"\"\"Set the variance plane using the gain and read noise\n",
    "        The read noise is calculated from the ``overscanImage`` if the\n",
    "        ``doEmpiricalReadNoise`` option is set in the configuration; otherwise\n",
    "        the value from the amplifier data is used.\n",
    "        Parameters\n",
    "        ----------\n",
    "        ampExposure : `lsst.afw.image.Exposure`\n",
    "            Exposure to process.\n",
    "        amp : `lsst.afw.table.AmpInfoRecord` or `FakeAmp`\n",
    "            Amplifier detector data.\n",
    "        overscanImage : `lsst.afw.image.MaskedImage`, optional.\n",
    "            Image of overscan, required only for empirical read noise.\n",
    "        ptcDataset : `lsst.ip.isr.PhotonTransferCurveDataset`, optional\n",
    "            PTC dataset containing the gains and read noise.\n",
    "        Raises\n",
    "        ------\n",
    "        RuntimeError\n",
    "            Raised if either ``usePtcGains`` of ``usePtcReadNoise``\n",
    "            are ``True``, but ptcDataset is not provided.\n",
    "            Raised if ```doEmpiricalReadNoise`` is ``True`` but\n",
    "            ``overscanImage`` is ``None``.\n",
    "        See also\n",
    "        --------\n",
    "        lsst.ip.isr.isrFunctions.updateVariance\n",
    "        \"\"\"\n",
    "        maskPlanes = [self.config.saturatedMaskName, self.config.suspectMaskName]\n",
    "        if self.config.usePtcGains:\n",
    "            if ptcDataset is None:\n",
    "                raise RuntimeError(\"No ptcDataset provided to use PTC gains.\")\n",
    "            else:\n",
    "                gain = ptcDataset.gain[amp.getName()]\n",
    "                self.log.info(\"Using gain from Photon Transfer Curve.\")\n",
    "        else:\n",
    "            gain = amp.getGain()\n",
    "\n",
    "        if math.isnan(gain):\n",
    "            gain = 1.0\n",
    "            self.log.warning(\"Gain set to NAN!  Updating to 1.0 to generate Poisson variance.\")\n",
    "        elif gain <= 0:\n",
    "            patchedGain = 1.0\n",
    "            self.log.warning(\"Gain for amp %s == %g <= 0; setting to %f.\",\n",
    "                             amp.getName(), gain, patchedGain)\n",
    "            gain = patchedGain\n",
    "\n",
    "        if self.config.doEmpiricalReadNoise and overscanImage is None:\n",
    "            raise RuntimeError(\"Overscan is none for EmpiricalReadNoise.\")\n",
    "\n",
    "        if self.config.doEmpiricalReadNoise and overscanImage is not None:\n",
    "            stats = afwMath.StatisticsControl()\n",
    "            stats.setAndMask(overscanImage.mask.getPlaneBitMask(maskPlanes))\n",
    "            readNoise = afwMath.makeStatistics(overscanImage, afwMath.STDEVCLIP, stats).getValue()\n",
    "            self.log.info(\"Calculated empirical read noise for amp %s: %f.\",\n",
    "                          amp.getName(), readNoise)\n",
    "        elif self.config.usePtcReadNoise:\n",
    "            if ptcDataset is None:\n",
    "                raise RuntimeError(\"No ptcDataset provided to use PTC readnoise.\")\n",
    "            else:\n",
    "                readNoise = ptcDataset.noise[amp.getName()]\n",
    "            self.log.info(\"Using read noise from Photon Transfer Curve.\")\n",
    "        else:\n",
    "            readNoise = amp.getReadNoise()\n",
    "\n",
    "        isrFunctions.updateVariance(\n",
    "            maskedImage=ampExposure.getMaskedImage(),\n",
    "            gain=gain,\n",
    "            readNoise=readNoise,\n",
    "        )\n",
    "        \n",
    "        \n",
    "# the typical update variance task:\n",
    "def updateVariance(maskedImage, gain, readNoise):\n",
    "    \"\"\"Set the variance plane based on the image plane.\n",
    "    Parameters\n",
    "    ----------\n",
    "    maskedImage : `lsst.afw.image.MaskedImage`\n",
    "        Image to process.  The variance plane is modified.\n",
    "    gain : scalar\n",
    "        The amplifier gain in electrons/ADU.\n",
    "    readNoise : scalar\n",
    "        The amplifier read nmoise in ADU/pixel.\n",
    "    \"\"\"\n",
    "    var = maskedImage.getVariance()\n",
    "    var[:] = maskedImage.getImage()\n",
    "    var /= gain\n",
    "    var += readNoise**2"
   ]
  },
  {
   "cell_type": "code",
   "execution_count": 80,
   "id": "dd1d0e44-e411-4b1a-9c5b-33d165db0802",
   "metadata": {},
   "outputs": [
    {
     "name": "stdout",
     "output_type": "stream",
     "text": [
      "VIRCAM/calib\n",
      "VIRCAM/calib/unbounded\n",
      "VIRCAM/raw/all\n",
      "confidence\n",
      "refcats\n",
      "skymaps\n",
      "videoTest\n"
     ]
    }
   ],
   "source": [
    "# For DC2 gen3, these are the only optoins\n",
    "repo = './data'\n",
    "collection = 'videoTest'\n",
    "\n",
    "# Use the butler to get the calexp\n",
    "butler = Butler(repo)\n",
    "\n",
    "\n",
    "registry = butler.registry\n",
    "for c in sorted(registry.queryCollections()):\n",
    "    print(c)"
   ]
  },
  {
   "cell_type": "code",
   "execution_count": 81,
   "id": "5a44f4c1-227a-4d2d-843e-18cb7ca399ea",
   "metadata": {},
   "outputs": [
    {
     "name": "stderr",
     "output_type": "stream",
     "text": [
      "Ignoring Error calculating property 'temperature' using translator <class 'lsst.obs.vista.translators.vircam.VircamTranslator'> and file /Users/raphaelshirley/Documents/github/lsst-ir-fusion/dmu4/dmu4_Example/data/VIRCAM/raw/all/raw/20121123/658653/raw_VIRCAM_VIRCAM-Ks_658653_ccd1_VIRCAM_raw_all.fit: 'ESO INS THERMAL AMB MEAN not found'\n",
      "Ignoring Error calculating property 'altaz_begin' using translator <class 'lsst.obs.vista.translators.vircam.VircamTranslator'> and file /Users/raphaelshirley/Documents/github/lsst-ir-fusion/dmu4/dmu4_Example/data/VIRCAM/raw/all/raw/20121123/658653/raw_VIRCAM_VIRCAM-Ks_658653_ccd1_VIRCAM_raw_all.fit: '/Users/raphaelshirley/Documents/github/lsst-ir-fusion/dmu4/dmu4_Example/data/VIRCAM/raw/all/raw/20121123/658653/raw_VIRCAM_VIRCAM-Ks_658653_ccd1_VIRCAM_raw_all.fit(658653): Unable to determine AltAz of science observation'\n"
     ]
    },
    {
     "name": "stdout",
     "output_type": "stream",
     "text": [
      "detectorId 9 type <class 'int'>\n",
      "detectorId 9 type <class 'int'>\n"
     ]
    }
   ],
   "source": [
    "# Define the dataId\n",
    "dataId = {'instrument':'VIRCAM','filter': 'K', 'exposure': 658653, 'detector': 9}\n",
    "butler = Butler(repo, collections='VIRCAM/raw/all')\n",
    "ccdExposure = butler.get('raw', **dataId)"
   ]
  },
  {
   "cell_type": "code",
   "execution_count": 84,
   "id": "66de7edf-66c4-453d-a9ba-3223a710e4ac",
   "metadata": {},
   "outputs": [
    {
     "name": "stderr",
     "output_type": "stream",
     "text": [
      "Ignoring Error calculating property 'temperature' using translator <class 'lsst.obs.vista.translators.vircam.VircamTranslator'> and file /Users/raphaelshirley/Documents/github/lsst-ir-fusion/dmu4/dmu4_Example/data/videoTest/confidence3/20121123/K/VIRCAM-Ks/658653/confidence3_VIRCAM_K_VIRCAM-Ks_658653_ccd9_videoTest.fit: 'ESO INS THERMAL AMB MEAN not found'\n",
      "Ignoring Error calculating property 'altaz_begin' using translator <class 'lsst.obs.vista.translators.vircam.VircamTranslator'> and file /Users/raphaelshirley/Documents/github/lsst-ir-fusion/dmu4/dmu4_Example/data/videoTest/confidence3/20121123/K/VIRCAM-Ks/658653/confidence3_VIRCAM_K_VIRCAM-Ks_658653_ccd9_videoTest.fit: '/Users/raphaelshirley/Documents/github/lsst-ir-fusion/dmu4/dmu4_Example/data/videoTest/confidence3/20121123/K/VIRCAM-Ks/658653/confidence3_VIRCAM_K_VIRCAM-Ks_658653_ccd9_videoTest.fit(658653): Unable to determine AltAz of science observation'\n"
     ]
    },
    {
     "name": "stdout",
     "output_type": "stream",
     "text": [
      "detectorId 9 type <class 'int'>\n",
      "detectorId 9 type <class 'int'>\n"
     ]
    }
   ],
   "source": [
    "# Define the dataId\n",
    "dataId = {'instrument':'VIRCAM','filter': 'K', 'visit': 658653, 'detector': 9}\n",
    "butler = Butler(repo, collections='videoTest')\n",
    "confidence = butler.get('confidence3', **dataId)"
   ]
  },
  {
   "cell_type": "code",
   "execution_count": 127,
   "id": "b36c64f0-f226-40c1-b3ec-a5ea04dda14b",
   "metadata": {},
   "outputs": [],
   "source": []
  },
  {
   "cell_type": "code",
   "execution_count": 128,
   "id": "f4e88350-71d7-4817-9722-e73cdc975df4",
   "metadata": {},
   "outputs": [
    {
     "name": "stdout",
     "output_type": "stream",
     "text": [
      "It worked\n"
     ]
    }
   ],
   "source": [
    "from lsst.ip.isr import isrFunctions\n",
    "def updateVarianceFixedGain(test):\n",
    "    print(test)\n",
    "isrFunctions.updateVariance = updateVarianceFixedGain\n",
    "isrFunctions.updateVariance('It worked')"
   ]
  },
  {
   "cell_type": "code",
   "execution_count": 124,
   "id": "e03250ed-67aa-4c44-9925-fdfd017f7b29",
   "metadata": {},
   "outputs": [
    {
     "name": "stdout",
     "output_type": "stream",
     "text": [
      "expNum:6\n",
      "gain:31.71\n",
      "gain:27.18,31.71\n",
      "self.config.doConfidence: True\n",
      "updateVariance ran\n",
      "Running confidence\n",
      "Confidence map not found in Butler.\n"
     ]
    },
    {
     "name": "stderr",
     "output_type": "stream",
     "text": [
      "No rough magnitude zero point defined for filter VIRCAM-Ks.\n"
     ]
    }
   ],
   "source": [
    "#imports required by task definition - this cell should contain all the Python for the task \n",
    "#such that it can be directly copied to obs_vista/python/lsst/obs/vista/vircamIsrTask.py\n",
    "from lsst.ip.isr.isrTask import IsrTask, IsrTaskConfig\n",
    "import lsst.pex.config as pexConfig\n",
    "import lsst.pipe.base as pipeBase\n",
    "from lsst.utils.timer import timeMethod\n",
    "\n",
    "__all__ = [\"VircamIsrConfig\", \"VircamIsrTask\"]\n",
    "\n",
    "\n",
    "class VircamIsrConfig(IsrTaskConfig):\n",
    "    doConfidence = pexConfig.Field(\n",
    "        dtype=bool,\n",
    "        doc=\"Apply the CASU VISTA confidence map to the exposure variance image if available.\",\n",
    "        default=False,\n",
    "    )\n",
    "\n",
    "\n",
    "class VircamIsrTask(IsrTask):\n",
    "    \"\"\"Load a CASU confidence map and apply it to the variance plane\n",
    "\n",
    "    This is used to retarget the `isr` subtask in `ProcessCcdTask` when you prefer to use\n",
    "    the community pipeline instead of the LSST software stack to perform ISR on DECam images.\n",
    "    \"\"\"\n",
    "    ConfigClass = VircamIsrConfig\n",
    "    _DefaultName = \"isr\"\n",
    "\n",
    "    def applyConfidenceMapToAmpExposure(self, ampExposure, confMap=None):\n",
    "        \"\"\"Return variance plane for image given confidence map\n",
    "        \n",
    "        \n",
    "        \"\"\"\n",
    "        print(\"applyConfidenceMapToAmpExposure called\")\n",
    "        if confMap is not None:\n",
    "            maskedImage = ampExposure.getMaskedImage()  \n",
    "            var = maskedImage.getVariance()\n",
    "            var *= 100./confMap\n",
    "\n",
    "    @timeMethod\n",
    "    def updateVariance(self, ampExposure, amp, overscanImage=None, ptcDataset=None):\n",
    "        \"\"\"Find the confidence map and modify the ampExposure sent to the variance method\n",
    "\n",
    "        \"\"\"\n",
    "        #self.log.info(\"Loading VISTA community pipeline file %s\" % (sensorRef.dataId))\n",
    "        #get exposure number and update gain\n",
    "        expNum=ampExposure.getInfo().getMetadata().getAsInt('ESO DET NDIT')\n",
    "        print(\"expNum:{}\".format(expNum))\n",
    "        global gain, ampGlob\n",
    "        ampGlob=amp\n",
    "        gain=amp.getGain()\n",
    "        print(\"gain:{}\".format(gain))\n",
    "        gain*=(expNum/10) #6 is default value set in camera\n",
    "        print(\"gain:{},{}\".format(gain,amp.getGain()))\n",
    "        #multiple variance by 100/conf map if requested\n",
    "        print(\"self.config.doConfidence:\",self.config.doConfidence)\n",
    "        super().updateVariance(ampExposure, amp, overscanImage=overscanImage, ptcDataset=ptcDataset)\n",
    "        print(\"updateVariance ran\")\n",
    "        if self.config.doConfidence:\n",
    "            print(\"Running confidence\")\n",
    "            try:\n",
    "                # get the confidence map using the dataRef for the exposure\n",
    "                confMap = dataRef.get(\"confMap\", immediate=True)\n",
    "                applyConfidenceMapToAmpExposure(self, ampExposure, confMap=confMap)\n",
    "                self.log.info(\"Confidence map applied to variance plane.\" )\n",
    "            except: #NoResults from gen3 Butler?\n",
    "                confMap = None\n",
    "                self.log.info(\"Confidence map not found in Butler.\" )\n",
    "                print(\"Confidence map not found in Butler.\" )\n",
    "        else:\n",
    "            self.log.info(\"Variance plane set without application of confidence map.\" )\n",
    "            \n",
    "        if self.confidence.doGainRenormalization:\n",
    "            \n",
    "    @timeMethod\n",
    "    def runDataRef(self, sensorRef):\n",
    "        \"\"\"Perform instrument signature removal on a ButlerDataRef of a Sensor.\n",
    "        This method contains the `CmdLineTask` interface to the ISR\n",
    "        processing.  All IO is handled here, freeing the `run()` method\n",
    "        to manage only pixel-level calculations.  The steps performed\n",
    "        are:\n",
    "        - Read in necessary detrending/isr/calibration data.\n",
    "        - Process raw exposure in `run()`.\n",
    "        - Persist the ISR-corrected exposure as \"postISRCCD\" if\n",
    "          config.doWrite=True.\n",
    "        Parameters\n",
    "        ----------\n",
    "        sensorRef : `daf.persistence.butlerSubset.ButlerDataRef`\n",
    "            DataRef of the detector data to be processed\n",
    "        Returns\n",
    "        -------\n",
    "        result : `lsst.pipe.base.Struct`\n",
    "            Result struct with component:\n",
    "            - ``exposure`` : `afw.image.Exposure`\n",
    "                The fully ISR corrected exposure.\n",
    "        Raises\n",
    "        ------\n",
    "        RuntimeError\n",
    "            Raised if a configuration option is set to True, but the\n",
    "            required calibration data does not exist.\n",
    "        \"\"\"\n",
    "        self.log.info(\"Performing ISR on sensor %s.\", sensorRef.dataId)\n",
    "        print(\"Performing ISR on sensor %s.\", sensorRef.dataId)\n",
    "        ccdExposure = sensorRef.get(self.config.datasetType)\n",
    "\n",
    "        camera = sensorRef.get(\"camera\")\n",
    "        isrData = self.readIsrData(sensorRef, ccdExposure)\n",
    "        print(\"isrData.getDict():{}\".format(isrData.getDict()))\n",
    "        result = self.run(ccdExposure, camera=camera, **isrData.getDict())\n",
    "\n",
    "        if self.config.doWrite:\n",
    "            sensorRef.put(result.exposure, \"postISRCCD\")\n",
    "            if result.preInterpExposure is not None:\n",
    "                sensorRef.put(result.preInterpExposure, \"postISRCCD_uninterpolated\")\n",
    "        if result.ossThumb is not None:\n",
    "            isrQa.writeThumbnail(sensorRef, result.ossThumb, \"ossThumb\")\n",
    "        if result.flattenedThumb is not None:\n",
    "            isrQa.writeThumbnail(sensorRef, result.flattenedThumb, \"flattenedThumb\")\n",
    "\n",
    "        return result\n",
    "    \n",
    "\n",
    "config = VircamIsrTask.ConfigClass()\n",
    "config.doBias=False\n",
    "config.doDark=False\n",
    "config.doFlat=False\n",
    "config.doDefect=False\n",
    "config.doConfidence=True\n",
    "VircamIsrTaskInstance = VircamIsrTask(config=config)\n",
    "result = VircamIsrTaskInstance.run(ccdExposure)"
   ]
  },
  {
   "cell_type": "code",
   "execution_count": 126,
   "id": "d889de16-49c8-465d-a309-2018d4b0ba4c",
   "metadata": {},
   "outputs": [
    {
     "data": {
      "text/plain": [
       "<lsst.afw.cameraGeom.Amplifier at 0x7ff85a903270>"
      ]
     },
     "execution_count": 126,
     "metadata": {},
     "output_type": "execute_result"
    }
   ],
   "source": [
    "ampGlob."
   ]
  },
  {
   "cell_type": "code",
   "execution_count": 112,
   "id": "6d6f8744-e63a-4504-9abb-dae38989aa84",
   "metadata": {},
   "outputs": [
    {
     "data": {
      "text/plain": [
       "lsst.afw.image.ExposureInfo"
      ]
     },
     "execution_count": 112,
     "metadata": {},
     "output_type": "execute_result"
    }
   ],
   "source": [
    "dataId = {'instrument':'VIRCAM','filter': 'K', 'visit': 658653, 'detector': 9}\n",
    "butler = Butler(repo, collections='videoTest')\n",
    "confidence = butler.get('confidence3', **dataId)\n",
    "ccdExposure."
   ]
  },
  {
   "cell_type": "code",
   "execution_count": null,
   "id": "75d37394-d45d-4774-b8ca-d6579c86432d",
   "metadata": {},
   "outputs": [],
   "source": [
    "butler."
   ]
  },
  {
   "cell_type": "code",
   "execution_count": null,
   "id": "bc342757-e75a-4164-aacf-bee9c5f54251",
   "metadata": {},
   "outputs": [],
   "source": [
    "result = VircamIsrTaskInstance.runDataRef()"
   ]
  },
  {
   "cell_type": "code",
   "execution_count": 88,
   "id": "5cd7ef4d-b983-4c94-8fb7-b49539b7d516",
   "metadata": {},
   "outputs": [
    {
     "data": {
      "text/plain": [
       "(2127, 2106)"
      ]
     },
     "execution_count": 88,
     "metadata": {},
     "output_type": "execute_result"
    }
   ],
   "source": [
    "c=confidence.getMaskedImage()\n",
    "c.getImage().array.shape"
   ]
  },
  {
   "cell_type": "code",
   "execution_count": 59,
   "id": "e917f8c8-9345-4211-b19d-6b60e79793e3",
   "metadata": {},
   "outputs": [],
   "source": [
    "maskedImage=ccdExposure.getMaskedImage()\n",
    "var=maskedImage.getVariance()\n"
   ]
  },
  {
   "cell_type": "code",
   "execution_count": 78,
   "id": "e118af1d-57e2-4d43-bef9-8ae00b1a6398",
   "metadata": {},
   "outputs": [
    {
     "data": {
      "text/plain": [
       "6"
      ]
     },
     "execution_count": 78,
     "metadata": {},
     "output_type": "execute_result"
    }
   ],
   "source": [
    "ccdExposure.getInfo().getMetadata().getAsInt('ESO DET NDIT')"
   ]
  },
  {
   "cell_type": "code",
   "execution_count": 34,
   "id": "b1e2fa38-0b47-44ba-acf4-d206521d070a",
   "metadata": {},
   "outputs": [
    {
     "name": "stderr",
     "output_type": "stream",
     "text": [
      "No rough magnitude zero point defined for filter VIRCAM-Ks.\n"
     ]
    }
   ],
   "source": [
    "config = IsrTask.ConfigClass()\n",
    "config.doBias=False\n",
    "config.doDark=False\n",
    "config.doFlat=False\n",
    "config.doDefect=False\n",
    "IsrTaskInstance = IsrTask(config=config)\n",
    "result = IsrTaskInstance.run(ccdExposure)"
   ]
  },
  {
   "cell_type": "code",
   "execution_count": 93,
   "id": "0a5bc4f2-35f8-4693-816d-dc6d12678542",
   "metadata": {},
   "outputs": [
    {
     "ename": "TypeError",
     "evalue": "updateVariance() got multiple values for argument 'overscanImage'",
     "output_type": "error",
     "traceback": [
      "\u001b[0;31m---------------------------------------------------------------------------\u001b[0m",
      "\u001b[0;31mTypeError\u001b[0m                                 Traceback (most recent call last)",
      "\u001b[0;32m/var/folders/l2/pxknhjd1029ckt57_p03cm080000gn/T/ipykernel_18595/2094307011.py\u001b[0m in \u001b[0;36m<module>\u001b[0;34m\u001b[0m\n\u001b[1;32m      6\u001b[0m \u001b[0mconfig\u001b[0m\u001b[0;34m.\u001b[0m\u001b[0mdoConfidence\u001b[0m\u001b[0;34m=\u001b[0m\u001b[0;32mTrue\u001b[0m\u001b[0;34m\u001b[0m\u001b[0;34m\u001b[0m\u001b[0m\n\u001b[1;32m      7\u001b[0m \u001b[0mVircamIsrTaskInstance\u001b[0m \u001b[0;34m=\u001b[0m \u001b[0mVircamIsrTask\u001b[0m\u001b[0;34m(\u001b[0m\u001b[0mconfig\u001b[0m\u001b[0;34m=\u001b[0m\u001b[0mconfig\u001b[0m\u001b[0;34m)\u001b[0m\u001b[0;34m\u001b[0m\u001b[0;34m\u001b[0m\u001b[0m\n\u001b[0;32m----> 8\u001b[0;31m \u001b[0mresult\u001b[0m \u001b[0;34m=\u001b[0m \u001b[0mVircamIsrTaskInstance\u001b[0m\u001b[0;34m.\u001b[0m\u001b[0mrun\u001b[0m\u001b[0;34m(\u001b[0m\u001b[0mccdExposure\u001b[0m\u001b[0;34m)\u001b[0m\u001b[0;34m\u001b[0m\u001b[0;34m\u001b[0m\u001b[0m\n\u001b[0m",
      "\u001b[0;32m~/Documents/github/lsst_stack/stack/miniconda3-py38_4.9.2-0.7.0/DarwinX86/utils/22.0.1-9-ge7cdf9e+c47995677b/python/lsst/utils/timer.py\u001b[0m in \u001b[0;36mwrapper\u001b[0;34m(self, *args, **keyArgs)\u001b[0m\n\u001b[1;32m    286\u001b[0m                     logLevel=logLevel)\n\u001b[1;32m    287\u001b[0m             \u001b[0;32mtry\u001b[0m\u001b[0;34m:\u001b[0m\u001b[0;34m\u001b[0m\u001b[0;34m\u001b[0m\u001b[0m\n\u001b[0;32m--> 288\u001b[0;31m                 \u001b[0mres\u001b[0m \u001b[0;34m=\u001b[0m \u001b[0mfunc\u001b[0m\u001b[0;34m(\u001b[0m\u001b[0mself\u001b[0m\u001b[0;34m,\u001b[0m \u001b[0;34m*\u001b[0m\u001b[0margs\u001b[0m\u001b[0;34m,\u001b[0m \u001b[0;34m**\u001b[0m\u001b[0mkeyArgs\u001b[0m\u001b[0;34m)\u001b[0m\u001b[0;34m\u001b[0m\u001b[0;34m\u001b[0m\u001b[0m\n\u001b[0m\u001b[1;32m    289\u001b[0m             \u001b[0;32mfinally\u001b[0m\u001b[0;34m:\u001b[0m\u001b[0;34m\u001b[0m\u001b[0;34m\u001b[0m\u001b[0m\n\u001b[1;32m    290\u001b[0m                 logInfo(obj=self, prefix=func.__name__ + \"End\", metadata=metadata, logger=logger,\n",
      "\u001b[0;32m~/Documents/github/lsst_stack/stack/miniconda3-py38_4.9.2-0.7.0/DarwinX86/ip_isr/22.0.1-22-ge307e65+9a363e8c32/python/lsst/ip/isr/isrTask.py\u001b[0m in \u001b[0;36mrun\u001b[0;34m(self, ccdExposure, camera, bias, linearizer, crosstalk, crosstalkSources, dark, flat, ptc, bfKernel, bfGains, defects, fringes, opticsTransmission, filterTransmission, sensorTransmission, atmosphereTransmission, detectorNum, strayLightData, illumMaskedImage, isGen3)\u001b[0m\n\u001b[1;32m   1530\u001b[0m                     \u001b[0mampExposure\u001b[0m \u001b[0;34m=\u001b[0m \u001b[0mccdExposure\u001b[0m\u001b[0;34m.\u001b[0m\u001b[0mFactory\u001b[0m\u001b[0;34m(\u001b[0m\u001b[0mccdExposure\u001b[0m\u001b[0;34m,\u001b[0m \u001b[0mamp\u001b[0m\u001b[0;34m.\u001b[0m\u001b[0mgetBBox\u001b[0m\u001b[0;34m(\u001b[0m\u001b[0;34m)\u001b[0m\u001b[0;34m)\u001b[0m\u001b[0;34m\u001b[0m\u001b[0;34m\u001b[0m\u001b[0m\n\u001b[1;32m   1531\u001b[0m                     \u001b[0;32mif\u001b[0m \u001b[0moverscanResults\u001b[0m \u001b[0;32mis\u001b[0m \u001b[0;32mnot\u001b[0m \u001b[0;32mNone\u001b[0m\u001b[0;34m:\u001b[0m\u001b[0;34m\u001b[0m\u001b[0;34m\u001b[0m\u001b[0m\n\u001b[0;32m-> 1532\u001b[0;31m                         self.updateVariance(ampExposure, amp,\n\u001b[0m\u001b[1;32m   1533\u001b[0m                                             \u001b[0moverscanImage\u001b[0m\u001b[0;34m=\u001b[0m\u001b[0moverscanResults\u001b[0m\u001b[0;34m.\u001b[0m\u001b[0moverscanImage\u001b[0m\u001b[0;34m,\u001b[0m\u001b[0;34m\u001b[0m\u001b[0;34m\u001b[0m\u001b[0m\n\u001b[1;32m   1534\u001b[0m                                             ptcDataset=ptc)\n",
      "\u001b[0;32m~/Documents/github/lsst_stack/stack/miniconda3-py38_4.9.2-0.7.0/DarwinX86/utils/22.0.1-9-ge7cdf9e+c47995677b/python/lsst/utils/timer.py\u001b[0m in \u001b[0;36mwrapper\u001b[0;34m(self, *args, **keyArgs)\u001b[0m\n\u001b[1;32m    286\u001b[0m                     logLevel=logLevel)\n\u001b[1;32m    287\u001b[0m             \u001b[0;32mtry\u001b[0m\u001b[0;34m:\u001b[0m\u001b[0;34m\u001b[0m\u001b[0;34m\u001b[0m\u001b[0m\n\u001b[0;32m--> 288\u001b[0;31m                 \u001b[0mres\u001b[0m \u001b[0;34m=\u001b[0m \u001b[0mfunc\u001b[0m\u001b[0;34m(\u001b[0m\u001b[0mself\u001b[0m\u001b[0;34m,\u001b[0m \u001b[0;34m*\u001b[0m\u001b[0margs\u001b[0m\u001b[0;34m,\u001b[0m \u001b[0;34m**\u001b[0m\u001b[0mkeyArgs\u001b[0m\u001b[0;34m)\u001b[0m\u001b[0;34m\u001b[0m\u001b[0;34m\u001b[0m\u001b[0m\n\u001b[0m\u001b[1;32m    289\u001b[0m             \u001b[0;32mfinally\u001b[0m\u001b[0;34m:\u001b[0m\u001b[0;34m\u001b[0m\u001b[0;34m\u001b[0m\u001b[0m\n\u001b[1;32m    290\u001b[0m                 logInfo(obj=self, prefix=func.__name__ + \"End\", metadata=metadata, logger=logger,\n",
      "\u001b[0;32m/var/folders/l2/pxknhjd1029ckt57_p03cm080000gn/T/ipykernel_18595/3343329102.py\u001b[0m in \u001b[0;36mupdateVariance\u001b[0;34m(self, ampExposure, amp, overscanImage, ptcDataset)\u001b[0m\n\u001b[1;32m     47\u001b[0m         \u001b[0;31m# gain*=(expNum/6) #6 is default value set in camera\u001b[0m\u001b[0;34m\u001b[0m\u001b[0;34m\u001b[0m\u001b[0;34m\u001b[0m\u001b[0m\n\u001b[1;32m     48\u001b[0m         \u001b[0;31m#multiple variance by 100/conf map if requested\u001b[0m\u001b[0;34m\u001b[0m\u001b[0;34m\u001b[0m\u001b[0;34m\u001b[0m\u001b[0m\n\u001b[0;32m---> 49\u001b[0;31m         \u001b[0msuper\u001b[0m\u001b[0;34m(\u001b[0m\u001b[0;34m)\u001b[0m\u001b[0;34m.\u001b[0m\u001b[0mupdateVariance\u001b[0m\u001b[0;34m(\u001b[0m\u001b[0mself\u001b[0m\u001b[0;34m,\u001b[0m \u001b[0mampExposure\u001b[0m\u001b[0;34m,\u001b[0m \u001b[0mamp\u001b[0m\u001b[0;34m,\u001b[0m \u001b[0moverscanImage\u001b[0m\u001b[0;34m=\u001b[0m\u001b[0;32mNone\u001b[0m\u001b[0;34m,\u001b[0m \u001b[0mptcDataset\u001b[0m\u001b[0;34m=\u001b[0m\u001b[0;32mNone\u001b[0m\u001b[0;34m)\u001b[0m\u001b[0;34m\u001b[0m\u001b[0;34m\u001b[0m\u001b[0m\n\u001b[0m\u001b[1;32m     50\u001b[0m         \u001b[0;32mif\u001b[0m \u001b[0mself\u001b[0m\u001b[0;34m.\u001b[0m\u001b[0mconfig\u001b[0m\u001b[0;34m.\u001b[0m\u001b[0mdoConfidence\u001b[0m\u001b[0;34m:\u001b[0m\u001b[0;34m\u001b[0m\u001b[0;34m\u001b[0m\u001b[0m\n\u001b[1;32m     51\u001b[0m             \u001b[0;32mtry\u001b[0m\u001b[0;34m:\u001b[0m\u001b[0;34m\u001b[0m\u001b[0;34m\u001b[0m\u001b[0m\n",
      "\u001b[0;31mTypeError\u001b[0m: updateVariance() got multiple values for argument 'overscanImage'"
     ]
    }
   ],
   "source": [
    "config = VircamIsrTask.ConfigClass()\n",
    "config.doBias=False\n",
    "config.doDark=False\n",
    "config.doFlat=False\n",
    "config.doDefect=False\n",
    "config.doConfidence=True\n",
    "VircamIsrTaskInstance = VircamIsrTask(config=config)\n",
    "result = VircamIsrTaskInstance.run(ccdExposure)"
   ]
  },
  {
   "cell_type": "code",
   "execution_count": 35,
   "id": "5209cce9-8d0e-41ec-a49c-aa98125c661c",
   "metadata": {},
   "outputs": [
    {
     "data": {
      "text/plain": [
       "Struct(exposure=<lsst.afw.image.exposure.ExposureF object at 0x7ff8391409f0>; ossThumb=None; flattenedThumb=None; preInterpExposure=None; outputExposure=<lsst.afw.image.exposure.ExposureF object at 0x7ff8391409f0>; outputOssThumbnail=None; outputFlattenedThumbnail=None)"
      ]
     },
     "execution_count": 35,
     "metadata": {},
     "output_type": "execute_result"
    }
   ],
   "source": [
    "result"
   ]
  },
  {
   "cell_type": "code",
   "execution_count": 37,
   "id": "75730a3a-d186-443e-b932-cb22e368b7f4",
   "metadata": {},
   "outputs": [],
   "source": [
    "out=result.outputExposure"
   ]
  },
  {
   "cell_type": "code",
   "execution_count": 38,
   "id": "7fcd1be2-f5d8-459c-81f8-3ba792bdac44",
   "metadata": {},
   "outputs": [
    {
     "data": {
      "text/plain": [
       "lsst.afw.image.image.ImageF=[[3.5408572e+02 3.5398044e+02 3.5402814e+02 ... 3.5430624e+02\n",
       "  3.5393674e+02 3.5377829e+02]\n",
       " [3.5368842e+02 3.5351163e+02 3.5385132e+02 ... 3.5333682e+02\n",
       "  3.5390894e+02 3.5415427e+02]\n",
       " [3.5382947e+02 3.5404599e+02 3.5412149e+02 ... 3.5397052e+02\n",
       "  3.5349573e+02 3.5329214e+02]\n",
       " ...\n",
       " [3.5422879e+02 3.5469363e+02 3.5389902e+02 ... 3.5404599e+02\n",
       "  3.5404599e+02 3.5404599e+02]\n",
       " [3.5404599e+02 3.5404599e+02 3.5404599e+02 ... 3.5404599e+02\n",
       "  3.5404599e+02 3.5404599e+02]\n",
       " [1.3290007e-01 1.3290007e-01 1.3290007e-01 ... 1.3290007e-01\n",
       "  1.3290007e-01 1.3290007e-01]], bbox=(minimum=(0, 0), maximum=(2048, 2048))"
      ]
     },
     "execution_count": 38,
     "metadata": {},
     "output_type": "execute_result"
    }
   ],
   "source": [
    "out.getVariance()"
   ]
  },
  {
   "cell_type": "code",
   "execution_count": 52,
   "id": "f2caebed-9500-471b-ad4c-675efced89e0",
   "metadata": {},
   "outputs": [
    {
     "data": {
      "text/plain": [
       "<matplotlib.image.AxesImage at 0x7ff85a23dbe0>"
      ]
     },
     "execution_count": 52,
     "metadata": {},
     "output_type": "execute_result"
    },
    {
     "data": {
      "image/png": "[encoded data removed]",
      "text/plain": [
       "<Figure size 432x288 with 1 Axes>"
      ]
     },
     "metadata": {
      "needs_background": "light"
     },
     "output_type": "display_data"
    }
   ],
   "source": [
    "plt.imshow(np.log(out.getVariance().array))"
   ]
  },
  {
   "cell_type": "code",
   "execution_count": 51,
   "id": "6c224101-1d85-4345-935c-f51b1cfb2146",
   "metadata": {},
   "outputs": [
    {
     "data": {
      "text/plain": [
       "(array([15806., 16861., 13591., 18523., 14797., 20408., 21830., 17189.,\n",
       "        23775., 18739., 26188., 27533., 21294., 29911., 23678., 32753.,\n",
       "        33739., 26807., 36303., 28225., 39299., 30343., 41548., 43076.,\n",
       "        33672., 45362., 35413., 47558., 49483., 38303., 51876., 40363.,\n",
       "        52993., 55123., 41824., 56770., 44206., 59333., 44738., 60055.,\n",
       "        61148., 46635., 61595., 46794., 61962., 62832., 47681., 63486.,\n",
       "        47420., 66229., 63043., 47695., 63034., 47619., 63163., 60706.,\n",
       "        45981., 60455., 45165., 58329., 44117., 57418., 56517., 41721.,\n",
       "        54467., 40434., 52671., 50758., 37853., 48358., 36087., 46460.,\n",
       "        44963., 32508., 42001., 30759., 39878., 38542., 27624., 36012.,\n",
       "        26446., 33288., 23941., 30959., 29890., 21070., 27011., 19595.,\n",
       "        25016., 23498., 17028., 21709., 15402., 19563., 18178., 13053.,\n",
       "        16575., 11932., 15048., 14206.]),\n",
       " array([353.69635, 353.7035 , 353.7106 , 353.71774, 353.72488, 353.732  ,\n",
       "        353.73914, 353.74628, 353.75342, 353.76053, 353.76767, 353.7748 ,\n",
       "        353.78192, 353.78906, 353.7962 , 353.80334, 353.81046, 353.8176 ,\n",
       "        353.82474, 353.83185, 353.839  , 353.84613, 353.85324, 353.86038,\n",
       "        353.86752, 353.87463, 353.88177, 353.88892, 353.89606, 353.90317,\n",
       "        353.9103 , 353.91745, 353.92456, 353.9317 , 353.93884, 353.94598,\n",
       "        353.9531 , 353.96024, 353.96738, 353.9745 , 353.98163, 353.98877,\n",
       "        353.99588, 354.00302, 354.01016, 354.01727, 354.0244 , 354.03156,\n",
       "        354.0387 , 354.0458 , 354.05295, 354.0601 , 354.0672 , 354.07434,\n",
       "        354.08148, 354.08862, 354.09573, 354.10287, 354.11002, 354.11713,\n",
       "        354.12427, 354.1314 , 354.13852, 354.14566, 354.1528 , 354.1599 ,\n",
       "        354.16705, 354.1742 , 354.18134, 354.18845, 354.1956 , 354.20273,\n",
       "        354.20984, 354.21698, 354.22412, 354.23126, 354.23837, 354.2455 ,\n",
       "        354.25266, 354.25977, 354.2669 , 354.27405, 354.28116, 354.2883 ,\n",
       "        354.29544, 354.30255, 354.3097 , 354.31683, 354.32397, 354.3311 ,\n",
       "        354.33823, 354.34537, 354.35248, 354.35962, 354.36676, 354.3739 ,\n",
       "        354.381  , 354.38815, 354.3953 , 354.4024 , 354.40955],\n",
       "       dtype=float32),\n",
       " <BarContainer object of 100 artists>)"
      ]
     },
     "execution_count": 51,
     "metadata": {},
     "output_type": "execute_result"
    },
    {
     "data": {
      "image/png": "[encoded data removed]",
      "text/plain": [
       "<Figure size 432x288 with 1 Axes>"
      ]
     },
     "metadata": {
      "needs_background": "light"
     },
     "output_type": "display_data"
    }
   ],
   "source": [
    "plt.hist(out.getVariance().array.flatten(),bins=100,\n",
    "         range=[np.percentile(out.getVariance().array.flatten(),5),np.percentile(out.getVariance().array.flatten(),95)]\n",
    "        )"
   ]
  },
  {
   "cell_type": "code",
   "execution_count": null,
   "id": "670a0121-9df8-4000-887d-80636803059d",
   "metadata": {},
   "outputs": [],
   "source": []
  }
 ],
 "metadata": {
  "kernelspec": {
   "display_name": "Python 3 (ipykernel)",
   "language": "python",
   "name": "python3"
  },
  "language_info": {
   "codemirror_mode": {
    "name": "ipython",
    "version": 3
   },
   "file_extension": ".py",
   "mimetype": "text/x-python",
   "name": "python",
   "nbconvert_exporter": "python",
   "pygments_lexer": "ipython3",
   "version": "3.8.8"
  }
 },
 "nbformat": 4,
 "nbformat_minor": 5
}
