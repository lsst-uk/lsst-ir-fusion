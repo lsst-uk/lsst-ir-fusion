{
 "cells": [
  {
   "cell_type": "markdown",
   "metadata": {},
   "source": [
    "# 3 Diagnostics\n",
    "\n",
    "In this notebook we will look at some of the results produced by the gen2 pipeline run. We will compare these to the tile catalogues as well as the public catalogues in HELP. We will also experiemnt with stitching patch catalogues together."
   ]
  },
  {
   "cell_type": "code",
   "execution_count": 1,
   "metadata": {},
   "outputs": [],
   "source": [
    "from astropy.io import fits\n",
    "from astropy.wcs import WCS\n",
    "from astropy.table import Table, vstack\n",
    "import astropy.units as u\n",
    "\n",
    "import os\n",
    "from collections import OrderedDict\n",
    "import yaml\n",
    "import glob\n",
    "import numpy as np\n",
    "\n",
    "import matplotlib.pyplot as plt\n",
    "\n",
    "from lsst.geom import degrees\n",
    "import lsst.daf.persistence as dafPersist\n",
    "\n",
    "import warnings\n",
    "warnings.filterwarnings('ignore')"
   ]
  },
  {
   "cell_type": "code",
   "execution_count": 2,
   "metadata": {},
   "outputs": [],
   "source": [
    "OXFORD_VISTA_Ks_CAT = \"../../dmu3/data/XMMFULL_DR2_MASKVISTA_Ks_2.0as_IRAC2.8as_2020_06_01.fits\"\n",
    "\n",
    "\n",
    "\n",
    "VHS_CAT = '../../dmu0/dmu0_VISTA/dmu0_VHS/data/VHS_XMM-LSS.fits'\n",
    "\n",
    "\n",
    "MASS_CAT = \"../dmu0/dmu0_2MASS/data/fp_2mass.fp_psc_29182.tbl\"\n",
    "#VIDEO_CAT = \"../dmu0/dmu0_VISTA/dmu0_VIDEO/data/VIDEO-all_2017-02-12_fullcat_errfix_XMM-LSS.fits\"\n",
    "VIDEO_CAT = \"../dmu0/dmu0_VISTA/dmu0_VIDEO/data/VIDEO-all_2017-02-12_fullcat_errfix_v2_XMM-LSS.fits\"\n",
    "\n",
    "\n",
    "Z_TILE_CAT = \"../../dmu0/dmu0_VISTA/dmu0_VIDEO/data/20121021/v20121021_00293_st_tl_cat.fits\"\n",
    "Y_TILE_CAT = \"../../dmu0/dmu0_VISTA/dmu0_VIDEO/data/20171027/v20171027_00133_st_tl_cat.fits\"\n",
    "J_TILE_CAT = \"../../dmu0/dmu0_VISTA/dmu0_VIDEO/data/20121021/v20121021_00577_st_tl_cat.fits\"\n",
    "H_TILE_CAT = \"../../dmu0/dmu0_VISTA/dmu0_VIDEO/data/20120924/v20120924_00498_st_tl_cat.fits\"\n",
    "Ks_TILE_CAT = \"../../dmu0/dmu0_VISTA/dmu0_VIDEO/data/20121122/v20121122_00088_st_tl_cat.fits\""
   ]
  },
  {
   "cell_type": "code",
   "execution_count": 3,
   "metadata": {},
   "outputs": [],
   "source": [
    "vega_to_ab = {\n",
    "    \"z\":0.502,\n",
    "    \"y\":0.600,\n",
    "    \"j\":0.916,\n",
    "    \"h\":1.366,\n",
    "    \"ks\":1.827,\n",
    "    \"b118\":0.853\n",
    "}"
   ]
  },
  {
   "cell_type": "code",
   "execution_count": 4,
   "metadata": {},
   "outputs": [],
   "source": [
    "#BUTLER_LOC = './data'\n",
    "BUTLER_LOC = '/Volumes/Raph500/lsst-ir-fusion/dmu4/dmu4_Example/data'"
   ]
  },
  {
   "cell_type": "code",
   "execution_count": 5,
   "metadata": {},
   "outputs": [],
   "source": [
    "def flux_to_mag(fluxes, errors_on_fluxes=None):\n",
    "    \"\"\"Convert fluxes and errors to magnitudes\n",
    "    Given flux densities in Jy with associated errors, this function returns\n",
    "    the corresponding AB magnitudes en errors.\n",
    "    The magnitudes are computed with this formula:\n",
    "        M = 2.5 * (23 - log10(F)) - 48.6\n",
    "    and the errors on magnitudes with this one\n",
    "        M_err = 2.5/ln(10) * F_err / F\n",
    "    Parameters\n",
    "    ----------\n",
    "    fluxes: float or array-like of floats\n",
    "        The fluxes in Jy.\n",
    "    errors_on_fluxes: float or array-like of floats\n",
    "        The flux errors in Jy None if there are no errors.\n",
    "    Returns\n",
    "    -------\n",
    "    magnitudes: float or array-like of floats\n",
    "        The AB magnitudes.\n",
    "    errors: float or array-like of floats\n",
    "        The errors on AB magnitudes.\n",
    "    \"\"\"\n",
    "    fluxes = np.array(fluxes)\n",
    "    magnitudes = 2.5 * (23 - np.log10(fluxes)) - 48.6\n",
    "\n",
    "    if errors_on_fluxes is not None:\n",
    "        errors_on_fluxes = np.array(errors_on_fluxes)\n",
    "        errors = 2.5 / np.log(10) * errors_on_fluxes / fluxes\n",
    "    else:\n",
    "        errors = None\n",
    "\n",
    "    return magnitudes, errors"
   ]
  },
  {
   "cell_type": "markdown",
   "metadata": {},
   "source": [
    "It is not clear to me why no PSF candidates are usable from this. Perhaps I need to further tinker with the star selector config options."
   ]
  },
  {
   "cell_type": "markdown",
   "metadata": {},
   "source": [
    "## 3.1 Catalogs\n",
    "\n",
    "The first thing we need to do is combine all the catalogues and compare to the legacy VISTA photometry which will come from two sources.\n",
    "\n",
    "There are the final catalogues merged from individual tiles, secondly there are the tile catalogues themselves\n",
    "\n",
    "### 3.2.1 Tile catalogues\n",
    "\n",
    "From discussion with Carlos, magnitude should be calculated from these catalogues using:\n",
    "\n",
    "mag = header['MAZPT'] - 2.5 * log10(data['Aper_flux_3']/header['EXPTIME']) - header['APCOR3']\n",
    "\n",
    "These will be Vega like.\n",
    "\n",
    "To convert them to True Vega we use\n",
    "\n",
    "and to convert these true Vega magnitudes to AB we use:\n",
    "\n"
   ]
  },
  {
   "cell_type": "code",
   "execution_count": null,
   "metadata": {},
   "outputs": [],
   "source": [
    "\n"
   ]
  },
  {
   "cell_type": "code",
   "execution_count": 6,
   "metadata": {},
   "outputs": [],
   "source": [
    "ks_tile_cat = Table.read(Ks_TILE_CAT)\n",
    "ks_magzpt = fits.open(Ks_TILE_CAT)[1].header['MAGZPT']\n",
    "ks_exptime = fits.open(Ks_TILE_CAT)[1].header['EXPTIME']\n",
    "ks_apcor3 = fits.open(Ks_TILE_CAT)[1].header['APCOR3']\n",
    "ks_tile_cat['m_ap_vista_ks'] = ks_magzpt - 2.5 * np.log10(ks_tile_cat['Aper_flux_3']/ks_exptime) - ks_apcor3\n",
    "#To true Vega\n",
    "ks_tile_cat['m_ap_vista_ks'] = ks_tile_cat['m_ap_vista_ks'] + 0.05 #Where does Carlos get this figure from?\n",
    "#To AB\n",
    "ks_tile_cat['m_ap_vista_ks'] = ks_tile_cat['m_ap_vista_ks'] + 1.827\n",
    "\n",
    "\n",
    "ks_tile_cat['merr_ap_vista_ks'] = (2.5 / np.log(10))* (ks_tile_cat['Aper_flux_3_err'] / ks_tile_cat['Aper_flux_3'])\n",
    "for c in ks_tile_cat.colnames:\n",
    "    ks_tile_cat[c].name = 'ks_tile_' + c\n",
    "    \n",
    "y_tile_cat = Table.read(Y_TILE_CAT)\n",
    "y_magzpt = fits.open(Y_TILE_CAT)[1].header['MAGZPT']\n",
    "y_exptime = fits.open(Y_TILE_CAT)[1].header['EXPTIME']\n",
    "y_apcor3 = fits.open(Y_TILE_CAT)[1].header['APCOR3']\n",
    "y_tile_cat['m_ap_vista_y'] = y_magzpt - 2.5 * np.log10(y_tile_cat['Aper_flux_3']/y_exptime) - y_apcor3\n",
    "y_tile_cat['merr_ap_vista_y'] = (2.5 / np.log(10))* (y_tile_cat['Aper_flux_3_err'] / y_tile_cat['Aper_flux_3'])\n",
    "\n",
    "#To true Vega?\n",
    "\n",
    "#To AB\n",
    "y_tile_cat['m_ap_vista_y'] = y_tile_cat['m_ap_vista_y'] + 0.600\n",
    "\n",
    "\n",
    "for c in y_tile_cat.colnames:\n",
    "    y_tile_cat[c].name = 'y_tile_' + c\n",
    "    \n",
    "y_tile_cat['y_tile_RA'].unit = u.rad\n",
    "y_tile_cat['y_tile_DEC'].unit = u.rad\n",
    "ks_tile_cat['ks_tile_RA'].unit = u.rad\n",
    "ks_tile_cat['ks_tile_DEC'].unit = u.rad"
   ]
  },
  {
   "cell_type": "code",
   "execution_count": null,
   "metadata": {},
   "outputs": [],
   "source": []
  },
  {
   "cell_type": "code",
   "execution_count": 7,
   "metadata": {},
   "outputs": [
    {
     "data": {
      "text/html": [
       "<i>Table length=10</i>\n",
       "<table id=\"table4680471632-918723\" class=\"table-striped table-bordered table-condensed\">\n",
       "<thead><tr><th>idx</th><th>y_tile_Sequence_number</th><th>y_tile_Isophotal_flux</th><th>y_tile_X_coordinate</th><th>y_tile_X_coordinate_err</th><th>y_tile_Y_coordinate</th><th>y_tile_Y_coordinate_err</th><th>y_tile_Gaussian_sigma</th><th>y_tile_Ellipticity</th><th>y_tile_Position_angle</th><th>y_tile_Areal_1_profile</th><th>y_tile_Areal_2_profile</th><th>y_tile_Areal_3_profile</th><th>y_tile_Areal_4_profile</th><th>y_tile_Areal_5_profile</th><th>y_tile_Areal_6_profile</th><th>y_tile_Areal_7_profile</th><th>y_tile_Areal_8_profile</th><th>y_tile_Peak_height</th><th>y_tile_Peak_height_err</th><th>y_tile_Aper_flux_1</th><th>y_tile_Aper_flux_1_err</th><th>y_tile_Aper_flux_2</th><th>y_tile_Aper_flux_2_err</th><th>y_tile_Aper_flux_3</th><th>y_tile_Aper_flux_3_err</th><th>y_tile_Aper_flux_4</th><th>y_tile_Aper_flux_4_err</th><th>y_tile_Aper_flux_5</th><th>y_tile_Aper_flux_5_err</th><th>y_tile_Aper_flux_6</th><th>y_tile_Aper_flux_6_err</th><th>y_tile_Aper_flux_7</th><th>y_tile_Aper_flux_7_err</th><th>y_tile_Aper_flux_8</th><th>y_tile_Aper_flux_8_err</th><th>y_tile_Aper_flux_9</th><th>y_tile_Aper_flux_9_err</th><th>y_tile_Aper_flux_10</th><th>y_tile_Aper_flux_10_err</th><th>y_tile_Aper_flux_11</th><th>y_tile_Aper_flux_11_err</th><th>y_tile_Aper_flux_12</th><th>y_tile_Aper_flux_12_err</th><th>y_tile_Aper_flux_13</th><th>y_tile_Aper_flux_13_err</th><th>y_tile_Petr_radius</th><th>y_tile_Kron_radius</th><th>y_tile_Half_radius</th><th>y_tile_Petr_flux</th><th>y_tile_Petr_flux_err</th><th>y_tile_Kron_flux</th><th>y_tile_Kron_flux_err</th><th>y_tile_Half_flux</th><th>y_tile_Half_flux_err</th><th>y_tile_Error_bit_flag</th><th>y_tile_Sky_level</th><th>y_tile_Sky_rms</th><th>y_tile_Av_conf</th><th>y_tile_RA</th><th>y_tile_DEC</th><th>y_tile_Classification</th><th>y_tile_Statistic</th><th>y_tile_MJDoff</th><th>y_tile_Blank64</th><th>y_tile_Blank65</th><th>y_tile_Blank66</th><th>y_tile_Blank67</th><th>y_tile_Blank68</th><th>y_tile_Blank69</th><th>y_tile_Blank70</th><th>y_tile_Blank71</th><th>y_tile_Blank72</th><th>y_tile_Blank73</th><th>y_tile_Blank74</th><th>y_tile_Blank75</th><th>y_tile_Blank76</th><th>y_tile_Blank77</th><th>y_tile_Blank78</th><th>y_tile_Blank79</th><th>y_tile_Blank80</th><th>y_tile_m_ap_vista_y</th><th>y_tile_merr_ap_vista_y</th></tr></thead>\n",
       "<thead><tr><th></th><th>Number</th><th>ADU</th><th>Pixels</th><th>Pixels</th><th>Pixels</th><th>Pixels</th><th>Pixels</th><th>Number</th><th>Degrees</th><th>Pixels</th><th>Pixels</th><th>Pixels</th><th>Pixels</th><th>Pixels</th><th>Pixels</th><th>Pixels</th><th>Pixels</th><th>ADU</th><th>ADU</th><th>ADU</th><th>ADU</th><th>ADU</th><th>ADU</th><th>ADU</th><th>ADU</th><th>ADU</th><th>ADU</th><th>ADU</th><th>ADU</th><th>ADU</th><th>ADU</th><th>ADU</th><th>ADU</th><th>ADU</th><th>ADU</th><th>ADU</th><th>ADU</th><th>ADU</th><th>ADU</th><th>ADU</th><th>ADU</th><th>ADU</th><th>ADU</th><th>ADU</th><th>ADU</th><th>Pixels</th><th>Pixels</th><th>Pixels</th><th>ADU</th><th>ADU</th><th>ADU</th><th>ADU</th><th>ADU</th><th>ADU</th><th>Number</th><th>ADU</th><th>ADU</th><th>Number</th><th>rad</th><th>rad</th><th>Flag</th><th>N-sigma</th><th>Minutes</th><th>Blank64</th><th>Blank65</th><th>Blank66</th><th>Blank67</th><th>Blank68</th><th>Blank69</th><th>Blank70</th><th>Blank71</th><th>Blank72</th><th>Blank73</th><th>Blank74</th><th>Blank75</th><th>Blank76</th><th>Blank77</th><th>Blank78</th><th>Blank79</th><th>Blank80</th><th>ADU</th><th>ADU</th></tr></thead>\n",
       "<tr><td>0</td><td>1.0</td><td>400.91217</td><td>5327.299</td><td>0.08294232</td><td>6.9590273</td><td>0.076772645</td><td>2.181055</td><td>0.515074</td><td>165.11868</td><td>21.0</td><td>20.0</td><td>13.0</td><td>2.0</td><td>0.0</td><td>0.0</td><td>0.0</td><td>0.0</td><td>32.82459</td><td>3.9107492</td><td>141.18573</td><td>9.535999</td><td>240.10841</td><td>13.550988</td><td>376.81955</td><td>19.008017</td><td>504.92276</td><td>26.107868</td><td>683.9447</td><td>35.91063</td><td>987.26404</td><td>50.086475</td><td>1581.564</td><td>69.99951</td><td>2079.0876</td><td>87.22096</td><td>2534.0574</td><td>104.2249</td><td>3004.8206</td><td>121.22977</td><td>3452.0815</td><td>138.20679</td><td>3947.5693</td><td>171.91925</td><td>4030.917</td><td>205.50002</td><td>6.463604</td><td>6.463604</td><td>2.75868</td><td>1724.9237</td><td>75.408295</td><td>1724.9237</td><td>75.408295</td><td>341.676</td><td>17.65174</td><td>5.833021</td><td>947.2918</td><td>0.014892578</td><td>10.7948885</td><td>0.62173504</td><td>-0.071107306</td><td>1.0</td><td>6.876411</td><td>137.52301</td><td>0.0</td><td>0.0</td><td>0.0</td><td>0.0</td><td>0.0</td><td>0.0</td><td>0.0</td><td>0.0</td><td>0.0</td><td>0.0</td><td>0.0</td><td>0.0</td><td>0.0</td><td>0.0</td><td>0.0</td><td>0.0</td><td>0.0</td><td>20.814703</td><td>0.0547681</td></tr>\n",
       "<tr><td>1</td><td>2.0</td><td>66.53723</td><td>5311.356</td><td>0.116902605</td><td>9.439828</td><td>0.11722132</td><td>0.80385315</td><td>0.02748096</td><td>82.8013</td><td>4.0</td><td>4.0</td><td>2.0</td><td>0.0</td><td>0.0</td><td>0.0</td><td>0.0</td><td>0.0</td><td>21.759184</td><td>3.6334596</td><td>85.3694</td><td>8.965641</td><td>122.09432</td><td>12.673124</td><td>133.35863</td><td>17.684334</td><td>179.01456</td><td>24.82239</td><td>294.01938</td><td>34.806545</td><td>506.35046</td><td>49.114403</td><td>901.22797</td><td>69.022</td><td>1225.8889</td><td>86.23631</td><td>1430.1448</td><td>103.15921</td><td>1552.1329</td><td>120.024216</td><td>1803.704</td><td>137.00745</td><td>2301.0295</td><td>170.95702</td><td>2789.14</td><td>204.89267</td><td>2.8209481</td><td>2.8209481</td><td>3.367335</td><td>262.90717</td><td>32.710457</td><td>262.90717</td><td>32.710457</td><td>146.8823</td><td>19.793825</td><td>0.0</td><td>947.2926</td><td>0.0014648438</td><td>16.275906</td><td>0.6217615</td><td>-0.07111136</td><td>-1.0</td><td>-0.19967145</td><td>137.52301</td><td>0.0</td><td>0.0</td><td>0.0</td><td>0.0</td><td>0.0</td><td>0.0</td><td>0.0</td><td>0.0</td><td>0.0</td><td>0.0</td><td>0.0</td><td>0.0</td><td>0.0</td><td>0.0</td><td>0.0</td><td>0.0</td><td>0.0</td><td>21.942484</td><td>0.14397658</td></tr>\n",
       "<tr><td>2</td><td>3.0</td><td>2566.1753</td><td>5354.5547</td><td>0.02550832</td><td>6.982853</td><td>0.021167547</td><td>3.3742547</td><td>0.5017164</td><td>164.03537</td><td>75.0</td><td>71.0</td><td>51.0</td><td>27.0</td><td>10.0</td><td>2.0</td><td>0.0</td><td>0.0</td><td>151.78291</td><td>6.1466327</td><td>698.2897</td><td>14.008807</td><td>1124.3665</td><td>18.87063</td><td>1568.7545</td><td>24.475672</td><td>2002.2548</td><td>31.342516</td><td>2417.2383</td><td>40.45408</td><td>2815.2327</td><td>53.619022</td><td>3233.4998</td><td>72.31636</td><td>3547.4373</td><td>88.888504</td><td>3937.6174</td><td>105.56297</td><td>4219.572</td><td>122.22768</td><td>4554.482</td><td>139.00214</td><td>5060.5464</td><td>172.56543</td><td>5858.809</td><td>206.38759</td><td>8.065146</td><td>4.113278</td><td>2.3936327</td><td>3691.8643</td><td>95.15626</td><td>2774.561</td><td>52.134907</td><td>1283.0876</td><td>20.970192</td><td>1.226326</td><td>947.27856</td><td>0.014892578</td><td>10.996066</td><td>0.62168986</td><td>-0.07110744</td><td>1.0</td><td>8.181016</td><td>137.52301</td><td>0.0</td><td>0.0</td><td>0.0</td><td>0.0</td><td>0.0</td><td>0.0</td><td>0.0</td><td>0.0</td><td>0.0</td><td>0.0</td><td>0.0</td><td>0.0</td><td>0.0</td><td>0.0</td><td>0.0</td><td>0.0</td><td>0.0</td><td>19.266148</td><td>0.01693963</td></tr>\n",
       "<tr><td>3</td><td>4.0</td><td>9840.912</td><td>4750.2417</td><td>0.012322318</td><td>8.040152</td><td>0.011784591</td><td>2.4144502</td><td>0.16332304</td><td>179.86984</td><td>91.0</td><td>89.0</td><td>65.0</td><td>41.0</td><td>26.0</td><td>20.0</td><td>11.0</td><td>8.0</td><td>819.04193</td><td>12.802942</td><td>4417.4077</td><td>29.988064</td><td>6398.7466</td><td>37.21353</td><td>7966.073</td><td>43.302628</td><td>8971.198</td><td>48.80596</td><td>9649.047</td><td>55.534885</td><td>10146.228</td><td>65.91023</td><td>10443.963</td><td>81.662476</td><td>10648.024</td><td>96.54598</td><td>10696.652</td><td>111.781586</td><td>10782.002</td><td>127.48248</td><td>10780.21</td><td>143.40968</td><td>10742.654</td><td>175.82553</td><td>10925.245</td><td>208.8258</td><td>3.9411364</td><td>2.6910129</td><td>1.581232</td><td>10047.212</td><td>63.208138</td><td>9447.717</td><td>53.060062</td><td>4920.456</td><td>32.61911</td><td>0.033794846</td><td>947.28644</td><td>0.00064086914</td><td>10.674081</td><td>0.62269235</td><td>-0.07110706</td><td>-1.0</td><td>-1.4282379</td><td>137.52301</td><td>0.0</td><td>0.0</td><td>0.0</td><td>0.0</td><td>0.0</td><td>0.0</td><td>0.0</td><td>0.0</td><td>0.0</td><td>0.0</td><td>0.0</td><td>0.0</td><td>0.0</td><td>0.0</td><td>0.0</td><td>0.0</td><td>0.0</td><td>17.501926</td><td>0.0059019327</td></tr>\n",
       "<tr><td>4</td><td>5.0</td><td>80.91553</td><td>5328.945</td><td>0.14170392</td><td>13.438974</td><td>0.14305195</td><td>1.2744061</td><td>0.41084522</td><td>128.26437</td><td>7.0</td><td>7.0</td><td>1.0</td><td>0.0</td><td>0.0</td><td>0.0</td><td>0.0</td><td>0.0</td><td>17.699293</td><td>3.5264356</td><td>66.73902</td><td>8.767482</td><td>125.573616</td><td>12.70101</td><td>200.51881</td><td>18.061842</td><td>313.36078</td><td>25.363844</td><td>527.07367</td><td>35.474594</td><td>840.0185</td><td>49.79676</td><td>1449.2102</td><td>69.81944</td><td>2141.7336</td><td>87.29276</td><td>2649.5198</td><td>104.335625</td><td>2915.951</td><td>121.15643</td><td>3140.0425</td><td>137.98082</td><td>3290.9263</td><td>171.53688</td><td>3975.2625</td><td>205.47293</td><td>3.7317634</td><td>3.7317634</td><td>3.6971176</td><td>681.84033</td><td>43.78177</td><td>681.84033</td><td>43.78177</td><td>263.2784</td><td>22.125729</td><td>0.0</td><td>947.29083</td><td>0.014892578</td><td>22.036568</td><td>0.62173235</td><td>-0.07111804</td><td>1.0</td><td>6.3647423</td><td>137.30746</td><td>0.0</td><td>0.0</td><td>0.0</td><td>0.0</td><td>0.0</td><td>0.0</td><td>0.0</td><td>0.0</td><td>0.0</td><td>0.0</td><td>0.0</td><td>0.0</td><td>0.0</td><td>0.0</td><td>0.0</td><td>0.0</td><td>0.0</td><td>21.49965</td><td>0.09779827</td></tr>\n",
       "<tr><td>5</td><td>6.0</td><td>164.31671</td><td>5463.2573</td><td>0.11690952</td><td>14.459367</td><td>0.1197748</td><td>1.9057742</td><td>0.5666256</td><td>124.618065</td><td>12.0</td><td>11.0</td><td>2.0</td><td>0.0</td><td>0.0</td><td>0.0</td><td>0.0</td><td>0.0</td><td>21.519283</td><td>3.6288955</td><td>79.11183</td><td>8.903863</td><td>124.55908</td><td>12.70423</td><td>203.88089</td><td>18.107672</td><td>311.10532</td><td>25.392567</td><td>423.05383</td><td>35.22151</td><td>510.04996</td><td>49.189896</td><td>694.0586</td><td>68.82677</td><td>822.6503</td><td>85.76937</td><td>811.4373</td><td>102.56003</td><td>946.1441</td><td>119.52098</td><td>1043.5463</td><td>136.4546</td><td>936.52997</td><td>170.16089</td><td>793.5726</td><td>203.92107</td><td>4.8860254</td><td>4.8860254</td><td>3.082634</td><td>575.46954</td><td>56.27977</td><td>575.46954</td><td>56.27977</td><td>211.06323</td><td>18.599808</td><td>0.0</td><td>947.17084</td><td>0.021697998</td><td>22.530983</td><td>0.62150955</td><td>-0.0711202</td><td>1.0</td><td>3.9677963</td><td>135.01448</td><td>0.0</td><td>0.0</td><td>0.0</td><td>0.0</td><td>0.0</td><td>0.0</td><td>0.0</td><td>0.0</td><td>0.0</td><td>0.0</td><td>0.0</td><td>0.0</td><td>0.0</td><td>0.0</td><td>0.0</td><td>0.0</td><td>0.0</td><td>21.481594</td><td>0.0964296</td></tr>\n",
       "<tr><td>6</td><td>7.0</td><td>56.492065</td><td>5328.526</td><td>0.124248326</td><td>17.294922</td><td>0.12373327</td><td>0.7986425</td><td>0.10804945</td><td>146.22025</td><td>4.0</td><td>3.0</td><td>2.0</td><td>0.0</td><td>0.0</td><td>0.0</td><td>0.0</td><td>0.0</td><td>20.485126</td><td>3.6019692</td><td>63.10778</td><td>8.732548</td><td>85.821106</td><td>12.403988</td><td>141.8978</td><td>17.76502</td><td>220.76785</td><td>25.035753</td><td>360.22104</td><td>35.04618</td><td>690.9408</td><td>49.563347</td><td>1393.436</td><td>69.84412</td><td>2051.1248</td><td>87.188896</td><td>2470.0981</td><td>104.16351</td><td>2834.3416</td><td>121.08906</td><td>2941.527</td><td>137.83688</td><td>3313.9429</td><td>171.5503</td><td>4020.757</td><td>205.49507</td><td>2.8209481</td><td>2.8209481</td><td>3.6048782</td><td>317.3807</td><td>32.876904</td><td>317.3807</td><td>32.876904</td><td>179.69292</td><td>21.243887</td><td>0.0</td><td>947.29083</td><td>0.014892578</td><td>30.56205</td><td>0.62173307</td><td>-0.07112443</td><td>1.0</td><td>1.9506217</td><td>134.77477</td><td>0.0</td><td>0.0</td><td>0.0</td><td>0.0</td><td>0.0</td><td>0.0</td><td>0.0</td><td>0.0</td><td>0.0</td><td>0.0</td><td>0.0</td><td>0.0</td><td>0.0</td><td>0.0</td><td>0.0</td><td>0.0</td><td>0.0</td><td>21.875097</td><td>0.1359297</td></tr>\n",
       "<tr><td>7</td><td>8.0</td><td>1571.1703</td><td>4442.229</td><td>0.058304925</td><td>11.2702675</td><td>0.053693403</td><td>2.3344214</td><td>0.3862115</td><td>11.082474</td><td>115.99999</td><td>-1.0</td><td>-1.0</td><td>-1.0</td><td>-1.0</td><td>-1.0</td><td>-1.0</td><td>0.0</td><td>48.844234</td><td>4.2804236</td><td>275.5224</td><td>10.785549</td><td>481.32025</td><td>15.187953</td><td>785.6059</td><td>21.043737</td><td>1270.0809</td><td>28.901337</td><td>1837.6631</td><td>38.993496</td><td>2345.3328</td><td>52.733074</td><td>2917.8457</td><td>71.87875</td><td>2979.0984</td><td>88.24595</td><td>2652.5166</td><td>104.337456</td><td>2315.7263</td><td>120.658775</td><td>2185.2927</td><td>137.28572</td><td>2185.9792</td><td>170.88976</td><td>2675.2793</td><td>204.83716</td><td>14.264126</td><td>5.3418674</td><td>3.3395178</td><td>3059.051</td><td>163.17084</td><td>2645.2476</td><td>64.63205</td><td>918.0353</td><td>23.239262</td><td>0.0</td><td>947.27655</td><td>0.002960205</td><td>16.493973</td><td>0.6232033</td><td>-0.07111129</td><td>1.0</td><td>18.304485</td><td>137.52301</td><td>0.0</td><td>0.0</td><td>0.0</td><td>0.0</td><td>0.0</td><td>0.0</td><td>0.0</td><td>0.0</td><td>0.0</td><td>0.0</td><td>0.0</td><td>0.0</td><td>0.0</td><td>0.0</td><td>0.0</td><td>0.0</td><td>0.0</td><td>20.017025</td><td>0.029083217</td></tr>\n",
       "<tr><td>8</td><td>9.0</td><td>547.3395</td><td>4430.4424</td><td>0.094648674</td><td>14.418855</td><td>0.095062956</td><td>1.5450742</td><td>0.30634487</td><td>132.08435</td><td>40.27008</td><td>-1.0</td><td>-1.0</td><td>-1.0</td><td>-1.0</td><td>-1.0</td><td>-1.0</td><td>-1.0</td><td>27.137444</td><td>3.758286</td><td>148.33754</td><td>9.573644</td><td>267.1432</td><td>13.742359</td><td>455.0808</td><td>19.452923</td><td>639.7552</td><td>26.685308</td><td>902.6031</td><td>36.597</td><td>821.50665</td><td>49.82203</td><td>1049.6978</td><td>69.3734</td><td>1608.1523</td><td>86.67857</td><td>2040.5234</td><td>103.74936</td><td>2293.9592</td><td>120.64088</td><td>2162.0623</td><td>137.26897</td><td>2387.57</td><td>171.00787</td><td>3612.3545</td><td>205.29436</td><td>8.647458</td><td>4.5682073</td><td>2.9736476</td><td>1065.6638</td><td>98.861244</td><td>921.50964</td><td>53.40726</td><td>449.82257</td><td>19.302715</td><td>0.0</td><td>947.2744</td><td>0.005706787</td><td>23.276007</td><td>0.6232228</td><td>-0.07111646</td><td>1.0</td><td>12.6259985</td><td>139.87616</td><td>0.0</td><td>0.0</td><td>0.0</td><td>0.0</td><td>0.0</td><td>0.0</td><td>0.0</td><td>0.0</td><td>0.0</td><td>0.0</td><td>0.0</td><td>0.0</td><td>0.0</td><td>0.0</td><td>0.0</td><td>0.0</td><td>0.0</td><td>20.609816</td><td>0.04641097</td></tr>\n",
       "<tr><td>9</td><td>10.0</td><td>48.60791</td><td>5004.473</td><td>0.17103256</td><td>18.486597</td><td>0.17103083</td><td>0.8148626</td><td>0.08733165</td><td>44.95482</td><td>4.0</td><td>4.0</td><td>0.0</td><td>0.0</td><td>0.0</td><td>0.0</td><td>0.0</td><td>0.0</td><td>14.617553</td><td>3.443461</td><td>67.27326</td><td>8.774873</td><td>98.474556</td><td>12.500838</td><td>87.40707</td><td>17.45248</td><td>107.10404</td><td>24.570711</td><td>162.85284</td><td>34.473244</td><td>34.27371</td><td>48.20669</td><td>166.72964</td><td>68.05407</td><td>286.5028</td><td>85.14032</td><td>368.69934</td><td>102.12544</td><td>494.03397</td><td>119.13979</td><td>716.0933</td><td>136.21178</td><td>1108.5315</td><td>170.25862</td><td>1081.5018</td><td>204.05824</td><td>2.8209481</td><td>2.8209481</td><td>1.7108704</td><td>147.9159</td><td>32.357113</td><td>147.9159</td><td>32.357113</td><td>81.246216</td><td>10.478841</td><td>0.0</td><td>947.24695</td><td>0.008514404</td><td>31.840136</td><td>0.62227064</td><td>-0.07112526</td><td>-1.0</td><td>-0.93306315</td><td>135.36589</td><td>0.0</td><td>0.0</td><td>0.0</td><td>0.0</td><td>0.0</td><td>0.0</td><td>0.0</td><td>0.0</td><td>0.0</td><td>0.0</td><td>0.0</td><td>0.0</td><td>0.0</td><td>0.0</td><td>0.0</td><td>0.0</td><td>0.0</td><td>22.401169</td><td>0.21678784</td></tr>\n",
       "</table><style>table.dataTable {clear: both; width: auto !important; margin: 0 !important;}\n",
       ".dataTables_info, .dataTables_length, .dataTables_filter, .dataTables_paginate{\n",
       "display: inline-block; margin-right: 1em; }\n",
       ".paginate_button { margin-right: 5px; }\n",
       "</style>\n",
       "<script>\n",
       "\n",
       "var astropy_sort_num = function(a, b) {\n",
       "    var a_num = parseFloat(a);\n",
       "    var b_num = parseFloat(b);\n",
       "\n",
       "    if (isNaN(a_num) && isNaN(b_num))\n",
       "        return ((a < b) ? -1 : ((a > b) ? 1 : 0));\n",
       "    else if (!isNaN(a_num) && !isNaN(b_num))\n",
       "        return ((a_num < b_num) ? -1 : ((a_num > b_num) ? 1 : 0));\n",
       "    else\n",
       "        return isNaN(a_num) ? -1 : 1;\n",
       "}\n",
       "\n",
       "require.config({paths: {\n",
       "    datatables: 'https://cdn.datatables.net/1.10.12/js/jquery.dataTables.min'\n",
       "}});\n",
       "require([\"datatables\"], function(){\n",
       "    console.log(\"$('#table4680471632-918723').dataTable()\");\n",
       "    \n",
       "jQuery.extend( jQuery.fn.dataTableExt.oSort, {\n",
       "    \"optionalnum-asc\": astropy_sort_num,\n",
       "    \"optionalnum-desc\": function (a,b) { return -astropy_sort_num(a, b); }\n",
       "});\n",
       "\n",
       "    $('#table4680471632-918723').dataTable({\n",
       "        order: [],\n",
       "        pageLength: 50,\n",
       "        lengthMenu: [[10, 25, 50, 100, 500, 1000, -1], [10, 25, 50, 100, 500, 1000, 'All']],\n",
       "        pagingType: \"full_numbers\",\n",
       "        columnDefs: [{targets: [0, 1, 2, 3, 4, 5, 6, 7, 8, 9, 10, 11, 12, 13, 14, 15, 16, 17, 18, 19, 20, 21, 22, 23, 24, 25, 26, 27, 28, 29, 30, 31, 32, 33, 34, 35, 36, 37, 38, 39, 40, 41, 42, 43, 44, 45, 46, 47, 48, 49, 50, 51, 52, 53, 54, 55, 56, 57, 58, 59, 60, 61, 62, 63, 64, 65, 66, 67, 68, 69, 70, 71, 72, 73, 74, 75, 76, 77, 78, 79, 80, 81, 82], type: \"optionalnum\"}]\n",
       "    });\n",
       "});\n",
       "</script>\n"
      ],
      "text/plain": [
       "<IPython.core.display.HTML object>"
      ]
     },
     "execution_count": 7,
     "metadata": {},
     "output_type": "execute_result"
    }
   ],
   "source": [
    "y_tile_cat[:10].show_in_notebook()"
   ]
  },
  {
   "cell_type": "code",
   "execution_count": 8,
   "metadata": {},
   "outputs": [
    {
     "name": "stdout",
     "output_type": "stream",
     "text": [
      "34.9151496887207 deg < ra < 36.12907028198242 deg, -5.5572710037231445 deg < dec < -4.074134349822998 deg\n"
     ]
    }
   ],
   "source": [
    "ra_min = np.min(y_tile_cat['y_tile_RA'].to(u.deg))\n",
    "ra_max = np.max(y_tile_cat['y_tile_RA'].to(u.deg))\n",
    "dec_min = np.min(y_tile_cat['y_tile_DEC'].to(u.deg))\n",
    "dec_max = np.max(y_tile_cat['y_tile_DEC'].to(u.deg))\n",
    "print(\"{} < ra < {}, {} < dec < {}\".format(\n",
    "    ra_min,\n",
    "ra_max,\n",
    "dec_min,\n",
    "dec_max\n",
    "))"
   ]
  },
  {
   "cell_type": "code",
   "execution_count": 9,
   "metadata": {},
   "outputs": [
    {
     "data": {
      "text/plain": [
       "(array([1.000e+00, 0.000e+00, 3.000e+00, 1.000e+00, 2.000e+00, 1.600e+01,\n",
       "        1.400e+01, 1.400e+01, 3.000e+01, 2.500e+01, 2.700e+01, 1.700e+01,\n",
       "        1.500e+01, 2.000e+01, 1.500e+01, 2.500e+01, 2.700e+01, 1.700e+01,\n",
       "        2.100e+01, 1.600e+01, 2.900e+01, 2.900e+01, 2.800e+01, 3.400e+01,\n",
       "        3.700e+01, 3.200e+01, 4.300e+01, 4.700e+01, 3.600e+01, 3.400e+01,\n",
       "        3.400e+01, 4.800e+01, 5.600e+01, 6.700e+01, 5.000e+01, 6.900e+01,\n",
       "        6.400e+01, 6.600e+01, 7.800e+01, 9.100e+01, 8.800e+01, 7.500e+01,\n",
       "        9.700e+01, 9.300e+01, 1.060e+02, 1.220e+02, 1.000e+02, 1.280e+02,\n",
       "        1.470e+02, 1.250e+02, 1.870e+02, 1.660e+02, 2.000e+02, 2.090e+02,\n",
       "        2.440e+02, 2.500e+02, 2.810e+02, 2.930e+02, 3.310e+02, 3.610e+02,\n",
       "        4.340e+02, 4.160e+02, 4.640e+02, 6.060e+02, 5.970e+02, 6.830e+02,\n",
       "        7.610e+02, 8.750e+02, 9.970e+02, 1.121e+03, 1.233e+03, 1.295e+03,\n",
       "        1.496e+03, 1.688e+03, 1.893e+03, 2.054e+03, 2.312e+03, 2.583e+03,\n",
       "        2.739e+03, 3.053e+03, 3.262e+03, 3.696e+03, 4.026e+03, 4.462e+03,\n",
       "        4.911e+03, 5.182e+03, 4.370e+03, 2.842e+03, 1.310e+03, 4.800e+02,\n",
       "        1.410e+02, 2.900e+01, 1.000e+01, 0.000e+00, 2.000e+00, 0.000e+00,\n",
       "        1.000e+00, 0.000e+00, 1.000e+00, 1.000e+00]),\n",
       " array([11.757678 , 11.880974 , 12.00427  , 12.127565 , 12.250861 ,\n",
       "        12.374157 , 12.497453 , 12.6207485, 12.744044 , 12.86734  ,\n",
       "        12.990636 , 13.113932 , 13.237227 , 13.360523 , 13.483819 ,\n",
       "        13.607115 , 13.730411 , 13.853707 , 13.977003 , 14.100299 ,\n",
       "        14.223595 , 14.34689  , 14.470186 , 14.593482 , 14.716778 ,\n",
       "        14.840074 , 14.963369 , 15.086665 , 15.209961 , 15.333257 ,\n",
       "        15.4565525, 15.579848 , 15.703144 , 15.82644  , 15.949736 ,\n",
       "        16.073032 , 16.196327 , 16.319624 , 16.442919 , 16.566216 ,\n",
       "        16.68951  , 16.812807 , 16.936102 , 17.059399 , 17.182693 ,\n",
       "        17.30599  , 17.429285 , 17.552582 , 17.675877 , 17.799173 ,\n",
       "        17.922468 , 18.045765 , 18.16906  , 18.292356 , 18.415651 ,\n",
       "        18.538948 , 18.662243 , 18.78554  , 18.908834 , 19.032131 ,\n",
       "        19.155426 , 19.278723 , 19.402018 , 19.525314 , 19.64861  ,\n",
       "        19.771906 , 19.8952   , 20.018497 , 20.141794 , 20.265089 ,\n",
       "        20.388386 , 20.51168  , 20.634977 , 20.758272 , 20.881569 ,\n",
       "        21.004864 , 21.12816  , 21.251455 , 21.374752 , 21.498047 ,\n",
       "        21.621344 , 21.744638 , 21.867935 , 21.99123  , 22.114527 ,\n",
       "        22.237822 , 22.361118 , 22.484413 , 22.60771  , 22.731005 ,\n",
       "        22.854301 , 22.977596 , 23.100893 , 23.224188 , 23.347485 ,\n",
       "        23.47078  , 23.594076 , 23.717371 , 23.840668 , 23.963963 ,\n",
       "        24.08726  ], dtype=float32),\n",
       " <a list of 100 Patch objects>)"
      ]
     },
     "execution_count": 9,
     "metadata": {},
     "output_type": "execute_result"
    },
    {
     "data": {
      "image/png": "[encoded data removed]",
      "text/plain": [
       "<Figure size 432x288 with 1 Axes>"
      ]
     },
     "metadata": {
      "needs_background": "light"
     },
     "output_type": "display_data"
    }
   ],
   "source": [
    "plt.hist(y_tile_cat['y_tile_m_ap_vista_y'], bins=100)"
   ]
  },
  {
   "cell_type": "code",
   "execution_count": 10,
   "metadata": {},
   "outputs": [
    {
     "data": {
      "text/plain": [
       "(array([1.000e+00, 0.000e+00, 2.000e+00, 1.000e+00, 3.000e+00, 6.000e+00,\n",
       "        6.000e+00, 2.000e+01, 1.200e+01, 1.500e+01, 2.200e+01, 1.900e+01,\n",
       "        2.500e+01, 2.300e+01, 1.600e+01, 2.300e+01, 2.700e+01, 3.600e+01,\n",
       "        2.400e+01, 3.800e+01, 3.100e+01, 3.200e+01, 2.700e+01, 2.800e+01,\n",
       "        3.400e+01, 3.400e+01, 2.700e+01, 3.600e+01, 3.900e+01, 3.600e+01,\n",
       "        4.600e+01, 5.600e+01, 4.300e+01, 4.800e+01, 4.700e+01, 4.400e+01,\n",
       "        6.400e+01, 6.300e+01, 7.100e+01, 7.900e+01, 6.200e+01, 9.400e+01,\n",
       "        8.700e+01, 9.000e+01, 9.800e+01, 1.150e+02, 1.120e+02, 1.260e+02,\n",
       "        1.450e+02, 1.710e+02, 1.690e+02, 1.800e+02, 2.110e+02, 2.190e+02,\n",
       "        2.470e+02, 2.490e+02, 2.880e+02, 3.210e+02, 3.770e+02, 3.770e+02,\n",
       "        4.140e+02, 4.480e+02, 5.160e+02, 5.600e+02, 6.340e+02, 7.010e+02,\n",
       "        8.460e+02, 8.980e+02, 1.004e+03, 1.101e+03, 1.256e+03, 1.296e+03,\n",
       "        1.368e+03, 1.555e+03, 1.742e+03, 1.832e+03, 2.017e+03, 2.135e+03,\n",
       "        2.267e+03, 2.424e+03, 2.578e+03, 2.636e+03, 2.936e+03, 3.072e+03,\n",
       "        3.274e+03, 3.582e+03, 3.843e+03, 3.745e+03, 3.475e+03, 2.999e+03,\n",
       "        2.306e+03, 1.446e+03, 7.470e+02, 3.220e+02, 1.220e+02, 5.300e+01,\n",
       "        1.100e+01, 0.000e+00, 3.000e+00, 2.000e+00]),\n",
       " array([12.681208 , 12.782131 , 12.883055 , 12.983977 , 13.084901 ,\n",
       "        13.185824 , 13.286748 , 13.3876705, 13.488594 , 13.589518 ,\n",
       "        13.690441 , 13.791364 , 13.892287 , 13.993211 , 14.094134 ,\n",
       "        14.195057 , 14.29598  , 14.396904 , 14.497828 , 14.59875  ,\n",
       "        14.699674 , 14.800597 , 14.901521 , 15.002443 , 15.103367 ,\n",
       "        15.20429  , 15.305214 , 15.406137 , 15.50706  , 15.607984 ,\n",
       "        15.708907 , 15.809831 , 15.910753 , 16.011677 , 16.1126   ,\n",
       "        16.213524 , 16.314447 , 16.41537  , 16.516293 , 16.617216 ,\n",
       "        16.71814  , 16.819063 , 16.919987 , 17.02091  , 17.121834 ,\n",
       "        17.222757 , 17.323679 , 17.424603 , 17.525526 , 17.62645  ,\n",
       "        17.727373 , 17.828297 , 17.92922  , 18.030144 , 18.131067 ,\n",
       "        18.231989 , 18.332912 , 18.433836 , 18.53476  , 18.635683 ,\n",
       "        18.736607 , 18.83753  , 18.938454 , 19.039375 , 19.140299 ,\n",
       "        19.241222 , 19.342146 , 19.44307  , 19.543993 , 19.644917 ,\n",
       "        19.74584  , 19.846762 , 19.947685 , 20.048609 , 20.149532 ,\n",
       "        20.250456 , 20.35138  , 20.452303 , 20.553226 , 20.65415  ,\n",
       "        20.755072 , 20.855995 , 20.956919 , 21.057842 , 21.158766 ,\n",
       "        21.25969  , 21.360613 , 21.461536 , 21.562458 , 21.663382 ,\n",
       "        21.764305 , 21.865229 , 21.966152 , 22.067076 , 22.168    ,\n",
       "        22.268923 , 22.369844 , 22.470768 , 22.571692 , 22.672615 ,\n",
       "        22.773539 ], dtype=float32),\n",
       " <a list of 100 Patch objects>)"
      ]
     },
     "execution_count": 10,
     "metadata": {},
     "output_type": "execute_result"
    },
    {
     "data": {
      "image/png": "[encoded data removed]",
      "text/plain": [
       "<Figure size 432x288 with 1 Axes>"
      ]
     },
     "metadata": {
      "needs_background": "light"
     },
     "output_type": "display_data"
    }
   ],
   "source": [
    "plt.hist(ks_tile_cat['ks_tile_m_ap_vista_ks'], bins=100)"
   ]
  },
  {
   "cell_type": "markdown",
   "metadata": {},
   "source": [
    "### 3.2.2 HELP catalogues\n",
    "\n",
    "These are the official final catalogues and could be a useful second check"
   ]
  },
  {
   "cell_type": "code",
   "execution_count": 11,
   "metadata": {},
   "outputs": [
    {
     "name": "stdout",
     "output_type": "stream",
     "text": [
      "HELP catalogues already AB\n",
      "HELP catalogues already AB\n",
      "HELP catalogues already AB\n",
      "HELP catalogues already AB\n"
     ]
    }
   ],
   "source": [
    "imported_columns = OrderedDict({\n",
    "        'ID':              'video_id', \n",
    "        'ALPHA_J2000':     'ra', \n",
    "        'DELTA_J2000':     'dec', \n",
    "        'J_CLASS_STAR':    'vista_stellarity', \n",
    "        'Y_MAG_APER_3':    'm_ap_vista_y', \n",
    "        'Y_MAGERR_APER_3': 'merr_ap_vista_y', \n",
    "        'Y_MAG_AUTO':      'm_vista_y', \n",
    "        'Y_MAGERR_AUTO':   'merr_vista_y',\n",
    "        'Y_FLUX_APER_3':   'f_ap_vista_y', \n",
    "        'Y_FLUXERR_APER_3':'ferr_ap_vista_y', \n",
    "        'Y_FLUX_AUTO':     'f_vista_y', \n",
    "        'Y_FLUXERR_AUTO':  'ferr_vista_y',\n",
    "  \n",
    "        'K_MAG_APER_3':    'm_ap_vista_ks', \n",
    "        'K_MAGERR_APER_3': 'merr_ap_vista_ks', \n",
    "        'K_MAG_AUTO':      'm_vista_ks', \n",
    "        'K_MAGERR_AUTO':   'merr_vista_ks',\n",
    "\n",
    "})\n",
    "\n",
    "\n",
    "help_cat = Table.read(\"../../dmu0/dmu0_VISTA/dmu0_VIDEO/data/VIDEO-all_2017-02-12_fullcat_errfix_XMM-LSS.fits\"\n",
    "                      )[list(imported_columns)]\n",
    "for column in imported_columns:\n",
    "    help_cat[column].name = 'help_' + imported_columns[column]\n",
    "help_cat['help_ra'].unit = u.deg\n",
    "help_cat['help_dec'].unit = u.deg\n",
    "help_cat['help_ra'].convert_unit_to(u.rad)\n",
    "help_cat['help_dec'].convert_unit_to(u.rad)\n",
    "\n",
    "\n",
    "m = (help_cat['help_m_ap_vista_ks'] > 30) | (help_cat['help_m_ap_vista_y'] > 30) \n",
    "help_cat[m]['help_m_ap_vista_ks'] = np.nan\n",
    "help_cat[m]['help_merr_ap_vista_ks'] = np.nan\n",
    "help_cat[m]['help_m_ap_vista_y'] = np.nan\n",
    "help_cat[m]['help_merr_ap_vista_y'] = np.nan\n",
    "\n",
    "\n",
    "\n",
    "# Coverting from Vega to AB and adding flux and band-flag columns\n",
    "for col in help_cat.colnames:\n",
    "    if col.startswith('help_m_'):\n",
    "        pass\n",
    "        print('HELP catalogues already AB')\n",
    "        # Convert magnitude from Vega to AB\n",
    "        #print(col, vega_to_ab[col.split('_')[-1]])\n",
    "        #help_cat[col] += vega_to_ab[col.split('_')[-1]]"
   ]
  },
  {
   "cell_type": "code",
   "execution_count": null,
   "metadata": {},
   "outputs": [],
   "source": []
  },
  {
   "cell_type": "code",
   "execution_count": 12,
   "metadata": {},
   "outputs": [
    {
     "data": {
      "text/html": [
       "<i>Table length=5</i>\n",
       "<table id=\"table4829771472\" class=\"table-striped table-bordered table-condensed\">\n",
       "<thead><tr><th>help_video_id</th><th>help_ra</th><th>help_dec</th><th>help_vista_stellarity</th><th>help_m_ap_vista_y</th><th>help_merr_ap_vista_y</th><th>help_m_vista_y</th><th>help_merr_vista_y</th><th>help_f_ap_vista_y</th><th>help_ferr_ap_vista_y</th><th>help_f_vista_y</th><th>help_ferr_vista_y</th><th>help_m_ap_vista_ks</th><th>help_merr_ap_vista_ks</th><th>help_m_vista_ks</th><th>help_merr_vista_ks</th></tr></thead>\n",
       "<thead><tr><th></th><th>rad</th><th>rad</th><th></th><th></th><th></th><th></th><th></th><th></th><th></th><th></th><th></th><th></th><th></th><th></th><th></th></tr></thead>\n",
       "<thead><tr><th>int32</th><th>float64</th><th>float64</th><th>float32</th><th>float32</th><th>float32</th><th>float32</th><th>float32</th><th>float32</th><th>float32</th><th>float32</th><th>float32</th><th>float32</th><th>float32</th><th>float32</th><th>float32</th></tr></thead>\n",
       "<tr><td>1000124</td><td>0.6109949338269032</td><td>-0.09841418573757674</td><td>0.98387843</td><td>15.945474</td><td>0.0024632358</td><td>15.7855625</td><td>0.0022783028</td><td>418610.88</td><td>949.74414</td><td>485036.97</td><td>1017.83276</td><td>16.616796</td><td>0.0038551907</td><td>16.440605</td><td>0.0051657828</td></tr>\n",
       "<tr><td>1000161</td><td>0.6115917390309623</td><td>-0.09840284833585741</td><td>0.9723697</td><td>20.836834</td><td>0.07100732</td><td>20.754694</td><td>0.07123678</td><td>4626.648</td><td>302.5936</td><td>4990.2534</td><td>327.42892</td><td>19.780859</td><td>0.07967954</td><td>19.591816</td><td>0.07914063</td></tr>\n",
       "<tr><td>1000219</td><td>0.6104245695192316</td><td>-0.09838881054808948</td><td>0.6796333</td><td>21.232557</td><td>0.10035155</td><td>21.626944</td><td>0.08336507</td><td>3213.489</td><td>297.02365</td><td>2234.7163</td><td>171.59186</td><td>20.036196</td><td>0.12350449</td><td>20.59918</td><td>0.11401071</td></tr>\n",
       "<tr><td>1000221</td><td>0.61067097858228</td><td>-0.09838926246072992</td><td>0.9489846</td><td>21.816244</td><td>0.06658827</td><td>21.830427</td><td>0.080890544</td><td>1877.1649</td><td>115.13048</td><td>1852.801</td><td>138.04373</td><td>20.676748</td><td>0.07030923</td><td>20.688236</td><td>0.08343189</td></tr>\n",
       "<tr><td>1000248</td><td>0.6105856935931302</td><td>-0.09838379530687634</td><td>0.9825532</td><td>20.370193</td><td>0.01586394</td><td>20.27465</td><td>0.023888657</td><td>7110.8687</td><td>103.90199</td><td>7764.9756</td><td>170.85274</td><td>19.830872</td><td>0.02919323</td><td>19.592062</td><td>0.038965967</td></tr>\n",
       "</table>"
      ],
      "text/plain": [
       "<Table length=5>\n",
       "help_video_id      help_ra       ... help_m_vista_ks help_merr_vista_ks\n",
       "                     rad         ...                                   \n",
       "    int32          float64       ...     float32          float32      \n",
       "------------- ------------------ ... --------------- ------------------\n",
       "      1000124 0.6109949338269032 ...       16.440605       0.0051657828\n",
       "      1000161 0.6115917390309623 ...       19.591816         0.07914063\n",
       "      1000219 0.6104245695192316 ...        20.59918         0.11401071\n",
       "      1000221   0.61067097858228 ...       20.688236         0.08343189\n",
       "      1000248 0.6105856935931302 ...       19.592062        0.038965967"
      ]
     },
     "execution_count": 12,
     "metadata": {},
     "output_type": "execute_result"
    }
   ],
   "source": [
    "help_cat[:5]"
   ]
  },
  {
   "cell_type": "code",
   "execution_count": 13,
   "metadata": {},
   "outputs": [
    {
     "data": {
      "text/plain": [
       "(array([3.0000e+00, 7.0000e+00, 1.3000e+01, 1.3000e+01, 1.9000e+01,\n",
       "        3.2000e+01, 3.0000e+01, 2.7000e+01, 2.9000e+01, 4.3000e+01,\n",
       "        3.5000e+01, 3.9000e+01, 5.2000e+01, 6.1000e+01, 6.9000e+01,\n",
       "        7.2000e+01, 5.9000e+01, 9.2000e+01, 1.1200e+02, 1.2400e+02,\n",
       "        1.2200e+02, 1.4800e+02, 1.4200e+02, 1.8700e+02, 2.1200e+02,\n",
       "        2.5700e+02, 2.7200e+02, 3.5900e+02, 4.1600e+02, 4.7500e+02,\n",
       "        5.6600e+02, 7.0600e+02, 8.7000e+02, 1.0440e+03, 1.3050e+03,\n",
       "        1.5960e+03, 2.0400e+03, 2.4300e+03, 3.0970e+03, 3.6900e+03,\n",
       "        4.4720e+03, 5.4580e+03, 6.3560e+03, 7.7610e+03, 9.2550e+03,\n",
       "        1.1296e+04, 1.3339e+04, 1.5820e+04, 1.8861e+04, 2.1651e+04,\n",
       "        2.5153e+04, 2.8598e+04, 3.1023e+04, 3.2156e+04, 3.0593e+04,\n",
       "        2.6461e+04, 1.9752e+04, 1.3481e+04, 8.4280e+03, 5.3260e+03,\n",
       "        3.4490e+03, 2.2610e+03, 1.3820e+03, 9.7900e+02, 6.7400e+02,\n",
       "        5.0900e+02, 3.7400e+02, 2.8100e+02, 1.9600e+02, 1.8600e+02,\n",
       "        1.3100e+02, 9.3000e+01, 5.2000e+01, 6.3000e+01, 5.5000e+01,\n",
       "        3.4000e+01, 3.0000e+01, 2.6000e+01, 1.4000e+01, 1.7000e+01,\n",
       "        1.4000e+01, 1.3000e+01, 4.0000e+00, 3.0000e+00, 4.0000e+00,\n",
       "        6.0000e+00, 4.0000e+00, 2.0000e+00, 2.0000e+00, 2.0000e+00,\n",
       "        2.0000e+00, 1.0000e+00, 2.0000e+00, 0.0000e+00, 1.0000e+00,\n",
       "        1.0000e+00, 1.0000e+00, 0.0000e+00, 1.0000e+00, 1.0000e+00]),\n",
       " array([11.67565  , 11.915667 , 12.155684 , 12.395701 , 12.635718 ,\n",
       "        12.875736 , 13.115753 , 13.35577  , 13.595787 , 13.835805 ,\n",
       "        14.075822 , 14.315839 , 14.555857 , 14.795874 , 15.035891 ,\n",
       "        15.2759075, 15.515925 , 15.755942 , 15.995959 , 16.235977 ,\n",
       "        16.475994 , 16.716011 , 16.956028 , 17.196045 , 17.436064 ,\n",
       "        17.67608  , 17.916098 , 18.156115 , 18.396132 , 18.636148 ,\n",
       "        18.876167 , 19.116184 , 19.356201 , 19.596218 , 19.836235 ,\n",
       "        20.076252 , 20.316269 , 20.556288 , 20.796305 , 21.036322 ,\n",
       "        21.276339 , 21.516356 , 21.756372 , 21.99639  , 22.236408 ,\n",
       "        22.476425 , 22.716442 , 22.956459 , 23.196476 , 23.436493 ,\n",
       "        23.67651  , 23.916529 , 24.156546 , 24.396563 , 24.63658  ,\n",
       "        24.876596 , 25.116613 , 25.356632 , 25.59665  , 25.836666 ,\n",
       "        26.076683 , 26.3167   , 26.556717 , 26.796734 , 27.036753 ,\n",
       "        27.27677  , 27.516787 , 27.756804 , 27.99682  , 28.236837 ,\n",
       "        28.476856 , 28.716873 , 28.95689  , 29.196907 , 29.436924 ,\n",
       "        29.67694  , 29.916958 , 30.156977 , 30.396994 , 30.63701  ,\n",
       "        30.877028 , 31.117044 , 31.357061 , 31.597078 , 31.837097 ,\n",
       "        32.077114 , 32.31713  , 32.557148 , 32.797165 , 33.03718  ,\n",
       "        33.2772   , 33.517216 , 33.757233 , 33.99725  , 34.23727  ,\n",
       "        34.477287 , 34.717304 , 34.95732  , 35.19734  , 35.437355 ,\n",
       "        35.677372 ], dtype=float32),\n",
       " <a list of 100 Patch objects>)"
      ]
     },
     "execution_count": 13,
     "metadata": {},
     "output_type": "execute_result"
    },
    {
     "data": {
      "image/png": "[encoded data removed]",
      "text/plain": [
       "<Figure size 432x288 with 1 Axes>"
      ]
     },
     "metadata": {
      "needs_background": "light"
     },
     "output_type": "display_data"
    }
   ],
   "source": [
    "plt.hist(help_cat['help_m_ap_vista_y'][help_cat['help_m_ap_vista_y']<40], bins=100)"
   ]
  },
  {
   "cell_type": "markdown",
   "metadata": {},
   "source": [
    "### 3.2.3 The LSST stack catalogues\n",
    "\n",
    "These must be combined from the individual patch files. I think this can be done by id which should be consistent between patches\n",
    "\n",
    "Boundaries are managed by the in inner regions flags. Shoudl we be doing this with the Butler or directly with the fits files?"
   ]
  },
  {
   "cell_type": "code",
   "execution_count": 14,
   "metadata": {},
   "outputs": [],
   "source": [
    "import lsst.daf.persistence as dafPersist\n",
    "butler = dafPersist.Butler(inputs='{}/rerun/coaddForcedPhot'.format(BUTLER_LOC))"
   ]
  },
  {
   "cell_type": "code",
   "execution_count": 15,
   "metadata": {},
   "outputs": [
    {
     "data": {
      "text/plain": [
       "'/Volumes/Raph500/lsst-ir-fusion/dmu4/dmu4_Example/data/rerun/coaddForcedPhot/deepCoadd-results/VISTA-Ks/8524/*/forcedSrc*.fits'"
      ]
     },
     "execution_count": 15,
     "metadata": {},
     "output_type": "execute_result"
    }
   ],
   "source": [
    "'{}/rerun/coaddForcedPhot/deepCoadd-results/VISTA-Ks/8524/*/forcedSrc*.fits'.format(BUTLER_LOC)"
   ]
  },
  {
   "cell_type": "code",
   "execution_count": 16,
   "metadata": {},
   "outputs": [],
   "source": [
    "ks_stack_files = glob.glob(\n",
    "    '{}/rerun/coaddForcedPhot/deepCoadd-results/VISTA-Ks/8524/*/forcedSrc*.fits'.format(BUTLER_LOC)\n",
    ")\n",
    "y_stack_files = glob.glob(\n",
    "    '{}/rerun/coaddForcedPhot/deepCoadd-results/VISTA-Y/8524/*/forcedSrc*.fits'.format(BUTLER_LOC)\n",
    ")"
   ]
  },
  {
   "cell_type": "code",
   "execution_count": 17,
   "metadata": {},
   "outputs": [
    {
     "data": {
      "text/plain": [
       "['/Volumes/Raph500/lsst-ir-fusion/dmu4/dmu4_Example/data/rerun/coaddForcedPhot/deepCoadd-results/VISTA-Ks/8524/3,3/forcedSrc-VISTA-Ks-8524-3,3.fits',\n",
       " '/Volumes/Raph500/lsst-ir-fusion/dmu4/dmu4_Example/data/rerun/coaddForcedPhot/deepCoadd-results/VISTA-Ks/8524/4,3/forcedSrc-VISTA-Ks-8524-4,3.fits',\n",
       " '/Volumes/Raph500/lsst-ir-fusion/dmu4/dmu4_Example/data/rerun/coaddForcedPhot/deepCoadd-results/VISTA-Ks/8524/5,3/forcedSrc-VISTA-Ks-8524-5,3.fits',\n",
       " '/Volumes/Raph500/lsst-ir-fusion/dmu4/dmu4_Example/data/rerun/coaddForcedPhot/deepCoadd-results/VISTA-Ks/8524/3,4/forcedSrc-VISTA-Ks-8524-3,4.fits',\n",
       " '/Volumes/Raph500/lsst-ir-fusion/dmu4/dmu4_Example/data/rerun/coaddForcedPhot/deepCoadd-results/VISTA-Ks/8524/4,4/forcedSrc-VISTA-Ks-8524-4,4.fits',\n",
       " '/Volumes/Raph500/lsst-ir-fusion/dmu4/dmu4_Example/data/rerun/coaddForcedPhot/deepCoadd-results/VISTA-Ks/8524/5,4/forcedSrc-VISTA-Ks-8524-5,4.fits',\n",
       " '/Volumes/Raph500/lsst-ir-fusion/dmu4/dmu4_Example/data/rerun/coaddForcedPhot/deepCoadd-results/VISTA-Ks/8524/3,5/forcedSrc-VISTA-Ks-8524-3,5.fits',\n",
       " '/Volumes/Raph500/lsst-ir-fusion/dmu4/dmu4_Example/data/rerun/coaddForcedPhot/deepCoadd-results/VISTA-Ks/8524/4,5/forcedSrc-VISTA-Ks-8524-4,5.fits',\n",
       " '/Volumes/Raph500/lsst-ir-fusion/dmu4/dmu4_Example/data/rerun/coaddForcedPhot/deepCoadd-results/VISTA-Ks/8524/5,5/forcedSrc-VISTA-Ks-8524-5,5.fits']"
      ]
     },
     "execution_count": 17,
     "metadata": {},
     "output_type": "execute_result"
    }
   ],
   "source": [
    "ks_stack_files"
   ]
  },
  {
   "cell_type": "code",
   "execution_count": 18,
   "metadata": {},
   "outputs": [
    {
     "name": "stdout",
     "output_type": "stream",
     "text": [
      "3,3\n",
      "DEBUG:  /Volumes/Raph500/lsst-ir-fusion/dmu4/dmu4_Example/data/rerun/coaddForcedPhot/deepCoadd-results/VISTA-Y/8524/3,3/forcedSrc-VISTA-Y-8524-3,3.fits\n",
      "DEBUG:  /Volumes/Raph500/lsst-ir-fusion/dmu4/dmu4_Example/data/rerun/coaddForcedPhot/deepCoadd-results/VISTA-J/8524/3,3/forcedSrc-VISTA-J-8524-3,3.fits\n",
      "DEBUG:  /Volumes/Raph500/lsst-ir-fusion/dmu4/dmu4_Example/data/rerun/coaddForcedPhot/deepCoadd-results/VISTA-H/8524/3,3/forcedSrc-VISTA-H-8524-3,3.fits\n",
      "DEBUG:  /Volumes/Raph500/lsst-ir-fusion/dmu4/dmu4_Example/data/rerun/coaddForcedPhot/deepCoadd-results/VISTA-Ks/8524/3,3/forcedSrc-VISTA-Ks-8524-3,3.fits\n",
      "DEBUG:  /Volumes/Raph500/lsst-ir-fusion/dmu4/dmu4_Example/data/rerun/coaddPhot/deepCoadd-results/VISTA-Y/8524/3,3/meas-VISTA-Y-8524-3,3.fits\n",
      "DEBUG:  /Volumes/Raph500/lsst-ir-fusion/dmu4/dmu4_Example/data/rerun/coaddPhot/deepCoadd-results/VISTA-J/8524/3,3/meas-VISTA-J-8524-3,3.fits\n",
      "DEBUG:  /Volumes/Raph500/lsst-ir-fusion/dmu4/dmu4_Example/data/rerun/coaddPhot/deepCoadd-results/VISTA-H/8524/3,3/meas-VISTA-H-8524-3,3.fits\n",
      "DEBUG:  /Volumes/Raph500/lsst-ir-fusion/dmu4/dmu4_Example/data/rerun/coaddPhot/deepCoadd-results/VISTA-Ks/8524/3,3/meas-VISTA-Ks-8524-3,3.fits\n",
      "DEBUG:  /Volumes/Raph500/lsst-ir-fusion/dmu4/dmu4_Example/data/rerun/coaddPhot/deepCoadd-results/merged/8524/3,3/ref-8524-3,3.fits\n"
     ]
    },
    {
     "ename": "ValueError",
     "evalue": "Inconsistent data column lengths",
     "output_type": "error",
     "traceback": [
      "\u001b[0;31m---------------------------------------------------------------------------\u001b[0m",
      "\u001b[0;31mValueError\u001b[0m                                Traceback (most recent call last)",
      "\u001b[0;32m<ipython-input-18-9734228fb46f>\u001b[0m in \u001b[0;36m<module>\u001b[0;34m\u001b[0m\n\u001b[1;32m     75\u001b[0m     \u001b[0mcat\u001b[0m\u001b[0;34m[\u001b[0m\u001b[0;34m'f_vista_y'\u001b[0m\u001b[0;34m]\u001b[0m \u001b[0;34m=\u001b[0m \u001b[0myFlux\u001b[0m\u001b[0;34m[\u001b[0m\u001b[0;34m:\u001b[0m\u001b[0;34m,\u001b[0m\u001b[0;36m0\u001b[0m\u001b[0;34m]\u001b[0m\u001b[0;34m\u001b[0m\u001b[0;34m\u001b[0m\u001b[0m\n\u001b[1;32m     76\u001b[0m     \u001b[0mcat\u001b[0m\u001b[0;34m[\u001b[0m\u001b[0;34m'ferr_vista_y'\u001b[0m\u001b[0;34m]\u001b[0m \u001b[0;34m=\u001b[0m \u001b[0myFlux\u001b[0m\u001b[0;34m[\u001b[0m\u001b[0;34m:\u001b[0m\u001b[0;34m,\u001b[0m\u001b[0;36m1\u001b[0m\u001b[0;34m]\u001b[0m\u001b[0;34m\u001b[0m\u001b[0;34m\u001b[0m\u001b[0m\n\u001b[0;32m---> 77\u001b[0;31m     \u001b[0mcat\u001b[0m\u001b[0;34m[\u001b[0m\u001b[0;34m'm_ap_vista_y'\u001b[0m\u001b[0;34m]\u001b[0m \u001b[0;34m=\u001b[0m \u001b[0myMeasMags\u001b[0m\u001b[0;34m[\u001b[0m\u001b[0;34m:\u001b[0m\u001b[0;34m,\u001b[0m\u001b[0;36m0\u001b[0m\u001b[0;34m]\u001b[0m\u001b[0;34m\u001b[0m\u001b[0;34m\u001b[0m\u001b[0m\n\u001b[0m\u001b[1;32m     78\u001b[0m     \u001b[0mcat\u001b[0m\u001b[0;34m[\u001b[0m\u001b[0;34m'merr_ap_vista_y'\u001b[0m\u001b[0;34m]\u001b[0m \u001b[0;34m=\u001b[0m \u001b[0myMeasMags\u001b[0m\u001b[0;34m[\u001b[0m\u001b[0;34m:\u001b[0m\u001b[0;34m,\u001b[0m\u001b[0;36m1\u001b[0m\u001b[0;34m]\u001b[0m\u001b[0;34m\u001b[0m\u001b[0;34m\u001b[0m\u001b[0m\n\u001b[1;32m     79\u001b[0m     \u001b[0mcat\u001b[0m\u001b[0;34m[\u001b[0m\u001b[0;34m'f_ap_vista_y'\u001b[0m\u001b[0;34m]\u001b[0m \u001b[0;34m=\u001b[0m \u001b[0myMeasFlux\u001b[0m\u001b[0;34m[\u001b[0m\u001b[0;34m:\u001b[0m\u001b[0;34m,\u001b[0m\u001b[0;36m0\u001b[0m\u001b[0;34m]\u001b[0m\u001b[0;34m\u001b[0m\u001b[0;34m\u001b[0m\u001b[0m\n",
      "\u001b[0;32m~/GitHub/lsst_stack/conda/miniconda3-py37_4.8.2/envs/lsst-scipipe-1a1d771/lib/python3.7/site-packages/astropy/table/table.py\u001b[0m in \u001b[0;36m__setitem__\u001b[0;34m(self, item, value)\u001b[0m\n\u001b[1;32m   1633\u001b[0m         \u001b[0;31m# If that column doesn't already exist then create it now.\u001b[0m\u001b[0;34m\u001b[0m\u001b[0;34m\u001b[0m\u001b[0;34m\u001b[0m\u001b[0m\n\u001b[1;32m   1634\u001b[0m         \u001b[0;32mif\u001b[0m \u001b[0misinstance\u001b[0m\u001b[0;34m(\u001b[0m\u001b[0mitem\u001b[0m\u001b[0;34m,\u001b[0m \u001b[0mstr\u001b[0m\u001b[0;34m)\u001b[0m \u001b[0;32mand\u001b[0m \u001b[0mitem\u001b[0m \u001b[0;32mnot\u001b[0m \u001b[0;32min\u001b[0m \u001b[0mself\u001b[0m\u001b[0;34m.\u001b[0m\u001b[0mcolnames\u001b[0m\u001b[0;34m:\u001b[0m\u001b[0;34m\u001b[0m\u001b[0;34m\u001b[0m\u001b[0m\n\u001b[0;32m-> 1635\u001b[0;31m             \u001b[0mself\u001b[0m\u001b[0;34m.\u001b[0m\u001b[0madd_column\u001b[0m\u001b[0;34m(\u001b[0m\u001b[0mvalue\u001b[0m\u001b[0;34m,\u001b[0m \u001b[0mname\u001b[0m\u001b[0;34m=\u001b[0m\u001b[0mitem\u001b[0m\u001b[0;34m,\u001b[0m \u001b[0mcopy\u001b[0m\u001b[0;34m=\u001b[0m\u001b[0;32mTrue\u001b[0m\u001b[0;34m)\u001b[0m\u001b[0;34m\u001b[0m\u001b[0;34m\u001b[0m\u001b[0m\n\u001b[0m\u001b[1;32m   1636\u001b[0m \u001b[0;34m\u001b[0m\u001b[0m\n\u001b[1;32m   1637\u001b[0m         \u001b[0;32melse\u001b[0m\u001b[0;34m:\u001b[0m\u001b[0;34m\u001b[0m\u001b[0;34m\u001b[0m\u001b[0m\n",
      "\u001b[0;32m~/GitHub/lsst_stack/conda/miniconda3-py37_4.8.2/envs/lsst-scipipe-1a1d771/lib/python3.7/site-packages/astropy/table/table.py\u001b[0m in \u001b[0;36madd_column\u001b[0;34m(self, col, index, name, rename_duplicate, copy, default_name)\u001b[0m\n\u001b[1;32m   1914\u001b[0m         \u001b[0;31m# Ensure that new column is the right length\u001b[0m\u001b[0;34m\u001b[0m\u001b[0;34m\u001b[0m\u001b[0;34m\u001b[0m\u001b[0m\n\u001b[1;32m   1915\u001b[0m         \u001b[0;32mif\u001b[0m \u001b[0mlen\u001b[0m\u001b[0;34m(\u001b[0m\u001b[0mself\u001b[0m\u001b[0;34m.\u001b[0m\u001b[0mcolumns\u001b[0m\u001b[0;34m)\u001b[0m \u001b[0;34m>\u001b[0m \u001b[0;36m0\u001b[0m \u001b[0;32mand\u001b[0m \u001b[0mlen\u001b[0m\u001b[0;34m(\u001b[0m\u001b[0mcol\u001b[0m\u001b[0;34m)\u001b[0m \u001b[0;34m!=\u001b[0m \u001b[0mlen\u001b[0m\u001b[0;34m(\u001b[0m\u001b[0mself\u001b[0m\u001b[0;34m)\u001b[0m\u001b[0;34m:\u001b[0m\u001b[0;34m\u001b[0m\u001b[0;34m\u001b[0m\u001b[0m\n\u001b[0;32m-> 1916\u001b[0;31m             \u001b[0;32mraise\u001b[0m \u001b[0mValueError\u001b[0m\u001b[0;34m(\u001b[0m\u001b[0;34m'Inconsistent data column lengths'\u001b[0m\u001b[0;34m)\u001b[0m\u001b[0;34m\u001b[0m\u001b[0;34m\u001b[0m\u001b[0m\n\u001b[0m\u001b[1;32m   1917\u001b[0m \u001b[0;34m\u001b[0m\u001b[0m\n\u001b[1;32m   1918\u001b[0m         \u001b[0;32mif\u001b[0m \u001b[0mrename_duplicate\u001b[0m\u001b[0;34m:\u001b[0m\u001b[0;34m\u001b[0m\u001b[0;34m\u001b[0m\u001b[0m\n",
      "\u001b[0;31mValueError\u001b[0m: Inconsistent data column lengths"
     ]
    }
   ],
   "source": [
    "full_cat = Table()\n",
    "for f in y_stack_files:\n",
    "    tract = 8524\n",
    "    patch = str(f[-8:-5])\n",
    "    print(patch)\n",
    "    #zSources = butler.get('deepCoadd_forced_src', {'filter': 'VISTA-Z', 'tract': tract, 'patch': patch})\n",
    "    ySources = butler.get('deepCoadd_forced_src', {'filter': 'VISTA-Y', 'tract': tract, 'patch': patch})\n",
    "    jSources = butler.get('deepCoadd_forced_src', {'filter': 'VISTA-J', 'tract': tract, 'patch': patch})\n",
    "    hSources = butler.get('deepCoadd_forced_src', {'filter': 'VISTA-H', 'tract': tract, 'patch': patch})\n",
    "    ksSources = butler.get('deepCoadd_forced_src', {'filter': 'VISTA-Ks', 'tract': tract, 'patch': patch})\n",
    "    #yCoaddPhotoCalib = butler.get('deepCoadd_calexp_photoCalib',  {'filter': 'VISTA-Y', 'tract': tract, 'patch': patch})\n",
    "    #jCoaddPhotoCalib = butler.get('deepCoadd_calexp_photoCalib',  {'filter': 'VISTA-J', 'tract': tract, 'patch': patch})\n",
    "    #hCoaddPhotoCalib = butler.get('deepCoadd_calexp_photoCalib',  {'filter': 'VISTA-H', 'tract': tract, 'patch': patch})\n",
    "    #ksCoaddPhotoCalib = butler.get('deepCoadd_calexp_photoCalib',  {'filter': 'VISTA-Ks', 'tract': tract, 'patch': patch})\n",
    "    #zCoaddCalexp = butler.get('deepCoadd_calexp',  {'filter': 'VISTA-Z', 'tract': tract, 'patch': patch})\n",
    "    #zCoaddPhotoCalib = zCoaddCalexp.getPhotoCalib()\n",
    "    yCoaddCalexp = butler.get('deepCoadd_calexp',  {'filter': 'VISTA-Y', 'tract': tract, 'patch': patch})\n",
    "    yCoaddPhotoCalib = yCoaddCalexp.getPhotoCalib()\n",
    "    jCoaddCalexp = butler.get('deepCoadd_calexp',  {'filter': 'VISTA-J', 'tract': tract, 'patch': patch})\n",
    "    jCoaddPhotoCalib = jCoaddCalexp.getPhotoCalib()\n",
    "    hCoaddCalexp = butler.get('deepCoadd_calexp',  {'filter': 'VISTA-H', 'tract': tract, 'patch': patch})\n",
    "    hCoaddPhotoCalib = hCoaddCalexp.getPhotoCalib()\n",
    "    ksCoaddCalexp = butler.get('deepCoadd_calexp',  {'filter': 'VISTA-Ks', 'tract': tract, 'patch': patch})\n",
    "    ksCoaddPhotoCalib = ksCoaddCalexp.getPhotoCalib()\n",
    "    f_type = 'base_PsfFlux' #'base_PsfFlux' 'base_CircularApertureFlux_3_0'\n",
    "    yMags = yCoaddPhotoCalib.instFluxToMagnitude(ySources, f_type)\n",
    "    jMags = yCoaddPhotoCalib.instFluxToMagnitude(jSources, f_type)\n",
    "    hMags = yCoaddPhotoCalib.instFluxToMagnitude(hSources, f_type)\n",
    "    ksMags = ksCoaddPhotoCalib.instFluxToMagnitude(ksSources, f_type)\n",
    "    yFlux = yCoaddPhotoCalib.instFluxToNanojansky(ySources, f_type)\n",
    "    jFlux = yCoaddPhotoCalib.instFluxToNanojansky(jSources, f_type)\n",
    "    hFlux = yCoaddPhotoCalib.instFluxToNanojansky(hSources, f_type)\n",
    "    ksFlux = ksCoaddPhotoCalib.instFluxToNanojansky(ksSources, f_type)\n",
    "    \n",
    "    #zMeasSources = butler.get('deepCoadd_meas', {'filter': 'VISTA-Z', 'tract': tract, 'patch': patch})\n",
    "    yMeasSources = butler.get('deepCoadd_meas', {'filter': 'VISTA-Y', 'tract': tract, 'patch': patch})\n",
    "    jMeasSources = butler.get('deepCoadd_meas', {'filter': 'VISTA-J', 'tract': tract, 'patch': patch})\n",
    "    hMeasSources = butler.get('deepCoadd_meas', {'filter': 'VISTA-H', 'tract': tract, 'patch': patch})\n",
    "    ksMeasSources = butler.get('deepCoadd_meas', {'filter': 'VISTA-Ks', 'tract': tract, 'patch': patch})\n",
    "\n",
    "    fMeas_type = 'base_CircularApertureFlux_12_0' #'base_PsfFlux' 'base_CircularApertureFlux_2_0'\n",
    "    #zMeasMags = zCoaddPhotoCalib.instFluxToMagnitude(zMeasSources, fMeas_type)\n",
    "    yMeasMags = yCoaddPhotoCalib.instFluxToMagnitude(yMeasSources, fMeas_type)\n",
    "    jMeasMags = jCoaddPhotoCalib.instFluxToMagnitude(jMeasSources, fMeas_type)\n",
    "    hMeasMags = hCoaddPhotoCalib.instFluxToMagnitude(hMeasSources, fMeas_type)\n",
    "    ksMeasMags = ksCoaddPhotoCalib.instFluxToMagnitude(ksMeasSources, fMeas_type)\n",
    "    yMeasFlux = yCoaddPhotoCalib.instFluxToNanojansky(yMeasSources, fMeas_type)\n",
    "    ksMeasFlux = ksCoaddPhotoCalib.instFluxToNanojansky(ksMeasSources, fMeas_type)\n",
    "\n",
    "    #isDeblended = ySources['deblend_nChild'] == 0\n",
    "    \n",
    "    \n",
    "    \n",
    "    \n",
    "    sn5 = (yMeasFlux[:,0]/yMeasFlux[:,1] > 5) & (ksMeasFlux[:,0]/ksMeasFlux[:,1] > 5)\n",
    "    isDeblended = ySources['deblend_nChild'] == 0\n",
    "    refTable = butler.get('deepCoadd_ref', {'filter': 'VISTA-Y^VISTA-J^VISTA-H^VISTA-Ks', 'tract': tract, 'patch': patch})\n",
    "    #refTable\n",
    "    inInnerRegions = refTable['detect_isPatchInner'] & refTable['detect_isTractInner']\n",
    "    isSkyObject = refTable['merge_peak_sky']\n",
    "    isPrimary = refTable['detect_isPrimary']\n",
    "    isStellar = refTable['base_ClassificationExtendedness_value'] < 1.\n",
    "    ySources.getSchema().extract('{}_*'.format(f_type))\n",
    "    isGoodFlux = ~ySources['{}_flag'.format(f_type)]\n",
    "    selected = isPrimary & isGoodFlux & inInnerRegions & isStellar  \n",
    "    cat = Table()\n",
    "\n",
    "    #cat['m_vista_z'] = zMags[:,0]\n",
    "    #cat['merr_vista_z'] = zMags[:,1]\n",
    "    #cat['m_ap_vista_z'] = zMeasMags[:,0]\n",
    "    #cat['merr_ap_vista_z'] = zMeasMags[:,1]    \n",
    "                                                     \n",
    "    cat['m_vista_y'] = yMags[:,0]\n",
    "    cat['merr_vista_y'] = yMags[:,1]\n",
    "    cat['f_vista_y'] = yFlux[:,0]\n",
    "    cat['ferr_vista_y'] = yFlux[:,1]\n",
    "    cat['m_ap_vista_y'] = yMeasMags[:,0]\n",
    "    cat['merr_ap_vista_y'] = yMeasMags[:,1]\n",
    "    cat['f_ap_vista_y'] = yMeasFlux[:,0]\n",
    "    cat['ferr_ap_vista_y'] = yMeasFlux[:,1]\n",
    "                \n",
    "    cat['m_vista_j'] = jMags[:,0]\n",
    "    cat['merr_vista_j'] = jMags[:,1]\n",
    "    cat['m_ap_vista_j'] = jMeasMags[:,0]\n",
    "    cat['merr_ap_vista_j'] = jMeasMags[:,1]\n",
    "\n",
    "                                                     \n",
    "    cat['m_vista_h'] = hMags[:,0]\n",
    "    cat['merr_vista_h'] = hMags[:,1]\n",
    "    cat['m_ap_vista_h'] = hMeasMags[:,0]\n",
    "    cat['merr_ap_vista_h'] = hMeasMags[:,1]\n",
    "                                                     \n",
    "    cat['m_vista_ks'] = ksMags[:,0]\n",
    "    cat['merr_vista_ks'] = ksMags[:,1]\n",
    "    cat['m_ap_vista_ks'] = ksMeasMags[:,0]\n",
    "    cat['merr_ap_vista_ks'] = ksMeasMags[:,1]\n",
    "    cat['f_ap_vista_ks'] = ksMeasFlux[:,0]\n",
    "    cat['ferr_ap_vista_ks'] = ksMeasFlux[:,1]\n",
    "\n",
    "    cat['ra'] = ySources['coord_ra']\n",
    "    cat['dec'] = ySources['coord_dec']\n",
    "    cat['flag'] = selected\n",
    "    full_cat = vstack([full_cat,cat])"
   ]
  },
  {
   "cell_type": "code",
   "execution_count": 19,
   "metadata": {},
   "outputs": [
    {
     "data": {
      "text/plain": [
       "(35669, 37681)"
      ]
     },
     "execution_count": 19,
     "metadata": {},
     "output_type": "execute_result"
    }
   ],
   "source": [
    "len(yMags), len(yMeasMags)"
   ]
  },
  {
   "cell_type": "code",
   "execution_count": null,
   "metadata": {},
   "outputs": [],
   "source": [
    "refTable.getSchema()"
   ]
  },
  {
   "cell_type": "code",
   "execution_count": null,
   "metadata": {},
   "outputs": [],
   "source": [
    "full_cat[:10].show_in_notebook()"
   ]
  },
  {
   "cell_type": "code",
   "execution_count": null,
   "metadata": {},
   "outputs": [],
   "source": [
    "m = full_cat['m_vista_y'] < 30\n",
    "plt.hist(full_cat['m_vista_y'][m], bins = 100)"
   ]
  },
  {
   "cell_type": "code",
   "execution_count": null,
   "metadata": {},
   "outputs": [],
   "source": [
    "m = full_cat['m_vista_ks'] < 30\n",
    "plt.hist(full_cat[m]['m_vista_ks'], bins = 100)"
   ]
  },
  {
   "cell_type": "code",
   "execution_count": null,
   "metadata": {},
   "outputs": [],
   "source": [
    "s5 = full_cat['f_ap_vista_ks']/full_cat['ferr_ap_vista_ks'] > 5\n",
    "s5 &= full_cat['f_ap_vista_y']/full_cat['ferr_ap_vista_y'] > 5"
   ]
  },
  {
   "cell_type": "code",
   "execution_count": null,
   "metadata": {},
   "outputs": [],
   "source": [
    "plt.hist(full_cat['m_ap_vista_y'][s5], bins = 100)"
   ]
  },
  {
   "cell_type": "code",
   "execution_count": null,
   "metadata": {},
   "outputs": [],
   "source": [
    "plt.hist(full_cat['m_ap_vista_y'][s5], bins = 100)"
   ]
  },
  {
   "cell_type": "markdown",
   "metadata": {},
   "source": [
    "## Measurement catalogue instead of forced catalogue"
   ]
  },
  {
   "cell_type": "code",
   "execution_count": null,
   "metadata": {},
   "outputs": [],
   "source": [
    "full_ap_cat = Table()\n",
    "for f in y_stack_files:\n",
    "    tract = 8524\n",
    "    patch = str(f[-8:-5])\n",
    "    print(patch)\n",
    "    ySources = butler.get('deepCoadd_meas', {'filter': 'VISTA-Y', 'tract': tract, 'patch': patch})\n",
    "    ksSources = butler.get('deepCoadd_meas', {'filter': 'VISTA-Ks', 'tract': tract, 'patch': patch})\n",
    "    yCoaddPhotoCalib = butler.get('deepCoadd_meas',  {'filter': 'VISTA-Y', 'tract': tract, 'patch': patch})\n",
    "    ksCoaddPhotoCalib = butler.get('deepCoadd_meas',  {'filter': 'VISTA-Ks', 'tract': tract, 'patch': patch})\n",
    "    yCoaddCalexp = butler.get('deepCoadd_calexp',  {'filter': 'VISTA-Y', 'tract': tract, 'patch': patch})\n",
    "    yCoaddPhotoCalib = yCoaddCalexp.getPhotoCalib()\n",
    "    ksCoaddCalexp = butler.get('deepCoadd_calexp',  {'filter': 'VISTA-Ks', 'tract': tract, 'patch': patch})\n",
    "    ksCoaddPhotoCalib = ksCoaddCalexp.getPhotoCalib()\n",
    "    f_type = 'base_CircularApertureFlux_12_0' #'base_PsfFlux' 'base_CircularApertureFlux_2_0'\n",
    "    yMags = yCoaddPhotoCalib.instFluxToMagnitude(ySources, f_type)\n",
    "    ksMags = ksCoaddPhotoCalib.instFluxToMagnitude(ksSources, f_type)\n",
    "    yFlux = yCoaddPhotoCalib.instFluxToNanojansky(ySources, f_type)\n",
    "    ksFlux = ksCoaddPhotoCalib.instFluxToNanojansky(ksSources, f_type)\n",
    "    sn5 = (yFlux[:,0]/yFlux[:,1] > 5) & (ksFlux[:,0]/ksFlux[:,1] > 5)\n",
    "    isDeblended = ySources['deblend_nChild'] == 0\n",
    "    refTable = butler.get('deepCoadd_ref', {'filter': 'VISTA-Y^VISTA-Ks', 'tract': tract, 'patch': patch})\n",
    "    #refTable\n",
    "    inInnerRegions = refTable['detect_isPatchInner'] & refTable['detect_isTractInner']\n",
    "    isSkyObject = refTable['merge_peak_sky']\n",
    "    isPrimary = refTable['detect_isPrimary']\n",
    "    isStellar = refTable['base_ClassificationExtendedness_value'] < 1.\n",
    "    ySources.getSchema().extract('{}_*'.format(f_type))\n",
    "    isGoodFlux = ~ySources['{}_flag'.format(f_type)]\n",
    "    selected = isPrimary & isGoodFlux & inInnerRegions & isStellar  \n",
    "    cat = Table()\n",
    "    cat['f_ap_vista_ks'] = ksFlux[:,0]\n",
    "    cat['ferr_ap_vista_ks'] = ksFlux[:,1]\n",
    "    cat['f_ap_vista_y'] = yFlux[:,0]\n",
    "    cat['ferr_ap_vista_y'] = yFlux[:,1]\n",
    "    cat['m_ap_vista_ks'] = ksMags[:,0]\n",
    "    cat['merr_ap_vista_ks'] = ksMags[:,1]\n",
    "    cat['m_ap_vista_y'] = yMags[:,0]\n",
    "    cat['merr_ap_vista_y'] = yMags[:,1]\n",
    "    cat['ra'] = ySources['coord_ra']\n",
    "    cat['dec'] = ySources['coord_dec']\n",
    "    cat['flag'] = selected\n",
    "    full_ap_cat = vstack([full_ap_cat,cat])"
   ]
  },
  {
   "cell_type": "code",
   "execution_count": null,
   "metadata": {},
   "outputs": [],
   "source": [
    "len(full_cat),len(full_ap_cat)"
   ]
  },
  {
   "cell_type": "code",
   "execution_count": null,
   "metadata": {},
   "outputs": [],
   "source": [
    "plt.scatter(full_ap_cat['m_ap_vista_y'][full_cat['flag']], \n",
    "            full_cat['m_vista_y'][full_cat['flag']] - full_ap_cat['m_ap_vista_y'][full_cat['flag']],\n",
    "            alpha=0.5, s=0.1)\n",
    "#plt.plot([12,25],[12,25])\n",
    "plt.xlim([12,27])\n",
    "plt.ylim([-1,1])"
   ]
  },
  {
   "cell_type": "code",
   "execution_count": null,
   "metadata": {},
   "outputs": [],
   "source": [
    "plt.hist(full_ap_cat['m_ap_vista_y'][s5], bins = 100)"
   ]
  },
  {
   "cell_type": "markdown",
   "metadata": {},
   "source": [
    "### Oxford Ks selected 2 arcsec catalogue\n",
    "We found this to be the best catalogue for comparisons in dmu2/2_Colour_terms.ipynb"
   ]
  },
  {
   "cell_type": "code",
   "execution_count": null,
   "metadata": {},
   "outputs": [],
   "source": [
    "imported_columns = OrderedDict({\n",
    "        'ID_se':              'id', \n",
    "        'RA':     'ra', \n",
    "        'DEC':     'dec', \n",
    "    \n",
    "        #'J_CLASS_STAR':    'vista_stellarity', \n",
    "     \n",
    "        #HSC GRIZY?\n",
    "        'flux_Y':    'f_ap_vista_y', \n",
    "        'err_Y': 'ferr_ap_vista_y', #Flux error? ~E-30\n",
    "\n",
    "    \n",
    "        'flux_J':    'f_ap_vista_j', \n",
    "        'err_J': 'ferr_ap_vista_j', \n",
    "\n",
    "    \n",
    "        'flux_H':    'f_ap_vista_h', \n",
    "        'err_H': 'ferr_ap_vista_h', \n",
    "\n",
    "  \n",
    "        'flux_Ks':    'f_ap_vista_ks', \n",
    "        'err_Ks': 'ferr_ap_vista_ks', \n",
    "\n",
    "\n",
    "})\n",
    "\n",
    "\n",
    "oxford_ks_cat = Table.read(OXFORD_VISTA_Ks_CAT\n",
    "                      )[list(imported_columns)]\n",
    "for column in imported_columns:\n",
    "    oxford_ks_cat[column].name = 'oxford_ks_' + imported_columns[column]\n",
    "    \n",
    "\n",
    "    \n",
    "oxford_ks_cat['oxford_ks_ra'].unit = u.deg\n",
    "oxford_ks_cat['oxford_ks_dec'].unit = u.deg\n",
    "oxford_ks_cat['oxford_ks_ra'].convert_unit_to(u.rad)\n",
    "oxford_ks_cat['oxford_ks_dec'].convert_unit_to(u.rad)\n",
    "\n",
    "print(len(oxford_ks_cat))\n",
    "mask = oxford_ks_cat['oxford_ks_ra'] <  np.nanmax(ks_tile_cat['ks_tile_RA'])\n",
    "mask &= oxford_ks_cat['oxford_ks_ra'] >  np.nanmin(ks_tile_cat['ks_tile_RA'])\n",
    "mask &= oxford_ks_cat['oxford_ks_dec'] <  np.nanmax(ks_tile_cat['ks_tile_DEC'])\n",
    "mask &= oxford_ks_cat['oxford_ks_dec'] >  np.nanmin(ks_tile_cat['ks_tile_DEC'])\n",
    "oxford_ks_cat = oxford_ks_cat[mask]\n",
    "print(len(oxford_ks_cat))"
   ]
  },
  {
   "cell_type": "code",
   "execution_count": null,
   "metadata": {},
   "outputs": [],
   "source": [
    "#convert units and fluxes to mags\n",
    "#From Rebecca units are in cgs (ergs/s/cm2)\n",
    "#I presume she means cgs flux densities (ergs/s/cm2/Hz) - check for large offset\n",
    "for col in oxford_ks_cat.colnames:\n",
    "    if col.startswith('oxford_ks_f_'):\n",
    "        err_col = col.replace('_f_', '_ferr_')\n",
    "        oxford_ks_cat[col].unit = u.erg/u.second/u.cm**2/u.Hz\n",
    "        oxford_ks_cat[err_col].unit = u.erg/u.second/u.cm**2/u.Hz\n",
    "        oxford_ks_cat[col].convert_unit_to(u.uJy)\n",
    "        oxford_ks_cat[err_col].convert_unit_to(u.uJy)\n",
    "        m,merr = flux_to_mag(oxford_ks_cat[col]*1e-6,oxford_ks_cat[err_col]*1e-6) # expects Jansky\n",
    "        oxford_ks_cat[col.replace('_f_', '_m_')] = m\n",
    "        oxford_ks_cat[err_col.replace('_ferr_', '_merr_')] = merr"
   ]
  },
  {
   "cell_type": "markdown",
   "metadata": {},
   "source": [
    "## The VHS calibration catalogues\n",
    "\n",
    "These were the catalogues used to calibrate the stack and provide a further check"
   ]
  },
  {
   "cell_type": "code",
   "execution_count": null,
   "metadata": {},
   "outputs": [],
   "source": [
    "# Bands: Y,J,H,K\n",
    "imported_columns = OrderedDict({\n",
    "        'SOURCEID': \"id\",\n",
    "        'ra': \"ra\",\n",
    "        'dec': \"dec\",\n",
    "        'PSTAR':  \"stellarity\",\n",
    "        #'YPETROMAG': \"m_vhs_y\", \n",
    "        #'YPETROMAGERR': \"merr_vhs_y\", \n",
    "        #'YAPERMAG3': \"m_ap_vista_y\", \n",
    "        #'YAPERMAG3ERR': \"merr_ap_vista_y\",\n",
    "        #'JPETROMAG': \"m_vhs_j\", \n",
    "        #'JPETROMAGERR': \"merr_vhs_j\", \n",
    "        'JAPERMAG3': \"m_ap_vista_j\", \n",
    "        'JAPERMAG3ERR': \"merr_ap_vista_j\",        \n",
    "        #'HPETROMAG': \"m_vhs_h\", \n",
    "        #'HPETROMAGERR': \"merr_vhs_h\", \n",
    "        'HAPERMAG3': \"m_ap_vista_h\", \n",
    "        'HAPERMAG3ERR': \"merr_ap_vista_h\",        \n",
    "        #'KSPETROMAG': \"m_vhs_k\", \n",
    "        #'KSPETROMAGERR': \"merr_vhs_k\", \n",
    "        'KSAPERMAG3': \"m_ap_vista_ks\", \n",
    "        'KSAPERMAG3ERR': \"merr_ap_vista_ks\",\n",
    "    })\n",
    "\n",
    "\n",
    "catalogue = Table.read(VHS_CAT)[list(imported_columns)]\n",
    "for column in imported_columns:\n",
    "    new_col = 'vhs_' + imported_columns[column]\n",
    "    catalogue[column].name = new_col\n",
    "    \n",
    "for col in catalogue.colnames:\n",
    "    if col.startswith('vhs_m_ap'):\n",
    "        print(col)\n",
    "        mask = catalogue[col] <= 0\n",
    "        catalogue[col][mask] = np.nan\n",
    "        catalogue[col.replace('vhs_m', 'vhs_merr')][mask] = np.nan\n",
    "        \n",
    "        # Convert magnitude from Vega to AB\n",
    "        print(col, vega_to_ab[col.split('_')[-1]])\n",
    "        catalogue[col] += vega_to_ab[col.split('_')[-1]]\n",
    "        \n",
    "#v_flux = Table.read('../dmu0/dmu0_VISTA/dmu0_VHS/data/VHS_XMM-LSS.fits')\n",
    "vhs_cat = catalogue[catalogue['vhs_stellarity'] >= 0.9]"
   ]
  },
  {
   "cell_type": "code",
   "execution_count": null,
   "metadata": {},
   "outputs": [],
   "source": [
    "vhs_cat[:5]"
   ]
  },
  {
   "cell_type": "code",
   "execution_count": null,
   "metadata": {},
   "outputs": [],
   "source": [
    "vhs_cat['vhs_ra'].unit = u.deg\n",
    "vhs_cat['vhs_dec'].unit = u.deg\n",
    "vhs_cat['vhs_ra'].convert_unit_to(u.rad)\n",
    "vhs_cat['vhs_dec'].convert_unit_to(u.rad)\n"
   ]
  },
  {
   "cell_type": "code",
   "execution_count": null,
   "metadata": {},
   "outputs": [],
   "source": [
    "print(len(vhs_cat))\n",
    "m = vhs_cat['vhs_ra'] <  np.nanmax(ks_tile_cat['ks_tile_RA'])\n",
    "m &= vhs_cat['vhs_ra'] >  np.nanmin(ks_tile_cat['ks_tile_RA'])\n",
    "m &= vhs_cat['vhs_dec'] <  np.nanmax(ks_tile_cat['ks_tile_DEC'])\n",
    "m &= vhs_cat['vhs_dec'] >  np.nanmin(ks_tile_cat['ks_tile_DEC'])\n",
    "vhs_cat = vhs_cat[m]\n",
    "print(len(vhs_cat))"
   ]
  },
  {
   "cell_type": "markdown",
   "metadata": {},
   "source": [
    "### 3.2.4 Merge the three catalogues\n",
    "\n",
    "we merge by positional cross match then plot some key statistics"
   ]
  },
  {
   "cell_type": "code",
   "execution_count": null,
   "metadata": {},
   "outputs": [],
   "source": [
    "import logging\n",
    "LOGGER = logging.getLogger(__name__)\n",
    "from astropy.coordinates import SkyCoord, Angle\n",
    "import astropy.units as u\n",
    "from collections import Counter\n",
    "from astropy.table import Table, Column, hstack, vstack\n",
    "def merge_catalogues(cat_1, cat_2, racol_2, decol_2, radius=0.4*u.arcsec):\n",
    "    \"\"\"Merge two catalogues\n",
    "    This function merges the second catalogue into the first one using the\n",
    "    given radius to associate identical sources.  This function takes care to\n",
    "    associate only one source of one catalogue to the other.  The sources that\n",
    "    may be associated to various counterparts in the other catalogue are\n",
    "    flagged as “maybe spurious association” with a true value in the\n",
    "    flag_merged column.  If this column is present in the first catalogue, it's\n",
    "    content is “inherited” during the merge.\n",
    "    Parameters\n",
    "    ----------\n",
    "    cat_1: astropy.table.Table\n",
    "        The table containing the first catalogue.  This is the master catalogue\n",
    "        used during the merge.  If it has a “flag_merged” column it's content\n",
    "        will be re-used in the flagging of the spurious merges.  This catalogue\n",
    "        must contain a ‘ra’ and a ‘dec’ columns with the position in decimal\n",
    "        degrees.\n",
    "    cat_2: astropy.table.Table\n",
    "        The table containing the second catalogue.\n",
    "    racol_2: string\n",
    "        Name of the column in the second table containing the right ascension\n",
    "        in decimal degrees.\n",
    "    decol_2: string\n",
    "        Name of the column in the second table containing the declination in\n",
    "        decimal degrees.\n",
    "    radius: astropy.units.quantity.Quantity\n",
    "        The radius to associate identical sources in the two catalogues.\n",
    "    Returns\n",
    "    -------\n",
    "    astropy.table.Table\n",
    "        The merged catalogue.\n",
    "    \"\"\"\n",
    "    cat_1 = cat_1.copy()\n",
    "    cat_2 = cat_2.copy()\n",
    "    cat_1['ra'].unit = u.rad\n",
    "    cat_1['dec'].unit = u.rad\n",
    "    coords_1 = SkyCoord(cat_1['ra'], cat_1['dec'])\n",
    "\n",
    "    \n",
    "    cat_2[racol_2].unit = u.rad\n",
    "    cat_2[decol_2].unit = u.rad\n",
    "    coords_2 = SkyCoord(cat_2[racol_2], cat_2[decol_2])\n",
    "\n",
    "    # Search for sources in second catalogue matching the sources in the first\n",
    "    # one.\n",
    "    idx_2, idx_1, d2d, _ = coords_1.search_around_sky(coords_2, radius)\n",
    "\n",
    "    # We want to flag the possible mis-associations, i.e. the sources in each\n",
    "    # catalogue that are associated to several sources in the other one, but\n",
    "    # also all the sources that are associated to a problematic source in the\n",
    "    # other catalogue (e.g. if two sources in the first catalogue are\n",
    "    # associated to the same source in the second catalogue, they must be\n",
    "    # flagged as potentially problematic).\n",
    "    #\n",
    "    # Search for duplicate associations\n",
    "    toflag_idx_1 = np.unique([item for item, count in Counter(idx_1).items()\n",
    "                              if count > 1])\n",
    "    toflag_idx_2 = np.unique([item for item, count in Counter(idx_2).items()\n",
    "                              if count > 1])\n",
    "    # Flagging the sources associated to duplicates\n",
    "    dup_associated_in_idx1 = np.in1d(idx_2, toflag_idx_2)\n",
    "    dup_associated_in_idx2 = np.in1d(idx_1, toflag_idx_1)\n",
    "    toflag_idx_1 = np.unique(np.concatenate(\n",
    "        (toflag_idx_1, idx_1[dup_associated_in_idx1])\n",
    "    ))\n",
    "    toflag_idx_2 = np.unique(np.concatenate(\n",
    "        (toflag_idx_2, idx_2[dup_associated_in_idx2])\n",
    "    ))\n",
    "\n",
    "    # Adding the flags to the catalogue.  In the second catalogue, the column\n",
    "    # is named \"flag_merged_2\" and will be combined to the flag_merged column\n",
    "    # one the merge is done.\n",
    "    try:\n",
    "        cat_1[\"flag_merged\"] |= np.in1d(np.arange(len(cat_1), dtype=int),\n",
    "                                        toflag_idx_1)\n",
    "    except KeyError:\n",
    "        cat_1.add_column(Column(\n",
    "            data=np.in1d(np.arange(len(cat_1), dtype=int), toflag_idx_1),\n",
    "            name=\"flag_merged\"\n",
    "        ))\n",
    "    try:\n",
    "        cat_2[\"flag_merged_2\"] |= np.in1d(np.arange(len(cat_2), dtype=int), toflag_idx_2)\n",
    "    except KeyError:\n",
    "        cat_2.add_column(Column(\n",
    "            data=np.in1d(np.arange(len(cat_2), dtype=int), toflag_idx_2),\n",
    "            name=\"flag_merged_2\"\n",
    "        ))\n",
    "\n",
    "\n",
    "    # Now that we have flagged the maybe spurious associations, we want to\n",
    "    # associate each source of each catalogue to at most one source in the\n",
    "    # other one.\n",
    "\n",
    "    # We sort the indices by the distance to take the nearest counterparts in\n",
    "    # the following steps.\n",
    "    sort_idx = np.argsort(d2d)\n",
    "    idx_1 = idx_1[sort_idx]\n",
    "    idx_2 = idx_2[sort_idx]\n",
    "\n",
    "    # These array will contain the indexes of the matching sources in both\n",
    "    # catalogues.\n",
    "    match_idx_1 = np.array([], dtype=int)\n",
    "    match_idx_2 = np.array([], dtype=int)\n",
    "\n",
    "    while len(idx_1) > 0:\n",
    "\n",
    "        both_first_idx = np.sort(np.intersect1d(\n",
    "            np.unique(idx_1, return_index=True)[1],\n",
    "            np.unique(idx_2, return_index=True)[1],\n",
    "        ))\n",
    "\n",
    "        new_match_idx_1 = idx_1[both_first_idx]\n",
    "        new_match_idx_2 = idx_2[both_first_idx]\n",
    "\n",
    "        match_idx_1 = np.concatenate((match_idx_1, new_match_idx_1))\n",
    "        match_idx_2 = np.concatenate((match_idx_2, new_match_idx_2))\n",
    "\n",
    "        # We remove the matching sources in both catalogues.\n",
    "        to_remove = (np.in1d(idx_1, new_match_idx_1) |\n",
    "                     np.in1d(idx_2, new_match_idx_2))\n",
    "        idx_1 = idx_1[~to_remove]\n",
    "        idx_2 = idx_2[~to_remove]\n",
    "\n",
    "    # Indices of un-associated object in both catalogues.\n",
    "    unmatched_idx_1 = np.delete(np.arange(len(cat_1), dtype=int),match_idx_1)\n",
    "    unmatched_idx_2 = np.delete(np.arange(len(cat_2), dtype=int),match_idx_2)\n",
    "\n",
    "    # Sources only in cat_1\n",
    "    only_in_cat_1 = cat_1[unmatched_idx_1]\n",
    "\n",
    "    # Sources only in cat_2\n",
    "    only_in_cat_2 = cat_2[unmatched_idx_2]\n",
    "    # We are using the ra and dec columns from cat_2 for the position.\n",
    "    only_in_cat_2[racol_2].name = \"ra\"\n",
    "    only_in_cat_2[decol_2].name = \"dec\"\n",
    "\n",
    "    # Merged table of sources in both catalogues.\n",
    "    both_in_cat_1_and_cat_2 = hstack([cat_1[match_idx_1], cat_2[match_idx_2]])\n",
    "    # We don't need the positions from the second catalogue anymore.\n",
    "    both_in_cat_1_and_cat_2.remove_columns([racol_2, decol_2])\n",
    "\n",
    "    # Logging the number of rows\n",
    "    LOGGER.info(\"There are %s sources only in the first catalogue\",\n",
    "                len(only_in_cat_1))\n",
    "    LOGGER.info(\"There are %s sources only in the second catalogue\",\n",
    "                len(only_in_cat_2))\n",
    "    LOGGER.info(\"There are %s sources in both catalogues\",\n",
    "                len(both_in_cat_1_and_cat_2))\n",
    "\n",
    "    merged_catalogue = vstack([only_in_cat_1, both_in_cat_1_and_cat_2,\n",
    "                               only_in_cat_2])\n",
    "\n",
    "    # When vertically stacking the catalogues, some values in the flag columns\n",
    "    # are masked because they did not exist in the catalogue some row originate\n",
    "    # from. We must set them to the appropriate value.\n",
    "    for colname in merged_catalogue.colnames:\n",
    "        if 'flag' in colname:\n",
    "            merged_catalogue[colname][merged_catalogue[colname].mask] = False\n",
    "\n",
    "    # We combined the flag_merged flags\n",
    "    merged_catalogue['flag_merged'] |= merged_catalogue['flag_merged_2']\n",
    "    merged_catalogue.remove_column('flag_merged_2')\n",
    "\n",
    "    return merged_catalogue"
   ]
  },
  {
   "cell_type": "code",
   "execution_count": null,
   "metadata": {},
   "outputs": [],
   "source": [
    "merge = merge_catalogues(full_cat, y_tile_cat, 'y_tile_RA', 'y_tile_DEC')\n",
    "merge = merge_catalogues(merge, ks_tile_cat, 'ks_tile_RA', 'ks_tile_DEC')\n",
    "merge = merge_catalogues(merge, help_cat, 'help_ra', 'help_dec')\n",
    "merge = merge_catalogues(merge, oxford_ks_cat, 'oxford_ks_ra', 'oxford_ks_dec')\n",
    "merge = merge_catalogues(merge, vhs_cat, 'vhs_ra', 'vhs_dec')\n"
   ]
  },
  {
   "cell_type": "code",
   "execution_count": null,
   "metadata": {},
   "outputs": [],
   "source": [
    "def clean_table(table):\n",
    "    \"\"\"Take a table produced by a VO query and remove all empty columns\n",
    "    \n",
    "    Often many columns are empty and make the tables hard to read.\n",
    "    The function also converts columsn that are objects to strings.\n",
    "    Object columns prevent writing to fits.\n",
    "    \n",
    "    Inputs\n",
    "    =======\n",
    "    table,    Astropy.table.Table\n",
    "        The input table\n",
    "    \n",
    "    Returns\n",
    "    =======\n",
    "    table,    Astropy.table.Table\n",
    "         The modified table.\n",
    "    \n",
    "    \"\"\"\n",
    "    table = table.copy()\n",
    "    if len(table) == 0:\n",
    "        return table\n",
    "    for col in table.colnames:\n",
    "        #Remove empty columns\n",
    "        try:\n",
    "            if np.all(table[col].mask):\n",
    "                print(\"Removing empty column: {}\".format(col))\n",
    "                table.remove_column(col)\n",
    "                continue\n",
    "        except AttributeError:\n",
    "            print(\"{} is not a masked columns\".format(col))\n",
    "            \n",
    "        #Get rid of column type object from VO queries\n",
    "        if table[col].dtype == 'object':\n",
    "            print(\"Converting column {} type from object to string\".format(col) )\n",
    "            table[col] = table[col].astype(str)\n",
    " \n",
    "        #Get rid of unit '-' from some tables\n",
    "        if table[col].unit == '-':\n",
    "            print(\"Converting column {} unit from '-' to None\".format(col) )\n",
    "            table[col].unit = None   \n",
    "            \n",
    "        #replace masked floats with nans     \n",
    "        if (table[col].dtype == 'float64') or (table[col].dtype == 'float32'):\n",
    "            table[col].fill_value = np.nan\n",
    "    \n",
    "    table = table.filled()\n",
    "            \n",
    "    return table\n"
   ]
  },
  {
   "cell_type": "code",
   "execution_count": null,
   "metadata": {},
   "outputs": [],
   "source": [
    "merge_filename = './data/sxds_merge_test.fits'\n",
    "merge = clean_table(merge)\n",
    "merge.write(merge_filename, overwrite=True)"
   ]
  },
  {
   "cell_type": "code",
   "execution_count": null,
   "metadata": {},
   "outputs": [],
   "source": [
    "#merge = Table.read(merge_filename)"
   ]
  },
  {
   "cell_type": "code",
   "execution_count": null,
   "metadata": {},
   "outputs": [],
   "source": [
    "merge[:5].show_in_notebook()"
   ]
  },
  {
   "cell_type": "markdown",
   "metadata": {},
   "source": [
    "## 3.3 Diagnostic plots\n",
    "\n",
    "\n",
    "The selection has a large effect on the plots. We probably want to look at objects detected in Y and Ks and that are stars in HELP and the tile. \n"
   ]
  },
  {
   "cell_type": "code",
   "execution_count": null,
   "metadata": {},
   "outputs": [],
   "source": [
    "mask = merge['flag']  #Includes LSST stack stellarity requirement\n",
    "mask &= merge['f_ap_vista_ks']/merge['ferr_ap_vista_ks'] > 5  #LSST stack Ks S/N >5\n",
    "mask &= merge['f_ap_vista_y']/merge['ferr_ap_vista_y'] > 5    #LSST stack Y S/N >5\n",
    "#mask &= np.isclose(merge['ks_tile_Classification'], -1.0)\n",
    "#mask &= merge['help_vista_stellarity'] > 0.9\n",
    "\n"
   ]
  },
  {
   "cell_type": "markdown",
   "metadata": {},
   "source": [
    "### 3.3.0 Err mag"
   ]
  },
  {
   "cell_type": "code",
   "execution_count": null,
   "metadata": {},
   "outputs": [],
   "source": [
    "plt.figure(1, figsize=(4, 4), dpi=140)\n",
    "plt.scatter(merge[mask]['m_ap_vista_ks'], merge[mask]['merr_ap_vista_ks'] , alpha=0.5, s=0.2)\n",
    "plt.xlabel('LSST stack Ks AB mags [mag]')\n",
    "#plt.plot([12,26],[12,26], c='r')\n",
    "plt.xlim([24,12])\n",
    "plt.ylim([1.e-5, 1])\n",
    "plt.yscale('log')\n",
    "plt.ylabel('LSST stack Ks AB mag error [mag]')"
   ]
  },
  {
   "cell_type": "code",
   "execution_count": null,
   "metadata": {},
   "outputs": [],
   "source": [
    "plt.figure(1, figsize=(4, 4), dpi=140)\n",
    "plt.scatter(merge[mask]['ks_tile_m_ap_vista_ks'], merge[mask]['ks_tile_merr_ap_vista_ks'] , alpha=0.5, s=0.2)\n",
    "plt.xlabel('VISTA pipe Ks AB mags [mag]')\n",
    "#plt.plot([12,26],[12,26], c='r')\n",
    "plt.xlim([24,12])\n",
    "plt.ylim([1.e-5, 1])\n",
    "plt.yscale('log')\n",
    "plt.ylabel('VISTA pipe Ks AB mag error [mag]')"
   ]
  },
  {
   "cell_type": "code",
   "execution_count": null,
   "metadata": {},
   "outputs": [],
   "source": [
    "plt.figure(1, figsize=(4, 4), dpi=140)\n",
    "plt.scatter(merge[mask]['help_m_ap_vista_ks'], merge[mask]['help_merr_ap_vista_ks'] , alpha=0.5)\n",
    "plt.xlabel('HELP Ks AB mags [mag]')\n",
    "#plt.plot([12,26],[12,26], c='r')\n",
    "plt.xlim([24,12])\n",
    "plt.ylim([1.e-5, 1])\n",
    "plt.yscale('log')\n",
    "plt.ylabel('HELP Ks AB mag error [mag]')"
   ]
  },
  {
   "cell_type": "code",
   "execution_count": null,
   "metadata": {},
   "outputs": [],
   "source": [
    "plt.figure(1, figsize=(4, 4), dpi=140)\n",
    "plt.scatter(merge[mask]['m_ap_vista_y'], merge[mask]['merr_ap_vista_y'] , alpha=0.5)\n",
    "plt.xlabel('LSST stack Y AB mags [mag]')\n",
    "#plt.plot([12,26],[12,26], c='r')\n",
    "plt.xlim([24,12])\n",
    "plt.ylim([1.e-5, 1])\n",
    "plt.yscale('log')\n",
    "plt.ylabel('LSST stack Y AB mag error [mag]')"
   ]
  },
  {
   "cell_type": "code",
   "execution_count": null,
   "metadata": {},
   "outputs": [],
   "source": [
    "plt.figure(1, figsize=(4, 4), dpi=140)\n",
    "plt.scatter(merge[mask]['help_m_vista_y'], merge[mask]['help_merr_vista_y'] , alpha=0.5)\n",
    "plt.xlabel('HELP Y AB mags [mag]')\n",
    "#plt.plot([12,26],[12,26], c='r')\n",
    "plt.xlim([24,12])\n",
    "plt.ylim([1.e-5, 1])\n",
    "plt.yscale('log')\n",
    "plt.ylabel('HELP Y AB mag error [mag]')"
   ]
  },
  {
   "cell_type": "code",
   "execution_count": null,
   "metadata": {},
   "outputs": [],
   "source": [
    "plt.figure(1, figsize=(4, 4), dpi=140)\n",
    "plt.scatter(merge[mask]['y_tile_m_ap_vista_y'], merge[mask]['y_tile_merr_ap_vista_y'] , alpha=0.5)\n",
    "plt.xlabel('VISTA pipe Y AB mags [mag]')\n",
    "#plt.plot([12,26],[12,26], c='r')\n",
    "plt.xlim([24,12])\n",
    "plt.ylim([1.e-5, 1])\n",
    "plt.yscale('log')\n",
    "plt.ylabel('VISTA pipe Y AB mag error [mag]')"
   ]
  },
  {
   "cell_type": "markdown",
   "metadata": {},
   "source": [
    "### 3.3.1 Mag-mag"
   ]
  },
  {
   "cell_type": "code",
   "execution_count": null,
   "metadata": {},
   "outputs": [],
   "source": [
    "plt.figure(1, figsize=(4, 4), dpi=140)\n",
    "plt.scatter(merge[mask]['m_ap_vista_ks'], merge[mask]['help_m_ap_vista_ks'], alpha=0.5)\n",
    "plt.xlabel('LSST stack Ks AB mags [mag]')\n",
    "plt.plot([12,26],[12,26], c='r')\n",
    "plt.xlim([12,24])\n",
    "plt.ylim([12,24])\n",
    "plt.ylabel('HELP Ks AB mags [mag]')"
   ]
  },
  {
   "cell_type": "code",
   "execution_count": null,
   "metadata": {},
   "outputs": [],
   "source": [
    "plt.figure(1, figsize=(4, 4), dpi=140)\n",
    "plt.scatter(merge[mask]['m_ap_vista_ks'], merge[mask]['ks_tile_m_ap_vista_ks'], alpha=0.5)\n",
    "plt.xlabel('LSST stack Ks AB mags [mag]')\n",
    "plt.plot([12,26],[12,26], c='r')\n",
    "plt.xlim([12,24])\n",
    "plt.ylim([12,24])\n",
    "plt.ylabel('VISTA pipe Ks AB?? mags [mag]')"
   ]
  },
  {
   "cell_type": "code",
   "execution_count": null,
   "metadata": {},
   "outputs": [],
   "source": [
    "plt.figure(1, figsize=(4, 4), dpi=140)\n",
    "plt.scatter(merge[mask]['m_ap_vista_ks'], merge[mask]['vhs_m_ap_vista_ks'], alpha=0.5, s=0.2)\n",
    "plt.xlabel('LSST stack Ks AB mags [mag]')\n",
    "plt.plot([12,26],[12,26], c='r')\n",
    "plt.xlim([12,24])\n",
    "plt.ylim([12,24])\n",
    "plt.ylabel('VHS Ks AB mags [mag]')"
   ]
  },
  {
   "cell_type": "code",
   "execution_count": null,
   "metadata": {},
   "outputs": [],
   "source": [
    "plt.figure(1, figsize=(4, 4), dpi=140)\n",
    "plt.scatter(merge[mask]['m_ap_vista_y'], merge[mask]['help_m_ap_vista_y'], alpha=0.5, s=0.2)\n",
    "plt.xlabel('LSST stack Y AB mags [mag]')\n",
    "plt.plot([12,26],[12,26], c='r')\n",
    "plt.xlim([12,24])\n",
    "plt.ylim([12,24])\n",
    "plt.ylabel('HELP Y AB mags [mag]')"
   ]
  },
  {
   "cell_type": "code",
   "execution_count": null,
   "metadata": {},
   "outputs": [],
   "source": [
    "plt.figure(1, figsize=(4, 4), dpi=140)\n",
    "plt.scatter(merge[mask]['m_ap_vista_y'], merge[mask]['y_tile_m_ap_vista_y'], alpha=0.5, s=0.2)\n",
    "plt.xlabel('LSST stack Y AB mags [mag]')\n",
    "plt.plot([12,26],[12,26], c='r')\n",
    "plt.xlim([12,24])\n",
    "plt.ylim([12,24])\n",
    "plt.ylabel('VISTA pipe Y AB mags [mag]')"
   ]
  },
  {
   "cell_type": "markdown",
   "metadata": {},
   "source": [
    "Is this a vega AB issue or zero point issue??"
   ]
  },
  {
   "cell_type": "markdown",
   "metadata": {},
   "source": [
    "### 3.3.2 Mag diff - mag\n",
    "\n"
   ]
  },
  {
   "cell_type": "code",
   "execution_count": null,
   "metadata": {},
   "outputs": [],
   "source": [
    "plt.figure(1, figsize=(4, 4), dpi=140)\n",
    "m = mask \n",
    "mean_offset = np.nanmean(merge[m]['vhs_m_ap_vista_ks'] - merge[m]['help_m_ap_vista_ks'])\n",
    "median_offset = np.nanmedian(merge[m]['vhs_m_ap_vista_ks'] - merge[m]['help_m_ap_vista_ks'])\n",
    "print(\"Mean offset = {}\".format(mean_offset))\n",
    "print(\"Median offset = {}\".format(median_offset))\n",
    "plt.plot([0,26],[mean_offset,mean_offset], linestyle='--', c='r', label = 'mean offset = {}'.format(mean_offset))\n",
    "plt.plot([0,26],[median_offset,median_offset], linestyle='dashdot', c='r',\n",
    "         label = 'median offset = {}'.format(median_offset))\n",
    "plt.plot([0,26],[0,0], c='r', label='zero')\n",
    "plt.scatter(merge[mask]['help_m_ap_vista_ks'],   merge[mask]['vhs_m_ap_vista_ks'] - merge[mask]['help_m_ap_vista_ks'], \n",
    "            alpha=0.5, s = 0.5)\n",
    "plt.xlabel('HELP Ks AB mags [mag]')\n",
    "plt.legend( prop={'size': 8})\n",
    "\n",
    "plt.xlim([12,24])\n",
    "plt.ylim([-3,2])\n",
    "plt.ylabel('VHS - HELP Ks AB mags [mag]')"
   ]
  },
  {
   "cell_type": "code",
   "execution_count": null,
   "metadata": {},
   "outputs": [],
   "source": [
    "plt.figure(1, figsize=(4, 4), dpi=140)\n",
    "m = mask \n",
    "mean_offset = np.nanmean(merge[m]['m_ap_vista_ks'] - merge[m]['help_m_ap_vista_ks'])\n",
    "median_offset = np.nanmedian(merge[m]['m_ap_vista_ks'] - merge[m]['help_m_ap_vista_ks'])\n",
    "print(\"Mean offset = {}\".format(mean_offset))\n",
    "print(\"Median offset = {}\".format(median_offset))\n",
    "plt.plot([0,26],[mean_offset,mean_offset], linestyle='--', c='r', label = 'mean offset = {}'.format(mean_offset))\n",
    "plt.plot([0,26],[median_offset,median_offset], linestyle='dashdot', c='r',\n",
    "         label = 'median offset = {}'.format(median_offset))\n",
    "plt.plot([0,26],[0,0], c='r', label='zero')\n",
    "plt.scatter(merge[mask]['help_m_ap_vista_ks'],   merge[mask]['m_ap_vista_ks'] - merge[mask]['help_m_ap_vista_ks'], \n",
    "            alpha=0.5, s = 0.5)\n",
    "plt.xlabel('HELP Ks AB mags [mag]')\n",
    "plt.legend( prop={'size': 8})\n",
    "\n",
    "plt.xlim([12,24])\n",
    "plt.ylim([-3,2])\n",
    "plt.ylabel('LSST stack - HELP Ks AB mags [mag]')"
   ]
  },
  {
   "cell_type": "code",
   "execution_count": null,
   "metadata": {},
   "outputs": [],
   "source": [
    "plt.figure(1, figsize=(4, 4), dpi=140)\n",
    "m = mask \n",
    "mean_offset = np.nanmean(merge[m]['m_ap_vista_ks'] - merge[m]['ks_tile_m_ap_vista_ks'])\n",
    "median_offset = np.nanmedian(merge[m]['m_ap_vista_ks'] - merge[m]['ks_tile_m_ap_vista_ks'])\n",
    "print(\"Mean offset = {}\".format(mean_offset))\n",
    "print(\"Median offset = {}\".format(median_offset))\n",
    "plt.plot([0,26],[mean_offset,mean_offset], linestyle='--', c='r', label = 'mean offset = {}'.format(mean_offset))\n",
    "plt.plot([0,26],[median_offset,median_offset], linestyle='dashdot', c='r',\n",
    "         label = 'median offset = {}'.format(median_offset))\n",
    "plt.plot([0,26],[0,0], c='r', label='zero')\n",
    "plt.scatter(merge[mask]['ks_tile_m_ap_vista_ks'],   merge[mask]['m_ap_vista_ks'] - merge[mask]['ks_tile_m_ap_vista_ks'], \n",
    "            alpha=0.5, s=0.5)\n",
    "plt.xlabel('VISTA pipe Ks AB mags [mag]')\n",
    "plt.legend( prop={'size': 8})\n",
    "plt.xlim([12,26])\n",
    "plt.ylim([-5,2])\n",
    "plt.ylabel('LSST stack - VISTA pipe Ks AB mags [mag]')"
   ]
  },
  {
   "cell_type": "code",
   "execution_count": null,
   "metadata": {},
   "outputs": [],
   "source": [
    "plt.figure(1, figsize=(4, 4), dpi=140)\n",
    "m = (\n",
    "    mask \n",
    "    #& (merge['help_m_ap_vista_y'] < 30)\n",
    "    #& (merge['vhs_stellarity']>0.9)\n",
    ")\n",
    "\n",
    "mean_offset = np.nanmean(merge[m]['m_ap_vista_ks'] - merge[m]['vhs_m_ap_vista_ks'])\n",
    "median_offset = np.nanmedian(merge[m]['m_ap_vista_ks'] - merge[m]['vhs_m_ap_vista_ks'])\n",
    "print(\"Mean offset = {}\".format(mean_offset))\n",
    "print(\"Median offset = {}\".format(median_offset))\n",
    "plt.plot([0,26],[mean_offset,mean_offset], linestyle='--', c='r', label = 'mean offset = {}'.format(mean_offset))\n",
    "plt.plot([0,26],[median_offset,median_offset], linestyle='dashdot', c='r',\n",
    "         label = 'median offset = {}'.format(median_offset))\n",
    "plt.plot([0,26],[0,0], c='r', label='zero')\n",
    "plt.scatter(merge[mask]['vhs_m_ap_vista_ks'],   merge[mask]['m_ap_vista_ks'] - merge[mask]['vhs_m_ap_vista_ks'], \n",
    "            alpha=0.9, s=0.1)\n",
    "plt.xlabel('VHS VIDEO Ks APER 3 AB mags [mag]')\n",
    "plt.plot([0,26],[0,0], c='r')\n",
    "plt.legend( prop={'size': 8})\n",
    "plt.xlim([11,20])\n",
    "plt.ylim([-2,2])\n",
    "plt.ylabel('LSST stack Ks - VHS Ks  [mag]')"
   ]
  },
  {
   "cell_type": "code",
   "execution_count": null,
   "metadata": {},
   "outputs": [],
   "source": [
    "plt.figure(1, figsize=(4, 4), dpi=140)\n",
    "m = (\n",
    "    mask \n",
    "    #& (merge['help_m_ap_vista_y'] < 30)\n",
    "    #& (merge['help_vista_stellarity']>0.9)\n",
    ")\n",
    "\n",
    "mean_offset = np.nanmean(merge[m]['m_ap_vista_y'] - merge[m]['help_m_ap_vista_y'])\n",
    "median_offset = np.nanmedian(merge[m]['m_ap_vista_y'] - merge[m]['help_m_ap_vista_y'])\n",
    "print(\"Mean offset = {}\".format(mean_offset))\n",
    "print(\"Median offset = {}\".format(median_offset))\n",
    "plt.plot([0,26],[mean_offset,mean_offset], linestyle='--', c='r', label = 'mean offset = {}'.format(mean_offset))\n",
    "plt.plot([0,26],[median_offset,median_offset], linestyle='dashdot', c='r',\n",
    "         label = 'median offset = {}'.format(median_offset))\n",
    "plt.plot([0,26],[0,0], c='r', label='zero')\n",
    "plt.scatter(merge[mask]['help_m_ap_vista_y'],   merge[mask]['m_ap_vista_y'] - merge[mask]['help_m_ap_vista_y'], \n",
    "            alpha=0.9, s=0.1)\n",
    "plt.xlabel('HELP VIDEO Y APER 3 AB mags [mag]')\n",
    "plt.plot([0,26],[0,0], c='r')\n",
    "plt.legend( prop={'size': 8})\n",
    "plt.xlim([12,25])\n",
    "plt.ylim([-2,2])\n",
    "plt.ylabel('LSST stack Y - HELP Y  [mag]')"
   ]
  },
  {
   "cell_type": "code",
   "execution_count": null,
   "metadata": {},
   "outputs": [],
   "source": [
    "plt.figure(1, figsize=(4, 4), dpi=140)\n",
    "m = mask #& (merge['y_tile_m_ap_vista_y'] < 30)\n",
    "mean_offset = np.nanmean(merge[m]['m_ap_vista_y'] - merge[m]['y_tile_m_ap_vista_y'])\n",
    "median_offset = np.nanmedian(merge[m]['m_ap_vista_y'] - merge[m]['y_tile_m_ap_vista_y'])\n",
    "print(\"Mean offset = {}\".format(mean_offset))\n",
    "print(\"Median offset = {}\".format(median_offset))\n",
    "plt.plot([0,26],[mean_offset,mean_offset], linestyle='--', c='r', label = 'mean offset = {}'.format(mean_offset))\n",
    "plt.plot([0,26],[median_offset,median_offset], linestyle='dashdot', c='r',\n",
    "         label = 'median offset = {}'.format(median_offset))\n",
    "plt.plot([0,26],[0,0], c='r', label='zero')\n",
    "plt.scatter(merge[mask]['y_tile_m_ap_vista_y'],   merge[mask]['m_ap_vista_y'] - merge[mask]['y_tile_m_ap_vista_y'], alpha=0.5)\n",
    "plt.xlabel('VISTA pipe Y AB mags [mag]')\n",
    "plt.legend( prop={'size': 8})\n",
    "plt.xlim([12,24])\n",
    "plt.ylim([-2,4])\n",
    "plt.ylabel('LSST stack - VISTA pipe Y AB mags [mag]')"
   ]
  },
  {
   "cell_type": "code",
   "execution_count": null,
   "metadata": {},
   "outputs": [],
   "source": [
    "plt.figure(1, figsize=(4, 4), dpi=140)\n",
    "m = (\n",
    "    np.full(len(merge),True)\n",
    "    #(merge['ks'] > 0) \n",
    "     #(merge['help_m_ap_vista_ks']<30) \n",
    "   #&(merge['ks_tile_Classification'] == -1) \n",
    "    & (merge['help_vista_stellarity']>0.9)\n",
    ")\n",
    "\n",
    "x_band, x_name = 'oxford_ks_m_ap_vista_ks', 'Oxford Ks'\n",
    "y_band, y_name = 'm_ap_vista_ks', 'LSST stack Ks'\n",
    "\n",
    "mean_offset = np.nanmean((merge[m][y_band] ) - merge[m][x_band])\n",
    "median_offset = np.nanmedian((merge[m][y_band] ) - merge[m][x_band])\n",
    "print(\"Mean offset = {}\".format(mean_offset))\n",
    "plt.plot([0,26],[mean_offset,mean_offset], linestyle='--', c='r',  label = 'mean offset = {}'.format(mean_offset))\n",
    "plt.plot([0,26],[median_offset,median_offset], linestyle='dashdot', c='r',\n",
    "         label = 'median offset = {}'.format(median_offset))\n",
    "plt.scatter(merge[m][x_band],   (merge[m][y_band] ) - merge[m][x_band], \n",
    "            s=1,alpha=0.5)\n",
    "plt.xlabel(x_name + ' [mag]')\n",
    "plt.plot([0,26],[0,0], c='r')\n",
    "\n",
    "plt.legend( prop={'size': 8})\n",
    "plt.xlim([12,25])\n",
    "plt.ylim([-3,1])\n",
    "plt.ylabel('{} - {} [mag]'.format(y_name,x_name))"
   ]
  },
  {
   "cell_type": "code",
   "execution_count": null,
   "metadata": {},
   "outputs": [],
   "source": [
    "plt.figure(1, figsize=(4, 4), dpi=140)\n",
    "m = (\n",
    "    #(merge['ks'] > 0) \n",
    "     #(merge['help_m_ap_vista_ks']<30) \n",
    "   (merge['ks_tile_Classification'] == -1) \n",
    "   # & (merge['help_vista_stellarity']>0.9)\n",
    ")\n",
    "\n",
    "x_band, x_name = 'oxford_ks_m_ap_vista_y', 'Oxford Y'\n",
    "y_band, y_name = 'm_ap_vista_y', 'LSST stack Y'\n",
    "\n",
    "mean_offset = np.nanmean((merge[m][y_band] ) - merge[m][x_band])\n",
    "median_offset = np.nanmedian((merge[m][y_band] ) - merge[m][x_band])\n",
    "print(\"Mean offset = {}\".format(mean_offset))\n",
    "plt.plot([0,26],[mean_offset,mean_offset], linestyle='--', c='r',  label = 'mean offset = {}'.format(mean_offset))\n",
    "plt.plot([0,26],[median_offset,median_offset], linestyle='dashdot', c='r',\n",
    "         label = 'median offset = {}'.format(median_offset))\n",
    "plt.scatter(merge[m][x_band],   (merge[m][y_band] ) - merge[m][x_band], \n",
    "            s=1,alpha=0.5)\n",
    "plt.xlabel(x_name + ' [mag]')\n",
    "plt.plot([0,26],[0,0], c='r')\n",
    "\n",
    "plt.legend( prop={'size': 8})\n",
    "plt.xlim([12,25])\n",
    "plt.ylim([-2,1])\n",
    "plt.ylabel('{} - {} [mag]'.format(y_name,x_name))"
   ]
  },
  {
   "cell_type": "markdown",
   "metadata": {},
   "source": [
    "### 3.3.3 Colour mag"
   ]
  },
  {
   "cell_type": "code",
   "execution_count": null,
   "metadata": {},
   "outputs": [],
   "source": [
    "import matplotlib.pyplot as plt\n",
    "\n",
    "#plt.style.use('seaborn-notebook')\n",
    "plt.figure(1, figsize=(4, 4), dpi=140)\n",
    "plt.scatter(merge['m_vista_y'][mask] - merge['m_vista_ks'][mask] ,\n",
    "            merge['m_vista_ks'][mask] ,\n",
    "            edgecolors='None', s=2, c='k')\n",
    "plt.xlim(-2, 2)\n",
    "plt.ylim(24, 12)\n",
    "plt.xlabel('LSST stack $Y-Ks$')\n",
    "plt.ylabel('LSST stack $Ks$')\n",
    "plt.subplots_adjust(left=0.125, bottom=0.1)\n",
    "plt.show()"
   ]
  },
  {
   "cell_type": "code",
   "execution_count": null,
   "metadata": {},
   "outputs": [],
   "source": [
    "import matplotlib.pyplot as plt\n",
    "\n",
    "#plt.style.use('seaborn-notebook')\n",
    "plt.figure(1, figsize=(4, 4), dpi=140)\n",
    "plt.scatter(merge['help_m_ap_vista_y'][mask] - merge['help_m_ap_vista_ks'][mask] ,\n",
    "            merge['help_m_ap_vista_ks'][mask] ,\n",
    "            edgecolors='None', s=2, c='k')\n",
    "plt.xlim(-2, 2)\n",
    "plt.ylim(24, 12)\n",
    "plt.xlabel('HELP $Y-Ks$')\n",
    "plt.ylabel('HELP $Ks$')\n",
    "plt.subplots_adjust(left=0.125, bottom=0.1)\n",
    "plt.show()"
   ]
  },
  {
   "cell_type": "code",
   "execution_count": null,
   "metadata": {},
   "outputs": [],
   "source": [
    "merge[merge['y_tile_m_ap_vista_y'] < 1.e19][:10]"
   ]
  },
  {
   "cell_type": "code",
   "execution_count": null,
   "metadata": {},
   "outputs": [],
   "source": [
    "import matplotlib.pyplot as plt\n",
    "\n",
    "#plt.style.use('seaborn-notebook')\n",
    "plt.figure(1, figsize=(4, 4), dpi=140)\n",
    "plt.scatter(merge['y_tile_m_ap_vista_y'][mask] - merge['ks_tile_m_ap_vista_ks'][mask] ,\n",
    "            merge['ks_tile_m_ap_vista_ks'][mask] ,\n",
    "            edgecolors='None', s=2, c='k')\n",
    "plt.xlim(-4, 4)\n",
    "plt.ylim(24, 12)\n",
    "plt.xlabel('Tile $Y-Ks$')\n",
    "plt.ylabel('Tile $Ks$')\n",
    "plt.subplots_adjust(left=0.125, bottom=0.1)\n",
    "plt.show()"
   ]
  },
  {
   "cell_type": "markdown",
   "metadata": {},
   "source": [
    "### mag error - mag error"
   ]
  },
  {
   "cell_type": "code",
   "execution_count": null,
   "metadata": {},
   "outputs": [],
   "source": [
    "plt.figure(1, figsize=(4, 4), dpi=140)\n",
    "plt.scatter(merge[mask]['merr_ap_vista_ks'], merge[mask]['help_merr_ap_vista_ks'], alpha=0.5)\n",
    "plt.xlabel('LSST stack Ks AB mag errors [mag]')\n",
    "plt.plot([0,1],[0,1], c='r')\n",
    "\n",
    "plt.xlim([1.e-4,1.e-1])\n",
    "plt.xscale('log')\n",
    "#plt.ylim([0,0.1])\n",
    "plt.ylim([1.e-4,1.e-1])\n",
    "plt.yscale('log')\n",
    "plt.ylabel('HELP Ks AB mag errors [mag]')"
   ]
  },
  {
   "cell_type": "code",
   "execution_count": null,
   "metadata": {},
   "outputs": [],
   "source": [
    "plt.figure(1, figsize=(4, 4), dpi=140)\n",
    "\n",
    "plt.scatter(merge[mask]['merr_ap_vista_ks'], merge[mask]['ks_tile_merr_ap_vista_ks'], alpha=0.5)\n",
    "plt.xlabel('LSST stack Ks AB mag errors [mag]')\n",
    "plt.plot([0,1],[0,1], c='r')\n",
    "plt.xlim([1.e-4,1.e-1])\n",
    "plt.xscale('log')\n",
    "#plt.ylim([0,0.1])\n",
    "plt.ylim([1.e-4,1.e-1])\n",
    "plt.yscale('log')\n",
    "plt.ylabel('VISTA pipe Ks AB mag errors [mag]')"
   ]
  },
  {
   "cell_type": "code",
   "execution_count": null,
   "metadata": {},
   "outputs": [],
   "source": [
    "plt.figure(1, figsize=(4, 4), dpi=140)\n",
    "plt.scatter(merge[mask]['merr_ap_vista_y'], merge[mask]['help_merr_ap_vista_y'], alpha=0.5)\n",
    "plt.xlabel('LSST stack Y AB mag errors [mag]')\n",
    "plt.plot([0,1],[0,1], c='r')\n",
    "\n",
    "plt.xlim([1.e-4,1.e-1])\n",
    "plt.xscale('log')\n",
    "#plt.ylim([0,0.1])\n",
    "plt.ylim([1.e-4,1.e-1])\n",
    "plt.yscale('log')\n",
    "plt.ylabel('HELP Y AB mag errors [mag]')"
   ]
  },
  {
   "cell_type": "code",
   "execution_count": null,
   "metadata": {},
   "outputs": [],
   "source": [
    "plt.figure(1, figsize=(4, 4), dpi=140)\n",
    "\n",
    "plt.scatter(merge[mask]['merr_ap_vista_ks'], merge[mask]['y_tile_merr_ap_vista_y'], alpha=0.5)\n",
    "plt.xlabel('LSST stack Y AB mag errors [mag]')\n",
    "plt.plot([0,1],[0,1], c='r')\n",
    "plt.xlim([1.e-4,1.e-1])\n",
    "plt.xscale('log')\n",
    "#plt.ylim([0,0.1])\n",
    "plt.ylim([1.e-4,1.e-1])\n",
    "plt.yscale('log')\n",
    "plt.ylabel('VISTA pipe Y AB mag errors [mag]')"
   ]
  },
  {
   "cell_type": "markdown",
   "metadata": {},
   "source": [
    "### chi squared comparison plots"
   ]
  },
  {
   "cell_type": "code",
   "execution_count": null,
   "metadata": {},
   "outputs": [],
   "source": [
    "\n",
    "    \n",
    "    \n",
    "from astropy import visualization as vz\n",
    "import matplotlib\n",
    "import matplotlib.gridspec as gridspec    \n",
    "\n",
    "def chi2_plots(x,y,xerr,yerr, labels,diff_label, savefig):\n",
    "    \n",
    "    fig = plt.figure(figsize=(13, 6))\n",
    "\n",
    "    gs1 = gridspec.GridSpec(1, 1)\n",
    "    gs1.update(left=0.05, right=0.4, wspace=0.05)\n",
    "    ax1 = plt.subplot(gs1[:, :])\n",
    "\n",
    "    gs2 = gridspec.GridSpec(1, 3)\n",
    "    gs2.update(left=0.47, right=0.98, hspace=0.05, wspace=0.05)\n",
    "    ax2 = plt.subplot(gs2[:, :-1])\n",
    "    ax3 = plt.subplot(gs2[:, -1], sharey=ax2)\n",
    "\n",
    "    \n",
    "    # Use only finite values\n",
    "    mask = np.isfinite(x) & np.isfinite(y) & np.isfinite(xerr) & np.isfinite(yerr)\n",
    "    x = np.copy(x[mask])\n",
    "    y = np.copy(y[mask])\n",
    "    xerr = np.copy(xerr[mask])\n",
    "    yerr = np.copy(yerr[mask])\n",
    "    \n",
    "    # mag1 - mag2\n",
    "    diff = y - x\n",
    "\n",
    "    x_label, y_label = labels\n",
    "    \n",
    "    # If the difference is all NaN there is nothing to compare.\n",
    "    if np.isnan(diff).all():\n",
    "        print(\"No sources have both {} and {} values.\".format(\n",
    "            x_label, y_label))\n",
    "        print(\"\")\n",
    "\n",
    "    # Set the minimum error to 10^-3\n",
    "    np.clip(xerr, 1e-3, np.max(xerr), out=xerr)\n",
    "    np.clip(yerr, 1e-3, np.max(yerr), out=yerr)\n",
    "\n",
    "    # Median, Median absolute deviation and 1% and 99% percentiles\n",
    "    diff_median = np.median(diff)\n",
    "    diff_mad = np.median(np.abs(diff - diff_median))\n",
    "    diff_1p, diff_99p = np.percentile(diff, [1., 99.])\n",
    "    diff_25p, diff_75p = np.percentile(diff, [25., 75.])\n",
    "    \n",
    "    \n",
    "\n",
    "\n",
    "    print(\"{} ({} sources):\".format(diff_label, len(x)))\n",
    "    print(\"- Median: {:.2f}\".format(diff_median))\n",
    "    print(\"- Median Absolute Deviation: {:.2f}\".format(diff_mad))\n",
    "    print(\"- 1% percentile: {}\".format(diff_1p))\n",
    "    print(\"- 99% percentile: {}\".format(diff_99p))\n",
    "\n",
    "    \n",
    "    # Chi2 (Normalized difference)   \n",
    "    ichi2 = np.power(diff, 2) / (np.power(xerr, 2) + np.power(yerr, 2))\n",
    "    \n",
    "    # Use only non-null values of ichi2\n",
    "    mask2 = ichi2 != 0.0\n",
    "    diff, ichi2 = np.copy(diff[mask2]), np.copy(ichi2[mask2])\n",
    "    x, y, xerr, yerr = np.copy(x[mask2]), np.copy(y[mask2]), np.copy(xerr[mask2]), np.copy(yerr[mask2])\n",
    "\n",
    "    # Outliers (5sigma)\n",
    "    log_ichi2_25p, log_ichi2_75p = np.percentile(np.log10(ichi2), [25., 75.])\n",
    "    out_lim = log_ichi2_75p + 3.2*abs(log_ichi2_25p-log_ichi2_75p)\n",
    "    \n",
    "    outliers = np.log10(ichi2) > out_lim \n",
    "    nb_outliers = len(x[outliers])\n",
    "    \n",
    "    print(\"Outliers separation: log(chi2) = {:.2f}\".format(out_lim))\n",
    "    print(\"Number of outliers: {}\".format(nb_outliers))\n",
    "\n",
    "    print(\"\")\n",
    "\n",
    "    # Comparing mag\n",
    "    ax1.scatter(x, y, marker='.', alpha=0.1, s=50, color='r')\n",
    "    ax1.scatter(x[outliers], y[outliers], marker='.', c='b', alpha=0.3, s=50, label='Outliers ({})'.format(nb_outliers))\n",
    "    min_val = np.min(np.r_[x, y])\n",
    "    max_val = np.max(np.r_[x, y])\n",
    "    ax1.autoscale(False)\n",
    "    ax1.plot([min_val, max_val], [min_val, max_val], \"k:\")\n",
    "    ax1.invert_xaxis()\n",
    "    ax1.invert_yaxis()\n",
    "    ax1.set_xlabel(x_label)\n",
    "    ax1.set_ylabel(y_label)\n",
    "    ax1.legend(loc='lower right', numpoints=1)\n",
    "    \n",
    "\n",
    "    # Chi2 vs Diff\n",
    "    #ax1.set_yscale('log')    # to place before scatter to avoid issues\n",
    "    ax2.scatter(diff, np.log10(ichi2), marker='.', alpha=0.1, s=50, color='r')\n",
    "    if nb_outliers != 0:\n",
    "        ax2.scatter(diff[outliers], np.log10(ichi2[outliers]), marker='.', alpha=0.3, s=50, color='b',\\\n",
    "                        label='Outliers ({})'.format(nb_outliers))\n",
    "    ax2.axhline(out_lim, color='grey', linestyle=':')\n",
    "    ax2.set_xlabel(diff_label)\n",
    "    ax2.set_ylabel('log(chi2)')\n",
    "    ax2.legend(loc='lower right', numpoints=1)\n",
    "    \n",
    "    # Hist\n",
    "    n, bins, patches = vz.hist(np.log10(ichi2), ax=ax3, bins='knuth', facecolor='red', lw = 2, alpha=0.5,\\\n",
    "                                   orientation=\"horizontal\")\n",
    "    if nb_outliers > 3:\n",
    "        n, bins, patches = vz.hist(np.log10(ichi2[outliers]), ax=ax3, bins=bins, facecolor='b', lw = 2, alpha=0.7,\\\n",
    "                                   orientation=\"horizontal\")\n",
    "    ax3.axhline(out_lim, color='grey', linestyle=':')\n",
    "    ax3.yaxis.set_tick_params(labelleft=False)\n",
    "    \n",
    "    # Save ex. fig\n",
    "\n",
    "\n",
    "    plt.rc('font', family='serif', serif='Times')\n",
    "    plt.rc('text') #, usetex=True)\n",
    "    plt.rc('xtick', labelsize=12)\n",
    "    plt.rc('ytick', labelsize=12)\n",
    "    plt.rc('axes', labelsize=12)\n",
    "\n",
    "\n",
    "\n",
    "    column_width_cm = 8.9\n",
    "    width_cm =  2.5* column_width_cm\n",
    "    hieght_cm = width_cm /2\n",
    "    width_inches = width_cm/2.5\n",
    "    hieght_inches = hieght_cm/2.5\n",
    "    fig.set_size_inches(width_inches, hieght_inches)\n",
    "    ax1.set_xlim([11, 26])\n",
    "    ax1.set_ylim([11, 26])\n",
    "    ax2.set_xlim([-10, 10])\n",
    "    plt.savefig('./figs/mag_compare.pdf', bbox_inches='tight')\n",
    "    plt.savefig('./figs/mag_compare.png', bbox_inches='tight')\n",
    "\n",
    "\n",
    "    survey_label = ((diff_label.replace(\" \", \"_\")).replace(\"(\", \"\")).replace(\")\", \"\")\n",
    "   \n",
    "    plt.savefig(\"./figs/outliers.png\" , bbox_inches='tight')\n",
    "    plt.savefig(\"./figs/outliers.pdf\" , bbox_inches='tight')\n",
    "    \n",
    "    \n",
    "    \n",
    "    \n",
    "    \n",
    "    \n"
   ]
  },
  {
   "cell_type": "code",
   "execution_count": null,
   "metadata": {},
   "outputs": [],
   "source": [
    "x = merge['m_vista_ks'][mask]\n",
    "y = merge['help_m_ap_vista_ks'][mask]\n",
    "xerr = merge['merr_ap_vista_ks'][mask]\n",
    "yerr = merge['help_merr_ap_vista_ks'][mask]\n",
    "labels=(\"LSST Stack Ks [mag]\", \"HELP Ks [mag]\")\n",
    "diff_label =  \"LSST Stack - HELP [mag]\" # \"{} - {}\".format(y_label, x_label)\n",
    "savefig=True\n",
    "chi2_plots(x,y,xerr,yerr, labels,diff_label, savefig)"
   ]
  },
  {
   "cell_type": "code",
   "execution_count": null,
   "metadata": {},
   "outputs": [],
   "source": [
    "x = merge['m_ap_vista_ks']\n",
    "y = merge['help_m_ap_vista_ks']\n",
    "xerr = merge['merr_ap_vista_ks']\n",
    "yerr = merge['help_merr_ap_vista_ks']\n",
    "labels=(\"LSST Stack Ks [mag]\", \"HELP Ks [mag]\")\n",
    "diff_label =  \"LSST Stack - HELP [mag]\" # \"{} - {}\".format(y_label, x_label)\n",
    "savefig=True\n",
    "chi2_plots(x,y,xerr,yerr, labels,diff_label, savefig)"
   ]
  },
  {
   "cell_type": "code",
   "execution_count": null,
   "metadata": {},
   "outputs": [],
   "source": [
    "x = merge['m_ap_vista_ks']\n",
    "y = merge['oxford_ks_m_ap_vista_ks']\n",
    "xerr = merge['merr_ap_vista_ks']\n",
    "yerr = merge['oxford_ks_merr_ap_vista_ks']\n",
    "labels=(\"LSST Stack Ks [mag]\", \"Oxford Ks [mag]\")\n",
    "diff_label =  \"LSST Stack - Oxford Ks [mag]\" # \"{} - {}\".format(y_label, x_label)\n",
    "savefig=True\n",
    "chi2_plots(x,y,xerr,yerr, labels,diff_label, savefig)"
   ]
  },
  {
   "cell_type": "code",
   "execution_count": null,
   "metadata": {},
   "outputs": [],
   "source": [
    "x = merge['m_ap_vista_ks'][mask]\n",
    "y = merge['ks_tile_m_ap_vista_ks'][mask]\n",
    "xerr = merge['merr_ap_vista_ks'][mask]\n",
    "yerr = merge['ks_tile_merr_ap_vista_ks'][mask]\n",
    "labels=(\"LSST Stack Ks [mag]\", \"VISTA Ks [mag]\")\n",
    "diff_label =  \"LSST Stack Ks - VISTA Ks [mag]\" # \"{} - {}\".format(y_label, x_label)\n",
    "savefig=True\n",
    "chi2_plots(x,y,xerr,yerr, labels,diff_label, savefig)"
   ]
  },
  {
   "cell_type": "code",
   "execution_count": null,
   "metadata": {},
   "outputs": [],
   "source": [
    "x = merge['m_ap_vista_ks'][mask]\n",
    "y = merge['ks_tile_m_ap_vista_ks'][mask]\n",
    "xerr = merge['merr_ap_vista_ks'][mask]\n",
    "yerr = merge['ks_tile_merr_ap_vista_ks'][mask]\n",
    "labels=(\"LSST Stack Ks [mag]\", \"VISTA Ks [mag]\")\n",
    "diff_label =  \"LSST Stack Ks - VISTA Ks [mag]\" # \"{} - {}\".format(y_label, x_label)\n",
    "savefig=True\n",
    "chi2_plots(x,y,xerr,yerr, labels,diff_label, savefig)"
   ]
  },
  {
   "cell_type": "code",
   "execution_count": null,
   "metadata": {},
   "outputs": [],
   "source": [
    "x = merge['m_ap_vista_y'][mask]\n",
    "y = merge['help_m_ap_vista_y'][mask]\n",
    "xerr = merge['merr_ap_vista_y'][mask]\n",
    "yerr = merge['help_merr_ap_vista_y'][mask]\n",
    "labels=(\"LSST Stack Y [mag]\", \"HELP Y [mag]\")\n",
    "diff_label =  \"LSST Stack Y - HELP Y [mag]\" # \"{} - {}\".format(y_label, x_label)\n",
    "savefig=True\n",
    "chi2_plots(x,y,xerr,yerr, labels,diff_label, savefig)"
   ]
  },
  {
   "cell_type": "code",
   "execution_count": null,
   "metadata": {},
   "outputs": [],
   "source": [
    "x = merge['m_ap_vista_y']\n",
    "y = merge['help_m_ap_vista_y']\n",
    "xerr = merge['merr_ap_vista_y']\n",
    "yerr = merge['help_merr_ap_vista_y']\n",
    "labels=(\"LSST Stack Y [mag]\", \"HELP Y [mag]\")\n",
    "diff_label =  \"LSST Stack Y - HELP Y [mag]\" # \"{} - {}\".format(y_label, x_label)\n",
    "savefig=True\n",
    "chi2_plots(x,y,xerr,yerr, labels,diff_label, savefig)"
   ]
  },
  {
   "cell_type": "code",
   "execution_count": null,
   "metadata": {},
   "outputs": [],
   "source": [
    "x = merge['m_ap_vista_y'][mask]\n",
    "y = merge['y_tile_m_ap_vista_y'][mask]\n",
    "xerr = merge['merr_ap_vista_y'][mask]\n",
    "yerr = merge['y_tile_merr_ap_vista_y'][mask]\n",
    "labels=(\"LSST Stack Y [mag]\", \"VISTA tile Y [mag]\")\n",
    "diff_label =  \"LSST Stack Y - VISTA tile Y [mag]\" # \"{} - {}\".format(y_label, x_label)\n",
    "savefig=True\n",
    "chi2_plots(x,y,xerr,yerr, labels,diff_label, savefig)"
   ]
  },
  {
   "cell_type": "code",
   "execution_count": null,
   "metadata": {},
   "outputs": [],
   "source": [
    "x = merge['m_ap_vista_y']\n",
    "y = merge['y_tile_m_ap_vista_y']\n",
    "xerr = merge['merr_ap_vista_y']\n",
    "yerr = merge['y_tile_merr_ap_vista_y']\n",
    "labels=(\"LSST Stack Y [mag]\", \"VISTA tile Y [mag]\")\n",
    "diff_label =  \"LSST Stack Y - VISTA tile Y [mag]\" # \"{} - {}\".format(y_label, x_label)\n",
    "savefig=True\n",
    "chi2_plots(x,y,xerr,yerr, labels,diff_label, savefig)"
   ]
  },
  {
   "cell_type": "code",
   "execution_count": null,
   "metadata": {},
   "outputs": [],
   "source": []
  },
  {
   "cell_type": "code",
   "execution_count": null,
   "metadata": {},
   "outputs": [],
   "source": []
  },
  {
   "cell_type": "code",
   "execution_count": null,
   "metadata": {},
   "outputs": [],
   "source": []
  }
 ],
 "metadata": {
  "kernelspec": {
   "display_name": "LSST",
   "language": "python",
   "name": "lsst"
  },
  "language_info": {
   "codemirror_mode": {
    "name": "ipython",
    "version": 3
   },
   "file_extension": ".py",
   "mimetype": "text/x-python",
   "name": "python",
   "nbconvert_exporter": "python",
   "pygments_lexer": "ipython3",
   "version": "3.7.6"
  }
 },
 "nbformat": 4,
 "nbformat_minor": 4
}
