{
 "cells": [
  {
   "cell_type": "markdown",
   "metadata": {},
   "source": [
    "# 3 Example field diagnostics\n",
    "\n",
    "In this notebook we will look at some of the results produced by the gen2 pipeline run in the small test region in SXDS. We will compare these to the tile catalogues as well as the public catalogues in HELP. We will also experiemnt with stitching patch catalogues together."
   ]
  },
  {
   "cell_type": "code",
   "execution_count": 1,
   "metadata": {},
   "outputs": [],
   "source": [
    "from astropy.io import fits\n",
    "from astropy.wcs import WCS\n",
    "from astropy.table import Table, vstack\n",
    "import astropy.units as u\n",
    "\n",
    "import os\n",
    "from collections import OrderedDict\n",
    "import yaml\n",
    "import glob\n",
    "import numpy as np\n",
    "\n",
    "from astropy import visualization as vz\n",
    "import matplotlib\n",
    "import matplotlib.gridspec as gridspec \n",
    "import matplotlib.pyplot as plt\n",
    "\n",
    "from lsst.geom import degrees\n",
    "import lsst.daf.persistence as dafPersist\n",
    "\n",
    "import warnings\n",
    "warnings.filterwarnings('ignore')"
   ]
  },
  {
   "cell_type": "code",
   "execution_count": 2,
   "metadata": {},
   "outputs": [],
   "source": [
    "OXFORD_VISTA_Ks_CAT = \"../../dmu3/data/XMMFULL_DR2_MASKVISTA_Ks_2.0as_IRAC2.8as_2020_06_01.fits\"\n",
    "\n",
    "\n",
    "\n",
    "VHS_CAT = '../../dmu0/dmu0_VISTA/dmu0_VHS/data/VHS_XMM-LSS.fits'\n",
    "\n",
    "\n",
    "MASS_CAT = \"../dmu0/dmu0_2MASS/data/fp_2mass.fp_psc_29182.tbl\"\n",
    "#VIDEO_CAT = \"../dmu0/dmu0_VISTA/dmu0_VIDEO/data/VIDEO-all_2017-02-12_fullcat_errfix_XMM-LSS.fits\"\n",
    "VIDEO_CAT = \"../dmu0/dmu0_VISTA/dmu0_VIDEO/data/VIDEO-all_2017-02-12_fullcat_errfix_v2_XMM-LSS.fits\"\n",
    "\n",
    "\n",
    "Z_TILE_CAT = \"../../dmu0/dmu0_VISTA/dmu0_VIDEO/data/20121021/v20121021_00293_st_tl_cat.fits\"\n",
    "Y_TILE_CAT = \"../../dmu0/dmu0_VISTA/dmu0_VIDEO/data/20171027/v20171027_00133_st_tl_cat.fits\"\n",
    "J_TILE_CAT = \"../../dmu0/dmu0_VISTA/dmu0_VIDEO/data/20121021/v20121021_00577_st_tl_cat.fits\"\n",
    "H_TILE_CAT = \"../../dmu0/dmu0_VISTA/dmu0_VIDEO/data/20120924/v20120924_00498_st_tl_cat.fits\"\n",
    "Ks_TILE_CAT = \"../../dmu0/dmu0_VISTA/dmu0_VIDEO/data/20121122/v20121122_00088_st_tl_cat.fits\""
   ]
  },
  {
   "cell_type": "code",
   "execution_count": 3,
   "metadata": {},
   "outputs": [],
   "source": [
    "vega_to_ab = {\n",
    "    \"z\":0.502,  #D2 in Fernandez-Gonzalez 2018\n",
    "    \"y\":0.600,  #D3\n",
    "    \"j\":0.916,  #D4\n",
    "    \"h\":1.366,  #D5\n",
    "    \"ks\":1.827, #D6\n",
    "    \"b118\":0.853\n",
    "}"
   ]
  },
  {
   "cell_type": "code",
   "execution_count": 4,
   "metadata": {},
   "outputs": [],
   "source": [
    "#BUTLER_LOC = './data'\n",
    "BUTLER_LOC = '/Volumes/Raph500/lsst-ir-fusion/dmu4/dmu4_Example/data'"
   ]
  },
  {
   "cell_type": "code",
   "execution_count": 5,
   "metadata": {},
   "outputs": [],
   "source": [
    "def flux_to_mag(fluxes, errors_on_fluxes=None):\n",
    "    \"\"\"Convert fluxes and errors to magnitudes\n",
    "    Given flux densities in Jy with associated errors, this function returns\n",
    "    the corresponding AB magnitudes en errors.\n",
    "    The magnitudes are computed with this formula:\n",
    "        M = 2.5 * (23 - log10(F)) - 48.6\n",
    "    and the errors on magnitudes with this one\n",
    "        M_err = 2.5/ln(10) * F_err / F\n",
    "    Parameters\n",
    "    ----------\n",
    "    fluxes: float or array-like of floats\n",
    "        The fluxes in Jy.\n",
    "    errors_on_fluxes: float or array-like of floats\n",
    "        The flux errors in Jy None if there are no errors.\n",
    "    Returns\n",
    "    -------\n",
    "    magnitudes: float or array-like of floats\n",
    "        The AB magnitudes.\n",
    "    errors: float or array-like of floats\n",
    "        The errors on AB magnitudes.\n",
    "    \"\"\"\n",
    "    fluxes = np.array(fluxes)\n",
    "    magnitudes = 2.5 * (23 - np.log10(fluxes)) - 48.6\n",
    "\n",
    "    if errors_on_fluxes is not None:\n",
    "        errors_on_fluxes = np.array(errors_on_fluxes)\n",
    "        errors = 2.5 / np.log(10) * errors_on_fluxes / fluxes\n",
    "    else:\n",
    "        errors = None\n",
    "\n",
    "    return magnitudes, errors"
   ]
  },
  {
   "cell_type": "markdown",
   "metadata": {},
   "source": [
    "It is not clear to me why no PSF candidates are usable from this. Perhaps I need to further tinker with the star selector config options."
   ]
  },
  {
   "cell_type": "markdown",
   "metadata": {},
   "source": [
    "## 3.1 Catalogs\n",
    "\n",
    "The first thing we need to do is combine all the catalogues and compare to the legacy VISTA photometry which will come from two sources.\n",
    "\n",
    "There are the final catalogues merged from individual tiles, secondly there are the tile catalogues themselves\n",
    "\n",
    "### 3.2.1 Tile catalogues\n",
    "\n",
    "From discussion with Carlos, magnitude should be calculated from these catalogues using:\n",
    "\n",
    "mag = header['MAZPT'] - 2.5 * log10(data['Aper_flux_3']/header['EXPTIME']) - header['APCOR3']\n",
    "\n",
    "These will be Vega like.\n",
    "\n",
    "To convert them to True Vega we use\n",
    "\n",
    "and to convert these true Vega magnitudes to AB we use:\n",
    "\n"
   ]
  },
  {
   "cell_type": "code",
   "execution_count": 6,
   "metadata": {},
   "outputs": [],
   "source": [
    "\n",
    "#Y  \n",
    "y_tile_cat = Table.read(Y_TILE_CAT)\n",
    "y_magzpt = fits.open(Y_TILE_CAT)[1].header['MAGZPT']\n",
    "y_exptime = fits.open(Y_TILE_CAT)[1].header['EXPTIME']\n",
    "y_apcor3 = fits.open(Y_TILE_CAT)[1].header['APCOR3']\n",
    "y_tile_cat['m_ap_vista_y'] = y_magzpt - 2.5 * np.log10(y_tile_cat['Aper_flux_3']/y_exptime) - y_apcor3\n",
    "y_tile_cat['merr_ap_vista_y'] = (2.5 / np.log(10))* (y_tile_cat['Aper_flux_3_err'] / y_tile_cat['Aper_flux_3'])\n",
    "#To true Vega?\n",
    "y_tile_cat['m_ap_vista_y'] = y_tile_cat['m_ap_vista_y'] + 0.05\n",
    "#To AB\n",
    "y_tile_cat['m_ap_vista_y'] = y_tile_cat['m_ap_vista_y'] + vega_to_ab['y']\n",
    "y_tile_cat = y_tile_cat['RA', 'DEC','m_ap_vista_y', 'merr_ap_vista_y', 'Classification']\n",
    "for c in y_tile_cat.colnames:\n",
    "    y_tile_cat[c].name = 'y_tile_' + c\n",
    "y_tile_cat['y_tile_RA'].unit = u.rad\n",
    "y_tile_cat['y_tile_DEC'].unit = u.rad\n",
    "\n",
    "#J\n",
    "j_tile_cat = Table.read(J_TILE_CAT)\n",
    "j_magzpt = fits.open(J_TILE_CAT)[1].header['MAGZPT']\n",
    "j_exptime = fits.open(J_TILE_CAT)[1].header['EXPTIME']\n",
    "j_apcor3 = fits.open(J_TILE_CAT)[1].header['APCOR3']\n",
    "j_tile_cat['m_ap_vista_j'] = j_magzpt - 2.5 * np.log10(j_tile_cat['Aper_flux_3']/j_exptime) - j_apcor3\n",
    "j_tile_cat['merr_ap_vista_j'] = (2.5 / np.log(10))* (j_tile_cat['Aper_flux_3_err'] / j_tile_cat['Aper_flux_3'])\n",
    "#To true Vega?\n",
    "j_tile_cat['m_ap_vista_y'] = j_tile_cat['m_ap_vista_j'] + 0.05\n",
    "#To AB\n",
    "j_tile_cat['m_ap_vista_j'] = j_tile_cat['m_ap_vista_j'] + vega_to_ab['j']\n",
    "j_tile_cat = j_tile_cat['RA', 'DEC','m_ap_vista_j', 'merr_ap_vista_j', 'Classification']\n",
    "for c in j_tile_cat.colnames:\n",
    "    j_tile_cat[c].name = 'j_tile_' + c\n",
    "j_tile_cat['j_tile_RA'].unit = u.rad\n",
    "j_tile_cat['j_tile_DEC'].unit = u.rad\n",
    "\n",
    "#H\n",
    "h_tile_cat = Table.read(H_TILE_CAT)\n",
    "h_magzpt = fits.open(H_TILE_CAT)[1].header['MAGZPT']\n",
    "h_exptime = fits.open(H_TILE_CAT)[1].header['EXPTIME']\n",
    "h_apcor3 = fits.open(H_TILE_CAT)[1].header['APCOR3']\n",
    "h_tile_cat['m_ap_vista_h'] = y_magzpt - 2.5 * np.log10(h_tile_cat['Aper_flux_3']/h_exptime) - h_apcor3\n",
    "h_tile_cat['merr_ap_vista_h'] = (2.5 / np.log(10))* (h_tile_cat['Aper_flux_3_err'] / h_tile_cat['Aper_flux_3'])\n",
    "#To true Vega?\n",
    "h_tile_cat['m_ap_vista_h'] = h_tile_cat['m_ap_vista_h'] + 0.05\n",
    "#To AB\n",
    "h_tile_cat['m_ap_vista_h'] = h_tile_cat['m_ap_vista_h'] + vega_to_ab['h']\n",
    "h_tile_cat = h_tile_cat['RA', 'DEC','m_ap_vista_h', 'merr_ap_vista_h', 'Classification']\n",
    "for c in h_tile_cat.colnames:\n",
    "    h_tile_cat[c].name = 'h_tile_' + c\n",
    "h_tile_cat['h_tile_RA'].unit = u.rad\n",
    "h_tile_cat['h_tile_DEC'].unit = u.rad\n",
    "\n",
    "\n",
    "ks_tile_cat = Table.read(Ks_TILE_CAT)\n",
    "ks_magzpt = fits.open(Ks_TILE_CAT)[1].header['MAGZPT']\n",
    "ks_exptime = fits.open(Ks_TILE_CAT)[1].header['EXPTIME']\n",
    "ks_apcor3 = fits.open(Ks_TILE_CAT)[1].header['APCOR3']\n",
    "ks_tile_cat['m_ap_vista_ks'] = ks_magzpt - 2.5 * np.log10(ks_tile_cat['Aper_flux_3']/ks_exptime) - ks_apcor3\n",
    "#To true Vega\n",
    "ks_tile_cat['m_ap_vista_ks'] = ks_tile_cat['m_ap_vista_ks'] + 0.05 #Where does Carlos get this figure from?\n",
    "#To AB\n",
    "ks_tile_cat['m_ap_vista_ks'] = ks_tile_cat['m_ap_vista_ks'] + vega_to_ab['ks']\n",
    "ks_tile_cat['merr_ap_vista_ks'] = (2.5 / np.log(10))* (ks_tile_cat['Aper_flux_3_err'] / ks_tile_cat['Aper_flux_3'])\n",
    "ks_tile_cat = ks_tile_cat['RA', 'DEC','m_ap_vista_ks', 'merr_ap_vista_ks', 'Classification']\n",
    "for c in ks_tile_cat.colnames:\n",
    "    ks_tile_cat[c].name = 'ks_tile_' + c\n",
    "ks_tile_cat['ks_tile_RA'].unit = u.rad\n",
    "ks_tile_cat['ks_tile_DEC'].unit = u.rad"
   ]
  },
  {
   "cell_type": "code",
   "execution_count": null,
   "metadata": {},
   "outputs": [],
   "source": []
  },
  {
   "cell_type": "code",
   "execution_count": 7,
   "metadata": {},
   "outputs": [
    {
     "data": {
      "text/html": [
       "<i>Table length=10</i>\n",
       "<table id=\"table4759258064-195291\" class=\"table-striped table-bordered table-condensed\">\n",
       "<thead><tr><th>idx</th><th>y_tile_RA</th><th>y_tile_DEC</th><th>y_tile_m_ap_vista_y</th><th>y_tile_merr_ap_vista_y</th><th>y_tile_Classification</th></tr></thead>\n",
       "<thead><tr><th></th><th>rad</th><th>rad</th><th>ADU</th><th>ADU</th><th>Flag</th></tr></thead>\n",
       "<tr><td>0</td><td>0.62173504</td><td>-0.071107306</td><td>20.864702</td><td>0.0547681</td><td>1.0</td></tr>\n",
       "<tr><td>1</td><td>0.6217615</td><td>-0.07111136</td><td>21.992483</td><td>0.14397658</td><td>-1.0</td></tr>\n",
       "<tr><td>2</td><td>0.62168986</td><td>-0.07110744</td><td>19.316147</td><td>0.01693963</td><td>1.0</td></tr>\n",
       "<tr><td>3</td><td>0.62269235</td><td>-0.07110706</td><td>17.551926</td><td>0.0059019327</td><td>-1.0</td></tr>\n",
       "<tr><td>4</td><td>0.62173235</td><td>-0.07111804</td><td>21.549648</td><td>0.09779827</td><td>1.0</td></tr>\n",
       "<tr><td>5</td><td>0.62150955</td><td>-0.0711202</td><td>21.531593</td><td>0.0964296</td><td>1.0</td></tr>\n",
       "<tr><td>6</td><td>0.62173307</td><td>-0.07112443</td><td>21.925097</td><td>0.1359297</td><td>1.0</td></tr>\n",
       "<tr><td>7</td><td>0.6232033</td><td>-0.07111129</td><td>20.067024</td><td>0.029083217</td><td>1.0</td></tr>\n",
       "<tr><td>8</td><td>0.6232228</td><td>-0.07111646</td><td>20.659815</td><td>0.04641097</td><td>1.0</td></tr>\n",
       "<tr><td>9</td><td>0.62227064</td><td>-0.07112526</td><td>22.451168</td><td>0.21678784</td><td>-1.0</td></tr>\n",
       "</table><style>table.dataTable {clear: both; width: auto !important; margin: 0 !important;}\n",
       ".dataTables_info, .dataTables_length, .dataTables_filter, .dataTables_paginate{\n",
       "display: inline-block; margin-right: 1em; }\n",
       ".paginate_button { margin-right: 5px; }\n",
       "</style>\n",
       "<script>\n",
       "\n",
       "var astropy_sort_num = function(a, b) {\n",
       "    var a_num = parseFloat(a);\n",
       "    var b_num = parseFloat(b);\n",
       "\n",
       "    if (isNaN(a_num) && isNaN(b_num))\n",
       "        return ((a < b) ? -1 : ((a > b) ? 1 : 0));\n",
       "    else if (!isNaN(a_num) && !isNaN(b_num))\n",
       "        return ((a_num < b_num) ? -1 : ((a_num > b_num) ? 1 : 0));\n",
       "    else\n",
       "        return isNaN(a_num) ? -1 : 1;\n",
       "}\n",
       "\n",
       "require.config({paths: {\n",
       "    datatables: 'https://cdn.datatables.net/1.10.12/js/jquery.dataTables.min'\n",
       "}});\n",
       "require([\"datatables\"], function(){\n",
       "    console.log(\"$('#table4759258064-195291').dataTable()\");\n",
       "    \n",
       "jQuery.extend( jQuery.fn.dataTableExt.oSort, {\n",
       "    \"optionalnum-asc\": astropy_sort_num,\n",
       "    \"optionalnum-desc\": function (a,b) { return -astropy_sort_num(a, b); }\n",
       "});\n",
       "\n",
       "    $('#table4759258064-195291').dataTable({\n",
       "        order: [],\n",
       "        pageLength: 50,\n",
       "        lengthMenu: [[10, 25, 50, 100, 500, 1000, -1], [10, 25, 50, 100, 500, 1000, 'All']],\n",
       "        pagingType: \"full_numbers\",\n",
       "        columnDefs: [{targets: [0, 1, 2, 3, 4, 5], type: \"optionalnum\"}]\n",
       "    });\n",
       "});\n",
       "</script>\n"
      ],
      "text/plain": [
       "<IPython.core.display.HTML object>"
      ]
     },
     "execution_count": 7,
     "metadata": {},
     "output_type": "execute_result"
    }
   ],
   "source": [
    "y_tile_cat[:10].show_in_notebook()"
   ]
  },
  {
   "cell_type": "code",
   "execution_count": 8,
   "metadata": {},
   "outputs": [
    {
     "name": "stdout",
     "output_type": "stream",
     "text": [
      "34.9151496887207 deg < ra < 36.12907028198242 deg, -5.5572710037231445 deg < dec < -4.074134349822998 deg\n"
     ]
    }
   ],
   "source": [
    "ra_min = np.min(y_tile_cat['y_tile_RA'].to(u.deg))\n",
    "ra_max = np.max(y_tile_cat['y_tile_RA'].to(u.deg))\n",
    "dec_min = np.min(y_tile_cat['y_tile_DEC'].to(u.deg))\n",
    "dec_max = np.max(y_tile_cat['y_tile_DEC'].to(u.deg))\n",
    "print(\"{} < ra < {}, {} < dec < {}\".format(\n",
    "    ra_min,\n",
    "ra_max,\n",
    "dec_min,\n",
    "dec_max\n",
    "))"
   ]
  },
  {
   "cell_type": "code",
   "execution_count": 9,
   "metadata": {},
   "outputs": [
    {
     "data": {
      "image/png": "[encoded data removed]",
      "text/plain": [
       "<Figure size 432x288 with 1 Axes>"
      ]
     },
     "metadata": {
      "needs_background": "light"
     },
     "output_type": "display_data"
    }
   ],
   "source": [
    "plt.hist(y_tile_cat['y_tile_m_ap_vista_y'], bins=100)\n",
    "plt.yscale('log')"
   ]
  },
  {
   "cell_type": "code",
   "execution_count": 10,
   "metadata": {},
   "outputs": [
    {
     "data": {
      "image/png": "[encoded data removed]",
      "text/plain": [
       "<Figure size 432x288 with 1 Axes>"
      ]
     },
     "metadata": {
      "needs_background": "light"
     },
     "output_type": "display_data"
    }
   ],
   "source": [
    "plt.hist(ks_tile_cat['ks_tile_m_ap_vista_ks'], bins=100)\n",
    "plt.yscale('log')"
   ]
  },
  {
   "cell_type": "markdown",
   "metadata": {},
   "source": [
    "### 3.2.2 HELP catalogues\n",
    "\n",
    "These are the official final catalogues and could be a useful second check"
   ]
  },
  {
   "cell_type": "code",
   "execution_count": 11,
   "metadata": {},
   "outputs": [
    {
     "name": "stdout",
     "output_type": "stream",
     "text": [
      "HELP catalogues already AB\n",
      "HELP catalogues already AB\n",
      "HELP catalogues already AB\n",
      "HELP catalogues already AB\n"
     ]
    }
   ],
   "source": [
    "imported_columns = OrderedDict({\n",
    "        'ID':              'video_id', \n",
    "        'ALPHA_J2000':     'ra', \n",
    "        'DELTA_J2000':     'dec', \n",
    "        'J_CLASS_STAR':    'vista_stellarity', \n",
    "        'Y_MAG_APER_3':    'm_ap_vista_y', \n",
    "        'Y_MAGERR_APER_3': 'merr_ap_vista_y', \n",
    "        'Y_MAG_AUTO':      'm_vista_y', \n",
    "        'Y_MAGERR_AUTO':   'merr_vista_y',\n",
    "        'Y_FLUX_APER_3':   'f_ap_vista_y', \n",
    "        'Y_FLUXERR_APER_3':'ferr_ap_vista_y', \n",
    "        'Y_FLUX_AUTO':     'f_vista_y', \n",
    "        'Y_FLUXERR_AUTO':  'ferr_vista_y',\n",
    "  \n",
    "        'K_MAG_APER_3':    'm_ap_vista_ks', \n",
    "        'K_MAGERR_APER_3': 'merr_ap_vista_ks', \n",
    "        'K_MAG_AUTO':      'm_vista_ks', \n",
    "        'K_MAGERR_AUTO':   'merr_vista_ks',\n",
    "\n",
    "})\n",
    "\n",
    "\n",
    "help_cat = Table.read(\"../../dmu0/dmu0_VISTA/dmu0_VIDEO/data/VIDEO-all_2017-02-12_fullcat_errfix_XMM-LSS.fits\"\n",
    "                      )[list(imported_columns)]\n",
    "for column in imported_columns:\n",
    "    help_cat[column].name = 'help_' + imported_columns[column]\n",
    "help_cat['help_ra'].unit = u.deg\n",
    "help_cat['help_dec'].unit = u.deg\n",
    "help_cat['help_ra'].convert_unit_to(u.rad)\n",
    "help_cat['help_dec'].convert_unit_to(u.rad)\n",
    "\n",
    "\n",
    "m = (help_cat['help_m_ap_vista_ks'] > 30) | (help_cat['help_m_ap_vista_y'] > 30) \n",
    "help_cat['help_m_ap_vista_ks'][m] = np.nan\n",
    "help_cat['help_merr_ap_vista_ks'][m] = np.nan\n",
    "help_cat['help_m_ap_vista_y'][m] = np.nan\n",
    "help_cat['help_merr_ap_vista_y'][m] = np.nan\n",
    "\n",
    "\n",
    "\n",
    "# Coverting from Vega to AB and adding flux and band-flag columns\n",
    "for col in help_cat.colnames:\n",
    "    if col.startswith('help_m_'):\n",
    "        pass\n",
    "        print('HELP catalogues already AB')\n",
    "        # Convert magnitude from Vega to AB\n",
    "        #print(col, vega_to_ab[col.split('_')[-1]])\n",
    "        #help_cat[col] += vega_to_ab[col.split('_')[-1]]"
   ]
  },
  {
   "cell_type": "code",
   "execution_count": null,
   "metadata": {},
   "outputs": [],
   "source": []
  },
  {
   "cell_type": "code",
   "execution_count": 12,
   "metadata": {},
   "outputs": [
    {
     "data": {
      "text/html": [
       "<i>Table length=5</i>\n",
       "<table id=\"table4964451216\" class=\"table-striped table-bordered table-condensed\">\n",
       "<thead><tr><th>help_video_id</th><th>help_ra</th><th>help_dec</th><th>help_vista_stellarity</th><th>help_m_ap_vista_y</th><th>help_merr_ap_vista_y</th><th>help_m_vista_y</th><th>help_merr_vista_y</th><th>help_f_ap_vista_y</th><th>help_ferr_ap_vista_y</th><th>help_f_vista_y</th><th>help_ferr_vista_y</th><th>help_m_ap_vista_ks</th><th>help_merr_ap_vista_ks</th><th>help_m_vista_ks</th><th>help_merr_vista_ks</th></tr></thead>\n",
       "<thead><tr><th></th><th>rad</th><th>rad</th><th></th><th></th><th></th><th></th><th></th><th></th><th></th><th></th><th></th><th></th><th></th><th></th><th></th></tr></thead>\n",
       "<thead><tr><th>int32</th><th>float64</th><th>float64</th><th>float32</th><th>float32</th><th>float32</th><th>float32</th><th>float32</th><th>float32</th><th>float32</th><th>float32</th><th>float32</th><th>float32</th><th>float32</th><th>float32</th><th>float32</th></tr></thead>\n",
       "<tr><td>1000124</td><td>0.6109949338269032</td><td>-0.09841418573757674</td><td>0.98387843</td><td>15.945474</td><td>0.0024632358</td><td>15.7855625</td><td>0.0022783028</td><td>418610.88</td><td>949.74414</td><td>485036.97</td><td>1017.83276</td><td>16.616796</td><td>0.0038551907</td><td>16.440605</td><td>0.0051657828</td></tr>\n",
       "<tr><td>1000161</td><td>0.6115917390309623</td><td>-0.09840284833585741</td><td>0.9723697</td><td>20.836834</td><td>0.07100732</td><td>20.754694</td><td>0.07123678</td><td>4626.648</td><td>302.5936</td><td>4990.2534</td><td>327.42892</td><td>19.780859</td><td>0.07967954</td><td>19.591816</td><td>0.07914063</td></tr>\n",
       "<tr><td>1000219</td><td>0.6104245695192316</td><td>-0.09838881054808948</td><td>0.6796333</td><td>21.232557</td><td>0.10035155</td><td>21.626944</td><td>0.08336507</td><td>3213.489</td><td>297.02365</td><td>2234.7163</td><td>171.59186</td><td>20.036196</td><td>0.12350449</td><td>20.59918</td><td>0.11401071</td></tr>\n",
       "<tr><td>1000221</td><td>0.61067097858228</td><td>-0.09838926246072992</td><td>0.9489846</td><td>21.816244</td><td>0.06658827</td><td>21.830427</td><td>0.080890544</td><td>1877.1649</td><td>115.13048</td><td>1852.801</td><td>138.04373</td><td>20.676748</td><td>0.07030923</td><td>20.688236</td><td>0.08343189</td></tr>\n",
       "<tr><td>1000248</td><td>0.6105856935931302</td><td>-0.09838379530687634</td><td>0.9825532</td><td>20.370193</td><td>0.01586394</td><td>20.27465</td><td>0.023888657</td><td>7110.8687</td><td>103.90199</td><td>7764.9756</td><td>170.85274</td><td>19.830872</td><td>0.02919323</td><td>19.592062</td><td>0.038965967</td></tr>\n",
       "</table>"
      ],
      "text/plain": [
       "<Table length=5>\n",
       "help_video_id      help_ra       ... help_m_vista_ks help_merr_vista_ks\n",
       "                     rad         ...                                   \n",
       "    int32          float64       ...     float32          float32      \n",
       "------------- ------------------ ... --------------- ------------------\n",
       "      1000124 0.6109949338269032 ...       16.440605       0.0051657828\n",
       "      1000161 0.6115917390309623 ...       19.591816         0.07914063\n",
       "      1000219 0.6104245695192316 ...        20.59918         0.11401071\n",
       "      1000221   0.61067097858228 ...       20.688236         0.08343189\n",
       "      1000248 0.6105856935931302 ...       19.592062        0.038965967"
      ]
     },
     "execution_count": 12,
     "metadata": {},
     "output_type": "execute_result"
    }
   ],
   "source": [
    "help_cat[:5]"
   ]
  },
  {
   "cell_type": "code",
   "execution_count": 13,
   "metadata": {},
   "outputs": [
    {
     "data": {
      "image/png": "[encoded data removed]",
      "text/plain": [
       "<Figure size 432x288 with 1 Axes>"
      ]
     },
     "metadata": {
      "needs_background": "light"
     },
     "output_type": "display_data"
    }
   ],
   "source": [
    "plt.hist(help_cat['help_m_ap_vista_y'], bins=100)\n",
    "plt.yscale('log')"
   ]
  },
  {
   "cell_type": "markdown",
   "metadata": {},
   "source": [
    "### 3.2.3 The LSST stack catalogues\n",
    "\n",
    "These must be combined from the individual patch files. I think this can be done by id which should be consistent between patches\n",
    "\n",
    "Boundaries are managed by the in inner regions flags. Shoudl we be doing this with the Butler or directly with the fits files?"
   ]
  },
  {
   "cell_type": "code",
   "execution_count": 14,
   "metadata": {},
   "outputs": [],
   "source": [
    "import lsst.daf.persistence as dafPersist\n",
    "butler = dafPersist.Butler(inputs='{}/rerun/coaddForcedPhot'.format(BUTLER_LOC))"
   ]
  },
  {
   "cell_type": "code",
   "execution_count": 15,
   "metadata": {},
   "outputs": [
    {
     "data": {
      "text/plain": [
       "'/Volumes/Raph500/lsst-ir-fusion/dmu4/dmu4_Example/data/rerun/coaddForcedPhot/deepCoadd-results/VISTA-Ks/8524/*/forcedSrc*.fits'"
      ]
     },
     "execution_count": 15,
     "metadata": {},
     "output_type": "execute_result"
    }
   ],
   "source": [
    "'{}/rerun/coaddForcedPhot/deepCoadd-results/VISTA-Ks/8524/*/forcedSrc*.fits'.format(BUTLER_LOC)"
   ]
  },
  {
   "cell_type": "code",
   "execution_count": 16,
   "metadata": {},
   "outputs": [],
   "source": [
    "ks_stack_files = glob.glob(\n",
    "    '{}/rerun/coaddForcedPhot/deepCoadd-results/VISTA-Ks/8524/*/forcedSrc*.fits'.format(BUTLER_LOC)\n",
    ")\n",
    "y_stack_files = glob.glob(\n",
    "    '{}/rerun/coaddForcedPhot/deepCoadd-results/VISTA-Y/8524/*/forcedSrc*.fits'.format(BUTLER_LOC)\n",
    ")"
   ]
  },
  {
   "cell_type": "code",
   "execution_count": 17,
   "metadata": {},
   "outputs": [
    {
     "data": {
      "text/plain": [
       "['/Volumes/Raph500/lsst-ir-fusion/dmu4/dmu4_Example/data/rerun/coaddForcedPhot/deepCoadd-results/VISTA-Y/8524/3,3/forcedSrc-VISTA-Y-8524-3,3.fits',\n",
       " '/Volumes/Raph500/lsst-ir-fusion/dmu4/dmu4_Example/data/rerun/coaddForcedPhot/deepCoadd-results/VISTA-Y/8524/4,3/forcedSrc-VISTA-Y-8524-4,3.fits',\n",
       " '/Volumes/Raph500/lsst-ir-fusion/dmu4/dmu4_Example/data/rerun/coaddForcedPhot/deepCoadd-results/VISTA-Y/8524/5,3/forcedSrc-VISTA-Y-8524-5,3.fits',\n",
       " '/Volumes/Raph500/lsst-ir-fusion/dmu4/dmu4_Example/data/rerun/coaddForcedPhot/deepCoadd-results/VISTA-Y/8524/3,4/forcedSrc-VISTA-Y-8524-3,4.fits',\n",
       " '/Volumes/Raph500/lsst-ir-fusion/dmu4/dmu4_Example/data/rerun/coaddForcedPhot/deepCoadd-results/VISTA-Y/8524/4,4/forcedSrc-VISTA-Y-8524-4,4.fits',\n",
       " '/Volumes/Raph500/lsst-ir-fusion/dmu4/dmu4_Example/data/rerun/coaddForcedPhot/deepCoadd-results/VISTA-Y/8524/5,4/forcedSrc-VISTA-Y-8524-5,4.fits',\n",
       " '/Volumes/Raph500/lsst-ir-fusion/dmu4/dmu4_Example/data/rerun/coaddForcedPhot/deepCoadd-results/VISTA-Y/8524/3,5/forcedSrc-VISTA-Y-8524-3,5.fits',\n",
       " '/Volumes/Raph500/lsst-ir-fusion/dmu4/dmu4_Example/data/rerun/coaddForcedPhot/deepCoadd-results/VISTA-Y/8524/4,5/forcedSrc-VISTA-Y-8524-4,5.fits',\n",
       " '/Volumes/Raph500/lsst-ir-fusion/dmu4/dmu4_Example/data/rerun/coaddForcedPhot/deepCoadd-results/VISTA-Y/8524/5,5/forcedSrc-VISTA-Y-8524-5,5.fits']"
      ]
     },
     "execution_count": 17,
     "metadata": {},
     "output_type": "execute_result"
    }
   ],
   "source": [
    "y_stack_files"
   ]
  },
  {
   "cell_type": "code",
   "execution_count": 18,
   "metadata": {},
   "outputs": [
    {
     "data": {
      "text/plain": [
       "['/Volumes/Raph500/lsst-ir-fusion/dmu4/dmu4_Example/data/rerun/coaddForcedPhot/deepCoadd-results/VISTA-Y/8524/3,5/forcedSrc-VISTA-Y-8524-3,5.fits']"
      ]
     },
     "execution_count": 18,
     "metadata": {},
     "output_type": "execute_result"
    }
   ],
   "source": [
    "y_stack_files[6:7]"
   ]
  },
  {
   "cell_type": "code",
   "execution_count": 19,
   "metadata": {},
   "outputs": [
    {
     "name": "stdout",
     "output_type": "stream",
     "text": [
      "3,3\n",
      "DEBUG:  /Volumes/Raph500/lsst-ir-fusion/dmu4/dmu4_Example/data/rerun/coaddForcedPhot/deepCoadd-results/VISTA-Y/8524/3,3/forcedSrc-VISTA-Y-8524-3,3.fits\n",
      "DEBUG:  /Volumes/Raph500/lsst-ir-fusion/dmu4/dmu4_Example/data/rerun/coaddForcedPhot/deepCoadd-results/VISTA-J/8524/3,3/forcedSrc-VISTA-J-8524-3,3.fits\n",
      "DEBUG:  /Volumes/Raph500/lsst-ir-fusion/dmu4/dmu4_Example/data/rerun/coaddForcedPhot/deepCoadd-results/VISTA-H/8524/3,3/forcedSrc-VISTA-H-8524-3,3.fits\n",
      "DEBUG:  /Volumes/Raph500/lsst-ir-fusion/dmu4/dmu4_Example/data/rerun/coaddForcedPhot/deepCoadd-results/VISTA-Ks/8524/3,3/forcedSrc-VISTA-Ks-8524-3,3.fits\n",
      "DEBUG:  /Volumes/Raph500/lsst-ir-fusion/dmu4/dmu4_Example/data/rerun/coaddPhot/deepCoadd-results/VISTA-Y/8524/3,3/meas-VISTA-Y-8524-3,3.fits\n",
      "DEBUG:  /Volumes/Raph500/lsst-ir-fusion/dmu4/dmu4_Example/data/rerun/coaddPhot/deepCoadd-results/VISTA-J/8524/3,3/meas-VISTA-J-8524-3,3.fits\n",
      "DEBUG:  /Volumes/Raph500/lsst-ir-fusion/dmu4/dmu4_Example/data/rerun/coaddPhot/deepCoadd-results/VISTA-H/8524/3,3/meas-VISTA-H-8524-3,3.fits\n",
      "DEBUG:  /Volumes/Raph500/lsst-ir-fusion/dmu4/dmu4_Example/data/rerun/coaddPhot/deepCoadd-results/VISTA-Ks/8524/3,3/meas-VISTA-Ks-8524-3,3.fits\n",
      "DEBUG:  /Volumes/Raph500/lsst-ir-fusion/dmu4/dmu4_Example/data/rerun/coaddPhot/deepCoadd-results/merged/8524/3,3/ref-8524-3,3.fits\n",
      "4,3\n",
      "DEBUG:  /Volumes/Raph500/lsst-ir-fusion/dmu4/dmu4_Example/data/rerun/coaddForcedPhot/deepCoadd-results/VISTA-Y/8524/4,3/forcedSrc-VISTA-Y-8524-4,3.fits\n",
      "DEBUG:  /Volumes/Raph500/lsst-ir-fusion/dmu4/dmu4_Example/data/rerun/coaddForcedPhot/deepCoadd-results/VISTA-J/8524/4,3/forcedSrc-VISTA-J-8524-4,3.fits\n",
      "DEBUG:  /Volumes/Raph500/lsst-ir-fusion/dmu4/dmu4_Example/data/rerun/coaddForcedPhot/deepCoadd-results/VISTA-H/8524/4,3/forcedSrc-VISTA-H-8524-4,3.fits\n",
      "DEBUG:  /Volumes/Raph500/lsst-ir-fusion/dmu4/dmu4_Example/data/rerun/coaddForcedPhot/deepCoadd-results/VISTA-Ks/8524/4,3/forcedSrc-VISTA-Ks-8524-4,3.fits\n",
      "DEBUG:  /Volumes/Raph500/lsst-ir-fusion/dmu4/dmu4_Example/data/rerun/coaddPhot/deepCoadd-results/VISTA-Y/8524/4,3/meas-VISTA-Y-8524-4,3.fits\n",
      "DEBUG:  /Volumes/Raph500/lsst-ir-fusion/dmu4/dmu4_Example/data/rerun/coaddPhot/deepCoadd-results/VISTA-J/8524/4,3/meas-VISTA-J-8524-4,3.fits\n",
      "DEBUG:  /Volumes/Raph500/lsst-ir-fusion/dmu4/dmu4_Example/data/rerun/coaddPhot/deepCoadd-results/VISTA-H/8524/4,3/meas-VISTA-H-8524-4,3.fits\n",
      "DEBUG:  /Volumes/Raph500/lsst-ir-fusion/dmu4/dmu4_Example/data/rerun/coaddPhot/deepCoadd-results/VISTA-Ks/8524/4,3/meas-VISTA-Ks-8524-4,3.fits\n",
      "DEBUG:  /Volumes/Raph500/lsst-ir-fusion/dmu4/dmu4_Example/data/rerun/coaddPhot/deepCoadd-results/merged/8524/4,3/ref-8524-4,3.fits\n",
      "5,3\n",
      "DEBUG:  /Volumes/Raph500/lsst-ir-fusion/dmu4/dmu4_Example/data/rerun/coaddForcedPhot/deepCoadd-results/VISTA-Y/8524/5,3/forcedSrc-VISTA-Y-8524-5,3.fits\n",
      "DEBUG:  /Volumes/Raph500/lsst-ir-fusion/dmu4/dmu4_Example/data/rerun/coaddForcedPhot/deepCoadd-results/VISTA-J/8524/5,3/forcedSrc-VISTA-J-8524-5,3.fits\n",
      "DEBUG:  /Volumes/Raph500/lsst-ir-fusion/dmu4/dmu4_Example/data/rerun/coaddForcedPhot/deepCoadd-results/VISTA-H/8524/5,3/forcedSrc-VISTA-H-8524-5,3.fits\n",
      "DEBUG:  /Volumes/Raph500/lsst-ir-fusion/dmu4/dmu4_Example/data/rerun/coaddForcedPhot/deepCoadd-results/VISTA-Ks/8524/5,3/forcedSrc-VISTA-Ks-8524-5,3.fits\n",
      "DEBUG:  /Volumes/Raph500/lsst-ir-fusion/dmu4/dmu4_Example/data/rerun/coaddPhot/deepCoadd-results/VISTA-Y/8524/5,3/meas-VISTA-Y-8524-5,3.fits\n",
      "DEBUG:  /Volumes/Raph500/lsst-ir-fusion/dmu4/dmu4_Example/data/rerun/coaddPhot/deepCoadd-results/VISTA-J/8524/5,3/meas-VISTA-J-8524-5,3.fits\n",
      "DEBUG:  /Volumes/Raph500/lsst-ir-fusion/dmu4/dmu4_Example/data/rerun/coaddPhot/deepCoadd-results/VISTA-H/8524/5,3/meas-VISTA-H-8524-5,3.fits\n",
      "DEBUG:  /Volumes/Raph500/lsst-ir-fusion/dmu4/dmu4_Example/data/rerun/coaddPhot/deepCoadd-results/VISTA-Ks/8524/5,3/meas-VISTA-Ks-8524-5,3.fits\n",
      "DEBUG:  /Volumes/Raph500/lsst-ir-fusion/dmu4/dmu4_Example/data/rerun/coaddPhot/deepCoadd-results/merged/8524/5,3/ref-8524-5,3.fits\n",
      "3,4\n",
      "DEBUG:  /Volumes/Raph500/lsst-ir-fusion/dmu4/dmu4_Example/data/rerun/coaddForcedPhot/deepCoadd-results/VISTA-Y/8524/3,4/forcedSrc-VISTA-Y-8524-3,4.fits\n",
      "DEBUG:  /Volumes/Raph500/lsst-ir-fusion/dmu4/dmu4_Example/data/rerun/coaddForcedPhot/deepCoadd-results/VISTA-J/8524/3,4/forcedSrc-VISTA-J-8524-3,4.fits\n",
      "DEBUG:  /Volumes/Raph500/lsst-ir-fusion/dmu4/dmu4_Example/data/rerun/coaddForcedPhot/deepCoadd-results/VISTA-H/8524/3,4/forcedSrc-VISTA-H-8524-3,4.fits\n",
      "DEBUG:  /Volumes/Raph500/lsst-ir-fusion/dmu4/dmu4_Example/data/rerun/coaddForcedPhot/deepCoadd-results/VISTA-Ks/8524/3,4/forcedSrc-VISTA-Ks-8524-3,4.fits\n",
      "DEBUG:  /Volumes/Raph500/lsst-ir-fusion/dmu4/dmu4_Example/data/rerun/coaddPhot/deepCoadd-results/VISTA-Y/8524/3,4/meas-VISTA-Y-8524-3,4.fits\n",
      "DEBUG:  /Volumes/Raph500/lsst-ir-fusion/dmu4/dmu4_Example/data/rerun/coaddPhot/deepCoadd-results/VISTA-J/8524/3,4/meas-VISTA-J-8524-3,4.fits\n",
      "DEBUG:  /Volumes/Raph500/lsst-ir-fusion/dmu4/dmu4_Example/data/rerun/coaddPhot/deepCoadd-results/VISTA-H/8524/3,4/meas-VISTA-H-8524-3,4.fits\n",
      "DEBUG:  /Volumes/Raph500/lsst-ir-fusion/dmu4/dmu4_Example/data/rerun/coaddPhot/deepCoadd-results/VISTA-Ks/8524/3,4/meas-VISTA-Ks-8524-3,4.fits\n",
      "DEBUG:  /Volumes/Raph500/lsst-ir-fusion/dmu4/dmu4_Example/data/rerun/coaddPhot/deepCoadd-results/merged/8524/3,4/ref-8524-3,4.fits\n",
      "4,4\n",
      "DEBUG:  /Volumes/Raph500/lsst-ir-fusion/dmu4/dmu4_Example/data/rerun/coaddForcedPhot/deepCoadd-results/VISTA-Y/8524/4,4/forcedSrc-VISTA-Y-8524-4,4.fits\n",
      "DEBUG:  /Volumes/Raph500/lsst-ir-fusion/dmu4/dmu4_Example/data/rerun/coaddForcedPhot/deepCoadd-results/VISTA-J/8524/4,4/forcedSrc-VISTA-J-8524-4,4.fits\n",
      "DEBUG:  /Volumes/Raph500/lsst-ir-fusion/dmu4/dmu4_Example/data/rerun/coaddForcedPhot/deepCoadd-results/VISTA-H/8524/4,4/forcedSrc-VISTA-H-8524-4,4.fits\n",
      "DEBUG:  /Volumes/Raph500/lsst-ir-fusion/dmu4/dmu4_Example/data/rerun/coaddForcedPhot/deepCoadd-results/VISTA-Ks/8524/4,4/forcedSrc-VISTA-Ks-8524-4,4.fits\n",
      "DEBUG:  /Volumes/Raph500/lsst-ir-fusion/dmu4/dmu4_Example/data/rerun/coaddPhot/deepCoadd-results/VISTA-Y/8524/4,4/meas-VISTA-Y-8524-4,4.fits\n",
      "DEBUG:  /Volumes/Raph500/lsst-ir-fusion/dmu4/dmu4_Example/data/rerun/coaddPhot/deepCoadd-results/VISTA-J/8524/4,4/meas-VISTA-J-8524-4,4.fits\n",
      "DEBUG:  /Volumes/Raph500/lsst-ir-fusion/dmu4/dmu4_Example/data/rerun/coaddPhot/deepCoadd-results/VISTA-H/8524/4,4/meas-VISTA-H-8524-4,4.fits\n",
      "DEBUG:  /Volumes/Raph500/lsst-ir-fusion/dmu4/dmu4_Example/data/rerun/coaddPhot/deepCoadd-results/VISTA-Ks/8524/4,4/meas-VISTA-Ks-8524-4,4.fits\n",
      "DEBUG:  /Volumes/Raph500/lsst-ir-fusion/dmu4/dmu4_Example/data/rerun/coaddPhot/deepCoadd-results/merged/8524/4,4/ref-8524-4,4.fits\n",
      "5,4\n",
      "DEBUG:  /Volumes/Raph500/lsst-ir-fusion/dmu4/dmu4_Example/data/rerun/coaddForcedPhot/deepCoadd-results/VISTA-Y/8524/5,4/forcedSrc-VISTA-Y-8524-5,4.fits\n",
      "DEBUG:  /Volumes/Raph500/lsst-ir-fusion/dmu4/dmu4_Example/data/rerun/coaddForcedPhot/deepCoadd-results/VISTA-J/8524/5,4/forcedSrc-VISTA-J-8524-5,4.fits\n",
      "DEBUG:  /Volumes/Raph500/lsst-ir-fusion/dmu4/dmu4_Example/data/rerun/coaddForcedPhot/deepCoadd-results/VISTA-H/8524/5,4/forcedSrc-VISTA-H-8524-5,4.fits\n",
      "DEBUG:  /Volumes/Raph500/lsst-ir-fusion/dmu4/dmu4_Example/data/rerun/coaddForcedPhot/deepCoadd-results/VISTA-Ks/8524/5,4/forcedSrc-VISTA-Ks-8524-5,4.fits\n",
      "DEBUG:  /Volumes/Raph500/lsst-ir-fusion/dmu4/dmu4_Example/data/rerun/coaddPhot/deepCoadd-results/VISTA-Y/8524/5,4/meas-VISTA-Y-8524-5,4.fits\n",
      "DEBUG:  /Volumes/Raph500/lsst-ir-fusion/dmu4/dmu4_Example/data/rerun/coaddPhot/deepCoadd-results/VISTA-J/8524/5,4/meas-VISTA-J-8524-5,4.fits\n",
      "DEBUG:  /Volumes/Raph500/lsst-ir-fusion/dmu4/dmu4_Example/data/rerun/coaddPhot/deepCoadd-results/VISTA-H/8524/5,4/meas-VISTA-H-8524-5,4.fits\n",
      "DEBUG:  /Volumes/Raph500/lsst-ir-fusion/dmu4/dmu4_Example/data/rerun/coaddPhot/deepCoadd-results/VISTA-Ks/8524/5,4/meas-VISTA-Ks-8524-5,4.fits\n",
      "DEBUG:  /Volumes/Raph500/lsst-ir-fusion/dmu4/dmu4_Example/data/rerun/coaddPhot/deepCoadd-results/merged/8524/5,4/ref-8524-5,4.fits\n",
      "3,5\n",
      "DEBUG:  /Volumes/Raph500/lsst-ir-fusion/dmu4/dmu4_Example/data/rerun/coaddForcedPhot/deepCoadd-results/VISTA-Y/8524/3,5/forcedSrc-VISTA-Y-8524-3,5.fits\n",
      "DEBUG:  /Volumes/Raph500/lsst-ir-fusion/dmu4/dmu4_Example/data/rerun/coaddForcedPhot/deepCoadd-results/VISTA-J/8524/3,5/forcedSrc-VISTA-J-8524-3,5.fits\n",
      "DEBUG:  /Volumes/Raph500/lsst-ir-fusion/dmu4/dmu4_Example/data/rerun/coaddForcedPhot/deepCoadd-results/VISTA-H/8524/3,5/forcedSrc-VISTA-H-8524-3,5.fits\n"
     ]
    },
    {
     "name": "stdout",
     "output_type": "stream",
     "text": [
      "DEBUG:  /Volumes/Raph500/lsst-ir-fusion/dmu4/dmu4_Example/data/rerun/coaddForcedPhot/deepCoadd-results/VISTA-Ks/8524/3,5/forcedSrc-VISTA-Ks-8524-3,5.fits\n",
      "DEBUG:  /Volumes/Raph500/lsst-ir-fusion/dmu4/dmu4_Example/data/rerun/coaddPhot/deepCoadd-results/VISTA-Y/8524/3,5/meas-VISTA-Y-8524-3,5.fits\n",
      "DEBUG:  /Volumes/Raph500/lsst-ir-fusion/dmu4/dmu4_Example/data/rerun/coaddPhot/deepCoadd-results/VISTA-J/8524/3,5/meas-VISTA-J-8524-3,5.fits\n",
      "DEBUG:  /Volumes/Raph500/lsst-ir-fusion/dmu4/dmu4_Example/data/rerun/coaddPhot/deepCoadd-results/VISTA-H/8524/3,5/meas-VISTA-H-8524-3,5.fits\n",
      "DEBUG:  /Volumes/Raph500/lsst-ir-fusion/dmu4/dmu4_Example/data/rerun/coaddPhot/deepCoadd-results/VISTA-Ks/8524/3,5/meas-VISTA-Ks-8524-3,5.fits\n",
      "DEBUG:  /Volumes/Raph500/lsst-ir-fusion/dmu4/dmu4_Example/data/rerun/coaddPhot/deepCoadd-results/merged/8524/3,5/ref-8524-3,5.fits\n",
      "4,5\n",
      "DEBUG:  /Volumes/Raph500/lsst-ir-fusion/dmu4/dmu4_Example/data/rerun/coaddForcedPhot/deepCoadd-results/VISTA-Y/8524/4,5/forcedSrc-VISTA-Y-8524-4,5.fits\n",
      "DEBUG:  /Volumes/Raph500/lsst-ir-fusion/dmu4/dmu4_Example/data/rerun/coaddForcedPhot/deepCoadd-results/VISTA-J/8524/4,5/forcedSrc-VISTA-J-8524-4,5.fits\n",
      "DEBUG:  /Volumes/Raph500/lsst-ir-fusion/dmu4/dmu4_Example/data/rerun/coaddForcedPhot/deepCoadd-results/VISTA-H/8524/4,5/forcedSrc-VISTA-H-8524-4,5.fits\n",
      "DEBUG:  /Volumes/Raph500/lsst-ir-fusion/dmu4/dmu4_Example/data/rerun/coaddForcedPhot/deepCoadd-results/VISTA-Ks/8524/4,5/forcedSrc-VISTA-Ks-8524-4,5.fits\n",
      "DEBUG:  /Volumes/Raph500/lsst-ir-fusion/dmu4/dmu4_Example/data/rerun/coaddPhot/deepCoadd-results/VISTA-Y/8524/4,5/meas-VISTA-Y-8524-4,5.fits\n",
      "DEBUG:  /Volumes/Raph500/lsst-ir-fusion/dmu4/dmu4_Example/data/rerun/coaddPhot/deepCoadd-results/VISTA-J/8524/4,5/meas-VISTA-J-8524-4,5.fits\n",
      "DEBUG:  /Volumes/Raph500/lsst-ir-fusion/dmu4/dmu4_Example/data/rerun/coaddPhot/deepCoadd-results/VISTA-H/8524/4,5/meas-VISTA-H-8524-4,5.fits\n",
      "DEBUG:  /Volumes/Raph500/lsst-ir-fusion/dmu4/dmu4_Example/data/rerun/coaddPhot/deepCoadd-results/VISTA-Ks/8524/4,5/meas-VISTA-Ks-8524-4,5.fits\n",
      "DEBUG:  /Volumes/Raph500/lsst-ir-fusion/dmu4/dmu4_Example/data/rerun/coaddPhot/deepCoadd-results/merged/8524/4,5/ref-8524-4,5.fits\n",
      "5,5\n",
      "DEBUG:  /Volumes/Raph500/lsst-ir-fusion/dmu4/dmu4_Example/data/rerun/coaddForcedPhot/deepCoadd-results/VISTA-Y/8524/5,5/forcedSrc-VISTA-Y-8524-5,5.fits\n",
      "DEBUG:  /Volumes/Raph500/lsst-ir-fusion/dmu4/dmu4_Example/data/rerun/coaddForcedPhot/deepCoadd-results/VISTA-J/8524/5,5/forcedSrc-VISTA-J-8524-5,5.fits\n",
      "DEBUG:  /Volumes/Raph500/lsst-ir-fusion/dmu4/dmu4_Example/data/rerun/coaddForcedPhot/deepCoadd-results/VISTA-H/8524/5,5/forcedSrc-VISTA-H-8524-5,5.fits\n",
      "DEBUG:  /Volumes/Raph500/lsst-ir-fusion/dmu4/dmu4_Example/data/rerun/coaddForcedPhot/deepCoadd-results/VISTA-Ks/8524/5,5/forcedSrc-VISTA-Ks-8524-5,5.fits\n",
      "DEBUG:  /Volumes/Raph500/lsst-ir-fusion/dmu4/dmu4_Example/data/rerun/coaddPhot/deepCoadd-results/VISTA-Y/8524/5,5/meas-VISTA-Y-8524-5,5.fits\n",
      "DEBUG:  /Volumes/Raph500/lsst-ir-fusion/dmu4/dmu4_Example/data/rerun/coaddPhot/deepCoadd-results/VISTA-J/8524/5,5/meas-VISTA-J-8524-5,5.fits\n",
      "DEBUG:  /Volumes/Raph500/lsst-ir-fusion/dmu4/dmu4_Example/data/rerun/coaddPhot/deepCoadd-results/VISTA-H/8524/5,5/meas-VISTA-H-8524-5,5.fits\n",
      "DEBUG:  /Volumes/Raph500/lsst-ir-fusion/dmu4/dmu4_Example/data/rerun/coaddPhot/deepCoadd-results/VISTA-Ks/8524/5,5/meas-VISTA-Ks-8524-5,5.fits\n",
      "DEBUG:  /Volumes/Raph500/lsst-ir-fusion/dmu4/dmu4_Example/data/rerun/coaddPhot/deepCoadd-results/merged/8524/5,5/ref-8524-5,5.fits\n"
     ]
    }
   ],
   "source": [
    "full_cat = Table()\n",
    "for f in y_stack_files: #[6:7]\n",
    "    tract = 8524\n",
    "    patch = str(f[-8:-5])\n",
    "    print(patch)\n",
    "    #zSources = butler.get('deepCoadd_forced_src', {'filter': 'VISTA-Z', 'tract': tract, 'patch': patch})\n",
    "    ySources = butler.get('deepCoadd_forced_src', {'filter': 'VISTA-Y', 'tract': tract, 'patch': patch})\n",
    "    jSources = butler.get('deepCoadd_forced_src', {'filter': 'VISTA-J', 'tract': tract, 'patch': patch})\n",
    "    hSources = butler.get('deepCoadd_forced_src', {'filter': 'VISTA-H', 'tract': tract, 'patch': patch})\n",
    "    ksSources = butler.get('deepCoadd_forced_src', {'filter': 'VISTA-Ks', 'tract': tract, 'patch': patch})\n",
    "    #yCoaddPhotoCalib = butler.get('deepCoadd_calexp_photoCalib',  {'filter': 'VISTA-Y', 'tract': tract, 'patch': patch})\n",
    "    #jCoaddPhotoCalib = butler.get('deepCoadd_calexp_photoCalib',  {'filter': 'VISTA-J', 'tract': tract, 'patch': patch})\n",
    "    #hCoaddPhotoCalib = butler.get('deepCoadd_calexp_photoCalib',  {'filter': 'VISTA-H', 'tract': tract, 'patch': patch})\n",
    "    #ksCoaddPhotoCalib = butler.get('deepCoadd_calexp_photoCalib',  {'filter': 'VISTA-Ks', 'tract': tract, 'patch': patch})\n",
    "    #zCoaddCalexp = butler.get('deepCoadd_calexp',  {'filter': 'VISTA-Z', 'tract': tract, 'patch': patch})\n",
    "    #zCoaddPhotoCalib = zCoaddCalexp.getPhotoCalib()\n",
    "    yCoaddCalexp = butler.get('deepCoadd_calexp',  {'filter': 'VISTA-Y', 'tract': tract, 'patch': patch})\n",
    "    yCoaddPhotoCalib = yCoaddCalexp.getPhotoCalib()\n",
    "    jCoaddCalexp = butler.get('deepCoadd_calexp',  {'filter': 'VISTA-J', 'tract': tract, 'patch': patch})\n",
    "    jCoaddPhotoCalib = jCoaddCalexp.getPhotoCalib()\n",
    "    hCoaddCalexp = butler.get('deepCoadd_calexp',  {'filter': 'VISTA-H', 'tract': tract, 'patch': patch})\n",
    "    hCoaddPhotoCalib = hCoaddCalexp.getPhotoCalib()\n",
    "    ksCoaddCalexp = butler.get('deepCoadd_calexp',  {'filter': 'VISTA-Ks', 'tract': tract, 'patch': patch})\n",
    "    ksCoaddPhotoCalib = ksCoaddCalexp.getPhotoCalib()\n",
    "    f_type = 'base_PsfFlux' #'base_PsfFlux' 'base_CircularApertureFlux_3_0'\n",
    "    yMags = yCoaddPhotoCalib.instFluxToMagnitude(ySources, f_type)\n",
    "    jMags = jCoaddPhotoCalib.instFluxToMagnitude(jSources, f_type)\n",
    "    hMags = hCoaddPhotoCalib.instFluxToMagnitude(hSources, f_type)\n",
    "    ksMags = ksCoaddPhotoCalib.instFluxToMagnitude(ksSources, f_type)\n",
    "    \n",
    "    yFlux = yCoaddPhotoCalib.instFluxToNanojansky(ySources, f_type)\n",
    "    jFlux = jCoaddPhotoCalib.instFluxToNanojansky(jSources, f_type)\n",
    "    hFlux = hCoaddPhotoCalib.instFluxToNanojansky(hSources, f_type)\n",
    "    ksFlux = ksCoaddPhotoCalib.instFluxToNanojansky(ksSources, f_type)\n",
    "    \n",
    "    #zMeasSources = butler.get('deepCoadd_meas', {'filter': 'VISTA-Z', 'tract': tract, 'patch': patch})\n",
    "    yMeasSources = butler.get('deepCoadd_meas', {'filter': 'VISTA-Y', 'tract': tract, 'patch': patch})\n",
    "    jMeasSources = butler.get('deepCoadd_meas', {'filter': 'VISTA-J', 'tract': tract, 'patch': patch})\n",
    "    hMeasSources = butler.get('deepCoadd_meas', {'filter': 'VISTA-H', 'tract': tract, 'patch': patch})\n",
    "    ksMeasSources = butler.get('deepCoadd_meas', {'filter': 'VISTA-Ks', 'tract': tract, 'patch': patch})\n",
    "\n",
    "    fMeas_type = 'base_CircularApertureFlux_12_0' #'base_PsfFlux' 'base_CircularApertureFlux_2_0'\n",
    "    #zMeasMags = zCoaddPhotoCalib.instFluxToMagnitude(zMeasSources, fMeas_type)\n",
    "    yMeasMags = yCoaddPhotoCalib.instFluxToMagnitude(yMeasSources, fMeas_type)\n",
    "    jMeasMags = jCoaddPhotoCalib.instFluxToMagnitude(jMeasSources, fMeas_type)\n",
    "    hMeasMags = hCoaddPhotoCalib.instFluxToMagnitude(hMeasSources, fMeas_type)\n",
    "    ksMeasMags = ksCoaddPhotoCalib.instFluxToMagnitude(ksMeasSources, fMeas_type)\n",
    "    \n",
    "    yMeasFlux = yCoaddPhotoCalib.instFluxToNanojansky(yMeasSources, fMeas_type)\n",
    "    ksMeasFlux = ksCoaddPhotoCalib.instFluxToNanojansky(ksMeasSources, fMeas_type)\n",
    "\n",
    "    #isDeblended = ySources['deblend_nChild'] == 0\n",
    "    \n",
    "    \n",
    "    \n",
    "    \n",
    "    sn5 = (yMeasFlux[:,0]/yMeasFlux[:,1] > 5) & (ksMeasFlux[:,0]/ksMeasFlux[:,1] > 5)\n",
    "    isDeblended = ksSources['deblend_nChild'] == 0\n",
    "    refTable = butler.get('deepCoadd_ref', {'filter': 'VISTA-Y^VISTA-Ks', 'tract': tract, 'patch': patch})\n",
    "    #refTable\n",
    "    inInnerRegions = refTable['detect_isPatchInner'] & refTable['detect_isTractInner']\n",
    "    isSkyObject = refTable['merge_peak_sky']\n",
    "    isPrimary = refTable['detect_isPrimary']\n",
    "    isStellar = refTable['base_ClassificationExtendedness_value'] < 1.\n",
    "    ksSources.getSchema().extract('{}_*'.format(f_type))\n",
    "    isGoodFlux = ~ksSources['{}_flag'.format(f_type)]\n",
    "    selected = isPrimary & isGoodFlux & inInnerRegions & isStellar  \n",
    "    cat = Table()\n",
    "\n",
    "    #cat['m_vista_z'] = zMags[:,0]\n",
    "    #cat['merr_vista_z'] = zMags[:,1]\n",
    "    #cat['m_ap_vista_z'] = zMeasMags[:,0]\n",
    "    #cat['merr_ap_vista_z'] = zMeasMags[:,1]    \n",
    "                                                     \n",
    "    cat['m_vista_y'] = yMags[:,0]\n",
    "    cat['merr_vista_y'] = yMags[:,1]\n",
    "    cat['f_vista_y'] = yFlux[:,0]\n",
    "    cat['ferr_vista_y'] = yFlux[:,1]\n",
    "    cat['m_ap_vista_y'] = yMeasMags[:,0]\n",
    "    cat['merr_ap_vista_y'] = yMeasMags[:,1]\n",
    "    cat['f_ap_vista_y'] = yMeasFlux[:,0]\n",
    "    cat['ferr_ap_vista_y'] = yMeasFlux[:,1]\n",
    "                \n",
    "    cat['m_vista_j'] = jMags[:,0]\n",
    "    cat['merr_vista_j'] = jMags[:,1]\n",
    "    cat['m_ap_vista_j'] = jMeasMags[:,0]\n",
    "    cat['merr_ap_vista_j'] = jMeasMags[:,1]\n",
    "\n",
    "                                                     \n",
    "    cat['m_vista_h'] = hMags[:,0]\n",
    "    cat['merr_vista_h'] = hMags[:,1]\n",
    "    cat['m_ap_vista_h'] = hMeasMags[:,0]\n",
    "    cat['merr_ap_vista_h'] = hMeasMags[:,1]\n",
    "                                                     \n",
    "    cat['m_vista_ks'] = ksMags[:,0]\n",
    "    cat['merr_vista_ks'] = ksMags[:,1]\n",
    "    cat['m_ap_vista_ks'] = ksMeasMags[:,0]\n",
    "    cat['merr_ap_vista_ks'] = ksMeasMags[:,1]\n",
    "    cat['f_ap_vista_ks'] = ksMeasFlux[:,0]\n",
    "    cat['ferr_ap_vista_ks'] = ksMeasFlux[:,1]\n",
    "\n",
    "    cat['ra'] = ksSources['coord_ra']\n",
    "    #cat['ra'] =ksMeasSources['coord_ra']\n",
    "    cat['dec'] = ksSources['coord_dec']\n",
    "    #cat['dec'] = ksMeasSources['coord_dec']\n",
    "    cat['flag'] = selected\n",
    "    full_cat = vstack([full_cat,cat])"
   ]
  },
  {
   "cell_type": "markdown",
   "metadata": {},
   "source": [
    "Lets see what the tables look like as astropy tables"
   ]
  },
  {
   "cell_type": "markdown",
   "metadata": {},
   "source": [
    "The main issue here is that we want mags rather than instrument fluxes"
   ]
  },
  {
   "cell_type": "code",
   "execution_count": 20,
   "metadata": {},
   "outputs": [
    {
     "data": {
      "text/plain": [
       "(36204, 36204, 36204)"
      ]
     },
     "execution_count": 20,
     "metadata": {},
     "output_type": "execute_result"
    }
   ],
   "source": [
    "len(yMags), len(yMeasMags), len(selected)"
   ]
  },
  {
   "cell_type": "code",
   "execution_count": 21,
   "metadata": {},
   "outputs": [
    {
     "data": {
      "text/plain": [
       "Schema(\n",
       "    (Field['L'](name=\"id\", doc=\"unique ID\"), Key<L>(offset=0, nElements=1)),\n",
       "    (Field['Angle'](name=\"coord_ra\", doc=\"position in ra/dec\"), Key<Angle>(offset=8, nElements=1)),\n",
       "    (Field['Angle'](name=\"coord_dec\", doc=\"position in ra/dec\"), Key<Angle>(offset=16, nElements=1)),\n",
       "    (Field['L'](name=\"parent\", doc=\"unique ID of parent source\"), Key<L>(offset=24, nElements=1)),\n",
       "    (Field['Flag'](name=\"merge_footprint_HSC-G\", doc=\"Detection footprint overlapped with a detection from filter HSC-G\"), Key['Flag'](offset=32, bit=0)),\n",
       "    (Field['Flag'](name=\"merge_footprint_HSC-R\", doc=\"Detection footprint overlapped with a detection from filter HSC-R\"), Key['Flag'](offset=32, bit=1)),\n",
       "    (Field['Flag'](name=\"merge_footprint_HSC-I\", doc=\"Detection footprint overlapped with a detection from filter HSC-I\"), Key['Flag'](offset=32, bit=2)),\n",
       "    (Field['Flag'](name=\"merge_footprint_HSC-Z\", doc=\"Detection footprint overlapped with a detection from filter HSC-Z\"), Key['Flag'](offset=32, bit=3)),\n",
       "    (Field['Flag'](name=\"merge_footprint_HSC-Y\", doc=\"Detection footprint overlapped with a detection from filter HSC-Y\"), Key['Flag'](offset=32, bit=4)),\n",
       "    (Field['Flag'](name=\"merge_footprint_VISTA-z\", doc=\"Detection footprint overlapped with a detection from filter VISTA-z\"), Key['Flag'](offset=32, bit=5)),\n",
       "    (Field['Flag'](name=\"merge_footprint_VISTA-Y\", doc=\"Detection footprint overlapped with a detection from filter VISTA-Y\"), Key['Flag'](offset=32, bit=6)),\n",
       "    (Field['Flag'](name=\"merge_footprint_VISTA-J\", doc=\"Detection footprint overlapped with a detection from filter VISTA-J\"), Key['Flag'](offset=32, bit=7)),\n",
       "    (Field['Flag'](name=\"merge_footprint_VISTA-H\", doc=\"Detection footprint overlapped with a detection from filter VISTA-H\"), Key['Flag'](offset=32, bit=8)),\n",
       "    (Field['Flag'](name=\"merge_footprint_VISTA-Ks\", doc=\"Detection footprint overlapped with a detection from filter VISTA-Ks\"), Key['Flag'](offset=32, bit=9)),\n",
       "    (Field['Flag'](name=\"merge_footprint_sky\", doc=\"Detection footprint overlapped with a detection from filter sky\"), Key['Flag'](offset=32, bit=10)),\n",
       "    (Field['Flag'](name=\"merge_peak_HSC-G\", doc=\"Peak detected in filter HSC-G\"), Key['Flag'](offset=32, bit=11)),\n",
       "    (Field['Flag'](name=\"merge_peak_HSC-R\", doc=\"Peak detected in filter HSC-R\"), Key['Flag'](offset=32, bit=12)),\n",
       "    (Field['Flag'](name=\"merge_peak_HSC-I\", doc=\"Peak detected in filter HSC-I\"), Key['Flag'](offset=32, bit=13)),\n",
       "    (Field['Flag'](name=\"merge_peak_HSC-Z\", doc=\"Peak detected in filter HSC-Z\"), Key['Flag'](offset=32, bit=14)),\n",
       "    (Field['Flag'](name=\"merge_peak_HSC-Y\", doc=\"Peak detected in filter HSC-Y\"), Key['Flag'](offset=32, bit=15)),\n",
       "    (Field['Flag'](name=\"merge_peak_VISTA-z\", doc=\"Peak detected in filter VISTA-z\"), Key['Flag'](offset=32, bit=16)),\n",
       "    (Field['Flag'](name=\"merge_peak_VISTA-Y\", doc=\"Peak detected in filter VISTA-Y\"), Key['Flag'](offset=32, bit=17)),\n",
       "    (Field['Flag'](name=\"merge_peak_VISTA-J\", doc=\"Peak detected in filter VISTA-J\"), Key['Flag'](offset=32, bit=18)),\n",
       "    (Field['Flag'](name=\"merge_peak_VISTA-H\", doc=\"Peak detected in filter VISTA-H\"), Key['Flag'](offset=32, bit=19)),\n",
       "    (Field['Flag'](name=\"merge_peak_VISTA-Ks\", doc=\"Peak detected in filter VISTA-Ks\"), Key['Flag'](offset=32, bit=20)),\n",
       "    (Field['Flag'](name=\"merge_peak_sky\", doc=\"Peak detected in filter sky\"), Key['Flag'](offset=32, bit=21)),\n",
       "    (Field['I'](name=\"deblend_nChild\", doc=\"Number of children this object has (defaults to 0)\"), Key<I>(offset=40, nElements=1)),\n",
       "    (Field['Flag'](name=\"deblend_deblendedAsPsf\", doc=\"Deblender thought this source looked like a PSF\"), Key['Flag'](offset=32, bit=22)),\n",
       "    (Field['D'](name=\"deblend_psfCenter_x\", doc=\"If deblended-as-psf, the PSF centroid\", units=\"pixel\"), Key<D>(offset=48, nElements=1)),\n",
       "    (Field['D'](name=\"deblend_psfCenter_y\", doc=\"If deblended-as-psf, the PSF centroid\", units=\"pixel\"), Key<D>(offset=56, nElements=1)),\n",
       "    (Field['D'](name=\"deblend_psf_instFlux\", doc=\"If deblended-as-psf, the instrumental PSF flux\", units=\"count\"), Key<D>(offset=64, nElements=1)),\n",
       "    (Field['Flag'](name=\"deblend_tooManyPeaks\", doc=\"Source had too many peaks; only the brightest were included\"), Key['Flag'](offset=32, bit=23)),\n",
       "    (Field['Flag'](name=\"deblend_parentTooBig\", doc=\"Parent footprint covered too many pixels\"), Key['Flag'](offset=32, bit=24)),\n",
       "    (Field['Flag'](name=\"deblend_masked\", doc=\"Parent footprint was predominantly masked\"), Key['Flag'](offset=32, bit=25)),\n",
       "    (Field['Flag'](name=\"deblend_skipped\", doc=\"Deblender skipped this source\"), Key['Flag'](offset=32, bit=26)),\n",
       "    (Field['Flag'](name=\"deblend_rampedTemplate\", doc=\"This source was near an image edge and the deblender used \"ramp\" edge-handling.\"), Key['Flag'](offset=32, bit=27)),\n",
       "    (Field['Flag'](name=\"deblend_patchedTemplate\", doc=\"This source was near an image edge and the deblender used \"patched\" edge-handling.\"), Key['Flag'](offset=32, bit=28)),\n",
       "    (Field['Flag'](name=\"deblend_hasStrayFlux\", doc=\"This source was assigned some stray flux\"), Key['Flag'](offset=32, bit=29)),\n",
       "    (Field['D'](name=\"base_NaiveCentroid_x\", doc=\"centroid from Naive Centroid algorithm\", units=\"pixel\"), Key<D>(offset=72, nElements=1)),\n",
       "    (Field['D'](name=\"base_NaiveCentroid_y\", doc=\"centroid from Naive Centroid algorithm\", units=\"pixel\"), Key<D>(offset=80, nElements=1)),\n",
       "    (Field['Flag'](name=\"base_NaiveCentroid_flag\", doc=\"General Failure Flag\"), Key['Flag'](offset=32, bit=30)),\n",
       "    (Field['Flag'](name=\"base_NaiveCentroid_flag_noCounts\", doc=\"Object to be centroided has no counts\"), Key['Flag'](offset=32, bit=31)),\n",
       "    (Field['Flag'](name=\"base_NaiveCentroid_flag_edge\", doc=\"Object too close to edge\"), Key['Flag'](offset=32, bit=32)),\n",
       "    (Field['Flag'](name=\"base_NaiveCentroid_flag_resetToPeak\", doc=\"set if CentroidChecker reset the centroid\"), Key['Flag'](offset=32, bit=33)),\n",
       "    (Field['D'](name=\"base_SdssCentroid_x\", doc=\"centroid from Sdss Centroid algorithm\", units=\"pixel\"), Key<D>(offset=88, nElements=1)),\n",
       "    (Field['D'](name=\"base_SdssCentroid_y\", doc=\"centroid from Sdss Centroid algorithm\", units=\"pixel\"), Key<D>(offset=96, nElements=1)),\n",
       "    (Field['F'](name=\"base_SdssCentroid_xErr\", doc=\"1-sigma uncertainty on x position\", units=\"pixel\"), Key<F>(offset=104, nElements=1)),\n",
       "    (Field['F'](name=\"base_SdssCentroid_yErr\", doc=\"1-sigma uncertainty on y position\", units=\"pixel\"), Key<F>(offset=108, nElements=1)),\n",
       "    (Field['Flag'](name=\"base_SdssCentroid_flag\", doc=\"General Failure Flag\"), Key['Flag'](offset=32, bit=34)),\n",
       "    (Field['Flag'](name=\"base_SdssCentroid_flag_edge\", doc=\"Object too close to edge\"), Key['Flag'](offset=32, bit=35)),\n",
       "    (Field['Flag'](name=\"base_SdssCentroid_flag_noSecondDerivative\", doc=\"Vanishing second derivative\"), Key['Flag'](offset=32, bit=36)),\n",
       "    (Field['Flag'](name=\"base_SdssCentroid_flag_almostNoSecondDerivative\", doc=\"Almost vanishing second derivative\"), Key['Flag'](offset=32, bit=37)),\n",
       "    (Field['Flag'](name=\"base_SdssCentroid_flag_notAtMaximum\", doc=\"Object is not at a maximum\"), Key['Flag'](offset=32, bit=38)),\n",
       "    (Field['Flag'](name=\"base_SdssCentroid_flag_resetToPeak\", doc=\"set if CentroidChecker reset the centroid\"), Key['Flag'](offset=32, bit=39)),\n",
       "    (Field['Flag'](name=\"base_SdssCentroid_flag_badError\", doc=\"Error on x and/or y position is NaN\"), Key['Flag'](offset=32, bit=40)),\n",
       "    (Field['Flag'](name=\"base_InputCount_flag\", doc=\"Set for any fatal failure\"), Key['Flag'](offset=32, bit=41)),\n",
       "    (Field['I'](name=\"base_InputCount_value\", doc=\"Number of images contributing at center, not including anyclipping\"), Key<I>(offset=112, nElements=1)),\n",
       "    (Field['Flag'](name=\"base_InputCount_flag_noInputs\", doc=\"No coadd inputs available\"), Key['Flag'](offset=32, bit=42)),\n",
       "    (Field['D'](name=\"base_SdssShape_xx\", doc=\"elliptical Gaussian adaptive moments\", units=\"pixel^2\"), Key<D>(offset=120, nElements=1)),\n",
       "    (Field['D'](name=\"base_SdssShape_yy\", doc=\"elliptical Gaussian adaptive moments\", units=\"pixel^2\"), Key<D>(offset=128, nElements=1)),\n",
       "    (Field['D'](name=\"base_SdssShape_xy\", doc=\"elliptical Gaussian adaptive moments\", units=\"pixel^2\"), Key<D>(offset=136, nElements=1)),\n",
       "    (Field['F'](name=\"base_SdssShape_xxErr\", doc=\"Standard deviation of xx moment\", units=\"pixel^2\"), Key<F>(offset=144, nElements=1)),\n",
       "    (Field['F'](name=\"base_SdssShape_yyErr\", doc=\"Standard deviation of yy moment\", units=\"pixel^2\"), Key<F>(offset=148, nElements=1)),\n",
       "    (Field['F'](name=\"base_SdssShape_xyErr\", doc=\"Standard deviation of xy moment\", units=\"pixel^2\"), Key<F>(offset=152, nElements=1)),\n",
       "    (Field['D'](name=\"base_SdssShape_x\", doc=\"elliptical Gaussian adaptive moments\", units=\"pixel\"), Key<D>(offset=160, nElements=1)),\n",
       "    (Field['D'](name=\"base_SdssShape_y\", doc=\"elliptical Gaussian adaptive moments\", units=\"pixel\"), Key<D>(offset=168, nElements=1)),\n",
       "    (Field['D'](name=\"base_SdssShape_instFlux\", doc=\"elliptical Gaussian adaptive moments\", units=\"count\"), Key<D>(offset=176, nElements=1)),\n",
       "    (Field['D'](name=\"base_SdssShape_instFluxErr\", doc=\"1-sigma instFlux uncertainty\", units=\"count\"), Key<D>(offset=184, nElements=1)),\n",
       "    (Field['D'](name=\"base_SdssShape_psf_xx\", doc=\"adaptive moments of the PSF model at the object position\", units=\"pixel^2\"), Key<D>(offset=192, nElements=1)),\n",
       "    (Field['D'](name=\"base_SdssShape_psf_yy\", doc=\"adaptive moments of the PSF model at the object position\", units=\"pixel^2\"), Key<D>(offset=200, nElements=1)),\n",
       "    (Field['D'](name=\"base_SdssShape_psf_xy\", doc=\"adaptive moments of the PSF model at the object position\", units=\"pixel^2\"), Key<D>(offset=208, nElements=1)),\n",
       "    (Field['F'](name=\"base_SdssShape_instFlux_xx_Cov\", doc=\"uncertainty covariance between base_SdssShape_instFlux and base_SdssShape_xx\", units=\"count*pixel^2\"), Key<F>(offset=216, nElements=1)),\n",
       "    (Field['F'](name=\"base_SdssShape_instFlux_yy_Cov\", doc=\"uncertainty covariance between base_SdssShape_instFlux and base_SdssShape_yy\", units=\"count*pixel^2\"), Key<F>(offset=220, nElements=1)),\n",
       "    (Field['F'](name=\"base_SdssShape_instFlux_xy_Cov\", doc=\"uncertainty covariance between base_SdssShape_instFlux and base_SdssShape_xy\", units=\"count*pixel^2\"), Key<F>(offset=224, nElements=1)),\n",
       "    (Field['Flag'](name=\"base_SdssShape_flag\", doc=\"General Failure Flag\"), Key['Flag'](offset=32, bit=43)),\n",
       "    (Field['Flag'](name=\"base_SdssShape_flag_unweightedBad\", doc=\"Both weighted and unweighted moments were invalid\"), Key['Flag'](offset=32, bit=44)),\n",
       "    (Field['Flag'](name=\"base_SdssShape_flag_unweighted\", doc=\"Weighted moments converged to an invalid value; using unweighted moments\"), Key['Flag'](offset=32, bit=45)),\n",
       "    (Field['Flag'](name=\"base_SdssShape_flag_shift\", doc=\"centroid shifted by more than the maximum allowed amount\"), Key['Flag'](offset=32, bit=46)),\n",
       "    (Field['Flag'](name=\"base_SdssShape_flag_maxIter\", doc=\"Too many iterations in adaptive moments\"), Key['Flag'](offset=32, bit=47)),\n",
       "    (Field['Flag'](name=\"base_SdssShape_flag_psf\", doc=\"Failure in measuring PSF model shape\"), Key['Flag'](offset=32, bit=48)),\n",
       "    (Field['D'](name=\"base_CircularApertureFlux_3_0_instFlux\", doc=\"instFlux within 3.000000-pixel aperture\", units=\"count\"), Key<D>(offset=232, nElements=1)),\n",
       "    (Field['D'](name=\"base_CircularApertureFlux_3_0_instFluxErr\", doc=\"1-sigma instFlux uncertainty\", units=\"count\"), Key<D>(offset=240, nElements=1)),\n",
       "    (Field['Flag'](name=\"base_CircularApertureFlux_3_0_flag\", doc=\"General Failure Flag\"), Key['Flag'](offset=32, bit=49)),\n",
       "    (Field['Flag'](name=\"base_CircularApertureFlux_3_0_flag_apertureTruncated\", doc=\"aperture did not fit within measurement image\"), Key['Flag'](offset=32, bit=50)),\n",
       "    (Field['Flag'](name=\"base_CircularApertureFlux_3_0_flag_sincCoeffsTruncated\", doc=\"full sinc coefficient image did not fit within measurement image\"), Key['Flag'](offset=32, bit=51)),\n",
       "    (Field['D'](name=\"base_CircularApertureFlux_4_5_instFlux\", doc=\"instFlux within 4.500000-pixel aperture\", units=\"count\"), Key<D>(offset=248, nElements=1)),\n",
       "    (Field['D'](name=\"base_CircularApertureFlux_4_5_instFluxErr\", doc=\"1-sigma instFlux uncertainty\", units=\"count\"), Key<D>(offset=256, nElements=1)),\n",
       "    (Field['Flag'](name=\"base_CircularApertureFlux_4_5_flag\", doc=\"General Failure Flag\"), Key['Flag'](offset=32, bit=52)),\n",
       "    (Field['Flag'](name=\"base_CircularApertureFlux_4_5_flag_apertureTruncated\", doc=\"aperture did not fit within measurement image\"), Key['Flag'](offset=32, bit=53)),\n",
       "    (Field['Flag'](name=\"base_CircularApertureFlux_4_5_flag_sincCoeffsTruncated\", doc=\"full sinc coefficient image did not fit within measurement image\"), Key['Flag'](offset=32, bit=54)),\n",
       "    (Field['D'](name=\"base_CircularApertureFlux_6_0_instFlux\", doc=\"instFlux within 6.000000-pixel aperture\", units=\"count\"), Key<D>(offset=264, nElements=1)),\n",
       "    (Field['D'](name=\"base_CircularApertureFlux_6_0_instFluxErr\", doc=\"1-sigma instFlux uncertainty\", units=\"count\"), Key<D>(offset=272, nElements=1)),\n",
       "    (Field['Flag'](name=\"base_CircularApertureFlux_6_0_flag\", doc=\"General Failure Flag\"), Key['Flag'](offset=32, bit=55)),\n",
       "    (Field['Flag'](name=\"base_CircularApertureFlux_6_0_flag_apertureTruncated\", doc=\"aperture did not fit within measurement image\"), Key['Flag'](offset=32, bit=56)),\n",
       "    (Field['Flag'](name=\"base_CircularApertureFlux_6_0_flag_sincCoeffsTruncated\", doc=\"full sinc coefficient image did not fit within measurement image\"), Key['Flag'](offset=32, bit=57)),\n",
       "    (Field['D'](name=\"base_CircularApertureFlux_9_0_instFlux\", doc=\"instFlux within 9.000000-pixel aperture\", units=\"count\"), Key<D>(offset=280, nElements=1)),\n",
       "    (Field['D'](name=\"base_CircularApertureFlux_9_0_instFluxErr\", doc=\"1-sigma instFlux uncertainty\", units=\"count\"), Key<D>(offset=288, nElements=1)),\n",
       "    (Field['Flag'](name=\"base_CircularApertureFlux_9_0_flag\", doc=\"General Failure Flag\"), Key['Flag'](offset=32, bit=58)),\n",
       "    (Field['Flag'](name=\"base_CircularApertureFlux_9_0_flag_apertureTruncated\", doc=\"aperture did not fit within measurement image\"), Key['Flag'](offset=32, bit=59)),\n",
       "    (Field['Flag'](name=\"base_CircularApertureFlux_9_0_flag_sincCoeffsTruncated\", doc=\"full sinc coefficient image did not fit within measurement image\"), Key['Flag'](offset=32, bit=60)),\n",
       "    (Field['D'](name=\"base_CircularApertureFlux_12_0_instFlux\", doc=\"instFlux within 12.000000-pixel aperture\", units=\"count\"), Key<D>(offset=296, nElements=1)),\n",
       "    (Field['D'](name=\"base_CircularApertureFlux_12_0_instFluxErr\", doc=\"1-sigma instFlux uncertainty\", units=\"count\"), Key<D>(offset=304, nElements=1)),\n",
       "    (Field['Flag'](name=\"base_CircularApertureFlux_12_0_flag\", doc=\"General Failure Flag\"), Key['Flag'](offset=32, bit=61)),\n",
       "    (Field['Flag'](name=\"base_CircularApertureFlux_12_0_flag_apertureTruncated\", doc=\"aperture did not fit within measurement image\"), Key['Flag'](offset=32, bit=62)),\n",
       "    (Field['D'](name=\"base_CircularApertureFlux_17_0_instFlux\", doc=\"instFlux within 17.000000-pixel aperture\", units=\"count\"), Key<D>(offset=312, nElements=1)),\n",
       "    (Field['D'](name=\"base_CircularApertureFlux_17_0_instFluxErr\", doc=\"1-sigma instFlux uncertainty\", units=\"count\"), Key<D>(offset=320, nElements=1)),\n",
       "    (Field['Flag'](name=\"base_CircularApertureFlux_17_0_flag\", doc=\"General Failure Flag\"), Key['Flag'](offset=32, bit=63)),\n",
       "    (Field['Flag'](name=\"base_CircularApertureFlux_17_0_flag_apertureTruncated\", doc=\"aperture did not fit within measurement image\"), Key['Flag'](offset=328, bit=0)),\n",
       "    (Field['D'](name=\"base_CircularApertureFlux_25_0_instFlux\", doc=\"instFlux within 25.000000-pixel aperture\", units=\"count\"), Key<D>(offset=336, nElements=1)),\n",
       "    (Field['D'](name=\"base_CircularApertureFlux_25_0_instFluxErr\", doc=\"1-sigma instFlux uncertainty\", units=\"count\"), Key<D>(offset=344, nElements=1)),\n",
       "    (Field['Flag'](name=\"base_CircularApertureFlux_25_0_flag\", doc=\"General Failure Flag\"), Key['Flag'](offset=328, bit=1)),\n",
       "    (Field['Flag'](name=\"base_CircularApertureFlux_25_0_flag_apertureTruncated\", doc=\"aperture did not fit within measurement image\"), Key['Flag'](offset=328, bit=2)),\n",
       "    (Field['D'](name=\"base_CircularApertureFlux_35_0_instFlux\", doc=\"instFlux within 35.000000-pixel aperture\", units=\"count\"), Key<D>(offset=352, nElements=1)),\n",
       "    (Field['D'](name=\"base_CircularApertureFlux_35_0_instFluxErr\", doc=\"1-sigma instFlux uncertainty\", units=\"count\"), Key<D>(offset=360, nElements=1)),\n",
       "    (Field['Flag'](name=\"base_CircularApertureFlux_35_0_flag\", doc=\"General Failure Flag\"), Key['Flag'](offset=328, bit=3)),\n",
       "    (Field['Flag'](name=\"base_CircularApertureFlux_35_0_flag_apertureTruncated\", doc=\"aperture did not fit within measurement image\"), Key['Flag'](offset=328, bit=4)),\n",
       "    (Field['D'](name=\"base_CircularApertureFlux_50_0_instFlux\", doc=\"instFlux within 50.000000-pixel aperture\", units=\"count\"), Key<D>(offset=368, nElements=1)),\n",
       "    (Field['D'](name=\"base_CircularApertureFlux_50_0_instFluxErr\", doc=\"1-sigma instFlux uncertainty\", units=\"count\"), Key<D>(offset=376, nElements=1)),\n",
       "    (Field['Flag'](name=\"base_CircularApertureFlux_50_0_flag\", doc=\"General Failure Flag\"), Key['Flag'](offset=328, bit=5)),\n",
       "    (Field['Flag'](name=\"base_CircularApertureFlux_50_0_flag_apertureTruncated\", doc=\"aperture did not fit within measurement image\"), Key['Flag'](offset=328, bit=6)),\n",
       "    (Field['D'](name=\"base_CircularApertureFlux_70_0_instFlux\", doc=\"instFlux within 70.000000-pixel aperture\", units=\"count\"), Key<D>(offset=384, nElements=1)),\n",
       "    (Field['D'](name=\"base_CircularApertureFlux_70_0_instFluxErr\", doc=\"1-sigma instFlux uncertainty\", units=\"count\"), Key<D>(offset=392, nElements=1)),\n",
       "    (Field['Flag'](name=\"base_CircularApertureFlux_70_0_flag\", doc=\"General Failure Flag\"), Key['Flag'](offset=328, bit=7)),\n",
       "    (Field['Flag'](name=\"base_CircularApertureFlux_70_0_flag_apertureTruncated\", doc=\"aperture did not fit within measurement image\"), Key['Flag'](offset=328, bit=8)),\n",
       "    (Field['D'](name=\"base_GaussianFlux_instFlux\", doc=\"instFlux from Gaussian Flux algorithm\", units=\"count\"), Key<D>(offset=400, nElements=1)),\n",
       "    (Field['D'](name=\"base_GaussianFlux_instFluxErr\", doc=\"1-sigma instFlux uncertainty\", units=\"count\"), Key<D>(offset=408, nElements=1)),\n",
       "    (Field['Flag'](name=\"base_GaussianFlux_flag\", doc=\"General Failure Flag\"), Key['Flag'](offset=328, bit=9)),\n",
       "    (Field['D'](name=\"base_LocalBackground_instFlux\", doc=\"background in annulus around source\", units=\"count\"), Key<D>(offset=416, nElements=1)),\n",
       "    (Field['D'](name=\"base_LocalBackground_instFluxErr\", doc=\"1-sigma instFlux uncertainty\", units=\"count\"), Key<D>(offset=424, nElements=1)),\n",
       "    (Field['Flag'](name=\"base_LocalBackground_flag\", doc=\"General Failure Flag\"), Key['Flag'](offset=328, bit=10)),\n",
       "    (Field['Flag'](name=\"base_LocalBackground_flag_noGoodPixels\", doc=\"no good pixels in the annulus\"), Key['Flag'](offset=328, bit=11)),\n",
       "    (Field['Flag'](name=\"base_LocalBackground_flag_noPsf\", doc=\"no PSF provided\"), Key['Flag'](offset=328, bit=12)),\n",
       "    (Field['Flag'](name=\"base_LocalPhotoCalib_flag\", doc=\"Set for any fatal failure\"), Key['Flag'](offset=328, bit=13)),\n",
       "    (Field['D'](name=\"base_LocalPhotoCalib\", doc=\"Local approximation of the PhotoCalib calibration factor at the location of the src.\"), Key<D>(offset=432, nElements=1)),\n",
       "    (Field['D'](name=\"base_LocalPhotoCalibErr\", doc=\"Error on the local approximation of the PhotoCalib calibration factor at the location of the src.\"), Key<D>(offset=440, nElements=1)),\n",
       "    (Field['Flag'](name=\"base_LocalWcs_flag\", doc=\"Set for any fatal failure\"), Key['Flag'](offset=328, bit=14)),\n",
       "    (Field['D'](name=\"base_LocalWcs_CDMatrix_1_1\", doc=\"(1, 1) element of the CDMatrix for the linear approximation of the WCS at the src location. Gives units in radians.\"), Key<D>(offset=448, nElements=1)),\n",
       "    (Field['D'](name=\"base_LocalWcs_CDMatrix_1_2\", doc=\"(1, 2) element of the CDMatrix for the linear approximation of the WCS at the src location. Gives units in radians.\"), Key<D>(offset=456, nElements=1)),\n",
       "    (Field['D'](name=\"base_LocalWcs_CDMatrix_2_1\", doc=\"(2, 1) element of the CDMatrix for the linear approximation of the WCS at the src location. Gives units in radians.\"), Key<D>(offset=464, nElements=1)),\n",
       "    (Field['D'](name=\"base_LocalWcs_CDMatrix_2_2\", doc=\"(2, 2) element of the CDMatrix for the linear approximation of the WCS at the src location. Gives units in radians.\"), Key<D>(offset=472, nElements=1)),\n",
       "    (Field['Flag'](name=\"base_PixelFlags_flag\", doc=\"General failure flag, set if anything went wrong\"), Key['Flag'](offset=328, bit=15)),\n",
       "    (Field['Flag'](name=\"base_PixelFlags_flag_offimage\", doc=\"Source center is off image\"), Key['Flag'](offset=328, bit=16)),\n",
       "    (Field['Flag'](name=\"base_PixelFlags_flag_edge\", doc=\"Source is outside usable exposure region (masked EDGE or NO_DATA)\"), Key['Flag'](offset=328, bit=17)),\n",
       "    (Field['Flag'](name=\"base_PixelFlags_flag_interpolated\", doc=\"Interpolated pixel in the Source footprint\"), Key['Flag'](offset=328, bit=18)),\n",
       "    (Field['Flag'](name=\"base_PixelFlags_flag_saturated\", doc=\"Saturated pixel in the Source footprint\"), Key['Flag'](offset=328, bit=19)),\n",
       "    (Field['Flag'](name=\"base_PixelFlags_flag_cr\", doc=\"Cosmic ray in the Source footprint\"), Key['Flag'](offset=328, bit=20)),\n",
       "    (Field['Flag'](name=\"base_PixelFlags_flag_bad\", doc=\"Bad pixel in the Source footprint\"), Key['Flag'](offset=328, bit=21)),\n",
       "    (Field['Flag'](name=\"base_PixelFlags_flag_suspect\", doc=\"Source''''s footprint includes suspect pixels\"), Key['Flag'](offset=328, bit=22)),\n",
       "    (Field['Flag'](name=\"base_PixelFlags_flag_interpolatedCenter\", doc=\"Interpolated pixel in the Source center\"), Key['Flag'](offset=328, bit=23)),\n",
       "    (Field['Flag'](name=\"base_PixelFlags_flag_saturatedCenter\", doc=\"Saturated pixel in the Source center\"), Key['Flag'](offset=328, bit=24)),\n",
       "    (Field['Flag'](name=\"base_PixelFlags_flag_crCenter\", doc=\"Cosmic ray in the Source center\"), Key['Flag'](offset=328, bit=25)),\n",
       "    (Field['Flag'](name=\"base_PixelFlags_flag_suspectCenter\", doc=\"Source''''s center is close to suspect pixels\"), Key['Flag'](offset=328, bit=26)),\n",
       "    (Field['Flag'](name=\"base_PixelFlags_flag_clippedCenter\", doc=\"Source center is close to CLIPPED pixels\"), Key['Flag'](offset=328, bit=27)),\n",
       "    (Field['Flag'](name=\"base_PixelFlags_flag_sensor_edgeCenter\", doc=\"Source center is close to SENSOR_EDGE pixels\"), Key['Flag'](offset=328, bit=28)),\n",
       "    (Field['Flag'](name=\"base_PixelFlags_flag_inexact_psfCenter\", doc=\"Source center is close to INEXACT_PSF pixels\"), Key['Flag'](offset=328, bit=29)),\n",
       "    (Field['Flag'](name=\"base_PixelFlags_flag_clipped\", doc=\"Source footprint includes CLIPPED pixels\"), Key['Flag'](offset=328, bit=30)),\n",
       "    (Field['Flag'](name=\"base_PixelFlags_flag_sensor_edge\", doc=\"Source footprint includes SENSOR_EDGE pixels\"), Key['Flag'](offset=328, bit=31)),\n",
       "    (Field['Flag'](name=\"base_PixelFlags_flag_inexact_psf\", doc=\"Source footprint includes INEXACT_PSF pixels\"), Key['Flag'](offset=328, bit=32)),\n",
       "    (Field['D'](name=\"base_PsfFlux_instFlux\", doc=\"instFlux derived from linear least-squares fit of PSF model\", units=\"count\"), Key<D>(offset=480, nElements=1)),\n",
       "    (Field['D'](name=\"base_PsfFlux_instFluxErr\", doc=\"1-sigma instFlux uncertainty\", units=\"count\"), Key<D>(offset=488, nElements=1)),\n",
       "    (Field['F'](name=\"base_PsfFlux_area\", doc=\"effective area of PSF\", units=\"pixel\"), Key<F>(offset=496, nElements=1)),\n",
       "    (Field['Flag'](name=\"base_PsfFlux_flag\", doc=\"General Failure Flag\"), Key['Flag'](offset=328, bit=33)),\n",
       "    (Field['Flag'](name=\"base_PsfFlux_flag_noGoodPixels\", doc=\"not enough non-rejected pixels in data to attempt the fit\"), Key['Flag'](offset=328, bit=34)),\n",
       "    (Field['Flag'](name=\"base_PsfFlux_flag_edge\", doc=\"object was too close to the edge of the image to use the full PSF model\"), Key['Flag'](offset=328, bit=35)),\n",
       "    (Field['Flag'](name=\"base_Variance_flag\", doc=\"Set for any fatal failure\"), Key['Flag'](offset=328, bit=36)),\n",
       "    (Field['D'](name=\"base_Variance_value\", doc=\"Variance at object position\"), Key<D>(offset=504, nElements=1)),\n",
       "    (Field['Flag'](name=\"base_Variance_flag_emptyFootprint\", doc=\"Set to True when the footprint has no usable pixels\"), Key['Flag'](offset=328, bit=37)),\n",
       "    (Field['Flag'](name=\"detect_isPatchInner\", doc=\"true if source is in the inner region of a coadd patch\"), Key['Flag'](offset=328, bit=38)),\n",
       "    (Field['Flag'](name=\"detect_isTractInner\", doc=\"true if source is in the inner region of a coadd tract\"), Key['Flag'](offset=328, bit=39)),\n",
       "    (Field['Flag'](name=\"detect_isPrimary\", doc=\"true if source has no children and is in the inner region of a coadd patch and is in the inner region of a coadd tract and is not \"detected\" in a pseudo-filter (see config.pseudoFilterList)\"), Key['Flag'](offset=328, bit=40)),\n",
       "    (Field['D'](name=\"base_GaussianFlux_apCorr\", doc=\"aperture correction applied to base_GaussianFlux\"), Key<D>(offset=512, nElements=1)),\n",
       "    (Field['D'](name=\"base_GaussianFlux_apCorrErr\", doc=\"standard deviation of aperture correction applied to base_GaussianFlux\"), Key<D>(offset=520, nElements=1)),\n",
       "    (Field['Flag'](name=\"base_GaussianFlux_flag_apCorr\", doc=\"set if unable to aperture correct base_GaussianFlux\"), Key['Flag'](offset=328, bit=41)),\n",
       "    (Field['D'](name=\"base_PsfFlux_apCorr\", doc=\"aperture correction applied to base_PsfFlux\"), Key<D>(offset=528, nElements=1)),\n",
       "    (Field['D'](name=\"base_PsfFlux_apCorrErr\", doc=\"standard deviation of aperture correction applied to base_PsfFlux\"), Key<D>(offset=536, nElements=1)),\n",
       "    (Field['Flag'](name=\"base_PsfFlux_flag_apCorr\", doc=\"set if unable to aperture correct base_PsfFlux\"), Key['Flag'](offset=328, bit=42)),\n",
       "    (Field['D'](name=\"base_ClassificationExtendedness_value\", doc=\"Set to 1 for extended sources, 0 for point sources.\"), Key<D>(offset=544, nElements=1)),\n",
       "    (Field['Flag'](name=\"base_ClassificationExtendedness_flag\", doc=\"Set to 1 for any fatal failure.\"), Key['Flag'](offset=328, bit=43)),\n",
       "    (Field['I'](name=\"base_FootprintArea_value\", doc=\"Number of pixels in the source''''s detection footprint.\", units=\"pixel\"), Key<I>(offset=552, nElements=1)),\n",
       "    (Field['Flag'](name=\"merge_measurement_HSC-G\", doc=\"Flag field set if the measurements here are from the HSC-G filter\"), Key['Flag'](offset=328, bit=44)),\n",
       "    (Field['Flag'](name=\"merge_measurement_HSC-R\", doc=\"Flag field set if the measurements here are from the HSC-R filter\"), Key['Flag'](offset=328, bit=45)),\n",
       "    (Field['Flag'](name=\"merge_measurement_HSC-I\", doc=\"Flag field set if the measurements here are from the HSC-I filter\"), Key['Flag'](offset=328, bit=46)),\n",
       "    (Field['Flag'](name=\"merge_measurement_HSC-Z\", doc=\"Flag field set if the measurements here are from the HSC-Z filter\"), Key['Flag'](offset=328, bit=47)),\n",
       "    (Field['Flag'](name=\"merge_measurement_HSC-Y\", doc=\"Flag field set if the measurements here are from the HSC-Y filter\"), Key['Flag'](offset=328, bit=48)),\n",
       "    (Field['Flag'](name=\"merge_measurement_VISTA-z\", doc=\"Flag field set if the measurements here are from the VISTA-z filter\"), Key['Flag'](offset=328, bit=49)),\n",
       "    (Field['Flag'](name=\"merge_measurement_VISTA-Y\", doc=\"Flag field set if the measurements here are from the VISTA-Y filter\"), Key['Flag'](offset=328, bit=50)),\n",
       "    (Field['Flag'](name=\"merge_measurement_VISTA-J\", doc=\"Flag field set if the measurements here are from the VISTA-J filter\"), Key['Flag'](offset=328, bit=51)),\n",
       "    (Field['Flag'](name=\"merge_measurement_VISTA-H\", doc=\"Flag field set if the measurements here are from the VISTA-H filter\"), Key['Flag'](offset=328, bit=52)),\n",
       "    (Field['Flag'](name=\"merge_measurement_VISTA-Ks\", doc=\"Flag field set if the measurements here are from the VISTA-Ks filter\"), Key['Flag'](offset=328, bit=53)),\n",
       "    'base_CircularApertureFlux_flag_badCentroid'->'base_SdssCentroid_flag'\n",
       "    'base_GaussianFlux_flag_badCentroid'->'base_SdssCentroid_flag'\n",
       "    'base_GaussianFlux_flag_badShape'->'base_SdssShape_flag'\n",
       "    'base_InputCount_flag_badCentroid'->'base_SdssCentroid_flag'\n",
       "    'base_LocalBackground_flag_badCentroid'->'base_SdssCentroid_flag'\n",
       "    'base_NaiveCentroid_flag_badInitialCentroid'->'base_SdssCentroid_flag'\n",
       "    'base_PsfFlux_flag_badCentroid'->'base_SdssCentroid_flag'\n",
       "    'base_SdssShape_flag_badCentroid'->'base_SdssCentroid_flag'\n",
       "    'base_Variance_flag_badCentroid'->'base_SdssCentroid_flag'\n",
       "    'slot_ApFlux'->'base_CircularApertureFlux_12_0'\n",
       "    'slot_CalibFlux'->'base_CircularApertureFlux_12_0'\n",
       "    'slot_Centroid'->'base_SdssCentroid'\n",
       "    'slot_GaussianFlux'->'base_GaussianFlux'\n",
       "    'slot_ModelFlux'->'base_GaussianFlux'\n",
       "    'slot_PsfFlux'->'base_PsfFlux'\n",
       "    'slot_PsfShape'->'base_SdssShape_psf'\n",
       "    'slot_Shape'->'base_SdssShape'\n",
       ")"
      ]
     },
     "execution_count": 21,
     "metadata": {},
     "output_type": "execute_result"
    }
   ],
   "source": [
    "refTable.getSchema()"
   ]
  },
  {
   "cell_type": "code",
   "execution_count": 22,
   "metadata": {},
   "outputs": [
    {
     "data": {
      "text/plain": [
       "Text(0, 0.5, 'LSST psf forced [mag]')"
      ]
     },
     "execution_count": 22,
     "metadata": {},
     "output_type": "execute_result"
    },
    {
     "data": {
      "image/png": "[encoded data removed]",
      "text/plain": [
       "<Figure size 432x288 with 1 Axes>"
      ]
     },
     "metadata": {
      "needs_background": "light"
     },
     "output_type": "display_data"
    }
   ],
   "source": [
    "plt.scatter(full_cat['m_vista_y'][full_cat['flag']], \n",
    "            full_cat['m_ap_vista_y'][full_cat['flag']],\n",
    "            alpha=0.5, s=0.1)\n",
    "plt.xlabel('LSST Stack 2 arcsec aperture corrected AB [mag]')\n",
    "plt.ylabel('LSST psf forced [mag]')"
   ]
  },
  {
   "cell_type": "code",
   "execution_count": 23,
   "metadata": {},
   "outputs": [
    {
     "data": {
      "text/plain": [
       "Text(0, 0.5, 'LSST psf - 2 arcsec ap  [mag]')"
      ]
     },
     "execution_count": 23,
     "metadata": {},
     "output_type": "execute_result"
    },
    {
     "data": {
      "image/png": "[encoded data removed]",
      "text/plain": [
       "<Figure size 432x288 with 1 Axes>"
      ]
     },
     "metadata": {
      "needs_background": "light"
     },
     "output_type": "display_data"
    }
   ],
   "source": [
    "plt.scatter(full_cat['m_ap_vista_y'][full_cat['flag']], \n",
    "            full_cat['m_vista_y'][full_cat['flag']] - full_cat['m_ap_vista_y'][full_cat['flag']],\n",
    "            alpha=0.5, s=0.1)\n",
    "plt.xlabel('LSST Stack 2 arcsec aperture corrected AB [mag]')\n",
    "plt.ylabel('LSST psf - 2 arcsec ap  [mag]')\n",
    "#plt.plot([12,25],[12,25])\n",
    "#plt.xlim([12,27])\n",
    "#plt.ylim([-1,1])"
   ]
  },
  {
   "cell_type": "code",
   "execution_count": 24,
   "metadata": {},
   "outputs": [
    {
     "data": {
      "text/html": [
       "<i>Table length=10</i>\n",
       "<table id=\"table5079979216-826499\" class=\"table-striped table-bordered table-condensed\">\n",
       "<thead><tr><th>idx</th><th>m_vista_y</th><th>merr_vista_y</th><th>f_vista_y</th><th>ferr_vista_y</th><th>m_ap_vista_y</th><th>merr_ap_vista_y</th><th>f_ap_vista_y</th><th>ferr_ap_vista_y</th><th>m_vista_j</th><th>merr_vista_j</th><th>m_ap_vista_j</th><th>merr_ap_vista_j</th><th>m_vista_h</th><th>merr_vista_h</th><th>m_ap_vista_h</th><th>merr_ap_vista_h</th><th>m_vista_ks</th><th>merr_vista_ks</th><th>m_ap_vista_ks</th><th>merr_ap_vista_ks</th><th>f_ap_vista_ks</th><th>ferr_ap_vista_ks</th><th>ra</th><th>dec</th><th>flag</th></tr></thead>\n",
       "<tr><td>0</td><td>24.118690670510837</td><td>0.16238447949364937</td><td>817.5677122846623</td><td>122.27676191357526</td><td>nan</td><td>nan</td><td>nan</td><td>nan</td><td>24.004444880462167</td><td>0.24173937318359803</td><td>nan</td><td>nan</td><td>24.795554587593656</td><td>0.47345418222901203</td><td>nan</td><td>nan</td><td>22.753303979521164</td><td>0.13400846160182914</td><td>nan</td><td>nan</td><td>nan</td><td>nan</td><td>0.6279737988353425</td><td>-0.09583239499475044</td><td>False</td></tr>\n",
       "<tr><td>1</td><td>nan</td><td>0.46208136858345894</td><td>-286.88037175289753</td><td>122.09418293170151</td><td>nan</td><td>nan</td><td>nan</td><td>nan</td><td>24.629399439479304</td><td>0.4297985471824991</td><td>nan</td><td>nan</td><td>nan</td><td>0.4983707901849048</td><td>nan</td><td>nan</td><td>22.86876192816271</td><td>0.14900201805696467</td><td>nan</td><td>nan</td><td>nan</td><td>nan</td><td>0.6279623438639035</td><td>-0.09583240027792801</td><td>False</td></tr>\n",
       "<tr><td>2</td><td>24.488515235419698</td><td>0.2252182048948718</td><td>581.5591670252284</td><td>120.63493053246474</td><td>23.25176865744948</td><td>0.13196460338812124</td><td>1816.7389904424765</td><td>220.8135266032558</td><td>23.770820481405742</td><td>0.19363729164064247</td><td>28.06064438716387</td><td>17.566012178995223</td><td>nan</td><td>0.11469194509613205</td><td>nan</td><td>0.24094758638082</td><td>22.776875718653223</td><td>0.1351885906232332</td><td>nan</td><td>0.3161377561127461</td><td>-2288.7240601772273</td><td>666.4161014202053</td><td>0.627713559380191</td><td>-0.09580991749477649</td><td>False</td></tr>\n",
       "<tr><td>3</td><td>25.76615539150248</td><td>0.7322446552838751</td><td>179.28247680900301</td><td>120.91209158737855</td><td>nan</td><td>nan</td><td>nan</td><td>nan</td><td>24.03722690704409</td><td>0.24756591625644694</td><td>nan</td><td>nan</td><td>nan</td><td>0.21677648849554584</td><td>nan</td><td>nan</td><td>23.124007235624056</td><td>0.18673533432386102</td><td>nan</td><td>nan</td><td>nan</td><td>nan</td><td>0.627696424194213</td><td>-0.09583170495218139</td><td>False</td></tr>\n",
       "<tr><td>4</td><td>25.643201686035013</td><td>0.6488174360541619</td><td>200.77948021743927</td><td>119.98239258861823</td><td>23.484228828682117</td><td>0.16341515339452586</td><td>1466.5891527610595</td><td>220.73768040054097</td><td>24.5768276028048</td><td>0.40552683428079206</td><td>25.47035971235442</td><td>1.5975545692869766</td><td>nan</td><td>0.8715491575097964</td><td>nan</td><td>0.514404925062042</td><td>22.795778283530662</td><td>0.13741589451163025</td><td>24.317597468152297</td><td>1.0495325450189654</td><td>680.7082477599668</td><td>658.0101654122068</td><td>0.6275319616937308</td><td>-0.09582851742364792</td><td>False</td></tr>\n",
       "<tr><td>5</td><td>24.55868041381803</td><td>0.23848075733391652</td><td>545.1648348606716</td><td>119.7448534180135</td><td>nan</td><td>nan</td><td>nan</td><td>nan</td><td>nan</td><td>0.36733305260571336</td><td>nan</td><td>nan</td><td>25.76871568334745</td><td>1.1441142194652199</td><td>nan</td><td>nan</td><td>23.170307334404132</td><td>0.19385098258317765</td><td>nan</td><td>nan</td><td>nan</td><td>nan</td><td>0.6274624149869541</td><td>-0.0958326186762588</td><td>False</td></tr>\n",
       "<tr><td>6</td><td>nan</td><td>1.2534089145636726</td><td>-103.3884823405485</td><td>119.35500065388426</td><td>23.774495618281726</td><td>0.2134366644149558</td><td>1122.539812128042</td><td>220.6716070843142</td><td>nan</td><td>0.4320467896477374</td><td>24.897026337738687</td><td>0.9416792055984015</td><td>nan</td><td>1.0396481451046937</td><td>nan</td><td>0.3703343781540469</td><td>22.868124406203783</td><td>0.14658068264441418</td><td>25.420074546452852</td><td>2.8960439522735313</td><td>246.58700252288</td><td>657.7350872486853</td><td>0.6274305023194539</td><td>-0.09582693059242443</td><td>False</td></tr>\n",
       "<tr><td>7</td><td>nan</td><td>0.38864551805539577</td><td>-336.37072715314383</td><td>120.40583609554257</td><td>nan</td><td>nan</td><td>nan</td><td>nan</td><td>nan</td><td>0.10343709338284769</td><td>nan</td><td>nan</td><td>24.26358249364199</td><td>0.2747585719330157</td><td>nan</td><td>nan</td><td>22.498381261652774</td><td>0.0982048269112636</td><td>nan</td><td>nan</td><td>nan</td><td>nan</td><td>0.627405139849761</td><td>-0.09583264217755495</td><td>False</td></tr>\n",
       "<tr><td>8</td><td>nan</td><td>0.13416453287714009</td><td>-986.9813703979094</td><td>121.96138798500687</td><td>nan</td><td>nan</td><td>nan</td><td>nan</td><td>nan</td><td>0.463745136782761</td><td>nan</td><td>nan</td><td>nan</td><td>6.155248958686283</td><td>nan</td><td>nan</td><td>22.662173111314836</td><td>0.14955164404823224</td><td>nan</td><td>nan</td><td>nan</td><td>nan</td><td>0.6266998349951912</td><td>-0.09583209150400754</td><td>False</td></tr>\n",
       "<tr><td>9</td><td>27.086995819547187</td><td>2.498696535229797</td><td>53.11310268857561</td><td>122.23367433235133</td><td>nan</td><td>0.7453217829962023</td><td>-294.0339571402979</td><td>201.8445293035577</td><td>nan</td><td>0.20754638432475578</td><td>nan</td><td>0.4847677980892865</td><td>25.80013678102037</td><td>1.2754461045268064</td><td>23.973833899224605</td><td>0.360939981684779</td><td>22.109962925819026</td><td>0.09084984806642564</td><td>21.683625333528273</td><td>0.09334790106718645</td><td>7701.048643103225</td><td>662.1099339780561</td><td>0.6265492802327359</td><td>-0.09582562597721171</td><td>False</td></tr>\n",
       "</table><style>table.dataTable {clear: both; width: auto !important; margin: 0 !important;}\n",
       ".dataTables_info, .dataTables_length, .dataTables_filter, .dataTables_paginate{\n",
       "display: inline-block; margin-right: 1em; }\n",
       ".paginate_button { margin-right: 5px; }\n",
       "</style>\n",
       "<script>\n",
       "\n",
       "var astropy_sort_num = function(a, b) {\n",
       "    var a_num = parseFloat(a);\n",
       "    var b_num = parseFloat(b);\n",
       "\n",
       "    if (isNaN(a_num) && isNaN(b_num))\n",
       "        return ((a < b) ? -1 : ((a > b) ? 1 : 0));\n",
       "    else if (!isNaN(a_num) && !isNaN(b_num))\n",
       "        return ((a_num < b_num) ? -1 : ((a_num > b_num) ? 1 : 0));\n",
       "    else\n",
       "        return isNaN(a_num) ? -1 : 1;\n",
       "}\n",
       "\n",
       "require.config({paths: {\n",
       "    datatables: 'https://cdn.datatables.net/1.10.12/js/jquery.dataTables.min'\n",
       "}});\n",
       "require([\"datatables\"], function(){\n",
       "    console.log(\"$('#table5079979216-826499').dataTable()\");\n",
       "    \n",
       "jQuery.extend( jQuery.fn.dataTableExt.oSort, {\n",
       "    \"optionalnum-asc\": astropy_sort_num,\n",
       "    \"optionalnum-desc\": function (a,b) { return -astropy_sort_num(a, b); }\n",
       "});\n",
       "\n",
       "    $('#table5079979216-826499').dataTable({\n",
       "        order: [],\n",
       "        pageLength: 50,\n",
       "        lengthMenu: [[10, 25, 50, 100, 500, 1000, -1], [10, 25, 50, 100, 500, 1000, 'All']],\n",
       "        pagingType: \"full_numbers\",\n",
       "        columnDefs: [{targets: [0, 1, 2, 3, 4, 5, 6, 7, 8, 9, 10, 11, 12, 13, 14, 15, 16, 17, 18, 19, 20, 21, 22, 23, 24], type: \"optionalnum\"}]\n",
       "    });\n",
       "});\n",
       "</script>\n"
      ],
      "text/plain": [
       "<IPython.core.display.HTML object>"
      ]
     },
     "execution_count": 24,
     "metadata": {},
     "output_type": "execute_result"
    }
   ],
   "source": [
    "full_cat[:10].show_in_notebook()"
   ]
  },
  {
   "cell_type": "code",
   "execution_count": 25,
   "metadata": {},
   "outputs": [
    {
     "data": {
      "image/png": "[encoded data removed]",
      "text/plain": [
       "<Figure size 432x288 with 1 Axes>"
      ]
     },
     "metadata": {
      "needs_background": "light"
     },
     "output_type": "display_data"
    }
   ],
   "source": [
    "m = full_cat['m_ap_vista_y'] < 30\n",
    "plt.hist(full_cat['m_ap_vista_y'][m], bins = 100)\n",
    "plt.yscale('log')"
   ]
  },
  {
   "cell_type": "code",
   "execution_count": 26,
   "metadata": {},
   "outputs": [
    {
     "data": {
      "image/png": "[encoded data removed]",
      "text/plain": [
       "<Figure size 432x288 with 1 Axes>"
      ]
     },
     "metadata": {
      "needs_background": "light"
     },
     "output_type": "display_data"
    }
   ],
   "source": [
    "#m = full_cat['m_ap_vista_ks'] < 30\n",
    "plt.hist(full_cat[m]['m_ap_vista_ks'], bins = 100)\n",
    "plt.yscale('log')"
   ]
  },
  {
   "cell_type": "code",
   "execution_count": 27,
   "metadata": {},
   "outputs": [],
   "source": [
    "s5 = full_cat['f_ap_vista_ks']/full_cat['ferr_ap_vista_ks'] > 5\n",
    "s5 &= full_cat['f_ap_vista_y']/full_cat['ferr_ap_vista_y'] > 5"
   ]
  },
  {
   "cell_type": "code",
   "execution_count": 28,
   "metadata": {},
   "outputs": [
    {
     "data": {
      "image/png": "[encoded data removed]",
      "text/plain": [
       "<Figure size 432x288 with 1 Axes>"
      ]
     },
     "metadata": {
      "needs_background": "light"
     },
     "output_type": "display_data"
    }
   ],
   "source": [
    "plt.hist(full_cat['m_ap_vista_y'][s5], bins = 100)\n",
    "plt.yscale('log')"
   ]
  },
  {
   "cell_type": "code",
   "execution_count": 29,
   "metadata": {},
   "outputs": [
    {
     "data": {
      "image/png": "[encoded data removed]",
      "text/plain": [
       "<Figure size 432x288 with 1 Axes>"
      ]
     },
     "metadata": {
      "needs_background": "light"
     },
     "output_type": "display_data"
    }
   ],
   "source": [
    "plt.hist(full_cat['m_vista_y'][s5], bins = 100)\n",
    "plt.yscale('log')"
   ]
  },
  {
   "cell_type": "code",
   "execution_count": 30,
   "metadata": {},
   "outputs": [
    {
     "data": {
      "image/png": "[encoded data removed]",
      "text/plain": [
       "<Figure size 432x288 with 1 Axes>"
      ]
     },
     "metadata": {
      "needs_background": "light"
     },
     "output_type": "display_data"
    }
   ],
   "source": [
    "plt.hist(full_cat['m_vista_ks'][s5], bins = 100)\n",
    "plt.yscale('log')"
   ]
  },
  {
   "cell_type": "markdown",
   "metadata": {},
   "source": [
    "## Measurement catalogue instead of forced catalogue"
   ]
  },
  {
   "cell_type": "raw",
   "metadata": {},
   "source": [
    "full_ap_cat = Table()\n",
    "for f in y_stack_files:\n",
    "    tract = 8524\n",
    "    patch = str(f[-8:-5])\n",
    "    print(patch)\n",
    "    ySources = butler.get('deepCoadd_meas', {'filter': 'VISTA-Y', 'tract': tract, 'patch': patch})\n",
    "    ksSources = butler.get('deepCoadd_meas', {'filter': 'VISTA-Ks', 'tract': tract, 'patch': patch})\n",
    "    yCoaddPhotoCalib = butler.get('deepCoadd_meas',  {'filter': 'VISTA-Y', 'tract': tract, 'patch': patch})\n",
    "    ksCoaddPhotoCalib = butler.get('deepCoadd_meas',  {'filter': 'VISTA-Ks', 'tract': tract, 'patch': patch})\n",
    "    yCoaddCalexp = butler.get('deepCoadd_calexp',  {'filter': 'VISTA-Y', 'tract': tract, 'patch': patch})\n",
    "    yCoaddPhotoCalib = yCoaddCalexp.getPhotoCalib()\n",
    "    ksCoaddCalexp = butler.get('deepCoadd_calexp',  {'filter': 'VISTA-Ks', 'tract': tract, 'patch': patch})\n",
    "    ksCoaddPhotoCalib = ksCoaddCalexp.getPhotoCalib()\n",
    "    f_type = 'base_CircularApertureFlux_12_0' #'base_PsfFlux' 'base_CircularApertureFlux_2_0'\n",
    "    yMags = yCoaddPhotoCalib.instFluxToMagnitude(ySources, f_type)\n",
    "    ksMags = ksCoaddPhotoCalib.instFluxToMagnitude(ksSources, f_type)\n",
    "    yFlux = yCoaddPhotoCalib.instFluxToNanojansky(ySources, f_type)\n",
    "    ksFlux = ksCoaddPhotoCalib.instFluxToNanojansky(ksSources, f_type)\n",
    "    sn5 = (yFlux[:,0]/yFlux[:,1] > 5) & (ksFlux[:,0]/ksFlux[:,1] > 5)\n",
    "    isDeblended = ySources['deblend_nChild'] == 0\n",
    "    refTable = butler.get('deepCoadd_ref', {'filter': 'VISTA-Y^VISTA-Ks', 'tract': tract, 'patch': patch})\n",
    "    #refTable\n",
    "    inInnerRegions = refTable['detect_isPatchInner'] & refTable['detect_isTractInner']\n",
    "    isSkyObject = refTable['merge_peak_sky']\n",
    "    isPrimary = refTable['detect_isPrimary']\n",
    "    isStellar = refTable['base_ClassificationExtendedness_value'] < 1.\n",
    "    ySources.getSchema().extract('{}_*'.format(f_type))\n",
    "    isGoodFlux = ~ySources['{}_flag'.format(f_type)]\n",
    "    selected = isPrimary & isGoodFlux & inInnerRegions & isStellar  \n",
    "    cat = Table()\n",
    "    cat['f_ap_vista_ks'] = ksFlux[:,0]\n",
    "    cat['ferr_ap_vista_ks'] = ksFlux[:,1]\n",
    "    cat['f_ap_vista_y'] = yFlux[:,0]\n",
    "    cat['ferr_ap_vista_y'] = yFlux[:,1]\n",
    "    cat['m_ap_vista_ks'] = ksMags[:,0]\n",
    "    cat['merr_ap_vista_ks'] = ksMags[:,1]\n",
    "    cat['m_ap_vista_y'] = yMags[:,0]\n",
    "    cat['merr_ap_vista_y'] = yMags[:,1]\n",
    "    cat['ra'] = ySources['coord_ra']\n",
    "    cat['dec'] = ySources['coord_dec']\n",
    "    cat['flag'] = selected\n",
    "    full_ap_cat = vstack([full_ap_cat,cat])"
   ]
  },
  {
   "cell_type": "raw",
   "metadata": {},
   "source": [
    "len(full_cat),len(full_ap_cat)"
   ]
  },
  {
   "cell_type": "raw",
   "metadata": {},
   "source": [
    "plt.scatter(full_ap_cat['m_ap_vista_y'][full_cat['flag']], \n",
    "            full_cat['m_vista_y'][full_cat['flag']] - full_ap_cat['m_ap_vista_y'][full_cat['flag']],\n",
    "            alpha=0.5, s=0.1)\n",
    "#plt.plot([12,25],[12,25])\n",
    "plt.xlim([12,27])\n",
    "plt.ylim([-1,1])"
   ]
  },
  {
   "cell_type": "raw",
   "metadata": {},
   "source": [
    "plt.hist(full_ap_cat['m_ap_vista_y'][s5], bins = 100)"
   ]
  },
  {
   "cell_type": "markdown",
   "metadata": {},
   "source": [
    "### Oxford Ks selected 2 arcsec catalogue\n",
    "We found this to be the best catalogue for comparisons in dmu2/2_Colour_terms.ipynb"
   ]
  },
  {
   "cell_type": "code",
   "execution_count": 31,
   "metadata": {},
   "outputs": [
    {
     "name": "stdout",
     "output_type": "stream",
     "text": [
      "1674689\n",
      "609199\n"
     ]
    }
   ],
   "source": [
    "imported_columns = OrderedDict({\n",
    "        'ID_se':              'id', \n",
    "        'RA':     'ra', \n",
    "        'DEC':     'dec', \n",
    "    \n",
    "        #'J_CLASS_STAR':    'vista_stellarity', \n",
    "     \n",
    "        #HSC GRIZY?\n",
    "        'flux_Y':    'f_ap_vista_y', \n",
    "        'err_Y': 'ferr_ap_vista_y', #Flux error? ~E-30\n",
    "\n",
    "    \n",
    "        'flux_J':    'f_ap_vista_j', \n",
    "        'err_J': 'ferr_ap_vista_j', \n",
    "\n",
    "    \n",
    "        'flux_H':    'f_ap_vista_h', \n",
    "        'err_H': 'ferr_ap_vista_h', \n",
    "\n",
    "  \n",
    "        'flux_Ks':    'f_ap_vista_ks', \n",
    "        'err_Ks': 'ferr_ap_vista_ks', \n",
    "\n",
    "\n",
    "})\n",
    "\n",
    "\n",
    "oxford_ks_cat = Table.read(OXFORD_VISTA_Ks_CAT\n",
    "                      )[list(imported_columns)]\n",
    "for column in imported_columns:\n",
    "    oxford_ks_cat[column].name = 'oxford_ks_' + imported_columns[column]\n",
    "    \n",
    "\n",
    "    \n",
    "oxford_ks_cat['oxford_ks_ra'].unit = u.deg\n",
    "oxford_ks_cat['oxford_ks_dec'].unit = u.deg\n",
    "oxford_ks_cat['oxford_ks_ra'].convert_unit_to(u.rad)\n",
    "oxford_ks_cat['oxford_ks_dec'].convert_unit_to(u.rad)\n",
    "\n",
    "print(len(oxford_ks_cat))\n",
    "mask = oxford_ks_cat['oxford_ks_ra'] <  np.nanmax(ks_tile_cat['ks_tile_RA'])\n",
    "mask &= oxford_ks_cat['oxford_ks_ra'] >  np.nanmin(ks_tile_cat['ks_tile_RA'])\n",
    "mask &= oxford_ks_cat['oxford_ks_dec'] <  np.nanmax(ks_tile_cat['ks_tile_DEC'])\n",
    "mask &= oxford_ks_cat['oxford_ks_dec'] >  np.nanmin(ks_tile_cat['ks_tile_DEC'])\n",
    "oxford_ks_cat = oxford_ks_cat[mask]\n",
    "print(len(oxford_ks_cat))"
   ]
  },
  {
   "cell_type": "code",
   "execution_count": 32,
   "metadata": {},
   "outputs": [],
   "source": [
    "#convert units and fluxes to mags\n",
    "#From Rebecca units are in cgs (ergs/s/cm2)\n",
    "#I presume she means cgs flux densities (ergs/s/cm2/Hz) - check for large offset\n",
    "for col in oxford_ks_cat.colnames:\n",
    "    if col.startswith('oxford_ks_f_'):\n",
    "        err_col = col.replace('_f_', '_ferr_')\n",
    "        oxford_ks_cat[col].unit = u.erg/u.second/u.cm**2/u.Hz\n",
    "        oxford_ks_cat[err_col].unit = u.erg/u.second/u.cm**2/u.Hz\n",
    "        oxford_ks_cat[col].convert_unit_to(u.uJy)\n",
    "        oxford_ks_cat[err_col].convert_unit_to(u.uJy)\n",
    "        m,merr = flux_to_mag(oxford_ks_cat[col]*1e-6,oxford_ks_cat[err_col]*1e-6) # expects Jansky\n",
    "        oxford_ks_cat[col.replace('_f_', '_m_')] = m\n",
    "        oxford_ks_cat[err_col.replace('_ferr_', '_merr_')] = merr"
   ]
  },
  {
   "cell_type": "code",
   "execution_count": 33,
   "metadata": {},
   "outputs": [
    {
     "data": {
      "image/png": "[encoded data removed]",
      "text/plain": [
       "<Figure size 432x288 with 1 Axes>"
      ]
     },
     "metadata": {
      "needs_background": "light"
     },
     "output_type": "display_data"
    }
   ],
   "source": [
    "plt.hist(oxford_ks_cat['oxford_ks_m_ap_vista_ks'], bins = 100)\n",
    "plt.yscale('log')"
   ]
  },
  {
   "cell_type": "code",
   "execution_count": 34,
   "metadata": {},
   "outputs": [
    {
     "data": {
      "image/png": "[encoded data removed]",
      "text/plain": [
       "<Figure size 432x288 with 1 Axes>"
      ]
     },
     "metadata": {
      "needs_background": "light"
     },
     "output_type": "display_data"
    }
   ],
   "source": [
    "plt.hist(oxford_ks_cat['oxford_ks_m_ap_vista_y'], bins = 100)\n",
    "plt.yscale('log')"
   ]
  },
  {
   "cell_type": "markdown",
   "metadata": {},
   "source": [
    "## The VHS calibration catalogues\n",
    "\n",
    "These were the catalogues used to calibrate the stack and provide a further check"
   ]
  },
  {
   "cell_type": "code",
   "execution_count": 35,
   "metadata": {},
   "outputs": [
    {
     "name": "stdout",
     "output_type": "stream",
     "text": [
      "vhs_m_ap_vista_j\n",
      "vhs_m_ap_vista_j 0.916\n",
      "vhs_m_ap_vista_h\n",
      "vhs_m_ap_vista_h 1.366\n",
      "vhs_m_ap_vista_ks\n",
      "vhs_m_ap_vista_ks 1.827\n"
     ]
    }
   ],
   "source": [
    "# Bands: Y,J,H,K\n",
    "imported_columns = OrderedDict({\n",
    "        'SOURCEID': \"id\",\n",
    "        'ra': \"ra\",\n",
    "        'dec': \"dec\",\n",
    "        'PSTAR':  \"stellarity\",\n",
    "        #'YPETROMAG': \"m_vhs_y\", \n",
    "        #'YPETROMAGERR': \"merr_vhs_y\", \n",
    "        #'YAPERMAG3': \"m_ap_vista_y\", \n",
    "        #'YAPERMAG3ERR': \"merr_ap_vista_y\",\n",
    "        #'JPETROMAG': \"m_vhs_j\", \n",
    "        #'JPETROMAGERR': \"merr_vhs_j\", \n",
    "        'JAPERMAG3': \"m_ap_vista_j\", \n",
    "        'JAPERMAG3ERR': \"merr_ap_vista_j\",        \n",
    "        #'HPETROMAG': \"m_vhs_h\", \n",
    "        #'HPETROMAGERR': \"merr_vhs_h\", \n",
    "        'HAPERMAG3': \"m_ap_vista_h\", \n",
    "        'HAPERMAG3ERR': \"merr_ap_vista_h\",        \n",
    "        #'KSPETROMAG': \"m_vhs_k\", \n",
    "        #'KSPETROMAGERR': \"merr_vhs_k\", \n",
    "        'KSAPERMAG3': \"m_ap_vista_ks\", \n",
    "        'KSAPERMAG3ERR': \"merr_ap_vista_ks\",\n",
    "    })\n",
    "\n",
    "\n",
    "catalogue = Table.read(VHS_CAT)[list(imported_columns)]\n",
    "for column in imported_columns:\n",
    "    new_col = 'vhs_' + imported_columns[column]\n",
    "    catalogue[column].name = new_col\n",
    "    \n",
    "for col in catalogue.colnames:\n",
    "    if col.startswith('vhs_m_ap'):\n",
    "        print(col)\n",
    "        mask = catalogue[col] <= 0\n",
    "        catalogue[col][mask] = np.nan\n",
    "        catalogue[col.replace('vhs_m', 'vhs_merr')][mask] = np.nan\n",
    "        \n",
    "        # Convert magnitude from Vega to AB\n",
    "        print(col, vega_to_ab[col.split('_')[-1]])\n",
    "        catalogue[col] += vega_to_ab[col.split('_')[-1]]\n",
    "        \n",
    "#v_flux = Table.read('../dmu0/dmu0_VISTA/dmu0_VHS/data/VHS_XMM-LSS.fits')\n",
    "vhs_cat = catalogue[catalogue['vhs_stellarity'] >= 0.9]"
   ]
  },
  {
   "cell_type": "code",
   "execution_count": 36,
   "metadata": {},
   "outputs": [
    {
     "data": {
      "text/html": [
       "<i>Table length=5</i>\n",
       "<table id=\"table4780416400\" class=\"table-striped table-bordered table-condensed\">\n",
       "<thead><tr><th>vhs_id</th><th>vhs_ra</th><th>vhs_dec</th><th>vhs_stellarity</th><th>vhs_m_ap_vista_j</th><th>vhs_merr_ap_vista_j</th><th>vhs_m_ap_vista_h</th><th>vhs_merr_ap_vista_h</th><th>vhs_m_ap_vista_ks</th><th>vhs_merr_ap_vista_ks</th></tr></thead>\n",
       "<thead><tr><th></th><th>deg</th><th>deg</th><th></th><th></th><th></th><th></th><th></th><th></th><th></th></tr></thead>\n",
       "<thead><tr><th>int64</th><th>float64</th><th>float64</th><th>float32</th><th>float32</th><th>float32</th><th>float32</th><th>float32</th><th>float32</th><th>float32</th></tr></thead>\n",
       "<tr><td>472534730838</td><td>33.72832354037762</td><td>-5.832482775355095</td><td>0.9</td><td>20.389828</td><td>0.11976809</td><td>nan</td><td>nan</td><td>nan</td><td>nan</td></tr>\n",
       "<tr><td>472534730861</td><td>33.67178086729373</td><td>-5.834132174059466</td><td>0.9</td><td>21.276556</td><td>0.2876344</td><td>nan</td><td>nan</td><td>nan</td><td>nan</td></tr>\n",
       "<tr><td>472534730881</td><td>33.65485065811903</td><td>-5.834257860498843</td><td>0.9446064</td><td>20.555645</td><td>0.14140964</td><td>19.4816</td><td>0.090296336</td><td>19.179087</td><td>0.07259629</td></tr>\n",
       "<tr><td>472534731135</td><td>33.68171447839052</td><td>-5.8512307039190805</td><td>0.9</td><td>20.992472</td><td>0.22032054</td><td>nan</td><td>nan</td><td>nan</td><td>nan</td></tr>\n",
       "<tr><td>472534731227</td><td>33.70316508463697</td><td>-5.856052360898439</td><td>0.9</td><td>20.867168</td><td>0.19627884</td><td>nan</td><td>nan</td><td>nan</td><td>nan</td></tr>\n",
       "</table>"
      ],
      "text/plain": [
       "<Table length=5>\n",
       "   vhs_id          vhs_ra      ... vhs_m_ap_vista_ks vhs_merr_ap_vista_ks\n",
       "                    deg        ...                                       \n",
       "   int64          float64      ...      float32            float32       \n",
       "------------ ----------------- ... ----------------- --------------------\n",
       "472534730838 33.72832354037762 ...               nan                  nan\n",
       "472534730861 33.67178086729373 ...               nan                  nan\n",
       "472534730881 33.65485065811903 ...         19.179087           0.07259629\n",
       "472534731135 33.68171447839052 ...               nan                  nan\n",
       "472534731227 33.70316508463697 ...               nan                  nan"
      ]
     },
     "execution_count": 36,
     "metadata": {},
     "output_type": "execute_result"
    }
   ],
   "source": [
    "vhs_cat[:5]"
   ]
  },
  {
   "cell_type": "code",
   "execution_count": 37,
   "metadata": {},
   "outputs": [],
   "source": [
    "vhs_cat['vhs_ra'].unit = u.deg\n",
    "vhs_cat['vhs_dec'].unit = u.deg\n",
    "vhs_cat['vhs_ra'].convert_unit_to(u.rad)\n",
    "vhs_cat['vhs_dec'].convert_unit_to(u.rad)\n"
   ]
  },
  {
   "cell_type": "code",
   "execution_count": 38,
   "metadata": {},
   "outputs": [
    {
     "name": "stdout",
     "output_type": "stream",
     "text": [
      "126614\n",
      "7815\n"
     ]
    }
   ],
   "source": [
    "print(len(vhs_cat))\n",
    "m = vhs_cat['vhs_ra'] <  np.nanmax(ks_tile_cat['ks_tile_RA'])\n",
    "m &= vhs_cat['vhs_ra'] >  np.nanmin(ks_tile_cat['ks_tile_RA'])\n",
    "m &= vhs_cat['vhs_dec'] <  np.nanmax(ks_tile_cat['ks_tile_DEC'])\n",
    "m &= vhs_cat['vhs_dec'] >  np.nanmin(ks_tile_cat['ks_tile_DEC'])\n",
    "vhs_cat = vhs_cat[m]\n",
    "print(len(vhs_cat))"
   ]
  },
  {
   "cell_type": "code",
   "execution_count": 39,
   "metadata": {},
   "outputs": [
    {
     "data": {
      "image/png": "[encoded data removed]",
      "text/plain": [
       "<Figure size 432x288 with 1 Axes>"
      ]
     },
     "metadata": {
      "needs_background": "light"
     },
     "output_type": "display_data"
    }
   ],
   "source": [
    "plt.hist(vhs_cat['vhs_m_ap_vista_ks'], bins = 100)\n",
    "plt.yscale('log')"
   ]
  },
  {
   "cell_type": "code",
   "execution_count": 40,
   "metadata": {},
   "outputs": [
    {
     "data": {
      "image/png": "[encoded data removed]",
      "text/plain": [
       "<Figure size 432x288 with 1 Axes>"
      ]
     },
     "metadata": {
      "needs_background": "light"
     },
     "output_type": "display_data"
    }
   ],
   "source": [
    "plt.hist(vhs_cat['vhs_m_ap_vista_j'], bins = 100)\n",
    "plt.yscale('log')"
   ]
  },
  {
   "cell_type": "markdown",
   "metadata": {},
   "source": [
    "### 3.2.4 Merge the three catalogues\n",
    "\n",
    "we merge by positional cross match then plot some key statistics"
   ]
  },
  {
   "cell_type": "code",
   "execution_count": 41,
   "metadata": {},
   "outputs": [],
   "source": [
    "import logging\n",
    "LOGGER = logging.getLogger(__name__)\n",
    "from astropy.coordinates import SkyCoord, Angle\n",
    "import astropy.units as u\n",
    "from collections import Counter\n",
    "from astropy.table import Table, Column, hstack, vstack\n",
    "def merge_catalogues(cat_1, cat_2, racol_2, decol_2, radius=0.4*u.arcsec):\n",
    "    \"\"\"Merge two catalogues\n",
    "    This function merges the second catalogue into the first one using the\n",
    "    given radius to associate identical sources.  This function takes care to\n",
    "    associate only one source of one catalogue to the other.  The sources that\n",
    "    may be associated to various counterparts in the other catalogue are\n",
    "    flagged as “maybe spurious association” with a true value in the\n",
    "    flag_merged column.  If this column is present in the first catalogue, it's\n",
    "    content is “inherited” during the merge.\n",
    "    Parameters\n",
    "    ----------\n",
    "    cat_1: astropy.table.Table\n",
    "        The table containing the first catalogue.  This is the master catalogue\n",
    "        used during the merge.  If it has a “flag_merged” column it's content\n",
    "        will be re-used in the flagging of the spurious merges.  This catalogue\n",
    "        must contain a ‘ra’ and a ‘dec’ columns with the position in decimal\n",
    "        degrees.\n",
    "    cat_2: astropy.table.Table\n",
    "        The table containing the second catalogue.\n",
    "    racol_2: string\n",
    "        Name of the column in the second table containing the right ascension\n",
    "        in decimal degrees.\n",
    "    decol_2: string\n",
    "        Name of the column in the second table containing the declination in\n",
    "        decimal degrees.\n",
    "    radius: astropy.units.quantity.Quantity\n",
    "        The radius to associate identical sources in the two catalogues.\n",
    "    Returns\n",
    "    -------\n",
    "    astropy.table.Table\n",
    "        The merged catalogue.\n",
    "    \"\"\"\n",
    "    cat_1 = cat_1.copy()\n",
    "    cat_2 = cat_2.copy()\n",
    "    cat_1['ra'].unit = u.rad\n",
    "    cat_1['dec'].unit = u.rad\n",
    "    coords_1 = SkyCoord(cat_1['ra'], cat_1['dec'])\n",
    "\n",
    "    \n",
    "    cat_2[racol_2].unit = u.rad\n",
    "    cat_2[decol_2].unit = u.rad\n",
    "    coords_2 = SkyCoord(cat_2[racol_2], cat_2[decol_2])\n",
    "\n",
    "    # Search for sources in second catalogue matching the sources in the first\n",
    "    # one.\n",
    "    idx_2, idx_1, d2d, _ = coords_1.search_around_sky(coords_2, radius)\n",
    "\n",
    "    # We want to flag the possible mis-associations, i.e. the sources in each\n",
    "    # catalogue that are associated to several sources in the other one, but\n",
    "    # also all the sources that are associated to a problematic source in the\n",
    "    # other catalogue (e.g. if two sources in the first catalogue are\n",
    "    # associated to the same source in the second catalogue, they must be\n",
    "    # flagged as potentially problematic).\n",
    "    #\n",
    "    # Search for duplicate associations\n",
    "    toflag_idx_1 = np.unique([item for item, count in Counter(idx_1).items()\n",
    "                              if count > 1])\n",
    "    toflag_idx_2 = np.unique([item for item, count in Counter(idx_2).items()\n",
    "                              if count > 1])\n",
    "    # Flagging the sources associated to duplicates\n",
    "    dup_associated_in_idx1 = np.in1d(idx_2, toflag_idx_2)\n",
    "    dup_associated_in_idx2 = np.in1d(idx_1, toflag_idx_1)\n",
    "    toflag_idx_1 = np.unique(np.concatenate(\n",
    "        (toflag_idx_1, idx_1[dup_associated_in_idx1])\n",
    "    ))\n",
    "    toflag_idx_2 = np.unique(np.concatenate(\n",
    "        (toflag_idx_2, idx_2[dup_associated_in_idx2])\n",
    "    ))\n",
    "\n",
    "    # Adding the flags to the catalogue.  In the second catalogue, the column\n",
    "    # is named \"flag_merged_2\" and will be combined to the flag_merged column\n",
    "    # one the merge is done.\n",
    "    try:\n",
    "        cat_1[\"flag_merged\"] |= np.in1d(np.arange(len(cat_1), dtype=int),\n",
    "                                        toflag_idx_1)\n",
    "    except KeyError:\n",
    "        cat_1.add_column(Column(\n",
    "            data=np.in1d(np.arange(len(cat_1), dtype=int), toflag_idx_1),\n",
    "            name=\"flag_merged\"\n",
    "        ))\n",
    "    try:\n",
    "        cat_2[\"flag_merged_2\"] |= np.in1d(np.arange(len(cat_2), dtype=int), toflag_idx_2)\n",
    "    except KeyError:\n",
    "        cat_2.add_column(Column(\n",
    "            data=np.in1d(np.arange(len(cat_2), dtype=int), toflag_idx_2),\n",
    "            name=\"flag_merged_2\"\n",
    "        ))\n",
    "\n",
    "\n",
    "    # Now that we have flagged the maybe spurious associations, we want to\n",
    "    # associate each source of each catalogue to at most one source in the\n",
    "    # other one.\n",
    "\n",
    "    # We sort the indices by the distance to take the nearest counterparts in\n",
    "    # the following steps.\n",
    "    sort_idx = np.argsort(d2d)\n",
    "    idx_1 = idx_1[sort_idx]\n",
    "    idx_2 = idx_2[sort_idx]\n",
    "\n",
    "    # These array will contain the indexes of the matching sources in both\n",
    "    # catalogues.\n",
    "    match_idx_1 = np.array([], dtype=int)\n",
    "    match_idx_2 = np.array([], dtype=int)\n",
    "\n",
    "    while len(idx_1) > 0:\n",
    "\n",
    "        both_first_idx = np.sort(np.intersect1d(\n",
    "            np.unique(idx_1, return_index=True)[1],\n",
    "            np.unique(idx_2, return_index=True)[1],\n",
    "        ))\n",
    "\n",
    "        new_match_idx_1 = idx_1[both_first_idx]\n",
    "        new_match_idx_2 = idx_2[both_first_idx]\n",
    "\n",
    "        match_idx_1 = np.concatenate((match_idx_1, new_match_idx_1))\n",
    "        match_idx_2 = np.concatenate((match_idx_2, new_match_idx_2))\n",
    "\n",
    "        # We remove the matching sources in both catalogues.\n",
    "        to_remove = (np.in1d(idx_1, new_match_idx_1) |\n",
    "                     np.in1d(idx_2, new_match_idx_2))\n",
    "        idx_1 = idx_1[~to_remove]\n",
    "        idx_2 = idx_2[~to_remove]\n",
    "\n",
    "    # Indices of un-associated object in both catalogues.\n",
    "    unmatched_idx_1 = np.delete(np.arange(len(cat_1), dtype=int),match_idx_1)\n",
    "    unmatched_idx_2 = np.delete(np.arange(len(cat_2), dtype=int),match_idx_2)\n",
    "\n",
    "    # Sources only in cat_1\n",
    "    only_in_cat_1 = cat_1[unmatched_idx_1]\n",
    "\n",
    "    # Sources only in cat_2\n",
    "    only_in_cat_2 = cat_2[unmatched_idx_2]\n",
    "    # We are using the ra and dec columns from cat_2 for the position.\n",
    "    only_in_cat_2[racol_2].name = \"ra\"\n",
    "    only_in_cat_2[decol_2].name = \"dec\"\n",
    "\n",
    "    # Merged table of sources in both catalogues.\n",
    "    both_in_cat_1_and_cat_2 = hstack([cat_1[match_idx_1], cat_2[match_idx_2]])\n",
    "    # We don't need the positions from the second catalogue anymore.\n",
    "    both_in_cat_1_and_cat_2.remove_columns([racol_2, decol_2])\n",
    "\n",
    "    # Logging the number of rows\n",
    "    LOGGER.info(\"There are %s sources only in the first catalogue\",\n",
    "                len(only_in_cat_1))\n",
    "    LOGGER.info(\"There are %s sources only in the second catalogue\",\n",
    "                len(only_in_cat_2))\n",
    "    LOGGER.info(\"There are %s sources in both catalogues\",\n",
    "                len(both_in_cat_1_and_cat_2))\n",
    "\n",
    "    merged_catalogue = vstack([only_in_cat_1, both_in_cat_1_and_cat_2,\n",
    "                               only_in_cat_2])\n",
    "\n",
    "    # When vertically stacking the catalogues, some values in the flag columns\n",
    "    # are masked because they did not exist in the catalogue some row originate\n",
    "    # from. We must set them to the appropriate value.\n",
    "    for colname in merged_catalogue.colnames:\n",
    "        if 'flag' in colname:\n",
    "            merged_catalogue[colname][merged_catalogue[colname].mask] = False\n",
    "\n",
    "    # We combined the flag_merged flags\n",
    "    merged_catalogue['flag_merged'] |= merged_catalogue['flag_merged_2']\n",
    "    merged_catalogue.remove_column('flag_merged_2')\n",
    "\n",
    "    return merged_catalogue"
   ]
  },
  {
   "cell_type": "code",
   "execution_count": 42,
   "metadata": {},
   "outputs": [],
   "source": [
    "merge = merge_catalogues(full_cat, y_tile_cat, 'y_tile_RA', 'y_tile_DEC')\n",
    "merge = merge_catalogues(merge, j_tile_cat, 'j_tile_RA', 'j_tile_DEC')\n",
    "merge = merge_catalogues(merge, h_tile_cat, 'h_tile_RA', 'h_tile_DEC')\n",
    "merge = merge_catalogues(merge, ks_tile_cat, 'ks_tile_RA', 'ks_tile_DEC')\n",
    "merge = merge_catalogues(merge, help_cat, 'help_ra', 'help_dec')\n",
    "merge = merge_catalogues(merge, oxford_ks_cat, 'oxford_ks_ra', 'oxford_ks_dec')\n",
    "merge = merge_catalogues(merge, vhs_cat, 'vhs_ra', 'vhs_dec')\n"
   ]
  },
  {
   "cell_type": "code",
   "execution_count": 43,
   "metadata": {},
   "outputs": [],
   "source": [
    "def clean_table(table):\n",
    "    \"\"\"Take a table produced by a VO query and remove all empty columns\n",
    "    \n",
    "    Often many columns are empty and make the tables hard to read.\n",
    "    The function also converts columsn that are objects to strings.\n",
    "    Object columns prevent writing to fits.\n",
    "    \n",
    "    Inputs\n",
    "    =======\n",
    "    table,    Astropy.table.Table\n",
    "        The input table\n",
    "    \n",
    "    Returns\n",
    "    =======\n",
    "    table,    Astropy.table.Table\n",
    "         The modified table.\n",
    "    \n",
    "    \"\"\"\n",
    "    table = table.copy()\n",
    "    if len(table) == 0:\n",
    "        return table\n",
    "    for col in table.colnames:\n",
    "        #Remove empty columns\n",
    "        try:\n",
    "            if np.all(table[col].mask):\n",
    "                print(\"Removing empty column: {}\".format(col))\n",
    "                table.remove_column(col)\n",
    "                continue\n",
    "        except AttributeError:\n",
    "            print(\"{} is not a masked columns\".format(col))\n",
    "            \n",
    "        #Get rid of column type object from VO queries\n",
    "        if table[col].dtype == 'object':\n",
    "            print(\"Converting column {} type from object to string\".format(col) )\n",
    "            table[col] = table[col].astype(str)\n",
    " \n",
    "        #Get rid of unit '-' from some tables\n",
    "        if table[col].unit == '-':\n",
    "            print(\"Converting column {} unit from '-' to None\".format(col) )\n",
    "            table[col].unit = None   \n",
    "            \n",
    "        #replace masked floats with nans     \n",
    "        if (table[col].dtype == 'float64') or (table[col].dtype == 'float32'):\n",
    "            table[col].fill_value = np.nan\n",
    "    \n",
    "    table = table.filled()\n",
    "            \n",
    "    return table\n"
   ]
  },
  {
   "cell_type": "code",
   "execution_count": 44,
   "metadata": {},
   "outputs": [],
   "source": [
    "merge_filename = './data/sxds_merge_test.fits'\n",
    "merge = clean_table(merge)\n",
    "merge.write(merge_filename, overwrite=True)"
   ]
  },
  {
   "cell_type": "code",
   "execution_count": 45,
   "metadata": {},
   "outputs": [],
   "source": [
    "#merge = Table.read(merge_filename)"
   ]
  },
  {
   "cell_type": "code",
   "execution_count": 46,
   "metadata": {},
   "outputs": [
    {
     "data": {
      "text/html": [
       "<i>Table length=5</i>\n",
       "<table id=\"table4845652560-94451\" class=\"table-striped table-bordered table-condensed\">\n",
       "<thead><tr><th>idx</th><th>m_vista_y</th><th>merr_vista_y</th><th>f_vista_y</th><th>ferr_vista_y</th><th>m_ap_vista_y</th><th>merr_ap_vista_y</th><th>f_ap_vista_y</th><th>ferr_ap_vista_y</th><th>m_vista_j</th><th>merr_vista_j</th><th>m_ap_vista_j</th><th>merr_ap_vista_j</th><th>m_vista_h</th><th>merr_vista_h</th><th>m_ap_vista_h</th><th>merr_ap_vista_h</th><th>m_vista_ks</th><th>merr_vista_ks</th><th>m_ap_vista_ks</th><th>merr_ap_vista_ks</th><th>f_ap_vista_ks</th><th>ferr_ap_vista_ks</th><th>ra</th><th>dec</th><th>flag</th><th>flag_merged</th><th>y_tile_m_ap_vista_y</th><th>y_tile_merr_ap_vista_y</th><th>y_tile_Classification</th><th>j_tile_m_ap_vista_j</th><th>j_tile_merr_ap_vista_j</th><th>j_tile_Classification</th><th>h_tile_m_ap_vista_h</th><th>h_tile_merr_ap_vista_h</th><th>h_tile_Classification</th><th>ks_tile_m_ap_vista_ks</th><th>ks_tile_merr_ap_vista_ks</th><th>ks_tile_Classification</th><th>help_video_id</th><th>help_vista_stellarity</th><th>help_m_ap_vista_y</th><th>help_merr_ap_vista_y</th><th>help_m_vista_y</th><th>help_merr_vista_y</th><th>help_f_ap_vista_y</th><th>help_ferr_ap_vista_y</th><th>help_f_vista_y</th><th>help_ferr_vista_y</th><th>help_m_ap_vista_ks</th><th>help_merr_ap_vista_ks</th><th>help_m_vista_ks</th><th>help_merr_vista_ks</th><th>oxford_ks_id</th><th>oxford_ks_f_ap_vista_y</th><th>oxford_ks_ferr_ap_vista_y</th><th>oxford_ks_f_ap_vista_j</th><th>oxford_ks_ferr_ap_vista_j</th><th>oxford_ks_f_ap_vista_h</th><th>oxford_ks_ferr_ap_vista_h</th><th>oxford_ks_f_ap_vista_ks</th><th>oxford_ks_ferr_ap_vista_ks</th><th>oxford_ks_m_ap_vista_y</th><th>oxford_ks_merr_ap_vista_y</th><th>oxford_ks_m_ap_vista_j</th><th>oxford_ks_merr_ap_vista_j</th><th>oxford_ks_m_ap_vista_h</th><th>oxford_ks_merr_ap_vista_h</th><th>oxford_ks_m_ap_vista_ks</th><th>oxford_ks_merr_ap_vista_ks</th><th>vhs_id</th><th>vhs_stellarity</th><th>vhs_m_ap_vista_j</th><th>vhs_merr_ap_vista_j</th><th>vhs_m_ap_vista_h</th><th>vhs_merr_ap_vista_h</th><th>vhs_m_ap_vista_ks</th><th>vhs_merr_ap_vista_ks</th></tr></thead>\n",
       "<thead><tr><th></th><th></th><th></th><th></th><th></th><th></th><th></th><th></th><th></th><th></th><th></th><th></th><th></th><th></th><th></th><th></th><th></th><th></th><th></th><th></th><th></th><th></th><th></th><th>rad</th><th>rad</th><th></th><th></th><th>ADU</th><th>ADU</th><th>Flag</th><th>ADU</th><th>ADU</th><th>Flag</th><th>ADU</th><th>ADU</th><th>Flag</th><th>ADU</th><th>ADU</th><th>Flag</th><th></th><th></th><th></th><th></th><th></th><th></th><th></th><th></th><th></th><th></th><th></th><th></th><th></th><th></th><th></th><th>uJy</th><th>uJy</th><th>uJy</th><th>uJy</th><th>uJy</th><th>uJy</th><th>uJy</th><th>uJy</th><th></th><th></th><th></th><th></th><th></th><th></th><th></th><th></th><th></th><th></th><th></th><th></th><th></th><th></th><th></th><th></th></tr></thead>\n",
       "<tr><td>0</td><td>24.118690670510837</td><td>0.16238447949364937</td><td>817.5677122846623</td><td>122.27676191357526</td><td>nan</td><td>nan</td><td>nan</td><td>nan</td><td>24.004444880462167</td><td>0.24173937318359803</td><td>nan</td><td>nan</td><td>24.795554587593656</td><td>0.47345418222901203</td><td>nan</td><td>nan</td><td>22.753303979521164</td><td>0.13400846160182914</td><td>nan</td><td>nan</td><td>nan</td><td>nan</td><td>0.6279738</td><td>-0.0958324</td><td>False</td><td>False</td><td>nan</td><td>nan</td><td>nan</td><td>nan</td><td>nan</td><td>nan</td><td>nan</td><td>nan</td><td>nan</td><td>nan</td><td>nan</td><td>nan</td><td>999999</td><td>nan</td><td>nan</td><td>nan</td><td>nan</td><td>nan</td><td>nan</td><td>nan</td><td>nan</td><td>nan</td><td>nan</td><td>nan</td><td>nan</td><td>nan</td><td>999999</td><td>nan</td><td>nan</td><td>nan</td><td>nan</td><td>nan</td><td>nan</td><td>nan</td><td>nan</td><td>nan</td><td>nan</td><td>nan</td><td>nan</td><td>nan</td><td>nan</td><td>nan</td><td>nan</td><td>999999</td><td>nan</td><td>nan</td><td>nan</td><td>nan</td><td>nan</td><td>nan</td><td>nan</td></tr>\n",
       "<tr><td>1</td><td>nan</td><td>0.46208136858345894</td><td>-286.88037175289753</td><td>122.09418293170151</td><td>nan</td><td>nan</td><td>nan</td><td>nan</td><td>24.629399439479304</td><td>0.4297985471824991</td><td>nan</td><td>nan</td><td>nan</td><td>0.4983707901849048</td><td>nan</td><td>nan</td><td>22.86876192816271</td><td>0.14900201805696467</td><td>nan</td><td>nan</td><td>nan</td><td>nan</td><td>0.6279623</td><td>-0.0958324</td><td>False</td><td>False</td><td>nan</td><td>nan</td><td>nan</td><td>nan</td><td>nan</td><td>nan</td><td>nan</td><td>nan</td><td>nan</td><td>nan</td><td>nan</td><td>nan</td><td>999999</td><td>nan</td><td>nan</td><td>nan</td><td>nan</td><td>nan</td><td>nan</td><td>nan</td><td>nan</td><td>nan</td><td>nan</td><td>nan</td><td>nan</td><td>nan</td><td>999999</td><td>nan</td><td>nan</td><td>nan</td><td>nan</td><td>nan</td><td>nan</td><td>nan</td><td>nan</td><td>nan</td><td>nan</td><td>nan</td><td>nan</td><td>nan</td><td>nan</td><td>nan</td><td>nan</td><td>999999</td><td>nan</td><td>nan</td><td>nan</td><td>nan</td><td>nan</td><td>nan</td><td>nan</td></tr>\n",
       "<tr><td>2</td><td>24.488515235419698</td><td>0.2252182048948718</td><td>581.5591670252284</td><td>120.63493053246474</td><td>23.25176865744948</td><td>0.13196460338812124</td><td>1816.7389904424765</td><td>220.8135266032558</td><td>23.770820481405742</td><td>0.19363729164064247</td><td>28.06064438716387</td><td>17.566012178995223</td><td>nan</td><td>0.11469194509613205</td><td>nan</td><td>0.24094758638082</td><td>22.776875718653223</td><td>0.1351885906232332</td><td>nan</td><td>0.3161377561127461</td><td>-2288.7240601772273</td><td>666.4161014202053</td><td>0.6277136</td><td>-0.0958099</td><td>False</td><td>False</td><td>nan</td><td>nan</td><td>nan</td><td>nan</td><td>nan</td><td>nan</td><td>nan</td><td>nan</td><td>nan</td><td>nan</td><td>nan</td><td>nan</td><td>999999</td><td>nan</td><td>nan</td><td>nan</td><td>nan</td><td>nan</td><td>nan</td><td>nan</td><td>nan</td><td>nan</td><td>nan</td><td>nan</td><td>nan</td><td>nan</td><td>999999</td><td>nan</td><td>nan</td><td>nan</td><td>nan</td><td>nan</td><td>nan</td><td>nan</td><td>nan</td><td>nan</td><td>nan</td><td>nan</td><td>nan</td><td>nan</td><td>nan</td><td>nan</td><td>nan</td><td>999999</td><td>nan</td><td>nan</td><td>nan</td><td>nan</td><td>nan</td><td>nan</td><td>nan</td></tr>\n",
       "<tr><td>3</td><td>25.76615539150248</td><td>0.7322446552838751</td><td>179.28247680900301</td><td>120.91209158737855</td><td>nan</td><td>nan</td><td>nan</td><td>nan</td><td>24.03722690704409</td><td>0.24756591625644694</td><td>nan</td><td>nan</td><td>nan</td><td>0.21677648849554584</td><td>nan</td><td>nan</td><td>23.124007235624056</td><td>0.18673533432386102</td><td>nan</td><td>nan</td><td>nan</td><td>nan</td><td>0.6276964</td><td>-0.0958317</td><td>False</td><td>False</td><td>nan</td><td>nan</td><td>nan</td><td>nan</td><td>nan</td><td>nan</td><td>nan</td><td>nan</td><td>nan</td><td>nan</td><td>nan</td><td>nan</td><td>999999</td><td>nan</td><td>nan</td><td>nan</td><td>nan</td><td>nan</td><td>nan</td><td>nan</td><td>nan</td><td>nan</td><td>nan</td><td>nan</td><td>nan</td><td>nan</td><td>999999</td><td>nan</td><td>nan</td><td>nan</td><td>nan</td><td>nan</td><td>nan</td><td>nan</td><td>nan</td><td>nan</td><td>nan</td><td>nan</td><td>nan</td><td>nan</td><td>nan</td><td>nan</td><td>nan</td><td>999999</td><td>nan</td><td>nan</td><td>nan</td><td>nan</td><td>nan</td><td>nan</td><td>nan</td></tr>\n",
       "<tr><td>4</td><td>25.643201686035013</td><td>0.6488174360541619</td><td>200.77948021743927</td><td>119.98239258861823</td><td>23.484228828682117</td><td>0.16341515339452586</td><td>1466.5891527610595</td><td>220.73768040054097</td><td>24.5768276028048</td><td>0.40552683428079206</td><td>25.47035971235442</td><td>1.5975545692869766</td><td>nan</td><td>0.8715491575097964</td><td>nan</td><td>0.514404925062042</td><td>22.795778283530662</td><td>0.13741589451163025</td><td>24.317597468152297</td><td>1.0495325450189654</td><td>680.7082477599668</td><td>658.0101654122068</td><td>0.6275320</td><td>-0.0958285</td><td>False</td><td>False</td><td>nan</td><td>nan</td><td>nan</td><td>nan</td><td>nan</td><td>nan</td><td>nan</td><td>nan</td><td>nan</td><td>nan</td><td>nan</td><td>nan</td><td>999999</td><td>nan</td><td>nan</td><td>nan</td><td>nan</td><td>nan</td><td>nan</td><td>nan</td><td>nan</td><td>nan</td><td>nan</td><td>nan</td><td>nan</td><td>nan</td><td>999999</td><td>nan</td><td>nan</td><td>nan</td><td>nan</td><td>nan</td><td>nan</td><td>nan</td><td>nan</td><td>nan</td><td>nan</td><td>nan</td><td>nan</td><td>nan</td><td>nan</td><td>nan</td><td>nan</td><td>999999</td><td>nan</td><td>nan</td><td>nan</td><td>nan</td><td>nan</td><td>nan</td><td>nan</td></tr>\n",
       "</table><style>table.dataTable {clear: both; width: auto !important; margin: 0 !important;}\n",
       ".dataTables_info, .dataTables_length, .dataTables_filter, .dataTables_paginate{\n",
       "display: inline-block; margin-right: 1em; }\n",
       ".paginate_button { margin-right: 5px; }\n",
       "</style>\n",
       "<script>\n",
       "\n",
       "var astropy_sort_num = function(a, b) {\n",
       "    var a_num = parseFloat(a);\n",
       "    var b_num = parseFloat(b);\n",
       "\n",
       "    if (isNaN(a_num) && isNaN(b_num))\n",
       "        return ((a < b) ? -1 : ((a > b) ? 1 : 0));\n",
       "    else if (!isNaN(a_num) && !isNaN(b_num))\n",
       "        return ((a_num < b_num) ? -1 : ((a_num > b_num) ? 1 : 0));\n",
       "    else\n",
       "        return isNaN(a_num) ? -1 : 1;\n",
       "}\n",
       "\n",
       "require.config({paths: {\n",
       "    datatables: 'https://cdn.datatables.net/1.10.12/js/jquery.dataTables.min'\n",
       "}});\n",
       "require([\"datatables\"], function(){\n",
       "    console.log(\"$('#table4845652560-94451').dataTable()\");\n",
       "    \n",
       "jQuery.extend( jQuery.fn.dataTableExt.oSort, {\n",
       "    \"optionalnum-asc\": astropy_sort_num,\n",
       "    \"optionalnum-desc\": function (a,b) { return -astropy_sort_num(a, b); }\n",
       "});\n",
       "\n",
       "    $('#table4845652560-94451').dataTable({\n",
       "        order: [],\n",
       "        pageLength: 50,\n",
       "        lengthMenu: [[10, 25, 50, 100, 500, 1000, -1], [10, 25, 50, 100, 500, 1000, 'All']],\n",
       "        pagingType: \"full_numbers\",\n",
       "        columnDefs: [{targets: [0, 1, 2, 3, 4, 5, 6, 7, 8, 9, 10, 11, 12, 13, 14, 15, 16, 17, 18, 19, 20, 21, 22, 23, 24, 27, 28, 29, 30, 31, 32, 33, 34, 35, 36, 37, 38, 39, 40, 41, 42, 43, 44, 45, 46, 47, 48, 49, 50, 51, 52, 53, 54, 55, 56, 57, 58, 59, 60, 61, 62, 63, 64, 65, 66, 67, 68, 69, 70, 71, 72, 73, 74, 75, 76, 77], type: \"optionalnum\"}]\n",
       "    });\n",
       "});\n",
       "</script>\n"
      ],
      "text/plain": [
       "<IPython.core.display.HTML object>"
      ]
     },
     "execution_count": 46,
     "metadata": {},
     "output_type": "execute_result"
    }
   ],
   "source": [
    "merge[:5].show_in_notebook()"
   ]
  },
  {
   "cell_type": "markdown",
   "metadata": {},
   "source": [
    "## 3.3 Diagnostic plots\n",
    "\n",
    "\n",
    "The selection has a large effect on the plots. We probably want to look at objects detected in Y and Ks and that are stars in HELP and the tile. \n"
   ]
  },
  {
   "cell_type": "code",
   "execution_count": 47,
   "metadata": {},
   "outputs": [],
   "source": [
    "mask = merge['flag']  #Includes LSST stack stellarity requirement\n",
    "mask &= merge['f_ap_vista_ks']/merge['ferr_ap_vista_ks'] > 5  #LSST stack Ks S/N >5\n",
    "mask &= merge['f_ap_vista_y']/merge['ferr_ap_vista_y'] > 5    #LSST stack Y S/N >5\n",
    "#mask &= np.isclose(merge['ks_tile_Classification'], -1.0)\n",
    "#mask &= merge['help_vista_stellarity'] > 0.9\n",
    "\n"
   ]
  },
  {
   "cell_type": "markdown",
   "metadata": {},
   "source": [
    "### 3.3.1 Mag diff vs mag"
   ]
  },
  {
   "cell_type": "code",
   "execution_count": 48,
   "metadata": {},
   "outputs": [
    {
     "ename": "IndexError",
     "evalue": "boolean index did not match indexed array along dimension 0; dimension is 1095313 but corresponding boolean dimension is 126614",
     "output_type": "error",
     "traceback": [
      "\u001b[0;31m---------------------------------------------------------------------------\u001b[0m",
      "\u001b[0;31mIndexError\u001b[0m                                Traceback (most recent call last)",
      "\u001b[0;32m<ipython-input-48-b96f1726dcbf>\u001b[0m in \u001b[0;36m<module>\u001b[0;34m\u001b[0m\n\u001b[1;32m     81\u001b[0m \u001b[0;34m\u001b[0m\u001b[0m\n\u001b[1;32m     82\u001b[0m mag_diff(\n\u001b[0;32m---> 83\u001b[0;31m     \u001b[0mmerge\u001b[0m\u001b[0;34m[\u001b[0m\u001b[0mm\u001b[0m\u001b[0;34m]\u001b[0m\u001b[0;34m[\u001b[0m\u001b[0;34m'm_ap_vista_ks'\u001b[0m\u001b[0;34m]\u001b[0m\u001b[0;34m,\u001b[0m\u001b[0;34m\u001b[0m\u001b[0;34m\u001b[0m\u001b[0m\n\u001b[0m\u001b[1;32m     84\u001b[0m     \u001b[0mmerge\u001b[0m\u001b[0;34m[\u001b[0m\u001b[0mm\u001b[0m\u001b[0;34m]\u001b[0m\u001b[0;34m[\u001b[0m\u001b[0;34m'merr_ap_vista_ks'\u001b[0m\u001b[0;34m]\u001b[0m\u001b[0;34m,\u001b[0m\u001b[0;34m\u001b[0m\u001b[0;34m\u001b[0m\u001b[0m\n\u001b[1;32m     85\u001b[0m     \u001b[0mmerge\u001b[0m\u001b[0;34m[\u001b[0m\u001b[0mm\u001b[0m\u001b[0;34m]\u001b[0m\u001b[0;34m[\u001b[0m\u001b[0;34m'vhs_m_ap_vista_ks'\u001b[0m\u001b[0;34m]\u001b[0m\u001b[0;34m,\u001b[0m\u001b[0;34m\u001b[0m\u001b[0;34m\u001b[0m\u001b[0m\n",
      "\u001b[0;32m~/GitHub/lsst_stack/conda/miniconda3-py37_4.8.2/envs/lsst-scipipe-1a1d771/lib/python3.7/site-packages/astropy/table/table.py\u001b[0m in \u001b[0;36m__getitem__\u001b[0;34m(self, item)\u001b[0m\n\u001b[1;32m   1624\u001b[0m             \u001b[0;31m# is produced by np.where, as in t[np.where(t['a'] > 2)]\u001b[0m\u001b[0;34m\u001b[0m\u001b[0;34m\u001b[0m\u001b[0;34m\u001b[0m\u001b[0m\n\u001b[1;32m   1625\u001b[0m             \u001b[0;31m# For all, a new table is constructed with slice of all columns\u001b[0m\u001b[0;34m\u001b[0m\u001b[0;34m\u001b[0m\u001b[0;34m\u001b[0m\u001b[0m\n\u001b[0;32m-> 1626\u001b[0;31m             \u001b[0;32mreturn\u001b[0m \u001b[0mself\u001b[0m\u001b[0;34m.\u001b[0m\u001b[0m_new_from_slice\u001b[0m\u001b[0;34m(\u001b[0m\u001b[0mitem\u001b[0m\u001b[0;34m)\u001b[0m\u001b[0;34m\u001b[0m\u001b[0;34m\u001b[0m\u001b[0m\n\u001b[0m\u001b[1;32m   1627\u001b[0m         \u001b[0;32melse\u001b[0m\u001b[0;34m:\u001b[0m\u001b[0;34m\u001b[0m\u001b[0;34m\u001b[0m\u001b[0m\n\u001b[1;32m   1628\u001b[0m             raise ValueError('Illegal type {} for table item access'\n",
      "\u001b[0;32m~/GitHub/lsst_stack/conda/miniconda3-py37_4.8.2/envs/lsst-scipipe-1a1d771/lib/python3.7/site-packages/astropy/table/table.py\u001b[0m in \u001b[0;36m_new_from_slice\u001b[0;34m(self, slice_)\u001b[0m\n\u001b[1;32m   1143\u001b[0m         \u001b[0mnewcols\u001b[0m \u001b[0;34m=\u001b[0m \u001b[0;34m[\u001b[0m\u001b[0;34m]\u001b[0m\u001b[0;34m\u001b[0m\u001b[0;34m\u001b[0m\u001b[0m\n\u001b[1;32m   1144\u001b[0m         \u001b[0;32mfor\u001b[0m \u001b[0mcol\u001b[0m \u001b[0;32min\u001b[0m \u001b[0mself\u001b[0m\u001b[0;34m.\u001b[0m\u001b[0mcolumns\u001b[0m\u001b[0;34m.\u001b[0m\u001b[0mvalues\u001b[0m\u001b[0;34m(\u001b[0m\u001b[0;34m)\u001b[0m\u001b[0;34m:\u001b[0m\u001b[0;34m\u001b[0m\u001b[0;34m\u001b[0m\u001b[0m\n\u001b[0;32m-> 1145\u001b[0;31m             \u001b[0mnewcol\u001b[0m \u001b[0;34m=\u001b[0m \u001b[0mcol\u001b[0m\u001b[0;34m[\u001b[0m\u001b[0mslice_\u001b[0m\u001b[0;34m]\u001b[0m\u001b[0;34m\u001b[0m\u001b[0;34m\u001b[0m\u001b[0m\n\u001b[0m\u001b[1;32m   1146\u001b[0m \u001b[0;34m\u001b[0m\u001b[0m\n\u001b[1;32m   1147\u001b[0m             \u001b[0;31m# Note in line below, use direct attribute access to col.indices for Column\u001b[0m\u001b[0;34m\u001b[0m\u001b[0;34m\u001b[0m\u001b[0;34m\u001b[0m\u001b[0m\n",
      "\u001b[0;32mastropy/table/_column_mixins.pyx\u001b[0m in \u001b[0;36mastropy.table._column_mixins._ColumnGetitemShim.__getitem__\u001b[0;34m()\u001b[0m\n",
      "\u001b[0;32mastropy/table/_column_mixins.pyx\u001b[0m in \u001b[0;36mastropy.table._column_mixins.base_getitem\u001b[0;34m()\u001b[0m\n",
      "\u001b[0;32mastropy/table/_column_mixins.pyx\u001b[0m in \u001b[0;36mastropy.table._column_mixins.column_getitem\u001b[0;34m()\u001b[0m\n",
      "\u001b[0;31mIndexError\u001b[0m: boolean index did not match indexed array along dimension 0; dimension is 1095313 but corresponding boolean dimension is 126614"
     ]
    }
   ],
   "source": [
    "\n",
    "    \n",
    "def mag_diff(x,xerr,y,yerr, labels,savefig=True):\n",
    "    \n",
    "    fig = plt.figure(figsize=(13, 6))\n",
    "\n",
    "    gs1 = gridspec.GridSpec(1, 1)\n",
    "    gs1.update(left=0.05, right=0.4, wspace=0.05)\n",
    "    ax1 = plt.subplot(gs1[:, :])\n",
    "\n",
    "    gs2 = gridspec.GridSpec(1, 3)\n",
    "    gs2.update(left=0.47, right=0.98, hspace=0.05, wspace=0.05)\n",
    "    ax2 = plt.subplot(gs2[:, :-1])\n",
    "    #ax3 = plt.subplot(gs2[:, -1], sharey=ax2)\n",
    "    \n",
    "\n",
    " \n",
    "    m = (\n",
    "        mask \n",
    "        #& (merge['help_m_ap_vista_y'] < 30)\n",
    "        #& (merge['vhs_stellarity']>0.9)\n",
    "    )\n",
    "\n",
    "    mean_offset = np.nanmean(x - y)\n",
    "    median_offset = np.nanmedian(x - y)\n",
    "    print(\"Mean offset = {}\".format(round(mean_offset,4)))\n",
    "    print(\"Median offset = {}\".format(round(median_offset,4)))\n",
    "    \n",
    "    total_var = xerr**2 + yerr**2 +0.03**2 #the extra 0.03 is an estimate of the abs. cal. error for vista\n",
    "    unsaturated = (x>14.5) & (x<15.5)\n",
    "\n",
    "    weighted_bias = np.nansum(\n",
    "        (\n",
    "            x[unsaturated]\n",
    "            -y[unsaturated]\n",
    "        )/total_var[unsaturated]\n",
    "    )/np.nansum(1./total_var[unsaturated])\n",
    "    print('Weighted bias (14.5<mag<15.5) = {}'.format(round(weighted_bias,4)))\n",
    "    \n",
    "    \n",
    "    ax1.plot([0,26],[mean_offset,mean_offset], linestyle='dotted', c='r', alpha=0.5,\n",
    "             label = 'mean offset = {}'.format(round(mean_offset,4)))\n",
    "    ax1.plot([0,26],[median_offset,median_offset], linestyle='dashed', c='r', alpha=0.5,\n",
    "         label = 'median offset = {}'.format(round(median_offset,4)))\n",
    "    ax1.plot([0,26],[weighted_bias,weighted_bias], linestyle='dashdot', c='r', alpha=0.5,\n",
    "         label = 'Weighted bias = {}'.format(round(weighted_bias,4)))\n",
    "    ax1.plot([0,26],[0,0], c='r', label='zero')\n",
    "    ax1.legend( prop={'size': 12}, loc='lower left')\n",
    "    ax1.scatter(x,   x - y, \n",
    "            alpha=1.0, s=0.3)\n",
    "    \n",
    "    \n",
    "    ax1.set_xlabel('{} [mag]'.format(labels[0]))\n",
    "    ax1.plot([0,26],[0,0], c='r')\n",
    "    \n",
    "    ax1.set_xlim([13,22])\n",
    "    ax1.set_ylim([-2,2])\n",
    "    ax1.set_ylabel('{} - {} [mag]'.format(labels[0],labels[1]))\n",
    "    \n",
    "    ax2.hist(x - y,range=[-1,1], bins=60)\n",
    "    #ax2.set_xlim([-2,2])\n",
    "    ax2.set_xlabel('{} - {} [mag]'.format(labels[0],labels[1]))\n",
    "    ax2.axvline(0, c='r', alpha=0.5)\n",
    "    ax2.axvline(mean_offset,linestyle='dotted', c='r', alpha=0.5)\n",
    "    ax2.axvline(median_offset,linestyle='dashed', c='r', alpha=0.5)\n",
    "    ax2.axvline(weighted_bias,linestyle='dashdot', c='r', alpha=0.5)\n",
    "    \n",
    "    \n",
    "    #plt.rc('font', family='serif', serif='Times')\n",
    "    plt.rc('text') #, usetex=True)\n",
    "    plt.rc('xtick', labelsize=14)\n",
    "    plt.rc('ytick', labelsize=14)\n",
    "    plt.rc('axes', labelsize=14)\n",
    "    plt.show()\n",
    "\n",
    "\n",
    "    if savefig:\n",
    "        plt.savefig('./figs/mag_compare_{}_{}.pdf'.format(labels[0],labels[1]), bbox_inches='tight')\n",
    "        plt.savefig('./figs/mag_compare_{}_{}.png'.format(labels[0],labels[1]), bbox_inches='tight')\n",
    "    \n",
    "    \n",
    "    \n",
    "    \n",
    "mag_diff(\n",
    "    merge[m]['m_ap_vista_ks'],\n",
    "    merge[m]['merr_ap_vista_ks'],\n",
    "    merge[m]['vhs_m_ap_vista_ks'],\n",
    "    merge[m]['vhs_merr_ap_vista_ks'],\n",
    "    ['LSST stack Ks','VHS Ks', 'Ks'])\n",
    "    \n"
   ]
  },
  {
   "cell_type": "code",
   "execution_count": null,
   "metadata": {},
   "outputs": [],
   "source": [
    "merge.colnames"
   ]
  },
  {
   "cell_type": "code",
   "execution_count": null,
   "metadata": {},
   "outputs": [],
   "source": [
    "to_plot = [\n",
    "    'VHS',\n",
    "    '{} Tile',\n",
    "    'Oxford Ks',\n",
    "    'HELP'\n",
    "]\n",
    "\n",
    "for p in to_plot:\n",
    "    for band in ['Y', 'J', 'H', 'Ks']:\n",
    "        if 'Tile' in p:\n",
    "            p=p.format(band)\n",
    "        mag_diff(\n",
    "            merge[mask]['m_ap_vista_{}'.format(band.lower())],\n",
    "            merge[mask]['merr_ap_vista_{}'.format(band.lower())],\n",
    "            merge[mask]['{}_m_ap_vista_{}'.format(p.replace(' ','_').lower(), band.lower())],\n",
    "            merge[mask]['{}_merr_ap_vista_{}'.format(p.replace(' ','_').lower(), band.lower())],\n",
    "            ['LSST stack {}'.format(band),'{} {}'.format(p, band), band])"
   ]
  },
  {
   "cell_type": "markdown",
   "metadata": {},
   "source": [
    "### 3.3.2 Err mag"
   ]
  },
  {
   "cell_type": "code",
   "execution_count": null,
   "metadata": {},
   "outputs": [],
   "source": [
    "plt.figure(1, figsize=(4, 4), dpi=140)\n",
    "plt.scatter(merge[mask]['m_ap_vista_ks'], merge[mask]['merr_ap_vista_ks'] , alpha=0.5, s=0.2)\n",
    "plt.xlabel('LSST stack Ks AB mags [mag]')\n",
    "#plt.plot([12,26],[12,26], c='r')\n",
    "plt.xlim([24,12])\n",
    "plt.ylim([1.e-5, 1])\n",
    "plt.yscale('log')\n",
    "plt.ylabel('LSST stack Ks AB mag error [mag]')"
   ]
  },
  {
   "cell_type": "code",
   "execution_count": null,
   "metadata": {},
   "outputs": [],
   "source": [
    "plt.figure(1, figsize=(4, 4), dpi=140)\n",
    "plt.scatter(merge[mask]['ks_tile_m_ap_vista_ks'], merge[mask]['ks_tile_merr_ap_vista_ks'] , alpha=0.5, s=0.2)\n",
    "plt.xlabel('VISTA pipe Ks AB mags [mag]')\n",
    "#plt.plot([12,26],[12,26], c='r')\n",
    "plt.xlim([24,12])\n",
    "plt.ylim([1.e-5, 1])\n",
    "plt.yscale('log')\n",
    "plt.ylabel('VISTA pipe Ks AB mag error [mag]')"
   ]
  },
  {
   "cell_type": "code",
   "execution_count": null,
   "metadata": {},
   "outputs": [],
   "source": [
    "plt.figure(1, figsize=(4, 4), dpi=140)\n",
    "plt.scatter(merge[mask]['help_m_ap_vista_ks'], merge[mask]['help_merr_ap_vista_ks'] , alpha=0.5, s=0.2)\n",
    "plt.xlabel('HELP Ks AB mags [mag]')\n",
    "#plt.plot([12,26],[12,26], c='r')\n",
    "plt.xlim([24,12])\n",
    "plt.ylim([1.e-5, 1])\n",
    "plt.yscale('log')\n",
    "plt.ylabel('HELP Ks AB mag error [mag]')"
   ]
  },
  {
   "cell_type": "code",
   "execution_count": null,
   "metadata": {},
   "outputs": [],
   "source": [
    "plt.figure(1, figsize=(4, 4), dpi=140)\n",
    "plt.scatter(merge[mask]['m_ap_vista_y'], merge[mask]['merr_ap_vista_y'] , alpha=0.5, s=0.2)\n",
    "plt.xlabel('LSST stack Y AB mags [mag]')\n",
    "#plt.plot([12,26],[12,26], c='r')\n",
    "plt.xlim([24,12])\n",
    "plt.ylim([1.e-5, 1])\n",
    "plt.yscale('log')\n",
    "plt.ylabel('LSST stack Y AB mag error [mag]')"
   ]
  },
  {
   "cell_type": "code",
   "execution_count": null,
   "metadata": {},
   "outputs": [],
   "source": [
    "plt.figure(1, figsize=(4, 4), dpi=140)\n",
    "plt.scatter(merge[mask]['help_m_vista_y'], merge[mask]['help_merr_vista_y'] , alpha=0.5, s=0.2)\n",
    "plt.xlabel('HELP Y AB mags [mag]')\n",
    "#plt.plot([12,26],[12,26], c='r')\n",
    "plt.xlim([24,12])\n",
    "plt.ylim([1.e-5, 1])\n",
    "plt.yscale('log')\n",
    "plt.ylabel('HELP Y AB mag error [mag]')"
   ]
  },
  {
   "cell_type": "code",
   "execution_count": null,
   "metadata": {},
   "outputs": [],
   "source": [
    "plt.figure(1, figsize=(4, 4), dpi=140)\n",
    "plt.scatter(merge[mask]['y_tile_m_ap_vista_y'], merge[mask]['y_tile_merr_ap_vista_y'] , alpha=0.5, s=0.2)\n",
    "plt.xlabel('VISTA pipe Y AB mags [mag]')\n",
    "#plt.plot([12,26],[12,26], c='r')\n",
    "plt.xlim([24,12])\n",
    "plt.ylim([1.e-5, 1])\n",
    "plt.yscale('log')\n",
    "plt.ylabel('VISTA pipe Y AB mag error [mag]')"
   ]
  },
  {
   "cell_type": "markdown",
   "metadata": {},
   "source": [
    "### 3.3.3 Mag-mag"
   ]
  },
  {
   "cell_type": "code",
   "execution_count": null,
   "metadata": {},
   "outputs": [],
   "source": [
    "plt.figure(1, figsize=(4, 4), dpi=140)\n",
    "plt.scatter(merge[mask]['m_ap_vista_ks'], merge[mask]['help_m_ap_vista_ks'], alpha=0.5, s=0.2)\n",
    "plt.xlabel('LSST stack Ks AB mags [mag]')\n",
    "plt.plot([12,26],[12,26], c='r')\n",
    "plt.xlim([12,24])\n",
    "plt.ylim([12,24])\n",
    "plt.ylabel('HELP Ks AB mags [mag]')"
   ]
  },
  {
   "cell_type": "code",
   "execution_count": null,
   "metadata": {},
   "outputs": [],
   "source": [
    "plt.figure(1, figsize=(4, 4), dpi=140)\n",
    "plt.scatter(merge[mask]['m_ap_vista_ks'], merge[mask]['ks_tile_m_ap_vista_ks'], alpha=0.5, s=0.2)\n",
    "plt.xlabel('LSST stack Ks AB mags [mag]')\n",
    "plt.plot([12,26],[12,26], c='r')\n",
    "plt.xlim([12,24])\n",
    "plt.ylim([12,24])\n",
    "plt.ylabel('VISTA pipe Ks AB?? mags [mag]')"
   ]
  },
  {
   "cell_type": "code",
   "execution_count": null,
   "metadata": {},
   "outputs": [],
   "source": [
    "plt.figure(1, figsize=(4, 4), dpi=140)\n",
    "plt.scatter(merge[mask]['m_ap_vista_ks'], merge[mask]['vhs_m_ap_vista_ks'], alpha=0.5,  s=0.2)\n",
    "plt.xlabel('LSST stack Ks AB mags [mag]')\n",
    "plt.plot([12,26],[12,26], c='r')\n",
    "plt.xlim([12,24])\n",
    "plt.ylim([12,24])\n",
    "plt.ylabel('VHS Ks AB mags [mag]')"
   ]
  },
  {
   "cell_type": "code",
   "execution_count": null,
   "metadata": {},
   "outputs": [],
   "source": [
    "plt.figure(1, figsize=(4, 4), dpi=140)\n",
    "plt.scatter(merge[mask]['m_ap_vista_y'], merge[mask]['help_m_ap_vista_y'], alpha=0.5, s=0.2)\n",
    "plt.xlabel('LSST stack Y AB mags [mag]')\n",
    "plt.plot([12,26],[12,26], c='r')\n",
    "plt.xlim([12,24])\n",
    "plt.ylim([12,24])\n",
    "plt.ylabel('HELP Y AB mags [mag]')"
   ]
  },
  {
   "cell_type": "code",
   "execution_count": null,
   "metadata": {},
   "outputs": [],
   "source": [
    "plt.figure(1, figsize=(4, 4), dpi=140)\n",
    "plt.scatter(merge[mask]['m_ap_vista_y'], merge[mask]['y_tile_m_ap_vista_y'], alpha=0.5, s=0.2)\n",
    "plt.xlabel('LSST stack Y AB mags [mag]')\n",
    "plt.plot([12,26],[12,26], c='r')\n",
    "plt.xlim([12,24])\n",
    "plt.ylim([12,24])\n",
    "plt.ylabel('VISTA pipe Y AB mags [mag]')"
   ]
  },
  {
   "cell_type": "markdown",
   "metadata": {},
   "source": [
    "Is this a vega AB issue or zero point issue??"
   ]
  },
  {
   "cell_type": "markdown",
   "metadata": {},
   "source": [
    "### 3.3.3 b Mag diff - mag\n",
    "\n"
   ]
  },
  {
   "cell_type": "code",
   "execution_count": null,
   "metadata": {},
   "outputs": [],
   "source": [
    "plt.figure(1, figsize=(4, 4), dpi=140)\n",
    "m = mask \n",
    "mean_offset = np.nanmean(merge[m]['vhs_m_ap_vista_ks'] - merge[m]['help_m_ap_vista_ks'])\n",
    "median_offset = np.nanmedian(merge[m]['vhs_m_ap_vista_ks'] - merge[m]['help_m_ap_vista_ks'])\n",
    "print(\"Mean offset = {}\".format(mean_offset))\n",
    "print(\"Median offset = {}\".format(median_offset))\n",
    "plt.plot([0,26],[mean_offset,mean_offset], linestyle='--', c='r', label = 'mean offset = {}'.format(mean_offset))\n",
    "plt.plot([0,26],[median_offset,median_offset], linestyle='dashdot', c='r',\n",
    "         label = 'median offset = {}'.format(median_offset))\n",
    "plt.plot([0,26],[0,0], c='r', label='zero')\n",
    "plt.scatter(merge[mask]['help_m_ap_vista_ks'],   merge[mask]['vhs_m_ap_vista_ks'] - merge[mask]['help_m_ap_vista_ks'], \n",
    "            alpha=0.5, s = 0.5)\n",
    "plt.xlabel('HELP Ks AB mags [mag]')\n",
    "plt.legend( prop={'size': 8})\n",
    "\n",
    "plt.xlim([12,24])\n",
    "plt.ylim([-2,2])\n",
    "plt.ylabel('VHS - HELP Ks AB mags [mag]')"
   ]
  },
  {
   "cell_type": "code",
   "execution_count": null,
   "metadata": {},
   "outputs": [],
   "source": [
    "plt.figure(1, figsize=(4, 4), dpi=140)\n",
    "m = mask \n",
    "mean_offset = np.nanmean(merge[m]['m_ap_vista_ks'] - merge[m]['help_m_ap_vista_ks'])\n",
    "median_offset = np.nanmedian(merge[m]['m_ap_vista_ks'] - merge[m]['help_m_ap_vista_ks'])\n",
    "print(\"Mean offset = {}\".format(mean_offset))\n",
    "print(\"Median offset = {}\".format(median_offset))\n",
    "plt.plot([0,26],[mean_offset,mean_offset], linestyle='--', c='r', label = 'mean offset = {}'.format(mean_offset))\n",
    "plt.plot([0,26],[median_offset,median_offset], linestyle='dashdot', c='r',\n",
    "         label = 'median offset = {}'.format(median_offset))\n",
    "plt.plot([0,26],[0,0], c='r', label='zero')\n",
    "plt.scatter(merge[mask]['help_m_ap_vista_ks'],   merge[mask]['m_ap_vista_ks'] - merge[mask]['help_m_ap_vista_ks'], \n",
    "            alpha=1., s = 0.1)\n",
    "plt.xlabel('HELP Ks AB mags [mag]')\n",
    "plt.legend( prop={'size': 8})\n",
    "\n",
    "plt.xlim([12,24])\n",
    "plt.ylim([-2,2])\n",
    "plt.ylabel('LSST stack - HELP Ks AB mags [mag]')"
   ]
  },
  {
   "cell_type": "code",
   "execution_count": null,
   "metadata": {},
   "outputs": [],
   "source": [
    "plt.figure(1, figsize=(4, 4), dpi=140)\n",
    "m = mask \n",
    "mean_offset = np.nanmean(merge[m]['m_ap_vista_ks'] - merge[m]['ks_tile_m_ap_vista_ks'])\n",
    "median_offset = np.nanmedian(merge[m]['m_ap_vista_ks'] - merge[m]['ks_tile_m_ap_vista_ks'])\n",
    "print(\"Mean offset = {}\".format(mean_offset))\n",
    "print(\"Median offset = {}\".format(median_offset))\n",
    "plt.plot([0,26],[mean_offset,mean_offset], linestyle='--', c='r', label = 'mean offset = {}'.format(mean_offset))\n",
    "plt.plot([0,26],[median_offset,median_offset], linestyle='dashdot', c='r',\n",
    "         label = 'median offset = {}'.format(median_offset))\n",
    "plt.plot([0,26],[0,0], c='r', label='zero')\n",
    "plt.scatter(merge[mask]['ks_tile_m_ap_vista_ks'],   merge[mask]['m_ap_vista_ks'] - merge[mask]['ks_tile_m_ap_vista_ks'], \n",
    "            alpha=0.5, s=0.5)\n",
    "plt.xlabel('VISTA pipe Ks AB mags [mag]')\n",
    "plt.legend( prop={'size': 8})\n",
    "plt.xlim([12,24])\n",
    "plt.ylim([-2,2])\n",
    "plt.ylabel('LSST stack - VISTA pipe Ks AB mags [mag]')"
   ]
  },
  {
   "cell_type": "code",
   "execution_count": null,
   "metadata": {},
   "outputs": [],
   "source": [
    "plt.figure(1, figsize=(4, 4), dpi=140)\n",
    "m = (\n",
    "    mask \n",
    "    #& (merge['help_m_ap_vista_y'] < 30)\n",
    "    #& (merge['vhs_stellarity']>0.9)\n",
    ")\n",
    "\n",
    "mean_offset = np.nanmean(merge[m]['m_ap_vista_ks'] - merge[m]['vhs_m_ap_vista_ks'])\n",
    "median_offset = np.nanmedian(merge[m]['m_ap_vista_ks'] - merge[m]['vhs_m_ap_vista_ks'])\n",
    "print(\"Mean offset = {}\".format(mean_offset))\n",
    "print(\"Median offset = {}\".format(median_offset))\n",
    "plt.plot([0,26],[mean_offset,mean_offset], linestyle='--', c='r', label = 'mean offset = {}'.format(mean_offset))\n",
    "plt.plot([0,26],[median_offset,median_offset], linestyle='dashdot', c='r',\n",
    "         label = 'median offset = {}'.format(median_offset))\n",
    "plt.plot([0,26],[0,0], c='r', label='zero')\n",
    "plt.scatter(merge[mask]['vhs_m_ap_vista_ks'],   merge[mask]['m_ap_vista_ks'] - merge[mask]['vhs_m_ap_vista_ks'], \n",
    "            alpha=0.9, s=0.1)\n",
    "plt.xlabel('VHS Ks APER 3 AB mags [mag]')\n",
    "plt.plot([0,26],[0,0], c='r')\n",
    "plt.legend( prop={'size': 8})\n",
    "plt.xlim([13,22])\n",
    "plt.ylim([-2,2])\n",
    "plt.ylabel('LSST stack Ks - VHS Ks  [mag]')"
   ]
  },
  {
   "cell_type": "code",
   "execution_count": null,
   "metadata": {},
   "outputs": [],
   "source": [
    "plt.figure(1, figsize=(4, 4), dpi=140)\n",
    "m = (\n",
    "    np.full(len(merge),True)\n",
    "    #(merge['ks'] > 0) \n",
    "     #(merge['help_m_ap_vista_ks']<30) \n",
    "   #&(merge['ks_tile_Classification'] == -1) \n",
    "    & (merge['help_vista_stellarity']>0.9)\n",
    ")\n",
    "\n",
    "x_band, x_name = 'oxford_ks_m_ap_vista_ks', 'Oxford Ks'\n",
    "y_band, y_name = 'm_ap_vista_ks', 'LSST stack Ks'\n",
    "\n",
    "mean_offset = np.nanmean((merge[m][y_band] ) - merge[m][x_band])\n",
    "median_offset = np.nanmedian((merge[m][y_band] ) - merge[m][x_band])\n",
    "print(\"Mean offset = {}\".format(mean_offset))\n",
    "plt.plot([0,26],[mean_offset,mean_offset], linestyle='--', c='r',  label = 'mean offset = {}'.format(mean_offset))\n",
    "plt.plot([0,26],[median_offset,median_offset], linestyle='dashdot', c='r',\n",
    "         label = 'median offset = {}'.format(median_offset))\n",
    "plt.scatter(merge[m][x_band],   (merge[m][y_band] ) - merge[m][x_band], \n",
    "            s=1,alpha=0.5)\n",
    "plt.xlabel(x_name + ' [mag]')\n",
    "plt.plot([0,26],[0,0], c='r')\n",
    "\n",
    "plt.legend( prop={'size': 8})\n",
    "plt.xlim([12,24])\n",
    "plt.ylim([-1,1])\n",
    "plt.ylabel('{} - {} [mag]'.format(y_name,x_name))"
   ]
  },
  {
   "cell_type": "code",
   "execution_count": null,
   "metadata": {},
   "outputs": [],
   "source": [
    "plt.figure(1, figsize=(4, 4), dpi=140)\n",
    "m = (\n",
    "    np.full(len(merge),True)\n",
    "    #(merge['ks'] > 0) \n",
    "     #(merge['help_m_ap_vista_ks']<30) \n",
    "   #&(merge['ks_tile_Classification'] == -1) \n",
    "    & (merge['help_vista_stellarity']>0.9)\n",
    ")\n",
    "\n",
    "x_band, x_name = 'oxford_ks_m_ap_vista_ks', 'Oxford Ks'\n",
    "y_band, y_name = 'vhs_m_ap_vista_ks', 'VHS Ks'\n",
    "\n",
    "mean_offset = np.nanmean((merge[m][y_band] ) - merge[m][x_band])\n",
    "median_offset = np.nanmedian((merge[m][y_band] ) - merge[m][x_band])\n",
    "print(\"Mean offset = {}\".format(mean_offset))\n",
    "plt.plot([0,26],[mean_offset,mean_offset], linestyle='--', c='r',  label = 'mean offset = {}'.format(mean_offset))\n",
    "plt.plot([0,26],[median_offset,median_offset], linestyle='dashdot', c='r',\n",
    "         label = 'median offset = {}'.format(median_offset))\n",
    "plt.scatter(merge[m][x_band],   (merge[m][y_band] ) - merge[m][x_band], \n",
    "            s=1,alpha=0.5)\n",
    "plt.xlabel(x_name + ' [mag]')\n",
    "plt.plot([0,26],[0,0], c='r')\n",
    "\n",
    "plt.legend( prop={'size': 8})\n",
    "plt.xlim([12,24])\n",
    "plt.ylim([-1,1])\n",
    "plt.ylabel('{} - {} [mag]'.format(y_name,x_name))"
   ]
  },
  {
   "cell_type": "markdown",
   "metadata": {},
   "source": [
    "# Y band\n",
    "\n",
    "This has been calibrated against PanSTARRS y withiout colour terms so we expect offsets of some scale here"
   ]
  },
  {
   "cell_type": "code",
   "execution_count": null,
   "metadata": {},
   "outputs": [],
   "source": [
    "plt.figure(1, figsize=(4, 4), dpi=140)\n",
    "m = (\n",
    "    mask \n",
    "    #& (merge['help_m_ap_vista_y'] < 30)\n",
    "    #& (merge['help_vista_stellarity']>0.9)\n",
    ")\n",
    "\n",
    "mean_offset = np.nanmean(merge[m]['m_ap_vista_y'] - merge[m]['help_m_ap_vista_y'])\n",
    "median_offset = np.nanmedian(merge[m]['m_ap_vista_y'] - merge[m]['help_m_ap_vista_y'])\n",
    "print(\"Mean offset = {}\".format(mean_offset))\n",
    "print(\"Median offset = {}\".format(median_offset))\n",
    "plt.plot([0,26],[mean_offset,mean_offset], linestyle='--', c='r', label = 'mean offset = {}'.format(mean_offset))\n",
    "plt.plot([0,26],[median_offset,median_offset], linestyle='dashdot', c='r',\n",
    "         label = 'median offset = {}'.format(median_offset))\n",
    "plt.plot([0,26],[0,0], c='r', label='zero')\n",
    "plt.scatter(merge[mask]['help_m_ap_vista_y'],   merge[mask]['m_ap_vista_y'] - merge[mask]['help_m_ap_vista_y'], \n",
    "            alpha=0.9, s=0.1)\n",
    "plt.xlabel('HELP VIDEO Y APER 3 AB mags [mag]')\n",
    "plt.plot([0,26],[0,0], c='r')\n",
    "plt.legend( prop={'size': 8})\n",
    "plt.xlim([12,25])\n",
    "plt.ylim([-2,2])\n",
    "plt.ylabel('LSST stack Y - HELP Y  [mag]')"
   ]
  },
  {
   "cell_type": "code",
   "execution_count": null,
   "metadata": {},
   "outputs": [],
   "source": [
    "plt.figure(1, figsize=(4, 4), dpi=140)\n",
    "m = mask #& (merge['y_tile_m_ap_vista_y'] < 30)\n",
    "mean_offset = np.nanmean(merge[m]['m_ap_vista_y'] - merge[m]['y_tile_m_ap_vista_y'])\n",
    "median_offset = np.nanmedian(merge[m]['m_ap_vista_y'] - merge[m]['y_tile_m_ap_vista_y'])\n",
    "print(\"Mean offset = {}\".format(mean_offset))\n",
    "print(\"Median offset = {}\".format(median_offset))\n",
    "plt.plot([0,26],[mean_offset,mean_offset], linestyle='--', c='r', label = 'mean offset = {}'.format(mean_offset))\n",
    "plt.plot([0,26],[median_offset,median_offset], linestyle='dashdot', c='r',\n",
    "         label = 'median offset = {}'.format(median_offset))\n",
    "plt.plot([0,26],[0,0], c='r', label='zero')\n",
    "plt.scatter(merge[mask]['y_tile_m_ap_vista_y'],   \n",
    "            merge[mask]['m_ap_vista_y'] - merge[mask]['y_tile_m_ap_vista_y'], alpha=0.5, s=0.2)\n",
    "plt.xlabel('VISTA pipe Y AB mags [mag]')\n",
    "plt.legend( prop={'size': 8})\n",
    "plt.xlim([12,24])\n",
    "plt.ylim([-2,4])\n",
    "plt.ylabel('LSST stack - VISTA pipe Y AB mags [mag]')"
   ]
  },
  {
   "cell_type": "code",
   "execution_count": null,
   "metadata": {},
   "outputs": [],
   "source": [
    "plt.figure(1, figsize=(4, 4), dpi=140)\n",
    "m = (\n",
    "    #(merge['ks'] > 0) \n",
    "     #(merge['help_m_ap_vista_ks']<30) \n",
    "   (merge['ks_tile_Classification'] == -1) \n",
    "   # & (merge['help_vista_stellarity']>0.9)\n",
    ")\n",
    "\n",
    "x_band, x_name = 'oxford_ks_m_ap_vista_y', 'Oxford Y'\n",
    "y_band, y_name = 'm_ap_vista_y', 'LSST stack Y'\n",
    "\n",
    "mean_offset = np.nanmean((merge[m][y_band] ) - merge[m][x_band])\n",
    "median_offset = np.nanmedian((merge[m][y_band] ) - merge[m][x_band])\n",
    "print(\"Mean offset = {}\".format(mean_offset))\n",
    "plt.plot([0,26],[mean_offset,mean_offset], linestyle='--', c='r',  label = 'mean offset = {}'.format(mean_offset))\n",
    "plt.plot([0,26],[median_offset,median_offset], linestyle='dashdot', c='r',\n",
    "         label = 'median offset = {}'.format(median_offset))\n",
    "plt.scatter(merge[m][x_band],   (merge[m][y_band] ) - merge[m][x_band], \n",
    "            s=1,alpha=0.5)\n",
    "plt.xlabel(x_name + ' [mag]')\n",
    "plt.plot([0,26],[0,0], c='r')\n",
    "\n",
    "plt.legend( prop={'size': 8})\n",
    "plt.xlim([12,25])\n",
    "plt.ylim([-2,1])\n",
    "plt.ylabel('{} - {} [mag]'.format(y_name,x_name))"
   ]
  },
  {
   "cell_type": "markdown",
   "metadata": {},
   "source": [
    "### 3.3.4 Colour mag"
   ]
  },
  {
   "cell_type": "code",
   "execution_count": null,
   "metadata": {},
   "outputs": [],
   "source": [
    "import matplotlib.pyplot as plt\n",
    "\n",
    "#plt.style.use('seaborn-notebook')\n",
    "plt.figure(1, figsize=(4, 4), dpi=140)\n",
    "plt.scatter(merge['m_ap_vista_y'][mask] - merge['m_ap_vista_ks'][mask] ,\n",
    "            merge['m_ap_vista_ks'][mask] ,\n",
    "            edgecolors='None', s=2, c='k')\n",
    "plt.xlim(-2, 2)\n",
    "plt.ylim(24, 12)\n",
    "plt.xlabel('LSST stack $Y-Ks$')\n",
    "plt.ylabel('LSST stack $Ks$')\n",
    "plt.subplots_adjust(left=0.125, bottom=0.1)\n",
    "plt.show()"
   ]
  },
  {
   "cell_type": "code",
   "execution_count": null,
   "metadata": {},
   "outputs": [],
   "source": [
    "import matplotlib.pyplot as plt\n",
    "\n",
    "#plt.style.use('seaborn-notebook')\n",
    "plt.figure(1, figsize=(4, 4), dpi=140)\n",
    "plt.scatter(merge['help_m_ap_vista_y'][mask] - merge['help_m_ap_vista_ks'][mask] ,\n",
    "            merge['help_m_ap_vista_ks'][mask] ,\n",
    "            edgecolors='None', s=2, c='k')\n",
    "plt.xlim(-2, 2)\n",
    "plt.ylim(24, 12)\n",
    "plt.xlabel('HELP $Y-Ks$')\n",
    "plt.ylabel('HELP $Ks$')\n",
    "plt.subplots_adjust(left=0.125, bottom=0.1)\n",
    "plt.show()"
   ]
  },
  {
   "cell_type": "code",
   "execution_count": null,
   "metadata": {},
   "outputs": [],
   "source": [
    "merge[merge['y_tile_m_ap_vista_y'] < 1.e19][:10]"
   ]
  },
  {
   "cell_type": "code",
   "execution_count": null,
   "metadata": {},
   "outputs": [],
   "source": [
    "import matplotlib.pyplot as plt\n",
    "\n",
    "#plt.style.use('seaborn-notebook')\n",
    "plt.figure(1, figsize=(4, 4), dpi=140)\n",
    "plt.scatter(merge['y_tile_m_ap_vista_y'][mask] - merge['ks_tile_m_ap_vista_ks'][mask] ,\n",
    "            merge['ks_tile_m_ap_vista_ks'][mask] ,\n",
    "            edgecolors='None', s=2, c='k')\n",
    "plt.xlim(-4, 4)\n",
    "plt.ylim(24, 12)\n",
    "plt.xlabel('Tile $Y-Ks$')\n",
    "plt.ylabel('Tile $Ks$')\n",
    "plt.subplots_adjust(left=0.125, bottom=0.1)\n",
    "plt.show()"
   ]
  },
  {
   "cell_type": "markdown",
   "metadata": {},
   "source": [
    "### mag error - mag error"
   ]
  },
  {
   "cell_type": "code",
   "execution_count": null,
   "metadata": {},
   "outputs": [],
   "source": [
    "plt.figure(1, figsize=(4, 4), dpi=140)\n",
    "plt.scatter(merge[mask]['merr_ap_vista_ks'], merge[mask]['help_merr_ap_vista_ks'], alpha=0.5, s=0.2)\n",
    "plt.xlabel('LSST stack Ks AB mag errors [mag]')\n",
    "plt.plot([0,1],[0,1], c='r')\n",
    "\n",
    "plt.xlim([1.e-4,1.e-1])\n",
    "plt.xscale('log')\n",
    "#plt.ylim([0,0.1])\n",
    "plt.ylim([1.e-4,1.e-1])\n",
    "plt.yscale('log')\n",
    "plt.ylabel('HELP Ks AB mag errors [mag]')"
   ]
  },
  {
   "cell_type": "code",
   "execution_count": null,
   "metadata": {},
   "outputs": [],
   "source": [
    "plt.figure(1, figsize=(4, 4), dpi=140)\n",
    "\n",
    "plt.scatter(merge[mask]['merr_ap_vista_ks'], merge[mask]['ks_tile_merr_ap_vista_ks'], alpha=0.5, s=0.2)\n",
    "plt.xlabel('LSST stack Ks AB mag errors [mag]')\n",
    "plt.plot([0,1],[0,1], c='r')\n",
    "plt.xlim([1.e-4,1.e-1])\n",
    "plt.xscale('log')\n",
    "#plt.ylim([0,0.1])\n",
    "plt.ylim([1.e-4,1.e-1])\n",
    "plt.yscale('log')\n",
    "plt.ylabel('VISTA pipe Ks AB mag errors [mag]')"
   ]
  },
  {
   "cell_type": "code",
   "execution_count": null,
   "metadata": {},
   "outputs": [],
   "source": [
    "plt.figure(1, figsize=(4, 4), dpi=140)\n",
    "plt.scatter(merge[mask]['merr_ap_vista_y'], merge[mask]['help_merr_ap_vista_y'], alpha=0.5, s=0.2)\n",
    "plt.xlabel('LSST stack Y AB mag errors [mag]')\n",
    "plt.plot([0,1],[0,1], c='r')\n",
    "\n",
    "plt.xlim([1.e-4,1.e-1])\n",
    "plt.xscale('log')\n",
    "#plt.ylim([0,0.1])\n",
    "plt.ylim([1.e-4,1.e-1])\n",
    "plt.yscale('log')\n",
    "plt.ylabel('HELP Y AB mag errors [mag]')"
   ]
  },
  {
   "cell_type": "code",
   "execution_count": null,
   "metadata": {},
   "outputs": [],
   "source": [
    "plt.figure(1, figsize=(4, 4), dpi=140)\n",
    "\n",
    "plt.scatter(merge[mask]['merr_ap_vista_y'], merge[mask]['y_tile_merr_ap_vista_y'], alpha=0.5, s=0.2)\n",
    "plt.xlabel('LSST stack Y AB mag errors [mag]')\n",
    "plt.plot([0,1],[0,1], c='r')\n",
    "plt.xlim([1.e-4,1.e-1])\n",
    "plt.xscale('log')\n",
    "#plt.ylim([0,0.1])\n",
    "plt.ylim([1.e-4,1.e-1])\n",
    "plt.yscale('log')\n",
    "plt.ylabel('VISTA pipe Y AB mag errors [mag]')"
   ]
  },
  {
   "cell_type": "markdown",
   "metadata": {},
   "source": [
    "### chi squared comparison plots"
   ]
  },
  {
   "cell_type": "code",
   "execution_count": null,
   "metadata": {},
   "outputs": [],
   "source": [
    "\n",
    "    \n",
    "def chi2_plots(x,y,xerr,yerr, labels,diff_label, savefig):\n",
    "    \n",
    "    fig = plt.figure(figsize=(13, 6))\n",
    "\n",
    "    gs1 = gridspec.GridSpec(1, 1)\n",
    "    gs1.update(left=0.05, right=0.4, wspace=0.05)\n",
    "    ax1 = plt.subplot(gs1[:, :])\n",
    "\n",
    "    gs2 = gridspec.GridSpec(1, 3)\n",
    "    gs2.update(left=0.47, right=0.98, hspace=0.05, wspace=0.05)\n",
    "    ax2 = plt.subplot(gs2[:, :-1])\n",
    "    ax3 = plt.subplot(gs2[:, -1], sharey=ax2)\n",
    "\n",
    "    \n",
    "    # Use only finite values\n",
    "    mask = np.isfinite(x) & np.isfinite(y) & np.isfinite(xerr) & np.isfinite(yerr)\n",
    "    x = np.copy(x[mask])\n",
    "    y = np.copy(y[mask])\n",
    "    xerr = np.copy(xerr[mask])\n",
    "    yerr = np.copy(yerr[mask])\n",
    "    \n",
    "    # mag1 - mag2\n",
    "    diff = y - x\n",
    "\n",
    "    x_label, y_label = labels\n",
    "    \n",
    "    # If the difference is all NaN there is nothing to compare.\n",
    "    if np.isnan(diff).all():\n",
    "        print(\"No sources have both {} and {} values.\".format(\n",
    "            x_label, y_label))\n",
    "        print(\"\")\n",
    "\n",
    "    # Set the minimum error to 10^-3\n",
    "    np.clip(xerr, 1e-3, np.max(xerr), out=xerr)\n",
    "    np.clip(yerr, 1e-3, np.max(yerr), out=yerr)\n",
    "\n",
    "    # Median, Median absolute deviation and 1% and 99% percentiles\n",
    "    diff_median = np.median(diff)\n",
    "    diff_mad = np.median(np.abs(diff - diff_median))\n",
    "    diff_1p, diff_99p = np.percentile(diff, [1., 99.])\n",
    "    diff_25p, diff_75p = np.percentile(diff, [25., 75.])\n",
    "    \n",
    "    \n",
    "\n",
    "\n",
    "    print(\"{} ({} sources):\".format(diff_label, len(x)))\n",
    "    print(\"- Median: {:.2f}\".format(diff_median))\n",
    "    print(\"- Median Absolute Deviation: {:.2f}\".format(diff_mad))\n",
    "    print(\"- 1% percentile: {}\".format(diff_1p))\n",
    "    print(\"- 99% percentile: {}\".format(diff_99p))\n",
    "\n",
    "    \n",
    "    # Chi2 (Normalized difference)   \n",
    "    ichi2 = np.power(diff, 2) / (np.power(xerr, 2) + np.power(yerr, 2))\n",
    "    \n",
    "    # Use only non-null values of ichi2\n",
    "    mask2 = ichi2 != 0.0\n",
    "    diff, ichi2 = np.copy(diff[mask2]), np.copy(ichi2[mask2])\n",
    "    x, y, xerr, yerr = np.copy(x[mask2]), np.copy(y[mask2]), np.copy(xerr[mask2]), np.copy(yerr[mask2])\n",
    "\n",
    "    # Outliers (5sigma)\n",
    "    log_ichi2_25p, log_ichi2_75p = np.percentile(np.log10(ichi2), [25., 75.])\n",
    "    out_lim = log_ichi2_75p + 3.2*abs(log_ichi2_25p-log_ichi2_75p)\n",
    "    \n",
    "    outliers = np.log10(ichi2) > out_lim \n",
    "    nb_outliers = len(x[outliers])\n",
    "    \n",
    "    print(\"Outliers separation: log(chi2) = {:.2f}\".format(out_lim))\n",
    "    print(\"Number of outliers: {}\".format(nb_outliers))\n",
    "\n",
    "    print(\"\")\n",
    "\n",
    "    # Comparing mag\n",
    "    ax1.scatter(x, y, marker='.', alpha=0.1, s=50, color='r')\n",
    "    ax1.scatter(x[outliers], y[outliers], marker='.', c='b', alpha=0.3, s=50, label='Outliers ({})'.format(nb_outliers))\n",
    "    min_val = np.min(np.r_[x, y])\n",
    "    max_val = np.max(np.r_[x, y])\n",
    "    ax1.autoscale(False)\n",
    "    ax1.plot([min_val, max_val], [min_val, max_val], \"k:\")\n",
    "    ax1.invert_xaxis()\n",
    "    ax1.invert_yaxis()\n",
    "    ax1.set_xlabel(x_label)\n",
    "    ax1.set_ylabel(y_label)\n",
    "    ax1.legend(loc='lower right', numpoints=1)\n",
    "    \n",
    "\n",
    "    # Chi2 vs Diff\n",
    "    #ax1.set_yscale('log')    # to place before scatter to avoid issues\n",
    "    ax2.scatter(diff, np.log10(ichi2), marker='.', alpha=0.1, s=50, color='r')\n",
    "    if nb_outliers != 0:\n",
    "        ax2.scatter(diff[outliers], np.log10(ichi2[outliers]), marker='.', alpha=0.3, s=50, color='b',\\\n",
    "                        label='Outliers ({})'.format(nb_outliers))\n",
    "    ax2.axhline(out_lim, color='grey', linestyle=':')\n",
    "    ax2.set_xlabel(diff_label)\n",
    "    ax2.set_ylabel('log(chi2)')\n",
    "    ax2.legend(loc='lower right', numpoints=1)\n",
    "    \n",
    "    # Hist\n",
    "    n, bins, patches = vz.hist(np.log10(ichi2), ax=ax3, bins='knuth', facecolor='red', lw = 2, alpha=0.5,\\\n",
    "                                   orientation=\"horizontal\")\n",
    "    if nb_outliers > 3:\n",
    "        n, bins, patches = vz.hist(np.log10(ichi2[outliers]), ax=ax3, bins=bins, facecolor='b', lw = 2, alpha=0.7,\\\n",
    "                                   orientation=\"horizontal\")\n",
    "    ax3.axhline(out_lim, color='grey', linestyle=':')\n",
    "    ax3.yaxis.set_tick_params(labelleft=False)\n",
    "    \n",
    "    # Save ex. fig\n",
    "\n",
    "\n",
    "    plt.rc('font', family='serif', serif='Times')\n",
    "    plt.rc('text') #, usetex=True)\n",
    "    plt.rc('xtick', labelsize=12)\n",
    "    plt.rc('ytick', labelsize=12)\n",
    "    plt.rc('axes', labelsize=12)\n",
    "\n",
    "\n",
    "\n",
    "    column_width_cm = 8.9\n",
    "    width_cm =  2.5* column_width_cm\n",
    "    hieght_cm = width_cm /2\n",
    "    width_inches = width_cm/2.5\n",
    "    hieght_inches = hieght_cm/2.5\n",
    "    fig.set_size_inches(width_inches, hieght_inches)\n",
    "    ax1.set_xlim([11, 26])\n",
    "    ax1.set_ylim([11, 26])\n",
    "    ax2.set_xlim([-10, 10])\n",
    "    plt.savefig('./figs/mag_compare.pdf', bbox_inches='tight')\n",
    "    plt.savefig('./figs/mag_compare.png', bbox_inches='tight')\n",
    "\n",
    "\n",
    "    survey_label = ((diff_label.replace(\" \", \"_\")).replace(\"(\", \"\")).replace(\")\", \"\")\n",
    "   \n",
    "    plt.savefig(\"./figs/outliers.png\" , bbox_inches='tight')\n",
    "    plt.savefig(\"./figs/outliers.pdf\" , bbox_inches='tight')\n",
    "    \n",
    "    \n",
    "    \n",
    "    \n",
    "    \n",
    "    \n"
   ]
  },
  {
   "cell_type": "code",
   "execution_count": null,
   "metadata": {},
   "outputs": [],
   "source": [
    "x = merge['m_vista_ks'][mask]\n",
    "y = merge['help_m_ap_vista_ks'][mask]\n",
    "xerr = merge['merr_ap_vista_ks'][mask]\n",
    "yerr = merge['help_merr_ap_vista_ks'][mask]\n",
    "labels=(\"LSST Stack Ks [mag]\", \"HELP Ks [mag]\")\n",
    "diff_label =  \"LSST Stack - HELP [mag]\" # \"{} - {}\".format(y_label, x_label)\n",
    "savefig=True\n",
    "chi2_plots(x,y,xerr,yerr, labels,diff_label, savefig)"
   ]
  },
  {
   "cell_type": "code",
   "execution_count": null,
   "metadata": {},
   "outputs": [],
   "source": [
    "x = merge['m_ap_vista_ks']\n",
    "y = merge['help_m_ap_vista_ks']\n",
    "xerr = merge['merr_ap_vista_ks']\n",
    "yerr = merge['help_merr_ap_vista_ks']\n",
    "labels=(\"LSST Stack Ks [mag]\", \"HELP Ks [mag]\")\n",
    "diff_label =  \"LSST Stack - HELP [mag]\" # \"{} - {}\".format(y_label, x_label)\n",
    "savefig=True\n",
    "chi2_plots(x,y,xerr,yerr, labels,diff_label, savefig)"
   ]
  },
  {
   "cell_type": "code",
   "execution_count": null,
   "metadata": {},
   "outputs": [],
   "source": [
    "x = merge['m_ap_vista_ks']\n",
    "y = merge['oxford_ks_m_ap_vista_ks']\n",
    "xerr = merge['merr_ap_vista_ks']\n",
    "yerr = merge['oxford_ks_merr_ap_vista_ks']\n",
    "labels=(\"LSST Stack Ks [mag]\", \"Oxford Ks [mag]\")\n",
    "diff_label =  \"LSST Stack - Oxford Ks [mag]\" # \"{} - {}\".format(y_label, x_label)\n",
    "savefig=True\n",
    "chi2_plots(x,y,xerr,yerr, labels,diff_label, savefig)"
   ]
  },
  {
   "cell_type": "code",
   "execution_count": null,
   "metadata": {},
   "outputs": [],
   "source": [
    "x = merge['m_ap_vista_ks'][mask]\n",
    "y = merge['ks_tile_m_ap_vista_ks'][mask]\n",
    "xerr = merge['merr_ap_vista_ks'][mask]\n",
    "yerr = merge['ks_tile_merr_ap_vista_ks'][mask]\n",
    "labels=(\"LSST Stack Ks [mag]\", \"VISTA Ks [mag]\")\n",
    "diff_label =  \"LSST Stack Ks - VISTA Ks [mag]\" # \"{} - {}\".format(y_label, x_label)\n",
    "savefig=True\n",
    "chi2_plots(x,y,xerr,yerr, labels,diff_label, savefig)"
   ]
  },
  {
   "cell_type": "code",
   "execution_count": null,
   "metadata": {},
   "outputs": [],
   "source": [
    "x = merge['m_ap_vista_ks'][mask]\n",
    "y = merge['ks_tile_m_ap_vista_ks'][mask]\n",
    "xerr = merge['merr_ap_vista_ks'][mask]\n",
    "yerr = merge['ks_tile_merr_ap_vista_ks'][mask]\n",
    "labels=(\"LSST Stack Ks [mag]\", \"VISTA Ks [mag]\")\n",
    "diff_label =  \"LSST Stack Ks - VISTA Ks [mag]\" # \"{} - {}\".format(y_label, x_label)\n",
    "savefig=True\n",
    "chi2_plots(x,y,xerr,yerr, labels,diff_label, savefig)"
   ]
  },
  {
   "cell_type": "code",
   "execution_count": null,
   "metadata": {},
   "outputs": [],
   "source": [
    "x = merge['m_ap_vista_y'][mask]\n",
    "y = merge['help_m_ap_vista_y'][mask]\n",
    "xerr = merge['merr_ap_vista_y'][mask]\n",
    "yerr = merge['help_merr_ap_vista_y'][mask]\n",
    "labels=(\"LSST Stack Y [mag]\", \"HELP Y [mag]\")\n",
    "diff_label =  \"LSST Stack Y - HELP Y [mag]\" # \"{} - {}\".format(y_label, x_label)\n",
    "savefig=True\n",
    "chi2_plots(x,y,xerr,yerr, labels,diff_label, savefig)"
   ]
  },
  {
   "cell_type": "code",
   "execution_count": null,
   "metadata": {},
   "outputs": [],
   "source": [
    "x = merge['m_ap_vista_y']\n",
    "y = merge['help_m_ap_vista_y']\n",
    "xerr = merge['merr_ap_vista_y']\n",
    "yerr = merge['help_merr_ap_vista_y']\n",
    "labels=(\"LSST Stack Y [mag]\", \"HELP Y [mag]\")\n",
    "diff_label =  \"LSST Stack Y - HELP Y [mag]\" # \"{} - {}\".format(y_label, x_label)\n",
    "savefig=True\n",
    "chi2_plots(x,y,xerr,yerr, labels,diff_label, savefig)"
   ]
  },
  {
   "cell_type": "code",
   "execution_count": null,
   "metadata": {},
   "outputs": [],
   "source": [
    "x = merge['m_ap_vista_y'][mask]\n",
    "y = merge['y_tile_m_ap_vista_y'][mask]\n",
    "xerr = merge['merr_ap_vista_y'][mask]\n",
    "yerr = merge['y_tile_merr_ap_vista_y'][mask]\n",
    "labels=(\"LSST Stack Y [mag]\", \"VISTA tile Y [mag]\")\n",
    "diff_label =  \"LSST Stack Y - VISTA tile Y [mag]\" # \"{} - {}\".format(y_label, x_label)\n",
    "savefig=True\n",
    "chi2_plots(x,y,xerr,yerr, labels,diff_label, savefig)"
   ]
  },
  {
   "cell_type": "code",
   "execution_count": null,
   "metadata": {},
   "outputs": [],
   "source": [
    "x = merge['m_ap_vista_y']\n",
    "y = merge['y_tile_m_ap_vista_y']\n",
    "xerr = merge['merr_ap_vista_y']\n",
    "yerr = merge['y_tile_merr_ap_vista_y']\n",
    "labels=(\"LSST Stack Y [mag]\", \"VISTA tile Y [mag]\")\n",
    "diff_label =  \"LSST Stack Y - VISTA tile Y [mag]\" # \"{} - {}\".format(y_label, x_label)\n",
    "savefig=True\n",
    "chi2_plots(x,y,xerr,yerr, labels,diff_label, savefig)"
   ]
  },
  {
   "cell_type": "code",
   "execution_count": null,
   "metadata": {},
   "outputs": [],
   "source": []
  },
  {
   "cell_type": "code",
   "execution_count": null,
   "metadata": {},
   "outputs": [],
   "source": []
  },
  {
   "cell_type": "code",
   "execution_count": null,
   "metadata": {},
   "outputs": [],
   "source": []
  }
 ],
 "metadata": {
  "kernelspec": {
   "display_name": "LSST",
   "language": "python",
   "name": "lsst"
  },
  "language_info": {
   "codemirror_mode": {
    "name": "ipython",
    "version": 3
   },
   "file_extension": ".py",
   "mimetype": "text/x-python",
   "name": "python",
   "nbconvert_exporter": "python",
   "pygments_lexer": "ipython3",
   "version": "3.7.6"
  }
 },
 "nbformat": 4,
 "nbformat_minor": 4
}
