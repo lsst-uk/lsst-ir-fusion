{
 "cells": [
  {
   "cell_type": "markdown",
   "id": "22fcac3f-b1a7-4432-8619-790658ce1b22",
   "metadata": {},
   "source": [
    "# Estimate memory usages\n",
    "\n",
    "In this notebook we will estimate the total memory required for various runs"
   ]
  },
  {
   "cell_type": "code",
   "execution_count": 1,
   "id": "d650fc05-1508-4cc8-8293-9ace0434d21b",
   "metadata": {},
   "outputs": [
    {
     "name": "stdout",
     "output_type": "stream",
     "text": [
      "lsst_distrib          g2d4714e03a+6e1aa0b536 \tcurrent w_2022_07 w_latest setup\n",
      "obs_vista             23.0.0-1   \tcurrent setup\n"
     ]
    }
   ],
   "source": [
    "# What version of the Stack are we using?\n",
    "! eups list -s | grep lsst_distrib\n",
    "! eups list -s | grep obs_vista"
   ]
  },
  {
   "cell_type": "code",
   "execution_count": 81,
   "id": "df224135-d3bc-4fbe-8ef0-d4b807704a73",
   "metadata": {},
   "outputs": [],
   "source": [
    "import os\n",
    "from astropy.table import Table\n",
    "import numpy as np\n",
    "import json\n",
    "from humanfriendly import format_size"
   ]
  },
  {
   "cell_type": "markdown",
   "id": "7e08a2a5-f7e6-42d4-b80a-22c9d926b8e9",
   "metadata": {},
   "source": [
    "## Memory per image/patch\n",
    "\n",
    "Lets look at the example data butler"
   ]
  },
  {
   "cell_type": "code",
   "execution_count": 16,
   "id": "b7d7d0f6-6413-4ed2-b812-db00decf0078",
   "metadata": {},
   "outputs": [
    {
     "name": "stdout",
     "output_type": "stream",
     "text": [
      "      48\n"
     ]
    }
   ],
   "source": [
    "!ls data/VIRCAM/raw/all/raw/*/*/*.fit | wc -l"
   ]
  },
  {
   "cell_type": "code",
   "execution_count": 26,
   "id": "37604a23-0a2c-48e4-9d65-426638b5da1b",
   "metadata": {},
   "outputs": [
    {
     "name": "stdout",
     "output_type": "stream",
     "text": [
      "      35\n"
     ]
    }
   ],
   "source": [
    "!ls data/videoSingleFrame/20220216T105147Z/calexp/*/*/*/*/*.fits | wc -l"
   ]
  },
  {
   "cell_type": "code",
   "execution_count": 118,
   "id": "8dbdd3e2-8a82-4697-95ac-572ac6d2393f",
   "metadata": {},
   "outputs": [
    {
     "name": "stdout",
     "output_type": "stream",
     "text": [
      "3.2G\tdata/videoSingleFrame/20220216T105147Z\n",
      "3.2G\tdata/videoSingleFrame\n",
      " 99M\tdata/video_gen3/ps1_pv3_3pi_20170110_vista\n",
      " 99M\tdata/video_gen3\n",
      "2.5M\tdata/videoMultiVisitLater/20220216T175637Z\n",
      "1.1G\tdata/videoMultiVisitLater/20220216T175847Z\n",
      "176M\tdata/videoMultiVisitLater/20220216T172039Z\n",
      "1.3G\tdata/videoMultiVisitLater\n",
      "1.1G\tdata/videoConfidence/confidence\n",
      "1.1G\tdata/videoConfidence\n",
      "927M\tdata/videoCoaddDetect/20220216T170915Z\n",
      "928M\tdata/videoCoaddDetect\n",
      "112K\tdata/VIRCAM/calib\n",
      "3.3G\tdata/VIRCAM/raw\n",
      "3.3G\tdata/VIRCAM\n",
      "4.0K\tdata/skymaps/skyMap\n",
      "4.0K\tdata/skymaps\n",
      " 11G\tdata\n"
     ]
    }
   ],
   "source": [
    "!du -h -d 2 data"
   ]
  },
  {
   "cell_type": "code",
   "execution_count": 129,
   "id": "f51f9ea7-0eb8-4ce0-940d-9031db3890e0",
   "metadata": {},
   "outputs": [],
   "source": [
    "raw   = (3_300_000_000+1_100_000_000)/48               #per 16 ccd fits file\n",
    "proc  = 3_200_000_000*16/35                            #per 16 ccd fits file\n",
    "coadd = 927_000_000/(2*2)                              #per patch per band\n",
    "meas  = 1_100_000_000/(2*3)                            #per patch per band"
   ]
  },
  {
   "cell_type": "code",
   "execution_count": 120,
   "id": "adb6c10b-e7f5-4d5a-af09-d2c0d4edb778",
   "metadata": {},
   "outputs": [
    {
     "data": {
      "text/plain": [
       "('91.67 MB', '1.46 GB', '231.75 MB', '183.33 MB')"
      ]
     },
     "execution_count": 120,
     "metadata": {},
     "output_type": "execute_result"
    }
   ],
   "source": [
    "format_size(raw),format_size(proc),format_size(coadd),format_size(meas)"
   ]
  },
  {
   "cell_type": "markdown",
   "id": "ee6360fa-cdf6-4624-811f-9fa1aa2eb8eb",
   "metadata": {},
   "source": [
    "## HSC PDR2 Overlap processing"
   ]
  },
  {
   "cell_type": "code",
   "execution_count": 58,
   "id": "fbabb7d6-3452-420b-906f-ecf3044f14f7",
   "metadata": {},
   "outputs": [
    {
     "name": "stdout",
     "output_type": "stream",
     "text": [
      "hsc_images_overview.csv\n",
      "hsc_images_overview_20210315.csv\n",
      "hsc_images_overview_20210315.csv.old\n",
      "vhs_images_overview.csv\n",
      "vhs_images_overview_20201102.csv\n",
      "vhs_images_overview_20210409.csv\n",
      "vhs_images_overview_temp_790000.csv\n",
      "vhs_tiles_tracts_patches_overview_20201102.csv\n",
      "video_images_overview.csv\n",
      "video_images_overview_20200820.csv\n",
      "video_images_overview_20210322.csv\n",
      "video_images_overview_20210330.csv\n",
      "video_images_overview_20210331.csv\n",
      "video_tiles_tracts_patches_overview_20200820.csv\n",
      "viking_images_overview_20201218.csv\n",
      "viking_images_overview_20210406.csv\n",
      "viking_tiles_tracts_patches_overview_20201218.csv\n"
     ]
    }
   ],
   "source": [
    "!ls ../../dmu1/data"
   ]
  },
  {
   "cell_type": "code",
   "execution_count": 93,
   "id": "9d3944e6-aff7-4b91-a353-94aa1f8ca2f6",
   "metadata": {},
   "outputs": [
    {
     "data": {
      "text/plain": [
       "'VHS: images: 204996, tracts: 8743'"
      ]
     },
     "execution_count": 93,
     "metadata": {},
     "output_type": "execute_result"
    }
   ],
   "source": [
    "vhs=Table.read('../../dmu1/data/vhs_images_overview_20210409.csv')\n",
    "n_vhs=np.sum([s['file'].endswith('st.fit') for s in vhs])\n",
    "vhs_tiles=Table.read('../../dmu1/data/vhs_tiles_tracts_patches_overview_20201102.csv')\n",
    "vhs_tracts=set()\n",
    "for i in vhs_tiles['tract_patch_json']:\n",
    "    vhs_tracts=vhs_tracts.union(set(json.loads(i).keys()))\n",
    "n_vhs_tracts=len(vhs_tracts)\n",
    "\"VHS: images: {}, tracts: {}\".format(n_vhs,n_vhs_tracts)"
   ]
  },
  {
   "cell_type": "code",
   "execution_count": 94,
   "id": "4455f2a8-a1d2-48be-bb93-93a4f32fde9e",
   "metadata": {},
   "outputs": [
    {
     "data": {
      "text/plain": [
       "'VIDEO: images: 13476, tracts: 18'"
      ]
     },
     "execution_count": 94,
     "metadata": {},
     "output_type": "execute_result"
    }
   ],
   "source": [
    "vid=Table.read('../../dmu1/data/video_images_overview_20210331.csv')\n",
    "n_vid=np.sum([s['file'].endswith('st.fit') for s in vid])\n",
    "vid_tiles=Table.read('../../dmu1/data/video_tiles_tracts_patches_overview_20200820.csv')\n",
    "vid_tracts=set()\n",
    "for i in vid_tiles['tract_patch_json']:\n",
    "    vid_tracts=vid_tracts.union(set(json.loads(i).keys()))\n",
    "n_vid_tracts=len(vid_tracts)\n",
    "\"VIDEO: images: {}, tracts: {}\".format(n_vid,n_vid_tracts)"
   ]
  },
  {
   "cell_type": "code",
   "execution_count": 98,
   "id": "42e8aae8-4cde-483f-81b4-c6c7aaacc26c",
   "metadata": {},
   "outputs": [
    {
     "data": {
      "text/plain": [
       "'VIKING: images: 41615, tracts: 720'"
      ]
     },
     "execution_count": 98,
     "metadata": {},
     "output_type": "execute_result"
    }
   ],
   "source": [
    "vik=Table.read('../../dmu1/data/viking_images_overview_20210406.csv')\n",
    "n_vik=np.sum([s['file'].endswith('st.fit') for s in vik])\n",
    "vik_tiles=Table.read('../../dmu1/data/viking_tiles_tracts_patches_overview_20201218.csv')\n",
    "vik_tracts=set()\n",
    "for i in vik_tiles['tract_patch_json']:\n",
    "    vik_tracts=vik_tracts.union(set(json.loads(i).keys()))\n",
    "n_vik_tracts=len(vik_tracts)\n",
    "\"VIKING: images: {}, tracts: {}\".format(n_vik,n_vik_tracts)"
   ]
  },
  {
   "cell_type": "code",
   "execution_count": 138,
   "id": "ba13d11f-545d-41a5-ab79-1465e0d8146d",
   "metadata": {},
   "outputs": [],
   "source": [
    "def summary(n_images,n_patches,name,vista_bands,final_bands):\n",
    "    print(\"\"\"\n",
    "Full area {} processing\n",
    "Full processing of input images: {} \n",
    "Full coadd of all patches: {} \n",
    "Full photometry pipeline on all patches: {} \n",
    "Total memory for {} * 16 CCD images and {} patches: {} \n",
    "\"\"\".format(\n",
    "    name,\n",
    "    format_size(n_images * (raw+proc)),\n",
    "    format_size(n_patches*coadd*vista_bands), #assume 6 times fewer images to coadd\n",
    "    format_size(n_patches*meas*final_bands),  #assume JHK and LSST UGRIZY\n",
    "    n_images, n_patches,\n",
    "    format_size(\n",
    "        (n_images * (raw+proc))\n",
    "        + (n_patches*coadd*vista_bands)\n",
    "        + (n_patches*meas*final_bands)\n",
    "    )\n",
    "))"
   ]
  },
  {
   "cell_type": "code",
   "execution_count": 139,
   "id": "b6f2da1e-aafd-42be-9638-f4716d58678e",
   "metadata": {},
   "outputs": [
    {
     "name": "stdout",
     "output_type": "stream",
     "text": [
      "\n",
      "Full area VHS processing\n",
      "Full processing of input images: 318.67 TB \n",
      "Full coadd of all patches: 492.36 TB \n",
      "Full photometry pipeline on all patches: 1.17 PB \n",
      "Total memory for 204996 * 16 CCD images and 708183 patches: 1.98 PB \n",
      "\n"
     ]
    }
   ],
   "source": [
    "summary(n_vhs,n_vhs_tracts*81,'VHS',3,3+6)"
   ]
  },
  {
   "cell_type": "code",
   "execution_count": 140,
   "id": "d67abf59-5d4c-4122-8fe3-115e768fbafe",
   "metadata": {},
   "outputs": [
    {
     "name": "stdout",
     "output_type": "stream",
     "text": [
      "\n",
      "Full area VIDEO processing\n",
      "Full processing of input images: 20.95 TB \n",
      "Full coadd of all patches: 1.69 TB \n",
      "Full photometry pipeline on all patches: 2.94 TB \n",
      "Total memory for 13476 * 16 CCD images and 1458 patches: 25.58 TB \n",
      "\n"
     ]
    }
   ],
   "source": [
    "summary(n_vid,n_vid_tracts*81,'VIDEO',5,5+6)"
   ]
  },
  {
   "cell_type": "code",
   "execution_count": 141,
   "id": "165f304f-0510-427f-9380-a6331c1475fc",
   "metadata": {},
   "outputs": [
    {
     "name": "stdout",
     "output_type": "stream",
     "text": [
      "\n",
      "Full area VIKING processing\n",
      "Full processing of input images: 64.69 TB \n",
      "Full coadd of all patches: 40.55 TB \n",
      "Full photometry pipeline on all patches: 96.23 TB \n",
      "Total memory for 41615 * 16 CCD images and 58320 patches: 201.47 TB \n",
      "\n"
     ]
    }
   ],
   "source": [
    "summary(n_vik,n_vik_tracts*81,'VIKING',3,3+6)"
   ]
  },
  {
   "cell_type": "code",
   "execution_count": null,
   "id": "20eddb28-cc8d-42de-84f2-f67854ad25dd",
   "metadata": {},
   "outputs": [],
   "source": []
  }
 ],
 "metadata": {
  "kernelspec": {
   "display_name": "Python 3 (ipykernel)",
   "language": "python",
   "name": "python3"
  },
  "language_info": {
   "codemirror_mode": {
    "name": "ipython",
    "version": 3
   },
   "file_extension": ".py",
   "mimetype": "text/x-python",
   "name": "python",
   "nbconvert_exporter": "python",
   "pygments_lexer": "ipython3",
   "version": "3.8.12"
  }
 },
 "nbformat": 4,
 "nbformat_minor": 5
}
