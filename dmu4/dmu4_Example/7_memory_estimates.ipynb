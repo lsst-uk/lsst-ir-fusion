{
 "cells": [
  {
   "cell_type": "markdown",
   "id": "22fcac3f-b1a7-4432-8619-790658ce1b22",
   "metadata": {},
   "source": [
    "# Estimate memory usages\n",
    "\n",
    "In this notebook we will estimate the total memory required for various runs"
   ]
  },
  {
   "cell_type": "code",
   "execution_count": 1,
   "id": "d650fc05-1508-4cc8-8293-9ace0434d21b",
   "metadata": {},
   "outputs": [
    {
     "name": "stdout",
     "output_type": "stream",
     "text": [
      "lsst_distrib          g0b29ad24fb+cd38383676 \tcurrent w_2022_38 w_latest setup\n",
      "obs_vista             23.0.0-1   \tcurrent setup\n"
     ]
    }
   ],
   "source": [
    "# What version of the Stack are we using?\n",
    "! eups list -s | grep lsst_distrib\n",
    "! eups list -s | grep obs_vista"
   ]
  },
  {
   "cell_type": "code",
   "execution_count": 2,
   "id": "df224135-d3bc-4fbe-8ef0-d4b807704a73",
   "metadata": {},
   "outputs": [],
   "source": [
    "import os\n",
    "from astropy.table import Table\n",
    "import numpy as np\n",
    "import json\n",
    "from humanfriendly import format_size"
   ]
  },
  {
   "cell_type": "markdown",
   "id": "7e08a2a5-f7e6-42d4-b80a-22c9d926b8e9",
   "metadata": {},
   "source": [
    "## Memory per image/patch\n",
    "\n",
    "Lets look at the example data butler. in the example butler we don't run for all the ingested images so we need to first count files to get per file estimates"
   ]
  },
  {
   "cell_type": "code",
   "execution_count": 3,
   "id": "b7d7d0f6-6413-4ed2-b812-db00decf0078",
   "metadata": {},
   "outputs": [
    {
     "name": "stdout",
     "output_type": "stream",
     "text": [
      "      48\n"
     ]
    }
   ],
   "source": [
    "!ls data/VIRCAM/raw/all/raw/*/*/*.fit | wc -l"
   ]
  },
  {
   "cell_type": "code",
   "execution_count": 4,
   "id": "37604a23-0a2c-48e4-9d65-426638b5da1b",
   "metadata": {},
   "outputs": [
    {
     "name": "stdout",
     "output_type": "stream",
     "text": [
      "zsh:1: no matches found: data/videoSingleFrame/20220216T105147Z/calexp/*/*/*/*/*.fits\n",
      "       0\n"
     ]
    }
   ],
   "source": [
    "!ls data/videoSingleFrame/20220216T105147Z/calexp/*/*/*/*/*.fits | wc -l"
   ]
  },
  {
   "cell_type": "code",
   "execution_count": 5,
   "id": "8dbdd3e2-8a82-4697-95ac-572ac6d2393f",
   "metadata": {},
   "outputs": [
    {
     "name": "stdout",
     "output_type": "stream",
     "text": [
      "3.1G\tdata/videoSingleFrame/20220920T150232Z\n",
      "3.1G\tdata/videoSingleFrame\n",
      " 99M\tdata/video_gen3/ps1_pv3_3pi_20170110_vista\n",
      " 99M\tdata/video_gen3\n",
      "670M\tdata/videoMultiVisitLater/20220921T125623Z\n",
      "670M\tdata/videoMultiVisitLater\n",
      "1.1G\tdata/videoConfidence/confidence\n",
      "1.1G\tdata/videoConfidence\n",
      "2.8G\tdata/videoCoaddDetect/20220921T115801Z\n",
      "302M\tdata/videoCoaddDetect/hscImports\n",
      "3.1G\tdata/videoCoaddDetect\n",
      "116K\tdata/VIRCAM/calib\n",
      "3.3G\tdata/VIRCAM/raw\n",
      "3.3G\tdata/VIRCAM\n",
      "4.0K\tdata/skymaps/skyMap\n",
      "4.0K\tdata/skymaps\n",
      " 12G\tdata\n"
     ]
    }
   ],
   "source": [
    "!du -h -d 2 data"
   ]
  },
  {
   "cell_type": "code",
   "execution_count": 6,
   "id": "f51f9ea7-0eb8-4ce0-940d-9031db3890e0",
   "metadata": {},
   "outputs": [],
   "source": [
    "raw   = (3_300_000_000+1_100_000_000)/48               #per 16 ccd fits file   data/VIRCAM/raw          data/videoConfidence\n",
    "proc  = 3_200_000_000*16/35                            #per 16 ccd fits file   data/videoSingleFrame\n",
    "coadd = 927_000_000/(2*2)                              #per patch per band     data/videoCoaddDetect\n",
    "meas  = 3_100_000_000/(2*3)                            #per patch per band     data/videoMultiVisitLater"
   ]
  },
  {
   "cell_type": "code",
   "execution_count": 7,
   "id": "adb6c10b-e7f5-4d5a-af09-d2c0d4edb778",
   "metadata": {},
   "outputs": [
    {
     "data": {
      "text/plain": [
       "('87.42 MiB', '1.36 GiB', '221.01 MiB', '492.73 MiB')"
      ]
     },
     "execution_count": 7,
     "metadata": {},
     "output_type": "execute_result"
    }
   ],
   "source": [
    "format_size(raw,binary=True),format_size(proc,binary=True),format_size(coadd,binary=True),format_size(meas,binary=True)"
   ]
  },
  {
   "cell_type": "markdown",
   "id": "ee6360fa-cdf6-4624-811f-9fa1aa2eb8eb",
   "metadata": {},
   "source": [
    "## HSC PDR2 Overlap processing"
   ]
  },
  {
   "cell_type": "code",
   "execution_count": 8,
   "id": "fbabb7d6-3452-420b-906f-ecf3044f14f7",
   "metadata": {},
   "outputs": [
    {
     "name": "stdout",
     "output_type": "stream",
     "text": [
      "hsc_images_overview.csv\n",
      "hsc_images_overview_20210315.csv\n",
      "hsc_images_overview_20210315.csv.old\n",
      "hsc_images_overview_20220526.csv\n",
      "vhs_images_overview.csv\n",
      "vhs_images_overview_20201102.csv\n",
      "vhs_images_overview_20210409.csv\n",
      "vhs_images_overview_temp_790000.csv\n",
      "vhs_tiles_tracts_patches_overview_20201102.csv\n",
      "video_images_overview.csv\n",
      "video_images_overview_20200820.csv\n",
      "video_images_overview_20210322.csv\n",
      "video_images_overview_20210330.csv\n",
      "video_images_overview_20210331.csv\n",
      "video_tiles_tracts_patches_overview_20200820.csv\n",
      "viking_images_overview_20201218.csv\n",
      "viking_images_overview_20210406.csv\n",
      "viking_tiles_tracts_patches_overview_20201218.csv\n"
     ]
    }
   ],
   "source": [
    "!ls ../../dmu1/data"
   ]
  },
  {
   "cell_type": "code",
   "execution_count": 9,
   "id": "9d3944e6-aff7-4b91-a353-94aa1f8ca2f6",
   "metadata": {},
   "outputs": [
    {
     "data": {
      "text/plain": [
       "'VHS: images: 204996, tracts: 8743'"
      ]
     },
     "execution_count": 9,
     "metadata": {},
     "output_type": "execute_result"
    }
   ],
   "source": [
    "vhs=Table.read('../../dmu1/data/vhs_images_overview_20210409.csv')\n",
    "n_vhs=np.sum([s['file'].endswith('st.fit') for s in vhs])\n",
    "vhs_tiles=Table.read('../../dmu1/data/vhs_tiles_tracts_patches_overview_20201102.csv')\n",
    "vhs_tracts=set()\n",
    "for i in vhs_tiles['tract_patch_json']:\n",
    "    vhs_tracts=vhs_tracts.union(set(json.loads(i).keys()))\n",
    "n_vhs_tracts=len(vhs_tracts)\n",
    "\"VHS: images: {}, tracts: {}\".format(n_vhs,n_vhs_tracts)"
   ]
  },
  {
   "cell_type": "code",
   "execution_count": 10,
   "id": "e2d44c9a-6f42-4048-ae97-c95a9be07afa",
   "metadata": {},
   "outputs": [
    {
     "name": "stdout",
     "output_type": "stream",
     "text": [
      "-rw-r--r--  1 raphaelshirley  staff  3150451 21 Sep 14:24 ../dmu4_VHS/slurm/full_images_job_dict_16053.json\n",
      "-rw-r--r--  1 raphaelshirley  staff   896453 21 Sep 15:23 ../dmu4_VHS/slurm/full_images_job_dict_4682.json\n",
      "-rw-r--r--  1 raphaelshirley  staff  1382859 22 Apr  2021 ../dmu4_VHS/slurm/full_images_job_dict_7174.json\n",
      "-rw-r--r--  1 raphaelshirley  staff  1567709 21 Sep 17:00 ../dmu4_VHS/slurm/full_images_job_dict_8157.json\n",
      "-rw-r--r--  1 raphaelshirley  staff   265335 22 Apr  2021 ../dmu4_VHS/slurm/full_patch_job_dict_13164.json\n",
      "-rw-r--r--  1 raphaelshirley  staff   310359 21 Sep 17:00 ../dmu4_VHS/slurm/full_patch_job_dict_15308.json\n"
     ]
    }
   ],
   "source": [
    "!ls -al ../dmu4_VHS/slurm/full*"
   ]
  },
  {
   "cell_type": "code",
   "execution_count": 11,
   "id": "e221c394-c809-4283-9740-23fa7a8ae7bf",
   "metadata": {},
   "outputs": [],
   "source": [
    "n_vhs_hsc3,n_vhs_hsc3_patches=8157,15308"
   ]
  },
  {
   "cell_type": "code",
   "execution_count": 12,
   "id": "4455f2a8-a1d2-48be-bb93-93a4f32fde9e",
   "metadata": {},
   "outputs": [
    {
     "data": {
      "text/plain": [
       "'VIDEO: images: 13476, tracts: 18'"
      ]
     },
     "execution_count": 12,
     "metadata": {},
     "output_type": "execute_result"
    }
   ],
   "source": [
    "vid=Table.read('../../dmu1/data/video_images_overview_20210331.csv')\n",
    "n_vid=np.sum([s['file'].endswith('st.fit') for s in vid])\n",
    "vid_tiles=Table.read('../../dmu1/data/video_tiles_tracts_patches_overview_20200820.csv')\n",
    "vid_tracts=set()\n",
    "for i in vid_tiles['tract_patch_json']:\n",
    "    vid_tracts=vid_tracts.union(set(json.loads(i).keys()))\n",
    "n_vid_tracts=len(vid_tracts)\n",
    "\"VIDEO: images: {}, tracts: {}\".format(n_vid,n_vid_tracts)"
   ]
  },
  {
   "cell_type": "code",
   "execution_count": 13,
   "id": "42e8aae8-4cde-483f-81b4-c6c7aaacc26c",
   "metadata": {},
   "outputs": [
    {
     "data": {
      "text/plain": [
       "'VIKING: images: 41615, tracts: 720'"
      ]
     },
     "execution_count": 13,
     "metadata": {},
     "output_type": "execute_result"
    }
   ],
   "source": [
    "vik=Table.read('../../dmu1/data/viking_images_overview_20210406.csv')\n",
    "n_vik=np.sum([s['file'].endswith('st.fit') for s in vik])\n",
    "vik_tiles=Table.read('../../dmu1/data/viking_tiles_tracts_patches_overview_20201218.csv')\n",
    "vik_tracts=set()\n",
    "for i in vik_tiles['tract_patch_json']:\n",
    "    vik_tracts=vik_tracts.union(set(json.loads(i).keys()))\n",
    "n_vik_tracts=len(vik_tracts)\n",
    "\"VIKING: images: {}, tracts: {}\".format(n_vik,n_vik_tracts)"
   ]
  },
  {
   "cell_type": "code",
   "execution_count": 14,
   "id": "f0d740a0-32a1-4f3e-8729-a584f34b2211",
   "metadata": {},
   "outputs": [
    {
     "name": "stdout",
     "output_type": "stream",
     "text": [
      "-rw-r--r--  1 raphaelshirley  staff  3801991 22 Apr  2021 ../dmu4_VIKING/slurm/full_images_job_dict_17800.json\n",
      "-rw-r--r--  1 raphaelshirley  staff  3948706 21 Sep 14:50 ../dmu4_VIKING/slurm/full_images_job_dict_18490.json\n",
      "-rw-r--r--  1 raphaelshirley  staff   316245 22 Apr  2021 ../dmu4_VIKING/slurm/full_patch_job_dict_15557.json\n",
      "-rw-r--r--  1 raphaelshirley  staff   415877 21 Sep 14:51 ../dmu4_VIKING/slurm/full_patch_job_dict_20205.json\n"
     ]
    }
   ],
   "source": [
    "!ls -al ../dmu4_VIKING/slurm/full*"
   ]
  },
  {
   "cell_type": "code",
   "execution_count": 15,
   "id": "48d23e27-fa76-4586-9b24-aa2266a56534",
   "metadata": {},
   "outputs": [],
   "source": [
    "n_vik_hsc3,n_vik_hsc3_patches=18490,20205"
   ]
  },
  {
   "cell_type": "code",
   "execution_count": 16,
   "id": "ba13d11f-545d-41a5-ab79-1465e0d8146d",
   "metadata": {},
   "outputs": [],
   "source": [
    "def summary(n_images,n_patches,name,vista_bands,final_bands):\n",
    "    print(\"\"\"\n",
    "Full area {} processing\n",
    "Full processing of input images: {} \n",
    "Full coadd of all patches: {} \n",
    "Full photometry pipeline on all patches: {} \n",
    "Total memory for {} * 16 CCD images and {} patches: {} \n",
    "\"\"\".format(\n",
    "    name,\n",
    "    format_size(n_images * (raw+proc),binary=True),\n",
    "    format_size(n_patches*coadd*vista_bands,binary=True), #assume 6 times fewer images to coadd\n",
    "    format_size(n_patches*meas*final_bands,binary=True),  #assume JHK and LSST UGRIZY\n",
    "    n_images, n_patches,\n",
    "    format_size(\n",
    "        (n_images * (raw+proc))\n",
    "        + (n_patches*coadd*vista_bands)\n",
    "        + (n_patches*meas*final_bands)\n",
    "        ,binary=True\n",
    "    )\n",
    "))"
   ]
  },
  {
   "cell_type": "code",
   "execution_count": 17,
   "id": "b6f2da1e-aafd-42be-9638-f4716d58678e",
   "metadata": {},
   "outputs": [
    {
     "name": "stdout",
     "output_type": "stream",
     "text": [
      "\n",
      "Full area VHS processing\n",
      "Full processing of input images: 289.83 TiB \n",
      "Full coadd of all patches: 447.8 TiB \n",
      "Full photometry pipeline on all patches: 2.92 PiB \n",
      "Total memory for 204996 * 16 CCD images and 708183 patches: 3.65 PiB \n",
      "\n"
     ]
    }
   ],
   "source": [
    "summary(n_vhs,n_vhs_tracts*81,'VHS',3,3+6)"
   ]
  },
  {
   "cell_type": "code",
   "execution_count": 19,
   "id": "1f216461-987f-4fae-87cc-7aea8cf6f77b",
   "metadata": {},
   "outputs": [
    {
     "name": "stdout",
     "output_type": "stream",
     "text": [
      "\n",
      "Full area VHS + HSC PDR3 processing\n",
      "Full processing of input images: 11.53 TiB \n",
      "Full coadd of all patches: 9.68 TiB \n",
      "Full photometry pipeline on all patches: 64.74 TiB \n",
      "Total memory for 8157 * 16 CCD images and 15308 patches: 85.95 TiB \n",
      "\n"
     ]
    }
   ],
   "source": [
    "summary(n_vhs_hsc3,n_vhs_hsc3_patches,'VHS + HSC PDR3',3,3+6)"
   ]
  },
  {
   "cell_type": "code",
   "execution_count": 20,
   "id": "d67abf59-5d4c-4122-8fe3-115e768fbafe",
   "metadata": {},
   "outputs": [
    {
     "name": "stdout",
     "output_type": "stream",
     "text": [
      "\n",
      "Full area VIDEO processing\n",
      "Full processing of input images: 19.05 TiB \n",
      "Full coadd of all patches: 1.54 TiB \n",
      "Full photometry pipeline on all patches: 7.54 TiB \n",
      "Total memory for 13476 * 16 CCD images and 1458 patches: 28.13 TiB \n",
      "\n"
     ]
    }
   ],
   "source": [
    "summary(n_vid,n_vid_tracts*81,'VIDEO',5,5+6)"
   ]
  },
  {
   "cell_type": "code",
   "execution_count": 21,
   "id": "165f304f-0510-427f-9380-a6331c1475fc",
   "metadata": {},
   "outputs": [
    {
     "name": "stdout",
     "output_type": "stream",
     "text": [
      "\n",
      "Full area VIKING processing\n",
      "Full processing of input images: 58.84 TiB \n",
      "Full coadd of all patches: 61.46 TiB \n",
      "Full photometry pipeline on all patches: 301.45 TiB \n",
      "Total memory for 41615 * 16 CCD images and 58320 patches: 421.75 TiB \n",
      "\n"
     ]
    }
   ],
   "source": [
    "summary(n_vik,n_vik_tracts*81,'VIKING',5,5+6)"
   ]
  },
  {
   "cell_type": "code",
   "execution_count": 22,
   "id": "ec7c40f8-f5b7-45e5-8043-7325af5e1763",
   "metadata": {},
   "outputs": [
    {
     "name": "stdout",
     "output_type": "stream",
     "text": [
      "\n",
      "Full area VIKING + HSC PDR3 processing\n",
      "Full processing of input images: 26.14 TiB \n",
      "Full coadd of all patches: 21.29 TiB \n",
      "Full photometry pipeline on all patches: 104.44 TiB \n",
      "Total memory for 18490 * 16 CCD images and 20205 patches: 151.87 TiB \n",
      "\n"
     ]
    }
   ],
   "source": [
    "summary(n_vik_hsc3,n_vik_hsc3_patches,'VIKING + HSC PDR3',5,5+6)"
   ]
  },
  {
   "cell_type": "code",
   "execution_count": 23,
   "id": "bcf78345-bfd5-4eb9-b8f5-9e1ae8c3d950",
   "metadata": {},
   "outputs": [
    {
     "data": {
      "text/plain": [
       "265.95"
      ]
     },
     "execution_count": 23,
     "metadata": {},
     "output_type": "execute_result"
    }
   ],
   "source": [
    "85.95+28.13+151.87"
   ]
  },
  {
   "cell_type": "code",
   "execution_count": null,
   "id": "a5cd1ad3-263c-4532-bbfc-ecc550d3086d",
   "metadata": {},
   "outputs": [],
   "source": []
  }
 ],
 "metadata": {
  "kernelspec": {
   "display_name": "Python 3 (ipykernel)",
   "language": "python",
   "name": "python3"
  },
  "language_info": {
   "codemirror_mode": {
    "name": "ipython",
    "version": 3
   },
   "file_extension": ".py",
   "mimetype": "text/x-python",
   "name": "python",
   "nbconvert_exporter": "python",
   "pygments_lexer": "ipython3",
   "version": "3.10.9"
  }
 },
 "nbformat": 4,
 "nbformat_minor": 5
}
