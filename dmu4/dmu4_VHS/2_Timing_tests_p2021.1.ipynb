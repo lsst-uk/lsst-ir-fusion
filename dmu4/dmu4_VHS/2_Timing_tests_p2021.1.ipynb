{
 "cells": [
  {
   "cell_type": "markdown",
   "metadata": {},
   "source": [
    "# Timing tests from VHS run p2021.1\n",
    "\n",
    "Some times were estimated from the SXDS field which hass many more exposures so will not be representative of the VHS all SKy data. Here we will reestimate full sky timing estimates from the XMM run to see how processes such as coaddition scale with exposure number."
   ]
  },
  {
   "cell_type": "code",
   "execution_count": 1,
   "metadata": {},
   "outputs": [
    {
     "name": "stdout",
     "output_type": "stream",
     "text": [
      "lsst_distrib          g2d4714e03a+6e1aa0b536 \tcurrent w_2022_07 w_latest setup\n",
      "obs_vista             23.0.0-1   \tcurrent setup\n"
     ]
    }
   ],
   "source": [
    "# What version of the Stack are we using?\n",
    "! eups list -s | grep lsst_distrib\n",
    "! eups list -s | grep obs_vista"
   ]
  },
  {
   "cell_type": "code",
   "execution_count": 2,
   "metadata": {},
   "outputs": [],
   "source": [
    "import astropy.units as u\n",
    "from astropy.table import Table\n",
    "from astropy.time import Time\n",
    "import numpy as np\n",
    "import glob\n",
    "import json\n",
    "\n",
    "import matplotlib.pyplot as plt\n",
    "%matplotlib inline\n",
    "import time\n",
    "import os\n",
    "#We are using a rings skymap\n",
    "from lsst.geom import SpherePoint \n",
    "from lsst.geom import degrees\n",
    "from lsst.skymap.ringsSkyMap import RingsSkyMap, RingsSkyMapConfig\n",
    "\n",
    "config = RingsSkyMapConfig()\n",
    "#These config options are chose to be the same as HSC:\n",
    "#https://github.com/lsst/obs_subaru/blob/master/config/hsc/makeSkyMap.py\n",
    "#and copied for obs_vista\n",
    "#https://github.com/lsst-uk/obs_vista/blob/master/config/makeSkyMap.py\n",
    "config.numRings = 120\n",
    "config.projection = \"TAN\"\n",
    "config.tractOverlap = 1.0/60 # Overlap between tracts (degrees)\n",
    "config.pixelScale = 0.168\n",
    "sm = RingsSkyMap(config)\n",
    "sxds_tracts = [8282,8283,8284,8523,8524,8525,8765,8766,8767] #manually got these from HSC DR2 pages"
   ]
  },
  {
   "cell_type": "code",
   "execution_count": 3,
   "metadata": {},
   "outputs": [
    {
     "name": "stdout",
     "output_type": "stream",
     "text": [
      "20220316\n"
     ]
    }
   ],
   "source": [
    "SUFFIX=time.strftime(\"%Y%m%d\")\n",
    "WORK_DIR = '/home/ir-shir1/rds/rds-iris-ip005/ras81/lsst-ir-fusion/dmu4/dmu4_SXDS'\n",
    "MAKE_INDIVIDUAL_SLURM=True\n",
    "SLURM_DIR = 'slurm_failed_tiles_rerun_{}'.format(SUFFIX)\n",
    "print(SUFFIX)"
   ]
  },
  {
   "cell_type": "code",
   "execution_count": 5,
   "metadata": {},
   "outputs": [],
   "source": [
    "#USE HSC-Y which is the last task run in the pipeline\n",
    "#forced = glob.glob('./data/rerun/coaddForcedPhot/deepCoadd-results/HSC-Y/*/*/*.fits)\n",
    "t = Table.read('../dmu4_VIDEO/slurm/jobs_20220217.lis', format='ascii')"
   ]
  },
  {
   "cell_type": "markdown",
   "metadata": {},
   "source": [
    "## Times"
   ]
  },
  {
   "cell_type": "code",
   "execution_count": 6,
   "metadata": {},
   "outputs": [
    {
     "data": {
      "text/plain": [
       "'I have submitted a total of 701480 jobs consuming a total of 1225031.9 cpuhours'"
      ]
     },
     "execution_count": 6,
     "metadata": {},
     "output_type": "execute_result"
    }
   ],
   "source": [
    "\"I have submitted a total of {} jobs consuming a total of {} cpuhours\".format(len(t), np.sum(t['CompHrs']))"
   ]
  },
  {
   "cell_type": "code",
   "execution_count": 7,
   "metadata": {},
   "outputs": [
    {
     "data": {
      "text/html": [
       "<div><i>Table length=5</i>\n",
       "<table id=\"table140354035872432\" class=\"table-striped table-bordered table-condensed\">\n",
       "<thead><tr><th>JobID</th><th>User</th><th>Account</th><th>JobName</th><th>Partition</th><th>End</th><th>ExitCode</th><th>State</th><th>CompHrs</th></tr></thead>\n",
       "<thead><tr><th>str12</th><th>str8</th><th>str10</th><th>str10</th><th>str10</th><th>str19</th><th>str5</th><th>str10</th><th>float64</th></tr></thead>\n",
       "<tr><td>25933230</td><td>ir-shir1</td><td>iris-ip00+</td><td>cpujob</td><td>skylake</td><td>2020-07-13T16:18:36</td><td>127:0</td><td>FAILED</td><td>0.1</td></tr>\n",
       "<tr><td>25940256</td><td>ir-shir1</td><td>iris-ip00+</td><td>cpujob</td><td>skylake</td><td>2020-07-14T00:08:41</td><td>1:0</td><td>FAILED</td><td>74.2</td></tr>\n",
       "<tr><td>25948528</td><td>ir-shir1</td><td>iris-ip00+</td><td>cpujob</td><td>skylake</td><td>2020-07-14T14:34:59</td><td>0:0</td><td>COMPLETED</td><td>254.3</td></tr>\n",
       "<tr><td>26005193</td><td>ir-shir1</td><td>iris-ip00+</td><td>cpujob</td><td>skylake</td><td>2020-07-16T03:59:49</td><td>0:0</td><td>TIMEOUT</td><td>640.0</td></tr>\n",
       "<tr><td>26027949</td><td>ir-shir1</td><td>iris-ip00+</td><td>cpujob</td><td>skylake</td><td>2020-07-17T10:46:53</td><td>0:0</td><td>TIMEOUT</td><td>1536.4</td></tr>\n",
       "</table></div>"
      ],
      "text/plain": [
       "<Table length=5>\n",
       " JobID     User    Account   JobName Partition         End         ExitCode   State   CompHrs\n",
       " str12     str8     str10     str10    str10          str19          str5     str10   float64\n",
       "-------- -------- ---------- ------- --------- ------------------- -------- --------- -------\n",
       "25933230 ir-shir1 iris-ip00+  cpujob   skylake 2020-07-13T16:18:36    127:0    FAILED     0.1\n",
       "25940256 ir-shir1 iris-ip00+  cpujob   skylake 2020-07-14T00:08:41      1:0    FAILED    74.2\n",
       "25948528 ir-shir1 iris-ip00+  cpujob   skylake 2020-07-14T14:34:59      0:0 COMPLETED   254.3\n",
       "26005193 ir-shir1 iris-ip00+  cpujob   skylake 2020-07-16T03:59:49      0:0   TIMEOUT   640.0\n",
       "26027949 ir-shir1 iris-ip00+  cpujob   skylake 2020-07-17T10:46:53      0:0   TIMEOUT  1536.4"
      ]
     },
     "execution_count": 7,
     "metadata": {},
     "output_type": "execute_result"
    }
   ],
   "source": [
    "t[:5]\n"
   ]
  },
  {
   "cell_type": "code",
   "execution_count": 9,
   "metadata": {},
   "outputs": [
    {
     "data": {
      "text/plain": [
       "'Ex_photop+ Ex_proces+ Example_I+ Mod_photo+ Mod_proce+ SXDS_INGE+ SXDS_Make+ Std_photo+ Std_proce+ VHSMake_c+ VHSTest VHS_INGEST VHS_proce+ VHScoadd VHSmergeT+ VHSphotop+ VHStest VIDEOTest VID_INGEST VIDcoadd VIDphotop+ VIDproces+ VIKINGMak+ VIK_INGEST VIK_SXDS_+ VIK_cut_M+ VIK_test VIKcoadd VIKphotop+ VIKproces+ VIKtestPh+ XMM_INGEST XMM_Make_+ coadd coadd_852+ coadd_arr+ copyHSC cpstack cpujob downHSCDU+ download_+ file_trawl forced_ph+ ingest ingestVHS ingest_al+ phot_8524+ phot_arra+ photopipe photopipe+ processCc+ processCcd rsync_HSC+ runPhotoP+ setup_but+ singlePat+ stackInst+ vidSingFr+ wget_hsc_+ y_test'"
      ]
     },
     "execution_count": 9,
     "metadata": {},
     "output_type": "execute_result"
    }
   ],
   "source": [
    "\" \".join(np.unique(t['JobName']))"
   ]
  },
  {
   "cell_type": "code",
   "execution_count": 19,
   "metadata": {},
   "outputs": [
    {
     "data": {
      "text/html": [
       "<i>Table length=5</i>\n",
       "<table id=\"table4790855824\" class=\"table-striped table-bordered table-condensed\">\n",
       "<thead><tr><th>JobID</th><th>User</th><th>Account</th><th>JobName</th><th>Partition</th><th>End</th><th>ExitCode</th><th>State</th><th>CompHrs</th></tr></thead>\n",
       "<thead><tr><th>str12</th><th>str8</th><th>str10</th><th>str10</th><th>str10</th><th>str19</th><th>str5</th><th>str10</th><th>float64</th></tr></thead>\n",
       "<tr><td>32018844_43+</td><td>ir-shir1</td><td>iris-ip00+</td><td>photopipe</td><td>skylake</td><td>2020-12-03T19:30:41</td><td>1:0</td><td>FAILED</td><td>0.5</td></tr>\n",
       "<tr><td>32018844_43+</td><td>ir-shir1</td><td>iris-ip00+</td><td>photopipe</td><td>skylake</td><td>2020-12-03T19:29:01</td><td>1:0</td><td>FAILED</td><td>0.5</td></tr>\n",
       "<tr><td>32018844_43+</td><td>ir-shir1</td><td>iris-ip00+</td><td>photopipe</td><td>skylake</td><td>2020-12-03T19:39:24</td><td>1:0</td><td>FAILED</td><td>0.7</td></tr>\n",
       "<tr><td>32018844_43+</td><td>ir-shir1</td><td>iris-ip00+</td><td>photopipe</td><td>skylake</td><td>2020-12-03T20:15:16</td><td>1:0</td><td>FAILED</td><td>1.3</td></tr>\n",
       "<tr><td>32018844_43+</td><td>ir-shir1</td><td>iris-ip00+</td><td>photopipe</td><td>skylake</td><td>2020-12-03T19:25:15</td><td>2:0</td><td>FAILED</td><td>0.5</td></tr>\n",
       "</table>"
      ],
      "text/plain": [
       "<Table length=5>\n",
       "   JobID       User    Account    JobName  ... ExitCode State  CompHrs\n",
       "   str12       str8     str10      str10   ...   str5   str10  float64\n",
       "------------ -------- ---------- --------- ... -------- ------ -------\n",
       "32018844_43+ ir-shir1 iris-ip00+ photopipe ...      1:0 FAILED     0.5\n",
       "32018844_43+ ir-shir1 iris-ip00+ photopipe ...      1:0 FAILED     0.5\n",
       "32018844_43+ ir-shir1 iris-ip00+ photopipe ...      1:0 FAILED     0.7\n",
       "32018844_43+ ir-shir1 iris-ip00+ photopipe ...      1:0 FAILED     1.3\n",
       "32018844_43+ ir-shir1 iris-ip00+ photopipe ...      2:0 FAILED     0.5"
      ]
     },
     "execution_count": 19,
     "metadata": {},
     "output_type": "execute_result"
    }
   ],
   "source": [
    "t[-5:]\n"
   ]
  },
  {
   "cell_type": "code",
   "execution_count": 22,
   "metadata": {},
   "outputs": [],
   "source": [
    "times = Time(t['End'], format='isot', scale='utc')"
   ]
  },
  {
   "cell_type": "code",
   "execution_count": 24,
   "metadata": {},
   "outputs": [],
   "source": [
    "t['mjd_end'] = times.mjd"
   ]
  },
  {
   "cell_type": "code",
   "execution_count": 26,
   "metadata": {},
   "outputs": [],
   "source": [
    "t = t[t['mjd_end'] > 59176]"
   ]
  },
  {
   "cell_type": "code",
   "execution_count": 14,
   "metadata": {},
   "outputs": [],
   "source": [
    "\n",
    "def nameToJobType(name):\n",
    "    \"\"\"Take the name and return the tipe of pipetask\"\"\"\n",
    "    job_type = 'UNKNOWN'\n",
    "    if name.startswith('VHS_proc'):\n",
    "        job_type = 'processCcd'\n",
    "    if name.startswith('VHScoadd'):\n",
    "        job_type = 'coadd'\n",
    "    if name.startswith('VHSphot'):\n",
    "        job_type = 'photoPipe'\n",
    "    return job_type\n",
    "t['job_type']  = [nameToJobType(n) for n in t['JobName']]"
   ]
  },
  {
   "cell_type": "code",
   "execution_count": 16,
   "metadata": {},
   "outputs": [
    {
     "name": "stdout",
     "output_type": "stream",
     "text": [
      "\n",
      "Full processing of input images: 1.86 cpu hours\n",
      "Full coadd of all patches: 0.89 cpu hours\n",
      "Full photometry pipeline on all patches: 2.62 cpu hours\n",
      "Total time for 12538 images and 35357 patch coadss and 80326 patch photometry pipelines: 265441.7 cpu hours\n",
      "\n"
     ]
    }
   ],
   "source": [
    "num_processCcd = len(t['CompHrs'][(t['job_type'] == 'processCcd') &(t['State'] == 'COMPLETED') ])\n",
    "num_coadd= len(t['CompHrs'][(t['job_type'] == 'coadd') &(t['State'] == 'COMPLETED') ])\n",
    "num_photo = len(t['CompHrs'][(t['job_type'] == 'photoPipe') &(t['State'] == 'COMPLETED') ])\n",
    "\n",
    "mean_processCcd = np.mean(t['CompHrs'][(t['job_type'] == 'processCcd') &(t['State'] == 'COMPLETED') ])\n",
    "mean_coadd= np.mean(t['CompHrs'][(t['job_type'] == 'coadd') &(t['State'] == 'COMPLETED') ])\n",
    "mean_photo = np.mean(t['CompHrs'][(t['job_type'] == 'photoPipe') &(t['State'] == 'COMPLETED') ])\n",
    "\n",
    "tot_processCcd = np.sum(t['CompHrs'][(t['job_type'] == 'processCcd') &(t['State'] == 'COMPLETED') ])\n",
    "tot_coadd= np.sum(t['CompHrs'][(t['job_type'] == 'coadd') &(t['State'] == 'COMPLETED') ])\n",
    "tot_photo = np.sum(t['CompHrs'][(t['job_type'] == 'photoPipe') &(t['State'] == 'COMPLETED') ])\n",
    "\n",
    "print(\"\"\"\n",
    "Full processing of input images: {} cpu hours\n",
    "Full coadd of all patches: {} cpu hours\n",
    "Full photometry pipeline on all patches: {} cpu hours\n",
    "Total time for {} images and {} patch coadss and {} patch photometry pipelines: {} cpu hours\n",
    "\"\"\".format(\n",
    "    round(mean_processCcd,2),\n",
    "    round(mean_coadd,2),\n",
    "    round(mean_photo,2),\n",
    "    num_processCcd,\n",
    "    num_coadd,\n",
    "    num_photo,\n",
    "    round(\n",
    "        tot_processCcd \n",
    "        + tot_coadd\n",
    "        + tot_photo,2\n",
    "    )\n",
    "))"
   ]
  },
  {
   "cell_type": "code",
   "execution_count": 24,
   "metadata": {},
   "outputs": [
    {
     "name": "stdout",
     "output_type": "stream",
     "text": [
      "\n",
      "Full processing of XMM field input images: 3911 cpu hours\n",
      "Full coadd of all patches: 3570 cpu hours\n",
      "Full photometry pipeline on all patches: 10472 cpu hours\n",
      "Total time for 2100 images and 3996 patches: 17953 cpu hours\n",
      "\n"
     ]
    }
   ],
   "source": [
    "n_vhs_xmm_images = 2100 # From ../dmu4_XMM/1_Slurm_factory.ipynb - w02_images_job_dict_2100.json\n",
    "n_vhs_xmm_patches = 3996 #../dmu4_VHS/slurm/w02_patch_job_dict_3996.json\n",
    "\n",
    "mean_processCcd = np.mean(t['CompHrs'][(t['job_type'] == 'processCcd') &(t['State'] == 'COMPLETED') ])\n",
    "mean_coadd= np.mean(t['CompHrs'][(t['job_type'] == 'coadd') &(t['State'] == 'COMPLETED') ])\n",
    "mean_photo = np.mean(t['CompHrs'][(t['job_type'] == 'photoPipe') &(t['State'] == 'COMPLETED') ])\n",
    "\n",
    "print(\"\"\"\n",
    "Full processing of XMM field input images: {} cpu hours\n",
    "Full coadd of all patches: {} cpu hours\n",
    "Full photometry pipeline on all patches: {} cpu hours\n",
    "Total time for {} images and {} patches: {} cpu hours\n",
    "\"\"\".format(\n",
    "    round(n_vhs_xmm_images * mean_processCcd),\n",
    "    round(n_vhs_xmm_patches* mean_coadd),\n",
    "    round(n_vhs_xmm_patches* mean_photo),\n",
    "    n_vhs_xmm_images, n_vhs_xmm_patches,\n",
    "    round(\n",
    "        n_vhs_xmm_images * mean_processCcd \n",
    "        + n_vhs_xmm_patches* mean_coadd\n",
    "        + n_vhs_xmm_patches* mean_photo\n",
    "    )\n",
    "))"
   ]
  },
  {
   "cell_type": "code",
   "execution_count": 28,
   "metadata": {},
   "outputs": [
    {
     "name": "stdout",
     "output_type": "stream",
     "text": [
      "\n",
      "Full processing of all HSC PDR2/VHS overlap input images: 13361 cpu hours\n",
      "Full coadd of all patches: 11760 cpu hours\n",
      "Full photometry pipeline on all patches: 34498 cpu hours\n",
      "Total time for 7174 images and 13164 patches: 59619 cpu hours\n",
      "\n"
     ]
    }
   ],
   "source": [
    "n_vhs_pdr2_images=7174 #../dmu4_VHS/slurm/full_images_job_dict_7174.json\n",
    "n_vhs_pdr2_patches=13164 #../dmu4_VHS/slurm/full_patch_job_dict_13164.json\n",
    "\n",
    "mean_processCcd = np.mean(t['CompHrs'][(t['job_type'] == 'processCcd') &(t['State'] == 'COMPLETED') ])\n",
    "mean_coadd= np.mean(t['CompHrs'][(t['job_type'] == 'coadd') &(t['State'] == 'COMPLETED') ])\n",
    "mean_photo = np.mean(t['CompHrs'][(t['job_type'] == 'photoPipe') &(t['State'] == 'COMPLETED') ])\n",
    "\n",
    "print(\"\"\"\n",
    "Full processing of all HSC PDR2/VHS overlap input images: {} cpu hours\n",
    "Full coadd of all patches: {} cpu hours\n",
    "Full photometry pipeline on all patches: {} cpu hours\n",
    "Total time for {} images and {} patches: {} cpu hours\n",
    "\"\"\".format(\n",
    "    round(n_vhs_pdr2_images * mean_processCcd),\n",
    "    round(n_vhs_pdr2_patches* mean_coadd),\n",
    "    round(n_vhs_pdr2_patches* mean_photo),\n",
    "    n_vhs_pdr2_images, n_vhs_pdr2_patches,\n",
    "    round(\n",
    "        n_vhs_pdr2_images * mean_processCcd \n",
    "        + n_vhs_pdr2_patches* mean_coadd\n",
    "        + n_vhs_pdr2_patches* mean_photo\n",
    "    )\n",
    "))"
   ]
  },
  {
   "cell_type": "code",
   "execution_count": 22,
   "metadata": {},
   "outputs": [
    {
     "name": "stdout",
     "output_type": "stream",
     "text": [
      "\n",
      "Full processing of input images: 381801 cpu hours\n",
      "Full coadd of all patches: 598648 cpu hours\n",
      "Full photometry pipeline on all patches: 1756181 cpu hours\n",
      "Total time for 204996 images and 670137 patches: 2736631 cpu hours\n",
      "\n"
     ]
    }
   ],
   "source": [
    "n_vhs_all_images = 204996 # From ../dmu1/data/vhs_images_overview_$DATE.fits\n",
    "n_vhs_all_patches =  670137# From ../dmu1/data/vhs_tiles_tracts_patches.fits\n",
    "\n",
    "mean_processCcd = np.mean(t['CompHrs'][(t['job_type'] == 'processCcd') &(t['State'] == 'COMPLETED') ])\n",
    "mean_coadd= np.mean(t['CompHrs'][(t['job_type'] == 'coadd') &(t['State'] == 'COMPLETED') ])\n",
    "mean_photo = np.mean(t['CompHrs'][(t['job_type'] == 'photoPipe') &(t['State'] == 'COMPLETED') ])\n",
    "\n",
    "print(\"\"\"\n",
    "Full processing of input images: {} cpu hours\n",
    "Full coadd of all patches: {} cpu hours\n",
    "Full photometry pipeline on all patches: {} cpu hours\n",
    "Total time for {} images and {} patches: {} cpu hours\n",
    "\"\"\".format(\n",
    "    round(n_vhs_all_images * mean_processCcd),\n",
    "    round(n_vhs_all_patches* mean_coadd ), #assume 6 times fewer images to coadd\n",
    "    round(n_vhs_all_patches* mean_photo ),  #assume JHK and LSST UGRIZY\n",
    "    n_vhs_all_images, n_vhs_all_patches,\n",
    "    round(\n",
    "        n_vhs_all_images * mean_processCcd \n",
    "        + n_vhs_all_patches* mean_coadd\n",
    "        + n_vhs_all_patches* mean_photo\n",
    "    )\n",
    "))"
   ]
  },
  {
   "cell_type": "code",
   "execution_count": 29,
   "metadata": {},
   "outputs": [
    {
     "data": {
      "image/png": "[encoded data removed]",
      "text/plain": [
       "<Figure size 432x288 with 1 Axes>"
      ]
     },
     "metadata": {
      "needs_background": "light"
     },
     "output_type": "display_data"
    }
   ],
   "source": [
    "plt.hist(t['CompHrs'][(t['job_type'] == 'processCcd') &(t['State'] == 'COMPLETED')],\n",
    "         range=[0,100],bins=30,density=True,label='processCcd',histtype='step')\n",
    "plt.hist(t['CompHrs'][(t['job_type'] == 'coadd') &(t['State'] == 'COMPLETED')],\n",
    "         range=[0,100],bins=30,density=True,label='coadd',histtype='step')\n",
    "plt.hist(t['CompHrs'][(t['job_type'] == 'photoPipe') &(t['State'] == 'COMPLETED')],\n",
    "         range=[0,100],bins=30,density=True,label='photoPipe',histtype='step')\n",
    "plt.xlabel('time [cpu hours]')\n",
    "plt.legend()\n",
    "plt.ylabel('fraction of jobs')\n",
    "plt.yscale('log')\n",
    "#plt.ylim((25,250))\n",
    "plt.savefig('./figs/job_times_hist.pdf', bbox_inches='tight')\n",
    "plt.savefig('./figs/job_times_hist.png', bbox_inches='tight')"
   ]
  },
  {
   "cell_type": "code",
   "execution_count": null,
   "metadata": {},
   "outputs": [],
   "source": []
  }
 ],
 "metadata": {
  "kernelspec": {
   "display_name": "Python 3 (ipykernel)",
   "language": "python",
   "name": "python3"
  },
  "language_info": {
   "codemirror_mode": {
    "name": "ipython",
    "version": 3
   },
   "file_extension": ".py",
   "mimetype": "text/x-python",
   "name": "python",
   "nbconvert_exporter": "python",
   "pygments_lexer": "ipython3",
   "version": "3.8.12"
  }
 },
 "nbformat": 4,
 "nbformat_minor": 4
}
