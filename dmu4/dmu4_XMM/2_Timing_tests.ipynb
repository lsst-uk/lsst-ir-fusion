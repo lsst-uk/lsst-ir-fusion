{
 "cells": [
  {
   "cell_type": "markdown",
   "metadata": {},
   "source": [
    "# Timing tests from XMM run\n",
    "\n",
    "Some times were estimated from the SXDS field which hass many more exposures so will not be representative of the VHS all SKy data. Here we will reestimate full sky timing estimates from the XMM run to see how processes such as coaddition scale with exposure number."
   ]
  },
  {
   "cell_type": "code",
   "execution_count": 21,
   "metadata": {},
   "outputs": [],
   "source": [
    "import astropy.units as u\n",
    "from astropy.table import Table\n",
    "from astropy.time import Time\n",
    "import numpy as np\n",
    "import glob\n",
    "import json\n",
    "\n",
    "import matplotlib.pyplot as plt\n",
    "%matplotlib inline\n",
    "import time\n",
    "import os\n",
    "#We are using a rings skymap\n",
    "from lsst.geom import SpherePoint \n",
    "from lsst.geom import degrees\n",
    "from lsst.skymap.ringsSkyMap import RingsSkyMap, RingsSkyMapConfig\n",
    "\n",
    "config = RingsSkyMapConfig()\n",
    "#These config options are chose to be the same as HSC:\n",
    "#https://github.com/lsst/obs_subaru/blob/master/config/hsc/makeSkyMap.py\n",
    "#and copied for obs_vista\n",
    "#https://github.com/lsst-uk/obs_vista/blob/master/config/makeSkyMap.py\n",
    "config.numRings = 120\n",
    "config.projection = \"TAN\"\n",
    "config.tractOverlap = 1.0/60 # Overlap between tracts (degrees)\n",
    "config.pixelScale = 0.168\n",
    "sm = RingsSkyMap(config)\n",
    "sxds_tracts = [8282,8283,8284,8523,8524,8525,8765,8766,8767] #manually got these from HSC DR2 pages"
   ]
  },
  {
   "cell_type": "code",
   "execution_count": 7,
   "metadata": {},
   "outputs": [
    {
     "name": "stdout",
     "output_type": "stream",
     "text": [
      "20201204\n"
     ]
    }
   ],
   "source": [
    "SUFFIX=time.strftime(\"%Y%m%d\")\n",
    "WORK_DIR = '/home/ir-shir1/rds/rds-iris-ip005/ras81/lsst-ir-fusion/dmu4/dmu4_SXDS'\n",
    "MAKE_INDIVIDUAL_SLURM=True\n",
    "SLURM_DIR = 'slurm_failed_tiles_rerun_{}'.format(SUFFIX)\n",
    "print(SUFFIX)"
   ]
  },
  {
   "cell_type": "code",
   "execution_count": 9,
   "metadata": {},
   "outputs": [
    {
     "name": "stdout",
     "output_type": "stream",
     "text": [
      "\u001b[31m0_setup_butler.sh\u001b[m\u001b[m                    completeForced_VISTA-Ks_20201204.lis\r\n",
      "\u001b[31m1_Ingest.slurm\u001b[m\u001b[m                       credentials.py.template\r\n",
      "2_processCcd.slurm                   jobDict.py\r\n",
      "3_coadd.slurm                        patch_job_dict.json\r\n",
      "4_photopipe.slurm                    \u001b[31mphotopipe.sh\u001b[m\u001b[m\r\n",
      "all_jobs_20201204.lis                \u001b[31mprocessCcd.sh\u001b[m\u001b[m\r\n",
      "\u001b[31mcoadd.sh\u001b[m\u001b[m                             processCcd_job_dict.json\r\n"
     ]
    }
   ],
   "source": [
    "!ls ./slurm"
   ]
  },
  {
   "cell_type": "code",
   "execution_count": 11,
   "metadata": {},
   "outputs": [],
   "source": [
    "#USE HSC-Y which is the last task run in the pipeline\n",
    "#forced = glob.glob('./data/rerun/coaddForcedPhot/deepCoadd-results/HSC-Y/*/*/*.fits)\n",
    "f = open('./slurm/completeForced_VISTA-Ks_20201204.lis', \"r\")\n",
    "forced = [l for l in f]"
   ]
  },
  {
   "cell_type": "code",
   "execution_count": 12,
   "metadata": {},
   "outputs": [
    {
     "data": {
      "text/plain": [
       "'data/rerun/coaddForcedPhot/deepCoadd-results/VISTA-Ks/9496/8,6/forcedSrc-VISTA-Ks-9496-8,6.fits\\n'"
      ]
     },
     "execution_count": 12,
     "metadata": {},
     "output_type": "execute_result"
    }
   ],
   "source": [
    "forced[-1]"
   ]
  },
  {
   "cell_type": "code",
   "execution_count": 13,
   "metadata": {},
   "outputs": [
    {
     "data": {
      "text/plain": [
       "3440"
      ]
     },
     "execution_count": 13,
     "metadata": {},
     "output_type": "execute_result"
    }
   ],
   "source": [
    "len(forced)"
   ]
  },
  {
   "cell_type": "markdown",
   "metadata": {},
   "source": [
    "## Times"
   ]
  },
  {
   "cell_type": "code",
   "execution_count": 16,
   "metadata": {},
   "outputs": [],
   "source": [
    "\n",
    "t = Table.read('slurm/all_jobs_20201204.lis', format='ascii')"
   ]
  },
  {
   "cell_type": "code",
   "execution_count": 17,
   "metadata": {},
   "outputs": [
    {
     "data": {
      "text/plain": [
       "'I have submitted a total of 49060 jobs consuming a total of 102290.69999999998 cpuhours'"
      ]
     },
     "execution_count": 17,
     "metadata": {},
     "output_type": "execute_result"
    }
   ],
   "source": [
    "\"I have submitted a total of {} jobs consuming a total of {} cpuhours\".format(len(t), np.sum(t['CompHrs']))"
   ]
  },
  {
   "cell_type": "code",
   "execution_count": 18,
   "metadata": {},
   "outputs": [
    {
     "data": {
      "text/html": [
       "<i>Table length=5</i>\n",
       "<table id=\"table4820301328\" class=\"table-striped table-bordered table-condensed\">\n",
       "<thead><tr><th>JobID</th><th>User</th><th>Account</th><th>JobName</th><th>Partition</th><th>End</th><th>ExitCode</th><th>State</th><th>CompHrs</th></tr></thead>\n",
       "<thead><tr><th>str12</th><th>str8</th><th>str10</th><th>str10</th><th>str10</th><th>str19</th><th>str5</th><th>str10</th><th>float64</th></tr></thead>\n",
       "<tr><td>25933230</td><td>ir-shir1</td><td>iris-ip00+</td><td>cpujob</td><td>skylake</td><td>2020-07-13T16:18:36</td><td>127:0</td><td>FAILED</td><td>0.1</td></tr>\n",
       "<tr><td>25940256</td><td>ir-shir1</td><td>iris-ip00+</td><td>cpujob</td><td>skylake</td><td>2020-07-14T00:08:41</td><td>1:0</td><td>FAILED</td><td>74.2</td></tr>\n",
       "<tr><td>25948528</td><td>ir-shir1</td><td>iris-ip00+</td><td>cpujob</td><td>skylake</td><td>2020-07-14T14:34:59</td><td>0:0</td><td>COMPLETED</td><td>254.3</td></tr>\n",
       "<tr><td>26005193</td><td>ir-shir1</td><td>iris-ip00+</td><td>cpujob</td><td>skylake</td><td>2020-07-16T03:59:49</td><td>0:0</td><td>TIMEOUT</td><td>640.0</td></tr>\n",
       "<tr><td>26027949</td><td>ir-shir1</td><td>iris-ip00+</td><td>cpujob</td><td>skylake</td><td>2020-07-17T10:46:53</td><td>0:0</td><td>TIMEOUT</td><td>1536.4</td></tr>\n",
       "</table>"
      ],
      "text/plain": [
       "<Table length=5>\n",
       " JobID     User    Account   JobName ... ExitCode   State   CompHrs\n",
       " str12     str8     str10     str10  ...   str5     str10   float64\n",
       "-------- -------- ---------- ------- ... -------- --------- -------\n",
       "25933230 ir-shir1 iris-ip00+  cpujob ...    127:0    FAILED     0.1\n",
       "25940256 ir-shir1 iris-ip00+  cpujob ...      1:0    FAILED    74.2\n",
       "25948528 ir-shir1 iris-ip00+  cpujob ...      0:0 COMPLETED   254.3\n",
       "26005193 ir-shir1 iris-ip00+  cpujob ...      0:0   TIMEOUT   640.0\n",
       "26027949 ir-shir1 iris-ip00+  cpujob ...      0:0   TIMEOUT  1536.4"
      ]
     },
     "execution_count": 18,
     "metadata": {},
     "output_type": "execute_result"
    }
   ],
   "source": [
    "t[:5]\n"
   ]
  },
  {
   "cell_type": "code",
   "execution_count": null,
   "metadata": {},
   "outputs": [],
   "source": [
    "for n in "
   ]
  },
  {
   "cell_type": "code",
   "execution_count": 19,
   "metadata": {},
   "outputs": [
    {
     "data": {
      "text/html": [
       "<i>Table length=5</i>\n",
       "<table id=\"table4790855824\" class=\"table-striped table-bordered table-condensed\">\n",
       "<thead><tr><th>JobID</th><th>User</th><th>Account</th><th>JobName</th><th>Partition</th><th>End</th><th>ExitCode</th><th>State</th><th>CompHrs</th></tr></thead>\n",
       "<thead><tr><th>str12</th><th>str8</th><th>str10</th><th>str10</th><th>str10</th><th>str19</th><th>str5</th><th>str10</th><th>float64</th></tr></thead>\n",
       "<tr><td>32018844_43+</td><td>ir-shir1</td><td>iris-ip00+</td><td>photopipe</td><td>skylake</td><td>2020-12-03T19:30:41</td><td>1:0</td><td>FAILED</td><td>0.5</td></tr>\n",
       "<tr><td>32018844_43+</td><td>ir-shir1</td><td>iris-ip00+</td><td>photopipe</td><td>skylake</td><td>2020-12-03T19:29:01</td><td>1:0</td><td>FAILED</td><td>0.5</td></tr>\n",
       "<tr><td>32018844_43+</td><td>ir-shir1</td><td>iris-ip00+</td><td>photopipe</td><td>skylake</td><td>2020-12-03T19:39:24</td><td>1:0</td><td>FAILED</td><td>0.7</td></tr>\n",
       "<tr><td>32018844_43+</td><td>ir-shir1</td><td>iris-ip00+</td><td>photopipe</td><td>skylake</td><td>2020-12-03T20:15:16</td><td>1:0</td><td>FAILED</td><td>1.3</td></tr>\n",
       "<tr><td>32018844_43+</td><td>ir-shir1</td><td>iris-ip00+</td><td>photopipe</td><td>skylake</td><td>2020-12-03T19:25:15</td><td>2:0</td><td>FAILED</td><td>0.5</td></tr>\n",
       "</table>"
      ],
      "text/plain": [
       "<Table length=5>\n",
       "   JobID       User    Account    JobName  ... ExitCode State  CompHrs\n",
       "   str12       str8     str10      str10   ...   str5   str10  float64\n",
       "------------ -------- ---------- --------- ... -------- ------ -------\n",
       "32018844_43+ ir-shir1 iris-ip00+ photopipe ...      1:0 FAILED     0.5\n",
       "32018844_43+ ir-shir1 iris-ip00+ photopipe ...      1:0 FAILED     0.5\n",
       "32018844_43+ ir-shir1 iris-ip00+ photopipe ...      1:0 FAILED     0.7\n",
       "32018844_43+ ir-shir1 iris-ip00+ photopipe ...      1:0 FAILED     1.3\n",
       "32018844_43+ ir-shir1 iris-ip00+ photopipe ...      2:0 FAILED     0.5"
      ]
     },
     "execution_count": 19,
     "metadata": {},
     "output_type": "execute_result"
    }
   ],
   "source": [
    "t[-5:]\n"
   ]
  },
  {
   "cell_type": "code",
   "execution_count": 22,
   "metadata": {},
   "outputs": [],
   "source": [
    "times = Time(t['End'], format='isot', scale='utc')"
   ]
  },
  {
   "cell_type": "code",
   "execution_count": 24,
   "metadata": {},
   "outputs": [],
   "source": [
    "t['mjd_end'] = times.mjd"
   ]
  },
  {
   "cell_type": "code",
   "execution_count": 26,
   "metadata": {},
   "outputs": [],
   "source": [
    "t = t[t['mjd_end'] > 59176]"
   ]
  },
  {
   "cell_type": "code",
   "execution_count": 27,
   "metadata": {},
   "outputs": [],
   "source": [
    "\n",
    "def nameToJobType(name):\n",
    "    \"\"\"Take the name and return the tipe of pipetask\"\"\"\n",
    "    job_type = 'UNKNOWN'\n",
    "    if name.startswith('process'):\n",
    "        job_type = 'processCcd'\n",
    "    if name.startswith('coadd'):\n",
    "        job_type = 'coadd'\n",
    "    if name.startswith('phot'):\n",
    "        job_type = 'photoPipe'\n",
    "    return job_type\n",
    "\n",
    "t['job_type']  = [nameToJobType(n) for n in t['JobName']]"
   ]
  },
  {
   "cell_type": "code",
   "execution_count": 33,
   "metadata": {},
   "outputs": [
    {
     "data": {
      "text/html": [
       "&lt;Column name=&apos;CompHrs&apos; dtype=&apos;float64&apos; length=7664&gt;\n",
       "<table>\n",
       "<tr><td>0.0</td></tr>\n",
       "<tr><td>0.0</td></tr>\n",
       "<tr><td>0.0</td></tr>\n",
       "<tr><td>0.0</td></tr>\n",
       "<tr><td>0.0</td></tr>\n",
       "<tr><td>0.0</td></tr>\n",
       "<tr><td>0.0</td></tr>\n",
       "<tr><td>0.0</td></tr>\n",
       "<tr><td>0.0</td></tr>\n",
       "<tr><td>0.0</td></tr>\n",
       "<tr><td>0.0</td></tr>\n",
       "<tr><td>0.0</td></tr>\n",
       "<tr><td>...</td></tr>\n",
       "<tr><td>0.1</td></tr>\n",
       "<tr><td>0.1</td></tr>\n",
       "<tr><td>0.0</td></tr>\n",
       "<tr><td>0.1</td></tr>\n",
       "<tr><td>0.0</td></tr>\n",
       "<tr><td>0.0</td></tr>\n",
       "<tr><td>0.1</td></tr>\n",
       "<tr><td>0.1</td></tr>\n",
       "<tr><td>0.1</td></tr>\n",
       "<tr><td>0.1</td></tr>\n",
       "<tr><td>0.1</td></tr>\n",
       "<tr><td>0.2</td></tr>\n",
       "</table>"
      ],
      "text/plain": [
       "<Column name='CompHrs' dtype='float64' length=7664>\n",
       "0.0\n",
       "0.0\n",
       "0.0\n",
       "0.0\n",
       "0.0\n",
       "0.0\n",
       "0.0\n",
       "0.0\n",
       "0.0\n",
       "0.0\n",
       "0.0\n",
       "0.0\n",
       "...\n",
       "0.1\n",
       "0.1\n",
       "0.0\n",
       "0.1\n",
       "0.0\n",
       "0.0\n",
       "0.1\n",
       "0.1\n",
       "0.1\n",
       "0.1\n",
       "0.1\n",
       "0.2"
      ]
     },
     "execution_count": 33,
     "metadata": {},
     "output_type": "execute_result"
    }
   ],
   "source": [
    "t['CompHrs'][(t['job_type'] == 'coadd') &(t['State'] == 'COMPLETED') ]"
   ]
  },
  {
   "cell_type": "code",
   "execution_count": 34,
   "metadata": {},
   "outputs": [
    {
     "name": "stdout",
     "output_type": "stream",
     "text": [
      "\n",
      "Full processing of input images: 1.87 cpu hours\n",
      "Full coadd of all patches: 0.13 cpu hours\n",
      "Full photometry pipeline on all patches: 2.05 cpu hours\n",
      "Total time for 5467 images and 7664 patch coadss and 13 patch photometry pipelines: 11243.1 cpu hours\n",
      "\n"
     ]
    }
   ],
   "source": [
    "num_processCcd = len(t['CompHrs'][(t['job_type'] == 'processCcd') &(t['State'] == 'COMPLETED') ])\n",
    "num_coadd= len(t['CompHrs'][(t['job_type'] == 'coadd') &(t['State'] == 'COMPLETED') ])\n",
    "num_photo = len(t['CompHrs'][(t['job_type'] == 'photoPipe') &(t['State'] == 'COMPLETED') ])\n",
    "\n",
    "mean_processCcd = np.mean(t['CompHrs'][(t['job_type'] == 'processCcd') &(t['State'] == 'COMPLETED') ])\n",
    "mean_coadd= np.mean(t['CompHrs'][(t['job_type'] == 'coadd') &(t['State'] == 'COMPLETED') ])\n",
    "mean_photo = np.mean(t['CompHrs'][(t['job_type'] == 'photoPipe') &(t['State'] == 'COMPLETED') ])\n",
    "\n",
    "tot_processCcd = np.sum(t['CompHrs'][(t['job_type'] == 'processCcd') &(t['State'] == 'COMPLETED') ])\n",
    "tot_coadd= np.sum(t['CompHrs'][(t['job_type'] == 'coadd') &(t['State'] == 'COMPLETED') ])\n",
    "tot_photo = np.sum(t['CompHrs'][(t['job_type'] == 'photoPipe') &(t['State'] == 'COMPLETED') ])\n",
    "\n",
    "print(\"\"\"\n",
    "Full processing of input images: {} cpu hours\n",
    "Full coadd of all patches: {} cpu hours\n",
    "Full photometry pipeline on all patches: {} cpu hours\n",
    "Total time for {} images and {} patch coadss and {} patch photometry pipelines: {} cpu hours\n",
    "\"\"\".format(\n",
    "    round(mean_processCcd,2),\n",
    "    round(mean_coadd,2),\n",
    "    round(mean_photo,2),\n",
    "    num_processCcd,\n",
    "    num_coadd,\n",
    "    num_photo,\n",
    "    round(\n",
    "        tot_processCcd \n",
    "        + tot_coadd\n",
    "        + tot_photo,2\n",
    "    )\n",
    "))"
   ]
  },
  {
   "cell_type": "code",
   "execution_count": 35,
   "metadata": {},
   "outputs": [
    {
     "name": "stdout",
     "output_type": "stream",
     "text": [
      "\n",
      "Full processing of input images: 4160.0 cpu hours\n",
      "Full coadd of all patches: 571.0 cpu hours\n",
      "Full photometry pipeline on all patches: 8984.0 cpu hours\n",
      "Total time for 2226 images and 4374 patches: 13714.0 cpu hours\n",
      "\n"
     ]
    }
   ],
   "source": [
    "n_vhs_xmm_images = 2226 # From ../dmu4_XMM/1_Slurm_factory.ipynb\n",
    "n_vhs_xmm_patches = 6*9*81 #Rough from tract numbers\n",
    "\n",
    "mean_processCcd = np.mean(t['CompHrs'][(t['job_type'] == 'processCcd') &(t['State'] == 'COMPLETED') ])\n",
    "mean_coadd= np.mean(t['CompHrs'][(t['job_type'] == 'coadd') &(t['State'] == 'COMPLETED') ])\n",
    "mean_photo = np.mean(t['CompHrs'][(t['job_type'] == 'photoPipe') &(t['State'] == 'COMPLETED') ])\n",
    "\n",
    "print(\"\"\"\n",
    "Full processing of input images: {} cpu hours\n",
    "Full coadd of all patches: {} cpu hours\n",
    "Full photometry pipeline on all patches: {} cpu hours\n",
    "Total time for {} images and {} patches: {} cpu hours\n",
    "\"\"\".format(\n",
    "    round(n_vhs_xmm_images * mean_processCcd),\n",
    "    round(n_vhs_xmm_patches* mean_coadd),\n",
    "    round(n_vhs_xmm_patches* mean_photo),\n",
    "    n_vhs_xmm_images, n_vhs_xmm_patches,\n",
    "    round(\n",
    "        n_vhs_xmm_images * mean_processCcd \n",
    "        + n_vhs_xmm_patches* mean_coadd\n",
    "        + n_vhs_xmm_patches* mean_photo\n",
    "    )\n",
    "))"
   ]
  },
  {
   "cell_type": "code",
   "execution_count": 36,
   "metadata": {},
   "outputs": [
    {
     "name": "stdout",
     "output_type": "stream",
     "text": [
      "\n",
      "Full processing of input images: 383084.0 cpu hours\n",
      "Full coadd of all patches: 14573.0 cpu hours\n",
      "Full photometry pipeline on all patches: 1376358.0 cpu hours\n",
      "Total time for 204996 images and 670137 patches: 1774016.0 cpu hours\n",
      "\n"
     ]
    }
   ],
   "source": [
    "n_vhs_xmm_images = 204996 # From ../dmu1/data/vhs_images_overview_$DATE.fits\n",
    "n_vhs_xmm_patches =  670137# From ../dmu1/data/vhs_tiles_tracts_patches.fits\n",
    "\n",
    "mean_processCcd = np.mean(t['CompHrs'][(t['job_type'] == 'processCcd') &(t['State'] == 'COMPLETED') ])\n",
    "mean_coadd= np.mean(t['CompHrs'][(t['job_type'] == 'coadd') &(t['State'] == 'COMPLETED') ])\n",
    "mean_photo = np.mean(t['CompHrs'][(t['job_type'] == 'photoPipe') &(t['State'] == 'COMPLETED') ])\n",
    "\n",
    "print(\"\"\"\n",
    "Full processing of input images: {} cpu hours\n",
    "Full coadd of all patches: {} cpu hours\n",
    "Full photometry pipeline on all patches: {} cpu hours\n",
    "Total time for {} images and {} patches: {} cpu hours\n",
    "\"\"\".format(\n",
    "    round(n_vhs_xmm_images * mean_processCcd),\n",
    "    round(n_vhs_xmm_patches* mean_coadd /6), #assume 6 times fewer images to coadd\n",
    "    round(n_vhs_xmm_patches* mean_photo ),  #assume JHK and LSST UGRIZY\n",
    "    n_vhs_xmm_images, n_vhs_xmm_patches,\n",
    "    round(\n",
    "        n_vhs_xmm_images * mean_processCcd \n",
    "        + n_vhs_xmm_patches* mean_coadd/6\n",
    "        + n_vhs_xmm_patches* mean_photo\n",
    "    )\n",
    "))"
   ]
  },
  {
   "cell_type": "code",
   "execution_count": null,
   "metadata": {},
   "outputs": [],
   "source": []
  }
 ],
 "metadata": {
  "kernelspec": {
   "display_name": "LSST",
   "language": "python",
   "name": "lsst"
  },
  "language_info": {
   "codemirror_mode": {
    "name": "ipython",
    "version": 3
   },
   "file_extension": ".py",
   "mimetype": "text/x-python",
   "name": "python",
   "nbconvert_exporter": "python",
   "pygments_lexer": "ipython3",
   "version": "3.7.6"
  }
 },
 "nbformat": 4,
 "nbformat_minor": 4
}
