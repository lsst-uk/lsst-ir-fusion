{
 "cells": [
  {
   "cell_type": "markdown",
   "id": "6c576ece-45b8-4cc1-addc-64124bc2be21",
   "metadata": {},
   "source": [
    "# Run lephare\n",
    "\n",
    "In this notebook we will take an output catalogue on a single patch, merge in the spectroscopic redshift and run lephare. the aim is to produce a general code that can be parellelised across the entire field.\n",
    "\n",
    "We broadly follow the example run given on the main page for the new c++ version:\n",
    "\n",
    "https://gitlab.lam.fr/Galaxies/LEPHARE\n",
    "\n",
    "Broadly speaking we need a .para file which specifies the config for the run and an input file with all the measurements and errors and spectroscopic redshift."
   ]
  },
  {
   "cell_type": "code",
   "execution_count": 189,
   "id": "3d9b7ff0-6c16-4d71-906d-f52d1a6fc0cd",
   "metadata": {},
   "outputs": [],
   "source": [
    "from astropy.table import Table\n",
    "from pathlib import Path\n",
    "from herschelhelp_internal.masterlist import merge_catalogues, nb_merge_dist_plot, specz_merge\n",
    "from herschelhelp_internal.utils import coords_to_hpidx, ebv, gen_help_id, inMoc, mag_to_flux\n",
    "import astropy.units as u\n",
    "import numpy as np\n",
    "import time"
   ]
  },
  {
   "cell_type": "code",
   "execution_count": 21,
   "id": "2f5ed392-e138-4321-aa5c-e04511cc992b",
   "metadata": {},
   "outputs": [
    {
     "name": "stdout",
     "output_type": "stream",
     "text": [
      "/Users/raphaelshirley/Documents/github/lsst-ir-fusion/dmu6/dmu6_VIDEO\n"
     ]
    }
   ],
   "source": [
    "!pwd"
   ]
  },
  {
   "cell_type": "code",
   "execution_count": 24,
   "id": "31830c0a-1761-4097-97d7-46340dc00c77",
   "metadata": {},
   "outputs": [
    {
     "data": {
      "text/html": [
       "<i>Table length=5</i>\n",
       "<table id=\"table140653736758352\" class=\"table-striped table-bordered table-condensed\">\n",
       "<thead><tr><th>Id</th><th>U</th><th>dU</th><th>B</th><th>dB</th><th>V</th><th>dV</th><th>R</th><th>dR</th><th>I</th><th>dI</th><th>Zn</th><th>dZn</th><th>Yhsc</th><th>dYhsc</th><th>Y</th><th>dY</th><th>J</th><th>dJ</th><th>H</th><th>dH</th><th>K</th><th>dK</th><th>Hw</th><th>dHw</th><th>Kw</th><th>dKw</th><th>IA427</th><th>dIA427</th><th>IA464</th><th>dIA464</th><th>IA484</th><th>dIA484</th><th>IA505</th><th>dIA505</th><th>IA527</th><th>dIA527</th><th>IA574</th><th>dIA574</th><th>IA624</th><th>dIA624</th><th>IA679</th><th>dIA679</th><th>IA709</th><th>dIA709</th><th>IA738</th><th>dIA738</th><th>IA767</th><th>dIA767</th><th>IA827</th><th>dIA827</th><th>NB711</th><th>dNB711</th><th>NB816</th><th>dNB816</th><th>ch1</th><th>dch1</th><th>ch2</th><th>dch2</th><th>ch3</th><th>dch3</th><th>ch4</th><th>dch4</th><th>NUV</th><th>dNUV</th><th>bidon</th><th>bidon_1</th><th>ucfhtls</th><th>ducfhtls</th><th>gcfhtls</th><th>dgcfhtls</th><th>rcfhtls</th><th>drcfhtls</th><th>icfhtls</th><th>dicfhtls</th><th>ycfhtls</th><th>dycfhtls</th><th>zcfhtls</th><th>dzcfhtls</th><th>context</th><th>z-spec</th></tr></thead>\n",
       "<thead><tr><th>int64</th><th>float64</th><th>float64</th><th>float64</th><th>float64</th><th>float64</th><th>float64</th><th>float64</th><th>float64</th><th>float64</th><th>float64</th><th>float64</th><th>float64</th><th>float64</th><th>float64</th><th>float64</th><th>float64</th><th>float64</th><th>float64</th><th>float64</th><th>float64</th><th>float64</th><th>float64</th><th>float64</th><th>float64</th><th>float64</th><th>float64</th><th>float64</th><th>float64</th><th>float64</th><th>float64</th><th>float64</th><th>float64</th><th>float64</th><th>float64</th><th>float64</th><th>float64</th><th>float64</th><th>float64</th><th>float64</th><th>float64</th><th>float64</th><th>float64</th><th>float64</th><th>float64</th><th>float64</th><th>float64</th><th>float64</th><th>float64</th><th>float64</th><th>float64</th><th>float64</th><th>float64</th><th>float64</th><th>float64</th><th>float64</th><th>float64</th><th>float64</th><th>float64</th><th>float64</th><th>float64</th><th>float64</th><th>float64</th><th>float64</th><th>float64</th><th>float64</th><th>float64</th><th>float64</th><th>float64</th><th>float64</th><th>float64</th><th>float64</th><th>float64</th><th>float64</th><th>float64</th><th>float64</th><th>float64</th><th>float64</th><th>float64</th><th>int64</th><th>float64</th></tr></thead>\n",
       "<tr><td>1</td><td>1.5763660341703e-28</td><td>7.26666089702958e-31</td><td>2.65457114182598e-28</td><td>2.53381502067042e-30</td><td>9.3144854758703e-28</td><td>6.3120512003925e-30</td><td>1.15991960470081e-27</td><td>5.1218735350011e-30</td><td>1.94864935266787e-27</td><td>4.9161461594729e-30</td><td>3.07852960829942e-27</td><td>1.58787538020643e-30</td><td>3.38596707299833e-27</td><td>5.2804246032907e-30</td><td>-99.9</td><td>-99.9</td><td>-99.9</td><td>-99.9</td><td>-99.9</td><td>-99.9</td><td>-99.9</td><td>-99.9</td><td>7.23514663587563e-27</td><td>7.2847065245261e-30</td><td>8.69713321769458e-27</td><td>7.99574187287666e-30</td><td>2.18332932007632e-28</td><td>1.38611924314223e-30</td><td>3.39742729486782e-28</td><td>1.71450634183319e-30</td><td>4.82749531662162e-28</td><td>1.82010205948151e-30</td><td>6.23712376909149e-28</td><td>1.99556925450414e-30</td><td>6.80774925965078e-28</td><td>1.88399461646408e-30</td><td>9.62584362157748e-28</td><td>3.13902124217789e-30</td><td>1.14866639589654e-27</td><td>2.48584490574606e-30</td><td>1.70177264708706e-27</td><td>4.60997668338033e-30</td><td>1.64802241613819e-27</td><td>3.92426433034385e-30</td><td>1.83884622524075e-27</td><td>3.10920711017425e-30</td><td>1.96257131499692e-27</td><td>3.3985707713843e-30</td><td>2.32250470224367e-27</td><td>3.93245948134509e-30</td><td>1.5912127000877e-27</td><td>2.32004752571559e-30</td><td>2.29509600655104e-27</td><td>3.92044883983326e-30</td><td>4.24471648490778e-27</td><td>2.57575337343852e-29</td><td>3.59655796363041e-27</td><td>2.02678957066465e-29</td><td>2.42605029441076e-27</td><td>1.20096191369726e-28</td><td>7.25228862936138e-27</td><td>1.72291939813558e-28</td><td>4.41147783235251e-29</td><td>3.65072961041126e-30</td><td>-99.9</td><td>-99.9</td><td>-99.9</td><td>-99.9</td><td>-99.9</td><td>-99.9</td><td>-99.9</td><td>-99.9</td><td>-99.9</td><td>-99.9</td><td>-99.9</td><td>-99.9</td><td>-99.9</td><td>-99.9</td><td>4294965375</td><td>0.2061</td></tr>\n",
       "<tr><td>2</td><td>7.59655425823231e-28</td><td>1.87738109500118e-30</td><td>-99.9</td><td>-99.9</td><td>5.24453395190441e-27</td><td>2.3872530715425e-29</td><td>7.33355549689458e-27</td><td>2.0086585308145e-29</td><td>7.49825016265711e-27</td><td>1.52561826230575e-29</td><td>1.70933812789214e-26</td><td>9.68952982256966e-30</td><td>1.94193705081067e-26</td><td>1.9953445270225e-29</td><td>1.94029066600629e-26</td><td>4.47230008383894e-30</td><td>2.48070221072767e-26</td><td>6.77483832354773e-30</td><td>2.92354023776328e-26</td><td>9.53428405354708e-30</td><td>2.96801165873156e-26</td><td>8.61226843456251e-30</td><td>3.44183102931206e-26</td><td>2.06500401567258e-29</td><td>3.05340140121135e-26</td><td>2.60221953873401e-29</td><td>1.21238189696316e-27</td><td>4.42918617959154e-30</td><td>2.49205229614748e-27</td><td>6.24411196200976e-30</td><td>3.32080768460673e-27</td><td>7.04095699376858e-30</td><td>4.14545436603905e-27</td><td>7.26529200757928e-30</td><td>4.72860890011052e-27</td><td>7.50700335851632e-30</td><td>5.67000546468386e-27</td><td>1.13461676224691e-29</td><td>7.79525232849656e-27</td><td>9.8671764226863e-30</td><td>1.09460727039906e-26</td><td>1.77353730721346e-29</td><td>1.00392128873394e-26</td><td>1.48960492952605e-29</td><td>1.11455508100569e-26</td><td>1.15550238824338e-29</td><td>1.09068390837471e-26</td><td>1.23518742748015e-29</td><td>1.31206176094453e-26</td><td>1.52044832860116e-29</td><td>1.00124008158424e-26</td><td>6.73621348034618e-30</td><td>1.29761485982004e-26</td><td>1.36546986447873e-29</td><td>1.4213580582554e-26</td><td>3.10185874591648e-29</td><td>1.01223881828917e-26</td><td>1.88280148521559e-29</td><td>8.18146543680255e-27</td><td>1.6008852719342e-28</td><td>3.10794883106975e-26</td><td>2.64433215461183e-28</td><td>-99.9</td><td>-99.9</td><td>-99.9</td><td>-99.9</td><td>-99.9</td><td>-99.9</td><td>-99.9</td><td>-99.9</td><td>-99.9</td><td>-99.9</td><td>-99.9</td><td>-99.9</td><td>-99.9</td><td>-99.9</td><td>-99.9</td><td>-99.9</td><td>2147483645</td><td>0.0998</td></tr>\n",
       "<tr><td>3</td><td>1.63808418640755e-28</td><td>3.04842579540977e-30</td><td>1.70718161598133e-28</td><td>4.21233401523035e-30</td><td>2.74914071838974e-28</td><td>7.18298686171824e-30</td><td>3.66638619508692e-28</td><td>5.88060153112569e-30</td><td>4.58260167982106e-28</td><td>5.25004556379856e-30</td><td>6.43378884225726e-28</td><td>4.05620218957785e-30</td><td>6.25875274578205e-28</td><td>1.92807746172398e-29</td><td>7.07491083672896e-28</td><td>6.56821823091014e-30</td><td>6.96033095525439e-28</td><td>9.99089580067773e-30</td><td>6.95229386427422e-28</td><td>1.4022096485937e-29</td><td>8.52305931547016e-28</td><td>1.2695777750051e-29</td><td>7.64965604490207e-28</td><td>3.84948845539339e-29</td><td>7.9512183689593e-28</td><td>3.83528071294368e-29</td><td>1.88382675039359e-28</td><td>4.20503975101692e-30</td><td>1.95891585802849e-28</td><td>4.55272908141162e-30</td><td>2.08404537941914e-28</td><td>4.16690896742944e-30</td><td>2.14360656359691e-28</td><td>4.56040132610785e-30</td><td>2.24282806875441e-28</td><td>3.57504140027866e-30</td><td>3.39531344842317e-28</td><td>5.91209516351815e-30</td><td>3.73764896530317e-28</td><td>4.41605399481235e-30</td><td>4.44394923992203e-28</td><td>7.13859577422048e-30</td><td>3.72539350229437e-28</td><td>5.47168400555129e-30</td><td>4.09622618215113e-28</td><td>5.4205415973794e-30</td><td>4.45834069452927e-28</td><td>6.9377313209854e-30</td><td>4.71726305602142e-28</td><td>7.5761800917567e-30</td><td>3.97576889724116e-28</td><td>7.42132753446953e-30</td><td>4.77300186937072e-28</td><td>7.53421391811456e-30</td><td>1.94935790722849e-28</td><td>4.96852917790834e-30</td><td>1.64195311535032e-28</td><td>4.99389607735001e-30</td><td>6.29257499270818e-28</td><td>1.08833734887696e-28</td><td>-99.9</td><td>-99.9</td><td>-99.9</td><td>-99.9</td><td>-99.9</td><td>-99.9</td><td>-99.9</td><td>-99.9</td><td>-99.9</td><td>-99.9</td><td>-99.9</td><td>-99.9</td><td>-99.9</td><td>-99.9</td><td>-99.9</td><td>-99.9</td><td>-99.9</td><td>-99.9</td><td>1073741823</td><td>0.5186</td></tr>\n",
       "<tr><td>4</td><td>1.56221810057774e-29</td><td>2.86487363475096e-31</td><td>1.43823504374963e-29</td><td>4.68659622473138e-31</td><td>2.32912888096244e-29</td><td>8.04241208929412e-31</td><td>2.49636278218224e-29</td><td>6.13364006789893e-31</td><td>4.38684478600377e-29</td><td>6.35159771108176e-31</td><td>6.53905212238731e-29</td><td>5.79568881825385e-31</td><td>6.92161066327607e-29</td><td>2.23905477433544e-30</td><td>-99.9</td><td>-99.9</td><td>-99.9</td><td>-99.9</td><td>-99.9</td><td>-99.9</td><td>-99.9</td><td>-99.9</td><td>7.62121536573168e-29</td><td>4.26630587306476e-30</td><td>8.9440887381411e-29</td><td>4.18215982091746e-30</td><td>1.71799682177312e-29</td><td>6.52581120758293e-31</td><td>1.63390800787818e-29</td><td>7.11489271280628e-31</td><td>1.86383855456801e-29</td><td>5.70523582673187e-31</td><td>1.95254603300606e-29</td><td>9.87278543505622e-31</td><td>1.95810543159071e-29</td><td>4.79450559949114e-31</td><td>2.22674665493287e-29</td><td>8.81563945597875e-31</td><td>2.4468022741461e-29</td><td>5.65027203611681e-31</td><td>3.15868532584581e-29</td><td>8.91331277122444e-31</td><td>4.24367936784358e-29</td><td>8.44921262819406e-31</td><td>3.94987801304301e-29</td><td>7.53827249033145e-31</td><td>4.78259143714703e-29</td><td>1.26804346023265e-30</td><td>4.85595230025956e-29</td><td>1.11618266223942e-30</td><td>6.67220822516344e-29</td><td>1.19319219009817e-30</td><td>4.68193351948893e-29</td><td>1.09227950141234e-30</td><td>9.11340972592769e-29</td><td>1.11861649766681e-30</td><td>6.73867774209435e-29</td><td>1.1001542943585e-30</td><td>4.61850693400187e-29</td><td>3.45065408948414e-29</td><td>2.90966747880883e-29</td><td>3.60094124143081e-29</td><td>6.57915876375342e-30</td><td>8.4073209987732e-31</td><td>-99.9</td><td>-99.9</td><td>-99.9</td><td>-99.9</td><td>-99.9</td><td>-99.9</td><td>-99.9</td><td>-99.9</td><td>-99.9</td><td>-99.9</td><td>-99.9</td><td>-99.9</td><td>-99.9</td><td>-99.9</td><td>4294965375</td><td>0.9066</td></tr>\n",
       "<tr><td>5</td><td>1.78173538698401e-29</td><td>4.74551539848855e-31</td><td>2.43634746561356e-29</td><td>6.53007787688282e-31</td><td>5.17028892254615e-29</td><td>1.26140839178584e-30</td><td>5.62406055507208e-29</td><td>9.3412383836598e-31</td><td>6.71519566176607e-29</td><td>8.12247218570131e-31</td><td>7.9243421178216e-29</td><td>5.74811610471772e-31</td><td>7.81193333873809e-29</td><td>2.72847959625163e-30</td><td>-99.9</td><td>-99.9</td><td>-99.9</td><td>-99.9</td><td>-99.9</td><td>-99.9</td><td>-99.9</td><td>-99.9</td><td>9.7001085919726e-29</td><td>5.81940784511502e-30</td><td>1.00214455317104e-28</td><td>4.89395882162908e-30</td><td>2.04949376392369e-29</td><td>6.07937913757636e-31</td><td>3.8439502639011e-29</td><td>7.46967351681992e-31</td><td>3.86853538673326e-29</td><td>6.60784500670289e-31</td><td>4.45781030645613e-29</td><td>8.02307187222562e-31</td><td>4.12244366126299e-29</td><td>5.72743599679996e-31</td><td>4.67288278842568e-29</td><td>9.28477073262245e-31</td><td>6.01102056004655e-29</td><td>7.01855819749765e-31</td><td>6.79649637626117e-29</td><td>1.0728131362192e-30</td><td>6.27923301032645e-29</td><td>8.95521253832131e-31</td><td>6.4155647792006e-29</td><td>8.90640850726189e-31</td><td>6.42961809878736e-29</td><td>1.01895385687792e-30</td><td>7.21592923279733e-29</td><td>1.12973254999481e-30</td><td>5.9945457902069e-29</td><td>1.16308535455244e-30</td><td>7.61875974065661e-29</td><td>1.23385596352974e-30</td><td>4.86952410518964e-29</td><td>9.47001372942958e-31</td><td>3.69388235811883e-29</td><td>1.242178487279e-30</td><td>3.58692668507296e-29</td><td>3.20075406258794e-29</td><td>-99.9</td><td>-99.9</td><td>1.56283979547288e-29</td><td>1.1567457467012e-30</td><td>-99.9</td><td>-99.9</td><td>-99.9</td><td>-99.9</td><td>-99.9</td><td>-99.9</td><td>-99.9</td><td>-99.9</td><td>-99.9</td><td>-99.9</td><td>-99.9</td><td>-99.9</td><td>-99.9</td><td>-99.9</td><td>3221223551</td><td>0.2202</td></tr>\n",
       "</table>"
      ],
      "text/plain": [
       "<Table length=5>\n",
       "  Id           U                    dU          ... dzcfhtls  context    z-spec\n",
       "int64       float64              float64        ... float64    int64    float64\n",
       "----- -------------------- -------------------- ... -------- ---------- -------\n",
       "    1  1.5763660341703e-28 7.26666089702958e-31 ...    -99.9 4294965375  0.2061\n",
       "    2 7.59655425823231e-28 1.87738109500118e-30 ...    -99.9 2147483645  0.0998\n",
       "    3 1.63808418640755e-28 3.04842579540977e-30 ...    -99.9 1073741823  0.5186\n",
       "    4 1.56221810057774e-29 2.86487363475096e-31 ...    -99.9 4294965375  0.9066\n",
       "    5 1.78173538698401e-29 4.74551539848855e-31 ...    -99.9 3221223551  0.2202"
      ]
     },
     "execution_count": 24,
     "metadata": {},
     "output_type": "execute_result"
    }
   ],
   "source": [
    "#An example input:\n",
    "Table.read('/Users/raphaelshirley/Documents/github/LEPHARE/examples/COSMOS.in',format='ascii')[:5]"
   ]
  },
  {
   "cell_type": "code",
   "execution_count": 128,
   "id": "bc23eb85-51d5-42d2-814a-089596cd6504",
   "metadata": {},
   "outputs": [],
   "source": [
    "example_cat='../../dmu5/dmu5_VIDEO/data/merged/8524/48/8524_48_reducedCat.fits'\n",
    "example_out='data/8524/48/photoz.in'"
   ]
  },
  {
   "cell_type": "code",
   "execution_count": 9,
   "id": "628e0641-7f05-4c16-b4d0-e2583fe4439e",
   "metadata": {},
   "outputs": [
    {
     "data": {
      "text/html": [
       "<i>Table length=5</i>\n",
       "<table id=\"table140655351264144\" class=\"table-striped table-bordered table-condensed\">\n",
       "<thead><tr><th>RA</th><th>DEC</th><th>Z_SPEC</th><th>Z_SOURCE</th><th>Z_QUAL</th><th>REL</th><th>OBJID</th><th>AGN</th></tr></thead>\n",
       "<thead><tr><th>float64</th><th>float64</th><th>float64</th><th>int32</th><th>int16</th><th>bytes5</th><th>bytes26</th><th>int16</th></tr></thead>\n",
       "<tr><td>36.4419712</td><td>-4.8212023</td><td>nan</td><td>1</td><td>1</td><td>0.0</td><td>VVDS-J022546.07-044916.3</td><td>0</td></tr>\n",
       "<tr><td>36.6795128</td><td>-4.8210224</td><td>0.397</td><td>1</td><td>3</td><td>0.975</td><td>VVDS-J022643.08-044915.6</td><td>0</td></tr>\n",
       "<tr><td>36.4387748</td><td>-4.8203333</td><td>1.1714</td><td>1</td><td>3</td><td>0.975</td><td>VVDS-J022545.30-044913.1</td><td>0</td></tr>\n",
       "<tr><td>37.0437708</td><td>-4.820269</td><td>0.9911</td><td>1</td><td>3</td><td>0.975</td><td>VVDS-J022810.50-044912.9</td><td>0</td></tr>\n",
       "<tr><td>36.5575475</td><td>-4.8206121</td><td>1.138</td><td>1</td><td>2</td><td>0.8</td><td>VVDS-J022613.81-044914.2</td><td>0</td></tr>\n",
       "</table>"
      ],
      "text/plain": [
       "<Table length=5>\n",
       "    RA        DEC      Z_SPEC ...  REL             OBJID             AGN \n",
       " float64    float64   float64 ... bytes5          bytes26           int16\n",
       "---------- ---------- ------- ... ------ -------------------------- -----\n",
       "36.4419712 -4.8212023     nan ...  0.0   VVDS-J022546.07-044916.3       0\n",
       "36.6795128 -4.8210224   0.397 ...  0.975 VVDS-J022643.08-044915.6       0\n",
       "36.4387748 -4.8203333  1.1714 ...  0.975 VVDS-J022545.30-044913.1       0\n",
       "37.0437708  -4.820269  0.9911 ...  0.975 VVDS-J022810.50-044912.9       0\n",
       "36.5575475 -4.8206121   1.138 ...  0.8   VVDS-J022613.81-044914.2       0"
      ]
     },
     "execution_count": 9,
     "metadata": {},
     "output_type": "execute_result"
    }
   ],
   "source": [
    "#downloaded from \n",
    "specz_cat=Table.read('./data/XMM-LSS-specz-v2.91.fits.gz')\n",
    "specz_cat[:5]"
   ]
  },
  {
   "cell_type": "code",
   "execution_count": 10,
   "id": "b99b37e6-afcb-4a98-bc5f-8bdd0c44b31f",
   "metadata": {},
   "outputs": [
    {
     "data": {
      "text/html": [
       "<i>Table length=5</i>\n",
       "<table id=\"table140655351195128\" class=\"table-striped table-bordered table-condensed\">\n",
       "<thead><tr><th>id</th><th>VIRCAM_Z_m_base_ClassificationExtendedness_value</th><th>VIRCAM_Z_m_base_ClassificationExtendedness_flag</th><th>VIRCAM_Z_m_base_CircularApertureFlux_6_0_magErr</th><th>VIRCAM_Z_m_base_CircularApertureFlux_6_0_mag</th><th>VIRCAM_Z_m_base_CircularApertureFlux_6_0_fluxErr</th><th>VIRCAM_Z_m_base_CircularApertureFlux_6_0_flux</th><th>VIRCAM_Z_m_base_CircularApertureFlux_6_0_flag</th><th>VIRCAM_Y_m_base_ClassificationExtendedness_value</th><th>VIRCAM_Y_m_base_ClassificationExtendedness_flag</th><th>VIRCAM_Y_m_base_CircularApertureFlux_6_0_magErr</th><th>VIRCAM_Y_m_base_CircularApertureFlux_6_0_mag</th><th>VIRCAM_Y_m_base_CircularApertureFlux_6_0_fluxErr</th><th>VIRCAM_Y_m_base_CircularApertureFlux_6_0_flux</th><th>VIRCAM_Y_m_base_CircularApertureFlux_6_0_flag</th><th>VIRCAM_Ks_m_merge_peak_sky</th><th>VIRCAM_Ks_m_detect_isTractInner</th><th>VIRCAM_Ks_m_detect_isPrimary</th><th>VIRCAM_Ks_m_detect_isPatchInner</th><th>VIRCAM_Ks_m_deblend_nChild</th><th>VIRCAM_Ks_m_coord_ra</th><th>VIRCAM_Ks_m_coord_dec</th><th>VIRCAM_Ks_m_base_ClassificationExtendedness_value</th><th>VIRCAM_Ks_m_base_ClassificationExtendedness_flag</th><th>VIRCAM_Ks_m_base_CircularApertureFlux_6_0_magErr</th><th>VIRCAM_Ks_m_base_CircularApertureFlux_6_0_mag</th><th>VIRCAM_Ks_m_base_CircularApertureFlux_6_0_fluxErr</th><th>VIRCAM_Ks_m_base_CircularApertureFlux_6_0_flux</th><th>VIRCAM_Ks_m_base_CircularApertureFlux_6_0_flag</th><th>VIRCAM_J_m_base_ClassificationExtendedness_value</th><th>VIRCAM_J_m_base_ClassificationExtendedness_flag</th><th>VIRCAM_J_m_base_CircularApertureFlux_6_0_magErr</th><th>VIRCAM_J_m_base_CircularApertureFlux_6_0_mag</th><th>VIRCAM_J_m_base_CircularApertureFlux_6_0_fluxErr</th><th>VIRCAM_J_m_base_CircularApertureFlux_6_0_flux</th><th>VIRCAM_J_m_base_CircularApertureFlux_6_0_flag</th><th>VIRCAM_H_m_base_ClassificationExtendedness_value</th><th>VIRCAM_H_m_base_ClassificationExtendedness_flag</th><th>VIRCAM_H_m_base_CircularApertureFlux_6_0_magErr</th><th>VIRCAM_H_m_base_CircularApertureFlux_6_0_mag</th><th>VIRCAM_H_m_base_CircularApertureFlux_6_0_fluxErr</th><th>VIRCAM_H_m_base_CircularApertureFlux_6_0_flux</th><th>VIRCAM_H_m_base_CircularApertureFlux_6_0_flag</th><th>HSC_Z_m_base_ClassificationExtendedness_value</th><th>HSC_Z_m_base_ClassificationExtendedness_flag</th><th>HSC_Z_m_base_CircularApertureFlux_6_0_magErr</th><th>HSC_Z_m_base_CircularApertureFlux_6_0_mag</th><th>HSC_Z_m_base_CircularApertureFlux_6_0_fluxErr</th><th>HSC_Z_m_base_CircularApertureFlux_6_0_flux</th><th>HSC_Z_m_base_CircularApertureFlux_6_0_flag</th><th>HSC_Y_m_base_ClassificationExtendedness_value</th><th>HSC_Y_m_base_ClassificationExtendedness_flag</th><th>HSC_Y_m_base_CircularApertureFlux_6_0_magErr</th><th>HSC_Y_m_base_CircularApertureFlux_6_0_mag</th><th>HSC_Y_m_base_CircularApertureFlux_6_0_fluxErr</th><th>HSC_Y_m_base_CircularApertureFlux_6_0_flux</th><th>HSC_Y_m_base_CircularApertureFlux_6_0_flag</th><th>HSC_R_m_coord_ra</th><th>HSC_R_m_coord_dec</th><th>HSC_R_m_base_ClassificationExtendedness_value</th><th>HSC_R_m_base_ClassificationExtendedness_flag</th><th>HSC_R_m_base_CircularApertureFlux_6_0_magErr</th><th>HSC_R_m_base_CircularApertureFlux_6_0_mag</th><th>HSC_R_m_base_CircularApertureFlux_6_0_fluxErr</th><th>HSC_R_m_base_CircularApertureFlux_6_0_flux</th><th>HSC_R_m_base_CircularApertureFlux_6_0_flag</th><th>HSC_I_m_base_ClassificationExtendedness_value</th><th>HSC_I_m_base_ClassificationExtendedness_flag</th><th>HSC_I_m_base_CircularApertureFlux_6_0_magErr</th><th>HSC_I_m_base_CircularApertureFlux_6_0_mag</th><th>HSC_I_m_base_CircularApertureFlux_6_0_fluxErr</th><th>HSC_I_m_base_CircularApertureFlux_6_0_flux</th><th>HSC_I_m_base_CircularApertureFlux_6_0_flag</th><th>HSC_G_m_base_ClassificationExtendedness_value</th><th>HSC_G_m_base_ClassificationExtendedness_flag</th><th>HSC_G_m_base_CircularApertureFlux_6_0_magErr</th><th>HSC_G_m_base_CircularApertureFlux_6_0_mag</th><th>HSC_G_m_base_CircularApertureFlux_6_0_fluxErr</th><th>HSC_G_m_base_CircularApertureFlux_6_0_flux</th><th>HSC_G_m_base_CircularApertureFlux_6_0_flag</th></tr></thead>\n",
       "<thead><tr><th></th><th></th><th></th><th>mag</th><th>mag</th><th>nJy</th><th>nJy</th><th></th><th></th><th></th><th>mag</th><th>mag</th><th>nJy</th><th>nJy</th><th></th><th></th><th></th><th></th><th></th><th></th><th>deg</th><th>deg</th><th></th><th></th><th>mag</th><th>mag</th><th>nJy</th><th>nJy</th><th></th><th></th><th></th><th>mag</th><th>mag</th><th>nJy</th><th>nJy</th><th></th><th></th><th></th><th>mag</th><th>mag</th><th>nJy</th><th>nJy</th><th></th><th></th><th></th><th>mag</th><th>mag</th><th>nJy</th><th>nJy</th><th></th><th></th><th></th><th>mag</th><th>mag</th><th>nJy</th><th>nJy</th><th></th><th>deg</th><th>deg</th><th></th><th></th><th>mag</th><th>mag</th><th>nJy</th><th>nJy</th><th></th><th></th><th></th><th>mag</th><th>mag</th><th>nJy</th><th>nJy</th><th></th><th></th><th></th><th>mag</th><th>mag</th><th>nJy</th><th>nJy</th><th></th></tr></thead>\n",
       "<thead><tr><th>int64</th><th>float32</th><th>int64</th><th>float32</th><th>float32</th><th>float32</th><th>float32</th><th>int64</th><th>float32</th><th>int64</th><th>float32</th><th>float32</th><th>float32</th><th>float32</th><th>int64</th><th>int64</th><th>int64</th><th>int64</th><th>int64</th><th>int32</th><th>float64</th><th>float64</th><th>float32</th><th>int64</th><th>float32</th><th>float32</th><th>float32</th><th>float32</th><th>int64</th><th>float32</th><th>int64</th><th>float32</th><th>float32</th><th>float32</th><th>float32</th><th>int64</th><th>float32</th><th>int64</th><th>float32</th><th>float32</th><th>float32</th><th>float32</th><th>int64</th><th>float32</th><th>int64</th><th>float32</th><th>float32</th><th>float32</th><th>float32</th><th>int64</th><th>float32</th><th>int64</th><th>float32</th><th>float32</th><th>float32</th><th>float32</th><th>int64</th><th>float64</th><th>float64</th><th>float32</th><th>int64</th><th>float32</th><th>float32</th><th>float32</th><th>float32</th><th>int64</th><th>float32</th><th>int64</th><th>float32</th><th>float32</th><th>float32</th><th>float32</th><th>int64</th><th>float32</th><th>int64</th><th>float32</th><th>float32</th><th>float32</th><th>float32</th><th>int64</th></tr></thead>\n",
       "<tr><td>3036815931545223169</td><td>nan</td><td>1</td><td>3.1520798e-13</td><td>26.605564</td><td>2.4024104e-11</td><td>82.751205</td><td>1</td><td>nan</td><td>1</td><td>0.029051308</td><td>24.498287</td><td>15.421486</td><td>576.3481</td><td>1</td><td>0</td><td>1</td><td>0</td><td>0</td><td>1</td><td>35.98659592327898</td><td>-5.117555723136499</td><td>nan</td><td>1</td><td>0.07598354</td><td>24.036972</td><td>61.688774</td><td>881.47687</td><td>1</td><td>nan</td><td>1</td><td>0.037974723</td><td>24.199987</td><td>26.532345</td><td>758.58685</td><td>1</td><td>nan</td><td>1</td><td>0.0672703</td><td>24.322615</td><td>41.981037</td><td>677.5699</td><td>1</td><td>nan</td><td>1</td><td>0.09148627</td><td>25.214413</td><td>25.11114</td><td>298.01273</td><td>1</td><td>nan</td><td>1</td><td>0.1563699</td><td>24.565796</td><td>78.00291</td><td>541.6041</td><td>1</td><td>35.98659592327934</td><td>-5.117555723137038</td><td>nan</td><td>1</td><td>0.07582183</td><td>25.67143</td><td>13.661488</td><td>195.62666</td><td>1</td><td>nan</td><td>1</td><td>0.08743713</td><td>25.38592</td><td>20.49293</td><td>254.4676</td><td>1</td><td>nan</td><td>1</td><td>0.040983945</td><td>25.689007</td><td>7.2658587</td><td>192.48528</td><td>1</td></tr>\n",
       "<tr><td>3036815931545223170</td><td>nan</td><td>1</td><td>3.1199923e-13</td><td>26.60799</td><td>2.3726479e-11</td><td>82.566536</td><td>1</td><td>nan</td><td>1</td><td>0.03579752</td><td>24.72668</td><td>15.397727</td><td>467.0119</td><td>1</td><td>0</td><td>1</td><td>0</td><td>0</td><td>3</td><td>35.98092677993864</td><td>-5.117511529805564</td><td>nan</td><td>1</td><td>0.05077212</td><td>23.59885</td><td>61.710766</td><td>1319.6537</td><td>1</td><td>nan</td><td>1</td><td>0.05767055</td><td>24.653898</td><td>26.525915</td><td>499.3909</td><td>1</td><td>nan</td><td>1</td><td>0.056683496</td><td>24.137495</td><td>41.95019</td><td>803.5292</td><td>1</td><td>nan</td><td>1</td><td>0.10702956</td><td>25.360775</td><td>25.672583</td><td>260.4295</td><td>1</td><td>nan</td><td>1</td><td>0.23420705</td><td>24.953032</td><td>81.78304</td><td>379.12955</td><td>1</td><td>35.980926779938954</td><td>-5.117511529806115</td><td>nan</td><td>1</td><td>0.11761655</td><td>26.158005</td><td>13.537605</td><td>124.96769</td><td>1</td><td>nan</td><td>1</td><td>0.0931978</td><td>25.409346</td><td>21.376806</td><td>249.03561</td><td>1</td><td>nan</td><td>1</td><td>0.090203874</td><td>26.531761</td><td>7.3586226</td><td>88.57184</td><td>1</td></tr>\n",
       "<tr><td>3036815931545223172</td><td>nan</td><td>1</td><td>3.1515388e-13</td><td>26.605566</td><td>2.401992e-11</td><td>82.751</td><td>1</td><td>nan</td><td>1</td><td>0.14274833</td><td>26.229214</td><td>15.387248</td><td>117.0346</td><td>1</td><td>0</td><td>1</td><td>0</td><td>0</td><td>1</td><td>35.97849048173622</td><td>-5.117559243134546</td><td>nan</td><td>1</td><td>0.13107882</td><td>24.624731</td><td>61.9321</td><td>512.98846</td><td>1</td><td>nan</td><td>1</td><td>77.40651</td><td>32.467823</td><td>26.663895</td><td>0.373999</td><td>1</td><td>nan</td><td>1</td><td>0.1565502</td><td>25.241665</td><td>41.904724</td><td>290.62546</td><td>1</td><td>nan</td><td>1</td><td>0.19237088</td><td>25.99581</td><td>25.709341</td><td>145.10286</td><td>1</td><td>nan</td><td>1</td><td>0.5106734</td><td>25.795694</td><td>82.06176</td><td>174.47046</td><td>1</td><td>35.97849048173657</td><td>-5.117559243135085</td><td>nan</td><td>1</td><td>0.10827984</td><td>26.072495</td><td>13.48421</td><td>135.20795</td><td>1</td><td>nan</td><td>1</td><td>0.14130817</td><td>25.858673</td><td>21.427622</td><td>164.63835</td><td>1</td><td>nan</td><td>1</td><td>0.10650809</td><td>26.71007</td><td>7.3727684</td><td>75.1575</td><td>1</td></tr>\n",
       "<tr><td>3036815931545223173</td><td>nan</td><td>1</td><td>4.2488146e-13</td><td>26.605566</td><td>3.238297e-11</td><td>82.751</td><td>1</td><td>nan</td><td>1</td><td>0.003632701</td><td>22.192276</td><td>16.128548</td><td>4820.4766</td><td>1</td><td>0</td><td>1</td><td>0</td><td>0</td><td>1</td><td>35.972821351297654</td><td>-5.1175616445574965</td><td>nan</td><td>1</td><td>0.0064056544</td><td>21.310547</td><td>64.064896</td><td>10858.777</td><td>1</td><td>nan</td><td>1</td><td>0.0048238602</td><td>21.905441</td><td>27.892925</td><td>6278.0337</td><td>1</td><td>nan</td><td>1</td><td>0.0060871867</td><td>21.655851</td><td>44.29474</td><td>7900.5957</td><td>1</td><td>nan</td><td>1</td><td>0.0067804405</td><td>22.395487</td><td>24.965416</td><td>3997.6543</td><td>1</td><td>nan</td><td>1</td><td>0.018794727</td><td>22.214886</td><td>81.725494</td><td>4721.129</td><td>1</td><td>35.97282135129797</td><td>-5.117561644558043</td><td>nan</td><td>1</td><td>0.010790365</td><td>23.580315</td><td>13.340922</td><td>1342.3756</td><td>1</td><td>nan</td><td>1</td><td>0.007651258</td><td>22.759785</td><td>20.141632</td><td>2858.1575</td><td>1</td><td>nan</td><td>1</td><td>0.01046028</td><td>24.221186</td><td>7.1671147</td><td>743.9185</td><td>1</td></tr>\n",
       "<tr><td>3036815931545223174</td><td>nan</td><td>1</td><td>nan</td><td>26.356218</td><td>nan</td><td>104.11475</td><td>1</td><td>nan</td><td>1</td><td>nan</td><td>25.31774</td><td>nan</td><td>270.9596</td><td>1</td><td>0</td><td>1</td><td>0</td><td>0</td><td>1</td><td>35.96776129651458</td><td>-5.117563745886413</td><td>nan</td><td>1</td><td>0.20221277</td><td>24.95055</td><td>70.77244</td><td>379.99677</td><td>1</td><td>nan</td><td>1</td><td>0.13841547</td><td>25.458406</td><td>30.345736</td><td>238.03311</td><td>1</td><td>nan</td><td>1</td><td>0.11103107</td><td>24.714197</td><td>48.31046</td><td>472.41205</td><td>1</td><td>nan</td><td>1</td><td>0.14851403</td><td>25.7429</td><td>25.054321</td><td>183.16371</td><td>1</td><td>nan</td><td>1</td><td>0.9357599</td><td>26.47291</td><td>80.589005</td><td>93.50517</td><td>1</td><td>35.9677612965149</td><td>-5.117563745886963</td><td>nan</td><td>1</td><td>0.15937927</td><td>26.498247</td><td>13.409378</td><td>91.348434</td><td>1</td><td>nan</td><td>1</td><td>0.13971317</td><td>25.886932</td><td>20.641445</td><td>160.40839</td><td>1</td><td>nan</td><td>1</td><td>0.15350707</td><td>27.137045</td><td>7.171107</td><td>50.720337</td><td>1</td></tr>\n",
       "</table>"
      ],
      "text/plain": [
       "<Table length=5>\n",
       "         id         ... HSC_G_m_base_CircularApertureFlux_6_0_flag\n",
       "                    ...                                           \n",
       "       int64        ...                   int64                   \n",
       "------------------- ... ------------------------------------------\n",
       "3036815931545223169 ...                                          1\n",
       "3036815931545223170 ...                                          1\n",
       "3036815931545223172 ...                                          1\n",
       "3036815931545223173 ...                                          1\n",
       "3036815931545223174 ...                                          1"
      ]
     },
     "execution_count": 10,
     "metadata": {},
     "output_type": "execute_result"
    }
   ],
   "source": [
    "t=Table.read(example_cat)\n",
    "t[:5]"
   ]
  },
  {
   "cell_type": "code",
   "execution_count": 11,
   "id": "a5a11069-7d3c-4146-8621-e36871fbdf1e",
   "metadata": {},
   "outputs": [],
   "source": [
    "t['ra']=t['VIRCAM_Ks_m_coord_ra']\n",
    "t['dec']=t['VIRCAM_Ks_m_coord_dec']\n",
    "for c in specz_cat.colnames:\n",
    "    specz_cat[c].name=c.lower()\n",
    "specz_cat['objid'].name='specz_id'\n",
    "merge= specz_merge(t, specz_cat, radius=1. * u.arcsec)"
   ]
  },
  {
   "cell_type": "code",
   "execution_count": 190,
   "id": "8ff292ab-63bb-4b68-8cfa-18731bc85ed6",
   "metadata": {},
   "outputs": [],
   "source": [
    "#From email from Manda\n",
    "oxfordApCorr = {\n",
    "    'HSC_G_2as':0.1765,\n",
    "    'HSC_G_3as':0.0788,\n",
    "    'HSC_R_2as':0.1638,\n",
    "    'HSC_R_3as':0.0905,\n",
    "    'HSC_I_2as':0.1512,\n",
    "    'HSC_I_3as':0.0788,\n",
    "    'HSC_Z_2as':0.2155,\n",
    "    'HSC_Z_3as':0.1144,\n",
    "    'HSC_Y_2as':0.2023,\n",
    "    'HSC_Y_3as':0.1144,\n",
    "    'VIRCAM_Z_2as':0.3567,\n",
    "    'VIRCAM_Z_3as':0.2023,\n",
    "    'VIRCAM_Y_2as':0.3567,\n",
    "    'VIRCAM_Y_3as':0.2023,\n",
    "    'VIRCAM_J_2as':0.2980,\n",
    "    'VIRCAM_J_3as':0.1765,\n",
    "    'VIRCAM_H_2as':0.2423,\n",
    "    'VIRCAM_H_3as':0.1512,\n",
    "    'VIRCAM_Ks_2as':0.2288,\n",
    "    'VIRCAM_Ks_3as':0.1388}"
   ]
  },
  {
   "cell_type": "code",
   "execution_count": 220,
   "id": "d33c76e8-e120-4df4-8998-c41c3cf9bca0",
   "metadata": {},
   "outputs": [],
   "source": [
    "def cat_to_lephare_in(cat_name,write_loc,tract,patch):\n",
    "    \"\"\"Take an output patch and make a lephare input file\"\"\"\n",
    "    #Open output cat\n",
    "    in_cat=Table.read(cat_name)\n",
    "    #\n",
    "    \n",
    "    #Merge the spec-z\n",
    "    \n",
    "    out_cat=Table()\n",
    "    out_cat['Id']=in_cat['id']\n",
    "    bands='grizyZYJHK'\n",
    "    n=0\n",
    "    context=np.full(len(out_cat),0)\n",
    "\n",
    "    for b in bands:\n",
    "        physical_filter='{}_{}'.format('VIRCAM' if b.isupper() else 'HSC',b.upper().replace('K','Ks'))\n",
    "        #mag_col='{}_m_base_CircularApertureFlux_6_0_mag'.format(physical_filter)\n",
    "        #magerr_col=mag_col+'Err'\n",
    "        flux_col='{}_m_base_CircularApertureFlux_6_0_flux'.format(physical_filter)\n",
    "        fluxerr_col=flux_col+'Err'\n",
    "        lepharename=b #Do we need a different filter name for lephare\n",
    "        try:\n",
    "            #Convert to nano jansky and then *(10**-9)*(10**-23)\n",
    "            #flux,fluxerr=mag_to_flux(in_cat[mag_col],in_cat[magerr_col])\n",
    "            \n",
    "            out_cat[physical_filter]=in_cat[flux_col]*(10**-9)*(10**-23)\n",
    "            out_cat['d_'+physical_filter]=in_cat[fluxerr_col]*(10**-9)*(10**-23)\n",
    "            #Aperture corrections\n",
    "            out_cat[physical_filter]*=10**(1*oxfordApCorr['{}_2as'.format(physical_filter)]/2.5)\n",
    "            out_cat['d_'+physical_filter]*=10**(1*oxfordApCorr['{}_2as'.format(physical_filter)]/2.5)\n",
    "            mask = np.isnan(out_cat['d_'+physical_filter]) # | (out_cat['d_'+physical_filter]<1e-9) \n",
    "            context+=~np.isnan(out_cat['d_'+physical_filter])*2**n\n",
    "            \n",
    "            #replace nans with -99.9\n",
    "            out_cat[physical_filter]=out_cat[physical_filter].astype('float64')\n",
    "            out_cat['d_'+physical_filter]=out_cat['d_'+physical_filter].astype('float64')\n",
    "            \n",
    "            out_cat[physical_filter][mask]=-99.9\n",
    "            out_cat['d_'+physical_filter][mask]=-99.9\n",
    "            \n",
    "            \n",
    "            n+=1\n",
    "        except KeyError:\n",
    "            print('VISTA Error: band {} missing on tract {} and patch {}.'.format(b,tract,patch))\n",
    "        \n",
    "        \n",
    "    out_cat['context']=context\n",
    "    out_cat['z-spec']=np.full(len(out_cat),-99.9)#np.nan)\n",
    "    #Write the input catalogue\n",
    "    Path('data/{}/{}'.format(tract,patch)).mkdir(\n",
    "                    parents=True, exist_ok=True)\n",
    "    out_cat.write(write_loc, format='ascii.commented_header',overwrite=True)\n",
    "    return out_cat\n",
    "\n",
    "test = cat_to_lephare_in(example_cat,example_out,8524,48)"
   ]
  },
  {
   "cell_type": "code",
   "execution_count": 213,
   "id": "b83eccc3-e2cf-4764-9ff1-0b99dfbb7542",
   "metadata": {},
   "outputs": [
    {
     "name": "stdout",
     "output_type": "stream",
     "text": [
      "total 12560\n",
      "drwxrwxrwx  10 raphaelshirley  staff      320 17 Jan 14:12 \u001b[30m\u001b[43m.\u001b[m\u001b[m\n",
      "drwxr-xr-x   4 raphaelshirley  staff      128  6 Dec 15:31 \u001b[34m..\u001b[m\u001b[m\n",
      "-rw-r--r--@  1 raphaelshirley  staff     6148  3 Jan 13:27 .DS_Store\n",
      "-rw-r--r--@  1 raphaelshirley  staff     3210 26 Sep 15:20 COSMOS.in.header\n",
      "-rwxrwxrwx   1 raphaelshirley  staff        0  3 Jan 13:38 \u001b[31moutput.para\u001b[m\u001b[m\n",
      "-rw-r--r--@  1 raphaelshirley  staff      271 18 Jan 13:07 photoz.header\n",
      "-rw-r--r--@  1 raphaelshirley  staff  4414723 18 Jan 16:44 photoz.in\n",
      "-rw-r--r--@  1 raphaelshirley  staff    11985 17 Jan 15:34 photoz.para\n",
      "-rw-r--r--   1 raphaelshirley  staff  1117440 13 Jan 15:29 photoz_in.fits\n",
      "-rw-r--r--@  1 raphaelshirley  staff    12433 18 Jan 15:22 zphot_short.out\n"
     ]
    }
   ],
   "source": [
    "!ls -al data/8524/48"
   ]
  },
  {
   "cell_type": "code",
   "execution_count": 214,
   "id": "9bd0f6c0-da5b-4bba-8ee1-16b13cd4bb98",
   "metadata": {},
   "outputs": [
    {
     "data": {
      "text/html": [
       "<i>Table length=5</i>\n",
       "<table id=\"table140654307754056\" class=\"table-striped table-bordered table-condensed\">\n",
       "<thead><tr><th>Id</th><th>HSC_G</th><th>d_HSC_G</th><th>HSC_R</th><th>d_HSC_R</th><th>HSC_I</th><th>d_HSC_I</th><th>HSC_Z</th><th>d_HSC_Z</th><th>HSC_Y</th><th>d_HSC_Y</th><th>VIRCAM_Z</th><th>d_VIRCAM_Z</th><th>VIRCAM_Y</th><th>d_VIRCAM_Y</th><th>VIRCAM_J</th><th>d_VIRCAM_J</th><th>VIRCAM_H</th><th>d_VIRCAM_H</th><th>VIRCAM_Ks</th><th>d_VIRCAM_Ks</th><th>context</th><th>zspec</th></tr></thead>\n",
       "<thead><tr><th></th><th>nJy</th><th>nJy</th><th>nJy</th><th>nJy</th><th>nJy</th><th>nJy</th><th>nJy</th><th>nJy</th><th>nJy</th><th>nJy</th><th>nJy</th><th>nJy</th><th>nJy</th><th>nJy</th><th>nJy</th><th>nJy</th><th>nJy</th><th>nJy</th><th>nJy</th><th>nJy</th><th></th><th></th></tr></thead>\n",
       "<thead><tr><th>int64</th><th>float64</th><th>float64</th><th>float64</th><th>float64</th><th>float64</th><th>float64</th><th>float64</th><th>float64</th><th>float64</th><th>float64</th><th>float64</th><th>float64</th><th>float64</th><th>float64</th><th>float64</th><th>float64</th><th>float64</th><th>float64</th><th>float64</th><th>float64</th><th>int64</th><th>float64</th></tr></thead>\n",
       "<tr><td>3036815931545223169</td><td>2.264631432339382e-30</td><td>8.548441772993347e-32</td><td>2.2748251312706167e-30</td><td>1.588612554013409e-31</td><td>2.9249099946199912e-30</td><td>2.3555049509404342e-31</td><td>3.634417131838461e-30</td><td>3.062431736999527e-31</td><td>6.525322237798769e-30</td><td>9.397898659682864e-31</td><td>1.1493553061210186e-30</td><td>3.3350903450930646e-43</td><td>8.005063866952861e-30</td><td>2.1419347896135466e-31</td><td>9.98171874356678e-30</td><td>3.491207172295296e-31</td><td>8.469817845923344e-30</td><td>5.2477500264211315e-31</td><td>1.088255592409345e-29</td><td>7.6159860513787115e-31</td><td>1023</td><td>-99.9</td></tr>\n",
       "<tr><td>3036815931545223170</td><td>1.0420669963259878e-30</td><td>8.657579958248267e-32</td><td>1.4531744223904796e-30</td><td>1.574206988293517e-31</td><td>2.862473000919003e-30</td><td>2.4571001064955626e-31</td><td>3.176070631514988e-30</td><td>3.130902637242834e-31</td><td>4.567805913849006e-30</td><td>9.853335952547373e-31</td><td>1.1467904714870724e-30</td><td>3.29305139116332e-43</td><td>6.486462839588834e-30</td><td>2.138634471674178e-31</td><td>6.571137553300034e-30</td><td>3.4903610514615743e-31</td><td>1.0044345320996669e-29</td><td>5.2438944049504344e-31</td><td>1.6292208762283845e-29</td><td>7.618700973131371e-31</td><td>1023</td><td>-99.9</td></tr>\n",
       "<tr><td>3036815931545223172</td><td>8.84244466507751e-31</td><td>8.674222607267209e-32</td><td>1.5722520941683254e-30</td><td>1.5679980271324736e-31</td><td>1.892391491885959e-30</td><td>2.462940667727058e-31</td><td>1.7696034897391776e-30</td><td>3.13538550249913e-31</td><td>2.1020445768974884e-30</td><td>9.886915594370703e-31</td><td>1.1493523908950286e-30</td><td>3.3350903450930646e-43</td><td>1.6255271908594567e-30</td><td>2.13717920966786e-31</td><td>4.921193508064075e-33</td><td>3.5085167968088947e-31</td><td>3.632901590481833e-30</td><td>5.2382106546653385e-31</td><td>6.333264140309444e-30</td><td>7.6460265148105855e-31</td><td>1023</td><td>-99.9</td></tr>\n",
       "<tr><td>3036815931545223173</td><td>8.752363805827104e-30</td><td>8.43226649080723e-32</td><td>1.5609681759484544e-29</td><td>1.551335864907308e-31</td><td>3.2852326416894107e-29</td><td>2.3151262497919483e-31</td><td>4.875343598351813e-29</td><td>3.0446599081071853e-31</td><td>5.688081821911473e-29</td><td>9.846401476273003e-31</td><td>1.1493523908950286e-30</td><td>4.498168070482663e-43</td><td>6.695299247549141e-29</td><td>2.240140524757514e-31</td><td>8.260829319590086e-29</td><td>3.6702366076176217e-31</td><td>9.875971346998446e-29</td><td>5.536969596892928e-31</td><td>1.3406052879195774e-28</td><td>7.909337249394778e-31</td><td>1023</td><td>-99.9</td></tr>\n",
       "<tr><td>3036815931545223174</td><td>5.967358045536895e-31</td><td>8.436963766233116e-32</td><td>1.0622362224369446e-30</td><td>1.5592961951016414e-31</td><td>1.8437711647449877e-30</td><td>2.3725757150019457e-31</td><td>2.233774987748941e-30</td><td>3.05550266799917e-31</td><td>1.126563317014507e-30</td><td>9.7094761327073e-31</td><td>-99.9</td><td>-99.9</td><td>-99.9</td><td>-99.9</td><td>3.1321125970880226e-30</td><td>3.992984568359052e-31</td><td>5.9052863954801426e-30</td><td>6.038946121699713e-31</td><td>4.691371999216483e-30</td><td>8.737439165311776e-31</td><td>927</td><td>-99.9</td></tr>\n",
       "</table>"
      ],
      "text/plain": [
       "<Table length=5>\n",
       "         Id                 HSC_G          ... context  zspec \n",
       "                             nJy           ...                \n",
       "       int64               float64         ...  int64  float64\n",
       "------------------- ---------------------- ... ------- -------\n",
       "3036815931545223169  2.264631432339382e-30 ...    1023   -99.9\n",
       "3036815931545223170 1.0420669963259878e-30 ...    1023   -99.9\n",
       "3036815931545223172   8.84244466507751e-31 ...    1023   -99.9\n",
       "3036815931545223173  8.752363805827104e-30 ...    1023   -99.9\n",
       "3036815931545223174  5.967358045536895e-31 ...     927   -99.9"
      ]
     },
     "execution_count": 214,
     "metadata": {},
     "output_type": "execute_result"
    }
   ],
   "source": [
    "test[:5]"
   ]
  },
  {
   "cell_type": "code",
   "execution_count": 47,
   "id": "74140f8d-076c-409f-9535-36f619502df3",
   "metadata": {},
   "outputs": [
    {
     "name": "stdout",
     "output_type": "stream",
     "text": [
      "\u001b[31mLFdata.h\u001b[m\u001b[m                 fit_parameters.cpp       \u001b[31mopa.h\u001b[m\u001b[m\n",
      "\u001b[31mMakefile\u001b[m\u001b[m                 fit_schechter.cpp        \u001b[31moption_demultipliate.cpp\u001b[m\u001b[m\n",
      "PDF.cpp                  flt.cpp                  photoz_lib.cpp\n",
      "PDF.h                    \u001b[31mflt.h\u001b[m\u001b[m                    photoz_lib.h\n",
      "SED.cpp                  globals.cpp              \u001b[31mread_LFdata.cpp\u001b[m\u001b[m\n",
      "SED.h                    globals.h                read_params.h\n",
      "SEDLib.cpp               keyword.cpp              \u001b[31mschechterFCN.cpp\u001b[m\u001b[m\n",
      "SEDLib.h                 \u001b[31mkeyword.h\u001b[m\u001b[m                \u001b[31mschechterFCN.h\u001b[m\u001b[m\n",
      "_bindings.cc             mag.cpp                  \u001b[31mschechterFunc.cpp\u001b[m\u001b[m\n",
      "cosmology.cpp            mag.h                    \u001b[31mschechterFunc.h\u001b[m\u001b[m\n",
      "cosmology.h              \u001b[31mmag_gal.cpp\u001b[m\u001b[m              \u001b[31msedtolib.cpp\u001b[m\u001b[m\n",
      "ext.cpp                  minimizationSchech.cpp   \u001b[31msplit_double.cpp\u001b[m\u001b[m\n",
      "\u001b[31mext.h\u001b[m\u001b[m                    oneElLambda.cpp          \u001b[31mssfrparaFCN.cpp\u001b[m\u001b[m\n",
      "ext_curv.cpp             \u001b[31moneElLambda.h\u001b[m\u001b[m            \u001b[31mssfrparaFCN.h\u001b[m\u001b[m\n",
      "\u001b[31mfilter.cpp\u001b[m\u001b[m               onesource.cpp            \u001b[31mstrtodouble.cpp\u001b[m\u001b[m\n",
      "filter_extinc.cpp        onesource.h              \u001b[31mwrite_output_fit.cpp\u001b[m\u001b[m\n",
      "\u001b[31mfind_keyword.cpp\u001b[m\u001b[m         opa.cpp                  zphota.cpp\n"
     ]
    }
   ],
   "source": [
    "!ls $LEPHAREDIR/source/"
   ]
  },
  {
   "cell_type": "code",
   "execution_count": 63,
   "id": "61b6f080-4568-486c-a5f5-86b9afbed5a8",
   "metadata": {},
   "outputs": [],
   "source": [
    "!touch /Users/raphaelshirley/Documents/github/lsst-ir-fusion/dmu6/dmu6_VIDEO/data/8524/48/output.para"
   ]
  },
  {
   "cell_type": "code",
   "execution_count": 86,
   "id": "fc27e1bc-969a-49f5-9687-396cadca0145",
   "metadata": {},
   "outputs": [
    {
     "name": "stdout",
     "output_type": "stream",
     "text": [
      "/Users/raphaelshirley/Documents/github/LEPHAREWORK\n"
     ]
    }
   ],
   "source": [
    "!echo $LEPHAREWORK"
   ]
  },
  {
   "cell_type": "code",
   "execution_count": 92,
   "id": "9a294797-8e9e-4a50-b3e8-bb93d52451d4",
   "metadata": {},
   "outputs": [
    {
     "name": "stdout",
     "output_type": "stream",
     "text": [
      "\u001b[34mCMakeFiles\u001b[m\u001b[m \u001b[31mfilter\u001b[m\u001b[m     \u001b[31mmag_gal\u001b[m\u001b[m    \u001b[31msedtolib\u001b[m\u001b[m   \u001b[31mzphota\u001b[m\u001b[m\n"
     ]
    }
   ],
   "source": [
    "!ls $LEPHAREDIR/bin"
   ]
  },
  {
   "cell_type": "code",
   "execution_count": null,
   "id": "6f4a283e-52af-4e24-9715-20824138aba2",
   "metadata": {},
   "outputs": [],
   "source": [
    "#read the filters and compile them into one file stored in $LEPHAREWORK/filt"
   ]
  },
  {
   "cell_type": "code",
   "execution_count": 241,
   "id": "af6af99e-e409-41f5-8196-aa2356ec7eb1",
   "metadata": {},
   "outputs": [
    {
     "name": "stdout",
     "output_type": "stream",
     "text": [
      "Number of keywords read at the command line (excluding -c config): 0\n",
      "Reading keywords from data/8524/48/photoz.para\n",
      "Number of keywords read in the config file: 95\n",
      "#######################################\n",
      "# Build the filter file with the following options: \n",
      "# Config file: data/8524/48/photoz.para\n",
      "# FILTER_REP: /Users/raphaelshirley/Documents/github/LEPHARE/filt\n",
      "# FILTER_LIST: hsc/gHSC.pb hsc/rHSC.pb hsc/iHSC.pb hsc/zHSC.pb hsc/yHSC.pb vista/Z.pb vista/Y.lowres vista/J.lowres vista/H.lowres vista/K.lowres \n",
      "# TRANS_TYPE: 1 1 1 1 1 1 1 1 1 1 \n",
      "# FILTER_CALIB: 0 0 0 0 0 0 0 0 0 0 \n",
      "# FILTER_FILE: /Users/raphaelshirley/Documents/github/LEPHAREWORK/filt/filter_cosmos.dat\n",
      "# FILTER_FILE.doc: /Users/raphaelshirley/Documents/github/LEPHAREWORK/filt/filter_cosmos.doc\n",
      "#######################################\n",
      "# NAME                        IDENT      Lbda_mean Lbeff(Vega)       FWHM     AB-cor    TG-cor      VEGA M_sun(AB)   CALIB      Lb_eff    Fac_corr\n",
      "hsc/gHSC.pb                   1             0.4816      0.4724      0.1387   -0.0906   -0.2615  -20.7063    5.0956       0      0.4744      1.0000\n",
      "hsc/rHSC.pb                   2             0.6210      0.6110      0.1546    0.1403    0.2485  -21.4968    4.6570       0      0.6146      1.0000\n",
      "hsc/iHSC.pb                   3             0.7691      0.7612      0.1469    0.3900    0.6088  -22.2173    4.5331       0      0.7641      1.0000\n",
      "hsc/zHSC.pb                   4             0.8909      0.8901      0.0767    0.5174    0.7629  -22.6722    4.5149       0      0.8897      1.0000\n",
      "hsc/yHSC.pb                   5             0.9791      0.9761      0.0787    0.5522    0.7756  -22.9111    4.5081       0      0.9772      1.0000\n",
      "vista/Z.pb                    6             3.8402      0.8725      0.0977    0.5252  -99.0000  -23.1185    4.5212       0      0.9134      0.9999\n",
      "vista/Y.lowres                7             1.0214      1.0187      0.0924    0.6033    0.8166  -23.0545    4.5128       0      1.0197      1.0000\n",
      "vista/J.lowres                8             1.2534      1.2460      0.1718    0.9199  -99.0000  -23.8130    4.5634       0      1.2493      1.0000\n",
      "vista/H.lowres                9             1.6454      1.6308      0.2903    1.3663  -99.0000  -24.8468    4.7016       0      1.6365      1.0000\n",
      "vista/K.lowres                10            2.1539      2.1397      0.3076    1.8301  -99.0000  -25.8985    5.1285       0      2.1464      1.0000\n",
      "Times to run the code in sec: 0.1445\n"
     ]
    }
   ],
   "source": [
    "!$LEPHAREDIR/bin/filter -c data/8524/48/photoz.para"
   ]
  },
  {
   "cell_type": "code",
   "execution_count": 242,
   "id": "5c67c206-cc44-44c6-a66a-8cfe2c2b8d90",
   "metadata": {},
   "outputs": [
    {
     "name": "stdout",
     "output_type": "stream",
     "text": [
      "total 400\n",
      "drwxr-xr-x  4 raphaelshirley  staff     128 18 Jan 14:17 \u001b[34m.\u001b[m\u001b[m\n",
      "drwxr-xr-x  6 raphaelshirley  staff     192 18 Jan 14:16 \u001b[34m..\u001b[m\u001b[m\n",
      "-rw-r--r--@ 1 raphaelshirley  staff  164566 18 Jan 17:18 filter_cosmos.dat\n",
      "-rw-r--r--@ 1 raphaelshirley  staff    1349 18 Jan 17:18 filter_cosmos.doc\n"
     ]
    }
   ],
   "source": [
    "!ls -al $LEPHAREWORK/filt"
   ]
  },
  {
   "cell_type": "code",
   "execution_count": null,
   "id": "781a7a2d-7a15-43af-ae90-8fdf8f69b34e",
   "metadata": {},
   "outputs": [],
   "source": [
    "#This file must exist to be written to\n",
    "!touch /Users/raphaelshirley/Documents/github/lsst-ir-fusion/dmu6/dmu6_VIDEO/data/8524/48/output.para"
   ]
  },
  {
   "cell_type": "code",
   "execution_count": null,
   "id": "c24f37f7-9ee5-48dd-8bb7-679156515280",
   "metadata": {},
   "outputs": [],
   "source": [
    "#read the galaxy templates (as used in Ilbert et al. 2013)and store them in $LEPHAREWORK/lib_bin"
   ]
  },
  {
   "cell_type": "code",
   "execution_count": null,
   "id": "3abe61df-bf82-427c-9cb2-108ec586b1d5",
   "metadata": {},
   "outputs": [],
   "source": [
    "!touch COSMOS_MOD.list"
   ]
  },
  {
   "cell_type": "code",
   "execution_count": 150,
   "id": "9a775482-35ba-4aab-9863-a81fc8341f31",
   "metadata": {},
   "outputs": [
    {
     "name": "stdout",
     "output_type": "stream",
     "text": [
      "total 58472\n",
      "drwxr-xr-x  17 raphaelshirley  staff       544 17 Jan 14:48 \u001b[34m.\u001b[m\u001b[m\n",
      "drwxr-xr-x   8 raphaelshirley  staff       256  7 Dec 14:38 \u001b[34m..\u001b[m\u001b[m\n",
      "-rw-r--r--@  1 raphaelshirley  staff      8196  3 Jan 13:26 .DS_Store\n",
      "drwxr-xr-x   8 raphaelshirley  staff       256  3 Jan 13:25 \u001b[34m.ipynb_checkpoints\u001b[m\u001b[m\n",
      "-rw-r--r--@  1 raphaelshirley  staff     54512  2 Aug 13:09 0_Basic_table operations.ipynb\n",
      "-rw-r--r--@  1 raphaelshirley  staff    809846  2 Sep 15:45 1_Make_sxds_photoz_input.ipynb\n",
      "-rw-r--r--   1 raphaelshirley  staff    183094 17 Jan 14:48 2_Run_lephare.ipynb\n",
      "-rw-r--r--   1 raphaelshirley  staff         0 17 Jan 14:44 COSMOS_MOD.list\n",
      "drwxr-xr-x@ 66 raphaelshirley  staff      2112 14 Nov 11:49 \u001b[34mdata\u001b[m\u001b[m\n",
      "drwxr-xr-x   5 raphaelshirley  staff       160  3 Aug 13:51 \u001b[34mfigs\u001b[m\u001b[m\n",
      "drwxr-xr-x  22 raphaelshirley  staff       704 12 Oct  2021 \u001b[34mfilters\u001b[m\u001b[m\n",
      "-rw-r--r--   1 raphaelshirley  staff  25397625 11 Jul  2022 lsst_ir_fusion_sxds_photoz_input_specz_sample_20220704.dat\n",
      "-rw-r--r--   1 raphaelshirley  staff    658979 14 Dec 16:41 output.txt\n",
      "-rw-r--r--   1 raphaelshirley  staff    769106 14 Dec 17:38 output_20221214.txt\n",
      "-rw-r--r--   1 raphaelshirley  staff    769036  3 Jan 14:39 output_20230103.txt\n",
      "-rw-r--r--   1 raphaelshirley  staff   1268907 17 Jan 14:26 output_20230117.txt\n",
      "-rw-r--r--@  1 raphaelshirley  staff      1698 12 Oct  2021 params_sxds.py\n"
     ]
    }
   ],
   "source": [
    "!ls -al"
   ]
  },
  {
   "cell_type": "code",
   "execution_count": 244,
   "id": "72f8f4a0-5651-41c4-955b-9489fdb5941d",
   "metadata": {},
   "outputs": [
    {
     "name": "stdout",
     "output_type": "stream",
     "text": [
      "Number of keywords read at the command line (excluding -c config): 3\n",
      "Reading keywords from data/8524/48/photoz.para\n",
      "Number of keywords read in the config file: 95\n",
      "Keyword SEL_AGE not provided \n",
      "#######################################\n",
      "# It s translating SEDs to binary library #\n",
      "# with the following options :           \n",
      "# Config file     : data/8524/48/photoz.para\n",
      "# Library type     : GAL\n",
      "# GAL_SED    :COSMOS_MOD.list\n",
      "# GAL_LIB    :LIB_VISTA\n",
      "# GAL_LIB doc:/Users/raphaelshirley/Documents/github/LEPHAREWORK/lib_bin/LIB_VISTA.doc\n",
      "# GAL_LIB phys:/Users/raphaelshirley/Documents/github/LEPHAREWORK/lib_bin/LIB_VISTA.phys\n",
      "# SEL_AGE    :none\n",
      "# GAL_FSCALE :1\n",
      "# AGE_RANGE   0 1.5e+10\n",
      "#######################################\n",
      "Number of SED in the list 31\n",
      "\n",
      "Times to run the code in sec: 0.096428\n"
     ]
    }
   ],
   "source": [
    "!$LEPHAREDIR/bin/sedtolib -c data/8524/48/photoz.para -t G -GAL_SED $LEPHAREDIR/examples/COSMOS_MOD.list  -GAL_LIB LIB_VISTA"
   ]
  },
  {
   "cell_type": "code",
   "execution_count": null,
   "id": "71d59904-cca9-4afd-a2f1-73d4dffced95",
   "metadata": {},
   "outputs": [],
   "source": [
    "#use the galaxy templates + filters to derive a library of predicted magnitudes and store \n",
    "#it in $WORK/lib_mag (the parameters correspond to enabling emission lines correlated to UV light + \n",
    "#free factor in scaling these lines, more information in LePhare_documentation.pdf)"
   ]
  },
  {
   "cell_type": "code",
   "execution_count": 249,
   "id": "fc9ff723-281e-4c9e-8716-579393ad3222",
   "metadata": {},
   "outputs": [
    {
     "name": "stderr",
     "output_type": "stream",
     "text": [
      "IOPub data rate exceeded.\n",
      "The Jupyter server will temporarily stop sending output\n",
      "to the client in order to avoid crashing it.\n",
      "To change this limit, set the config variable\n",
      "`--ServerApp.iopub_data_rate_limit`.\n",
      "\n",
      "Current values:\n",
      "ServerApp.iopub_data_rate_limit=1000000.0 (bytes/sec)\n",
      "ServerApp.rate_limit_window=3.0 (secs)\n",
      "\n"
     ]
    }
   ],
   "source": [
    "#This may need to be run at the terminal due to a data rate limit\n",
    "%%bash\n",
    "$LEPHAREDIR/bin/mag_gal  \\\n",
    "    -c data/8524/48/photoz.para -t G -GAL_LIB_IN LIB_VISTA -GAL_LIB_OUT VISTA_COSMOS_FREE \\\n",
    "    -MOD_EXTINC 18,26,26,33,26,33,26,33 \\\n",
    "    -EXTINC_LAW SMC_prevot.dat,SB_calzetti.dat,SB_calzetti_bump1.dat,SB_calzetti_bump2.dat \\\n",
    "    -EM_LINES EMP_UV  -EM_DISPERSION 0.5,0.75,1.,1.5,2. -Z_STEP 0.04,0,6"
   ]
  },
  {
   "cell_type": "code",
   "execution_count": null,
   "id": "9848113d-085c-46c7-825f-515b8c9a8513",
   "metadata": {},
   "outputs": [],
   "source": [
    "#proceed in the same way for stellar and QSO templates"
   ]
  },
  {
   "cell_type": "code",
   "execution_count": 261,
   "id": "adc18d2a-3951-4cc8-9822-349987ab058e",
   "metadata": {},
   "outputs": [
    {
     "name": "stdout",
     "output_type": "stream",
     "text": [
      "Number of keywords read at the command line (excluding -c config): 2\n",
      "Reading keywords from data/8524/48/photoz.para\n",
      "Number of keywords read in the config file: 95\n",
      "Keyword SEL_AGE not provided \n",
      "#######################################\n",
      "# It s translating SEDs to binary library #\n",
      "# with the following options :           \n",
      "# Config file     : data/8524/48/photoz.para\n",
      "# Library type     : STAR\n",
      "# STAR_SED    :/Users/raphaelshirley/Documents/github/LEPHARE/examples/STAR_MOD_ALL.list\n",
      "# STAR_LIB    :LIB_STAR\n",
      "# STAR_LIB doc:/Users/raphaelshirley/Documents/github/LEPHAREWORK/lib_bin/LIB_STAR.doc\n",
      "# STAR_FSCALE :3.432e-09\n",
      "#######################################\n",
      "Number of SED in the list 254\n",
      "\n",
      "Times to run the code in sec: 1.01563\n",
      "Running with OpenMP on 4 threads!\n",
      "Number of keywords read at the command line (excluding -c config): 3\n",
      "Reading keywords from data/8524/48/photoz.para\n",
      "Number of keywords read in the config file: 95\n",
      " All files opened \n",
      "#######################################\n",
      "# It s computing the SYNTHETIC MAGNITUDES #\n",
      "# For Gal/QSO libraries with these OPTIONS #\n",
      "# with the following options :           \n",
      "# Config file     : data/8524/48/photoz.para\n",
      "# Filter file     : filter_cosmos\n",
      "# Magnitude type     : AB\n",
      "# STAR_LIB_IN    :/Users/raphaelshirley/Documents/github/LEPHAREWORK/lib_bin/LIB_STAR(.doc & .bin)\n",
      "# STAR_LIB_OUT   :/Users/raphaelshirley/Documents/github/LEPHAREWORK/lib_mag/ALLSTAR_COSMOS(.doc & .bin)\n",
      "# LIB_ASCII   YES\n",
      "# CREATION_DATE Thu Jan 19 13:08:45 2023\n",
      "#############################################\n",
      " Read SED MOD_254 z      0  \n",
      "Start to compute the star modeled magnitudes \n",
      "\n",
      "Times to run the code in sec: 1.31343\n",
      "Number of keywords read at the command line (excluding -c config): 2\n",
      "Reading keywords from data/8524/48/photoz.para\n",
      "Number of keywords read in the config file: 95\n",
      "Keyword SEL_AGE not provided \n",
      "#######################################\n",
      "# It s translating SEDs to binary library #\n",
      "# with the following options :           \n",
      "# Config file     : data/8524/48/photoz.para\n",
      "# Library type     : QSO\n",
      "# QSO_SED    :/Users/raphaelshirley/Documents/github/LEPHARE/sed/QSO/SALVATO09/AGN_MOD.list\n",
      "# QSO_LIB    :LIB_QSO\n",
      "# QSO_LIB doc:/Users/raphaelshirley/Documents/github/LEPHAREWORK/lib_bin/LIB_QSO.doc\n",
      "# QSO_FSCALE :1\n",
      "#######################################\n",
      "Number of SED in the list 14\n",
      "\n",
      "Times to run the code in sec: 0.047467\n",
      "Running with OpenMP on 4 threads!\n",
      "Number of keywords read at the command line (excluding -c config): 6\n",
      "Reading keywords from data/8524/48/photoz.para\n",
      "Number of keywords read in the config file: 95\n",
      " All files opened \n",
      "#######################################\n",
      "# It s computing the SYNTHETIC MAGNITUDES #\n",
      "# For Gal/QSO libraries with these OPTIONS #\n",
      "# with the following options :           \n",
      "# Config file     : data/8524/48/photoz.para\n",
      "# Filter file     : filter_cosmos\n",
      "# Magnitude type     : AB\n",
      "# QSO_LIB_IN    :/Users/raphaelshirley/Documents/github/LEPHAREWORK/lib_bin/LIB_QSO(.doc & .bin)\n",
      "# QSO_LIB_OUT   :/Users/raphaelshirley/Documents/github/LEPHAREWORK/lib_mag/QSO_COSMOS(.doc & .bin)\n",
      "# ZGRID_TYPE   :0\n",
      "# Z_STEP   :0.04 0 6\n",
      "# COSMOLOGY   :70 0.3 0.7\n",
      "# EXTINC_LAW   :SB_calzetti.dat \n",
      "# MOD_EXTINC   :0 1000 \n",
      "# EB_V   :0 0.1 0.2 0.3 # LIB_ASCII   NO\n",
      "# CREATION_DATE Thu Jan 19 13:08:47 2023\n",
      "#############################################\n",
      " SED MOD_14 z      6 Ext law SB_calzetti.dat  E(B-V) 0.3  \n",
      "Start to compute the QSO modeled magnitudes \n",
      "\n",
      "Times to run the code in sec: 4.48167\n"
     ]
    }
   ],
   "source": [
    "%%bash\n",
    "$LEPHAREDIR/bin/sedtolib -c data/8524/48/photoz.para -t S -STAR_SED $LEPHAREDIR/examples/STAR_MOD_ALL.list\n",
    "$LEPHAREDIR/bin/mag_gal -c data/8524/48/photoz.para -t S -LIB_ASCII YES -STAR_LIB_OUT ALLSTAR_COSMOS \n",
    "# AGN models from Salvato 2009\n",
    "$LEPHAREDIR/bin/sedtolib -c data/8524/48/photoz.para -t Q -QSO_SED  $LEPHAREDIR/sed/QSO/SALVATO09/AGN_MOD.list\n",
    "$LEPHAREDIR/bin/mag_gal -c data/8524/48/photoz.para -t Q -MOD_EXTINC 0,1000  -EB_V 0.,0.1,0.2,0.3 \\\n",
    "    -EXTINC_LAW SB_calzetti.dat -LIB_ASCII NO  -Z_STEP 0.04,0,6\n"
   ]
  },
  {
   "cell_type": "code",
   "execution_count": 263,
   "id": "edb6ec0c-4c40-4e73-9203-e9aeff516ede",
   "metadata": {},
   "outputs": [
    {
     "name": "stdout",
     "output_type": "stream",
     "text": [
      "total 700888\n",
      "drwxr-xr-x  9 raphaelshirley  staff        288  3 Oct 14:43 \u001b[34m.\u001b[m\u001b[m\n",
      "drwxr-xr-x  6 raphaelshirley  staff        192 18 Jan 14:16 \u001b[34m..\u001b[m\u001b[m\n",
      "-rw-r--r--  1 raphaelshirley  staff   18053280 19 Jan 13:08 ALLSTAR_COSMOS.bin\n",
      "-rw-r--r--  1 raphaelshirley  staff      29946 19 Jan 13:08 ALLSTAR_COSMOS.dat\n",
      "-rw-r--r--  1 raphaelshirley  staff        642 19 Jan 13:08 ALLSTAR_COSMOS.doc\n",
      "-rw-r--r--  1 raphaelshirley  staff    3284064 19 Jan 13:08 QSO_COSMOS.bin\n",
      "-rw-r--r--  1 raphaelshirley  staff        615 19 Jan 13:08 QSO_COSMOS.doc\n",
      "-rw-r--r--  1 raphaelshirley  staff  334060800 19 Jan 12:52 VISTA_COSMOS_FREE.bin\n",
      "-rw-r--r--  1 raphaelshirley  staff        732 19 Jan 12:52 VISTA_COSMOS_FREE.doc\n"
     ]
    }
   ],
   "source": [
    "!ls -al $LEPHAREWORK/lib_mag"
   ]
  },
  {
   "cell_type": "code",
   "execution_count": 276,
   "id": "160f1bb3-b218-4355-b31f-aa45891aa398",
   "metadata": {},
   "outputs": [
    {
     "name": "stdout",
     "output_type": "stream",
     "text": [
      "total 39776\n",
      "drwxr-xr-x  9 raphaelshirley  staff       288  3 Oct 14:42 \u001b[34m.\u001b[m\u001b[m\n",
      "drwxr-xr-x  6 raphaelshirley  staff       192 18 Jan 14:16 \u001b[34m..\u001b[m\u001b[m\n",
      "-rw-r--r--  1 raphaelshirley  staff    398608 19 Jan 13:08 LIB_QSO.bin\n",
      "-rw-r--r--  1 raphaelshirley  staff      1915 19 Jan 13:08 LIB_QSO.doc\n",
      "-rw-r--r--  1 raphaelshirley  staff  18037024 19 Jan 13:08 LIB_STAR.bin\n",
      "-rw-r--r--  1 raphaelshirley  staff     28957 19 Jan 13:08 LIB_STAR.doc\n",
      "-rw-r--r--  1 raphaelshirley  staff    878168 18 Jan 17:21 LIB_VISTA.bin\n",
      "-rw-r--r--  1 raphaelshirley  staff      3624 18 Jan 17:21 LIB_VISTA.doc\n",
      "-rw-r--r--  1 raphaelshirley  staff      4867 18 Jan 17:21 LIB_VISTA.phys\n"
     ]
    }
   ],
   "source": [
    "!ls -al $LEPHAREWORK/lib_bin"
   ]
  },
  {
   "cell_type": "code",
   "execution_count": 277,
   "id": "48c60859-ea14-4247-ad03-da7c5931b603",
   "metadata": {},
   "outputs": [
    {
     "name": "stdout",
     "output_type": "stream",
     "text": [
      "total 400\n",
      "drwxr-xr-x  4 raphaelshirley  staff     128 18 Jan 14:17 \u001b[34m.\u001b[m\u001b[m\n",
      "drwxr-xr-x  6 raphaelshirley  staff     192 18 Jan 14:16 \u001b[34m..\u001b[m\u001b[m\n",
      "-rw-r--r--@ 1 raphaelshirley  staff  164566 18 Jan 17:18 filter_cosmos.dat\n",
      "-rw-r--r--@ 1 raphaelshirley  staff    1349 18 Jan 17:18 filter_cosmos.doc\n"
     ]
    }
   ],
   "source": [
    "!ls -al $LEPHAREWORK/filt"
   ]
  },
  {
   "cell_type": "code",
   "execution_count": 274,
   "id": "2c456f23-2821-4a63-8c4c-6bf5ec0d3a30",
   "metadata": {},
   "outputs": [
    {
     "name": "stdout",
     "output_type": "stream",
     "text": [
      "total 16\n",
      "drwxr-xr-x   6 raphaelshirley  staff   192 18 Jan 14:16 \u001b[34m.\u001b[m\u001b[m\n",
      "drwxr-xr-x  37 raphaelshirley  staff  1184 20 Sep 11:43 \u001b[34m..\u001b[m\u001b[m\n",
      "-rw-r--r--@  1 raphaelshirley  staff  6148 18 Jan 18:46 .DS_Store\n",
      "drwxr-xr-x   4 raphaelshirley  staff   128 18 Jan 14:17 \u001b[34mfilt\u001b[m\u001b[m\n",
      "drwxr-xr-x   9 raphaelshirley  staff   288  3 Oct 14:42 \u001b[34mlib_bin\u001b[m\u001b[m\n",
      "drwxr-xr-x   9 raphaelshirley  staff   288  3 Oct 14:43 \u001b[34mlib_mag\u001b[m\u001b[m\n"
     ]
    }
   ],
   "source": [
    "!ls -al $LEPHAREWORK"
   ]
  },
  {
   "cell_type": "code",
   "execution_count": 278,
   "id": "79468a77-bbf8-4b6a-8271-fa8df508c56c",
   "metadata": {},
   "outputs": [],
   "source": [
    "%%bash --out t\n",
    "$LEPHAREDIR/bin/zphota \\\n",
    "    -c data/8524/48/photoz.para \\\n",
    "    -CAT_IN data/8524/48/photoz.in \\\n",
    "    -CAT_OUT data/8524/48/zphot_short.out \\\n",
    "    -PARA_OUT data/8524/48/output.para \\\n",
    "    -ZPHOTLIB VISTA_COSMOS_FREE,ALLSTAR_COSMOS,QSO_COSMOS \\\n",
    "    -ADD_EMLINES 0,100 \\\n",
    "    -AUTO_ADAPT NO \\\n",
    "    -Z_STEP 0.04,0,6"
   ]
  },
  {
   "cell_type": "code",
   "execution_count": 279,
   "id": "b68d48c4-d85d-4b73-8862-2bc6dcef6e75",
   "metadata": {},
   "outputs": [],
   "source": [
    "#t"
   ]
  },
  {
   "cell_type": "code",
   "execution_count": 280,
   "id": "c40d319f-3320-43f0-a363-693cd62144e7",
   "metadata": {},
   "outputs": [
    {
     "name": "stdout",
     "output_type": "stream",
     "text": [
      "total 43264\n",
      "drwxrwxrwx  10 raphaelshirley  staff       320 17 Jan 14:12 \u001b[30m\u001b[43m.\u001b[m\u001b[m\n",
      "drwxr-xr-x   4 raphaelshirley  staff       128  6 Dec 15:31 \u001b[34m..\u001b[m\u001b[m\n",
      "-rw-r--r--@  1 raphaelshirley  staff      6148  3 Jan 13:27 .DS_Store\n",
      "-rw-r--r--@  1 raphaelshirley  staff      3210 26 Sep 15:20 COSMOS.in.header\n",
      "-rwxrwxrwx@  1 raphaelshirley  staff      1847 19 Jan 13:35 \u001b[31moutput.para\u001b[m\u001b[m\n",
      "-rw-r--r--@  1 raphaelshirley  staff       272 18 Jan 17:15 photoz.header\n",
      "-rw-r--r--@  1 raphaelshirley  staff   4414724 18 Jan 17:13 photoz.in\n",
      "-rw-r--r--@  1 raphaelshirley  staff     12108 19 Jan 13:28 photoz.para\n",
      "-rw-r--r--   1 raphaelshirley  staff   1117440 13 Jan 15:29 photoz_in.fits\n",
      "-rw-r--r--@  1 raphaelshirley  staff  15170817 19 Jan 13:40 zphot_short.out\n"
     ]
    }
   ],
   "source": [
    "!ls -al data/8524/48/"
   ]
  },
  {
   "cell_type": "code",
   "execution_count": 281,
   "id": "640d8338-b178-4984-99c6-8cf876d91569",
   "metadata": {},
   "outputs": [],
   "source": [
    "with open('./data/8524/48/output_{}.txt'.format(time.strftime(\"%Y%m%d\")),'w+') as f:\n",
    "    f.write(t)\n",
    "f.close()"
   ]
  },
  {
   "cell_type": "code",
   "execution_count": 282,
   "id": "76934b84-05af-4bab-8d0d-20f9b6871043",
   "metadata": {},
   "outputs": [
    {
     "name": "stdout",
     "output_type": "stream",
     "text": [
      "\n",
      "Starting times in sec: 0.011886\n",
      "local:     Thu Jan 19 13:35:29 2023\n",
      "\n",
      "Number of keywords read at the command line (excluding -c config): 7\n",
      "Reading keywords from data/8524/48/photoz.para\n",
      "Number of keywords read in the config file: 95\n",
      "Keyword MASS_SCALE not provided \n",
      "Keyword NZ_PRIOR not provided \n",
      "Keyword RM_DISCREPENT_BD not provided \n",
      "Keyword PROB_INTZ not provided \n",
      "Keyword M_REF not provided \n",
      "Keyword APPLY_SYSSHIFT not provided \n",
      "Keyword PDZ_TYPE not provided \n",
      "####################################### \n",
      "# PHOTOMETRIC REDSHIFT with OPTIONS   # \n",
      "# Config file            : data/8524/48/photoz.para\n",
      "# CAT_IN                 : data/8524/48/photoz.in\n",
      "# CAT_OUT                : data/8524/48/zphot_short.out\n",
      "# CAT_LINES              : 0 1000000000\n",
      "# PARA_OUT               : data/8524/48/output.para\n",
      "# INP_TYPE               : F\n",
      "# CAT_FMT[0:MEME 1:MMEE] : 0\n",
      "# CAT_MAG                : AB\n",
      "# ZPHOTLIB               : VISTA_COSMOS_FREE ALLSTAR_COSMOS QSO_COSMOS \n",
      "# FIR_LIB                : \n",
      "# FIR_LMIN               : 7.000000\n",
      "# FIR_CONT               : -1.000000\n",
      "# FIR_SCALE              : -1.000000\n",
      "# FIR_FREESCALE          : YES\n",
      "# FIR_SUBSTELLAR         : NO\n",
      "# ERR_SCALE              : 0.020000 0.020000 0.020000 0.020000 0.020000 0.020000 0.020000 0.050000 0.050000 0.050000 \n",
      "# ERR_FACTOR             : 1.500000 1.500000 1.500000 1.500000 1.500000 1.500000 1.500000 1.500000 1.500000 1.500000 \n",
      "# BD_SCALE               : 0\n",
      "# GLB_CONTEXT            : 0\n",
      "# FORB_CONTEXT           : -1\n",
      "# DZ_WIN                 : 0.300000\n",
      "# MIN_THRES              : 0.020000\n",
      "# MASS_SCALE             : 0.000000 0.000000\n",
      "# MAG_ABS                : -24.000000 -5.000000\n",
      "# MAG_ABS_AGN            : -30.000000 -10.000000\n",
      "# MAG_REF                : 1\n",
      "# NZ_PRIOR               : -2 -2\n",
      "# Z_INTERP               : YES\n",
      "# Z_METHOD               : BEST\n",
      "# PROB_INTZ              : 0.000000 \n",
      "# MABS_METHOD            : 1\n",
      "# MABS_CONTEXT           : 2281702809 \n",
      "# MABS_REF               : 10 \n",
      "# ADAPT_BAND             : 4\n",
      "# ADAPT_LIM              : 1.500000 20.500000\n",
      "# ADAPT_ZBIN             : 0.010000 6.000000\n",
      "# ZFIX                   : NO\n",
      "# SPEC_OUT               : NO\n",
      "# CHI_OUT               : NO\n",
      "# PDZ_OUT                : NONE\n",
      "####################################### \n",
      "Reading input librairies ...\n",
      "Read lib \n",
      "Number of keywords to be read in the doc: 14\n",
      "Number of keywords read at the command line (excluding -c config): 0\n",
      "Reading keywords from /Users/raphaelshirley/Documents/github/LEPHAREWORK/lib_mag/QSO_COSMOS.doc\n",
      "Number of keywords read in the config file: 18\n",
      "Keyword NUMBER_SED not provided \n",
      "Keyword Z_FORM not provided \n",
      "Reading library: /Users/raphaelshirley/Documents/github/LEPHAREWORK/lib_mag/QSO_COSMOS.bin\n",
      " Done with the library reading \n",
      "Number of keywords to be read in the doc: 14\n",
      "Number of keywords read at the command line (excluding -c config): 0\n",
      "Reading keywords from /Users/raphaelshirley/Documents/github/LEPHAREWORK/lib_mag/ALLSTAR_COSMOS.doc\n",
      "Number of keywords read in the config file: 18\n",
      "Keyword NUMBER_SED not provided \n",
      "Keyword Z_FORM not provided \n",
      "Reading library: /Users/raphaelshirley/Documents/github/LEPHAREWORK/lib_mag/ALLSTAR_COSMOS.bin\n",
      " Done with the library reading \n",
      "Number of keywords to be read in the doc: 14\n",
      "Number of keywords read at the command line (excluding -c config): 0\n",
      "Reading keywords from /Users/raphaelshirley/Documents/github/LEPHAREWORK/lib_mag/VISTA_COSMOS_FREE.doc\n",
      "Number of keywords read in the config file: 18\n",
      "Keyword NUMBER_SED not provided \n",
      "Keyword Z_FORM not provided \n",
      "Reading library: /Users/raphaelshirley/Documents/github/LEPHAREWORK/lib_mag/VISTA_COSMOS_FREE.bin\n",
      " Done with the library reading \n",
      "Read lib out \n",
      "Read filt \n",
      "# NAME                        IDENT      Lbda_mean Lbeff(Vega)       FWHM     AB-cor      VEGA   CALIB    Fac_corr\n",
      "hsc/gHSC.pb                   1             0.4816      0.4724      0.1387   -0.0906  -20.7100       0      1.0000\n",
      "hsc/rHSC.pb                   2             0.6210      0.6110      0.1546    0.1403  -21.5000       0      1.0000\n",
      "hsc/iHSC.pb                   3             0.7691      0.7612      0.1469    0.3900  -22.2200       0      1.0000\n",
      "hsc/zHSC.pb                   4             0.8909      0.8901      0.0767    0.5174  -22.6700       0      1.0000\n",
      "hsc/yHSC.pb                   5             0.9791      0.9761      0.0788    0.5522  -22.9100       0      1.0000\n",
      "vista/Z.pb                    6             3.8400      0.8725      0.0977    0.5252  -23.1200       0      0.9999\n",
      "vista/Y.lowres                7             1.0210      1.0190      0.0925    0.6033  -23.0500       0      1.0000\n",
      "vista/J.lowres                8             1.2530      1.2460      0.1718    0.9199  -23.8100       0      1.0000\n",
      "vista/H.lowres                9             1.6450      1.6310      0.2903    1.3660  -24.8500       0      1.0000\n",
      "vista/K.lowres                10            2.1540      2.1400      0.3076    1.8300  -25.9000       0      1.0000\n",
      "# NAME                        IDENT      Lbda_mean Lbeff(Vega)       FWHM     AB-cor      VEGA   CALIB    Fac_corr\n",
      " Read source 3036815931545223872 spectro-z -99.9000 \n"
     ]
    }
   ],
   "source": [
    "print(t[0:30000])"
   ]
  },
  {
   "cell_type": "code",
   "execution_count": 257,
   "id": "6837870e-5a19-435a-9eb8-110c4a787b08",
   "metadata": {},
   "outputs": [
    {
     "name": "stdout",
     "output_type": "stream",
     "text": [
      "total 12560\n",
      "drwxrwxrwx  10 raphaelshirley  staff      320 17 Jan 14:12 \u001b[30m\u001b[43m.\u001b[m\u001b[m\n",
      "drwxr-xr-x   4 raphaelshirley  staff      128  6 Dec 15:31 \u001b[34m..\u001b[m\u001b[m\n",
      "-rw-r--r--@  1 raphaelshirley  staff     6148  3 Jan 13:27 .DS_Store\n",
      "-rw-r--r--@  1 raphaelshirley  staff     3210 26 Sep 15:20 COSMOS.in.header\n",
      "-rwxrwxrwx   1 raphaelshirley  staff        0  3 Jan 13:38 \u001b[31moutput.para\u001b[m\u001b[m\n",
      "-rw-r--r--@  1 raphaelshirley  staff      272 18 Jan 17:15 photoz.header\n",
      "-rw-r--r--@  1 raphaelshirley  staff  4414724 18 Jan 17:13 photoz.in\n",
      "-rw-r--r--@  1 raphaelshirley  staff    12021 18 Jan 17:17 photoz.para\n",
      "-rw-r--r--   1 raphaelshirley  staff  1117440 13 Jan 15:29 photoz_in.fits\n",
      "-rw-r--r--@  1 raphaelshirley  staff    12431 19 Jan 13:00 zphot_short.out\n"
     ]
    }
   ],
   "source": [
    "!ls -al data/8524/48/"
   ]
  },
  {
   "cell_type": "code",
   "execution_count": 283,
   "id": "9c463b78-ab95-4752-bf1f-4567946fc47d",
   "metadata": {},
   "outputs": [],
   "source": [
    "out=Table.read('./data/8524/48/zphot_short.out',format='ascii.csv')"
   ]
  },
  {
   "cell_type": "code",
   "execution_count": 284,
   "id": "3a0c391c-80e9-40e9-a447-61c572315f8b",
   "metadata": {},
   "outputs": [
    {
     "data": {
      "text/html": [
       "<i>Table length=11</i>\n",
       "<table id=\"table140654562867352\" class=\"table-striped table-bordered table-condensed\">\n",
       "<thead><tr><th># Creation date: Thu Jan 19 13:35:29 2023</th></tr></thead>\n",
       "<thead><tr><th>str1430</th></tr></thead>\n",
       "<tr><td>#######################################</td></tr>\n",
       "<tr><td># PHOTOMETRIC REDSHIFT with OPTIONS   #</td></tr>\n",
       "<tr><td># Config file            : data/8524/48/photoz.para</td></tr>\n",
       "<tr><td># CAT_IN                 : data/8524/48/photoz.in</td></tr>\n",
       "<tr><td># CAT_OUT                : data/8524/48/zphot_short.out</td></tr>\n",
       "<tr><td># CAT_LINES              : 0 1000000000</td></tr>\n",
       "<tr><td># PARA_OUT               : data/8524/48/output.para</td></tr>\n",
       "<tr><td># INP_TYPE               : F</td></tr>\n",
       "<tr><td># CAT_FMT[0:MEME 1:MMEE] : 0</td></tr>\n",
       "<tr><td># CAT_MAG                : AB</td></tr>\n",
       "<tr><td># ZPHOTLIB               : VISTA_COSMOS_FREE ALLSTAR_COSMOS QSO_COSMOS</td></tr>\n",
       "</table>"
      ],
      "text/plain": [
       "<Table length=11>\n",
       "              # Creation date: Thu Jan 19 13:35:29 2023               \n",
       "                               str1430                                \n",
       "----------------------------------------------------------------------\n",
       "                               #######################################\n",
       "                               # PHOTOMETRIC REDSHIFT with OPTIONS   #\n",
       "                   # Config file            : data/8524/48/photoz.para\n",
       "                     # CAT_IN                 : data/8524/48/photoz.in\n",
       "               # CAT_OUT                : data/8524/48/zphot_short.out\n",
       "                               # CAT_LINES              : 0 1000000000\n",
       "                   # PARA_OUT               : data/8524/48/output.para\n",
       "                                          # INP_TYPE               : F\n",
       "                                          # CAT_FMT[0:MEME 1:MMEE] : 0\n",
       "                                         # CAT_MAG                : AB\n",
       "# ZPHOTLIB               : VISTA_COSMOS_FREE ALLSTAR_COSMOS QSO_COSMOS"
      ]
     },
     "execution_count": 284,
     "metadata": {},
     "output_type": "execute_result"
    }
   ],
   "source": [
    "out[:11]"
   ]
  },
  {
   "cell_type": "code",
   "execution_count": 285,
   "id": "49ead3eb-f125-4ec3-bccd-cbffa773e856",
   "metadata": {},
   "outputs": [
    {
     "data": {
      "text/html": [
       "<i>Table length=10631</i>\n",
       "<table id=\"table140654562867408\" class=\"table-striped table-bordered table-condensed\">\n",
       "<thead><tr><th># Creation date: Thu Jan 19 13:35:29 2023</th></tr></thead>\n",
       "<thead><tr><th>str1430</th></tr></thead>\n",
       "<tr><td>#######################################</td></tr>\n",
       "<tr><td># PHOTOMETRIC REDSHIFT with OPTIONS   #</td></tr>\n",
       "<tr><td># Config file            : data/8524/48/photoz.para</td></tr>\n",
       "<tr><td># CAT_IN                 : data/8524/48/photoz.in</td></tr>\n",
       "<tr><td># CAT_OUT                : data/8524/48/zphot_short.out</td></tr>\n",
       "<tr><td># CAT_LINES              : 0 1000000000</td></tr>\n",
       "<tr><td># PARA_OUT               : data/8524/48/output.para</td></tr>\n",
       "<tr><td># INP_TYPE               : F</td></tr>\n",
       "<tr><td># CAT_FMT[0:MEME 1:MMEE] : 0</td></tr>\n",
       "<tr><td># CAT_MAG                : AB</td></tr>\n",
       "<tr><td>...</td></tr>\n",
       "<tr><td>3036815931545245448            4.949       4.7860       5.0554       4.5663       2.6416       5.4329    2.11297e+01     18      0        0.500       5.3200    2.31006e+01           19       0.4000       6.0000    1.43610e+01        10008         -155    1.12756e+01     99.000     99.000     99.000     99.000     99.000     24.431     27.724     99.000     25.989     25.715     99.000     99.000     99.000     99.000     99.000      0.147      0.919     99.000      0.467      0.538      21.14687      11.37778       7.38013       6.35248       5.87994       2.57697       5.66037       5.03466       3.86635       2.38656    -23.21886    -23.99440    -24.44924    -24.86116    -25.13262    -24.79420    -25.24127    -25.63852    -26.00329    -25.83793      -1.00000      -1.00000      -1.00000      -1.00000      -1.00000      -1.00000      -1.00000      -1.00000      -1.00000      -1.00000   -1   -1   -1   -1   -1   -1   -1   -1   -1   -1    7.34024e+03    10                0      -99.90000   -9.990e+02   -999.00000   -999.00000   -999.00000    -9995.134   -999.00000   -999.00000   -999.00000      -99.900    -99.90000   -999.00000    -99.90000          nan   -999.00000   -999.00000   -999.00000          nan   -999.00000   -999.00000   -999.00000    0.000e+00   -999.00000   -999.00000   -999.00000      9.91600      9.95000      9.98400   -999.00000   -999.00000   -999.00000       10.595       11.052       10.529</td></tr>\n",
       "<tr><td>3036815931545245449            4.771       0.5169       5.7041       4.7923       1.5168       5.4821    1.69522e+01     31      3        0.400       5.1600    1.71661e+01           31       0.4000       6.0000    1.45864e+01        10008         -119    1.78002e+01     99.000     99.000     26.870     27.520     25.519     24.939     27.970     27.192     25.372     26.910     99.000     99.000      0.408      1.004      0.531      0.208      1.156      0.978      0.263      1.615       7.24449       2.88130       0.72827       0.62606       0.53849       0.52938       0.52964       0.90637       0.27103      -0.47634    -21.99512    -22.40123    -22.51879    -22.72104    -22.82139    -22.68876    -22.85307    -22.98090    -23.12367    -22.91151       3.20341       4.01240       4.59039       4.90888       5.09731       4.86144       5.17710       5.61143       6.04168       6.24943    8    8    8    8    8    8    8    8    8    8    2.47420e+03    10                0      -99.90000   -9.990e+02   -999.00000   -999.00000   -999.00000    -9995.607   -999.00000   -999.00000   -999.00000      -99.900    -99.90000   -999.00000    -99.90000          nan   -999.00000   -999.00000   -999.00000          nan   -999.00000   -999.00000   -999.00000    0.000e+00   -999.00000   -999.00000   -999.00000      9.91600      9.95000      9.98400   -999.00000   -999.00000   -999.00000       10.690       10.121        9.025</td></tr>\n",
       "<tr><td>3036815931545245450            5.841       4.9984       5.9938       4.4991       3.5544       5.6415    8.22394e+01      6      0        0.000       4.5200    8.37681e+01            6       0.0000       6.0000    8.25321e+01        10006         -155    8.03472e+01     99.000     99.000     27.183     27.620     27.042     26.704     99.000     99.000     99.000     26.157     99.000     99.000      0.598      1.131      2.033      1.209     99.000     99.000     99.000      0.809     966.61985      10.91649       8.51639       6.93825       7.14146       3.17701       7.20825       5.98516       4.25533       1.61760    -22.83699    -23.52542    -23.88266    -24.13855    -24.27426    -24.09295    -24.31939    -24.40422    -24.57791    -24.31484      -1.00000      -1.00000      -1.00000      -1.00000      -1.00000      -1.00000      -1.00000      -1.00000      -1.00000      -1.00000   -1   -1   -1   -1   -1   -1   -1   -1   -1   -1    8.94368e+02    10                0      -99.90000   -9.990e+02   -999.00000   -999.00000   -999.00000    -9996.048   -999.00000   -999.00000   -999.00000      -99.900    -99.90000   -999.00000    -99.90000          nan   -999.00000   -999.00000   -999.00000          nan   -999.00000   -999.00000   -999.00000    0.000e+00   -999.00000   -999.00000   -999.00000      9.91600      9.95000      9.98400   -999.00000   -999.00000   -999.00000        8.644       10.372        9.866</td></tr>\n",
       "<tr><td>3036815931545245451            1.968       0.0400       3.2039       2.1021       0.4555       2.8892    5.21933e+01     31      0        0.000       0.0800    5.22368e+01           31       0.0000       0.4800    5.33858e+01        10001         -155    5.09371e+01     30.280     99.000     29.401     27.632     99.000     26.292     99.000     99.000     99.000     99.000      3.687     99.000      4.577      1.142     99.000      0.783     99.000     99.000     99.000     99.000      -1.59005      -1.49494      -1.48693      -1.36071      -1.26916      -1.38244      -1.24057      -1.56414      -1.47131      -1.74875    -14.77423    -14.69540    -14.52289    -14.51793    -14.50770    -14.50807    -14.49214    -14.42108    -14.35560    -13.98249      -1.00000      -1.00000      -1.00000      -1.00000      -1.00000      -1.00000      -1.00000      -1.00000      -1.00000      -1.00000   -1   -1   -1   -1   -1   -1   -1   -1   -1   -1    1.24495e+00    10                0      -99.90000   -9.990e+02   -999.00000   -999.00000   -999.00000    -9998.905   -999.00000   -999.00000   -999.00000      -99.900    -99.90000   -999.00000    -99.90000          nan   -999.00000   -999.00000   -999.00000          nan   -999.00000   -999.00000   -999.00000    0.000e+00   -999.00000   -999.00000   -999.00000      9.91600      9.95000      9.98400   -999.00000   -999.00000   -999.00000        7.392        6.823        5.727</td></tr>\n",
       "<tr><td>3036815931545245452            4.534       4.4844       4.5710       4.6377       4.3934       5.0596    3.97230e+01     18      0        0.500       4.9200    4.35135e+01           19       0.3000       6.0000    1.10242e+01        10008         -155    1.34769e+01     29.515     99.000     99.000     99.000     26.795     24.468     26.483     26.801     25.811     24.655      1.959     99.000     99.000     99.000      1.866      0.097      0.318      0.692      0.398      0.204      14.08347       9.03846       6.73234       5.87899       5.43716       2.56587       5.32898       4.70837       3.52620       1.90646    -23.19753    -23.96856    -24.43283    -24.84475    -25.11621    -24.77780    -25.22487    -25.62212    -25.98689    -25.82152      -1.00000      -1.00000      -1.00000      -1.00000      -1.00000      -1.00000      -1.00000      -1.00000      -1.00000      -1.00000   -1   -1   -1   -1   -1   -1   -1   -1   -1   -1    7.23016e+03    10                0      -99.90000   -9.990e+02   -999.00000   -999.00000   -999.00000    -9995.141   -999.00000   -999.00000   -999.00000      -99.900    -99.90000   -999.00000    -99.90000          nan   -999.00000   -999.00000   -999.00000          nan   -999.00000   -999.00000   -999.00000    0.000e+00   -999.00000   -999.00000   -999.00000      9.91600      9.95000      9.98400   -999.00000   -999.00000   -999.00000       10.588       11.045       10.523</td></tr>\n",
       "<tr><td>3036815931545245453            0.888       0.8242       0.9786       1.3321       0.8959       1.8011    1.62157e+01     28      1        0.500       1.8000    1.67580e+01           26       0.2500       0.8800    1.34253e+01        10011         -125    2.90713e+01     27.160     27.141     27.290     26.196     25.180     25.277     25.543     24.535     24.442     24.256      0.196      0.365      0.676      0.294      0.384      0.105      0.104      0.069      0.096      0.114       1.49058       1.58638       0.61140       0.36826       0.36212       0.43404       0.48146      -0.25792      -0.03439      -0.46939    -16.83465    -18.21941    -18.41230    -18.70129    -18.84253    -18.65994    -18.88817    -19.05240    -19.30562    -19.19434       0.15366       0.34551       0.30274       0.11413       0.39583       0.05831       0.52004       0.98835       1.41860       1.62635    3    7    8    8    8    8    8    8    8    8    9.47778e+01    10                0      -99.90000   -9.990e+02   -999.00000   -999.00000   -999.00000    -9997.023   -999.00000   -999.00000   -999.00000      -99.900    -99.90000   -999.00000    -99.90000          nan   -999.00000   -999.00000   -999.00000          nan   -999.00000   -999.00000   -999.00000    0.000e+00   -999.00000   -999.00000   -999.00000      9.91600      9.95000      9.98400   -999.00000   -999.00000   -999.00000        9.106        8.845        7.847</td></tr>\n",
       "<tr><td>3036815931545245454            1.555       1.5212       1.5842       2.1128       1.6772       2.6351    3.67934e+01     31      1        0.500       1.9200    4.10442e+01           22       0.0000       2.0800    4.39913e+01        10009         -130    4.40565e+01     27.660     27.870     27.250     99.000     26.080     99.000     99.000     26.031     24.241     99.000      0.306      0.677      0.564     99.000      0.796     99.000     99.000      0.333      0.095     99.000       1.12905       1.43581       0.91175       0.93944       0.24700       0.92726       0.49833      -0.11778      -0.65741      -0.54221    -18.68185    -19.78368    -19.59013    -19.84335    -19.97138    -19.80592    -20.01483    -20.19244    -20.38729    -20.21534      -1.00000       0.21841       0.94095       1.35781       1.63950       1.30070       1.76371       2.23198       2.66216       2.86968   -1    8    8    8    8    8    8    8    8    8    3.32550e+02    10                0      -99.90000   -9.990e+02   -999.00000   -999.00000   -999.00000    -9996.478   -999.00000   -999.00000   -999.00000      -99.900    -99.90000   -999.00000    -99.90000          nan   -999.00000   -999.00000   -999.00000          nan   -999.00000   -999.00000   -999.00000    0.000e+00   -999.00000   -999.00000   -999.00000      9.91600      9.95000      9.98400   -999.00000   -999.00000   -999.00000        9.818        9.250        8.153</td></tr>\n",
       "<tr><td>3036815931545245455            1.963       0.0400       2.7550       2.0996       1.5414       2.6031    1.03115e+02     31      0        0.000       2.5200    1.03540e+02           31       0.0000       0.4800    1.10913e+02        10001           -1    9.79751e+01     33.620     99.000     99.000     99.000     99.000     99.000     99.000     25.312     24.462     99.000     74.860     99.000     99.000     99.000     99.000     99.000     99.000      0.140      0.096     99.000      -1.58675      -1.49158      -1.48351      -1.35707      -1.26531      -1.37898      -1.23682      -1.56191      -1.46656      -1.74400    -20.39791    -20.31908    -20.14656    -20.14161    -20.13137    -20.13175    -20.11582    -20.04476    -19.97928    -19.60617       0.64552       0.62950       0.94991       1.36677       1.64847       1.30966       1.77267       2.24095       2.67112       2.87864    8    8    8    8    8    8    8    8    8    8    4.23683e+00    10                0      -99.90000   -9.990e+02   -999.00000   -999.00000   -999.00000    -9998.373   -999.00000   -999.00000   -999.00000      -99.900    -99.90000   -999.00000    -99.90000          nan   -999.00000   -999.00000   -999.00000          nan   -999.00000   -999.00000   -999.00000    0.000e+00   -999.00000   -999.00000   -999.00000      9.91600      9.95000      9.98400   -999.00000   -999.00000   -999.00000        7.923        7.355        6.258</td></tr>\n",
       "<tr><td>3036815931545245456            3.195       3.1122       3.2914       3.2114       3.1018       3.3205    4.60160e+01      7      0        0.000     -99.9000    1.00000e+09          -99     -99.0000       4.9600    4.14424e+01        10006         -170    4.29879e+01     32.043     27.483     27.703     26.257     30.021     99.000     99.000     27.575     23.596     22.560     18.468      0.502      0.911      0.314     32.258     99.000     99.000      1.387      0.051      0.030       5.20904       5.57915       5.58717       4.97386       4.81006       3.55137       4.76727       2.89321       1.38341      -0.20732    -23.12354    -23.85025    -24.23369    -24.51032    -24.65513    -24.46181    -24.70343    -24.79264    -24.97764    -24.71804       1.16762       1.98682       2.70139       3.11825       3.39994       3.06114       3.52415       3.99242       4.42260       4.63012    8    8    8    8    8    8    8    8    8    8    9.01113e+02    10                0      -99.90000   -9.990e+02   -999.00000   -999.00000   -999.00000    -9996.045   -999.00000   -999.00000   -999.00000      -99.900    -99.90000   -999.00000    -99.90000          nan   -999.00000   -999.00000   -999.00000          nan   -999.00000   -999.00000   -999.00000    0.000e+00   -999.00000   -999.00000   -999.00000      9.91600      9.95000      9.98400   -999.00000   -999.00000   -999.00000        8.624       10.405        9.932</td></tr>\n",
       "<tr><td>3036815931545245457             0.06       0.0400       6.0000       2.6033       0.8467       4.5622    0.00000e+00     29      2        0.150     -99.9000    1.00000e+09          -99     -99.0000       0.0800    0.00000e+00        10001           -1    0.00000e+00     99.000     99.000     99.000     99.000     99.000     99.000     99.000     99.000     99.000     99.000     99.000     99.000     99.000     99.000     99.000     99.000     99.000     99.000     99.000     99.000      -0.59648       0.14507      -0.03235      -0.18934      -0.03680      -0.05049       2.14385      -0.24662      -0.05303      -0.46912     -9.89591    -10.11124     -9.99693    -10.09507    -10.13468    -10.07385    -10.13742    -10.12938    -10.17897     -9.90814      -1.00000      -1.00000      -1.00000      -1.00000      -1.00000      -1.00000      -1.00000      -1.00000      -1.00000      -1.00000   -1   -1   -1   -1   -1   -1   -1   -1   -1   -1    2.22004e-02     0                0      -99.90000   -9.990e+02   -999.00000   -999.00000   -999.00000   -10000.654   -999.00000   -999.00000   -999.00000      -99.900    -99.90000   -999.00000    -99.90000          nan   -999.00000   -999.00000   -999.00000          nan   -999.00000   -999.00000   -999.00000    0.000e+00   -999.00000   -999.00000   -999.00000      9.91600      9.95000      9.98400   -999.00000   -999.00000   -999.00000        5.544        5.157        4.122</td></tr>\n",
       "</table>"
      ],
      "text/plain": [
       "<Table length=10631>\n",
       "                                                                                                                                                                                                                                                                                                                                                                                                                                                                                                                                                                                                                                                                                                                     # Creation date: Thu Jan 19 13:35:29 2023                                                                                                                                                                                                                                                                                                                                                                                                                                                                                                                                                                                                                                                                                                                      \n",
       "                                                                                                                                                                                                                                                                                                                                                                                                                                                                                                                                                                                                                                                                                                                                      str1430                                                                                                                                                                                                                                                                                                                                                                                                                                                                                                                                                                                                                                                                                                                                       \n",
       "------------------------------------------------------------------------------------------------------------------------------------------------------------------------------------------------------------------------------------------------------------------------------------------------------------------------------------------------------------------------------------------------------------------------------------------------------------------------------------------------------------------------------------------------------------------------------------------------------------------------------------------------------------------------------------------------------------------------------------------------------------------------------------------------------------------------------------------------------------------------------------------------------------------------------------------------------------------------------------------------------------------------------------------------------------------------------------------------------------------------------------------------------------------------------------------------------------------------------------------------------------------------------------------------------------------------------------------------------------------------------------------------------------------------------------------------------------------------------------\n",
       "                                                                                                                                                                                                                                                                                                                                                                                                                                                                                                                                                                                                                                                                                                                                                                                                                                                                                                                                                                                                                                                                                                                                                                                                                                                                                                                                                                                                                                             #######################################\n",
       "                                                                                                                                                                                                                                                                                                                                                                                                                                                                                                                                                                                                                                                                                                                                                                                                                                                                                                                                                                                                                                                                                                                                                                                                                                                                                                                                                                                                                                             # PHOTOMETRIC REDSHIFT with OPTIONS   #\n",
       "                                                                                                                                                                                                                                                                                                                                                                                                                                                                                                                                                                                                                                                                                                                                                                                                                                                                                                                                                                                                                                                                                                                                                                                                                                                                                                                                                                                                                                 # Config file            : data/8524/48/photoz.para\n",
       "                                                                                                                                                                                                                                                                                                                                                                                                                                                                                                                                                                                                                                                                                                                                                                                                                                                                                                                                                                                                                                                                                                                                                                                                                                                                                                                                                                                                                                   # CAT_IN                 : data/8524/48/photoz.in\n",
       "                                                                                                                                                                                                                                                                                                                                                                                                                                                                                                                                                                                                                                                                                                                                                                                                                                                                                                                                                                                                                                                                                                                                                                                                                                                                                                                                                                                                                             # CAT_OUT                : data/8524/48/zphot_short.out\n",
       "                                                                                                                                                                                                                                                                                                                                                                                                                                                                                                                                                                                                                                                                                                                                                                                                                                                                                                                                                                                                                                                                                                                                                                                                                                                                                                                                                                                                                                             # CAT_LINES              : 0 1000000000\n",
       "                                                                                                                                                                                                                                                                                                                                                                                                                                                                                                                                                                                                                                                                                                                                                                                                                                                                                                                                                                                                                                                                                                                                                                                                                                                                                                                                                                                                                                 # PARA_OUT               : data/8524/48/output.para\n",
       "                                                                                                                                                                                                                                                                                                                                                                                                                                                                                                                                                                                                                                                                                                                                                                                                                                                                                                                                                                                                                                                                                                                                                                                                                                                                                                                                                                                                                                                        # INP_TYPE               : F\n",
       "                                                                                                                                                                                                                                                                                                                                                                                                                                                                                                                                                                                                                                                                                                                                                                                                                                                                                                                                                                                                                                                                                                                                                                                                                                                                                                                                                                                                                                                        # CAT_FMT[0:MEME 1:MMEE] : 0\n",
       "                                                                                                                                                                                                                                                                                                                                                                                                                                                                                                                                                                                                                                                                                                                                                                                                                                                                                                                                                                                                                                                                                                                                                                                                                                                                                                                                                                                                                                                       # CAT_MAG                : AB\n",
       "                                                                                                                                                                                                                                                                                                                                                                                                                                                                                                                                                                                                                                                                                                                                                                                                                                                                                                                                                                                                                                                                                                                                                                                                                                                                                                                                                                                                                                                                                 ...\n",
       "3036815931545245448            4.949       4.7860       5.0554       4.5663       2.6416       5.4329    2.11297e+01     18      0        0.500       5.3200    2.31006e+01           19       0.4000       6.0000    1.43610e+01        10008         -155    1.12756e+01     99.000     99.000     99.000     99.000     99.000     24.431     27.724     99.000     25.989     25.715     99.000     99.000     99.000     99.000     99.000      0.147      0.919     99.000      0.467      0.538      21.14687      11.37778       7.38013       6.35248       5.87994       2.57697       5.66037       5.03466       3.86635       2.38656    -23.21886    -23.99440    -24.44924    -24.86116    -25.13262    -24.79420    -25.24127    -25.63852    -26.00329    -25.83793      -1.00000      -1.00000      -1.00000      -1.00000      -1.00000      -1.00000      -1.00000      -1.00000      -1.00000      -1.00000   -1   -1   -1   -1   -1   -1   -1   -1   -1   -1    7.34024e+03    10                0      -99.90000   -9.990e+02   -999.00000   -999.00000   -999.00000    -9995.134   -999.00000   -999.00000   -999.00000      -99.900    -99.90000   -999.00000    -99.90000          nan   -999.00000   -999.00000   -999.00000          nan   -999.00000   -999.00000   -999.00000    0.000e+00   -999.00000   -999.00000   -999.00000      9.91600      9.95000      9.98400   -999.00000   -999.00000   -999.00000       10.595       11.052       10.529\n",
       "3036815931545245449            4.771       0.5169       5.7041       4.7923       1.5168       5.4821    1.69522e+01     31      3        0.400       5.1600    1.71661e+01           31       0.4000       6.0000    1.45864e+01        10008         -119    1.78002e+01     99.000     99.000     26.870     27.520     25.519     24.939     27.970     27.192     25.372     26.910     99.000     99.000      0.408      1.004      0.531      0.208      1.156      0.978      0.263      1.615       7.24449       2.88130       0.72827       0.62606       0.53849       0.52938       0.52964       0.90637       0.27103      -0.47634    -21.99512    -22.40123    -22.51879    -22.72104    -22.82139    -22.68876    -22.85307    -22.98090    -23.12367    -22.91151       3.20341       4.01240       4.59039       4.90888       5.09731       4.86144       5.17710       5.61143       6.04168       6.24943    8    8    8    8    8    8    8    8    8    8    2.47420e+03    10                0      -99.90000   -9.990e+02   -999.00000   -999.00000   -999.00000    -9995.607   -999.00000   -999.00000   -999.00000      -99.900    -99.90000   -999.00000    -99.90000          nan   -999.00000   -999.00000   -999.00000          nan   -999.00000   -999.00000   -999.00000    0.000e+00   -999.00000   -999.00000   -999.00000      9.91600      9.95000      9.98400   -999.00000   -999.00000   -999.00000       10.690       10.121        9.025\n",
       "3036815931545245450            5.841       4.9984       5.9938       4.4991       3.5544       5.6415    8.22394e+01      6      0        0.000       4.5200    8.37681e+01            6       0.0000       6.0000    8.25321e+01        10006         -155    8.03472e+01     99.000     99.000     27.183     27.620     27.042     26.704     99.000     99.000     99.000     26.157     99.000     99.000      0.598      1.131      2.033      1.209     99.000     99.000     99.000      0.809     966.61985      10.91649       8.51639       6.93825       7.14146       3.17701       7.20825       5.98516       4.25533       1.61760    -22.83699    -23.52542    -23.88266    -24.13855    -24.27426    -24.09295    -24.31939    -24.40422    -24.57791    -24.31484      -1.00000      -1.00000      -1.00000      -1.00000      -1.00000      -1.00000      -1.00000      -1.00000      -1.00000      -1.00000   -1   -1   -1   -1   -1   -1   -1   -1   -1   -1    8.94368e+02    10                0      -99.90000   -9.990e+02   -999.00000   -999.00000   -999.00000    -9996.048   -999.00000   -999.00000   -999.00000      -99.900    -99.90000   -999.00000    -99.90000          nan   -999.00000   -999.00000   -999.00000          nan   -999.00000   -999.00000   -999.00000    0.000e+00   -999.00000   -999.00000   -999.00000      9.91600      9.95000      9.98400   -999.00000   -999.00000   -999.00000        8.644       10.372        9.866\n",
       "3036815931545245451            1.968       0.0400       3.2039       2.1021       0.4555       2.8892    5.21933e+01     31      0        0.000       0.0800    5.22368e+01           31       0.0000       0.4800    5.33858e+01        10001         -155    5.09371e+01     30.280     99.000     29.401     27.632     99.000     26.292     99.000     99.000     99.000     99.000      3.687     99.000      4.577      1.142     99.000      0.783     99.000     99.000     99.000     99.000      -1.59005      -1.49494      -1.48693      -1.36071      -1.26916      -1.38244      -1.24057      -1.56414      -1.47131      -1.74875    -14.77423    -14.69540    -14.52289    -14.51793    -14.50770    -14.50807    -14.49214    -14.42108    -14.35560    -13.98249      -1.00000      -1.00000      -1.00000      -1.00000      -1.00000      -1.00000      -1.00000      -1.00000      -1.00000      -1.00000   -1   -1   -1   -1   -1   -1   -1   -1   -1   -1    1.24495e+00    10                0      -99.90000   -9.990e+02   -999.00000   -999.00000   -999.00000    -9998.905   -999.00000   -999.00000   -999.00000      -99.900    -99.90000   -999.00000    -99.90000          nan   -999.00000   -999.00000   -999.00000          nan   -999.00000   -999.00000   -999.00000    0.000e+00   -999.00000   -999.00000   -999.00000      9.91600      9.95000      9.98400   -999.00000   -999.00000   -999.00000        7.392        6.823        5.727\n",
       "3036815931545245452            4.534       4.4844       4.5710       4.6377       4.3934       5.0596    3.97230e+01     18      0        0.500       4.9200    4.35135e+01           19       0.3000       6.0000    1.10242e+01        10008         -155    1.34769e+01     29.515     99.000     99.000     99.000     26.795     24.468     26.483     26.801     25.811     24.655      1.959     99.000     99.000     99.000      1.866      0.097      0.318      0.692      0.398      0.204      14.08347       9.03846       6.73234       5.87899       5.43716       2.56587       5.32898       4.70837       3.52620       1.90646    -23.19753    -23.96856    -24.43283    -24.84475    -25.11621    -24.77780    -25.22487    -25.62212    -25.98689    -25.82152      -1.00000      -1.00000      -1.00000      -1.00000      -1.00000      -1.00000      -1.00000      -1.00000      -1.00000      -1.00000   -1   -1   -1   -1   -1   -1   -1   -1   -1   -1    7.23016e+03    10                0      -99.90000   -9.990e+02   -999.00000   -999.00000   -999.00000    -9995.141   -999.00000   -999.00000   -999.00000      -99.900    -99.90000   -999.00000    -99.90000          nan   -999.00000   -999.00000   -999.00000          nan   -999.00000   -999.00000   -999.00000    0.000e+00   -999.00000   -999.00000   -999.00000      9.91600      9.95000      9.98400   -999.00000   -999.00000   -999.00000       10.588       11.045       10.523\n",
       "3036815931545245453            0.888       0.8242       0.9786       1.3321       0.8959       1.8011    1.62157e+01     28      1        0.500       1.8000    1.67580e+01           26       0.2500       0.8800    1.34253e+01        10011         -125    2.90713e+01     27.160     27.141     27.290     26.196     25.180     25.277     25.543     24.535     24.442     24.256      0.196      0.365      0.676      0.294      0.384      0.105      0.104      0.069      0.096      0.114       1.49058       1.58638       0.61140       0.36826       0.36212       0.43404       0.48146      -0.25792      -0.03439      -0.46939    -16.83465    -18.21941    -18.41230    -18.70129    -18.84253    -18.65994    -18.88817    -19.05240    -19.30562    -19.19434       0.15366       0.34551       0.30274       0.11413       0.39583       0.05831       0.52004       0.98835       1.41860       1.62635    3    7    8    8    8    8    8    8    8    8    9.47778e+01    10                0      -99.90000   -9.990e+02   -999.00000   -999.00000   -999.00000    -9997.023   -999.00000   -999.00000   -999.00000      -99.900    -99.90000   -999.00000    -99.90000          nan   -999.00000   -999.00000   -999.00000          nan   -999.00000   -999.00000   -999.00000    0.000e+00   -999.00000   -999.00000   -999.00000      9.91600      9.95000      9.98400   -999.00000   -999.00000   -999.00000        9.106        8.845        7.847\n",
       "3036815931545245454            1.555       1.5212       1.5842       2.1128       1.6772       2.6351    3.67934e+01     31      1        0.500       1.9200    4.10442e+01           22       0.0000       2.0800    4.39913e+01        10009         -130    4.40565e+01     27.660     27.870     27.250     99.000     26.080     99.000     99.000     26.031     24.241     99.000      0.306      0.677      0.564     99.000      0.796     99.000     99.000      0.333      0.095     99.000       1.12905       1.43581       0.91175       0.93944       0.24700       0.92726       0.49833      -0.11778      -0.65741      -0.54221    -18.68185    -19.78368    -19.59013    -19.84335    -19.97138    -19.80592    -20.01483    -20.19244    -20.38729    -20.21534      -1.00000       0.21841       0.94095       1.35781       1.63950       1.30070       1.76371       2.23198       2.66216       2.86968   -1    8    8    8    8    8    8    8    8    8    3.32550e+02    10                0      -99.90000   -9.990e+02   -999.00000   -999.00000   -999.00000    -9996.478   -999.00000   -999.00000   -999.00000      -99.900    -99.90000   -999.00000    -99.90000          nan   -999.00000   -999.00000   -999.00000          nan   -999.00000   -999.00000   -999.00000    0.000e+00   -999.00000   -999.00000   -999.00000      9.91600      9.95000      9.98400   -999.00000   -999.00000   -999.00000        9.818        9.250        8.153\n",
       "3036815931545245455            1.963       0.0400       2.7550       2.0996       1.5414       2.6031    1.03115e+02     31      0        0.000       2.5200    1.03540e+02           31       0.0000       0.4800    1.10913e+02        10001           -1    9.79751e+01     33.620     99.000     99.000     99.000     99.000     99.000     99.000     25.312     24.462     99.000     74.860     99.000     99.000     99.000     99.000     99.000     99.000      0.140      0.096     99.000      -1.58675      -1.49158      -1.48351      -1.35707      -1.26531      -1.37898      -1.23682      -1.56191      -1.46656      -1.74400    -20.39791    -20.31908    -20.14656    -20.14161    -20.13137    -20.13175    -20.11582    -20.04476    -19.97928    -19.60617       0.64552       0.62950       0.94991       1.36677       1.64847       1.30966       1.77267       2.24095       2.67112       2.87864    8    8    8    8    8    8    8    8    8    8    4.23683e+00    10                0      -99.90000   -9.990e+02   -999.00000   -999.00000   -999.00000    -9998.373   -999.00000   -999.00000   -999.00000      -99.900    -99.90000   -999.00000    -99.90000          nan   -999.00000   -999.00000   -999.00000          nan   -999.00000   -999.00000   -999.00000    0.000e+00   -999.00000   -999.00000   -999.00000      9.91600      9.95000      9.98400   -999.00000   -999.00000   -999.00000        7.923        7.355        6.258\n",
       "3036815931545245456            3.195       3.1122       3.2914       3.2114       3.1018       3.3205    4.60160e+01      7      0        0.000     -99.9000    1.00000e+09          -99     -99.0000       4.9600    4.14424e+01        10006         -170    4.29879e+01     32.043     27.483     27.703     26.257     30.021     99.000     99.000     27.575     23.596     22.560     18.468      0.502      0.911      0.314     32.258     99.000     99.000      1.387      0.051      0.030       5.20904       5.57915       5.58717       4.97386       4.81006       3.55137       4.76727       2.89321       1.38341      -0.20732    -23.12354    -23.85025    -24.23369    -24.51032    -24.65513    -24.46181    -24.70343    -24.79264    -24.97764    -24.71804       1.16762       1.98682       2.70139       3.11825       3.39994       3.06114       3.52415       3.99242       4.42260       4.63012    8    8    8    8    8    8    8    8    8    8    9.01113e+02    10                0      -99.90000   -9.990e+02   -999.00000   -999.00000   -999.00000    -9996.045   -999.00000   -999.00000   -999.00000      -99.900    -99.90000   -999.00000    -99.90000          nan   -999.00000   -999.00000   -999.00000          nan   -999.00000   -999.00000   -999.00000    0.000e+00   -999.00000   -999.00000   -999.00000      9.91600      9.95000      9.98400   -999.00000   -999.00000   -999.00000        8.624       10.405        9.932\n",
       "3036815931545245457             0.06       0.0400       6.0000       2.6033       0.8467       4.5622    0.00000e+00     29      2        0.150     -99.9000    1.00000e+09          -99     -99.0000       0.0800    0.00000e+00        10001           -1    0.00000e+00     99.000     99.000     99.000     99.000     99.000     99.000     99.000     99.000     99.000     99.000     99.000     99.000     99.000     99.000     99.000     99.000     99.000     99.000     99.000     99.000      -0.59648       0.14507      -0.03235      -0.18934      -0.03680      -0.05049       2.14385      -0.24662      -0.05303      -0.46912     -9.89591    -10.11124     -9.99693    -10.09507    -10.13468    -10.07385    -10.13742    -10.12938    -10.17897     -9.90814      -1.00000      -1.00000      -1.00000      -1.00000      -1.00000      -1.00000      -1.00000      -1.00000      -1.00000      -1.00000   -1   -1   -1   -1   -1   -1   -1   -1   -1   -1    2.22004e-02     0                0      -99.90000   -9.990e+02   -999.00000   -999.00000   -999.00000   -10000.654   -999.00000   -999.00000   -999.00000      -99.900    -99.90000   -999.00000    -99.90000          nan   -999.00000   -999.00000   -999.00000          nan   -999.00000   -999.00000   -999.00000    0.000e+00   -999.00000   -999.00000   -999.00000      9.91600      9.95000      9.98400   -999.00000   -999.00000   -999.00000        5.544        5.157        4.122"
      ]
     },
     "execution_count": 285,
     "metadata": {},
     "output_type": "execute_result"
    }
   ],
   "source": [
    "out"
   ]
  },
  {
   "cell_type": "code",
   "execution_count": 240,
   "id": "02b50ab9-ff87-4fc6-b692-368092e781f9",
   "metadata": {},
   "outputs": [
    {
     "name": "stdout",
     "output_type": "stream",
     "text": [
      "1 $Id\n",
      "2 $HSC_G\n",
      "3 $d_HSC_G\n",
      "4 $HSC_R\n",
      "5 $d_HSC_R\n",
      "6 $HSC_I\n",
      "7 $d_HSC_I\n",
      "8 $HSC_Z\n",
      "9 $d_HSC_Z\n",
      "10 $HSC_Y\n",
      "11 $d_HSC_Y\n",
      "12 $VIRCAM_Z\n",
      "13 $d_VIRCAM_Z\n",
      "14 $VIRCAM_Y\n",
      "15 $d_VIRCAM_Y\n",
      "16 $VIRCAM_J\n",
      "17 $d_VIRCAM_J\n",
      "18 $VIRCAM_H\n",
      "19 $d_VIRCAM_H\n",
      "20 $VIRCAM_Ks\n",
      "21 $d_VIRCAM_Ks\n",
      "22 $context\n",
      "23 $z-spec\n"
     ]
    }
   ],
   "source": [
    "#For header file\n",
    "n=1\n",
    "for t in test.colnames:\n",
    "    print(n, \"${}\".format(t))\n",
    "    n+=1"
   ]
  },
  {
   "cell_type": "code",
   "execution_count": null,
   "id": "9f592ef9-db58-472a-a330-c08511b8af1e",
   "metadata": {},
   "outputs": [],
   "source": []
  }
 ],
 "metadata": {
  "kernelspec": {
   "display_name": "Python (herschelhelp_internal)",
   "language": "python",
   "name": "helpint"
  },
  "language_info": {
   "codemirror_mode": {
    "name": "ipython",
    "version": 3
   },
   "file_extension": ".py",
   "mimetype": "text/x-python",
   "name": "python",
   "nbconvert_exporter": "python",
   "pygments_lexer": "ipython3",
   "version": "3.6.12"
  }
 },
 "nbformat": 4,
 "nbformat_minor": 5
}
