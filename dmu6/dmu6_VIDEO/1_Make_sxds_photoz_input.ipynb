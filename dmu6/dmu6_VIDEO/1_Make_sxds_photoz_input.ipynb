{
 "cells": [
  {
   "cell_type": "markdown",
   "id": "5ecae634-7d42-46b1-9ca9-e6494bc7de93",
   "metadata": {},
   "source": [
    "# Make Photoz test input from VIDEO SXDS data\n",
    "\n",
    "This notebook uses the HELP python environment to make a CIGALE input catalogue:\n",
    "\n",
    "https://github.com/H-E-L-P/herschelhelp_internal\n",
    "\n",
    "to make the photoz inputs we must merge in the spectroscopic redshifts and make some trivial catalogue changes. We then need to make configuration inputs for the photoz code. This includes downloading filter response curves.\n",
    "\n",
    "Installation and running of the EAZY based code is available here:\n",
    "\n",
    "https://github.com/dunkenj/eazy-pype/\n",
    "\n",
    "This is an early test on the catalogues as part of our validation process.\n",
    "\n"
   ]
  },
  {
   "cell_type": "code",
   "execution_count": 1,
   "id": "cb0728b0-8431-426f-bb42-9860f1c7421e",
   "metadata": {},
   "outputs": [
    {
     "name": "stderr",
     "output_type": "stream",
     "text": [
      "/Users/raphaelshirley/miniconda3/envs/herschelhelp_internal/lib/python3.6/_collections_abc.py:841: MatplotlibDeprecationWarning: \n",
      "The examples.directory rcparam was deprecated in Matplotlib 3.0 and will be removed in 3.2. In the future, examples will be found relative to the 'datapath' directory.\n",
      "  self[key] = other[key]\n",
      "/Users/raphaelshirley/miniconda3/envs/herschelhelp_internal/lib/python3.6/_collections_abc.py:841: MatplotlibDeprecationWarning: \n",
      "The savefig.frameon rcparam was deprecated in Matplotlib 3.1 and will be removed in 3.3.\n",
      "  self[key] = other[key]\n",
      "/Users/raphaelshirley/miniconda3/envs/herschelhelp_internal/lib/python3.6/_collections_abc.py:841: MatplotlibDeprecationWarning: \n",
      "The text.latex.unicode rcparam was deprecated in Matplotlib 3.0 and will be removed in 3.2.\n",
      "  self[key] = other[key]\n",
      "/Users/raphaelshirley/miniconda3/envs/herschelhelp_internal/lib/python3.6/_collections_abc.py:841: MatplotlibDeprecationWarning: \n",
      "The verbose.fileo rcparam was deprecated in Matplotlib 3.1 and will be removed in 3.3.\n",
      "  self[key] = other[key]\n",
      "/Users/raphaelshirley/miniconda3/envs/herschelhelp_internal/lib/python3.6/_collections_abc.py:841: MatplotlibDeprecationWarning: \n",
      "The verbose.level rcparam was deprecated in Matplotlib 3.1 and will be removed in 3.3.\n",
      "  self[key] = other[key]\n",
      "/Users/raphaelshirley/miniconda3/envs/herschelhelp_internal/lib/python3.6/site-packages/seaborn/apionly.py:9: UserWarning: As seaborn no longer sets a default style on import, the seaborn.apionly module is deprecated. It will be removed in a future version.\n",
      "  warnings.warn(msg, UserWarning)\n"
     ]
    }
   ],
   "source": [
    "\n",
    "%matplotlib inline\n",
    "#%config InlineBackend.figure_format = 'svg'\n",
    "\n",
    "import matplotlib.pyplot as plt\n",
    "plt.rc('figure', figsize=(10, 6))\n",
    "from herschelhelp.filters import correct_galactic_extinction\n",
    "from herschelhelp.external import convert_table_for_cigale\n",
    "from herschelhelp_internal.masterlist import merge_catalogues, nb_merge_dist_plot, specz_merge\n",
    "from herschelhelp_internal.utils import coords_to_hpidx, ebv, gen_help_id, inMoc\n",
    "\n",
    "import numpy as np\n",
    "import os\n",
    "import time\n",
    "\n",
    "from astropy.table import Table\n",
    "import astropy.units as u\n",
    "from astropy.coordinates import SkyCoord"
   ]
  },
  {
   "cell_type": "code",
   "execution_count": 2,
   "id": "8d558663-1054-4a71-9960-e60efa5ac8c8",
   "metadata": {},
   "outputs": [],
   "source": [
    "SUFFIX = os.environ.get('SUFFIX', time.strftime(\"%Y%m%d\"))"
   ]
  },
  {
   "cell_type": "code",
   "execution_count": 3,
   "id": "ef277a05-970c-479d-a2fa-a8f10210851c",
   "metadata": {},
   "outputs": [
    {
     "data": {
      "text/plain": [
       "'20211011'"
      ]
     },
     "execution_count": 3,
     "metadata": {},
     "output_type": "execute_result"
    }
   ],
   "source": [
    "SUFFIX"
   ]
  },
  {
   "cell_type": "code",
   "execution_count": 5,
   "id": "0e8fe7f2-d70a-4c6b-a04d-477dab414fd2",
   "metadata": {},
   "outputs": [],
   "source": [
    "hsc_bands = 'GRIZY'\n",
    "vista_bands = 'ZYJHK'\n",
    "bands = ['HSC_{}'.format(b) for b in hsc_bands]\n",
    "bands += ['VISTA_{}'.format(b) for b in vista_bands]\n",
    "cols = ['id', 'VISTA_Ks_m_coord_ra','VISTA_Ks_m_coord_dec','VISTA_Ks_m_detect_isPrimary']\n",
    "cols+=['{}_m_slot_ModelFlux_flux'.format(b.replace('K','Ks')) for b in bands]\n",
    "cols+=['{}_m_slot_ModelFlux_fluxErr'.format(b.replace('K','Ks'))  for b in bands]\n",
    "cat = Table.read('../../dmu5/dmu5_VIDEO/data/full_reduced_cat_SXDS.fits')[cols]\n",
    "cat['VISTA_Ks_m_coord_ra'].name='ra'\n",
    "cat['VISTA_Ks_m_coord_dec'].name='dec'\n",
    "#Some HELP functions require a help_id col\n",
    "cat['id'].name='help_id'"
   ]
  },
  {
   "cell_type": "code",
   "execution_count": 6,
   "id": "e856cd37-caa4-4520-b708-66447b3e4ada",
   "metadata": {},
   "outputs": [],
   "source": [
    "#Rename to CIGALE/HELP format\n",
    "for c in cat.colnames:\n",
    "    if c.endswith('m_slot_ModelFlux_flux'):\n",
    "        mask = cat[c]>1e10\n",
    "        cat[c][mask]=np.nan\n",
    "        f_name='{}_{}_flux'.format(\n",
    "            c.split('_')[0].lower(),#.replace('hsc','suprime'),\n",
    "            c.split('_')[1].lower()\n",
    "        )\n",
    "        cat[c].name=f_name\n",
    "        cat[f_name]=cat[f_name].to(u.uJy)\n",
    "    if c.endswith('m_slot_ModelFlux_fluxErr'):\n",
    "        mask = cat[c]>1e10\n",
    "        cat[c][mask]=np.nan\n",
    "        ferr_name='{}_{}_fluxerr'.format(\n",
    "            c.split('_')[0].lower(),#.replace('hsc','suprime'),\n",
    "            c.split('_')[1].lower()\n",
    "        )\n",
    "        cat[c].name=ferr_name\n",
    "        cat[ferr_name]=cat[ferr_name].to(u.uJy)"
   ]
  },
  {
   "cell_type": "code",
   "execution_count": 8,
   "id": "702240bb-d351-4d7d-af27-d97bd7b6b108",
   "metadata": {},
   "outputs": [],
   "source": [
    "mask = (cat['ra']<1e10) | (cat['dec']<1e10)\n",
    "mask&=cat['VISTA_Ks_m_detect_isPrimary']==1\n",
    "mask&=(cat['hsc_i_flux']/cat['hsc_i_fluxerr'] > 5)\n",
    "mask&=(cat['vista_ks_flux']/cat['vista_ks_fluxerr'] > 5)\n",
    "cat = cat[mask]\n",
    "    \n",
    "cat['ra']=cat['ra'].to(u.deg)\n",
    "cat['dec']=cat['dec'].to(u.deg)\n",
    "cat['zspec'].name='z_spec'"
   ]
  },
  {
   "cell_type": "code",
   "execution_count": 47,
   "id": "43edf315-5d3b-4afb-aec7-043f83990bd9",
   "metadata": {},
   "outputs": [],
   "source": [
    "#cat['zspec'].name='z_spec'"
   ]
  },
  {
   "cell_type": "code",
   "execution_count": 10,
   "id": "82f1ed4d-940a-4e94-844f-98622dfe3a39",
   "metadata": {},
   "outputs": [
    {
     "name": "stdout",
     "output_type": "stream",
     "text": [
      "mkdir: data: File exists\n",
      "--2021-10-11 17:35:46--  http://hedam.lam.fr/HELP/dataproducts/dmu23/dmu23_XMM-LSS/data/XMM-LSS-specz-v2.91.fits.gz\n",
      "Resolving hedam.lam.fr (hedam.lam.fr)... 195.221.212.141\n",
      "Connecting to hedam.lam.fr (hedam.lam.fr)|195.221.212.141|:80... connected.\n",
      "HTTP request sent, awaiting response... 200 OK\n",
      "Length: 3391102 (3.2M) [application/x-gzip]\n",
      "Saving to: ‘./data/XMM-LSS-specz-v2.91.fits.gz’\n",
      "\n",
      "XMM-LSS-specz-v2.91 100%[===================>]   3.23M  8.07MB/s    in 0.4s    \n",
      "\n",
      "2021-10-11 17:35:47 (8.07 MB/s) - ‘./data/XMM-LSS-specz-v2.91.fits.gz’ saved [3391102/3391102]\n",
      "\n"
     ]
    }
   ],
   "source": [
    "!mkdir data\n",
    "!wget http://hedam.lam.fr/HELP/dataproducts/dmu23/dmu23_XMM-LSS/data/XMM-LSS-specz-v2.91.fits.gz -P ./data/"
   ]
  },
  {
   "cell_type": "markdown",
   "id": "08c6e594-4a87-4371-bbd1-63c1973dc41a",
   "metadata": {},
   "source": [
    "## Merge Specz"
   ]
  },
  {
   "cell_type": "code",
   "execution_count": 11,
   "id": "19b84aad-3093-42f2-93bc-bc64dc209f6c",
   "metadata": {},
   "outputs": [],
   "source": [
    "specz=Table.read('./data/XMM-LSS-specz-v2.91.fits.gz')\n",
    "for c in specz.colnames:\n",
    "    specz[c].name=c.lower()\n",
    "specz['objid'].name='specz_id'"
   ]
  },
  {
   "cell_type": "code",
   "execution_count": 12,
   "id": "02467758-646e-41ae-a556-e2c499332892",
   "metadata": {},
   "outputs": [
    {
     "data": {
      "text/plain": [
       "127682"
      ]
     },
     "execution_count": 12,
     "metadata": {},
     "output_type": "execute_result"
    }
   ],
   "source": [
    "len(specz)"
   ]
  },
  {
   "cell_type": "code",
   "execution_count": 13,
   "id": "3cee166e-600e-47b3-9bd3-1f8b503ad642",
   "metadata": {},
   "outputs": [
    {
     "data": {
      "image/png": "[encoded data removed]",
      "text/plain": [
       "<Figure size 720x432 with 1 Axes>"
      ]
     },
     "metadata": {
      "needs_background": "light"
     },
     "output_type": "display_data"
    }
   ],
   "source": [
    "nb_merge_dist_plot(\n",
    "    SkyCoord(cat['ra'], cat['dec']),\n",
    "    SkyCoord(specz['ra'] * u.deg, specz['dec'] * u.deg)\n",
    ")"
   ]
  },
  {
   "cell_type": "code",
   "execution_count": 14,
   "id": "a26f0b9d-0c4e-4457-a88b-dd0c7f278988",
   "metadata": {},
   "outputs": [],
   "source": [
    "cat = specz_merge(cat, specz, radius=1. * u.arcsec)"
   ]
  },
  {
   "cell_type": "code",
   "execution_count": null,
   "id": "720260c2-8966-47bf-8841-16673c0a8609",
   "metadata": {},
   "outputs": [],
   "source": [
    "#cat=cat[cat['specz_id']!='']\n",
    "#cat['redshift']=cat['zspec']"
   ]
  },
  {
   "cell_type": "code",
   "execution_count": null,
   "id": "f726057d-4ed9-43ff-9376-eb14db40098d",
   "metadata": {},
   "outputs": [],
   "source": [
    "cat['hsc_r_mag']"
   ]
  },
  {
   "cell_type": "code",
   "execution_count": 15,
   "id": "bbf5fd12-671d-4c68-9cbc-59ef76418b4a",
   "metadata": {},
   "outputs": [
    {
     "data": {
      "text/plain": [
       "1308739"
      ]
     },
     "execution_count": 15,
     "metadata": {},
     "output_type": "execute_result"
    }
   ],
   "source": [
    "len(cat)"
   ]
  },
  {
   "cell_type": "code",
   "execution_count": 16,
   "id": "a06a49c2-9b04-4c4c-8dfe-43993f5d8c41",
   "metadata": {},
   "outputs": [
    {
     "data": {
      "text/html": [
       "<i>Table length=5</i>\n",
       "<table id=\"table140589995351176\" class=\"table-striped table-bordered table-condensed\">\n",
       "<thead><tr><th>help_id</th><th>ra</th><th>dec</th><th>VISTA_Ks_m_detect_isPrimary</th><th>hsc_g_flux</th><th>hsc_r_flux</th><th>hsc_i_flux</th><th>hsc_z_flux</th><th>hsc_y_flux</th><th>vista_z_flux</th><th>vista_y_flux</th><th>vista_j_flux</th><th>vista_h_flux</th><th>vista_ks_flux</th><th>hsc_g_fluxerr</th><th>hsc_r_fluxerr</th><th>hsc_i_fluxerr</th><th>hsc_z_fluxerr</th><th>hsc_y_fluxerr</th><th>vista_z_fluxerr</th><th>vista_y_fluxerr</th><th>vista_j_fluxerr</th><th>vista_h_fluxerr</th><th>vista_ks_fluxerr</th><th>specz_id</th><th>zspec</th><th>zspec_qual</th><th>zspec_association_flag</th></tr></thead>\n",
       "<thead><tr><th></th><th>deg</th><th>deg</th><th></th><th>uJy</th><th>uJy</th><th>uJy</th><th>uJy</th><th>uJy</th><th>uJy</th><th>uJy</th><th>uJy</th><th>uJy</th><th>uJy</th><th>uJy</th><th>uJy</th><th>uJy</th><th>uJy</th><th>uJy</th><th>uJy</th><th>uJy</th><th>uJy</th><th>uJy</th><th>uJy</th><th></th><th></th><th></th><th></th></tr></thead>\n",
       "<thead><tr><th>int64</th><th>float64</th><th>float64</th><th>int64</th><th>float64</th><th>float64</th><th>float64</th><th>float64</th><th>float64</th><th>float64</th><th>float64</th><th>float64</th><th>float64</th><th>float64</th><th>float64</th><th>float64</th><th>float64</th><th>float64</th><th>float64</th><th>float64</th><th>float64</th><th>float64</th><th>float64</th><th>float64</th><th>str33</th><th>float64</th><th>int64</th><th>bool</th></tr></thead>\n",
       "<tr><td>149940984795367161</td><td>34.03198792407938</td><td>-5.636746033451176</td><td>1</td><td>0.1918380120633462</td><td>0.24114609138728316</td><td>0.23910295624418496</td><td>0.3943670650640425</td><td>0.539275444256114</td><td>3.3093421221815893</td><td>0.5509247061854611</td><td>0.41870752165663716</td><td>0.3170050549873974</td><td>1.4210650305132755</td><td>0.01933043244302869</td><td>0.030078245621829574</td><td>0.027566898414982985</td><td>0.0778258370449352</td><td>0.1583567806404285</td><td>0.06724782055241774</td><td>0.024002575829053612</td><td>0.023418802960395863</td><td>0.035446290741617044</td><td>0.06803846082798298</td><td></td><td>nan</td><td>-99</td><td>False</td></tr>\n",
       "<tr><td>149940984795367228</td><td>34.03239043843923</td><td>-5.63513409597789</td><td>1</td><td>0.5193620245085407</td><td>0.8073257364329538</td><td>0.6775046773308321</td><td>1.1696392994439777</td><td>1.376104949778619</td><td>0.7212169913401356</td><td>1.1436669705612827</td><td>1.5161937043715057</td><td>0.7363723324967524</td><td>1.9766101985524038</td><td>0.022960893798619434</td><td>0.05553958305818498</td><td>0.03954325169680315</td><td>0.0898612977774623</td><td>0.19791099115015662</td><td>0.00928557764376431</td><td>0.018521803949740616</td><td>0.029229104310411657</td><td>0.03511634243528409</td><td>0.054673791964521476</td><td></td><td>nan</td><td>-99</td><td>False</td></tr>\n",
       "<tr><td>149940984795367270</td><td>34.092669339372655</td><td>-5.634361990777769</td><td>1</td><td>0.36384861296157717</td><td>0.7892301676025678</td><td>1.2315274181560765</td><td>1.4359311773782693</td><td>1.8894775961718346</td><td>1.0766499332264072</td><td>1.0725330148649175</td><td>1.2880861811268447</td><td>2.062232090325329</td><td>1.6832976225622505</td><td>0.017392853109826446</td><td>0.02630454007725901</td><td>0.02704338733473185</td><td>0.05569826571177505</td><td>0.19013509621684996</td><td>0.0107364834608036</td><td>0.018037655838292282</td><td>0.029016609691475705</td><td>0.048036069653102864</td><td>0.06734791599744612</td><td></td><td>nan</td><td>-99</td><td>False</td></tr>\n",
       "<tr><td>149940984795367288</td><td>34.107736780652246</td><td>-5.634215412521896</td><td>1</td><td>0.1386149795474109</td><td>0.05213683841882216</td><td>0.17740765789056012</td><td>0.3595270423291327</td><td>0.8112687409022378</td><td>0.2476538292474139</td><td>0.31713807754942025</td><td>0.8667135068230658</td><td>1.2445507718205489</td><td>0.9546880507128258</td><td>0.022092521907655677</td><td>0.026488851509346475</td><td>0.029234692678244106</td><td>0.057606192085304514</td><td>0.15846595810001673</td><td>0.010854198644272166</td><td>0.018258807749051895</td><td>0.03785618111103003</td><td>0.11295631819774835</td><td>0.08459614884109998</td><td></td><td>nan</td><td>-99</td><td>False</td></tr>\n",
       "<tr><td>149940984795367292</td><td>33.96461795640932</td><td>-5.633879365508137</td><td>1</td><td>0.5398559354684481</td><td>0.713206483879246</td><td>0.7658640563342345</td><td>1.1315693305752763</td><td>1.535094461866041</td><td>0.5064604919459583</td><td>0.6504969996625733</td><td>1.0177887608324134</td><td>nan</td><td>1.034369760515549</td><td>0.019511755613238497</td><td>0.0456005272285144</td><td>0.030271430955299255</td><td>0.06703133567861314</td><td>0.20062454166051713</td><td>0.010458156541137244</td><td>0.01701051807225166</td><td>0.026377929025613298</td><td>nan</td><td>0.06331285964531365</td><td></td><td>nan</td><td>-99</td><td>False</td></tr>\n",
       "</table>"
      ],
      "text/plain": [
       "<Table length=5>\n",
       "     help_id               ra         ... zspec_qual zspec_association_flag\n",
       "                          deg         ...                                  \n",
       "      int64             float64       ...   int64             bool         \n",
       "------------------ ------------------ ... ---------- ----------------------\n",
       "149940984795367161  34.03198792407938 ...        -99                  False\n",
       "149940984795367228  34.03239043843923 ...        -99                  False\n",
       "149940984795367270 34.092669339372655 ...        -99                  False\n",
       "149940984795367288 34.107736780652246 ...        -99                  False\n",
       "149940984795367292  33.96461795640932 ...        -99                  False"
      ]
     },
     "execution_count": 16,
     "metadata": {},
     "output_type": "execute_result"
    }
   ],
   "source": [
    "cat[0:5]"
   ]
  },
  {
   "cell_type": "markdown",
   "id": "458ded97-b58e-4f73-9b54-bd39ea419232",
   "metadata": {},
   "source": [
    "## Add EBV column\n",
    "\n",
    "This is used to correct for galactic extinction."
   ]
  },
  {
   "cell_type": "code",
   "execution_count": 17,
   "id": "0869d235-f98d-4e82-9abb-28a59538524f",
   "metadata": {},
   "outputs": [],
   "source": [
    "cat.add_column(\n",
    "    ebv(cat['ra'], cat['dec'])\n",
    ")"
   ]
  },
  {
   "cell_type": "markdown",
   "id": "96e77d85-4633-44aa-9d0e-ca151c3d4670",
   "metadata": {},
   "source": [
    "## Write catalogue"
   ]
  },
  {
   "cell_type": "code",
   "execution_count": 49,
   "id": "a50ca80e-195d-4bcf-a985-0b966e78413d",
   "metadata": {},
   "outputs": [],
   "source": [
    "cat.write('./data/lsst_ir_fusion_sxds_photoz_input_{}.fits'.format(SUFFIX),overwrite=True)"
   ]
  },
  {
   "cell_type": "markdown",
   "id": "f0e9078b-3da0-4139-b0e1-13a77bcd7c86",
   "metadata": {},
   "source": [
    "## Make res file\n",
    "\n",
    "Eazy requires the filter transmission curves to be a single res file. Here we download the files from the Spanish Virtual Observatory and put them in a single file. We also label the bands according the order of the filter in the res file"
   ]
  },
  {
   "cell_type": "code",
   "execution_count": 46,
   "id": "6afd0294-ecf4-4a0f-b9ec-0c8ec64e42f8",
   "metadata": {},
   "outputs": [
    {
     "name": "stdout",
     "output_type": "stream",
     "text": [
      "Subaru/HSC.g Subaru HSC.g\n",
      "Subaru/HSC.r Subaru HSC.r\n",
      "Subaru/HSC.i Subaru HSC.i\n",
      "Subaru/HSC.z Subaru HSC.z\n",
      "Subaru/HSC.Y Subaru HSC.Y\n",
      "Paranal/VISTA.Z Paranal VISTA.Z\n",
      "Paranal/VISTA.Y Paranal VISTA.Y\n",
      "Paranal/VISTA.J Paranal VISTA.J\n",
      "Paranal/VISTA.H Paranal VISTA.H\n",
      "Paranal/VISTA.Ks Paranal VISTA.Ks\n"
     ]
    },
    {
     "data": {
      "image/png": "[encoded data removed]",
      "text/plain": [
       "<Figure size 720x288 with 1 Axes>"
      ]
     },
     "metadata": {
      "needs_background": "light"
     },
     "output_type": "display_data"
    },
    {
     "name": "stdout",
     "output_type": "stream",
     "text": [
      "g\n",
      "r\n",
      "i\n",
      "z\n",
      "Y\n",
      "Z\n",
      "Y\n",
      "J\n",
      "H\n",
      "Ks\n"
     ]
    }
   ],
   "source": [
    "import numpy as np\n",
    "from urllib.request import urlretrieve\n",
    "import os\n",
    "import matplotlib.pyplot as plt\n",
    "\n",
    "svo_path = 'http://svo2.cab.inta-csic.es/theory/fps3/getdata.php?format=ascii&id=format=ascii&id={0}'\n",
    "\n",
    "# filter_names = ['BOK/BASS.g', 'BOK/BASS.r', 'KPNO/MzLS.z',\n",
    "#                 'UKIRT/UKIDSS.J', 'UKIRT/UKIDSS.K',\n",
    "#                 'WISE/WISE.W1', 'WISE/WISE.W2']\n",
    "filter_names = [\n",
    "    'Subaru/HSC.g',\n",
    "    'Subaru/HSC.r',\n",
    "    'Subaru/HSC.i',\n",
    "    'Subaru/HSC.z',\n",
    "    'Subaru/HSC.Y',\n",
    "    'Paranal/VISTA.Z',\n",
    "    'Paranal/VISTA.Y',\n",
    "    'Paranal/VISTA.J',\n",
    "    'Paranal/VISTA.H',\n",
    "    'Paranal/VISTA.Ks',\n",
    "]\n",
    "\n",
    "colors = plt.cm.viridis(np.linspace(0, 1, len(filter_names)))\n",
    "\n",
    "Fig, Ax = plt.subplots(1,1, figsize=(10, 4))\n",
    "\n",
    "for i, filt in enumerate(filter_names):\n",
    "    \n",
    "    tlscp, name = os.path.split(filt)\n",
    "    print(filt,tlscp,name)\n",
    "    filter_lib, info = urlretrieve(svo_path.format(filt), f'data/{name}.dat')\n",
    "\n",
    "    wave, response = np.loadtxt(f'data/{name}.dat').T\n",
    "\n",
    "    Ax.semilogx(wave, response, color=colors[i], label=f'{name}')\n",
    "\n",
    "Leg = Ax.legend(loc='upper left', ncol=4)\n",
    "plt.show()\n",
    "\n",
    "\n",
    "output_path = 'data/sxds_filters.res'\n",
    "combined = open(output_path,'w')\n",
    "combined_info = open(output_path+'.info','w')\n",
    "translate = open('data/sxds.translate', 'w')\n",
    "\n",
    "for ifx, filt in enumerate(filter_names):\n",
    "    tlscp, name = os.path.split(filt)\n",
    "    band = name.split('.')[-1]\n",
    "    data = np.loadtxt(f'data/{name}.dat', ndmin=2, skiprows=0)\n",
    "    print(band)\n",
    "\n",
    "\n",
    "    combined.write( '{0:>8d} {1:s} 0 0 0 {2}'.format(int(len(data[:,0])), name, '\\n'))\n",
    "    name_lower=name.lower().replace('.','_')\n",
    "    translate.write(f'{name_lower:s}_flux F{ifx:.0f}\\n')\n",
    "    translate.write(f'{name_lower:s}_fluxerr E{ifx:.0f}\\n')\n",
    "\n",
    "    nums = range(1,len(data[:,0])+1)\n",
    "    wave = data[:,0]\n",
    "    resp = data[:,1]\n",
    "\n",
    "    worder = np.argsort(wave)\n",
    "    wave = wave[worder]\n",
    "    resp = resp[worder]\n",
    "\n",
    "    for i in range(len(nums)):\n",
    "        combined.write('{0:>8d} {1:>10.2f} {2:>12.8g} {3}'.format(int(nums[i]), wave[i], resp[i],'\\n'))\n",
    "\n",
    "combined.close()\n",
    "combined_info.close()\n",
    "translate.close()"
   ]
  },
  {
   "cell_type": "code",
   "execution_count": 52,
   "id": "2bf10b79-e565-4086-adba-dd5f3388b020",
   "metadata": {},
   "outputs": [
    {
     "name": "stdout",
     "output_type": "stream",
     "text": [
      "HSC.Y.dat\n",
      "HSC.g.dat\n",
      "HSC.i.dat\n",
      "HSC.r.dat\n",
      "HSC.z.dat\n",
      "VISTA.H.dat\n",
      "VISTA.J.dat\n",
      "VISTA.Ks.dat\n",
      "VISTA.Y.dat\n",
      "VISTA.Z.dat\n",
      "XMM-LSS-specz-v2.91.fits.gz\n",
      "XMM-LSS.translate\n",
      "full_reduced_cat_SXDS.fits\n",
      "lsst_ir_fusion_sxds_photoz_input_20211011.fits\n",
      "lsst_ir_fusion_sxds_specz_cigale_input_20210906.fits\n",
      "sxds.translate\n",
      "sxds.translate.opt\n",
      "sxds_filters.res\n",
      "sxds_filters.res.info\n",
      "\u001b[34mtesting\u001b[m\u001b[m\n"
     ]
    }
   ],
   "source": [
    "!ls data"
   ]
  },
  {
   "cell_type": "code",
   "execution_count": 51,
   "id": "cd6bf366-fb79-44d8-984b-9033579510c5",
   "metadata": {},
   "outputs": [],
   "source": [
    "!mkdir -p data/testing/all_specz/"
   ]
  },
  {
   "cell_type": "code",
   "execution_count": 53,
   "id": "7a1afe24-3079-40a0-ab5e-32d0ef096115",
   "metadata": {},
   "outputs": [],
   "source": [
    "!ls data/testing/all_specz/"
   ]
  },
  {
   "cell_type": "code",
   "execution_count": null,
   "id": "0d784cac-26b4-4ada-847d-2188d7f23163",
   "metadata": {},
   "outputs": [],
   "source": []
  }
 ],
 "metadata": {
  "kernelspec": {
   "display_name": "Python (herschelhelp_internal)",
   "language": "python",
   "name": "helpint"
  },
  "language_info": {
   "codemirror_mode": {
    "name": "ipython",
    "version": 3
   },
   "file_extension": ".py",
   "mimetype": "text/x-python",
   "name": "python",
   "nbconvert_exporter": "python",
   "pygments_lexer": "ipython3",
   "version": "3.6.12"
  }
 },
 "nbformat": 4,
 "nbformat_minor": 5
}
