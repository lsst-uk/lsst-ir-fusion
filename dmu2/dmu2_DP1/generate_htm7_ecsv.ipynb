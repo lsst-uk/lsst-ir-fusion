{
 "cells": [
  {
   "cell_type": "markdown",
   "id": "03f548d9-54bb-4193-84b6-1afdb8ac8372",
   "metadata": {},
   "source": [
    "**Generate_htm7_ecsv**\n",
    "\n",
    "This script automatically generates an ECSV file listing FITS files \n",
    "and their corresponding HTM7 IDs. It scans a given folder for all \n",
    "FITS files, extracts the numeric part of the filename as the HTM7 ID, \n",
    "and writes the results to an ECSV file compatible with Astropy.\n",
    "\n",
    "Usage:\n",
    "- Set the 'folder' variable to the directory containing your FITS files.\n",
    "- Run the script.\n",
    "- The output ECSV will contain two columns: 'filename' and 'htm7'."
   ]
  },
  {
   "cell_type": "code",
   "execution_count": 1,
   "id": "dacb3fb4-3efc-479a-9c34-03c183df0e24",
   "metadata": {},
   "outputs": [
    {
     "name": "stdout",
     "output_type": "stream",
     "text": [
      "Saved 24 entries to data/video_cdfs/filename_to_htm.ecsv\n"
     ]
    }
   ],
   "source": [
    "import os\n",
    "from astropy.table import Table\n",
    "\n",
    "# Folder containing your FITS files\n",
    "folder = \"data/video_cdfs/the_monster_20250219_vista/\"\n",
    "\n",
    "# Lists to store filenames and htm7 IDs\n",
    "filenames = []\n",
    "htm7_ids = []\n",
    "\n",
    "# Loop through all .fits files in the folder\n",
    "for file in sorted(os.listdir(folder)):\n",
    "    if file.endswith(\".fits\"):\n",
    "        full_path = os.path.join(folder, file)\n",
    "        filenames.append(full_path)\n",
    "        \n",
    "        # Extract the numeric part from filename as htm7\n",
    "        # Example: 134060.fits -> 134060\n",
    "        htm7 = int(os.path.splitext(file)[0])\n",
    "        htm7_ids.append(htm7)\n",
    "\n",
    "# Create Astropy Table\n",
    "t = Table([filenames, htm7_ids], names=('filename', 'htm7'))\n",
    "\n",
    "# Write to ECSV\n",
    "t.write('data/video_cdfs/filename_to_htm.ecsv', format='ascii.ecsv', overwrite=True)\n",
    "\n",
    "print(f\"Saved {len(filenames)} entries to data/video_cdfs/filename_to_htm.ecsv\")\n"
   ]
  }
 ],
 "metadata": {
  "kernelspec": {
   "display_name": "Python 3 (ipykernel)",
   "language": "python",
   "name": "python3"
  },
  "language_info": {
   "codemirror_mode": {
    "name": "ipython",
    "version": 3
   },
   "file_extension": ".py",
   "mimetype": "text/x-python",
   "name": "python",
   "nbconvert_exporter": "python",
   "pygments_lexer": "ipython3",
   "version": "3.13.5"
  }
 },
 "nbformat": 4,
 "nbformat_minor": 5
}
