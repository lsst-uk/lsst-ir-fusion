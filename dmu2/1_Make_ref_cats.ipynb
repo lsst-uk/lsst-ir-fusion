{
 "cells": [
  {
   "cell_type": "markdown",
   "metadata": {},
   "source": [
    "# 1 Making the reference catalogues"
   ]
  },
  {
   "cell_type": "code",
   "execution_count": 1,
   "metadata": {},
   "outputs": [],
   "source": [
    "import lsst\n",
    "import lsst.afw.table as afwTable\n",
    "import lsst.afw.geom as afwGeom\n",
    "import lsst.geom as geom\n",
    "import numpy as np\n",
    "\n",
    "from astropy.io import fits"
   ]
  },
  {
   "cell_type": "code",
   "execution_count": null,
   "metadata": {},
   "outputs": [],
   "source": [
    "ORIG = ''"
   ]
  },
  {
   "cell_type": "code",
   "execution_count": null,
   "metadata": {},
   "outputs": [],
   "source": [
    "col_dict={\n",
    "'flags':'1X',\n",
    " 'id':'1K',\n",
    " 'coord_ra':'1D',\n",
    " 'coord_dec':'1D',\n",
    " 'g_flux':'1D',\n",
    " 'r_flux':'1D',\n",
    " 'i_flux':'1D',\n",
    " 'z_flux':'1D',\n",
    " 'y_flux':'1D',\n",
    " 'g_fluxErr':'1D',\n",
    " 'r_fluxErr':'1D',\n",
    " 'i_fluxErr':'1D',\n",
    " 'z_fluxErr':'1D',\n",
    " 'y_fluxErr':'1D',\n",
    " 'coord_raErr':'1E',\n",
    " 'coord_decErr':'1E',\n",
    " 'epoch':'1D',\n",
    " 'pm_ra':'1D',\n",
    " 'pm_dec':'1D',\n",
    " 'pm_raErr':'1E',\n",
    " 'pm_decErr':'1E',\n",
    " 'parent':'1K',\n",
    " 'footprint':'1J',\n",
    " 'j_flux':'1D',\n",
    " 'j_fluxErr':'1D',\n",
    " 'h_flux':'1D',\n",
    " 'h_fluxErr':'1D',\n",
    " 'ks_flux':'1D',\n",
    " 'ks_fluxErr':'1D'}"
   ]
  },
  {
   "cell_type": "code",
   "execution_count": null,
   "metadata": {},
   "outputs": [],
   "source": [
    "unit_dict={\n",
    "'flags':'',\n",
    " 'id':'',\n",
    " 'coord_ra':'rad',\n",
    " 'coord_dec':'rad',\n",
    " 'g_flux':'Jy',\n",
    " 'r_flux':'Jy',\n",
    " 'i_flux':'Jy',\n",
    " 'z_flux':'Jy',\n",
    " 'y_flux':'Jy',\n",
    " 'g_fluxErr':'Jy',\n",
    " 'r_fluxErr':'Jy',\n",
    " 'i_fluxErr':'Jy',\n",
    " 'z_fluxErr':'Jy',\n",
    " 'y_fluxErr':'Jy',\n",
    " 'coord_raErr':'rad',\n",
    " 'coord_decErr':'rad',\n",
    " 'epoch':'day',\n",
    " 'pm_ra':'rad',\n",
    " 'pm_dec':'rad',\n",
    " 'pm_raErr':'rad/year',\n",
    " 'pm_decErr':'rad/year',\n",
    " 'parent':'',\n",
    " 'footprint':'',\n",
    " 'j_flux':'Jy',\n",
    " 'j_fluxErr':'Jy',\n",
    " 'h_flux':'Jy',\n",
    " 'h_fluxErr':'Jy',\n",
    " 'ks_flux':'Jy',\n",
    " 'ks_fluxErr':'Jy'}"
   ]
  },
  {
   "cell_type": "code",
   "execution_count": null,
   "metadata": {},
   "outputs": [],
   "source": [
    "cls_dict={\n",
    "'flags':'',\n",
    " 'id':'',\n",
    " 'coord_ra':'Angle',\n",
    " 'coord_dec':'Angle',\n",
    " 'g_flux':'Scalar',\n",
    " 'r_flux':'Scalar',\n",
    " 'i_flux':'Scalar',\n",
    " 'z_flux':'Scalar',\n",
    " 'y_flux':'Scalar',\n",
    " 'g_fluxErr':'Scalar',\n",
    " 'r_fluxErr':'Scalar',\n",
    " 'i_fluxErr':'Scalar',\n",
    " 'z_fluxErr':'Scalar',\n",
    " 'y_fluxErr':'Scalar',\n",
    " 'coord_raErr':'Scalar',\n",
    " 'coord_decErr':'Scalar',\n",
    " 'epoch':'Scalar',\n",
    " 'pm_ra':'Angle',\n",
    " 'pm_dec':'Angle',\n",
    " 'pm_raErr':'Scalar',\n",
    " 'pm_decErr':'Scalar',\n",
    " 'parent':'Scalar',\n",
    " 'footprint':'Scalar',\n",
    " 'j_flux':'Scalar',\n",
    " 'j_fluxErr':'Scalar',\n",
    " 'h_flux':'Scalar',\n",
    " 'h_fluxErr':'Scalar',\n",
    " 'ks_flux':'Scalar',\n",
    " 'ks_fluxErr':'Scalar'}"
   ]
  },
  {
   "cell_type": "code",
   "execution_count": null,
   "metadata": {},
   "outputs": [],
   "source": [
    "docs_dict={\n",
    "'flags':'',\n",
    " 'id':'',\n",
    " 'coord_ra':'',\n",
    " 'coord_dec':'',\n",
    " 'g_flux':'',\n",
    " 'r_flux':'',\n",
    " 'i_flux':'',\n",
    " 'z_flux':'',\n",
    " 'y_flux':'',\n",
    " 'g_fluxErr':'',\n",
    " 'r_fluxErr':'',\n",
    " 'i_fluxErr':'',\n",
    " 'z_fluxErr':'',\n",
    " 'y_fluxErr':'',\n",
    " 'coord_raErr':'',\n",
    " 'coord_decErr':'',\n",
    " 'epoch':'',\n",
    " 'pm_ra':'',\n",
    " 'pm_dec':'',\n",
    " 'pm_raErr':'',\n",
    " 'pm_decErr':'',\n",
    " 'parent':'',\n",
    " 'footprint':'',\n",
    " 'j_flux':'',\n",
    " 'j_fluxErr':'',\n",
    " 'h_flux':'',\n",
    " 'h_fluxErr':'',\n",
    " 'ks_flux':'',\n",
    " 'ks_fluxErr':''}"
   ]
  },
  {
   "cell_type": "code",
   "execution_count": null,
   "metadata": {},
   "outputs": [],
   "source": []
  },
  {
   "cell_type": "code",
   "execution_count": null,
   "metadata": {},
   "outputs": [],
   "source": []
  }
 ],
 "metadata": {
  "kernelspec": {
   "display_name": "LSST",
   "language": "python",
   "name": "lsst"
  },
  "language_info": {
   "codemirror_mode": {
    "name": "ipython",
    "version": 3
   },
   "file_extension": ".py",
   "mimetype": "text/x-python",
   "name": "python",
   "nbconvert_exporter": "python",
   "pygments_lexer": "ipython3",
   "version": "3.7.6"
  }
 },
 "nbformat": 4,
 "nbformat_minor": 4
}
