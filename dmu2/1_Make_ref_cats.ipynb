{
 "cells": [
  {
   "cell_type": "markdown",
   "metadata": {},
   "source": [
    "# 1 Making the reference catalogues\n",
    "\n",
    "\n",
    "We need a photometric and astrometric reference. We are going to take the HSC PanSTARRS reference as a base and cross match in the VIDEO JHKs fluxes from HELP. \n",
    "\n",
    "\n",
    "The final astrometric reference catalogue will probably be GAIA DR2 astrometry and PanSTARSS plus either 2MASS or the original VISTA catalogues."
   ]
  },
  {
   "cell_type": "code",
   "execution_count": 28,
   "metadata": {},
   "outputs": [],
   "source": [
    "from lsst.meas.algorithms.htmIndexer import HtmIndexer\n",
    "from lsst.geom import SpherePoint \n",
    "from lsst.geom import degrees\n",
    "\n",
    "import numpy as np\n",
    "from astropy.io import fits\n",
    "\n"
   ]
  },
  {
   "cell_type": "code",
   "execution_count": 29,
   "metadata": {},
   "outputs": [],
   "source": [
    "ORIG = ''\n",
    "EX_CAT = \"../dmu0/dmu0_PanStarrs/data/ps1_pv3_3pi_20170110_GmagLT19/133200.fits\"\n",
    "EX_MS = \"../dmu0/dmu0_PanStarrs/data/ps1_pv3_3pi_20170110_GmagLT19/master_schema.fits\""
   ]
  },
  {
   "cell_type": "code",
   "execution_count": 30,
   "metadata": {},
   "outputs": [
    {
     "data": {
      "text/plain": [
       "array([133201, 133202, 133203, 133314, 133200, 133206, 133209, 133213,\n",
       "       133214, 133215, 133312, 133313, 133315, 133321, 133325, 133326,\n",
       "       133327, 134048, 134049, 134051, 134054, 134062])"
      ]
     },
     "execution_count": 30,
     "metadata": {},
     "output_type": "execute_result"
    }
   ],
   "source": [
    "def getShards(ra, dec, radius):\n",
    "    htm = HtmIndexer(depth=7)\n",
    "    shards, onBoundary = htm.getShardIds(SpherePoint(ra*degrees, dec*degrees), radius*degrees)\n",
    "    return shards\n",
    "getShards(35.428,  -4.90777, 1.0)"
   ]
  },
  {
   "cell_type": "code",
   "execution_count": 2,
   "metadata": {},
   "outputs": [
    {
     "name": "stdout",
     "output_type": "stream",
     "text": [
      "scp ir-shir1@login.hpc.cam.ac.uk:~/rds/rds-iris-ip005/data/public/PanSTARRS/ps1_pv3_3pi_20170110_GmagLT19/\\{133200.fits,133201.fits,133202.fits,133203.fits,133206.fits,133209.fits,133212.fits,133213.fits,133214.fits,133215.fits,133282.fits,133289.fits,133293.fits,133312.fits,133313.fits,133314.fits,133315.fits,133317.fits,133318.fits,133319.fits,133321.fits,133322.fits,133323.fits,133324.fits,133325.fits,133326.fits,133327.fits,134049.fits,133204.fits,133205.fits,133207.fits,133208.fits,133210.fits,133211.fits,133234.fits,133241.fits,133245.fits,133280.fits,133281.fits,133283.fits,133288.fits,133290.fits,133291.fits,133292.fits,133294.fits,133295.fits,133316.fits,133320.fits,133364.fits,133365.fits,133367.fits,133368.fits,133370.fits,133371.fits,133372.fits,133968.fits,134048.fits,134050.fits,134051.fits,134052.fits,134054.fits,134055.fits,134061.fits,134062.fits,134063.fits,134080.fits,\\} ./\n"
     ]
    }
   ],
   "source": [
    "#Everything in SXDS DUD region\n",
    "ps_refcats = getShards(36.,  -5.0, 2.0)\n",
    "files = ''\n",
    "for c in ps_refcats:\n",
    "    files += '{}.fits,'.format(c)\n",
    "print('scp ir-shir1@login.hpc.cam.ac.uk:~/rds/rds-iris-ip005/data/public/PanSTARRS/ps1_pv3_3pi_20170110_GmagLT19/\\{'\n",
    "      +files+'\\} ./')"
   ]
  },
  {
   "cell_type": "code",
   "execution_count": 3,
   "metadata": {},
   "outputs": [],
   "source": [
    "sql = \"\"\"\n",
    "SELECT \n",
    "    ra, \n",
    "    dec, \n",
    "    f_vista_j, \n",
    "    ferr_vista_j, \n",
    "    f_vista_h, \n",
    "    ferr_vista_h, \n",
    "    f_vista_ks, \n",
    "    ferr_vista_ks \n",
    "FROM herschelhelp.main \n",
    "WHERE \n",
    "    ra > 33.5 \n",
    "    AND ra < 38. \n",
    "    AND dec > -6.5 \n",
    "    AND dec < -3. \n",
    "    AND f_vista_ks IS NOT NULL \n",
    "    AND m_gpc1_g < 19.\n",
    "\"\"\""
   ]
  },
  {
   "cell_type": "code",
   "execution_count": 4,
   "metadata": {},
   "outputs": [],
   "source": [
    "import pyvo as vo\n",
    "service = vo.dal.TAPService(\n",
    "    \"https://herschel-vos.phys.sussex.ac.uk/__system__/tap/run/tap\"\n",
    ")"
   ]
  },
  {
   "cell_type": "code",
   "execution_count": 5,
   "metadata": {},
   "outputs": [
    {
     "name": "stdout",
     "output_type": "stream",
     "text": [
      "Job COMPLETED running after 42 seconds.\n"
     ]
    }
   ],
   "source": [
    "import time\n",
    "job = service.submit_job(sql)\n",
    "start_time = time.time()\n",
    "job.run()\n",
    "job_url = job.url\n",
    "job.wait(phases='COMPLETED')\n",
    "print('Job {} running after {} seconds.'.format(job.phase, round(time.time() - start_time)))"
   ]
  },
  {
   "cell_type": "code",
   "execution_count": 6,
   "metadata": {},
   "outputs": [
    {
     "name": "stderr",
     "output_type": "stream",
     "text": [
      "WARNING: AstropyDeprecationWarning: Using the table property is deprecated. Please use se to_table() instead. [pyvo.dal.query]\n"
     ]
    }
   ],
   "source": [
    "result = job.fetch_result()\n",
    "v_flux = result.table"
   ]
  },
  {
   "cell_type": "code",
   "execution_count": 7,
   "metadata": {},
   "outputs": [
    {
     "data": {
      "text/plain": [
       "11075"
      ]
     },
     "execution_count": 7,
     "metadata": {},
     "output_type": "execute_result"
    }
   ],
   "source": [
    "len(v_flux)"
   ]
  },
  {
   "cell_type": "code",
   "execution_count": 8,
   "metadata": {},
   "outputs": [],
   "source": [
    "def clean_table(table):\n",
    "    \"\"\"Take a table produced by a VO query and remove all empty columns\n",
    "    \n",
    "    Often many columns are empty and make the tables hard to read.\n",
    "    The function also converts columsn that are objects to strings.\n",
    "    Object columns prevent writing to fits.\n",
    "    \n",
    "    Inputs\n",
    "    =======\n",
    "    table,    Astropy.table.Table\n",
    "        The input table\n",
    "    \n",
    "    Returns\n",
    "    =======\n",
    "    table,    Astropy.table.Table\n",
    "         The modified table.\n",
    "    \n",
    "    \"\"\"\n",
    "    table = table.copy()\n",
    "    if len(table) == 0:\n",
    "        return table\n",
    "    for col in table.colnames:\n",
    "        #Remove empty columns\n",
    "        try:\n",
    "            if np.all(table[col].mask):\n",
    "                print(\"Removing empty column: {}\".format(col))\n",
    "                table.remove_column(col)\n",
    "                continue\n",
    "        except AttributeError:\n",
    "            print(\"{} is not a masked columns\".format(col))\n",
    "            \n",
    "        #Get rid of column type object from VO queries\n",
    "        if table[col].dtype == 'object':\n",
    "            print(\"Converting column {} type from object to string\".format(col) )\n",
    "            table[col] = table[col].astype(str)\n",
    " \n",
    "        #Get rid of unit '-' from some tables\n",
    "        if table[col].unit == '-':\n",
    "            print(\"Converting column {} unit from '-' to None\".format(col) )\n",
    "            table[col].unit = None   \n",
    "            \n",
    "        #replace masked floats with nans     \n",
    "        if table[col].dtype == float:\n",
    "            table[col].fill_value = np.nan\n",
    "    \n",
    "    table = table.filled()\n",
    "            \n",
    "    return table"
   ]
  },
  {
   "cell_type": "code",
   "execution_count": 12,
   "metadata": {},
   "outputs": [],
   "source": [
    "v_flux = clean_table(v_flux)"
   ]
  },
  {
   "cell_type": "code",
   "execution_count": 13,
   "metadata": {},
   "outputs": [],
   "source": [
    "import astropy.units as u"
   ]
  },
  {
   "cell_type": "code",
   "execution_count": 14,
   "metadata": {},
   "outputs": [],
   "source": [
    "import astropy.units as u\n",
    "for col in v_flux.colnames:\n",
    "    if col.startswith('f'):\n",
    "        v_flux[col] /= 1.E6\n",
    "        v_flux[col].unit = u.Jansky\n"
   ]
  },
  {
   "cell_type": "code",
   "execution_count": 15,
   "metadata": {},
   "outputs": [],
   "source": [
    "v_flux['ra'].convert_unit_to(u.rad)\n",
    "v_flux['dec'].convert_unit_to(u.rad)\n",
    "v_flux['ra'].name = 'v_ra'\n",
    "v_flux['dec'].name = 'v_dec'"
   ]
  },
  {
   "cell_type": "code",
   "execution_count": 16,
   "metadata": {},
   "outputs": [],
   "source": [
    "v_flux['f_vista_j'].name = 'j_flux'\n",
    "v_flux['ferr_vista_j'].name = 'j_fluxErr'\n",
    "v_flux['f_vista_h'].name = 'h_flux'\n",
    "v_flux['ferr_vista_h'].name = 'h_fluxErr'\n",
    "v_flux['f_vista_ks'].name = 'ks_flux'\n",
    "v_flux['ferr_vista_ks'].name = 'ks_fluxErr'"
   ]
  },
  {
   "cell_type": "code",
   "execution_count": 17,
   "metadata": {},
   "outputs": [],
   "source": [
    "import logging\n",
    "LOGGER = logging.getLogger(__name__)\n",
    "from astropy.coordinates import SkyCoord, Angle\n",
    "import astropy.units as u\n",
    "from collections import Counter\n",
    "from astropy.table import Table, Column, hstack, vstack\n",
    "def merge_catalogues(cat_1, cat_2, racol_2, decol_2, radius=0.4*u.arcsec):\n",
    "    \"\"\"Merge two catalogues\n",
    "    This function merges the second catalogue into the first one using the\n",
    "    given radius to associate identical sources.  This function takes care to\n",
    "    associate only one source of one catalogue to the other.  The sources that\n",
    "    may be associated to various counterparts in the other catalogue are\n",
    "    flagged as “maybe spurious association” with a true value in the\n",
    "    flag_merged column.  If this column is present in the first catalogue, it's\n",
    "    content is “inherited” during the merge.\n",
    "    Parameters\n",
    "    ----------\n",
    "    cat_1: astropy.table.Table\n",
    "        The table containing the first catalogue.  This is the master catalogue\n",
    "        used during the merge.  If it has a “flag_merged” column it's content\n",
    "        will be re-used in the flagging of the spurious merges.  This catalogue\n",
    "        must contain a ‘ra’ and a ‘dec’ columns with the position in decimal\n",
    "        degrees.\n",
    "    cat_2: astropy.table.Table\n",
    "        The table containing the second catalogue.\n",
    "    racol_2: string\n",
    "        Name of the column in the second table containing the right ascension\n",
    "        in decimal degrees.\n",
    "    decol_2: string\n",
    "        Name of the column in the second table containing the declination in\n",
    "        decimal degrees.\n",
    "    radius: astropy.units.quantity.Quantity\n",
    "        The radius to associate identical sources in the two catalogues.\n",
    "    Returns\n",
    "    -------\n",
    "    astropy.table.Table\n",
    "        The merged catalogue.\n",
    "    \"\"\"\n",
    "    cat_1 = cat_1.copy()\n",
    "    cat_2 = cat_2.copy()\n",
    "    cat_1['ra'].unit = u.rad\n",
    "    cat_1['dec'].unit = u.rad\n",
    "    coords_1 = SkyCoord(cat_1['ra'], cat_1['dec'])\n",
    "\n",
    "    \n",
    "    cat_2[racol_2].unit = u.rad\n",
    "    cat_2[decol_2].unit = u.rad\n",
    "    coords_2 = SkyCoord(cat_2[racol_2], cat_2[decol_2])\n",
    "\n",
    "    # Search for sources in second catalogue matching the sources in the first\n",
    "    # one.\n",
    "    idx_2, idx_1, d2d, _ = coords_1.search_around_sky(coords_2, radius)\n",
    "\n",
    "    # We want to flag the possible mis-associations, i.e. the sources in each\n",
    "    # catalogue that are associated to several sources in the other one, but\n",
    "    # also all the sources that are associated to a problematic source in the\n",
    "    # other catalogue (e.g. if two sources in the first catalogue are\n",
    "    # associated to the same source in the second catalogue, they must be\n",
    "    # flagged as potentially problematic).\n",
    "    #\n",
    "    # Search for duplicate associations\n",
    "    toflag_idx_1 = np.unique([item for item, count in Counter(idx_1).items()\n",
    "                              if count > 1])\n",
    "    toflag_idx_2 = np.unique([item for item, count in Counter(idx_2).items()\n",
    "                              if count > 1])\n",
    "    # Flagging the sources associated to duplicates\n",
    "    dup_associated_in_idx1 = np.in1d(idx_2, toflag_idx_2)\n",
    "    dup_associated_in_idx2 = np.in1d(idx_1, toflag_idx_1)\n",
    "    toflag_idx_1 = np.unique(np.concatenate(\n",
    "        (toflag_idx_1, idx_1[dup_associated_in_idx1])\n",
    "    ))\n",
    "    toflag_idx_2 = np.unique(np.concatenate(\n",
    "        (toflag_idx_2, idx_2[dup_associated_in_idx2])\n",
    "    ))\n",
    "\n",
    "    # Adding the flags to the catalogue.  In the second catalogue, the column\n",
    "    # is named \"flag_merged_2\" and will be combined to the flag_merged column\n",
    "    # one the merge is done.\n",
    "    try:\n",
    "        cat_1[\"flag_merged\"] |= np.in1d(np.arange(len(cat_1), dtype=int),\n",
    "                                        toflag_idx_1)\n",
    "    except KeyError:\n",
    "        cat_1.add_column(Column(\n",
    "            data=np.in1d(np.arange(len(cat_1), dtype=int), toflag_idx_1),\n",
    "            name=\"flag_merged\"\n",
    "        ))\n",
    "    try:\n",
    "        cat_2[\"flag_merged_2\"] |= np.in1d(np.arange(len(cat_2), dtype=int), toflag_idx_2)\n",
    "    except KeyError:\n",
    "        cat_2.add_column(Column(\n",
    "            data=np.in1d(np.arange(len(cat_2), dtype=int), toflag_idx_2),\n",
    "            name=\"flag_merged_2\"\n",
    "        ))\n",
    "\n",
    "\n",
    "    # Now that we have flagged the maybe spurious associations, we want to\n",
    "    # associate each source of each catalogue to at most one source in the\n",
    "    # other one.\n",
    "\n",
    "    # We sort the indices by the distance to take the nearest counterparts in\n",
    "    # the following steps.\n",
    "    sort_idx = np.argsort(d2d)\n",
    "    idx_1 = idx_1[sort_idx]\n",
    "    idx_2 = idx_2[sort_idx]\n",
    "\n",
    "    # These array will contain the indexes of the matching sources in both\n",
    "    # catalogues.\n",
    "    match_idx_1 = np.array([], dtype=int)\n",
    "    match_idx_2 = np.array([], dtype=int)\n",
    "\n",
    "    while len(idx_1) > 0:\n",
    "\n",
    "        both_first_idx = np.sort(np.intersect1d(\n",
    "            np.unique(idx_1, return_index=True)[1],\n",
    "            np.unique(idx_2, return_index=True)[1],\n",
    "        ))\n",
    "\n",
    "        new_match_idx_1 = idx_1[both_first_idx]\n",
    "        new_match_idx_2 = idx_2[both_first_idx]\n",
    "\n",
    "        match_idx_1 = np.concatenate((match_idx_1, new_match_idx_1))\n",
    "        match_idx_2 = np.concatenate((match_idx_2, new_match_idx_2))\n",
    "\n",
    "        # We remove the matching sources in both catalogues.\n",
    "        to_remove = (np.in1d(idx_1, new_match_idx_1) |\n",
    "                     np.in1d(idx_2, new_match_idx_2))\n",
    "        idx_1 = idx_1[~to_remove]\n",
    "        idx_2 = idx_2[~to_remove]\n",
    "\n",
    "    # Indices of un-associated object in both catalogues.\n",
    "    unmatched_idx_1 = np.delete(np.arange(len(cat_1), dtype=int),match_idx_1)\n",
    "    unmatched_idx_2 = np.delete(np.arange(len(cat_2), dtype=int),match_idx_2)\n",
    "\n",
    "    # Sources only in cat_1\n",
    "    only_in_cat_1 = cat_1[unmatched_idx_1]\n",
    "\n",
    "    # Sources only in cat_2\n",
    "    only_in_cat_2 = cat_2[unmatched_idx_2]\n",
    "    # We are using the ra and dec columns from cat_2 for the position.\n",
    "    only_in_cat_2[racol_2].name = \"ra\"\n",
    "    only_in_cat_2[decol_2].name = \"dec\"\n",
    "\n",
    "    # Merged table of sources in both catalogues.\n",
    "    both_in_cat_1_and_cat_2 = hstack([cat_1[match_idx_1], cat_2[match_idx_2]])\n",
    "    # We don't need the positions from the second catalogue anymore.\n",
    "    both_in_cat_1_and_cat_2.remove_columns([racol_2, decol_2])\n",
    "\n",
    "    # Logging the number of rows\n",
    "    LOGGER.info(\"There are %s sources only in the first catalogue\",\n",
    "                len(only_in_cat_1))\n",
    "    LOGGER.info(\"There are %s sources only in the second catalogue\",\n",
    "                len(only_in_cat_2))\n",
    "    LOGGER.info(\"There are %s sources in both catalogues\",\n",
    "                len(both_in_cat_1_and_cat_2))\n",
    "\n",
    "    merged_catalogue = vstack([only_in_cat_1, both_in_cat_1_and_cat_2,\n",
    "                               only_in_cat_2])\n",
    "\n",
    "    # When vertically stacking the catalogues, some values in the flag columns\n",
    "    # are masked because they did not exist in the catalogue some row originate\n",
    "    # from. We must set them to the appropriate value.\n",
    "    for colname in merged_catalogue.colnames:\n",
    "        if 'flag' in colname:\n",
    "            merged_catalogue[colname][merged_catalogue[colname].mask] = False\n",
    "\n",
    "    # We combined the flag_merged flags\n",
    "    merged_catalogue['flag_merged'] |= merged_catalogue['flag_merged_2']\n",
    "    merged_catalogue.remove_column('flag_merged_2')\n",
    "    merged_catalogue.remove_column('flag_merged')\n",
    "    return merged_catalogue"
   ]
  },
  {
   "cell_type": "code",
   "execution_count": 18,
   "metadata": {},
   "outputs": [],
   "source": [
    "r_cat = Table.read(\"../dmu0/dmu0_PanStarrs/data/ps1_pv3_3pi_20170110_GmagLT19/133200.fits\")"
   ]
  },
  {
   "cell_type": "code",
   "execution_count": 19,
   "metadata": {},
   "outputs": [],
   "source": [
    "r_cat['flags'].format"
   ]
  },
  {
   "cell_type": "code",
   "execution_count": 23,
   "metadata": {},
   "outputs": [
    {
     "data": {
      "text/plain": [
       "XTENSION= 'BINTABLE'           / binary table extension                         \n",
       "BITPIX  =                    8 / array data type                                \n",
       "NAXIS   =                    2 / number of array dimensions                     \n",
       "NAXIS1  =                  205 / length of dimension 1                          \n",
       "NAXIS2  =                  119 / length of dimension 2                          \n",
       "PCOUNT  =                    0 / number of group parameters                     \n",
       "GCOUNT  =                    1 / number of groups                               \n",
       "TFIELDS =                   29 / number of table fields                         \n",
       "TTYPE1  = 'flags   '                                                            \n",
       "TFORM1  = '1X      '                                                            \n",
       "TTYPE2  = 'id      '                                                            \n",
       "TFORM2  = '1K      '                                                            \n",
       "TTYPE3  = 'coord_ra'                                                            \n",
       "TFORM3  = '1D      '                                                            \n",
       "TTYPE4  = 'coord_dec'                                                           \n",
       "TFORM4  = '1D      '                                                            \n",
       "TTYPE5  = 'g_flux  '                                                            \n",
       "TFORM5  = '1D      '                                                            \n",
       "TTYPE6  = 'r_flux  '                                                            \n",
       "TFORM6  = '1D      '                                                            \n",
       "TTYPE7  = 'i_flux  '                                                            \n",
       "TFORM7  = '1D      '                                                            \n",
       "TTYPE8  = 'z_flux  '                                                            \n",
       "TFORM8  = '1D      '                                                            \n",
       "TTYPE9  = 'y_flux  '                                                            \n",
       "TFORM9  = '1D      '                                                            \n",
       "TTYPE10 = 'g_fluxErr'                                                           \n",
       "TFORM10 = '1D      '                                                            \n",
       "TTYPE11 = 'r_fluxErr'                                                           \n",
       "TFORM11 = '1D      '                                                            \n",
       "TTYPE12 = 'i_fluxErr'                                                           \n",
       "TFORM12 = '1D      '                                                            \n",
       "TTYPE13 = 'z_fluxErr'                                                           \n",
       "TFORM13 = '1D      '                                                            \n",
       "TTYPE14 = 'y_fluxErr'                                                           \n",
       "TFORM14 = '1D      '                                                            \n",
       "TTYPE15 = 'coord_raErr'                                                         \n",
       "TFORM15 = '1E      '                                                            \n",
       "TTYPE16 = 'coord_decErr'                                                        \n",
       "TFORM16 = '1E      '                                                            \n",
       "TTYPE17 = 'epoch   '                                                            \n",
       "TFORM17 = '1D      '                                                            \n",
       "TTYPE18 = 'pm_ra   '                                                            \n",
       "TFORM18 = '1D      '                                                            \n",
       "TTYPE19 = 'pm_dec  '                                                            \n",
       "TFORM19 = '1D      '                                                            \n",
       "TTYPE20 = 'pm_raErr'                                                            \n",
       "TFORM20 = '1E      '                                                            \n",
       "TTYPE21 = 'pm_decErr'                                                           \n",
       "TFORM21 = '1E      '                                                            \n",
       "TTYPE22 = 'parent  '                                                            \n",
       "TFORM22 = '1K      '                                                            \n",
       "TTYPE23 = 'footprint'                                                           \n",
       "TFORM23 = '1J      '                                                            \n",
       "TTYPE24 = 'j_flux  '                                                            \n",
       "TFORM24 = '1D      '                                                            \n",
       "TTYPE25 = 'j_fluxErr'                                                           \n",
       "TFORM25 = '1D      '                                                            \n",
       "TTYPE26 = 'h_flux  '                                                            \n",
       "TFORM26 = '1D      '                                                            \n",
       "TTYPE27 = 'h_fluxErr'                                                           \n",
       "TFORM27 = '1D      '                                                            \n",
       "TTYPE28 = 'ks_flux '                                                            \n",
       "TFORM28 = '1D      '                                                            \n",
       "TTYPE29 = 'ks_fluxErr'                                                          \n",
       "TFORM29 = '1D      '                                                            \n",
       "AFW_TYPE= 'SIMPLE  '                                                            \n",
       "HIERARCH AFW_TABLE_VERSION = 3                                                  \n",
       "FLAGCOL =                    1                                                  \n",
       "TFLAG1  = 'pm_flag '                                                            \n",
       "TDOC1   = ''                                                                    \n",
       "TDOC2   = ''                                                                    \n",
       "TCCLS3  = 'Angle   '                                                            \n",
       "TUNIT3  = 'rad     '                                                            \n",
       "TDOC3   = ''                                                                    \n",
       "TCCLS4  = 'Angle   '                                                            \n",
       "TUNIT4  = 'rad     '                                                            \n",
       "TDOC4   = ''                                                                    \n",
       "TCCLS5  = 'Scalar  '                                                            \n",
       "TUNIT5  = 'Jy      '                                                            \n",
       "TDOC5   = ''                                                                    \n",
       "TCCLS6  = 'Scalar  '                                                            \n",
       "TUNIT6  = 'Jy      '                                                            \n",
       "TDOC6   = ''                                                                    \n",
       "TCCLS7  = 'Scalar  '                                                            \n",
       "TUNIT7  = 'Jy      '                                                            \n",
       "TDOC7   = ''                                                                    \n",
       "TCCLS8  = 'Scalar  '                                                            \n",
       "TUNIT8  = 'Jy      '                                                            \n",
       "TDOC8   = ''                                                                    \n",
       "TCCLS9  = 'Scalar  '                                                            \n",
       "TUNIT9  = 'Jy      '                                                            \n",
       "TDOC9   = ''                                                                    \n",
       "TCCLS10 = 'Scalar  '                                                            \n",
       "TUNIT10 = 'Jy      '                                                            \n",
       "TDOC10  = ''                                                                    \n",
       "TCCLS11 = 'Scalar  '                                                            \n",
       "TUNIT11 = 'Jy      '                                                            \n",
       "TDOC11  = ''                                                                    \n",
       "TCCLS12 = 'Scalar  '                                                            \n",
       "TUNIT12 = 'Jy      '                                                            \n",
       "TDOC12  = ''                                                                    \n",
       "TCCLS13 = 'Scalar  '                                                            \n",
       "TUNIT13 = 'Jy      '                                                            \n",
       "TDOC13  = ''                                                                    \n",
       "TCCLS14 = 'Scalar  '                                                            \n",
       "TUNIT14 = 'Jy      '                                                            \n",
       "TDOC14  = ''                                                                    \n",
       "TCCLS15 = 'Scalar  '                                                            \n",
       "TUNIT15 = 'rad     '                                                            \n",
       "TDOC15  = ''                                                                    \n",
       "TCCLS16 = 'Scalar  '                                                            \n",
       "TUNIT16 = 'rad     '                                                            \n",
       "TDOC16  = ''                                                                    \n",
       "TCCLS17 = 'Scalar  '                                                            \n",
       "TUNIT17 = 'day     '                                                            \n",
       "TDOC17  = ''                                                                    \n",
       "TCCLS18 = 'Angle   '                                                            \n",
       "TUNIT18 = 'rad     '                                                            \n",
       "TDOC18  = ''                                                                    \n",
       "TCCLS19 = 'Angle   '                                                            \n",
       "TUNIT19 = 'rad     '                                                            \n",
       "TDOC19  = ''                                                                    \n",
       "TCCLS20 = 'Scalar  '                                                            \n",
       "TUNIT20 = 'rad/year'                                                            \n",
       "TDOC20  = ''                                                                    \n",
       "TCCLS21 = 'Scalar  '                                                            \n",
       "TUNIT21 = 'rad/year'                                                            \n",
       "TDOC21  = ''                                                                    \n",
       "TCCLS22 = 'Scalar  '                                                            \n",
       "TDOC22  = ''                                                                    \n",
       "TCCLS23 = 'Scalar  '                                                            \n",
       "TDOC23  = ''                                                                    \n",
       "TCCLS24 = 'Scalar  '                                                            \n",
       "TUNIT24 = 'Jy      '                                                            \n",
       "TDOC24  = ''                                                                    \n",
       "TCCLS25 = 'Scalar  '                                                            \n",
       "TUNIT25 = 'Jy      '                                                            \n",
       "TDOC25  = ''                                                                    \n",
       "TCCLS26 = 'Scalar  '                                                            \n",
       "TUNIT26 = 'Jy      '                                                            \n",
       "TDOC26  = ''                                                                    \n",
       "TCCLS27 = 'Scalar  '                                                            \n",
       "TUNIT27 = 'Jy      '                                                            \n",
       "TDOC27  = ''                                                                    \n",
       "TCCLS28 = 'Scalar  '                                                            \n",
       "TUNIT28 = 'Jy      '                                                            \n",
       "TDOC28  = ''                                                                    \n",
       "TCCLS29 = 'Scalar  '                                                            \n",
       "TUNIT29 = 'Jy      '                                                            \n",
       "TDOC29  = ''                                                                    "
      ]
     },
     "execution_count": 23,
     "metadata": {},
     "output_type": "execute_result"
    }
   ],
   "source": [
    "fits.open('./data/refcats/{}.fits'.format(c))[1].header"
   ]
  },
  {
   "cell_type": "code",
   "execution_count": 26,
   "metadata": {},
   "outputs": [
    {
     "data": {
      "text/plain": [
       "XTENSION= 'BINTABLE'           / binary table extension                         \n",
       "BITPIX  =                    8 / 8-bit bytes                                    \n",
       "NAXIS   =                    2 / 2-dimensional binary table                     \n",
       "NAXIS1  =                  157 / width of table in bytes                        \n",
       "NAXIS2  =                  250 / number of rows in table                        \n",
       "PCOUNT  =                    0 / size of special data area                      \n",
       "GCOUNT  =                    1 / one data group (required keyword)              \n",
       "TFIELDS =                   23 / number of fields in each row                   \n",
       "TTYPE1  = 'flags   '           / bits for all Flag fields; see also TFLAGn      \n",
       "TFORM1  = '1X      '           / format of field                                \n",
       "FLAGCOL =                    1 / Column number for the bitflags.                \n",
       "TTYPE2  = 'id      '           / unique ID                                      \n",
       "TFORM2  = '1K      '           / format of field                                \n",
       "TDOC2   = 'unique ID'                                                           \n",
       "TCCLS2  = 'Scalar  '           / Field template used by lsst.afw.table          \n",
       "TTYPE3  = 'coord_ra'           / position in ra/dec                             \n",
       "TFORM3  = '1D      '           / format of field                                \n",
       "TDOC3   = 'position in ra/dec'                                                  \n",
       "TUNIT3  = 'rad     '                                                            \n",
       "TCCLS3  = 'Angle   '           / Field template used by lsst.afw.table          \n",
       "TTYPE4  = 'coord_dec'          / position in ra/dec                             \n",
       "TFORM4  = '1D      '           / format of field                                \n",
       "TDOC4   = 'position in ra/dec'                                                  \n",
       "TUNIT4  = 'rad     '                                                            \n",
       "TCCLS4  = 'Angle   '           / Field template used by lsst.afw.table          \n",
       "TTYPE5  = 'g_flux  '           / flux in filter g                               \n",
       "TFORM5  = '1D      '           / format of field                                \n",
       "TDOC5   = 'flux in filter g'                                                    \n",
       "TUNIT5  = 'Jy      '                                                            \n",
       "TCCLS5  = 'Scalar  '           / Field template used by lsst.afw.table          \n",
       "TTYPE6  = 'r_flux  '           / flux in filter r                               \n",
       "TFORM6  = '1D      '           / format of field                                \n",
       "TDOC6   = 'flux in filter r'                                                    \n",
       "TUNIT6  = 'Jy      '                                                            \n",
       "TCCLS6  = 'Scalar  '           / Field template used by lsst.afw.table          \n",
       "TTYPE7  = 'i_flux  '           / flux in filter i                               \n",
       "TFORM7  = '1D      '           / format of field                                \n",
       "TDOC7   = 'flux in filter i'                                                    \n",
       "TUNIT7  = 'Jy      '                                                            \n",
       "TCCLS7  = 'Scalar  '           / Field template used by lsst.afw.table          \n",
       "TTYPE8  = 'z_flux  '           / flux in filter z                               \n",
       "TFORM8  = '1D      '           / format of field                                \n",
       "TDOC8   = 'flux in filter z'                                                    \n",
       "TUNIT8  = 'Jy      '                                                            \n",
       "TCCLS8  = 'Scalar  '           / Field template used by lsst.afw.table          \n",
       "TTYPE9  = 'y_flux  '           / flux in filter y                               \n",
       "TFORM9  = '1D      '           / format of field                                \n",
       "TDOC9   = 'flux in filter y'                                                    \n",
       "TUNIT9  = 'Jy      '                                                            \n",
       "TCCLS9  = 'Scalar  '           / Field template used by lsst.afw.table          \n",
       "TTYPE10 = 'g_fluxErr'          / flux uncertainty in filter g                   \n",
       "TFORM10 = '1D      '           / format of field                                \n",
       "TDOC10  = 'flux uncertainty in filter g'                                        \n",
       "TUNIT10 = 'Jy      '                                                            \n",
       "TCCLS10 = 'Scalar  '           / Field template used by lsst.afw.table          \n",
       "TTYPE11 = 'r_fluxErr'          / flux uncertainty in filter r                   \n",
       "TFORM11 = '1D      '           / format of field                                \n",
       "TDOC11  = 'flux uncertainty in filter r'                                        \n",
       "TUNIT11 = 'Jy      '                                                            \n",
       "TCCLS11 = 'Scalar  '           / Field template used by lsst.afw.table          \n",
       "TTYPE12 = 'i_fluxErr'          / flux uncertainty in filter i                   \n",
       "TFORM12 = '1D      '           / format of field                                \n",
       "TDOC12  = 'flux uncertainty in filter i'                                        \n",
       "TUNIT12 = 'Jy      '                                                            \n",
       "TCCLS12 = 'Scalar  '           / Field template used by lsst.afw.table          \n",
       "TTYPE13 = 'z_fluxErr'          / flux uncertainty in filter z                   \n",
       "TFORM13 = '1D      '           / format of field                                \n",
       "TDOC13  = 'flux uncertainty in filter z'                                        \n",
       "TUNIT13 = 'Jy      '                                                            \n",
       "TCCLS13 = 'Scalar  '           / Field template used by lsst.afw.table          \n",
       "TTYPE14 = 'y_fluxErr'          / flux uncertainty in filter y                   \n",
       "TFORM14 = '1D      '           / format of field                                \n",
       "TDOC14  = 'flux uncertainty in filter y'                                        \n",
       "TUNIT14 = 'Jy      '                                                            \n",
       "TCCLS14 = 'Scalar  '           / Field template used by lsst.afw.table          \n",
       "TTYPE15 = 'coord_raErr'        / 1-sigma uncertainty on ra                      \n",
       "TFORM15 = '1E      '           / format of field                                \n",
       "TDOC15  = '1-sigma uncertainty on ra'                                           \n",
       "TUNIT15 = 'rad     '                                                            \n",
       "TCCLS15 = 'Scalar  '           / Field template used by lsst.afw.table          \n",
       "TTYPE16 = 'coord_decErr'       / 1-sigma uncertainty on dec                     \n",
       "TFORM16 = '1E      '           / format of field                                \n",
       "TDOC16  = '1-sigma uncertainty on dec'                                          \n",
       "TUNIT16 = 'rad     '                                                            \n",
       "TCCLS16 = 'Scalar  '           / Field template used by lsst.afw.table          \n",
       "TTYPE17 = 'epoch   '           / date of observation (TAI, MJD)                 \n",
       "TFORM17 = '1D      '           / format of field                                \n",
       "TDOC17  = 'date of observation (TAI, MJD)'                                      \n",
       "TUNIT17 = 'day     '                                                            \n",
       "TCCLS17 = 'Scalar  '           / Field template used by lsst.afw.table          \n",
       "TTYPE18 = 'pm_ra   '           / proper motion in the right ascension direction \n",
       "TFORM18 = '1D      '           / format of field                                \n",
       "TDOC18  = 'proper motion in the right ascension direction = dra/dt * cos(dec)'  \n",
       "TUNIT18 = 'rad     '                                                            \n",
       "TCCLS18 = 'Angle   '           / Field template used by lsst.afw.table          \n",
       "TTYPE19 = 'pm_dec  '           / proper motion in the declination direction     \n",
       "TFORM19 = '1D      '           / format of field                                \n",
       "TDOC19  = 'proper motion in the declination direction'                          \n",
       "TUNIT19 = 'rad     '                                                            \n",
       "TCCLS19 = 'Angle   '           / Field template used by lsst.afw.table          \n",
       "TTYPE20 = 'pm_raErr'           / 1-sigma uncertainty on ra                      \n",
       "TFORM20 = '1E      '           / format of field                                \n",
       "TDOC20  = '1-sigma uncertainty on ra'                                           \n",
       "TUNIT20 = 'rad/year'                                                            \n",
       "TCCLS20 = 'Scalar  '           / Field template used by lsst.afw.table          \n",
       "TTYPE21 = 'pm_decErr'          / 1-sigma uncertainty on dec                     \n",
       "TFORM21 = '1E      '           / format of field                                \n",
       "TDOC21  = '1-sigma uncertainty on dec'                                          \n",
       "TUNIT21 = 'rad/year'                                                            \n",
       "TCCLS21 = 'Scalar  '           / Field template used by lsst.afw.table          \n",
       "TFLAG1  = 'pm_flag '                                                            \n",
       "TFDOC1  = 'Set if proper motion or proper motion error is bad'                  \n",
       "TTYPE22 = 'parent  '                                                            \n",
       "TFORM22 = '1K      '           / format of field                                \n",
       "TCCLS22 = 'Scalar  '           / Field template used by lsst.afw.table          \n",
       "TTYPE23 = 'footprint'                                                           \n",
       "TFORM23 = '1J      '           / format of field                                \n",
       "TCCLS23 = 'Scalar  '           / Field template used by lsst.afw.table          \n",
       "HIERARCH AFW_TABLE_VERSION = 3                                                  \n",
       "AFW_TYPE= 'SIMPLE  '           / Tells lsst::afw to load this as a Simple table."
      ]
     },
     "execution_count": 26,
     "metadata": {},
     "output_type": "execute_result"
    }
   ],
   "source": [
    "fits.open('../dmu0/dmu0_PanSTARRS/data/ps1_pv3_3pi_20170110_GmagLT19/133200.fits')[1].header"
   ]
  },
  {
   "cell_type": "code",
   "execution_count": 33,
   "metadata": {},
   "outputs": [],
   "source": [
    "col_dict={\n",
    "'flags':'1X',\n",
    " 'id':'1K',\n",
    " 'coord_ra':'1D',\n",
    " 'coord_dec':'1D',\n",
    " 'g_flux':'1D',\n",
    " 'r_flux':'1D',\n",
    " 'i_flux':'1D',\n",
    " 'z_flux':'1D',\n",
    " 'y_flux':'1D',\n",
    " 'g_fluxErr':'1D',\n",
    " 'r_fluxErr':'1D',\n",
    " 'i_fluxErr':'1D',\n",
    " 'z_fluxErr':'1D',\n",
    " 'y_fluxErr':'1D',\n",
    " 'coord_raErr':'1E',\n",
    " 'coord_decErr':'1E',\n",
    " 'epoch':'1D',\n",
    " 'pm_ra':'1D',\n",
    " 'pm_dec':'1D',\n",
    " 'pm_raErr':'1E',\n",
    " 'pm_decErr':'1E',\n",
    " 'parent':'1K',\n",
    " 'footprint':'1J',\n",
    " 'j_flux':'1D',\n",
    " 'j_fluxErr':'1D',\n",
    " 'h_flux':'1D',\n",
    " 'h_fluxErr':'1D',\n",
    " 'ks_flux':'1D',\n",
    " 'ks_fluxErr':'1D'}\n",
    "\n",
    "cls_dict={\n",
    "'flags':'',\n",
    " 'id':'',\n",
    " 'coord_ra':'Angle',\n",
    " 'coord_dec':'Angle',\n",
    " 'g_flux':'Scalar',\n",
    " 'r_flux':'Scalar',\n",
    " 'i_flux':'Scalar',\n",
    " 'z_flux':'Scalar',\n",
    " 'y_flux':'Scalar',\n",
    " 'g_fluxErr':'Scalar',\n",
    " 'r_fluxErr':'Scalar',\n",
    " 'i_fluxErr':'Scalar',\n",
    " 'z_fluxErr':'Scalar',\n",
    " 'y_fluxErr':'Scalar',\n",
    " 'coord_raErr':'Scalar',\n",
    " 'coord_decErr':'Scalar',\n",
    " 'epoch':'Scalar',\n",
    " 'pm_ra':'Angle',\n",
    " 'pm_dec':'Angle',\n",
    " 'pm_raErr':'Scalar',\n",
    " 'pm_decErr':'Scalar',\n",
    " 'parent':'Scalar',\n",
    " 'footprint':'Scalar',\n",
    " 'j_flux':'Scalar',\n",
    " 'j_fluxErr':'Scalar',\n",
    " 'h_flux':'Scalar',\n",
    " 'h_fluxErr':'Scalar',\n",
    " 'ks_flux':'Scalar',\n",
    " 'ks_fluxErr':'Scalar'}\n",
    "\n",
    "unit_dict={\n",
    "'flags':'',\n",
    " 'id':'',\n",
    " 'coord_ra':'rad',\n",
    " 'coord_dec':'rad',\n",
    " 'g_flux':'Jy',\n",
    " 'r_flux':'Jy',\n",
    " 'i_flux':'Jy',\n",
    " 'z_flux':'Jy',\n",
    " 'y_flux':'Jy',\n",
    " 'g_fluxErr':'Jy',\n",
    " 'r_fluxErr':'Jy',\n",
    " 'i_fluxErr':'Jy',\n",
    " 'z_fluxErr':'Jy',\n",
    " 'y_fluxErr':'Jy',\n",
    " 'coord_raErr':'rad',\n",
    " 'coord_decErr':'rad',\n",
    " 'epoch':'day',\n",
    " 'pm_ra':'rad',\n",
    " 'pm_dec':'rad',\n",
    " 'pm_raErr':'rad/year',\n",
    " 'pm_decErr':'rad/year',\n",
    " 'parent':'',\n",
    " 'footprint':'',\n",
    " 'j_flux':'Jy',\n",
    " 'j_fluxErr':'Jy',\n",
    " 'h_flux':'Jy',\n",
    " 'h_fluxErr':'Jy',\n",
    " 'ks_flux':'Jy',\n",
    " 'ks_fluxErr':'Jy'}\n",
    "\n",
    "docs_dict={\n",
    "'flags':'',\n",
    " 'id':'',\n",
    " 'coord_ra':'',\n",
    " 'coord_dec':'',\n",
    " 'g_flux':'',\n",
    " 'r_flux':'',\n",
    " 'i_flux':'',\n",
    " 'z_flux':'',\n",
    " 'y_flux':'',\n",
    " 'g_fluxErr':'',\n",
    " 'r_fluxErr':'',\n",
    " 'i_fluxErr':'',\n",
    " 'z_fluxErr':'',\n",
    " 'y_fluxErr':'',\n",
    " 'coord_raErr':'',\n",
    " 'coord_decErr':'',\n",
    " 'epoch':'',\n",
    " 'pm_ra':'',\n",
    " 'pm_dec':'',\n",
    " 'pm_raErr':'',\n",
    " 'pm_decErr':'',\n",
    " 'parent':'',\n",
    " 'footprint':'',\n",
    " 'j_flux':'',\n",
    " 'j_fluxErr':'',\n",
    " 'h_flux':'',\n",
    " 'h_fluxErr':'',\n",
    " 'ks_flux':'',\n",
    " 'ks_fluxErr':''}"
   ]
  },
  {
   "cell_type": "code",
   "execution_count": null,
   "metadata": {},
   "outputs": [],
   "source": [
    "for c in ps_refcats:\n",
    "    r_cat = Table.read(\"../dmu0/dmu0_PanStarrs/data/ps1_pv3_3pi_20170110_GmagLT19/{}.fits\".format(c))\n",
    "    r_cat['coord_ra'].name = 'ra'\n",
    "    r_cat['coord_dec'].name = 'dec'\n",
    "    merge = merge_catalogues(r_cat, v_flux, 'v_ra', 'v_dec', radius=0.4*u.arcsec)\n",
    "    has_both  = (merge['ks_flux']>0.) & (merge['g_flux'] >0.)\n",
    "    merge['ra'].name = 'coord_ra'\n",
    "    merge['dec'].name = 'coord_dec'\n",
    "    merge['flags'].format = '1X'\n",
    "    merge['epoch'] = merge['epoch'].astype('int32')\n",
    "    #merge[has_both].write('./data/refcats/{}.fits'.format(c), overwrite=True)\n",
    "    merge = merge[has_both]\n",
    "    f = fits.BinTableHDU.from_columns([\n",
    "    fits.Column(\n",
    "        name=merge[col].name,\n",
    "        array=merge[col].data, \n",
    "        format=col_dict[col]) \n",
    "    for col in merge.colnames\n",
    "    ])\n",
    "    f.header['AFW_TYPE']= 'SIMPLE'\n",
    "    f.header['HIERARCH AFW_TABLE_VERSION'] = 3 \n",
    "    f.header['FLAGCOL'] = 1\n",
    "    f.header['TFLAG1'] = 'pm_flag'\n",
    "    for key in f.header:\n",
    "        if key.startswith('TFORM'):\n",
    "            num = key[5:]\n",
    "            if not cls_dict[f.header['TTYPE'+str(num)]]=='':\n",
    "                f.header['TCCLS'+str(num)] = cls_dict[f.header['TTYPE'+str(num)]]\n",
    "                \n",
    "            if not unit_dict[f.header['TTYPE'+str(num)]]=='':\n",
    "                f.header['TUNIT'+str(num)] = unit_dict[f.header['TTYPE'+str(num)]]\n",
    "            f.header['TDOC'+str(num)] = docs_dict[f.header['TTYPE'+str(num)]]\n",
    "    f.writeto('./data/refcats/{}.fits'.format(c), overwrite=True)"
   ]
  },
  {
   "cell_type": "code",
   "execution_count": null,
   "metadata": {},
   "outputs": [],
   "source": [
    "'./data/refcats/{}.fits'.format(c)"
   ]
  },
  {
   "cell_type": "code",
   "execution_count": null,
   "metadata": {},
   "outputs": [],
   "source": [
    "f.data"
   ]
  },
  {
   "cell_type": "code",
   "execution_count": null,
   "metadata": {},
   "outputs": [],
   "source": [
    "fits.open('./data/refcats/{}.fits'.format(c), overwrite=True)[0].header"
   ]
  },
  {
   "cell_type": "code",
   "execution_count": null,
   "metadata": {},
   "outputs": [],
   "source": [
    "fits.open('./data/refcats/{}.fits'.format(c), overwrite=True)[1].header"
   ]
  },
  {
   "cell_type": "code",
   "execution_count": null,
   "metadata": {},
   "outputs": [],
   "source": [
    "#merge.remove_columns('flags')\n",
    "f = fits.BinTableHDU.from_columns([\n",
    "    fits.Column(\n",
    "        name=merge[col].name,\n",
    "        array=merge[col].data[:0], \n",
    "        format=col_dict[col]) \n",
    "    for col in merge.colnames\n",
    "])\n",
    "f.header['AFW_TYPE']= 'SOURCE'\n",
    "f.header['HIERARCH AFW_TABLE_VERSION'] = 1 \n",
    "f.header['FLAGCOL'] = 1\n",
    "for key in f.header:\n",
    "    if key.startswith('TFORM'):\n",
    "        num = key[5:]\n",
    "        if not cls_dict[f.header['TTYPE'+str(num)]]=='':\n",
    "            f.header['TCCLS'+str(num)] = cls_dict[f.header['TTYPE'+str(num)]]\n",
    "                \n",
    "        if not unit_dict[f.header['TTYPE'+str(num)]]=='':\n",
    "            f.header['TUNIT'+str(num)] = unit_dict[f.header['TTYPE'+str(num)]]\n",
    "        f.header['TDOC'+str(num)] = docs_dict[f.header['TTYPE'+str(num)]]\n",
    "hdu2=fits.open('../dmu0/dmu0_PanSTARRS/data/ps1_pv3_3pi_20170110_GmagLT19/master_schema.fits')[2]\n",
    "hdu = fits.HDUList([fits.PrimaryHDU(), f,hdu2])\n",
    "hdu.writeto('./data/refcats/master_schema.fits', overwrite=True)\n",
    "f.writeto('./data/refcats/master_schema.fits', overwrite=True)"
   ]
  },
  {
   "cell_type": "code",
   "execution_count": null,
   "metadata": {},
   "outputs": [],
   "source": [
    "f.header"
   ]
  },
  {
   "cell_type": "code",
   "execution_count": null,
   "metadata": {},
   "outputs": [],
   "source": [
    "fn=fits.open('./data/refcats/master_schema.fits')"
   ]
  },
  {
   "cell_type": "code",
   "execution_count": null,
   "metadata": {},
   "outputs": [],
   "source": [
    "fn[2].header"
   ]
  },
  {
   "cell_type": "code",
   "execution_count": null,
   "metadata": {},
   "outputs": [],
   "source": [
    "hdu=fits.open('../dmu0/dmu0_PanSTARRS/data/ps1_pv3_3pi_20170110_GmagLT19/master_schema.fits')"
   ]
  },
  {
   "cell_type": "code",
   "execution_count": null,
   "metadata": {},
   "outputs": [],
   "source": [
    "hdu0=hdu[0]\n",
    "hdu1=hdu[1]\n",
    "hdu2=hdu[2]"
   ]
  },
  {
   "cell_type": "code",
   "execution_count": null,
   "metadata": {},
   "outputs": [],
   "source": [
    "hdu2.header"
   ]
  },
  {
   "cell_type": "code",
   "execution_count": null,
   "metadata": {},
   "outputs": [],
   "source": []
  },
  {
   "cell_type": "code",
   "execution_count": null,
   "metadata": {},
   "outputs": [],
   "source": []
  },
  {
   "cell_type": "code",
   "execution_count": null,
   "metadata": {},
   "outputs": [],
   "source": []
  },
  {
   "cell_type": "code",
   "execution_count": null,
   "metadata": {},
   "outputs": [],
   "source": []
  },
  {
   "cell_type": "code",
   "execution_count": null,
   "metadata": {},
   "outputs": [],
   "source": []
  },
  {
   "cell_type": "code",
   "execution_count": null,
   "metadata": {},
   "outputs": [],
   "source": []
  },
  {
   "cell_type": "code",
   "execution_count": null,
   "metadata": {},
   "outputs": [],
   "source": []
  },
  {
   "cell_type": "code",
   "execution_count": null,
   "metadata": {},
   "outputs": [],
   "source": []
  },
  {
   "cell_type": "code",
   "execution_count": null,
   "metadata": {},
   "outputs": [],
   "source": []
  },
  {
   "cell_type": "code",
   "execution_count": null,
   "metadata": {},
   "outputs": [],
   "source": [
    "sc = afwTable.SourceCatalog"
   ]
  },
  {
   "cell_type": "code",
   "execution_count": null,
   "metadata": {},
   "outputs": [],
   "source": [
    "sc.schema"
   ]
  },
  {
   "cell_type": "code",
   "execution_count": null,
   "metadata": {},
   "outputs": [],
   "source": [
    "afwTable.SimpleCatalog.readFits(EX_CAT)"
   ]
  },
  {
   "cell_type": "code",
   "execution_count": null,
   "metadata": {},
   "outputs": [],
   "source": []
  },
  {
   "cell_type": "code",
   "execution_count": null,
   "metadata": {},
   "outputs": [],
   "source": [
    "T = '../dmu1/data/refcats/134080.fits'\n",
    "t = afwTable.SimpleCatalog.readFits(T)\n",
    "t"
   ]
  },
  {
   "cell_type": "code",
   "execution_count": null,
   "metadata": {},
   "outputs": [],
   "source": [
    "t.writeFits('./data/refcats/134080.fits')"
   ]
  },
  {
   "cell_type": "code",
   "execution_count": null,
   "metadata": {},
   "outputs": [],
   "source": [
    "sc."
   ]
  },
  {
   "cell_type": "code",
   "execution_count": null,
   "metadata": {},
   "outputs": [],
   "source": [
    "io = afwTable."
   ]
  },
  {
   "cell_type": "code",
   "execution_count": null,
   "metadata": {},
   "outputs": [],
   "source": []
  },
  {
   "cell_type": "code",
   "execution_count": null,
   "metadata": {},
   "outputs": [],
   "source": [
    "TS = '../dmu1/data/refcats/master_schema.fits'\n",
    "ts = afwTable.SimpleCatalog.readFits(TS)\n",
    "ts"
   ]
  },
  {
   "cell_type": "code",
   "execution_count": null,
   "metadata": {},
   "outputs": [],
   "source": [
    "afwTable.Schema."
   ]
  },
  {
   "cell_type": "code",
   "execution_count": null,
   "metadata": {},
   "outputs": [],
   "source": [
    "afwTable.SourceCatalog().makeMinimalSchema()"
   ]
  }
 ],
 "metadata": {
  "kernelspec": {
   "display_name": "LSST",
   "language": "python",
   "name": "lsst"
  },
  "language_info": {
   "codemirror_mode": {
    "name": "ipython",
    "version": 3
   },
   "file_extension": ".py",
   "mimetype": "text/x-python",
   "name": "python",
   "nbconvert_exporter": "python",
   "pygments_lexer": "ipython3",
   "version": "3.7.6"
  }
 },
 "nbformat": 4,
 "nbformat_minor": 4
}
