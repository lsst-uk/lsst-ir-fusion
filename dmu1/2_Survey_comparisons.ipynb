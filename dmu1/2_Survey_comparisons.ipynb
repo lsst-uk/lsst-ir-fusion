{
 "cells": [
  {
   "cell_type": "markdown",
   "metadata": {},
   "source": [
    "# Comparing survey coverages\n",
    "\n",
    "In notebook 1 we created tables with the file image corners and sizes. In this notebook we will look at their location on teh sky. The original notebook took the first image. Perhaps we will want to rerun it and get all the ccd corners. Although the tiles should tell use the coverage of individual ccds. WE need to figure out how to get the pointings from tiles."
   ]
  },
  {
   "cell_type": "code",
   "execution_count": 1,
   "metadata": {},
   "outputs": [],
   "source": [
    "from astropy.table import Table, Column, vstack # Perhaps we should use LSST tables\n",
    "\n",
    "import numpy as np\n",
    "\n",
    "import matplotlib as mpl\n",
    "import matplotlib.pyplot as plt"
   ]
  },
  {
   "cell_type": "code",
   "execution_count": 2,
   "metadata": {},
   "outputs": [],
   "source": [
    "video_ims = Table.read('./data/video_images_overview.csv')\n",
    "vhs_ims = Table.read('./data/vhs_images_overview.csv')\n",
    "hsc_ims = Table.read('./data/hsc_images_overview.csv')"
   ]
  },
  {
   "cell_type": "code",
   "execution_count": 3,
   "metadata": {},
   "outputs": [],
   "source": [
    "vista_ims = vstack([video_ims,vhs_ims])"
   ]
  },
  {
   "cell_type": "code",
   "execution_count": 4,
   "metadata": {},
   "outputs": [
    {
     "data": {
      "text/plain": [
       "569008"
      ]
     },
     "execution_count": 4,
     "metadata": {},
     "output_type": "execute_result"
    }
   ],
   "source": [
    "len(vista_ims)"
   ]
  },
  {
   "cell_type": "code",
   "execution_count": 5,
   "metadata": {},
   "outputs": [
    {
     "data": {
      "text/plain": [
       "568965"
      ]
     },
     "execution_count": 5,
     "metadata": {},
     "output_type": "execute_result"
    }
   ],
   "source": [
    "len(vhs_ims)"
   ]
  },
  {
   "cell_type": "code",
   "execution_count": 6,
   "metadata": {},
   "outputs": [
    {
     "data": {
      "text/plain": [
       "43"
      ]
     },
     "execution_count": 6,
     "metadata": {},
     "output_type": "execute_result"
    }
   ],
   "source": [
    "len(video_ims)"
   ]
  },
  {
   "cell_type": "code",
   "execution_count": 7,
   "metadata": {},
   "outputs": [
    {
     "data": {
      "text/plain": [
       "53298"
      ]
     },
     "execution_count": 7,
     "metadata": {},
     "output_type": "execute_result"
    }
   ],
   "source": [
    "len(hsc_ims)"
   ]
  },
  {
   "cell_type": "code",
   "execution_count": 8,
   "metadata": {},
   "outputs": [],
   "source": [
    "vista_ims.add_column(Column(\n",
    "    data= [t.split('/')[-2] for t in vista_ims['file']],\n",
    "    name='date'))"
   ]
  },
  {
   "cell_type": "code",
   "execution_count": 9,
   "metadata": {},
   "outputs": [],
   "source": [
    "def fileToSurvey(filename):\n",
    "    survey = ''\n",
    "    surveys = ['VIDEO', 'VHS', 'VIKING', 'VEILS']\n",
    "    for f in surveys:\n",
    "        if f in filename:\n",
    "            survey = f\n",
    "    return survey\n",
    "    \n",
    "vista_ims['survey'] = [fileToSurvey(t) for t in vista_ims['file']]"
   ]
  },
  {
   "cell_type": "code",
   "execution_count": 10,
   "metadata": {},
   "outputs": [],
   "source": [
    "def fileToType(filename):\n",
    "    filetype = ''\n",
    "    types = {\n",
    "        'tile':'_tl.fit',\n",
    "        'stack':'_st.fit',\n",
    "    }\n",
    "    for k,v in types.items():\n",
    "        #print(k,v)\n",
    "        if filename.endswith(v):\n",
    "            filetype = k\n",
    "       \n",
    "    return filetype\n",
    "vista_ims['type'] = [fileToType(f) for f in vista_ims['file']]"
   ]
  },
  {
   "cell_type": "code",
   "execution_count": 11,
   "metadata": {},
   "outputs": [
    {
     "data": {
      "text/html": [
       "<i>Table length=10</i>\n",
       "<table id=\"table4724693328-324603\" class=\"table-striped table-bordered table-condensed\">\n",
       "<thead><tr><th>idx</th><th>file</th><th>ra</th><th>dec</th><th>ra_0_0</th><th>ra_0_y</th><th>ra_x_0</th><th>ra_x_y</th><th>dec_0_0</th><th>dec_0_y</th><th>dec_x_0</th><th>dec_x_y</th><th>filter</th><th>size</th><th>hash</th><th>date</th><th>survey</th><th>type</th></tr></thead>\n",
       "<tr><td>0</td><td>/Users/rs548/GitHub/lsst-ir-fusion/dmu0/dmu0_VISTA/dmu0_VIDEO/data/20121122/v20121122_00102_st.fit</td><td>35.616442</td><td>-4.72313</td><td>36.12365296903962</td><td>36.12552008187017</td><td>35.92586958047189</td><td>35.92719310164043</td><td>-4.077977314187725</td><td>-4.276795598599529</td><td>-4.077171797589524</td><td>-4.276339668965059</td><td>Ks</td><td>84542400</td><td>3319fb54e5a06ed024ee2c779d3eea16</td><td>20121122</td><td>VIDEO</td><td>stack</td></tr>\n",
       "<tr><td>1</td><td>/Users/rs548/GitHub/lsst-ir-fusion/dmu0/dmu0_VISTA/dmu0_VIDEO/data/20121122/v20121122_00235_st.fit</td><td>35.611492</td><td>-4.90492</td><td>36.12610999045986</td><td>36.12799560019295</td><td>35.92567612832217</td><td>35.927013085064964</td><td>-4.260849258430862</td><td>-4.458864267061002</td><td>-4.26000521655501</td><td>-4.458377949976223</td><td>Ks</td><td>86400000</td><td>3311861dca0dc2cc4c591c74ade46697</td><td>20121122</td><td>VIDEO</td><td>stack</td></tr>\n",
       "<tr><td>2</td><td>/Users/rs548/GitHub/lsst-ir-fusion/dmu0/dmu0_VISTA/dmu0_VIDEO/data/20121122/v20121122_00088_st_tl.fit</td><td>nan</td><td>nan</td><td>nan</td><td>nan</td><td>nan</td><td>nan</td><td>nan</td><td>nan</td><td>nan</td><td>nan</td><td>--</td><td>0</td><td>--</td><td>20121122</td><td>VIDEO</td><td>tile</td></tr>\n",
       "<tr><td>3</td><td>/Users/rs548/GitHub/lsst-ir-fusion/dmu0/dmu0_VISTA/dmu0_VIDEO/data/20121122/v20121122_00214_st_tl.fit</td><td>nan</td><td>nan</td><td>nan</td><td>nan</td><td>nan</td><td>nan</td><td>nan</td><td>nan</td><td>nan</td><td>nan</td><td>--</td><td>0</td><td>--</td><td>20121122</td><td>VIDEO</td><td>tile</td></tr>\n",
       "<tr><td>4</td><td>/Users/rs548/GitHub/lsst-ir-fusion/dmu0/dmu0_VISTA/dmu0_VIDEO/data/20121122/v20121122_00207_st.fit</td><td>35.436996</td><td>-4.90735</td><td>35.94415038681624</td><td>35.946083891256066</td><td>35.74415693249861</td><td>35.74553771326806</td><td>-4.25982111275322</td><td>-4.458153923454694</td><td>-4.259167034486192</td><td>-4.457851984006502</td><td>Ks</td><td>87131520</td><td>30c4cf93b9f0f0cf0d3261792887984c</td><td>20121122</td><td>VIDEO</td><td>stack</td></tr>\n",
       "<tr><td>5</td><td>/Users/rs548/GitHub/lsst-ir-fusion/dmu0/dmu0_VISTA/dmu0_VIDEO/data/20121122/v20121122_00186_st.fit</td><td>35.620817</td><td>-4.72418</td><td>36.1273099599587</td><td>36.129253995984364</td><td>35.927356864252125</td><td>35.928750217721166</td><td>-4.076418668899508</td><td>-4.2747963003828655</td><td>-4.075634526012312</td><td>-4.274362759715051</td><td>Ks</td><td>86996160</td><td>f2d7ce96af8ba0e7dacad9502b130968</td><td>20121122</td><td>VIDEO</td><td>stack</td></tr>\n",
       "<tr><td>6</td><td>/Users/rs548/GitHub/lsst-ir-fusion/dmu0/dmu0_VISTA/dmu0_VIDEO/data/20121122/v20121122_00151_st.fit</td><td>35.619563</td><td>-4.91269</td><td>36.12897457417563</td><td>36.1309440114325</td><td>35.926964033757244</td><td>35.92836295863879</td><td>-4.25902765584969</td><td>-4.4604201350789845</td><td>-4.258262828599911</td><td>-4.460015583328658</td><td>Ks</td><td>87891840</td><td>b31848fb6f8fda487334ad79edf9f671</td><td>20121122</td><td>VIDEO</td><td>stack</td></tr>\n",
       "<tr><td>7</td><td>/Users/rs548/GitHub/lsst-ir-fusion/dmu0/dmu0_VISTA/dmu0_VIDEO/data/20121122/v20121122_00116_st.fit</td><td>35.524558</td><td>-4.90631</td><td>36.03226173409147</td><td>36.03414857812651</td><td>35.834395481720996</td><td>35.83573620433609</td><td>-4.260776925843634</td><td>-4.459607645003357</td><td>-4.259978566975024</td><td>-4.459159214724387</td><td>Ks</td><td>84648960</td><td>a48b9f8674556a541dc64ae56646d847</td><td>20121122</td><td>VIDEO</td><td>stack</td></tr>\n",
       "<tr><td>8</td><td>/Users/rs548/GitHub/lsst-ir-fusion/dmu0/dmu0_VISTA/dmu0_VIDEO/data/20121122/v20121122_00179_st.fit</td><td>35.528933</td><td>-4.72417</td><td>36.036102623233226</td><td>36.038019421876925</td><td>35.83608127168605</td><td>35.83744677984761</td><td>-4.075840155220711</td><td>-4.27419221211796</td><td>-4.075110862928901</td><td>-4.273814512007562</td><td>Ks</td><td>86526720</td><td>ab1338e0fca179e1783af7e2d9a78187</td><td>20121122</td><td>VIDEO</td><td>stack</td></tr>\n",
       "<tr><td>9</td><td>/Users/rs548/GitHub/lsst-ir-fusion/dmu0/dmu0_VISTA/dmu0_VIDEO/data/20121122/v20121122_00130_st.fit</td><td>35.435729</td><td>-4.72953</td><td>35.94541034612505</td><td>35.94739404313425</td><td>35.74341133771648</td><td>35.7448269875313</td><td>-4.0761093665967385</td><td>-4.277639042080953</td><td>-4.075351693245579</td><td>-4.277242337224645</td><td>Ks</td><td>88286400</td><td>2def2dc5fa82d81c006112aa76b725ab</td><td>20121122</td><td>VIDEO</td><td>stack</td></tr>\n",
       "</table><style>table.dataTable {clear: both; width: auto !important; margin: 0 !important;}\n",
       ".dataTables_info, .dataTables_length, .dataTables_filter, .dataTables_paginate{\n",
       "display: inline-block; margin-right: 1em; }\n",
       ".paginate_button { margin-right: 5px; }\n",
       "</style>\n",
       "<script>\n",
       "\n",
       "var astropy_sort_num = function(a, b) {\n",
       "    var a_num = parseFloat(a);\n",
       "    var b_num = parseFloat(b);\n",
       "\n",
       "    if (isNaN(a_num) && isNaN(b_num))\n",
       "        return ((a < b) ? -1 : ((a > b) ? 1 : 0));\n",
       "    else if (!isNaN(a_num) && !isNaN(b_num))\n",
       "        return ((a_num < b_num) ? -1 : ((a_num > b_num) ? 1 : 0));\n",
       "    else\n",
       "        return isNaN(a_num) ? -1 : 1;\n",
       "}\n",
       "\n",
       "require.config({paths: {\n",
       "    datatables: 'https://cdn.datatables.net/1.10.12/js/jquery.dataTables.min'\n",
       "}});\n",
       "require([\"datatables\"], function(){\n",
       "    console.log(\"$('#table4724693328-324603').dataTable()\");\n",
       "    \n",
       "jQuery.extend( jQuery.fn.dataTableExt.oSort, {\n",
       "    \"optionalnum-asc\": astropy_sort_num,\n",
       "    \"optionalnum-desc\": function (a,b) { return -astropy_sort_num(a, b); }\n",
       "});\n",
       "\n",
       "    $('#table4724693328-324603').dataTable({\n",
       "        order: [],\n",
       "        pageLength: 50,\n",
       "        lengthMenu: [[10, 25, 50, 100, 500, 1000, -1], [10, 25, 50, 100, 500, 1000, 'All']],\n",
       "        pagingType: \"full_numbers\",\n",
       "        columnDefs: [{targets: [0, 2, 3, 4, 5, 6, 7, 8, 9, 10, 11, 13], type: \"optionalnum\"}]\n",
       "    });\n",
       "});\n",
       "</script>\n"
      ],
      "text/plain": [
       "<IPython.core.display.HTML object>"
      ]
     },
     "execution_count": 11,
     "metadata": {},
     "output_type": "execute_result"
    }
   ],
   "source": [
    "vista_ims[:10].show_in_notebook()"
   ]
  },
  {
   "cell_type": "code",
   "execution_count": 12,
   "metadata": {},
   "outputs": [
    {
     "data": {
      "text/plain": [
       "131440"
      ]
     },
     "execution_count": 12,
     "metadata": {},
     "output_type": "execute_result"
    }
   ],
   "source": [
    "np.sum(vista_ims['type'] == 'stack')"
   ]
  },
  {
   "cell_type": "code",
   "execution_count": 13,
   "metadata": {},
   "outputs": [
    {
     "data": {
      "text/plain": [
       "(20121122, 20171027)"
      ]
     },
     "execution_count": 13,
     "metadata": {},
     "output_type": "execute_result"
    }
   ],
   "source": [
    "#Date range of observations\n",
    "(np.min(vista_ims['date'][vista_ims['survey'] == 'VIDEO'].astype(int)), \n",
    "np.max(vista_ims['date'][vista_ims['survey'] == 'VIDEO'].astype(int)))"
   ]
  },
  {
   "cell_type": "code",
   "execution_count": 14,
   "metadata": {},
   "outputs": [
    {
     "data": {
      "text/html": [
       "<i>Table length=15</i>\n",
       "<table id=\"table4725586256-237571\" class=\"table-striped table-bordered table-condensed\">\n",
       "<thead><tr><th>idx</th><th>file</th><th>ra</th><th>dec</th><th>ra_0_0</th><th>ra_0_y</th><th>ra_x_0</th><th>ra_x_y</th><th>dec_0_0</th><th>dec_0_y</th><th>dec_x_0</th><th>dec_x_y</th><th>filter</th><th>size</th><th>hash</th><th>date</th><th>survey</th><th>type</th></tr></thead>\n",
       "<tr><td>0</td><td>/home/ir-shir1/rds/rds-iris-ip005/data/private/VISTA/VHS/20140217/v20140217_00271.fit</td><td>181.435454</td><td>-53.14541</td><td>182.2699684256211</td><td>182.27508947891405</td><td>181.95473142042866</td><td>181.95770976393467</td><td>-52.500334487275154</td><td>-52.691661599656214</td><td>-52.50051135075514</td><td>-52.69217903289173</td><td>J</td><td>73728000</td><td>730416b224f9b934da710a6770337d3a</td><td>20140217</td><td>VHS</td><td></td></tr>\n",
       "<tr><td>1</td><td>/home/ir-shir1/rds/rds-iris-ip005/data/private/VISTA/VHS/20140217/v20140217_00253_st_conf.fit</td><td>163.755087</td><td>-32.91194</td><td>164.3520240174799</td><td>164.35570543667168</td><td>164.1184643820727</td><td>164.1210603126868</td><td>-32.2660963747985</td><td>-32.46300877975218</td><td>-32.26637724257059</td><td>-32.46364426169791</td><td>J</td><td>31046400</td><td>beea31eb8137a152bdc73c79261d87c8</td><td>20140217</td><td>VHS</td><td></td></tr>\n",
       "<tr><td>2</td><td>/home/ir-shir1/rds/rds-iris-ip005/data/private/VISTA/VHS/20140217/v20140217_00249_st_conf.fit</td><td>163.645883</td><td>-32.912</td><td>164.24397687889805</td><td>164.24742058383342</td><td>164.01043222454663</td><td>164.012789752506</td><td>-32.26664552513899</td><td>-32.46365979897796</td><td>-32.26668703984101</td><td>-32.464055134522155</td><td>J</td><td>30977280</td><td>b473697810ace78260ba50cf16a0ec2a</td><td>20140217</td><td>VHS</td><td></td></tr>\n",
       "<tr><td>3</td><td>/home/ir-shir1/rds/rds-iris-ip005/data/private/VISTA/VHS/20140217/v20140217_00303.fit</td><td>172.778062</td><td>-32.72868</td><td>173.37524373208828</td><td>173.37826754342257</td><td>173.14875042099698</td><td>173.15075057467376</td><td>-32.08353724384342</td><td>-32.274872525972924</td><td>-32.08338256135142</td><td>-32.275051305217474</td><td>J</td><td>72855360</td><td>acc79f38544c86b0f0c6e311dca5a92e</td><td>20140217</td><td>VHS</td><td></td></tr>\n",
       "<tr><td>4</td><td>/home/ir-shir1/rds/rds-iris-ip005/data/private/VISTA/VHS/20140217/v20140217_00267_st_conf.fit</td><td>181.740187</td><td>-53.14543</td><td>182.5684104871822</td><td>182.57571865223184</td><td>182.24400437178605</td><td>182.24905062242806</td><td>-52.497518927023314</td><td>-52.69450922592677</td><td>-52.49890513826607</td><td>-52.69626411860069</td><td>Ks</td><td>29664000</td><td>c61c3ae84e31c269ea1139040a1d81f5</td><td>20140217</td><td>VHS</td><td></td></tr>\n",
       "<tr><td>5</td><td>/ir-shir1/rds/rds-iris-ip005/data/private/VISTA/VHS/20140217/v20140217_00303.fit</td><td>nan</td><td>nan</td><td>nan</td><td>nan</td><td>nan</td><td>nan</td><td>nan</td><td>nan</td><td>nan</td><td>nan</td><td>--</td><td>0</td><td>--</td><td>20140217</td><td>VHS</td><td></td></tr>\n",
       "<tr><td>6</td><td>/home/ir-shir1/rds/rds-iris-ip005/data/private/VISTA/VHS/20140217/v20140217_00267_st_conf.fit</td><td>181.740187</td><td>-53.14543</td><td>182.5684104871822</td><td>182.57571865223184</td><td>182.24400437178605</td><td>182.24905062242806</td><td>-52.497518927023314</td><td>-52.69450922592677</td><td>-52.49890513826607</td><td>-52.69626411860069</td><td>Ks</td><td>29664000</td><td>c61c3ae84e31c269ea1139040a1d81f5</td><td>20140217</td><td>VHS</td><td></td></tr>\n",
       "<tr><td>7</td><td>r-shir1/rds/rds-iris-ip005/data/private/VISTA/VHS/20140217/v20140217_00267_st_conf.fit</td><td>nan</td><td>nan</td><td>nan</td><td>nan</td><td>nan</td><td>nan</td><td>nan</td><td>nan</td><td>nan</td><td>nan</td><td>--</td><td>0</td><td>--</td><td>20140217</td><td>VHS</td><td></td></tr>\n",
       "<tr><td>8</td><td>ir1/rds/rds-iris-ip005/data/private/VISTA/VHS/20140217/v20140217_00267_st_conf.fit</td><td>nan</td><td>nan</td><td>nan</td><td>nan</td><td>nan</td><td>nan</td><td>nan</td><td>nan</td><td>nan</td><td>nan</td><td>--</td><td>0</td><td>--</td><td>20140217</td><td>VHS</td><td></td></tr>\n",
       "<tr><td>9</td><td>r-shir1/rds/rds-iris-ip005/data/private/VISTA/VHS/20140217/v20140217_00267_st_conf.fit</td><td>nan</td><td>nan</td><td>nan</td><td>nan</td><td>nan</td><td>nan</td><td>nan</td><td>nan</td><td>nan</td><td>nan</td><td>--</td><td>0</td><td>--</td><td>20140217</td><td>VHS</td><td></td></tr>\n",
       "<tr><td>10</td><td>hir1/rds/rds-iris-ip005/data/private/VISTA/VHS/20140217/v20140217_00267_st_conf.fit</td><td>nan</td><td>nan</td><td>nan</td><td>nan</td><td>nan</td><td>nan</td><td>nan</td><td>nan</td><td>nan</td><td>nan</td><td>--</td><td>0</td><td>--</td><td>20140217</td><td>VHS</td><td></td></tr>\n",
       "<tr><td>11</td><td>ir-shir1/rds/rds-iris-ip005/data/private/VISTA/VHS/20140217/v20140217_00267_st_conf.fit</td><td>nan</td><td>nan</td><td>nan</td><td>nan</td><td>nan</td><td>nan</td><td>nan</td><td>nan</td><td>nan</td><td>nan</td><td>--</td><td>0</td><td>--</td><td>20140217</td><td>VHS</td><td></td></tr>\n",
       "<tr><td>12</td><td>/ir-shir1/rds/rds-iris-ip005/data/private/VISTA/VHS/20140217/v20140217_00267_st_conf.fit</td><td>nan</td><td>nan</td><td>nan</td><td>nan</td><td>nan</td><td>nan</td><td>nan</td><td>nan</td><td>nan</td><td>nan</td><td>--</td><td>0</td><td>--</td><td>20140217</td><td>VHS</td><td></td></tr>\n",
       "<tr><td>13</td><td>me/ir-shir1/rds/rds-iris-ip005/data/private/VISTA/VHS/20140217/v20140217_00303.fit</td><td>nan</td><td>nan</td><td>nan</td><td>nan</td><td>nan</td><td>nan</td><td>nan</td><td>nan</td><td>nan</td><td>nan</td><td>--</td><td>0</td><td>--</td><td>20140217</td><td>VHS</td><td></td></tr>\n",
       "<tr><td>14</td><td>/home/ir-shir1/rds/rds-iris-ip005/data/private/VISTA/VHS/20140217/v20140217_00267_st_conf.fit</td><td>181.740187</td><td>-53.14543</td><td>182.5684104871822</td><td>182.57571865223184</td><td>182.24400437178605</td><td>182.24905062242806</td><td>-52.497518927023314</td><td>-52.69450922592677</td><td>-52.49890513826607</td><td>-52.69626411860069</td><td>Ks</td><td>29664000</td><td>c61c3ae84e31c269ea1139040a1d81f5</td><td>20140217</td><td>VHS</td><td></td></tr>\n",
       "</table><style>table.dataTable {clear: both; width: auto !important; margin: 0 !important;}\n",
       ".dataTables_info, .dataTables_length, .dataTables_filter, .dataTables_paginate{\n",
       "display: inline-block; margin-right: 1em; }\n",
       ".paginate_button { margin-right: 5px; }\n",
       "</style>\n",
       "<script>\n",
       "\n",
       "var astropy_sort_num = function(a, b) {\n",
       "    var a_num = parseFloat(a);\n",
       "    var b_num = parseFloat(b);\n",
       "\n",
       "    if (isNaN(a_num) && isNaN(b_num))\n",
       "        return ((a < b) ? -1 : ((a > b) ? 1 : 0));\n",
       "    else if (!isNaN(a_num) && !isNaN(b_num))\n",
       "        return ((a_num < b_num) ? -1 : ((a_num > b_num) ? 1 : 0));\n",
       "    else\n",
       "        return isNaN(a_num) ? -1 : 1;\n",
       "}\n",
       "\n",
       "require.config({paths: {\n",
       "    datatables: 'https://cdn.datatables.net/1.10.12/js/jquery.dataTables.min'\n",
       "}});\n",
       "require([\"datatables\"], function(){\n",
       "    console.log(\"$('#table4725586256-237571').dataTable()\");\n",
       "    \n",
       "jQuery.extend( jQuery.fn.dataTableExt.oSort, {\n",
       "    \"optionalnum-asc\": astropy_sort_num,\n",
       "    \"optionalnum-desc\": function (a,b) { return -astropy_sort_num(a, b); }\n",
       "});\n",
       "\n",
       "    $('#table4725586256-237571').dataTable({\n",
       "        order: [],\n",
       "        pageLength: 50,\n",
       "        lengthMenu: [[10, 25, 50, 100, 500, 1000, -1], [10, 25, 50, 100, 500, 1000, 'All']],\n",
       "        pagingType: \"full_numbers\",\n",
       "        columnDefs: [{targets: [0, 2, 3, 4, 5, 6, 7, 8, 9, 10, 11, 13], type: \"optionalnum\"}]\n",
       "    });\n",
       "});\n",
       "</script>\n"
      ],
      "text/plain": [
       "<IPython.core.display.HTML object>"
      ]
     },
     "execution_count": 14,
     "metadata": {},
     "output_type": "execute_result"
    }
   ],
   "source": [
    "vista_ims[-15:].show_in_notebook()"
   ]
  },
  {
   "cell_type": "code",
   "execution_count": 15,
   "metadata": {},
   "outputs": [
    {
     "data": {
      "text/plain": [
       "43681"
      ]
     },
     "execution_count": 15,
     "metadata": {},
     "output_type": "execute_result"
    }
   ],
   "source": [
    "np.sum(np.isnan(vista_ims['ra']))"
   ]
  },
  {
   "cell_type": "code",
   "execution_count": 16,
   "metadata": {},
   "outputs": [
    {
     "data": {
      "text/html": [
       "<i>Table length=10</i>\n",
       "<table id=\"table5134043600\" class=\"table-striped table-bordered table-condensed\">\n",
       "<thead><tr><th>file</th><th>ra</th><th>dec</th><th>ra_0_0</th><th>ra_0_y</th><th>ra_x_0</th><th>ra_x_y</th><th>dec_0_0</th><th>dec_0_y</th><th>dec_x_0</th><th>dec_x_y</th><th>filter</th><th>size</th><th>hash</th><th>date</th><th>survey</th><th>type</th></tr></thead>\n",
       "<thead><tr><th>str101</th><th>float64</th><th>float64</th><th>float64</th><th>float64</th><th>float64</th><th>float64</th><th>float64</th><th>float64</th><th>float64</th><th>float64</th><th>str2</th><th>int64</th><th>str32</th><th>str8</th><th>str5</th><th>str5</th></tr></thead>\n",
       "<tr><td>/Users/rs548/GitHub/lsst-ir-fusion/dmu0/dmu0_VISTA/dmu0_VIDEO/data/20121122/v20121122_00088_st_tl.fit</td><td>nan</td><td>nan</td><td>nan</td><td>nan</td><td>nan</td><td>nan</td><td>nan</td><td>nan</td><td>nan</td><td>nan</td><td>--</td><td>0</td><td>--</td><td>20121122</td><td>VIDEO</td><td>tile</td></tr>\n",
       "<tr><td>/Users/rs548/GitHub/lsst-ir-fusion/dmu0/dmu0_VISTA/dmu0_VIDEO/data/20121122/v20121122_00214_st_tl.fit</td><td>nan</td><td>nan</td><td>nan</td><td>nan</td><td>nan</td><td>nan</td><td>nan</td><td>nan</td><td>nan</td><td>nan</td><td>--</td><td>0</td><td>--</td><td>20121122</td><td>VIDEO</td><td>tile</td></tr>\n",
       "<tr><td>/Users/rs548/GitHub/lsst-ir-fusion/dmu0/dmu0_VISTA/dmu0_VIDEO/data/20121122/v20121122_00130_st_tl.fit</td><td>nan</td><td>nan</td><td>nan</td><td>nan</td><td>nan</td><td>nan</td><td>nan</td><td>nan</td><td>nan</td><td>nan</td><td>--</td><td>0</td><td>--</td><td>20121122</td><td>VIDEO</td><td>tile</td></tr>\n",
       "<tr><td>/Users/rs548/GitHub/lsst-ir-fusion/dmu0/dmu0_VISTA/dmu0_VIDEO/data/20121122/v20121122_00172_st_tl.fit</td><td>nan</td><td>nan</td><td>nan</td><td>nan</td><td>nan</td><td>nan</td><td>nan</td><td>nan</td><td>nan</td><td>nan</td><td>--</td><td>0</td><td>--</td><td>20121122</td><td>VIDEO</td><td>tile</td></tr>\n",
       "<tr><td>/Users/rs548/GitHub/lsst-ir-fusion/dmu0/dmu0_VISTA/dmu0_VIDEO/data/20171027/v20171027_00133_st_tl.fit</td><td>nan</td><td>nan</td><td>nan</td><td>nan</td><td>nan</td><td>nan</td><td>nan</td><td>nan</td><td>nan</td><td>nan</td><td>--</td><td>0</td><td>--</td><td>20171027</td><td>VIDEO</td><td>tile</td></tr>\n",
       "<tr><td>/Users/rs548/GitHub/lsst-ir-fusion/dmu0/dmu0_VISTA/dmu0_VIDEO/data/20171027/v20171027_00181_st_tl.fit</td><td>nan</td><td>nan</td><td>nan</td><td>nan</td><td>nan</td><td>nan</td><td>nan</td><td>nan</td><td>nan</td><td>nan</td><td>--</td><td>0</td><td>--</td><td>20171027</td><td>VIDEO</td><td>tile</td></tr>\n",
       "<tr><td>/home/ir-shir1/rds/rds-iris-ip005/data/private/VISTA/VHS/20140924/v20140924_00570_st_tl.fit</td><td>nan</td><td>nan</td><td>nan</td><td>nan</td><td>nan</td><td>nan</td><td>nan</td><td>nan</td><td>nan</td><td>nan</td><td>--</td><td>0</td><td>--</td><td>20140924</td><td>VHS</td><td>tile</td></tr>\n",
       "<tr><td>/home/ir-shir1/rds/rds-iris-ip005/data/private/VISTA/VHS/20140924/v20140924_00582_st_tl_conf.fit</td><td>nan</td><td>nan</td><td>nan</td><td>nan</td><td>nan</td><td>nan</td><td>nan</td><td>nan</td><td>nan</td><td>nan</td><td>--</td><td>0</td><td>--</td><td>20140924</td><td>VHS</td><td></td></tr>\n",
       "<tr><td>/home/ir-shir1/rds/rds-iris-ip005/data/private/VISTA/VHS/20140924/v20140924_00606_st_tl.fit</td><td>nan</td><td>nan</td><td>nan</td><td>nan</td><td>nan</td><td>nan</td><td>nan</td><td>nan</td><td>nan</td><td>nan</td><td>--</td><td>0</td><td>--</td><td>20140924</td><td>VHS</td><td>tile</td></tr>\n",
       "<tr><td>/home/ir-shir1/rds/rds-iris-ip005/data/private/VISTA/VHS/20140924/v20140924_00594_st_tl.fit</td><td>nan</td><td>nan</td><td>nan</td><td>nan</td><td>nan</td><td>nan</td><td>nan</td><td>nan</td><td>nan</td><td>nan</td><td>--</td><td>0</td><td>--</td><td>20140924</td><td>VHS</td><td>tile</td></tr>\n",
       "</table>"
      ],
      "text/plain": [
       "<Table length=10>\n",
       "                                                 file                                                 ...\n",
       "                                                str101                                                ...\n",
       "----------------------------------------------------------------------------------------------------- ...\n",
       "/Users/rs548/GitHub/lsst-ir-fusion/dmu0/dmu0_VISTA/dmu0_VIDEO/data/20121122/v20121122_00088_st_tl.fit ...\n",
       "/Users/rs548/GitHub/lsst-ir-fusion/dmu0/dmu0_VISTA/dmu0_VIDEO/data/20121122/v20121122_00214_st_tl.fit ...\n",
       "/Users/rs548/GitHub/lsst-ir-fusion/dmu0/dmu0_VISTA/dmu0_VIDEO/data/20121122/v20121122_00130_st_tl.fit ...\n",
       "/Users/rs548/GitHub/lsst-ir-fusion/dmu0/dmu0_VISTA/dmu0_VIDEO/data/20121122/v20121122_00172_st_tl.fit ...\n",
       "/Users/rs548/GitHub/lsst-ir-fusion/dmu0/dmu0_VISTA/dmu0_VIDEO/data/20171027/v20171027_00133_st_tl.fit ...\n",
       "/Users/rs548/GitHub/lsst-ir-fusion/dmu0/dmu0_VISTA/dmu0_VIDEO/data/20171027/v20171027_00181_st_tl.fit ...\n",
       "          /home/ir-shir1/rds/rds-iris-ip005/data/private/VISTA/VHS/20140924/v20140924_00570_st_tl.fit ...\n",
       "     /home/ir-shir1/rds/rds-iris-ip005/data/private/VISTA/VHS/20140924/v20140924_00582_st_tl_conf.fit ...\n",
       "          /home/ir-shir1/rds/rds-iris-ip005/data/private/VISTA/VHS/20140924/v20140924_00606_st_tl.fit ...\n",
       "          /home/ir-shir1/rds/rds-iris-ip005/data/private/VISTA/VHS/20140924/v20140924_00594_st_tl.fit ..."
      ]
     },
     "execution_count": 16,
     "metadata": {},
     "output_type": "execute_result"
    }
   ],
   "source": [
    "vista_ims[np.isnan(vista_ims['ra'])][:10]"
   ]
  },
  {
   "cell_type": "code",
   "execution_count": 17,
   "metadata": {},
   "outputs": [],
   "source": [
    "def plot_mwd(RA,Dec,org=0,title='Object positions', projection='mollweide'):\n",
    "    ''' RA, Dec are arrays of the same length.\n",
    "    RA takes values in [0,360), Dec in [-90,90],\n",
    "    which represent angles in degrees.\n",
    "    org is the origin of the plot, 0 or a multiple of 30 degrees in [0,360).\n",
    "    title is the title of the figure.\n",
    "    projection is the kind of projection: 'mollweide', 'aitoff', 'hammer', 'lambert'\n",
    "    '''\n",
    "    x = np.remainder(RA+360-org,360) # shift RA values\n",
    "    ind = x>180\n",
    "    x[ind] -=360    # scale conversion to [-180, 180]\n",
    "    x=-x    # reverse the scale: East to the left\n",
    "    tick_labels = np.array([150, 120, 90, 60, 30, 0, 330, 300, 270, 240, 210])\n",
    "    tick_labels = np.remainder(tick_labels+360+org,360)\n",
    "    fig = plt.figure(figsize=(10, 5))\n",
    "    ax = fig.add_subplot(111, projection=projection)\n",
    "    ax.scatter(np.radians(x),np.radians(Dec))  # convert degrees to radians\n",
    "    ax.set_xticklabels(tick_labels)     # we add the scale on the x axis\n",
    "    ax.set_title(title)\n",
    "    ax.title.set_fontsize(15)\n",
    "    ax.set_xlabel(\"RA\")\n",
    "    ax.xaxis.label.set_fontsize(12)\n",
    "    ax.set_ylabel(\"Dec\")\n",
    "    ax.yaxis.label.set_fontsize(12)\n",
    "    ax.grid(True)"
   ]
  },
  {
   "cell_type": "code",
   "execution_count": 18,
   "metadata": {},
   "outputs": [
    {
     "name": "stderr",
     "output_type": "stream",
     "text": [
      "/Users/rs548/GitHub/lsst_stack/conda/miniconda3-py37_4.8.2/envs/lsst-scipipe-1a1d771/lib/python3.7/site-packages/astropy/table/column.py:1020: RuntimeWarning: invalid value encountered in greater\n",
      "  result = getattr(super(), op)(other)\n"
     ]
    },
    {
     "data": {
      "image/png": "[encoded data removed]",
      "text/plain": [
       "<Figure size 720x360 with 1 Axes>"
      ]
     },
     "metadata": {
      "needs_background": "light"
     },
     "output_type": "display_data"
    }
   ],
   "source": [
    "plot_mwd(vista_ims['ra_0_0'], vista_ims['dec_0_0'], title='VISTA positions', projection='aitoff')\n",
    "plt.savefig('./data/vista_coverage.png')"
   ]
  },
  {
   "cell_type": "markdown",
   "metadata": {},
   "source": [
    "These appear to not show the VHS full coverage. Is this because we are looking at DR1\n",
    "\n",
    "![](./figs/VISTA-Status-20190620.png)"
   ]
  },
  {
   "cell_type": "code",
   "execution_count": 19,
   "metadata": {},
   "outputs": [
    {
     "data": {
      "text/plain": [
       "43681"
      ]
     },
     "execution_count": 19,
     "metadata": {},
     "output_type": "execute_result"
    }
   ],
   "source": [
    "np.sum(np.isnan(vista_ims['dec_0_0']))"
   ]
  },
  {
   "cell_type": "code",
   "execution_count": 20,
   "metadata": {},
   "outputs": [
    {
     "data": {
      "text/html": [
       "<i>Table length=525327</i>\n",
       "<table id=\"table4507453584\" class=\"table-striped table-bordered table-condensed\">\n",
       "<thead><tr><th>file</th><th>ra</th><th>dec</th><th>ra_0_0</th><th>ra_0_y</th><th>ra_x_0</th><th>ra_x_y</th><th>dec_0_0</th><th>dec_0_y</th><th>dec_x_0</th><th>dec_x_y</th><th>filter</th><th>size</th><th>hash</th><th>date</th><th>survey</th><th>type</th></tr></thead>\n",
       "<thead><tr><th>str101</th><th>float64</th><th>float64</th><th>float64</th><th>float64</th><th>float64</th><th>float64</th><th>float64</th><th>float64</th><th>float64</th><th>float64</th><th>str2</th><th>int64</th><th>str32</th><th>str8</th><th>str5</th><th>str5</th></tr></thead>\n",
       "<tr><td>/Users/rs548/GitHub/lsst-ir-fusion/dmu0/dmu0_VISTA/dmu0_VIDEO/data/20121122/v20121122_00102_st.fit</td><td>35.616442</td><td>-4.72313</td><td>36.12365296903962</td><td>36.12552008187017</td><td>35.92586958047189</td><td>35.92719310164043</td><td>-4.077977314187725</td><td>-4.276795598599529</td><td>-4.077171797589524</td><td>-4.276339668965059</td><td>Ks</td><td>84542400</td><td>3319fb54e5a06ed024ee2c779d3eea16</td><td>20121122</td><td>VIDEO</td><td>stack</td></tr>\n",
       "<tr><td>/Users/rs548/GitHub/lsst-ir-fusion/dmu0/dmu0_VISTA/dmu0_VIDEO/data/20121122/v20121122_00235_st.fit</td><td>35.611492</td><td>-4.90492</td><td>36.12610999045986</td><td>36.12799560019295</td><td>35.92567612832217</td><td>35.927013085064964</td><td>-4.260849258430862</td><td>-4.458864267061002</td><td>-4.26000521655501</td><td>-4.458377949976223</td><td>Ks</td><td>86400000</td><td>3311861dca0dc2cc4c591c74ade46697</td><td>20121122</td><td>VIDEO</td><td>stack</td></tr>\n",
       "<tr><td>/Users/rs548/GitHub/lsst-ir-fusion/dmu0/dmu0_VISTA/dmu0_VIDEO/data/20121122/v20121122_00207_st.fit</td><td>35.436996</td><td>-4.90735</td><td>35.94415038681624</td><td>35.946083891256066</td><td>35.74415693249861</td><td>35.74553771326806</td><td>-4.25982111275322</td><td>-4.458153923454694</td><td>-4.259167034486192</td><td>-4.457851984006502</td><td>Ks</td><td>87131520</td><td>30c4cf93b9f0f0cf0d3261792887984c</td><td>20121122</td><td>VIDEO</td><td>stack</td></tr>\n",
       "<tr><td>/Users/rs548/GitHub/lsst-ir-fusion/dmu0/dmu0_VISTA/dmu0_VIDEO/data/20121122/v20121122_00186_st.fit</td><td>35.620817</td><td>-4.72418</td><td>36.1273099599587</td><td>36.129253995984364</td><td>35.927356864252125</td><td>35.928750217721166</td><td>-4.076418668899508</td><td>-4.2747963003828655</td><td>-4.075634526012312</td><td>-4.274362759715051</td><td>Ks</td><td>86996160</td><td>f2d7ce96af8ba0e7dacad9502b130968</td><td>20121122</td><td>VIDEO</td><td>stack</td></tr>\n",
       "<tr><td>/Users/rs548/GitHub/lsst-ir-fusion/dmu0/dmu0_VISTA/dmu0_VIDEO/data/20121122/v20121122_00151_st.fit</td><td>35.619563</td><td>-4.91269</td><td>36.12897457417563</td><td>36.1309440114325</td><td>35.926964033757244</td><td>35.92836295863879</td><td>-4.25902765584969</td><td>-4.4604201350789845</td><td>-4.258262828599911</td><td>-4.460015583328658</td><td>Ks</td><td>87891840</td><td>b31848fb6f8fda487334ad79edf9f671</td><td>20121122</td><td>VIDEO</td><td>stack</td></tr>\n",
       "<tr><td>/Users/rs548/GitHub/lsst-ir-fusion/dmu0/dmu0_VISTA/dmu0_VIDEO/data/20121122/v20121122_00116_st.fit</td><td>35.524558</td><td>-4.90631</td><td>36.03226173409147</td><td>36.03414857812651</td><td>35.834395481720996</td><td>35.83573620433609</td><td>-4.260776925843634</td><td>-4.459607645003357</td><td>-4.259978566975024</td><td>-4.459159214724387</td><td>Ks</td><td>84648960</td><td>a48b9f8674556a541dc64ae56646d847</td><td>20121122</td><td>VIDEO</td><td>stack</td></tr>\n",
       "<tr><td>/Users/rs548/GitHub/lsst-ir-fusion/dmu0/dmu0_VISTA/dmu0_VIDEO/data/20121122/v20121122_00179_st.fit</td><td>35.528933</td><td>-4.72417</td><td>36.036102623233226</td><td>36.038019421876925</td><td>35.83608127168605</td><td>35.83744677984761</td><td>-4.075840155220711</td><td>-4.27419221211796</td><td>-4.075110862928901</td><td>-4.273814512007562</td><td>Ks</td><td>86526720</td><td>ab1338e0fca179e1783af7e2d9a78187</td><td>20121122</td><td>VIDEO</td><td>stack</td></tr>\n",
       "<tr><td>/Users/rs548/GitHub/lsst-ir-fusion/dmu0/dmu0_VISTA/dmu0_VIDEO/data/20121122/v20121122_00130_st.fit</td><td>35.435729</td><td>-4.72953</td><td>35.94541034612505</td><td>35.94739404313425</td><td>35.74341133771648</td><td>35.7448269875313</td><td>-4.0761093665967385</td><td>-4.277639042080953</td><td>-4.075351693245579</td><td>-4.277242337224645</td><td>Ks</td><td>88286400</td><td>2def2dc5fa82d81c006112aa76b725ab</td><td>20121122</td><td>VIDEO</td><td>stack</td></tr>\n",
       "<tr><td>/Users/rs548/GitHub/lsst-ir-fusion/dmu0/dmu0_VISTA/dmu0_VIDEO/data/20121122/v20121122_00165_st.fit</td><td>35.435704</td><td>-4.9127</td><td>35.94561871123936</td><td>35.94765256521272</td><td>35.74363364276948</td><td>35.74509765698566</td><td>-4.259284945697468</td><td>-4.460698118492988</td><td>-4.258674764519787</td><td>-4.4604498842183045</td><td>Ks</td><td>87626880</td><td>f59516da74921bc5cedf5feb4a38e12f</td><td>20121122</td><td>VIDEO</td><td>stack</td></tr>\n",
       "<tr><td>/Users/rs548/GitHub/lsst-ir-fusion/dmu0/dmu0_VISTA/dmu0_VIDEO/data/20121122/v20121122_00221_st.fit</td><td>35.519567</td><td>-4.72175</td><td>36.03481214889815</td><td>36.03675975960754</td><td>35.83439696723595</td><td>35.83579819829734</td><td>-4.077283639558862</td><td>-4.275402304486855</td><td>-4.076507139976842</td><td>-4.274984699778887</td><td>Ks</td><td>86950080</td><td>9ced0b22e057b78dfb6a14ac1bd63693</td><td>20121122</td><td>VIDEO</td><td>stack</td></tr>\n",
       "<tr><td>...</td><td>...</td><td>...</td><td>...</td><td>...</td><td>...</td><td>...</td><td>...</td><td>...</td><td>...</td><td>...</td><td>...</td><td>...</td><td>...</td><td>...</td><td>...</td><td>...</td></tr>\n",
       "<tr><td>/home/ir-shir1/rds/rds-iris-ip005/data/private/VISTA/VHS/20140217/v20140217_00265_st_conf.fit</td><td>181.741133</td><td>-53.3288</td><td>182.57320799977896</td><td>182.58059923862058</td><td>182.24774338752331</td><td>182.2528585013564</td><td>-52.680724236341504</td><td>-52.877446480508134</td><td>-52.682167085359104</td><td>-52.87925795648641</td><td>Ks</td><td>29698560</td><td>023e7c39c6f21ee32130d039b2135061</td><td>20140217</td><td>VHS</td><td></td></tr>\n",
       "<tr><td>/home/ir-shir1/rds/rds-iris-ip005/data/private/VISTA/VHS/20140217/v20140217_00251_st_conf.fit</td><td>163.646008</td><td>-32.7288</td><td>164.2426248708985</td><td>164.2459915329822</td><td>164.00950032417114</td><td>164.01178584550732</td><td>-32.08339061646039</td><td>-32.2803946600907</td><td>-32.08342215527195</td><td>-32.280779748674064</td><td>J</td><td>30902400</td><td>f7df2f179142629ea05ccb68cfcf82a5</td><td>20140217</td><td>VHS</td><td></td></tr>\n",
       "<tr><td>/home/ir-shir1/rds/rds-iris-ip005/data/private/VISTA/VHS/20140217/v20140217_00259_st_conf.fit</td><td>181.435454</td><td>-53.14541</td><td>182.2686170886104</td><td>182.2745842020512</td><td>181.9439676353853</td><td>181.94766800531144</td><td>-52.49939795173296</td><td>-52.696424522292375</td><td>-52.50000084914484</td><td>-52.69739108208449</td><td>Ks</td><td>29854080</td><td>90a1a1f6276bd25ff41eab6b2d8ab01e</td><td>20140217</td><td>VHS</td><td></td></tr>\n",
       "<tr><td>/home/ir-shir1/rds/rds-iris-ip005/data/private/VISTA/VHS/20140217/v20140217_00271.fit</td><td>181.435454</td><td>-53.14541</td><td>182.2699684256211</td><td>182.27508947891405</td><td>181.95473142042866</td><td>181.95770976393467</td><td>-52.500334487275154</td><td>-52.691661599656214</td><td>-52.50051135075514</td><td>-52.69217903289173</td><td>J</td><td>73728000</td><td>730416b224f9b934da710a6770337d3a</td><td>20140217</td><td>VHS</td><td></td></tr>\n",
       "<tr><td>/home/ir-shir1/rds/rds-iris-ip005/data/private/VISTA/VHS/20140217/v20140217_00253_st_conf.fit</td><td>163.755087</td><td>-32.91194</td><td>164.3520240174799</td><td>164.35570543667168</td><td>164.1184643820727</td><td>164.1210603126868</td><td>-32.2660963747985</td><td>-32.46300877975218</td><td>-32.26637724257059</td><td>-32.46364426169791</td><td>J</td><td>31046400</td><td>beea31eb8137a152bdc73c79261d87c8</td><td>20140217</td><td>VHS</td><td></td></tr>\n",
       "<tr><td>/home/ir-shir1/rds/rds-iris-ip005/data/private/VISTA/VHS/20140217/v20140217_00249_st_conf.fit</td><td>163.645883</td><td>-32.912</td><td>164.24397687889805</td><td>164.24742058383342</td><td>164.01043222454663</td><td>164.012789752506</td><td>-32.26664552513899</td><td>-32.46365979897796</td><td>-32.26668703984101</td><td>-32.464055134522155</td><td>J</td><td>30977280</td><td>b473697810ace78260ba50cf16a0ec2a</td><td>20140217</td><td>VHS</td><td></td></tr>\n",
       "<tr><td>/home/ir-shir1/rds/rds-iris-ip005/data/private/VISTA/VHS/20140217/v20140217_00303.fit</td><td>172.778062</td><td>-32.72868</td><td>173.37524373208828</td><td>173.37826754342257</td><td>173.14875042099698</td><td>173.15075057467376</td><td>-32.08353724384342</td><td>-32.274872525972924</td><td>-32.08338256135142</td><td>-32.275051305217474</td><td>J</td><td>72855360</td><td>acc79f38544c86b0f0c6e311dca5a92e</td><td>20140217</td><td>VHS</td><td></td></tr>\n",
       "<tr><td>/home/ir-shir1/rds/rds-iris-ip005/data/private/VISTA/VHS/20140217/v20140217_00267_st_conf.fit</td><td>181.740187</td><td>-53.14543</td><td>182.5684104871822</td><td>182.57571865223184</td><td>182.24400437178605</td><td>182.24905062242806</td><td>-52.497518927023314</td><td>-52.69450922592677</td><td>-52.49890513826607</td><td>-52.69626411860069</td><td>Ks</td><td>29664000</td><td>c61c3ae84e31c269ea1139040a1d81f5</td><td>20140217</td><td>VHS</td><td></td></tr>\n",
       "<tr><td>/home/ir-shir1/rds/rds-iris-ip005/data/private/VISTA/VHS/20140217/v20140217_00267_st_conf.fit</td><td>181.740187</td><td>-53.14543</td><td>182.5684104871822</td><td>182.57571865223184</td><td>182.24400437178605</td><td>182.24905062242806</td><td>-52.497518927023314</td><td>-52.69450922592677</td><td>-52.49890513826607</td><td>-52.69626411860069</td><td>Ks</td><td>29664000</td><td>c61c3ae84e31c269ea1139040a1d81f5</td><td>20140217</td><td>VHS</td><td></td></tr>\n",
       "<tr><td>/home/ir-shir1/rds/rds-iris-ip005/data/private/VISTA/VHS/20140217/v20140217_00267_st_conf.fit</td><td>181.740187</td><td>-53.14543</td><td>182.5684104871822</td><td>182.57571865223184</td><td>182.24400437178605</td><td>182.24905062242806</td><td>-52.497518927023314</td><td>-52.69450922592677</td><td>-52.49890513826607</td><td>-52.69626411860069</td><td>Ks</td><td>29664000</td><td>c61c3ae84e31c269ea1139040a1d81f5</td><td>20140217</td><td>VHS</td><td></td></tr>\n",
       "</table>"
      ],
      "text/plain": [
       "<Table length=525327>\n",
       "                                               file                                                ...\n",
       "                                              str101                                               ...\n",
       "-------------------------------------------------------------------------------------------------- ...\n",
       "/Users/rs548/GitHub/lsst-ir-fusion/dmu0/dmu0_VISTA/dmu0_VIDEO/data/20121122/v20121122_00102_st.fit ...\n",
       "/Users/rs548/GitHub/lsst-ir-fusion/dmu0/dmu0_VISTA/dmu0_VIDEO/data/20121122/v20121122_00235_st.fit ...\n",
       "/Users/rs548/GitHub/lsst-ir-fusion/dmu0/dmu0_VISTA/dmu0_VIDEO/data/20121122/v20121122_00207_st.fit ...\n",
       "/Users/rs548/GitHub/lsst-ir-fusion/dmu0/dmu0_VISTA/dmu0_VIDEO/data/20121122/v20121122_00186_st.fit ...\n",
       "/Users/rs548/GitHub/lsst-ir-fusion/dmu0/dmu0_VISTA/dmu0_VIDEO/data/20121122/v20121122_00151_st.fit ...\n",
       "/Users/rs548/GitHub/lsst-ir-fusion/dmu0/dmu0_VISTA/dmu0_VIDEO/data/20121122/v20121122_00116_st.fit ...\n",
       "/Users/rs548/GitHub/lsst-ir-fusion/dmu0/dmu0_VISTA/dmu0_VIDEO/data/20121122/v20121122_00179_st.fit ...\n",
       "/Users/rs548/GitHub/lsst-ir-fusion/dmu0/dmu0_VISTA/dmu0_VIDEO/data/20121122/v20121122_00130_st.fit ...\n",
       "/Users/rs548/GitHub/lsst-ir-fusion/dmu0/dmu0_VISTA/dmu0_VIDEO/data/20121122/v20121122_00165_st.fit ...\n",
       "/Users/rs548/GitHub/lsst-ir-fusion/dmu0/dmu0_VISTA/dmu0_VIDEO/data/20121122/v20121122_00221_st.fit ...\n",
       "                                                                                               ... ...\n",
       "     /home/ir-shir1/rds/rds-iris-ip005/data/private/VISTA/VHS/20140217/v20140217_00265_st_conf.fit ...\n",
       "     /home/ir-shir1/rds/rds-iris-ip005/data/private/VISTA/VHS/20140217/v20140217_00251_st_conf.fit ...\n",
       "     /home/ir-shir1/rds/rds-iris-ip005/data/private/VISTA/VHS/20140217/v20140217_00259_st_conf.fit ...\n",
       "             /home/ir-shir1/rds/rds-iris-ip005/data/private/VISTA/VHS/20140217/v20140217_00271.fit ...\n",
       "     /home/ir-shir1/rds/rds-iris-ip005/data/private/VISTA/VHS/20140217/v20140217_00253_st_conf.fit ...\n",
       "     /home/ir-shir1/rds/rds-iris-ip005/data/private/VISTA/VHS/20140217/v20140217_00249_st_conf.fit ...\n",
       "             /home/ir-shir1/rds/rds-iris-ip005/data/private/VISTA/VHS/20140217/v20140217_00303.fit ...\n",
       "     /home/ir-shir1/rds/rds-iris-ip005/data/private/VISTA/VHS/20140217/v20140217_00267_st_conf.fit ...\n",
       "     /home/ir-shir1/rds/rds-iris-ip005/data/private/VISTA/VHS/20140217/v20140217_00267_st_conf.fit ...\n",
       "     /home/ir-shir1/rds/rds-iris-ip005/data/private/VISTA/VHS/20140217/v20140217_00267_st_conf.fit ..."
      ]
     },
     "execution_count": 20,
     "metadata": {},
     "output_type": "execute_result"
    }
   ],
   "source": [
    "vista_ims[~np.isnan(vista_ims['dec_0_0'])]"
   ]
  },
  {
   "cell_type": "markdown",
   "metadata": {},
   "source": [
    "I was expecting the VHS images to be all sky. Perhaps I am having an issue opening those files"
   ]
  },
  {
   "cell_type": "code",
   "execution_count": 21,
   "metadata": {},
   "outputs": [
    {
     "data": {
      "image/png": "[encoded data removed]",
      "text/plain": [
       "<Figure size 720x360 with 1 Axes>"
      ]
     },
     "metadata": {
      "needs_background": "light"
     },
     "output_type": "display_data"
    }
   ],
   "source": [
    "plot_mwd(hsc_ims['ra_0_0'], hsc_ims['dec_0_0'], title='HSC positions')"
   ]
  },
  {
   "cell_type": "markdown",
   "metadata": {},
   "source": [
    "# Get fields\n",
    "\n",
    "We want to look at the XMM-LSS field as a test. Lets get all the files in XMM-LSS and choose a set as our practice images"
   ]
  },
  {
   "cell_type": "code",
   "execution_count": null,
   "metadata": {},
   "outputs": [],
   "source": []
  },
  {
   "cell_type": "markdown",
   "metadata": {},
   "source": [
    "## Select test region\n",
    "\n",
    "We want an area in XMM-LSS with VIDEO and HSC DUD data. Let us choose a HSC tract (composed of nine patches) and get a list of file names to move to our local repository for processing."
   ]
  },
  {
   "cell_type": "markdown",
   "metadata": {},
   "source": [
    "A point in SXDS is 35.0, -4.0"
   ]
  },
  {
   "cell_type": "code",
   "execution_count": 22,
   "metadata": {},
   "outputs": [],
   "source": [
    "ra_test, dec_test = 35.0,  -4.0"
   ]
  },
  {
   "cell_type": "code",
   "execution_count": 23,
   "metadata": {},
   "outputs": [
    {
     "name": "stdout",
     "output_type": "stream",
     "text": [
      "40\n"
     ]
    }
   ],
   "source": [
    "#First lets get the HSC tract containing that point\n",
    "#For now lets just assume the images are lined up with the axes\n",
    "in_im = (\n",
    "    (ra_test < hsc_ims['ra_0_0']) &\n",
    "    (dec_test > hsc_ims['dec_0_0']) &\n",
    "    (ra_test > hsc_ims['ra_x_y']) &\n",
    "    (dec_test < hsc_ims['dec_x_y']) )\n",
    "\n",
    "print(np.sum(in_im))\n",
    "    "
   ]
  },
  {
   "cell_type": "code",
   "execution_count": 24,
   "metadata": {},
   "outputs": [
    {
     "data": {
      "text/html": [
       "<i>Table length=40</i>\n",
       "<table id=\"table4761391888\" class=\"table-striped table-bordered table-condensed\">\n",
       "<thead><tr><th>file</th><th>ra_0_0</th><th>ra_0_y</th><th>ra_x_0</th><th>ra_x_y</th><th>dec_0_0</th><th>dec_0_y</th><th>dec_x_0</th><th>dec_x_y</th><th>size</th><th>hash</th></tr></thead>\n",
       "<thead><tr><th>str164</th><th>float64</th><th>float64</th><th>float64</th><th>float64</th><th>float64</th><th>float64</th><th>float64</th><th>float64</th><th>int64</th><th>str32</th></tr></thead>\n",
       "<tr><td>/home/ir-shir1/rds/rds-iris-ip005/data/public/HSC/hsc-release.mtk.nao.ac.jp/archive/filetree/pdr2_dud/deepCoadd-results/HSC-Z/8765/0,3/calexp-HSC-Z-8765-0,3.fits</td><td>35.056859995378</td><td>35.05667278346978</td><td>34.865093653377386</td><td>34.86494907158138</td><td>-4.003241696593322</td><td>-3.8072651168892024</td><td>-4.00341561935237</td><td>-3.8074305032734497</td><td>141505920</td><td>ddcd8c638f16208db848385c00d1b817</td></tr>\n",
       "<tr><td>/home/ir-shir1/rds/rds-iris-ip005/data/public/HSC/hsc-release.mtk.nao.ac.jp/archive/filetree/pdr2_dud/deepCoadd-results/HSC-Z/8765/0,2/calexp-HSC-Z-8765-0,2.fits</td><td>35.05703836986104</td><td>35.05685107863718</td><td>34.86523141012769</td><td>34.8650867670717</td><td>-4.1898799341053765</td><td>-3.9939095932239588</td><td>-4.190061985963134</td><td>-3.994083109503531</td><td>163016640</td><td>0ce608368f49e49a5d04ed98d1e4dda3</td></tr>\n",
       "<tr><td>/home/ir-shir1/rds/rds-iris-ip005/data/public/HSC/hsc-release.mtk.nao.ac.jp/archive/filetree/pdr2_dud/deepCoadd-results/HSC-Z/8766/8,2/calexp-HSC-Z-8766-8,2.fits</td><td>35.05212396177302</td><td>35.052268604829</td><td>34.86031700203964</td><td>34.86050429326351</td><td>-4.190061985963127</td><td>-3.9940831095035314</td><td>-4.189879934105375</td><td>-3.9939095932239557</td><td>163609920</td><td>414f501c865410b188c2e98c08f142ab</td></tr>\n",
       "<tr><td>/home/ir-shir1/rds/rds-iris-ip005/data/public/HSC/hsc-release.mtk.nao.ac.jp/archive/filetree/pdr2_dud/deepCoadd-results/HSC-Z/8766/8,3/calexp-HSC-Z-8766-8,3.fits</td><td>35.052261718523305</td><td>35.052406300319326</td><td>34.86049537652268</td><td>34.86068258843092</td><td>-4.003415619352376</td><td>-3.8074305032734497</td><td>-4.003241696593322</td><td>-3.8072651168892</td><td>141289920</td><td>163b09282be3e840300537ceff30a341</td></tr>\n",
       "<tr><td>/home/ir-shir1/rds/rds-iris-ip005/data/public/HSC/hsc-release.mtk.nao.ac.jp/archive/filetree/pdr2_dud/deepCoadd-results/HSC-G/8765/0,3/calexp-HSC-G-8765-0,3.fits</td><td>35.056859995378</td><td>35.05667278346978</td><td>34.865093653377386</td><td>34.86494907158138</td><td>-4.003241696593322</td><td>-3.8072651168892024</td><td>-4.00341561935237</td><td>-3.8074305032734497</td><td>134055360</td><td>c328249a04c41efa1147f125d9cefa27</td></tr>\n",
       "<tr><td>/home/ir-shir1/rds/rds-iris-ip005/data/public/HSC/hsc-release.mtk.nao.ac.jp/archive/filetree/pdr2_dud/deepCoadd-results/HSC-G/8765/0,2/calexp-HSC-G-8765-0,2.fits</td><td>35.05703836986104</td><td>35.05685107863718</td><td>34.86523141012769</td><td>34.8650867670717</td><td>-4.1898799341053765</td><td>-3.9939095932239588</td><td>-4.190061985963134</td><td>-3.994083109503531</td><td>143435520</td><td>d8e55ee7636a3372638af4acf74cc112</td></tr>\n",
       "<tr><td>/home/ir-shir1/rds/rds-iris-ip005/data/public/HSC/hsc-release.mtk.nao.ac.jp/archive/filetree/pdr2_dud/deepCoadd-results/HSC-G/8766/8,2/calexp-HSC-G-8766-8,2.fits</td><td>35.05212396177302</td><td>35.052268604829</td><td>34.86031700203964</td><td>34.86050429326351</td><td>-4.190061985963127</td><td>-3.9940831095035314</td><td>-4.189879934105375</td><td>-3.9939095932239557</td><td>143732160</td><td>2dabd20ddbd2fab92c29c2a47bca6c44</td></tr>\n",
       "<tr><td>/home/ir-shir1/rds/rds-iris-ip005/data/public/HSC/hsc-release.mtk.nao.ac.jp/archive/filetree/pdr2_dud/deepCoadd-results/HSC-G/8766/8,3/calexp-HSC-G-8766-8,3.fits</td><td>35.052261718523305</td><td>35.052406300319326</td><td>34.86049537652268</td><td>34.86068258843092</td><td>-4.003415619352376</td><td>-3.8074305032734497</td><td>-4.003241696593322</td><td>-3.8072651168892</td><td>134046720</td><td>597ad322a54f519f72a0ba36e9b773d7</td></tr>\n",
       "<tr><td>/home/ir-shir1/rds/rds-iris-ip005/data/public/HSC/hsc-release.mtk.nao.ac.jp/archive/filetree/pdr2_dud/deepCoadd-results/HSC-I/8765/0,3/calexp-HSC-I-8765-0,3.fits</td><td>35.056859995378</td><td>35.05667278346978</td><td>34.865093653377386</td><td>34.86494907158138</td><td>-4.003241696593322</td><td>-3.8072651168892024</td><td>-4.00341561935237</td><td>-3.8074305032734497</td><td>125611200</td><td>fa2c3cca1aa531bd34a90abfa9753e92</td></tr>\n",
       "<tr><td>/home/ir-shir1/rds/rds-iris-ip005/data/public/HSC/hsc-release.mtk.nao.ac.jp/archive/filetree/pdr2_dud/deepCoadd-results/HSC-I/8765/0,2/calexp-HSC-I-8765-0,2.fits</td><td>35.05703836986104</td><td>35.05685107863718</td><td>34.86523141012769</td><td>34.8650867670717</td><td>-4.1898799341053765</td><td>-3.9939095932239588</td><td>-4.190061985963134</td><td>-3.994083109503531</td><td>141868800</td><td>d94ba1303ca1529a3eb36f2ed8faa504</td></tr>\n",
       "<tr><td>...</td><td>...</td><td>...</td><td>...</td><td>...</td><td>...</td><td>...</td><td>...</td><td>...</td><td>...</td><td>...</td></tr>\n",
       "<tr><td>/home/ir-shir1/rds/rds-iris-ip005/data/public/HSC/hsc-release.mtk.nao.ac.jp/archive/filetree/pdr2_wide/deepCoadd-results/HSC-I/8766/8,2/calexp-HSC-I-8766-8,2.fits</td><td>35.05212396177302</td><td>35.052268604829</td><td>34.86031700203964</td><td>34.86050429326351</td><td>-4.190061985963127</td><td>-3.9940831095035314</td><td>-4.189879934105375</td><td>-3.9939095932239557</td><td>133341120</td><td>c7d169b4612b02ce2ff03b531bc8dace</td></tr>\n",
       "<tr><td>/home/ir-shir1/rds/rds-iris-ip005/data/public/HSC/hsc-release.mtk.nao.ac.jp/archive/filetree/pdr2_wide/deepCoadd-results/HSC-I/8766/8,3/calexp-HSC-I-8766-8,3.fits</td><td>35.052261718523305</td><td>35.052406300319326</td><td>34.86049537652268</td><td>34.86068258843092</td><td>-4.003415619352376</td><td>-3.8074305032734497</td><td>-4.003241696593322</td><td>-3.8072651168892</td><td>132670080</td><td>f69dc3bcc2726603baf8c0e29edacafd</td></tr>\n",
       "<tr><td>/home/ir-shir1/rds/rds-iris-ip005/data/public/HSC/hsc-release.mtk.nao.ac.jp/archive/filetree/pdr2_wide/deepCoadd-results/HSC-Y/8765/0,3/calexp-HSC-Y-8765-0,3.fits</td><td>35.056859995378</td><td>35.05667278346978</td><td>34.865093653377386</td><td>34.86494907158138</td><td>-4.003241696593322</td><td>-3.8072651168892024</td><td>-4.00341561935237</td><td>-3.8074305032734497</td><td>129018240</td><td>00f6e41b6a63fd4888e8c5c2c29b0dd4</td></tr>\n",
       "<tr><td>/home/ir-shir1/rds/rds-iris-ip005/data/public/HSC/hsc-release.mtk.nao.ac.jp/archive/filetree/pdr2_wide/deepCoadd-results/HSC-Y/8765/0,2/calexp-HSC-Y-8765-0,2.fits</td><td>35.05703836986104</td><td>35.05685107863718</td><td>34.86523141012769</td><td>34.8650867670717</td><td>-4.1898799341053765</td><td>-3.9939095932239588</td><td>-4.190061985963134</td><td>-3.994083109503531</td><td>128416320</td><td>4cfe8d2a6135240887572498f291c7ee</td></tr>\n",
       "<tr><td>/home/ir-shir1/rds/rds-iris-ip005/data/public/HSC/hsc-release.mtk.nao.ac.jp/archive/filetree/pdr2_wide/deepCoadd-results/HSC-Y/8766/8,2/calexp-HSC-Y-8766-8,2.fits</td><td>35.05212396177302</td><td>35.052268604829</td><td>34.86031700203964</td><td>34.86050429326351</td><td>-4.190061985963127</td><td>-3.9940831095035314</td><td>-4.189879934105375</td><td>-3.9939095932239557</td><td>128376000</td><td>614856656b91bd47e6bd34134010c98f</td></tr>\n",
       "<tr><td>/home/ir-shir1/rds/rds-iris-ip005/data/public/HSC/hsc-release.mtk.nao.ac.jp/archive/filetree/pdr2_wide/deepCoadd-results/HSC-Y/8766/8,3/calexp-HSC-Y-8766-8,3.fits</td><td>35.052261718523305</td><td>35.052406300319326</td><td>34.86049537652268</td><td>34.86068258843092</td><td>-4.003415619352376</td><td>-3.8074305032734497</td><td>-4.003241696593322</td><td>-3.8072651168892</td><td>128943360</td><td>7b0905d38b25ad054375a4fc00591d17</td></tr>\n",
       "<tr><td>/home/ir-shir1/rds/rds-iris-ip005/data/public/HSC/hsc-release.mtk.nao.ac.jp/archive/filetree/pdr2_wide/deepCoadd-results/HSC-R/8765/0,3/calexp-HSC-R-8765-0,3.fits</td><td>35.056859995378</td><td>35.05667278346978</td><td>34.865093653377386</td><td>34.86494907158138</td><td>-4.003241696593322</td><td>-3.8072651168892024</td><td>-4.00341561935237</td><td>-3.8074305032734497</td><td>124231680</td><td>69163d81b969ed69e720a2ce19a8b5be</td></tr>\n",
       "<tr><td>/home/ir-shir1/rds/rds-iris-ip005/data/public/HSC/hsc-release.mtk.nao.ac.jp/archive/filetree/pdr2_wide/deepCoadd-results/HSC-R/8765/0,2/calexp-HSC-R-8765-0,2.fits</td><td>35.05703836986104</td><td>35.05685107863718</td><td>34.86523141012769</td><td>34.8650867670717</td><td>-4.1898799341053765</td><td>-3.9939095932239588</td><td>-4.190061985963134</td><td>-3.994083109503531</td><td>124856640</td><td>dd156f31dc0ebfd5d240e628dadaf896</td></tr>\n",
       "<tr><td>/home/ir-shir1/rds/rds-iris-ip005/data/public/HSC/hsc-release.mtk.nao.ac.jp/archive/filetree/pdr2_wide/deepCoadd-results/HSC-R/8766/8,2/calexp-HSC-R-8766-8,2.fits</td><td>35.05212396177302</td><td>35.052268604829</td><td>34.86031700203964</td><td>34.86050429326351</td><td>-4.190061985963127</td><td>-3.9940831095035314</td><td>-4.189879934105375</td><td>-3.9939095932239557</td><td>124894080</td><td>d0b3bc7cd7e43850c6cd94e145d6dfd2</td></tr>\n",
       "<tr><td>/home/ir-shir1/rds/rds-iris-ip005/data/public/HSC/hsc-release.mtk.nao.ac.jp/archive/filetree/pdr2_wide/deepCoadd-results/HSC-R/8766/8,3/calexp-HSC-R-8766-8,3.fits</td><td>35.052261718523305</td><td>35.052406300319326</td><td>34.86049537652268</td><td>34.86068258843092</td><td>-4.003415619352376</td><td>-3.8074305032734497</td><td>-4.003241696593322</td><td>-3.8072651168892</td><td>124306560</td><td>bbc095cb066f00aec3810d629f485d4a</td></tr>\n",
       "</table>"
      ],
      "text/plain": [
       "<Table length=40>\n",
       "                                                                               file                                                                                ...\n",
       "                                                                              str164                                                                               ...\n",
       "------------------------------------------------------------------------------------------------------------------------------------------------------------------ ...\n",
       " /home/ir-shir1/rds/rds-iris-ip005/data/public/HSC/hsc-release.mtk.nao.ac.jp/archive/filetree/pdr2_dud/deepCoadd-results/HSC-Z/8765/0,3/calexp-HSC-Z-8765-0,3.fits ...\n",
       " /home/ir-shir1/rds/rds-iris-ip005/data/public/HSC/hsc-release.mtk.nao.ac.jp/archive/filetree/pdr2_dud/deepCoadd-results/HSC-Z/8765/0,2/calexp-HSC-Z-8765-0,2.fits ...\n",
       " /home/ir-shir1/rds/rds-iris-ip005/data/public/HSC/hsc-release.mtk.nao.ac.jp/archive/filetree/pdr2_dud/deepCoadd-results/HSC-Z/8766/8,2/calexp-HSC-Z-8766-8,2.fits ...\n",
       " /home/ir-shir1/rds/rds-iris-ip005/data/public/HSC/hsc-release.mtk.nao.ac.jp/archive/filetree/pdr2_dud/deepCoadd-results/HSC-Z/8766/8,3/calexp-HSC-Z-8766-8,3.fits ...\n",
       " /home/ir-shir1/rds/rds-iris-ip005/data/public/HSC/hsc-release.mtk.nao.ac.jp/archive/filetree/pdr2_dud/deepCoadd-results/HSC-G/8765/0,3/calexp-HSC-G-8765-0,3.fits ...\n",
       " /home/ir-shir1/rds/rds-iris-ip005/data/public/HSC/hsc-release.mtk.nao.ac.jp/archive/filetree/pdr2_dud/deepCoadd-results/HSC-G/8765/0,2/calexp-HSC-G-8765-0,2.fits ...\n",
       " /home/ir-shir1/rds/rds-iris-ip005/data/public/HSC/hsc-release.mtk.nao.ac.jp/archive/filetree/pdr2_dud/deepCoadd-results/HSC-G/8766/8,2/calexp-HSC-G-8766-8,2.fits ...\n",
       " /home/ir-shir1/rds/rds-iris-ip005/data/public/HSC/hsc-release.mtk.nao.ac.jp/archive/filetree/pdr2_dud/deepCoadd-results/HSC-G/8766/8,3/calexp-HSC-G-8766-8,3.fits ...\n",
       " /home/ir-shir1/rds/rds-iris-ip005/data/public/HSC/hsc-release.mtk.nao.ac.jp/archive/filetree/pdr2_dud/deepCoadd-results/HSC-I/8765/0,3/calexp-HSC-I-8765-0,3.fits ...\n",
       " /home/ir-shir1/rds/rds-iris-ip005/data/public/HSC/hsc-release.mtk.nao.ac.jp/archive/filetree/pdr2_dud/deepCoadd-results/HSC-I/8765/0,2/calexp-HSC-I-8765-0,2.fits ...\n",
       "                                                                                                                                                               ... ...\n",
       "/home/ir-shir1/rds/rds-iris-ip005/data/public/HSC/hsc-release.mtk.nao.ac.jp/archive/filetree/pdr2_wide/deepCoadd-results/HSC-I/8766/8,2/calexp-HSC-I-8766-8,2.fits ...\n",
       "/home/ir-shir1/rds/rds-iris-ip005/data/public/HSC/hsc-release.mtk.nao.ac.jp/archive/filetree/pdr2_wide/deepCoadd-results/HSC-I/8766/8,3/calexp-HSC-I-8766-8,3.fits ...\n",
       "/home/ir-shir1/rds/rds-iris-ip005/data/public/HSC/hsc-release.mtk.nao.ac.jp/archive/filetree/pdr2_wide/deepCoadd-results/HSC-Y/8765/0,3/calexp-HSC-Y-8765-0,3.fits ...\n",
       "/home/ir-shir1/rds/rds-iris-ip005/data/public/HSC/hsc-release.mtk.nao.ac.jp/archive/filetree/pdr2_wide/deepCoadd-results/HSC-Y/8765/0,2/calexp-HSC-Y-8765-0,2.fits ...\n",
       "/home/ir-shir1/rds/rds-iris-ip005/data/public/HSC/hsc-release.mtk.nao.ac.jp/archive/filetree/pdr2_wide/deepCoadd-results/HSC-Y/8766/8,2/calexp-HSC-Y-8766-8,2.fits ...\n",
       "/home/ir-shir1/rds/rds-iris-ip005/data/public/HSC/hsc-release.mtk.nao.ac.jp/archive/filetree/pdr2_wide/deepCoadd-results/HSC-Y/8766/8,3/calexp-HSC-Y-8766-8,3.fits ...\n",
       "/home/ir-shir1/rds/rds-iris-ip005/data/public/HSC/hsc-release.mtk.nao.ac.jp/archive/filetree/pdr2_wide/deepCoadd-results/HSC-R/8765/0,3/calexp-HSC-R-8765-0,3.fits ...\n",
       "/home/ir-shir1/rds/rds-iris-ip005/data/public/HSC/hsc-release.mtk.nao.ac.jp/archive/filetree/pdr2_wide/deepCoadd-results/HSC-R/8765/0,2/calexp-HSC-R-8765-0,2.fits ...\n",
       "/home/ir-shir1/rds/rds-iris-ip005/data/public/HSC/hsc-release.mtk.nao.ac.jp/archive/filetree/pdr2_wide/deepCoadd-results/HSC-R/8766/8,2/calexp-HSC-R-8766-8,2.fits ...\n",
       "/home/ir-shir1/rds/rds-iris-ip005/data/public/HSC/hsc-release.mtk.nao.ac.jp/archive/filetree/pdr2_wide/deepCoadd-results/HSC-R/8766/8,3/calexp-HSC-R-8766-8,3.fits ..."
      ]
     },
     "execution_count": 24,
     "metadata": {},
     "output_type": "execute_result"
    }
   ],
   "source": [
    "hsc_ims[in_im]"
   ]
  },
  {
   "cell_type": "markdown",
   "metadata": {},
   "source": [
    "This point apears to be in the overlap region between tract 8523 and 8524. Lets choose 8523 arbitraily. Each tract contains 9*9 = 81 patches. Lets try to process one patch to begin. We therefor want all the VISTA images that overlap with one patch. Lets arbitrality take the first patch"
   ]
  },
  {
   "cell_type": "code",
   "execution_count": 25,
   "metadata": {},
   "outputs": [],
   "source": [
    "#hsc_ims[in_im][0]"
   ]
  },
  {
   "cell_type": "code",
   "execution_count": 26,
   "metadata": {},
   "outputs": [
    {
     "name": "stdout",
     "output_type": "stream",
     "text": [
      "0\n"
     ]
    },
    {
     "name": "stderr",
     "output_type": "stream",
     "text": [
      "/Users/rs548/GitHub/lsst_stack/conda/miniconda3-py37_4.8.2/envs/lsst-scipipe-1a1d771/lib/python3.7/site-packages/astropy/table/column.py:1020: RuntimeWarning: invalid value encountered in less\n",
      "  result = getattr(super(), op)(other)\n"
     ]
    }
   ],
   "source": [
    "in_vista_im = (\n",
    "    (ra_test < vista_ims['ra_0_0']) &\n",
    "    (dec_test > vista_ims['dec_0_0']) &\n",
    "    (ra_test > vista_ims['ra_x_y']) &\n",
    "    (dec_test < vista_ims['dec_x_y']) )\n",
    "\n",
    "print(np.sum(in_vista_im))"
   ]
  },
  {
   "cell_type": "code",
   "execution_count": 27,
   "metadata": {},
   "outputs": [],
   "source": [
    "def float_to_int(floats):\n",
    "    floats = np.array(floats.copy())\n",
    "    floats[np.isnan(floats)] = -99\n",
    "    ints = np.array([int(f) for f in floats])\n",
    "    return ints\n",
    "close = (float_to_int( vista_ims['ra']) == int(ra_test)) & (float_to_int( vista_ims['dec']) == int(dec_test))"
   ]
  },
  {
   "cell_type": "code",
   "execution_count": 28,
   "metadata": {},
   "outputs": [
    {
     "data": {
      "text/plain": [
       "133"
      ]
     },
     "execution_count": 28,
     "metadata": {},
     "output_type": "execute_result"
    }
   ],
   "source": [
    "np.sum((float_to_int( vista_ims['dec']) == int(dec_test)))"
   ]
  },
  {
   "cell_type": "code",
   "execution_count": 29,
   "metadata": {},
   "outputs": [
    {
     "data": {
      "text/plain": [
       "array([-99, -63, -62, -61, -60, -59, -58, -57, -56, -54, -53, -51, -50,\n",
       "       -48, -47, -46, -45, -44, -43, -42, -41, -40, -38, -37, -35, -34,\n",
       "       -32, -31, -30, -29, -28, -27, -26, -25, -24, -23, -21, -19, -18,\n",
       "       -16, -15, -13, -12, -11, -10,  -9,  -8,  -7,  -6,  -5,  -4,  -3,\n",
       "        -2,   0])"
      ]
     },
     "execution_count": 29,
     "metadata": {},
     "output_type": "execute_result"
    }
   ],
   "source": [
    "np.unique(float_to_int( vista_ims['dec']))"
   ]
  },
  {
   "cell_type": "code",
   "execution_count": 30,
   "metadata": {},
   "outputs": [
    {
     "data": {
      "text/html": [
       "<i>Row index=0</i>\n",
       "<table id=\"table5051548624\">\n",
       "<thead><tr><th>file</th><th>ra</th><th>dec</th><th>ra_0_0</th><th>ra_0_y</th><th>ra_x_0</th><th>ra_x_y</th><th>dec_0_0</th><th>dec_0_y</th><th>dec_x_0</th><th>dec_x_y</th><th>filter</th><th>size</th><th>hash</th><th>date</th><th>survey</th><th>type</th></tr></thead>\n",
       "<thead><tr><th>str101</th><th>float64</th><th>float64</th><th>float64</th><th>float64</th><th>float64</th><th>float64</th><th>float64</th><th>float64</th><th>float64</th><th>float64</th><th>str2</th><th>int64</th><th>str32</th><th>str8</th><th>str5</th><th>str5</th></tr></thead>\n",
       "<tr><td>/Users/rs548/GitHub/lsst-ir-fusion/dmu0/dmu0_VISTA/dmu0_VIDEO/data/20121122/v20121122_00102_st.fit</td><td>35.616442</td><td>-4.72313</td><td>36.12365296903962</td><td>36.12552008187017</td><td>35.92586958047189</td><td>35.92719310164043</td><td>-4.077977314187725</td><td>-4.276795598599529</td><td>-4.077171797589524</td><td>-4.276339668965059</td><td>Ks</td><td>84542400</td><td>3319fb54e5a06ed024ee2c779d3eea16</td><td>20121122</td><td>VIDEO</td><td>stack</td></tr>\n",
       "</table>"
      ],
      "text/plain": [
       "<Row index=0>\n",
       "                                               file                                                    ra      dec          ra_0_0            ra_0_y            ra_x_0            ra_x_y           dec_0_0            dec_0_y            dec_x_0            dec_x_y       filter   size                 hash                 date   survey  type\n",
       "                                              str101                                                float64  float64       float64           float64           float64           float64           float64            float64            float64            float64        str2   int64                str32                 str8    str5   str5\n",
       "-------------------------------------------------------------------------------------------------- --------- -------- ----------------- ----------------- ----------------- ----------------- ------------------ ------------------ ------------------ ------------------ ------ -------- -------------------------------- -------- ------ -----\n",
       "/Users/rs548/GitHub/lsst-ir-fusion/dmu0/dmu0_VISTA/dmu0_VIDEO/data/20121122/v20121122_00102_st.fit 35.616442 -4.72313 36.12365296903962 36.12552008187017 35.92586958047189 35.92719310164043 -4.077977314187725 -4.276795598599529 -4.077171797589524 -4.276339668965059     Ks 84542400 3319fb54e5a06ed024ee2c779d3eea16 20121122  VIDEO stack"
      ]
     },
     "execution_count": 30,
     "metadata": {},
     "output_type": "execute_result"
    }
   ],
   "source": [
    "vista_ims[close][0]"
   ]
  },
  {
   "cell_type": "code",
   "execution_count": 31,
   "metadata": {},
   "outputs": [
    {
     "data": {
      "text/html": [
       "<i>Table length=0</i>\n",
       "<table id=\"table5051551312\" class=\"table-striped table-bordered table-condensed\">\n",
       "<thead><tr><th>file</th><th>ra</th><th>dec</th><th>ra_0_0</th><th>ra_0_y</th><th>ra_x_0</th><th>ra_x_y</th><th>dec_0_0</th><th>dec_0_y</th><th>dec_x_0</th><th>dec_x_y</th><th>filter</th><th>size</th><th>hash</th><th>date</th><th>survey</th><th>type</th></tr></thead>\n",
       "<thead><tr><th>str101</th><th>float64</th><th>float64</th><th>float64</th><th>float64</th><th>float64</th><th>float64</th><th>float64</th><th>float64</th><th>float64</th><th>float64</th><th>str2</th><th>int64</th><th>str32</th><th>str8</th><th>str5</th><th>str5</th></tr></thead>\n",
       "</table>"
      ],
      "text/plain": [
       "<Table length=0>\n",
       " file     ra     dec    ra_0_0  ra_0_y  ra_x_0 ...  size  hash date survey type\n",
       "str101 float64 float64 float64 float64 float64 ... int64 str32 str8  str5  str5\n",
       "------ ------- ------- ------- ------- ------- ... ----- ----- ---- ------ ----"
      ]
     },
     "execution_count": 31,
     "metadata": {},
     "output_type": "execute_result"
    }
   ],
   "source": [
    "vista_ims[np.isclose(vista_ims['ra'], 35.428) & (vista_ims['filter'] == 'J')]"
   ]
  },
  {
   "cell_type": "code",
   "execution_count": 32,
   "metadata": {},
   "outputs": [
    {
     "data": {
      "text/html": [
       "&lt;MaskedColumn name=&apos;filter&apos; dtype=&apos;str2&apos; length=1&gt;\n",
       "<table>\n",
       "<tr><td>Ks</td></tr>\n",
       "</table>"
      ],
      "text/plain": [
       "<MaskedColumn name='filter' dtype='str2' length=1>\n",
       "Ks"
      ]
     },
     "execution_count": 32,
     "metadata": {},
     "output_type": "execute_result"
    }
   ],
   "source": [
    "np.unique(vista_ims[np.isclose(vista_ims['ra'], 35.428)]['filter'])"
   ]
  },
  {
   "cell_type": "code",
   "execution_count": 33,
   "metadata": {},
   "outputs": [],
   "source": [
    "test_set = np.isclose(vista_ims['ra'], 35.428, atol=0.1)\n",
    "test_set &= np.isclose(vista_ims['dec'], -4.90777, atol=0.1)\n",
    "test_set &= (vista_ims['survey']== 'VIDEO')\n",
    "#test_set &= (\n",
    "#    (np.array(vista_ims['filter']) == 'Y') | \n",
    "#    (np.array(vista_ims['filter']) == 'Ks') \n",
    "#)\n",
    "\n",
    "#test_set &="
   ]
  },
  {
   "cell_type": "code",
   "execution_count": 34,
   "metadata": {},
   "outputs": [
    {
     "data": {
      "text/html": [
       "&lt;Column name=&apos;date&apos; dtype=&apos;str8&apos; length=2&gt;\n",
       "<table>\n",
       "<tr><td>20121122</td></tr>\n",
       "<tr><td>20171027</td></tr>\n",
       "</table>"
      ],
      "text/plain": [
       "<Column name='date' dtype='str8' length=2>\n",
       "20121122\n",
       "20171027"
      ]
     },
     "execution_count": 34,
     "metadata": {},
     "output_type": "execute_result"
    }
   ],
   "source": [
    "np.unique(vista_ims[test_set]['date'])\n"
   ]
  },
  {
   "cell_type": "code",
   "execution_count": 35,
   "metadata": {},
   "outputs": [
    {
     "data": {
      "text/plain": [
       "850599360"
      ]
     },
     "execution_count": 35,
     "metadata": {},
     "output_type": "execute_result"
    }
   ],
   "source": [
    "np.sum(vista_ims[test_set &(vista_ims['type']=='stack')]['size'])"
   ]
  },
  {
   "cell_type": "code",
   "execution_count": 36,
   "metadata": {},
   "outputs": [
    {
     "data": {
      "text/html": [
       "<i>Table length=11</i>\n",
       "<table id=\"table5051551056-921810\" class=\"table-striped table-bordered table-condensed\">\n",
       "<thead><tr><th>idx</th><th>file</th><th>ra</th><th>dec</th><th>ra_0_0</th><th>ra_0_y</th><th>ra_x_0</th><th>ra_x_y</th><th>dec_0_0</th><th>dec_0_y</th><th>dec_x_0</th><th>dec_x_y</th><th>filter</th><th>size</th><th>hash</th><th>date</th><th>survey</th><th>type</th></tr></thead>\n",
       "<tr><td>0</td><td>/Users/rs548/GitHub/lsst-ir-fusion/dmu0/dmu0_VISTA/dmu0_VIDEO/data/20121122/v20121122_00207_st.fit</td><td>35.436996</td><td>-4.90735</td><td>35.94415038681624</td><td>35.946083891256066</td><td>35.74415693249861</td><td>35.74553771326806</td><td>-4.25982111275322</td><td>-4.458153923454694</td><td>-4.259167034486192</td><td>-4.457851984006502</td><td>Ks</td><td>87131520</td><td>30c4cf93b9f0f0cf0d3261792887984c</td><td>20121122</td><td>VIDEO</td><td>stack</td></tr>\n",
       "<tr><td>1</td><td>/Users/rs548/GitHub/lsst-ir-fusion/dmu0/dmu0_VISTA/dmu0_VIDEO/data/20121122/v20121122_00116_st.fit</td><td>35.524558</td><td>-4.90631</td><td>36.03226173409147</td><td>36.03414857812651</td><td>35.834395481720996</td><td>35.83573620433609</td><td>-4.260776925843634</td><td>-4.459607645003357</td><td>-4.259978566975024</td><td>-4.459159214724387</td><td>Ks</td><td>84648960</td><td>a48b9f8674556a541dc64ae56646d847</td><td>20121122</td><td>VIDEO</td><td>stack</td></tr>\n",
       "<tr><td>2</td><td>/Users/rs548/GitHub/lsst-ir-fusion/dmu0/dmu0_VISTA/dmu0_VIDEO/data/20121122/v20121122_00165_st.fit</td><td>35.435704</td><td>-4.9127</td><td>35.94561871123936</td><td>35.94765256521272</td><td>35.74363364276948</td><td>35.74509765698566</td><td>-4.259284945697468</td><td>-4.460698118492988</td><td>-4.258674764519787</td><td>-4.4604498842183045</td><td>Ks</td><td>87626880</td><td>f59516da74921bc5cedf5feb4a38e12f</td><td>20121122</td><td>VIDEO</td><td>stack</td></tr>\n",
       "<tr><td>3</td><td>/Users/rs548/GitHub/lsst-ir-fusion/dmu0/dmu0_VISTA/dmu0_VIDEO/data/20121122/v20121122_00242_st.fit</td><td>35.519567</td><td>-4.90494</td><td>36.03462911783436</td><td>36.03659155520072</td><td>35.83423558450388</td><td>35.83565018719635</td><td>-4.260864499424222</td><td>-4.458846009642759</td><td>-4.260043878490914</td><td>-4.458383394814115</td><td>Ks</td><td>86132160</td><td>30dc6c0720fecc343e7037583e2657cf</td><td>20121122</td><td>VIDEO</td><td>stack</td></tr>\n",
       "<tr><td>4</td><td>/Users/rs548/GitHub/lsst-ir-fusion/dmu0/dmu0_VISTA/dmu0_VIDEO/data/20121122/v20121122_00158_st.fit</td><td>35.527642</td><td>-4.91272</td><td>36.0374114351255</td><td>36.03936021861576</td><td>35.83545453771271</td><td>35.83683273533792</td><td>-4.258752116030969</td><td>-4.460185522258053</td><td>-4.257936566923111</td><td>-4.4597300997089615</td><td>Ks</td><td>88053120</td><td>89a8864ed1c242b8fecc1562b892ea6c</td><td>20121122</td><td>VIDEO</td><td>stack</td></tr>\n",
       "<tr><td>5</td><td>/Users/rs548/GitHub/lsst-ir-fusion/dmu0/dmu0_VISTA/dmu0_VIDEO/data/20121122/v20121122_00249_st.fit</td><td>35.427633</td><td>-4.90493</td><td>35.94287537092362</td><td>35.94475163389872</td><td>35.742420446203745</td><td>35.743748425144865</td><td>-4.261165633336233</td><td>-4.4591626315246415</td><td>-4.260401596591839</td><td>-4.458757586918079</td><td>Ks</td><td>86411520</td><td>27e65f1059bd076dbea3b79e8d53e565</td><td>20121122</td><td>VIDEO</td><td>stack</td></tr>\n",
       "<tr><td>6</td><td>/Users/rs548/GitHub/lsst-ir-fusion/dmu0/dmu0_VISTA/dmu0_VIDEO/data/20121122/v20121122_00123_st.fit</td><td>35.432625</td><td>-4.9063</td><td>35.94044296819832</td><td>35.94237419669329</td><td>35.74260946975893</td><td>35.74399541881637</td><td>-4.261384583389258</td><td>-4.460170054766773</td><td>-4.260724450373826</td><td>-4.459861003202436</td><td>Ks</td><td>84424320</td><td>80488596aedcf2fd07926f139f909716</td><td>20121122</td><td>VIDEO</td><td>stack</td></tr>\n",
       "<tr><td>7</td><td>/Users/rs548/GitHub/lsst-ir-fusion/dmu0/dmu0_VISTA/dmu0_VIDEO/data/20171027/v20171027_00173_st.fit</td><td>35.435225</td><td>-4.90779</td><td>35.943588982159184</td><td>35.945534640039945</td><td>35.74298527341724</td><td>35.744372243765596</td><td>-4.259059664741104</td><td>-4.458820336557813</td><td>-4.258365216461935</td><td>-4.458481834393038</td><td>Y</td><td>61666560</td><td>0ae44410a6d7f6fc317b233b9b5b714a</td><td>20171027</td><td>VIDEO</td><td>stack</td></tr>\n",
       "<tr><td>8</td><td>/Users/rs548/GitHub/lsst-ir-fusion/dmu0/dmu0_VISTA/dmu0_VIDEO/data/20171027/v20171027_00213_st.fit</td><td>35.525212</td><td>-4.90638</td><td>36.03748204073455</td><td>36.03938267195677</td><td>35.83466901967988</td><td>35.836005340341934</td><td>-4.258024543865595</td><td>-4.4579656850480625</td><td>-4.257153959023732</td><td>-4.457456529627805</td><td>Y</td><td>60860160</td><td>d56e745db72b84d12afc79ee76f99d5e</td><td>20171027</td><td>VIDEO</td><td>stack</td></tr>\n",
       "<tr><td>9</td><td>/Users/rs548/GitHub/lsst-ir-fusion/dmu0/dmu0_VISTA/dmu0_VIDEO/data/20171027/v20171027_00165_st.fit</td><td>35.527158</td><td>-4.90781</td><td>36.03531006747089</td><td>36.03720753962785</td><td>35.83474228118</td><td>35.83608039124861</td><td>-4.258438926310406</td><td>-4.458239480930942</td><td>-4.257575477014601</td><td>-4.457730373880786</td><td>Y</td><td>61963200</td><td>6ab2e6c4c3da68d0b8875d65ede796fb</td><td>20171027</td><td>VIDEO</td><td>stack</td></tr>\n",
       "<tr><td>10</td><td>/Users/rs548/GitHub/lsst-ir-fusion/dmu0/dmu0_VISTA/dmu0_VIDEO/data/20171027/v20171027_00221_st.fit</td><td>35.433279</td><td>-4.90636</td><td>35.94569928577793</td><td>35.947652543592426</td><td>35.74289029365579</td><td>35.744279823177294</td><td>-4.258478819153203</td><td>-4.458417847619478</td><td>-4.257762118759249</td><td>-4.458063956312508</td><td>Y</td><td>61680960</td><td>6c7afd3db9f4e26b66f99b51eeda7791</td><td>20171027</td><td>VIDEO</td><td>stack</td></tr>\n",
       "</table><style>table.dataTable {clear: both; width: auto !important; margin: 0 !important;}\n",
       ".dataTables_info, .dataTables_length, .dataTables_filter, .dataTables_paginate{\n",
       "display: inline-block; margin-right: 1em; }\n",
       ".paginate_button { margin-right: 5px; }\n",
       "</style>\n",
       "<script>\n",
       "\n",
       "var astropy_sort_num = function(a, b) {\n",
       "    var a_num = parseFloat(a);\n",
       "    var b_num = parseFloat(b);\n",
       "\n",
       "    if (isNaN(a_num) && isNaN(b_num))\n",
       "        return ((a < b) ? -1 : ((a > b) ? 1 : 0));\n",
       "    else if (!isNaN(a_num) && !isNaN(b_num))\n",
       "        return ((a_num < b_num) ? -1 : ((a_num > b_num) ? 1 : 0));\n",
       "    else\n",
       "        return isNaN(a_num) ? -1 : 1;\n",
       "}\n",
       "\n",
       "require.config({paths: {\n",
       "    datatables: 'https://cdn.datatables.net/1.10.12/js/jquery.dataTables.min'\n",
       "}});\n",
       "require([\"datatables\"], function(){\n",
       "    console.log(\"$('#table5051551056-921810').dataTable()\");\n",
       "    \n",
       "jQuery.extend( jQuery.fn.dataTableExt.oSort, {\n",
       "    \"optionalnum-asc\": astropy_sort_num,\n",
       "    \"optionalnum-desc\": function (a,b) { return -astropy_sort_num(a, b); }\n",
       "});\n",
       "\n",
       "    $('#table5051551056-921810').dataTable({\n",
       "        order: [],\n",
       "        pageLength: 50,\n",
       "        lengthMenu: [[10, 25, 50, 100, 500, 1000, -1], [10, 25, 50, 100, 500, 1000, 'All']],\n",
       "        pagingType: \"full_numbers\",\n",
       "        columnDefs: [{targets: [0, 2, 3, 4, 5, 6, 7, 8, 9, 10, 11, 13], type: \"optionalnum\"}]\n",
       "    });\n",
       "});\n",
       "</script>\n"
      ],
      "text/plain": [
       "<IPython.core.display.HTML object>"
      ]
     },
     "execution_count": 36,
     "metadata": {},
     "output_type": "execute_result"
    }
   ],
   "source": [
    "vista_ims[test_set &(vista_ims['type']=='stack')].show_in_notebook()"
   ]
  },
  {
   "cell_type": "code",
   "execution_count": 37,
   "metadata": {},
   "outputs": [
    {
     "data": {
      "text/plain": [
       "0"
      ]
     },
     "execution_count": 37,
     "metadata": {},
     "output_type": "execute_result"
    }
   ],
   "source": [
    "np.sum(test_set &(vista_ims['type']=='stack')&(vista_ims['filter']=='J'))"
   ]
  },
  {
   "cell_type": "code",
   "execution_count": 38,
   "metadata": {},
   "outputs": [
    {
     "data": {
      "text/html": [
       "&lt;Column name=&apos;date&apos; dtype=&apos;str8&apos; length=0&gt;\n",
       "<table>\n",
       "</table>"
      ],
      "text/plain": [
       "<Column name='date' dtype='str8' length=0>"
      ]
     },
     "execution_count": 38,
     "metadata": {},
     "output_type": "execute_result"
    }
   ],
   "source": [
    "np.unique(vista_ims[test_set &(vista_ims['type']=='stack')&(vista_ims['filter']=='J')]['date'])"
   ]
  },
  {
   "cell_type": "markdown",
   "metadata": {},
   "source": [
    "I want to choose a minimal test data set. That is I want a set of six stacks on the same position in the four VIDEO bands.\n",
    "\n",
    " - 20171027, Y images at 35.4, -4.9\n",
    " - 20121021, J\n",
    " - 20120924, H \n",
    " - 20121122, Ks \n",
    " \n",
    " look like two VIDEO tiles over the same area in Y and Ks"
   ]
  },
  {
   "cell_type": "code",
   "execution_count": 39,
   "metadata": {},
   "outputs": [
    {
     "data": {
      "text/plain": [
       "0"
      ]
     },
     "execution_count": 39,
     "metadata": {},
     "output_type": "execute_result"
    }
   ],
   "source": [
    "np.sum(vista_ims[test_set & (vista_ims['date']=='20121021')]['size'])"
   ]
  },
  {
   "cell_type": "code",
   "execution_count": 40,
   "metadata": {},
   "outputs": [
    {
     "data": {
      "text/html": [
       "<i>Table length=2</i>\n",
       "<table id=\"table4859523408\" class=\"table-striped table-bordered table-condensed\">\n",
       "<thead><tr><th>file</th><th>ra</th><th>dec</th><th>ra_0_0</th><th>ra_0_y</th><th>ra_x_0</th><th>ra_x_y</th><th>dec_0_0</th><th>dec_0_y</th><th>dec_x_0</th><th>dec_x_y</th><th>filter</th><th>size</th><th>hash</th><th>date</th><th>survey</th><th>type</th></tr></thead>\n",
       "<thead><tr><th>str101</th><th>float64</th><th>float64</th><th>float64</th><th>float64</th><th>float64</th><th>float64</th><th>float64</th><th>float64</th><th>float64</th><th>float64</th><th>str2</th><th>int64</th><th>str32</th><th>str8</th><th>str5</th><th>str5</th></tr></thead>\n",
       "<tr><td>/Users/rs548/GitHub/lsst-ir-fusion/dmu0/dmu0_VISTA/dmu0_VIDEO/data/20171027/v20171027_00133_st_tl.fit</td><td>nan</td><td>nan</td><td>nan</td><td>nan</td><td>nan</td><td>nan</td><td>nan</td><td>nan</td><td>nan</td><td>nan</td><td>--</td><td>0</td><td>--</td><td>20171027</td><td>VIDEO</td><td>tile</td></tr>\n",
       "<tr><td>/Users/rs548/GitHub/lsst-ir-fusion/dmu0/dmu0_VISTA/dmu0_VIDEO/data/20171027/v20171027_00181_st_tl.fit</td><td>nan</td><td>nan</td><td>nan</td><td>nan</td><td>nan</td><td>nan</td><td>nan</td><td>nan</td><td>nan</td><td>nan</td><td>--</td><td>0</td><td>--</td><td>20171027</td><td>VIDEO</td><td>tile</td></tr>\n",
       "</table>"
      ],
      "text/plain": [
       "<Table length=2>\n",
       "                                                 file                                                 ...\n",
       "                                                str101                                                ...\n",
       "----------------------------------------------------------------------------------------------------- ...\n",
       "/Users/rs548/GitHub/lsst-ir-fusion/dmu0/dmu0_VISTA/dmu0_VIDEO/data/20171027/v20171027_00133_st_tl.fit ...\n",
       "/Users/rs548/GitHub/lsst-ir-fusion/dmu0/dmu0_VISTA/dmu0_VIDEO/data/20171027/v20171027_00181_st_tl.fit ..."
      ]
     },
     "execution_count": 40,
     "metadata": {},
     "output_type": "execute_result"
    }
   ],
   "source": [
    "vista_ims[ (vista_ims['date']=='20171027') &(vista_ims['type']=='tile')]"
   ]
  },
  {
   "cell_type": "code",
   "execution_count": 41,
   "metadata": {},
   "outputs": [
    {
     "data": {
      "text/plain": [
       "0"
      ]
     },
     "execution_count": 41,
     "metadata": {},
     "output_type": "execute_result"
    }
   ],
   "source": [
    "np.sum((vista_ims['type']=='tile') & ~np.isnan(vista_ims['ra']))"
   ]
  },
  {
   "cell_type": "code",
   "execution_count": null,
   "metadata": {},
   "outputs": [],
   "source": []
  }
 ],
 "metadata": {
  "kernelspec": {
   "display_name": "LSST",
   "language": "python",
   "name": "lsst"
  },
  "language_info": {
   "codemirror_mode": {
    "name": "ipython",
    "version": 3
   },
   "file_extension": ".py",
   "mimetype": "text/x-python",
   "name": "python",
   "nbconvert_exporter": "python",
   "pygments_lexer": "ipython3",
   "version": "3.7.6"
  }
 },
 "nbformat": 4,
 "nbformat_minor": 4
}
