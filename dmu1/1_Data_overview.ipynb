{
 "cells": [
  {
   "cell_type": "markdown",
   "metadata": {},
   "source": [
    "# 1 Data overview\n",
    "\n",
    "In this notebook we will catalogue all the HSC and VISTA image information required for processing. The HSC image corners will be used to find the relevant VISTA images required for swarping to the HSC pixel base."
   ]
  },
  {
   "cell_type": "code",
   "execution_count": 1,
   "metadata": {},
   "outputs": [],
   "source": [
    "import glob\n",
    "\n",
    "from astropy.table import Table, Column\n",
    "from astropy.io import fits\n",
    "from astropy.wcs import WCS\n",
    "\n",
    "import matplotlib.pyplot as plt\n",
    "\n",
    "import numpy as np\n",
    "import time\n",
    "\n",
    "import os\n",
    "\n",
    "import hashlib\n",
    "import yaml\n",
    "import collections.abc"
   ]
  },
  {
   "cell_type": "code",
   "execution_count": 2,
   "metadata": {},
   "outputs": [
    {
     "name": "stdout",
     "output_type": "stream",
     "text": [
      "20200820\n"
     ]
    }
   ],
   "source": [
    "SUFFIX=time.strftime(\"%Y%m%d\")\n",
    "print(SUFFIX)"
   ]
  },
  {
   "cell_type": "code",
   "execution_count": 3,
   "metadata": {},
   "outputs": [
    {
     "name": "stdout",
     "output_type": "stream",
     "text": [
      "/Users/rs548/GitHub/lsst-ir-fusion/dmu0/data_local.yml\n"
     ]
    },
    {
     "name": "stderr",
     "output_type": "stream",
     "text": [
      "/Users/rs548/GitHub/lsst_stack/conda/miniconda3-py37_4.8.2/envs/lsst-scipipe-1a1d771/lib/python3.7/site-packages/ipykernel_launcher.py:20: YAMLLoadWarning: calling yaml.load() without Loader=... is deprecated, as the default Loader is unsafe. Please read https://msg.pyyaml.org/load for full details.\n"
     ]
    }
   ],
   "source": [
    "\n",
    "def data_loc(base=None):\n",
    "    \"\"\"Return data locations depending on machine used\n",
    "    \n",
    "    Returns\n",
    "    -------\n",
    "    str\n",
    "        Full path to data repository\n",
    "    \"\"\"\n",
    "    if base == None:\n",
    "        cwd = os.getcwd()\n",
    "        base = cwd.split('lsst-ir-fusion')[0] + 'lsst-ir-fusion/'\n",
    "    \n",
    "    \n",
    "    overide = base + 'dmu0/data_local.yml'\n",
    "    standard = base + 'dmu0/data_local_template.yml'\n",
    "    print(overide)\n",
    "    if os.path.exists(overide):\n",
    "        data_loc = yaml.load(open(overide, 'rb'))\n",
    "    else:\n",
    "        data_loc = yaml.load(open(standard, 'rb'))\n",
    "        for k, v in data_loc.items():\n",
    "            #print(k,v)\n",
    "            data_loc[k] = v.replace('BASE/', base)\n",
    "    return data_loc\n",
    "data_loc = data_loc()"
   ]
  },
  {
   "cell_type": "code",
   "execution_count": 4,
   "metadata": {},
   "outputs": [],
   "source": [
    "RUN_HSC = False\n",
    "RUN_VISTA = True\n",
    "RESTART_VISTA = False\n",
    "SURVEY = 'video'\n",
    "RUN_PANSTARRS = False"
   ]
  },
  {
   "cell_type": "code",
   "execution_count": 5,
   "metadata": {},
   "outputs": [
    {
     "data": {
      "text/plain": [
       "{'vista': '/Users/rs548/GitHub/lsst-ir-fusion/dmu0/dmu0_VISTA/',\n",
       " 'video': '/Users/rs548/GitHub/lsst-ir-fusion/dmu0/dmu0_VISTA/dmu0_VIDEO/data/',\n",
       " 'viking': '/Users/rs548/GitHub/lsst-ir-fusion/dmu0/dmu0_VISTA/dmu0_VIKING/data/',\n",
       " 'vhs': '/Users/rs548/GitHub/lsst-ir-fusion/dmu0/dmu0_VISTA/dmu0_VHS/data/',\n",
       " 'hsc': '/Users/rs548/GitHub/lsst-ir-fusion/dmu0/dmu0_HSC/data/',\n",
       " 'panstarrs': '/Users/rs548/GitHub/lsst-ir-fusion/dmu0/dmu0_PanSTARRS/data/',\n",
       " 'gaia': '/Users/rs548/GitHub/lsst-ir-fusion/dmu0/dmu0_GAIA/data/'}"
      ]
     },
     "execution_count": 5,
     "metadata": {},
     "output_type": "execute_result"
    }
   ],
   "source": [
    "data_loc"
   ]
  },
  {
   "cell_type": "markdown",
   "metadata": {},
   "source": [
    "## 1.1 HSC images\n",
    "First lets look at the HSC images."
   ]
  },
  {
   "cell_type": "code",
   "execution_count": 6,
   "metadata": {},
   "outputs": [],
   "source": [
    "images = glob.glob(data_loc['hsc'] + \"**/calexp*.fits\", recursive=True)"
   ]
  },
  {
   "cell_type": "code",
   "execution_count": 7,
   "metadata": {},
   "outputs": [],
   "source": [
    "meta = Table()\n",
    "meta.add_column(Column(data=images, name=\"file\"))"
   ]
  },
  {
   "cell_type": "code",
   "execution_count": 8,
   "metadata": {},
   "outputs": [
    {
     "data": {
      "text/html": [
       "<i>Table length=1</i>\n",
       "<table id=\"table4598995408\" class=\"table-striped table-bordered table-condensed\">\n",
       "<thead><tr><th>file</th></tr></thead>\n",
       "<thead><tr><th>str165</th></tr></thead>\n",
       "<tr><td>/Users/rs548/GitHub/lsst-ir-fusion/dmu0/dmu0_HSC/data/hsc-release.mtk.nao.ac.jp/archive/filetree/pdr2_dud/deepCoadd-results/HSC-R/8524/3,5/calexp-HSC-R-8524-3,5.fits</td></tr>\n",
       "</table>"
      ],
      "text/plain": [
       "<Table length=1>\n",
       "                                                                                 file                                                                                \n",
       "                                                                                str165                                                                               \n",
       "---------------------------------------------------------------------------------------------------------------------------------------------------------------------\n",
       "/Users/rs548/GitHub/lsst-ir-fusion/dmu0/dmu0_HSC/data/hsc-release.mtk.nao.ac.jp/archive/filetree/pdr2_dud/deepCoadd-results/HSC-R/8524/3,5/calexp-HSC-R-8524-3,5.fits"
      ]
     },
     "execution_count": 8,
     "metadata": {},
     "output_type": "execute_result"
    }
   ],
   "source": [
    "meta"
   ]
  },
  {
   "cell_type": "markdown",
   "metadata": {},
   "source": [
    "#### Critical imformation\n",
    "From each image we need:\n",
    "\n",
    "1. Corner pixels\n",
    "2. File sizes\n",
    "3. Checksums"
   ]
  },
  {
   "cell_type": "code",
   "execution_count": 9,
   "metadata": {},
   "outputs": [
    {
     "name": "stdout",
     "output_type": "stream",
     "text": [
      "1f85857f6fd6a9389ab8f7f09d8cb101\n"
     ]
    }
   ],
   "source": [
    "def file_as_bytes(file):\n",
    "    with file:\n",
    "        return file.read()\n",
    "\n",
    "test_hash = hashlib.md5(file_as_bytes(open(meta[0]['file'], 'rb'))).hexdigest()\n",
    "print( test_hash)"
   ]
  },
  {
   "cell_type": "code",
   "execution_count": 10,
   "metadata": {},
   "outputs": [
    {
     "name": "stdout",
     "output_type": "stream",
     "text": [
      "253 ms ± 5.83 ms per loop (mean ± std. dev. of 7 runs, 1 loop each)\n"
     ]
    }
   ],
   "source": [
    "%%timeit\n",
    "h = hashlib.md5(file_as_bytes(open(meta[0]['file'], 'rb'))).hexdigest()"
   ]
  },
  {
   "cell_type": "code",
   "execution_count": 11,
   "metadata": {},
   "outputs": [
    {
     "name": "stdout",
     "output_type": "stream",
     "text": [
      "21 hours\n"
     ]
    }
   ],
   "source": [
    "print(str(round((150000*0.5)/(60*60))) + ' hours')"
   ]
  },
  {
   "cell_type": "markdown",
   "metadata": {},
   "source": [
    "### 1.2.2 Run on all images\n",
    "Now lets loop over all the images"
   ]
  },
  {
   "cell_type": "code",
   "execution_count": 12,
   "metadata": {},
   "outputs": [],
   "source": [
    "meta.add_column(Column(data=np.full(len(meta),  np.nan), name='ra_0_0'))\n",
    "meta.add_column(Column(data=np.full(len(meta),  np.nan), name='ra_0_y'))\n",
    "meta.add_column(Column(data=np.full(len(meta),  np.nan), name='ra_x_0'))\n",
    "meta.add_column(Column(data=np.full(len(meta),  np.nan), name='ra_x_y'))\n",
    "meta.add_column(Column(data=np.full(len(meta),  np.nan), name='dec_0_0'))\n",
    "meta.add_column(Column(data=np.full(len(meta),  np.nan), name='dec_0_y'))\n",
    "meta.add_column(Column(data=np.full(len(meta),  np.nan), name='dec_x_0'))\n",
    "meta.add_column(Column(data=np.full(len(meta),  np.nan), name='dec_x_y'))\n",
    "meta.add_column(Column(data=np.full(len(meta),  0), name='size'))\n",
    "meta.add_column(Column(data=np.full(len(meta),  ''), name='hash', dtype='S{}'.format(len(test_hash))))"
   ]
  },
  {
   "cell_type": "code",
   "execution_count": 13,
   "metadata": {},
   "outputs": [],
   "source": [
    "\n",
    "for im in meta:\n",
    "    if not RUN_HSC:\n",
    "        break\n",
    "    file = im[\"file\"]\n",
    "    #print(file)\n",
    "    hdu = fits.open(file)\n",
    "    wcs = WCS(hdu[1].header)\n",
    "    ra, dec = wcs.all_pix2world([0,0,hdu[1].header['NAXIS1'],hdu[1].header['NAXIS1']], \n",
    "                            [0,hdu[1].header['NAXIS2'],0,hdu[1].header['NAXIS2']], 1) \n",
    "    im['ra_0_0'] = ra[0]\n",
    "    im['ra_0_y'] = ra[1]\n",
    "    im['ra_x_0'] = ra[2]\n",
    "    im['ra_x_y'] = ra[3]\n",
    "    im['dec_0_0'] = dec[0]\n",
    "    im['dec_0_y'] = dec[1]\n",
    "    im['dec_x_0'] = dec[2]\n",
    "    im['dec_x_y'] = dec[3]   \n",
    "    im['size'] =  os.stat(im['file']).st_size\n",
    "    im['hash'] = hashlib.md5(file_as_bytes(open(im['file'], 'rb'))).hexdigest()"
   ]
  },
  {
   "cell_type": "code",
   "execution_count": 14,
   "metadata": {},
   "outputs": [
    {
     "data": {
      "text/html": [
       "<i>Table length=1</i>\n",
       "<table id=\"table4599120144-218793\" class=\"table-striped table-bordered table-condensed\">\n",
       "<thead><tr><th>idx</th><th>file</th><th>ra_0_0</th><th>ra_0_y</th><th>ra_x_0</th><th>ra_x_y</th><th>dec_0_0</th><th>dec_0_y</th><th>dec_x_0</th><th>dec_x_y</th><th>size</th><th>hash</th></tr></thead>\n",
       "<tr><td>0</td><td>/Users/rs548/GitHub/lsst-ir-fusion/dmu0/dmu0_HSC/data/hsc-release.mtk.nao.ac.jp/archive/filetree/pdr2_dud/deepCoadd-results/HSC-R/8524/3,5/calexp-HSC-R-8524-3,5.fits</td><td>nan</td><td>nan</td><td>nan</td><td>nan</td><td>nan</td><td>nan</td><td>nan</td><td>nan</td><td>0</td><td></td></tr>\n",
       "</table><style>table.dataTable {clear: both; width: auto !important; margin: 0 !important;}\n",
       ".dataTables_info, .dataTables_length, .dataTables_filter, .dataTables_paginate{\n",
       "display: inline-block; margin-right: 1em; }\n",
       ".paginate_button { margin-right: 5px; }\n",
       "</style>\n",
       "<script>\n",
       "\n",
       "var astropy_sort_num = function(a, b) {\n",
       "    var a_num = parseFloat(a);\n",
       "    var b_num = parseFloat(b);\n",
       "\n",
       "    if (isNaN(a_num) && isNaN(b_num))\n",
       "        return ((a < b) ? -1 : ((a > b) ? 1 : 0));\n",
       "    else if (!isNaN(a_num) && !isNaN(b_num))\n",
       "        return ((a_num < b_num) ? -1 : ((a_num > b_num) ? 1 : 0));\n",
       "    else\n",
       "        return isNaN(a_num) ? -1 : 1;\n",
       "}\n",
       "\n",
       "require.config({paths: {\n",
       "    datatables: 'https://cdn.datatables.net/1.10.12/js/jquery.dataTables.min'\n",
       "}});\n",
       "require([\"datatables\"], function(){\n",
       "    console.log(\"$('#table4599120144-218793').dataTable()\");\n",
       "    \n",
       "jQuery.extend( jQuery.fn.dataTableExt.oSort, {\n",
       "    \"optionalnum-asc\": astropy_sort_num,\n",
       "    \"optionalnum-desc\": function (a,b) { return -astropy_sort_num(a, b); }\n",
       "});\n",
       "\n",
       "    $('#table4599120144-218793').dataTable({\n",
       "        order: [],\n",
       "        pageLength: 50,\n",
       "        lengthMenu: [[10, 25, 50, 100, 500, 1000, -1], [10, 25, 50, 100, 500, 1000, 'All']],\n",
       "        pagingType: \"full_numbers\",\n",
       "        columnDefs: [{targets: [0, 2, 3, 4, 5, 6, 7, 8, 9, 10], type: \"optionalnum\"}]\n",
       "    });\n",
       "});\n",
       "</script>\n"
      ],
      "text/plain": [
       "<IPython.core.display.HTML object>"
      ]
     },
     "execution_count": 14,
     "metadata": {},
     "output_type": "execute_result"
    }
   ],
   "source": [
    "meta[:10].show_in_notebook()"
   ]
  },
  {
   "cell_type": "code",
   "execution_count": 15,
   "metadata": {},
   "outputs": [],
   "source": [
    "if RUN_HSC:\n",
    "    meta.write('./data/hsc_images_overview_{}.csv'.format(SUFFIX), overwrite=True)"
   ]
  },
  {
   "cell_type": "code",
   "execution_count": null,
   "metadata": {},
   "outputs": [],
   "source": []
  },
  {
   "cell_type": "markdown",
   "metadata": {},
   "source": [
    "## 1.2 VISTA images\n",
    "\n",
    "Now lets investigate the VISTA images."
   ]
  },
  {
   "cell_type": "code",
   "execution_count": 16,
   "metadata": {},
   "outputs": [],
   "source": [
    "v_files = glob.glob(data_loc[SURVEY] + \"/**/*.fit\", recursive=True)"
   ]
  },
  {
   "cell_type": "code",
   "execution_count": 17,
   "metadata": {},
   "outputs": [],
   "source": [
    "v_meta = Table()\n",
    "v_meta.add_column(Column(data=v_files, name=\"file\"))"
   ]
  },
  {
   "cell_type": "code",
   "execution_count": 18,
   "metadata": {},
   "outputs": [],
   "source": [
    "v_meta.add_column(Column(data=np.full(len(v_meta),  np.nan), name='ra'))\n",
    "v_meta.add_column(Column(data=np.full(len(v_meta),  np.nan), name='dec'))\n",
    "v_meta.add_column(Column(data=np.full(len(v_meta),  np.nan), name='ra_0_0'))\n",
    "v_meta.add_column(Column(data=np.full(len(v_meta),  np.nan), name='ra_0_y'))\n",
    "v_meta.add_column(Column(data=np.full(len(v_meta),  np.nan), name='ra_x_0'))\n",
    "v_meta.add_column(Column(data=np.full(len(v_meta),  np.nan), name='ra_x_y'))\n",
    "v_meta.add_column(Column(data=np.full(len(v_meta),  np.nan), name='dec_0_0'))\n",
    "v_meta.add_column(Column(data=np.full(len(v_meta),  np.nan), name='dec_0_y'))\n",
    "v_meta.add_column(Column(data=np.full(len(v_meta),  np.nan), name='dec_x_0'))\n",
    "v_meta.add_column(Column(data=np.full(len(v_meta),  np.nan), name='dec_x_y'))\n",
    "v_meta.add_column(Column(data=np.full(len(v_meta),  '        '), name='filter'))\n",
    "v_meta.add_column(Column(data=np.full(len(v_meta),  0), name='size'))\n",
    "v_meta.add_column(Column(data=np.full(len(v_meta),  ''), name='hash', dtype='S{}'.format(len(test_hash))))"
   ]
  },
  {
   "cell_type": "code",
   "execution_count": 19,
   "metadata": {},
   "outputs": [],
   "source": [
    "n_im = 0\n",
    "if RESTART_VISTA:\n",
    "    checkpoints = glob.glob('./data/{}_images_overview_temp_*.csv'.format(SURVEY))\n",
    "    n_im = np.max(np.array([int(t.split('_')[-1][:-4] ) for t in checkpoints] ))\n",
    "    restart_file = './data/{}_images_overview_temp_{}.csv'.format(SURVEY,n_im)\n",
    "    print(\"Restarting with: {}\".format(restart_file))\n",
    "    v_meta = Table.read(restart_file)\n",
    "    #START_VISTA"
   ]
  },
  {
   "cell_type": "code",
   "execution_count": 24,
   "metadata": {},
   "outputs": [],
   "source": [
    "\n",
    "for im in v_meta[v_meta['size']==0]:\n",
    " \n",
    "    if not RUN_VISTA:\n",
    "        break\n",
    "    file = im[\"file\"]\n",
    "    #print(file)\n",
    "    n_im += 1\n",
    "    try:\n",
    "        hdu = fits.open(file)\n",
    "        wcs = WCS(hdu[1].header)\n",
    "        ra, dec = wcs.all_pix2world([0,0,hdu[1].header['NAXIS1'],hdu[1].header['NAXIS1']], \n",
    "                            [0,hdu[1].header['NAXIS2'],0,hdu[1].header['NAXIS2']], 1) \n",
    "        this_file = v_meta['file'] == file\n",
    "        if file.endswith('_tl.fit'):\n",
    "            v_meta['ra'][this_file] = hdu[1].header['RA']\n",
    "            v_meta['dec'][this_file] = hdu[1].header['DEC'] \n",
    "            v_meta['filter'][this_file] = hdu[1].header['HIERARCH ESO INS FILT1 NAME']\n",
    "        else:\n",
    "            v_meta['ra'][this_file] = hdu[0].header['RA']\n",
    "            v_meta['dec'][this_file] = hdu[0].header['DEC']\n",
    "            v_meta['filter'][this_file] = hdu[0].header['HIERARCH ESO INS FILT1 NAME']\n",
    "        v_meta['ra_0_0'][this_file] = ra[0]\n",
    "        v_meta['ra_0_y'][this_file] = ra[1]\n",
    "        v_meta['ra_x_0'][this_file] = ra[2]\n",
    "        v_meta['ra_x_y'][this_file] = ra[3]\n",
    "        v_meta['dec_0_0'][this_file] = dec[0]\n",
    "        v_meta['dec_0_y'][this_file] = dec[1]\n",
    "        v_meta['dec_x_0'][this_file] = dec[2]\n",
    "        v_meta['dec_x_y'][this_file] = dec[3]   \n",
    "        v_meta['size'][this_file] =  os.stat(im['file']).st_size\n",
    "        v_meta['hash'][this_file] = hashlib.md5(file_as_bytes(open(im['file'], 'rb'))).hexdigest()\n",
    "        \n",
    "        \n",
    "    except:\n",
    "        pass\n",
    "    if n_im % 10000 == 0:\n",
    "        v_meta.write('./data/{}_images_overview_temp_{}.csv'.format(SURVEY,n_im), overwrite=True)\n",
    "        \n",
    "    "
   ]
  },
  {
   "cell_type": "code",
   "execution_count": 25,
   "metadata": {},
   "outputs": [
    {
     "data": {
      "text/html": [
       "<i>Table length=10</i>\n",
       "<table id=\"table4599122064-185105\" class=\"table-striped table-bordered table-condensed\">\n",
       "<thead><tr><th>idx</th><th>file</th><th>ra</th><th>dec</th><th>ra_0_0</th><th>ra_0_y</th><th>ra_x_0</th><th>ra_x_y</th><th>dec_0_0</th><th>dec_0_y</th><th>dec_x_0</th><th>dec_x_y</th><th>filter</th><th>size</th><th>hash</th></tr></thead>\n",
       "<tr><td>0</td><td>/Users/rs548/GitHub/lsst-ir-fusion/dmu0/dmu0_VISTA/dmu0_VIDEO/data/20121122/v20121122_00102_st.fit</td><td>35.616442</td><td>-4.72313</td><td>36.12365296903962</td><td>36.12552008187017</td><td>35.92586958047189</td><td>35.92719310164043</td><td>-4.077977314187725</td><td>-4.276795598599529</td><td>-4.077171797589524</td><td>-4.276339668965059</td><td>Ks</td><td>84542400</td><td>3319fb54e5a06ed024ee2c779d3eea16</td></tr>\n",
       "<tr><td>1</td><td>/Users/rs548/GitHub/lsst-ir-fusion/dmu0/dmu0_VISTA/dmu0_VIDEO/data/20121122/v20121122_00235_st.fit</td><td>35.611492</td><td>-4.90492</td><td>36.12610999045986</td><td>36.12799560019295</td><td>35.92567612832217</td><td>35.927013085064964</td><td>-4.260849258430862</td><td>-4.458864267061002</td><td>-4.26000521655501</td><td>-4.458377949976223</td><td>Ks</td><td>86400000</td><td>3311861dca0dc2cc4c591c74ade46697</td></tr>\n",
       "<tr><td>2</td><td>/Users/rs548/GitHub/lsst-ir-fusion/dmu0/dmu0_VISTA/dmu0_VIDEO/data/20121122/v20121122_00088_st_tl.fit</td><td>35.43265</td><td>-4.72313</td><td>36.1259211592099</td><td>36.13048720302681</td><td>34.91284867786413</td><td>34.914758535953574</td><td>-4.074792762244068</td><td>-5.561089113115699</td><td>-4.077214438128979</td><td>-5.563516534082509</td><td>Ks</td><td>216357120</td><td>95f818d1b99dcee749b276666480cdc6</td></tr>\n",
       "<tr><td>3</td><td>/Users/rs548/GitHub/lsst-ir-fusion/dmu0/dmu0_VISTA/dmu0_VIDEO/data/20121122/v20121122_00214_st_tl.fit</td><td>35.427662</td><td>-4.72176</td><td>36.128216986356364</td><td>36.133033742529975</td><td>34.912513728999684</td><td>34.914670908547755</td><td>-4.074580595511128</td><td>-5.559726533947458</td><td>-4.07748170314107</td><td>-5.562633841232306</td><td>Ks</td><td>219761280</td><td>1fa2bf681b64e2c34cd63976c48ebd6d</td></tr>\n",
       "<tr><td>4</td><td>/Users/rs548/GitHub/lsst-ir-fusion/dmu0/dmu0_VISTA/dmu0_VIDEO/data/20121122/v20121122_00207_st.fit</td><td>35.436996</td><td>-4.90735</td><td>35.94415038681624</td><td>35.946083891256066</td><td>35.74415693249861</td><td>35.74553771326806</td><td>-4.25982111275322</td><td>-4.458153923454694</td><td>-4.259167034486192</td><td>-4.457851984006502</td><td>Ks</td><td>87131520</td><td>30c4cf93b9f0f0cf0d3261792887984c</td></tr>\n",
       "<tr><td>5</td><td>/Users/rs548/GitHub/lsst-ir-fusion/dmu0/dmu0_VISTA/dmu0_VIDEO/data/20121122/v20121122_00186_st.fit</td><td>35.620817</td><td>-4.72418</td><td>36.1273099599587</td><td>36.129253995984364</td><td>35.927356864252125</td><td>35.928750217721166</td><td>-4.076418668899508</td><td>-4.2747963003828655</td><td>-4.075634526012312</td><td>-4.274362759715051</td><td>Ks</td><td>86996160</td><td>f2d7ce96af8ba0e7dacad9502b130968</td></tr>\n",
       "<tr><td>6</td><td>/Users/rs548/GitHub/lsst-ir-fusion/dmu0/dmu0_VISTA/dmu0_VIDEO/data/20121122/v20121122_00151_st.fit</td><td>35.619563</td><td>-4.91269</td><td>36.12897457417563</td><td>36.1309440114325</td><td>35.926964033757244</td><td>35.92836295863879</td><td>-4.25902765584969</td><td>-4.4604201350789845</td><td>-4.258262828599911</td><td>-4.460015583328658</td><td>Ks</td><td>87891840</td><td>b31848fb6f8fda487334ad79edf9f671</td></tr>\n",
       "<tr><td>7</td><td>/Users/rs548/GitHub/lsst-ir-fusion/dmu0/dmu0_VISTA/dmu0_VIDEO/data/20121122/v20121122_00116_st.fit</td><td>35.524558</td><td>-4.90631</td><td>36.03226173409147</td><td>36.03414857812651</td><td>35.834395481720996</td><td>35.83573620433609</td><td>-4.260776925843634</td><td>-4.459607645003357</td><td>-4.259978566975024</td><td>-4.459159214724387</td><td>Ks</td><td>84648960</td><td>a48b9f8674556a541dc64ae56646d847</td></tr>\n",
       "<tr><td>8</td><td>/Users/rs548/GitHub/lsst-ir-fusion/dmu0/dmu0_VISTA/dmu0_VIDEO/data/20121122/v20121122_00179_st.fit</td><td>35.528933</td><td>-4.72417</td><td>36.036102623233226</td><td>36.038019421876925</td><td>35.83608127168605</td><td>35.83744677984761</td><td>-4.075840155220711</td><td>-4.27419221211796</td><td>-4.075110862928901</td><td>-4.273814512007562</td><td>Ks</td><td>86526720</td><td>ab1338e0fca179e1783af7e2d9a78187</td></tr>\n",
       "<tr><td>9</td><td>/Users/rs548/GitHub/lsst-ir-fusion/dmu0/dmu0_VISTA/dmu0_VIDEO/data/20121122/v20121122_00130_st.fit</td><td>35.435729</td><td>-4.72953</td><td>35.94541034612505</td><td>35.94739404313425</td><td>35.74341133771648</td><td>35.7448269875313</td><td>-4.0761093665967385</td><td>-4.277639042080953</td><td>-4.075351693245579</td><td>-4.277242337224645</td><td>Ks</td><td>88286400</td><td>2def2dc5fa82d81c006112aa76b725ab</td></tr>\n",
       "</table><style>table.dataTable {clear: both; width: auto !important; margin: 0 !important;}\n",
       ".dataTables_info, .dataTables_length, .dataTables_filter, .dataTables_paginate{\n",
       "display: inline-block; margin-right: 1em; }\n",
       ".paginate_button { margin-right: 5px; }\n",
       "</style>\n",
       "<script>\n",
       "\n",
       "var astropy_sort_num = function(a, b) {\n",
       "    var a_num = parseFloat(a);\n",
       "    var b_num = parseFloat(b);\n",
       "\n",
       "    if (isNaN(a_num) && isNaN(b_num))\n",
       "        return ((a < b) ? -1 : ((a > b) ? 1 : 0));\n",
       "    else if (!isNaN(a_num) && !isNaN(b_num))\n",
       "        return ((a_num < b_num) ? -1 : ((a_num > b_num) ? 1 : 0));\n",
       "    else\n",
       "        return isNaN(a_num) ? -1 : 1;\n",
       "}\n",
       "\n",
       "require.config({paths: {\n",
       "    datatables: 'https://cdn.datatables.net/1.10.12/js/jquery.dataTables.min'\n",
       "}});\n",
       "require([\"datatables\"], function(){\n",
       "    console.log(\"$('#table4599122064-185105').dataTable()\");\n",
       "    \n",
       "jQuery.extend( jQuery.fn.dataTableExt.oSort, {\n",
       "    \"optionalnum-asc\": astropy_sort_num,\n",
       "    \"optionalnum-desc\": function (a,b) { return -astropy_sort_num(a, b); }\n",
       "});\n",
       "\n",
       "    $('#table4599122064-185105').dataTable({\n",
       "        order: [],\n",
       "        pageLength: 50,\n",
       "        lengthMenu: [[10, 25, 50, 100, 500, 1000, -1], [10, 25, 50, 100, 500, 1000, 'All']],\n",
       "        pagingType: \"full_numbers\",\n",
       "        columnDefs: [{targets: [0, 2, 3, 4, 5, 6, 7, 8, 9, 10, 11, 13], type: \"optionalnum\"}]\n",
       "    });\n",
       "});\n",
       "</script>\n"
      ],
      "text/plain": [
       "<IPython.core.display.HTML object>"
      ]
     },
     "execution_count": 25,
     "metadata": {},
     "output_type": "execute_result"
    }
   ],
   "source": [
    "v_meta[:10].show_in_notebook()"
   ]
  },
  {
   "cell_type": "code",
   "execution_count": 26,
   "metadata": {},
   "outputs": [],
   "source": [
    "if RUN_VISTA:\n",
    "    v_meta.write('./data/{}_images_overview_{}.csv'.format(SURVEY, SUFFIX), overwrite=True)"
   ]
  },
  {
   "cell_type": "code",
   "execution_count": null,
   "metadata": {},
   "outputs": [],
   "source": []
  }
 ],
 "metadata": {
  "anaconda-cloud": {},
  "kernelspec": {
   "display_name": "LSST",
   "language": "python",
   "name": "lsst"
  },
  "language_info": {
   "codemirror_mode": {
    "name": "ipython",
    "version": 3
   },
   "file_extension": ".py",
   "mimetype": "text/x-python",
   "name": "python",
   "nbconvert_exporter": "python",
   "pygments_lexer": "ipython3",
   "version": "3.7.6"
  }
 },
 "nbformat": 4,
 "nbformat_minor": 2
}
