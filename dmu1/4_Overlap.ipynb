{
 "cells": [
  {
   "cell_type": "markdown",
   "metadata": {},
   "source": [
    "# Overlap comparisons\n",
    "\n",
    "In this notebook we investigate the overlap of the VHS and HSC Wide surveys in order to estimate computing times and data storage requirements."
   ]
  },
  {
   "cell_type": "code",
   "execution_count": 1,
   "metadata": {},
   "outputs": [],
   "source": [
    "from astropy.table import Table\n",
    "import astropy.units as u\n",
    "import json\n",
    "import glob"
   ]
  },
  {
   "cell_type": "code",
   "execution_count": 5,
   "metadata": {},
   "outputs": [],
   "source": [
    "hsc_patches = json.loads(open('./json/hsc_total_patch_dict.json', 'r').read())\n",
    "vhs_patches = json.loads(open('./json/vhs_total_patch_dict.json', 'r').read())\n",
    "viking_patches = json.loads(open('./json/viking_total_patch_dict.json', 'r').read())\n",
    "video_patches = json.loads(open('./json/video_total_patch_dict.json', 'r').read())"
   ]
  },
  {
   "cell_type": "code",
   "execution_count": 6,
   "metadata": {},
   "outputs": [
    {
     "name": "stdout",
     "output_type": "stream",
     "text": [
      "There are 44029 patches in HSC which is 1571 square degrees of processing area (including overlap).\n"
     ]
    }
   ],
   "source": [
    "n=0\n",
    "for tract in hsc_patches:\n",
    "    n+=len(hsc_patches[tract])\n",
    "print(\"There are {} patches in HSC which is {} square degrees of processing area (including overlap).\".format(\n",
    "    n,\n",
    "    round(n*((1.7*u.deg/9)**2).value)\n",
    "))"
   ]
  },
  {
   "cell_type": "code",
   "execution_count": 12,
   "metadata": {},
   "outputs": [
    {
     "name": "stdout",
     "output_type": "stream",
     "text": [
      "VHS: 670137 patches, 23910 square degrees.\n",
      "VIKING: 49209 patches, 1756 square degrees.\n",
      "VIDEO: 600 patches, 21 square degrees.\n"
     ]
    }
   ],
   "source": [
    "#Areas include overlap and are processing areas!\n",
    "n=0\n",
    "for tract in vhs_patches:\n",
    "    n+=len(vhs_patches[tract])\n",
    "print(\"VHS: {} patches, {} square degrees.\".format(\n",
    "    n,\n",
    "    round(n*((1.7*u.deg/9)**2).value)\n",
    "))\n",
    "n=0\n",
    "for tract in viking_patches:\n",
    "    n+=len(viking_patches[tract])\n",
    "print(\"VIKING: {} patches, {} square degrees.\".format(\n",
    "    n,\n",
    "    round(n*((1.7*u.deg/9)**2).value)\n",
    "))\n",
    "n=0\n",
    "for tract in video_patches:\n",
    "    n+=len(video_patches[tract])\n",
    "print(\"VIDEO: {} patches, {} square degrees.\".format(\n",
    "    n,\n",
    "    round(n*((1.7*u.deg/9)**2).value)\n",
    "))"
   ]
  },
  {
   "cell_type": "code",
   "execution_count": 13,
   "metadata": {},
   "outputs": [],
   "source": [
    "hsc_vhs_overlap = {}\n",
    "\n",
    "for tract in hsc_patches:\n",
    "    \n",
    "    try:\n",
    "        hsc_vhs_overlap[tract] = set([\"[{},{}]\".format(p[0],p[1]) for p in hsc_patches[tract]]).intersection(\n",
    "            set([\"[{},{}]\".format(p[0],p[1]) for p in vhs_patches[tract]])\n",
    "        )\n",
    "    except KeyError:\n",
    "        pass\n",
    "    \n",
    "for tract in hsc_vhs_overlap:\n",
    "    hsc_vhs_overlap[tract] = [[int(p[1]),int(p[3])] for p in hsc_vhs_overlap[tract]]\n",
    "with open('./json/hsc_vhs_overlap.json', 'w') as outfile:\n",
    "    json.dump(hsc_vhs_overlap, outfile, separators=(',', ':'))"
   ]
  },
  {
   "cell_type": "code",
   "execution_count": 14,
   "metadata": {},
   "outputs": [],
   "source": [
    "hsc_viking_overlap = {}\n",
    "\n",
    "for tract in hsc_patches:\n",
    "    \n",
    "    try:\n",
    "        hsc_viking_overlap[tract] = set([\"[{},{}]\".format(p[0],p[1]) for p in hsc_patches[tract]]).intersection(\n",
    "            set([\"[{},{}]\".format(p[0],p[1]) for p in viking_patches[tract]])\n",
    "        )\n",
    "    except KeyError:\n",
    "        pass\n",
    "    \n",
    "for tract in hsc_viking_overlap:\n",
    "    hsc_viking_overlap[tract] = [[int(p[1]),int(p[3])] for p in hsc_viking_overlap[tract]]\n",
    "with open('./json/hsc_viking_overlap.json', 'w') as outfile:\n",
    "    json.dump(hsc_viking_overlap, outfile, separators=(',', ':'))"
   ]
  },
  {
   "cell_type": "code",
   "execution_count": 15,
   "metadata": {},
   "outputs": [],
   "source": [
    "hsc_video_overlap = {}\n",
    "\n",
    "for tract in hsc_patches:\n",
    "    \n",
    "    try:\n",
    "        hsc_video_overlap[tract] = set([\"[{},{}]\".format(p[0],p[1]) for p in hsc_patches[tract]]).intersection(\n",
    "            set([\"[{},{}]\".format(p[0],p[1]) for p in video_patches[tract]])\n",
    "        )\n",
    "    except KeyError:\n",
    "        pass\n",
    "    \n",
    "for tract in hsc_video_overlap:\n",
    "    hsc_video_overlap[tract] = [[int(p[1]),int(p[3])] for p in hsc_video_overlap[tract]]\n",
    "with open('./json/hsc_video_overlap.json', 'w') as outfile:\n",
    "    json.dump(hsc_video_overlap, outfile, separators=(',', ':'))"
   ]
  },
  {
   "cell_type": "code",
   "execution_count": 16,
   "metadata": {},
   "outputs": [
    {
     "name": "stdout",
     "output_type": "stream",
     "text": [
      "VHS and HSC: 13164 patches, 470 square degrees.\n",
      "VIKING and HSC: 15557 patches, 555 square degrees.\n",
      "VIDEO and HSC: 219 patches, 8 square degrees.\n"
     ]
    }
   ],
   "source": [
    "#Areas include overlap and are processing areas!\n",
    "n=0\n",
    "for tract in hsc_vhs_overlap:\n",
    "    n+=len(hsc_vhs_overlap[tract])\n",
    "print(\"VHS and HSC: {} patches, {} square degrees.\".format(\n",
    "    n,\n",
    "    round(n*((1.7*u.deg/9)**2).value)\n",
    "))\n",
    "n=0\n",
    "for tract in hsc_viking_overlap:\n",
    "    n+=len(hsc_viking_overlap[tract])\n",
    "print(\"VIKING and HSC: {} patches, {} square degrees.\".format(\n",
    "    n,\n",
    "    round(n*((1.7*u.deg/9)**2).value)\n",
    "))\n",
    "n=0\n",
    "for tract in hsc_video_overlap:\n",
    "    n+=len(hsc_video_overlap[tract])\n",
    "print(\"VIDEO and HSC: {} patches, {} square degrees.\".format(\n",
    "    n,\n",
    "    round(n*((1.7*u.deg/9)**2).value)\n",
    "))\n"
   ]
  }
 ],
 "metadata": {
  "kernelspec": {
   "display_name": "Python 3 (ipykernel)",
   "language": "python",
   "name": "python3"
  },
  "language_info": {
   "codemirror_mode": {
    "name": "ipython",
    "version": 3
   },
   "file_extension": ".py",
   "mimetype": "text/x-python",
   "name": "python",
   "nbconvert_exporter": "python",
   "pygments_lexer": "ipython3",
   "version": "3.10.6"
  }
 },
 "nbformat": 4,
 "nbformat_minor": 4
}
