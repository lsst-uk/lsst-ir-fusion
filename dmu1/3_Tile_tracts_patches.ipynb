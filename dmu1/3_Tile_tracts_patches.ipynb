{
 "cells": [
  {
   "cell_type": "markdown",
   "metadata": {},
   "source": [
    "# 3 Tile tract and patch lists\n",
    "\n",
    "In this notebook we will generate the list of patches that are present on a given VISTA tile. We will do so such that the tile is completely covered. That is we aim to provide every patch that contains any region of the tile."
   ]
  },
  {
   "cell_type": "code",
   "execution_count": 1,
   "metadata": {},
   "outputs": [],
   "source": [
    "from astropy.table import Table, Column, vstack # Perhaps we should use LSST tables\n",
    "\n",
    "import numpy as np\n",
    "import json\n",
    "import matplotlib as mpl\n",
    "import matplotlib.pyplot as plt\n",
    "%matplotlib inline"
   ]
  },
  {
   "cell_type": "code",
   "execution_count": 2,
   "metadata": {},
   "outputs": [],
   "source": [
    "VIDEO_IN = './data/video_images_overview_20200820.csv'\n",
    "VHS_IN = './data/vhs_images_overview_20201102.csv'\n",
    "VIKING_IN = './data/viking_images_overview_20201218.csv'\n",
    "HSC_IN = './data/hsc_images_overview_20210315.csv'"
   ]
  },
  {
   "cell_type": "code",
   "execution_count": 3,
   "metadata": {},
   "outputs": [],
   "source": [
    "video_ims = Table.read(VIDEO_IN)\n",
    "vhs_ims = Table.read(VHS_IN)\n",
    "viking_ims = Table.read(VIKING_IN)\n",
    "hsc_ims = Table.read(HSC_IN)"
   ]
  },
  {
   "cell_type": "code",
   "execution_count": 4,
   "metadata": {},
   "outputs": [
    {
     "data": {
      "text/plain": [
       "(887732, 137269, 229841, 189936)"
      ]
     },
     "execution_count": 4,
     "metadata": {},
     "output_type": "execute_result"
    }
   ],
   "source": [
    "len(vhs_ims),len(video_ims),len(viking_ims),len(hsc_ims)"
   ]
  },
  {
   "cell_type": "code",
   "execution_count": 5,
   "metadata": {},
   "outputs": [],
   "source": [
    "def fileToType(filename):\n",
    "    filetype = ''\n",
    "    types = {\n",
    "        'tile':'_tl.fit',\n",
    "        'stack':'_st.fit',\n",
    "    }\n",
    "    for k,v in types.items():\n",
    "        #print(k,v)\n",
    "        if filename.endswith(v):\n",
    "            filetype = k\n",
    "       \n",
    "    return filetype\n",
    "video_ims['type'] = [fileToType(f) for f in video_ims['file']]\n",
    "vhs_ims['type'] = [fileToType(f) for f in vhs_ims['file']]\n",
    "viking_ims['type'] = [fileToType(f) for f in viking_ims['file']]"
   ]
  },
  {
   "cell_type": "code",
   "execution_count": 6,
   "metadata": {},
   "outputs": [],
   "source": [
    "video_ims = video_ims[video_ims['type']=='tile']\n",
    "vhs_ims = vhs_ims[vhs_ims['type']=='tile']\n",
    "viking_ims = viking_ims[viking_ims['type']=='tile']"
   ]
  },
  {
   "cell_type": "code",
   "execution_count": 7,
   "metadata": {},
   "outputs": [
    {
     "data": {
      "text/plain": [
       "(33971, 2205, 6852)"
      ]
     },
     "execution_count": 7,
     "metadata": {},
     "output_type": "execute_result"
    }
   ],
   "source": [
    "len(vhs_ims),len(video_ims),len(viking_ims)"
   ]
  },
  {
   "cell_type": "code",
   "execution_count": 8,
   "metadata": {},
   "outputs": [
    {
     "data": {
      "text/plain": [
       "TractInfo(id=8524, ctrCoord=[0.8087076683756161, 0.5811684769959703, -0.09074749834931431])"
      ]
     },
     "execution_count": 8,
     "metadata": {},
     "output_type": "execute_result"
    }
   ],
   "source": [
    "#We are using a rings skymap\n",
    "from lsst.geom import SpherePoint \n",
    "from lsst.geom import degrees\n",
    "from lsst.skymap.ringsSkyMap import RingsSkyMap, RingsSkyMapConfig\n",
    "\n",
    "#Following taken from dmu1/2_Survey_comparisons.ipynb test choice\n",
    "coord = SpherePoint(35.429025*degrees,-4.90853*degrees)\n",
    "config = RingsSkyMapConfig()\n",
    "#These config options are chose to be the same as HSC:\n",
    "#https://github.com/lsst/obs_subaru/blob/master/config/hsc/makeSkyMap.py\n",
    "#and copied for obs_vista\n",
    "#https://github.com/lsst-uk/obs_vista/blob/master/config/makeSkyMap.py\n",
    "config.numRings = 120\n",
    "config.projection = \"TAN\"\n",
    "config.tractOverlap = 1.0/60 # Overlap between tracts (degrees)\n",
    "config.pixelScale = 0.168\n",
    "sm = RingsSkyMap(config)\n",
    "sm.findTract(coord)"
   ]
  },
  {
   "cell_type": "code",
   "execution_count": 9,
   "metadata": {},
   "outputs": [],
   "source": [
    "## Test on known tile"
   ]
  },
  {
   "cell_type": "code",
   "execution_count": 10,
   "metadata": {},
   "outputs": [
    {
     "data": {
      "text/html": [
       "<i>Row index=0</i>\n",
       "<table id=\"table140367238938256\">\n",
       "<thead><tr><th>file</th><th>ra</th><th>dec</th><th>ra_0_0</th><th>ra_0_y</th><th>ra_x_0</th><th>ra_x_y</th><th>dec_0_0</th><th>dec_0_y</th><th>dec_x_0</th><th>dec_x_y</th><th>filter</th><th>size</th><th>hash</th><th>type</th></tr></thead>\n",
       "<thead><tr><th>str98</th><th>float64</th><th>float64</th><th>float64</th><th>float64</th><th>float64</th><th>float64</th><th>float64</th><th>float64</th><th>float64</th><th>float64</th><th>str2</th><th>int64</th><th>str32</th><th>str5</th></tr></thead>\n",
       "<tr><td>/home/ir-shir1/rds/rds-iris-ip005/data/private/VISTA/VIDEO/20121122/v20121122_00088_st_tl.fit</td><td>35.43265</td><td>-4.72313</td><td>36.1259211592099</td><td>36.13048720302681</td><td>34.91284867786413</td><td>34.914758535953574</td><td>-4.074792762244068</td><td>-5.561089113115699</td><td>-4.077214438128979</td><td>-5.563516534082509</td><td>Ks</td><td>216357120</td><td>95f818d1b99dcee749b276666480cdc6</td><td>tile</td></tr>\n",
       "</table>"
      ],
      "text/plain": [
       "<Row index=0>\n",
       "                                             file                                                ra      dec         ra_0_0            ra_0_y            ra_x_0            ra_x_y            dec_0_0            dec_0_y            dec_x_0            dec_x_y       filter    size                 hash               type\n",
       "                                            str98                                             float64  float64      float64           float64           float64           float64            float64            float64            float64            float64        str2    int64                str32               str5\n",
       "--------------------------------------------------------------------------------------------- -------- -------- ---------------- ----------------- ----------------- ------------------ ------------------ ------------------ ------------------ ------------------ ------ --------- -------------------------------- ----\n",
       "/home/ir-shir1/rds/rds-iris-ip005/data/private/VISTA/VIDEO/20121122/v20121122_00088_st_tl.fit 35.43265 -4.72313 36.1259211592099 36.13048720302681 34.91284867786413 34.914758535953574 -4.074792762244068 -5.561089113115699 -4.077214438128979 -5.563516534082509     Ks 216357120 95f818d1b99dcee749b276666480cdc6 tile"
      ]
     },
     "execution_count": 10,
     "metadata": {},
     "output_type": "execute_result"
    }
   ],
   "source": [
    "#Tile from dmu4/dmu4_Example\n",
    "EX_TILE = \"20121122/v20121122_00088_st_tl.fit\"\n",
    "ex_row = video_ims[\n",
    "    video_ims['file'] == \"/home/ir-shir1/rds/rds-iris-ip005/data/private/VISTA/VIDEO/\"+EX_TILE\n",
    "][0]\n",
    "ex_row"
   ]
  },
  {
   "cell_type": "code",
   "execution_count": 11,
   "metadata": {},
   "outputs": [
    {
     "data": {
      "text/plain": [
       "36.1259211592099"
      ]
     },
     "execution_count": 11,
     "metadata": {},
     "output_type": "execute_result"
    }
   ],
   "source": [
    "ex_row['ra_0_0']"
   ]
  },
  {
   "cell_type": "code",
   "execution_count": 12,
   "metadata": {},
   "outputs": [],
   "source": [
    "patches = sm.findTractPatchList(\n",
    "        [\n",
    "            SpherePoint(ex_row['ra_0_0']*degrees,ex_row['dec_0_0']*degrees),\n",
    "            SpherePoint(ex_row['ra_0_y']*degrees,ex_row['dec_0_y']*degrees),\n",
    "            SpherePoint(ex_row['ra_x_0']*degrees,ex_row['dec_x_0']*degrees),\n",
    "            SpherePoint(ex_row['ra_x_y']*degrees,ex_row['dec_x_y']*degrees)\n",
    "        ]\n",
    "    )\n",
    "t = patches[0][0]"
   ]
  },
  {
   "cell_type": "code",
   "execution_count": 13,
   "metadata": {},
   "outputs": [
    {
     "data": {
      "text/plain": [
       "'{\"8766\":[[2,0],[2,1],[2,2],[3,0],[3,1],[3,2],[4,0],[4,1],[4,2],[5,0],[5,1],[5,2],[6,0],[6,1],[6,2],[7,0],[7,1],[7,2],[8,0],[8,1],[8,2]],\"8524\":[[2,2],[2,3],[2,4],[2,5],[2,6],[2,7],[2,8],[3,2],[3,3],[3,4],[3,5],[3,6],[3,7],[3,8],[4,2],[4,3],[4,4],[4,5],[4,6],[4,7],[4,8],[5,2],[5,3],[5,4],[5,5],[5,6],[5,7],[5,8],[6,2],[6,3],[6,4],[6,5],[6,6],[6,7],[6,8],[7,2],[7,3],[7,4],[7,5],[7,6],[7,7],[7,8],[8,2],[8,3],[8,4],[8,5],[8,6],[8,7],[8,8]],\"8765\":[[0,0],[0,1],[0,2]],\"8523\":[[0,2],[0,3],[0,4],[0,5],[0,6],[0,7],[0,8]]}'"
      ]
     },
     "execution_count": 13,
     "metadata": {},
     "output_type": "execute_result"
    }
   ],
   "source": [
    "\n",
    "tp_dict ={}\n",
    "for tract in patches:\n",
    "    #print(tract[0].getId())\n",
    "    #tp_dict[tract[0].getId()] = [[t.getIndex()[0],t.getIndex()[1]] for t in tract[1]]\n",
    "    tp_dict[int(tract[0].getId())] = [t.getIndex() for t in tract[1]]\n",
    "\n",
    "j = json.dumps(tp_dict, separators=(',', ':')) \n",
    "j"
   ]
  },
  {
   "cell_type": "code",
   "execution_count": 14,
   "metadata": {},
   "outputs": [
    {
     "data": {
      "text/plain": [
       "'{\"8766\":[[2,0],[2,1],[2,2],[3,0],[3,1],[3,2],[4,0],[4,1],[4,2],[5,0],[5,1],[5,2],[6,0],[6,1],[6,2],[7,0],[7,1],[7,2],[8,0],[8,1],[8,2]],\"8524\":[[2,2],[2,3],[2,4],[2,5],[2,6],[2,7],[2,8],[3,2],[3,3],[3,4],[3,5],[3,6],[3,7],[3,8],[4,2],[4,3],[4,4],[4,5],[4,6],[4,7],[4,8],[5,2],[5,3],[5,4],[5,5],[5,6],[5,7],[5,8],[6,2],[6,3],[6,4],[6,5],[6,6],[6,7],[6,8],[7,2],[7,3],[7,4],[7,5],[7,6],[7,7],[7,8],[8,2],[8,3],[8,4],[8,5],[8,6],[8,7],[8,8]],\"8765\":[[0,0],[0,1],[0,2]],\"8523\":[[0,2],[0,3],[0,4],[0,5],[0,6],[0,7],[0,8]]}'"
      ]
     },
     "execution_count": 14,
     "metadata": {},
     "output_type": "execute_result"
    }
   ],
   "source": [
    "def corners_to_patch_list(ex_row):\n",
    "    \"\"\"Take a ra dec limited region and return a list of all patches contained witing it\n",
    "    \n",
    "    Inputs\n",
    "    =======\n",
    "    ex_row    astropy.table.row\n",
    "              Row of image overview table containing corner columns\n",
    "    \n",
    "    Returns\n",
    "    =======\n",
    "    j        str\n",
    "             String which can be loaded by json to create a dictionary\n",
    "             the tracts indices are strings as required by json\n",
    "    \"\"\"\n",
    "    try:\n",
    "        patches = sm.findTractPatchList(\n",
    "            [\n",
    "                SpherePoint(ex_row['ra_0_0']*degrees,ex_row['dec_0_0']*degrees),\n",
    "                SpherePoint(ex_row['ra_0_y']*degrees,ex_row['dec_0_y']*degrees),\n",
    "                SpherePoint(ex_row['ra_x_0']*degrees,ex_row['dec_x_0']*degrees),\n",
    "                SpherePoint(ex_row['ra_x_y']*degrees,ex_row['dec_x_y']*degrees)\n",
    "            ]\n",
    "        )\n",
    "    \n",
    "        tp_dict ={}\n",
    "        for tract in patches:\n",
    "            tp_dict[int(tract[0].getId())] = [t.getIndex() for t in tract[1]]\n",
    "        j = json.dumps(tp_dict, separators=(',', ':')) \n",
    "    except:\n",
    "        #print(ex_row['file']+\" failed\")\n",
    "        j=''\n",
    "    return j\n",
    "corners_to_patch_list(video_ims[0])"
   ]
  },
  {
   "cell_type": "code",
   "execution_count": 15,
   "metadata": {},
   "outputs": [
    {
     "data": {
      "text/html": [
       "<i>Row index=0</i>\n",
       "<table id=\"table140367232318480\">\n",
       "<thead><tr><th>file</th><th>ra</th><th>dec</th><th>ra_0_0</th><th>ra_0_y</th><th>ra_x_0</th><th>ra_x_y</th><th>dec_0_0</th><th>dec_0_y</th><th>dec_x_0</th><th>dec_x_y</th><th>filter</th><th>size</th><th>hash</th><th>type</th></tr></thead>\n",
       "<thead><tr><th>str98</th><th>float64</th><th>float64</th><th>float64</th><th>float64</th><th>float64</th><th>float64</th><th>float64</th><th>float64</th><th>float64</th><th>float64</th><th>str2</th><th>int64</th><th>str32</th><th>str5</th></tr></thead>\n",
       "<tr><td>/home/ir-shir1/rds/rds-iris-ip005/data/private/VISTA/VIDEO/20140924/v20140924_00444_st_tl.fit</td><td>35.429542</td><td>-4.72215</td><td>36.12993723683939</td><td>36.13433423332165</td><td>34.912894878395214</td><td>34.91462725348546</td><td>-4.072782101046067</td><td>-5.559458172880838</td><td>-4.07547203760631</td><td>-5.562153562881393</td><td>Y</td><td>148561920</td><td>ccef567359a9d3f1cef197b5b5dad958</td><td>tile</td></tr>\n",
       "</table>"
      ],
      "text/plain": [
       "<Row index=0>\n",
       "                                             file                                                 ra      dec          ra_0_0            ra_0_y            ra_x_0             ra_x_y           dec_0_0            dec_0_y            dec_x_0           dec_x_y       filter    size                 hash               type\n",
       "                                            str98                                              float64  float64       float64           float64           float64            float64           float64            float64            float64           float64        str2    int64                str32               str5\n",
       "--------------------------------------------------------------------------------------------- --------- -------- ----------------- ----------------- ------------------ ----------------- ------------------ ------------------ ----------------- ------------------ ------ --------- -------------------------------- ----\n",
       "/home/ir-shir1/rds/rds-iris-ip005/data/private/VISTA/VIDEO/20140924/v20140924_00444_st_tl.fit 35.429542 -4.72215 36.12993723683939 36.13433423332165 34.912894878395214 34.91462725348546 -4.072782101046067 -5.559458172880838 -4.07547203760631 -5.562153562881393      Y 148561920 ccef567359a9d3f1cef197b5b5dad958 tile"
      ]
     },
     "execution_count": 15,
     "metadata": {},
     "output_type": "execute_result"
    }
   ],
   "source": [
    "video_ims[0]"
   ]
  },
  {
   "cell_type": "code",
   "execution_count": 16,
   "metadata": {},
   "outputs": [
    {
     "name": "stdout",
     "output_type": "stream",
     "text": [
      "mkdir: figs: File exists\n"
     ]
    },
    {
     "data": {
      "image/png": "[encoded data removed]",
      "text/plain": [
       "<Figure size 560x560 with 1 Axes>"
      ]
     },
     "metadata": {
      "needs_background": "light"
     },
     "output_type": "display_data"
    }
   ],
   "source": [
    "!mkdir figs\n",
    "fig, ax = plt.subplots(figsize=(4, 4), dpi=140)\n",
    "        \n",
    "test = json.loads(corners_to_patch_list(video_ims[0]))\n",
    "for tract in test:\n",
    "    t = sm.generateTract(int(tract))\n",
    "    for patch in test[tract]:\n",
    "        \n",
    "        p = patch\n",
    "        \n",
    "    \n",
    "    \n",
    "        vertices = t.getPatchInfo([p[0], p[1]]).getInnerSkyPolygon(t.getWcs()).getVertices()\n",
    "        ra = [np.arctan(vertices[n][1]/vertices[n][0])* 180/np.pi for n in np.mod(np.arange(5),4)]\n",
    "        #print(tract, ra)\n",
    "        dec = [(vertices[n][2])* 180/np.pi for n in np.mod(np.arange(5),4)]\n",
    "        ax.fill(ra, dec, c = 'r', alpha=0.3, linewidth=0.5)\n",
    "\n",
    "t =video_ims[0]        \n",
    "ra = [t['ra_0_0'], t['ra_x_0'] , t['ra_x_y'] , t['ra_0_y'] , t['ra_0_0'] ]\n",
    "dec = [t['dec_0_0'], t['dec_x_0'] , t['dec_x_y'] , t['dec_0_y'] , t['dec_0_0'] ]  \n",
    "ax.plot(ra, dec, c = 'b', alpha=0.3, linewidth=1.0)\n",
    "    \n",
    "ax.axis('scaled')\n",
    "#ax.set_xlim([39, 33])\n",
    "ax.set_xlabel('Right Ascension [deg]')\n",
    "ax.set_ylabel('Declination [deg]')\n",
    "fig.savefig('./figs/test_im.pdf', overwrite=True)\n",
    "fig.savefig('./figs/test_im.png', overwrite=True)"
   ]
  },
  {
   "cell_type": "code",
   "execution_count": 17,
   "metadata": {},
   "outputs": [],
   "source": [
    "video_ims['tract_patch_json'] = [corners_to_patch_list(row) for row in video_ims]\n",
    "vhs_ims['tract_patch_json'] = [corners_to_patch_list(row) for row in vhs_ims]\n",
    "viking_ims['tract_patch_json'] = [corners_to_patch_list(row) for row in viking_ims]\n",
    "#corners_to_patch_list(video_ims[0])"
   ]
  },
  {
   "cell_type": "code",
   "execution_count": 18,
   "metadata": {},
   "outputs": [
    {
     "data": {
      "text/html": [
       "<i>Row index=0</i>\n",
       "<table id=\"table140367232318480\">\n",
       "<thead><tr><th>file</th><th>ra</th><th>dec</th><th>ra_0_0</th><th>ra_0_y</th><th>ra_x_0</th><th>ra_x_y</th><th>dec_0_0</th><th>dec_0_y</th><th>dec_x_0</th><th>dec_x_y</th><th>filter</th><th>size</th><th>hash</th><th>type</th><th>tract_patch_json</th></tr></thead>\n",
       "<thead><tr><th>str98</th><th>float64</th><th>float64</th><th>float64</th><th>float64</th><th>float64</th><th>float64</th><th>float64</th><th>float64</th><th>float64</th><th>float64</th><th>str2</th><th>int64</th><th>str32</th><th>str5</th><th>str631</th></tr></thead>\n",
       "<tr><td>/home/ir-shir1/rds/rds-iris-ip005/data/private/VISTA/VIDEO/20140924/v20140924_00444_st_tl.fit</td><td>35.429542</td><td>-4.72215</td><td>36.12993723683939</td><td>36.13433423332165</td><td>34.912894878395214</td><td>34.91462725348546</td><td>-4.072782101046067</td><td>-5.559458172880838</td><td>-4.07547203760631</td><td>-5.562153562881393</td><td>Y</td><td>148561920</td><td>ccef567359a9d3f1cef197b5b5dad958</td><td>tile</td><td>{&quot;8766&quot;:[[2,0],[2,1],[2,2],[3,0],[3,1],[3,2],[4,0],[4,1],[4,2],[5,0],[5,1],[5,2],[6,0],[6,1],[6,2],[7,0],[7,1],[7,2],[8,0],[8,1],[8,2]],&quot;8524&quot;:[[2,2],[2,3],[2,4],[2,5],[2,6],[2,7],[2,8],[3,2],[3,3],[3,4],[3,5],[3,6],[3,7],[3,8],[4,2],[4,3],[4,4],[4,5],[4,6],[4,7],[4,8],[5,2],[5,3],[5,4],[5,5],[5,6],[5,7],[5,8],[6,2],[6,3],[6,4],[6,5],[6,6],[6,7],[6,8],[7,2],[7,3],[7,4],[7,5],[7,6],[7,7],[7,8],[8,2],[8,3],[8,4],[8,5],[8,6],[8,7],[8,8]],&quot;8765&quot;:[[0,0],[0,1],[0,2]],&quot;8523&quot;:[[0,2],[0,3],[0,4],[0,5],[0,6],[0,7],[0,8]]}</td></tr>\n",
       "</table>"
      ],
      "text/plain": [
       "<Row index=0>\n",
       "                                             file                                                 ra      dec          ra_0_0            ra_0_y            ra_x_0             ra_x_y           dec_0_0            dec_0_y            dec_x_0           dec_x_y       filter    size                 hash               type                                                                                                                                                                                                                                                            tract_patch_json                                                                                                                                                                                                                                                          \n",
       "                                            str98                                              float64  float64       float64           float64           float64            float64           float64            float64            float64           float64        str2    int64                str32               str5                                                                                                                                                                                                                                                                 str631                                                                                                                                                                                                                                                               \n",
       "--------------------------------------------------------------------------------------------- --------- -------- ----------------- ----------------- ------------------ ----------------- ------------------ ------------------ ----------------- ------------------ ------ --------- -------------------------------- ---- -------------------------------------------------------------------------------------------------------------------------------------------------------------------------------------------------------------------------------------------------------------------------------------------------------------------------------------------------------------------------------------------------------------------------------------------------------------------------------------------------------------------------------------\n",
       "/home/ir-shir1/rds/rds-iris-ip005/data/private/VISTA/VIDEO/20140924/v20140924_00444_st_tl.fit 35.429542 -4.72215 36.12993723683939 36.13433423332165 34.912894878395214 34.91462725348546 -4.072782101046067 -5.559458172880838 -4.07547203760631 -5.562153562881393      Y 148561920 ccef567359a9d3f1cef197b5b5dad958 tile {\"8766\":[[2,0],[2,1],[2,2],[3,0],[3,1],[3,2],[4,0],[4,1],[4,2],[5,0],[5,1],[5,2],[6,0],[6,1],[6,2],[7,0],[7,1],[7,2],[8,0],[8,1],[8,2]],\"8524\":[[2,2],[2,3],[2,4],[2,5],[2,6],[2,7],[2,8],[3,2],[3,3],[3,4],[3,5],[3,6],[3,7],[3,8],[4,2],[4,3],[4,4],[4,5],[4,6],[4,7],[4,8],[5,2],[5,3],[5,4],[5,5],[5,6],[5,7],[5,8],[6,2],[6,3],[6,4],[6,5],[6,6],[6,7],[6,8],[7,2],[7,3],[7,4],[7,5],[7,6],[7,7],[7,8],[8,2],[8,3],[8,4],[8,5],[8,6],[8,7],[8,8]],\"8765\":[[0,0],[0,1],[0,2]],\"8523\":[[0,2],[0,3],[0,4],[0,5],[0,6],[0,7],[0,8]]}"
      ]
     },
     "execution_count": 18,
     "metadata": {},
     "output_type": "execute_result"
    }
   ],
   "source": [
    "video_ims[0]"
   ]
  },
  {
   "cell_type": "code",
   "execution_count": 19,
   "metadata": {},
   "outputs": [
    {
     "data": {
      "text/plain": [
       "'{\"3053\":[[0,0],[0,1],[0,2],[1,0],[1,1],[1,2],[2,0],[2,1],[2,2]],\"3054\":[[2,0],[2,1],[2,2],[3,0],[3,1],[3,2],[4,0],[4,1],[4,2],[5,0],[5,1],[5,2],[6,0],[6,1],[6,2],[7,0],[7,1],[7,2],[8,0],[8,1],[8,2]],\"2876\":[[0,3],[0,4],[0,5],[0,6],[0,7],[0,8],[1,3],[1,4],[1,5],[1,6],[1,7],[1,8],[2,3],[2,4],[2,5],[2,6],[2,7],[2,8],[3,3],[3,4],[3,5],[3,6],[3,7],[3,8]],\"2877\":[[3,3],[3,4],[3,5],[3,6],[3,7],[3,8],[4,3],[4,4],[4,5],[4,6],[4,7],[4,8],[5,3],[5,4],[5,5],[5,6],[5,7],[5,8],[6,3],[6,4],[6,5],[6,6],[6,7],[6,8],[7,3],[7,4],[7,5],[7,6],[7,7],[7,8],[8,3],[8,4],[8,5],[8,6],[8,7],[8,8]]}'"
      ]
     },
     "execution_count": 19,
     "metadata": {},
     "output_type": "execute_result"
    }
   ],
   "source": [
    "video_ims[6]['tract_patch_json']"
   ]
  },
  {
   "cell_type": "code",
   "execution_count": 20,
   "metadata": {},
   "outputs": [],
   "source": [
    "#video_ims.write(VIDEO_IN.replace('images','tiles_tracts_patches'),overwrite=True)\n",
    "vhs_ims.write(VHS_IN.replace('images','tiles_tracts_patches'),overwrite=True)"
   ]
  },
  {
   "cell_type": "code",
   "execution_count": 21,
   "metadata": {},
   "outputs": [],
   "source": [
    "viking_ims.write(VIKING_IN.replace('images','tiles_tracts_patches'),overwrite=True)"
   ]
  },
  {
   "cell_type": "code",
   "execution_count": 22,
   "metadata": {},
   "outputs": [],
   "source": [
    "video_ims = Table.read(VIDEO_IN.replace('images','tiles_tracts_patches'))"
   ]
  },
  {
   "cell_type": "code",
   "execution_count": 23,
   "metadata": {},
   "outputs": [],
   "source": [
    "video_ims.add_column(Column(\n",
    "    data= [t.split('/')[-2] for t in video_ims['file']],\n",
    "    name='date'))"
   ]
  },
  {
   "cell_type": "code",
   "execution_count": 24,
   "metadata": {},
   "outputs": [],
   "source": [
    "tract = 8524\n",
    "patch = [3,5]\n",
    "\n",
    "#has_tract_patch = (\n",
    "#    [str(tract) in j for j in video_ims['tract_patch_json']]\n",
    "#    and [patch in j for j in video_ims['tract_patch_json']]\n",
    "#)"
   ]
  },
  {
   "cell_type": "code",
   "execution_count": 25,
   "metadata": {},
   "outputs": [],
   "source": [
    "def has_patch(tract, patch, j):\n",
    "    \"\"\"Take a json string and return true if a given patch is in it\n",
    "    \"\"\"\n",
    "    j = json.loads(j)\n",
    "   \n",
    "    try:\n",
    "        has_patch = patch in j[str(tract)]\n",
    "    except KeyError:\n",
    "        has_patch = False\n",
    "    return has_patch"
   ]
  },
  {
   "cell_type": "code",
   "execution_count": 26,
   "metadata": {},
   "outputs": [],
   "source": [
    "import json\n",
    "j = json.loads(video_ims[6]['tract_patch_json'])"
   ]
  },
  {
   "cell_type": "code",
   "execution_count": 27,
   "metadata": {},
   "outputs": [
    {
     "data": {
      "text/plain": [
       "218"
      ]
     },
     "execution_count": 27,
     "metadata": {},
     "output_type": "execute_result"
    }
   ],
   "source": [
    "mask = [has_patch(tract, patch, j) for j in video_ims['tract_patch_json']]\n",
    "mask &= video_ims['filter'] =='Y'\n",
    "np.sum(mask)"
   ]
  },
  {
   "cell_type": "code",
   "execution_count": 28,
   "metadata": {},
   "outputs": [
    {
     "data": {
      "text/plain": [
       "119"
      ]
     },
     "execution_count": 28,
     "metadata": {},
     "output_type": "execute_result"
    }
   ],
   "source": [
    "len(np.unique(video_ims[mask]['date']))"
   ]
  },
  {
   "cell_type": "code",
   "execution_count": 29,
   "metadata": {},
   "outputs": [
    {
     "data": {
      "text/plain": [
       "'makeCoaddTempExp.py data --rerun coadd --selectId filter=VISTA-Y dateObs=2009-11-07  --selectId filter=VISTA-Y dateObs=2009-11-08  --selectId filter=VISTA-Y dateObs=2009-11-10  --selectId filter=VISTA-Y dateObs=2009-11-11  --selectId filter=VISTA-Y dateObs=2009-11-12 --id filter=VISTA-Y tract=8524 patch=3,5 --clobber-config'"
      ]
     },
     "execution_count": 29,
     "metadata": {},
     "output_type": "execute_result"
    }
   ],
   "source": [
    "s = \"makeCoaddTempExp.py data --rerun coadd\"\n",
    "for date in np.unique(video_ims[mask]['date'])[:5]:\n",
    "    d = date[0:4]+'-'+date[4:6]+'-'+date[6:9]#+'^'\n",
    "    s+=\" --selectId filter=VISTA-Y dateObs={} \".format(d)\n",
    "s + \"--id filter=VISTA-Y tract=8524 patch=3,5 --clobber-config\""
   ]
  },
  {
   "cell_type": "code",
   "execution_count": 30,
   "metadata": {},
   "outputs": [
    {
     "data": {
      "text/plain": [
       "True"
      ]
     },
     "execution_count": 30,
     "metadata": {},
     "output_type": "execute_result"
    }
   ],
   "source": [
    "has_patch(8766, [2,0], video_ims['tract_patch_json'][0])"
   ]
  },
  {
   "cell_type": "code",
   "execution_count": 31,
   "metadata": {},
   "outputs": [
    {
     "data": {
      "text/plain": [
       "['file',\n",
       " 'ra',\n",
       " 'dec',\n",
       " 'ra_0_0',\n",
       " 'ra_0_y',\n",
       " 'ra_x_0',\n",
       " 'ra_x_y',\n",
       " 'dec_0_0',\n",
       " 'dec_0_y',\n",
       " 'dec_x_0',\n",
       " 'dec_x_y',\n",
       " 'filter',\n",
       " 'size',\n",
       " 'hash',\n",
       " 'type',\n",
       " 'tract_patch_json',\n",
       " 'date']"
      ]
     },
     "execution_count": 31,
     "metadata": {},
     "output_type": "execute_result"
    }
   ],
   "source": [
    "video_ims.colnames"
   ]
  },
  {
   "cell_type": "code",
   "execution_count": 32,
   "metadata": {},
   "outputs": [
    {
     "data": {
      "text/plain": [
       "[3, 5]"
      ]
     },
     "execution_count": 32,
     "metadata": {},
     "output_type": "execute_result"
    }
   ],
   "source": [
    "patch"
   ]
  },
  {
   "cell_type": "code",
   "execution_count": 33,
   "metadata": {},
   "outputs": [],
   "source": [
    "has_8524_33 = np.array([has_patch(8524, [3,3], j) for j in video_ims['tract_patch_json']])\n",
    "has_8524_55 = np.array([has_patch(8524, [5,5], j) for j in video_ims['tract_patch_json']])"
   ]
  },
  {
   "cell_type": "code",
   "execution_count": 34,
   "metadata": {},
   "outputs": [
    {
     "data": {
      "text/plain": [
       "234"
      ]
     },
     "execution_count": 34,
     "metadata": {},
     "output_type": "execute_result"
    }
   ],
   "source": [
    "np.sum(has_8524_33 & has_8524_55)"
   ]
  },
  {
   "cell_type": "code",
   "execution_count": 35,
   "metadata": {},
   "outputs": [
    {
     "data": {
      "text/html": [
       "&lt;Column name=&apos;filter&apos; dtype=&apos;str2&apos; length=4&gt;\n",
       "<table>\n",
       "<tr><td>H</td></tr>\n",
       "<tr><td>J</td></tr>\n",
       "<tr><td>Ks</td></tr>\n",
       "<tr><td>Y</td></tr>\n",
       "</table>"
      ],
      "text/plain": [
       "<Column name='filter' dtype='str2' length=4>\n",
       " H\n",
       " J\n",
       "Ks\n",
       " Y"
      ]
     },
     "execution_count": 35,
     "metadata": {},
     "output_type": "execute_result"
    }
   ],
   "source": [
    "np.unique(video_ims[has_8524_55  ]['filter'])"
   ]
  },
  {
   "cell_type": "markdown",
   "metadata": {},
   "source": [
    "## 2. Make total tract_patch_json dicts"
   ]
  },
  {
   "cell_type": "code",
   "execution_count": 36,
   "metadata": {},
   "outputs": [],
   "source": [
    "video_total_patch_dict = {}\n",
    "vhs_total_patch_dict = {}\n",
    "viking_total_patch_dict = {}\n",
    "\n",
    "for tile in video_ims[video_ims['type']=='tile']:\n",
    "    tile_dict = json.loads(tile['tract_patch_json'])\n",
    "    for tract in tile_dict:\n",
    "        patches = set([str(p) for p in tile_dict[tract]])\n",
    "        try:\n",
    "            video_total_patch_dict[tract] = set(video_total_patch_dict[tract]).union(patches)\n",
    "            \n",
    "        except KeyError:\n",
    "            video_total_patch_dict[tract] = patches\n",
    "            \n",
    "for tile in vhs_ims[vhs_ims['type']=='tile']:\n",
    "    tile_dict = json.loads(tile['tract_patch_json'])\n",
    "    for tract in tile_dict:\n",
    "        patches = set([str(p) for p in tile_dict[tract]])\n",
    "        try:\n",
    "            vhs_total_patch_dict[tract] = set(vhs_total_patch_dict[tract]).union(patches)\n",
    "            \n",
    "        except KeyError:\n",
    "            vhs_total_patch_dict[tract] = patches\n",
    "            \n",
    "for tile in viking_ims[viking_ims['type']=='tile']:\n",
    "    tile_dict = json.loads(tile['tract_patch_json'])\n",
    "    for tract in tile_dict:\n",
    "        patches = set([str(p) for p in tile_dict[tract]])\n",
    "        try:\n",
    "            viking_total_patch_dict[tract] = set(viking_total_patch_dict[tract]).union(patches)\n",
    "            \n",
    "        except KeyError:\n",
    "            viking_total_patch_dict[tract] = patches\n",
    "            \n",
    "for tract in video_total_patch_dict:\n",
    "    video_total_patch_dict[tract] = [[int(p[1]),int(p[4])] for p in video_total_patch_dict[tract]]\n",
    "    \n",
    "for tract in vhs_total_patch_dict:\n",
    "    vhs_total_patch_dict[tract] = [[int(p[1]),int(p[4])] for p in vhs_total_patch_dict[tract]]\n",
    "    \n",
    "for tract in viking_total_patch_dict:\n",
    "    viking_total_patch_dict[tract] = [[int(p[1]),int(p[4])] for p in viking_total_patch_dict[tract]]"
   ]
  },
  {
   "cell_type": "code",
   "execution_count": 38,
   "metadata": {},
   "outputs": [
    {
     "name": "stdout",
     "output_type": "stream",
     "text": [
      "There are 670137 patches in VHS.\n",
      "There are 600 patches in VIDEO.\n",
      "There are 49209 patches in VIKING.\n"
     ]
    }
   ],
   "source": [
    "n = 0\n",
    "for tract in vhs_total_patch_dict:\n",
    "    n += len(vhs_total_patch_dict[tract])\n",
    "print(\"There are {} patches in VHS.\".format(n))\n",
    "\n",
    "n = 0\n",
    "for tract in video_total_patch_dict:\n",
    "    n += len(video_total_patch_dict[tract])\n",
    "print(\"There are {} patches in VIDEO.\".format(n))\n",
    "\n",
    "n = 0\n",
    "for tract in viking_total_patch_dict:\n",
    "    n += len(viking_total_patch_dict[tract])\n",
    "print(\"There are {} patches in VIKING.\".format(n))"
   ]
  },
  {
   "cell_type": "code",
   "execution_count": 39,
   "metadata": {},
   "outputs": [],
   "source": [
    "with open('./json/video_total_patch_dict.json', 'w') as outfile:\n",
    "    json.dump(video_total_patch_dict, outfile, separators=(',', ':'))\n",
    "with open('./json/vhs_total_patch_dict.json', 'w') as outfile:\n",
    "    json.dump(vhs_total_patch_dict, outfile, separators=(',', ':'))\n",
    "with open('./json/viking_total_patch_dict.json', 'w') as outfile:\n",
    "    json.dump(viking_total_patch_dict, outfile, separators=(',', ':'))"
   ]
  },
  {
   "cell_type": "markdown",
   "metadata": {},
   "source": [
    "### HSC"
   ]
  },
  {
   "cell_type": "code",
   "execution_count": 40,
   "metadata": {},
   "outputs": [],
   "source": [
    "hsc_ims['tract'] = [f.split('/')[16] for f in hsc_ims['file']]\n",
    "hsc_ims['patch'] = [f.split('/')[17] for f in hsc_ims['file']]\n",
    "hsc_ims['depth'] = [f.split('/')[13] for f in hsc_ims['file']]"
   ]
  },
  {
   "cell_type": "code",
   "execution_count": 41,
   "metadata": {},
   "outputs": [
    {
     "data": {
      "text/html": [
       "<i>Row index=0</i>\n",
       "<table id=\"table140367232210384\">\n",
       "<thead><tr><th>file</th><th>ra_0_0</th><th>ra_0_y</th><th>ra_x_0</th><th>ra_x_y</th><th>dec_0_0</th><th>dec_0_y</th><th>dec_x_0</th><th>dec_x_y</th><th>size</th><th>hash</th><th>tract</th><th>patch</th><th>depth</th></tr></thead>\n",
       "<thead><tr><th>str270</th><th>float64</th><th>float64</th><th>float64</th><th>float64</th><th>float64</th><th>float64</th><th>float64</th><th>float64</th><th>int64</th><th>str32</th><th>str5</th><th>str3</th><th>str9</th></tr></thead>\n",
       "<tr><td>/home/ir-shir1/rds/rds-iris-ip005/ras81/lsst-ir-fusion/dmu0/dmu0_HSC/data/hsc-release.mtk.nao.ac.jp/archive/filetree/pdr2_dud/deepCoadd-results/HSC-Z/9221/1,8/calexp-HSC-Z-9221-1,8.fits</td><td>353.2201634808244</td><td>353.2200778949918</td><td>353.0241201674153</td><td>353.0240600712148</td><td>-1.5826616267455118</td><td>-1.3913733852871641</td><td>-1.5827145450883715</td><td>-1.3914199009363517</td><td>21202560</td><td>3def3355f75860244ddbd62008c906c7</td><td>9221</td><td>1,8</td><td>pdr2_dud</td></tr>\n",
       "</table>"
      ],
      "text/plain": [
       "<Row index=0>\n",
       "                                                                                           file                                                                                                 ra_0_0            ra_0_y            ra_x_0            ra_x_y            dec_0_0             dec_0_y             dec_x_0             dec_x_y         size                 hash               tract patch  depth  \n",
       "                                                                                          str270                                                                                               float64           float64           float64           float64            float64             float64             float64             float64        int64                str32                str5  str3   str9  \n",
       "----------------------------------------------------------------------------------------------------------------------------------------------------------------------------------------- ----------------- ----------------- ----------------- ----------------- ------------------- ------------------- ------------------- ------------------- -------- -------------------------------- ----- ----- --------\n",
       "/home/ir-shir1/rds/rds-iris-ip005/ras81/lsst-ir-fusion/dmu0/dmu0_HSC/data/hsc-release.mtk.nao.ac.jp/archive/filetree/pdr2_dud/deepCoadd-results/HSC-Z/9221/1,8/calexp-HSC-Z-9221-1,8.fits 353.2201634808244 353.2200778949918 353.0241201674153 353.0240600712148 -1.5826616267455118 -1.3913733852871641 -1.5827145450883715 -1.3914199009363517 21202560 3def3355f75860244ddbd62008c906c7  9221   1,8 pdr2_dud"
      ]
     },
     "execution_count": 41,
     "metadata": {},
     "output_type": "execute_result"
    }
   ],
   "source": [
    "hsc_ims[0]"
   ]
  },
  {
   "cell_type": "code",
   "execution_count": 42,
   "metadata": {},
   "outputs": [],
   "source": [
    "hsc_total_patch_dict = {}\n",
    "\n",
    "for file in hsc_ims:\n",
    "    tract = file['tract']\n",
    "    patch = set([\"[{}]\".format(file['patch'])])\n",
    "    try:\n",
    "        hsc_total_patch_dict[tract] = set(hsc_total_patch_dict[tract]).union(patch)\n",
    "            \n",
    "    except KeyError:\n",
    "        hsc_total_patch_dict[tract] = patch\n",
    "        \n",
    "for tract in hsc_total_patch_dict:\n",
    "    hsc_total_patch_dict[tract] = [[int(p[1]),int(p[3])] for p in hsc_total_patch_dict[tract]]"
   ]
  },
  {
   "cell_type": "code",
   "execution_count": 43,
   "metadata": {},
   "outputs": [],
   "source": [
    "#json.dumps(hsc_total_patch_dict, separators=(',', ':'))"
   ]
  },
  {
   "cell_type": "code",
   "execution_count": 44,
   "metadata": {},
   "outputs": [],
   "source": [
    "with open('./json/hsc_total_patch_dict.json', 'w') as outfile:\n",
    "    json.dump(hsc_total_patch_dict, outfile, separators=(',', ':'))"
   ]
  }
 ],
 "metadata": {
  "kernelspec": {
   "display_name": "Python 3 (ipykernel)",
   "language": "python",
   "name": "python3"
  },
  "language_info": {
   "codemirror_mode": {
    "name": "ipython",
    "version": 3
   },
   "file_extension": ".py",
   "mimetype": "text/x-python",
   "name": "python",
   "nbconvert_exporter": "python",
   "pygments_lexer": "ipython3",
   "version": "3.10.6"
  }
 },
 "nbformat": 4,
 "nbformat_minor": 4
}
