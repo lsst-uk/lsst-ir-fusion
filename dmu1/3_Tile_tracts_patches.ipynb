{
 "cells": [
  {
   "cell_type": "markdown",
   "metadata": {},
   "source": [
    "# 3 Tile tract and patch lists\n",
    "\n",
    "In this notebook we will generate the list of patches that are present on a given VISTA tile. We will do so such that the tile is completely covered. That is we aim to provide every patch that contains any region of the tile."
   ]
  },
  {
   "cell_type": "code",
   "execution_count": 1,
   "metadata": {},
   "outputs": [],
   "source": [
    "from astropy.table import Table, Column, vstack # Perhaps we should use LSST tables\n",
    "\n",
    "import numpy as np\n",
    "\n",
    "import matplotlib as mpl\n",
    "import matplotlib.pyplot as plt"
   ]
  },
  {
   "cell_type": "code",
   "execution_count": 2,
   "metadata": {},
   "outputs": [],
   "source": [
    "VIDEO_IN = './data/video_images_overview_20200820.csv'\n",
    "VHS_IN = './data/vhs_images_overview.csv'\n",
    "video_ims = Table.read(VIDEO_IN)\n",
    "vhs_ims = Table.read(VHS_IN)\n",
    "\n",
    "\n"
   ]
  },
  {
   "cell_type": "code",
   "execution_count": 3,
   "metadata": {},
   "outputs": [
    {
     "data": {
      "text/plain": [
       "(568965, 137269)"
      ]
     },
     "execution_count": 3,
     "metadata": {},
     "output_type": "execute_result"
    }
   ],
   "source": [
    "len(vhs_ims),len(video_ims)"
   ]
  },
  {
   "cell_type": "code",
   "execution_count": 4,
   "metadata": {},
   "outputs": [],
   "source": [
    "def fileToType(filename):\n",
    "    filetype = ''\n",
    "    types = {\n",
    "        'tile':'_tl.fit',\n",
    "        'stack':'_st.fit',\n",
    "    }\n",
    "    for k,v in types.items():\n",
    "        #print(k,v)\n",
    "        if filename.endswith(v):\n",
    "            filetype = k\n",
    "       \n",
    "    return filetype\n",
    "video_ims['type'] = [fileToType(f) for f in video_ims['file']]\n",
    "vhs_ims['type'] = [fileToType(f) for f in vhs_ims['file']]"
   ]
  },
  {
   "cell_type": "code",
   "execution_count": 5,
   "metadata": {},
   "outputs": [],
   "source": [
    "video_ims = video_ims[video_ims['type']=='tile']\n",
    "vhs_ims = vhs_ims[vhs_ims['type']=='tile']"
   ]
  },
  {
   "cell_type": "code",
   "execution_count": 6,
   "metadata": {},
   "outputs": [
    {
     "data": {
      "text/plain": [
       "(21747, 2205)"
      ]
     },
     "execution_count": 6,
     "metadata": {},
     "output_type": "execute_result"
    }
   ],
   "source": [
    "len(vhs_ims),len(video_ims)"
   ]
  },
  {
   "cell_type": "code",
   "execution_count": 7,
   "metadata": {},
   "outputs": [
    {
     "data": {
      "text/plain": [
       "TractInfo(id=8524, ctrCoord=[0.8087076683756161, 0.5811684769959703, -0.09074749834931431])"
      ]
     },
     "execution_count": 7,
     "metadata": {},
     "output_type": "execute_result"
    }
   ],
   "source": [
    "#We are using a rings skymap\n",
    "from lsst.geom import SpherePoint \n",
    "from lsst.geom import degrees\n",
    "from lsst.skymap.ringsSkyMap import RingsSkyMap, RingsSkyMapConfig\n",
    "\n",
    "#Following taken from dmu1/2_Survey_comparisons.ipynb test choice\n",
    "coord = SpherePoint(35.429025*degrees,-4.90853*degrees)\n",
    "config = RingsSkyMapConfig()\n",
    "#These config options are chose to be the same as HSC:\n",
    "#https://github.com/lsst/obs_subaru/blob/master/config/hsc/makeSkyMap.py\n",
    "#and copied for obs_vista\n",
    "#https://github.com/lsst-uk/obs_vista/blob/master/config/makeSkyMap.py\n",
    "config.numRings = 120\n",
    "config.projection = \"TAN\"\n",
    "config.tractOverlap = 1.0/60 # Overlap between tracts (degrees)\n",
    "config.pixelScale = 0.168\n",
    "sm = RingsSkyMap(config)\n",
    "sm.findTract(coord)"
   ]
  },
  {
   "cell_type": "code",
   "execution_count": 8,
   "metadata": {},
   "outputs": [],
   "source": [
    "## Test on know tile"
   ]
  },
  {
   "cell_type": "code",
   "execution_count": 9,
   "metadata": {},
   "outputs": [
    {
     "data": {
      "text/html": [
       "<i>Row index=0</i>\n",
       "<table id=\"table4335947920\">\n",
       "<thead><tr><th>file</th><th>ra</th><th>dec</th><th>ra_0_0</th><th>ra_0_y</th><th>ra_x_0</th><th>ra_x_y</th><th>dec_0_0</th><th>dec_0_y</th><th>dec_x_0</th><th>dec_x_y</th><th>filter</th><th>size</th><th>hash</th><th>type</th></tr></thead>\n",
       "<thead><tr><th>str98</th><th>float64</th><th>float64</th><th>float64</th><th>float64</th><th>float64</th><th>float64</th><th>float64</th><th>float64</th><th>float64</th><th>float64</th><th>str2</th><th>int64</th><th>str32</th><th>str5</th></tr></thead>\n",
       "<tr><td>/home/ir-shir1/rds/rds-iris-ip005/data/private/VISTA/VIDEO/20121122/v20121122_00088_st_tl.fit</td><td>35.43265</td><td>-4.72313</td><td>36.1259211592099</td><td>36.13048720302681</td><td>34.91284867786413</td><td>34.914758535953574</td><td>-4.074792762244068</td><td>-5.561089113115699</td><td>-4.077214438128979</td><td>-5.563516534082509</td><td>Ks</td><td>216357120</td><td>95f818d1b99dcee749b276666480cdc6</td><td>tile</td></tr>\n",
       "</table>"
      ],
      "text/plain": [
       "<Row index=0>\n",
       "                                             file                                                ra      dec         ra_0_0            ra_0_y            ra_x_0            ra_x_y            dec_0_0            dec_0_y            dec_x_0            dec_x_y       filter    size                 hash               type\n",
       "                                            str98                                             float64  float64      float64           float64           float64           float64            float64            float64            float64            float64        str2    int64                str32               str5\n",
       "--------------------------------------------------------------------------------------------- -------- -------- ---------------- ----------------- ----------------- ------------------ ------------------ ------------------ ------------------ ------------------ ------ --------- -------------------------------- ----\n",
       "/home/ir-shir1/rds/rds-iris-ip005/data/private/VISTA/VIDEO/20121122/v20121122_00088_st_tl.fit 35.43265 -4.72313 36.1259211592099 36.13048720302681 34.91284867786413 34.914758535953574 -4.074792762244068 -5.561089113115699 -4.077214438128979 -5.563516534082509     Ks 216357120 95f818d1b99dcee749b276666480cdc6 tile"
      ]
     },
     "execution_count": 9,
     "metadata": {},
     "output_type": "execute_result"
    }
   ],
   "source": [
    "#Tile from dmu4/dmu4_Example\n",
    "EX_TILE = \"20121122/v20121122_00088_st_tl.fit\"\n",
    "ex_row = video_ims[\n",
    "    video_ims['file'] == \"/home/ir-shir1/rds/rds-iris-ip005/data/private/VISTA/VIDEO/\"+EX_TILE\n",
    "][0]\n",
    "ex_row"
   ]
  },
  {
   "cell_type": "code",
   "execution_count": 10,
   "metadata": {},
   "outputs": [
    {
     "data": {
      "text/plain": [
       "36.1259211592099"
      ]
     },
     "execution_count": 10,
     "metadata": {},
     "output_type": "execute_result"
    }
   ],
   "source": [
    "ex_row['ra_0_0']"
   ]
  },
  {
   "cell_type": "code",
   "execution_count": 11,
   "metadata": {},
   "outputs": [],
   "source": [
    "patches = sm.findTractPatchList(\n",
    "        [\n",
    "            SpherePoint(ex_row['ra_0_0']*degrees,ex_row['dec_0_0']*degrees),\n",
    "            SpherePoint(ex_row['ra_0_y']*degrees,ex_row['dec_0_y']*degrees),\n",
    "            SpherePoint(ex_row['ra_x_0']*degrees,ex_row['dec_x_0']*degrees),\n",
    "            SpherePoint(ex_row['ra_x_y']*degrees,ex_row['dec_x_y']*degrees)\n",
    "        ]\n",
    "    )\n",
    "t = patches[0][0]"
   ]
  },
  {
   "cell_type": "code",
   "execution_count": 12,
   "metadata": {},
   "outputs": [
    {
     "data": {
      "text/plain": [
       "[(TractInfo(id=8766, ctrCoord=[0.8103482053641914, 0.5823474300594684, -0.06486336998774297]),\n",
       "  (PatchInfo(index=(2, 0), innerBBox=(minimum=(8000, 0), maximum=(11999, 3999)), outerBBox=(minimum=(7900, 0), maximum=(12099, 4099))),\n",
       "   PatchInfo(index=(2, 1), innerBBox=(minimum=(8000, 4000), maximum=(11999, 7999)), outerBBox=(minimum=(7900, 3900), maximum=(12099, 8099))),\n",
       "   PatchInfo(index=(2, 2), innerBBox=(minimum=(8000, 8000), maximum=(11999, 11999)), outerBBox=(minimum=(7900, 7900), maximum=(12099, 12099))),\n",
       "   PatchInfo(index=(3, 0), innerBBox=(minimum=(12000, 0), maximum=(15999, 3999)), outerBBox=(minimum=(11900, 0), maximum=(16099, 4099))),\n",
       "   PatchInfo(index=(3, 1), innerBBox=(minimum=(12000, 4000), maximum=(15999, 7999)), outerBBox=(minimum=(11900, 3900), maximum=(16099, 8099))),\n",
       "   PatchInfo(index=(3, 2), innerBBox=(minimum=(12000, 8000), maximum=(15999, 11999)), outerBBox=(minimum=(11900, 7900), maximum=(16099, 12099))),\n",
       "   PatchInfo(index=(4, 0), innerBBox=(minimum=(16000, 0), maximum=(19999, 3999)), outerBBox=(minimum=(15900, 0), maximum=(20099, 4099))),\n",
       "   PatchInfo(index=(4, 1), innerBBox=(minimum=(16000, 4000), maximum=(19999, 7999)), outerBBox=(minimum=(15900, 3900), maximum=(20099, 8099))),\n",
       "   PatchInfo(index=(4, 2), innerBBox=(minimum=(16000, 8000), maximum=(19999, 11999)), outerBBox=(minimum=(15900, 7900), maximum=(20099, 12099))),\n",
       "   PatchInfo(index=(5, 0), innerBBox=(minimum=(20000, 0), maximum=(23999, 3999)), outerBBox=(minimum=(19900, 0), maximum=(24099, 4099))),\n",
       "   PatchInfo(index=(5, 1), innerBBox=(minimum=(20000, 4000), maximum=(23999, 7999)), outerBBox=(minimum=(19900, 3900), maximum=(24099, 8099))),\n",
       "   PatchInfo(index=(5, 2), innerBBox=(minimum=(20000, 8000), maximum=(23999, 11999)), outerBBox=(minimum=(19900, 7900), maximum=(24099, 12099))),\n",
       "   PatchInfo(index=(6, 0), innerBBox=(minimum=(24000, 0), maximum=(27999, 3999)), outerBBox=(minimum=(23900, 0), maximum=(28099, 4099))),\n",
       "   PatchInfo(index=(6, 1), innerBBox=(minimum=(24000, 4000), maximum=(27999, 7999)), outerBBox=(minimum=(23900, 3900), maximum=(28099, 8099))),\n",
       "   PatchInfo(index=(6, 2), innerBBox=(minimum=(24000, 8000), maximum=(27999, 11999)), outerBBox=(minimum=(23900, 7900), maximum=(28099, 12099))),\n",
       "   PatchInfo(index=(7, 0), innerBBox=(minimum=(28000, 0), maximum=(31999, 3999)), outerBBox=(minimum=(27900, 0), maximum=(32099, 4099))),\n",
       "   PatchInfo(index=(7, 1), innerBBox=(minimum=(28000, 4000), maximum=(31999, 7999)), outerBBox=(minimum=(27900, 3900), maximum=(32099, 8099))),\n",
       "   PatchInfo(index=(7, 2), innerBBox=(minimum=(28000, 8000), maximum=(31999, 11999)), outerBBox=(minimum=(27900, 7900), maximum=(32099, 12099))),\n",
       "   PatchInfo(index=(8, 0), innerBBox=(minimum=(32000, 0), maximum=(35999, 3999)), outerBBox=(minimum=(31900, 0), maximum=(35999, 4099))),\n",
       "   PatchInfo(index=(8, 1), innerBBox=(minimum=(32000, 4000), maximum=(35999, 7999)), outerBBox=(minimum=(31900, 3900), maximum=(35999, 8099))),\n",
       "   PatchInfo(index=(8, 2), innerBBox=(minimum=(32000, 8000), maximum=(35999, 11999)), outerBBox=(minimum=(31900, 7900), maximum=(35999, 12099))))),\n",
       " (TractInfo(id=8524, ctrCoord=[0.8087076683756161, 0.5811684769959703, -0.09074749834931431]),\n",
       "  (PatchInfo(index=(2, 2), innerBBox=(minimum=(8000, 8000), maximum=(11999, 11999)), outerBBox=(minimum=(7900, 7900), maximum=(12099, 12099))),\n",
       "   PatchInfo(index=(2, 3), innerBBox=(minimum=(8000, 12000), maximum=(11999, 15999)), outerBBox=(minimum=(7900, 11900), maximum=(12099, 16099))),\n",
       "   PatchInfo(index=(2, 4), innerBBox=(minimum=(8000, 16000), maximum=(11999, 19999)), outerBBox=(minimum=(7900, 15900), maximum=(12099, 20099))),\n",
       "   PatchInfo(index=(2, 5), innerBBox=(minimum=(8000, 20000), maximum=(11999, 23999)), outerBBox=(minimum=(7900, 19900), maximum=(12099, 24099))),\n",
       "   PatchInfo(index=(2, 6), innerBBox=(minimum=(8000, 24000), maximum=(11999, 27999)), outerBBox=(minimum=(7900, 23900), maximum=(12099, 28099))),\n",
       "   PatchInfo(index=(2, 7), innerBBox=(minimum=(8000, 28000), maximum=(11999, 31999)), outerBBox=(minimum=(7900, 27900), maximum=(12099, 32099))),\n",
       "   PatchInfo(index=(2, 8), innerBBox=(minimum=(8000, 32000), maximum=(11999, 35999)), outerBBox=(minimum=(7900, 31900), maximum=(12099, 35999))),\n",
       "   PatchInfo(index=(3, 2), innerBBox=(minimum=(12000, 8000), maximum=(15999, 11999)), outerBBox=(minimum=(11900, 7900), maximum=(16099, 12099))),\n",
       "   PatchInfo(index=(3, 3), innerBBox=(minimum=(12000, 12000), maximum=(15999, 15999)), outerBBox=(minimum=(11900, 11900), maximum=(16099, 16099))),\n",
       "   PatchInfo(index=(3, 4), innerBBox=(minimum=(12000, 16000), maximum=(15999, 19999)), outerBBox=(minimum=(11900, 15900), maximum=(16099, 20099))),\n",
       "   PatchInfo(index=(3, 5), innerBBox=(minimum=(12000, 20000), maximum=(15999, 23999)), outerBBox=(minimum=(11900, 19900), maximum=(16099, 24099))),\n",
       "   PatchInfo(index=(3, 6), innerBBox=(minimum=(12000, 24000), maximum=(15999, 27999)), outerBBox=(minimum=(11900, 23900), maximum=(16099, 28099))),\n",
       "   PatchInfo(index=(3, 7), innerBBox=(minimum=(12000, 28000), maximum=(15999, 31999)), outerBBox=(minimum=(11900, 27900), maximum=(16099, 32099))),\n",
       "   PatchInfo(index=(3, 8), innerBBox=(minimum=(12000, 32000), maximum=(15999, 35999)), outerBBox=(minimum=(11900, 31900), maximum=(16099, 35999))),\n",
       "   PatchInfo(index=(4, 2), innerBBox=(minimum=(16000, 8000), maximum=(19999, 11999)), outerBBox=(minimum=(15900, 7900), maximum=(20099, 12099))),\n",
       "   PatchInfo(index=(4, 3), innerBBox=(minimum=(16000, 12000), maximum=(19999, 15999)), outerBBox=(minimum=(15900, 11900), maximum=(20099, 16099))),\n",
       "   PatchInfo(index=(4, 4), innerBBox=(minimum=(16000, 16000), maximum=(19999, 19999)), outerBBox=(minimum=(15900, 15900), maximum=(20099, 20099))),\n",
       "   PatchInfo(index=(4, 5), innerBBox=(minimum=(16000, 20000), maximum=(19999, 23999)), outerBBox=(minimum=(15900, 19900), maximum=(20099, 24099))),\n",
       "   PatchInfo(index=(4, 6), innerBBox=(minimum=(16000, 24000), maximum=(19999, 27999)), outerBBox=(minimum=(15900, 23900), maximum=(20099, 28099))),\n",
       "   PatchInfo(index=(4, 7), innerBBox=(minimum=(16000, 28000), maximum=(19999, 31999)), outerBBox=(minimum=(15900, 27900), maximum=(20099, 32099))),\n",
       "   PatchInfo(index=(4, 8), innerBBox=(minimum=(16000, 32000), maximum=(19999, 35999)), outerBBox=(minimum=(15900, 31900), maximum=(20099, 35999))),\n",
       "   PatchInfo(index=(5, 2), innerBBox=(minimum=(20000, 8000), maximum=(23999, 11999)), outerBBox=(minimum=(19900, 7900), maximum=(24099, 12099))),\n",
       "   PatchInfo(index=(5, 3), innerBBox=(minimum=(20000, 12000), maximum=(23999, 15999)), outerBBox=(minimum=(19900, 11900), maximum=(24099, 16099))),\n",
       "   PatchInfo(index=(5, 4), innerBBox=(minimum=(20000, 16000), maximum=(23999, 19999)), outerBBox=(minimum=(19900, 15900), maximum=(24099, 20099))),\n",
       "   PatchInfo(index=(5, 5), innerBBox=(minimum=(20000, 20000), maximum=(23999, 23999)), outerBBox=(minimum=(19900, 19900), maximum=(24099, 24099))),\n",
       "   PatchInfo(index=(5, 6), innerBBox=(minimum=(20000, 24000), maximum=(23999, 27999)), outerBBox=(minimum=(19900, 23900), maximum=(24099, 28099))),\n",
       "   PatchInfo(index=(5, 7), innerBBox=(minimum=(20000, 28000), maximum=(23999, 31999)), outerBBox=(minimum=(19900, 27900), maximum=(24099, 32099))),\n",
       "   PatchInfo(index=(5, 8), innerBBox=(minimum=(20000, 32000), maximum=(23999, 35999)), outerBBox=(minimum=(19900, 31900), maximum=(24099, 35999))),\n",
       "   PatchInfo(index=(6, 2), innerBBox=(minimum=(24000, 8000), maximum=(27999, 11999)), outerBBox=(minimum=(23900, 7900), maximum=(28099, 12099))),\n",
       "   PatchInfo(index=(6, 3), innerBBox=(minimum=(24000, 12000), maximum=(27999, 15999)), outerBBox=(minimum=(23900, 11900), maximum=(28099, 16099))),\n",
       "   PatchInfo(index=(6, 4), innerBBox=(minimum=(24000, 16000), maximum=(27999, 19999)), outerBBox=(minimum=(23900, 15900), maximum=(28099, 20099))),\n",
       "   PatchInfo(index=(6, 5), innerBBox=(minimum=(24000, 20000), maximum=(27999, 23999)), outerBBox=(minimum=(23900, 19900), maximum=(28099, 24099))),\n",
       "   PatchInfo(index=(6, 6), innerBBox=(minimum=(24000, 24000), maximum=(27999, 27999)), outerBBox=(minimum=(23900, 23900), maximum=(28099, 28099))),\n",
       "   PatchInfo(index=(6, 7), innerBBox=(minimum=(24000, 28000), maximum=(27999, 31999)), outerBBox=(minimum=(23900, 27900), maximum=(28099, 32099))),\n",
       "   PatchInfo(index=(6, 8), innerBBox=(minimum=(24000, 32000), maximum=(27999, 35999)), outerBBox=(minimum=(23900, 31900), maximum=(28099, 35999))),\n",
       "   PatchInfo(index=(7, 2), innerBBox=(minimum=(28000, 8000), maximum=(31999, 11999)), outerBBox=(minimum=(27900, 7900), maximum=(32099, 12099))),\n",
       "   PatchInfo(index=(7, 3), innerBBox=(minimum=(28000, 12000), maximum=(31999, 15999)), outerBBox=(minimum=(27900, 11900), maximum=(32099, 16099))),\n",
       "   PatchInfo(index=(7, 4), innerBBox=(minimum=(28000, 16000), maximum=(31999, 19999)), outerBBox=(minimum=(27900, 15900), maximum=(32099, 20099))),\n",
       "   PatchInfo(index=(7, 5), innerBBox=(minimum=(28000, 20000), maximum=(31999, 23999)), outerBBox=(minimum=(27900, 19900), maximum=(32099, 24099))),\n",
       "   PatchInfo(index=(7, 6), innerBBox=(minimum=(28000, 24000), maximum=(31999, 27999)), outerBBox=(minimum=(27900, 23900), maximum=(32099, 28099))),\n",
       "   PatchInfo(index=(7, 7), innerBBox=(minimum=(28000, 28000), maximum=(31999, 31999)), outerBBox=(minimum=(27900, 27900), maximum=(32099, 32099))),\n",
       "   PatchInfo(index=(7, 8), innerBBox=(minimum=(28000, 32000), maximum=(31999, 35999)), outerBBox=(minimum=(27900, 31900), maximum=(32099, 35999))),\n",
       "   PatchInfo(index=(8, 2), innerBBox=(minimum=(32000, 8000), maximum=(35999, 11999)), outerBBox=(minimum=(31900, 7900), maximum=(35999, 12099))),\n",
       "   PatchInfo(index=(8, 3), innerBBox=(minimum=(32000, 12000), maximum=(35999, 15999)), outerBBox=(minimum=(31900, 11900), maximum=(35999, 16099))),\n",
       "   PatchInfo(index=(8, 4), innerBBox=(minimum=(32000, 16000), maximum=(35999, 19999)), outerBBox=(minimum=(31900, 15900), maximum=(35999, 20099))),\n",
       "   PatchInfo(index=(8, 5), innerBBox=(minimum=(32000, 20000), maximum=(35999, 23999)), outerBBox=(minimum=(31900, 19900), maximum=(35999, 24099))),\n",
       "   PatchInfo(index=(8, 6), innerBBox=(minimum=(32000, 24000), maximum=(35999, 27999)), outerBBox=(minimum=(31900, 23900), maximum=(35999, 28099))),\n",
       "   PatchInfo(index=(8, 7), innerBBox=(minimum=(32000, 28000), maximum=(35999, 31999)), outerBBox=(minimum=(31900, 27900), maximum=(35999, 32099))),\n",
       "   PatchInfo(index=(8, 8), innerBBox=(minimum=(32000, 32000), maximum=(35999, 35999)), outerBBox=(minimum=(31900, 31900), maximum=(35999, 35999))))),\n",
       " (TractInfo(id=8765, ctrCoord=[0.8251932127843971, 0.5611139855754782, -0.06486336998774297]),\n",
       "  (PatchInfo(index=(0, 0), innerBBox=(minimum=(0, 0), maximum=(3999, 3999)), outerBBox=(minimum=(0, 0), maximum=(4099, 4099))),\n",
       "   PatchInfo(index=(0, 1), innerBBox=(minimum=(0, 4000), maximum=(3999, 7999)), outerBBox=(minimum=(0, 3900), maximum=(4099, 8099))),\n",
       "   PatchInfo(index=(0, 2), innerBBox=(minimum=(0, 8000), maximum=(3999, 11999)), outerBBox=(minimum=(0, 7900), maximum=(4099, 12099))))),\n",
       " (TractInfo(id=8523, ctrCoord=[0.8235226223155928, 0.5599780192809274, -0.09074749834931431]),\n",
       "  (PatchInfo(index=(0, 2), innerBBox=(minimum=(0, 8000), maximum=(3999, 11999)), outerBBox=(minimum=(0, 7900), maximum=(4099, 12099))),\n",
       "   PatchInfo(index=(0, 3), innerBBox=(minimum=(0, 12000), maximum=(3999, 15999)), outerBBox=(minimum=(0, 11900), maximum=(4099, 16099))),\n",
       "   PatchInfo(index=(0, 4), innerBBox=(minimum=(0, 16000), maximum=(3999, 19999)), outerBBox=(minimum=(0, 15900), maximum=(4099, 20099))),\n",
       "   PatchInfo(index=(0, 5), innerBBox=(minimum=(0, 20000), maximum=(3999, 23999)), outerBBox=(minimum=(0, 19900), maximum=(4099, 24099))),\n",
       "   PatchInfo(index=(0, 6), innerBBox=(minimum=(0, 24000), maximum=(3999, 27999)), outerBBox=(minimum=(0, 23900), maximum=(4099, 28099))),\n",
       "   PatchInfo(index=(0, 7), innerBBox=(minimum=(0, 28000), maximum=(3999, 31999)), outerBBox=(minimum=(0, 27900), maximum=(4099, 32099))),\n",
       "   PatchInfo(index=(0, 8), innerBBox=(minimum=(0, 32000), maximum=(3999, 35999)), outerBBox=(minimum=(0, 31900), maximum=(4099, 35999)))))]"
      ]
     },
     "execution_count": 12,
     "metadata": {},
     "output_type": "execute_result"
    }
   ],
   "source": [
    "patches"
   ]
  },
  {
   "cell_type": "code",
   "execution_count": 13,
   "metadata": {},
   "outputs": [
    {
     "data": {
      "text/plain": [
       "'{\"8766\":[[2,0],[2,1],[2,2],[3,0],[3,1],[3,2],[4,0],[4,1],[4,2],[5,0],[5,1],[5,2],[6,0],[6,1],[6,2],[7,0],[7,1],[7,2],[8,0],[8,1],[8,2]],\"8524\":[[2,2],[2,3],[2,4],[2,5],[2,6],[2,7],[2,8],[3,2],[3,3],[3,4],[3,5],[3,6],[3,7],[3,8],[4,2],[4,3],[4,4],[4,5],[4,6],[4,7],[4,8],[5,2],[5,3],[5,4],[5,5],[5,6],[5,7],[5,8],[6,2],[6,3],[6,4],[6,5],[6,6],[6,7],[6,8],[7,2],[7,3],[7,4],[7,5],[7,6],[7,7],[7,8],[8,2],[8,3],[8,4],[8,5],[8,6],[8,7],[8,8]],\"8765\":[[0,0],[0,1],[0,2]],\"8523\":[[0,2],[0,3],[0,4],[0,5],[0,6],[0,7],[0,8]]}'"
      ]
     },
     "execution_count": 13,
     "metadata": {},
     "output_type": "execute_result"
    }
   ],
   "source": [
    "import json\n",
    "tp_dict ={}\n",
    "for tract in patches:\n",
    "    #print(tract[0].getId())\n",
    "    #tp_dict[tract[0].getId()] = [[t.getIndex()[0],t.getIndex()[1]] for t in tract[1]]\n",
    "    tp_dict[int(tract[0].getId())] = [t.getIndex() for t in tract[1]]\n",
    "\n",
    "j = json.dumps(tp_dict, separators=(',', ':')) \n",
    "j"
   ]
  },
  {
   "cell_type": "code",
   "execution_count": 14,
   "metadata": {},
   "outputs": [
    {
     "data": {
      "text/plain": [
       "'{\"8766\":[[2,0],[2,1],[2,2],[3,0],[3,1],[3,2],[4,0],[4,1],[4,2],[5,0],[5,1],[5,2],[6,0],[6,1],[6,2],[7,0],[7,1],[7,2],[8,0],[8,1],[8,2]],\"8524\":[[2,2],[2,3],[2,4],[2,5],[2,6],[2,7],[2,8],[3,2],[3,3],[3,4],[3,5],[3,6],[3,7],[3,8],[4,2],[4,3],[4,4],[4,5],[4,6],[4,7],[4,8],[5,2],[5,3],[5,4],[5,5],[5,6],[5,7],[5,8],[6,2],[6,3],[6,4],[6,5],[6,6],[6,7],[6,8],[7,2],[7,3],[7,4],[7,5],[7,6],[7,7],[7,8],[8,2],[8,3],[8,4],[8,5],[8,6],[8,7],[8,8]],\"8765\":[[0,0],[0,1],[0,2]],\"8523\":[[0,2],[0,3],[0,4],[0,5],[0,6],[0,7],[0,8]]}'"
      ]
     },
     "execution_count": 14,
     "metadata": {},
     "output_type": "execute_result"
    }
   ],
   "source": [
    "def corners_to_patch_list(ex_row):\n",
    "    \"\"\"Take a ra dec limited region and return a list of all patches contained witing it\n",
    "    \n",
    "    Inputs\n",
    "    =======\n",
    "    ex_row    astropy.table.row\n",
    "              Row of image overview table containing corner columns\n",
    "    \n",
    "    Returns\n",
    "    =======\n",
    "    j        str\n",
    "             String which can be loaded by json to create a dictionary\n",
    "             the tracts indices are strings as required by json\n",
    "    \"\"\"\n",
    "    try:\n",
    "        patches = sm.findTractPatchList(\n",
    "            [\n",
    "                SpherePoint(ex_row['ra_0_0']*degrees,ex_row['dec_0_0']*degrees),\n",
    "                SpherePoint(ex_row['ra_0_y']*degrees,ex_row['dec_0_y']*degrees),\n",
    "                SpherePoint(ex_row['ra_x_0']*degrees,ex_row['dec_x_0']*degrees),\n",
    "                SpherePoint(ex_row['ra_x_y']*degrees,ex_row['dec_x_y']*degrees)\n",
    "            ]\n",
    "        )\n",
    "    \n",
    "        tp_dict ={}\n",
    "        for tract in patches:\n",
    "            tp_dict[int(tract[0].getId())] = [t.getIndex() for t in tract[1]]\n",
    "        j = json.dumps(tp_dict, separators=(',', ':')) \n",
    "    except:\n",
    "        #print(ex_row['file']+\" failed\")\n",
    "        j=''\n",
    "    return j\n",
    "corners_to_patch_list(video_ims[0])"
   ]
  },
  {
   "cell_type": "code",
   "execution_count": 15,
   "metadata": {},
   "outputs": [],
   "source": [
    "video_ims['tract_patch_json'] = [corners_to_patch_list(row) for row in video_ims]\n",
    "vhs_ims['tract_patch_json'] = [corners_to_patch_list(row) for row in vhs_ims]\n",
    "#corners_to_patch_list(video_ims[0])"
   ]
  },
  {
   "cell_type": "code",
   "execution_count": 16,
   "metadata": {},
   "outputs": [
    {
     "data": {
      "text/html": [
       "<i>Table length=5</i>\n",
       "<table id=\"table4722288016\" class=\"table-striped table-bordered table-condensed\">\n",
       "<thead><tr><th>file</th><th>ra</th><th>dec</th><th>ra_0_0</th><th>ra_0_y</th><th>ra_x_0</th><th>ra_x_y</th><th>dec_0_0</th><th>dec_0_y</th><th>dec_x_0</th><th>dec_x_y</th><th>filter</th><th>size</th><th>hash</th><th>type</th><th>tract_patch_json</th></tr></thead>\n",
       "<thead><tr><th>str98</th><th>float64</th><th>float64</th><th>float64</th><th>float64</th><th>float64</th><th>float64</th><th>float64</th><th>float64</th><th>float64</th><th>float64</th><th>str2</th><th>int64</th><th>str32</th><th>str5</th><th>str631</th></tr></thead>\n",
       "<tr><td>/home/ir-shir1/rds/rds-iris-ip005/data/private/VISTA/VIDEO/20140924/v20140924_00444_st_tl.fit</td><td>35.429542</td><td>-4.72215</td><td>36.12993723683939</td><td>36.13433423332165</td><td>34.912894878395214</td><td>34.91462725348546</td><td>-4.072782101046067</td><td>-5.559458172880838</td><td>-4.07547203760631</td><td>-5.562153562881393</td><td>Y</td><td>148561920</td><td>ccef567359a9d3f1cef197b5b5dad958</td><td>tile</td><td>{&quot;8766&quot;:[[2,0],[2,1],[2,2],[3,0],[3,1],[3,2],[4,0],[4,1],[4,2],[5,0],[5,1],[5,2],[6,0],[6,1],[6,2],[7,0],[7,1],[7,2],[8,0],[8,1],[8,2]],&quot;8524&quot;:[[2,2],[2,3],[2,4],[2,5],[2,6],[2,7],[2,8],[3,2],[3,3],[3,4],[3,5],[3,6],[3,7],[3,8],[4,2],[4,3],[4,4],[4,5],[4,6],[4,7],[4,8],[5,2],[5,3],[5,4],[5,5],[5,6],[5,7],[5,8],[6,2],[6,3],[6,4],[6,5],[6,6],[6,7],[6,8],[7,2],[7,3],[7,4],[7,5],[7,6],[7,7],[7,8],[8,2],[8,3],[8,4],[8,5],[8,6],[8,7],[8,8]],&quot;8765&quot;:[[0,0],[0,1],[0,2]],&quot;8523&quot;:[[0,2],[0,3],[0,4],[0,5],[0,6],[0,7],[0,8]]}</td></tr>\n",
       "<tr><td>/home/ir-shir1/rds/rds-iris-ip005/data/private/VISTA/VIDEO/20140924/v20140924_00492_st_tl.fit</td><td>52.63885</td><td>-27.48791</td><td>53.376808661281494</td><td>51.6905687690388</td><td>53.363677671568034</td><td>51.69601464898924</td><td>-28.176115497300387</td><td>-28.180884566723634</td><td>-26.96066324597599</td><td>-26.965386169492707</td><td>J</td><td>174971520</td><td>68fe6e1c16640525f9137e139ae269a6</td><td>tile</td><td>{&quot;4849&quot;:[[6,8],[7,8],[8,8]],&quot;5063&quot;:[[3,0],[3,1],[3,2],[3,3],[3,4],[3,5],[3,6],[3,7],[4,0],[4,1],[4,2],[4,3],[4,4],[4,5],[4,6],[4,7],[5,0],[5,1],[5,2],[5,3],[5,4],[5,5],[5,6],[5,7],[6,0],[6,1],[6,2],[6,3],[6,4],[6,5],[6,6],[6,7],[7,0],[7,1],[7,2],[7,3],[7,4],[7,5],[7,6],[7,7],[8,0],[8,1],[8,2],[8,3],[8,4],[8,5],[8,6],[8,7]],&quot;4848&quot;:[[0,8],[1,8],[2,8],[3,8],[4,8],[5,8],[6,8]],&quot;5062&quot;:[[0,0],[0,1],[0,2],[0,3],[0,4],[0,5],[0,6],[0,7],[1,0],[1,1],[1,2],[1,3],[1,4],[1,5],[1,6],[1,7],[2,0],[2,1],[2,2],[2,3],[2,4],[2,5],[2,6],[2,7],[3,0],[3,1],[3,2],[3,3],[3,4],[3,5],[3,6],[3,7]]}</td></tr>\n",
       "<tr><td>/home/ir-shir1/rds/rds-iris-ip005/data/private/VISTA/VIDEO/20140924/v20140924_00396_st_tl.fit</td><td>35.428004</td><td>-4.7219</td><td>36.130230295324694</td><td>36.134884600391395</td><td>34.913103896675054</td><td>34.91508881101303</td><td>-4.071964313054827</td><td>-5.561119342013037</td><td>-4.074296412803666</td><td>-5.5634573489486225</td><td>Y</td><td>146859840</td><td>2b3c420a7d15853f89f53c893ef9526e</td><td>tile</td><td>{&quot;8766&quot;:[[2,0],[2,1],[2,2],[3,0],[3,1],[3,2],[4,0],[4,1],[4,2],[5,0],[5,1],[5,2],[6,0],[6,1],[6,2],[7,0],[7,1],[7,2],[8,0],[8,1],[8,2]],&quot;8524&quot;:[[2,2],[2,3],[2,4],[2,5],[2,6],[2,7],[2,8],[3,2],[3,3],[3,4],[3,5],[3,6],[3,7],[3,8],[4,2],[4,3],[4,4],[4,5],[4,6],[4,7],[4,8],[5,2],[5,3],[5,4],[5,5],[5,6],[5,7],[5,8],[6,2],[6,3],[6,4],[6,5],[6,6],[6,7],[6,8],[7,2],[7,3],[7,4],[7,5],[7,6],[7,7],[7,8],[8,2],[8,3],[8,4],[8,5],[8,6],[8,7],[8,8]],&quot;8765&quot;:[[0,0],[0,1],[0,2]],&quot;8523&quot;:[[0,2],[0,3],[0,4],[0,5],[0,6],[0,7],[0,8]]}</td></tr>\n",
       "<tr><td>/home/ir-shir1/rds/rds-iris-ip005/data/private/VISTA/VIDEO/20141029/v20141029_00364_st_tl.fit</td><td>52.637771</td><td>-27.48048</td><td>53.37745012628302</td><td>51.68913871643598</td><td>53.36462194039669</td><td>51.69488106361268</td><td>-28.174285005665155</td><td>-28.178915893328604</td><td>-26.960698293435776</td><td>-26.965286581454887</td><td>Y</td><td>152732160</td><td>77a38c51b547fca022c539ea718a47bf</td><td>tile</td><td>{&quot;4849&quot;:[[6,8],[7,8],[8,8]],&quot;5063&quot;:[[3,0],[3,1],[3,2],[3,3],[3,4],[3,5],[3,6],[3,7],[4,0],[4,1],[4,2],[4,3],[4,4],[4,5],[4,6],[4,7],[5,0],[5,1],[5,2],[5,3],[5,4],[5,5],[5,6],[5,7],[6,0],[6,1],[6,2],[6,3],[6,4],[6,5],[6,6],[6,7],[7,0],[7,1],[7,2],[7,3],[7,4],[7,5],[7,6],[7,7],[8,0],[8,1],[8,2],[8,3],[8,4],[8,5],[8,6],[8,7]],&quot;4848&quot;:[[0,8],[1,8],[2,8],[3,8],[4,8],[5,8],[6,8]],&quot;5062&quot;:[[0,0],[0,1],[0,2],[0,3],[0,4],[0,5],[0,6],[0,7],[1,0],[1,1],[1,2],[1,3],[1,4],[1,5],[1,6],[1,7],[2,0],[2,1],[2,2],[2,3],[2,4],[2,5],[2,6],[2,7],[3,0],[3,1],[3,2],[3,3],[3,4],[3,5],[3,6],[3,7]]}</td></tr>\n",
       "<tr><td>/home/ir-shir1/rds/rds-iris-ip005/data/private/VISTA/VIDEO/20141029/v20141029_00316_st_tl.fit</td><td>35.437767</td><td>-4.72747</td><td>36.13052006717623</td><td>36.13523423715193</td><td>34.912898410633574</td><td>34.914941744138545</td><td>-4.072033411697982</td><td>-5.561286819567744</td><td>-4.074791337249168</td><td>-5.564050760740607</td><td>Y</td><td>154330560</td><td>6a8a3cfacd21ab9bba56c2cb69b6c6d2</td><td>tile</td><td>{&quot;8766&quot;:[[2,0],[2,1],[2,2],[3,0],[3,1],[3,2],[4,0],[4,1],[4,2],[5,0],[5,1],[5,2],[6,0],[6,1],[6,2],[7,0],[7,1],[7,2],[8,0],[8,1],[8,2]],&quot;8524&quot;:[[2,2],[2,3],[2,4],[2,5],[2,6],[2,7],[2,8],[3,2],[3,3],[3,4],[3,5],[3,6],[3,7],[3,8],[4,2],[4,3],[4,4],[4,5],[4,6],[4,7],[4,8],[5,2],[5,3],[5,4],[5,5],[5,6],[5,7],[5,8],[6,2],[6,3],[6,4],[6,5],[6,6],[6,7],[6,8],[7,2],[7,3],[7,4],[7,5],[7,6],[7,7],[7,8],[8,2],[8,3],[8,4],[8,5],[8,6],[8,7],[8,8]],&quot;8765&quot;:[[0,0],[0,1],[0,2]],&quot;8523&quot;:[[0,2],[0,3],[0,4],[0,5],[0,6],[0,7],[0,8]]}</td></tr>\n",
       "</table>"
      ],
      "text/plain": [
       "<Table length=5>\n",
       "                                             file                                             ...\n",
       "                                            str98                                             ...\n",
       "--------------------------------------------------------------------------------------------- ...\n",
       "/home/ir-shir1/rds/rds-iris-ip005/data/private/VISTA/VIDEO/20140924/v20140924_00444_st_tl.fit ...\n",
       "/home/ir-shir1/rds/rds-iris-ip005/data/private/VISTA/VIDEO/20140924/v20140924_00492_st_tl.fit ...\n",
       "/home/ir-shir1/rds/rds-iris-ip005/data/private/VISTA/VIDEO/20140924/v20140924_00396_st_tl.fit ...\n",
       "/home/ir-shir1/rds/rds-iris-ip005/data/private/VISTA/VIDEO/20141029/v20141029_00364_st_tl.fit ...\n",
       "/home/ir-shir1/rds/rds-iris-ip005/data/private/VISTA/VIDEO/20141029/v20141029_00316_st_tl.fit ..."
      ]
     },
     "execution_count": 16,
     "metadata": {},
     "output_type": "execute_result"
    }
   ],
   "source": [
    "video_ims[:5]"
   ]
  },
  {
   "cell_type": "code",
   "execution_count": 17,
   "metadata": {},
   "outputs": [
    {
     "data": {
      "text/html": [
       "<i>Table length=5</i>\n",
       "<table id=\"table4722288784\" class=\"table-striped table-bordered table-condensed\">\n",
       "<thead><tr><th>file</th><th>ra</th><th>dec</th><th>ra_0_0</th><th>ra_0_y</th><th>ra_x_0</th><th>ra_x_y</th><th>dec_0_0</th><th>dec_0_y</th><th>dec_x_0</th><th>dec_x_y</th><th>filter</th><th>size</th><th>hash</th><th>type</th><th>tract_patch_json</th></tr></thead>\n",
       "<thead><tr><th>str96</th><th>float64</th><th>float64</th><th>float64</th><th>float64</th><th>float64</th><th>float64</th><th>float64</th><th>float64</th><th>float64</th><th>float64</th><th>str2</th><th>int64</th><th>str32</th><th>str5</th><th>str1</th></tr></thead>\n",
       "<tr><td>/home/ir-shir1/rds/rds-iris-ip005/data/private/VISTA/VHS/20140217/v20140217_00257_st_tl.fit</td><td>nan</td><td>nan</td><td>nan</td><td>nan</td><td>nan</td><td>nan</td><td>nan</td><td>nan</td><td>nan</td><td>nan</td><td>--</td><td>0</td><td>--</td><td>tile</td><td></td></tr>\n",
       "<tr><td>/home/ir-shir1/rds/rds-iris-ip005/data/private/VISTA/VHS/20140217/v20140217_00281_st_tl.fit</td><td>nan</td><td>nan</td><td>nan</td><td>nan</td><td>nan</td><td>nan</td><td>nan</td><td>nan</td><td>nan</td><td>nan</td><td>--</td><td>0</td><td>--</td><td>tile</td><td></td></tr>\n",
       "<tr><td>/home/ir-shir1/rds/rds-iris-ip005/data/private/VISTA/VHS/20140217/v20140217_00269_st_tl.fit</td><td>nan</td><td>nan</td><td>nan</td><td>nan</td><td>nan</td><td>nan</td><td>nan</td><td>nan</td><td>nan</td><td>nan</td><td>--</td><td>0</td><td>--</td><td>tile</td><td></td></tr>\n",
       "<tr><td>/home/ir-shir1/rds/rds-iris-ip005/data/private/VISTA/VHS/20140217/v20140217_00245_st_tl.fit</td><td>nan</td><td>nan</td><td>nan</td><td>nan</td><td>nan</td><td>nan</td><td>nan</td><td>nan</td><td>nan</td><td>nan</td><td>--</td><td>0</td><td>--</td><td>tile</td><td></td></tr>\n",
       "<tr><td>/home/ir-shir1/rds/rds-iris-ip005/data/private/VISTA/VHS/20140217/v20140217_00293_st_tl.fit</td><td>nan</td><td>nan</td><td>nan</td><td>nan</td><td>nan</td><td>nan</td><td>nan</td><td>nan</td><td>nan</td><td>nan</td><td>--</td><td>0</td><td>--</td><td>tile</td><td></td></tr>\n",
       "</table>"
      ],
      "text/plain": [
       "<Table length=5>\n",
       "                                            file                                            ...\n",
       "                                           str96                                            ...\n",
       "------------------------------------------------------------------------------------------- ...\n",
       "/home/ir-shir1/rds/rds-iris-ip005/data/private/VISTA/VHS/20140217/v20140217_00257_st_tl.fit ...\n",
       "/home/ir-shir1/rds/rds-iris-ip005/data/private/VISTA/VHS/20140217/v20140217_00281_st_tl.fit ...\n",
       "/home/ir-shir1/rds/rds-iris-ip005/data/private/VISTA/VHS/20140217/v20140217_00269_st_tl.fit ...\n",
       "/home/ir-shir1/rds/rds-iris-ip005/data/private/VISTA/VHS/20140217/v20140217_00245_st_tl.fit ...\n",
       "/home/ir-shir1/rds/rds-iris-ip005/data/private/VISTA/VHS/20140217/v20140217_00293_st_tl.fit ..."
      ]
     },
     "execution_count": 17,
     "metadata": {},
     "output_type": "execute_result"
    }
   ],
   "source": [
    "vhs_ims[-5:]"
   ]
  },
  {
   "cell_type": "code",
   "execution_count": 18,
   "metadata": {},
   "outputs": [
    {
     "data": {
      "text/plain": [
       "'{\"3053\":[[0,0],[0,1],[0,2],[1,0],[1,1],[1,2],[2,0],[2,1],[2,2]],\"3054\":[[2,0],[2,1],[2,2],[3,0],[3,1],[3,2],[4,0],[4,1],[4,2],[5,0],[5,1],[5,2],[6,0],[6,1],[6,2],[7,0],[7,1],[7,2],[8,0],[8,1],[8,2]],\"2876\":[[0,3],[0,4],[0,5],[0,6],[0,7],[0,8],[1,3],[1,4],[1,5],[1,6],[1,7],[1,8],[2,3],[2,4],[2,5],[2,6],[2,7],[2,8],[3,3],[3,4],[3,5],[3,6],[3,7],[3,8]],\"2877\":[[3,3],[3,4],[3,5],[3,6],[3,7],[3,8],[4,3],[4,4],[4,5],[4,6],[4,7],[4,8],[5,3],[5,4],[5,5],[5,6],[5,7],[5,8],[6,3],[6,4],[6,5],[6,6],[6,7],[6,8],[7,3],[7,4],[7,5],[7,6],[7,7],[7,8],[8,3],[8,4],[8,5],[8,6],[8,7],[8,8]]}'"
      ]
     },
     "execution_count": 18,
     "metadata": {},
     "output_type": "execute_result"
    }
   ],
   "source": [
    "video_ims[6]['tract_patch_json']"
   ]
  },
  {
   "cell_type": "code",
   "execution_count": 19,
   "metadata": {},
   "outputs": [],
   "source": [
    "video_ims.write(VIDEO_IN.replace('images','tiles_tracts_patches'),overwrite=True)\n",
    "vhs_ims.write(VHS_IN.replace('images','tiles_tracts_patches'),overwrite=True)"
   ]
  }
 ],
 "metadata": {
  "kernelspec": {
   "display_name": "LSST",
   "language": "python",
   "name": "lsst"
  },
  "language_info": {
   "codemirror_mode": {
    "name": "ipython",
    "version": 3
   },
   "file_extension": ".py",
   "mimetype": "text/x-python",
   "name": "python",
   "nbconvert_exporter": "python",
   "pygments_lexer": "ipython3",
   "version": "3.7.6"
  }
 },
 "nbformat": 4,
 "nbformat_minor": 4
}
