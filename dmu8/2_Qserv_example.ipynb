{
 "cells": [
  {
   "cell_type": "code",
   "execution_count": 4,
   "id": "ac0c1729-4a89-4b31-b383-5d08c85ef9bf",
   "metadata": {},
   "outputs": [
    {
     "data": {
      "text/html": [
       "<div><i>Table length=6</i>\n",
       "<table id=\"table139650942303392\" class=\"table-striped table-bordered table-condensed\">\n",
       "<thead><tr><th>description</th><th>schema_index</th><th>schema_name</th><th>utype</th></tr></thead>\n",
       "<thead><tr><th>str512</th><th>int32</th><th>str64</th><th>str512</th></tr></thead>\n",
       "<tr><td>Data Preview 0.1 includes five tables based on the DESC&apos;s Data Challenge 2 simulation of 300 square degrees of the wide-fast-deep LSST survey region after 5 years. All tables contain objects detected in coadded images.</td><td>1</td><td>dp01_dc2_catalogs</td><td></td></tr>\n",
       "<tr><td>Data Preview 0.2 contains the image and catalog products of the Rubin Science Pipelines v23 processing of the DESC Data Challenge 2 simulation, which covered 300 square degrees of the wide-fast-deep LSST survey region over 5 years.</td><td>0</td><td>dp02_dc2_catalogs</td><td></td></tr>\n",
       "<tr><td>ObsCore v1.1 attributes in ObsTAP realization</td><td>3</td><td>ivoa</td><td></td></tr>\n",
       "<tr><td>WP3.5 SXDS region data</td><td>2</td><td>SXDS</td><td></td></tr>\n",
       "<tr><td>A TAP-standard-mandated schema to describe tablesets in a TAP 1.1 service</td><td>100000</td><td>tap_schema</td><td></td></tr>\n",
       "<tr><td>UWS Metadata</td><td>120000</td><td>uws</td><td></td></tr>\n",
       "</table></div>"
      ],
      "text/plain": [
       "<Table length=6>\n",
       "                                                                                                              description                                                                                                               ...\n",
       "                                                                                                                 str512                                                                                                                 ...\n",
       "--------------------------------------------------------------------------------------------------------------------------------------------------------------------------------------------------------------------------------------- ...\n",
       "             Data Preview 0.1 includes five tables based on the DESC's Data Challenge 2 simulation of 300 square degrees of the wide-fast-deep LSST survey region after 5 years. All tables contain objects detected in coadded images. ...\n",
       "Data Preview 0.2 contains the image and catalog products of the Rubin Science Pipelines v23 processing of the DESC Data Challenge 2 simulation, which covered 300 square degrees of the wide-fast-deep LSST survey region over 5 years. ...\n",
       "                                                                                                                                                                                          ObsCore v1.1 attributes in ObsTAP realization ...\n",
       "                                                                                                                                                                                                                 WP3.5 SXDS region data ...\n",
       "                                                                                                                                                              A TAP-standard-mandated schema to describe tablesets in a TAP 1.1 service ...\n",
       "                                                                                                                                                                                                                           UWS Metadata ..."
      ]
     },
     "execution_count": 4,
     "metadata": {},
     "output_type": "execute_result"
    }
   ],
   "source": [
    "# Import the Rubin TAP service utilities\n",
    "from lsst.rsp import get_tap_service, retrieve_query\n",
    "\n",
    "service = get_tap_service()\n",
    "assert service is not None\n",
    "assert service.baseurl == \"https://rsp.lsst.ac.uk/api/tap\"\n",
    "\n",
    "query = \"SELECT * FROM tap_schema.schemas\"\n",
    "resultsSchema = service.search(query).to_table()\n",
    "resultsSchema"
   ]
  },
  {
   "cell_type": "code",
   "execution_count": 2,
   "id": "baf887c2-6fb1-48a0-87c1-e99b0811728d",
   "metadata": {},
   "outputs": [
    {
     "data": {
      "text/plain": [
       "<Table length=10>\n",
       "chunkId         dec               objectId      ... subChunkId2 tract\n",
       " int32        float64              int64        ...    int32    int32\n",
       "------- ------------------- ------------------- ... ----------- -----\n",
       "  30273  -5.671077252404507 3036354136661559483 ...           1  8523\n",
       "  30273 -5.6688598363965585 3036354136661559485 ...           1  8523\n",
       "  30273  -5.676487568140274 3036354136661559507 ...           1  8523\n",
       "  30273 -5.6736059186377075 3036354136661559528 ...           1  8523\n",
       "  30273  -5.674675879397784 3036354136661559523 ...           2  8523\n",
       "  30273   -5.67456978976135 3036345340568535150 ...           2  8523\n",
       "  30273  -5.674907490049822 3036345340568535143 ...           2  8523\n",
       "  30273  -5.675130456865955 3036345340568535131 ...           2  8523\n",
       "  30273  -5.674921997791494 3036345340568535137 ...           2  8523\n",
       "  30273 -5.6748531529010275 3036345340568535141 ...           2  8523"
      ]
     },
     "execution_count": 2,
     "metadata": {},
     "output_type": "execute_result"
    }
   ],
   "source": [
    "query = \"SELECT TOP 10 * from SXDS.director as d, SXDS.h_f_g as fg where d.objectId=fg.objectId ORDER BY d.chunkId,d.subChunkId\"\n",
    "results = service.search(query)\n",
    "\n",
    "results"
   ]
  },
  {
   "cell_type": "code",
   "execution_count": 7,
   "id": "fadc0a1d-a417-4867-ad76-22ebef28d96c",
   "metadata": {},
   "outputs": [],
   "source": [
    "print(type(results))\n",
    "table=results.to_table()\n",
    "print(type(table))"
   ]
  },
  {
   "cell_type": "code",
   "execution_count": 8,
   "id": "6a375d66-5909-4a15-a645-13df08af9434",
   "metadata": {},
   "outputs": [],
   "source": [
    "query=\"select objectId from SXDS.director order by objectId limit 1000000\"\n",
    "results = service.search(query)\n",
    "table = results.to_table()\n",
    "print(table)"
   ]
  },
  {
   "cell_type": "code",
   "execution_count": null,
   "id": "dfd4d5af-7ed0-45fe-8051-e34eb7e2a0d9",
   "metadata": {},
   "outputs": [],
   "source": [
    "objectIds=table['objectId'].data\n",
    "print(objectIds[0],max(objectIds),min(objectIds))"
   ]
  },
  {
   "cell_type": "code",
   "execution_count": 12,
   "id": "e2312fa5-d7a6-4a49-a8bf-b578b0f10905",
   "metadata": {},
   "outputs": [
    {
     "name": "stdout",
     "output_type": "stream",
     "text": [
      "0 10000 2022-12-01 09:06:49.799289\n",
      "1 10000 2022-12-01 09:07:05.189538\n",
      "2 10000 2022-12-01 09:07:21.382488\n",
      "3 10000 2022-12-01 09:07:36.705267\n",
      "4 10000 2022-12-01 09:07:51.459631\n",
      "5 10000 2022-12-01 09:08:07.153964\n",
      "6 10000 2022-12-01 09:08:24.148682\n",
      "7 10000 2022-12-01 09:08:41.014212\n",
      "8 10000 2022-12-01 09:08:57.493699\n",
      "9 10000 2022-12-01 09:09:14.148971\n",
      "10 10000 2022-12-01 09:09:28.360350\n",
      "11 10000 2022-12-01 09:09:45.053914\n",
      "12 10000 2022-12-01 09:10:00.781937\n",
      "13 10000 2022-12-01 09:10:16.380475\n",
      "14 10000 2022-12-01 09:10:31.863677\n",
      "15 10000 2022-12-01 09:10:46.699005\n",
      "16 10000 2022-12-01 09:11:01.706004\n",
      "17 10000 2022-12-01 09:11:17.215775\n",
      "18 10000 2022-12-01 09:11:32.325222\n",
      "19 10000 2022-12-01 09:11:48.594884\n",
      "20 10000 2022-12-01 09:12:03.485288\n",
      "21 10000 2022-12-01 09:12:19.141816\n",
      "22 10000 2022-12-01 09:12:34.278045\n",
      "23 10000 2022-12-01 09:12:50.163523\n",
      "24 10000 2022-12-01 09:13:05.530389\n",
      "25 10000 2022-12-01 09:13:21.153146\n",
      "26 10000 2022-12-01 09:13:36.044783\n",
      "27 10000 2022-12-01 09:13:52.615549\n",
      "28 10000 2022-12-01 09:14:08.130981\n",
      "29 10000 2022-12-01 09:14:23.905205\n",
      "30 10000 2022-12-01 09:14:39.723998\n",
      "31 10000 2022-12-01 09:14:55.416691\n",
      "32 10000 2022-12-01 09:15:12.497830\n",
      "33 10000 2022-12-01 09:15:29.117556\n",
      "34 10000 2022-12-01 09:15:45.382370\n",
      "35 10000 2022-12-01 09:16:01.326469\n",
      "36 10000 2022-12-01 09:16:17.675734\n",
      "37 10000 2022-12-01 09:16:32.984975\n",
      "38 10000 2022-12-01 09:16:48.555888\n",
      "39 10000 2022-12-01 09:17:04.693366\n",
      "40 10000 2022-12-01 09:17:20.572845\n",
      "41 10000 2022-12-01 09:17:36.576632\n",
      "42 10000 2022-12-01 09:17:51.465590\n",
      "43 10000 2022-12-01 09:18:06.280993\n",
      "44 10000 2022-12-01 09:18:22.866538\n",
      "45 10000 2022-12-01 09:18:38.484463\n",
      "46 10000 2022-12-01 09:18:53.387279\n",
      "47 10000 2022-12-01 09:19:10.754362\n",
      "48 10000 2022-12-01 09:19:26.116419\n",
      "49 10000 2022-12-01 09:19:41.567939\n",
      "50 10000 2022-12-01 09:19:57.791356\n",
      "51 10000 2022-12-01 09:20:13.662509\n",
      "52 10000 2022-12-01 09:20:29.670291\n",
      "53 10000 2022-12-01 09:20:46.656076\n",
      "54 10000 2022-12-01 09:21:01.435564\n",
      "55 10000 2022-12-01 09:21:16.671065\n",
      "56 10000 2022-12-01 09:21:32.431268\n",
      "57 10000 2022-12-01 09:21:47.457443\n",
      "58 10000 2022-12-01 09:22:04.382431\n",
      "59 10000 2022-12-01 09:22:19.352232\n",
      "60 10000 2022-12-01 09:22:34.871553\n",
      "61 10000 2022-12-01 09:22:50.563733\n",
      "62 10000 2022-12-01 09:23:05.941586\n",
      "63 10000 2022-12-01 09:23:20.569214\n",
      "64 10000 2022-12-01 09:23:35.429352\n",
      "65 10000 2022-12-01 09:23:51.105874\n",
      "66 10000 2022-12-01 09:24:05.965479\n",
      "67 10000 2022-12-01 09:24:22.332316\n",
      "68 10000 2022-12-01 09:24:38.260791\n",
      "69 10000 2022-12-01 09:24:53.434275\n",
      "70 10000 2022-12-01 09:25:08.456081\n",
      "71 10000 2022-12-01 09:25:24.481978\n",
      "72 10000 2022-12-01 09:25:41.888806\n",
      "73 10000 2022-12-01 09:25:56.835835\n",
      "74 10000 2022-12-01 09:26:13.802613\n",
      "75 10000 2022-12-01 09:26:28.483154\n",
      "76 10000 2022-12-01 09:26:44.993287\n",
      "77 10000 2022-12-01 09:27:00.309374\n",
      "78 10000 2022-12-01 09:27:16.873898\n",
      "79 10000 2022-12-01 09:27:33.504319\n",
      "80 10000 2022-12-01 09:27:49.360985\n",
      "81 10000 2022-12-01 09:28:05.378116\n",
      "82 10000 2022-12-01 09:28:20.183278\n",
      "83 10000 2022-12-01 09:28:35.015878\n",
      "84 10000 2022-12-01 09:28:50.162625\n",
      "85 10000 2022-12-01 09:29:06.111435\n",
      "86 10000 2022-12-01 09:29:21.167701\n",
      "87 10000 2022-12-01 09:29:38.371355\n",
      "88 10000 2022-12-01 09:29:54.734428\n",
      "89 10000 2022-12-01 09:30:09.538991\n",
      "90 10000 2022-12-01 09:30:25.145808\n",
      "91 10000 2022-12-01 09:30:40.366585\n",
      "92 10000 2022-12-01 09:30:56.241971\n",
      "93 10000 2022-12-01 09:31:13.164591\n",
      "94 10000 2022-12-01 09:31:28.613177\n",
      "95 10000 2022-12-01 09:31:43.526365\n",
      "96 10000 2022-12-01 09:31:59.658136\n",
      "97 10000 2022-12-01 09:32:16.227163\n",
      "98 10000 2022-12-01 09:32:31.720813\n",
      "99 10000 2022-12-01 09:32:47.358697\n",
      "1000000\n"
     ]
    }
   ],
   "source": [
    "import numpy\n",
    "chunks = numpy.array_split(numpy.array(objectIds),100)\n",
    "import datetime\n",
    "i=0\n",
    "from astropy.table import QTable, Table, Column, vstack\n",
    "fullResults=Table()\n",
    "for chunk in chunks:\n",
    "    print(i,len(chunk),datetime.datetime.now())\n",
    "    \n",
    "    inClause=','.join(str(objId) for objId in chunk) #numpy.array2string(chunk, separator=\",\")\n",
    "    #print(inClause)\n",
    "    query=\"select * from SXDS.director where objectId in (\"+inClause+\")\"\n",
    "    #print(query)\n",
    "    results = service.search(query)\n",
    "    table = results.to_table()\n",
    "    if i==0:\n",
    "        fullResults=table\n",
    "    else:\n",
    "        fullResults=(vstack([fullResults, table]))\n",
    "    #print(table)\n",
    "    i+=1\n",
    "    if i==300:\n",
    "        break\n",
    "print(len(fullResults))"
   ]
  },
  {
   "cell_type": "code",
   "execution_count": null,
   "id": "ea12f2bf-b2d8-4652-96c1-034ee8813886",
   "metadata": {},
   "outputs": [],
   "source": [
    "import pyvo\n",
    "tap = pyvo.dal.TAPService('https://rsp.lsst.ac.uk/api/tap')\n",
    "tap.run_sync('select count(*) from SXDS.director')"
   ]
  },
  {
   "cell_type": "code",
   "execution_count": null,
   "id": "22035224-ddf0-4575-b4c1-0ecc296def97",
   "metadata": {},
   "outputs": [],
   "source": []
  },
  {
   "cell_type": "code",
   "execution_count": null,
   "id": "ab60f9ad-7515-49d1-b37a-a37c1b31541f",
   "metadata": {},
   "outputs": [],
   "source": []
  }
 ],
 "metadata": {
  "kernelspec": {
   "display_name": "LSST",
   "language": "python",
   "name": "lsst"
  },
  "language_info": {
   "codemirror_mode": {
    "name": "ipython",
    "version": 3
   },
   "file_extension": ".py",
   "mimetype": "text/x-python",
   "name": "python",
   "nbconvert_exporter": "python",
   "pygments_lexer": "ipython3",
   "version": "3.10.9"
  }
 },
 "nbformat": 4,
 "nbformat_minor": 5
}
